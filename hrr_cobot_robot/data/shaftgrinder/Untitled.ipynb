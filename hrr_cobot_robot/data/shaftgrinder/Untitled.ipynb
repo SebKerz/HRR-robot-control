{
 "cells": [
  {
   "cell_type": "code",
   "execution_count": 1,
   "id": "5fdbc071",
   "metadata": {},
   "outputs": [],
   "source": [
    "import numpy as np"
   ]
  },
  {
   "cell_type": "code",
   "execution_count": 3,
   "id": "a8151858",
   "metadata": {},
   "outputs": [],
   "source": [
    "filename = \"shaftgrind_help.npy\"\n",
    "data2 = np.load(str(filename), allow_pickle=True)\n",
    "data1 = data2.item()\n",
    "poses = data1[\"from_shaftgrindpose_toEL\"]"
   ]
  },
  {
   "cell_type": "code",
   "execution_count": 4,
   "id": "c986e295",
   "metadata": {},
   "outputs": [
    {
     "data": {
      "text/plain": [
       "{'poses_A': [  \u001b[38;5;1m 0.701   \u001b[0m \u001b[38;5;1m 0.008829\u001b[0m \u001b[38;5;1m 0.7131  \u001b[0m \u001b[38;5;4m 0.3788  \u001b[0m  \u001b[0m\n",
       "  \u001b[38;5;1m-0.7084  \u001b[0m \u001b[38;5;1m-0.1071  \u001b[0m \u001b[38;5;1m 0.6976  \u001b[0m \u001b[38;5;4m 0.08195 \u001b[0m  \u001b[0m\n",
       "  \u001b[38;5;1m 0.08254 \u001b[0m \u001b[38;5;1m-0.9942  \u001b[0m \u001b[38;5;1m-0.06883 \u001b[0m \u001b[38;5;4m 0.5837  \u001b[0m  \u001b[0m\n",
       "  \u001b[38;5;244m 0       \u001b[0m \u001b[38;5;244m 0       \u001b[0m \u001b[38;5;244m 0       \u001b[0m \u001b[38;5;244m 1       \u001b[0m  \u001b[0m\n",
       ",\n",
       "    \u001b[38;5;1m 0.9885  \u001b[0m \u001b[38;5;1m 0.02326 \u001b[0m \u001b[38;5;1m 0.1492  \u001b[0m \u001b[38;5;4m 0.3788  \u001b[0m  \u001b[0m\n",
       "  \u001b[38;5;1m-0.1486  \u001b[0m \u001b[38;5;1m-0.0262  \u001b[0m \u001b[38;5;1m 0.9885  \u001b[0m \u001b[38;5;4m 0.08195 \u001b[0m  \u001b[0m\n",
       "  \u001b[38;5;1m 0.02691 \u001b[0m \u001b[38;5;1m-0.9994  \u001b[0m \u001b[38;5;1m-0.02245 \u001b[0m \u001b[38;5;4m 0.5836  \u001b[0m  \u001b[0m\n",
       "  \u001b[38;5;244m 0       \u001b[0m \u001b[38;5;244m 0       \u001b[0m \u001b[38;5;244m 0       \u001b[0m \u001b[38;5;244m 1       \u001b[0m  \u001b[0m\n",
       "],\n",
       " 'poses_q': [array([-0.08105943, -0.25277123, -2.30412126,  1.13918698, -0.77817172,\n",
       "          0.71401179]),\n",
       "  array([-0.00780981, -0.11773129, -2.2047019 ,  1.512182  , -1.42268181,\n",
       "          0.54566759])],\n",
       " 'open_tc': [0, 0],\n",
       " 'use_joint_ctrl': [1, 0]}"
      ]
     },
     "execution_count": 4,
     "metadata": {},
     "output_type": "execute_result"
    }
   ],
   "source": [
    "poses"
   ]
  },
  {
   "cell_type": "code",
   "execution_count": 5,
   "id": "625dfdf0",
   "metadata": {},
   "outputs": [
    {
     "data": {
      "text/plain": [
       "array([  -0.44746914,   -6.74550592, -126.32011398,   86.6416463 ,\n",
       "        -81.51366322,   31.26444985])"
      ]
     },
     "execution_count": 5,
     "metadata": {},
     "output_type": "execute_result"
    }
   ],
   "source": [
    "np.rad2deg(poses[\"poses_q\"][1])"
   ]
  },
  {
   "cell_type": "code",
   "execution_count": null,
   "id": "40c6afeb",
   "metadata": {},
   "outputs": [],
   "source": []
  }
 ],
 "metadata": {
  "kernelspec": {
   "display_name": "Python 3 (ipykernel)",
   "language": "python",
   "name": "python3"
  },
  "language_info": {
   "codemirror_mode": {
    "name": "ipython",
    "version": 3
   },
   "file_extension": ".py",
   "mimetype": "text/x-python",
   "name": "python",
   "nbconvert_exporter": "python",
   "pygments_lexer": "ipython3",
   "version": "3.8.12"
  }
 },
 "nbformat": 4,
 "nbformat_minor": 5
}
