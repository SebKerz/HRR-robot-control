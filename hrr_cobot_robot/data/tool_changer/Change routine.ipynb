{
 "cells": [
  {
   "cell_type": "code",
   "execution_count": 2,
   "id": "dd88d1a8",
   "metadata": {},
   "outputs": [],
   "source": [
    "import numpy as np\n",
    "#import hrr_cobot_robot\n",
    "import spatialmath as sm\n",
    "import rospy\n",
    "np.set_printoptions(precision=5, suppress=True)"
   ]
  },
  {
   "cell_type": "code",
   "execution_count": 12,
   "id": "cathedral-sheep",
   "metadata": {},
   "outputs": [
    {
     "data": {
      "text/plain": [
       "1.2217304763960306"
      ]
     },
     "execution_count": 12,
     "metadata": {},
     "output_type": "execute_result"
    }
   ],
   "source": [
    "np.deg2rad(70)"
   ]
  },
  {
   "cell_type": "code",
   "execution_count": 2,
   "id": "8178760f",
   "metadata": {},
   "outputs": [
    {
     "name": "stdout",
     "output_type": "stream",
     "text": [
      "env: ROS_MASTER_URI=http://127.0.0.1:11311\n",
      "\t\u001b[1m\u001b[4m!!!please check that the IPs below is identical!!!\u001b[0m\n",
      "\thost hrrN3511rt2004 has IP 192.168.2.34, which should be identical to\n",
      "vs:\tenv: ROS_IP=192.168.2.34\n"
     ]
    }
   ],
   "source": [
    "#This is usually unnecessary\n",
    "def get_hostname_and_IP():\n",
    "    import socket\n",
    "    with socket.socket(socket.AF_INET, socket.SOCK_DGRAM) as s:\n",
    "        s.connect((\"8.8.8.8\", 80))\n",
    "        return socket.gethostname(), s.getsockname()[0]\n",
    "\n",
    "_host, _ip = get_hostname_and_IP()\n",
    "%env ROS_MASTER_URI=http://127.0.0.1:11311\n",
    "# %env ROS_MASTER_URI=http://hrrcobotLinux54:11311\n",
    "print(f\"\\t\\033[1m\\033[4m!!!please check that the IPs below is identical!!!\\033[0m\"+\n",
    "      f\"\\n\\thost {_host} has IP {_ip}, which should be identical to\",end=\"\\nvs:\\t\")\n",
    "%env ROS_IP=$_ip"
   ]
  },
  {
   "cell_type": "code",
   "execution_count": 13,
   "id": "777bf0e8",
   "metadata": {},
   "outputs": [],
   "source": [
    "rospy.init_node(\"NotebookDev_Changepositions2\")"
   ]
  },
  {
   "cell_type": "code",
   "execution_count": 3,
   "id": "60d852f9",
   "metadata": {},
   "outputs": [
    {
     "name": "stdout",
     "output_type": "stream",
     "text": [
      "[INFO][/NotebookDev_Changepositions2] Initialize MATLAB-Motion planner @ /home/schrottgott/_ros/hr_recycler_ws/src/planner/src\n",
      "[INFO][/NotebookDev_Changepositions2] connected to Matlab\n",
      "Shutting down global node /matlab_global_node_08706 with NodeURI http://127.0.0.1:33003/\n",
      "The value of the ROS_IP environment variable, 127.0.0.1, will be used to set the advertised address for the ROS node.\n",
      "Warning: The IP address 127.0.0.1 in the \"NodeHost\" setting is not associated with any network interface. It is possible that MATLAB cannot be reached by other ROS nodes.\n",
      "> In ros.internal/Net/generateNodeHost (line 368)\n",
      "In ros/Node/parseArguments (line 349)\n",
      "In rosinit (line 89)\n",
      "In HrRecyclerDataImport (line 82)\n",
      "Initializing global node /matlab_global_node_20836 with NodeURI http://127.0.0.1:34217/\n",
      "[INFO][/NotebookDev_Changepositions2] MATLAB-Initialization done\n"
     ]
    },
    {
     "name": "stderr",
     "output_type": "stream",
     "text": [
      "pybullet build time: May  8 2021 05:48:13\n"
     ]
    },
    {
     "name": "stdout",
     "output_type": "stream",
     "text": [
      "[INFO]some functions are not yet compiled. Expect delays upon first call\n"
     ]
    }
   ],
   "source": [
    "cobot = hrr_cobot_robot.HrrCobotControl.from_ros(\"/hrr_cobot\")"
   ]
  },
  {
   "cell_type": "code",
   "execution_count": 4,
   "id": "b540437b",
   "metadata": {},
   "outputs": [],
   "source": [
    "print(cobot)"
   ]
  },
  {
   "cell_type": "code",
   "execution_count": 42,
   "id": "e33b38b4",
   "metadata": {},
   "outputs": [
    {
     "data": {
      "text/plain": [
       "(  \u001b[38;5;1m 0.7603  \u001b[0m \u001b[38;5;1m-0.6495  \u001b[0m \u001b[38;5;1m-0.005813\u001b[0m \u001b[38;5;4m-0.3938  \u001b[0m  \u001b[0m\n",
       "  \u001b[38;5;1m-0.6495  \u001b[0m \u001b[38;5;1m-0.7603  \u001b[0m \u001b[38;5;1m-0.0067  \u001b[0m \u001b[38;5;4m-0.4635  \u001b[0m  \u001b[0m\n",
       "  \u001b[38;5;1m-6.751e-05\u001b[0m \u001b[38;5;1m 0.00887 \u001b[0m \u001b[38;5;1m-1       \u001b[0m \u001b[38;5;4m 0.6155  \u001b[0m  \u001b[0m\n",
       "  \u001b[38;5;244m 0       \u001b[0m \u001b[38;5;244m 0       \u001b[0m \u001b[38;5;244m 0       \u001b[0m \u001b[38;5;244m 1       \u001b[0m  \u001b[0m\n",
       ",\n",
       " array([130.35019,  27.05725, -70.172  ,   0.00533,  82.26169, -90.15816]))"
      ]
     },
     "execution_count": 42,
     "metadata": {},
     "output_type": "execute_result"
    }
   ],
   "source": [
    "cobot.T_B_E_robot, np.rad2deg(cobot.q)"
   ]
  },
  {
   "cell_type": "code",
   "execution_count": 19,
   "id": "5e0eab2f",
   "metadata": {},
   "outputs": [],
   "source": [
    "cobot.stop()"
   ]
  },
  {
   "cell_type": "markdown",
   "id": "removed-angola",
   "metadata": {},
   "source": [
    "# Brief introduction\n",
    "\n",
    "The tool change routine consists of two parts: pickup and disposal of a tool. For each tool, a sequence of positions for both pickup and dispose is recorded manually and saved in a python dictionary, with some additional information. Whenever a tool is changed with the actual action service, the corresponding dictionary is loaded and the robot moves through the positions in sequential order. The dictionaries look like this:\n",
    "```\n",
    "vacuum_2 = {\n",
    "    \"pickup\": \n",
    "        {\"poses_A\": pickA, \"poses_q\": pickq,\n",
    "        \"close_tc\": pickc, \"use_joint_ctrl\": pickj},\n",
    "     \"dispose\":\n",
    "        {\"poses_A\": dispA, \"poses_q\": dispq,\n",
    "        \"open_tc\": dispo, \"use_joint_ctrl\": dispj}\n",
    "    }\n",
    "np.save(\"vacuum_2\", vacuum_2)\n",
    "```\n",
    "Here the name vacuum_2 indicates that the dict concerns the vacuum gripper placed at the 2nd toolrack position.\n",
    "\n",
    "vacuum2[\"pickup\"] is a dict that contains several lists of equal length:\n",
    "\n",
    "vacuum2[\"pickup\"][\"poses_A\"]: A list of spatialmath SE3 objects with the pose of the robot\n",
    "\n",
    "vacuum2[\"pickup\"][\"poses_q\"]: A list of np.arrays with the corresponding joints of the robot\n",
    "\n",
    "vacuum2[\"pickup\"][\"close_tc\"]: A list of 0s and a single 1 indicating wether tool changer should close after arrival\n",
    "\n",
    "vacuum2[\"pickup\"][\"use_joint_ctrl\"]: A list of 0s and 1s indicating wether the robot should move linearly in joint space instead of in cartesian, in order to reach the position.\n",
    "\n",
    "Here is an example of the pickup routine in action:\n",
    "```\n",
    "x = vacuum_2[\"pickup\"]\n",
    "for i in range(len(x[\"close_tc\"])):\n",
    "    if x[\"use_joint_ctrl\"][i]:\n",
    "        cobot.move_to_joint_pose(x[\"poses_q\"][i])\n",
    "    else:\n",
    "        cobot.goTo(x[\"poses_A\"][i],v_max=0.01)\n",
    "    if x[\"close_tc\"][i]:   \n",
    "        #close tool changer\n",
    "\n",
    "```\n",
    "dispose routine is similiar, only \"open_tc\" instead of \"close_tc\".\n",
    "\n",
    "At the beginning, the robot is in calibration pose with base joint turned so that the robot faces the begining of the toolrack.\n"
   ]
  },
  {
   "cell_type": "markdown",
   "id": "58c5f344",
   "metadata": {},
   "source": [
    "# Record a fully new routine"
   ]
  },
  {
   "cell_type": "markdown",
   "id": "surrounded-excitement",
   "metadata": {},
   "source": [
    "## Record the pickup routine\n"
   ]
  },
  {
   "cell_type": "markdown",
   "id": "empirical-motor",
   "metadata": {},
   "source": [
    "### [Optional] Place robot in starting position - The first saved position should be reachable from here or anywhere above the tool rack without collision."
   ]
  },
  {
   "cell_type": "code",
   "execution_count": 66,
   "id": "68572d9f",
   "metadata": {},
   "outputs": [],
   "source": [
    "cobot.stop()"
   ]
  },
  {
   "cell_type": "code",
   "execution_count": 69,
   "id": "d438db28",
   "metadata": {},
   "outputs": [
    {
     "data": {
      "text/plain": [
       "array([ 1.22173,  0.     , -1.5708 ,  0.     ,  1.5708 ,  0.     ])"
      ]
     },
     "execution_count": 69,
     "metadata": {},
     "output_type": "execute_result"
    }
   ],
   "source": [
    "cobot.q_calib"
   ]
  },
  {
   "cell_type": "code",
   "execution_count": 9,
   "id": "exotic-scientist",
   "metadata": {},
   "outputs": [],
   "source": [
    "start=cobot.q_calib\n",
    "start[0]=np.deg2rad(70)"
   ]
  },
  {
   "cell_type": "code",
   "execution_count": 68,
   "id": "accurate-arkansas",
   "metadata": {},
   "outputs": [
    {
     "ename": "KeyboardInterrupt",
     "evalue": "",
     "output_type": "error",
     "traceback": [
      "\u001b[0;31m---------------------------------------------------------------------------\u001b[0m",
      "\u001b[0;31mKeyboardInterrupt\u001b[0m                         Traceback (most recent call last)",
      "\u001b[0;32m/tmp/ipykernel_735704/776765216.py\u001b[0m in \u001b[0;36m<module>\u001b[0;34m\u001b[0m\n\u001b[1;32m      1\u001b[0m \u001b[0;31m#cobot.move_to_joint_pose(start)\u001b[0m\u001b[0;34m\u001b[0m\u001b[0;34m\u001b[0m\u001b[0;34m\u001b[0m\u001b[0m\n\u001b[0;32m----> 2\u001b[0;31m \u001b[0mcobot\u001b[0m\u001b[0;34m.\u001b[0m\u001b[0mgoTo\u001b[0m\u001b[0;34m(\u001b[0m\u001b[0mcobot\u001b[0m\u001b[0;34m.\u001b[0m\u001b[0mFK\u001b[0m\u001b[0;34m(\u001b[0m\u001b[0mstart\u001b[0m\u001b[0;34m)\u001b[0m\u001b[0;34m,\u001b[0m\u001b[0mv_max\u001b[0m \u001b[0;34m=\u001b[0m \u001b[0;36m0.05\u001b[0m\u001b[0;34m)\u001b[0m\u001b[0;34m\u001b[0m\u001b[0;34m\u001b[0m\u001b[0m\n\u001b[0m",
      "\u001b[0;32m~/_ros/hr_recycler_ws/src/hrr_cobot/hrr_cobot_robot/src/hrr_cobot_robot/hrr_cobot_control.py\u001b[0m in \u001b[0;36mgoTo\u001b[0;34m(self, T_des, soft_limits, check_reachable, compensate_joint_limits, *args, **kwargs)\u001b[0m\n\u001b[1;32m    473\u001b[0m         \u001b[0;32mwhile\u001b[0m \u001b[0mself\u001b[0m\u001b[0;34m.\u001b[0m\u001b[0m_state\u001b[0m \u001b[0;32mis\u001b[0m \u001b[0;32mnot\u001b[0m \u001b[0;32mNone\u001b[0m\u001b[0;34m:\u001b[0m\u001b[0;34m\u001b[0m\u001b[0;34m\u001b[0m\u001b[0m\n\u001b[1;32m    474\u001b[0m             \u001b[0;32mtry\u001b[0m\u001b[0;34m:\u001b[0m\u001b[0;34m\u001b[0m\u001b[0;34m\u001b[0m\u001b[0m\n\u001b[0;32m--> 475\u001b[0;31m                 \u001b[0mself\u001b[0m\u001b[0;34m.\u001b[0m\u001b[0mupdate\u001b[0m\u001b[0;34m(\u001b[0m\u001b[0;34m)\u001b[0m\u001b[0;34m\u001b[0m\u001b[0;34m\u001b[0m\u001b[0m\n\u001b[0m\u001b[1;32m    476\u001b[0m             \u001b[0;32mexcept\u001b[0m \u001b[0;34m(\u001b[0m\u001b[0mJointLimitWarning\u001b[0m\u001b[0;34m,\u001b[0m \u001b[0mJointLimitException\u001b[0m\u001b[0;34m)\u001b[0m\u001b[0;34m:\u001b[0m\u001b[0;34m\u001b[0m\u001b[0;34m\u001b[0m\u001b[0m\n\u001b[1;32m    477\u001b[0m                 \u001b[0mdq\u001b[0m \u001b[0;34m=\u001b[0m \u001b[0mself\u001b[0m\u001b[0;34m.\u001b[0m\u001b[0mjoint_limit_avoidance_needed\u001b[0m\u001b[0;34m(\u001b[0m\u001b[0md_limit\u001b[0m\u001b[0;34m=\u001b[0m\u001b[0mself\u001b[0m\u001b[0;34m.\u001b[0m\u001b[0m_joint_limits_soft_dist\u001b[0m\u001b[0;34m)\u001b[0m\u001b[0;34m\u001b[0m\u001b[0;34m\u001b[0m\u001b[0m\n",
      "\u001b[0;32m~/_ros/hr_recycler_ws/src/hrr_cobot/hrr_cobot_robot/src/hrr_cobot_robot/hrr_cobot_control.py\u001b[0m in \u001b[0;36mupdate\u001b[0;34m(self, sleep, u_cmd, u_cmd_frame, skip_forward, **_)\u001b[0m\n\u001b[1;32m    425\u001b[0m                 \u001b[0mself\u001b[0m\u001b[0;34m.\u001b[0m\u001b[0m_joint_ctrl_command\u001b[0m\u001b[0;34m(\u001b[0m\u001b[0;34m)\u001b[0m\u001b[0;34m\u001b[0m\u001b[0;34m\u001b[0m\u001b[0m\n\u001b[1;32m    426\u001b[0m         \u001b[0;32mif\u001b[0m \u001b[0msleep\u001b[0m\u001b[0;34m:\u001b[0m\u001b[0;34m\u001b[0m\u001b[0;34m\u001b[0m\u001b[0m\n\u001b[0;32m--> 427\u001b[0;31m             \u001b[0mself\u001b[0m\u001b[0;34m.\u001b[0m\u001b[0msleep\u001b[0m\u001b[0;34m(\u001b[0m\u001b[0;34m)\u001b[0m\u001b[0;34m\u001b[0m\u001b[0;34m\u001b[0m\u001b[0m\n\u001b[0m\u001b[1;32m    428\u001b[0m \u001b[0;34m\u001b[0m\u001b[0m\n\u001b[1;32m    429\u001b[0m     \u001b[0;32mdef\u001b[0m \u001b[0mstochastic_move_to_pose\u001b[0m\u001b[0;34m(\u001b[0m\u001b[0mself\u001b[0m\u001b[0;34m,\u001b[0m \u001b[0mT_B_E_des\u001b[0m\u001b[0;34m,\u001b[0m \u001b[0;34m**\u001b[0m\u001b[0mcart_servo_args\u001b[0m\u001b[0;34m)\u001b[0m \u001b[0;34m->\u001b[0m \u001b[0;32mNone\u001b[0m\u001b[0;34m:\u001b[0m\u001b[0;34m\u001b[0m\u001b[0;34m\u001b[0m\u001b[0m\n",
      "\u001b[0;32m~/_ros/hr_recycler_ws/src/hrr_cobot/hrr_cobot_robot/src/hrr_cobot_robot/hrr_cobot_control.py\u001b[0m in \u001b[0;36msleep\u001b[0;34m(self)\u001b[0m\n\u001b[1;32m    457\u001b[0m     \u001b[0;32mdef\u001b[0m \u001b[0msleep\u001b[0m\u001b[0;34m(\u001b[0m\u001b[0mself\u001b[0m\u001b[0;34m)\u001b[0m\u001b[0;34m:\u001b[0m\u001b[0;34m\u001b[0m\u001b[0;34m\u001b[0m\u001b[0m\n\u001b[1;32m    458\u001b[0m         \u001b[0;34m\"\"\"set robot to sleep via ``rospy.Rate.sleep``\"\"\"\u001b[0m\u001b[0;34m\u001b[0m\u001b[0;34m\u001b[0m\u001b[0m\n\u001b[0;32m--> 459\u001b[0;31m         \u001b[0mself\u001b[0m\u001b[0;34m.\u001b[0m\u001b[0m_rate\u001b[0m\u001b[0;34m.\u001b[0m\u001b[0msleep\u001b[0m\u001b[0;34m(\u001b[0m\u001b[0;34m)\u001b[0m\u001b[0;34m\u001b[0m\u001b[0;34m\u001b[0m\u001b[0m\n\u001b[0m\u001b[1;32m    460\u001b[0m \u001b[0;34m\u001b[0m\u001b[0m\n\u001b[1;32m    461\u001b[0m     def goTo(self, T_des, *args, soft_limits=True, check_reachable=True,\n",
      "\u001b[0;32m/opt/ros/noetic/lib/python3/dist-packages/rospy/timer.py\u001b[0m in \u001b[0;36msleep\u001b[0;34m(self)\u001b[0m\n\u001b[1;32m    101\u001b[0m         \u001b[0mcurr_time\u001b[0m \u001b[0;34m=\u001b[0m \u001b[0mrospy\u001b[0m\u001b[0;34m.\u001b[0m\u001b[0mrostime\u001b[0m\u001b[0;34m.\u001b[0m\u001b[0mget_rostime\u001b[0m\u001b[0;34m(\u001b[0m\u001b[0;34m)\u001b[0m\u001b[0;34m\u001b[0m\u001b[0;34m\u001b[0m\u001b[0m\n\u001b[1;32m    102\u001b[0m         \u001b[0;32mtry\u001b[0m\u001b[0;34m:\u001b[0m\u001b[0;34m\u001b[0m\u001b[0;34m\u001b[0m\u001b[0m\n\u001b[0;32m--> 103\u001b[0;31m             \u001b[0msleep\u001b[0m\u001b[0;34m(\u001b[0m\u001b[0mself\u001b[0m\u001b[0;34m.\u001b[0m\u001b[0m_remaining\u001b[0m\u001b[0;34m(\u001b[0m\u001b[0mcurr_time\u001b[0m\u001b[0;34m)\u001b[0m\u001b[0;34m)\u001b[0m\u001b[0;34m\u001b[0m\u001b[0;34m\u001b[0m\u001b[0m\n\u001b[0m\u001b[1;32m    104\u001b[0m         \u001b[0;32mexcept\u001b[0m \u001b[0mrospy\u001b[0m\u001b[0;34m.\u001b[0m\u001b[0mexceptions\u001b[0m\u001b[0;34m.\u001b[0m\u001b[0mROSTimeMovedBackwardsException\u001b[0m\u001b[0;34m:\u001b[0m\u001b[0;34m\u001b[0m\u001b[0;34m\u001b[0m\u001b[0m\n\u001b[1;32m    105\u001b[0m             \u001b[0;32mif\u001b[0m \u001b[0;32mnot\u001b[0m \u001b[0mself\u001b[0m\u001b[0;34m.\u001b[0m\u001b[0m_reset\u001b[0m\u001b[0;34m:\u001b[0m\u001b[0;34m\u001b[0m\u001b[0;34m\u001b[0m\u001b[0m\n",
      "\u001b[0;32m/opt/ros/noetic/lib/python3/dist-packages/rospy/timer.py\u001b[0m in \u001b[0;36msleep\u001b[0;34m(duration)\u001b[0m\n\u001b[1;32m    132\u001b[0m             \u001b[0;32mreturn\u001b[0m\u001b[0;34m\u001b[0m\u001b[0;34m\u001b[0m\u001b[0m\n\u001b[1;32m    133\u001b[0m         \u001b[0;32melse\u001b[0m\u001b[0;34m:\u001b[0m\u001b[0;34m\u001b[0m\u001b[0;34m\u001b[0m\u001b[0m\n\u001b[0;32m--> 134\u001b[0;31m             \u001b[0mrospy\u001b[0m\u001b[0;34m.\u001b[0m\u001b[0mrostime\u001b[0m\u001b[0;34m.\u001b[0m\u001b[0mwallsleep\u001b[0m\u001b[0;34m(\u001b[0m\u001b[0mduration\u001b[0m\u001b[0;34m)\u001b[0m\u001b[0;34m\u001b[0m\u001b[0;34m\u001b[0m\u001b[0m\n\u001b[0m\u001b[1;32m    135\u001b[0m     \u001b[0;32melse\u001b[0m\u001b[0;34m:\u001b[0m\u001b[0;34m\u001b[0m\u001b[0;34m\u001b[0m\u001b[0m\n\u001b[1;32m    136\u001b[0m         \u001b[0minitial_rostime\u001b[0m \u001b[0;34m=\u001b[0m \u001b[0mrospy\u001b[0m\u001b[0;34m.\u001b[0m\u001b[0mrostime\u001b[0m\u001b[0;34m.\u001b[0m\u001b[0mget_rostime\u001b[0m\u001b[0;34m(\u001b[0m\u001b[0;34m)\u001b[0m\u001b[0;34m\u001b[0m\u001b[0;34m\u001b[0m\u001b[0m\n",
      "\u001b[0;32m/opt/ros/noetic/lib/python3/dist-packages/rospy/rostime.py\u001b[0m in \u001b[0;36mwallsleep\u001b[0;34m(duration)\u001b[0m\n\u001b[1;32m    275\u001b[0m             \u001b[0;32mpass\u001b[0m\u001b[0;34m\u001b[0m\u001b[0;34m\u001b[0m\u001b[0m\n\u001b[1;32m    276\u001b[0m     \u001b[0;32melse\u001b[0m\u001b[0;34m:\u001b[0m\u001b[0;34m\u001b[0m\u001b[0;34m\u001b[0m\u001b[0m\n\u001b[0;32m--> 277\u001b[0;31m         \u001b[0mtime\u001b[0m\u001b[0;34m.\u001b[0m\u001b[0msleep\u001b[0m\u001b[0;34m(\u001b[0m\u001b[0mduration\u001b[0m\u001b[0;34m)\u001b[0m\u001b[0;34m\u001b[0m\u001b[0;34m\u001b[0m\u001b[0m\n\u001b[0m",
      "\u001b[0;31mKeyboardInterrupt\u001b[0m: "
     ]
    }
   ],
   "source": [
    "cobot.move_to_joint_pose(start)\n",
    "#cobot.goTo(cobot.FK(start),v_max = 0.05)"
   ]
  },
  {
   "cell_type": "markdown",
   "id": "coordinate-celtic",
   "metadata": {},
   "source": [
    "### Initialize lists, move robot manually and append info to the lists at each important pose."
   ]
  },
  {
   "cell_type": "code",
   "execution_count": 70,
   "id": "bottom-suspension",
   "metadata": {},
   "outputs": [],
   "source": [
    "pick_A = []\n",
    "pick_q = []\n",
    "pick_close_tc = []\n",
    "pick_joint_ctrl = []"
   ]
  },
  {
   "cell_type": "code",
   "execution_count": 71,
   "id": "afraid-surface",
   "metadata": {},
   "outputs": [
    {
     "data": {
      "text/plain": [
       "[  \u001b[38;5;1m 1       \u001b[0m \u001b[38;5;1m-0.0003671\u001b[0m \u001b[38;5;1m 8.641e-05\u001b[0m \u001b[38;5;4m 0.001808\u001b[0m  \u001b[0m\n",
       "  \u001b[38;5;1m-0.0003663\u001b[0m \u001b[38;5;1m-1       \u001b[0m \u001b[38;5;1m-0.009783\u001b[0m \u001b[38;5;4m-0.6099  \u001b[0m  \u001b[0m\n",
       "  \u001b[38;5;1m 8.999e-05\u001b[0m \u001b[38;5;1m 0.009783\u001b[0m \u001b[38;5;1m-1       \u001b[0m \u001b[38;5;4m 0.6255  \u001b[0m  \u001b[0m\n",
       "  \u001b[38;5;244m 0       \u001b[0m \u001b[38;5;244m 0       \u001b[0m \u001b[38;5;244m 0       \u001b[0m \u001b[38;5;244m 1       \u001b[0m  \u001b[0m\n",
       "]"
      ]
     },
     "execution_count": 71,
     "metadata": {},
     "output_type": "execute_result"
    }
   ],
   "source": [
    "# Run this cell for each position you want saved in the sequence\n",
    "cobot.update_tf()\n",
    "pick_A.append(cobot.T_B_E_robot)\n",
    "pick_q.append(cobot.q)\n",
    "pick_close_tc.append(0) #Set to 1 if the current pose is the one where tool changer is closed\n",
    "pick_joint_ctrl.append(0) #Set to 1 if the current pose was reached by joint control\n",
    "pick_A"
   ]
  },
  {
   "cell_type": "markdown",
   "id": "retained-villa",
   "metadata": {},
   "source": [
    "Make sure that the last position is safe such that the robot can go to calibration pose without collision!"
   ]
  },
  {
   "cell_type": "markdown",
   "id": "advisory-empty",
   "metadata": {},
   "source": [
    "## Disposal"
   ]
  },
  {
   "cell_type": "code",
   "execution_count": null,
   "id": "sized-somerset",
   "metadata": {},
   "outputs": [],
   "source": [
    "start=cobot.q_calib\n",
    "start[0]=np.deg2rad(70)\n",
    "#cobot.move_to_joint_pose(start)\n",
    "cobot.goTo(cobot.FK(start),v_max = 0.05)"
   ]
  },
  {
   "cell_type": "code",
   "execution_count": 10,
   "id": "healthy-organization",
   "metadata": {},
   "outputs": [],
   "source": [
    "disp_A = []\n",
    "disp_q = []\n",
    "disp_open_tc = []\n",
    "disp_joint_ctrl = []"
   ]
  },
  {
   "cell_type": "code",
   "execution_count": 12,
   "id": "tracked-flood",
   "metadata": {},
   "outputs": [
    {
     "data": {
      "text/plain": [
       "[  \u001b[38;5;1m 0.9998  \u001b[0m \u001b[38;5;1m 0.01894 \u001b[0m \u001b[38;5;1m-0.0009315\u001b[0m \u001b[38;5;4m-0.1726  \u001b[0m  \u001b[0m\n",
       "  \u001b[38;5;1m 0.01894 \u001b[0m \u001b[38;5;1m-0.9998  \u001b[0m \u001b[38;5;1m-0.00102 \u001b[0m \u001b[38;5;4m-0.3516  \u001b[0m  \u001b[0m\n",
       "  \u001b[38;5;1m-0.0009506\u001b[0m \u001b[38;5;1m 0.001002\u001b[0m \u001b[38;5;1m-1       \u001b[0m \u001b[38;5;4m 0.6064  \u001b[0m  \u001b[0m\n",
       "  \u001b[38;5;244m 0       \u001b[0m \u001b[38;5;244m 0       \u001b[0m \u001b[38;5;244m 0       \u001b[0m \u001b[38;5;244m 1       \u001b[0m  \u001b[0m\n",
       ",\n",
       "   \u001b[38;5;1m-0.4017  \u001b[0m \u001b[38;5;1m 0.9158  \u001b[0m \u001b[38;5;1m 0.001377\u001b[0m \u001b[38;5;4m 0.3909  \u001b[0m  \u001b[0m\n",
       "  \u001b[38;5;1m 0.9158  \u001b[0m \u001b[38;5;1m 0.4017  \u001b[0m \u001b[38;5;1m-0.0004991\u001b[0m \u001b[38;5;4m-0.02424 \u001b[0m  \u001b[0m\n",
       "  \u001b[38;5;1m-0.00101 \u001b[0m \u001b[38;5;1m 0.001061\u001b[0m \u001b[38;5;1m-1       \u001b[0m \u001b[38;5;4m 0.6064  \u001b[0m  \u001b[0m\n",
       "  \u001b[38;5;244m 0       \u001b[0m \u001b[38;5;244m 0       \u001b[0m \u001b[38;5;244m 0       \u001b[0m \u001b[38;5;244m 1       \u001b[0m  \u001b[0m\n",
       "]"
      ]
     },
     "execution_count": 12,
     "metadata": {},
     "output_type": "execute_result"
    }
   ],
   "source": [
    "cobot.update_tf()\n",
    "disp_A.append(cobot.T_B_E_robot)\n",
    "disp_q.append(cobot.q)\n",
    "disp_open_tc.append(0) #Set to 1 if the current pose is the one where tool changer is opened\n",
    "disp_joint_ctrl.append(0) #Set to 1 if the current pose was reached by joint control\n",
    "disp_A"
   ]
  },
  {
   "cell_type": "code",
   "execution_count": 76,
   "id": "f9551b57",
   "metadata": {},
   "outputs": [],
   "source": [
    "disp_A = [disp_A[0],disp_A[2],disp_A[1],disp_A[2],disp_A[3]]\n",
    "disp_q = [disp_q[0],disp_q[2],disp_q[1],disp_q[2],disp_q[3]]\n",
    "disp_open_tc = [0,0,1,0,0]\n",
    "disp_joint_ctrl = [disp_joint_ctrl[0],disp_joint_ctrl[2],disp_joint_ctrl[1],disp_joint_ctrl[2],disp_joint_ctrl[3]]"
   ]
  },
  {
   "cell_type": "code",
   "execution_count": 29,
   "id": "11b7deb3",
   "metadata": {},
   "outputs": [
    {
     "data": {
      "text/plain": [
       "[0, 0, 0, 0, 0, 0, 0, 0, 0, 0, 1, 1]"
      ]
     },
     "execution_count": 29,
     "metadata": {},
     "output_type": "execute_result"
    }
   ],
   "source": [
    "disp_joint_ctrl"
   ]
  },
  {
   "cell_type": "code",
   "execution_count": 49,
   "id": "4f47434b",
   "metadata": {},
   "outputs": [],
   "source": [
    "disp_joint_ctrl.append(disp_joint_ctrl[1])"
   ]
  },
  {
   "cell_type": "code",
   "execution_count": 50,
   "id": "1411fffe",
   "metadata": {},
   "outputs": [],
   "source": [
    "disp_joint_ctrl.append(temp)"
   ]
  },
  {
   "cell_type": "code",
   "execution_count": 85,
   "id": "cd9ee5e3",
   "metadata": {},
   "outputs": [
    {
     "data": {
      "text/plain": [
       "[  \u001b[38;5;1m 0.5724  \u001b[0m \u001b[38;5;1m-0.82    \u001b[0m \u001b[38;5;1m-0.006029\u001b[0m \u001b[38;5;4m-0.4622  \u001b[0m  \u001b[0m\n",
       "  \u001b[38;5;1m-0.82    \u001b[0m \u001b[38;5;1m-0.5723  \u001b[0m \u001b[38;5;1m-0.00605 \u001b[0m \u001b[38;5;4m-0.5227  \u001b[0m  \u001b[0m\n",
       "  \u001b[38;5;1m 0.00151 \u001b[0m \u001b[38;5;1m 0.008407\u001b[0m \u001b[38;5;1m-1       \u001b[0m \u001b[38;5;4m 0.6122  \u001b[0m  \u001b[0m\n",
       "  \u001b[38;5;244m 0       \u001b[0m \u001b[38;5;244m 0       \u001b[0m \u001b[38;5;244m 0       \u001b[0m \u001b[38;5;244m 1       \u001b[0m  \u001b[0m\n",
       ",\n",
       "   \u001b[38;5;1m 0.5724  \u001b[0m \u001b[38;5;1m-0.82    \u001b[0m \u001b[38;5;1m-0.00603 \u001b[0m \u001b[38;5;4m-0.4622  \u001b[0m  \u001b[0m\n",
       "  \u001b[38;5;1m-0.82    \u001b[0m \u001b[38;5;1m-0.5723  \u001b[0m \u001b[38;5;1m-0.00605 \u001b[0m \u001b[38;5;4m-0.5227  \u001b[0m  \u001b[0m\n",
       "  \u001b[38;5;1m 0.00151 \u001b[0m \u001b[38;5;1m 0.008407\u001b[0m \u001b[38;5;1m-1       \u001b[0m \u001b[38;5;4m 0.3878  \u001b[0m  \u001b[0m\n",
       "  \u001b[38;5;244m 0       \u001b[0m \u001b[38;5;244m 0       \u001b[0m \u001b[38;5;244m 0       \u001b[0m \u001b[38;5;244m 1       \u001b[0m  \u001b[0m\n",
       ",\n",
       "   \u001b[38;5;1m 0.5724  \u001b[0m \u001b[38;5;1m-0.82    \u001b[0m \u001b[38;5;1m-0.006029\u001b[0m \u001b[38;5;4m-0.4622  \u001b[0m  \u001b[0m\n",
       "  \u001b[38;5;1m-0.82    \u001b[0m \u001b[38;5;1m-0.5723  \u001b[0m \u001b[38;5;1m-0.00605 \u001b[0m \u001b[38;5;4m-0.5227  \u001b[0m  \u001b[0m\n",
       "  \u001b[38;5;1m 0.00151 \u001b[0m \u001b[38;5;1m 0.008407\u001b[0m \u001b[38;5;1m-1       \u001b[0m \u001b[38;5;4m 0.344   \u001b[0m  \u001b[0m\n",
       "  \u001b[38;5;244m 0       \u001b[0m \u001b[38;5;244m 0       \u001b[0m \u001b[38;5;244m 0       \u001b[0m \u001b[38;5;244m 1       \u001b[0m  \u001b[0m\n",
       ",\n",
       "   \u001b[38;5;1m 0.5724  \u001b[0m \u001b[38;5;1m-0.82    \u001b[0m \u001b[38;5;1m-0.00603 \u001b[0m \u001b[38;5;4m-0.4622  \u001b[0m  \u001b[0m\n",
       "  \u001b[38;5;1m-0.82    \u001b[0m \u001b[38;5;1m-0.5723  \u001b[0m \u001b[38;5;1m-0.00605 \u001b[0m \u001b[38;5;4m-0.5227  \u001b[0m  \u001b[0m\n",
       "  \u001b[38;5;1m 0.00151 \u001b[0m \u001b[38;5;1m 0.008407\u001b[0m \u001b[38;5;1m-1       \u001b[0m \u001b[38;5;4m 0.3878  \u001b[0m  \u001b[0m\n",
       "  \u001b[38;5;244m 0       \u001b[0m \u001b[38;5;244m 0       \u001b[0m \u001b[38;5;244m 0       \u001b[0m \u001b[38;5;244m 1       \u001b[0m  \u001b[0m\n",
       ",\n",
       "   \u001b[38;5;1m 0.5724  \u001b[0m \u001b[38;5;1m-0.82    \u001b[0m \u001b[38;5;1m-0.006024\u001b[0m \u001b[38;5;4m-0.4622  \u001b[0m  \u001b[0m\n",
       "  \u001b[38;5;1m-0.82    \u001b[0m \u001b[38;5;1m-0.5723  \u001b[0m \u001b[38;5;1m-0.006045\u001b[0m \u001b[38;5;4m-0.5227  \u001b[0m  \u001b[0m\n",
       "  \u001b[38;5;1m 0.001509\u001b[0m \u001b[38;5;1m 0.0084  \u001b[0m \u001b[38;5;1m-1       \u001b[0m \u001b[38;5;4m 0.5209  \u001b[0m  \u001b[0m\n",
       "  \u001b[38;5;244m 0       \u001b[0m \u001b[38;5;244m 0       \u001b[0m \u001b[38;5;244m 0       \u001b[0m \u001b[38;5;244m 1       \u001b[0m  \u001b[0m\n",
       "]"
      ]
     },
     "execution_count": 85,
     "metadata": {},
     "output_type": "execute_result"
    }
   ],
   "source": [
    "disp_A"
   ]
  },
  {
   "cell_type": "code",
   "execution_count": 19,
   "id": "e73a0e95",
   "metadata": {},
   "outputs": [],
   "source": [
    "disp_joint_ctrl[-1]=1"
   ]
  },
  {
   "cell_type": "code",
   "execution_count": 52,
   "id": "07d8db26",
   "metadata": {},
   "outputs": [],
   "source": [
    "disp_open_tc[1] = 1"
   ]
  },
  {
   "cell_type": "code",
   "execution_count": 53,
   "id": "da1632a9",
   "metadata": {},
   "outputs": [
    {
     "data": {
      "text/plain": [
       "[0, 1, 0, 0]"
      ]
     },
     "execution_count": 53,
     "metadata": {},
     "output_type": "execute_result"
    }
   ],
   "source": [
    "disp_open_tc"
   ]
  },
  {
   "cell_type": "code",
   "execution_count": 11,
   "id": "23998343",
   "metadata": {},
   "outputs": [],
   "source": [
    "np.save(\"nextCutting_q\", disp_q, allow_pickle=True)"
   ]
  },
  {
   "cell_type": "markdown",
   "id": "significant-trader",
   "metadata": {},
   "source": [
    "Make sure that the last position is safe such that the robot can go to calibration pose or\n",
    "anywhere above the toolracks without collision\n"
   ]
  },
  {
   "cell_type": "markdown",
   "id": "bored-california",
   "metadata": {},
   "source": [
    "## Save the routine\n",
    "Possibly change the name in the last line from \"vacuum_2\" to shaftgrinder_1, wsg_3, ... see directory or below. Be careful with overwriting!"
   ]
  },
  {
   "cell_type": "code",
   "execution_count": 30,
   "id": "fundamental-passing",
   "metadata": {},
   "outputs": [],
   "source": [
    "x = {\n",
    "    \"pickup\": \n",
    "        {\"poses_A\": list(reversed(disp_A)), \"poses_q\": list(reversed(disp_q)),\n",
    "        \"close_tc\": list(reversed(disp_open_tc)), \"use_joint_ctrl\": list(reversed(disp_joint_ctrl))},\n",
    "     \"dispose\":\n",
    "        {\"poses_A\": disp_A, \"poses_q\": disp_q,\n",
    "        \"open_tc\": disp_open_tc, \"use_joint_ctrl\": disp_joint_ctrl}\n",
    "    }\n",
    "np.save(\"screw_6\", x, allow_pickle=True)"
   ]
  },
  {
   "cell_type": "code",
   "execution_count": 60,
   "id": "genuine-ukraine",
   "metadata": {},
   "outputs": [
    {
     "data": {
      "text/plain": [
       "15"
      ]
     },
     "execution_count": 60,
     "metadata": {},
     "output_type": "execute_result"
    }
   ],
   "source": [
    "len(x[\"dispose\"][\"poses_q\"])"
   ]
  },
  {
   "cell_type": "code",
   "execution_count": 34,
   "id": "fdae6a65",
   "metadata": {},
   "outputs": [],
   "source": [
    "np.save(\"vacuum_2_hardcode\", x, allow_pickle=True)"
   ]
  },
  {
   "cell_type": "code",
   "execution_count": null,
   "id": "norman-industry",
   "metadata": {},
   "outputs": [],
   "source": [
    "grasping contact y = -0.607"
   ]
  },
  {
   "cell_type": "code",
   "execution_count": 74,
   "id": "hollywood-april",
   "metadata": {},
   "outputs": [],
   "source": [
    "x2 = x"
   ]
  },
  {
   "cell_type": "code",
   "execution_count": 77,
   "id": "sudden-carol",
   "metadata": {},
   "outputs": [
    {
     "data": {
      "text/plain": [
       "[array([ 2.9051466 ,  0.29345739, -1.81037557,  0.60714132, -0.18333299,\n",
       "        -3.45537257]),\n",
       " array([ 2.90504074,  0.28983906, -1.80648589,  0.64240432, -0.65010577,\n",
       "        -5.26182222]),\n",
       " array([ 2.90504146,  0.96812749, -1.87894857,  0.38404006, -1.31662977,\n",
       "        -4.82586575]),\n",
       " array([ 2.88268065,  0.99662572, -1.79855442,  0.36640158, -1.26576483,\n",
       "        -4.83883572]),\n",
       " array([ 2.87448835,  1.01280844, -1.75472021,  0.36108482, -1.23889971,\n",
       "        -4.84634781]),\n",
       " array([ 2.8744874 ,  1.00742269, -1.75699496,  0.36146629, -1.23599207,\n",
       "        -4.84750748]),\n",
       " array([ 2.87443399,  1.00896859, -1.75632143,  0.35988504, -1.24490702,\n",
       "        -4.85847902]),\n",
       " array([ 2.8751781 ,  1.01032758, -1.75133693,  0.36109811, -1.24161899,\n",
       "        -4.86009359]),\n",
       " array([ 2.87517834,  0.97678345, -1.76483834,  0.36359876, -1.2228837 ,\n",
       "        -4.86762142]),\n",
       " array([ 2.87855506,  0.96840447, -1.78639972,  0.36547631, -1.23566985,\n",
       "        -4.86390972]),\n",
       " array([ 2.9157002 ,  0.91445351, -1.93193948,  0.38840958, -1.32475984,\n",
       "        -4.83906174]),\n",
       " array([ 2.91569996,  0.2523897 , -1.83108354,  0.65265095, -0.6495564 ,\n",
       "        -5.28653717]),\n",
       " array([ 2.75762022, -0.31415927, -2.18166156,  0.03490659, -0.9424778 ,\n",
       "        -3.14159265]),\n",
       " array([ 0.64577182, -0.31415927, -2.18166156,  0.03490659, -0.9424778 ,\n",
       "        -3.14159265]),\n",
       " array([ 0.38048178, -0.13962634, -1.83259571,  0.        ,  1.13446401,\n",
       "        -3.01941961])]"
      ]
     },
     "execution_count": 77,
     "metadata": {},
     "output_type": "execute_result"
    }
   ],
   "source": [
    "x2[\"pickup\"][\"poses_q\"]"
   ]
  },
  {
   "cell_type": "code",
   "execution_count": 67,
   "id": "03588347",
   "metadata": {},
   "outputs": [],
   "source": [
    "x[\"pickup\"][\"poses_q\"][-3] = np.deg2rad(x[\"pickup\"][\"poses_q\"][-3])\n",
    "x[\"pickup\"][\"poses_q\"][-2] = np.deg2rad(x[\"pickup\"][\"poses_q\"][-2])\n",
    "x[\"pickup\"][\"poses_q\"][-1] = np.deg2rad(x[\"pickup\"][\"poses_q\"][-1])"
   ]
  },
  {
   "cell_type": "code",
   "execution_count": 68,
   "id": "existing-bidding",
   "metadata": {},
   "outputs": [],
   "source": [
    "x[\"dispose\"][\"poses_q\"][0] = np.deg2rad(x[\"dispose\"][\"poses_q\"][0])\n",
    "x[\"dispose\"][\"poses_q\"][1] = np.deg2rad(x[\"dispose\"][\"poses_q\"][1])\n",
    "x[\"dispose\"][\"poses_q\"][2] = np.deg2rad(x[\"dispose\"][\"poses_q\"][2])"
   ]
  },
  {
   "cell_type": "code",
   "execution_count": 83,
   "id": "acquired-detector",
   "metadata": {},
   "outputs": [],
   "source": [
    "x[\"pickup\"][\"poses_A\"][2].t[1]=-0.607"
   ]
  },
  {
   "cell_type": "code",
   "execution_count": 88,
   "id": "competent-potential",
   "metadata": {},
   "outputs": [
    {
     "data": {
      "text/plain": [
       "[  \u001b[38;5;1m 0.9998  \u001b[0m \u001b[38;5;1m 0.01809 \u001b[0m \u001b[38;5;1m 0       \u001b[0m \u001b[38;5;4m-0.1731  \u001b[0m  \u001b[0m\n",
       "  \u001b[38;5;1m 0.01809 \u001b[0m \u001b[38;5;1m-0.9998  \u001b[0m \u001b[38;5;1m 0       \u001b[0m \u001b[38;5;4m-0.6088  \u001b[0m  \u001b[0m\n",
       "  \u001b[38;5;1m 0       \u001b[0m \u001b[38;5;1m 0       \u001b[0m \u001b[38;5;1m-1       \u001b[0m \u001b[38;5;4m 0.6069  \u001b[0m  \u001b[0m\n",
       "  \u001b[38;5;244m 0       \u001b[0m \u001b[38;5;244m 0       \u001b[0m \u001b[38;5;244m 0       \u001b[0m \u001b[38;5;244m 1       \u001b[0m  \u001b[0m\n",
       ",\n",
       "   \u001b[38;5;1m 0.9998  \u001b[0m \u001b[38;5;1m 0.01808 \u001b[0m \u001b[38;5;1m 0       \u001b[0m \u001b[38;5;4m-0.1731  \u001b[0m  \u001b[0m\n",
       "  \u001b[38;5;1m 0.01808 \u001b[0m \u001b[38;5;1m-0.9998  \u001b[0m \u001b[38;5;1m 0       \u001b[0m \u001b[38;5;4m-0.6088  \u001b[0m  \u001b[0m\n",
       "  \u001b[38;5;1m 0       \u001b[0m \u001b[38;5;1m 0       \u001b[0m \u001b[38;5;1m-1       \u001b[0m \u001b[38;5;4m 0.375   \u001b[0m  \u001b[0m\n",
       "  \u001b[38;5;244m 0       \u001b[0m \u001b[38;5;244m 0       \u001b[0m \u001b[38;5;244m 0       \u001b[0m \u001b[38;5;244m 1       \u001b[0m  \u001b[0m\n",
       ",\n",
       "   \u001b[38;5;1m 0.9998  \u001b[0m \u001b[38;5;1m 0.01808 \u001b[0m \u001b[38;5;1m 0       \u001b[0m \u001b[38;5;4m-0.1731  \u001b[0m  \u001b[0m\n",
       "  \u001b[38;5;1m 0.01808 \u001b[0m \u001b[38;5;1m-0.9998  \u001b[0m \u001b[38;5;1m 0       \u001b[0m \u001b[38;5;4m-0.607   \u001b[0m  \u001b[0m\n",
       "  \u001b[38;5;1m 0       \u001b[0m \u001b[38;5;1m 0       \u001b[0m \u001b[38;5;1m-1       \u001b[0m \u001b[38;5;4m 0.3448  \u001b[0m  \u001b[0m\n",
       "  \u001b[38;5;244m 0       \u001b[0m \u001b[38;5;244m 0       \u001b[0m \u001b[38;5;244m 0       \u001b[0m \u001b[38;5;244m 1       \u001b[0m  \u001b[0m\n",
       ",\n",
       "   \u001b[38;5;1m 0.9998  \u001b[0m \u001b[38;5;1m 0.01808 \u001b[0m \u001b[38;5;1m 0       \u001b[0m \u001b[38;5;4m-0.1731  \u001b[0m  \u001b[0m\n",
       "  \u001b[38;5;1m 0.01808 \u001b[0m \u001b[38;5;1m-0.9998  \u001b[0m \u001b[38;5;1m 0       \u001b[0m \u001b[38;5;4m-0.6088  \u001b[0m  \u001b[0m\n",
       "  \u001b[38;5;1m 0       \u001b[0m \u001b[38;5;1m 0       \u001b[0m \u001b[38;5;1m-1       \u001b[0m \u001b[38;5;4m 0.375   \u001b[0m  \u001b[0m\n",
       "  \u001b[38;5;244m 0       \u001b[0m \u001b[38;5;244m 0       \u001b[0m \u001b[38;5;244m 0       \u001b[0m \u001b[38;5;244m 1       \u001b[0m  \u001b[0m\n",
       ",\n",
       "   \u001b[38;5;1m 0.9998  \u001b[0m \u001b[38;5;1m 0.01808 \u001b[0m \u001b[38;5;1m 0       \u001b[0m \u001b[38;5;4m-0.1731  \u001b[0m  \u001b[0m\n",
       "  \u001b[38;5;1m 0.01808 \u001b[0m \u001b[38;5;1m-0.9998  \u001b[0m \u001b[38;5;1m 0       \u001b[0m \u001b[38;5;4m-0.6088  \u001b[0m  \u001b[0m\n",
       "  \u001b[38;5;1m 0       \u001b[0m \u001b[38;5;1m 0       \u001b[0m \u001b[38;5;1m-1       \u001b[0m \u001b[38;5;4m 0.5672  \u001b[0m  \u001b[0m\n",
       "  \u001b[38;5;244m 0       \u001b[0m \u001b[38;5;244m 0       \u001b[0m \u001b[38;5;244m 0       \u001b[0m \u001b[38;5;244m 1       \u001b[0m  \u001b[0m\n",
       "]"
      ]
     },
     "execution_count": 88,
     "metadata": {},
     "output_type": "execute_result"
    }
   ],
   "source": [
    "x[\"dispose\"][\"poses_A\"]"
   ]
  },
  {
   "cell_type": "markdown",
   "id": "polished-retailer",
   "metadata": {},
   "source": [
    "# Load a routine to manipulate/test it"
   ]
  },
  {
   "cell_type": "code",
   "execution_count": 2,
   "id": "federal-posting",
   "metadata": {},
   "outputs": [],
   "source": [
    "import numpy as np\n",
    "import spatialmath as sm"
   ]
  },
  {
   "cell_type": "code",
   "execution_count": 14,
   "id": "elect-permission",
   "metadata": {},
   "outputs": [],
   "source": [
    "x = np.load(\"shaftgrinder_1.npy\",allow_pickle=True).item()\n",
    "#x = np.load(\"vacuum_2.npy\",allow_pickle=True).item()\n",
    "#x = np.load(\"wsg_3.npy\",allow_pickle=True).item()\n",
    "#x = np.load(\"pgrip_4.npy\",allow_pickle=True).item()\n",
    "#x = np.load(\"screw_6.npy\",allow_pickle=True).item()"
   ]
  },
  {
   "cell_type": "code",
   "execution_count": null,
   "id": "a5aa62fe",
   "metadata": {},
   "outputs": [],
   "source": []
  },
  {
   "cell_type": "code",
   "execution_count": 3,
   "id": "53add896",
   "metadata": {},
   "outputs": [],
   "source": [
    "x = np.load(\"vacuum_2_hardcode.npy\",allow_pickle=True).item()"
   ]
  },
  {
   "cell_type": "code",
   "execution_count": null,
   "id": "a0f3f44e",
   "metadata": {},
   "outputs": [],
   "source": [
    "x[\"pickup\"]"
   ]
  },
  {
   "cell_type": "code",
   "execution_count": 18,
   "id": "fc4e8236",
   "metadata": {},
   "outputs": [
    {
     "ename": "KeyError",
     "evalue": "'Poses_A'",
     "output_type": "error",
     "traceback": [
      "\u001b[0;31m-------------------\u001b[0m",
      "\u001b[0;31mKeyError\u001b[0mTraceback (most recent call last)",
      "\u001b[0;32m<ipython-input-18-e94825fad098>\u001b[0m in \u001b[0;36m<module>\u001b[0;34m\u001b[0m\n\u001b[0;32m----> 1\u001b[0;31m \u001b[0mnp\u001b[0m\u001b[0;34m.\u001b[0m\u001b[0mrad2deg\u001b[0m\u001b[0;34m(\u001b[0m\u001b[0mx\u001b[0m\u001b[0;34m[\u001b[0m\u001b[0;34m\"pickup\"\u001b[0m\u001b[0;34m]\u001b[0m\u001b[0;34m[\u001b[0m\u001b[0;34m\"Poses_A\"\u001b[0m\u001b[0;34m]\u001b[0m\u001b[0;34m)\u001b[0m\u001b[0;34m\u001b[0m\u001b[0;34m\u001b[0m\u001b[0m\n\u001b[0m",
      "\u001b[0;31mKeyError\u001b[0m: 'Poses_A'"
     ]
    }
   ],
   "source": [
    "np.rad2deg(x[\"pickup\"][\"poses_q\"])"
   ]
  },
  {
   "cell_type": "code",
   "execution_count": 6,
   "id": "a2494a3c",
   "metadata": {},
   "outputs": [
    {
     "data": {
      "text/plain": [
       "array([ 8.98301562e+01,  2.70874750e+01, -7.00557340e+01, -3.73387482e-03,\n",
       "        8.22915671e+01, -9.01902984e+01])"
      ]
     },
     "execution_count": 6,
     "metadata": {},
     "output_type": "execute_result"
    }
   ],
   "source": [
    "np.rad2deg(x[\"pickup\"][\"poses_q\"][0])"
   ]
  },
  {
   "cell_type": "code",
   "execution_count": 23,
   "id": "743be235",
   "metadata": {},
   "outputs": [
    {
     "data": {
      "text/plain": [
       "[SE3:  \u001b[38;5;1m-0.602815   \u001b[0m\u001b[38;5;1m 0.633079   \u001b[0m\u001b[38;5;1m 0.485618   \u001b[0m\u001b[38;5;4m 0.177893   \u001b[0m  \u001b[0m\n",
       "       \u001b[38;5;1m 0.257509   \u001b[0m\u001b[38;5;1m 0.730433   \u001b[0m\u001b[38;5;1m-0.632579   \u001b[0m\u001b[38;5;4m-0.349415   \u001b[0m  \u001b[0m\n",
       "       \u001b[38;5;1m-0.755184   \u001b[0m\u001b[38;5;1m-0.256277   \u001b[0m\u001b[38;5;1m-0.60334    \u001b[0m\u001b[38;5;4m 0.592501   \u001b[0m  \u001b[0m\n",
       "       \u001b[38;5;244m 0          \u001b[0m\u001b[38;5;244m 0          \u001b[0m\u001b[38;5;244m 0          \u001b[0m\u001b[38;5;244m 1          \u001b[0m  \u001b[0m\n",
       "     ,\n",
       " SE3:  \u001b[38;5;1m-0.999923   \u001b[0m\u001b[38;5;1m 0.0110554  \u001b[0m\u001b[38;5;1m 0.00563426 \u001b[0m\u001b[38;5;4m 0.178912   \u001b[0m  \u001b[0m\n",
       "       \u001b[38;5;1m-0.00582283 \u001b[0m\u001b[38;5;1m-0.0170996  \u001b[0m\u001b[38;5;1m-0.999837   \u001b[0m\u001b[38;5;4m-0.463505   \u001b[0m  \u001b[0m\n",
       "       \u001b[38;5;1m-0.0109573  \u001b[0m\u001b[38;5;1m-0.999793   \u001b[0m\u001b[38;5;1m 0.0171627  \u001b[0m\u001b[38;5;4m 0.433721   \u001b[0m  \u001b[0m\n",
       "       \u001b[38;5;244m 0          \u001b[0m\u001b[38;5;244m 0          \u001b[0m\u001b[38;5;244m 0          \u001b[0m\u001b[38;5;244m 1          \u001b[0m  \u001b[0m\n",
       "     ,\n",
       " SE3:  \u001b[38;5;1m-0.999922   \u001b[0m\u001b[38;5;1m 0.0111457  \u001b[0m\u001b[38;5;1m 0.00564105 \u001b[0m\u001b[38;5;4m 0.178907   \u001b[0m  \u001b[0m\n",
       "       \u001b[38;5;1m-0.00583097 \u001b[0m\u001b[38;5;1m-0.0170816  \u001b[0m\u001b[38;5;1m-0.999837   \u001b[0m\u001b[38;5;4m-0.4635     \u001b[0m  \u001b[0m\n",
       "       \u001b[38;5;1m-0.0110475  \u001b[0m\u001b[38;5;1m-0.999792   \u001b[0m\u001b[38;5;1m 0.0171453  \u001b[0m\u001b[38;5;4m 0.229111   \u001b[0m  \u001b[0m\n",
       "       \u001b[38;5;244m 0          \u001b[0m\u001b[38;5;244m 0          \u001b[0m\u001b[38;5;244m 0          \u001b[0m\u001b[38;5;244m 1          \u001b[0m  \u001b[0m\n",
       "     ,\n",
       " SE3:  \u001b[38;5;1m-0.999922   \u001b[0m\u001b[38;5;1m 0.0111518  \u001b[0m\u001b[38;5;1m 0.00563372 \u001b[0m\u001b[38;5;4m 0.178904   \u001b[0m  \u001b[0m\n",
       "       \u001b[38;5;1m-0.00582384 \u001b[0m\u001b[38;5;1m-0.0170892  \u001b[0m\u001b[38;5;1m-0.999837   \u001b[0m\u001b[38;5;4m-0.516334   \u001b[0m  \u001b[0m\n",
       "       \u001b[38;5;1m-0.0110538  \u001b[0m\u001b[38;5;1m-0.999792   \u001b[0m\u001b[38;5;1m 0.0171528  \u001b[0m\u001b[38;5;4m 0.229114   \u001b[0m  \u001b[0m\n",
       "       \u001b[38;5;244m 0          \u001b[0m\u001b[38;5;244m 0          \u001b[0m\u001b[38;5;244m 0          \u001b[0m\u001b[38;5;244m 1          \u001b[0m  \u001b[0m\n",
       "     ,\n",
       " SE3:  \u001b[38;5;1m-0.999922   \u001b[0m\u001b[38;5;1m 0.0111513  \u001b[0m\u001b[38;5;1m 0.00563372 \u001b[0m\u001b[38;5;4m 0.178904   \u001b[0m  \u001b[0m\n",
       "       \u001b[38;5;1m-0.00582384 \u001b[0m\u001b[38;5;1m-0.0170907  \u001b[0m\u001b[38;5;1m-0.999837   \u001b[0m\u001b[38;5;4m-0.516335   \u001b[0m  \u001b[0m\n",
       "       \u001b[38;5;1m-0.0110532  \u001b[0m\u001b[38;5;1m-0.999792   \u001b[0m\u001b[38;5;1m 0.0171543  \u001b[0m\u001b[38;5;4m 0.247843   \u001b[0m  \u001b[0m\n",
       "       \u001b[38;5;244m 0          \u001b[0m\u001b[38;5;244m 0          \u001b[0m\u001b[38;5;244m 0          \u001b[0m\u001b[38;5;244m 1          \u001b[0m  \u001b[0m\n",
       "     ,\n",
       " SE3:  \u001b[38;5;1m-0.999922   \u001b[0m\u001b[38;5;1m 0.01115    \u001b[0m\u001b[38;5;1m 0.00563439 \u001b[0m\u001b[38;5;4m 0.178904   \u001b[0m  \u001b[0m\n",
       "       \u001b[38;5;1m-0.00582449 \u001b[0m\u001b[38;5;1m-0.0170911  \u001b[0m\u001b[38;5;1m-0.999837   \u001b[0m\u001b[38;5;4m-0.49547    \u001b[0m  \u001b[0m\n",
       "       \u001b[38;5;1m-0.0110519  \u001b[0m\u001b[38;5;1m-0.999792   \u001b[0m\u001b[38;5;1m 0.0171547  \u001b[0m\u001b[38;5;4m 0.247843   \u001b[0m  \u001b[0m\n",
       "       \u001b[38;5;244m 0          \u001b[0m\u001b[38;5;244m 0          \u001b[0m\u001b[38;5;244m 0          \u001b[0m\u001b[38;5;244m 1          \u001b[0m  \u001b[0m\n",
       "     ,\n",
       " SE3:  \u001b[38;5;1m-0.999922   \u001b[0m\u001b[38;5;1m 0.011289   \u001b[0m\u001b[38;5;1m 0.00526155 \u001b[0m\u001b[38;5;4m 0.175628   \u001b[0m  \u001b[0m\n",
       "       \u001b[38;5;1m-0.00546123 \u001b[0m\u001b[38;5;1m-0.0177311  \u001b[0m\u001b[38;5;1m-0.999828   \u001b[0m\u001b[38;5;4m-0.476491   \u001b[0m  \u001b[0m\n",
       "       \u001b[38;5;1m-0.0111938  \u001b[0m\u001b[38;5;1m-0.999779   \u001b[0m\u001b[38;5;1m 0.0177914  \u001b[0m\u001b[38;5;4m 0.247995   \u001b[0m  \u001b[0m\n",
       "       \u001b[38;5;244m 0          \u001b[0m\u001b[38;5;244m 0          \u001b[0m\u001b[38;5;244m 0          \u001b[0m\u001b[38;5;244m 1          \u001b[0m  \u001b[0m\n",
       "     ,\n",
       " SE3:  \u001b[38;5;1m-0.999922   \u001b[0m\u001b[38;5;1m 0.0112869  \u001b[0m\u001b[38;5;1m 0.00525929 \u001b[0m\u001b[38;5;4m 0.180291   \u001b[0m  \u001b[0m\n",
       "       \u001b[38;5;1m-0.00545896 \u001b[0m\u001b[38;5;1m-0.0177337  \u001b[0m\u001b[38;5;1m-0.999828   \u001b[0m\u001b[38;5;4m-0.39128    \u001b[0m  \u001b[0m\n",
       "       \u001b[38;5;1m-0.0111917  \u001b[0m\u001b[38;5;1m-0.999779   \u001b[0m\u001b[38;5;1m 0.0177939  \u001b[0m\u001b[38;5;4m 0.264862   \u001b[0m  \u001b[0m\n",
       "       \u001b[38;5;244m 0          \u001b[0m\u001b[38;5;244m 0          \u001b[0m\u001b[38;5;244m 0          \u001b[0m\u001b[38;5;244m 1          \u001b[0m  \u001b[0m\n",
       "     ,\n",
       " SE3:  \u001b[38;5;1m-0.997955   \u001b[0m\u001b[38;5;1m 0.0122878  \u001b[0m\u001b[38;5;1m 0.0627331  \u001b[0m\u001b[38;5;4m 0.182531   \u001b[0m  \u001b[0m\n",
       "       \u001b[38;5;1m-0.0629379  \u001b[0m\u001b[38;5;1m-0.0170605  \u001b[0m\u001b[38;5;1m-0.997872   \u001b[0m\u001b[38;5;4m-0.342358   \u001b[0m  \u001b[0m\n",
       "       \u001b[38;5;1m-0.0111914  \u001b[0m\u001b[38;5;1m-0.999779   \u001b[0m\u001b[38;5;1m 0.017799   \u001b[0m\u001b[38;5;4m 0.264862   \u001b[0m  \u001b[0m\n",
       "       \u001b[38;5;244m 0          \u001b[0m\u001b[38;5;244m 0          \u001b[0m\u001b[38;5;244m 0          \u001b[0m\u001b[38;5;244m 1          \u001b[0m  \u001b[0m\n",
       "     ,\n",
       " SE3:  \u001b[38;5;1m-0.997954   \u001b[0m\u001b[38;5;1m 0.0122984  \u001b[0m\u001b[38;5;1m 0.0627493  \u001b[0m\u001b[38;5;4m 0.182538   \u001b[0m  \u001b[0m\n",
       "       \u001b[38;5;1m-0.0629544  \u001b[0m\u001b[38;5;1m-0.017066   \u001b[0m\u001b[38;5;1m-0.99787    \u001b[0m\u001b[38;5;4m-0.342366   \u001b[0m  \u001b[0m\n",
       "       \u001b[38;5;1m-0.0112013  \u001b[0m\u001b[38;5;1m-0.999779   \u001b[0m\u001b[38;5;1m 0.0178053  \u001b[0m\u001b[38;5;4m 0.449893   \u001b[0m  \u001b[0m\n",
       "       \u001b[38;5;244m 0          \u001b[0m\u001b[38;5;244m 0          \u001b[0m\u001b[38;5;244m 0          \u001b[0m\u001b[38;5;244m 1          \u001b[0m  \u001b[0m\n",
       "     ,\n",
       " SE3:  \u001b[38;5;1m-0.997954   \u001b[0m\u001b[38;5;1m 0.0122997  \u001b[0m\u001b[38;5;1m 0.0627423  \u001b[0m\u001b[38;5;4m 0.182535   \u001b[0m  \u001b[0m\n",
       "       \u001b[38;5;1m-0.0629474  \u001b[0m\u001b[38;5;1m-0.017068   \u001b[0m\u001b[38;5;1m-0.997871   \u001b[0m\u001b[38;5;4m-0.309114   \u001b[0m  \u001b[0m\n",
       "       \u001b[38;5;1m-0.0112026  \u001b[0m\u001b[38;5;1m-0.999779   \u001b[0m\u001b[38;5;1m 0.0178073  \u001b[0m\u001b[38;5;4m 0.572237   \u001b[0m  \u001b[0m\n",
       "       \u001b[38;5;244m 0          \u001b[0m\u001b[38;5;244m 0          \u001b[0m\u001b[38;5;244m 0          \u001b[0m\u001b[38;5;244m 1          \u001b[0m  \u001b[0m\n",
       "     ,\n",
       " SE3:  \u001b[38;5;1m-0.997955   \u001b[0m\u001b[38;5;1m 0.0123008  \u001b[0m\u001b[38;5;1m 0.0627291  \u001b[0m\u001b[38;5;4m 0.316586   \u001b[0m  \u001b[0m\n",
       "       \u001b[38;5;1m-0.0629343  \u001b[0m\u001b[38;5;1m-0.0170707  \u001b[0m\u001b[38;5;1m-0.997872   \u001b[0m\u001b[38;5;4m-0.343224   \u001b[0m  \u001b[0m\n",
       "       \u001b[38;5;1m-0.0112038  \u001b[0m\u001b[38;5;1m-0.999779   \u001b[0m\u001b[38;5;1m 0.0178099  \u001b[0m\u001b[38;5;4m 0.572237   \u001b[0m  \u001b[0m\n",
       "       \u001b[38;5;244m 0          \u001b[0m\u001b[38;5;244m 0          \u001b[0m\u001b[38;5;244m 0          \u001b[0m\u001b[38;5;244m 1          \u001b[0m  \u001b[0m\n",
       "     ,\n",
       " SE3:  \u001b[38;5;1m-0.515055   \u001b[0m\u001b[38;5;1m 0.0210637  \u001b[0m\u001b[38;5;1m 0.856898   \u001b[0m\u001b[38;5;4m 0.316573   \u001b[0m  \u001b[0m\n",
       "       \u001b[38;5;1m-0.857083   \u001b[0m\u001b[38;5;1m 0.000440857\u001b[0m\u001b[38;5;1m-0.515177   \u001b[0m\u001b[38;5;4m-0.343221   \u001b[0m  \u001b[0m\n",
       "       \u001b[38;5;1m-0.0112293  \u001b[0m\u001b[38;5;1m-0.999778   \u001b[0m\u001b[38;5;1m 0.0178262  \u001b[0m\u001b[38;5;4m 0.572244   \u001b[0m  \u001b[0m\n",
       "       \u001b[38;5;244m 0          \u001b[0m\u001b[38;5;244m 0          \u001b[0m\u001b[38;5;244m 0          \u001b[0m\u001b[38;5;244m 1          \u001b[0m  \u001b[0m\n",
       "     ]"
      ]
     },
     "execution_count": 23,
     "metadata": {},
     "output_type": "execute_result"
    }
   ],
   "source": [
    "x3[\"pickup\"][\"poses_A\"] = x[\"pickup\"][\"poses_A\"][0:-1]\n",
    "x3"
   ]
  },
  {
   "cell_type": "code",
   "execution_count": 6,
   "id": "7ce99675",
   "metadata": {},
   "outputs": [
    {
     "data": {
      "text/plain": [
       "array([  -4.6444 ,  -13.18777, -133.94837,  -53.52744,  -46.44969,\n",
       "        133.07575])"
      ]
     },
     "execution_count": 6,
     "metadata": {},
     "output_type": "execute_result"
    }
   ],
   "source": [
    "np.rad2deg(np.array([-0.08106, -0.23017, -2.33784, -0.93423, -0.8107, 2.32261]))"
   ]
  },
  {
   "cell_type": "code",
   "execution_count": 4,
   "id": "c58ed459",
   "metadata": {},
   "outputs": [
    {
     "data": {
      "text/plain": [
       "[array([ 1.13527, -0.2772 , -2.18416, -0.50619,  0.36575,  0.93848]),\n",
       " array([ 1.13527,  0.29975, -2.226  , -0.50612, -1.03444,  1.84371]),\n",
       " array([ 1.13528,  0.86198, -2.16947, -0.43139, -1.48784,  1.60573]),\n",
       " array([ 1.18258,  0.90272, -2.02446, -0.38926, -1.3892 ,  1.64059]),\n",
       " array([ 1.18258,  0.85257, -2.04206, -0.39173, -1.3591 ,  1.65322]),\n",
       " array([ 1.16511,  0.83311, -2.10115, -0.40645, -1.39714,  1.64123]),\n",
       " array([ 1.15472,  0.81551, -2.15735, -0.41486, -1.43397,  1.62735]),\n",
       " array([ 1.04685,  0.7067 , -2.38477, -0.51879, -1.54506,  1.58445]),\n",
       " array([ 0.97625,  0.68623, -2.50067, -0.53262, -1.62764,  1.5366 ]),\n",
       " array([ 0.97625,  0.00962, -2.51749, -0.61716, -1.06752,  1.89982]),\n",
       " array([ 0.91198, -0.33526, -2.41279, -0.93165, -0.77443,  2.3376 ]),\n",
       " array([ 0.70181,  0.01387, -2.12119, -1.08044, -0.95781,  2.40092]),\n",
       " array([ 0.88324, -0.03279, -2.16738,  0.57401, -0.66543,  1.08265]),\n",
       " array([-0.08106, -0.23017, -2.33784, -0.93423, -0.8107 ,  2.32261])]"
      ]
     },
     "execution_count": 4,
     "metadata": {},
     "output_type": "execute_result"
    }
   ],
   "source": [
    "x[\"pickup\"][\"poses_q\"]"
   ]
  },
  {
   "cell_type": "code",
   "execution_count": 10,
   "id": "29c4329d",
   "metadata": {},
   "outputs": [
    {
     "data": {
      "text/plain": [
       "[1, 1, 0, 0, 0, 0, 0, 0, 0, 0, 0, 0, 0, 0]"
      ]
     },
     "execution_count": 10,
     "metadata": {},
     "output_type": "execute_result"
    }
   ],
   "source": [
    "x[\"pickup\"][\"use_joint_ctrl\"]"
   ]
  },
  {
   "cell_type": "code",
   "execution_count": 12,
   "id": "generous-narrative",
   "metadata": {},
   "outputs": [],
   "source": [
    "beforedispose_afterpickup = np.r_[158, -18, -125, 2, -54, -180]"
   ]
  },
  {
   "cell_type": "code",
   "execution_count": 13,
   "id": "martial-ready",
   "metadata": {},
   "outputs": [],
   "source": [
    "totheleft = np.r_[37, -18, -125, 2, -54, -180]"
   ]
  },
  {
   "cell_type": "code",
   "execution_count": 14,
   "id": "dependent-gender",
   "metadata": {},
   "outputs": [],
   "source": [
    "after_before_unscrewing = np.r_[21.8, -8, -105, 0, 65, -173]"
   ]
  },
  {
   "cell_type": "code",
   "execution_count": 15,
   "id": "ruled-wholesale",
   "metadata": {},
   "outputs": [],
   "source": [
    "mylist_q = [beforedispose_afterpickup, totheleft, after_before_unscrewing]"
   ]
  },
  {
   "cell_type": "code",
   "execution_count": 14,
   "id": "a3f03490",
   "metadata": {},
   "outputs": [
    {
     "data": {
      "text/plain": [
       "([  \u001b[38;5;1m 0.9998  \u001b[0m \u001b[38;5;1m 0.01894 \u001b[0m \u001b[38;5;1m-0.0009315\u001b[0m \u001b[38;5;4m-0.1726  \u001b[0m  \u001b[0m\n",
       "  \u001b[38;5;1m 0.01894 \u001b[0m \u001b[38;5;1m-0.9998  \u001b[0m \u001b[38;5;1m-0.00102 \u001b[0m \u001b[38;5;4m-0.3516  \u001b[0m  \u001b[0m\n",
       "  \u001b[38;5;1m-0.0009506\u001b[0m \u001b[38;5;1m 0.001002\u001b[0m \u001b[38;5;1m-1       \u001b[0m \u001b[38;5;4m 0.6064  \u001b[0m  \u001b[0m\n",
       "  \u001b[38;5;244m 0       \u001b[0m \u001b[38;5;244m 0       \u001b[0m \u001b[38;5;244m 0       \u001b[0m \u001b[38;5;244m 1       \u001b[0m  \u001b[0m\n",
       ",\n",
       "    \u001b[38;5;1m-0.4017  \u001b[0m \u001b[38;5;1m 0.9158  \u001b[0m \u001b[38;5;1m 0.001377\u001b[0m \u001b[38;5;4m 0.3909  \u001b[0m  \u001b[0m\n",
       "  \u001b[38;5;1m 0.9158  \u001b[0m \u001b[38;5;1m 0.4017  \u001b[0m \u001b[38;5;1m-0.0004991\u001b[0m \u001b[38;5;4m-0.02424 \u001b[0m  \u001b[0m\n",
       "  \u001b[38;5;1m-0.00101 \u001b[0m \u001b[38;5;1m 0.001061\u001b[0m \u001b[38;5;1m-1       \u001b[0m \u001b[38;5;4m 0.6064  \u001b[0m  \u001b[0m\n",
       "  \u001b[38;5;244m 0       \u001b[0m \u001b[38;5;244m 0       \u001b[0m \u001b[38;5;244m 0       \u001b[0m \u001b[38;5;244m 1       \u001b[0m  \u001b[0m\n",
       "],\n",
       " [array([ 2.02708, -0.12164, -1.93933,  0.0004 ,  1.32257, -1.09567]),\n",
       "  array([ 0.06186, -0.12166, -1.93935,  0.00041,  1.32257, -1.09568])],\n",
       " [0, 0])"
      ]
     },
     "execution_count": 14,
     "metadata": {},
     "output_type": "execute_result"
    }
   ],
   "source": [
    "disp_A, disp_q, disp_joint_ctrl"
   ]
  },
  {
   "cell_type": "code",
   "execution_count": 31,
   "id": "7df97883",
   "metadata": {},
   "outputs": [
    {
     "data": {
      "text/plain": [
       "1"
      ]
     },
     "execution_count": 31,
     "metadata": {},
     "output_type": "execute_result"
    }
   ],
   "source": [
    "x[\"dispose\"][\"use_joint_ctrl\"][0]"
   ]
  },
  {
   "cell_type": "code",
   "execution_count": 27,
   "id": "8f194f63",
   "metadata": {},
   "outputs": [
    {
     "data": {
      "text/plain": [
       "(array([ 0.04133, -0.00231, -1.57311, -0.     ,  1.57079, -1.57646]),\n",
       "   \u001b[38;5;1m 0.04698 \u001b[0m \u001b[38;5;1m 0.9989  \u001b[0m \u001b[38;5;1m 0       \u001b[0m \u001b[38;5;4m 0.4347  \u001b[0m  \u001b[0m\n",
       "  \u001b[38;5;1m 0.9989  \u001b[0m \u001b[38;5;1m-0.04698 \u001b[0m \u001b[38;5;1m 0       \u001b[0m \u001b[38;5;4m-0.01798 \u001b[0m  \u001b[0m\n",
       "  \u001b[38;5;1m 0       \u001b[0m \u001b[38;5;1m 0       \u001b[0m \u001b[38;5;1m-1       \u001b[0m \u001b[38;5;4m 0.705   \u001b[0m  \u001b[0m\n",
       "  \u001b[38;5;244m 0       \u001b[0m \u001b[38;5;244m 0       \u001b[0m \u001b[38;5;244m 0       \u001b[0m \u001b[38;5;244m 1       \u001b[0m  \u001b[0m\n",
       ")"
      ]
     },
     "execution_count": 27,
     "metadata": {},
     "output_type": "execute_result"
    }
   ],
   "source": [
    "qq = cobot.q\n",
    "AA = cobot.T_B_E_robot\n",
    "qq,AA"
   ]
  },
  {
   "cell_type": "code",
   "execution_count": 32,
   "id": "b2d7b7f3",
   "metadata": {},
   "outputs": [
    {
     "data": {
      "text/plain": [
       "array([ 1.55094, -0.00231, -1.57311, -0.     ,  1.5708 , -1.57647])"
      ]
     },
     "execution_count": 32,
     "metadata": {},
     "output_type": "execute_result"
    }
   ],
   "source": [
    "x[\"pickup\"][\"poses_q\"][-1]"
   ]
  },
  {
   "cell_type": "code",
   "execution_count": null,
   "id": "d5c881f1",
   "metadata": {},
   "outputs": [],
   "source": []
  },
  {
   "cell_type": "code",
   "execution_count": 33,
   "id": "3a45aabd",
   "metadata": {},
   "outputs": [],
   "source": [
    "x[\"dispose\"][\"poses_A\"].insert(0,AA)\n",
    "x[\"dispose\"][\"poses_q\"].insert(0,qq)\n",
    "x[\"dispose\"][\"use_joint_ctrl\"].insert(0,0)\n",
    "x[\"dispose\"][\"open_tc\"].insert(0,0)\n",
    "x[\"pickup\"][\"poses_A\"].append(AA)\n",
    "x[\"pickup\"][\"poses_q\"].append(qq)\n",
    "x[\"pickup\"][\"use_joint_ctrl\"].append(1)\n",
    "x[\"pickup\"][\"close_tc\"].append(0)"
   ]
  },
  {
   "cell_type": "code",
   "execution_count": 15,
   "id": "private-delhi",
   "metadata": {},
   "outputs": [],
   "source": [
    "x[\"dispose\"][\"poses_A\"].insert(0,disp_A[1])\n",
    "x[\"dispose\"][\"poses_A\"].insert(0,disp_A[0])\n",
    "x[\"dispose\"][\"poses_q\"].insert(0,disp_q[1])\n",
    "x[\"dispose\"][\"poses_q\"].insert(0,disp_q[0])\n",
    "x[\"dispose\"][\"use_joint_ctrl\"].insert(0,1)\n",
    "x[\"dispose\"][\"use_joint_ctrl\"].insert(0,0)\n",
    "x[\"dispose\"][\"open_tc\"].insert(0,0)\n",
    "x[\"dispose\"][\"open_tc\"].insert(0,0)"
   ]
  },
  {
   "cell_type": "code",
   "execution_count": 16,
   "id": "e1cbabd1",
   "metadata": {},
   "outputs": [],
   "source": [
    "x[\"pickup\"][\"poses_A\"].append(disp_A[0])\n",
    "x[\"pickup\"][\"poses_A\"].append(disp_A[1])\n",
    "x[\"pickup\"][\"poses_q\"].append(disp_q[0])\n",
    "x[\"pickup\"][\"poses_q\"].append(disp_q[1])\n",
    "x[\"pickup\"][\"use_joint_ctrl\"].append(0)\n",
    "x[\"pickup\"][\"use_joint_ctrl\"].append(1)\n",
    "x[\"pickup\"][\"close_tc\"].append(0)\n",
    "x[\"pickup\"][\"close_tc\"].append(0)"
   ]
  },
  {
   "cell_type": "code",
   "execution_count": 17,
   "id": "9e3be35b",
   "metadata": {},
   "outputs": [
    {
     "data": {
      "text/plain": [
       "{'poses_A': [  \u001b[38;5;1m 0.9998  \u001b[0m \u001b[38;5;1m 0.01808 \u001b[0m \u001b[38;5;1m 0       \u001b[0m \u001b[38;5;4m-0.1731  \u001b[0m  \u001b[0m\n",
       "  \u001b[38;5;1m 0.01808 \u001b[0m \u001b[38;5;1m-0.9998  \u001b[0m \u001b[38;5;1m 0       \u001b[0m \u001b[38;5;4m-0.6088  \u001b[0m  \u001b[0m\n",
       "  \u001b[38;5;1m 0       \u001b[0m \u001b[38;5;1m 0       \u001b[0m \u001b[38;5;1m-1       \u001b[0m \u001b[38;5;4m 0.5672  \u001b[0m  \u001b[0m\n",
       "  \u001b[38;5;244m 0       \u001b[0m \u001b[38;5;244m 0       \u001b[0m \u001b[38;5;244m 0       \u001b[0m \u001b[38;5;244m 1       \u001b[0m  \u001b[0m\n",
       ",\n",
       "    \u001b[38;5;1m 0.9998  \u001b[0m \u001b[38;5;1m 0.01808 \u001b[0m \u001b[38;5;1m 0       \u001b[0m \u001b[38;5;4m-0.1731  \u001b[0m  \u001b[0m\n",
       "  \u001b[38;5;1m 0.01808 \u001b[0m \u001b[38;5;1m-0.9998  \u001b[0m \u001b[38;5;1m 0       \u001b[0m \u001b[38;5;4m-0.6088  \u001b[0m  \u001b[0m\n",
       "  \u001b[38;5;1m 0       \u001b[0m \u001b[38;5;1m 0       \u001b[0m \u001b[38;5;1m-1       \u001b[0m \u001b[38;5;4m 0.375   \u001b[0m  \u001b[0m\n",
       "  \u001b[38;5;244m 0       \u001b[0m \u001b[38;5;244m 0       \u001b[0m \u001b[38;5;244m 0       \u001b[0m \u001b[38;5;244m 1       \u001b[0m  \u001b[0m\n",
       ",\n",
       "    \u001b[38;5;1m 0.9998  \u001b[0m \u001b[38;5;1m 0.01808 \u001b[0m \u001b[38;5;1m 0       \u001b[0m \u001b[38;5;4m-0.1731  \u001b[0m  \u001b[0m\n",
       "  \u001b[38;5;1m 0.01808 \u001b[0m \u001b[38;5;1m-0.9998  \u001b[0m \u001b[38;5;1m 0       \u001b[0m \u001b[38;5;4m-0.607   \u001b[0m  \u001b[0m\n",
       "  \u001b[38;5;1m 0       \u001b[0m \u001b[38;5;1m 0       \u001b[0m \u001b[38;5;1m-1       \u001b[0m \u001b[38;5;4m 0.3448  \u001b[0m  \u001b[0m\n",
       "  \u001b[38;5;244m 0       \u001b[0m \u001b[38;5;244m 0       \u001b[0m \u001b[38;5;244m 0       \u001b[0m \u001b[38;5;244m 1       \u001b[0m  \u001b[0m\n",
       ",\n",
       "    \u001b[38;5;1m 0.9998  \u001b[0m \u001b[38;5;1m 0.01808 \u001b[0m \u001b[38;5;1m 0       \u001b[0m \u001b[38;5;4m-0.1731  \u001b[0m  \u001b[0m\n",
       "  \u001b[38;5;1m 0.01808 \u001b[0m \u001b[38;5;1m-0.9998  \u001b[0m \u001b[38;5;1m 0       \u001b[0m \u001b[38;5;4m-0.6088  \u001b[0m  \u001b[0m\n",
       "  \u001b[38;5;1m 0       \u001b[0m \u001b[38;5;1m 0       \u001b[0m \u001b[38;5;1m-1       \u001b[0m \u001b[38;5;4m 0.375   \u001b[0m  \u001b[0m\n",
       "  \u001b[38;5;244m 0       \u001b[0m \u001b[38;5;244m 0       \u001b[0m \u001b[38;5;244m 0       \u001b[0m \u001b[38;5;244m 1       \u001b[0m  \u001b[0m\n",
       ",\n",
       "    \u001b[38;5;1m 0.9998  \u001b[0m \u001b[38;5;1m 0.01809 \u001b[0m \u001b[38;5;1m 0       \u001b[0m \u001b[38;5;4m-0.1731  \u001b[0m  \u001b[0m\n",
       "  \u001b[38;5;1m 0.01809 \u001b[0m \u001b[38;5;1m-0.9998  \u001b[0m \u001b[38;5;1m 0       \u001b[0m \u001b[38;5;4m-0.6088  \u001b[0m  \u001b[0m\n",
       "  \u001b[38;5;1m 0       \u001b[0m \u001b[38;5;1m 0       \u001b[0m \u001b[38;5;1m-1       \u001b[0m \u001b[38;5;4m 0.6069  \u001b[0m  \u001b[0m\n",
       "  \u001b[38;5;244m 0       \u001b[0m \u001b[38;5;244m 0       \u001b[0m \u001b[38;5;244m 0       \u001b[0m \u001b[38;5;244m 1       \u001b[0m  \u001b[0m\n",
       ",\n",
       "    \u001b[38;5;1m 0.9998  \u001b[0m \u001b[38;5;1m 0.01894 \u001b[0m \u001b[38;5;1m-0.0009315\u001b[0m \u001b[38;5;4m-0.1726  \u001b[0m  \u001b[0m\n",
       "  \u001b[38;5;1m 0.01894 \u001b[0m \u001b[38;5;1m-0.9998  \u001b[0m \u001b[38;5;1m-0.00102 \u001b[0m \u001b[38;5;4m-0.3516  \u001b[0m  \u001b[0m\n",
       "  \u001b[38;5;1m-0.0009506\u001b[0m \u001b[38;5;1m 0.001002\u001b[0m \u001b[38;5;1m-1       \u001b[0m \u001b[38;5;4m 0.6064  \u001b[0m  \u001b[0m\n",
       "  \u001b[38;5;244m 0       \u001b[0m \u001b[38;5;244m 0       \u001b[0m \u001b[38;5;244m 0       \u001b[0m \u001b[38;5;244m 1       \u001b[0m  \u001b[0m\n",
       ",\n",
       "    \u001b[38;5;1m-0.4017  \u001b[0m \u001b[38;5;1m 0.9158  \u001b[0m \u001b[38;5;1m 0.001377\u001b[0m \u001b[38;5;4m 0.3909  \u001b[0m  \u001b[0m\n",
       "  \u001b[38;5;1m 0.9158  \u001b[0m \u001b[38;5;1m 0.4017  \u001b[0m \u001b[38;5;1m-0.0004991\u001b[0m \u001b[38;5;4m-0.02424 \u001b[0m  \u001b[0m\n",
       "  \u001b[38;5;1m-0.00101 \u001b[0m \u001b[38;5;1m 0.001061\u001b[0m \u001b[38;5;1m-1       \u001b[0m \u001b[38;5;4m 0.6064  \u001b[0m  \u001b[0m\n",
       "  \u001b[38;5;244m 0       \u001b[0m \u001b[38;5;244m 0       \u001b[0m \u001b[38;5;244m 0       \u001b[0m \u001b[38;5;244m 1       \u001b[0m  \u001b[0m\n",
       "],\n",
       " 'poses_q': [array([ 1.84778,  0.55547, -1.22688, -0.00002,  1.3591 , -1.27572]),\n",
       "  array([ 1.84778,  0.716  , -1.49125, -0.00002,  0.93419, -1.27571]),\n",
       "  array([ 1.84778,  0.75859, -1.50727, -0.00003,  0.87559, -1.27571]),\n",
       "  array([ 1.84778,  0.716  , -1.49125, -0.00002,  0.93419, -1.27571]),\n",
       "  array([ 1.84778,  0.55141, -1.13087, -0.00002,  1.45924, -1.27572]),\n",
       "  array([ 2.02708, -0.12164, -1.93933,  0.0004 ,  1.32257, -1.09567]),\n",
       "  array([ 0.06186, -0.12166, -1.93935,  0.00041,  1.32257, -1.09568])],\n",
       " 'close_tc': [0, 0, 1, 0, 0, 0, 0],\n",
       " 'use_joint_ctrl': [0, 0, 0, 0, 0, 0, 1]}"
      ]
     },
     "execution_count": 17,
     "metadata": {},
     "output_type": "execute_result"
    }
   ],
   "source": [
    "x[\"pickup\"]"
   ]
  },
  {
   "cell_type": "code",
   "execution_count": 24,
   "id": "fef12301",
   "metadata": {},
   "outputs": [],
   "source": [
    "x[\"pickup\"][\"poses_q\"].append(beforedispose_afterpickup)\n",
    "x[\"pickup\"][\"poses_q\"].append(totheleft)\n",
    "x[\"pickup\"][\"poses_q\"].append(after_before_unscrewing)"
   ]
  },
  {
   "cell_type": "code",
   "execution_count": 40,
   "id": "canadian-extreme",
   "metadata": {},
   "outputs": [],
   "source": [
    "x[\"dispose\"][\"use_joint_ctrl\"].insert(0,1)"
   ]
  },
  {
   "cell_type": "code",
   "execution_count": 43,
   "id": "proper-facial",
   "metadata": {},
   "outputs": [],
   "source": [
    "x[\"dispose\"][\"open_tc\"].insert(0,0)"
   ]
  },
  {
   "cell_type": "code",
   "execution_count": 50,
   "id": "sonic-browse",
   "metadata": {},
   "outputs": [],
   "source": [
    "x[\"pickup\"][\"poses_A\"].append(sm.SE3())"
   ]
  },
  {
   "cell_type": "code",
   "execution_count": null,
   "id": "demonstrated-highway",
   "metadata": {},
   "outputs": [],
   "source": [
    "#A small helper function to shift a pose's position by vec = [x y z] in m\n",
    "def moveByVec(vec, pose):\n",
    "    #shift position of se3 by vec\n",
    "    return sm.SE3(vec)@pose"
   ]
  },
  {
   "cell_type": "markdown",
   "id": "ambient-sculpture",
   "metadata": {},
   "source": [
    "### Before automatic testing, check if automatic open/close tool changer works!"
   ]
  },
  {
   "cell_type": "code",
   "execution_count": 14,
   "id": "signal-guard",
   "metadata": {},
   "outputs": [],
   "source": [
    "cobot.close_tool_changer()#force=True)"
   ]
  },
  {
   "cell_type": "code",
   "execution_count": 13,
   "id": "distinguished-listing",
   "metadata": {},
   "outputs": [],
   "source": [
    "cobot.open_tool_changer()#force=True)"
   ]
  },
  {
   "cell_type": "code",
   "execution_count": 12,
   "id": "e6346f6d",
   "metadata": {},
   "outputs": [],
   "source": [
    "cobot.stop()"
   ]
  },
  {
   "cell_type": "code",
   "execution_count": 1,
   "id": "ef3199fe",
   "metadata": {},
   "outputs": [
    {
     "ename": "NameError",
     "evalue": "name 'cobot' is not defined",
     "output_type": "error",
     "traceback": [
      "\u001b[0;31m---------------------------------------------------------------------------\u001b[0m",
      "\u001b[0;31mNameError\u001b[0m                                 Traceback (most recent call last)",
      "\u001b[0;32m/tmp/ipykernel_922520/1632470495.py\u001b[0m in \u001b[0;36m<module>\u001b[0;34m\u001b[0m\n\u001b[0;32m----> 1\u001b[0;31m \u001b[0mcobot\u001b[0m\u001b[0;34m.\u001b[0m\u001b[0mT_B_E_robot\u001b[0m\u001b[0;34m\u001b[0m\u001b[0;34m\u001b[0m\u001b[0m\n\u001b[0m",
      "\u001b[0;31mNameError\u001b[0m: name 'cobot' is not defined"
     ]
    }
   ],
   "source": [
    "cobot.T_B_E_robot"
   ]
  },
  {
   "cell_type": "markdown",
   "id": "prostate-server",
   "metadata": {},
   "source": [
    "### Pickup\n",
    "Make sure that tool changer is open!"
   ]
  },
  {
   "cell_type": "code",
   "execution_count": null,
   "id": "macro-archives",
   "metadata": {},
   "outputs": [],
   "source": [
    "#open tool changer"
   ]
  },
  {
   "cell_type": "code",
   "execution_count": 10,
   "id": "turkish-provision",
   "metadata": {},
   "outputs": [],
   "source": [
    "cobot.move_to_joint_pose(start)\n",
    "# cobot.goTo(cobot.FK(start),v_max = 0.05)"
   ]
  },
  {
   "cell_type": "code",
   "execution_count": 24,
   "id": "extraordinary-recipe",
   "metadata": {},
   "outputs": [],
   "source": [
    "poses = x[\"dispose\"]\n",
    "#print(poses[\"close_tc\"])"
   ]
  },
  {
   "cell_type": "code",
   "execution_count": 29,
   "id": "e77bd8a1",
   "metadata": {},
   "outputs": [
    {
     "data": {
      "text/plain": [
       "array([ 1.55094, -0.00231, -1.57311, -0.     ,  1.5708 , -1.57647])"
      ]
     },
     "execution_count": 29,
     "metadata": {},
     "output_type": "execute_result"
    }
   ],
   "source": [
    "x[\"dispose\"][\"poses_q\"][0]"
   ]
  },
  {
   "cell_type": "code",
   "execution_count": 25,
   "id": "baking-asthma",
   "metadata": {},
   "outputs": [
    {
     "ename": "KeyError",
     "evalue": "'close_tc'",
     "output_type": "error",
     "traceback": [
      "\u001b[0;31m---------------------------------------------------------------------------\u001b[0m",
      "\u001b[0;31mKeyError\u001b[0m                                  Traceback (most recent call last)",
      "\u001b[0;32m/tmp/ipykernel_55566/2535861274.py\u001b[0m in \u001b[0;36m<module>\u001b[0;34m\u001b[0m\n\u001b[1;32m      5\u001b[0m \u001b[0;32melse\u001b[0m\u001b[0;34m:\u001b[0m\u001b[0;34m\u001b[0m\u001b[0;34m\u001b[0m\u001b[0m\n\u001b[1;32m      6\u001b[0m     \u001b[0mcobot\u001b[0m\u001b[0;34m.\u001b[0m\u001b[0mgoTo\u001b[0m\u001b[0;34m(\u001b[0m\u001b[0mposes\u001b[0m\u001b[0;34m[\u001b[0m\u001b[0;34m\"poses_A\"\u001b[0m\u001b[0;34m]\u001b[0m\u001b[0;34m[\u001b[0m\u001b[0mi\u001b[0m\u001b[0;34m]\u001b[0m\u001b[0;34m,\u001b[0m\u001b[0mv_max\u001b[0m\u001b[0;34m=\u001b[0m\u001b[0;36m0.01\u001b[0m\u001b[0;34m)\u001b[0m\u001b[0;34m\u001b[0m\u001b[0;34m\u001b[0m\u001b[0m\n\u001b[0;32m----> 7\u001b[0;31m \u001b[0;32mif\u001b[0m \u001b[0mposes\u001b[0m\u001b[0;34m[\u001b[0m\u001b[0;34m\"close_tc\"\u001b[0m\u001b[0;34m]\u001b[0m\u001b[0;34m[\u001b[0m\u001b[0mi\u001b[0m\u001b[0;34m]\u001b[0m\u001b[0;34m:\u001b[0m\u001b[0;34m\u001b[0m\u001b[0;34m\u001b[0m\u001b[0m\n\u001b[0m\u001b[1;32m      8\u001b[0m     \u001b[0mrospy\u001b[0m\u001b[0;34m.\u001b[0m\u001b[0msleep\u001b[0m\u001b[0;34m(\u001b[0m\u001b[0;36m0.5\u001b[0m\u001b[0;34m)\u001b[0m\u001b[0;34m\u001b[0m\u001b[0;34m\u001b[0m\u001b[0m\n\u001b[1;32m      9\u001b[0m     \u001b[0mcobot\u001b[0m\u001b[0;34m.\u001b[0m\u001b[0mclose_tool_changer\u001b[0m\u001b[0;34m(\u001b[0m\u001b[0mforce\u001b[0m\u001b[0;34m=\u001b[0m\u001b[0;32mTrue\u001b[0m\u001b[0;34m)\u001b[0m\u001b[0;34m\u001b[0m\u001b[0;34m\u001b[0m\u001b[0m\n",
      "\u001b[0;31mKeyError\u001b[0m: 'close_tc'"
     ]
    }
   ],
   "source": [
    "#Manual loop\n",
    "i = 0 #change to 1,2,3...\n",
    "if poses[\"use_joint_ctrl\"][i]:\n",
    "    cobot.move_to_joint_pose(poses[\"poses_q\"][i]) \n",
    "else:\n",
    "    cobot.goTo(poses[\"poses_A\"][i],v_max=0.01) \n",
    "if poses[\"close_tc\"][i]:\n",
    "    rospy.sleep(0.5)\n",
    "    cobot.close_tool_changer(force=True)"
   ]
  },
  {
   "cell_type": "code",
   "execution_count": 56,
   "id": "metric-procedure",
   "metadata": {},
   "outputs": [],
   "source": [
    "#Automatic runthrough\n",
    "for i in range(len(poses[\"poses_A\"])):\n",
    "    if poses[\"use_joint_ctrl\"][i]:\n",
    "        rospy.sleep(0.5)\n",
    "        cobot.move_to_joint_pose(poses[\"poses_q\"][i]) \n",
    "    else:\n",
    "        rospy.sleep(0.5)\n",
    "        cobot.goTo(poses[\"poses_A\"][i],v_max=0.01) \n",
    "    if poses[\"close_tc\"][i]:\n",
    "        rospy.sleep(0.5)\n",
    "        cobot.close_tool_changer(force=True)"
   ]
  },
  {
   "cell_type": "markdown",
   "id": "constant-nightlife",
   "metadata": {},
   "source": [
    "### Dispose"
   ]
  },
  {
   "cell_type": "code",
   "execution_count": 57,
   "id": "understood-coffee",
   "metadata": {},
   "outputs": [],
   "source": [
    "poses = x[\"dispose\"]\n",
    "print(poses)"
   ]
  },
  {
   "cell_type": "code",
   "execution_count": 20,
   "id": "c3137036",
   "metadata": {},
   "outputs": [
    {
     "data": {
      "text/plain": [
       "[  \u001b[38;5;1m 0.9999  \u001b[0m \u001b[38;5;1m 0.01419 \u001b[0m \u001b[38;5;1m 0       \u001b[0m \u001b[38;5;4m 0.00864 \u001b[0m  \u001b[0m\n",
       "  \u001b[38;5;1m 0.01419 \u001b[0m \u001b[38;5;1m-0.9999  \u001b[0m \u001b[38;5;1m 0       \u001b[0m \u001b[38;5;4m-0.435   \u001b[0m  \u001b[0m\n",
       "  \u001b[38;5;1m 0       \u001b[0m \u001b[38;5;1m 0       \u001b[0m \u001b[38;5;1m-1       \u001b[0m \u001b[38;5;4m 0.705   \u001b[0m  \u001b[0m\n",
       "  \u001b[38;5;244m 0       \u001b[0m \u001b[38;5;244m 0       \u001b[0m \u001b[38;5;244m 0       \u001b[0m \u001b[38;5;244m 1       \u001b[0m  \u001b[0m\n",
       ",\n",
       "   \u001b[38;5;1m 0.9999  \u001b[0m \u001b[38;5;1m 0.01419 \u001b[0m \u001b[38;5;1m 0       \u001b[0m \u001b[38;5;4m 0.005041\u001b[0m  \u001b[0m\n",
       "  \u001b[38;5;1m 0.01419 \u001b[0m \u001b[38;5;1m-0.9999  \u001b[0m \u001b[38;5;1m 0       \u001b[0m \u001b[38;5;4m-0.4986  \u001b[0m  \u001b[0m\n",
       "  \u001b[38;5;1m 0       \u001b[0m \u001b[38;5;1m 0       \u001b[0m \u001b[38;5;1m-1       \u001b[0m \u001b[38;5;4m 0.3532  \u001b[0m  \u001b[0m\n",
       "  \u001b[38;5;244m 0       \u001b[0m \u001b[38;5;244m 0       \u001b[0m \u001b[38;5;244m 0       \u001b[0m \u001b[38;5;244m 1       \u001b[0m  \u001b[0m\n",
       ",\n",
       "   \u001b[38;5;1m 0.9999  \u001b[0m \u001b[38;5;1m 0.01419 \u001b[0m \u001b[38;5;1m 0       \u001b[0m \u001b[38;5;4m 0.005042\u001b[0m  \u001b[0m\n",
       "  \u001b[38;5;1m 0.01419 \u001b[0m \u001b[38;5;1m-0.9999  \u001b[0m \u001b[38;5;1m 0       \u001b[0m \u001b[38;5;4m-0.5342  \u001b[0m  \u001b[0m\n",
       "  \u001b[38;5;1m 0       \u001b[0m \u001b[38;5;1m 0       \u001b[0m \u001b[38;5;1m-1       \u001b[0m \u001b[38;5;4m 0.3509  \u001b[0m  \u001b[0m\n",
       "  \u001b[38;5;244m 0       \u001b[0m \u001b[38;5;244m 0       \u001b[0m \u001b[38;5;244m 0       \u001b[0m \u001b[38;5;244m 1       \u001b[0m  \u001b[0m\n",
       ",\n",
       "   \u001b[38;5;1m 0.9999  \u001b[0m \u001b[38;5;1m 0.01422 \u001b[0m \u001b[38;5;1m 0       \u001b[0m \u001b[38;5;4m 0.001555\u001b[0m  \u001b[0m\n",
       "  \u001b[38;5;1m 0.01422 \u001b[0m \u001b[38;5;1m-0.9999  \u001b[0m \u001b[38;5;1m 0       \u001b[0m \u001b[38;5;4m-0.5561  \u001b[0m  \u001b[0m\n",
       "  \u001b[38;5;1m 0       \u001b[0m \u001b[38;5;1m 0       \u001b[0m \u001b[38;5;1m-1       \u001b[0m \u001b[38;5;4m 0.35    \u001b[0m  \u001b[0m\n",
       "  \u001b[38;5;244m 0       \u001b[0m \u001b[38;5;244m 0       \u001b[0m \u001b[38;5;244m 0       \u001b[0m \u001b[38;5;244m 1       \u001b[0m  \u001b[0m\n",
       ",\n",
       "   \u001b[38;5;1m 0.9999  \u001b[0m \u001b[38;5;1m 0.01422 \u001b[0m \u001b[38;5;1m 0       \u001b[0m \u001b[38;5;4m 0.001557\u001b[0m  \u001b[0m\n",
       "  \u001b[38;5;1m 0.01422 \u001b[0m \u001b[38;5;1m-0.9999  \u001b[0m \u001b[38;5;1m 0       \u001b[0m \u001b[38;5;4m-0.6087  \u001b[0m  \u001b[0m\n",
       "  \u001b[38;5;1m 0       \u001b[0m \u001b[38;5;1m 0       \u001b[0m \u001b[38;5;1m-1       \u001b[0m \u001b[38;5;4m 0.35    \u001b[0m  \u001b[0m\n",
       "  \u001b[38;5;244m 0       \u001b[0m \u001b[38;5;244m 0       \u001b[0m \u001b[38;5;244m 0       \u001b[0m \u001b[38;5;244m 1       \u001b[0m  \u001b[0m\n",
       ",\n",
       "   \u001b[38;5;1m 0.9999  \u001b[0m \u001b[38;5;1m 0.01422 \u001b[0m \u001b[38;5;1m 0       \u001b[0m \u001b[38;5;4m 0.001557\u001b[0m  \u001b[0m\n",
       "  \u001b[38;5;1m 0.01422 \u001b[0m \u001b[38;5;1m-0.9999  \u001b[0m \u001b[38;5;1m 0       \u001b[0m \u001b[38;5;4m-0.6087  \u001b[0m  \u001b[0m\n",
       "  \u001b[38;5;1m 0       \u001b[0m \u001b[38;5;1m 0       \u001b[0m \u001b[38;5;1m-1       \u001b[0m \u001b[38;5;4m 0.346   \u001b[0m  \u001b[0m\n",
       "  \u001b[38;5;244m 0       \u001b[0m \u001b[38;5;244m 0       \u001b[0m \u001b[38;5;244m 0       \u001b[0m \u001b[38;5;244m 1       \u001b[0m  \u001b[0m\n",
       ",\n",
       "   \u001b[38;5;1m 1       \u001b[0m \u001b[38;5;1m-0.000366\u001b[0m \u001b[38;5;1m 9.385e-05\u001b[0m \u001b[38;5;4m 0.001809\u001b[0m  \u001b[0m\n",
       "  \u001b[38;5;1m-0.000365\u001b[0m \u001b[38;5;1m-1       \u001b[0m \u001b[38;5;1m-0.009856\u001b[0m \u001b[38;5;4m-0.6084  \u001b[0m  \u001b[0m\n",
       "  \u001b[38;5;1m 9.745e-05\u001b[0m \u001b[38;5;1m 0.009856\u001b[0m \u001b[38;5;1m-1       \u001b[0m \u001b[38;5;4m 0.616   \u001b[0m  \u001b[0m\n",
       "  \u001b[38;5;244m 0       \u001b[0m \u001b[38;5;244m 0       \u001b[0m \u001b[38;5;244m 0       \u001b[0m \u001b[38;5;244m 1       \u001b[0m  \u001b[0m\n",
       ",\n",
       "   \u001b[38;5;1m 1       \u001b[0m \u001b[38;5;1m-0.0003666\u001b[0m \u001b[38;5;1m 9.31e-05\u001b[0m \u001b[38;5;4m 0.001809\u001b[0m  \u001b[0m\n",
       "  \u001b[38;5;1m-0.0003657\u001b[0m \u001b[38;5;1m-1       \u001b[0m \u001b[38;5;1m-0.009856\u001b[0m \u001b[38;5;4m-0.6084  \u001b[0m  \u001b[0m\n",
       "  \u001b[38;5;1m 9.671e-05\u001b[0m \u001b[38;5;1m 0.009856\u001b[0m \u001b[38;5;1m-1       \u001b[0m \u001b[38;5;4m 0.3704  \u001b[0m  \u001b[0m\n",
       "  \u001b[38;5;244m 0       \u001b[0m \u001b[38;5;244m 0       \u001b[0m \u001b[38;5;244m 0       \u001b[0m \u001b[38;5;244m 1       \u001b[0m  \u001b[0m\n",
       ",\n",
       "   \u001b[38;5;1m 1       \u001b[0m \u001b[38;5;1m-0.0003662\u001b[0m \u001b[38;5;1m 9.253e-05\u001b[0m \u001b[38;5;4m 0.001809\u001b[0m  \u001b[0m\n",
       "  \u001b[38;5;1m-0.0003653\u001b[0m \u001b[38;5;1m-1       \u001b[0m \u001b[38;5;1m-0.009832\u001b[0m \u001b[38;5;4m-0.6084  \u001b[0m  \u001b[0m\n",
       "  \u001b[38;5;1m 9.613e-05\u001b[0m \u001b[38;5;1m 0.009832\u001b[0m \u001b[38;5;1m-1       \u001b[0m \u001b[38;5;4m 0.3445  \u001b[0m  \u001b[0m\n",
       "  \u001b[38;5;244m 0       \u001b[0m \u001b[38;5;244m 0       \u001b[0m \u001b[38;5;244m 0       \u001b[0m \u001b[38;5;244m 1       \u001b[0m  \u001b[0m\n",
       "]"
      ]
     },
     "execution_count": 20,
     "metadata": {},
     "output_type": "execute_result"
    }
   ],
   "source": [
    "x[\"dispose\"][\"poses_A\"]"
   ]
  },
  {
   "cell_type": "code",
   "execution_count": 17,
   "id": "genetic-ultimate",
   "metadata": {},
   "outputs": [
    {
     "ename": "KeyboardInterrupt",
     "evalue": "",
     "output_type": "error",
     "traceback": [
      "\u001b[0;31m---------------------------------------------------------------------------\u001b[0m",
      "\u001b[0;31mKeyboardInterrupt\u001b[0m                         Traceback (most recent call last)",
      "\u001b[0;32m/tmp/ipykernel_730387/2064179754.py\u001b[0m in \u001b[0;36m<module>\u001b[0;34m\u001b[0m\n\u001b[1;32m      2\u001b[0m \u001b[0mi\u001b[0m \u001b[0;34m=\u001b[0m \u001b[0;36m0\u001b[0m \u001b[0;31m#change to 1,2,3...\u001b[0m\u001b[0;34m\u001b[0m\u001b[0;34m\u001b[0m\u001b[0m\n\u001b[1;32m      3\u001b[0m \u001b[0;32mif\u001b[0m \u001b[0mposes\u001b[0m\u001b[0;34m[\u001b[0m\u001b[0;34m\"use_joint_ctrl\"\u001b[0m\u001b[0;34m]\u001b[0m\u001b[0;34m[\u001b[0m\u001b[0mi\u001b[0m\u001b[0;34m]\u001b[0m\u001b[0;34m:\u001b[0m\u001b[0;34m\u001b[0m\u001b[0;34m\u001b[0m\u001b[0m\n\u001b[0;32m----> 4\u001b[0;31m     \u001b[0mcobot\u001b[0m\u001b[0;34m.\u001b[0m\u001b[0mmove_to_joint_pose\u001b[0m\u001b[0;34m(\u001b[0m\u001b[0mposes\u001b[0m\u001b[0;34m[\u001b[0m\u001b[0;34m\"poses_q\"\u001b[0m\u001b[0;34m]\u001b[0m\u001b[0;34m[\u001b[0m\u001b[0mi\u001b[0m\u001b[0;34m]\u001b[0m\u001b[0;34m)\u001b[0m\u001b[0;34m\u001b[0m\u001b[0;34m\u001b[0m\u001b[0m\n\u001b[0m\u001b[1;32m      5\u001b[0m \u001b[0;32melse\u001b[0m\u001b[0;34m:\u001b[0m\u001b[0;34m\u001b[0m\u001b[0;34m\u001b[0m\u001b[0m\n\u001b[1;32m      6\u001b[0m     \u001b[0mcobot\u001b[0m\u001b[0;34m.\u001b[0m\u001b[0mgoTo\u001b[0m\u001b[0;34m(\u001b[0m\u001b[0mposes\u001b[0m\u001b[0;34m[\u001b[0m\u001b[0;34m\"poses_A\"\u001b[0m\u001b[0;34m]\u001b[0m\u001b[0;34m[\u001b[0m\u001b[0mi\u001b[0m\u001b[0;34m]\u001b[0m\u001b[0;34m,\u001b[0m\u001b[0mv_max\u001b[0m\u001b[0;34m=\u001b[0m\u001b[0;36m0.01\u001b[0m\u001b[0;34m)\u001b[0m\u001b[0;34m\u001b[0m\u001b[0;34m\u001b[0m\u001b[0m\n",
      "\u001b[0;32m~/_ros/hr_recycler_ws/src/hrr_cobot/hrr_cobot_robot/src/hrr_cobot_robot/hrr_cobot_handle.py\u001b[0m in \u001b[0;36mmove_to_joint_pose\u001b[0;34m(self, q_des, stochastic)\u001b[0m\n\u001b[1;32m    659\u001b[0m         \u001b[0;31m# alternative motion planner\u001b[0m\u001b[0;34m\u001b[0m\u001b[0;34m\u001b[0m\u001b[0;34m\u001b[0m\u001b[0m\n\u001b[1;32m    660\u001b[0m         \u001b[0;32melse\u001b[0m\u001b[0;34m:\u001b[0m\u001b[0;34m\u001b[0m\u001b[0;34m\u001b[0m\u001b[0m\n\u001b[0;32m--> 661\u001b[0;31m             \u001b[0mlinear_joint_traj\u001b[0m\u001b[0;34m(\u001b[0m\u001b[0;34m)\u001b[0m\u001b[0;34m\u001b[0m\u001b[0;34m\u001b[0m\u001b[0m\n\u001b[0m\u001b[1;32m    662\u001b[0m         \u001b[0mrospy\u001b[0m\u001b[0;34m.\u001b[0m\u001b[0mlogdebug\u001b[0m\u001b[0;34m(\u001b[0m\u001b[0;34m\"re-/deactivate controllers\"\u001b[0m\u001b[0;34m)\u001b[0m\u001b[0;34m\u001b[0m\u001b[0;34m\u001b[0m\u001b[0m\n\u001b[1;32m    663\u001b[0m         \u001b[0mself\u001b[0m\u001b[0;34m.\u001b[0m\u001b[0m_joint_traj_handle\u001b[0m\u001b[0;34m.\u001b[0m\u001b[0mdeactivate\u001b[0m\u001b[0;34m(\u001b[0m\u001b[0;34m)\u001b[0m\u001b[0;34m\u001b[0m\u001b[0;34m\u001b[0m\u001b[0m\n",
      "\u001b[0;32m~/_ros/hr_recycler_ws/src/hrr_cobot/hrr_cobot_robot/src/hrr_cobot_robot/hrr_cobot_handle.py\u001b[0m in \u001b[0;36mlinear_joint_traj\u001b[0;34m()\u001b[0m\n\u001b[1;32m    646\u001b[0m \u001b[0;34m\u001b[0m\u001b[0m\n\u001b[1;32m    647\u001b[0m         \u001b[0;32mdef\u001b[0m \u001b[0mlinear_joint_traj\u001b[0m\u001b[0;34m(\u001b[0m\u001b[0;34m)\u001b[0m\u001b[0;34m:\u001b[0m\u001b[0;34m\u001b[0m\u001b[0;34m\u001b[0m\u001b[0m\n\u001b[0;32m--> 648\u001b[0;31m             \u001b[0mself\u001b[0m\u001b[0;34m.\u001b[0m\u001b[0mexecute_joint_trajectory\u001b[0m\u001b[0;34m(\u001b[0m\u001b[0;32mNone\u001b[0m\u001b[0;34m,\u001b[0m \u001b[0mwait_for_feedback\u001b[0m\u001b[0;34m=\u001b[0m\u001b[0;32mTrue\u001b[0m\u001b[0;34m,\u001b[0m \u001b[0mq_des\u001b[0m\u001b[0;34m=\u001b[0m\u001b[0mq_des\u001b[0m\u001b[0;34m)\u001b[0m\u001b[0;34m\u001b[0m\u001b[0;34m\u001b[0m\u001b[0m\n\u001b[0m\u001b[1;32m    649\u001b[0m \u001b[0;34m\u001b[0m\u001b[0m\n\u001b[1;32m    650\u001b[0m         \u001b[0mdq\u001b[0m \u001b[0;34m=\u001b[0m \u001b[0mnp\u001b[0m\u001b[0;34m.\u001b[0m\u001b[0mlinalg\u001b[0m\u001b[0;34m.\u001b[0m\u001b[0mnorm\u001b[0m\u001b[0;34m(\u001b[0m\u001b[0;34m(\u001b[0m\u001b[0mq_des\u001b[0m \u001b[0;34m-\u001b[0m \u001b[0mself\u001b[0m\u001b[0;34m.\u001b[0m\u001b[0mq\u001b[0m\u001b[0;34m)\u001b[0m\u001b[0;34m[\u001b[0m\u001b[0;34m:\u001b[0m\u001b[0;34m-\u001b[0m\u001b[0;36m1\u001b[0m\u001b[0;34m]\u001b[0m\u001b[0;34m)\u001b[0m\u001b[0;34m\u001b[0m\u001b[0;34m\u001b[0m\u001b[0m\n",
      "\u001b[0;32m~/_ros/hr_recycler_ws/src/hrr_cobot/hrr_cobot_robot/src/hrr_cobot_robot/hrr_cobot_handle.py\u001b[0m in \u001b[0;36mexecute_joint_trajectory\u001b[0;34m(self, joint_traj, wait_for_feedback, q_des)\u001b[0m\n\u001b[1;32m    612\u001b[0m         \u001b[0;32mif\u001b[0m \u001b[0mjoint_traj\u001b[0m \u001b[0;32mis\u001b[0m \u001b[0;32mNone\u001b[0m\u001b[0;34m:\u001b[0m\u001b[0;34m\u001b[0m\u001b[0;34m\u001b[0m\u001b[0m\n\u001b[1;32m    613\u001b[0m             \u001b[0mwait_for_feedback\u001b[0m \u001b[0;34m=\u001b[0m \u001b[0;32mTrue\u001b[0m\u001b[0;34m\u001b[0m\u001b[0;34m\u001b[0m\u001b[0m\n\u001b[0;32m--> 614\u001b[0;31m             self._joint_traj_handle.linear_joint_cmd(self.q, q_des, wait_for_feedback=wait_for_feedback,\n\u001b[0m\u001b[1;32m    615\u001b[0m                                                      print_traj=False)\n\u001b[1;32m    616\u001b[0m         \u001b[0;32melif\u001b[0m \u001b[0misinstance\u001b[0m\u001b[0;34m(\u001b[0m\u001b[0mjoint_traj\u001b[0m\u001b[0;34m,\u001b[0m \u001b[0mnp\u001b[0m\u001b[0;34m.\u001b[0m\u001b[0mndarray\u001b[0m\u001b[0;34m)\u001b[0m\u001b[0;34m:\u001b[0m\u001b[0;34m\u001b[0m\u001b[0;34m\u001b[0m\u001b[0m\n",
      "\u001b[0;32m~/_ros/hr_recycler_ws/src/hrr_cobot/hrr_controllers/src/hrr_controllers/trajectory_handling.py\u001b[0m in \u001b[0;36mlinear_joint_cmd\u001b[0;34m(self, q0, q_des, wps, wait_for_feedback, print_traj)\u001b[0m\n\u001b[1;32m    184\u001b[0m         \u001b[0;32mexcept\u001b[0m \u001b[0mAssertionError\u001b[0m\u001b[0;34m:\u001b[0m\u001b[0;34m\u001b[0m\u001b[0;34m\u001b[0m\u001b[0m\n\u001b[1;32m    185\u001b[0m             \u001b[0;32mreturn\u001b[0m\u001b[0;34m\u001b[0m\u001b[0;34m\u001b[0m\u001b[0m\n\u001b[0;32m--> 186\u001b[0;31m         \u001b[0mself\u001b[0m\u001b[0;34m.\u001b[0m\u001b[0mcommand_joint_trajectory\u001b[0m\u001b[0;34m(\u001b[0m\u001b[0mjnt_trajectory\u001b[0m\u001b[0;34m,\u001b[0m \u001b[0mwait_for_feedback\u001b[0m\u001b[0;34m=\u001b[0m\u001b[0mwait_for_feedback\u001b[0m\u001b[0;34m,\u001b[0m \u001b[0mprint_traj\u001b[0m\u001b[0;34m=\u001b[0m\u001b[0mprint_traj\u001b[0m\u001b[0;34m)\u001b[0m\u001b[0;34m\u001b[0m\u001b[0;34m\u001b[0m\u001b[0m\n\u001b[0m\u001b[1;32m    187\u001b[0m \u001b[0;34m\u001b[0m\u001b[0m\n\u001b[1;32m    188\u001b[0m     \u001b[0;32mdef\u001b[0m \u001b[0mnp2jointGoal\u001b[0m\u001b[0;34m(\u001b[0m\u001b[0mself\u001b[0m\u001b[0;34m,\u001b[0m \u001b[0marr\u001b[0m\u001b[0;34m,\u001b[0m \u001b[0mprint_traj\u001b[0m\u001b[0;34m=\u001b[0m\u001b[0;32mFalse\u001b[0m\u001b[0;34m)\u001b[0m \u001b[0;34m->\u001b[0m \u001b[0mExecuteJointTrajectoryGoal\u001b[0m\u001b[0;34m:\u001b[0m\u001b[0;34m\u001b[0m\u001b[0;34m\u001b[0m\u001b[0m\n",
      "\u001b[0;32m~/_ros/hr_recycler_ws/src/hrr_cobot/hrr_controllers/src/hrr_controllers/trajectory_handling.py\u001b[0m in \u001b[0;36mcommand_joint_trajectory\u001b[0;34m(self, arr, wait_for_feedback, print_traj)\u001b[0m\n\u001b[1;32m    227\u001b[0m         \u001b[0;32mtry\u001b[0m\u001b[0;34m:\u001b[0m\u001b[0;34m\u001b[0m\u001b[0;34m\u001b[0m\u001b[0m\n\u001b[1;32m    228\u001b[0m             \u001b[0mself\u001b[0m\u001b[0;34m.\u001b[0m\u001b[0massert_active\u001b[0m\u001b[0;34m(\u001b[0m\u001b[0;34m)\u001b[0m\u001b[0;34m\u001b[0m\u001b[0;34m\u001b[0m\u001b[0m\n\u001b[0;32m--> 229\u001b[0;31m             send_trajectory(self._jnt_traj_client, self.np2jointGoal(arr, print_traj=print_traj),\n\u001b[0m\u001b[1;32m    230\u001b[0m                             wait_for_feedback=wait_for_feedback)\n\u001b[1;32m    231\u001b[0m         \u001b[0;32mexcept\u001b[0m \u001b[0mAssertionError\u001b[0m \u001b[0;32mas\u001b[0m \u001b[0me\u001b[0m\u001b[0;34m:\u001b[0m\u001b[0;34m\u001b[0m\u001b[0;34m\u001b[0m\u001b[0m\n",
      "\u001b[0;32m~/_ros/hr_recycler_ws/src/hrr_cobot/hrr_controllers/src/hrr_controllers/trajectory_handling.py\u001b[0m in \u001b[0;36msend_trajectory\u001b[0;34m(cl, goal, wait_for_feedback)\u001b[0m\n\u001b[1;32m     41\u001b[0m     \u001b[0mcl\u001b[0m\u001b[0;34m.\u001b[0m\u001b[0msend_goal\u001b[0m\u001b[0;34m(\u001b[0m\u001b[0mgoal\u001b[0m\u001b[0;34m)\u001b[0m\u001b[0;34m\u001b[0m\u001b[0;34m\u001b[0m\u001b[0m\n\u001b[1;32m     42\u001b[0m     \u001b[0;32mif\u001b[0m \u001b[0mwait_for_feedback\u001b[0m\u001b[0;34m:\u001b[0m\u001b[0;34m\u001b[0m\u001b[0;34m\u001b[0m\u001b[0m\n\u001b[0;32m---> 43\u001b[0;31m         \u001b[0mcl\u001b[0m\u001b[0;34m.\u001b[0m\u001b[0mwait_for_result\u001b[0m\u001b[0;34m(\u001b[0m\u001b[0;34m)\u001b[0m\u001b[0;34m\u001b[0m\u001b[0;34m\u001b[0m\u001b[0m\n\u001b[0m\u001b[1;32m     44\u001b[0m         \u001b[0;32mreturn\u001b[0m \u001b[0mcl\u001b[0m\u001b[0;34m.\u001b[0m\u001b[0mget_result\u001b[0m\u001b[0;34m(\u001b[0m\u001b[0;34m)\u001b[0m\u001b[0;34m\u001b[0m\u001b[0;34m\u001b[0m\u001b[0m\n\u001b[1;32m     45\u001b[0m \u001b[0;34m\u001b[0m\u001b[0m\n",
      "\u001b[0;32m/opt/ros/noetic/lib/python3/dist-packages/actionlib/simple_action_client.py\u001b[0m in \u001b[0;36mwait_for_result\u001b[0;34m(self, timeout)\u001b[0m\n\u001b[1;32m    141\u001b[0m                     \u001b[0mtime_left\u001b[0m \u001b[0;34m=\u001b[0m \u001b[0mloop_period\u001b[0m\u001b[0;34m\u001b[0m\u001b[0;34m\u001b[0m\u001b[0m\n\u001b[1;32m    142\u001b[0m \u001b[0;34m\u001b[0m\u001b[0m\n\u001b[0;32m--> 143\u001b[0;31m                 \u001b[0mself\u001b[0m\u001b[0;34m.\u001b[0m\u001b[0mdone_condition\u001b[0m\u001b[0;34m.\u001b[0m\u001b[0mwait\u001b[0m\u001b[0;34m(\u001b[0m\u001b[0mtime_left\u001b[0m\u001b[0;34m.\u001b[0m\u001b[0mto_sec\u001b[0m\u001b[0;34m(\u001b[0m\u001b[0;34m)\u001b[0m\u001b[0;34m)\u001b[0m\u001b[0;34m\u001b[0m\u001b[0;34m\u001b[0m\u001b[0m\n\u001b[0m\u001b[1;32m    144\u001b[0m \u001b[0;34m\u001b[0m\u001b[0m\n\u001b[1;32m    145\u001b[0m         \u001b[0;32mreturn\u001b[0m \u001b[0mself\u001b[0m\u001b[0;34m.\u001b[0m\u001b[0msimple_state\u001b[0m \u001b[0;34m==\u001b[0m \u001b[0mSimpleGoalState\u001b[0m\u001b[0;34m.\u001b[0m\u001b[0mDONE\u001b[0m\u001b[0;34m\u001b[0m\u001b[0;34m\u001b[0m\u001b[0m\n",
      "\u001b[0;32m~/anaconda3/envs/hrr/lib/python3.8/threading.py\u001b[0m in \u001b[0;36mwait\u001b[0;34m(self, timeout)\u001b[0m\n\u001b[1;32m    304\u001b[0m             \u001b[0;32melse\u001b[0m\u001b[0;34m:\u001b[0m\u001b[0;34m\u001b[0m\u001b[0;34m\u001b[0m\u001b[0m\n\u001b[1;32m    305\u001b[0m                 \u001b[0;32mif\u001b[0m \u001b[0mtimeout\u001b[0m \u001b[0;34m>\u001b[0m \u001b[0;36m0\u001b[0m\u001b[0;34m:\u001b[0m\u001b[0;34m\u001b[0m\u001b[0;34m\u001b[0m\u001b[0m\n\u001b[0;32m--> 306\u001b[0;31m                     \u001b[0mgotit\u001b[0m \u001b[0;34m=\u001b[0m \u001b[0mwaiter\u001b[0m\u001b[0;34m.\u001b[0m\u001b[0macquire\u001b[0m\u001b[0;34m(\u001b[0m\u001b[0;32mTrue\u001b[0m\u001b[0;34m,\u001b[0m \u001b[0mtimeout\u001b[0m\u001b[0;34m)\u001b[0m\u001b[0;34m\u001b[0m\u001b[0;34m\u001b[0m\u001b[0m\n\u001b[0m\u001b[1;32m    307\u001b[0m                 \u001b[0;32melse\u001b[0m\u001b[0;34m:\u001b[0m\u001b[0;34m\u001b[0m\u001b[0;34m\u001b[0m\u001b[0m\n\u001b[1;32m    308\u001b[0m                     \u001b[0mgotit\u001b[0m \u001b[0;34m=\u001b[0m \u001b[0mwaiter\u001b[0m\u001b[0;34m.\u001b[0m\u001b[0macquire\u001b[0m\u001b[0;34m(\u001b[0m\u001b[0;32mFalse\u001b[0m\u001b[0;34m)\u001b[0m\u001b[0;34m\u001b[0m\u001b[0;34m\u001b[0m\u001b[0m\n",
      "\u001b[0;31mKeyboardInterrupt\u001b[0m: "
     ]
    }
   ],
   "source": [
    "#Manual loop\n",
    "i = 0 #change to 1,2,3...\n",
    "if poses[\"use_joint_ctrl\"][i]:\n",
    "    cobot.move_to_joint_pose(poses[\"poses_q\"][i]) \n",
    "else:\n",
    "    cobot.goTo(poses[\"poses_A\"][i],v_max=0.01) \n",
    "if poses[\"open_tc\"][i]:\n",
    "    rospy.sleep(0.5)\n",
    "    cobot.open_tool_changer(force=True)"
   ]
  },
  {
   "cell_type": "code",
   "execution_count": 58,
   "id": "romantic-recruitment",
   "metadata": {},
   "outputs": [],
   "source": [
    "#Automatic runthrough\n",
    "for i in range(len(poses[\"poses_A\"])):\n",
    "    if poses[\"use_joint_ctrl\"][i]:\n",
    "        rospy.sleep(0.5)\n",
    "        cobot.move_to_joint_pose(poses[\"poses_q\"][i]) \n",
    "    else:\n",
    "        rospy.sleep(0.5)\n",
    "        cobot.goTo(poses[\"poses_A\"][i],v_max=0.01) \n",
    "    if poses[\"open_tc\"][i]:\n",
    "        rospy.sleep(0.5)\n",
    "        cobot.open_tool_changer(force=True)"
   ]
  },
  {
   "cell_type": "code",
   "execution_count": 7,
   "id": "bda9590c",
   "metadata": {},
   "outputs": [],
   "source": [
    "twoCutting_q = np.load(\"twoCutting_q.npy\")"
   ]
  },
  {
   "cell_type": "code",
   "execution_count": 14,
   "id": "55754767",
   "metadata": {},
   "outputs": [],
   "source": [
    "nextCutting_q = np.load(\"nextCutting_q.npy\")"
   ]
  },
  {
   "cell_type": "code",
   "execution_count": 8,
   "id": "4f2ce063",
   "metadata": {},
   "outputs": [
    {
     "data": {
      "text/plain": [
       "array([ 0.59162,  0.24501, -1.86247, -1.63102,  1.49799,  3.68177])"
      ]
     },
     "execution_count": 8,
     "metadata": {},
     "output_type": "execute_result"
    }
   ],
   "source": [
    "twoCutting_q[0]"
   ]
  },
  {
   "cell_type": "code",
   "execution_count": 10,
   "id": "2bcd87e3",
   "metadata": {},
   "outputs": [],
   "source": [
    "cobot.move_to_joint_pose(twoCutting_q[0]) "
   ]
  },
  {
   "cell_type": "code",
   "execution_count": 14,
   "id": "69ae33a8",
   "metadata": {},
   "outputs": [],
   "source": [
    "cobot.move_to_joint_pose(twoCutting_q[1]) "
   ]
  },
  {
   "cell_type": "code",
   "execution_count": null,
   "id": "c47f95f3",
   "metadata": {},
   "outputs": [],
   "source": [
    "cobot.move_to_joint_pose(twoCutting_q[1]) "
   ]
  }
 ],
 "metadata": {
  "kernelspec": {
   "display_name": "Python 3 (ipykernel)",
   "language": "python",
   "name": "python3"
  },
  "language_info": {
   "codemirror_mode": {
    "name": "ipython",
    "version": 3
   },
   "file_extension": ".py",
   "mimetype": "text/x-python",
   "name": "python",
   "nbconvert_exporter": "python",
   "pygments_lexer": "ipython3",
   "version": "3.8.12"
  },
  "latex_envs": {
   "LaTeX_envs_menu_present": true,
   "autoclose": false,
   "autocomplete": true,
   "bibliofile": "biblio.bib",
   "cite_by": "apalike",
   "current_citInitial": 1,
   "eqLabelWithNumbers": true,
   "eqNumInitial": 1,
   "hotkeys": {
    "equation": "Ctrl-E",
    "itemize": "Ctrl-I"
   },
   "labels_anchors": false,
   "latex_user_defs": false,
   "report_style_numbering": false,
   "user_envs_cfg": false
  },
  "toc": {
   "base_numbering": 1,
   "nav_menu": {},
   "number_sections": true,
   "sideBar": true,
   "skip_h1_title": false,
   "title_cell": "Table of Contents",
   "title_sidebar": "Contents",
   "toc_cell": false,
   "toc_position": {},
   "toc_section_display": true,
   "toc_window_display": false
  }
 },
 "nbformat": 4,
 "nbformat_minor": 5
}
