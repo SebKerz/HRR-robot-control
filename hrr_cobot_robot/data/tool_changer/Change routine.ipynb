{
 "cells": [
  {
   "cell_type": "code",
   "execution_count": 1,
   "id": "dd88d1a8",
   "metadata": {},
   "outputs": [],
   "source": [
    "import numpy as np\n",
    "#import hrr_cobot_robot\n",
    "import spatialmath as sm\n",
    "import rospy\n",
    "np.set_printoptions(precision=5, suppress=True)"
   ]
  },
  {
   "cell_type": "code",
   "execution_count": 2,
   "id": "8178760f",
   "metadata": {},
   "outputs": [],
   "source": [
    "# #This is usually unnecessary\n",
    "# def get_hostname_and_IP():\n",
    "#     import socket\n",
    "#     with socket.socket(socket.AF_INET, socket.SOCK_DGRAM) as s:\n",
    "#         s.connect((\"8.8.8.8\", 80))\n",
    "#         return socket.gethostname(), s.getsockname()[0]\n",
    "\n",
    "# _host, _ip = get_hostname_and_IP()\n",
    "# %env ROS_MASTER_URI=http://127.0.0.1:11311\n",
    "# # %env ROS_MASTER_URI=http://hrrcobotLinux54:11311\n",
    "# print(f\"\\t\\033[1m\\033[4m!!!please check that the IPs below is identical!!!\\033[0m\"+\n",
    "#       f\"\\n\\thost {_host} has IP {_ip}, which should be identical to\",end=\"\\nvs:\\t\")\n",
    "# %env ROS_IP=$_ip"
   ]
  },
  {
   "cell_type": "code",
   "execution_count": 3,
   "id": "777bf0e8",
   "metadata": {},
   "outputs": [],
   "source": [
    "rospy.init_node(\"NotebookDev_Changepositions2\")"
   ]
  },
  {
   "cell_type": "code",
   "execution_count": 4,
   "id": "60d852f9",
   "metadata": {},
   "outputs": [
    {
     "name": "stdout",
     "output_type": "stream",
     "text": [
      "[rosout] [/NotebookDev_Changepositions2] Initialize MATLAB-Motion planner @ /home/hrr_cobot/_ros/hr_recycler_ws/src/planner/src\n",
      "[rosout] [/NotebookDev_Changepositions2] connected to Matlab\n",
      "The value of the ROS_IP environment variable, 192.168.2.87, will be used to set the advertised address for the ROS node.\n",
      "Initializing global node /matlab_global_node_32420 with NodeURI http://192.168.2.87:45077/\n",
      "[rosout] [/NotebookDev_Changepositions2] MATLAB-Initialization done\n"
     ]
    },
    {
     "name": "stderr",
     "output_type": "stream",
     "text": [
      "pybullet build time: May  8 2021 05:48:13\n"
     ]
    },
    {
     "name": "stdout",
     "output_type": "stream",
     "text": [
      "[rosout] some functions are not yet compiled. Expect delays upon first call\n"
     ]
    }
   ],
   "source": [
    "import hrr_cobot_robot as hrr_rob\n",
    "cobot = hrr_rob.HrrCobotControl.from_ros(\"/hrr_cobot\")"
   ]
  },
  {
   "cell_type": "code",
   "execution_count": 5,
   "id": "b540437b",
   "metadata": {},
   "outputs": [
    {
     "name": "stdout",
     "output_type": "stream",
     "text": [
      "Hrr-Cobot state:\n",
      "FT-data:\n",
      "current force:\t[ 24.74396  -8.16138 -24.81152] [N]\n",
      "current torque:\t[-24.79828  21.7511    3.42749] [Nm]\n",
      "current wrench:\t[ 24.70422  -8.12325 -24.73078 -24.81956  21.75493   3.43898] [N,Nm]\n",
      "=>in contact:\tTrue\n",
      "---\n",
      "Robot-data:\n",
      "q:\t\t[ 145.9549    53.62703 -114.94745    0.11796  -79.84449   91.84506][°]\n",
      "q_dot:\t\t[0. 0. 0. 0. 0. 0.][rad/s]\n",
      "tau:\t\t[0. 0. 0. 0. 0. 0.][Nm]\n",
      "pos:\t\t[-0.45842 -0.30993  0.21781][m]\n",
      "quat:\t\t0.34499 <[-0.31728 -0.6231   0.62615]>\n",
      "tool-pos:\t[-0.45842 -0.30993  0.21781][m]\n",
      "tool-rpy:\t[176.26097 -55.81803  87.73916][°]\n",
      "robot-status:\tready\n",
      "---\n"
     ]
    }
   ],
   "source": [
    "print(cobot)"
   ]
  },
  {
   "cell_type": "code",
   "execution_count": null,
   "id": "1f9bf5de",
   "metadata": {},
   "outputs": [],
   "source": [
    "cobot.change_tool(\"nothing\")"
   ]
  },
  {
   "cell_type": "code",
   "execution_count": null,
   "id": "6839dc6d",
   "metadata": {},
   "outputs": [],
   "source": [
    "cobot.change_tool(\"screwdriver\")"
   ]
  },
  {
   "cell_type": "code",
   "execution_count": null,
   "id": "e33b38b4",
   "metadata": {},
   "outputs": [],
   "source": [
    "cobot.T_B_E_robot, np.rad2deg(cobot.q)"
   ]
  },
  {
   "cell_type": "code",
   "execution_count": null,
   "id": "5e0eab2f",
   "metadata": {},
   "outputs": [],
   "source": [
    "cobot.stop()"
   ]
  },
  {
   "cell_type": "code",
   "execution_count": 7,
   "id": "8dd9aed9",
   "metadata": {},
   "outputs": [],
   "source": [
    "q_des = np.r_[ 1.34109,  0.09328, -1.44435, -0.01627,  0.67686, -0.00009]\n"
   ]
  },
  {
   "cell_type": "code",
   "execution_count": 7,
   "id": "66a348a0",
   "metadata": {},
   "outputs": [
    {
     "data": {
      "text/plain": [
       "(array([ 1.7797 ,  0.29935, -0.78164, -0.01453,  1.09394, -1.13418]),\n",
       " array([ 1.34109,  0.09328, -1.44435, -0.01627,  0.67686, -0.00009]))"
      ]
     },
     "execution_count": 7,
     "metadata": {},
     "output_type": "execute_result"
    }
   ],
   "source": [
    "cobot.q,q_des"
   ]
  },
  {
   "cell_type": "code",
   "execution_count": 8,
   "id": "6321e90a",
   "metadata": {},
   "outputs": [
    {
     "name": "stdout",
     "output_type": "stream",
     "text": [
      "Warning: No topic to subscribe. Using default device type, light.\n",
      "> In HrRecyclerPerecptioPipeline (line 17)\n",
      "Warning: No topic to subscribe. Using default center,[50 -37 16.8].\n",
      "> In HrRecyclerPerecptioPipeline (line 24)\n",
      "Warning: Integer operands are required for colon operator when used as index.\n",
      "> In gpmp2.test3Ddataset>add_obstacle (line 245)\n",
      "In gpmp2.test3Ddataset (line 48)\n",
      "In HrRecyclerPerecptioPipeline (line 51)\n",
      "\n",
      "Warning: Integer operands are required for colon operator when used as index.\n",
      "> In gpmp2.test3Ddataset>add_obstacle (line 245)\n",
      "In gpmp2.test3Ddataset (line 49)\n",
      "In HrRecyclerPerecptioPipeline (line 51)\n",
      "\n",
      "calculating signed distance field ...\n",
      "calculating signed distance field done\n",
      "Elapsed time is 6.526431 seconds.\n",
      "Elapsed time is 0.119776 seconds.\n"
     ]
    },
    {
     "name": "stderr",
     "output_type": "stream",
     "text": [
      "[rosout] [/NotebookDev_Changepositions2] Planner is done and execution is running ...\n"
     ]
    }
   ],
   "source": [
    "cobot.move_to_joint_pose(q_des, stochastic=True)"
   ]
  },
  {
   "cell_type": "markdown",
   "id": "removed-angola",
   "metadata": {},
   "source": [
    "# Brief introduction\n",
    "\n",
    "The tool change routine consists of two parts: pickup and disposal of a tool. For each tool, a sequence of positions for both pickup and dispose is recorded manually and saved in a python dictionary, with some additional information. Whenever a tool is changed with the actual action service, the corresponding dictionary is loaded and the robot moves through the positions in sequential order. The dictionaries look like this:\n",
    "```\n",
    "vacuum_2 = {\n",
    "    \"pickup\": \n",
    "        {\"poses_A\": pickA, \"poses_q\": pickq,\n",
    "        \"close_tc\": pickc, \"use_joint_ctrl\": pickj},\n",
    "     \"dispose\":\n",
    "        {\"poses_A\": dispA, \"poses_q\": dispq,\n",
    "        \"open_tc\": dispo, \"use_joint_ctrl\": dispj}\n",
    "    }\n",
    "np.save(\"vacuum_2\", vacuum_2)\n",
    "```\n",
    "Here the name vacuum_2 indicates that the dict concerns the vacuum gripper placed at the 2nd toolrack position.\n",
    "\n",
    "vacuum2[\"pickup\"] is a dict that contains several lists of equal length:\n",
    "\n",
    "vacuum2[\"pickup\"][\"poses_A\"]: A list of spatialmath SE3 objects with the pose of the robot\n",
    "\n",
    "vacuum2[\"pickup\"][\"poses_q\"]: A list of np.arrays with the corresponding joints of the robot\n",
    "\n",
    "vacuum2[\"pickup\"][\"close_tc\"]: A list of 0s and a single 1 indicating wether tool changer should close after arrival\n",
    "\n",
    "vacuum2[\"pickup\"][\"use_joint_ctrl\"]: A list of 0s and 1s indicating wether the robot should move linearly in joint space instead of in cartesian, in order to reach the position.\n",
    "\n",
    "Here is an example of the pickup routine in action:\n",
    "```\n",
    "x = vacuum_2[\"pickup\"]\n",
    "for i in range(len(x[\"close_tc\"])):\n",
    "    if x[\"use_joint_ctrl\"][i]:\n",
    "        cobot.move_to_joint_pose(x[\"poses_q\"][i])\n",
    "    else:\n",
    "        cobot.goTo(x[\"poses_A\"][i],v_max=0.01)\n",
    "    if x[\"close_tc\"][i]:   \n",
    "        #close tool changer\n",
    "\n",
    "```\n",
    "dispose routine is similiar, only \"open_tc\" instead of \"close_tc\".\n",
    "\n",
    "At the beginning, the robot is in calibration pose with base joint turned so that the robot faces the begining of the toolrack.\n"
   ]
  },
  {
   "cell_type": "markdown",
   "id": "58c5f344",
   "metadata": {},
   "source": [
    "# Record a fully new routine"
   ]
  },
  {
   "cell_type": "markdown",
   "id": "surrounded-excitement",
   "metadata": {},
   "source": [
    "## Record the pickup routine\n"
   ]
  },
  {
   "cell_type": "markdown",
   "id": "empirical-motor",
   "metadata": {},
   "source": [
    "### [Optional] Place robot in starting position - The first saved position should be reachable from here or anywhere above the tool rack without collision."
   ]
  },
  {
   "cell_type": "code",
   "execution_count": null,
   "id": "68572d9f",
   "metadata": {},
   "outputs": [],
   "source": [
    "cobot.stop()"
   ]
  },
  {
   "cell_type": "code",
   "execution_count": null,
   "id": "d438db28",
   "metadata": {},
   "outputs": [],
   "source": [
    "cobot.q_calib"
   ]
  },
  {
   "cell_type": "code",
   "execution_count": null,
   "id": "exotic-scientist",
   "metadata": {},
   "outputs": [],
   "source": [
    "start=cobot.q_calib\n",
    "start[0]=np.deg2rad(70)"
   ]
  },
  {
   "cell_type": "code",
   "execution_count": null,
   "id": "accurate-arkansas",
   "metadata": {},
   "outputs": [],
   "source": [
    "cobot.move_to_joint_pose(start)\n",
    "#cobot.goTo(cobot.FK(start),v_max = 0.05)"
   ]
  },
  {
   "cell_type": "code",
   "execution_count": 15,
   "id": "40221801",
   "metadata": {},
   "outputs": [],
   "source": [
    "cobot.close_tool_changer()"
   ]
  },
  {
   "cell_type": "code",
   "execution_count": 48,
   "id": "6c8cdc74",
   "metadata": {},
   "outputs": [],
   "source": [
    "cobot.open_tool_changer()"
   ]
  },
  {
   "cell_type": "markdown",
   "id": "coordinate-celtic",
   "metadata": {},
   "source": [
    "### Initialize lists, move robot manually and append info to the lists at each important pose."
   ]
  },
  {
   "cell_type": "code",
   "execution_count": null,
   "id": "c36a21c5",
   "metadata": {},
   "outputs": [],
   "source": [
    "print(cobot)"
   ]
  },
  {
   "cell_type": "code",
   "execution_count": null,
   "id": "bc488362",
   "metadata": {},
   "outputs": [],
   "source": [
    "cobot.T_B_E_robot"
   ]
  },
  {
   "cell_type": "code",
   "execution_count": null,
   "id": "bottom-suspension",
   "metadata": {},
   "outputs": [],
   "source": [
    "pick_A = []\n",
    "pick_q = []\n",
    "pick_close_tc = []\n",
    "pick_joint_ctrl = []"
   ]
  },
  {
   "cell_type": "code",
   "execution_count": null,
   "id": "d29890dd",
   "metadata": {},
   "outputs": [],
   "source": [
    "pick_A"
   ]
  },
  {
   "cell_type": "code",
   "execution_count": null,
   "id": "afraid-surface",
   "metadata": {},
   "outputs": [],
   "source": [
    "# Run this cell for each position you want saved in the sequence\n",
    "# have the calibration pose as first pose\n",
    "## first position will be reached via motion planner and last one: motion planner works again, \n",
    "#then will go to calibration pose\n",
    "pick_A.append(cobot.T_B_E_robot)\n",
    "pick_q.append(cobot.q)\n",
    "pick_close_tc.append(0) #Set to 1 if the current pose is the one where tool changer is closed\n",
    "pick_joint_ctrl.append(0) #Set to 1 if the current pose was reached by joint control\n",
    "#pick_A"
   ]
  },
  {
   "cell_type": "code",
   "execution_count": null,
   "id": "f1b5af8c",
   "metadata": {},
   "outputs": [],
   "source": [
    "pick_A[0].t[2]=pick_A[0].t[2]-0.03\n"
   ]
  },
  {
   "cell_type": "code",
   "execution_count": null,
   "id": "461b8ab6",
   "metadata": {},
   "outputs": [],
   "source": [
    "pick_joint_ctrl.append(pick_joint_ctrl[0])"
   ]
  },
  {
   "cell_type": "code",
   "execution_count": null,
   "id": "d98fab62",
   "metadata": {},
   "outputs": [],
   "source": [
    "pick_joint_ctrl.insert(-3, 0)"
   ]
  },
  {
   "cell_type": "code",
   "execution_count": null,
   "id": "4ca25aa5",
   "metadata": {},
   "outputs": [],
   "source": [
    "pick_close_tc[7] = 0"
   ]
  },
  {
   "cell_type": "code",
   "execution_count": null,
   "id": "64666017",
   "metadata": {},
   "outputs": [],
   "source": [
    "pick_close_tc"
   ]
  },
  {
   "cell_type": "code",
   "execution_count": null,
   "id": "f9640bc8",
   "metadata": {},
   "outputs": [],
   "source": [
    "pick_A.append(pick_A_last)"
   ]
  },
  {
   "cell_type": "code",
   "execution_count": null,
   "id": "3192dbaa",
   "metadata": {},
   "outputs": [],
   "source": [
    "pick_close_tc.insert(0, pick_close_tc[-1])"
   ]
  },
  {
   "cell_type": "code",
   "execution_count": null,
   "id": "bef7b215",
   "metadata": {},
   "outputs": [],
   "source": [
    "pick_joint_ctrl.insert(0, pick_joint_ctrl[-1])"
   ]
  },
  {
   "cell_type": "code",
   "execution_count": null,
   "id": "c92181ff",
   "metadata": {},
   "outputs": [],
   "source": [
    "pick_A[-3], pick_A[-4] = pick_A[-4], pick_A[-3]"
   ]
  },
  {
   "cell_type": "code",
   "execution_count": null,
   "id": "328126e6",
   "metadata": {},
   "outputs": [],
   "source": [
    "a = sm.SE3()\n",
    "a.A[:4,:4] = [[-0.5543 , -0.0128 , -0.83222, -0.59505],\n",
    "       [ 0.83121, -0.0602 , -0.55269, -0.1921],\n",
    "       [-0.04302, -0.9981 ,  0.04401,  0.2394],\n",
    "       [ 0.     ,  0.     ,  0.     ,  1.     ]]"
   ]
  },
  {
   "cell_type": "code",
   "execution_count": null,
   "id": "4373e12f",
   "metadata": {},
   "outputs": [],
   "source": [
    "pick_A = "
   ]
  },
  {
   "cell_type": "code",
   "execution_count": null,
   "id": "4f45edd4",
   "metadata": {},
   "outputs": [],
   "source": [
    "a"
   ]
  },
  {
   "cell_type": "code",
   "execution_count": null,
   "id": "eceb1fd1",
   "metadata": {},
   "outputs": [],
   "source": [
    "pick_A = np.load(\"screwdriver_6_final_4.npy\",allow_pickle=True).item()\n",
    "pick_A"
   ]
  },
  {
   "cell_type": "code",
   "execution_count": null,
   "id": "b5b9238a",
   "metadata": {},
   "outputs": [],
   "source": [
    "-0.1911 - 0.001"
   ]
  },
  {
   "cell_type": "code",
   "execution_count": null,
   "id": "51a1b813",
   "metadata": {},
   "outputs": [],
   "source": [
    "pick_A_star[3] = pick_A[0]"
   ]
  },
  {
   "cell_type": "code",
   "execution_count": null,
   "id": "43761352",
   "metadata": {},
   "outputs": [],
   "source": [
    "pick_q_star[3] = pick_q[0]"
   ]
  },
  {
   "cell_type": "code",
   "execution_count": null,
   "id": "fdd480a3",
   "metadata": {},
   "outputs": [],
   "source": [
    "pick_A_star = x[\"pickup\"][\"poses_A\"]\n"
   ]
  },
  {
   "cell_type": "code",
   "execution_count": null,
   "id": "f0120f89",
   "metadata": {},
   "outputs": [],
   "source": [
    "pick_q_star = x[\"pickup\"][\"poses_q\"]\n",
    "#2.8757 ,  1.01699, -1.76747,  0.33417, -1.27525,  1.41246\n"
   ]
  },
  {
   "cell_type": "code",
   "execution_count": null,
   "id": "152b9287",
   "metadata": {},
   "outputs": [],
   "source": [
    "cobot.q"
   ]
  },
  {
   "cell_type": "code",
   "execution_count": null,
   "id": "cbf402d9",
   "metadata": {},
   "outputs": [],
   "source": [
    "pick_close_tc_star = x[\"pickup\"][\"close_tc\"]\n"
   ]
  },
  {
   "cell_type": "code",
   "execution_count": null,
   "id": "3391a7aa",
   "metadata": {},
   "outputs": [],
   "source": [
    "pick_joint_ctrl_star= x[\"pickup\"][\"use_joint_ctrl\"]\n"
   ]
  },
  {
   "cell_type": "code",
   "execution_count": null,
   "id": "f5ba5a47",
   "metadata": {},
   "outputs": [],
   "source": [
    "pick_close_tc_star[3] = pick_close_tc[0]"
   ]
  },
  {
   "cell_type": "code",
   "execution_count": null,
   "id": "7489d328",
   "metadata": {},
   "outputs": [],
   "source": [
    "pick_joint_ctrl_star[3] =pick_joint_ctrl[0]"
   ]
  },
  {
   "cell_type": "code",
   "execution_count": null,
   "id": "57893a75",
   "metadata": {},
   "outputs": [],
   "source": [
    "pick_joint_ctrl_star"
   ]
  },
  {
   "cell_type": "code",
   "execution_count": null,
   "id": "46b4b25a",
   "metadata": {},
   "outputs": [],
   "source": [
    "x[\"pickup\"]"
   ]
  },
  {
   "cell_type": "markdown",
   "id": "retained-villa",
   "metadata": {},
   "source": [
    "Make sure that the last position is safe such that the robot can go to calibration pose without collision!"
   ]
  },
  {
   "cell_type": "markdown",
   "id": "advisory-empty",
   "metadata": {},
   "source": [
    "## Disposal"
   ]
  },
  {
   "cell_type": "code",
   "execution_count": null,
   "id": "sized-somerset",
   "metadata": {},
   "outputs": [],
   "source": [
    "start=cobot.q_calib\n",
    "start[0]=np.deg2rad(70)\n",
    "#cobot.move_to_joint_pose(start)\n",
    "cobot.goTo(cobot.FK(start),v_max = 0.05)"
   ]
  },
  {
   "cell_type": "code",
   "execution_count": null,
   "id": "healthy-organization",
   "metadata": {},
   "outputs": [],
   "source": [
    "disp_A = []\n",
    "disp_q = []\n",
    "disp_open_tc = []\n",
    "disp_joint_ctrl = []"
   ]
  },
  {
   "cell_type": "code",
   "execution_count": null,
   "id": "tracked-flood",
   "metadata": {},
   "outputs": [],
   "source": [
    "cobot.update_tf()\n",
    "disp_A.append(cobot.T_B_E_robot)\n",
    "disp_q.append(cobot.q)\n",
    "disp_open_tc.append(0) #Set to 1 if the current pose is the one where tool changer is opened\n",
    "disp_joint_ctrl.append(0) #Set to 1 if the current pose was reached by joint control\n",
    "disp_A"
   ]
  },
  {
   "cell_type": "code",
   "execution_count": null,
   "id": "f9551b57",
   "metadata": {},
   "outputs": [],
   "source": [
    "disp_A = [disp_A[0],disp_A[2],disp_A[1],disp_A[2],disp_A[3]]\n",
    "disp_q = [disp_q[0],disp_q[2],disp_q[1],disp_q[2],disp_q[3]]\n",
    "disp_open_tc = [0,0,1,0,0]\n",
    "disp_joint_ctrl = [disp_joint_ctrl[0],disp_joint_ctrl[2],disp_joint_ctrl[1],disp_joint_ctrl[2],disp_joint_ctrl[3]]"
   ]
  },
  {
   "cell_type": "code",
   "execution_count": null,
   "id": "11b7deb3",
   "metadata": {},
   "outputs": [],
   "source": [
    "disp_joint_ctrl"
   ]
  },
  {
   "cell_type": "code",
   "execution_count": null,
   "id": "4f47434b",
   "metadata": {},
   "outputs": [],
   "source": [
    "disp_joint_ctrl.append(disp_joint_ctrl[1])"
   ]
  },
  {
   "cell_type": "code",
   "execution_count": null,
   "id": "1411fffe",
   "metadata": {},
   "outputs": [],
   "source": [
    "disp_joint_ctrl.append(temp)"
   ]
  },
  {
   "cell_type": "code",
   "execution_count": null,
   "id": "cd9ee5e3",
   "metadata": {},
   "outputs": [],
   "source": [
    "disp_A"
   ]
  },
  {
   "cell_type": "code",
   "execution_count": null,
   "id": "e73a0e95",
   "metadata": {},
   "outputs": [],
   "source": [
    "disp_joint_ctrl[-1]=1"
   ]
  },
  {
   "cell_type": "code",
   "execution_count": null,
   "id": "07d8db26",
   "metadata": {},
   "outputs": [],
   "source": [
    "disp_open_tc[1] = 1"
   ]
  },
  {
   "cell_type": "code",
   "execution_count": null,
   "id": "da1632a9",
   "metadata": {},
   "outputs": [],
   "source": [
    "disp_open_tc"
   ]
  },
  {
   "cell_type": "code",
   "execution_count": null,
   "id": "23998343",
   "metadata": {},
   "outputs": [],
   "source": [
    "np.save(\"nextCutting_q\", disp_q, allow_pickle=True)"
   ]
  },
  {
   "cell_type": "markdown",
   "id": "significant-trader",
   "metadata": {},
   "source": [
    "Make sure that the last position is safe such that the robot can go to calibration pose or\n",
    "anywhere above the toolracks without collision\n"
   ]
  },
  {
   "cell_type": "markdown",
   "id": "bored-california",
   "metadata": {},
   "source": [
    "## Save the routine\n",
    "Possibly change the name in the last line from \"vacuum_2\" to shaftgrinder_1, wsg_3, ... see directory or below. Be careful with overwriting!"
   ]
  },
  {
   "cell_type": "code",
   "execution_count": null,
   "id": "fundamental-passing",
   "metadata": {},
   "outputs": [],
   "source": [
    "x = {\n",
    "    \"pickup\": \n",
    "        {\"poses_A\": pick_A, \"poses_q\": pick_q,\n",
    "        \"close_tc\": pick_close_tc, \"use_joint_ctrl\": pick_joint_ctrl},\n",
    "     \"dispose\":\n",
    "        {\"poses_A\": list(reversed(pick_A)), \"poses_q\": list(reversed(pick_q)),\n",
    "        \"open_tc\": list(reversed(pick_close_tc)), \"use_joint_ctrl\": list(reversed(pick_joint_ctrl))}\n",
    "        \n",
    "    }\n",
    "np.save(\"wsg_3_final.npy\", x, allow_pickle=True)"
   ]
  },
  {
   "cell_type": "code",
   "execution_count": 17,
   "id": "1865f8f8",
   "metadata": {},
   "outputs": [
    {
     "data": {
      "text/plain": [
       "({'poses_A': [  \u001b[38;5;1m 0.6174  \u001b[0m \u001b[38;5;1m-0.7328  \u001b[0m \u001b[38;5;1m-0.2859  \u001b[0m \u001b[38;5;4m-0.3993  \u001b[0m  \u001b[0m\n",
       "  \u001b[38;5;1m-0.7795  \u001b[0m \u001b[38;5;1m-0.5214  \u001b[0m \u001b[38;5;1m-0.3471  \u001b[0m \u001b[38;5;4m-0.4496  \u001b[0m  \u001b[0m\n",
       "  \u001b[38;5;1m 0.1053  \u001b[0m \u001b[38;5;1m 0.4372  \u001b[0m \u001b[38;5;1m-0.8932  \u001b[0m \u001b[38;5;4m 0.7214  \u001b[0m  \u001b[0m\n",
       "  \u001b[38;5;244m 0       \u001b[0m \u001b[38;5;244m 0       \u001b[0m \u001b[38;5;244m 0       \u001b[0m \u001b[38;5;244m 1       \u001b[0m  \u001b[0m\n",
       ",\n",
       "     \u001b[38;5;1m 0.5605  \u001b[0m \u001b[38;5;1m-0.8281  \u001b[0m \u001b[38;5;1m 0.01202 \u001b[0m \u001b[38;5;4m-0.4656  \u001b[0m  \u001b[0m\n",
       "  \u001b[38;5;1m-0.8281  \u001b[0m \u001b[38;5;1m-0.5606  \u001b[0m \u001b[38;5;1m-0.00861 \u001b[0m \u001b[38;5;4m-0.521   \u001b[0m  \u001b[0m\n",
       "  \u001b[38;5;1m 0.01387 \u001b[0m \u001b[38;5;1m-0.005131\u001b[0m \u001b[38;5;1m-0.9999  \u001b[0m \u001b[38;5;4m 0.5417  \u001b[0m  \u001b[0m\n",
       "  \u001b[38;5;244m 0       \u001b[0m \u001b[38;5;244m 0       \u001b[0m \u001b[38;5;244m 0       \u001b[0m \u001b[38;5;244m 1       \u001b[0m  \u001b[0m\n",
       ",\n",
       "     \u001b[38;5;1m 0.5605  \u001b[0m \u001b[38;5;1m-0.8281  \u001b[0m \u001b[38;5;1m 0.01198 \u001b[0m \u001b[38;5;4m-0.4656  \u001b[0m  \u001b[0m\n",
       "  \u001b[38;5;1m-0.8281  \u001b[0m \u001b[38;5;1m-0.5606  \u001b[0m \u001b[38;5;1m-0.00865 \u001b[0m \u001b[38;5;4m-0.521   \u001b[0m  \u001b[0m\n",
       "  \u001b[38;5;1m 0.01388 \u001b[0m \u001b[38;5;1m-0.005075\u001b[0m \u001b[38;5;1m-0.9999  \u001b[0m \u001b[38;5;4m 0.3689  \u001b[0m  \u001b[0m\n",
       "  \u001b[38;5;244m 0       \u001b[0m \u001b[38;5;244m 0       \u001b[0m \u001b[38;5;244m 0       \u001b[0m \u001b[38;5;244m 1       \u001b[0m  \u001b[0m\n",
       ",\n",
       "     \u001b[38;5;1m 0.5605  \u001b[0m \u001b[38;5;1m-0.8281  \u001b[0m \u001b[38;5;1m 0.01202 \u001b[0m \u001b[38;5;4m-0.4656  \u001b[0m  \u001b[0m\n",
       "  \u001b[38;5;1m-0.8281  \u001b[0m \u001b[38;5;1m-0.5606  \u001b[0m \u001b[38;5;1m-0.008617\u001b[0m \u001b[38;5;4m-0.521   \u001b[0m  \u001b[0m\n",
       "  \u001b[38;5;1m 0.01387 \u001b[0m \u001b[38;5;1m-0.005122\u001b[0m \u001b[38;5;1m-0.9999  \u001b[0m \u001b[38;5;4m 0.3478  \u001b[0m  \u001b[0m\n",
       "  \u001b[38;5;244m 0       \u001b[0m \u001b[38;5;244m 0       \u001b[0m \u001b[38;5;244m 0       \u001b[0m \u001b[38;5;244m 1       \u001b[0m  \u001b[0m\n",
       ",\n",
       "     \u001b[38;5;1m 0.5605  \u001b[0m \u001b[38;5;1m-0.8281  \u001b[0m \u001b[38;5;1m 0.01198 \u001b[0m \u001b[38;5;4m-0.4656  \u001b[0m  \u001b[0m\n",
       "  \u001b[38;5;1m-0.8281  \u001b[0m \u001b[38;5;1m-0.5606  \u001b[0m \u001b[38;5;1m-0.00865 \u001b[0m \u001b[38;5;4m-0.521   \u001b[0m  \u001b[0m\n",
       "  \u001b[38;5;1m 0.01388 \u001b[0m \u001b[38;5;1m-0.005075\u001b[0m \u001b[38;5;1m-0.9999  \u001b[0m \u001b[38;5;4m 0.3689  \u001b[0m  \u001b[0m\n",
       "  \u001b[38;5;244m 0       \u001b[0m \u001b[38;5;244m 0       \u001b[0m \u001b[38;5;244m 0       \u001b[0m \u001b[38;5;244m 1       \u001b[0m  \u001b[0m\n",
       ",\n",
       "     \u001b[38;5;1m 0.5605  \u001b[0m \u001b[38;5;1m-0.8281  \u001b[0m \u001b[38;5;1m 0.01198 \u001b[0m \u001b[38;5;4m-0.4656  \u001b[0m  \u001b[0m\n",
       "  \u001b[38;5;1m-0.8281  \u001b[0m \u001b[38;5;1m-0.5606  \u001b[0m \u001b[38;5;1m-0.008658\u001b[0m \u001b[38;5;4m-0.521   \u001b[0m  \u001b[0m\n",
       "  \u001b[38;5;1m 0.01388 \u001b[0m \u001b[38;5;1m-0.005065\u001b[0m \u001b[38;5;1m-0.9999  \u001b[0m \u001b[38;5;4m 0.5767  \u001b[0m  \u001b[0m\n",
       "  \u001b[38;5;244m 0       \u001b[0m \u001b[38;5;244m 0       \u001b[0m \u001b[38;5;244m 0       \u001b[0m \u001b[38;5;244m 1       \u001b[0m  \u001b[0m\n",
       ",\n",
       "     \u001b[38;5;1m 0.6174  \u001b[0m \u001b[38;5;1m-0.7328  \u001b[0m \u001b[38;5;1m-0.2859  \u001b[0m \u001b[38;5;4m-0.3993  \u001b[0m  \u001b[0m\n",
       "  \u001b[38;5;1m-0.7795  \u001b[0m \u001b[38;5;1m-0.5214  \u001b[0m \u001b[38;5;1m-0.3471  \u001b[0m \u001b[38;5;4m-0.4496  \u001b[0m  \u001b[0m\n",
       "  \u001b[38;5;1m 0.1053  \u001b[0m \u001b[38;5;1m 0.4372  \u001b[0m \u001b[38;5;1m-0.8932  \u001b[0m \u001b[38;5;4m 0.7214  \u001b[0m  \u001b[0m\n",
       "  \u001b[38;5;244m 0       \u001b[0m \u001b[38;5;244m 0       \u001b[0m \u001b[38;5;244m 0       \u001b[0m \u001b[38;5;244m 1       \u001b[0m  \u001b[0m\n",
       "],\n",
       "  'poses_q': [array([ 2.29932,  0.37417, -1.10933, -0.01912,  1.192  , -1.76479]),\n",
       "   array([ 2.30178,  0.77807, -0.9392 , -0.01486,  1.42596, -1.8134 ]),\n",
       "   array([ 2.30178,  0.89504, -1.19336, -0.0169 ,  1.05481, -1.80721]),\n",
       "   array([ 2.30178,  0.92085, -1.20564, -0.01729,  1.01678, -1.80645]),\n",
       "   array([ 2.30178,  0.89504, -1.19336, -0.0169 ,  1.05481, -1.80721]),\n",
       "   array([ 2.30178,  0.78201, -0.8425 , -0.01472,  1.51864, -1.81478]),\n",
       "   array([ 2.29932,  0.37417, -1.10933, -0.01912,  1.192  , -1.76479])],\n",
       "  'open_tc': [0, 0, 0, 1, 0, 0, 0],\n",
       "  'use_joint_ctrl': [1, 0, 0, 0, 0, 0, 1]},\n",
       " {'poses_A': [  \u001b[38;5;1m 0.6174  \u001b[0m \u001b[38;5;1m-0.7328  \u001b[0m \u001b[38;5;1m-0.2859  \u001b[0m \u001b[38;5;4m-0.3993  \u001b[0m  \u001b[0m\n",
       "  \u001b[38;5;1m-0.7795  \u001b[0m \u001b[38;5;1m-0.5214  \u001b[0m \u001b[38;5;1m-0.3471  \u001b[0m \u001b[38;5;4m-0.4496  \u001b[0m  \u001b[0m\n",
       "  \u001b[38;5;1m 0.1053  \u001b[0m \u001b[38;5;1m 0.4372  \u001b[0m \u001b[38;5;1m-0.8932  \u001b[0m \u001b[38;5;4m 0.7214  \u001b[0m  \u001b[0m\n",
       "  \u001b[38;5;244m 0       \u001b[0m \u001b[38;5;244m 0       \u001b[0m \u001b[38;5;244m 0       \u001b[0m \u001b[38;5;244m 1       \u001b[0m  \u001b[0m\n",
       ",\n",
       "     \u001b[38;5;1m 0.5605  \u001b[0m \u001b[38;5;1m-0.8281  \u001b[0m \u001b[38;5;1m 0.01198 \u001b[0m \u001b[38;5;4m-0.4656  \u001b[0m  \u001b[0m\n",
       "  \u001b[38;5;1m-0.8281  \u001b[0m \u001b[38;5;1m-0.5606  \u001b[0m \u001b[38;5;1m-0.008658\u001b[0m \u001b[38;5;4m-0.521   \u001b[0m  \u001b[0m\n",
       "  \u001b[38;5;1m 0.01388 \u001b[0m \u001b[38;5;1m-0.005065\u001b[0m \u001b[38;5;1m-0.9999  \u001b[0m \u001b[38;5;4m 0.5767  \u001b[0m  \u001b[0m\n",
       "  \u001b[38;5;244m 0       \u001b[0m \u001b[38;5;244m 0       \u001b[0m \u001b[38;5;244m 0       \u001b[0m \u001b[38;5;244m 1       \u001b[0m  \u001b[0m\n",
       ",\n",
       "     \u001b[38;5;1m 0.5605  \u001b[0m \u001b[38;5;1m-0.8281  \u001b[0m \u001b[38;5;1m 0.01198 \u001b[0m \u001b[38;5;4m-0.4656  \u001b[0m  \u001b[0m\n",
       "  \u001b[38;5;1m-0.8281  \u001b[0m \u001b[38;5;1m-0.5606  \u001b[0m \u001b[38;5;1m-0.00865 \u001b[0m \u001b[38;5;4m-0.521   \u001b[0m  \u001b[0m\n",
       "  \u001b[38;5;1m 0.01388 \u001b[0m \u001b[38;5;1m-0.005075\u001b[0m \u001b[38;5;1m-0.9999  \u001b[0m \u001b[38;5;4m 0.3689  \u001b[0m  \u001b[0m\n",
       "  \u001b[38;5;244m 0       \u001b[0m \u001b[38;5;244m 0       \u001b[0m \u001b[38;5;244m 0       \u001b[0m \u001b[38;5;244m 1       \u001b[0m  \u001b[0m\n",
       ",\n",
       "     \u001b[38;5;1m 0.5605  \u001b[0m \u001b[38;5;1m-0.8281  \u001b[0m \u001b[38;5;1m 0.01202 \u001b[0m \u001b[38;5;4m-0.4656  \u001b[0m  \u001b[0m\n",
       "  \u001b[38;5;1m-0.8281  \u001b[0m \u001b[38;5;1m-0.5606  \u001b[0m \u001b[38;5;1m-0.008617\u001b[0m \u001b[38;5;4m-0.521   \u001b[0m  \u001b[0m\n",
       "  \u001b[38;5;1m 0.01387 \u001b[0m \u001b[38;5;1m-0.005122\u001b[0m \u001b[38;5;1m-0.9999  \u001b[0m \u001b[38;5;4m 0.3478  \u001b[0m  \u001b[0m\n",
       "  \u001b[38;5;244m 0       \u001b[0m \u001b[38;5;244m 0       \u001b[0m \u001b[38;5;244m 0       \u001b[0m \u001b[38;5;244m 1       \u001b[0m  \u001b[0m\n",
       ",\n",
       "     \u001b[38;5;1m 0.5605  \u001b[0m \u001b[38;5;1m-0.8281  \u001b[0m \u001b[38;5;1m 0.01198 \u001b[0m \u001b[38;5;4m-0.4656  \u001b[0m  \u001b[0m\n",
       "  \u001b[38;5;1m-0.8281  \u001b[0m \u001b[38;5;1m-0.5606  \u001b[0m \u001b[38;5;1m-0.00865 \u001b[0m \u001b[38;5;4m-0.521   \u001b[0m  \u001b[0m\n",
       "  \u001b[38;5;1m 0.01388 \u001b[0m \u001b[38;5;1m-0.005075\u001b[0m \u001b[38;5;1m-0.9999  \u001b[0m \u001b[38;5;4m 0.3689  \u001b[0m  \u001b[0m\n",
       "  \u001b[38;5;244m 0       \u001b[0m \u001b[38;5;244m 0       \u001b[0m \u001b[38;5;244m 0       \u001b[0m \u001b[38;5;244m 1       \u001b[0m  \u001b[0m\n",
       ",\n",
       "     \u001b[38;5;1m 0.5605  \u001b[0m \u001b[38;5;1m-0.8281  \u001b[0m \u001b[38;5;1m 0.01202 \u001b[0m \u001b[38;5;4m-0.4656  \u001b[0m  \u001b[0m\n",
       "  \u001b[38;5;1m-0.8281  \u001b[0m \u001b[38;5;1m-0.5606  \u001b[0m \u001b[38;5;1m-0.00861 \u001b[0m \u001b[38;5;4m-0.521   \u001b[0m  \u001b[0m\n",
       "  \u001b[38;5;1m 0.01387 \u001b[0m \u001b[38;5;1m-0.005131\u001b[0m \u001b[38;5;1m-0.9999  \u001b[0m \u001b[38;5;4m 0.5417  \u001b[0m  \u001b[0m\n",
       "  \u001b[38;5;244m 0       \u001b[0m \u001b[38;5;244m 0       \u001b[0m \u001b[38;5;244m 0       \u001b[0m \u001b[38;5;244m 1       \u001b[0m  \u001b[0m\n",
       ",\n",
       "     \u001b[38;5;1m 0.6174  \u001b[0m \u001b[38;5;1m-0.7328  \u001b[0m \u001b[38;5;1m-0.2859  \u001b[0m \u001b[38;5;4m-0.3993  \u001b[0m  \u001b[0m\n",
       "  \u001b[38;5;1m-0.7795  \u001b[0m \u001b[38;5;1m-0.5214  \u001b[0m \u001b[38;5;1m-0.3471  \u001b[0m \u001b[38;5;4m-0.4496  \u001b[0m  \u001b[0m\n",
       "  \u001b[38;5;1m 0.1053  \u001b[0m \u001b[38;5;1m 0.4372  \u001b[0m \u001b[38;5;1m-0.8932  \u001b[0m \u001b[38;5;4m 0.7214  \u001b[0m  \u001b[0m\n",
       "  \u001b[38;5;244m 0       \u001b[0m \u001b[38;5;244m 0       \u001b[0m \u001b[38;5;244m 0       \u001b[0m \u001b[38;5;244m 1       \u001b[0m  \u001b[0m\n",
       "],\n",
       "  'poses_q': [array([ 2.29932,  0.37417, -1.10933, -0.01912,  1.192  , -1.76479]),\n",
       "   array([ 2.30178,  0.78201, -0.8425 , -0.01472,  1.51864, -1.81478]),\n",
       "   array([ 2.30178,  0.89504, -1.19336, -0.0169 ,  1.05481, -1.80721]),\n",
       "   array([ 2.30178,  0.92085, -1.20564, -0.01729,  1.01678, -1.80645]),\n",
       "   array([ 2.30178,  0.89504, -1.19336, -0.0169 ,  1.05481, -1.80721]),\n",
       "   array([ 2.30178,  0.77807, -0.9392 , -0.01486,  1.42596, -1.8134 ]),\n",
       "   array([ 2.29932,  0.37417, -1.10933, -0.01912,  1.192  , -1.76479])],\n",
       "  'close_tc': [0, 0, 0, 1, 0, 0, 0],\n",
       "  'use_joint_ctrl': [1, 0, 0, 0, 0, 0, 1]})"
      ]
     },
     "execution_count": 17,
     "metadata": {},
     "output_type": "execute_result"
    }
   ],
   "source": [
    "x[\"dispose\"], x[\"pickup\"]"
   ]
  },
  {
   "cell_type": "code",
   "execution_count": 15,
   "id": "582e996b",
   "metadata": {},
   "outputs": [],
   "source": [
    "x[\"dispose\"][\"open_tc\"] = list(reversed(x[\"pickup\"][\"close_tc\"]))"
   ]
  },
  {
   "cell_type": "code",
   "execution_count": 16,
   "id": "9126e424",
   "metadata": {},
   "outputs": [],
   "source": [
    "x[\"dispose\"][\"use_joint_ctrl\"] = x[\"pickup\"][\"use_joint_ctrl\"]\n",
    "x[\"dispose\"][\"poses_q\"]= list(reversed(x[\"pickup\"][\"poses_q\"]))\n",
    "x[\"dispose\"][\"poses_A\"]= list(reversed(x[\"pickup\"][\"poses_A\"]))"
   ]
  },
  {
   "cell_type": "code",
   "execution_count": 18,
   "id": "506513bc",
   "metadata": {},
   "outputs": [],
   "source": [
    "np.save(\"pgrip_4_final.npy\", x, allow_pickle=True)"
   ]
  },
  {
   "cell_type": "code",
   "execution_count": 132,
   "id": "279d7d15",
   "metadata": {},
   "outputs": [
    {
     "data": {
      "text/plain": [
       "([  \u001b[38;5;1m-0.5614  \u001b[0m \u001b[38;5;1m-0.007518\u001b[0m \u001b[38;5;1m-0.8275  \u001b[0m \u001b[38;5;4m-0.4109  \u001b[0m  \u001b[0m\n",
       "  \u001b[38;5;1m 0.8274  \u001b[0m \u001b[38;5;1m 0.01351 \u001b[0m \u001b[38;5;1m-0.5614  \u001b[0m \u001b[38;5;4m-0.2787  \u001b[0m  \u001b[0m\n",
       "  \u001b[38;5;1m 0.0154  \u001b[0m \u001b[38;5;1m-0.9999  \u001b[0m \u001b[38;5;1m-0.001362\u001b[0m \u001b[38;5;4m 0.5877  \u001b[0m  \u001b[0m\n",
       "  \u001b[38;5;244m 0       \u001b[0m \u001b[38;5;244m 0       \u001b[0m \u001b[38;5;244m 0       \u001b[0m \u001b[38;5;244m 1       \u001b[0m  \u001b[0m\n",
       ",\n",
       "    \u001b[38;5;1m-0.5614  \u001b[0m \u001b[38;5;1m-0.007513\u001b[0m \u001b[38;5;1m-0.8275  \u001b[0m \u001b[38;5;4m-0.4109  \u001b[0m  \u001b[0m\n",
       "  \u001b[38;5;1m 0.8274  \u001b[0m \u001b[38;5;1m 0.01352 \u001b[0m \u001b[38;5;1m-0.5614  \u001b[0m \u001b[38;5;4m-0.2787  \u001b[0m  \u001b[0m\n",
       "  \u001b[38;5;1m 0.0154  \u001b[0m \u001b[38;5;1m-0.9999  \u001b[0m \u001b[38;5;1m-0.001372\u001b[0m \u001b[38;5;4m 0.2399  \u001b[0m  \u001b[0m\n",
       "  \u001b[38;5;244m 0       \u001b[0m \u001b[38;5;244m 0       \u001b[0m \u001b[38;5;244m 0       \u001b[0m \u001b[38;5;244m 1       \u001b[0m  \u001b[0m\n",
       ",\n",
       "    \u001b[38;5;1m-0.5614  \u001b[0m \u001b[38;5;1m-0.00751 \u001b[0m \u001b[38;5;1m-0.8275  \u001b[0m \u001b[38;5;4m-0.4674  \u001b[0m  \u001b[0m\n",
       "  \u001b[38;5;1m 0.8274  \u001b[0m \u001b[38;5;1m 0.01352 \u001b[0m \u001b[38;5;1m-0.5614  \u001b[0m \u001b[38;5;4m-0.317   \u001b[0m  \u001b[0m\n",
       "  \u001b[38;5;1m 0.0154  \u001b[0m \u001b[38;5;1m-0.9999  \u001b[0m \u001b[38;5;1m-0.001375\u001b[0m \u001b[38;5;4m 0.2398  \u001b[0m  \u001b[0m\n",
       "  \u001b[38;5;244m 0       \u001b[0m \u001b[38;5;244m 0       \u001b[0m \u001b[38;5;244m 0       \u001b[0m \u001b[38;5;244m 1       \u001b[0m  \u001b[0m\n",
       ",\n",
       "    \u001b[38;5;1m-0.5613  \u001b[0m \u001b[38;5;1m-0.007414\u001b[0m \u001b[38;5;1m-0.8276  \u001b[0m \u001b[38;5;4m-0.4674  \u001b[0m  \u001b[0m\n",
       "  \u001b[38;5;1m 0.8275  \u001b[0m \u001b[38;5;1m 0.01356 \u001b[0m \u001b[38;5;1m-0.5614  \u001b[0m \u001b[38;5;4m-0.317   \u001b[0m  \u001b[0m\n",
       "  \u001b[38;5;1m 0.01538 \u001b[0m \u001b[38;5;1m-0.9999  \u001b[0m \u001b[38;5;1m-0.001475\u001b[0m \u001b[38;5;4m 0.2218  \u001b[0m  \u001b[0m\n",
       "  \u001b[38;5;244m 0       \u001b[0m \u001b[38;5;244m 0       \u001b[0m \u001b[38;5;244m 0       \u001b[0m \u001b[38;5;244m 1       \u001b[0m  \u001b[0m\n",
       ",\n",
       "    \u001b[38;5;1m-0.5613  \u001b[0m \u001b[38;5;1m-0.007422\u001b[0m \u001b[38;5;1m-0.8276  \u001b[0m \u001b[38;5;4m-0.4572  \u001b[0m  \u001b[0m\n",
       "  \u001b[38;5;1m 0.8275  \u001b[0m \u001b[38;5;1m 0.01355 \u001b[0m \u001b[38;5;1m-0.5614  \u001b[0m \u001b[38;5;4m-0.3101  \u001b[0m  \u001b[0m\n",
       "  \u001b[38;5;1m 0.01538 \u001b[0m \u001b[38;5;1m-0.9999  \u001b[0m \u001b[38;5;1m-0.001465\u001b[0m \u001b[38;5;4m 0.2218  \u001b[0m  \u001b[0m\n",
       "  \u001b[38;5;244m 0       \u001b[0m \u001b[38;5;244m 0       \u001b[0m \u001b[38;5;244m 0       \u001b[0m \u001b[38;5;244m 1       \u001b[0m  \u001b[0m\n",
       ",\n",
       "    \u001b[38;5;1m-0.5594  \u001b[0m \u001b[38;5;1m-0.04657 \u001b[0m \u001b[38;5;1m-0.8276  \u001b[0m \u001b[38;5;4m-0.3902  \u001b[0m  \u001b[0m\n",
       "  \u001b[38;5;1m 0.8245  \u001b[0m \u001b[38;5;1m 0.07123 \u001b[0m \u001b[38;5;1m-0.5614  \u001b[0m \u001b[38;5;4m-0.2647  \u001b[0m  \u001b[0m\n",
       "  \u001b[38;5;1m 0.08509 \u001b[0m \u001b[38;5;1m-0.9964  \u001b[0m \u001b[38;5;1m-0.001449\u001b[0m \u001b[38;5;4m 0.2219  \u001b[0m  \u001b[0m\n",
       "  \u001b[38;5;244m 0       \u001b[0m \u001b[38;5;244m 0       \u001b[0m \u001b[38;5;244m 0       \u001b[0m \u001b[38;5;244m 1       \u001b[0m  \u001b[0m\n",
       ",\n",
       "    \u001b[38;5;1m-0.8221  \u001b[0m \u001b[38;5;1m-0.1493  \u001b[0m \u001b[38;5;1m-0.5494  \u001b[0m \u001b[38;5;4m-0.2534  \u001b[0m  \u001b[0m\n",
       "  \u001b[38;5;1m 0.5256  \u001b[0m \u001b[38;5;1m 0.1721  \u001b[0m \u001b[38;5;1m-0.8332  \u001b[0m \u001b[38;5;4m-0.2963  \u001b[0m  \u001b[0m\n",
       "  \u001b[38;5;1m 0.219   \u001b[0m \u001b[38;5;1m-0.9737  \u001b[0m \u001b[38;5;1m-0.06298 \u001b[0m \u001b[38;5;4m 0.5207  \u001b[0m  \u001b[0m\n",
       "  \u001b[38;5;244m 0       \u001b[0m \u001b[38;5;244m 0       \u001b[0m \u001b[38;5;244m 0       \u001b[0m \u001b[38;5;244m 1       \u001b[0m  \u001b[0m\n",
       "],\n",
       " [0, 0, 0, 1, 0, 0, 0])"
      ]
     },
     "execution_count": 132,
     "metadata": {},
     "output_type": "execute_result"
    }
   ],
   "source": [
    "x[\"dispose\"][\"poses_A\"], x[\"dispose\"][\"open_tc\"]"
   ]
  },
  {
   "cell_type": "code",
   "execution_count": 24,
   "id": "21b26776",
   "metadata": {},
   "outputs": [
    {
     "data": {
      "text/plain": [
       "array([ 76.83869,   5.34454, -82.75504,  -0.9322 ,  38.78117,  -0.00516])"
      ]
     },
     "execution_count": 24,
     "metadata": {},
     "output_type": "execute_result"
    }
   ],
   "source": [
    "np.rad2deg(cobot.q)"
   ]
  },
  {
   "cell_type": "code",
   "execution_count": 104,
   "id": "genuine-ukraine",
   "metadata": {},
   "outputs": [
    {
     "data": {
      "text/plain": [
       "[1, 1, 0, 0, 0, 0, 0, 0, 0, 1]"
      ]
     },
     "execution_count": 104,
     "metadata": {},
     "output_type": "execute_result"
    }
   ],
   "source": [
    "x[\"dispose\"][\"use_joint_ctrl\"]"
   ]
  },
  {
   "cell_type": "code",
   "execution_count": 103,
   "id": "fdae6a65",
   "metadata": {},
   "outputs": [],
   "source": [
    "np.save(\"screwdriver_6_final.npy\", x, allow_pickle=True)"
   ]
  },
  {
   "cell_type": "code",
   "execution_count": null,
   "id": "norman-industry",
   "metadata": {},
   "outputs": [],
   "source": [
    "grasping contact y = -0.607"
   ]
  },
  {
   "cell_type": "code",
   "execution_count": null,
   "id": "hollywood-april",
   "metadata": {},
   "outputs": [],
   "source": [
    "x2 = x"
   ]
  },
  {
   "cell_type": "code",
   "execution_count": null,
   "id": "sudden-carol",
   "metadata": {},
   "outputs": [],
   "source": [
    "x2[\"pickup\"][\"poses_q\"]"
   ]
  },
  {
   "cell_type": "code",
   "execution_count": null,
   "id": "03588347",
   "metadata": {},
   "outputs": [],
   "source": [
    "x[\"pickup\"][\"poses_q\"][-3] = np.deg2rad(x[\"pickup\"][\"poses_q\"][-3])\n",
    "x[\"pickup\"][\"poses_q\"][-2] = np.deg2rad(x[\"pickup\"][\"poses_q\"][-2])\n",
    "x[\"pickup\"][\"poses_q\"][-1] = np.deg2rad(x[\"pickup\"][\"poses_q\"][-1])"
   ]
  },
  {
   "cell_type": "code",
   "execution_count": null,
   "id": "existing-bidding",
   "metadata": {},
   "outputs": [],
   "source": [
    "x[\"dispose\"][\"poses_q\"][0] = np.deg2rad(x[\"dispose\"][\"poses_q\"][0])\n",
    "x[\"dispose\"][\"poses_q\"][1] = np.deg2rad(x[\"dispose\"][\"poses_q\"][1])\n",
    "x[\"dispose\"][\"poses_q\"][2] = np.deg2rad(x[\"dispose\"][\"poses_q\"][2])"
   ]
  },
  {
   "cell_type": "code",
   "execution_count": null,
   "id": "acquired-detector",
   "metadata": {},
   "outputs": [],
   "source": [
    "x[\"pickup\"][\"poses_A\"][2].t[1]=-0.607"
   ]
  },
  {
   "cell_type": "code",
   "execution_count": null,
   "id": "competent-potential",
   "metadata": {},
   "outputs": [],
   "source": [
    "x[\"dispose\"][\"poses_A\"]"
   ]
  },
  {
   "cell_type": "markdown",
   "id": "polished-retailer",
   "metadata": {},
   "source": [
    "# Load a routine to manipulate/test it"
   ]
  },
  {
   "cell_type": "code",
   "execution_count": 2,
   "id": "federal-posting",
   "metadata": {},
   "outputs": [],
   "source": [
    "import numpy as np\n",
    "import spatialmath as sm"
   ]
  },
  {
   "cell_type": "code",
   "execution_count": 11,
   "id": "elect-permission",
   "metadata": {},
   "outputs": [],
   "source": [
    "#x = np.load(\"shaftgrinder_5_final.npy\",allow_pickle=True).item()\n",
    "#x = np.load(\"vacuum_2_final.npy\",allow_pickle=True).item()\n",
    "#x = np.load(\"wsg_3_final.npy\",allow_pickle=True).item()\n",
    "x = np.load(\"pgrip_4_final.npy\",allow_pickle=True).item()\n",
    "#x = np.load(\"screwdriver_6_final.npy\",allow_pickle=True).item()"
   ]
  },
  {
   "cell_type": "code",
   "execution_count": null,
   "id": "50b1891f",
   "metadata": {},
   "outputs": [],
   "source": [
    "q_des = np.r_[ 1.34109,  0.09328, -1.44435, -0.01627,  0.67686, -0.00009]\n"
   ]
  },
  {
   "cell_type": "code",
   "execution_count": null,
   "id": "a5aa62fe",
   "metadata": {},
   "outputs": [],
   "source": [
    "cobot.move_to_joint_pose([ 1.34109,  0.09328, -1.44435, -0.01627,  0.67686, -0.00009], stochastic = True)"
   ]
  },
  {
   "cell_type": "code",
   "execution_count": null,
   "id": "53add896",
   "metadata": {},
   "outputs": [],
   "source": [
    "x = np.load(\"screwdriver_6_final_4.npy\",allow_pickle=True).item()"
   ]
  },
  {
   "cell_type": "code",
   "execution_count": null,
   "id": "4f2c30c0",
   "metadata": {},
   "outputs": [],
   "source": [
    "x[\"pickup\"][\"close_tc\"], x[\"pickup\"][\"close_tc\"][3]"
   ]
  },
  {
   "cell_type": "markdown",
   "id": "8ac46fbe",
   "metadata": {},
   "source": [
    "### Use this to change one entry"
   ]
  },
  {
   "cell_type": "code",
   "execution_count": 73,
   "id": "e20a4e1d",
   "metadata": {},
   "outputs": [],
   "source": [
    "cobot.open_tool_changer()"
   ]
  },
  {
   "cell_type": "code",
   "execution_count": 78,
   "id": "196ed5ba",
   "metadata": {},
   "outputs": [],
   "source": [
    "cobot.close_tool_changer()"
   ]
  },
  {
   "cell_type": "code",
   "execution_count": 92,
   "id": "18b0b860",
   "metadata": {
    "scrolled": true
   },
   "outputs": [
    {
     "data": {
      "text/plain": [
       "(array([ 2.06855,  0.24089, -1.48786,  1.09183, -0.37386, -1.2097 ]),\n",
       "   \u001b[38;5;1m 0.1353  \u001b[0m \u001b[38;5;1m 0.9767  \u001b[0m \u001b[38;5;1m-0.1668  \u001b[0m \u001b[38;5;4m-0.2651  \u001b[0m  \u001b[0m\n",
       "  \u001b[38;5;1m-0.04275 \u001b[0m \u001b[38;5;1m-0.1624  \u001b[0m \u001b[38;5;1m-0.9858  \u001b[0m \u001b[38;5;4m-0.5422  \u001b[0m  \u001b[0m\n",
       "  \u001b[38;5;1m-0.9899  \u001b[0m \u001b[38;5;1m 0.1405  \u001b[0m \u001b[38;5;1m 0.01979 \u001b[0m \u001b[38;5;4m 0.7146  \u001b[0m  \u001b[0m\n",
       "  \u001b[38;5;244m 0       \u001b[0m \u001b[38;5;244m 0       \u001b[0m \u001b[38;5;244m 0       \u001b[0m \u001b[38;5;244m 1       \u001b[0m  \u001b[0m\n",
       ")"
      ]
     },
     "execution_count": 92,
     "metadata": {},
     "output_type": "execute_result"
    }
   ],
   "source": [
    "qq = cobot.q\n",
    "AA = cobot.T_B_E_robot\n",
    "qq,AA"
   ]
  },
  {
   "cell_type": "code",
   "execution_count": 93,
   "id": "e3521fc5",
   "metadata": {},
   "outputs": [],
   "source": [
    "i = 9#entry\n",
    "x[\"pickup\"][\"poses_A\"][i]=AA\n",
    "x[\"pickup\"][\"poses_q\"][i]=qq\n",
    "x[\"pickup\"][\"use_joint_ctrl\"][i]=1\n",
    "x[\"pickup\"][\"close_tc\"][i]=0"
   ]
  },
  {
   "cell_type": "code",
   "execution_count": 97,
   "id": "59785bb4",
   "metadata": {},
   "outputs": [
    {
     "data": {
      "text/plain": [
       "1"
      ]
     },
     "execution_count": 97,
     "metadata": {},
     "output_type": "execute_result"
    }
   ],
   "source": [
    "x[\"pickup\"][\"use_joint_ctrl\"][10]"
   ]
  },
  {
   "cell_type": "code",
   "execution_count": 23,
   "id": "2718776c",
   "metadata": {},
   "outputs": [],
   "source": [
    "i = 2#entry\n",
    "x[\"pickup\"][\"poses_A\"].append(AA)\n",
    "x[\"pickup\"][\"poses_q\"].append(qq)\n",
    "x[\"pickup\"][\"use_joint_ctrl\"].append(0)\n",
    "x[\"pickup\"][\"close_tc\"].append(0)"
   ]
  },
  {
   "cell_type": "code",
   "execution_count": 99,
   "id": "7ae9f3c9",
   "metadata": {},
   "outputs": [
    {
     "data": {
      "text/plain": [
       "0"
      ]
     },
     "execution_count": 99,
     "metadata": {},
     "output_type": "execute_result"
    }
   ],
   "source": [
    "x[\"pickup\"][\"poses_A\"].pop()\n",
    "x[\"pickup\"][\"poses_q\"].pop()\n",
    "x[\"pickup\"][\"use_joint_ctrl\"].pop()\n",
    "x[\"pickup\"][\"close_tc\"].pop()"
   ]
  },
  {
   "cell_type": "code",
   "execution_count": 77,
   "id": "42b55bfa",
   "metadata": {},
   "outputs": [
    {
     "data": {
      "text/plain": [
       "[0, 0, 0, 1, 0, 0, 0, 0, 0]"
      ]
     },
     "execution_count": 77,
     "metadata": {},
     "output_type": "execute_result"
    }
   ],
   "source": [
    "x[\"pickup\"][\"close_tc\"]"
   ]
  },
  {
   "cell_type": "code",
   "execution_count": 74,
   "id": "7e59cb86",
   "metadata": {},
   "outputs": [],
   "source": [
    "x[\"pickup\"][\"close_tc\"][4]=0"
   ]
  },
  {
   "cell_type": "code",
   "execution_count": 12,
   "id": "8330ee3d",
   "metadata": {},
   "outputs": [],
   "source": [
    "cobot.close_tool_changer()"
   ]
  },
  {
   "cell_type": "code",
   "execution_count": 21,
   "id": "937561f8",
   "metadata": {},
   "outputs": [],
   "source": [
    "cobot.move_to_joint_pose(x[\"pickup\"][\"poses_q\"][i], stochastic=False)"
   ]
  },
  {
   "cell_type": "code",
   "execution_count": 95,
   "id": "fc066710",
   "metadata": {},
   "outputs": [
    {
     "data": {
      "text/plain": [
       "([array([ 2.31032, -0.19496, -2.44117,  0.26769, -0.62876,  1.58366]),\n",
       "  array([ 2.54561,  0.86011, -2.25274,  0.00006, -1.54061,  1.65599]),\n",
       "  array([ 2.5456 ,  0.91938, -2.01526,  0.00005, -1.36238,  1.58617]),\n",
       "  array([ 2.5456 ,  0.93133, -1.97696,  0.00005, -1.33602,  1.58617]),\n",
       "  array([ 2.5456 ,  0.88422, -1.99433,  0.00008, -1.30638,  1.58618]),\n",
       "  array([ 2.54561,  0.82088, -2.20106,  0.0001 , -1.44976,  1.58619]),\n",
       "  array([ 2.54561,  0.01667, -2.07057,  0.0002 , -0.51509,  1.58603])],\n",
       " [array([ 2.54561,  0.01667, -2.07057,  0.0002 , -0.51509,  1.58603]),\n",
       "  array([ 2.54561,  0.82088, -2.20106,  0.0001 , -1.44976,  1.58619]),\n",
       "  array([ 2.5456 ,  0.88422, -1.99433,  0.00008, -1.30638,  1.58618]),\n",
       "  array([ 2.5456 ,  0.93133, -1.97696,  0.00005, -1.33602,  1.58617]),\n",
       "  array([ 2.5456 ,  0.91938, -2.01526,  0.00005, -1.36238,  1.58617]),\n",
       "  array([ 2.54561,  0.86011, -2.25274,  0.00006, -1.54061,  1.65599]),\n",
       "  array([ 2.31032, -0.19496, -2.44117,  0.26769, -0.62876,  1.58366])])"
      ]
     },
     "execution_count": 95,
     "metadata": {},
     "output_type": "execute_result"
    }
   ],
   "source": [
    "x[\"pickup\"][\"poses_q\"], x[\"dispose\"][\"poses_q\"]"
   ]
  },
  {
   "cell_type": "code",
   "execution_count": 96,
   "id": "845d9b39",
   "metadata": {},
   "outputs": [
    {
     "data": {
      "text/plain": [
       "([1, 0, 0, 0, 0, 0, 0], [0, 0, 0, 0, 0, 0, 1])"
      ]
     },
     "execution_count": 96,
     "metadata": {},
     "output_type": "execute_result"
    }
   ],
   "source": [
    "x[\"pickup\"][\"use_joint_ctrl\"], x[\"dispose\"][\"use_joint_ctrl\"]"
   ]
  },
  {
   "cell_type": "code",
   "execution_count": 97,
   "id": "dd9632bc",
   "metadata": {},
   "outputs": [],
   "source": [
    "x[\"dispose\"][\"use_joint_ctrl\"][0] = 1"
   ]
  },
  {
   "cell_type": "code",
   "execution_count": 98,
   "id": "b8a7c320",
   "metadata": {},
   "outputs": [],
   "source": [
    "np.save(\"shaftgrinder_5_final.npy\", x, allow_pickle=True)"
   ]
  },
  {
   "cell_type": "code",
   "execution_count": 107,
   "id": "a20b6674",
   "metadata": {},
   "outputs": [
    {
     "data": {
      "text/plain": [
       "[0, 0, 0, 1, 0, 0, 0]"
      ]
     },
     "execution_count": 107,
     "metadata": {},
     "output_type": "execute_result"
    }
   ],
   "source": [
    "x[\"pickup\"][\"close_tc\"]"
   ]
  },
  {
   "cell_type": "code",
   "execution_count": 126,
   "id": "05cb8a50",
   "metadata": {},
   "outputs": [
    {
     "data": {
      "text/plain": [
       "0"
      ]
     },
     "execution_count": 126,
     "metadata": {},
     "output_type": "execute_result"
    }
   ],
   "source": [
    "x[\"pickup\"][\"poses_A\"].pop(4)\n",
    "x[\"pickup\"][\"poses_q\"].pop(4)\n",
    "x[\"pickup\"][\"close_tc\"].pop(4)\n",
    "x[\"pickup\"][\"use_joint_ctrl\"].pop(4)"
   ]
  },
  {
   "cell_type": "code",
   "execution_count": 108,
   "id": "dbb2dc3d",
   "metadata": {},
   "outputs": [],
   "source": [
    "a = [1,2,3,4,5,6,7]"
   ]
  },
  {
   "cell_type": "code",
   "execution_count": 109,
   "id": "3ab69533",
   "metadata": {},
   "outputs": [],
   "source": [
    "a.insert(4,a[2])"
   ]
  },
  {
   "cell_type": "code",
   "execution_count": 124,
   "id": "e305bc70",
   "metadata": {},
   "outputs": [
    {
     "data": {
      "text/plain": [
       "[1, 2, 3, 4, 3, 5, 6, 7]"
      ]
     },
     "execution_count": 124,
     "metadata": {},
     "output_type": "execute_result"
    }
   ],
   "source": [
    "a"
   ]
  },
  {
   "cell_type": "code",
   "execution_count": 125,
   "id": "2e1ebd75",
   "metadata": {},
   "outputs": [
    {
     "data": {
      "text/plain": [
       "3"
      ]
     },
     "execution_count": 125,
     "metadata": {},
     "output_type": "execute_result"
    }
   ],
   "source": [
    "a.pop(2)"
   ]
  },
  {
   "cell_type": "code",
   "execution_count": 12,
   "id": "d11e1351",
   "metadata": {},
   "outputs": [
    {
     "data": {
      "text/plain": [
       "{'poses_A': [  \u001b[38;5;1m 0.6174  \u001b[0m \u001b[38;5;1m-0.7328  \u001b[0m \u001b[38;5;1m-0.2859  \u001b[0m \u001b[38;5;4m-0.3993  \u001b[0m  \u001b[0m\n",
       "  \u001b[38;5;1m-0.7795  \u001b[0m \u001b[38;5;1m-0.5214  \u001b[0m \u001b[38;5;1m-0.3471  \u001b[0m \u001b[38;5;4m-0.4496  \u001b[0m  \u001b[0m\n",
       "  \u001b[38;5;1m 0.1053  \u001b[0m \u001b[38;5;1m 0.4372  \u001b[0m \u001b[38;5;1m-0.8932  \u001b[0m \u001b[38;5;4m 0.7214  \u001b[0m  \u001b[0m\n",
       "  \u001b[38;5;244m 0       \u001b[0m \u001b[38;5;244m 0       \u001b[0m \u001b[38;5;244m 0       \u001b[0m \u001b[38;5;244m 1       \u001b[0m  \u001b[0m\n",
       ",\n",
       "    \u001b[38;5;1m 0.5605  \u001b[0m \u001b[38;5;1m-0.8281  \u001b[0m \u001b[38;5;1m 0.01198 \u001b[0m \u001b[38;5;4m-0.4656  \u001b[0m  \u001b[0m\n",
       "  \u001b[38;5;1m-0.8281  \u001b[0m \u001b[38;5;1m-0.5606  \u001b[0m \u001b[38;5;1m-0.008658\u001b[0m \u001b[38;5;4m-0.521   \u001b[0m  \u001b[0m\n",
       "  \u001b[38;5;1m 0.01388 \u001b[0m \u001b[38;5;1m-0.005065\u001b[0m \u001b[38;5;1m-0.9999  \u001b[0m \u001b[38;5;4m 0.5767  \u001b[0m  \u001b[0m\n",
       "  \u001b[38;5;244m 0       \u001b[0m \u001b[38;5;244m 0       \u001b[0m \u001b[38;5;244m 0       \u001b[0m \u001b[38;5;244m 1       \u001b[0m  \u001b[0m\n",
       ",\n",
       "    \u001b[38;5;1m 0.5605  \u001b[0m \u001b[38;5;1m-0.8281  \u001b[0m \u001b[38;5;1m 0.01198 \u001b[0m \u001b[38;5;4m-0.4656  \u001b[0m  \u001b[0m\n",
       "  \u001b[38;5;1m-0.8281  \u001b[0m \u001b[38;5;1m-0.5606  \u001b[0m \u001b[38;5;1m-0.00865 \u001b[0m \u001b[38;5;4m-0.521   \u001b[0m  \u001b[0m\n",
       "  \u001b[38;5;1m 0.01388 \u001b[0m \u001b[38;5;1m-0.005075\u001b[0m \u001b[38;5;1m-0.9999  \u001b[0m \u001b[38;5;4m 0.3689  \u001b[0m  \u001b[0m\n",
       "  \u001b[38;5;244m 0       \u001b[0m \u001b[38;5;244m 0       \u001b[0m \u001b[38;5;244m 0       \u001b[0m \u001b[38;5;244m 1       \u001b[0m  \u001b[0m\n",
       ",\n",
       "    \u001b[38;5;1m 0.5605  \u001b[0m \u001b[38;5;1m-0.8281  \u001b[0m \u001b[38;5;1m 0.01202 \u001b[0m \u001b[38;5;4m-0.4656  \u001b[0m  \u001b[0m\n",
       "  \u001b[38;5;1m-0.8281  \u001b[0m \u001b[38;5;1m-0.5606  \u001b[0m \u001b[38;5;1m-0.008617\u001b[0m \u001b[38;5;4m-0.521   \u001b[0m  \u001b[0m\n",
       "  \u001b[38;5;1m 0.01387 \u001b[0m \u001b[38;5;1m-0.005122\u001b[0m \u001b[38;5;1m-0.9999  \u001b[0m \u001b[38;5;4m 0.3478  \u001b[0m  \u001b[0m\n",
       "  \u001b[38;5;244m 0       \u001b[0m \u001b[38;5;244m 0       \u001b[0m \u001b[38;5;244m 0       \u001b[0m \u001b[38;5;244m 1       \u001b[0m  \u001b[0m\n",
       ",\n",
       "    \u001b[38;5;1m 0.5605  \u001b[0m \u001b[38;5;1m-0.8281  \u001b[0m \u001b[38;5;1m 0.01202 \u001b[0m \u001b[38;5;4m-0.4656  \u001b[0m  \u001b[0m\n",
       "  \u001b[38;5;1m-0.8281  \u001b[0m \u001b[38;5;1m-0.5606  \u001b[0m \u001b[38;5;1m-0.00861 \u001b[0m \u001b[38;5;4m-0.521   \u001b[0m  \u001b[0m\n",
       "  \u001b[38;5;1m 0.01387 \u001b[0m \u001b[38;5;1m-0.005131\u001b[0m \u001b[38;5;1m-0.9999  \u001b[0m \u001b[38;5;4m 0.5417  \u001b[0m  \u001b[0m\n",
       "  \u001b[38;5;244m 0       \u001b[0m \u001b[38;5;244m 0       \u001b[0m \u001b[38;5;244m 0       \u001b[0m \u001b[38;5;244m 1       \u001b[0m  \u001b[0m\n",
       ",\n",
       "    \u001b[38;5;1m 0.6174  \u001b[0m \u001b[38;5;1m-0.7328  \u001b[0m \u001b[38;5;1m-0.2859  \u001b[0m \u001b[38;5;4m-0.3993  \u001b[0m  \u001b[0m\n",
       "  \u001b[38;5;1m-0.7795  \u001b[0m \u001b[38;5;1m-0.5214  \u001b[0m \u001b[38;5;1m-0.3471  \u001b[0m \u001b[38;5;4m-0.4496  \u001b[0m  \u001b[0m\n",
       "  \u001b[38;5;1m 0.1053  \u001b[0m \u001b[38;5;1m 0.4372  \u001b[0m \u001b[38;5;1m-0.8932  \u001b[0m \u001b[38;5;4m 0.7214  \u001b[0m  \u001b[0m\n",
       "  \u001b[38;5;244m 0       \u001b[0m \u001b[38;5;244m 0       \u001b[0m \u001b[38;5;244m 0       \u001b[0m \u001b[38;5;244m 1       \u001b[0m  \u001b[0m\n",
       "],\n",
       " 'poses_q': [array([ 2.29932,  0.37417, -1.10933, -0.01912,  1.192  , -1.76479]),\n",
       "  array([ 2.30178,  0.78201, -0.8425 , -0.01472,  1.51864, -1.81478]),\n",
       "  array([ 2.30178,  0.89504, -1.19336, -0.0169 ,  1.05481, -1.80721]),\n",
       "  array([ 2.30178,  0.92085, -1.20564, -0.01729,  1.01678, -1.80645]),\n",
       "  array([ 2.30178,  0.77807, -0.9392 , -0.01486,  1.42596, -1.8134 ]),\n",
       "  array([ 2.29932,  0.37417, -1.10933, -0.01912,  1.192  , -1.76479])],\n",
       " 'close_tc': [0, 0, 0, 1, 0, 0],\n",
       " 'use_joint_ctrl': [1, 0, 0, 0, 0, 1]}"
      ]
     },
     "execution_count": 12,
     "metadata": {},
     "output_type": "execute_result"
    }
   ],
   "source": [
    "x[\"pickup\"]"
   ]
  },
  {
   "cell_type": "code",
   "execution_count": 7,
   "id": "44ddcf63",
   "metadata": {},
   "outputs": [
    {
     "data": {
      "text/plain": [
       "{'poses_A': [  \u001b[38;5;1m 1       \u001b[0m \u001b[38;5;1m 0.0005316\u001b[0m \u001b[38;5;1m 0.002363\u001b[0m \u001b[38;5;4m-0.1719  \u001b[0m  \u001b[0m\n",
       "  \u001b[38;5;1m 0.0006258\u001b[0m \u001b[38;5;1m-0.9992  \u001b[0m \u001b[38;5;1m-0.04004 \u001b[0m \u001b[38;5;4m-0.6194  \u001b[0m  \u001b[0m\n",
       "  \u001b[38;5;1m 0.00234 \u001b[0m \u001b[38;5;1m 0.04005 \u001b[0m \u001b[38;5;1m-0.9992  \u001b[0m \u001b[38;5;4m 0.6423  \u001b[0m  \u001b[0m\n",
       "  \u001b[38;5;244m 0       \u001b[0m \u001b[38;5;244m 0       \u001b[0m \u001b[38;5;244m 0       \u001b[0m \u001b[38;5;244m 1       \u001b[0m  \u001b[0m\n",
       ",\n",
       "    \u001b[38;5;1m 1       \u001b[0m \u001b[38;5;1m 0.0003213\u001b[0m \u001b[38;5;1m 0.002358\u001b[0m \u001b[38;5;4m-0.1719  \u001b[0m  \u001b[0m\n",
       "  \u001b[38;5;1m 0.0004156\u001b[0m \u001b[38;5;1m-0.9992  \u001b[0m \u001b[38;5;1m-0.04008 \u001b[0m \u001b[38;5;4m-0.6194  \u001b[0m  \u001b[0m\n",
       "  \u001b[38;5;1m 0.002343\u001b[0m \u001b[38;5;1m 0.04008 \u001b[0m \u001b[38;5;1m-0.9992  \u001b[0m \u001b[38;5;4m 0.3686  \u001b[0m  \u001b[0m\n",
       "  \u001b[38;5;244m 0       \u001b[0m \u001b[38;5;244m 0       \u001b[0m \u001b[38;5;244m 0       \u001b[0m \u001b[38;5;244m 1       \u001b[0m  \u001b[0m\n",
       ",\n",
       "    \u001b[38;5;1m 1       \u001b[0m \u001b[38;5;1m 0.0003168\u001b[0m \u001b[38;5;1m 0.002372\u001b[0m \u001b[38;5;4m-0.1719  \u001b[0m  \u001b[0m\n",
       "  \u001b[38;5;1m 0.0004116\u001b[0m \u001b[38;5;1m-0.9992  \u001b[0m \u001b[38;5;1m-0.04004 \u001b[0m \u001b[38;5;4m-0.6194  \u001b[0m  \u001b[0m\n",
       "  \u001b[38;5;1m 0.002358\u001b[0m \u001b[38;5;1m 0.04004 \u001b[0m \u001b[38;5;1m-0.9992  \u001b[0m \u001b[38;5;4m 0.3482  \u001b[0m  \u001b[0m\n",
       "  \u001b[38;5;244m 0       \u001b[0m \u001b[38;5;244m 0       \u001b[0m \u001b[38;5;244m 0       \u001b[0m \u001b[38;5;244m 1       \u001b[0m  \u001b[0m\n",
       ",\n",
       "    \u001b[38;5;1m 1       \u001b[0m \u001b[38;5;1m 0.0003213\u001b[0m \u001b[38;5;1m 0.002358\u001b[0m \u001b[38;5;4m-0.1719  \u001b[0m  \u001b[0m\n",
       "  \u001b[38;5;1m 0.0004156\u001b[0m \u001b[38;5;1m-0.9992  \u001b[0m \u001b[38;5;1m-0.04008 \u001b[0m \u001b[38;5;4m-0.6194  \u001b[0m  \u001b[0m\n",
       "  \u001b[38;5;1m 0.002343\u001b[0m \u001b[38;5;1m 0.04008 \u001b[0m \u001b[38;5;1m-0.9992  \u001b[0m \u001b[38;5;4m 0.3686  \u001b[0m  \u001b[0m\n",
       "  \u001b[38;5;244m 0       \u001b[0m \u001b[38;5;244m 0       \u001b[0m \u001b[38;5;244m 0       \u001b[0m \u001b[38;5;244m 1       \u001b[0m  \u001b[0m\n",
       ",\n",
       "    \u001b[38;5;1m 1       \u001b[0m \u001b[38;5;1m 0.0005316\u001b[0m \u001b[38;5;1m 0.002363\u001b[0m \u001b[38;5;4m-0.1719  \u001b[0m  \u001b[0m\n",
       "  \u001b[38;5;1m 0.0006258\u001b[0m \u001b[38;5;1m-0.9992  \u001b[0m \u001b[38;5;1m-0.04004 \u001b[0m \u001b[38;5;4m-0.6194  \u001b[0m  \u001b[0m\n",
       "  \u001b[38;5;1m 0.00234 \u001b[0m \u001b[38;5;1m 0.04005 \u001b[0m \u001b[38;5;1m-0.9992  \u001b[0m \u001b[38;5;4m 0.6723  \u001b[0m  \u001b[0m\n",
       "  \u001b[38;5;244m 0       \u001b[0m \u001b[38;5;244m 0       \u001b[0m \u001b[38;5;244m 0       \u001b[0m \u001b[38;5;244m 1       \u001b[0m  \u001b[0m\n",
       "],\n",
       " 'poses_q': [array([ 1.84312,  0.60144, -0.88547, -0.01306,  1.61673, -1.29874]),\n",
       "  array([ 1.84312,  0.74113, -1.46688, -0.01672,  0.89567, -1.2879 ]),\n",
       "  array([ 1.84312,  0.76954, -1.47752, -0.01728,  0.85666, -1.28704]),\n",
       "  array([ 1.84312,  0.74113, -1.46688, -0.01672,  0.89567, -1.2879 ]),\n",
       "  array([ 1.84312,  0.60144, -0.88547, -0.01306,  1.61673, -1.29874])],\n",
       " 'close_tc': [0, 0, 1, 0, 0],\n",
       " 'use_joint_ctrl': [1, 0, 0, 0, 0]}"
      ]
     },
     "execution_count": 7,
     "metadata": {},
     "output_type": "execute_result"
    }
   ],
   "source": [
    "x[\"pickup\"]"
   ]
  },
  {
   "cell_type": "code",
   "execution_count": 13,
   "id": "37a88492",
   "metadata": {},
   "outputs": [],
   "source": [
    "x[\"pickup\"][\"poses_A\"].insert(4,x[\"pickup\"][\"poses_A\"][2])\n",
    "x[\"pickup\"][\"poses_q\"].insert(4,x[\"pickup\"][\"poses_q\"][2])\n",
    "x[\"pickup\"][\"use_joint_ctrl\"].insert(4,x[\"pickup\"][\"use_joint_ctrl\"][2])\n",
    "x[\"pickup\"][\"close_tc\"].insert(4,x[\"pickup\"][\"close_tc\"][2])"
   ]
  },
  {
   "cell_type": "code",
   "execution_count": 4,
   "id": "cffe2758",
   "metadata": {},
   "outputs": [
    {
     "data": {
      "text/plain": [
       "[0, 1, 0, 0]"
      ]
     },
     "execution_count": 4,
     "metadata": {},
     "output_type": "execute_result"
    }
   ],
   "source": [
    "x[\"dispose\"][\"open_tc\"]"
   ]
  },
  {
   "cell_type": "code",
   "execution_count": null,
   "id": "3a45aabd",
   "metadata": {},
   "outputs": [],
   "source": [
    "x[\"dispose\"][\"poses_A\"].insert(0,AA)\n",
    "x[\"dispose\"][\"poses_q\"].insert(0,qq)\n",
    "x[\"dispose\"][\"use_joint_ctrl\"].insert(0,0)\n",
    "x[\"dispose\"][\"open_tc\"].insert(0,0)\n",
    "x[\"pickup\"][\"poses_A\"].append(AA)\n",
    "x[\"pickup\"][\"poses_q\"].append(qq)\n",
    "x[\"pickup\"][\"use_joint_ctrl\"].append(1)\n",
    "x[\"pickup\"][\"close_tc\"].append(0)"
   ]
  },
  {
   "cell_type": "code",
   "execution_count": null,
   "id": "private-delhi",
   "metadata": {},
   "outputs": [],
   "source": [
    "x[\"dispose\"][\"poses_A\"].insert(0,disp_A[1])\n",
    "x[\"dispose\"][\"poses_A\"].insert(0,disp_A[0])\n",
    "x[\"dispose\"][\"poses_q\"].insert(0,disp_q[1])\n",
    "x[\"dispose\"][\"poses_q\"].insert(0,disp_q[0])\n",
    "x[\"dispose\"][\"use_joint_ctrl\"].insert(0,1)\n",
    "x[\"dispose\"][\"use_joint_ctrl\"].insert(0,0)\n",
    "x[\"dispose\"][\"open_tc\"].insert(0,0)\n",
    "x[\"dispose\"][\"open_tc\"].insert(0,0)"
   ]
  },
  {
   "cell_type": "code",
   "execution_count": null,
   "id": "e1cbabd1",
   "metadata": {},
   "outputs": [],
   "source": [
    "x[\"pickup\"][\"poses_A\"].append(disp_A[0])\n",
    "x[\"pickup\"][\"poses_A\"].append(disp_A[1])\n",
    "x[\"pickup\"][\"poses_q\"].append(disp_q[0])\n",
    "x[\"pickup\"][\"poses_q\"].append(disp_q[1])\n",
    "x[\"pickup\"][\"use_joint_ctrl\"].append(0)\n",
    "x[\"pickup\"][\"use_joint_ctrl\"].append(1)\n",
    "x[\"pickup\"][\"close_tc\"].append(0)\n",
    "x[\"pickup\"][\"close_tc\"].append(0)"
   ]
  },
  {
   "cell_type": "code",
   "execution_count": null,
   "id": "fef12301",
   "metadata": {},
   "outputs": [],
   "source": [
    "x[\"pickup\"][\"poses_q\"].append(beforedispose_afterpickup)\n",
    "x[\"pickup\"][\"poses_q\"].append(totheleft)\n",
    "x[\"pickup\"][\"poses_q\"].append(after_before_unscrewing)"
   ]
  },
  {
   "cell_type": "code",
   "execution_count": null,
   "id": "canadian-extreme",
   "metadata": {},
   "outputs": [],
   "source": [
    "x[\"dispose\"][\"use_joint_ctrl\"].insert(0,1)"
   ]
  },
  {
   "cell_type": "code",
   "execution_count": null,
   "id": "proper-facial",
   "metadata": {},
   "outputs": [],
   "source": [
    "x[\"dispose\"][\"open_tc\"].insert(0,0)"
   ]
  },
  {
   "cell_type": "code",
   "execution_count": null,
   "id": "sonic-browse",
   "metadata": {},
   "outputs": [],
   "source": [
    "x[\"pickup\"][\"poses_A\"].append(sm.SE3())"
   ]
  },
  {
   "cell_type": "code",
   "execution_count": null,
   "id": "demonstrated-highway",
   "metadata": {},
   "outputs": [],
   "source": [
    "#A small helper function to shift a pose's position by vec = [x y z] in m\n",
    "def moveByVec(vec, pose):\n",
    "    #shift position of se3 by vec\n",
    "    return sm.SE3(vec)@pose"
   ]
  },
  {
   "cell_type": "markdown",
   "id": "ambient-sculpture",
   "metadata": {},
   "source": [
    "### Before automatic testing, check if automatic open/close tool changer works!"
   ]
  },
  {
   "cell_type": "code",
   "execution_count": null,
   "id": "signal-guard",
   "metadata": {},
   "outputs": [],
   "source": [
    "cobot.close_tool_changer()#force=True)"
   ]
  },
  {
   "cell_type": "code",
   "execution_count": null,
   "id": "distinguished-listing",
   "metadata": {},
   "outputs": [],
   "source": [
    "cobot.open_tool_changer()#force=True)"
   ]
  },
  {
   "cell_type": "code",
   "execution_count": null,
   "id": "e6346f6d",
   "metadata": {},
   "outputs": [],
   "source": [
    "cobot.stop()"
   ]
  },
  {
   "cell_type": "code",
   "execution_count": null,
   "id": "ef3199fe",
   "metadata": {},
   "outputs": [],
   "source": [
    "cobot.T_B_E_robot"
   ]
  },
  {
   "cell_type": "markdown",
   "id": "prostate-server",
   "metadata": {},
   "source": [
    "### Pickup\n",
    "Make sure that tool changer is open!"
   ]
  },
  {
   "cell_type": "code",
   "execution_count": 56,
   "id": "extraordinary-recipe",
   "metadata": {},
   "outputs": [],
   "source": [
    "poses = x[\"pickup\"]\n",
    "#print(poses[\"close_tc\"])"
   ]
  },
  {
   "cell_type": "code",
   "execution_count": 57,
   "id": "c7d579b7",
   "metadata": {},
   "outputs": [
    {
     "data": {
      "text/plain": [
       "[1, 0, 0, 0, 0, 0, 0, 0, 0, 0, 1, 1]"
      ]
     },
     "execution_count": 57,
     "metadata": {},
     "output_type": "execute_result"
    }
   ],
   "source": [
    "x[\"pickup\"][\"use_joint_ctrl\"]"
   ]
  },
  {
   "cell_type": "code",
   "execution_count": 52,
   "id": "c94437f0",
   "metadata": {},
   "outputs": [],
   "source": [
    "cobot.open_tool_changer()"
   ]
  },
  {
   "cell_type": "code",
   "execution_count": 142,
   "id": "d82770d6",
   "metadata": {},
   "outputs": [
    {
     "data": {
      "text/plain": [
       "[0, 0, 0, 1, 0, 0, 0]"
      ]
     },
     "execution_count": 142,
     "metadata": {},
     "output_type": "execute_result"
    }
   ],
   "source": [
    "poses[\"close_tc\"]"
   ]
  },
  {
   "cell_type": "code",
   "execution_count": 165,
   "id": "a0bb7b82",
   "metadata": {},
   "outputs": [],
   "source": [
    "cobot.open_tool_changer(force=True)"
   ]
  },
  {
   "cell_type": "code",
   "execution_count": 60,
   "id": "baking-asthma",
   "metadata": {},
   "outputs": [
    {
     "name": "stderr",
     "output_type": "stream",
     "text": [
      "[rosout] joint(s) [1] are/is critical.\n",
      "[rosout] joint(s) [1] are/is critical.\n",
      "[rosout] joint(s) [1] are/is critical.\n",
      "[rosout] joint(s) [1] are/is critical.\n",
      "[rosout] joint(s) [1] are/is critical.\n",
      "[rosout] joint(s) [1] are/is critical.\n",
      "[rosout] joint(s) [1] are/is critical.\n",
      "[rosout] joint(s) [1] are/is critical.\n",
      "[rosout] joint(s) [1] are/is critical.\n",
      "[rosout] joint(s) [1] are/is critical.\n",
      "[rosout] joint(s) [1] are/is critical.\n",
      "[rosout] joint(s) [1] are/is critical.\n",
      "[rosout] joint(s) [1] are/is critical.\n",
      "[rosout] joint(s) [1] are/is critical.\n",
      "[rosout] joint(s) [1] are/is critical.\n",
      "[rosout] joint(s) [1] are/is critical.\n",
      "[rosout] joint(s) [1] are/is critical.\n",
      "[rosout] joint(s) [1] are/is critical.\n",
      "[rosout] joint(s) [1] are/is critical.\n",
      "[rosout] joint(s) [1] are/is critical.\n",
      "[rosout] joint(s) [1] are/is critical.\n",
      "[rosout] joint(s) [1] are/is critical.\n",
      "[rosout] joint(s) [1] are/is critical.\n",
      "[rosout] joint(s) [1] are/is critical.\n",
      "[rosout] joint(s) [1] are/is critical.\n",
      "[rosout] joint(s) [1] are/is critical.\n",
      "[rosout] joint(s) [1] are/is critical.\n",
      "[rosout] joint(s) [1] are/is critical.\n",
      "[rosout] joint(s) [1] are/is critical.\n",
      "[rosout] joint(s) [1] are/is critical.\n",
      "[rosout] joint(s) [1] are/is critical.\n",
      "[rosout] joint(s) [1] are/is critical.\n",
      "[rosout] joint(s) [1] are/is critical.\n",
      "[rosout] joint(s) [1] are/is critical.\n",
      "[rosout] joint(s) [1] are/is critical.\n",
      "[rosout] joint(s) [1] are/is critical.\n",
      "[rosout] joint(s) [1] are/is critical.\n",
      "[rosout] joint(s) [1] are/is critical.\n",
      "[rosout] joint(s) [1] are/is critical.\n",
      "[rosout] joint(s) [1] are/is critical.\n",
      "[rosout] joint(s) [1] are/is critical.\n",
      "[rosout] joint(s) [1] are/is critical.\n",
      "[rosout] joint(s) [1] are/is critical.\n",
      "[rosout] joint(s) [1] are/is critical.\n",
      "[rosout] joint(s) [1] are/is critical.\n",
      "[rosout] joint(s) [1] are/is critical.\n",
      "[rosout] joint(s) [1] are/is critical.\n",
      "[rosout] joint(s) [1] are/is critical.\n",
      "[rosout] joint(s) [1] are/is critical.\n",
      "[rosout] joint(s) [1] are/is critical.\n",
      "[rosout] joint(s) [1] are/is critical.\n"
     ]
    }
   ],
   "source": [
    "#Manual loop\n",
    "i = 2#run 0,1,2,3...\n",
    "if poses[\"use_joint_ctrl\"][i]:\n",
    "    cobot.move_to_joint_pose(poses[\"poses_q\"][i], stochastic=False) \n",
    "else:\n",
    "    cobot.goTo(poses[\"poses_A\"][i],v_max=0.01) \n",
    "if poses[\"close_tc\"][i]:\n",
    "    rospy.sleep(0.5)\n",
    "    cobot.close_tool_changer(force=True)"
   ]
  },
  {
   "cell_type": "code",
   "execution_count": null,
   "id": "metric-procedure",
   "metadata": {},
   "outputs": [],
   "source": [
    "#Automatic runthrough\n",
    "for i in range(len(poses[\"poses_A\"])):\n",
    "    if poses[\"use_joint_ctrl\"][i]:\n",
    "        rospy.sleep(0.5)\n",
    "        cobot.move_to_joint_pose(poses[\"poses_q\"][i], stochastic= False) \n",
    "    else:\n",
    "        rospy.sleep(0.5)\n",
    "        cobot.goTo(poses[\"poses_A\"][i],v_max=0.01) \n",
    "    if poses[\"close_tc\"][i]:\n",
    "        rospy.sleep(0.5)\n",
    "        cobot.close_tool_changer(force=True)"
   ]
  },
  {
   "cell_type": "code",
   "execution_count": 106,
   "id": "5a4e1fb7",
   "metadata": {},
   "outputs": [],
   "source": [
    "cobot.move_to_joint_pose(np.r_[ 1.34109,  0.09328, -1.44435, -0.01627,  0.67686, -0.00009], stochastic = False)"
   ]
  },
  {
   "cell_type": "code",
   "execution_count": null,
   "id": "52680fb5",
   "metadata": {},
   "outputs": [],
   "source": [
    "cobot.stop()"
   ]
  },
  {
   "cell_type": "markdown",
   "id": "constant-nightlife",
   "metadata": {},
   "source": [
    "### Dispose"
   ]
  },
  {
   "cell_type": "code",
   "execution_count": 107,
   "id": "understood-coffee",
   "metadata": {
    "scrolled": true
   },
   "outputs": [],
   "source": [
    "poses = x[\"dispose\"]"
   ]
  },
  {
   "cell_type": "code",
   "execution_count": 118,
   "id": "genetic-ultimate",
   "metadata": {},
   "outputs": [
    {
     "ename": "IndexError",
     "evalue": "list index out of range",
     "output_type": "error",
     "traceback": [
      "\u001b[0;31m---------------------------------------------------------------------------\u001b[0m",
      "\u001b[0;31mIndexError\u001b[0m                                Traceback (most recent call last)",
      "\u001b[0;32m/tmp/ipykernel_395506/3465857533.py\u001b[0m in \u001b[0;36m<module>\u001b[0;34m\u001b[0m\n\u001b[1;32m      2\u001b[0m \u001b[0mi\u001b[0m \u001b[0;34m=\u001b[0m \u001b[0;36m10\u001b[0m\u001b[0;34m\u001b[0m\u001b[0;34m\u001b[0m\u001b[0m\n\u001b[1;32m      3\u001b[0m \u001b[0;31m#change to 1,2,3...\u001b[0m\u001b[0;34m\u001b[0m\u001b[0;34m\u001b[0m\u001b[0;34m\u001b[0m\u001b[0m\n\u001b[0;32m----> 4\u001b[0;31m \u001b[0;32mif\u001b[0m \u001b[0mposes\u001b[0m\u001b[0;34m[\u001b[0m\u001b[0;34m\"use_joint_ctrl\"\u001b[0m\u001b[0;34m]\u001b[0m\u001b[0;34m[\u001b[0m\u001b[0mi\u001b[0m\u001b[0;34m]\u001b[0m\u001b[0;34m:\u001b[0m\u001b[0;34m\u001b[0m\u001b[0;34m\u001b[0m\u001b[0m\n\u001b[0m\u001b[1;32m      5\u001b[0m     \u001b[0mcobot\u001b[0m\u001b[0;34m.\u001b[0m\u001b[0mmove_to_joint_pose\u001b[0m\u001b[0;34m(\u001b[0m\u001b[0mposes\u001b[0m\u001b[0;34m[\u001b[0m\u001b[0;34m\"poses_q\"\u001b[0m\u001b[0;34m]\u001b[0m\u001b[0;34m[\u001b[0m\u001b[0mi\u001b[0m\u001b[0;34m]\u001b[0m\u001b[0;34m,\u001b[0m\u001b[0mstochastic\u001b[0m \u001b[0;34m=\u001b[0m \u001b[0;32mFalse\u001b[0m\u001b[0;34m)\u001b[0m\u001b[0;34m\u001b[0m\u001b[0;34m\u001b[0m\u001b[0m\n\u001b[1;32m      6\u001b[0m \u001b[0;32melse\u001b[0m\u001b[0;34m:\u001b[0m\u001b[0;34m\u001b[0m\u001b[0;34m\u001b[0m\u001b[0m\n",
      "\u001b[0;31mIndexError\u001b[0m: list index out of range"
     ]
    }
   ],
   "source": [
    "#Manual loop\n",
    "i = 10\n",
    "#change to 1,2,3...\n",
    "if poses[\"use_joint_ctrl\"][i]:\n",
    "    cobot.move_to_joint_pose(poses[\"poses_q\"][i],stochastic = False) \n",
    "else:\n",
    "    cobot.goTo(poses[\"poses_A\"][i],v_max=0.01) \n",
    "if poses[\"open_tc\"][i]:\n",
    "    rospy.sleep(0.5)\n",
    "    cobot.open_tool_changer(force=True)"
   ]
  },
  {
   "cell_type": "code",
   "execution_count": 33,
   "id": "b4f1a734",
   "metadata": {},
   "outputs": [
    {
     "data": {
      "text/plain": [
       "array([ 35.50507,   8.82202, -35.5957 , -38.34503,  37.79205,   1.88342])"
      ]
     },
     "execution_count": 33,
     "metadata": {},
     "output_type": "execute_result"
    }
   ],
   "source": [
    "cobot.FT_F"
   ]
  },
  {
   "cell_type": "code",
   "execution_count": null,
   "id": "romantic-recruitment",
   "metadata": {},
   "outputs": [],
   "source": [
    "#Automatic runthrough\n",
    "for i in range(len(poses[\"poses_A\"])):\n",
    "    if poses[\"use_joint_ctrl\"][i]:\n",
    "        rospy.sleep(0.5)\n",
    "        cobot.move_to_joint_pose(poses[\"poses_q\"][i], stochastic = False) \n",
    "    else:\n",
    "        rospy.sleep(0.5)\n",
    "        cobot.goTo(poses[\"poses_A\"][i],v_max=0.01) \n",
    "    if poses[\"open_tc\"][i]:\n",
    "        rospy.sleep(0.5)\n",
    "        cobot.open_tool_changer(force=True)"
   ]
  },
  {
   "cell_type": "code",
   "execution_count": 40,
   "id": "fe495a40",
   "metadata": {},
   "outputs": [],
   "source": [
    "cobot.move_to_joint_pose(np.r_[1.34109, 0.09328, -1.44435, -0.01627, 0.67686, -0.00009], stochastic=False)"
   ]
  },
  {
   "cell_type": "code",
   "execution_count": null,
   "id": "bda9590c",
   "metadata": {},
   "outputs": [],
   "source": [
    "twoCutting_q = np.load(\"twoCutting_q.npy\")"
   ]
  },
  {
   "cell_type": "code",
   "execution_count": null,
   "id": "55754767",
   "metadata": {},
   "outputs": [],
   "source": [
    "nextCutting_q = np.load(\"nextCutting_q.npy\")"
   ]
  },
  {
   "cell_type": "code",
   "execution_count": null,
   "id": "4f2ce063",
   "metadata": {},
   "outputs": [],
   "source": [
    "twoCutting_q[0]"
   ]
  },
  {
   "cell_type": "code",
   "execution_count": null,
   "id": "2bcd87e3",
   "metadata": {},
   "outputs": [],
   "source": [
    "cobot.move_to_joint_pose(twoCutting_q[0]) "
   ]
  },
  {
   "cell_type": "code",
   "execution_count": null,
   "id": "69ae33a8",
   "metadata": {},
   "outputs": [],
   "source": [
    "cobot.move_to_joint_pose(twoCutting_q[1]) "
   ]
  },
  {
   "cell_type": "code",
   "execution_count": null,
   "id": "c47f95f3",
   "metadata": {},
   "outputs": [],
   "source": [
    "cobot.move_to_joint_pose(twoCutting_q[1]) "
   ]
  }
 ],
 "metadata": {
  "kernelspec": {
   "display_name": "Python 3 (ipykernel)",
   "language": "python",
   "name": "python3"
  },
  "language_info": {
   "codemirror_mode": {
    "name": "ipython",
    "version": 3
   },
   "file_extension": ".py",
   "mimetype": "text/x-python",
   "name": "python",
   "nbconvert_exporter": "python",
   "pygments_lexer": "ipython3",
   "version": "3.8.12"
  },
  "latex_envs": {
   "LaTeX_envs_menu_present": true,
   "autoclose": false,
   "autocomplete": true,
   "bibliofile": "biblio.bib",
   "cite_by": "apalike",
   "current_citInitial": 1,
   "eqLabelWithNumbers": true,
   "eqNumInitial": 1,
   "hotkeys": {
    "equation": "Ctrl-E",
    "itemize": "Ctrl-I"
   },
   "labels_anchors": false,
   "latex_user_defs": false,
   "report_style_numbering": false,
   "user_envs_cfg": false
  },
  "toc": {
   "base_numbering": 1,
   "nav_menu": {},
   "number_sections": true,
   "sideBar": true,
   "skip_h1_title": false,
   "title_cell": "Table of Contents",
   "title_sidebar": "Contents",
   "toc_cell": false,
   "toc_position": {},
   "toc_section_display": true,
   "toc_window_display": false
  },
  "vscode": {
   "interpreter": {
    "hash": "916dbcbb3f70747c44a77c7bcd40155683ae19c65e1c03b4aa3499c5328201f1"
   }
  }
 },
 "nbformat": 4,
 "nbformat_minor": 5
}
