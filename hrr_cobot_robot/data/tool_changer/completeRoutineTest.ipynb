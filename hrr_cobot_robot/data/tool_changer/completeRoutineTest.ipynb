{
 "cells": [
  {
   "cell_type": "code",
   "execution_count": 1,
   "id": "d8ee4498",
   "metadata": {},
   "outputs": [],
   "source": [
    "# math and robotics\n",
    "import pathlib\n",
    "import numpy as np\n",
    "import spatialmath as sm\n",
    "import quaternion\n",
    "from comau_msgs.srv import SetIO, SetIORequest\n",
    "\n",
    "\n",
    "# ROS\n",
    "import actionlib\n",
    "import rospy\n",
    "import hrr_common\n",
    "from hr_recycler_msgs.msg import (\n",
    "    AdaptiveGraspingAction, AdaptiveGraspingGoal,\n",
    "    CuttingAction, CuttingGoal,\n",
    "    ChangeToolAction, ChangeToolGoal,    \n",
    "    FingerGraspAction, FingerGraspGoal,    \n",
    "    PushOpenAction, PushOpenGoal,\n",
    "    VacuumGraspingAction, VacuumGraspingGoal,\n",
    "    UnscrewAction, UnscrewGoal\n",
    ")\n",
    "from hrr_msgs.msg import CalibrateCobotAction, CalibrateCobotGoal\n",
    "\n",
    "# set printing and plotting options\n",
    "np.set_printoptions(precision=10, suppress=True)\n",
    "\n",
    "from hr_recycler_msgs.msg import CuttingAction, CuttingFeedback, CuttingResult, CuttingGoal, SkillResult, CobotState, MaterialType\n",
    "import actionlib\n",
    "from hr_recycler_msgs.msg import ToolType\n",
    "\n",
    "from hr_recycler_msgs.msg import PlannerAction , PlannerGoal\n",
    "import hrr_common as hrr_cm"
   ]
  },
  {
   "cell_type": "code",
   "execution_count": 2,
   "id": "5215ad1f",
   "metadata": {},
   "outputs": [],
   "source": [
    "rospy.init_node('full_tool_change_routine_demo')"
   ]
  },
  {
   "cell_type": "code",
   "execution_count": 3,
   "id": "7be1e653",
   "metadata": {},
   "outputs": [],
   "source": [
    "cobot_ns = hrr_common.ros_utils.fix_prefix(hrr_common.ros_utils.get_param(\"/cobot_ns\"))\n",
    "change_tool_action_srv_name = hrr_common.ros_utils.get_param(f\"{cobot_ns}change_tool_action_srv_name\")\n",
    "calibration_action_srv_name = hrr_common.ros_utils.get_param(f\"{cobot_ns}calibration_action_srv_name\")\n",
    "cutting_action_srv_name = hrr_common.ros_utils.get_param(f\"{cobot_ns}cutting_action_srv_name\")\n",
    "grinding_action_srv_name = hrr_common.ros_utils.get_param(f\"{cobot_ns}grinding_action_srv_name\")\n",
    "pc_opening_action_srv_name = hrr_common.ros_utils.get_param(f\"{cobot_ns}pc_opening_action_srv_name\")\n",
    "sensitive_grasping_action_srv_name = hrr_common.ros_utils.get_param(f\"{cobot_ns}sensitive_grasping_action_srv_name\")\n",
    "unscrew_action_srv_name = hrr_common.ros_utils.get_param(f\"{cobot_ns}unscrew_action_srv_name\")\n",
    "vacuum_pick_place_action_srv_name = hrr_common.ros_utils.get_param(f\"{cobot_ns}vacuum_pick_place_action_srv_name\")\n",
    "finger_grasping_action_srv_name= hrr_common.ros_utils.get_param(f\"{cobot_ns}finger_grasping_action_srv_name\")\n",
    "#pgrip_client = get_client(finger_grasping_action_srv_name, FingerGraspAction)\n",
    "\n",
    "def get_client(action_topic, ActionClass, timeout_secs=2.0):\n",
    "    client = actionlib.SimpleActionClient(action_topic, ActionClass)\n",
    "    client.wait_for_server(timeout=rospy.Duration(timeout_secs))\n",
    "    return client\n",
    "def get_result(cl):\n",
    "    cl.wait_for_result()\n",
    "    return cl.get_result()\n",
    "\n",
    "def cancel(cl):\n",
    "    cl.cancel_all_goals()\n",
    "    \n",
    "    \n",
    "def set_cutting_goal(pointA, pointB):\n",
    "    material= MaterialType()\n",
    "    material = material.PLASTIC\n",
    "\n",
    "    normalB = hrr_cm.ros_utils.np2vector3stamped(np.r_[0,0,1], \"normalB\")\n",
    "    normalA = hrr_cm.ros_utils.np2vector3stamped(np.r_[0,0,1], \"normalA\")\n",
    "\n",
    "    goal=CuttingGoal()\n",
    "    goal.surface_normal_start=normalA\n",
    "    goal.surface_normal_end=normalB\n",
    "    goal.start_location=pointA\n",
    "    goal.end_location=pointB\n",
    "    goal.material.material_type=material\n",
    "    goal.timeout=5000\n",
    "    goal.thickness = 0.005 #not important. can be anything\n",
    "    return goal\n",
    "    \n",
    "calibrate_client = get_client(calibration_action_srv_name, CalibrateCobotAction)   \n",
    "vacuum_client = get_client(vacuum_pick_place_action_srv_name, VacuumGraspingAction)\n",
    "pgrip_client = get_client(finger_grasping_action_srv_name, FingerGraspAction)\n",
    "tool_change_client = get_client(change_tool_action_srv_name, ChangeToolAction)\n",
    "shaftgrinder_client=get_client(cutting_action_srv_name, CuttingAction)\n",
    "grasping_client = get_client(sensitive_grasping_action_srv_name, AdaptiveGraspingAction)"
   ]
  },
  {
   "cell_type": "code",
   "execution_count": 4,
   "id": "47cc6f40",
   "metadata": {},
   "outputs": [
    {
     "name": "stdout",
     "output_type": "stream",
     "text": [
      "[rosout] [/full_tool_change_routine_demo] Initialize MATLAB-Motion planner @ /home/hrr_cobot/_ros/hr_recycler_ws/src/planner/src\n",
      "[rosout] [/full_tool_change_routine_demo] connected to Matlab\n",
      "Shutting down global node /matlab_global_node_34791 with NodeURI http://192.168.2.87:36687/\n",
      "The value of the ROS_IP environment variable, 192.168.2.87, will be used to set the advertised address for the ROS node.\n",
      "Initializing global node /matlab_global_node_73730 with NodeURI http://192.168.2.87:43159/\n",
      "[rosout] [/full_tool_change_routine_demo] MATLAB-Initialization done\n"
     ]
    },
    {
     "name": "stderr",
     "output_type": "stream",
     "text": [
      "pybullet build time: May  8 2021 05:48:13\n"
     ]
    },
    {
     "name": "stdout",
     "output_type": "stream",
     "text": [
      "[rosout] some functions are not yet compiled. Expect delays upon first call\n"
     ]
    }
   ],
   "source": [
    "import hrr_cobot_robot as hrr_rob\n",
    "cobot = hrr_rob.HrrCobotControl.from_ros(\"/hrr_cobot\")\n",
    "#cobot.change_tool(\"nothing\")"
   ]
  },
  {
   "cell_type": "code",
   "execution_count": 12,
   "id": "d30cd317",
   "metadata": {},
   "outputs": [],
   "source": [
    "cobot.open_tool_changer()"
   ]
  },
  {
   "cell_type": "code",
   "execution_count": 6,
   "id": "413a2567",
   "metadata": {},
   "outputs": [
    {
     "data": {
      "text/plain": [
       "True"
      ]
     },
     "execution_count": 6,
     "metadata": {},
     "output_type": "execute_result"
    }
   ],
   "source": [
    "cobot.change_tool(\"nothing\")"
   ]
  },
  {
   "cell_type": "markdown",
   "id": "3590f336",
   "metadata": {},
   "source": [
    "### Screwdriver"
   ]
  },
  {
   "cell_type": "code",
   "execution_count": 11,
   "id": "72c33274",
   "metadata": {},
   "outputs": [],
   "source": [
    "tc_goal = ChangeToolGoal()\n",
    "tc_goal.new_tool.type = tc_goal.new_tool.SCREW_DRIVER\n",
    "tool_change_client.send_goal(tc_goal)"
   ]
  },
  {
   "cell_type": "markdown",
   "id": "8f8b6582",
   "metadata": {},
   "source": [
    "### Shaftgrinder"
   ]
  },
  {
   "cell_type": "code",
   "execution_count": 10,
   "id": "9316b00b",
   "metadata": {},
   "outputs": [],
   "source": [
    "tc_goal = ChangeToolGoal()\n",
    "tc_goal.new_tool.type = tc_goal.new_tool.SHAFT_GRINDER\n",
    "tool_change_client.send_goal(tc_goal)"
   ]
  },
  {
   "cell_type": "markdown",
   "id": "f8cbb779",
   "metadata": {},
   "source": [
    "### Finger_vacuum"
   ]
  },
  {
   "cell_type": "code",
   "execution_count": 7,
   "id": "aa09c895",
   "metadata": {},
   "outputs": [],
   "source": [
    "tc_goal = ChangeToolGoal()\n",
    "tc_goal.new_tool.type = tc_goal.new_tool.WSG_50\n",
    "tool_change_client.send_goal(tc_goal)\n",
    "# tool_change_client.cancel_all_goals()"
   ]
  },
  {
   "cell_type": "markdown",
   "id": "46e3c73b",
   "metadata": {},
   "source": [
    "### Adaptive_gripper"
   ]
  },
  {
   "cell_type": "code",
   "execution_count": 9,
   "id": "027f8039",
   "metadata": {},
   "outputs": [],
   "source": [
    "tc_goal = ChangeToolGoal()\n",
    "tc_goal.new_tool.type = tc_goal.new_tool.WSG_50_DSA\n",
    "tool_change_client.send_goal(tc_goal)"
   ]
  },
  {
   "cell_type": "markdown",
   "id": "eb3b65c0",
   "metadata": {},
   "source": [
    "### vacuum"
   ]
  },
  {
   "cell_type": "code",
   "execution_count": 8,
   "id": "bbacdf05",
   "metadata": {},
   "outputs": [],
   "source": [
    "tc_goal = ChangeToolGoal()\n",
    "tc_goal.new_tool.type = tc_goal.new_tool.VACUUM_GRIPPER\n",
    "tool_change_client.send_goal(tc_goal)"
   ]
  },
  {
   "cell_type": "code",
   "execution_count": null,
   "id": "e78b34ef",
   "metadata": {},
   "outputs": [],
   "source": [
    "tool_change_client.cancel_all_goals()"
   ]
  },
  {
   "cell_type": "code",
   "execution_count": null,
   "id": "37dcd522",
   "metadata": {},
   "outputs": [],
   "source": [
    "cobot.tool"
   ]
  },
  {
   "cell_type": "code",
   "execution_count": null,
   "id": "683af3f7",
   "metadata": {},
   "outputs": [],
   "source": []
  }
 ],
 "metadata": {
  "kernelspec": {
   "display_name": "Python 3 (ipykernel)",
   "language": "python",
   "name": "python3"
  },
  "language_info": {
   "codemirror_mode": {
    "name": "ipython",
    "version": 3
   },
   "file_extension": ".py",
   "mimetype": "text/x-python",
   "name": "python",
   "nbconvert_exporter": "python",
   "pygments_lexer": "ipython3",
   "version": "3.8.12"
  }
 },
 "nbformat": 4,
 "nbformat_minor": 5
}
