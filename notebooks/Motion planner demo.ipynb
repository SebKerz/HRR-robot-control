{
 "cells": [
  {
<<<<<<< HEAD
   "cell_type": "code",
   "execution_count": 2,
   "id": "subject-mustang",
   "metadata": {},
   "outputs": [],
   "source": [
    "import numpy as np\n",
    "import sys\n",
    "import hrr_common.utils as cu\n",
    "from hrr_cobot_robot.gripper_interfaces.wsg_50_hw_local import gripper_command_handle as gch\n",
=======
   "cell_type": "markdown",
   "id": "0f43f79f",
   "metadata": {},
   "source": [
    "###### import numpy as np\n",
    "import sys\n",
    "import hrr_common.utils as cu\n",
>>>>>>> ecoreset_tum_sync
    "import hrr_common as hrr_cm\n",
    "import hrr_cobot_robot as hrr_rob\n",
    "import spatialmath as sm\n",
    "import rospy\n",
    "from tqdm.notebook import tqdm, trange\n",
<<<<<<< HEAD
=======
    "import hrr_cobot_robot\n",
>>>>>>> ecoreset_tum_sync
    "from hrr_msgs.msg import PlannerAction , PlannerGoal\n",
    "\n",
    "# ROS\n",
    "import actionlib"
   ]
  },
  {
   "cell_type": "code",
<<<<<<< HEAD
   "execution_count": 3,
=======
   "execution_count": 4,
>>>>>>> ecoreset_tum_sync
   "id": "located-crazy",
   "metadata": {},
   "outputs": [
    {
     "name": "stdout",
     "output_type": "stream",
     "text": [
<<<<<<< HEAD
      "for a local setup, replace the above by:\n",
      "\t%env ROS_MASTER_URI=http://localhost:11311\n",
      "env: ROS_MASTER_URI=http://hrrN3511rt2004.lsr.ei.tum.de:11311\n",
      "in case this notebook does not work please check that IP below is identical:\n",
      "\t%env ROS_IP=129.187.147.174\t\t<=>\tenv: ROS_IP=129.187.147.174\n"
=======
      "env: ROS_MASTER_URI=http://127.0.0.1:11311\n",
      "\t\u001b[1m\u001b[4m!!!please check that the IPs below is identical!!!\u001b[0m\n",
      "\thost hrrN3511rt2004 has IP 192.168.1.35, which should be identical to\n",
      "vs:\tenv: ROS_IP=192.168.1.35\n"
>>>>>>> ecoreset_tum_sync
     ]
    }
   ],
   "source": [
<<<<<<< HEAD
    "import socket\n",
    "print(\"for a local setup, replace the above by:\\n\\t\" + \\\n",
    "      r\"%env ROS_MASTER_URI=http://localhost:11311\")\n",
    "%env ROS_MASTER_URI=http://hrrN3511rt2004.lsr.ei.tum.de:11311\n",
    "print(\"in case this notebook does not work please check that IP below is identical:\\n\\t\"+\n",
    "      r\"%env \" + f\"ROS_IP={ socket.gethostbyname(socket. gethostname())}\\t\\t<=>\",end=\"\\t\")\n",
    "%env ROS_IP=129.187.147.174"
=======
    "def get_hostname_and_IP():\n",
    "    import socket\n",
    "    with socket.socket(socket.AF_INET, socket.SOCK_DGRAM) as s:\n",
    "        s.connect((\"8.8.8.8\", 80))\n",
    "        return socket.gethostname(), s.getsockname()[0]\n",
    "\n",
    "_host, _ip = get_hostname_and_IP()\n",
    "%env ROS_MASTER_URI=http://127.0.0.1:11311\n",
    "# %env ROS_MASTER_URI=http://hrrcobotLinux54:11311\n",
    "print(f\"\\t\\033[1m\\033[4m!!!please check that the IPs below is identical!!!\\033[0m\"+\n",
    "      f\"\\n\\thost {_host} has IP {_ip}, which should be identical to\",end=\"\\nvs:\\t\")\n",
    "%env ROS_IP=$_ip"
>>>>>>> ecoreset_tum_sync
   ]
  },
  {
   "cell_type": "markdown",
   "id": "undefined-creator",
   "metadata": {},
   "source": [
    "### Initiate cobot, planner and gripper\n",
    "\n",
    "catkin build hrr_ee_tools package\n",
    "\n",
    "Launch the cobot\n",
    "```bash\n",
    "roslaunch hrr_cobot_robot hrr_cobot_hw.launch tool_name:=\"wsg_50\"  \n",
    "```\n",
    "\n",
    "```bash\n",
    "rosrun planner planner_server_v2.py \n",
    "```\n"
   ]
  },
  {
   "cell_type": "code",
   "execution_count": 5,
   "id": "compatible-nitrogen",
   "metadata": {},
   "outputs": [],
   "source": [
    "rospy.init_node('motion_planner_demo')"
   ]
  },
  {
   "cell_type": "code",
<<<<<<< HEAD
   "execution_count": 6,
   "id": "nonprofit-leadership",
   "metadata": {},
   "outputs": [
    {
     "name": "stderr",
     "output_type": "stream",
     "text": [
      "[ERROR] [1642090780.761263]: could not set tool-frame @ /motion_planner_demo due to missing ROS-parameter: '~tool_name'\n"
     ]
    },
    {
     "name": "stdout",
     "output_type": "stream",
     "text": [
      "[INFO] [1642090781.318708]: Updated force  gains: K_p:=[0.0001, 0.0001, 0.0001]\n",
      "[INFO] [1642090781.323164]: Updated torque gains: K_p:=[0.0005, 0.0005, 0.0005]\n",
      "q:\t\t[-47.70121471  47.3521374  -71.71279938   0.21843125  60.34766513\n",
      "  -3.73553761][°]\n",
      "q_dot:\t\t[0. 0. 0. 0. 0. 0.][rad/s]\n",
      "tau:\t\t[0. 0. 0. 0. 0. 0.][Nm]\n",
      "pos:\t\t[0.46092657 0.5061795  0.39188977][m]\n",
      "quat:\t\t0.00534 <[-3.75189879e-01  9.26932337e-01  7.27189703e-04]>\n",
      "tool-pos:\t[0.46092657 0.5061795  0.39188977][m]\n",
      "tool-rpy:\t[ 135.92579651    0.53549159 -179.69334412][°]\n",
      "robot-status:\tready\n"
     ]
    },
    {
     "name": "stderr",
     "output_type": "stream",
     "text": [
      "[WARN] [1642090781.557524]: Could not process inbound connection: Client [/hrr_cobot] wants topic [/hrr_cobot/sensor_track_compliant_controller/hybrid_ctrl_cmd] to have datatype/md5sum [hrr_msgs/HybridForceVelocityCmdStamped/6bfe9d92f9569269ce7086e736ecd0c2], but our version has [hrr_msgs/HybridForceVelocityCmdStamped/c7d32c882fe005053aba472f934842bd] Dropping connection.{'callerid': '/hrr_cobot', 'md5sum': '6bfe9d92f9569269ce7086e736ecd0c2', 'tcp_nodelay': '0', 'topic': '/hrr_cobot/sensor_track_compliant_controller/hybrid_ctrl_cmd', 'type': 'hrr_msgs/HybridForceVelocityCmdStamped'}\n"
     ]
    }
   ],
   "source": [
    "hrr_rob.load_default_parameters(\"/hrr_cobot\")\n",
    "cobot = hrr_rob.HrrCobotControl.from_ros()\n",
    "rospy.set_param(\"~joint_state_topic_name\", \"/hrr_cobot/joint_states\")\n",
    "rospy.set_param(\"~tp5_topic_name\", \"/hrr_cobot/comau_robot_state_controller/comau_cartesian_data\")\n",
    "comau_status = hrr_rob.ComauRobotState.from_ros()\n",
    "rospy.sleep(1e-1)\n",
    "print(comau_status)"
=======
   "execution_count": 8,
   "id": "a540a7c3",
   "metadata": {},
   "outputs": [],
   "source": [
    "cobot = hrr_cobot_robot.HrrCobotControl.from_ros(\"/hrr_cobot\")"
>>>>>>> ecoreset_tum_sync
   ]
  },
  {
   "cell_type": "code",
<<<<<<< HEAD
   "execution_count": 12,
=======
   "execution_count": 9,
>>>>>>> ecoreset_tum_sync
   "id": "silver-saying",
   "metadata": {},
   "outputs": [],
   "source": [
    "client1 = actionlib.SimpleActionClient('planner', PlannerAction)\n",
    "client1.wait_for_server()\n",
    "\n",
    "# Sending deride end configuration\n",
    "goalA = PlannerGoal()\n",
    "goalA.goal_pose.header.frame_id = \"map\"\n",
    "goalA.goal_pose.header.stamp = rospy.Time.now()\n",
    "\n",
    "goalB = PlannerGoal()\n",
    "goalB.goal_pose.header.frame_id = \"map\"\n",
    "goalB.goal_pose.header.stamp = rospy.Time.now()"
   ]
  },
  {
   "cell_type": "code",
   "execution_count": null,
   "id": "manufactured-clear",
   "metadata": {},
   "outputs": [],
   "source": [
    "gripper = gch.GripperCommandHandle('/hrr_cobot/gripper')\n",
    "gripper.reset()"
   ]
  },
  {
   "cell_type": "code",
   "execution_count": null,
   "id": "gorgeous-ethernet",
   "metadata": {},
   "outputs": [],
   "source": [
    "gripper.send_pos(40,50)"
   ]
  },
  {
   "cell_type": "markdown",
   "id": "friendly-merchant",
   "metadata": {},
   "source": [
    "### Load pose A and B here\n"
   ]
  },
  {
   "cell_type": "code",
   "execution_count": 53,
   "id": "spare-charge",
   "metadata": {},
   "outputs": [
    {
     "data": {
      "text/plain": [
       "array([[-0.71910428, -0.69482742,  0.01019247,  0.46135925],\n",
       "       [-0.69482258,  0.71916656,  0.00458704, -0.4127428 ],\n",
       "       [-0.01051729, -0.0037834 , -0.99993753,  0.39236295],\n",
       "       [ 0.        ,  0.        ,  0.        ,  1.        ]])"
      ]
     },
     "execution_count": 53,
     "metadata": {},
     "output_type": "execute_result"
    }
   ],
   "source": [
    "#cobot.update_tf()\n",
    "#np.save('plannerdemo_poseA',cobot.T_B_E_robot.A,allow_pickle=True) #saves current pose as goal_pose\n",
    "pose_A = np.load('plannerdemo_poseA.npy')\n",
    "pose_A "
   ]
  },
  {
   "cell_type": "code",
<<<<<<< HEAD
=======
   "execution_count": 10,
   "id": "9ef3f223",
   "metadata": {},
   "outputs": [
    {
     "name": "stderr",
     "output_type": "stream",
     "text": [
      "pybullet build time: May  8 2021 05:48:13\n"
     ]
    },
    {
     "name": "stdout",
     "output_type": "stream",
     "text": [
      "Mujoco not found on this client. Do not use this file!\n",
      "Mujoco not found on this client. Do not use this file!\n",
      "current implementation does not cope with trees with edge degree over 1. Select first element from: ee_linkconnect_flange_attach_joint, ee_to_tcp \u001b[91m \u001b[0m\n"
     ]
    }
   ],
   "source": [
    "pose_A = cobot.FK(cobot.q_calib)"
   ]
  },
  {
   "cell_type": "code",
>>>>>>> ecoreset_tum_sync
   "execution_count": 54,
   "id": "protective-onion",
   "metadata": {},
   "outputs": [
    {
     "data": {
      "text/plain": [
       "array([[-0.71840817, -0.69555902,  0.00934591,  0.46092661],\n",
       "       [-0.6955435 ,  0.71846405,  0.00535216,  0.5061795 ],\n",
       "       [-0.01043744, -0.00265545, -0.999942  ,  0.39188977],\n",
       "       [ 0.        ,  0.        ,  0.        ,  1.        ]])"
      ]
     },
     "execution_count": 54,
     "metadata": {},
     "output_type": "execute_result"
    }
   ],
   "source": [
    "#cobot.update_tf()\n",
    "#np.save('plannerdemo_poseB',cobot.T_B_E_robot.A,allow_pickle=True) #saves current pose as goal_pose\n",
    "pose_B = np.load('plannerdemo_poseB.npy')\n",
    "pose_B"
   ]
  },
  {
   "cell_type": "markdown",
   "id": "opposite-locking",
   "metadata": {},
   "source": [
    "### Set planner goalA and goalB to poseA and poseB"
   ]
  },
  {
   "cell_type": "code",
<<<<<<< HEAD
   "execution_count": 55,
=======
   "execution_count": 11,
>>>>>>> ecoreset_tum_sync
   "id": "constitutional-album",
   "metadata": {},
   "outputs": [
    {
     "data": {
      "text/plain": [
       "position: \n",
<<<<<<< HEAD
       "  x: 0.4613592529296875\n",
       "  y: -0.4127427978515625\n",
       "  z: 0.39236294555664064\n",
       "orientation: \n",
       "  x: -0.3747221279227736\n",
       "  y: 0.9271203233671881\n",
       "  z: 0.00021670320155111456\n",
       "  w: 0.005584432314184398"
      ]
     },
     "execution_count": 55,
=======
       "  x: 0.43594\n",
       "  y: 0.0\n",
       "  z: 0.704998\n",
       "orientation: \n",
       "  x: -0.0\n",
       "  y: -1.0\n",
       "  z: -0.0\n",
       "  w: 0.0"
      ]
     },
     "execution_count": 11,
>>>>>>> ecoreset_tum_sync
     "metadata": {},
     "output_type": "execute_result"
    }
   ],
   "source": [
    "poseA_quat = cu.homog2quat(pose_A)\n",
    "poseA_pos = cu.homog2pos(pose_A)\n",
    "#position of end_configuration\n",
    "goalA.goal_pose.pose.position.x = poseA_pos[0]\n",
    "goalA.goal_pose.pose.position.y = poseA_pos[1]\n",
    "goalA.goal_pose.pose.position.z = poseA_pos[2]\n",
    "#orientation of end_configuration\n",
    "goalA.goal_pose.pose.orientation.x = poseA_quat.x\n",
    "goalA.goal_pose.pose.orientation.y = poseA_quat.y\n",
    "goalA.goal_pose.pose.orientation.z = poseA_quat.z\n",
    "goalA.goal_pose.pose.orientation.w = poseA_quat.w\n",
    "goalA.goal_pose.pose"
   ]
  },
  {
   "cell_type": "code",
   "execution_count": 56,
   "id": "likely-alcohol",
   "metadata": {},
   "outputs": [
    {
     "data": {
      "text/plain": [
       "position: \n",
       "  x: 0.4609266052246094\n",
       "  y: 0.5061795043945313\n",
       "  z: 0.3918897705078125\n",
       "orientation: \n",
       "  x: -0.3751898779423636\n",
       "  y: 0.9269323366638643\n",
       "  z: 0.0007273224996108067\n",
       "  w: 0.0053357041188902"
      ]
     },
     "execution_count": 56,
     "metadata": {},
     "output_type": "execute_result"
    }
   ],
   "source": [
    "poseB_quat = cu.homog2quat(pose_B)\n",
    "poseB_pos = cu.homog2pos(pose_B)\n",
    "#position of end_configuration\n",
    "goalB.goal_pose.pose.position.x = poseB_pos[0]\n",
    "goalB.goal_pose.pose.position.y = poseB_pos[1]\n",
    "goalB.goal_pose.pose.position.z = poseB_pos[2]\n",
    "#orientation of end_configuration\n",
    "goalB.goal_pose.pose.orientation.x = poseB_quat.x\n",
    "goalB.goal_pose.pose.orientation.y = poseB_quat.y\n",
    "goalB.goal_pose.pose.orientation.z = poseB_quat.z\n",
    "goalB.goal_pose.pose.orientation.w = poseB_quat.w\n",
    "goalB.goal_pose.pose"
   ]
  },
  {
   "cell_type": "markdown",
   "id": "automotive-device",
   "metadata": {},
   "source": [
    "### Go to pose A without the planner (careful with collisions!)"
   ]
  },
  {
   "cell_type": "code",
   "execution_count": 49,
   "id": "amazing-puppy",
   "metadata": {},
   "outputs": [
    {
     "data": {
      "application/vnd.jupyter.widget-view+json": {
       "model_id": "ca902806126b497099ca1e35a5498ff7",
       "version_major": 2,
       "version_minor": 0
      },
      "text/plain": [
       "  0%|          | 0/10000 [00:00<?, ?it/s]"
      ]
     },
     "metadata": {},
     "output_type": "display_data"
    },
    {
     "name": "stdout",
     "output_type": "stream",
     "text": [
      "[INFO] [1642093076.525073]: reached goal pose at step 876 / 10000\n"
     ]
    }
   ],
   "source": [
    "cobot.move_to_pose(pose_A, err_gain = None, v_max = 0.05) #start_pose, cobot.FK(cobot.q_calib)\n",
    "T = int(100 * cobot.hz)\n",
    "for t in trange(T):\n",
    "    if cobot.state is None:\n",
    "        rospy.loginfo(f\"reached goal pose at step {t + 1} / {T}\")\n",
    "        break\n",
    "    elif cobot.state == \"error\":\n",
    "        rospy.logerror(f\"robot in ERROR state\")\n",
    "    cobot.update()"
   ]
  },
  {
   "cell_type": "markdown",
   "id": "warming-repository",
   "metadata": {},
   "source": [
    "### Start the rosbag"
   ]
  },
  {
   "cell_type": "markdown",
   "id": "traditional-security",
   "metadata": {},
   "source": [
    "### Move from A to B to A to B ..."
   ]
  },
  {
   "cell_type": "code",
   "execution_count": 52,
   "id": "turkish-madness",
   "metadata": {},
   "outputs": [],
   "source": [
    "client1.send_goal(goalB)"
   ]
  },
  {
   "cell_type": "code",
<<<<<<< HEAD
   "execution_count": 41,
=======
   "execution_count": 12,
>>>>>>> ecoreset_tum_sync
   "id": "theoretical-lawyer",
   "metadata": {},
   "outputs": [],
   "source": [
    "client1.send_goal(goalA)"
   ]
  },
  {
   "cell_type": "code",
   "execution_count": null,
   "id": "furnished-folder",
   "metadata": {},
   "outputs": [],
   "source": [
    "client1.send_goal(goalB)"
   ]
  },
  {
   "cell_type": "code",
   "execution_count": null,
   "id": "gentle-march",
   "metadata": {},
   "outputs": [],
   "source": [
    "client1.send_goal(goalA)"
   ]
  },
  {
   "cell_type": "code",
   "execution_count": null,
   "id": "dependent-embassy",
   "metadata": {},
   "outputs": [],
   "source": [
    "client1.send_goal(goalB)"
   ]
  },
  {
   "cell_type": "code",
   "execution_count": null,
   "id": "suspected-paste",
   "metadata": {},
   "outputs": [],
   "source": [
    "client1.send_goal(goalA)"
   ]
  },
  {
   "cell_type": "code",
   "execution_count": null,
   "id": "north-butler",
   "metadata": {},
   "outputs": [],
   "source": [
    "client1.send_goal(goalB)"
   ]
  },
  {
   "cell_type": "code",
   "execution_count": null,
   "id": "hairy-attribute",
   "metadata": {},
   "outputs": [],
   "source": [
    "client1.send_goal(goalA)"
   ]
  },
  {
   "cell_type": "code",
   "execution_count": null,
   "id": "vanilla-consolidation",
   "metadata": {},
   "outputs": [],
   "source": [
    "client1.send_goal(goalB)"
   ]
  },
  {
   "cell_type": "code",
   "execution_count": null,
   "id": "elder-capability",
   "metadata": {},
   "outputs": [],
   "source": [
    "client1.send_goal(goalA)"
   ]
  }
 ],
 "metadata": {
  "kernelspec": {
   "display_name": "Python 3 (ipykernel)",
   "language": "python",
   "name": "python3"
  },
  "language_info": {
   "codemirror_mode": {
    "name": "ipython",
    "version": 3
   },
   "file_extension": ".py",
   "mimetype": "text/x-python",
   "name": "python",
   "nbconvert_exporter": "python",
   "pygments_lexer": "ipython3",
   "version": "3.8.12"
  }
 },
 "nbformat": 4,
 "nbformat_minor": 5
}
