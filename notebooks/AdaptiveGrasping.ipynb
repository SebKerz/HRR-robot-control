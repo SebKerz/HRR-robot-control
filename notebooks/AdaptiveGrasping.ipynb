{
 "cells": [
  {
   "cell_type": "markdown",
   "id": "824def33",
   "metadata": {},
   "source": [
    "## Adaptive Grasping\n",
    "\n",
    "This skill may be the most sensitive as the gripper driver is not really stable against using the tool-changer usage.\n",
    "\n",
    "In (programming) theory, the gripper-driver is started via \n",
    "\n",
    "```bash\n",
    "roslaunch hrr_cobot_robot hrr_wsg_50.launch\n",
    "```\n",
    "\n",
    "via the URDF-updater, i.e. every time the tool is set to \n",
    "\n",
    "```bash\n",
    "rosparam set /hrr_cobot/tool_name \"wsg_50_dsa\"\n",
    "```\n",
    "\n",
    "or \n",
    "\n",
    "```python\n",
    "cobot.change_tool(\"wsg_50_dsa\")\n",
    "```\n",
    "\n",
    "but reality is different, so the rqt-graph below shows the skill-server with all nodes for the sensitive grasping\n",
    "\n",
    "![rqt-graph](./media/hrr_wsg_setup_rqt.png)\n",
    "\n",
    "**NOTE: The velocity based variant requires ```do-mpc```, so you need to run \n",
    "```pip install do-mpc``` to replicate the setup below**\n",
    "\n",
    "\n",
    "\n",
    "### Robot setup without skill-server\n",
    "\n",
    "![rqt-graph](./media/rqt_without_skill_server.png)\n"
   ]
  },
  {
   "cell_type": "code",
   "execution_count": 1,
   "id": "84afee11",
   "metadata": {
    "scrolled": true
   },
   "outputs": [
    {
     "name": "stdout",
     "output_type": "stream",
     "text": [
      "current hostname:\thrrcobotLinux54\n",
      "current IP:      \t129.187.147.188\n",
      "ROS-MASTER-URI:  \thttp://hrrcobotLinux54:11311\n"
     ]
    }
   ],
   "source": [
    "# copied from skill-server notebook -> can be ignored\n",
    "import pathlib\n",
    "import numpy as np\n",
    "import spatialmath as sm\n",
    "\n",
    "# ROS\n",
    "import actionlib\n",
    "import rospy\n",
    "import hrr_common\n",
    "\n",
    "from hr_recycler_msgs.msg import AdaptiveGraspingAction, AdaptiveGraspingGoal\n",
    "\n",
    "np.set_printoptions(precision=5, suppress=True)\n",
    "\n",
    "hrr_common.utils.set_ros_environment(ros_master='hrrcobotLinux54')\n",
    "rospy.init_node('grasping_client')\n",
    "\n",
    "cobot_ns = hrr_common.ros_utils.fix_prefix(hrr_common.ros_utils.get_param(\"/cobot_ns\"))\n",
    "sensitive_grasping_action_srv_name = hrr_common.ros_utils.get_param(f\"{cobot_ns}sensitive_grasping_action_srv_name\")\n",
    "\n",
    "def get_client(action_topic, ActionClass, timeout_secs=2.0):\n",
    "    client = actionlib.SimpleActionClient(action_topic, ActionClass)\n",
    "    client.wait_for_server(timeout=rospy.Duration(timeout_secs))\n",
    "    return client\n",
    "\n",
    "def get_result(cl):\n",
    "    cl.wait_for_result()\n",
    "    return cl.get_result()\n",
    "\n",
    "def cancel(cl):\n",
    "    cl.cancel_all_goals()"
   ]
  },
  {
   "cell_type": "code",
   "execution_count": 4,
   "id": "151845ab",
   "metadata": {},
   "outputs": [
    {
     "name": "stderr",
     "output_type": "stream",
     "text": [
      "pybullet build time: May  8 2021 05:48:13\n"
     ]
    },
    {
     "name": "stdout",
     "output_type": "stream",
     "text": [
      "[rosout] some functions are not yet compiled. Expect delays upon first call\n"
     ]
    },
    {
     "data": {
      "text/plain": [
       "True"
      ]
     },
     "execution_count": 4,
     "metadata": {},
     "output_type": "execute_result"
    }
   ],
   "source": [
    "## pycharm fucked up\n",
    "import copy\n",
    "import hrr_cobot_robot\n",
    "from hr_recycler_msgs.msg import ToolType\n",
    "from hrr_cobot_robot.manipulation_skills.lightbulb_grasping import SimpleMp\n",
    "cobot = hrr_cobot_robot.HrrCobotControl.from_ros(cobot_prefix=\"/hrr_cobot\", compile_numba=False)\n",
    "cobot.change_tool(\"wsg_50_dsa\")"
   ]
  },
  {
   "cell_type": "code",
   "execution_count": 5,
   "id": "728b18b5",
   "metadata": {},
   "outputs": [
    {
     "name": "stdout",
     "output_type": "stream",
     "text": [
      "Hrr-Cobot state:\n",
      "FT-data:\n",
      "current force:\t[-14.62622  -3.30371  28.27515] [N]\n",
      "current torque:\t[ -0.9173  -10.54138   0.55615] [Nm]\n",
      "current wrench:\t[-14.60883  -3.30719  28.31562  -0.93104 -10.56159   0.54858] [N,Nm]\n",
      "=>in contact:\tTrue\n",
      "---\n",
      "Robot-data:\n",
      "q:\t\t[ -2.97543   5.161   -91.02456   1.88446  81.43126  -0.37623][°]\n",
      "q_dot:\t\t[0. 0. 0. 0. 0. 0.][rad/s]\n",
      "tau:\t\t[0. 0. 0. 0. 0. 0.][Nm]\n",
      "pos:\t\t[0.47519 0.02209 0.66174][m]\n",
      "quat:\t\t0.02126 <[-0.02478  0.99934 -0.01569]>\n",
      "tool-pos:\t[0.47519 0.02209 0.66174][m]\n",
      "tool-rpy:\t[177.1964    2.47995 178.26144][°]\n",
      "robot-status:\tready\n",
      "---\n",
      "tool set to wsg_50_dsa\n",
      "E_p_EC:=[0.     0.     0.2445]\n",
      "R_E_C:=[[ 0.70711 -0.70711  0.     ]\n",
      " [ 0.70711  0.70711  0.     ]\n",
      " [ 0.       0.       1.     ]]\n",
      "---\n"
     ]
    }
   ],
   "source": [
    "print(cobot)"
   ]
  },
  {
   "cell_type": "code",
   "execution_count": 7,
   "id": "61bf1d43",
   "metadata": {},
   "outputs": [],
   "source": [
    "grasping_client = get_client(sensitive_grasping_action_srv_name, AdaptiveGraspingAction)"
   ]
  },
  {
   "cell_type": "code",
   "execution_count": 8,
   "id": "2ee329cd",
   "metadata": {},
   "outputs": [],
   "source": [
    "grasp_goal = AdaptiveGraspingGoal()\n",
    "T_B_C_test = sm.SE3(0.66, 0.0, 0.1)\n",
    "grasp_goal.object_center.pose.position = hrr_common.np2vec3(T_B_C_test.t)\n",
    "grasp_goal.object_center.pose.orientation = hrr_common.np2quat(hrr_common.rotmat2quat(T_B_C_test.R))\n",
    "grasp_goal.contact_force = 5.0\n",
    "grasp_goal.timeout = 2000.0"
   ]
  },
  {
   "cell_type": "code",
   "execution_count": 13,
   "id": "4a887f8b",
   "metadata": {},
   "outputs": [
    {
     "name": "stdout",
     "output_type": "stream",
     "text": [
      "[rosout] Received new goal for sensitive_grasping-skill.\n"
     ]
    },
    {
     "name": "stderr",
     "output_type": "stream",
     "text": [
      "[rosout] Sensitive Grasping -> received none-positive goal-argument gripper_open_width:=0.0. Use default 0.06\n",
      "[rosout] Sensitive Grasping -> received none-positive goal-argument tilting_angle:=0.0. Use default 1.5707963267948966\n",
      "[rosout] no solution found for pose:\n",
      "  \u001b[38;5;1m 0.7071  \u001b[0m \u001b[38;5;1m 0.7071  \u001b[0m \u001b[38;5;1m 0       \u001b[0m \u001b[38;5;4m 0.66    \u001b[0m  \u001b[0m\n",
      "  \u001b[38;5;1m-0.7071  \u001b[0m \u001b[38;5;1m 0.7071  \u001b[0m \u001b[38;5;1m 0       \u001b[0m \u001b[38;5;4m 0       \u001b[0m  \u001b[0m\n",
      "  \u001b[38;5;1m 0       \u001b[0m \u001b[38;5;1m 0       \u001b[0m \u001b[38;5;1m 1       \u001b[0m \u001b[38;5;4m-0.1445  \u001b[0m  \u001b[0m\n",
      "  \u001b[38;5;244m 0       \u001b[0m \u001b[38;5;244m 0       \u001b[0m \u001b[38;5;244m 0       \u001b[0m \u001b[38;5;244m 1       \u001b[0m  \u001b[0m\n",
      "\n",
      "[rosout] final destination pose   \u001b[38;5;1m 1       \u001b[0m \u001b[38;5;1m 0       \u001b[0m \u001b[38;5;1m 0       \u001b[0m \u001b[38;5;4m 0.66    \u001b[0m  \u001b[0m\n",
      "  \u001b[38;5;1m 0       \u001b[0m \u001b[38;5;1m 1       \u001b[0m \u001b[38;5;1m 0       \u001b[0m \u001b[38;5;4m 0       \u001b[0m  \u001b[0m\n",
      "  \u001b[38;5;1m 0       \u001b[0m \u001b[38;5;1m 0       \u001b[0m \u001b[38;5;1m 1       \u001b[0m \u001b[38;5;4m 0.1     \u001b[0m  \u001b[0m\n",
      "  \u001b[38;5;244m 0       \u001b[0m \u001b[38;5;244m 0       \u001b[0m \u001b[38;5;244m 0       \u001b[0m \u001b[38;5;244m 1       \u001b[0m  \u001b[0m\n",
      " is not reachable\n",
      "[rosout] Got a result when we were already in the DONE state\n"
     ]
    }
   ],
   "source": [
    "grasping_client.send_goal(grasp_goal)"
   ]
  },
  {
   "cell_type": "code",
   "execution_count": 12,
   "id": "8c670358",
   "metadata": {},
   "outputs": [],
   "source": [
    "cancel(grasping_client)"
   ]
  },
  {
   "cell_type": "code",
   "execution_count": 14,
   "id": "2a186772",
   "metadata": {},
   "outputs": [
    {
     "data": {
      "text/plain": [
       "array([ 10.59521, -14.46739, -26.62064,  -7.21665,  -9.41109,  -0.53413])"
      ]
     },
     "execution_count": 14,
     "metadata": {},
     "output_type": "execute_result"
    }
   ],
   "source": [
    "cobot.B_F_msr"
   ]
  },
  {
   "cell_type": "markdown",
   "id": "d7ce5150",
   "metadata": {},
   "source": [
    "## development\n",
    "\n",
    "pycharm seemed buggy on the robot PC, so continue here"
   ]
  },
  {
   "cell_type": "code",
   "execution_count": 6,
   "id": "1a690347",
   "metadata": {},
   "outputs": [
    {
     "name": "stdout",
     "output_type": "stream",
     "text": [
      "[rosout] [/grasping_client] could not get ROS-parameter /grasping_client/buffer_size. Use default 30000 instead.\n",
      "[rosout] [/grasping_client] could not get ROS-parameter /grasping_client/observe_attributes. Use default ['q', 'B_F_msr', 'B_err_F'] instead.\n",
      "[rosout] [/grasping_client] could not get ROS-parameter /hrr_cobot/sensitive_grasping/drop_off_hover_distance. Use default 0.15 instead.\n",
      "[rosout] [/grasping_client] could not get ROS-parameter /hrr_cobot/sensitive_grasping/f_lift. Use default 15.0 instead.\n",
      "[rosout] [/grasping_client] could not get ROS-parameter /hrr_cobot/sensitive_grasping/rotation_velocity. Use default 0.05 instead.\n",
      "[rosout] [/grasping_client] could not get ROS-parameter /hrr_cobot/sensitive_grasping/grasp_timeout. Use default 4.0 instead.\n",
      "[rosout] Received new goal for sensitive_grasping-skill.\n"
     ]
    },
    {
     "data": {
      "text/plain": [
       "True"
      ]
     },
     "execution_count": 6,
     "metadata": {},
     "output_type": "execute_result"
    }
   ],
   "source": [
    "grasping = hrr_cobot_robot.SensitiveGrasping.from_ros(cobot=cobot, cobot_prefix=\"/hrr_cobot\",\n",
    "                                          skill_prefix=\"/hrr_cobot/sensitive_grasping\")\n",
    "grasping.pre_skill_execution(ToolType.WSG_50_DSA, hardcoded_transformation=False)"
   ]
  },
  {
   "cell_type": "code",
   "execution_count": 3,
   "id": "d0a948d8",
   "metadata": {},
   "outputs": [],
   "source": [
    "tf_msg = hrr_common.get_empty_msg_stamped(\"hrr_cobot.wsg_50_tcp\", \"hrr_cobot.wsg_50_dsa_center\")"
   ]
  },
  {
   "cell_type": "code",
   "execution_count": 4,
   "id": "f81b55ad",
   "metadata": {},
   "outputs": [],
   "source": [
    "self = grasping\n",
    "self.B_object_des = T_B_object_des = sm.SE3(0.66, 0.0, 0.05)\n",
    "T_B_E_goal = hrr_common.calc_EE_goal_pose(B_normal=self.B_surface_normal, B_y_axis=self.B_tcp_y_axis,\n",
    "                                          T_C_E=self.cobot.T_E_C_robot.inv(),\n",
    "                                          B_p_location=self.B_object_des.t)\n",
    "self._T_B_E_goal = T_B_E_goal"
   ]
  },
  {
   "cell_type": "code",
   "execution_count": 5,
   "id": "07419954",
   "metadata": {},
   "outputs": [],
   "source": [
    "self.recovery()"
   ]
  },
  {
   "cell_type": "code",
   "execution_count": 23,
   "id": "11d3f84e",
   "metadata": {},
   "outputs": [],
   "source": [
    "def approach_object():\n",
    "    self.cobot.init_sns_vel()\n",
    "    self.cobot.gripper.set_vel(0.0)\n",
    "    rospy.sleep(0.1)\n",
    "    self.cobot.gripper.send_pos(self._open_width, si=True)\n",
    "    self.process_steps((\n",
    "        SimpleMp(name=\"approach_pre_pose\", f_init=self.cobot.move_to_pose,\n",
    "                 args=(sm.SE3(self.hover_distance * self.B_surface_normal) @ T_B_E_goal)),\n",
    "        SimpleMp(name=\"approach_surface\", f_init=self.cobot.set_py_hybrid_force_vel_command,\n",
    "                 kwargs=approach_kwargs,\n",
    "                 contact_as_success=True)\n",
    "    ))\n",
    "\n",
    "def first_grasp():\n",
    "    self.update_feedback_msg(\"Initiating gripper closure\")\n",
    "    self.strategies = self.strategies\n",
    "    self.cobot.gripper.set_vel(-np.abs(self.closing_speed), si=True)\n",
    "    if not self.grasp():\n",
    "        self.failure = True\n",
    "\n",
    "def open_fingers(dt=0.01):\n",
    "    self.update_feedback_msg(\"release object\")\n",
    "    self.cobot.gripper.set_vel(0.5 * np.abs(self.closing_speed), si=True)\n",
    "    self.cobot.set_compliant(np.r_[1, np.zeros(4), 1])\n",
    "    while self.cobot.gripper.dsa_sum[0] > 0 or self.cobot.gripper.dsa_sum[1] > 0:\n",
    "        rospy.sleep(dt)\n",
    "        self.cobot.update()\n",
    "    self.cobot.gripper.set_vel(0.0, si=True)\n",
    "        \n",
    "def reposition_gripper():\n",
    "    self.process_steps((\n",
    "        SimpleMp(name=\"vertical_reposition_contact_search\", f_init=self.cobot.set_py_hybrid_force_vel_command,\n",
    "                 kwargs=approach_kwargs, contact_as_success=True),\n",
    "        SimpleMp(name=\"vertical_reposition\", f_init=self.cobot.set_py_hybrid_force_vel_command,\n",
    "                 kwargs=move_up_kwargs, T_max=1.5),\n",
    "    ))\n",
    "    self.cobot.gripper.set_vel(-np.abs(self.closing_speed), si=True)\n",
    "    self.update_feedback_msg(\"Initiating gripper closure\")\n",
    "    if not self.grasp():\n",
    "        self.failure = True\n",
    "    self.cobot.gripper.set_vel(0.0, si=False)\n",
    "\n",
    "def rotate_open(steps):\n",
    "    self.grasp()\n",
    "    for t in range(steps):\n",
    "        rotate_vel[4] = 0.05\n",
    "        tf_msg.transform.translation.z = self.grasping_controller.err_cur[2] if \\\n",
    "            self.grasping_controller.err_cur[2] != 0.0 else tf_msg.transform.translation.z\n",
    "        self._tf.send_tf(tf_msg)\n",
    "        self.cobot.update(u_cmd=rotate_vel, u_cmd_frame=tf_msg.child_frame_id)\n",
    "    self.cobot.stop()\n",
    "    self.grasp()\n",
    "\n",
    "def rotate_back(steps):\n",
    "    for t in range(steps):\n",
    "        rotate_vel[4] = -0.05\n",
    "        tf_msg.transform.translation.z = self.grasping_controller.err_cur[2] if \\\n",
    "            self.grasping_controller.err_cur[2] != 0.0 else tf_msg.transform.translation.z\n",
    "        self._tf.send_tf(tf_msg)\n",
    "        self.cobot.update(u_cmd=rotate_vel, u_cmd_frame=tf_msg.child_frame_id)\n",
    "    self.cobot.stop()"
   ]
  },
  {
   "cell_type": "code",
   "execution_count": 24,
   "id": "e4a5ef1f",
   "metadata": {},
   "outputs": [],
   "source": [
    "def debug_skill():\n",
    "    self.grasping_controller.strategies[0] = self.grasping_controller.F_CTRL\n",
    "    self.failure = False\n",
    "    approach_object()\n",
    "    if self.failure: \n",
    "        print(\"failed during approach\")\n",
    "        return\n",
    "    first_grasp()    \n",
    "    if self.failure: \n",
    "        print(\"failed during initial grasp\")\n",
    "        return\n",
    "    open_fingers()\n",
    "    reposition_gripper()"
   ]
  },
  {
   "cell_type": "code",
   "execution_count": 25,
   "id": "26379235",
   "metadata": {},
   "outputs": [],
   "source": [
    "self.failure = False\n",
    "self.success = False\n",
    "self.f_contact = 5.0\n",
    "self._T_B_E_goal = T_B_E_goal\n",
    "self.cobot.init_sns_vel()\n",
    "self.cobot.gripper.set_vel(0.0)\n",
    "rospy.sleep(0.1)\n",
    "self.cobot.gripper.send_pos(self._open_width, si=True)\n",
    "approach_kwargs = self.cobot.default_hybrid_kwargs()\n",
    "approach_kwargs[\"scale_pos\"] = self.scale_pos_vel\n",
    "move_up_kwargs = copy.deepcopy(approach_kwargs)\n",
    "approach_kwargs[\"vel_dir\"] = np.r_[-self.B_surface_normal, np.zeros(3)]\n",
    "move_up_kwargs[\"vel_dir\"] = np.r_[self.B_surface_normal, np.zeros(3)]\n",
    "tf_msg = hrr_common.get_empty_msg_stamped(self.tcp_link, self.dsa_link)\n",
    "rotate_vel = np.zeros(6)\n",
    "cur_angle = 0.0"
   ]
  },
  {
   "cell_type": "code",
   "execution_count": 26,
   "id": "38259ed6",
   "metadata": {},
   "outputs": [
    {
     "ename": "KeyboardInterrupt",
     "evalue": "",
     "output_type": "error",
     "traceback": [
      "\u001b[0;31m---------------------------------------------------------------------------\u001b[0m",
      "\u001b[0;31mKeyboardInterrupt\u001b[0m                         Traceback (most recent call last)",
      "\u001b[0;32m/tmp/ipykernel_192252/1891118293.py\u001b[0m in \u001b[0;36m<module>\u001b[0;34m\u001b[0m\n\u001b[0;32m----> 1\u001b[0;31m \u001b[0mdebug_skill\u001b[0m\u001b[0;34m(\u001b[0m\u001b[0;34m)\u001b[0m\u001b[0;34m\u001b[0m\u001b[0;34m\u001b[0m\u001b[0m\n\u001b[0m",
      "\u001b[0;32m/tmp/ipykernel_192252/2924886002.py\u001b[0m in \u001b[0;36mdebug_skill\u001b[0;34m()\u001b[0m\n\u001b[1;32m      2\u001b[0m     \u001b[0mself\u001b[0m\u001b[0;34m.\u001b[0m\u001b[0mgrasping_controller\u001b[0m\u001b[0;34m.\u001b[0m\u001b[0mstrategies\u001b[0m\u001b[0;34m[\u001b[0m\u001b[0;36m0\u001b[0m\u001b[0;34m]\u001b[0m \u001b[0;34m=\u001b[0m \u001b[0mself\u001b[0m\u001b[0;34m.\u001b[0m\u001b[0mgrasping_controller\u001b[0m\u001b[0;34m.\u001b[0m\u001b[0mF_CTRL\u001b[0m\u001b[0;34m\u001b[0m\u001b[0;34m\u001b[0m\u001b[0m\n\u001b[1;32m      3\u001b[0m     \u001b[0mself\u001b[0m\u001b[0;34m.\u001b[0m\u001b[0mfailure\u001b[0m \u001b[0;34m=\u001b[0m \u001b[0;32mFalse\u001b[0m\u001b[0;34m\u001b[0m\u001b[0;34m\u001b[0m\u001b[0m\n\u001b[0;32m----> 4\u001b[0;31m     \u001b[0mapproach_object\u001b[0m\u001b[0;34m(\u001b[0m\u001b[0;34m)\u001b[0m\u001b[0;34m\u001b[0m\u001b[0;34m\u001b[0m\u001b[0m\n\u001b[0m\u001b[1;32m      5\u001b[0m     \u001b[0;32mif\u001b[0m \u001b[0mself\u001b[0m\u001b[0;34m.\u001b[0m\u001b[0mfailure\u001b[0m\u001b[0;34m:\u001b[0m\u001b[0;34m\u001b[0m\u001b[0;34m\u001b[0m\u001b[0m\n\u001b[1;32m      6\u001b[0m         \u001b[0mprint\u001b[0m\u001b[0;34m(\u001b[0m\u001b[0;34m\"failed during approach\"\u001b[0m\u001b[0;34m)\u001b[0m\u001b[0;34m\u001b[0m\u001b[0;34m\u001b[0m\u001b[0m\n",
      "\u001b[0;32m/tmp/ipykernel_192252/50015338.py\u001b[0m in \u001b[0;36mapproach_object\u001b[0;34m()\u001b[0m\n\u001b[1;32m      4\u001b[0m     \u001b[0mrospy\u001b[0m\u001b[0;34m.\u001b[0m\u001b[0msleep\u001b[0m\u001b[0;34m(\u001b[0m\u001b[0;36m0.1\u001b[0m\u001b[0;34m)\u001b[0m\u001b[0;34m\u001b[0m\u001b[0;34m\u001b[0m\u001b[0m\n\u001b[1;32m      5\u001b[0m     \u001b[0mself\u001b[0m\u001b[0;34m.\u001b[0m\u001b[0mcobot\u001b[0m\u001b[0;34m.\u001b[0m\u001b[0mgripper\u001b[0m\u001b[0;34m.\u001b[0m\u001b[0msend_pos\u001b[0m\u001b[0;34m(\u001b[0m\u001b[0mself\u001b[0m\u001b[0;34m.\u001b[0m\u001b[0m_open_width\u001b[0m\u001b[0;34m,\u001b[0m \u001b[0msi\u001b[0m\u001b[0;34m=\u001b[0m\u001b[0;32mTrue\u001b[0m\u001b[0;34m)\u001b[0m\u001b[0;34m\u001b[0m\u001b[0;34m\u001b[0m\u001b[0m\n\u001b[0;32m----> 6\u001b[0;31m     self.process_steps((\n\u001b[0m\u001b[1;32m      7\u001b[0m         SimpleMp(name=\"approach_pre_pose\", f_init=self.cobot.move_to_pose,\n\u001b[1;32m      8\u001b[0m                  args=(sm.SE3(self.hover_distance * self.B_surface_normal) @ T_B_E_goal)),\n",
      "\u001b[0;32m~/_ros/hr_recycler_ws/src/hrr_cobot/hrr_cobot_robot/src/hrr_cobot_robot/manipulation_skills/lightbulb_grasping.py\u001b[0m in \u001b[0;36mprocess_steps\u001b[0;34m(self, steps)\u001b[0m\n\u001b[1;32m    174\u001b[0m                 \u001b[0mself\u001b[0m\u001b[0;34m.\u001b[0m\u001b[0m_F0\u001b[0m \u001b[0;34m=\u001b[0m \u001b[0mself\u001b[0m\u001b[0;34m.\u001b[0m\u001b[0mcobot\u001b[0m\u001b[0;34m.\u001b[0m\u001b[0mB_F_msr\u001b[0m\u001b[0;34m.\u001b[0m\u001b[0mcopy\u001b[0m\u001b[0;34m(\u001b[0m\u001b[0;34m)\u001b[0m\u001b[0;34m\u001b[0m\u001b[0;34m\u001b[0m\u001b[0m\n\u001b[1;32m    175\u001b[0m             \u001b[0mmp\u001b[0m\u001b[0;34m.\u001b[0m\u001b[0mf_init\u001b[0m\u001b[0;34m(\u001b[0m\u001b[0;34m*\u001b[0m\u001b[0mmp\u001b[0m\u001b[0;34m.\u001b[0m\u001b[0margs\u001b[0m\u001b[0;34m,\u001b[0m \u001b[0;34m**\u001b[0m\u001b[0mmp\u001b[0m\u001b[0;34m.\u001b[0m\u001b[0mkwargs\u001b[0m\u001b[0;34m)\u001b[0m\u001b[0;34m\u001b[0m\u001b[0;34m\u001b[0m\u001b[0m\n\u001b[0;32m--> 176\u001b[0;31m             \u001b[0;32mif\u001b[0m \u001b[0;32mnot\u001b[0m \u001b[0mself\u001b[0m\u001b[0;34m.\u001b[0m\u001b[0mprogress\u001b[0m\u001b[0;34m(\u001b[0m\u001b[0mmp\u001b[0m\u001b[0;34m.\u001b[0m\u001b[0mcontact_as_success\u001b[0m\u001b[0;34m,\u001b[0m \u001b[0mmp\u001b[0m\u001b[0;34m.\u001b[0m\u001b[0mT_max\u001b[0m\u001b[0;34m)\u001b[0m\u001b[0;34m:\u001b[0m\u001b[0;34m\u001b[0m\u001b[0;34m\u001b[0m\u001b[0m\n\u001b[0m\u001b[1;32m    177\u001b[0m                 \u001b[0mself\u001b[0m\u001b[0;34m.\u001b[0m\u001b[0mcancel\u001b[0m\u001b[0;34m(\u001b[0m\u001b[0mmsg\u001b[0m\u001b[0;34m=\u001b[0m\u001b[0;34mf'failed during {mp.name} with arguments {[str(x) for x in mp.args]} and {mp.kwargs}'\u001b[0m\u001b[0;34m)\u001b[0m\u001b[0;34m\u001b[0m\u001b[0;34m\u001b[0m\u001b[0m\n\u001b[1;32m    178\u001b[0m             \u001b[0mself\u001b[0m\u001b[0;34m.\u001b[0m\u001b[0mcobot\u001b[0m\u001b[0;34m.\u001b[0m\u001b[0mstop\u001b[0m\u001b[0;34m(\u001b[0m\u001b[0;34m)\u001b[0m\u001b[0;34m\u001b[0m\u001b[0;34m\u001b[0m\u001b[0m\n",
      "\u001b[0;32m~/_ros/hr_recycler_ws/src/hrr_cobot/hrr_cobot_robot/src/hrr_cobot_robot/manipulation_skills/lightbulb_grasping.py\u001b[0m in \u001b[0;36mprogress\u001b[0;34m(self, contact_as_success, T_stop)\u001b[0m\n\u001b[1;32m    161\u001b[0m         \u001b[0mt0\u001b[0m \u001b[0;34m=\u001b[0m \u001b[0mrospy\u001b[0m\u001b[0;34m.\u001b[0m\u001b[0mget_time\u001b[0m\u001b[0;34m(\u001b[0m\u001b[0;34m)\u001b[0m\u001b[0;34m\u001b[0m\u001b[0;34m\u001b[0m\u001b[0m\n\u001b[1;32m    162\u001b[0m         \u001b[0;32mwhile\u001b[0m \u001b[0mself\u001b[0m\u001b[0;34m.\u001b[0m\u001b[0mcobot\u001b[0m\u001b[0;34m.\u001b[0m\u001b[0mstate\u001b[0m \u001b[0;32mis\u001b[0m \u001b[0;32mnot\u001b[0m \u001b[0;32mNone\u001b[0m\u001b[0;34m:\u001b[0m\u001b[0;34m\u001b[0m\u001b[0;34m\u001b[0m\u001b[0m\n\u001b[0;32m--> 163\u001b[0;31m             \u001b[0mfb\u001b[0m \u001b[0;34m=\u001b[0m \u001b[0mself\u001b[0m\u001b[0;34m.\u001b[0m\u001b[0mstep\u001b[0m\u001b[0;34m(\u001b[0m\u001b[0mcontact_as_success\u001b[0m\u001b[0;34m=\u001b[0m\u001b[0mcontact_as_success\u001b[0m\u001b[0;34m)\u001b[0m\u001b[0;34m\u001b[0m\u001b[0;34m\u001b[0m\u001b[0m\n\u001b[0m\u001b[1;32m    164\u001b[0m             \u001b[0;32mif\u001b[0m \u001b[0mfb\u001b[0m \u001b[0;32mis\u001b[0m \u001b[0;32mnot\u001b[0m \u001b[0;32mNone\u001b[0m\u001b[0;34m:\u001b[0m\u001b[0;34m\u001b[0m\u001b[0;34m\u001b[0m\u001b[0m\n\u001b[1;32m    165\u001b[0m                 \u001b[0;32mreturn\u001b[0m \u001b[0mfb\u001b[0m\u001b[0;34m\u001b[0m\u001b[0;34m\u001b[0m\u001b[0m\n",
      "\u001b[0;32m~/_ros/hr_recycler_ws/src/hrr_cobot/hrr_cobot_robot/src/hrr_cobot_robot/manipulation_skills/lightbulb_grasping.py\u001b[0m in \u001b[0;36mstep\u001b[0;34m(self, contact_as_success)\u001b[0m\n\u001b[1;32m    152\u001b[0m \u001b[0;34m\u001b[0m\u001b[0m\n\u001b[1;32m    153\u001b[0m     \u001b[0;32mdef\u001b[0m \u001b[0mstep\u001b[0m\u001b[0;34m(\u001b[0m\u001b[0mself\u001b[0m\u001b[0;34m,\u001b[0m \u001b[0mcontact_as_success\u001b[0m\u001b[0;34m=\u001b[0m\u001b[0;32mFalse\u001b[0m\u001b[0;34m)\u001b[0m\u001b[0;34m:\u001b[0m\u001b[0;34m\u001b[0m\u001b[0;34m\u001b[0m\u001b[0m\n\u001b[0;32m--> 154\u001b[0;31m         \u001b[0mself\u001b[0m\u001b[0;34m.\u001b[0m\u001b[0mcobot\u001b[0m\u001b[0;34m.\u001b[0m\u001b[0mupdate\u001b[0m\u001b[0;34m(\u001b[0m\u001b[0;34m)\u001b[0m\u001b[0;34m\u001b[0m\u001b[0;34m\u001b[0m\u001b[0m\n\u001b[0m\u001b[1;32m    155\u001b[0m         \u001b[0;32mif\u001b[0m \u001b[0mcontact_as_success\u001b[0m \u001b[0;32mand\u001b[0m \u001b[0mself\u001b[0m\u001b[0;34m.\u001b[0m\u001b[0msurface_contact\u001b[0m\u001b[0;34m:\u001b[0m\u001b[0;34m\u001b[0m\u001b[0;34m\u001b[0m\u001b[0m\n\u001b[1;32m    156\u001b[0m             \u001b[0;32mreturn\u001b[0m \u001b[0;32mTrue\u001b[0m\u001b[0;34m\u001b[0m\u001b[0;34m\u001b[0m\u001b[0m\n",
      "\u001b[0;32m~/_ros/hr_recycler_ws/src/hrr_cobot/hrr_cobot_robot/src/hrr_cobot_robot/hrr_cobot_control.py\u001b[0m in \u001b[0;36mupdate\u001b[0;34m(self, sleep, u_cmd, u_cmd_frame, skip_forward, **_)\u001b[0m\n\u001b[1;32m    412\u001b[0m         \"\"\"\n\u001b[1;32m    413\u001b[0m         \u001b[0;32mif\u001b[0m \u001b[0;32mnot\u001b[0m \u001b[0mskip_forward\u001b[0m\u001b[0;34m:\u001b[0m\u001b[0;34m\u001b[0m\u001b[0;34m\u001b[0m\u001b[0m\n\u001b[0;32m--> 414\u001b[0;31m             \u001b[0mself\u001b[0m\u001b[0;34m.\u001b[0m\u001b[0mupdate_tf\u001b[0m\u001b[0;34m(\u001b[0m\u001b[0;34m)\u001b[0m\u001b[0;34m\u001b[0m\u001b[0;34m\u001b[0m\u001b[0m\n\u001b[0m\u001b[1;32m    415\u001b[0m         \u001b[0;32mif\u001b[0m \u001b[0mself\u001b[0m\u001b[0;34m.\u001b[0m\u001b[0msafety_check\u001b[0m\u001b[0;34m(\u001b[0m\u001b[0;34m)\u001b[0m\u001b[0;34m:\u001b[0m\u001b[0;34m\u001b[0m\u001b[0;34m\u001b[0m\u001b[0m\n\u001b[1;32m    416\u001b[0m             \u001b[0;32mif\u001b[0m \u001b[0mu_cmd\u001b[0m \u001b[0;32mis\u001b[0m \u001b[0;32mnot\u001b[0m \u001b[0;32mNone\u001b[0m\u001b[0;34m:\u001b[0m\u001b[0;34m\u001b[0m\u001b[0;34m\u001b[0m\u001b[0m\n",
      "\u001b[0;32m~/_ros/hr_recycler_ws/src/hrr_cobot/hrr_cobot_robot/src/hrr_cobot_robot/hrr_cobot_handle.py\u001b[0m in \u001b[0;36mupdate_tf\u001b[0;34m(self)\u001b[0m\n\u001b[1;32m    692\u001b[0m             \u001b[0;32mpass\u001b[0m\u001b[0;34m\u001b[0m\u001b[0;34m\u001b[0m\u001b[0m\n\u001b[1;32m    693\u001b[0m         \u001b[0;32mtry\u001b[0m\u001b[0;34m:\u001b[0m\u001b[0;34m\u001b[0m\u001b[0;34m\u001b[0m\u001b[0m\n\u001b[0;32m--> 694\u001b[0;31m             self._ft_handle.update_load(\n\u001b[0m\u001b[1;32m    695\u001b[0m                 \u001b[0mquaternion\u001b[0m\u001b[0;34m.\u001b[0m\u001b[0mas_rotation_matrix\u001b[0m\u001b[0;34m(\u001b[0m\u001b[0mself\u001b[0m\u001b[0;34m.\u001b[0m\u001b[0msns_quat\u001b[0m\u001b[0;34m.\u001b[0m\u001b[0mconjugate\u001b[0m\u001b[0;34m(\u001b[0m\u001b[0;34m)\u001b[0m\u001b[0;34m)\u001b[0m \u001b[0;34m@\u001b[0m \u001b[0mself\u001b[0m\u001b[0;34m.\u001b[0m\u001b[0mR_FT_E\u001b[0m\u001b[0;34m.\u001b[0m\u001b[0mT\u001b[0m\u001b[0;34m\u001b[0m\u001b[0;34m\u001b[0m\u001b[0m\n\u001b[1;32m    696\u001b[0m             )\n",
      "\u001b[0;32m~/_ros/hr_recycler_ws/src/hrr_cobot/hrr_controllers/src/hrr_controllers/sensor_handles.py\u001b[0m in \u001b[0;36mupdate_load\u001b[0;34m(self, R_ft_b)\u001b[0m\n\u001b[1;32m    263\u001b[0m     \u001b[0;32mdef\u001b[0m \u001b[0mupdate_load\u001b[0m\u001b[0;34m(\u001b[0m\u001b[0mself\u001b[0m\u001b[0;34m,\u001b[0m \u001b[0mR_ft_b\u001b[0m\u001b[0;34m)\u001b[0m\u001b[0;34m:\u001b[0m\u001b[0;34m\u001b[0m\u001b[0;34m\u001b[0m\u001b[0m\n\u001b[1;32m    264\u001b[0m         \u001b[0mself\u001b[0m\u001b[0;34m.\u001b[0m\u001b[0m_F_gravity_load\u001b[0m\u001b[0;34m[\u001b[0m\u001b[0;34m:\u001b[0m\u001b[0;36m3\u001b[0m\u001b[0;34m]\u001b[0m \u001b[0;34m=\u001b[0m \u001b[0mR_ft_b\u001b[0m \u001b[0;34m@\u001b[0m \u001b[0mself\u001b[0m\u001b[0;34m.\u001b[0m\u001b[0m_calib_data\u001b[0m\u001b[0;34m.\u001b[0m\u001b[0mB_grav_vec\u001b[0m\u001b[0;34m\u001b[0m\u001b[0;34m\u001b[0m\u001b[0m\n\u001b[0;32m--> 265\u001b[0;31m         \u001b[0mself\u001b[0m\u001b[0;34m.\u001b[0m\u001b[0m_F_gravity_load\u001b[0m\u001b[0;34m[\u001b[0m\u001b[0;36m3\u001b[0m\u001b[0;34m:\u001b[0m\u001b[0;34m]\u001b[0m \u001b[0;34m=\u001b[0m \u001b[0mnp\u001b[0m\u001b[0;34m.\u001b[0m\u001b[0mcross\u001b[0m\u001b[0;34m(\u001b[0m\u001b[0mself\u001b[0m\u001b[0;34m.\u001b[0m\u001b[0m_calib_data\u001b[0m\u001b[0;34m.\u001b[0m\u001b[0mFT_com\u001b[0m\u001b[0;34m,\u001b[0m \u001b[0mself\u001b[0m\u001b[0;34m.\u001b[0m\u001b[0m_F_gravity_load\u001b[0m\u001b[0;34m[\u001b[0m\u001b[0;34m:\u001b[0m\u001b[0;36m3\u001b[0m\u001b[0;34m]\u001b[0m\u001b[0;34m)\u001b[0m\u001b[0;34m\u001b[0m\u001b[0;34m\u001b[0m\u001b[0m\n\u001b[0m\u001b[1;32m    266\u001b[0m \u001b[0;34m\u001b[0m\u001b[0m\n\u001b[1;32m    267\u001b[0m     \u001b[0;32mdef\u001b[0m \u001b[0mset_offset\u001b[0m\u001b[0;34m(\u001b[0m\u001b[0mself\u001b[0m\u001b[0;34m,\u001b[0m \u001b[0mcalibration_params\u001b[0m\u001b[0;34m:\u001b[0m \u001b[0mCalibrationParameters\u001b[0m\u001b[0;34m,\u001b[0m \u001b[0;34m*\u001b[0m\u001b[0m_\u001b[0m\u001b[0;34m,\u001b[0m \u001b[0;34m**\u001b[0m\u001b[0m__\u001b[0m\u001b[0;34m)\u001b[0m\u001b[0;34m:\u001b[0m\u001b[0;34m\u001b[0m\u001b[0;34m\u001b[0m\u001b[0m\n",
      "\u001b[0;32m<__array_function__ internals>\u001b[0m in \u001b[0;36mcross\u001b[0;34m(*args, **kwargs)\u001b[0m\n",
      "\u001b[0;32m~/anaconda3/envs/hrr/lib/python3.8/site-packages/numpy/core/numeric.py\u001b[0m in \u001b[0;36mcross\u001b[0;34m(a, b, axisa, axisb, axisc, axis)\u001b[0m\n\u001b[1;32m   1660\u001b[0m             \u001b[0mmultiply\u001b[0m\u001b[0;34m(\u001b[0m\u001b[0ma1\u001b[0m\u001b[0;34m,\u001b[0m \u001b[0mb2\u001b[0m\u001b[0;34m,\u001b[0m \u001b[0mout\u001b[0m\u001b[0;34m=\u001b[0m\u001b[0mcp0\u001b[0m\u001b[0;34m)\u001b[0m\u001b[0;34m\u001b[0m\u001b[0;34m\u001b[0m\u001b[0m\n\u001b[1;32m   1661\u001b[0m             \u001b[0mtmp\u001b[0m \u001b[0;34m=\u001b[0m \u001b[0marray\u001b[0m\u001b[0;34m(\u001b[0m\u001b[0ma2\u001b[0m \u001b[0;34m*\u001b[0m \u001b[0mb1\u001b[0m\u001b[0;34m)\u001b[0m\u001b[0;34m\u001b[0m\u001b[0;34m\u001b[0m\u001b[0m\n\u001b[0;32m-> 1662\u001b[0;31m             \u001b[0mcp0\u001b[0m \u001b[0;34m-=\u001b[0m \u001b[0mtmp\u001b[0m\u001b[0;34m\u001b[0m\u001b[0;34m\u001b[0m\u001b[0m\n\u001b[0m\u001b[1;32m   1663\u001b[0m             \u001b[0mmultiply\u001b[0m\u001b[0;34m(\u001b[0m\u001b[0ma2\u001b[0m\u001b[0;34m,\u001b[0m \u001b[0mb0\u001b[0m\u001b[0;34m,\u001b[0m \u001b[0mout\u001b[0m\u001b[0;34m=\u001b[0m\u001b[0mcp1\u001b[0m\u001b[0;34m)\u001b[0m\u001b[0;34m\u001b[0m\u001b[0;34m\u001b[0m\u001b[0m\n\u001b[1;32m   1664\u001b[0m             \u001b[0mmultiply\u001b[0m\u001b[0;34m(\u001b[0m\u001b[0ma0\u001b[0m\u001b[0;34m,\u001b[0m \u001b[0mb2\u001b[0m\u001b[0;34m,\u001b[0m \u001b[0mout\u001b[0m\u001b[0;34m=\u001b[0m\u001b[0mtmp\u001b[0m\u001b[0;34m)\u001b[0m\u001b[0;34m\u001b[0m\u001b[0;34m\u001b[0m\u001b[0m\n",
      "\u001b[0;31mKeyboardInterrupt\u001b[0m: "
     ]
    }
   ],
   "source": [
    "debug_skill()"
   ]
  },
  {
   "cell_type": "code",
   "execution_count": 22,
   "id": "785f95fd",
   "metadata": {},
   "outputs": [],
   "source": [
    "open_fingers()"
   ]
  },
  {
   "cell_type": "code",
   "execution_count": 43,
   "id": "e96e96a1",
   "metadata": {},
   "outputs": [],
   "source": [
    "reposition_gripper()"
   ]
  },
  {
   "cell_type": "code",
   "execution_count": 29,
   "id": "5819e54e",
   "metadata": {},
   "outputs": [],
   "source": [
    "rotate_open(200)"
   ]
  },
  {
   "cell_type": "code",
   "execution_count": 14,
   "id": "73f076f3",
   "metadata": {},
   "outputs": [],
   "source": [
    "self.recovery()"
   ]
  },
  {
   "cell_type": "code",
   "execution_count": 15,
   "id": "6fd06a5a",
   "metadata": {},
   "outputs": [
    {
     "data": {
      "text/plain": [
       "array([ 1.49334, -0.38275,  0.61424,  1.54254, -1.26021, -1.31179])"
      ]
     },
     "execution_count": 15,
     "metadata": {},
     "output_type": "execute_result"
    }
   ],
   "source": [
    "self.cobot.B_F_msr"
   ]
  },
  {
   "cell_type": "code",
   "execution_count": 54,
   "id": "c491cee4",
   "metadata": {},
   "outputs": [],
   "source": [
    "open_fingers()"
   ]
  },
  {
   "cell_type": "code",
   "execution_count": 13,
   "id": "526bfd6e",
   "metadata": {},
   "outputs": [
    {
     "data": {
      "text/plain": [
       "(True, 'FAILURE')"
      ]
     },
     "execution_count": 13,
     "metadata": {},
     "output_type": "execute_result"
    }
   ],
   "source": [
    "self.action_sever_valid, self.cobot.state"
   ]
  },
  {
   "cell_type": "code",
   "execution_count": 86,
   "id": "fdfbb24e",
   "metadata": {},
   "outputs": [
    {
     "data": {
      "text/plain": [
       "<hrr_common.ros_utils.transformations.TfHandler at 0x7f40d550b550>"
      ]
     },
     "execution_count": 86,
     "metadata": {},
     "output_type": "execute_result"
    }
   ],
   "source": [
    "self._tf.send_tf()"
   ]
  },
  {
   "cell_type": "code",
   "execution_count": 78,
   "id": "d5cb788f",
   "metadata": {},
   "outputs": [
    {
     "data": {
      "text/plain": [
       "(0.02, 0.02320912852883339)"
      ]
     },
     "execution_count": 78,
     "metadata": {},
     "output_type": "execute_result"
    }
   ],
   "source": [
    "self.closing_width, self.cobot.gripper.width"
   ]
  },
  {
   "cell_type": "code",
   "execution_count": 47,
   "id": "d3248d21",
   "metadata": {},
   "outputs": [],
   "source": [
    "rotate_back(100)"
   ]
  },
  {
   "cell_type": "code",
   "execution_count": 27,
   "id": "9d3d61db",
   "metadata": {},
   "outputs": [],
   "source": [
    "self.recovery()"
   ]
  },
  {
   "cell_type": "code",
   "execution_count": 46,
   "id": "d3c7bb97",
   "metadata": {},
   "outputs": [],
   "source": [
    "rotate_back(400)"
   ]
  },
  {
   "cell_type": "code",
   "execution_count": 31,
   "id": "d7d7bdac",
   "metadata": {},
   "outputs": [],
   "source": [
    "import quaternion"
   ]
  },
  {
   "cell_type": "code",
   "execution_count": 32,
   "id": "116e12e4",
   "metadata": {},
   "outputs": [
    {
     "data": {
      "text/plain": [
       "0.0"
      ]
     },
     "execution_count": 32,
     "metadata": {},
     "output_type": "execute_result"
    }
   ],
   "source": [
    "\n"
   ]
  },
  {
   "cell_type": "code",
   "execution_count": 48,
   "id": "ce76f568",
   "metadata": {},
   "outputs": [],
   "source": [
    "cur_angle = 0\n",
    "q0 = quaternion.from_rotation_matrix(self.cobot.T_B_C_robot.R).copy()\n",
    "while cur_angle < self._tilting_angle:\n",
    "    rotate_open(500)\n",
    "    cur_angle += hrr_common.quaternion_distance(quaternion.from_rotation_matrix(self.cobot.T_B_C_robot.R), q0)\n",
    "    open_fingers()\n",
    "    rotate_back(500)"
   ]
  },
  {
   "cell_type": "code",
   "execution_count": 42,
   "id": "a6805690",
   "metadata": {},
   "outputs": [
    {
     "data": {
      "text/plain": [
       "(quaternion(-0.157622949137034, 0.0187112680230015, 0.987320748298061, 0.00162306329916049),\n",
       " array(quaternion(0.0160000221904193, 0.0187103222423431, 0.99969557241438, -0.00163878814308873), dtype=quaternion))"
      ]
     },
     "execution_count": 42,
     "metadata": {},
     "output_type": "execute_result"
    }
   ],
   "source": [
    " quaternion.from_rotation_matrix(self.cobot.T_B_C_robot.R),q0\n"
   ]
  },
  {
   "cell_type": "code",
   "execution_count": 45,
   "id": "d849ed49",
   "metadata": {},
   "outputs": [],
   "source": [
    "self._tilting_angle = np.pi / 2.0"
   ]
  },
  {
   "cell_type": "code",
   "execution_count": null,
   "id": "0d7556c1",
   "metadata": {},
   "outputs": [],
   "source": []
  }
 ],
 "metadata": {
  "kernelspec": {
   "display_name": "Python 3 (ipykernel)",
   "language": "python",
   "name": "python3"
  },
  "language_info": {
   "codemirror_mode": {
    "name": "ipython",
    "version": 3
   },
   "file_extension": ".py",
   "mimetype": "text/x-python",
   "name": "python",
   "nbconvert_exporter": "python",
   "pygments_lexer": "ipython3",
   "version": "3.8.12"
  }
 },
 "nbformat": 4,
 "nbformat_minor": 5
}
