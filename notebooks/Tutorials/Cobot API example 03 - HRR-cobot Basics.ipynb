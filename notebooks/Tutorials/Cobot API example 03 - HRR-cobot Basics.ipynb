{
 "cells": [
  {
   "cell_type": "markdown",
   "id": "995ad794",
   "metadata": {},
   "source": [
    "# nb 03: how to use ```HrrCobotHandle```\n",
    "\n",
    "**This is the continuation of the tutorial 01 - 02 notebooks. Please understand how to read data and send simple commands from the cobot before continuing here.\n",
    "You can also find additional information about underlying docus and startup procedures**\n",
    "\n",
    "**CHANGELOG**\n",
    "\n",
    "v0.3: imports changed\n",
    "\n",
    "\n",
    "## Imports / Packages needed"
   ]
  },
  {
   "cell_type": "code",
   "execution_count": 1,
   "id": "3cecc26b",
   "metadata": {
    "code_folding": []
   },
   "outputs": [],
   "source": [
    "# packages needed for this tutorial\n",
    "# math and robotics\n",
    "import numpy as np\n",
    "import quaternion\n",
    "import spatialmath as sm\n",
    "from tqdm.notebook import tqdm, trange\n",
    "\n",
    "# plotting \n",
    "import seaborn as sns\n",
    "\n",
    "# ROS\n",
    "import rospy\n",
    "\n",
    "# simulated robot content and helpers\n",
    "import hrr_common\n",
    "import hrr_controllers\n",
    "import hrr_cobot_robot\n",
    "\n",
    "# set printing and plotting options    \n",
    "np.set_printoptions(precision=5, suppress=True)\n",
    "sns.set_theme('notebook')\n",
    "%matplotlib notebook"
   ]
  },
  {
   "cell_type": "code",
<<<<<<< HEAD
   "execution_count": 2,
   "id": "452cdfe2",
=======
   "execution_count": null,
   "id": "ca381203",
>>>>>>> ecoreset_tum_sync
   "metadata": {},
   "outputs": [
    {
     "name": "stdout",
     "output_type": "stream",
     "text": [
      "env: ROS_MASTER_URI=http://hrrcobotLinux54:11311\n",
      "\t\u001b[1m\u001b[4m!!!please check that the IPs below is identical!!!\u001b[0m\n",
      "\thost t495-11 has IP 129.187.147.161, which should be identical to\n",
      "vs:\tenv: ROS_IP=129.187.147.161\n"
     ]
    }
   ],
   "source": [
    "hrr_common.utils.set_ros_environment(ros_master = 'hrrcobotLinux54')"
   ]
  },
  {
   "cell_type": "code",
   "execution_count": 3,
   "id": "a91701ef",
   "metadata": {},
   "outputs": [],
   "source": [
    "rospy.init_node(\"hrr_cobot_tutorial03\")"
   ]
  },
  {
   "cell_type": "markdown",
   "id": "fc7c328c",
   "metadata": {},
   "source": [
    "## Hrr-Cobot interface\n",
    "\n",
    "The Hrr-Cobot interface allows to set the available ros-interfaces in a collected single class and instantiate interfaces as needed, use the helper function below to see how the individual classes from previous tutorials are integrated here."
   ]
  },
  {
   "cell_type": "code",
   "execution_count": 4,
   "id": "2ad5d0be",
   "metadata": {},
   "outputs": [],
   "source": [
    "# ?hrr_rob.HrrCobotIf"
   ]
  },
  {
   "cell_type": "code",
   "execution_count": 5,
   "id": "ae3bf99f",
   "metadata": {},
   "outputs": [
    {
     "name": "stderr",
     "output_type": "stream",
     "text": [
      "[WARN] [1645193602.606285]: could not initialize handle due @ /hrr_cobot_tutorial03 to missing ROS-parameter '/hrr_cobot/gimatic_encoder_controller_name'\n"
     ]
    }
   ],
   "source": [
    "cobot = hrr_cobot_robot.HrrCobotIf.from_ros(\"/hrr_cobot\")"
   ]
  },
  {
   "cell_type": "markdown",
   "id": "13978388",
   "metadata": {},
   "source": [
    "### Cobot property API\n",
    "\n",
    "Below, various examples on the reading APIs are given to access the data from sub-classes \n",
    "as needed"
   ]
  },
  {
   "cell_type": "code",
   "execution_count": 6,
   "id": "f23a59e4",
   "metadata": {},
   "outputs": [
    {
     "name": "stdout",
     "output_type": "stream",
     "text": [
      "Hrr-Cobot state:\n",
      "FT-data:\n",
      "current force:\t[-18.13007   0.78857  18.27759] [N]\n",
      "current torque:\t[ -6.20038 -14.60999   0.83008] [Nm]\n",
      "current wrench:\t[-18.12574   0.78575  18.30339  -6.22653 -14.62127   0.84544] [N,Nm]\n",
      "=>in contact:\tTrue\n",
      "---\n",
      "Robot-data:\n",
      "q:\t\t[ -5.21897   7.08874 -89.61052  -0.00015  83.29996  37.20393][°]\n",
      "q_dot:\t\t[0. 0. 0. 0. 0. 0.][rad/s]\n",
      "tau:\t\t[0. 0. 0. 0. 0. 0.][Nm]\n",
      "pos:\t\t[0.48279 0.0441  0.65681][m]\n",
      "quat:\t\t0.00000 <[-0.36181  0.93225  0.     ]>\n",
      "tool-pos:\t[0.48279 0.0441  0.65681][m]\n",
      "tool-rpy:\t[ 137.57712    0.      -180.     ][°]\n",
      "robot-status:\tready\n",
      "---\n"
     ]
    }
   ],
   "source": [
    "print(cobot)"
   ]
  },
  {
   "cell_type": "code",
   "execution_count": 7,
   "id": "2309a473",
   "metadata": {},
   "outputs": [
    {
     "data": {
      "text/plain": [
       "array([-0.09109,  0.12372, -1.564  , -0.     ,  1.45386,  0.64933])"
      ]
     },
     "execution_count": 7,
     "metadata": {},
     "output_type": "execute_result"
    }
   ],
   "source": [
    "cobot.q"
   ]
  },
  {
   "cell_type": "code",
   "execution_count": 8,
   "id": "b2064140",
   "metadata": {},
   "outputs": [
    {
     "data": {
      "text/plain": [
       "  \u001b[38;5;1m-0.7382  \u001b[0m \u001b[38;5;1m-0.6746  \u001b[0m \u001b[38;5;1m 0       \u001b[0m \u001b[38;5;4m 0.4828  \u001b[0m  \u001b[0m\n",
       "  \u001b[38;5;1m-0.6746  \u001b[0m \u001b[38;5;1m 0.7382  \u001b[0m \u001b[38;5;1m 0       \u001b[0m \u001b[38;5;4m 0.0441  \u001b[0m  \u001b[0m\n",
       "  \u001b[38;5;1m 0       \u001b[0m \u001b[38;5;1m 0       \u001b[0m \u001b[38;5;1m-1       \u001b[0m \u001b[38;5;4m 0.6568  \u001b[0m  \u001b[0m\n",
       "  \u001b[38;5;244m 0       \u001b[0m \u001b[38;5;244m 0       \u001b[0m \u001b[38;5;244m 0       \u001b[0m \u001b[38;5;244m 1       \u001b[0m  \u001b[0m\n"
      ]
     },
     "execution_count": 8,
     "metadata": {},
     "output_type": "execute_result"
    }
   ],
   "source": [
    "cobot.T_B_E_robot"
   ]
  },
  {
   "cell_type": "code",
   "execution_count": 9,
   "id": "57cb1385",
   "metadata": {},
   "outputs": [
    {
     "data": {
      "text/plain": [
       "array([0.48279, 0.0441 , 0.65681])"
      ]
     },
     "execution_count": 9,
     "metadata": {},
     "output_type": "execute_result"
    }
   ],
   "source": [
    "cobot.sns_pos"
   ]
  },
  {
   "cell_type": "code",
   "execution_count": 10,
   "id": "803b2ad9",
   "metadata": {},
   "outputs": [
    {
     "data": {
      "text/plain": [
       "quaternion(7.92365862020831e-17, -0.361810981121549, 0.932251475697337, 3.49301382853931e-17)"
      ]
     },
     "execution_count": 10,
     "metadata": {},
     "output_type": "execute_result"
    }
   ],
   "source": [
    "cobot.sns_quat"
   ]
  },
  {
   "cell_type": "code",
   "execution_count": 11,
   "id": "52ed924a",
   "metadata": {},
   "outputs": [
    {
     "data": {
      "text/plain": [
       "array([-18.10461,   0.79688,  18.30322,  -6.22797, -14.60999,   0.84668])"
      ]
     },
     "execution_count": 11,
     "metadata": {},
     "output_type": "execute_result"
    }
   ],
   "source": [
    "cobot.FT_F"
   ]
  },
  {
   "cell_type": "code",
   "execution_count": 12,
   "id": "e005412c",
   "metadata": {},
   "outputs": [
    {
     "data": {
      "text/plain": [
       "(array([-18.14694,   0.02748, -18.22656,  -5.57797,  14.88818,  -0.8384 ]),\n",
       " array([ 18.14694,  -0.02748,  18.22656,   5.57797, -14.88818,   0.8384 ]))"
      ]
     },
     "execution_count": 12,
     "metadata": {},
     "output_type": "execute_result"
    }
   ],
   "source": [
    "cobot.B_F_msr, cobot.B_F_ext"
   ]
  },
  {
   "cell_type": "markdown",
   "id": "6bf9cdd0",
   "metadata": {},
   "source": [
    "### Kinematics utilities / interfaces\n",
    "\n",
    "In order to use the kinematic utilites from Tutorial 01, the cobot forwards the ``IK`` and ``FK`` functions to the current robot handle if available.\n",
    "We can now e.g. compare this against the read-out in ROS in terms of FK-accuracy"
   ]
  },
  {
   "cell_type": "code",
   "execution_count": null,
   "id": "4956391f",
   "metadata": {},
   "outputs": [],
   "source": [
    "print(\"current model mismatch between symbolic FK and robot state is given as:\\n\", \n",
    "      f\"{hrr_common.utils.pose_error(cobot.FK(cobot.q), cobot.T_B_E_robot) * 1e6} * 1e-6 [m, rad]\")"
   ]
  },
  {
   "cell_type": "markdown",
   "id": "649fe136",
   "metadata": {},
   "source": [
    "### Controller Manager Utils"
   ]
  },
  {
   "cell_type": "code",
   "execution_count": null,
   "id": "9504e8b0",
   "metadata": {},
   "outputs": [],
   "source": [
    "cobot.needs_reset"
   ]
  },
  {
   "cell_type": "code",
   "execution_count": null,
   "id": "5c4540a1",
   "metadata": {},
   "outputs": [],
   "source": [
    "cobot.active_controllers"
   ]
  },
  {
   "cell_type": "code",
   "execution_count": null,
   "id": "cd16e665",
   "metadata": {},
   "outputs": [],
   "source": [
    "try:\n",
    "    cobot.init_sns_compl('/tmp/current_tool.npy')\n",
    "    print(cobot.active_controllers)\n",
    "except AttributeError:\n",
    "    print(f'compliant sensor-track controller is set to {rospy.get_param(\"/hrr_cobot/cmd_sns_compl\")}')"
   ]
  },
  {
   "cell_type": "code",
   "execution_count": null,
   "id": "780360e8",
   "metadata": {},
   "outputs": [],
   "source": [
    "cobot.active_controllers"
   ]
  },
  {
   "cell_type": "code",
   "execution_count": null,
   "id": "9bba709f",
   "metadata": {},
   "outputs": [],
   "source": [
    "cobot.init_sns_vel()"
   ]
  },
  {
   "cell_type": "code",
   "execution_count": null,
   "id": "ca921dc8",
   "metadata": {},
   "outputs": [],
   "source": [
    "cobot.deactivate_controllers()"
   ]
  },
  {
   "cell_type": "markdown",
   "id": "22f950f6",
   "metadata": {},
   "source": [
    "### Calibrate Robot\n",
    "\n",
    "Available as a Ros-service via \n",
    "\n",
    "```python\n",
    "cobot.calibration_service\n",
    "```\n",
    "\n",
    "which expects the custom [```CalibrateCobot.srv```](https://git.lsr.ei.tum.de/hr_recycler/hrr_cobot/-/blob/master/hrr_msgs/srv/CalibrateCobot.srv) and calls the function\n",
    "\n",
    "```python\n",
    "cobot.run_calibration_routine()\n",
    "```\n",
    "\n",
    "This function is called below. \n",
    "Usually the plot is disabled but kept here for checking / debugging."
   ]
  },
  {
   "cell_type": "code",
   "execution_count": null,
   "id": "f8d6e010",
   "metadata": {},
   "outputs": [],
   "source": [
    "%matplotlib widget\n",
    "cobot.run_calibration_routine(file_name='/tmp/current2.npy', plot=True, figsize=(12,10), bias_hack=False)"
   ]
  },
  {
   "cell_type": "code",
   "execution_count": null,
   "id": "d33eb233",
   "metadata": {},
   "outputs": [],
   "source": [
    "cobot.FT_F, cobot.R_FT_E"
   ]
  },
  {
   "cell_type": "code",
   "execution_count": null,
   "id": "3d624fe7",
   "metadata": {},
   "outputs": [],
   "source": [
    "cobot.update_tf()\n",
    "cobot.B_F_msr"
   ]
  },
  {
   "cell_type": "markdown",
   "id": "4a557193",
   "metadata": {},
   "source": [
    "### Reset Sensor-Tracking Reference Position\n",
    "\n",
    "the Sensor-tracking controller alternates the current refence end-effector pose by applying a deviation command arount the current pose.\n",
    "For safety reason this alternation is most often limited, thus one needs to send a joint trajectory command to the current pose to reset the reference pose.\n",
    "In this class we provide the internal helper function \n",
    "\n",
    "```python\n",
    "cobot.reset_sns_reference_pose()\n",
    "```\n",
    "\n",
    "or with the dedicated ROS-service handle \n",
    "\n",
    "```python\n",
    "cobot.reset_sns_service\n",
    "```\n",
    "which expects a service-request of type [```std_srvs->Trigger```](http://docs.ros.org/en/api/std_srvs/html/srv/Trigger.html)"
   ]
  },
  {
   "cell_type": "code",
   "execution_count": null,
   "id": "3e763d54",
   "metadata": {},
   "outputs": [],
   "source": [
    "cobot.reset_sns_reference_pose()"
   ]
  },
  {
   "cell_type": "code",
   "execution_count": null,
   "id": "6ae5ed10",
   "metadata": {},
   "outputs": [],
   "source": []
  }
 ],
 "metadata": {
  "kernelspec": {
   "display_name": "Python 3 (ipykernel)",
   "language": "python",
   "name": "python3"
  },
  "language_info": {
   "codemirror_mode": {
    "name": "ipython",
    "version": 3
   },
   "file_extension": ".py",
   "mimetype": "text/x-python",
   "name": "python",
   "nbconvert_exporter": "python",
   "pygments_lexer": "ipython3",
   "version": "3.8.12"
  },
  "latex_envs": {
   "LaTeX_envs_menu_present": true,
   "autoclose": false,
   "autocomplete": true,
   "bibliofile": "biblio.bib",
   "cite_by": "apalike",
   "current_citInitial": 1,
   "eqLabelWithNumbers": true,
   "eqNumInitial": 1,
   "hotkeys": {
    "equation": "Ctrl-E",
    "itemize": "Ctrl-I"
   },
   "labels_anchors": false,
   "latex_user_defs": false,
   "report_style_numbering": false,
   "user_envs_cfg": false
  },
  "toc": {
   "base_numbering": 1,
   "nav_menu": {},
   "number_sections": true,
   "sideBar": true,
   "skip_h1_title": false,
   "title_cell": "Table of Contents",
   "title_sidebar": "Contents",
   "toc_cell": false,
   "toc_position": {
    "height": "calc(100% - 180px)",
    "left": "10px",
    "top": "150px",
    "width": "384px"
   },
   "toc_section_display": true,
   "toc_window_display": true
  },
  "toc-autonumbering": false,
  "toc-showcode": false,
  "toc-showmarkdowntxt": false,
  "toc-showtags": false,
  "varInspector": {
   "cols": {
    "lenName": 16,
    "lenType": 16,
    "lenVar": 40
   },
   "kernels_config": {
    "python": {
     "delete_cmd_postfix": "",
     "delete_cmd_prefix": "del ",
     "library": "var_list.py",
     "varRefreshCmd": "print(var_dic_list())"
    },
    "r": {
     "delete_cmd_postfix": ") ",
     "delete_cmd_prefix": "rm(",
     "library": "var_list.r",
     "varRefreshCmd": "cat(var_dic_list()) "
    }
   },
   "types_to_exclude": [
    "module",
    "function",
    "builtin_function_or_method",
    "instance",
    "_Feature"
   ],
   "window_display": false
  }
 },
 "nbformat": 4,
 "nbformat_minor": 5
}
