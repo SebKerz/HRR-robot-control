{
 "cells": [
  {
   "cell_type": "markdown",
   "id": "098a33e9",
   "metadata": {},
   "source": [
    "# nb 01: read data from ```hrr_cobot```\n",
    "\n",
    "This notebook outlines and tests various modules available in the ```hrr_cobot_robot``` and ```hrr_common``` package.\n",
    "\n",
    "You may also refer to our [internal project-docu](https://hr_recycler.pages.gitlab.lrz.de/hrr_cobot/) for additional help.\n",
    "\n",
    "Updated version after COMAU-integration\n",
    "\n",
    "**NOTE: For testing, please forward to the last cell, it is sufficient for testing the individual modules**\n",
    "\n",
    "## Imports / Packages needed"
   ]
  },
  {
   "cell_type": "code",
   "execution_count": 1,
   "id": "1dee4abe",
   "metadata": {},
   "outputs": [],
   "source": [
    "# math and robotics\n",
    "import numpy as np\n",
    "import quaternion\n",
    "\n",
    "# plotting \n",
    "import seaborn as sns\n",
    "import matplotlib as mpl\n",
    "import matplotlib.pyplot as plt\n",
    "\n",
    "# simulated robot content and helpers\n",
    "import hrr_cobot_robot as hrr_rob\n",
    "import hrr_controllers\n",
    "from hrr_common.utils import pose_error\n",
    "\n",
    "# ROS\n",
    "import rospy\n",
    "\n",
    "# set printing and plotting options    \n",
    "np.set_printoptions(precision=5, suppress=True)\n",
    "sns.set_theme('notebook')\n",
    "%matplotlib notebook"
   ]
  },
  {
   "cell_type": "markdown",
   "id": "cc88b920",
   "metadata": {},
   "source": [
    "## READING robot data\n",
    "\n",
    "Below we show the basic usage of communicating with the ```hrr-cobot```\n",
    "\n",
    "This notebook assumes that you have started the COMAU RAcer 5 robot via ros according to the instructions\n",
    "in the \n",
    "\n",
    "- [hrr_cobot_robot/README](https://git.lsr.ei.tum.de/hr_recycler/hrr_cobot/-/blob/master/hrr_cobot_robot/README.md)\n",
    "- and / or the refer the [Robot start-up in the wiki](https://wiki.tum.de/x/UIOiL).\n",
    "\n",
    "In short, we ran:\n",
    "\n",
    "```bash\n",
    " ~                                      hrr with schrottgott@hrrcobotLinux54 at  11:08:09\n",
    "❯ roslaunch hrr_cobot_robot hrr_cobot_hw.launch gripper_type:=\"nothing\"\n",
    "```\n",
    "\n",
    "After this, each class instance / API handle is expected to be initiated by the function ```from_ros()```\n",
    "**if** the ros-paramters have been set / loaded to the [ROS paramter-server](http://wiki.ros.org/Parameter%20Server).\n",
    "\n",
    "_the ```gripper_type=\"nothing\"``` is optional and just added as we have no gripper in the examples below_\n",
    "\n",
    "\n",
    "###### connect to ROS \n",
    "\n",
    "optionally set the ```ROS_IP``` and ```ROS_MASTER_URI``` directly form this notebook, as\n",
    "the setup above spawns the ros-setup from the real-time client, i.e. ```hrrN3511rt2004.lsr.ei.tum.de```"
   ]
  },
  {
   "cell_type": "code",
   "execution_count": 2,
   "id": "f936a216",
   "metadata": {},
   "outputs": [],
   "source": [
    "rospy.init_node(\"hrr_cobot_tutorial01\")"
   ]
  },
  {
   "cell_type": "markdown",
   "id": "d5cc8995",
   "metadata": {},
   "source": [
    "### robot state (```hrr_cobot_robot.RobotState```)\n",
    "\n",
    "This class interface implements a class handle that wraps ```joint-state``` information. \n",
    "You can check this topic in a terminal via\n",
    "\n",
    "```bash\n",
    "~ ··········································································· 5s │ hrr Py │ 17:06:02 \n",
    "❯ rostopic echo /hrr_cobot/joint_states\n",
    "# ...\n",
    "header: \n",
    "  seq: 18806\n",
    "  stamp: \n",
    "    secs: 1632755161\n",
    "    nsecs: 653168686\n",
    "  frame_id: ''\n",
    "name: \n",
    "  - joint_1\n",
    "  - joint_2\n",
    "  - joint_3\n",
    "  - joint_4\n",
    "  - joint_5\n",
    "  - joint_6\n",
    "  - jr3msr_joint\n",
    "position: [-0.000730169762391597, 0.0003336603404022753, -1.5704600811004639, 0.0039870161563158035, 1.5723326206207275, -0.008724238723516464, 0.0]\n",
    "velocity: [0.0, 0.0, 0.0, 0.0, 0.0, 0.0, 0.0]\n",
    "effort: [0.0, 0.0, 0.0, 0.0, 0.0, 0.0, 0.0]\n",
    "---\n",
    "header: \n",
    "  seq: 18807\n",
    "  stamp: \n",
    "    secs: 1632755161\n",
    "    nsecs: 658375175\n",
    "```\n",
    "\n",
    "\n",
    "When trying to set this class instance, it will will thrown an error as the dedicated ros-parameter is not yet set properly.\n",
    "\n",
    "The required ROS-parameter is given as \n",
    "\n",
    "```joint_state_topic_name```\n",
    "\n",
    "which defines the joint-state topic, as well as the optional\n",
    "\n",
    "```joint_names```\n",
    "\n",
    "which defines the names of the robot-joints in the URDF."
   ]
  },
  {
   "cell_type": "code",
   "execution_count": null,
   "id": "40367086",
   "metadata": {},
   "outputs": [],
   "source": [
    "robot_status = hrr_controllers.RobotState.from_ros()"
   ]
  },
  {
   "cell_type": "markdown",
   "id": "f06fa2fb",
   "metadata": {},
   "source": [
    "Thus, we set the dedicated ros-parameter as shown below.\n",
    "In order to find the respective ros-topic name, you may execute\n",
    "\n",
    "```bash\n",
    "❯ rostopic list | grep joint_state\n",
    "/hrr_cobot/joint_states\n",
    "```\n",
    "\n",
    "in a terminal.\n",
    "Assuming the joint-state ros-topic is named ```/hrr_cobot/joint_states```, we can set the ros-parameter server and \n",
    "retest the class handle instantiation.\n",
    "We can then print the class to ease the current state output.\n",
    "\n",
    "**NOTES**\n",
    "\n",
    "> In case you forget to set the ```sleep``` command, the robot will show a zero-vector for the joints\n",
    "> \n",
    "> In contrast to the majority of robot / controller APIs, this interface can be applied to arbitrary robot systems"
   ]
  },
  {
   "cell_type": "code",
   "execution_count": 4,
   "id": "fee07463",
   "metadata": {},
   "outputs": [],
   "source": [
    "?hrr_controllers.RobotState.from_ros"
   ]
  },
  {
   "cell_type": "code",
   "execution_count": null,
   "id": "9dc44c55",
   "metadata": {},
   "outputs": [],
   "source": [
    "rospy.set_param(\"~joint_state_topic_name\", \"/hrr_cobot/joint_states\")\n",
    "robot_status = hrr_controllers.RobotState.from_ros(\"/hrr_cobot\")\n",
    "rospy.sleep(1e-1)\n",
    "print(robot_status)"
   ]
  },
  {
   "cell_type": "code",
   "execution_count": null,
   "id": "834c7855",
   "metadata": {},
   "outputs": [],
   "source": [
    "robot_status.q, robot_status.q_deg"
   ]
  },
  {
   "cell_type": "markdown",
   "id": "1d648ec9",
   "metadata": {},
   "source": [
    "#### Kinematics utilities / interfaces\n",
    "\n",
    "In addition to general robot state values, the ``RobotState`` also allows to use the symbiolic Racer model from the ``sim_robots`` python package (c.f.: https://git.lsr.ei.tum.de/hr_recycler/sim_robots).\n",
    "Thus, on request the ``_kin_model`` attribute is generated via ``_assert_kin_model`` once a function is used that needs said model.\n",
    "\n",
    "As seen below, the attribute is empty by default.\n",
    "\n",
    "**Note:**\n",
    "\n",
    "- depending on the current state of the model, the initial generation may take some seconds. After the model is generated, the processing is fastened\n",
    "- The IK returns too many solutions by the time of writing as some of them are infeasible for the current solution, so either check your solution or provide the command ``check=True`` to the function as shown below"
   ]
  },
  {
   "cell_type": "code",
   "execution_count": null,
   "id": "c5c546ae",
   "metadata": {},
   "outputs": [],
   "source": [
    "robot_status._kin_model"
   ]
  },
  {
   "cell_type": "markdown",
   "id": "510a1e62",
   "metadata": {},
   "source": [
    "The main functions in use are the forward-kinematics and inverse-kinematics, implemented as the functions below\n",
    "\n",
    "```ipython\n",
    "?robot_status.FK\n",
    "?robot_status.IK\n",
    "```"
   ]
  },
  {
   "cell_type": "code",
   "execution_count": null,
   "id": "4a721edc",
   "metadata": {},
   "outputs": [],
   "source": [
    "T = robot_status.FK(robot_status.q)\n",
    "T"
   ]
  },
  {
   "cell_type": "code",
   "execution_count": null,
   "id": "341509d3",
   "metadata": {},
   "outputs": [],
   "source": [
    "robot_status._kin_model"
   ]
  },
  {
   "cell_type": "code",
   "execution_count": null,
   "id": "adf1db08",
   "metadata": {},
   "outputs": [],
   "source": [
    "# ISSUE to be resolved with sim_robots\n",
    "# for i, q in enumerate(robot_status.IK(T)):\n",
    "#     err = np.linalg.norm(pose_error(robot_status.FK(q), T))\n",
    "#     if err > 1e-3:\n",
    "#         rospy.logerr(f\"solution: #{i} leads to Cartesian error of {err}\")"
   ]
  },
  {
   "cell_type": "code",
   "execution_count": null,
   "id": "7f9203a0",
   "metadata": {},
   "outputs": [],
   "source": [
    "# ISSUE to be resolved with sim_robots\n",
    "# errors = {}\n",
    "# for i, q in enumerate(robot_status.IK(T, check=True)):\n",
    "#     err = np.linalg.norm(pose_error(robot_status.FK(q), T))\n",
    "#     if err > 1e-3:\n",
    "#         rospy.logerr(f\"solution: #{i} leads to Cartesian error of {err}\")\n",
    "#     errors[i] = err\n",
    "# errors"
   ]
  },
  {
   "cell_type": "markdown",
   "id": "ab022fcd",
   "metadata": {},
   "source": [
    "### TP5 state (```hrr_cobot_robot.ComauRobotState```)\n",
    "\n",
    "The Tp5 state cobot is an extension of the robot state instance and reads the output of the ```tp5_state_controller```\n",
    "\n",
    "This controller expects the following ROS-parameters to be set:\n",
    "\n",
    "| param name |  explanation|  default |\n",
    "| ----------| -----------|  --------  |\n",
    "| ```joint_names``` | the names of the **robot**-joints in the URDF | (joint_1:6) |\n",
    "| ```sns_frame``` | name of the sensor-tracking / ee-link in the tp5 controller | \"tcp_controller\" |\n",
    "| ```base_frame``` | name of the robot base-link, i.e. sns-tracking reference frame | \"base_link\" |\n",
    "| ```joint_state_topic_name``` | topic name for the **joint state controller** (see above) | |\n",
    "| ```tp5_topic_name``` | topic name for the **tp5 state controller** |  |\n",
    "\n",
    "parameters without default values need to be set to the ros-param server before instantiation.\n",
    "\n",
    "the default value for the ```tp5_topic_name``` is found via\n",
    "\n",
    "```bash\n",
    "❯ rostopic list | grep comau_cartesian_data\n",
    "/hrr_cobot/comau_robot_state_controller/comau_cartesian_data\n",
    "```\n",
    "\n",
    "Reading from this topic is identical to the commands above.\n",
    "So we can now set the parameters and instantiate the robot handle.\n",
    "\n",
    "In contrast to the handle above, this class gives not only information about the joint state but also the\n",
    "Cartesian sensor data readings.\n",
    "the outputs are explained as\n",
    "\n",
    "- joint-data -> joint state data\n",
    "- pos / quat -> transformation obtained from tf2ros from base->sns-frame\n",
    "- tool-pos / rpy -> sensory output from the ```tp5 state message```\n",
    "- robot-status -> the current robot status, e.g. ```moving, ready, error, terminate``` (see ```comau_driver```)"
   ]
  },
  {
   "cell_type": "code",
   "execution_count": null,
   "id": "d9a2ca0e",
   "metadata": {
    "scrolled": true
   },
   "outputs": [],
   "source": [
    "# rospy.set_param(\"~joint_state_topic_name\", \"/hrr_cobot/joint_states\")\n",
    "# rospy.set_param(\"~tp5_topic_name\", \"/hrr_cobot/comau_robot_state_controller/comau_cartesian_data\")\n",
    "comau_status = hrr_controllers.ComauRobotState.from_ros(\"/hrr_cobot\")\n",
    "rospy.sleep(1e-1)\n",
    "print(comau_status)"
   ]
  },
  {
   "cell_type": "markdown",
   "id": "4e27f2df",
   "metadata": {},
   "source": [
    "this class handle allows some custom command readouts besides accessing the current end-effector\n",
    "\n",
    "- position\n",
    "- quaternion-orientatoin\n",
    "- Rotation matrix orientation\n",
    "- SE(3) pose\n",
    "- robot-status as human readable string\n",
    "\n",
    "as the robot handle allows to check if the current configuration is sufficiently close to the calibration pose of the robot, as outlined below"
   ]
  },
  {
   "cell_type": "code",
   "execution_count": null,
   "id": "5d6a57b9",
   "metadata": {},
   "outputs": [],
   "source": [
    "np.rad2deg(comau_status.tool_rpy)inematics - transformation tester.ipynb"
   ]
  },
  {
   "cell_type": "code",
   "execution_count": null,
   "id": "4a3d671a",
   "metadata": {},
   "outputs": [],
   "source": [
    "comau_status.pos"
   ]
  },
  {
   "cell_type": "code",
   "execution_count": null,
   "id": "52315ef6",
   "metadata": {},
   "outputs": [],
   "source": [
    "comau_status.quat"
   ]
  },
  {
   "cell_type": "code",
   "execution_count": null,
   "id": "273a3528",
   "metadata": {},
   "outputs": [],
   "source": [
    "comau_status.R"
   ]
  },
  {
   "cell_type": "code",
   "execution_count": null,
   "id": "efa5e334",
   "metadata": {},
   "outputs": [],
   "source": [
    "comau_status.T_B_E"
   ]
  },
  {
   "cell_type": "code",
   "execution_count": null,
   "id": "2a9be18d",
   "metadata": {},
   "outputs": [],
   "source": [
    "robot_status.q"
   ]
  },
  {
   "cell_type": "code",
   "execution_count": 17,
   "id": "401008ff",
   "metadata": {},
   "outputs": [
    {
     "data": {
      "text/plain": [
       "False"
      ]
     },
     "execution_count": 17,
     "metadata": {},
     "output_type": "execute_result"
    }
   ],
   "source": [
    "comau_status.can_calibrate"
   ]
  },
  {
   "cell_type": "code",
   "execution_count": null,
   "id": "cfaba439",
   "metadata": {},
   "outputs": [],
   "source": [
    "comau_status.robot_status"
   ]
  },
  {
   "cell_type": "markdown",
   "id": "56250ac2",
   "metadata": {},
   "source": [
    "### Force-Torque State handles\n",
    "\n",
    "#### Simple FT-Sensor Handle (```hrr_cobot_robot.FTData```)\n",
    "\n",
    "This class instance expects the ```ft_sensor_topic``` ros param to be set.\n",
    "\n",
    "```bash\n",
    "rostopic list | grep ft\n",
    "/hrr_cobot/ft_sensor\n",
    "```"
   ]
  },
  {
   "cell_type": "code",
   "execution_count": null,
   "id": "4e17335a",
   "metadata": {},
   "outputs": [],
   "source": [
    "rospy.set_param(\"~ft_sensor_topic_name\", \"/hrr_cobot/ft_sensor\")\n",
    "ft_status = hrr_controllers.FTData.from_ros(\"/hrr_cobot\")\n",
    "rospy.sleep(1e-1)\n",
    "print(ft_status)"
   ]
  },
  {
   "cell_type": "markdown",
   "id": "8fdd80ca",
   "metadata": {},
   "source": [
    "this handle allows to access the sensor data separately for wrench, force and torque and protects\n",
    "the raw sensor reading, which is found in ```_wrench```.\n",
    "\n",
    "This handle allows for a calibrated read-out if the parameters have been set correctly either fromm the paramter server (see ```read_params```) or from file (see ```load_offset```).\n",
    "\n",
    "Once the calibratoin values have been set, the state handle needs to be updated via ```update_load```\n",
    "as this depends on the current end-effect to base frame orientation.\n",
    "The final calibrated value is then to be found in ```wrench_calib```"
   ]
  },
  {
   "cell_type": "code",
   "execution_count": null,
   "id": "2de4bdd3",
   "metadata": {},
   "outputs": [],
   "source": [
    "ft_status.f, ft_status.tau, ft_status.wrench"
   ]
  },
  {
   "cell_type": "code",
   "execution_count": null,
   "id": "94de38b3",
   "metadata": {},
   "outputs": [],
   "source": [
    "ft_status._wrench"
   ]
  },
  {
   "cell_type": "code",
   "execution_count": null,
   "id": "f530235c",
   "metadata": {},
   "outputs": [],
   "source": [
    "ft_status.offset"
   ]
  },
  {
   "cell_type": "code",
   "execution_count": null,
   "id": "1069e302",
   "metadata": {},
   "outputs": [],
   "source": [
    "ft_status.wrench, ft_status.wrench_calib"
   ]
  },
  {
   "cell_type": "markdown",
   "id": "50b5a143",
   "metadata": {},
   "source": [
    "#### FT-Sensor Buffer handle (```hrr_cobot_robot.FTBuffer```)\n",
    "\n",
    "This is pretty similar to the simple FT-sensor handle but allows to store the FT-reading in a buffer and apply a \n",
    "[Savitkzy-Golay-filter](https://docs.scipy.org/doc/scipy/reference/generated/scipy.signal.savgol_filter.html)\n",
    "to reduce the SNR of the recorded data.\n",
    "\n",
    "The procedure is pretty similar as shwon below, but in addition allows to estimate:\n",
    "\n",
    "- sensor noise \n",
    "- return ```in_contact``` by comparing filtered data against sensor noise\n"
   ]
  },
  {
   "cell_type": "code",
   "execution_count": null,
   "id": "ea049ebd",
   "metadata": {},
   "outputs": [],
   "source": [
    "ft_buf_status = hrr_controllers.FTBuffer.from_ros(\"/hrr_cobot\")\n",
    "rospy.sleep(1e-1)\n",
    "print(ft_buf_status)"
   ]
  },
  {
   "cell_type": "code",
   "execution_count": null,
   "id": "51ec5000",
   "metadata": {},
   "outputs": [],
   "source": [
    "ft_buf_status.N, ft_buf_status.window_size"
   ]
  },
  {
   "cell_type": "code",
   "execution_count": null,
   "id": "58664f8d",
   "metadata": {},
   "outputs": [],
   "source": [
    "ft_buf_status.μ, ft_buf_status.σ, ft_buf_status.wrench"
   ]
  },
  {
   "cell_type": "markdown",
   "id": "72b4dbb1",
   "metadata": {},
   "source": [
    "the plot below shows the difference of measured force versus calibrated and filtered + calibrated force"
   ]
  },
  {
   "cell_type": "code",
   "execution_count": null,
   "id": "c7f5d17b",
   "metadata": {},
   "outputs": [],
   "source": [
    "fig = plt.figure(figsize=(12,12))\n",
    "# F msr\n",
    "ax = fig.add_subplot(411)\n",
    "ax.plot(ft_buf_status._wrench_buf.T)\n",
    "ax.set_ylabel(r'${\\bf F}_\\mathrm{msr}$')\n",
    "\n",
    "# Fmsr - Fbias\n",
    "ax = fig.add_subplot(412)\n",
    "ax.plot(ft_buf_status._wrench_buf.T - ft_buf_status.offset)\n",
    "ax.set_ylabel(r'${\\bf F}_\\mathrm{msr} -{\\bf F}_\\mathrm{bias} $')\n",
    "\n",
    "# F filtered\n",
    "ax = fig.add_subplot(413)\n",
    "plt.plot((ft_buf_status.filtered_buf.T - ft_buf_status.bias))\n",
    "ax.set_ylabel(r'${\\bf F}_\\mathrm{calibrated}$')\n",
    "\n",
    "# F filtered after reset\n",
    "ax = fig.add_subplot(414)\n",
    "ft_buf_status.reset_bias()\n",
    "plt.plot((ft_buf_status.filtered_buf.T - ft_buf_status.bias))\n",
    "ax.set_ylabel(r'${\\bf F}_\\mathrm{calibrated}$')\n",
    "\n",
    "ax.set_xlabel(r'$i_{\\mathrm{buffer}}$')\n",
    "ax.legend(['$f_x$','$f_y$', '$f_z$', \n",
    "           r'$\\tau_x$',r'$\\tau_y$', r'$\\tau_z$'], ncol=6);"
   ]
  },
  {
   "cell_type": "markdown",
   "id": "43a5e318",
   "metadata": {},
   "source": [
    "Even though not recommended, the ```FTBuffer``` contains a quick hack for sensor-calibration via ```reset_bias```\n",
    "as shown in the last plot above."
   ]
  },
  {
   "cell_type": "code",
   "execution_count": null,
   "id": "a979e2af",
   "metadata": {},
   "outputs": [],
   "source": [
    "ft_buf_status.wrench, ft_buf_status.wrench_calib"
   ]
  },
  {
   "cell_type": "markdown",
   "id": "a7c32673",
   "metadata": {},
   "source": [
    "## Shortcut\n",
    "\n",
    "all parameters shown above can also be loaded by a util-function callled ```load_default_parameters```\n",
    "where all parameters are loaded within the name-space of the robot in the current node\n",
    "\n",
    "to test this, restart the kernel and run only the cell below"
   ]
  },
  {
   "cell_type": "code",
   "execution_count": null,
   "id": "c67aad95",
   "metadata": {},
   "outputs": [],
   "source": [
    "import rospy\n",
    "import numpy as np\n",
    "\n",
    "from hrr_controllers import (\n",
    "    RobotState,\n",
    "    ComauRobotState,\n",
    "    FTData,\n",
    "    FTBuffer\n",
    ")\n",
    "import hrr_cobot_robot as hrr_rob\n",
    "\n",
    "# ROS\n",
    "import rospy\n",
    "np.set_printoptions(precision=5, suppress=True)\n",
    "\n",
    "try:\n",
    "    rospy.init_node(\"hrr_cobot_tutorial_quick_01\")\n",
    "except rospy.ROSException:\n",
    "    print('ROS is already initialized')\n",
    "rob = RobotState.from_ros(\"/hrr_cobot\")\n",
    "com_rob = ComauRobotState.from_ros(\"/hrr_cobot\")\n",
    "ft = FTData.from_ros(\"/hrr_cobot\")\n",
    "ftb = FTBuffer.from_ros(\"/hrr_cobot\")\n",
    "rospy.sleep(1e-1)\n",
    "print(f'\\nRobotState:\\n{rob}')\n",
    "print(f'\\nComauRobotState:\\n{com_rob}')\n",
    "print(f'\\nFTData:\\n{ft}')\n",
    "print(f'\\nFTBuffer:\\n{ftb}')"
   ]
  },
  {
   "cell_type": "code",
   "execution_count": null,
   "id": "4977dd42",
   "metadata": {},
   "outputs": [],
   "source": []
  }
 ],
 "metadata": {
  "kernelspec": {
   "display_name": "Python 3 (ipykernel)",
   "language": "python",
   "name": "python3"
  },
  "language_info": {
   "codemirror_mode": {
    "name": "ipython",
    "version": 3
   },
   "file_extension": ".py",
   "mimetype": "text/x-python",
   "name": "python",
   "nbconvert_exporter": "python",
   "pygments_lexer": "ipython3",
   "version": "3.8.12"
  },
  "latex_envs": {
   "LaTeX_envs_menu_present": true,
   "autoclose": false,
   "autocomplete": true,
   "bibliofile": "biblio.bib",
   "cite_by": "apalike",
   "current_citInitial": 1,
   "eqLabelWithNumbers": true,
   "eqNumInitial": 1,
   "hotkeys": {
    "equation": "Ctrl-E",
    "itemize": "Ctrl-I"
   },
   "labels_anchors": false,
   "latex_user_defs": false,
   "report_style_numbering": false,
   "user_envs_cfg": false
  },
  "toc": {
   "base_numbering": 1,
   "nav_menu": {},
   "number_sections": true,
   "sideBar": true,
   "skip_h1_title": false,
   "title_cell": "Table of Contents",
   "title_sidebar": "Contents",
   "toc_cell": false,
   "toc_position": {
    "height": "calc(100% - 180px)",
    "left": "10px",
    "top": "150px",
    "width": "384px"
   },
   "toc_section_display": true,
   "toc_window_display": true
  },
  "varInspector": {
   "cols": {
    "lenName": 16,
    "lenType": 16,
    "lenVar": 40
   },
   "kernels_config": {
    "python": {
     "delete_cmd_postfix": "",
     "delete_cmd_prefix": "del ",
     "library": "var_list.py",
     "varRefreshCmd": "print(var_dic_list())"
    },
    "r": {
     "delete_cmd_postfix": ") ",
     "delete_cmd_prefix": "rm(",
     "library": "var_list.r",
     "varRefreshCmd": "cat(var_dic_list()) "
    }
   },
   "types_to_exclude": [
    "module",
    "function",
    "builtin_function_or_method",
    "instance",
    "_Feature"
   ],
   "window_display": false
  }
 },
 "nbformat": 4,
 "nbformat_minor": 5
}
