{
 "cells": [
  {
   "cell_type": "markdown",
   "id": "54d242a7",
   "metadata": {},
   "source": [
    "# ```hrr_cobot_robot``` tutorial 04 - Advanced ```cobot``` Handle\n",
    "\n",
    "\n",
    "**This is the continuation of the tutorial 01-03 notebooks. Please understand how to read data and send simple commands from the cobot before continuing here\n",
    "You can also find additional information about underlying docus and startup procedures**\n",
    "\n",
    "**CHANGELOG**\n",
    "\n",
    "v0.3\n",
    "\n",
    "- imports changed \n",
    "- C++ compliance controller not checked / fully supported due to time restrictions\n",
    "- bottom (exending API) removed \n",
    "\n",
    "## Imports / Packages needed"
   ]
  },
  {
   "cell_type": "code",
   "execution_count": 1,
   "id": "40fc680e",
   "metadata": {
    "code_folding": []
   },
   "outputs": [],
   "source": [
    "# packages needed for this tutorial\n",
    "from pathlib import Path\n",
    "\n",
    "# math and robotics\n",
    "import numpy as np\n",
    "import quaternion\n",
    "from tqdm.notebook import tqdm, trange\n",
    "\n",
    "# plotting \n",
    "import seaborn as sns\n",
    "import matplotlib.pylab as plt\n",
    "\n",
    "# ROS\n",
    "import rospy\n",
    "\n",
    "# hrr-cobot packages\n",
    "import hrr_cobot_robot\n",
    "import hrr_common\n",
    "import hrr_controllers\n",
    "\n",
    "# set printing and plotting options    \n",
    "np.set_printoptions(precision=5, suppress=True)\n",
    "sns.set_theme('notebook')\n",
    "%matplotlib notebook"
   ]
  },
  {
   "cell_type": "code",
   "execution_count": null,
   "id": "4220c5dd",
   "metadata": {},
   "outputs": [],
   "source": [
    "hrr_common.utils.set_ros_environment(ros_master = 'hrrcobotLinux54')"
   ]
  },
  {
   "cell_type": "code",
   "execution_count": 3,
   "id": "4b66d544",
   "metadata": {},
   "outputs": [],
   "source": [
    "rospy.init_node(\"hrr_cobot_tutorial04\")"
   ]
  },
  {
   "cell_type": "markdown",
   "id": "8f990574",
   "metadata": {},
   "source": [
    "## Hrr-Cobot Control interface\n",
    "\n",
    "This tutorial outlines the usage of the HrrcobotControl class, which is an extension of the ```HrrCobotIf```\n",
    "from the previous tutorial"
   ]
  },
  {
   "cell_type": "code",
   "execution_count": 4,
   "id": "b265a6ed",
   "metadata": {},
   "outputs": [],
   "source": [
    "# outcomment as needed\n",
    "# ?hrr_cobot_robot.HrrCobotControl"
   ]
  },
  {
   "cell_type": "code",
   "execution_count": null,
   "id": "4fd74e28",
   "metadata": {},
   "outputs": [],
   "source": [
    "cobot = hrr_cobot_robot.HrrCobotControl.from_ros(\"/hrr_cobot\", compile_numba=False)"
   ]
  },
  {
   "cell_type": "code",
   "execution_count": null,
   "id": "9c20daf9",
   "metadata": {},
   "outputs": [],
   "source": [
    "cobot.close_tool_changer()"
   ]
  },
  {
   "cell_type": "code",
   "execution_count": null,
   "id": "ff579cc1",
   "metadata": {},
   "outputs": [],
   "source": [
    "q_des = np.r_[-1.135, 0.862, -2.169, -0.431, -1.488, 1.606]\n",
    "cobot.FK(q_des)"
   ]
  },
  {
   "cell_type": "code",
   "execution_count": 22,
   "id": "d56f40d1",
   "metadata": {},
   "outputs": [],
   "source": [
    "cobot.move_to_joint_pose(q_des)"
   ]
  },
  {
   "cell_type": "code",
   "execution_count": 11,
   "id": "fe9effa9",
   "metadata": {},
   "outputs": [],
   "source": [
    "import spatialmath as sm\n"
   ]
  },
  {
   "cell_type": "code",
   "execution_count": 13,
   "id": "164dafb9",
   "metadata": {},
   "outputs": [],
   "source": [
    "for in trange(10):\n",
    "    cobot.move_to_pose(sm.SE3(0, 0, 0.05) @ cobot.T_B_E_robot)\n",
    "    while cobot.state not in [\"FAILURE\", None]:\n",
    "        cobot.update()"
   ]
  },
  {
   "cell_type": "code",
   "execution_count": null,
   "id": "ed166c50",
   "metadata": {},
   "outputs": [],
   "source": []
  },
  {
   "cell_type": "code",
   "execution_count": 13,
   "id": "49b4ce74",
   "metadata": {},
   "outputs": [
    {
     "data": {
      "text/plain": [
       "True"
      ]
     },
     "execution_count": 13,
     "metadata": {},
     "output_type": "execute_result"
    }
   ],
   "source": [
    "cobot.change_tool('vacuum')"
   ]
  },
  {
   "cell_type": "code",
   "execution_count": null,
   "id": "dad0aae2",
   "metadata": {
    "scrolled": false
   },
   "outputs": [],
   "source": [
    "cobot.run_calibration_routine(file_name='/tmp/screwdriver.npy', plot=True, figsize=(10, 10))"
   ]
  },
  {
   "cell_type": "markdown",
   "id": "0bea9116",
   "metadata": {},
   "source": [
    "### Cobot property API\n",
    "\n",
    "Below, various examples on the reading APIs are given to access the data from sub-classes \n",
    "as needed"
   ]
  },
  {
   "cell_type": "code",
   "execution_count": null,
   "id": "efe77612",
   "metadata": {},
   "outputs": [],
   "source": [
    "cobot.dt, cobot.hz"
   ]
  },
  {
   "cell_type": "code",
   "execution_count": null,
   "id": "48bfcd93",
   "metadata": {},
   "outputs": [],
   "source": [
    "cobot.update_tf()\n",
    "cobot.B_err_F, cobot.FT_F"
   ]
  },
  {
   "cell_type": "markdown",
   "id": "100b9898",
   "metadata": {},
   "source": [
    "## Cobot State handling\n",
    "\n",
    "the cobot instance checks the current controller-strategy and thus tracks an nternal state, that is None in ```idle``` mode but amy also change to an ```error``` state, once the ```emergecny_stop()``` is triggered:"
   ]
  },
  {
   "cell_type": "code",
   "execution_count": null,
   "id": "ae67d5ad",
   "metadata": {},
   "outputs": [],
   "source": [
    "cobot.emergency_stop()\n",
    "print(cobot.state)\n",
    "cobot.reset()\n",
    "print(cobot.state)"
   ]
  },
  {
   "cell_type": "markdown",
   "id": "bbf6151a",
   "metadata": {},
   "source": [
    "## Pythonized Hybrid Force-Velocity Control\n",
    "\n",
    "With the ```cobot.set_py_hybrid_force_vel_command```command below the robot can be set to hybrid force-velocity control to establish a compliant behavior\n",
    "\n",
    "1. set the command\n",
    "2. read status\n",
    "3. apply strategy for fixed time interval\n",
    "\n",
    "**PLEASE CHECK IF THE FT-SENSOR IS PROPERLY CALIBRATED BEFORE APPLYING THE COMPLIANT CONTROLLER**"
   ]
  },
  {
   "cell_type": "code",
   "execution_count": null,
   "id": "27527a97",
   "metadata": {},
   "outputs": [],
   "source": [
    "# comment as needed\n",
    "# ?cobot.set_py_hybrid_force_vel_command"
   ]
  },
  {
   "cell_type": "code",
   "execution_count": null,
   "id": "d0ba0534",
   "metadata": {},
   "outputs": [],
   "source": [
    "cobot.init_sns_vel()"
   ]
  },
  {
   "cell_type": "code",
   "execution_count": null,
   "id": "ae3c3cb5",
   "metadata": {},
   "outputs": [],
   "source": [
    "cobot.reset()\n",
    "cobot.set_py_hybrid_force_vel_command(B_F_des=np.r_[0.0, 0.0, -5, np.zeros(3)], \n",
    "                                          K_f=8e-4, K_t=5e-3, scale_pos=0.0, scale_rot=0.0, \n",
    "                                      wrench_dir=np.r_[1.0, 1.0, 1.0, np.ones(3)],\n",
    "                                      vel_dir=np.zeros(6))"
   ]
  },
  {
   "cell_type": "code",
   "execution_count": null,
   "id": "66db795b",
   "metadata": {},
   "outputs": [],
   "source": [
    "print(cobot)"
   ]
  },
  {
   "cell_type": "code",
   "execution_count": null,
   "id": "64ebe0c2",
   "metadata": {},
   "outputs": [],
   "source": [
    "# commented for safety reasons -> outcomment for testing\n",
    "rospy.sleep(2.0)\n",
    "T = int(10 * cobot.hz)\n",
    "for t in trange(T):\n",
    "    cobot.update()"
   ]
  },
  {
   "cell_type": "code",
   "execution_count": null,
   "id": "cacc0e1b-8dcb-4d59-b0a4-6372eabb3c5e",
   "metadata": {},
   "outputs": [],
   "source": [
    "cobot.B_F_ext"
   ]
  },
  {
   "cell_type": "code",
   "execution_count": null,
   "id": "b11423ec",
   "metadata": {},
   "outputs": [],
   "source": [
    "cobot.emergency_stop()\n",
    "print(cobot.state)\n",
    "cobot.reset()\n",
    "print(cobot.state)"
   ]
  },
  {
   "cell_type": "markdown",
   "id": "314711ea",
   "metadata": {},
   "source": [
    "## Compliance via the sensor-track compliance controller\n",
    "\n",
    "Use the ```set_compliant``` command for an identical behavior as the former function, while only the compliance vector / direction is needed to be set, in addition to the calibration filename to calibrate the cobot properly.\n",
    "\n",
    "For a current bug, the ```acknowledge_calibration``` needs to be called once more as the robot is currently not accepting the inbuilt service call\n",
    "\n",
    "**the calibration file defaults to ```/tmp/current.yaml``` so use this with care.**"
   ]
  },
  {
   "cell_type": "code",
   "execution_count": null,
   "id": "799c8471",
   "metadata": {},
   "outputs": [],
   "source": [
    "# comment as needed\n",
    "# ?cobot.set_compliant"
   ]
  },
  {
   "cell_type": "code",
   "execution_count": null,
   "id": "775e5d45",
   "metadata": {},
   "outputs": [],
   "source": [
    "cobot.reset()\n",
    "cobot.set_compliant(np.r_[1.0, 1.0, 1.0, np.zeros(3)], Path(\"/tmp/current_tool.npy\"), F_max=5.0)"
   ]
  },
  {
   "cell_type": "code",
   "execution_count": null,
   "id": "45fbc865",
   "metadata": {},
   "outputs": [],
   "source": [
    "rospy.sleep(0.5)\n",
    "cobot.acknowledge_calibration()"
   ]
  },
  {
   "cell_type": "code",
   "execution_count": null,
   "id": "207ae45c",
   "metadata": {},
   "outputs": [],
   "source": [
    "T = int(10 * cobot.hz)\n",
    "for t in trange(T):\n",
    "    cobot.update()"
   ]
  },
  {
   "cell_type": "code",
   "execution_count": null,
   "id": "b4727b68",
   "metadata": {},
   "outputs": [],
   "source": [
    "cobot.emergency_stop()\n",
    "print(cobot.state)\n",
    "cobot.reset()\n",
    "print(cobot.state)"
   ]
  },
  {
   "cell_type": "markdown",
   "id": "a9a760a8",
   "metadata": {},
   "source": [
    "## Move cobot to a goal pose\n",
    "\n",
    "Similarly we can also move the robot to a predefined Cartesian Pose via \n",
    "```move_to_pose``` command, that is again applied in an identical manner:\n",
    "\n",
    "1. set the command\n",
    "2. read status\n",
    "3. apply strategy for fixed time interval"
   ]
  },
  {
   "cell_type": "code",
   "execution_count": null,
   "id": "bdfbd6b7",
   "metadata": {},
   "outputs": [],
   "source": [
    "# comment as needed\n",
    "# ?cobot.move_to_pose"
   ]
  },
  {
   "cell_type": "code",
   "execution_count": null,
   "id": "ead04482",
   "metadata": {},
   "outputs": [],
   "source": [
    "cobot.move_to_pose(cobot.FK(cobot.q_calib))"
   ]
  },
  {
   "cell_type": "code",
   "execution_count": null,
   "id": "2e7a081b",
   "metadata": {},
   "outputs": [],
   "source": [
    "print(f\"move robot along path of at leaast {np.linalg.norm(cobot.sns_pos- cobot.T_des.t):02.3f} m\")"
   ]
  },
  {
   "cell_type": "code",
   "execution_count": null,
   "id": "533a0b48",
   "metadata": {},
   "outputs": [],
   "source": [
    "# commented for safety reasons -> outcomment for testing\n",
    "T = int(100 * cobot.hz)\n",
    "for t in trange(T):\n",
    "    if cobot.state is None:\n",
    "        rospy.loginfo(f\"reached goal pose at step {t + 1} / {T}\")\n",
    "        break\n",
    "    elif cobot.state == \"error\":\n",
    "        rospy.logerror(f\"robot in ERROR state\")\n",
    "    cobot.update()"
   ]
  },
  {
   "cell_type": "markdown",
   "id": "31872c28",
   "metadata": {},
   "source": [
    "### use motion planner "
   ]
  },
  {
   "cell_type": "code",
   "execution_count": null,
   "id": "101ecd6d",
   "metadata": {},
   "outputs": [],
   "source": [
    "import time\n",
    "cobot.FK(cobot.q)\n",
    "t0 = time.perf_counter()\n",
    "cobot.stochastic_move_to_pose(cobot.FK(cobot.q_calib))\n",
    "print(f'planning and sending took {time.perf_counter() - t0:.3f} [s]')"
   ]
  },
  {
   "cell_type": "code",
   "execution_count": null,
   "id": "fb49670b",
   "metadata": {},
   "outputs": [],
   "source": []
  }
 ],
 "metadata": {
  "kernelspec": {
   "display_name": "Python 3 (ipykernel)",
   "language": "python",
   "name": "python3"
  },
  "language_info": {
   "codemirror_mode": {
    "name": "ipython",
    "version": 3
   },
   "file_extension": ".py",
   "mimetype": "text/x-python",
   "name": "python",
   "nbconvert_exporter": "python",
   "pygments_lexer": "ipython3",
   "version": "3.8.12"
  },
  "latex_envs": {
   "LaTeX_envs_menu_present": true,
   "autoclose": false,
   "autocomplete": true,
   "bibliofile": "biblio.bib",
   "cite_by": "apalike",
   "current_citInitial": 1,
   "eqLabelWithNumbers": true,
   "eqNumInitial": 1,
   "hotkeys": {
    "equation": "Ctrl-E",
    "itemize": "Ctrl-I"
   },
   "labels_anchors": false,
   "latex_user_defs": false,
   "report_style_numbering": false,
   "user_envs_cfg": false
  },
  "toc": {
   "base_numbering": 1,
   "nav_menu": {},
   "number_sections": true,
   "sideBar": true,
   "skip_h1_title": false,
   "title_cell": "Table of Contents",
   "title_sidebar": "Contents",
   "toc_cell": false,
   "toc_position": {
    "height": "750px",
    "left": "34px",
    "top": "67.1333px",
    "width": "384px"
   },
   "toc_section_display": true,
   "toc_window_display": true
  },
  "varInspector": {
   "cols": {
    "lenName": 16,
    "lenType": 16,
    "lenVar": 40
   },
   "kernels_config": {
    "python": {
     "delete_cmd_postfix": "",
     "delete_cmd_prefix": "del ",
     "library": "var_list.py",
     "varRefreshCmd": "print(var_dic_list())"
    },
    "r": {
     "delete_cmd_postfix": ") ",
     "delete_cmd_prefix": "rm(",
     "library": "var_list.r",
     "varRefreshCmd": "cat(var_dic_list()) "
    }
   },
   "types_to_exclude": [
    "module",
    "function",
    "builtin_function_or_method",
    "instance",
    "_Feature"
   ],
   "window_display": false
  }
 },
 "nbformat": 4,
 "nbformat_minor": 5
}
