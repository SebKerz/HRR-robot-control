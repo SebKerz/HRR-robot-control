{
 "cells": [
  {
   "cell_type": "markdown",
   "id": "78d57d6c",
   "metadata": {},
   "source": [
    "# nb 09: Identify EE-TCP\n",
    "\n"
   ]
  },
  {
   "cell_type": "code",
   "execution_count": 6,
   "id": "e7e7397a",
   "metadata": {},
   "outputs": [],
   "source": [
    "import numpy as np\n",
    "import rospy\n",
    "import spatialmath as sm\n",
    "from tqdm.notebook import trange, tqdm\n",
    "\n",
    "import hrr_cobot_robot\n",
    "import hrr_common\n",
    "\n",
    "np.set_printoptions(suppress=True, precision=4)"
   ]
  },
  {
   "cell_type": "code",
   "execution_count": 7,
   "id": "a44cb138",
   "metadata": {},
   "outputs": [
    {
     "name": "stdout",
     "output_type": "stream",
     "text": [
      "current hostname:\tpizza\n",
      "current IP:      \t129.187.147.180\n",
      "ROS-MASTER-URI:  \thttp://hrrcobotLinux54:11311\n"
     ]
    }
   ],
   "source": [
    "hrr_common.utils.set_ros_environment(ros_master = 'hrrcobotLinux54')"
   ]
  },
  {
   "cell_type": "code",
   "execution_count": 8,
   "id": "1f5b2e18",
   "metadata": {},
   "outputs": [],
   "source": [
    "rospy.init_node(\"hrr_cobot_check_tcps\")"
   ]
  },
  {
   "cell_type": "code",
   "execution_count": 9,
   "id": "6c0f6f67-91a5-4532-b117-d99c09cce233",
   "metadata": {},
   "outputs": [],
   "source": [
    "cobot = hrr_cobot_robot.HrrCobotControl.from_ros('/hrr_cobot')"
   ]
  },
  {
   "cell_type": "code",
   "execution_count": 41,
   "id": "db115511-9bcb-4883-806e-2ea210c44aab",
   "metadata": {},
   "outputs": [],
   "source": [
    "# cobot.init_sns_vel()"
   ]
  },
  {
   "cell_type": "code",
   "execution_count": 6,
   "id": "e6e385df-ce54-44eb-bb04-c4abdaa39419",
   "metadata": {},
   "outputs": [],
   "source": [
    "# drive to save location to start rotation motion"
   ]
  },
  {
   "cell_type": "code",
   "execution_count": 6,
   "id": "52c044b6-5d46-4bcc-bc93-2ae49edbce76",
   "metadata": {},
   "outputs": [],
   "source": [
    "# v_test = np.zeros(6)\n",
    "# for t in trange(1000):\n",
    "# #     v_test[2] = -1e-3\n",
    "#     v_test[0] =  5e-3\n",
    "    \n",
    "#     cobot.update(u_cmd=v_test, u_cmd_frame=\"hrr_cobot.base_link\", sleep=True)\n",
    "# cobot.stop()"
   ]
  },
  {
   "cell_type": "code",
   "execution_count": 7,
   "id": "0287b28e-9efa-48c7-94c3-38de49b99633",
   "metadata": {},
   "outputs": [],
   "source": [
    "free_space_pose = sm.SE3(np.r_[0.4612, 0.1168, 0.75])\n",
    "free_space_pose.A[:3, :3] = sm.base.rpy2r(-np.pi/2.0, np.pi/4.0, np.pi, unit=\"rad\")"
   ]
  },
  {
   "cell_type": "code",
   "execution_count": 45,
   "id": "96de721c-b917-4e66-9533-28d5b5842598",
   "metadata": {},
   "outputs": [],
   "source": [
    "cobot.goTo(free_space_pose)"
   ]
  },
  {
   "cell_type": "code",
   "execution_count": 42,
   "id": "19913494-183d-4008-83b7-1f777c9aaec5",
   "metadata": {},
   "outputs": [],
   "source": [
    "contact_pose = sm.SE3(np.r_[0.08, 0., -0.1175]) @ cobot.T_B_E_robot\n",
    "cobot.goTo(contact_pose)"
   ]
  },
  {
   "cell_type": "code",
   "execution_count": 38,
   "id": "b5a9a958-00a3-4e48-9572-3acb9abdf276",
   "metadata": {},
   "outputs": [],
   "source": [
    "# move_back = sm.SE3(np.r_[-0.08, 0., 0.1175]) @ cobot.T_B_E_robot\n",
    "# cobot.goTo(move_back)"
   ]
  },
  {
   "cell_type": "code",
   "execution_count": 37,
   "id": "2f117f4a-055c-4436-806c-7edfb6d95ed6",
   "metadata": {},
   "outputs": [],
   "source": []
  },
  {
   "cell_type": "code",
   "execution_count": 26,
   "id": "259954ce-4c9e-4801-aecb-08343b7fd01a",
   "metadata": {},
   "outputs": [
    {
     "data": {
      "text/plain": [
       "True"
      ]
     },
     "execution_count": 26,
     "metadata": {},
     "output_type": "execute_result"
    }
   ],
   "source": [
    "cobot.change_tool(\"shaftgrinder\")"
   ]
  },
  {
   "cell_type": "code",
   "execution_count": 27,
   "id": "bc9f54a2-6a19-48e0-8794-f90867fbcc16",
   "metadata": {},
   "outputs": [
    {
     "data": {
      "text/plain": [
       "  \u001b[38;5;1m-0.7071  \u001b[0m \u001b[38;5;1m 0       \u001b[0m \u001b[38;5;1m 0.7071  \u001b[0m \u001b[38;5;4m 0.06682 \u001b[0m  \u001b[0m\n",
       "  \u001b[38;5;1m 0.7071  \u001b[0m \u001b[38;5;1m 0       \u001b[0m \u001b[38;5;1m 0.7071  \u001b[0m \u001b[38;5;4m 0.06682 \u001b[0m  \u001b[0m\n",
       "  \u001b[38;5;1m 0       \u001b[0m \u001b[38;5;1m 1       \u001b[0m \u001b[38;5;1m 0       \u001b[0m \u001b[38;5;4m 0.1555  \u001b[0m  \u001b[0m\n",
       "  \u001b[38;5;244m 0       \u001b[0m \u001b[38;5;244m 0       \u001b[0m \u001b[38;5;244m 0       \u001b[0m \u001b[38;5;244m 1       \u001b[0m  \u001b[0m\n"
      ]
     },
     "execution_count": 27,
     "metadata": {},
     "output_type": "execute_result"
    }
   ],
   "source": [
    "cobot.T_E_C_robot"
   ]
  },
  {
   "cell_type": "code",
   "execution_count": 30,
   "id": "32282cdb-c8ce-4dd6-83bc-511c8985be0c",
   "metadata": {},
   "outputs": [],
   "source": [
    "q_test = list(cobot.IK(hrr_common.utils.spatial.calc_EE_goal_pose(B_normal=np.r_[0., 0., 1],\n",
    "                                                                  B_p_location=cobot.T_B_C_robot.t,\n",
    "                                                                  B_y_axis = np.r_[0., 1., 0.],\n",
    "                                                                  T_C_E=cobot.T_E_C_robot.inv()), check=True))"
   ]
  },
  {
   "cell_type": "code",
   "execution_count": 33,
   "id": "cefdd191-4151-4f93-bb60-7703ace633af",
   "metadata": {},
   "outputs": [
    {
     "data": {
      "text/plain": [
       "(array([ 0.5359,  0.2703, -1.3578, -1.5368,  2.1057,  2.4228]),\n",
       " array([-0.0234, -0.2743, -1.7423,  0.2293,  1.5898,  0.3809]))"
      ]
     },
     "execution_count": 33,
     "metadata": {},
     "output_type": "execute_result"
    }
   ],
   "source": [
    "idx = np.argsort(np.linalg.norm((q_test - cobot.q)[:,:3], axis=1))\n",
    "q_des = np.array(q_test)[idx][0]\n",
    "q_des, cobot.q"
   ]
  },
  {
   "cell_type": "code",
   "execution_count": 35,
   "id": "76e987c4-20b3-448c-a7e1-dc237138dfef",
   "metadata": {},
   "outputs": [],
   "source": [
    "cobot.move_to_joint_pose(q_des)"
   ]
  },
  {
   "cell_type": "code",
   "execution_count": null,
   "id": "8b4e1843-4f6c-49c8-b8e8-6dc61dd4aee0",
   "metadata": {},
   "outputs": [],
   "source": [
    "cobot."
   ]
  },
  {
   "cell_type": "code",
   "execution_count": 50,
   "id": "97b28e07-d6dc-49b3-a722-03abb82f68fd",
   "metadata": {},
   "outputs": [
    {
     "data": {
      "text/plain": [
       "  \u001b[38;5;1m 3.462e-12\u001b[0m \u001b[38;5;1m-0.7071  \u001b[0m \u001b[38;5;1m 0.7071  \u001b[0m \u001b[38;5;4m 0.1584  \u001b[0m  \u001b[0m\n",
       "  \u001b[38;5;1m 3.462e-12\u001b[0m \u001b[38;5;1m 0.7071  \u001b[0m \u001b[38;5;1m 0.7071  \u001b[0m \u001b[38;5;4m 0.1584  \u001b[0m  \u001b[0m\n",
       "  \u001b[38;5;1m-1       \u001b[0m \u001b[38;5;1m 0       \u001b[0m \u001b[38;5;1m 4.897e-12\u001b[0m \u001b[38;5;4m 0.1475  \u001b[0m  \u001b[0m\n",
       "  \u001b[38;5;244m 0       \u001b[0m \u001b[38;5;244m 0       \u001b[0m \u001b[38;5;244m 0       \u001b[0m \u001b[38;5;244m 1       \u001b[0m  \u001b[0m\n"
      ]
     },
     "execution_count": 50,
     "metadata": {},
     "output_type": "execute_result"
    }
   ],
   "source": [
    "cobot.change_tool(\"screwdriver\")\n",
    "cobot.T_E_C_robot"
   ]
  },
  {
   "cell_type": "code",
   "execution_count": 51,
   "id": "144a26f9-e4b5-4795-a451-47cb0063e467",
   "metadata": {},
   "outputs": [],
   "source": [
    "q_test = list(cobot.IK(hrr_common.utils.spatial.calc_EE_goal_pose(B_normal=np.r_[0., 0., 1],\n",
    "                                                                  B_p_location=cobot.T_B_C_robot.t,\n",
    "                                                                  B_y_axis = np.r_[0., -1., 0.],\n",
    "                                                                  T_C_E=cobot.T_E_C_robot.inv()), check=True))"
   ]
  },
  {
   "cell_type": "code",
   "execution_count": 52,
   "id": "667d4152-ec23-48cc-a2e2-23be30304fc4",
   "metadata": {},
   "outputs": [
    {
     "data": {
      "text/plain": [
       "(array([ 0.0435,  0.8441, -0.4916,  2.957 ,  2.9026,  0.6059]),\n",
       " array([-0.4039,  0.1721, -1.476 ,  1.5368,  1.9723, -0.8707]))"
      ]
     },
     "execution_count": 52,
     "metadata": {},
     "output_type": "execute_result"
    }
   ],
   "source": [
    "idx = np.argsort(np.linalg.norm((q_test - cobot.q)[:,:3], axis=1))\n",
    "q_des = np.array(q_test)[idx][0]\n",
    "q_des, cobot.q"
   ]
  },
  {
   "cell_type": "code",
   "execution_count": 11,
   "id": "bc75a44f-7fce-43fa-b087-e78759786836",
   "metadata": {},
   "outputs": [
    {
     "data": {
      "text/plain": [
       "  \u001b[38;5;1m-0.04604 \u001b[0m \u001b[38;5;1m 0.8864  \u001b[0m \u001b[38;5;1m 0.4606  \u001b[0m \u001b[38;5;4m 0.443   \u001b[0m  \u001b[0m\n",
       "  \u001b[38;5;1m 0.8922  \u001b[0m \u001b[38;5;1m 0.2439  \u001b[0m \u001b[38;5;1m-0.3802  \u001b[0m \u001b[38;5;4m-0.3658  \u001b[0m  \u001b[0m\n",
       "  \u001b[38;5;1m-0.4494  \u001b[0m \u001b[38;5;1m 0.3934  \u001b[0m \u001b[38;5;1m-0.8021  \u001b[0m \u001b[38;5;4m 0.3246  \u001b[0m  \u001b[0m\n",
       "  \u001b[38;5;244m 0       \u001b[0m \u001b[38;5;244m 0       \u001b[0m \u001b[38;5;244m 0       \u001b[0m \u001b[38;5;244m 1       \u001b[0m  \u001b[0m\n"
      ]
     },
     "execution_count": 11,
     "metadata": {},
     "output_type": "execute_result"
    }
   ],
   "source": [
    "cobot.T_B_C_robot"
   ]
  },
  {
   "cell_type": "code",
   "execution_count": 40,
   "id": "ed0bf013-5b83-4f99-bac5-9d537c2e683b",
   "metadata": {},
   "outputs": [
    {
     "data": {
      "text/plain": [
       "  \u001b[38;5;1m-0.001629\u001b[0m \u001b[38;5;1m 1       \u001b[0m \u001b[38;5;1m-4.639e-05\u001b[0m \u001b[38;5;4m 0.5774  \u001b[0m  \u001b[0m\n",
       "  \u001b[38;5;1m 1       \u001b[0m \u001b[38;5;1m 0.001629\u001b[0m \u001b[38;5;1m-0.0079  \u001b[0m \u001b[38;5;4m 0.1189  \u001b[0m  \u001b[0m\n",
       "  \u001b[38;5;1m-0.0079  \u001b[0m \u001b[38;5;1m-5.925e-05\u001b[0m \u001b[38;5;1m-1       \u001b[0m \u001b[38;5;4m 0.1112  \u001b[0m  \u001b[0m\n",
       "  \u001b[38;5;244m 0       \u001b[0m \u001b[38;5;244m 0       \u001b[0m \u001b[38;5;244m 0       \u001b[0m \u001b[38;5;244m 1       \u001b[0m  \u001b[0m\n"
      ]
     },
     "execution_count": 40,
     "metadata": {},
     "output_type": "execute_result"
    }
   ],
   "source": [
    "cobot.FK(q) @ sm.SE3.Rz(45, \"deg\") @ cobot.T_E_C_robot"
   ]
  },
  {
   "cell_type": "code",
   "execution_count": 39,
   "id": "05a74307-4615-4b5b-9825-fa0a5d0ec611",
   "metadata": {},
   "outputs": [
    {
     "data": {
      "text/plain": [
       "  \u001b[38;5;1m 4.896e-12\u001b[0m \u001b[38;5;1m 0       \u001b[0m \u001b[38;5;1m 1       \u001b[0m \u001b[38;5;4m 0.0945  \u001b[0m  \u001b[0m\n",
       "  \u001b[38;5;1m 1       \u001b[0m \u001b[38;5;1m 0       \u001b[0m \u001b[38;5;1m-4.896e-12\u001b[0m \u001b[38;5;4m-8.667e-13\u001b[0m  \u001b[0m\n",
       "  \u001b[38;5;1m 0       \u001b[0m \u001b[38;5;1m 1       \u001b[0m \u001b[38;5;1m 0       \u001b[0m \u001b[38;5;4m 0.1555  \u001b[0m  \u001b[0m\n",
       "  \u001b[38;5;244m 0       \u001b[0m \u001b[38;5;244m 0       \u001b[0m \u001b[38;5;244m 0       \u001b[0m \u001b[38;5;244m 1       \u001b[0m  \u001b[0m\n"
      ]
     },
     "execution_count": 39,
     "metadata": {},
     "output_type": "execute_result"
    }
   ],
   "source": [
    "sm.SE3.Rz(-45, \"deg\") @ cobot.T_E_C_robot"
   ]
  },
  {
   "cell_type": "code",
   "execution_count": null,
   "id": "211dfbb0-f2d3-41cd-a992-501706f59428",
   "metadata": {},
   "outputs": [],
   "source": [
    "q_test = list(cobot.IK(hrr_common.utils.spatial.calc_EE_goal_pose(B_normal=np.r_[0., 0., 1],\n",
    "                                                                  B_p_location=cobot.T_B_C_robot.t,\n",
    "                                                                  B_y_axis = np.r_[0., 1., 0.],\n",
    "                                                                  T_C_E=cobot.T_E_C_robot.inv()), check=True))"
   ]
  },
  {
   "cell_type": "code",
   "execution_count": null,
   "id": "022973f5-aa60-497f-89c5-7977e68cbcea",
   "metadata": {},
   "outputs": [],
   "source": [
    "hrr_common.utils.spatial.calc_EE_goal_pose(B_normal=np.r_[0., 0., 1],\n",
    "                                           B_p_location=cobot.T_B_C_robot.t,\n",
    "                                           B_y_axis = np.r_[0., 1., 0.],\n",
    "                                           T_C_E=cobot.T_E_C_robot.inv()), check=True))"
   ]
  }
 ],
 "metadata": {
  "kernelspec": {
   "display_name": "Python [conda env:hrr]",
   "language": "python",
   "name": "conda-env-hrr-py"
  },
  "language_info": {
   "codemirror_mode": {
    "name": "ipython",
    "version": 3
   },
   "file_extension": ".py",
   "mimetype": "text/x-python",
   "name": "python",
   "nbconvert_exporter": "python",
   "pygments_lexer": "ipython3",
   "version": "3.8.12"
  },
  "latex_envs": {
   "LaTeX_envs_menu_present": true,
   "autoclose": false,
   "autocomplete": true,
   "bibliofile": "biblio.bib",
   "cite_by": "apalike",
   "current_citInitial": 1,
   "eqLabelWithNumbers": true,
   "eqNumInitial": 1,
   "hotkeys": {
    "equation": "Ctrl-E",
    "itemize": "Ctrl-I"
   },
   "labels_anchors": false,
   "latex_user_defs": false,
   "report_style_numbering": false,
   "user_envs_cfg": false
  },
  "toc": {
   "base_numbering": 1,
   "nav_menu": {},
   "number_sections": true,
   "sideBar": true,
   "skip_h1_title": false,
   "title_cell": "Table of Contents",
   "title_sidebar": "Contents",
   "toc_cell": false,
   "toc_position": {},
   "toc_section_display": true,
   "toc_window_display": false
  },
  "varInspector": {
   "cols": {
    "lenName": 16,
    "lenType": 16,
    "lenVar": 40
   },
   "kernels_config": {
    "python": {
     "delete_cmd_postfix": "",
     "delete_cmd_prefix": "del ",
     "library": "var_list.py",
     "varRefreshCmd": "print(var_dic_list())"
    },
    "r": {
     "delete_cmd_postfix": ") ",
     "delete_cmd_prefix": "rm(",
     "library": "var_list.r",
     "varRefreshCmd": "cat(var_dic_list()) "
    }
   },
   "types_to_exclude": [
    "module",
    "function",
    "builtin_function_or_method",
    "instance",
    "_Feature"
   ],
   "window_display": false
  }
 },
 "nbformat": 4,
 "nbformat_minor": 5
}
