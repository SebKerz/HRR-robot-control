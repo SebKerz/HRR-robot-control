{
 "cells": [
  {
   "cell_type": "markdown",
   "id": "d0ea2b7b",
   "metadata": {},
   "source": [
    "# nb 07: change and use cobot ee-tools\n",
    "\n",
    "\n",
    "**This is the continuation of the previous tutorial notebooks. \n",
    "Please understand how to read data and send simple commands from the cobot before continuing here.\n",
    "You can also find additional information about underlying docus and startup procedures**\n",
    "\n",
    "The code below requires:\n",
    "\n",
    "- ``hrr_msgs >= 0.1.4``\n",
    "- ``hrr_cobot_robot >= 0.2.1`` (0.1.4 is partially okay, but digital I/O requires ``0.2.1`` and newer)\n",
    "\n",
    "\n",
    "## Imports / Packages needed"
   ]
  },
  {
   "cell_type": "code",
   "execution_count": 2,
   "id": "3394d678-bb24-4d81-932d-6c76155e6757",
   "metadata": {
    "code_folding": []
   },
   "outputs": [],
   "source": [
    "# packages needed for this tutorial\n",
    "from pathlib import Path\n",
    "\n",
    "# math and robotics\n",
    "import numpy as np\n",
    "import spatialmath as sm\n",
    "import quaternion\n",
    "from tqdm.notebook import tqdm, trange\n",
    "\n",
    "# plotting \n",
    "import seaborn as sns\n",
    "import matplotlib.pylab as plt\n",
    "\n",
    "# ROS\n",
    "import rospy\n",
    "\n",
    "# hrr-cobot packages\n",
    "import hrr_cobot_robot\n",
    "import hrr_common\n",
    "import hrr_controllers\n",
    "\n",
    "# set printing and plotting options    \n",
    "np.set_printoptions(precision=5, suppress=True)\n",
    "sns.set_theme('notebook')\n",
    "%matplotlib notebook"
   ]
  },
  {
   "cell_type": "markdown",
   "id": "086f5ff9",
   "metadata": {},
   "source": [
    "**connect to ROS**\n",
    "\n",
    "optionally set the ```ROS_IP``` and ```ROS_MASTER_URI``` directly form this notebook, as\n",
    "the setup above spawns the ros-setup from the real-time client, i.e. ```hrrN3511rt2004.lsr.ei.tum.de```\n",
    "for a local setup, replace the above by: \n",
    "\n",
    "```ipython\n",
    "%env ROS_MASTER_URI=http://localhost:11311\n",
    "```"
   ]
  },
  {
   "cell_type": "code",
   "execution_count": 2,
   "id": "0f88c65d",
   "metadata": {},
   "outputs": [
    {
     "name": "stdout",
     "output_type": "stream",
     "text": [
      "env: ROS_MASTER_URI=http://127.0.0.1:11311\n",
      "\t\u001b[1m\u001b[4m!!!please check that the IPs below is identical!!!\u001b[0m\n",
      "\thost hrrN3511rt2004 has IP 192.168.2.34, which should be identical to\n",
      "vs:\tenv: ROS_IP=192.168.2.34\n"
     ]
    }
   ],
   "source": [
    "def get_hostname_and_IP():\n",
    "    import socket\n",
    "    with socket.socket(socket.AF_INET, socket.SOCK_DGRAM) as s:\n",
    "        s.connect((\"8.8.8.8\", 80))\n",
    "        return socket.gethostname(), s.getsockname()[0]\n",
    "\n",
    "_host, _ip = get_hostname_and_IP()\n",
    "%env ROS_MASTER_URI=http://127.0.0.1:11311\n",
    "# %env ROS_MASTER_URI=http://hrrcobotLinux54:11311\n",
    "print(f\"\\t\\033[1m\\033[4m!!!please check that the IPs below is identical!!!\\033[0m\"+\n",
    "      f\"\\n\\thost {_host} has IP {_ip}, which should be identical to\",end=\"\\nvs:\\t\")\n",
    "%env ROS_IP=$_ip"
   ]
  },
  {
   "cell_type": "code",
   "execution_count": 3,
   "id": "dc919518",
   "metadata": {},
   "outputs": [],
   "source": [
    "rospy.init_node(\"hrr_cobot_tutorial07\")"
   ]
  },
  {
   "cell_type": "markdown",
   "id": "f396dfcc-bcb6-40ee-b02a-c88b717b87c2",
   "metadata": {},
   "source": [
    "## Available Tools\n",
    "\n",
    "the new launching pipeline for setting a dedicated HRR-cobot tool is given as\n",
    "\n",
    "```bash\n",
    "roslaunch hrr_cobot_robot hrr_cobot_hw.launch tool_name:=\"shaftgrinder\"\n",
    "```\n",
    "\n",
    "where ```tool_name``` can be set toGRGR one of the following:\n",
    "\n",
    "* \"wsg_50\"\n",
    "* \"wsg_50_dsa\"\n",
    "* \"shaftgrinder\"\n",
    "* \"screwdriver\"\n",
    "* \"vacuum\"\n",
    "\n",
    "this will adjust / set the ROS-URDF in RVIZ as shown below:\n",
    "\n",
    "![Shaftgrinder Cobot Rviz](media/shaftgrinder_cobot.png)\n",
    "\n",
    "### Read tool data \n",
    "\n",
    "This allows us to read the pose of the tool-tip from ROS using the tf-transformations\n",
    "\n",
    "We show this via the ``TfHandler`` from the ``hrr_common`` package below."
   ]
  },
  {
   "cell_type": "code",
   "execution_count": 4,
   "id": "d65ec706-920c-44f3-b8d2-30493d2c7792",
   "metadata": {},
   "outputs": [],
   "source": [
    "from hrr_common.ros_utils import TfHandler\n",
    "\n",
    "tf = TfHandler(add=False)"
   ]
  },
  {
   "cell_type": "code",
   "execution_count": 4,
   "id": "2552865e-0b3f-4c69-bedb-03452647fbcc",
   "metadata": {},
   "outputs": [
    {
     "data": {
      "text/plain": [
       "(array([0., 0., 0.]), quaternion(1, 0, 0, 0))"
      ]
     },
     "execution_count": 4,
     "metadata": {},
     "output_type": "execute_result"
    }
   ],
   "source": [
    "tf.T_A_B(A='wsg_50', B='base_link')"
   ]
  },
  {
   "cell_type": "code",
   "execution_count": 6,
   "id": "f4038bea-4f53-48df-9a2d-55c8d0f4c9b1",
   "metadata": {},
   "outputs": [
    {
     "data": {
      "text/plain": [
       "array([0., 0., 1.])"
      ]
     },
     "execution_count": 6,
     "metadata": {},
     "output_type": "execute_result"
    }
   ],
   "source": [
    "tf.A_vector(B_vector=np.r_[0., 0., 1.], frame_B=\"base_link\", frame_A=\"shaftgrinder_tip\")"
   ]
  },
  {
   "cell_type": "code",
   "execution_count": 7,
   "id": "ba3ebd87-9f41-45a2-92fd-c123f13bd195",
   "metadata": {},
   "outputs": [
    {
     "data": {
      "text/plain": [
       "  \u001b[38;5;1m 1       \u001b[0m \u001b[38;5;1m 0       \u001b[0m \u001b[38;5;1m 0       \u001b[0m \u001b[38;5;4m 0       \u001b[0m  \u001b[0m\n",
       "  \u001b[38;5;1m 0       \u001b[0m \u001b[38;5;1m 1       \u001b[0m \u001b[38;5;1m 0       \u001b[0m \u001b[38;5;4m 0       \u001b[0m  \u001b[0m\n",
       "  \u001b[38;5;1m 0       \u001b[0m \u001b[38;5;1m 0       \u001b[0m \u001b[38;5;1m 1       \u001b[0m \u001b[38;5;4m 0       \u001b[0m  \u001b[0m\n",
       "  \u001b[38;5;244m 0       \u001b[0m \u001b[38;5;244m 0       \u001b[0m \u001b[38;5;244m 0       \u001b[0m \u001b[38;5;244m 1       \u001b[0m  \u001b[0m\n"
      ]
     },
     "execution_count": 7,
     "metadata": {},
     "output_type": "execute_result"
    }
   ],
   "source": [
    "p, q = tf.T_A_B('shaftgrinder_tip', 'base_link')\n",
    "T_B_tool = sm.SE3(*p)\n",
    "T_B_tool.A[:3, :3] = quaternion.as_rotation_matrix(q)\n",
    "T_B_tool"
   ]
  },
  {
   "cell_type": "markdown",
   "id": "26675069-9af7-4a83-9281-18a7f1e1ecd9",
   "metadata": {},
   "source": [
    "## commanding the robot in tool frame\n",
    "\n",
    "Given this setup, we either can manually create the desired end-effector velocity\n",
    "to be sent to the COMAU robot or use the ``sensor-track-velocity`` controller to \n",
    "apply the set velocity in a dedicated reference frame. \n",
    "\n",
    "### send velocity commands in tool-frame"
   ]
  },
  {
   "cell_type": "code",
   "execution_count": null,
   "id": "c0ca0486-dcc6-4ee0-a8d2-afafd7a9a61d",
   "metadata": {},
   "outputs": [],
   "source": [
    "# rospy.set_param(\"~cmd_arduino\", False)"
   ]
  },
  {
   "cell_type": "code",
   "execution_count": 5,
   "id": "9e674ed1-8641-4e29-8109-0b5764100081",
   "metadata": {
    "scrolled": true
   },
   "outputs": [
    {
     "name": "stdout",
     "output_type": "stream",
     "text": [
      "[rosout] [/hrr_cobot_tutorial07] Initialize MATLAB-Motion planner @ /home/hrr_cobot/_ros/hr_recycler_ws/src/planner/src\n",
      "[rosout] [/hrr_cobot_tutorial07] connected to Matlab\n",
      "The value of the ROS_IP environment variable, 129.187.147.54, will be used to set the advertised address for the ROS node.\n",
      "Initializing global node /matlab_global_node_89461 with NodeURI http://129.187.147.54:36427/\n",
      "[rosout] [/hrr_cobot_tutorial07] MATLAB-Initialization done\n"
     ]
    },
    {
     "name": "stderr",
     "output_type": "stream",
     "text": [
      "pybullet build time: May  8 2021 05:48:13\n"
     ]
    },
    {
     "name": "stdout",
     "output_type": "stream",
     "text": [
      "[rosout] some functions are not yet compiled. Expect delays upon first call\n"
     ]
    }
   ],
   "source": [
    "cobot = hrr_cobot_robot.HrrCobotControl.from_ros(cobot_prefix=\"/hrr_cobot/\")\n"
   ]
  },
  {
   "cell_type": "code",
   "execution_count": 7,
   "id": "e75e21ac",
   "metadata": {},
   "outputs": [],
   "source": [
    "sns_trk_vel_cmd = hrr_controllers.SnsTrkCmd.from_ros(cobot_prefix=\"/hrr_cobot/\")"
   ]
  },
  {
   "cell_type": "code",
   "execution_count": 8,
   "id": "5cffa02e",
   "metadata": {},
   "outputs": [
    {
     "name": "stdout",
     "output_type": "stream",
     "text": [
      "[rosout] [/hrr_cobot_tutorial07] Initialize MATLAB-Motion planner @ /home/hrr_cobot/_ros/hr_recycler_ws/src/planner/src\n"
     ]
    },
    {
     "name": "stderr",
     "output_type": "stream",
     "text": [
      "[rosout] failed to initialize Matlab-connection due to: Unable to connect to MATLAB session 'MATLAB_112115'.\n"
     ]
    },
    {
     "name": "stdout",
     "output_type": "stream",
     "text": [
      "[rosout] some functions are not yet compiled. Expect delays upon first call\n"
     ]
    }
   ],
   "source": [
    "cobot = hrr_cobot_robot.HrrCobotControl.from_ros(\"/hrr_cobot\")"
   ]
  },
  {
   "cell_type": "markdown",
   "id": "7374ae76-69d2-42c6-a1b2-8de094ea1ac3",
   "metadata": {},
   "source": [
    "### Use the sensor-track velocity command interface directly\n",
    "\n",
    "we apply a similar command as in tutorial 2 but apply the velocity along \n",
    "the $z$-axis of the ``shaftgrinder_tip`` frame."
   ]
  },
  {
   "cell_type": "code",
   "execution_count": 9,
   "id": "4949922b-ed3d-44c7-ba4a-14d1f382257a",
   "metadata": {},
   "outputs": [],
   "source": [
    "sns_trk_vel_cmd.activate()"
   ]
  },
  {
   "cell_type": "code",
   "execution_count": 13,
   "id": "c1b35dca-e722-48dc-97e3-96d8943be595",
   "metadata": {},
   "outputs": [
    {
     "data": {
      "application/vnd.jupyter.widget-view+json": {
       "model_id": "9adbc3b3da6643c9968e0e0752b847ec",
       "version_major": 2,
       "version_minor": 0
      },
      "text/plain": [
       "  0%|          | 0/200 [00:00<?, ?it/s]"
      ]
     },
     "metadata": {},
     "output_type": "display_data"
    }
   ],
   "source": [
    "r = rospy.Rate(50)\n",
    "v_test = np.zeros(6)\n",
    "for t in trange(200):\n",
    "    v_test[2] = 1e-2 * np.sin(t/ 100.0 * 2 * np.pi)\n",
    "#     v_test[1] = 1e-2 * np.sin(t/ 100.0 * 2 * np.pi)\n",
    "#     v_test[2] = 5e-3 * np.sin(t/ 100.0 * 2 * np.pi)\n",
    "    sns_trk_vel_cmd.update_cmd(v_test)\n",
    "    r.sleep() \n",
    "sns_trk_vel_cmd.stop()"
   ]
  },
  {
   "cell_type": "markdown",
   "id": "6fbd35b3-d1f3-4b9f-b08e-a9523ad1efc1",
   "metadata": {},
   "source": [
    "## Tool-changing Utility\n",
    "\n",
    "### Use the ``cobot`` interface\n",
    "\n",
    "Similarly we can also use the ``HrrCobotControl`` handle via the ``update`` function"
   ]
  },
  {
   "cell_type": "code",
   "execution_count": null,
   "id": "8e1b87e5-cf5d-4a47-9433-09dc4f57a0cb",
   "metadata": {},
   "outputs": [],
   "source": [
    "?cobot.update"
   ]
  },
  {
   "cell_type": "code",
   "execution_count": null,
   "id": "c47283b5-04bf-4e2a-acaf-a576fcd1ebf0",
   "metadata": {},
   "outputs": [],
   "source": [
    "cobot.init_sns_vel()"
   ]
  },
  {
   "cell_type": "code",
   "execution_count": null,
   "id": "3c85a906-824a-4b72-895b-eff8959c42a3",
   "metadata": {},
   "outputs": [],
   "source": [
    "v_test = np.zeros(6)\n",
    "for t in trange(200):\n",
    "    v_test[2] = 1e-2 * np.sin(t/ 100.0 * 2 * np.pi)\n",
    "    cobot.update(u_cmd=v_test, u_cmd_frame=\"ee_link\", sleep=True)\n",
    "cobot.stop()"
   ]
  },
  {
   "cell_type": "markdown",
   "id": "bf10a440-e36b-4c39-8f9a-6abef5263f25",
   "metadata": {},
   "source": [
    "There are two ways of updating the cobot, via the terminal and from code. \n",
    "We proceed with the terminal and show the results for other tools\n",
    "\n",
    "#### changing the tool via ros launch from terminal\n",
    "\n",
    "simply execute the command \n",
    "\n",
    "```\n",
    "roslaunch hrr_cobot_robot tool_update.launch tool_name:=\"screwdriver\"\n",
    "```\n",
    "\n",
    "to update the cobot to\n",
    "\n",
    "![Screwdriver Cobot Rviz](media/screwdriver_cobot.png)\n",
    "\n",
    "and \n",
    "\n",
    "```\n",
    "hrr_cobot_robot\n",
    "```\n",
    "\n",
    "to update the cobot to\n",
    "\n",
    "![Custom Vacuum Gripper Cobot Rviz](media/vacuum_cobot.png)"
   ]
  },
  {
   "cell_type": "code",
   "execution_count": null,
   "id": "3ecd453e-0440-4bff-be34-b0b26d51ec92",
   "metadata": {},
   "outputs": [],
   "source": [
    "from hr_recycler_msgs.msg import ToolType\n",
    "ToolType(ToolType.SHAFT_GRINDER)"
   ]
  },
  {
   "cell_type": "markdown",
   "id": "ae9789ae-fea0-4918-872e-6ae99f7f6952",
   "metadata": {},
   "source": [
    "#### Update cobot URDF from code \n",
    "\n",
    "further we can run the launch file \n",
    "\n",
    "```bash\n",
    "❯ roslaunch hrr_cobot_robot tool_change.launch\n",
    "```\n",
    "\n",
    "that subscribes to the ROS-parameter ``/cobot_tool_name`` and handles the remainder of the URDF update autonomously\n",
    "\n",
    "This can be either called from code as shown below or in the dedicated ``urdf_tool_changer`` node of the ``hrr_cobot_robot`` package"
   ]
  },
  {
   "cell_type": "code",
   "execution_count": null,
   "id": "b2df2ce6-615a-45b8-be13-21cd8b6f55b6",
   "metadata": {},
   "outputs": [],
   "source": [
    "rospy.set_param('/cobot_tool_name', \"shaftgrinder\")\n",
    "rospy.get_param('/cobot_tool_name')"
   ]
  },
  {
   "cell_type": "code",
   "execution_count": 9,
   "id": "9e25bef3",
   "metadata": {},
   "outputs": [
    {
     "ename": "KeyError",
     "evalue": "'/cobot_tool_name'",
     "output_type": "error",
     "traceback": [
      "\u001b[0;31m---------------------------------------------------------------------------\u001b[0m",
      "\u001b[0;31mKeyError\u001b[0m                                  Traceback (most recent call last)",
      "\u001b[0;32m/tmp/ipykernel_98588/24962767.py\u001b[0m in \u001b[0;36m<module>\u001b[0;34m\u001b[0m\n\u001b[0;32m----> 1\u001b[0;31m \u001b[0mrospy\u001b[0m\u001b[0;34m.\u001b[0m\u001b[0mget_param\u001b[0m\u001b[0;34m(\u001b[0m\u001b[0;34m'/cobot_tool_name'\u001b[0m\u001b[0;34m)\u001b[0m\u001b[0;34m\u001b[0m\u001b[0;34m\u001b[0m\u001b[0m\n\u001b[0m",
      "\u001b[0;32m/opt/ros/noetic/lib/python3/dist-packages/rospy/client.py\u001b[0m in \u001b[0;36mget_param\u001b[0;34m(param_name, default)\u001b[0m\n\u001b[1;32m    465\u001b[0m     \u001b[0;32mtry\u001b[0m\u001b[0;34m:\u001b[0m\u001b[0;34m\u001b[0m\u001b[0;34m\u001b[0m\u001b[0m\n\u001b[1;32m    466\u001b[0m         \u001b[0m_init_param_server\u001b[0m\u001b[0;34m(\u001b[0m\u001b[0;34m)\u001b[0m\u001b[0;34m\u001b[0m\u001b[0;34m\u001b[0m\u001b[0m\n\u001b[0;32m--> 467\u001b[0;31m         \u001b[0;32mreturn\u001b[0m \u001b[0m_param_server\u001b[0m\u001b[0;34m[\u001b[0m\u001b[0mparam_name\u001b[0m\u001b[0;34m]\u001b[0m \u001b[0;31m#MasterProxy does all the magic for us\u001b[0m\u001b[0;34m\u001b[0m\u001b[0;34m\u001b[0m\u001b[0m\n\u001b[0m\u001b[1;32m    468\u001b[0m     \u001b[0;32mexcept\u001b[0m \u001b[0mKeyError\u001b[0m\u001b[0;34m:\u001b[0m\u001b[0;34m\u001b[0m\u001b[0;34m\u001b[0m\u001b[0m\n\u001b[1;32m    469\u001b[0m         \u001b[0;32mif\u001b[0m \u001b[0mdefault\u001b[0m \u001b[0;34m!=\u001b[0m \u001b[0m_unspecified\u001b[0m\u001b[0;34m:\u001b[0m\u001b[0;34m\u001b[0m\u001b[0;34m\u001b[0m\u001b[0m\n",
      "\u001b[0;32m/opt/ros/noetic/lib/python3/dist-packages/rospy/msproxy.py\u001b[0m in \u001b[0;36m__getitem__\u001b[0;34m(self, key)\u001b[0m\n\u001b[1;32m    121\u001b[0m         \u001b[0mcode\u001b[0m\u001b[0;34m,\u001b[0m \u001b[0mmsg\u001b[0m\u001b[0;34m,\u001b[0m \u001b[0mvalue\u001b[0m \u001b[0;34m=\u001b[0m \u001b[0mself\u001b[0m\u001b[0;34m.\u001b[0m\u001b[0mtarget\u001b[0m\u001b[0;34m.\u001b[0m\u001b[0mgetParam\u001b[0m\u001b[0;34m(\u001b[0m\u001b[0mrospy\u001b[0m\u001b[0;34m.\u001b[0m\u001b[0mnames\u001b[0m\u001b[0;34m.\u001b[0m\u001b[0mget_caller_id\u001b[0m\u001b[0;34m(\u001b[0m\u001b[0;34m)\u001b[0m\u001b[0;34m,\u001b[0m \u001b[0mresolved_key\u001b[0m\u001b[0;34m)\u001b[0m\u001b[0;34m\u001b[0m\u001b[0;34m\u001b[0m\u001b[0m\n\u001b[1;32m    122\u001b[0m         \u001b[0;32mif\u001b[0m \u001b[0mcode\u001b[0m \u001b[0;34m!=\u001b[0m \u001b[0;36m1\u001b[0m\u001b[0;34m:\u001b[0m \u001b[0;31m#unwrap value with Python semantics\u001b[0m\u001b[0;34m\u001b[0m\u001b[0;34m\u001b[0m\u001b[0m\n\u001b[0;32m--> 123\u001b[0;31m             \u001b[0;32mraise\u001b[0m \u001b[0mKeyError\u001b[0m\u001b[0;34m(\u001b[0m\u001b[0mkey\u001b[0m\u001b[0;34m)\u001b[0m\u001b[0;34m\u001b[0m\u001b[0;34m\u001b[0m\u001b[0m\n\u001b[0m\u001b[1;32m    124\u001b[0m         \u001b[0;32mreturn\u001b[0m \u001b[0mvalue\u001b[0m\u001b[0;34m\u001b[0m\u001b[0;34m\u001b[0m\u001b[0m\n\u001b[1;32m    125\u001b[0m \u001b[0;34m\u001b[0m\u001b[0m\n",
      "\u001b[0;31mKeyError\u001b[0m: '/cobot_tool_name'"
     ]
    }
   ],
   "source": [
    "rospy.get_param('/cobot_tool_name')"
   ]
  },
  {
   "cell_type": "code",
   "execution_count": null,
   "id": "9f5b1b59-655c-4f53-8510-c78eb14fa335",
   "metadata": {},
   "outputs": [],
   "source": [
    "# ?roslaunch.parent.ROSLaunchParent\n",
    "import roslaunch\n",
    "import rospkg\n",
    "r = rospkg.RosPack()\n",
    "p = Path(r.get_path('hrr_cobot_robot')) / \"launch\" / \"change_tool\" / \"tool_change.launch\"\n",
    "assert(p.exists()), f\"cannot launch {p} -> not a real file\""
   ]
  },
  {
   "cell_type": "code",
   "execution_count": null,
   "id": "744c41d4-e94f-4b96-9b45-172d3a606d84",
   "metadata": {},
   "outputs": [],
   "source": [
    "uuid = roslaunch.rlutil.get_or_generate_uuid(None, False)\n",
    "roslaunch.configure_logging(uuid)\n",
    "launch = roslaunch.parent.ROSLaunchParent(uuid, [str(p)])\n",
    "launch.start()"
   ]
  },
  {
   "cell_type": "markdown",
   "id": "b460c98e-f4a4-4fff-9d54-eefcea765f9c",
   "metadata": {},
   "source": [
    "#### Update cobot URDF via ROS\n",
    "\n",
    "In order to ease the process, the code below outlines how the URDF can be updated from code easily.\n",
    "\n",
    "In order to allow tool-changing, the message ``ToolType`` has been created in the ``hrr_msgs`` directory, \n",
    "which the ``urdf_tool_changer`` node listens to.\n",
    "\n",
    "This communication is added to the ``HrrCobotHandle`` handle in versions ``>=0.1.6`` via the ``change_tool`` command\n",
    "that updates the current tool and checks the current transformations from ``tf``"
   ]
  },
  {
   "cell_type": "code",
   "execution_count": null,
   "id": "4975e370-b8cc-4e17-9e11-3e869615ca4e",
   "metadata": {},
   "outputs": [],
   "source": [
    "?cobot.change_tool"
   ]
  },
  {
   "cell_type": "code",
   "execution_count": 10,
   "id": "4462fc07-7ce7-4276-a2bd-3e5e8cb476b7",
   "metadata": {},
   "outputs": [
    {
     "data": {
      "text/plain": [
       "  \u001b[38;5;1m-0.3897  \u001b[0m \u001b[38;5;1m-5.21e-05\u001b[0m \u001b[38;5;1m 0.9209  \u001b[0m \u001b[38;5;4m-0.08453 \u001b[0m  \u001b[0m\n",
       "  \u001b[38;5;1m-2.578e-05\u001b[0m \u001b[38;5;1m 1       \u001b[0m \u001b[38;5;1m 4.566e-05\u001b[0m \u001b[38;5;4m-3.875e-06\u001b[0m  \u001b[0m\n",
       "  \u001b[38;5;1m-0.9209  \u001b[0m \u001b[38;5;1m-5.942e-06\u001b[0m \u001b[38;5;1m-0.3897  \u001b[0m \u001b[38;5;4m 0.8649  \u001b[0m  \u001b[0m\n",
       "  \u001b[38;5;244m 0       \u001b[0m \u001b[38;5;244m 0       \u001b[0m \u001b[38;5;244m 0       \u001b[0m \u001b[38;5;244m 1       \u001b[0m  \u001b[0m\n"
      ]
     },
     "execution_count": 10,
     "metadata": {},
     "output_type": "execute_result"
    }
   ],
   "source": [
    "cobot.change_tool(\"shaftgrinder\")\n",
    "cobot.T_B_C_robot"
   ]
  },
  {
   "cell_type": "code",
   "execution_count": 11,
   "id": "5a177047-3563-44cb-864e-695f4832fe07",
   "metadata": {},
   "outputs": [
    {
     "data": {
      "text/plain": [
       "(  \u001b[38;5;1m-0.3897  \u001b[0m \u001b[38;5;1m-5.168e-05\u001b[0m \u001b[38;5;1m 0.9209  \u001b[0m \u001b[38;5;4m-0.08453 \u001b[0m  \u001b[0m\n",
       "  \u001b[38;5;1m-2.594e-05\u001b[0m \u001b[38;5;1m 1       \u001b[0m \u001b[38;5;1m 4.515e-05\u001b[0m \u001b[38;5;4m-3.917e-06\u001b[0m  \u001b[0m\n",
       "  \u001b[38;5;1m-0.9209  \u001b[0m \u001b[38;5;1m-6.293e-06\u001b[0m \u001b[38;5;1m-0.3897  \u001b[0m \u001b[38;5;4m 0.8649  \u001b[0m  \u001b[0m\n",
       "  \u001b[38;5;244m 0       \u001b[0m \u001b[38;5;244m 0       \u001b[0m \u001b[38;5;244m 0       \u001b[0m \u001b[38;5;244m 1       \u001b[0m  \u001b[0m\n",
       ",\n",
       "   \u001b[38;5;1m-0.3897  \u001b[0m \u001b[38;5;1m-5.168e-05\u001b[0m \u001b[38;5;1m 0.9209  \u001b[0m \u001b[38;5;4m-0.08453 \u001b[0m  \u001b[0m\n",
       "  \u001b[38;5;1m-2.594e-05\u001b[0m \u001b[38;5;1m 1       \u001b[0m \u001b[38;5;1m 4.515e-05\u001b[0m \u001b[38;5;4m-3.917e-06\u001b[0m  \u001b[0m\n",
       "  \u001b[38;5;1m-0.9209  \u001b[0m \u001b[38;5;1m-6.293e-06\u001b[0m \u001b[38;5;1m-0.3897  \u001b[0m \u001b[38;5;4m 0.8649  \u001b[0m  \u001b[0m\n",
       "  \u001b[38;5;244m 0       \u001b[0m \u001b[38;5;244m 0       \u001b[0m \u001b[38;5;244m 0       \u001b[0m \u001b[38;5;244m 1       \u001b[0m  \u001b[0m\n",
       ",\n",
       " 'screwdriver')"
      ]
     },
     "execution_count": 11,
     "metadata": {},
     "output_type": "execute_result"
    }
   ],
   "source": [
    "cobot.change_tool(\"screwdriver\")\n",
    "cobot.T_B_C_robot, cobot.T_B_E_robot, cobot.tool"
   ]
  },
  {
   "cell_type": "code",
   "execution_count": null,
   "id": "bf057127-33b3-4392-824a-42122c9e5f8f",
   "metadata": {},
   "outputs": [],
   "source": [
    "from hrr_cobot_robot.utils import tool2tool_type\n",
    "tool2tool_type(cobot.tool)"
   ]
  },
  {
   "cell_type": "code",
   "execution_count": 18,
   "id": "a47ab55a",
   "metadata": {},
   "outputs": [
    {
     "ename": "NameError",
     "evalue": "name 'digital_io_controller' is not defined",
     "output_type": "error",
     "traceback": [
      "\u001b[0;31m---------------------------------------------------------------------------\u001b[0m",
      "\u001b[0;31mNameError\u001b[0m                                 Traceback (most recent call last)",
      "\u001b[0;32m/tmp/ipykernel_55508/1596398843.py\u001b[0m in \u001b[0;36m<module>\u001b[0;34m\u001b[0m\n\u001b[0;32m----> 1\u001b[0;31m \u001b[0mdigital_io_controller\u001b[0m\u001b[0;34m.\u001b[0m\u001b[0mtool\u001b[0m \u001b[0;34m=\u001b[0m \u001b[0;34m\"screwdriver\"\u001b[0m\u001b[0;34m\u001b[0m\u001b[0;34m\u001b[0m\u001b[0m\n\u001b[0m",
      "\u001b[0;31mNameError\u001b[0m: name 'digital_io_controller' is not defined"
     ]
    }
   ],
   "source": [
    "digital_io_controller.tool = \"screwdriver\""
   ]
  },
  {
   "cell_type": "markdown",
   "id": "75c04ec5-b20f-444e-80da-b6789ecf8ef1",
   "metadata": {},
   "source": [
    "## Use EE-control via ``cobot`` interface\n",
    "\n",
    "The cobot interface allows to change the tool via the ``change_tool`` method.\n",
    "\n",
    "```ipython\n",
    "?cobot.change_tool\n",
    "```\n",
    "\n",
    "in addition, one can access the commands outlined above from ``cobot.tool_controller``, which returns None and prints a warning if the current tool is not set to \n",
    "one of the tools controlled via the Arduino.\n",
    "\n",
    "The sections below outline the usage for the screwdriver / shaft grinder and vacuum gripper.\n",
    "\n",
    "### ROS-system setup for full tool-changing utility\n",
    "\n",
    "1. default Robot control \n",
    "\n",
    "    ```sh\n",
    "    roslaunch hrr_cobot_robot hrr_cobot_hw.launch gripper_type:=\"shaftgrinder\"\n",
    "    ```\n",
    "    \n",
    "2. launch URDF changer \n",
    "\n",
    "    ```sh\n",
    "    roslaunch hrr_cobot_robot urdf_updater.launch __ns:=\"hrr_cobot\"\n",
    "    ```\n",
    "\n",
    "    **NOTE** this will be integrated by default in future versions\n",
    " \n",
    "3. run tool-controller\n",
    " \n",
    "     ```sh\n",
    "     roslaunch hrr_ee_tools tool_controller.launch __ns:=\"hrr_cobot\"\n",
    "     ```\n",
    "  \n",
    "4. open rviz to check if ``robot_description`` is actually updated of not, i.e. add RobotStatePublisher in rviz\n",
    "\n",
    "Using this pipeline, the URDF in rviz will be updated and the Arduino (if connected properly) will enable the tools.\n",
    "\n",
    "#### Notes / Pitfalls\n",
    "\n",
    "**WARNING**: ROS was invented by researchers and is thus full of pitfalls and errors. The pipeline will update the ``hrr_cobot/robot_description`` parameter, while the robot_state_publisher will check for the global ``/robot_description`` parameter. In case the pipeline does not update the robot state in rviz, please run \n",
    "\n",
    "```bash\n",
    "❯ rosparam delete /robot_description\n",
    "```\n",
    "\n",
    "Rviz will not update the ee-models by default, you have to reload the RobotModel. Simply unchecking and rechecking the check-box in rviz is sufficient.\n",
    "\n",
    "Note that this routine as presented here does only update the robot model and drivers.\n",
    "It does not trigger the tool-changer, nor drive the robot to the dedicated poses.\n",
    "\n",
    "For simplicity the ``None`` configuration also has a B-side connected to the tool-changer, which is physically incorrect. Keep this in mind.\n",
    "\n",
    "The cells below will not work for all tools when run in one shot, the controller expects a switching time in between using tools of (~0.5 seconds), \n",
    "which is sufficient for real applications, where the robot needs to switch between tools first."
   ]
  },
  {
   "cell_type": "code",
   "execution_count": 6,
   "id": "9d30630d-82c5-4ddc-9ff0-a5aed573f5cb",
   "metadata": {},
   "outputs": [
    {
     "data": {
      "text/plain": [
       "True"
      ]
     },
     "execution_count": 6,
     "metadata": {},
     "output_type": "execute_result"
    }
   ],
   "source": [
    "cobot.change_tool(None)"
   ]
  },
  {
   "cell_type": "code",
   "execution_count": 17,
   "id": "1bbb7f56-00ac-4e8e-bbd5-0b0d5fef7bf9",
   "metadata": {},
   "outputs": [
    {
     "data": {
      "text/plain": [
       "<hrr_cobot_robot.tool_control.pilot_tool_controller.HrrCobotToolControlInterface at 0x7ff4d05b0d60>"
      ]
     },
     "execution_count": 17,
     "metadata": {},
     "output_type": "execute_result"
    }
   ],
   "source": [
    "# this should throw a warning at first run\n",
    "cobot.tool_controller"
   ]
  },
  {
   "cell_type": "code",
   "execution_count": null,
   "id": "61ff8d6a-de89-4b96-8c73-24908738c1a9",
   "metadata": {},
   "outputs": [],
   "source": [
    "cobot.change_tool(\"shaftgrinder\")\n",
    "cobot.tool_controller.rpm = 4000"
   ]
  },
  {
   "cell_type": "code",
   "execution_count": null,
   "id": "c79c47a0-ad89-4f61-8c54-ad880891e1f6",
   "metadata": {},
   "outputs": [],
   "source": [
    "r = rospy.Rate(0.5)\n",
    "cobot.change_tool(\"screwdriver\")\n",
    "cobot.tool_controller.screwdriver_program = 1\n",
    "r.sleep()\n",
    "cobot.tool_controller.screwdriver_start()\n",
    "r.sleep()\n",
    "cobot.tool_controller.screwdriver_stop()"
   ]
  },
  {
   "cell_type": "code",
   "execution_count": 13,
   "id": "ea020bbc-4638-4ac1-a502-92cf9ba5122d",
   "metadata": {},
   "outputs": [
    {
     "ename": "NameError",
     "evalue": "name 'cobot' is not defined",
     "output_type": "error",
     "traceback": [
      "\u001b[0;31m---------------------------------------------------------------------------\u001b[0m",
      "\u001b[0;31mNameError\u001b[0m                                 Traceback (most recent call last)",
      "\u001b[0;32m/tmp/ipykernel_58065/647294552.py\u001b[0m in \u001b[0;36m<module>\u001b[0;34m\u001b[0m\n\u001b[0;32m----> 1\u001b[0;31m \u001b[0mcobot\u001b[0m\u001b[0;34m.\u001b[0m\u001b[0mchange_tool\u001b[0m\u001b[0;34m(\u001b[0m\u001b[0;34m\"vacuum\"\u001b[0m\u001b[0;34m)\u001b[0m\u001b[0;34m\u001b[0m\u001b[0;34m\u001b[0m\u001b[0m\n\u001b[0m\u001b[1;32m      2\u001b[0m \u001b[0mcobot\u001b[0m\u001b[0;34m.\u001b[0m\u001b[0mtool_controller\u001b[0m\u001b[0;34m.\u001b[0m\u001b[0mvacuum\u001b[0m \u001b[0;34m=\u001b[0m \u001b[0;32mTrue\u001b[0m\u001b[0;34m\u001b[0m\u001b[0;34m\u001b[0m\u001b[0m\n\u001b[1;32m      3\u001b[0m \u001b[0mrospy\u001b[0m\u001b[0;34m.\u001b[0m\u001b[0msleep\u001b[0m\u001b[0;34m(\u001b[0m\u001b[0;36m1.0\u001b[0m\u001b[0;34m)\u001b[0m\u001b[0;34m\u001b[0m\u001b[0;34m\u001b[0m\u001b[0m\n\u001b[1;32m      4\u001b[0m \u001b[0mcobot\u001b[0m\u001b[0;34m.\u001b[0m\u001b[0mtool_controller\u001b[0m\u001b[0;34m.\u001b[0m\u001b[0mvacuum\u001b[0m \u001b[0;34m=\u001b[0m \u001b[0;32mFalse\u001b[0m\u001b[0;34m\u001b[0m\u001b[0;34m\u001b[0m\u001b[0m\n",
      "\u001b[0;31mNameError\u001b[0m: name 'cobot' is not defined"
     ]
    }
   ],
   "source": [
    "cobot.change_tool(\"vacuum\")\n",
    "cobot.tool_controller.vacuum = True\n",
    "rospy.sleep(1.0)\n",
    "cobot.tool_controller.vacuum = False"
   ]
  },
  {
   "cell_type": "code",
   "execution_count": null,
   "id": "980d4a0d",
   "metadata": {},
   "outputs": [],
   "source": []
  }
 ],
 "metadata": {
  "kernelspec": {
   "display_name": "Python 3 (ipykernel)",
   "language": "python",
   "name": "python3"
  },
  "language_info": {
   "codemirror_mode": {
    "name": "ipython",
    "version": 3
   },
   "file_extension": ".py",
   "mimetype": "text/x-python",
   "name": "python",
   "nbconvert_exporter": "python",
   "pygments_lexer": "ipython3",
   "version": "3.8.12"
  },
  "latex_envs": {
   "LaTeX_envs_menu_present": true,
   "autoclose": false,
   "autocomplete": true,
   "bibliofile": "biblio.bib",
   "cite_by": "apalike",
   "current_citInitial": 1,
   "eqLabelWithNumbers": true,
   "eqNumInitial": 1,
   "hotkeys": {
    "equation": "Ctrl-E",
    "itemize": "Ctrl-I"
   },
   "labels_anchors": false,
   "latex_user_defs": false,
   "report_style_numbering": false,
   "user_envs_cfg": false
  },
  "toc": {
   "base_numbering": 1,
   "nav_menu": {},
   "number_sections": true,
   "sideBar": true,
   "skip_h1_title": false,
   "title_cell": "Table of Contents",
   "title_sidebar": "Contents",
   "toc_cell": false,
   "toc_position": {
    "height": "750px",
    "left": "34px",
    "top": "67.1333px",
    "width": "384px"
   },
   "toc_section_display": true,
   "toc_window_display": true
  },
  "varInspector": {
   "cols": {
    "lenName": 16,
    "lenType": 16,
    "lenVar": 40
   },
   "kernels_config": {
    "python": {
     "delete_cmd_postfix": "",
     "delete_cmd_prefix": "del ",
     "library": "var_list.py",
     "varRefreshCmd": "print(var_dic_list())"
    },
    "r": {
     "delete_cmd_postfix": ") ",
     "delete_cmd_prefix": "rm(",
     "library": "var_list.r",
     "varRefreshCmd": "cat(var_dic_list()) "
    }
   },
   "types_to_exclude": [
    "module",
    "function",
    "builtin_function_or_method",
    "instance",
    "_Feature"
   ],
   "window_display": false
  }
 },
 "nbformat": 4,
 "nbformat_minor": 5
}
