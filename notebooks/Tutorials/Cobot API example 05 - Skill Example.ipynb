{
 "cells": [
  {
   "cell_type": "markdown",
   "id": "8ff0d6f4",
   "metadata": {},
   "source": [
    "\n",
    "# nb 05: implement / use (skill-) action-services\n",
    "\n",
    "**This is the continuation of the tutorial 01-04 notebooks. Please understand how to read data and send simple commands from the cobot before continuing here\n",
    "You can also find additional information about underlying docus and startup procedures**\n",
    "\n",
    "**CHANGELOG**\n",
    "\n",
    "v0.3\n",
    "\n",
    "- imports changed\n",
    "\n",
    "\n",
    "## Imports / Packages needed"
   ]
  },
  {
   "cell_type": "code",
   "execution_count": null,
   "id": "4c6e4e8e",
   "metadata": {
    "code_folding": []
   },
   "outputs": [],
   "source": [
    "# packages needed for this tutorial\n",
    "# math and robotics\n",
    "import numpy as np\n",
    "import quaternion\n",
    "import spatialmath as sm\n",
    "from tqdm.notebook import tqdm, trange\n",
    "\n",
    "# plotting \n",
    "import seaborn as sns\n",
    "import matplotlib.pylab as plt\n",
    "\n",
    "# ROS\n",
    "import rospy\n",
    "\n",
    "# hrr-cobot packages\n",
    "import hrr_cobot_robot\n",
    "\n",
    "# set printing and plotting options    \n",
    "np.set_printoptions(precision=5, suppress=True)\n",
    "sns.set_theme('notebook')\n",
    "%matplotlib inline"
   ]
  },
  {
   "cell_type": "markdown",
   "id": "44fa3c02",
   "metadata": {},
   "source": [
    "###### connect to ROS \n",
    "\n",
    "optionally set the ```ROS_IP``` and ```ROS_MASTER_URI``` directly form this notebook, as\n",
    "the setup above spawns the ros-setup from the real-time client, i.e. ```hrrN3511rt2004.lsr.ei.tum.de```"
   ]
  },
  {
   "cell_type": "code",
   "execution_count": null,
   "id": "af3cf053",
   "metadata": {},
   "outputs": [],
   "source": [
    "def get_hostname_and_IP():\n",
    "    import socket\n",
    "    with socket.socket(socket.AF_INET, socket.SOCK_DGRAM) as s:\n",
    "        s.connect((\"8.8.8.8\", 80))\n",
    "        return socket.gethostname(), s.getsockname()[0]\n",
    "\n",
    "_host, _ip = get_hostname_and_IP()\n",
    "%env ROS_MASTER_URI=http://hrrcobotLinux54.lsr.ei.tum.de:11311\n",
    "# %env ROS_MASTER_URI=http://localhost.lsr.ei.tum.de:11311\n",
    "print(f\"\\t\\033[1m\\033[4m!!!please check that the IPs below is identical!!!\\033[0m\"+\n",
    "      f\"\\n\\thost {_host} has IP {_ip}, which should be identical to\",end=\"\\nvs:\\t\")\n",
    "%env ROS_IP=$_ip"
   ]
  },
  {
   "cell_type": "code",
   "execution_count": null,
   "id": "76155051",
   "metadata": {},
   "outputs": [],
   "source": [
    "rospy.init_node(\"hrr_cobot_tutorial05\")"
   ]
  },
  {
   "cell_type": "code",
   "execution_count": null,
   "id": "ccbb5f29",
   "metadata": {},
   "outputs": [],
   "source": [
    "hrr_cobot_robot.utils.load_default_parameters(\"/hrr_cobot\")\n",
    "cobot = hrr_cobot_robot.HrrCobotControl.from_ros(prefix=\"/hrr_cobot\")"
   ]
  },
  {
   "cell_type": "code",
   "execution_count": null,
   "id": "15c40948",
   "metadata": {},
   "outputs": [],
   "source": [
    "cobot.reset()\n",
    "cobot.run_calibration_routine(file_name='/tmp/current_tool.npy', plot=True)"
   ]
  },
  {
   "cell_type": "code",
   "execution_count": null,
   "id": "d46b6a84",
   "metadata": {},
   "outputs": [],
   "source": [
    "cobot.B_err_F"
   ]
  },
  {
   "cell_type": "code",
   "execution_count": null,
   "id": "7e417912",
   "metadata": {},
   "outputs": [],
   "source": [
    "print(cobot)"
   ]
  },
  {
   "cell_type": "markdown",
   "id": "e0697f6e",
   "metadata": {},
   "source": [
    "## HRR-cobot Observer Demo\n",
    "\n",
    "The observer handle is just a useful handle to record data online without the need of additional ros-bag parsing"
   ]
  },
  {
   "cell_type": "code",
   "execution_count": null,
   "id": "184c876d",
   "metadata": {},
   "outputs": [],
   "source": [
    "observer = hrr_cobot_robot.HrrCobotObserver(1000, \"q\", \"B_F_msr\", \"sns_pos\", \"B_err_F\", \"B_F_ext\")\n",
    "observer.drop(cobot);"
   ]
  },
  {
   "cell_type": "code",
   "execution_count": null,
   "id": "37d8ff13",
   "metadata": {},
   "outputs": [],
   "source": [
    "observer.reset()\n",
    "# cobot.reset()\n",
    "# cobot.move_to_pose(sm.SE3(0.1, 0.0, -0.2) @ cobot.FK(cobot.q_calib))\n",
    "T = 200\n",
    "for t in trange(T):\n",
    "    cobot.update()\n",
    "    observer.update(cobot)\n",
    "cobot.emergency_stop()\n",
    "print(\"\\n\".join([f\"Stored {k}\\t∈ {v.shape}\" for k,v in observer.drop(cobot).items()]))"
   ]
  },
  {
   "cell_type": "code",
   "execution_count": null,
   "id": "27270ccb",
   "metadata": {},
   "outputs": [],
   "source": [
    "data = observer.drop(cobot)"
   ]
  },
  {
   "cell_type": "code",
   "execution_count": null,
   "id": "672a5f0c",
   "metadata": {},
   "outputs": [],
   "source": [
    "x = np.linspace(0, T * cobot.dt, T) * 1e3\n",
    "plt.plot(x, data[\"q\"] - data[\"q\"][0, :]);\n",
    "plt.xlabel(r'$t$ [ms]')\n",
    "plt.ylabel(r'$\\Delta{\\bf q}$ [rad]');\n",
    "plt.legend([f\"$\\Delta q_{i}$\" for i in range(6)], ncol=3);"
   ]
  },
  {
   "cell_type": "code",
   "execution_count": null,
   "id": "6aa948bb",
   "metadata": {},
   "outputs": [],
   "source": [
    "plt.plot(x, data[\"sns_pos\"] - data[\"sns_pos\"][0,:]);\n",
    "plt.xlabel(r'$t$ [ms]')\n",
    "plt.ylabel(r'$\\Delta{\\bf p}_{\\mathrm{sns}}$ [m]');\n",
    "plt.legend([\"$\\Delta x$\", \"$\\Delta y$\", \"$\\Delta z$\"]);"
   ]
  },
  {
   "cell_type": "code",
   "execution_count": null,
   "id": "f9624e4a",
   "metadata": {},
   "outputs": [],
   "source": [
    "plt.plot(x, data[\"B_F_msr\"][:, :3]);\n",
    "plt.xlabel(r'$t$ [ms]')\n",
    "plt.ylabel(r'${}^{B}{\\bf F}_{\\mathrm{msr}}$ [N]');\n",
    "plt.legend([f'$F_{{{x}}}$' for x in [\"x\", \"y\", \"z\"]]);"
   ]
  },
  {
   "cell_type": "markdown",
   "id": "7fc78d7d",
   "metadata": {},
   "source": [
    "### Plot Compliant Behavior\n",
    "\n",
    "Refer to Tutorial 4 for setup / configuration\n",
    "\n",
    "* zero-force as desired value (compliance)\n",
    "* activate axes as needed (here compliance along xyz)\n"
   ]
  },
  {
   "cell_type": "code",
   "execution_count": null,
   "id": "3635edaf",
   "metadata": {},
   "outputs": [],
   "source": [
    "observer.reset()\n",
    "cobot.init_sns_vel()\n",
    "cobot.reset()\n",
    "cobot.set_py_hybrid_force_vel_command(B_F_des=np.r_[np.zeros(2), 0.0, np.zeros(3)], \n",
    "                                      K_f=1e-3, K_t=2e-3,\n",
    "                                      wrench_dir=np.r_[1.0, 1.0, 1.0, 0.0, 0.0, 0.0],\n",
    "                                      scale_pos=0.0, scale_rot=0.0, \n",
    "                                      vel_dir=np.zeros(6))"
   ]
  },
  {
   "cell_type": "code",
   "execution_count": null,
   "id": "6bb793c8",
   "metadata": {},
   "outputs": [],
   "source": [
    "T = 10000\n",
    "u_cmd = np.zeros((T, 6))\n",
    "for t in trange(T):\n",
    "    cobot.update_tf()\n",
    "    cobot._hybrid_force_vel_command()\n",
    "    observer.update(cobot)\n",
    "    u_cmd[t, 0:3], u_cmd[t, 3:6] = cobot._F_ctrl.u_F(cobot.B_err_F, cobot.R_B_C)\n",
    "cobot.emergency_stop()\n",
    "print(\"\\n\".join([f\"Stored {k}\\t∈\\t{v.shape}\" for k,v in observer.drop(cobot).items()]))"
   ]
  },
  {
   "cell_type": "code",
   "execution_count": null,
   "id": "c25dc7c3",
   "metadata": {},
   "outputs": [],
   "source": [
    "data = observer.drop(cobot)"
   ]
  },
  {
   "cell_type": "code",
   "execution_count": null,
   "id": "247f2e84",
   "metadata": {},
   "outputs": [],
   "source": [
    "T = data[\"B_F_msr\"].shape[0]\n",
    "x = np.linspace(0, T * cobot.dt, T) * 1e3\n",
    "# F-msr\n",
    "plt.figure(\"F_msr\")\n",
    "plt.plot(x, data[\"B_F_msr\"]);\n",
    "plt.xlabel(r'$t$ [ms]')\n",
    "plt.ylabel(r'${}^{B}{\\bf F}_{\\mathrm{msr}}$ [N, Nm]');\n",
    "# F-ext\n",
    "plt.figure(\"B_F_ext\")\n",
    "plt.plot(x, data[\"B_F_ext\"]);\n",
    "plt.xlabel(r'$t$ [ms]')\n",
    "plt.ylabel(r'${}^{B}{\\bf F}_{\\mathrm{ext}}$ [N, Nm]');\n",
    "# F-err\n",
    "plt.figure(\"B_err_F\")\n",
    "plt.plot(x, data[\"B_err_F\"]);\n",
    "plt.xlabel(r'$t$ [ms]')\n",
    "plt.ylabel(r'${}^{B}{\\bf \\varepsilon}_{\\mathrm{F}}$ [N, Nm]');\n",
    "# u-cmd\n",
    "plt.figure(\"u\")\n",
    "plt.plot(x, u_cmd[:T, 0:3]);\n",
    "plt.xlabel(r'$t$ [ms]')\n",
    "plt.ylabel(r'${}^{B}{\\bf u}_{\\mathrm{pos}}$ [m/s]');"
   ]
  },
  {
   "cell_type": "code",
   "execution_count": null,
   "id": "6024c001",
   "metadata": {},
   "outputs": [],
   "source": [
    "cobot._F_ctrl.S_diag"
   ]
  },
  {
   "cell_type": "markdown",
   "id": "1b6c2e0d",
   "metadata": {},
   "source": [
    "## Action Service Example\n",
    "\n",
    "> **NOTE: this requires hrr_cobo_robot to be of version v0.1.4+**\n",
    "\n",
    "useful ROS-tutorials: \n",
    "\n",
    "- [Writing a Simple Action Server using the Execute Callback (Python)](http://wiki.ros.org/actionlib_tutorials/Tutorials/Writing%20a%20Simple%20Action%20Server%20using%20the%20Execute%20Callback%20%28Python%29)\n",
    "- [Writing a Simple Action Client (Python)](http://wiki.ros.org/actionlib_tutorials/Tutorials/Writing%20a%20Simple%20Action%20Client%20%28Python%29)\n",
    "\n",
    "Below we communicate with an example action-service that uses the existing API,\n",
    "namely the ```CalibrationServer```,\n",
    "which can be started as a standalone ROS-node via \n",
    "\n",
    "```\n",
    "rosrun hrr_cobot_robot ft_calibrator\n",
    "```\n",
    "\n",
    "which will run the ``ft_sensor_calibrator`` from the ``ros_nodes_click_commands.py`` file.\n",
    "\n",
    "It is best to start this function from a programming IDE (pycharm / vscode / spider) and run debug-breakpoints.\n",
    "\n",
    "This notebook can then be used to initiate / trigger the action-service as outlined below\n",
    "\n",
    "### Import required ROS-(action)-messages"
   ]
  },
  {
   "cell_type": "code",
   "execution_count": null,
   "id": "4ebfb107",
   "metadata": {},
   "outputs": [],
   "source": [
    "from hrr_msgs.msg import CalibrateCobotAction, CalibrateCobotGoal\n",
    "import actionlib"
   ]
  },
  {
   "cell_type": "markdown",
   "id": "133ce796",
   "metadata": {},
   "source": [
    "### search for dedicated action message\n",
    "simple execute the code below.\n",
    "\n",
    "By the time of writing, this was given as \n",
    "\n",
    "```bash\n",
    "rostopic list | grep \"calibrate/goal\"\n",
    "/ft_sensor_calibrated/calibrate/goal\n",
    "```"
   ]
  },
  {
   "cell_type": "code",
   "execution_count": null,
   "id": "249c6c1e",
   "metadata": {},
   "outputs": [],
   "source": [
    "!rostopic list | grep \"calibrate/goal\""
   ]
  },
  {
   "cell_type": "markdown",
   "id": "3e12b33d",
   "metadata": {},
   "source": [
    "### set up action-client\n",
    "\n",
    "given the message above, the topic of interest woudld be \"/ft_sensor_calibrated/calibrate/\""
   ]
  },
  {
   "cell_type": "code",
   "execution_count": null,
   "id": "81d72b6e",
   "metadata": {},
   "outputs": [],
   "source": [
    "calibrate_cobot = actionlib.SimpleActionClient(\"/ft_sensor_calibrated/calibrate\", CalibrateCobotAction)\n",
    "calibrate_cobot.wait_for_server()"
   ]
  },
  {
   "cell_type": "markdown",
   "id": "1fb98bf0",
   "metadata": {},
   "source": [
    "### send goal to cobot\n",
    "\n",
    "It is recommended to first inspect the goal and then send it"
   ]
  },
  {
   "cell_type": "code",
   "execution_count": null,
   "id": "09d2e13d",
   "metadata": {},
   "outputs": [],
   "source": [
    "goal = CalibrateCobotGoal()"
   ]
  },
  {
   "cell_type": "code",
   "execution_count": null,
   "id": "ee0d391e",
   "metadata": {},
   "outputs": [],
   "source": [
    "calibrate_cobot.send_goal(goal)"
   ]
  }
 ],
 "metadata": {
  "kernelspec": {
   "display_name": "Python 3 (ipykernel)",
   "language": "python",
   "name": "python3"
  },
  "language_info": {
   "codemirror_mode": {
    "name": "ipython",
    "version": 3
   },
   "file_extension": ".py",
   "mimetype": "text/x-python",
   "name": "python",
   "nbconvert_exporter": "python",
   "pygments_lexer": "ipython3",
   "version": "3.8.12"
  },
  "latex_envs": {
   "LaTeX_envs_menu_present": true,
   "autoclose": false,
   "autocomplete": true,
   "bibliofile": "biblio.bib",
   "cite_by": "apalike",
   "current_citInitial": 1,
   "eqLabelWithNumbers": true,
   "eqNumInitial": 1,
   "hotkeys": {
    "equation": "Ctrl-E",
    "itemize": "Ctrl-I"
   },
   "labels_anchors": false,
   "latex_user_defs": false,
   "report_style_numbering": false,
   "user_envs_cfg": false
  },
  "toc": {
   "base_numbering": 1,
   "nav_menu": {},
   "number_sections": true,
   "sideBar": true,
   "skip_h1_title": false,
   "title_cell": "Table of Contents",
   "title_sidebar": "Contents",
   "toc_cell": false,
   "toc_position": {
    "height": "calc(100% - 180px)",
    "left": "10px",
    "top": "150px",
    "width": "384px"
   },
   "toc_section_display": true,
   "toc_window_display": true
  },
  "varInspector": {
   "cols": {
    "lenName": 16,
    "lenType": 16,
    "lenVar": 40
   },
   "kernels_config": {
    "python": {
     "delete_cmd_postfix": "",
     "delete_cmd_prefix": "del ",
     "library": "var_list.py",
     "varRefreshCmd": "print(var_dic_list())"
    },
    "r": {
     "delete_cmd_postfix": ") ",
     "delete_cmd_prefix": "rm(",
     "library": "var_list.r",
     "varRefreshCmd": "cat(var_dic_list()) "
    }
   },
   "types_to_exclude": [
    "module",
    "function",
    "builtin_function_or_method",
    "instance",
    "_Feature"
   ],
   "window_display": false
  }
 },
 "nbformat": 4,
 "nbformat_minor": 5
}
