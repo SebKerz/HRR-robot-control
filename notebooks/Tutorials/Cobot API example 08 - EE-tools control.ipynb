{
 "cells": [
  {
   "cell_type": "markdown",
   "id": "78d57d6c",
   "metadata": {},
   "source": [
    "# nb 08: End-Effector Commands\n",
    "\n",
    "**Note:**\n",
    "This section skips the control of the gripper as this is handled by the (default) WSG 50 gripper driver.\n",
    "\n",
    "In order to control the behavior of the available tools, a dedicated ROS-interface has been implemented which is imported and initialized as sketched below."
   ]
  },
  {
   "cell_type": "code",
   "execution_count": 1,
   "id": "e7e7397a",
   "metadata": {},
   "outputs": [],
   "source": [
    "from tqdm.notebook import trange, tqdm\n",
    "import numpy as np\n",
    "import rospy\n",
    "import hrr_cobot_robot\n",
    "import hrr_common\n",
    "from std_srvs.srv import SetBool\n",
    "\n",
    "np.set_printoptions(suppress=True, precision=4)"
   ]
  },
  {
   "cell_type": "code",
   "execution_count": 2,
   "id": "a44cb138",
   "metadata": {},
   "outputs": [],
   "source": [
    "#hrr_common.utils.set_ros_environment(ros_master = 'hrrcobotLinux54')"
   ]
  },
  {
   "cell_type": "code",
   "execution_count": 3,
   "id": "1f5b2e18",
   "metadata": {},
   "outputs": [],
   "source": [
    "rospy.init_node(\"hrr_cobot_tutorial8\")"
   ]
  },
  {
   "cell_type": "markdown",
   "id": "7033c061",
   "metadata": {},
   "source": [
    "## Arduino EE-tool control\n",
    "\n",
    "\n",
    "In this example, the ``tool_controller.launch`` file has been started in the namespace of the cobo via\n",
    "\n",
    "```bash\n",
    "roslaunch hrr_ee_tools tool_controller.launch\n",
    "```"
   ]
  },
  {
   "cell_type": "code",
   "execution_count": 4,
   "id": "e0f58c67",
   "metadata": {},
   "outputs": [],
   "source": [
    "#from hrr_cobot_robot.tool_control import ArduinoToolControlInterface"
   ]
  },
  {
   "cell_type": "code",
   "execution_count": 5,
   "id": "48ef5f82",
   "metadata": {},
   "outputs": [],
   "source": [
    "#arduino_controller = ArduinoToolControlInterface.from_ros(\"/hrr_cobot/\")"
   ]
  },
  {
   "cell_type": "markdown",
   "id": "7c8cd78f",
   "metadata": {},
   "source": [
    "## Control Handles for ROS-control via digital OUT / IN"
   ]
  },
  {
   "cell_type": "code",
   "execution_count": 6,
   "id": "5e1eaaa3",
   "metadata": {},
   "outputs": [],
   "source": [
    "from hrr_cobot_robot.tool_control import HrrCobotToolControlInterface\n",
    "final = HrrCobotToolControlInterface.from_ros(\"/hrr_cobot\")"
   ]
  },
  {
   "cell_type": "markdown",
   "id": "45609c3c",
   "metadata": {},
   "source": [
    "## control tools via unified API\n",
    "comment as needed"
   ]
  },
  {
   "cell_type": "code",
   "execution_count": 7,
   "id": "8d906820",
   "metadata": {},
   "outputs": [],
   "source": [
    "synced = False\n",
    "if synced:\n",
    "    current_handle = arduino_controller\n",
    "else:\n",
    "    current_handle = final"
   ]
  },
  {
   "cell_type": "markdown",
   "id": "12f03305",
   "metadata": {},
   "source": [
    "### control vacuum valve\n",
    "\n",
    "1. activate the `vacuum` gripper control mode by setting the tool attribute to ``vacuum``\n",
    "2. use the ``vacuum`` property to enable / disable the command\n",
    "\n",
    "**WARNING**: this will only send the command once, and will lead to disabling the vacuum command once the timeout is reached, so preferably use this in a loopish behavior\n",
    "\n",
    "**NOTE-UPDATE ``v0.2.1``** the procedure is equal for both interfaces"
   ]
  },
  {
   "cell_type": "code",
   "execution_count": null,
   "id": "8e932a46",
   "metadata": {},
   "outputs": [],
   "source": [
    "current_handle.tool = \"vacuum\""
   ]
  },
  {
   "cell_type": "code",
   "execution_count": null,
   "id": "a2d03d1b",
   "metadata": {},
   "outputs": [],
   "source": [
    "current_handle.vacuum = True"
   ]
  },
  {
   "cell_type": "code",
   "execution_count": null,
   "id": "811bf62a",
   "metadata": {},
   "outputs": [],
   "source": [
    "current_handle.vacuum = False"
   ]
  },
  {
   "cell_type": "markdown",
   "id": "f632a9fe",
   "metadata": {},
   "source": [
    "### Shaft grinder control\n",
    "\n",
    "1. actvate the ``shaftgrinder`` again via setting the ``tool`` attribute to ``shaftgrinder``\n",
    "2. set the ``rpm`` value of the tool_controller as needed\n",
    "\n",
    "**WARNING**: Again, another loop is needed to ensure that the tool-controller is not automatically disabled after a timeout is reached.\n",
    "\n",
    "**NOTE: This function is not available from digital I/O**"
   ]
  },
  {
   "cell_type": "code",
   "execution_count": 2,
   "id": "afe0e63c",
   "metadata": {},
   "outputs": [
    {
     "ename": "NameError",
     "evalue": "name 'current_handle' is not defined",
     "output_type": "error",
     "traceback": [
      "\u001b[0;31m---------------------------------------------------------------------------\u001b[0m",
      "\u001b[0;31mNameError\u001b[0m                                 Traceback (most recent call last)",
      "\u001b[0;32m/tmp/ipykernel_135913/3988526074.py\u001b[0m in \u001b[0;36m<module>\u001b[0;34m\u001b[0m\n\u001b[0;32m----> 1\u001b[0;31m \u001b[0mcurrent_handle\u001b[0m\u001b[0;34m.\u001b[0m\u001b[0mtool\u001b[0m \u001b[0;34m=\u001b[0m \u001b[0;34m\"shaftgrinder\"\u001b[0m\u001b[0;34m\u001b[0m\u001b[0;34m\u001b[0m\u001b[0m\n\u001b[0m",
      "\u001b[0;31mNameError\u001b[0m: name 'current_handle' is not defined"
     ]
    }
   ],
   "source": [
    "current_handle.tool = \"shaftgrinder\""
   ]
  },
  {
   "cell_type": "code",
   "execution_count": null,
   "id": "ac97ad52",
   "metadata": {},
   "outputs": [],
   "source": [
    "current_handle.rpm = 10000"
   ]
  },
  {
   "cell_type": "code",
   "execution_count": null,
   "id": "b5f3e822",
   "metadata": {},
   "outputs": [],
   "source": [
    "r = rospy.Rate(2)\n",
    "for rpm in tqdm((30e3, 20e3, 10e3, 5e3, 1e3)):\n",
    "    current_handle.rpm = rpm\n",
    "    r.sleep()"
   ]
  },
  {
   "cell_type": "markdown",
   "id": "43e6b892",
   "metadata": {},
   "source": [
    "### Shaft grinder control via DOUT"
   ]
  },
  {
   "cell_type": "code",
   "execution_count": null,
   "id": "6c979d21",
   "metadata": {},
   "outputs": [],
   "source": [
    "final.run_shaftgrinder(2.0, 'slow')"
   ]
  },
  {
   "cell_type": "code",
   "execution_count": null,
   "id": "180264d6",
   "metadata": {},
   "outputs": [],
   "source": [
    "final.run_shaftgrinder(1.0, 'variable')"
   ]
  },
  {
   "cell_type": "code",
   "execution_count": null,
   "id": "3fd2912b",
   "metadata": {},
   "outputs": [],
   "source": [
    "final.run_shaftgrinder(0.2, 'full_speed')"
   ]
  },
  {
   "cell_type": "markdown",
   "id": "bf45f28d",
   "metadata": {},
   "source": [
    "### Screwdriver control\n",
    "\n",
    "Procedure:\n",
    "\n",
    "activate ``screwdriver`` control again by setting the ``tool`` to ``screwdriver``\n",
    "\n",
    "\n",
    "2. use available functions in ``HrrCobotControl``-handle\n",
    "\n",
    "   ```ipython\n",
    "   ?cobot.run_screwdriver_program\n",
    "   ?cobot.screwdriver_stop\n",
    "   ```\n",
    "3. use commands from tool-controller interface directly\n",
    "    \n",
    "  ```ipython\n",
    "  ?digital_io_controller.screwdriver_program \n",
    "  ?digital_io_controller.screwdriver_start \n",
    "  ?digital_io_controller.screwdriver_stop \n",
    "  ```\n",
    "  \n",
    "For digital ROS-controller, there is alos\n",
    "\n",
    "```ipython\n",
    "?final.run_screwdriver\n",
    "```"
   ]
  },
  {
   "cell_type": "code",
   "execution_count": 7,
   "id": "bf62e1df",
   "metadata": {},
   "outputs": [
    {
     "ename": "NameError",
     "evalue": "name 'current_handle' is not defined",
     "output_type": "error",
     "traceback": [
      "\u001b[0;31m---------------------------------------------------------------------------\u001b[0m",
      "\u001b[0;31mNameError\u001b[0m                                 Traceback (most recent call last)",
      "\u001b[0;32m/tmp/ipykernel_943076/2304158302.py\u001b[0m in \u001b[0;36m<module>\u001b[0;34m\u001b[0m\n\u001b[0;32m----> 1\u001b[0;31m \u001b[0mcurrent_handle\u001b[0m\u001b[0;34m.\u001b[0m\u001b[0mtool\u001b[0m \u001b[0;34m=\u001b[0m \u001b[0;34m\"screwdriver\"\u001b[0m\u001b[0;34m\u001b[0m\u001b[0;34m\u001b[0m\u001b[0m\n\u001b[0m",
      "\u001b[0;31mNameError\u001b[0m: name 'current_handle' is not defined"
     ]
    }
   ],
   "source": [
    "current_handle.tool = \"screwdriver\""
   ]
  },
  {
   "cell_type": "code",
   "execution_count": 9,
   "id": "69ab16c7",
   "metadata": {},
   "outputs": [
    {
     "data": {
      "application/vnd.jupyter.widget-view+json": {
       "model_id": "26510451bfa3476d9944adeb6e11a486",
       "version_major": 2,
       "version_minor": 0
      },
      "text/plain": [
       "  0%|          | 0/8 [00:00<?, ?it/s]"
      ]
     },
     "metadata": {},
     "output_type": "display_data"
    }
   ],
   "source": [
    "for i in trange(1, 9):\n",
    "    if synced:\n",
    "        current_handle.screwdriver_program = i\n",
    "        rospy.sleep(1.0)\n",
    "        current_handle.screwdriver_start()\n",
    "        rospy.sleep(1.0)\n",
    "        if synced:    \n",
    "            current_handle.screwdriver_stop()\n",
    "    else:\n",
    "        current_handle.run_screwdriver(dt=1.0, prog=i, sleep_time=0.5)\n",
    "        rospy.sleep(2.0)"
   ]
  },
  {
   "cell_type": "markdown",
   "id": "c01a6ed1",
   "metadata": {},
   "source": [
    "## Tool change"
   ]
  },
  {
   "cell_type": "code",
   "execution_count": 9,
   "id": "c304fe85",
   "metadata": {},
   "outputs": [],
   "source": [
    "final.open_tool_changer()"
   ]
  },
  {
   "cell_type": "code",
   "execution_count": 10,
   "id": "a37fe797",
   "metadata": {},
   "outputs": [],
   "source": [
    "final.close_tool_changer()"
   ]
  },
  {
   "cell_type": "code",
   "execution_count": null,
   "id": "69649b4b",
   "metadata": {},
   "outputs": [],
   "source": [
    "rospy.set_param(\"/hrr_cobot/use_tool_changer_encoder\", True)\n",
    "tmp = HrrCobotToolControlInterface.from_ros(\"/hrr_cobot\")"
   ]
  },
  {
   "cell_type": "code",
   "execution_count": null,
   "id": "3641834c",
   "metadata": {},
   "outputs": [],
   "source": [
    "tmp.open_tool_changer()"
   ]
  },
  {
   "cell_type": "code",
   "execution_count": null,
   "id": "f471c725",
   "metadata": {},
   "outputs": [],
   "source": [
    "tmp.close_tool_changer()"
   ]
  },
  {
   "cell_type": "code",
   "execution_count": null,
   "id": "64539760",
   "metadata": {},
   "outputs": [],
   "source": [
    "from hrr_controllers.tool_changer_controller import GimaticPinController\n",
    "GP = GimaticPinController.from_ros(cobot_prefix=\"/hrr_cobot\")\n",
    "GP.activate()"
   ]
  },
  {
   "cell_type": "code",
   "execution_count": null,
   "id": "aa968597",
   "metadata": {},
   "outputs": [],
   "source": [
    "GP.deactivate()"
   ]
  },
  {
   "cell_type": "markdown",
   "id": "8d07c619",
   "metadata": {},
   "source": [
    "# Using the cobot handle\n",
    "\n",
    "Below you can see how to use the ``screwdriver`` directly from the cobot handle"
   ]
  },
  {
   "cell_type": "code",
   "execution_count": 5,
   "id": "7c00a646",
   "metadata": {},
   "outputs": [
    {
     "name": "stderr",
     "output_type": "stream",
     "text": [
      "Exception ignored in: <function TransformListener.__del__ at 0x7fda60815700>\n",
      "Traceback (most recent call last):\n",
      "  File \"/opt/ros/noetic/lib/python3/dist-packages/tf2_ros/transform_listener.py\", line 60, in __del__\n",
      "    self.unregister()\n",
      "  File \"/opt/ros/noetic/lib/python3/dist-packages/tf2_ros/transform_listener.py\", line 66, in unregister\n",
      "    self.tf_sub.unregister()\n",
      "AttributeError: 'TransformListener' object has no attribute 'tf_sub'\n",
      "pybullet build time: May  8 2021 05:48:13\n"
     ]
    },
    {
     "name": "stdout",
     "output_type": "stream",
     "text": [
      "[INFO]some functions are not yet compiled. Expect delays upon first call\n",
      "Hrr-Cobot state:\n",
      "FT-data:\n",
      "current force:\t[ 0.4861  1.0474 11.2061] [N]\n",
      "current torque:\t[-0.9686  1.1792  0.0339] [Nm]\n",
      "current wrench:\t[ 0.484   1.0649 11.2235 -0.9698  1.1854  0.0477] [N,Nm]\n",
      "=>in contact:\tTrue\n",
      "---\n",
      "Robot-data:\n",
      "q:\t\t[   1.931     6.9374 -109.7847    5.4566   55.3662   50.6192][°]\n",
      "q_dot:\t\t[0. 0. 0. 0. 0. 0.][rad/s]\n",
      "tau:\t\t[0. 0. 0. 0. 0. 0.][Nm]\n",
      "pos:\t\t[ 0.4726 -0.0222  0.5244][m]\n",
      "quat:\t\t0.04367 <[-0.4329  0.8979 -0.0672]>\n",
      "tool-pos:\t[ 0.4726 -0.0222  0.5244][m]\n",
      "tool-rpy:\t[128.8491   7.8516 175.2001][°]\n",
      "robot-status:\tready\n",
      "---\n",
      "Hrr-Cobot state:\n",
      "FT-data:\n",
      "current force:\t[ 0.4944  1.0796 11.3379] [N]\n",
      "current torque:\t[-0.9686  1.1856  0.0594] [Nm]\n",
      "current wrench:\t[ 0.4791  1.0782 11.2672 -0.9707  1.1776  0.052 ] [N,Nm]\n",
      "=>in contact:\tTrue\n",
      "---\n",
      "Robot-data:\n",
      "q:\t\t[   1.931     6.9374 -109.7847    5.4566   55.3662   50.6192][°]\n",
      "q_dot:\t\t[0. 0. 0. 0. 0. 0.][rad/s]\n",
      "tau:\t\t[0. 0. 0. 0. 0. 0.][Nm]\n",
      "pos:\t\t[ 0.4726 -0.0222  0.5244][m]\n",
      "quat:\t\t0.04367 <[-0.4329  0.8979 -0.0672]>\n",
      "tool-pos:\t[ 0.4726 -0.0222  0.5244][m]\n",
      "tool-rpy:\t[128.8491   7.8517 175.2001][°]\n",
      "robot-status:\tready\n",
      "---\n",
      "tool set to screwdriver\n",
      "E_p_EC:=[-0.      0.224   0.1475]\n",
      "R_E_C:=[[ 0. -1. -0.]\n",
      " [ 0. -0.  1.]\n",
      " [-1.  0.  0.]]\n",
      "---\n"
     ]
    }
   ],
   "source": [
    "import hrr_cobot_robot\n",
    "rospy.set_param(\"/hrr_cobot/tool_name\", \"nothing\")\n",
    "cobot = hrr_cobot_robot.HrrCobotControl.from_ros(\"/hrr_cobot\")"
   ]
  },
  {
   "cell_type": "code",
   "execution_count": 6,
   "id": "9e5abaa2",
   "metadata": {},
   "outputs": [],
   "source": [
    "print(cobot)"
   ]
  },
  {
   "cell_type": "code",
   "execution_count": 10,
   "id": "8adfe2d0",
   "metadata": {},
   "outputs": [
    {
     "data": {
      "text/plain": [
       "'screwdriver'"
      ]
     },
     "execution_count": 10,
     "metadata": {},
     "output_type": "execute_result"
    }
   ],
   "source": [
    "cobot.tool"
   ]
  },
  {
   "cell_type": "code",
   "execution_count": 9,
   "id": "c4e29724",
   "metadata": {},
   "outputs": [
    {
     "data": {
      "text/plain": [
       "  \u001b[38;5;1m-0.3938  \u001b[0m \u001b[38;5;1m-0.9192  \u001b[0m \u001b[38;5;1m-0.004733\u001b[0m \u001b[38;5;4m 0.5007  \u001b[0m  \u001b[0m\n",
       "  \u001b[38;5;1m-0.9186  \u001b[0m \u001b[38;5;1m 0.3934  \u001b[0m \u001b[38;5;1m 0.03847 \u001b[0m \u001b[38;5;4m 0.04294 \u001b[0m  \u001b[0m\n",
       "  \u001b[38;5;1m-0.0335  \u001b[0m \u001b[38;5;1m 0.0195  \u001b[0m \u001b[38;5;1m-0.9992  \u001b[0m \u001b[38;5;4m 0.1961  \u001b[0m  \u001b[0m\n",
       "  \u001b[38;5;244m 0       \u001b[0m \u001b[38;5;244m 0       \u001b[0m \u001b[38;5;244m 0       \u001b[0m \u001b[38;5;244m 1       \u001b[0m  \u001b[0m\n"
      ]
     },
     "execution_count": 9,
     "metadata": {},
     "output_type": "execute_result"
    }
   ],
   "source": [
    "cobot.T_B_C_robot"
   ]
  },
  {
   "cell_type": "code",
   "execution_count": 7,
   "id": "3e650665",
   "metadata": {},
   "outputs": [],
   "source": [
    "cobot.change_tool(\"screwdriver\", robot_urdf_prefix=\"hrr_cobot.\")\n",
    "print(cobot)"
   ]
  },
  {
   "cell_type": "code",
   "execution_count": null,
   "id": "3e9352ba",
   "metadata": {},
   "outputs": [],
   "source": [
    "cobot.C_p_CE"
   ]
  },
  {
   "cell_type": "code",
   "execution_count": null,
   "id": "a4a52d31",
   "metadata": {},
   "outputs": [],
   "source": [
    "rospy.get_param(\"/hrr_cobot/tool_name\")"
   ]
  },
  {
   "cell_type": "code",
   "execution_count": null,
   "id": "0889482e",
   "metadata": {},
   "outputs": [],
   "source": [
    "rospy.set_param(\"/hrr_cobot/tool_name\", \"wsg_50_dsa\")"
   ]
  },
  {
   "cell_type": "code",
   "execution_count": null,
   "id": "7b37bb9e",
   "metadata": {},
   "outputs": [],
   "source": [
    "cobot.change_tool(\"screwdriver\")"
   ]
  },
  {
   "cell_type": "code",
   "execution_count": 8,
   "id": "a558fc46",
   "metadata": {},
   "outputs": [
    {
     "data": {
      "application/vnd.jupyter.widget-view+json": {
       "model_id": "72e14cd8f65f4f5cabbd55ab2e78f177",
       "version_major": 2,
       "version_minor": 0
      },
      "text/plain": [
       "  0%|          | 0/8 [00:00<?, ?it/s]"
      ]
     },
     "metadata": {},
     "output_type": "display_data"
    }
   ],
   "source": [
    "for i in trange(1, 9):\n",
    "    cobot.run_screwdriver_program(i, run_time=1.0)\n",
    "    rospy.sleep(2.0)"
   ]
  },
  {
   "cell_type": "code",
   "execution_count": null,
   "id": "5149760a",
   "metadata": {},
   "outputs": [],
   "source": [
    "cobot.change_tool(\"vacuum\")"
   ]
  },
  {
   "cell_type": "code",
   "execution_count": null,
   "id": "ca4fd969",
   "metadata": {},
   "outputs": [],
   "source": [
    "cobot.tool_controller.vacuum = True"
   ]
  },
  {
   "cell_type": "code",
   "execution_count": null,
   "id": "beb1c017",
   "metadata": {},
   "outputs": [],
   "source": [
    "cobot.tool_controller.vacuum = False"
   ]
  },
  {
   "cell_type": "code",
   "execution_count": null,
   "id": "20e1312a",
   "metadata": {},
   "outputs": [],
   "source": [
    "cobot.tool_controller.tool"
   ]
  },
  {
   "cell_type": "markdown",
   "id": "292a7155",
   "metadata": {},
   "source": [
    "## WSG 50 Gripper"
   ]
  },
  {
   "cell_type": "code",
   "execution_count": null,
   "id": "20c5bb83",
   "metadata": {},
   "outputs": [],
   "source": [
    "cobot.tool_controller.run_shaftgrinder(1.0, 'slow')"
   ]
  },
  {
   "cell_type": "code",
   "execution_count": null,
   "id": "e300f819",
   "metadata": {},
   "outputs": [],
   "source": [
    "cobot.tool_controller._sg.mode_id, \\\n",
    "cobot.tool_controller._sg.mode_name, \n"
   ]
  },
  {
   "cell_type": "code",
   "execution_count": null,
   "id": "05fb3463",
   "metadata": {},
   "outputs": [],
   "source": [
    "cobot.tool_controller._sg.timeout"
   ]
  },
  {
   "cell_type": "code",
   "execution_count": null,
   "id": "7eb078a0",
   "metadata": {},
   "outputs": [],
   "source": []
  }
 ],
 "metadata": {
  "kernelspec": {
   "display_name": "Python 3 (ipykernel)",
   "language": "python",
   "name": "python3"
  },
  "language_info": {
   "codemirror_mode": {
    "name": "ipython",
    "version": 3
   },
   "file_extension": ".py",
   "mimetype": "text/x-python",
   "name": "python",
   "nbconvert_exporter": "python",
   "pygments_lexer": "ipython3",
   "version": "3.8.12"
  },
  "latex_envs": {
   "LaTeX_envs_menu_present": true,
   "autoclose": false,
   "autocomplete": true,
   "bibliofile": "biblio.bib",
   "cite_by": "apalike",
   "current_citInitial": 1,
   "eqLabelWithNumbers": true,
   "eqNumInitial": 1,
   "hotkeys": {
    "equation": "Ctrl-E",
    "itemize": "Ctrl-I"
   },
   "labels_anchors": false,
   "latex_user_defs": false,
   "report_style_numbering": false,
   "user_envs_cfg": false
  },
  "toc": {
   "base_numbering": 1,
   "nav_menu": {},
   "number_sections": true,
   "sideBar": true,
   "skip_h1_title": false,
   "title_cell": "Table of Contents",
   "title_sidebar": "Contents",
   "toc_cell": false,
   "toc_position": {},
   "toc_section_display": true,
   "toc_window_display": false
  },
  "varInspector": {
   "cols": {
    "lenName": 16,
    "lenType": 16,
    "lenVar": 40
   },
   "kernels_config": {
    "python": {
     "delete_cmd_postfix": "",
     "delete_cmd_prefix": "del ",
     "library": "var_list.py",
     "varRefreshCmd": "print(var_dic_list())"
    },
    "r": {
     "delete_cmd_postfix": ") ",
     "delete_cmd_prefix": "rm(",
     "library": "var_list.r",
     "varRefreshCmd": "cat(var_dic_list()) "
    }
   },
   "types_to_exclude": [
    "module",
    "function",
    "builtin_function_or_method",
    "instance",
    "_Feature"
   ],
   "window_display": false
  }
 },
 "nbformat": 4,
 "nbformat_minor": 5
}
