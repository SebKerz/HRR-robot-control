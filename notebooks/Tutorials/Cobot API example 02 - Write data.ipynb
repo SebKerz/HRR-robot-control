{
 "cells": [
  {
   "cell_type": "markdown",
   "id": "978de89a",
   "metadata": {},
   "source": [
    "# nb 02: write data to ```hrr_cobot```\n",
    "\n",
    "**This is the continuation of the tutorial 01 notebook. Please understand how to read data from the cobot before sending data\n",
    "You can also find additional information about underlying docus  and startup procedures**\n",
    "\n",
    "\n",
    "**UPDATE: imports have slightly changed**\n",
    "\n",
    "- ROS-control interfaces are now in hrr_controllers\n",
    "- abbreaviations have been removed to ease readability\n",
    "\n",
    "\n",
    "## Imports / Packages needed"
   ]
  },
  {
   "cell_type": "code",
   "execution_count": 1,
   "id": "0222f972",
   "metadata": {
    "code_folding": [],
    "init_cell": true
   },
   "outputs": [],
   "source": [
    "# math and robotics\n",
    "import numpy as np\n",
    "import quaternion\n",
    "from tqdm.notebook import tqdm, trange\n",
    "\n",
    "# plotting \n",
    "import seaborn as sns\n",
    "import matplotlib.pylab as plt\n",
    "\n",
    "# ROS\n",
    "import rospy\n",
    "\n",
    "# hrr-cobot packages\n",
    "import hrr_common\n",
    "import hrr_cobot_robot\n",
    "import hrr_controllers\n",
    "\n",
    "# set printing and plotting options    \n",
    "np.set_printoptions(precision=5, suppress=True)\n",
    "sns.set_theme('notebook')\n",
    "%matplotlib notebook"
   ]
  },
  {
   "cell_type": "markdown",
   "id": "cccbbe1d",
   "metadata": {},
   "source": [
    "## Send Command to Robot Tests / Tutorial\n",
    "###### connect to ROS \n",
    "\n",
    "optionally set the ```ROS_IP``` and ```ROS_MASTER_URI``` directly form this notebook, as\n",
    "the setup above spawns the ros-setup from the real-time client, i.e. ```hrrN3511rt2004.lsr.ei.tum.de```"
   ]
  },
  {
   "cell_type": "code",
   "execution_count": null,
   "id": "e39ea41c",
   "metadata": {},
   "outputs": [],
   "source": [
    "def get_hostname_and_IP():\n",
    "    import socket\n",
    "    with socket.socket(socket.AF_INET, socket.SOCK_DGRAM) as s:\n",
    "        s.connect((\"8.8.8.8\", 80))\n",
    "        return socket.gethostname(), s.getsockname()[0]\n",
    "\n",
    "_host, _ip = get_hostname_and_IP()\n",
    "%env ROS_MASTER_URI=http://127.0.0.1:11311\n",
    "# %env ROS_MASTER_URI=http://hrrcobotLinux54:11311\n",
    "print(f\"\\t\\033[1m\\033[4m!!!please check that the IPs below is identical!!!\\033[0m\"+\n",
    "      f\"\\n\\thost {_host} has IP {_ip}, which should be identical to\",end=\"\\nvs:\\t\")\n",
    "%env ROS_IP=$_ip"
   ]
  },
  {
   "cell_type": "code",
   "execution_count": 3,
   "id": "a4121c09",
   "metadata": {
    "init_cell": true
   },
   "outputs": [],
   "source": [
    "rospy.init_node(\"hrr_cobot_tutorial02\")"
   ]
  },
  {
   "cell_type": "markdown",
   "id": "0a45c224",
   "metadata": {},
   "source": [
    "### Status interface\n",
    "\n",
    "The command of the COMAU robots also require the state to be defined properly. \n",
    "So we add a comaustatus handle from the tutorial 01 notebook below, to double check the current robot\n",
    "state.\n",
    "\n",
    "This state should be in ```moving``` for the Sensor-track controller and in ```ready``` for the trajectory-handler(s)"
   ]
  },
  {
   "cell_type": "code",
   "execution_count": null,
   "id": "c2d024da",
   "metadata": {
    "init_cell": true
   },
   "outputs": [],
   "source": [
    "comau_status = hrr_controllers.ComauRobotState.from_ros(\"/hrr_cobot\")\n",
    "rospy.sleep(1e-1)\n",
    "comau_status.robot_status"
   ]
  },
  {
   "cell_type": "code",
   "execution_count": 5,
   "id": "f679975f",
   "metadata": {
    "init_cell": true
   },
   "outputs": [],
   "source": [
    "def legal_traj():\n",
    "    return comau_status.robot_status == 'ready'\n",
    "\n",
    "def legal_sns():\n",
    "    return comau_status.robot_status == 'moving'"
   ]
  },
  {
   "cell_type": "markdown",
   "id": "d30b6557",
   "metadata": {},
   "source": [
    "## Sensor-track control \n",
    "\n",
    "\n",
    "### EE-velocity control (```hrr_controllers.SnsTrkCmd```)\n",
    "\n",
    "This class API exects to communicate with a ```sensor_track_velocity_controller``` controller as provided by the\n",
    "```hrr_controllers``` package. For this controller, the command is given as the dedicated twist in world frame, i.e.\n",
    "\n",
    "$$ \n",
    "\\begin{bmatrix} \\delta x & \\delta y & \\delta z & \\delta \\theta & \\delta \\psi & \\delta \\phi \\end{bmatrix}^{\\top}\n",
    ":= \\begin{bmatrix} v_x & v_y & v_z & \\omega_x & \\omega_y & \\omega_z \\end{bmatrix}^{\\top} \\cdot \\Delta t\n",
    "$$\n",
    "\n",
    "the client-side, i.e. the ```hrr_controllers.SnsTrkCmd``` handle is epxected to command the Cartesian velocity of the end-effector of the robot, which is then forwarded to a C\n",
    "\n",
    "The controller needs the following ros-parameters\n",
    "\n",
    "- the sensor-track-topic name, this is a message of type [TwistStamped](http://docs.ros.org/en/api/geometry_msgs/html/msg/TwistStamped.html) that sets the current end-effector velocity to the robot\n",
    "- the controller manager ros-namespace to communicate with the controller manager\n",
    "- the name of the sensor-track-velocity controller\n",
    "\n",
    "In contrast to the read-command handles, this handle does not provide any information about the robot and is also not printed in any pretty format to ease information exchange\n",
    "\n",
    "**WARNING: THIS HANDLE IS EXPECTED TO BE WRAPPED WITH INTELLIGENCE OR USED WITH CARE!**\n",
    "\n",
    "**THERE EXISTS NO SAFETY CHECK AGAINST SPEED VIOLATION / EXCEEDED FORCE LIMITS / COLLISIONS**"
   ]
  },
  {
   "cell_type": "code",
   "execution_count": 6,
   "id": "a961518a",
   "metadata": {},
   "outputs": [],
   "source": [
    "# rospy.set_param(\"~sns_trk_topic_name\", \"/hrr_cobot/sensor_track_velocity_controller/tcp_v_cmd\")\n",
    "# rospy.set_param(\"~controller_manager_ns\", \"/hrr_cobot/controller_manager\")\n",
    "# rospy.set_param(\"~sns_trk_vel_controller_name\", \"sensor_track_velocity_controller\")\n",
    "# sns_trk_vel_cmd = hrr_controllers.SnsTrkCmd.from_ros(\"~\")\n",
    "sns_trk_vel_cmd = hrr_controllers.SnsTrkCmd.from_ros(\"/hrr_cobot\")"
   ]
  },
  {
   "cell_type": "markdown",
   "id": "a8dadc86",
   "metadata": {},
   "source": [
    "### check controller status\n",
    "\n",
    "> **The commands shown below are calid for all controller-APIs shown in this notebook, i.e. also for**\n",
    "> - ```SnstrkComplCmd```\n",
    "> - ```JointTrajectoryHandler```\n",
    "\n",
    "In contrast to the state-controller, that are loaded by default, the status of the controllers need to be checked. \n",
    "We can use some helper functions provided in the ```hrr_common``` package.\n",
    "For convinience, they are integrated into the sensor-tracking controllers\n",
    "\n",
    "##### print active controllers"
   ]
  },
  {
   "cell_type": "code",
   "execution_count": null,
   "id": "331e8c51",
   "metadata": {},
   "outputs": [],
   "source": [
    "sns_trk_vel_cmd.list_controllers()"
   ]
  },
  {
   "cell_type": "markdown",
   "id": "6075cfab",
   "metadata": {},
   "source": [
    "##### activate controller and confirm status\n",
    "\n",
    "the identical procedure is available with ```deactivate()``` but is spared due to triviality here"
   ]
  },
  {
   "cell_type": "code",
   "execution_count": 8,
   "id": "075a785b",
   "metadata": {},
   "outputs": [],
   "source": [
    "sns_trk_vel_cmd.activate()"
   ]
  },
  {
   "cell_type": "code",
   "execution_count": 9,
   "id": "bb16680c",
   "metadata": {},
   "outputs": [
    {
     "name": "stdout",
     "output_type": "stream",
     "text": [
      "joint_state_controller                  \t=>\t\u001b[92m running \u001b[0m\n",
      "cartesian_state_controller              \t=>\t\u001b[92m running \u001b[0m\n",
      "comau_robot_state_controller            \t=>\t\u001b[92m running \u001b[0m\n",
      "ft_state_controller                     \t=>\t\u001b[92m running \u001b[0m\n",
      "sensor_track_velocity_controller        \t=>\t\u001b[92m running \u001b[0m\n",
      "joint_trajectory_handler                \t=>\t\u001b[93minitialized\u001b[0m\n",
      "kolver_program                          \t=>\t\u001b[93minitialized\u001b[0m\n",
      "kolver_run                              \t=>\t\u001b[93minitialized\u001b[0m\n",
      "shaft_grinder                           \t=>\t\u001b[93minitialized\u001b[0m\n",
      "tool_changer                            \t=>\t\u001b[93minitialized\u001b[0m\n",
      "vacuum_controller                       \t=>\t\u001b[93minitialized\u001b[0m\n",
      "[unloaded] sensor_track_compliant_controller\t[hrr_controllers/CompliancePoseController]\n",
      "[unloaded] cartesian_trajectory_handler  \t[comau_controllers/CartesianTrajectoryHandler]\n",
      "[unloaded] digital_io_state_controller   \t[hrr_controllers/DigitalIOStateController]\n",
      "[unloaded] gimatic_encoder_controller    \t[hrr_controllers/DoutEncoderController]\n"
     ]
    },
    {
     "data": {
      "text/plain": [
       "True"
      ]
     },
     "execution_count": 9,
     "metadata": {},
     "output_type": "execute_result"
    }
   ],
   "source": [
    "sns_trk_vel_cmd.activate()\n",
    "sns_trk_vel_cmd.list_controllers()\n",
    "sns_trk_vel_cmd.active"
   ]
  },
  {
   "cell_type": "markdown",
   "id": "8acde406",
   "metadata": {},
   "source": [
    "##### confirm with robot status\n",
    "\n",
    "if the controller is activated in sensor-tracking mode, the robot status (see tutorial 01) needs to be in moving, otherwise there is something malconfigured.\n",
    "\n",
    "checklist, ```comau_status.robot_status``` is \n",
    "\n",
    "- ```69``` $\\rightarrow$  some bug in the driver $\\rightarrow$  restart the ROS-robot driver\n",
    "- ```terminate``` $\\rightarrow$ check [workaround in the wiki](https://wiki.tum.de/x/VAELMg)\n",
    "- ```moving``` $\\rightarrow$ alright, proceed"
   ]
  },
  {
   "cell_type": "code",
   "execution_count": 10,
   "id": "e5eb0de9",
   "metadata": {},
   "outputs": [
    {
     "data": {
      "text/plain": [
       "(True, 'moving')"
      ]
     },
     "execution_count": 10,
     "metadata": {},
     "output_type": "execute_result"
    }
   ],
   "source": [
    "legal_sns(), comau_status.robot_status"
   ]
  },
  {
   "cell_type": "markdown",
   "id": "d8bcb806",
   "metadata": {},
   "source": [
    "##### send test data to robot\n",
    "\n",
    "**use with care:**\n",
    "slow movements only (Cart velocity is provided in SI-units, so max-speed should be 0.05 m/s or 50 mm/s\n",
    "and 0.1 rad/s for first trials."
   ]
  },
  {
   "cell_type": "code",
   "execution_count": 22,
   "id": "4ca3b77a",
   "metadata": {},
   "outputs": [],
   "source": [
    "sns_trk_vel_cmd.stop()"
   ]
  },
  {
   "cell_type": "code",
   "execution_count": null,
   "id": "9572e141",
   "metadata": {},
   "outputs": [],
   "source": [
    "r = rospy.Rate(50)\n",
    "v_test = np.zeros(6)\n",
    "for t in trange(200):\n",
    "    v_test[0] = 0#5e-3 * np.sin(t/ 100.0 * 2 * np.pi)\n",
    "    v_test[1] = 0#8e-3 * np.sin(t/ 100.0 * 2 * np.pi)\n",
    "    v_test[2] = 8e-3 * np.sin(t/ 100.0 * 2 * np.pi)\n",
    "    sns_trk_vel_cmd.update_cmd(v_test)\n",
    "    r.sleep() \n",
    "sns_trk_vel_cmd.stop()"
   ]
  },
  {
   "cell_type": "markdown",
   "id": "58022df4",
   "metadata": {},
   "source": [
    "**send orientation commands to the robot**\n",
    "\n",
    "The sensor-tracking control is counter-intuitive when used directly due to the strange conventions of the sensor-tracking interface.\n",
    "\n",
    "The sensor-tracking interface assumes a Cartesian deviation commended to the end-effector of the robot relative to the base frame of the robot.\n",
    "Usually you would assume the output of the Jacobian or a Cartesian Servoing speed command to send the Cartesian velocity of the end-effector to be set in the current frame of the end-effector.\n",
    "\n",
    "In contrast byt default the sensor-tracking velocity controller would steer the robot end-effector around the global coordinate system. This is understandable for translation but may lead to undesired behavior in rotation.\n",
    "\n",
    "You have two options to alternate this behavior:\n",
    "\n",
    "1. adjust the velocity to the convention of the sensor-tracking frame before sending it, e.g.\n",
    "\n",
    "   ```python\n",
    "   v_cmd = my_magic_function()  # some function returning the desired end-effector velocity\n",
    "   v_sns = cobot.T_E_B_robot.jacob() @ v_cmd\n",
    "   ```\n",
    "   \n",
    "2. use the ```update_cmd``` command and add the referred frame you want the robot to follow the current control"
   ]
  },
  {
   "cell_type": "code",
   "execution_count": null,
   "id": "69a0ae18",
   "metadata": {},
   "outputs": [],
   "source": [
    "r = rospy.Rate(50)\n",
    "v_test = np.zeros(6)\n",
    "v_test[3] = 0.05\n",
    "for t in trange(50):\n",
    "    sns_trk_vel_cmd.update_cmd(v_test, comau_status._base_frame)\n",
    "    r.sleep()\n",
    "sns_trk_vel_cmd.stop()"
   ]
  },
  {
   "cell_type": "code",
   "execution_count": null,
   "id": "3d5a3bfb",
   "metadata": {},
   "outputs": [],
   "source": [
    "r = rospy.Rate(50)\n",
    "v_test = np.zeros(6)\n",
    "v_test[2] = 0.01\n",
    "for t in trange(50):\n",
    "    sns_trk_vel_cmd.update_cmd(v_test, comau_status._base_frame)\n",
    "    r.sleep()\n",
    "for t in trange(50):\n",
    "    sns_trk_vel_cmd.update_cmd(v_test, \"hrr_cobot.ee_link\")\n",
    "    r.sleep()\n",
    "sns_trk_vel_cmd.stop()"
   ]
  },
  {
   "cell_type": "code",
   "execution_count": 27,
   "id": "e1a570fa",
   "metadata": {},
   "outputs": [],
   "source": [
    "sns_trk_vel_cmd.deactivate()"
   ]
  },
  {
   "cell_type": "markdown",
   "id": "406edbcc",
   "metadata": {},
   "source": [
    "### Hybrid compliance control (```hrr_controllers.SnsTrkComplCmd```)\n",
    "\n",
    ">**WARNING: THIS CONTROLLER IS CURRENTLY NOT SUPPORTED; SKIP THIS SECTION**\n",
    "\n",
    "\n",
    "the controller expects the following parameters to be set\n",
    "\n",
    "- ```sns_trk_compl_controller_name```\n",
    "- ```cmd_topic_name```\n",
    "- ```control_select_topic_name```\n",
    "- ```gain_cfg_name```\n",
    "\n",
    "The controller follows the following control command\n",
    "\n",
    "$$\n",
    "\\begin{aligned}\n",
    "{\\bf {}^{B}\\dot{x}} = \n",
    "& {\\bf R}^{B}_{C} {\\bf S}_{F} {\\bf R}^{C}_{B}\n",
    "  \\left( {}^{B}{\\bf F}_{\\mathrm{des}} - {}^{B}{\\bf F}_{\\mathrm{cur}}\\right) + \\\\\n",
    "&  {\\bf R}^{B}_{C} {\\bf S}_v {}^{C}{\\bf \\dot{x}_{\\mathrm{des}}}\n",
    "\\end{aligned}\n",
    "$$\n",
    "\n",
    "This controller is recommended to be used with the ```hrr_cobot``` handles \n",
    "(see ```cobot.init_sns_compl('/tmp/test4.npy')``` in tutorial 03)\n",
    "as there are additional safety restrictions that hinder a direct application of the controller\n",
    "\n",
    "In short:\n",
    "\n",
    "1. you need to load the controller\n",
    "2. run the calibration routine to get a calibrated sensor reading: \n",
    "    \n",
    "   ```bash\n",
    "   ❯ rostopic list | grep ext\n",
    "   /hrr_cobot/ft_calibrator/B_F_ext\n",
    "   ```\n",
    "   The sensor-calibration routine is triggered via \n",
    "   \n",
    "   ```bash\n",
    "rosservice call /hrr_cobot/ft_calibrator/calibrate \"calibration_file: '/tmp/test_calibration.npy'           \n",
    "steps: 0\n",
    "plot: false\"\n",
    "```\n",
    "   \n",
    "3. now check that the FT-reading is acceptably small in magnitude\n",
    "4. tell the compliance controller that the sensor is calibrated via \n",
    " \n",
    "   ```bash\n",
    "   rosservice call /hrr_cobot/sensor_track_compliant_controller/acknowledge_calibration \"data: true\"\n",
    "   ```\n",
    "\n",
    "   \n",
    "**WARNING: THIS HANDLE IS EXPECTED TO BE WRAPPED WITH INTELLIGENCE OR USED WITH CARE!**\n",
    "\n",
    "**THERE EXISTS NO SAFETY CHECK AGAINST SPEED VIOLATION / EXCEEDED FORCE LIMITS / COLLISIONS**"
   ]
  },
  {
   "cell_type": "code",
   "execution_count": null,
   "id": "f219e205",
   "metadata": {},
   "outputs": [],
   "source": [
    "rospy.set_param(\"~controller_manager_ns\", \"/hrr_cobot/controller_manager\")\n",
    "rospy.set_param(\"~gain_cfg_name\", \"/hrr_cobot\")\n",
    "rospy.set_param(\"~control_select_topic_name\", \"/hrr_cobot/sensor_track_compliant_controller/S\")\n",
    "rospy.set_param(\"~cmd_topic_name\", \"/hrr_cobot/sensor_track_compliant_controller/hybrid_ctrl_cmd\")\n",
    "rospy.set_param(\"~sns_trk_compl_controller_name\", \"sensor_track_compliant_controller\")\n",
    "sns_trk_compl_cmd = hrr_controllers.SnsTrkComplCmd.from_ros()"
   ]
  },
  {
   "cell_type": "code",
   "execution_count": null,
   "id": "b986e222",
   "metadata": {},
   "outputs": [],
   "source": [
    "if sns_trk_compl_cmd:\n",
    "    sns_trk_compl_cmd.list_controllers()\n",
    "    sns_trk_compl_cmd.activate()\n",
    "    sns_trk_compl_cmd.list_controllers()"
   ]
  },
  {
   "cell_type": "markdown",
   "id": "26b0c852",
   "metadata": {},
   "source": [
    "**update gains**"
   ]
  },
  {
   "cell_type": "code",
   "execution_count": null,
   "id": "ab47d958",
   "metadata": {},
   "outputs": [],
   "source": [
    "if sns_trk_compl_cmd:\n",
    "    sns_trk_compl_cmd.K_p_diag[0:3] = 1e-3\n",
    "    sns_trk_compl_cmd.K_p_diag[3:6] = 5e-3\n",
    "    sns_trk_compl_cmd.update_gains()"
   ]
  },
  {
   "cell_type": "markdown",
   "id": "bbe5910a",
   "metadata": {},
   "source": [
    "#### velocity control via hybrid controller\n",
    "\n",
    "when setting the selection matrix to ones the controller acts identical to the ```SnsTrkCmd``` controller"
   ]
  },
  {
   "cell_type": "code",
   "execution_count": null,
   "id": "54d69f67",
   "metadata": {},
   "outputs": [],
   "source": [
    "if sns_trk_compl_cmd:\n",
    "    sns_trk_compl_cmd.S_v.S = np.ones(6)\n",
    "    sns_trk_compl_cmd.S_F.S = np.zeros(6)"
   ]
  },
  {
   "cell_type": "code",
   "execution_count": null,
   "id": "4f28bbfb",
   "metadata": {},
   "outputs": [],
   "source": [
    "if sns_trk_compl_cmd:\n",
    "    sns_trk_compl_cmd.x_dot_des = np.zeros(6)\n",
    "    r = rospy.Rate(50)\n",
    "    for t in trange(200):\n",
    "        sns_trk_compl_cmd.x_dot_des[0] = 5e-3 * np.sin(t/ 100.0 * 2 * np.pi)\n",
    "        sns_trk_compl_cmd.x_dot_des[1] = 5e-3 * np.sin(t/ 100.0 * 2 * np.pi)\n",
    "        sns_trk_compl_cmd.update_cmd()\n",
    "        r.sleep() \n",
    "    sns_trk_compl_cmd.x_dot_des = np.zeros(6)\n",
    "    sns_trk_compl_cmd.update_cmd()"
   ]
  },
  {
   "cell_type": "markdown",
   "id": "3ef69025",
   "metadata": {},
   "source": [
    "#### Compliance Control\n",
    "\n",
    "The code below sets the robot compliant along translation with ${\\bf F}_\\mathrm{des} = \\mathbb{0}$"
   ]
  },
  {
   "cell_type": "code",
   "execution_count": null,
   "id": "90ffea9d",
   "metadata": {},
   "outputs": [],
   "source": [
    "if sns_trk_compl_cmd:\n",
    "    sns_trk_compl_cmd.S_v.S = np.zeros(6)\n",
    "    sns_trk_compl_cmd.x_dot_des = np.zeros(6)\n",
    "    sns_trk_compl_cmd.S_F.S = np.r_[np.ones(3), np.ones(3)]\n",
    "    sns_trk_compl_cmd.F_des = np.r_[np.zeros(2), 0.0, np.zeros(3)]\n",
    "    r = rospy.Rate(50)"
   ]
  },
  {
   "cell_type": "code",
   "execution_count": null,
   "id": "7d8b69f6",
   "metadata": {},
   "outputs": [],
   "source": [
    "if sns_trk_compl_cmd:\n",
    "    rospy.sleep(2.5)\n",
    "    for t in trange(400):\n",
    "        sns_trk_compl_cmd.update_cmd()\n",
    "        r.sleep() "
   ]
  },
  {
   "cell_type": "code",
   "execution_count": null,
   "id": "ff2507d7",
   "metadata": {},
   "outputs": [],
   "source": [
    "if sns_trk_compl_cmd:\n",
    "    sns_trk_compl_cmd.deactivate()"
   ]
  },
  {
   "cell_type": "markdown",
   "id": "714352ce",
   "metadata": {},
   "source": [
    "## Trajectory Control\n",
    "\n",
    "### Joint Trajectory Handler (```hrr_controllers.JointTrajectoryHandler```)"
   ]
  },
  {
   "cell_type": "code",
   "execution_count": 28,
   "id": "b6976699",
   "metadata": {},
   "outputs": [],
   "source": [
    "# rospy.set_param(\"~controller_manager_ns\", \"/hrr_cobot/controller_manager\")\n",
    "# rospy.set_param(\"~joint_trajectory_action_topic_name\", \"/hrr_cobot/joint_trajectory_handler/comau_joint_trajectory_handler\")\n",
    "# rospy.set_param(\"~joint_trajectory_handler_name\", \"joint_trajectory_handler\")\n",
    "jnt_traj_ctrl = hrr_controllers.JointTrajectoryHandler.from_ros(\"/hrr_cobot\")"
   ]
  },
  {
   "cell_type": "code",
   "execution_count": 29,
   "id": "0c1b2209",
   "metadata": {},
   "outputs": [],
   "source": [
    "jnt_traj_ctrl.activate()"
   ]
  },
  {
   "cell_type": "markdown",
   "id": "78d65b8a",
   "metadata": {},
   "source": [
    "### example trajectory\n",
    "\n",
    "1. generate a linear joint trajectory from the current joint positoin to the calibration pose\n",
    "2. generate trajectory goal and (optionally) print output to terminal\n",
    "3. plot trajectory"
   ]
  },
  {
   "cell_type": "code",
   "execution_count": 30,
   "id": "dea499e9",
   "metadata": {},
   "outputs": [
    {
     "data": {
      "text/plain": [
       "(array([ 0.    ,  0.    , -1.5708,  0.    ,  1.5708,  0.    ]),\n",
       " array([-0.29771,  0.01069, -1.56898,  0.0355 ,  1.59458,  0.02471]))"
      ]
     },
     "execution_count": 30,
     "metadata": {},
     "output_type": "execute_result"
    }
   ],
   "source": [
    "comau_status.q_calib, comau_status.q"
   ]
  },
  {
   "cell_type": "code",
   "execution_count": null,
   "id": "35ccdb95",
   "metadata": {},
   "outputs": [],
   "source": [
    "q_goal = comau_status.q_calib.copy()\n",
    "\n",
    "jnt_traj = jnt_traj_ctrl.linear_joint_interpolate(comau_status.q, q_goal, wps=10)\n",
    "qt = jnt_traj_ctrl.np2jointGoal(jnt_traj, False);\n",
    "plt.plot(jnt_traj)\n",
    "\n",
    "plt.legend([f'$q_{i}$' for i in range(1,7)]);\n",
    "qt"
   ]
  },
  {
   "cell_type": "code",
   "execution_count": null,
   "id": "ddfce5b0",
   "metadata": {},
   "outputs": [],
   "source": [
    "len(qt.trajectory)"
   ]
  },
  {
   "cell_type": "markdown",
   "id": "bbca1584",
   "metadata": {},
   "source": [
    "### Send trajectory to robot\n",
    "\n",
    "\n",
    "in order to send this to the robot, you can now either manually send the generated joint trajectory goal via\n",
    "\n",
    "```python\n",
    "jnt_traj_ctrl.command_joint_trajectory(jnt_traj)\n",
    "```\n",
    "\n",
    "or to include the steps from above directly\n",
    "\n",
    "```python\n",
    "q0, qdes = comau_status.q, comau_status.q_calib\n",
    "jnt_traj_ctrl.linear_joint_cmd(q0, q_des)\n",
    "```"
   ]
  },
  {
   "cell_type": "code",
   "execution_count": 35,
   "id": "aa65aa4b",
   "metadata": {},
   "outputs": [
    {
     "data": {
      "text/plain": [
       "array([ 1.22173,  0.     , -1.5708 ,  0.     ,  1.5708 ,  0.     ])"
      ]
     },
     "execution_count": 35,
     "metadata": {},
     "output_type": "execute_result"
    }
   ],
   "source": [
    "newgoal = comau_status.q_calib\n",
    "newgoal[0] = np.deg2rad(70)\n",
    "newgoal"
   ]
  },
  {
   "cell_type": "code",
   "execution_count": 36,
   "id": "2dd1e3e3",
   "metadata": {},
   "outputs": [],
   "source": [
    "jnt_traj_ctrl.linear_joint_cmd(comau_status.q, newgoal);"
   ]
  },
  {
   "cell_type": "code",
   "execution_count": 37,
   "id": "13fdfd62",
   "metadata": {},
   "outputs": [],
   "source": [
    "jnt_traj_ctrl._jnt_traj_client.cancel_all_goals()"
   ]
  },
  {
   "cell_type": "code",
   "execution_count": 38,
   "id": "9d4de4f4",
   "metadata": {},
   "outputs": [],
   "source": [
    "jnt_traj_ctrl.deactivate()"
   ]
  },
  {
   "cell_type": "code",
   "execution_count": null,
   "id": "245a8a49",
   "metadata": {},
   "outputs": [],
   "source": []
  }
 ],
 "metadata": {
  "kernelspec": {
   "display_name": "Python 3 (ipykernel)",
   "language": "python",
   "name": "python3"
  },
  "language_info": {
   "codemirror_mode": {
    "name": "ipython",
    "version": 3
   },
   "file_extension": ".py",
   "mimetype": "text/x-python",
   "name": "python",
   "nbconvert_exporter": "python",
   "pygments_lexer": "ipython3",
   "version": "3.8.12"
  },
  "latex_envs": {
   "LaTeX_envs_menu_present": true,
   "autoclose": false,
   "autocomplete": true,
   "bibliofile": "biblio.bib",
   "cite_by": "apalike",
   "current_citInitial": 1,
   "eqLabelWithNumbers": true,
   "eqNumInitial": 1,
   "hotkeys": {
    "equation": "Ctrl-E",
    "itemize": "Ctrl-I"
   },
   "labels_anchors": false,
   "latex_user_defs": false,
   "report_style_numbering": false,
   "user_envs_cfg": false
  },
  "toc": {
   "base_numbering": 1,
   "nav_menu": {},
   "number_sections": true,
   "sideBar": true,
   "skip_h1_title": false,
   "title_cell": "Table of Contents",
   "title_sidebar": "Contents",
   "toc_cell": false,
   "toc_position": {
    "height": "calc(100% - 180px)",
    "left": "10px",
    "top": "150px",
    "width": "384px"
   },
   "toc_section_display": true,
   "toc_window_display": true
  },
  "varInspector": {
   "cols": {
    "lenName": 16,
    "lenType": 16,
    "lenVar": 40
   },
   "kernels_config": {
    "python": {
     "delete_cmd_postfix": "",
     "delete_cmd_prefix": "del ",
     "library": "var_list.py",
     "varRefreshCmd": "print(var_dic_list())"
    },
    "r": {
     "delete_cmd_postfix": ") ",
     "delete_cmd_prefix": "rm(",
     "library": "var_list.r",
     "varRefreshCmd": "cat(var_dic_list()) "
    }
   },
   "types_to_exclude": [
    "module",
    "function",
    "builtin_function_or_method",
    "instance",
    "_Feature"
   ],
   "window_display": false
  }
 },
 "nbformat": 4,
 "nbformat_minor": 5
}
