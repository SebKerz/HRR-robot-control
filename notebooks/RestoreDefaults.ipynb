{
 "cells": [
  {
   "cell_type": "markdown",
   "id": "70703e35-eb57-4361-ae9e-01562e692744",
   "metadata": {},
   "source": [
    "# Repair Calibration routine and default settings for new robot\n",
    "\n",
    "Repairment work to establish normal behavior after installation of new screwdriver and tool-changer"
   ]
  },
  {
   "cell_type": "code",
   "execution_count": 1,
   "id": "3222a4d4-b150-469a-8bd6-79cf2fda26ac",
   "metadata": {},
   "outputs": [],
   "source": [
    "# packages needed for this tutorial\n",
    "from pathlib import Path\n",
    "\n",
    "# math and robotics\n",
    "import numpy as np\n",
    "import spatialmath as sm\n",
    "import quaternion\n",
    "from tqdm.notebook import tqdm, trange\n",
    "\n",
    "# plotting \n",
    "import seaborn as sns\n",
    "import matplotlib as mpl\n",
    "import matplotlib.pylab as plt\n",
    "\n",
    "# simulated robot content and helpers\n",
    "import hrr_common as hrr_cm\n",
    "import hrr_cobot_robot as hrr_rob\n",
    "\n",
    "# ROS\n",
    "import rospy\n",
    "\n",
    "# set printing and plotting options    \n",
    "np.set_printoptions(precision=5, suppress=True)\n",
    "sns.set_theme('notebook')\n",
    "%matplotlib notebook"
   ]
  },
  {
   "cell_type": "code",
   "execution_count": null,
   "id": "5246b401-b8a6-4d55-8e55-3a7844dafbd4",
   "metadata": {},
   "outputs": [],
   "source": [
    "%config Completer.use_jedi = False\n",
    "def get_hostname_and_IP():\n",
    "    import socket\n",
    "    with socket.socket(socket.AF_INET, socket.SOCK_DGRAM) as s:\n",
    "        s.connect((\"8.8.8.8\", 80))\n",
    "        return socket.gethostname(), s.getsockname()[0]\n",
    "\n",
    "_host, _ip = get_hostname_and_IP()\n",
    "%env ROS_MASTER_URI=http://localhost:11311\n",
    "print(f\"\\t\\033[1m\\033[4m!!!please check that the IPs below is identical!!!\\033[0m\"+\n",
    "      f\"\\n\\thost {_host} has IP {_ip}, which should be identical to\",end=\"\\nvs:\\t\")\n",
    "%env ROS_IP=$_ip"
   ]
  },
  {
   "cell_type": "code",
   "execution_count": 3,
   "id": "2f22a989-146b-464a-8725-28e56c5e9cfb",
   "metadata": {},
   "outputs": [],
   "source": [
    "rospy.init_node('restore_old_behavior')"
   ]
  },
  {
   "cell_type": "code",
   "execution_count": 4,
   "id": "cd784550-ac59-45e0-b27f-66a7214bf182",
   "metadata": {},
   "outputs": [],
   "source": [
    "cobot = hrr_rob.HrrCobotControl.from_ros(prefix=\"/hrr_cobot/\")"
   ]
  },
  {
   "cell_type": "code",
   "execution_count": null,
   "id": "5543ffc7",
   "metadata": {},
   "outputs": [],
   "source": [
    "print(cobot)"
   ]
  },
  {
   "cell_type": "code",
   "execution_count": 6,
   "id": "05849ea0",
   "metadata": {},
   "outputs": [],
   "source": [
    "from hrr_cobot_robot import static_scene\n",
    "scene = static_scene.PoseDataBase()\n",
    "scene.load_tool_poses()"
   ]
  },
  {
   "cell_type": "code",
   "execution_count": null,
   "id": "d926e894",
   "metadata": {},
   "outputs": [],
   "source": [
    "tmp = sm.SE3(np.load('./rack_positions/1_pickup_A.npy'))\n",
    "q_test = np.load('./rack_positions/1_pickup_q.npy')\n",
    "scene.legal_tool_changer_pose(cobot.T_B_E_robot),\\\n",
    "scene.legal_tool_changer_pose(tmp)"
   ]
  },
  {
   "cell_type": "markdown",
   "id": "a9440893-536b-4351-a2a2-730f5eaa8567",
   "metadata": {},
   "source": [
    "## check FK data"
   ]
  },
  {
   "cell_type": "code",
   "execution_count": 8,
   "id": "d9e80cbf-18b6-48ea-a41f-a48858734c4d",
   "metadata": {},
   "outputs": [
    {
     "data": {
      "text/plain": [
       "  \u001b[38;5;1m 0.9986  \u001b[0m \u001b[38;5;1m 0.05174 \u001b[0m \u001b[38;5;1m-0.009876\u001b[0m \u001b[38;5;4m-0.1832  \u001b[0m  \u001b[0m\n",
       "  \u001b[38;5;1m-0.008282\u001b[0m \u001b[38;5;1m-0.03094 \u001b[0m \u001b[38;5;1m-0.9995  \u001b[0m \u001b[38;5;4m-0.2452  \u001b[0m  \u001b[0m\n",
       "  \u001b[38;5;1m-0.05202 \u001b[0m \u001b[38;5;1m 0.9982  \u001b[0m \u001b[38;5;1m-0.03046 \u001b[0m \u001b[38;5;4m 0.6006  \u001b[0m  \u001b[0m\n",
       "  \u001b[38;5;244m 0       \u001b[0m \u001b[38;5;244m 0       \u001b[0m \u001b[38;5;244m 0       \u001b[0m \u001b[38;5;244m 1       \u001b[0m  \u001b[0m\n"
      ]
     },
     "execution_count": 8,
     "metadata": {},
     "output_type": "execute_result"
    }
   ],
   "source": [
    "cobot.T_B_E_robot"
   ]
  },
  {
   "cell_type": "code",
   "execution_count": 9,
   "id": "00f6895b-fd06-4410-8fdb-4223117bc92f",
   "metadata": {},
   "outputs": [
    {
     "data": {
      "text/plain": [
       "  \u001b[38;5;1m 0.9986  \u001b[0m \u001b[38;5;1m 0.05174 \u001b[0m \u001b[38;5;1m-0.009876\u001b[0m \u001b[38;5;4m-0.1832  \u001b[0m  \u001b[0m\n",
       "  \u001b[38;5;1m-0.008282\u001b[0m \u001b[38;5;1m-0.03094 \u001b[0m \u001b[38;5;1m-0.9995  \u001b[0m \u001b[38;5;4m-0.2452  \u001b[0m  \u001b[0m\n",
       "  \u001b[38;5;1m-0.05202 \u001b[0m \u001b[38;5;1m 0.9982  \u001b[0m \u001b[38;5;1m-0.03046 \u001b[0m \u001b[38;5;4m 0.6006  \u001b[0m  \u001b[0m\n",
       "  \u001b[38;5;244m 0       \u001b[0m \u001b[38;5;244m 0       \u001b[0m \u001b[38;5;244m 0       \u001b[0m \u001b[38;5;244m 1       \u001b[0m  \u001b[0m\n"
      ]
     },
     "execution_count": 9,
     "metadata": {},
     "output_type": "execute_result"
    }
   ],
   "source": [
    "cobot.T_B_C_robot"
   ]
  },
  {
   "cell_type": "markdown",
   "id": "a81ecd80-f749-46e2-a17c-f277a6d65073",
   "metadata": {},
   "source": [
    "## check commands"
   ]
  },
  {
   "cell_type": "code",
   "execution_count": 7,
   "id": "85f82332-6c4b-44b3-a8e2-d6538240c20a",
   "metadata": {},
   "outputs": [],
   "source": [
    "cobot.init_sns_vel()"
   ]
  },
  {
   "cell_type": "code",
   "execution_count": null,
   "id": "7ee7db08-fd87-4f2d-af24-0fb28bd3a67c",
   "metadata": {},
   "outputs": [],
   "source": [
    "v_test = np.zeros(6)\n",
    "for t in trange(200):\n",
    "    v_test[2] = 1e-2 * np.sin(t/ 200.0 * 2 * np.pi)\n",
    "    cobot.update(u_cmd=v_test, u_cmd_frame=\"screwdriver_tip\", sleep=True)\n",
    "cobot.stop()"
   ]
  },
  {
   "cell_type": "code",
   "execution_count": null,
   "id": "110e989e-c2d4-4c90-a7f2-a7486febc36c",
   "metadata": {},
   "outputs": [],
   "source": [
    "v_test = np.zeros(6)\n",
    "for t in trange(1000):\n",
    "#     v_test[3] = 5e-2\n",
    "    v_test[2] = 1e-3\n",
    "    v_test[3] = 3e-3\n",
    "    v_test[4] = -3e-3\n",
    "    v_test[5] = 0.0\n",
    "    \n",
    "    cobot.update(u_cmd=v_test, u_cmd_frame=\"screwdriver_tip\", sleep=True)\n",
    "cobot.stop()"
   ]
  },
  {
   "cell_type": "code",
   "execution_count": null,
   "id": "1b482607-661b-4f3e-a9b5-86e6aa27502c",
   "metadata": {},
   "outputs": [],
   "source": [
    "cobot.T_B_E_robot"
   ]
  },
  {
   "cell_type": "code",
   "execution_count": null,
   "id": "226faf70-0d55-4f2b-832e-c8ee3e0c9729",
   "metadata": {},
   "outputs": [],
   "source": [
    "cobot.set_EE_FT_transform()"
   ]
  },
  {
   "cell_type": "code",
   "execution_count": null,
   "id": "f445635e",
   "metadata": {},
   "outputs": [],
   "source": [
    "R_FT_E = cobot.R_FT_E"
   ]
  },
  {
   "cell_type": "code",
   "execution_count": 16,
   "id": "9e22f0f4",
   "metadata": {},
   "outputs": [
    {
     "data": {
      "text/plain": [
       "  \u001b[38;5;1m 0       \u001b[0m \u001b[38;5;1m 1       \u001b[0m \u001b[38;5;1m 0       \u001b[0m \u001b[38;5;4m 0       \u001b[0m  \u001b[0m\n",
       "  \u001b[38;5;1m 1       \u001b[0m \u001b[38;5;1m 0       \u001b[0m \u001b[38;5;1m 0       \u001b[0m \u001b[38;5;4m-0.4359  \u001b[0m  \u001b[0m\n",
       "  \u001b[38;5;1m 0       \u001b[0m \u001b[38;5;1m 0       \u001b[0m \u001b[38;5;1m-1       \u001b[0m \u001b[38;5;4m 0.705   \u001b[0m  \u001b[0m\n",
       "  \u001b[38;5;244m 0       \u001b[0m \u001b[38;5;244m 0       \u001b[0m \u001b[38;5;244m 0       \u001b[0m \u001b[38;5;244m 1       \u001b[0m  \u001b[0m\n"
      ]
     },
     "execution_count": 16,
     "metadata": {},
     "output_type": "execute_result"
    }
   ],
   "source": [
    "q_test = cobot.q_calib.copy()\n",
    "q_test[0] = np.pi/2.0\n",
    "cobot.FK(q_test)"
   ]
  },
  {
   "cell_type": "code",
   "execution_count": 13,
   "id": "6723c4ca",
   "metadata": {},
   "outputs": [
    {
     "name": "stdout",
     "output_type": "stream",
     "text": [
      "[INFO]reached desired goal-pose:\n",
      "  \u001b[38;5;1m-1       \u001b[0m \u001b[38;5;1m 0       \u001b[0m \u001b[38;5;1m 0       \u001b[0m \u001b[38;5;4m 0.4359  \u001b[0m  \u001b[0m\n",
      "  \u001b[38;5;1m 0       \u001b[0m \u001b[38;5;1m 1       \u001b[0m \u001b[38;5;1m 0       \u001b[0m \u001b[38;5;4m 0       \u001b[0m  \u001b[0m\n",
      "  \u001b[38;5;1m 0       \u001b[0m \u001b[38;5;1m 0       \u001b[0m \u001b[38;5;1m-1       \u001b[0m \u001b[38;5;4m 0.705   \u001b[0m  \u001b[0m\n",
      "  \u001b[38;5;244m 0       \u001b[0m \u001b[38;5;244m 0       \u001b[0m \u001b[38;5;244m 0       \u001b[0m \u001b[38;5;244m 1       \u001b[0m  \u001b[0m\n",
      "\n"
     ]
    }
   ],
   "source": [
    "cobot.goTo(cobot.FK(cobot.q_calib))"
   ]
  },
  {
   "cell_type": "markdown",
   "id": "e37fd62f-3e2c-4ca2-afb3-a836f72e70d7",
   "metadata": {},
   "source": [
    "## Run calibration routine \n",
    "\n",
    "Due to missing collision checking / utilities, we need to run the calibration routine slowly and with care!"
   ]
  },
  {
   "cell_type": "code",
   "execution_count": 14,
   "id": "a21c5c5e-3b6d-454c-a0f5-04882c8a7f24",
   "metadata": {},
   "outputs": [],
   "source": [
    "data = cobot.collect_calibration_data(gains=(0.5, 0.5, 1.0), v=0.2, N=250)"
   ]
  },
  {
   "cell_type": "code",
   "execution_count": 20,
   "id": "b5bd2d54",
   "metadata": {},
   "outputs": [],
   "source": [
    "np.save('test_recording', data)"
   ]
  },
  {
   "cell_type": "code",
   "execution_count": 21,
   "id": "dffa4604",
   "metadata": {},
   "outputs": [],
   "source": [
    "data = np.load('test_recording.npy', allow_pickle=True)"
   ]
  },
  {
   "cell_type": "code",
   "execution_count": 22,
   "id": "ed3dbaf3",
   "metadata": {},
   "outputs": [
    {
     "data": {
      "text/plain": [
       "(array([[-0.70711, -0.70711,  0.     ],\n",
       "        [ 0.70711, -0.70711,  0.00009],\n",
       "        [-0.00006,  0.00006,  1.     ]]),\n",
       " array([[-0.70711, -0.70711,  0.     ],\n",
       "        [ 0.70711, -0.70711,  0.     ],\n",
       "        [ 0.     ,  0.     ,  1.     ]]))"
      ]
     },
     "execution_count": 22,
     "metadata": {},
     "output_type": "execute_result"
    }
   ],
   "source": [
    "cobot.R_FT_E, sm.base.rotz(135,\"deg\")"
   ]
  },
  {
   "cell_type": "code",
   "execution_count": null,
   "id": "7fa34b17",
   "metadata": {
    "scrolled": true
   },
   "outputs": [],
   "source": [
    "cobot._ft_handle.set_offset(*hrr_rob.ros_interfaces.freespace_offset_regression(data, cobot.R_FT_E, plot=True, call_plot=True))"
   ]
  },
  {
   "cell_type": "code",
   "execution_count": 18,
   "id": "a73bd893",
   "metadata": {},
   "outputs": [
    {
     "data": {
      "text/plain": [
       "array([ 0.,  0., -0.,  0.,  0., -0.])"
      ]
     },
     "execution_count": 18,
     "metadata": {},
     "output_type": "execute_result"
    }
   ],
   "source": [
    "cobot.update()\n",
    "cobot.B_F_msr"
   ]
  },
  {
   "cell_type": "code",
   "execution_count": null,
   "id": "90aac3a9",
   "metadata": {},
   "outputs": [],
   "source": [
    "cobot.set_compliant(np.ones(6), K_t=8e-4, K_f=5e-4)"
   ]
  },
  {
   "cell_type": "code",
   "execution_count": null,
   "id": "2811f1c3",
   "metadata": {},
   "outputs": [],
   "source": [
    "cobot._ft_handle.offset"
   ]
  },
  {
   "cell_type": "markdown",
   "id": "5b3cb512",
   "metadata": {},
   "source": [
    "## Test screw position data from vision\n",
    "\n",
    "### Generate dummy offline data from rosbag\n",
    "\n",
    "\n",
    "generate data array from ROS-bag. Start\n",
    "\n",
    "```bash\n",
    "roscd hrr_cobot\n",
    "cd ../data\n",
    "rosbag play -l screws.bag\n",
    "```\n",
    "\n",
    "check for ros-topic\n",
    "\n",
    "```ipython\n",
    "!rostopic list | grep normal\n",
    "```\n",
    "\n",
    "then subscribe to topic via \n",
    "\n",
    "```python\n",
    "from hrr_common import PoseArrayData\n",
    "screws = PoseArrayData(\"/normals_world_frame\")\n",
    "```\n",
    "\n",
    "and save data (exclude positions below 40 cm as they are definitely not on the microwave)\n",
    "\n",
    "```python\n",
    "np.save('../data/screws/p_sample', screws.positions[screws.positions[..., 2] > 0.4])\n",
    "np.save('../data/screws/q_sample', screws.quaternions[screws.positions[..., 2] > 0.4])\n",
    "np.save('../data/screws/R_sample', screws.R_batch[screws.positions[..., 2] > 0.4])\n",
    "```"
   ]
  },
  {
   "cell_type": "markdown",
   "id": "ef2ea347",
   "metadata": {},
   "source": [
    "## Check for Aruco-Marker (world) -> base link transformation\n",
    "\n",
    "due to missing collision-checking with screwdriver we drive robot manually close to goal destination\n",
    "\n",
    "> **WARNING**: The definition of `normals` is currently unclear. The data from CERTH expresses normals as inverted surface normals, thus rather the approaching vector. When testing the data, please set the flag below accordingly."
   ]
  },
  {
   "cell_type": "code",
   "execution_count": null,
   "id": "de2fade5",
   "metadata": {},
   "outputs": [],
   "source": [
    "p_samples = np.load('../data/screws/p_sample.npy')\n",
    "q_samples = np.load('../data/screws/q_sample.npy')\n",
    "R_samples = np.load('../data/screws/R_sample.npy')"
   ]
  },
  {
   "cell_type": "markdown",
   "id": "75103deb-1df1-457f-b801-90372cd3496c",
   "metadata": {},
   "source": [
    "### Record robot data from screwdriver in compliance mode\n",
    "\n",
    "set cobot to compliant and save data\n",
    "\n",
    "```python\n",
    "R = RecordData()\n",
    "```\n",
    "\n",
    "run as often as needed (once per screw) -> lead to screw head and hold robot at pose\n",
    "\n",
    "```python\n",
    "# rospy.sleep(3.0)\n",
    "for i in trange(1500): \n",
    "    cobot.update()\n",
    "```\n",
    "\n",
    "save current state\n",
    "\n",
    "```python\n",
    "R.save_current()\n",
    "```\n",
    "\n",
    "once we are done with recording, we finally save the data \n",
    "\n",
    "```python\n",
    "R.save()\n",
    "```"
   ]
  },
  {
   "cell_type": "code",
   "execution_count": null,
   "id": "5d828df9-ed08-4cc0-8bf4-67fb664f5d13",
   "metadata": {},
   "outputs": [],
   "source": [
    "class RecordData:\n",
    "    \n",
    "    def __init__(self):\n",
    "        self.q_record = []\n",
    "        self.T_B_E_record = []\n",
    "        self.T_B_C_record = []\n",
    "        \n",
    "    def save_current(self):\n",
    "        self.q_record.append(cobot.q.copy())\n",
    "        self.T_B_E_record.append(cobot.T_B_E_robot)\n",
    "        self.T_B_C_record.append(cobot.T_B_C_robot)\n",
    "        \n",
    "    def save(self, file_dir=Path(\"../data/screws/\")):\n",
    "        def _secure_save(f, d):\n",
    "            path = file_dir / f\"{f}.npy\"\n",
    "            if not path.exists():\n",
    "                np.save(path, d)\n",
    "            else:\n",
    "                print(f'skip existing {path}')\n",
    "        _secure_save(\"q_record\", np.array(self.q_record))\n",
    "        _secure_save(\"T_B_E_record\", np.array([x.A for x in self.T_B_E_record]))\n",
    "        _secure_save(\"T_B_C_record\", np.array([x.A for x in self.T_B_C_record]))\n"
   ]
  },
  {
   "cell_type": "markdown",
   "id": "1c87d3f2-4fde-43ed-a0a3-fe4de9df15d7",
   "metadata": {},
   "source": [
    "### compare with original data"
   ]
  },
  {
   "cell_type": "code",
   "execution_count": null,
   "id": "16d8b8e5-ce07-474c-bfb8-cd8f43d1a438",
   "metadata": {},
   "outputs": [],
   "source": [
    "p_samples = np.load('../data/screws/p_sample.npy')\n",
    "T_B_C_record = np.load('../data/screws/T_B_C_record.npy')\n",
    "\n",
    "fig = plt.figure()\n",
    "ax_v = plt.subplot(3, 1, 1)\n",
    "ax_v.set_title('vision data')\n",
    "ax_r = plt.subplot(3, 1, 2)\n",
    "ax_r.set_title('robot recordings')\n",
    "ax_vr = plt.subplot(3, 1, 3)\n",
    "ax_vr.set_title('both with offset')\n",
    "\n",
    "ax_v.scatter(p_samples[:, 1], p_samples[:, 0], c=p_samples[:, 2])\n",
    "ax_v.set_xlabel(\"${}^{w}y$\");\n",
    "ax_v.set_ylabel(\"${}^{w}x$\");\n",
    "\n",
    "ax_r.scatter(T_B_C_record[:, 1, 3], T_B_C_record[:, 0, 3], c=T_B_C_record[:, 2, 3])\n",
    "ax_r.set_xlabel(\"${}^{B}y_{r}$\");\n",
    "ax_r.set_ylabel(\"${}^{B}x_{r}$\");\n",
    "\n",
    "simple_offset = T_B_C_record[-1, :3, 3] - p_samples[3]\n",
    "tmp = p_samples + simple_offset\n",
    "ax_vr.scatter(tmp[:, 1], tmp[:, 0], c=tmp[:, 2])\n",
    "ax_vr.scatter(T_B_C_record[:, 1, 3], T_B_C_record[:, 0, 3], c=T_B_C_record[:, 2, 3], marker='x', s=55.0)\n",
    "ax_vr.set_xlabel(\"${}^{B}y_{r}$\");\n",
    "ax_vr.set_ylabel(\"${}^{B}x_{r}$\");\n",
    "ax_vr.set_xlim(0.35, 0.65)\n",
    "ax_vr.set_ylim(0.3, 0.8)\n",
    "plt.subplots_adjust(wspace=0.7, hspace=1.0)"
   ]
  }
 ],
 "metadata": {
  "kernelspec": {
   "display_name": "Python 3 (ipykernel)",
   "language": "python",
   "name": "python3"
  },
  "language_info": {
   "codemirror_mode": {
    "name": "ipython",
    "version": 3
   },
   "file_extension": ".py",
   "mimetype": "text/x-python",
   "name": "python",
   "nbconvert_exporter": "python",
   "pygments_lexer": "ipython3",
   "version": "3.8.12"
  },
  "latex_envs": {
   "LaTeX_envs_menu_present": true,
   "autoclose": false,
   "autocomplete": true,
   "bibliofile": "biblio.bib",
   "cite_by": "apalike",
   "current_citInitial": 1,
   "eqLabelWithNumbers": true,
   "eqNumInitial": 1,
   "hotkeys": {
    "equation": "Ctrl-E",
    "itemize": "Ctrl-I"
   },
   "labels_anchors": false,
   "latex_user_defs": false,
   "report_style_numbering": false,
   "user_envs_cfg": false
  },
  "toc": {
   "base_numbering": 1,
   "nav_menu": {},
   "number_sections": true,
   "sideBar": true,
   "skip_h1_title": false,
   "title_cell": "Table of Contents",
   "title_sidebar": "Contents",
   "toc_cell": false,
   "toc_position": {},
   "toc_section_display": true,
   "toc_window_display": false
  },
  "varInspector": {
   "cols": {
    "lenName": 16,
    "lenType": 16,
    "lenVar": 40
   },
   "kernels_config": {
    "python": {
     "delete_cmd_postfix": "",
     "delete_cmd_prefix": "del ",
     "library": "var_list.py",
     "varRefreshCmd": "print(var_dic_list())"
    },
    "r": {
     "delete_cmd_postfix": ") ",
     "delete_cmd_prefix": "rm(",
     "library": "var_list.r",
     "varRefreshCmd": "cat(var_dic_list()) "
    }
   },
   "types_to_exclude": [
    "module",
    "function",
    "builtin_function_or_method",
    "instance",
    "_Feature"
   ],
   "window_display": false
  }
 },
 "nbformat": 4,
 "nbformat_minor": 5
}
