{
 "cells": [
  {
   "cell_type": "code",
   "execution_count": 11,
   "id": "467156b0",
   "metadata": {},
   "outputs": [],
   "source": [
    "import numpy as np\n",
    "import quaternion\n",
    "import spatialmath as sm\n",
    "import yaml\n",
    "\n",
    "import rospy\n",
    "from geometry_msgs.msg import Vector3Stamped\n",
    "from hr_recycler_msgs.msg import ToolType\n",
    "import hrr_cobot_robot\n",
    "import hrr_common\n",
    "\n",
    "import sim_robots"
   ]
  },
  {
   "cell_type": "markdown",
   "id": "c6c6024f",
   "metadata": {},
   "source": [
    "## Evaluate Poses against reachability\n",
    "\n",
    "Use `sim_robots` package when ROS is not available.\n",
    "\n",
    "### Preliminaries\n",
    "\n",
    "* the `md` handle is packed in hrr_cobot_robot.HrrCobotControl, usually `cobot`, via the `get_model()` function\n",
    "* the `forward_kin()` functoin is identical to `cobot.FK()`\n",
    "* the `IK()` function is identical to `cobot.IK()`\n",
    "* the calculation uses `numba` and takes quite some time to load and compile all functions on first call, i.e. every time the `md` handle is created / instantiated.\n",
    "* the `IK()` resolves **EE-poses** not **TCP-poses**\n",
    "* the `legal_joint_config` function is copied from `hrr_cobot_contorl.py`\n",
    "\n",
    "Thus the `DummyCobot` can be used as a replacement of the actual cobot handle."
   ]
  },
  {
   "cell_type": "code",
   "execution_count": 2,
   "id": "f3bd2f63",
   "metadata": {},
   "outputs": [],
   "source": [
    "cobot_version = ToolType.SHAFT_GRINDER"
   ]
  },
  {
   "cell_type": "code",
   "execution_count": 3,
   "id": "044ee942",
   "metadata": {},
   "outputs": [],
   "source": [
    "if cobot_version > 0:\n",
    "    urdf = sim_robots.get_racer_path() / f'hrr_cobot.t{cobot_version}.urdf'\n",
    "    xml = sim_robots.get_racer_path() / f'hrr_cobot.t{cobot_version}.xml'\n",
    "else:\n",
    "    urdf = sim_robots.get_racer_path() / f'hrr_cobot.urdf'\n",
    "    xml = sim_robotsget_racer_path() / f'hrr_simple.xml'"
   ]
  },
  {
   "cell_type": "code",
   "execution_count": null,
   "id": "4f79347a",
   "metadata": {},
   "outputs": [],
   "source": [
    "md = sim_robots.SymbolicRacerCobot.from_urdf(urdf)"
   ]
  },
  {
   "cell_type": "code",
   "execution_count": null,
   "id": "5b5923b4",
   "metadata": {},
   "outputs": [],
   "source": [
    "md.IK(md.forward_kin(md.sample_q()))"
   ]
  },
  {
   "cell_type": "code",
   "execution_count": null,
   "id": "78f2bd1b",
   "metadata": {},
   "outputs": [],
   "source": [
    "class DummyCobot:\n",
    "    \n",
    "    def __init__(self, md):\n",
    "        self._md = md\n",
    "        self.q = np.zeros(6)\n",
    "        # adjust to current setting\n",
    "        self._joint_limits_soft_dist = np.r_[0.05 * np.ones(4), 0.22, 0.1]\n",
    "        self._joint_limits_hard_dist = np.r_[0.01 * np.ones(4), 0.1, 0.01]\n",
    "    \n",
    "    def IK(self, *a, **kw):\n",
    "        return self._md.IK(*a, **kw)\n",
    "    \n",
    "    def FK(self, *a, **kw):\n",
    "        return self._md.forward_kin(*a, **kw)\n",
    "    \n",
    "    @property\n",
    "    def joint_limits(self):\n",
    "        return self._md.joint_limits\n",
    "    \n",
    "    def is_reachable(self, T_B_E_des, check_closest_only=False, validate_closest=False, log=True):\n",
    "        try:\n",
    "            q_ik = self.IK(T_B_E_des)\n",
    "            q_ik = q_ik[np.argsort(np.linalg.norm(q_ik - self.q, axis=1))]\n",
    "            lb_check = q_ik >= (cobot.joint_limits[:,0] + cobot._joint_limits_hard_dist)\n",
    "            ub_check = q_ik <= (cobot.joint_limits[:,1] - cobot._joint_limits_hard_dist)\n",
    "            valid = np.logical_and(lb_check, ub_check)\n",
    "            if np.all(valid):\n",
    "                return True\n",
    "            res = np.any(np.all(valid, axis=1))\n",
    "            if not res:\n",
    "                return res\n",
    "            if check_closest_only:\n",
    "                return np.all(valid[0,:])\n",
    "            jnts = [q_i + 1 for q_i in np.where(np.any(~valid, axis=0))[0]]\n",
    "            rospy.logwarn(f\"IK contains invalid configurations for joint(s): {jnts}\")\n",
    "            return res\n",
    "        except (IndexError, ValueError):\n",
    "            rospy.logerr(f'no solution found for pose:\\n{T_B_E_des}')\n",
    "            return False\n",
    "    \n",
    "cobot = DummyCobot(md)"
   ]
  },
  {
   "cell_type": "markdown",
   "id": "37189aea",
   "metadata": {},
   "source": [
    "## usage examples"
   ]
  },
  {
   "cell_type": "code",
   "execution_count": null,
   "id": "2ad5e0b5",
   "metadata": {},
   "outputs": [],
   "source": [
    "T_legal = cobot.FK(md.sample_q())\n",
    "cobot.is_reachable(T_legal)"
   ]
  },
  {
   "cell_type": "code",
   "execution_count": null,
   "id": "d0257b9a",
   "metadata": {},
   "outputs": [],
   "source": [
    "T_illegal = sm.SE3(0, 0, 1.5) @ T_legal\n",
    "cobot.is_reachable(T_illegal)"
   ]
  },
  {
   "cell_type": "markdown",
   "id": "6a683dee",
   "metadata": {},
   "source": [
    "## Evaluations"
   ]
  },
  {
   "cell_type": "markdown",
   "id": "6b225f91",
   "metadata": {},
   "source": [
    "### Check joint setting from panel"
   ]
  },
  {
   "cell_type": "code",
   "execution_count": null,
   "id": "0f3a0278",
   "metadata": {},
   "outputs": [],
   "source": [
    "qs = [\n",
    "    np.deg2rad(np.array([-75.174, -10.239, -144.15, 165.88, 50.026, -86.01])),\n",
    "    np.deg2rad(np.array([-17.647, -10.247, -150., 165.875, 50.025, -86.007])),\n",
    "    np.deg2rad(np.array([-42.888, 3.350, -94.271, 97.524, 99.807, 0.539])), \n",
    "    np.deg2rad(np.array([-42.888, 3.350, -94.271, 97.524, 125.807, 0.539])),\n",
    "    np.deg2rad(np.array([-59.125, 34.703, -103.347, -54.237, -63.839, 118.01])),\n",
    "    np.r_[0.555,  1.14,  -0.946, -1.343,  2.033, -3.367]\n",
    "]"
   ]
  },
  {
   "cell_type": "code",
   "execution_count": null,
   "id": "126e85fa",
   "metadata": {},
   "outputs": [],
   "source": [
    "dq = cobot2.joint_limit_distance()\n",
    "cobot2.joint_limit_avoidance_needed(d_limit=cobot._joint_limits_hard_dist, dq=dq) "
   ]
  },
  {
   "cell_type": "code",
   "execution_count": null,
   "id": "f5fbda22",
   "metadata": {},
   "outputs": [],
   "source": [
    "cobot.q = np.zeros(6)\n",
    "[cobot2.is_reachable(cobot.FK(q), log=False) for q in qs]"
   ]
  },
  {
   "cell_type": "markdown",
   "id": "96bbae40",
   "metadata": {},
   "source": [
    "## Check with real robot"
   ]
  },
  {
   "cell_type": "code",
   "execution_count": 4,
   "id": "4e014b51",
   "metadata": {},
   "outputs": [
    {
     "name": "stdout",
     "output_type": "stream",
     "text": [
      "current hostname:\tpizza\n",
      "current IP:      \t129.187.147.180\n",
      "ROS-MASTER-URI:  \thttp://hrrcobotLinux54:11311\n"
     ]
    }
   ],
   "source": [
    "hrr_common.set_ros_environment(\"hrrcobotLinux54\")"
   ]
  },
  {
   "cell_type": "code",
   "execution_count": 5,
   "id": "7aa6d042",
   "metadata": {},
   "outputs": [],
   "source": [
    "rospy.init_node(\"test_real\")"
   ]
  },
  {
   "cell_type": "code",
   "execution_count": 6,
   "id": "4d42e855",
   "metadata": {},
   "outputs": [
    {
     "name": "stderr",
     "output_type": "stream",
     "text": [
      "[ERROR] [1647466437.076599]: source directory of motion planner /home/hrr_cobot/_ros/hr_recycler_ws/src/planner/src does not exist\n"
     ]
    },
    {
     "name": "stdout",
     "output_type": "stream",
     "text": [
      "[INFO] [1647466444.709016]: some functions are not yet compiled. Expect delays upon first call\n"
     ]
    }
   ],
   "source": [
    "cobot2 = hrr_cobot_robot.HrrCobotControl.from_ros(cobot_prefix=\"/hrr_cobot\")"
   ]
  },
  {
   "cell_type": "code",
   "execution_count": null,
   "id": "1e6bc658",
   "metadata": {},
   "outputs": [],
   "source": [
    "## Check poses\n",
    "\n",
    "poses = []\n",
    "\n",
    "def vecst_dict_to_np(yaml_dict):\n",
    "    v = yaml_dict['vector']\n",
    "    return np.r_[v['x'], v['y'], v['z']]\n",
    "    \n",
    "msg_1 = yaml.safe_load('''\n",
    "start_location:\n",
    "  header:\n",
    "    seq: 0\n",
    "    stamp:\n",
    "      secs: 1647355702\n",
    "      nsecs: 952467918\n",
    "    frame_id: \"base_link\"\n",
    "  vector:\n",
    "    x: 0.403009518832\n",
    "    y: 0.0310273300235\n",
    "    z: 0.0181086506694\n",
    "end_location:\n",
    "  header:\n",
    "    seq: 0\n",
    "    stamp:\n",
    "      secs: 1647355702\n",
    "      nsecs: 953128099\n",
    "    frame_id: \"base_link\"\n",
    "  vector:\n",
    "    x: 0.404239246231\n",
    "    y: 0.0627181001677\n",
    "    z: 0.0215861446855\n",
    "''')\n",
    "\n",
    "msg_2 = yaml.safe_load('''\n",
    "start_location:\n",
    "  header:\n",
    "    seq: 0\n",
    "    stamp:\n",
    "      secs: 1647367359\n",
    "      nsecs: 837783098\n",
    "    frame_id: \"base_link\"\n",
    "  vector:\n",
    "    x: 0.516543880922\n",
    "    y: 0.151079536263\n",
    "    z: 0.03\n",
    "end_location:\n",
    "  header:\n",
    "    seq: 0\n",
    "    stamp:\n",
    "      secs: 1647367359\n",
    "      nsecs: 838419914\n",
    "    frame_id: \"base_link\"\n",
    "  vector:\n",
    "    x: 0.516755472499\n",
    "    y: 0.192494410614\n",
    "    z: 0.03\n",
    "''')                       "
   ]
  },
  {
   "cell_type": "code",
   "execution_count": null,
   "id": "e4be2b5d",
   "metadata": {},
   "outputs": [],
   "source": [
    "def test_msg_and_key(msg, key):\n",
    "    T_B_C_des = hrr_common.calc_goal_pose(normal=np.r_[0,0,1], y_axis=np.r_[0, 1, 0], \n",
    "                                          p_location=vecst_dict_to_np(msg[key]))\n",
    "    return cobot2.is_reachable(T_B_C_des @ cobot2.T_E_C_robot.inv())"
   ]
  },
  {
   "cell_type": "code",
   "execution_count": null,
   "id": "80c5ee22",
   "metadata": {},
   "outputs": [],
   "source": [
    "test_msg_and_key(msg_1, 'end_location'), test_msg_and_key(msg_1, 'start_location'), \\\n",
    "test_msg_and_key(msg_2, 'end_location'), test_msg_and_key(msg_2, 'start_location')"
   ]
  },
  {
   "cell_type": "markdown",
   "id": "6a74fab5",
   "metadata": {},
   "source": [
    "## hackish solution to get target pose with rotary symmetry"
   ]
  },
  {
   "cell_type": "code",
   "execution_count": 7,
   "id": "124512e7",
   "metadata": {},
   "outputs": [],
   "source": [
    "B_normal = np.r_[0.0, -0.08715574274765817, 0.9961946980917455]\n",
    "B_normal /= np.linalg.norm(B_normal)"
   ]
  },
  {
   "cell_type": "code",
   "execution_count": 8,
   "id": "988e8715",
   "metadata": {},
   "outputs": [
    {
     "name": "stdout",
     "output_type": "stream",
     "text": [
      "IK q1 not in cache. Regenerate \u001b[91m \u001b[0m\n"
     ]
    },
    {
     "data": {
      "text/plain": [
       "  \u001b[38;5;1m-0.6686  \u001b[0m \u001b[38;5;1m 0.6686  \u001b[0m \u001b[38;5;1m-0.3255  \u001b[0m \u001b[38;5;4m 0.7506  \u001b[0m  \u001b[0m\n",
       "  \u001b[38;5;1m 0.2909  \u001b[0m \u001b[38;5;1m-0.1676  \u001b[0m \u001b[38;5;1m-0.9419  \u001b[0m \u001b[38;5;4m-0.1118  \u001b[0m  \u001b[0m\n",
       "  \u001b[38;5;1m-0.6844  \u001b[0m \u001b[38;5;1m-0.7245  \u001b[0m \u001b[38;5;1m-0.08241 \u001b[0m \u001b[38;5;4m 0.1601  \u001b[0m  \u001b[0m\n",
       "  \u001b[38;5;244m 0       \u001b[0m \u001b[38;5;244m 0       \u001b[0m \u001b[38;5;244m 0       \u001b[0m \u001b[38;5;244m 1       \u001b[0m  \u001b[0m\n"
      ]
     },
     "execution_count": 8,
     "metadata": {},
     "output_type": "execute_result"
    }
   ],
   "source": [
    "T_test = cobot2.get_valid_ee_pose(np.r_[0.7, -0.25, 0.0531], B_normal=B_normal)\n",
    "if T_test is None:\n",
    "    rospy.logerr(\"fuck off\")\n",
    "T_test"
   ]
  }
 ],
 "metadata": {
  "kernelspec": {
   "display_name": "Python 3 (ipykernel)",
   "language": "python",
   "name": "python3"
  },
  "language_info": {
   "codemirror_mode": {
    "name": "ipython",
    "version": 3
   },
   "file_extension": ".py",
   "mimetype": "text/x-python",
   "name": "python",
   "nbconvert_exporter": "python",
   "pygments_lexer": "ipython3",
   "version": "3.8.12"
  },
  "latex_envs": {
   "LaTeX_envs_menu_present": true,
   "autoclose": false,
   "autocomplete": true,
   "bibliofile": "biblio.bib",
   "cite_by": "apalike",
   "current_citInitial": 1,
   "eqLabelWithNumbers": true,
   "eqNumInitial": 1,
   "hotkeys": {
    "equation": "Ctrl-E",
    "itemize": "Ctrl-I"
   },
   "labels_anchors": false,
   "latex_user_defs": false,
   "report_style_numbering": false,
   "user_envs_cfg": false
  },
  "toc": {
   "base_numbering": 1,
   "nav_menu": {},
   "number_sections": true,
   "sideBar": true,
   "skip_h1_title": false,
   "title_cell": "Table of Contents",
   "title_sidebar": "Contents",
   "toc_cell": false,
   "toc_position": {
    "height": "calc(100% - 180px)",
    "left": "10px",
    "top": "150px",
    "width": "352px"
   },
   "toc_section_display": true,
   "toc_window_display": true
  },
  "varInspector": {
   "cols": {
    "lenName": 16,
    "lenType": 16,
    "lenVar": 40
   },
   "kernels_config": {
    "python": {
     "delete_cmd_postfix": "",
     "delete_cmd_prefix": "del ",
     "library": "var_list.py",
     "varRefreshCmd": "print(var_dic_list())"
    },
    "r": {
     "delete_cmd_postfix": ") ",
     "delete_cmd_prefix": "rm(",
     "library": "var_list.r",
     "varRefreshCmd": "cat(var_dic_list()) "
    }
   },
   "types_to_exclude": [
    "module",
    "function",
    "builtin_function_or_method",
    "instance",
    "_Feature"
   ],
   "window_display": false
  }
 },
 "nbformat": 4,
 "nbformat_minor": 5
}
