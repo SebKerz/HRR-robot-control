{
 "cells": [
  {
   "cell_type": "code",
   "execution_count": 1,
   "id": "47d12d79",
   "metadata": {},
   "outputs": [],
   "source": [
    "# math and robotics\n",
    "import pathlib\n",
    "import numpy as np\n",
    "import spatialmath as sm\n",
    "\n",
    "# ROS\n",
    "import actionlib\n",
    "import rospy\n",
    "import hrr_common\n",
    "from hr_recycler_msgs.msg import (\n",
    "    AdaptiveGraspingAction, AdaptiveGraspingGoal,\n",
    "    CuttingAction, CuttingGoal,\n",
    "    ChangeToolAction, ChangeToolGoal,    \n",
    "    FingerGraspAction, FingerGraspGoal,    \n",
    "    PushOpenAction, PushOpenGoal,\n",
    "    VacuumGraspingAction, VacuumGraspingGoal,\n",
    "    UnscrewAction, UnscrewGoal\n",
    ")\n",
    "from hrr_msgs.msg import CalibrateCobotAction, CalibrateCobotGoal\n",
    "\n",
    "# set printing and plotting options\n",
    "np.set_printoptions(precision=5, suppress=True)\n",
    "\n",
    "from hr_recycler_msgs.msg import CuttingAction, CuttingFeedback, CuttingResult, CuttingGoal, SkillResult, CobotState, MaterialType\n",
    "import actionlib\n",
    "from hr_recycler_msgs.msg import ToolType\n",
    "\n",
    "from hr_recycler_msgs.msg import PlannerAction , PlannerGoal\n",
    "import hrr_common as hrr_cm"
   ]
  },
  {
   "cell_type": "code",
   "execution_count": 2,
   "id": "1e611351",
   "metadata": {},
   "outputs": [],
   "source": [
    "rospy.init_node('emergency_lamp_demo')"
   ]
  },
  {
   "cell_type": "code",
   "execution_count": 3,
   "id": "805e7838",
   "metadata": {},
   "outputs": [],
   "source": [
    "cobot_ns = hrr_common.ros_utils.fix_prefix(hrr_common.ros_utils.get_param(\"/cobot_ns\"))\n",
    "change_tool_action_srv_name = hrr_common.ros_utils.get_param(f\"{cobot_ns}change_tool_action_srv_name\")\n",
    "calibration_action_srv_name = hrr_common.ros_utils.get_param(f\"{cobot_ns}calibration_action_srv_name\")\n",
    "cutting_action_srv_name = hrr_common.ros_utils.get_param(f\"{cobot_ns}cutting_action_srv_name\")\n",
    "grinding_action_srv_name = hrr_common.ros_utils.get_param(f\"{cobot_ns}grinding_action_srv_name\")\n",
    "pc_opening_action_srv_name = hrr_common.ros_utils.get_param(f\"{cobot_ns}pc_opening_action_srv_name\")\n",
    "sensitive_grasping_action_srv_name = hrr_common.ros_utils.get_param(f\"{cobot_ns}sensitive_grasping_action_srv_name\")\n",
    "unscrew_action_srv_name = hrr_common.ros_utils.get_param(f\"{cobot_ns}unscrew_action_srv_name\")\n",
    "vacuum_pick_place_action_srv_name = hrr_common.ros_utils.get_param(f\"{cobot_ns}vacuum_pick_place_action_srv_name\")\n",
    "finger_grasping_action_srv_name= hrr_common.ros_utils.get_param(f\"{cobot_ns}finger_grasping_action_srv_name\")\n",
    "#pgrip_client = get_client(finger_grasping_action_srv_name, FingerGraspAction)\n",
    "\n",
    "def get_client(action_topic, ActionClass, timeout_secs=2.0):\n",
    "    client = actionlib.SimpleActionClient(action_topic, ActionClass)\n",
    "    client.wait_for_server(timeout=rospy.Duration(timeout_secs))\n",
    "    return client\n",
    "def get_result(cl):\n",
    "    cl.wait_for_result()\n",
    "    return cl.get_result()\n",
    "\n",
    "def cancel(cl):\n",
    "    cl.cancel_all_goals()\n",
    "vacuum_client = get_client(vacuum_pick_place_action_srv_name, VacuumGraspingAction)\n",
    "pgrip_client = get_client(finger_grasping_action_srv_name, FingerGraspAction)\n",
    "tool_change_client = get_client(change_tool_action_srv_name, ChangeToolAction)\n",
    "shaftgrinder_client=get_client(cutting_action_srv_name, CuttingAction)"
   ]
  },
  {
   "cell_type": "markdown",
   "id": "920e53e9",
   "metadata": {},
   "source": [
    "### Load robot"
   ]
  },
  {
   "cell_type": "code",
   "execution_count": 4,
   "id": "8a8d398f",
   "metadata": {},
   "outputs": [
    {
     "name": "stderr",
     "output_type": "stream",
     "text": [
      "pybullet build time: May  8 2021 05:48:13\n"
     ]
    },
    {
     "name": "stdout",
     "output_type": "stream",
     "text": [
      "[INFO]some functions are not yet compiled. Expect delays upon first call\n"
     ]
    }
   ],
   "source": [
    "import hrr_cobot_robot as hrr_rob\n",
    "cobot = hrr_rob.HrrCobotControl.from_ros(\"/hrr_cobot\")\n",
    "#cobot.change_tool(\"nothing\")"
   ]
  },
  {
   "cell_type": "code",
   "execution_count": 5,
   "id": "a587b5ff",
   "metadata": {},
   "outputs": [
    {
     "name": "stdout",
     "output_type": "stream",
     "text": [
      "nothing\r\n"
     ]
    }
   ],
   "source": [
    "!rosparam get /hrr_cobot/tool_name"
   ]
  },
  {
   "cell_type": "markdown",
   "id": "1f6b1f17",
   "metadata": {},
   "source": [
    "cobot.change_tool(\"shaftgrinder\")\n",
    "cobot.tool_controller.run_shaftgrinder(1.0,\"slow\")"
   ]
  },
  {
   "cell_type": "markdown",
   "id": "a8bdbd79",
   "metadata": {},
   "source": [
    "### Initiate all Clients"
   ]
  },
  {
   "cell_type": "code",
   "execution_count": 6,
   "id": "18c7a9a1",
   "metadata": {},
   "outputs": [],
   "source": [
    "vacuum_client = get_client(vacuum_pick_place_action_srv_name, VacuumGraspingAction)\n",
    "pgrip_client = get_client(finger_grasping_action_srv_name, FingerGraspAction)\n",
    "tool_change_client = get_client(change_tool_action_srv_name, ChangeToolAction)\n",
    "shaftgrinder_client=get_client(cutting_action_srv_name, CuttingAction)"
   ]
  },
  {
   "cell_type": "markdown",
   "id": "c3091965",
   "metadata": {},
   "source": [
    "# Emergency Lamp disassembly"
   ]
  },
  {
   "cell_type": "markdown",
   "id": "e0706546",
   "metadata": {},
   "source": [
    "## Tool Change to Shaftgrinder"
   ]
  },
  {
   "cell_type": "code",
   "execution_count": 7,
   "id": "d705fc6d",
   "metadata": {},
   "outputs": [],
   "source": [
    "cobot.close_tool_changer()"
   ]
  },
  {
   "cell_type": "code",
   "execution_count": 8,
   "id": "48cabd4d",
   "metadata": {},
   "outputs": [],
   "source": [
    "cobot.open_tool_changer()"
   ]
  },
  {
   "cell_type": "code",
   "execution_count": null,
   "id": "87826264",
   "metadata": {},
   "outputs": [],
   "source": [
    "cobot.open_tool_changer()\n",
    "tc_goal = ChangeToolGoal()\n",
    "tc_goal.new_tool.type = tc_goal.new_tool.SHAFT_GRINDER\n",
    "tool_change_client.send_goal(tc_goal)\n"
   ]
  },
  {
   "cell_type": "code",
   "execution_count": null,
   "id": "bd938613",
   "metadata": {},
   "outputs": [],
   "source": [
    "tool_change_client.cancel_all_goals()"
   ]
  },
  {
   "cell_type": "markdown",
   "id": "8b66e4c6",
   "metadata": {},
   "source": [
    "## Cutting (6 goals)\n",
    "cutting.yaml"
   ]
  },
  {
   "cell_type": "code",
   "execution_count": null,
   "id": "3cd3462d",
   "metadata": {},
   "outputs": [],
   "source": [
    "cobot.change_tool(\"shaftgrinder\")"
   ]
  },
  {
   "cell_type": "code",
   "execution_count": null,
   "id": "118a3a95",
   "metadata": {},
   "outputs": [],
   "source": [
    "cobot.tool"
   ]
  },
  {
   "cell_type": "markdown",
   "id": "d55193f3",
   "metadata": {},
   "source": [
    "### Clip 1"
   ]
  },
  {
   "cell_type": "code",
   "execution_count": null,
   "id": "50bf82c9",
   "metadata": {},
   "outputs": [],
   "source": [
    "material= MaterialType()\n",
    "material = material.PLASTIC\n",
    "\n",
    "normalA = hrr_cm.ros_utils.np2vector3stamped(np.r_[0,0,1], \"normalA\")\n",
    "pointA = hrr_cm.ros_utils.np2vector3stamped(np.r_[0.44808836914,0.352939522502,0.055], \"pointA\")#[0.6921,0.2472,0.], \"pointA\")\n",
    "normalB = hrr_cm.ros_utils.np2vector3stamped(np.r_[0,0,1], \"normalB\")\n",
    "pointB = hrr_cm.ros_utils.np2vector3stamped(np.r_[0.447987593911,0.363652997478,0.055], \"pointB\")\n",
    "## replace by vision data"
   ]
  },
  {
   "cell_type": "code",
   "execution_count": null,
   "id": "bd16a006",
   "metadata": {},
   "outputs": [],
   "source": [
    "goal=CuttingGoal()\n",
    "goal.surface_normal_start=normalA\n",
    "goal.surface_normal_end=normalB\n",
    "goal.start_location=pointA\n",
    "goal.end_location=pointB\n",
    "goal.material.material_type=material\n",
    "goal.timeout=5000\n",
    "goal.thickness = 0.005 #not important. can be anything"
   ]
  },
  {
   "cell_type": "code",
   "execution_count": null,
   "id": "053a1982",
   "metadata": {},
   "outputs": [],
   "source": [
    "shaftgrinder_client.send_goal(goal)"
   ]
  },
  {
   "cell_type": "code",
   "execution_count": null,
   "id": "07d2ca15",
   "metadata": {},
   "outputs": [],
   "source": [
    "cobot.tool_controller.run_shaftgrinder(2, \"slow\")"
   ]
  },
  {
   "cell_type": "markdown",
   "id": "fe0464c5",
   "metadata": {},
   "source": [
    "# Hide cobot"
   ]
  },
  {
   "cell_type": "code",
   "execution_count": null,
   "id": "f68b8ec2",
   "metadata": {},
   "outputs": [],
   "source": [
    "joi = cobot.q_calib\n",
    "joi[0]=-np.deg2rad(90)\n",
    "cobot.move_to_joint_pose(joi, stochastic=True)"
   ]
  },
  {
   "cell_type": "code",
   "execution_count": 15,
   "id": "1f1f3e8a",
   "metadata": {},
   "outputs": [
    {
     "name": "stdout",
     "output_type": "stream",
     "text": [
      "nothing\r\n"
     ]
    }
   ],
   "source": [
    "!rosparam get /hrr_cobot/tool_name"
   ]
  },
  {
   "cell_type": "code",
   "execution_count": 14,
   "id": "1772536b",
   "metadata": {},
   "outputs": [
    {
     "name": "stdout",
     "output_type": "stream",
     "text": [
      "Hrr-Cobot state:\n",
      "FT-data:\n",
      "current force:\t[ 2.36481 -1.13599 -4.8252 ] [N]\n",
      "current torque:\t[1.24939 0.6665  1.96826] [Nm]\n",
      "current wrench:\t[ 2.37994 -1.1299  -4.91521  1.27282  0.65967  1.94496] [N,Nm]\n",
      "=>in contact:\tTrue\n",
      "---\n",
      "Robot-data:\n",
      "q:\t\t[-77.12682  37.25112 -76.98605  -0.04873  69.72958  89.73867][°]\n",
      "q_dot:\t\t[0. 0. 0. 0. 0. 0.][rad/s]\n",
      "tau:\t\t[0. 0. 0. 0. 0. 0.][Nm]\n",
      "pos:\t\t[0.14272 0.62478 0.46687][m]\n",
      "quat:\t\t0.03436 <[ 0.99282 -0.11446 -0.00419]>\n",
      "tool-pos:\t[0.14272 0.62478 0.46687][m]\n",
      "tool-rpy:\t[ 13.12173  -0.92764 176.14293][°]\n",
      "robot-status:\tready\n",
      "---\n"
     ]
    }
   ],
   "source": [
    "print(cobot)"
   ]
  },
  {
   "cell_type": "markdown",
   "id": "f2b16209",
   "metadata": {},
   "source": [
    "## Tool Change to Vacuum"
   ]
  },
  {
   "cell_type": "code",
   "execution_count": null,
   "id": "7404c900",
   "metadata": {},
   "outputs": [],
   "source": [
    "#Right now we are on the left side of the robot, should be save this way"
   ]
  },
  {
   "cell_type": "code",
   "execution_count": 16,
   "id": "03877537",
   "metadata": {},
   "outputs": [],
   "source": [
    "cobot.move_to_joint_pose(cobot.q_calib, stochastic=False)"
   ]
  },
  {
   "cell_type": "code",
   "execution_count": 17,
   "id": "f98f0e20",
   "metadata": {},
   "outputs": [],
   "source": [
    "#From hide cobot\n",
    "joi = cobot.q_calib.copy()\n",
    "joi[0]=np.deg2rad(80) #good\n",
    "cobot.move_to_joint_pose(joi, stochastic=False)"
   ]
  },
  {
   "cell_type": "code",
   "execution_count": 18,
   "id": "a2f33bc1",
   "metadata": {},
   "outputs": [],
   "source": [
    "tc_goal = ChangeToolGoal()\n",
    "tc_goal.new_tool.type = tc_goal.new_tool.VACUUM_GRIPPER\n",
    "tool_change_client.send_goal(tc_goal)"
   ]
  },
  {
   "cell_type": "code",
   "execution_count": null,
   "id": "9d6090b2",
   "metadata": {},
   "outputs": [],
   "source": [
    "tool_change_client.cancel_all_goals()"
   ]
  },
  {
   "cell_type": "markdown",
   "id": "bc9cc4b4",
   "metadata": {},
   "source": [
    "## Vacuum Top/  Middle Cover"
   ]
  },
  {
   "cell_type": "code",
   "execution_count": null,
   "id": "10f35b21",
   "metadata": {},
   "outputs": [],
   "source": [
    "!rosparam get /hrr_cobot/tool_name"
   ]
  },
  {
   "cell_type": "code",
   "execution_count": null,
   "id": "0df26469",
   "metadata": {},
   "outputs": [],
   "source": [
    "cobot.change_tool(\"vacuum\")"
   ]
  },
  {
   "cell_type": "code",
   "execution_count": null,
   "id": "3bc332ea",
   "metadata": {},
   "outputs": [],
   "source": [
    "cobot._tool_controller.vacuum = False"
   ]
  },
  {
   "cell_type": "code",
   "execution_count": null,
   "id": "60db8db3",
   "metadata": {},
   "outputs": [],
   "source": [
    "      x: 0.516095816448\n",
    "      y: 0.0741897862287\n",
    "      z: 0.0249991445966"
   ]
  },
  {
   "cell_type": "code",
   "execution_count": 23,
   "id": "670fc8b3",
   "metadata": {},
   "outputs": [],
   "source": [
    "obj_pos_guess = np.r_[0.516095816448 ,0.074189, 0.024999] #[0.66, 0.17, 0.07] is actual vision data for elamp cover\n",
    "obj_orient_guess = np.quaternion(0,-0.6495, 0.029, 0.7597) #actual vision data (dont care for now)\n",
    "\n",
    "release_pos = np.r_[1, 0.1, 0.1] # will drop the object here, careful!\n",
    "release_orientation = np.quaternion(0,-0.715468876127, 0.0542776712358, 0.696533001155) #dont care for now"
   ]
  },
  {
   "cell_type": "code",
   "execution_count": 24,
   "id": "8f50492e",
   "metadata": {},
   "outputs": [],
   "source": [
    "vac_goal = VacuumGraspingGoal()\n",
    "vac_goal.object_center.header.frame_id = \"hrr_cobot.base_link\"\n",
    "vac_goal.object_center.pose.position = hrr_common.ros_utils.np2vec3(obj_pos_guess)\n",
    "vac_goal.object_center.pose.orientation = hrr_common.ros_utils.np2quat(obj_orient_guess)\n",
    "\n",
    "vac_goal.release_pose.header.frame_id = \"hrr_cobot.base_link\"\n",
    "vac_goal.release_pose.pose.position = hrr_common.ros_utils.np2vec3(release_pos)\n",
    "vac_goal.release_pose.pose.orientation = hrr_common.ros_utils.np2quat(release_orientation)\n",
    "\n",
    "# vac_goal.timeout = 120.0\n",
    "# vac_goal"
   ]
  },
  {
   "cell_type": "code",
   "execution_count": 25,
   "id": "7d99d44e",
   "metadata": {},
   "outputs": [],
   "source": [
    "vacuum_client.send_goal(vac_goal)"
   ]
  },
  {
   "cell_type": "markdown",
   "id": "1de88d5e",
   "metadata": {},
   "source": [
    "### In between top and middle cover, so vision can identify"
   ]
  },
  {
   "cell_type": "code",
   "execution_count": 22,
   "id": "4fa22f0a",
   "metadata": {},
   "outputs": [],
   "source": [
    "joi = cobot.q_calib.copy()\n",
    "joi[0]=np.deg2rad(-80) #good\n",
    "cobot.move_to_joint_pose(joi, stochastic=False)"
   ]
  },
  {
   "cell_type": "markdown",
   "id": "12984607",
   "metadata": {},
   "source": [
    "## Tool Change to Pneumatic Gripper"
   ]
  },
  {
   "cell_type": "code",
   "execution_count": null,
   "id": "7470ff5e",
   "metadata": {},
   "outputs": [],
   "source": [
    "cobot.move_to_joint_pose(cobot.q_calib, stochastic=False)\n",
    "#cobot.move_to_joint_pose(np.r_[ 0,  np.deg2rad(17), np.deg2rad(-75),  0.00081,  1.6057 , -1.80819], stochastic=False)\n",
    "#cobot.move_to_joint_pose(np.r_[ 2.29384,  np.deg2rad(17), np.deg2rad(-75),  0.00081,  1.6057 , -1.80819], stochastic=False)"
   ]
  },
  {
   "cell_type": "code",
   "execution_count": 26,
   "id": "f95752d5",
   "metadata": {},
   "outputs": [],
   "source": [
    "tc_goal = ChangeToolGoal()\n",
    "tc_goal.new_tool.type = tc_goal.new_tool.WSG_50\n",
    "tool_change_client.send_goal(tc_goal)"
   ]
  },
  {
   "cell_type": "markdown",
   "id": "ebe9da85",
   "metadata": {},
   "source": [
    "## Remove Battery\n",
    "fingergrasp"
   ]
  },
  {
   "cell_type": "code",
   "execution_count": 27,
   "id": "0e8d8e4d",
   "metadata": {},
   "outputs": [],
   "source": [
    "cobot.move_to_joint_pose(np.r_[ 2.29384,  np.deg2rad(17), np.deg2rad(-75),  0.00081,  1.6057 , -1.80819], stochastic=False)"
   ]
  },
  {
   "cell_type": "markdown",
   "id": "0e7b6573",
   "metadata": {},
   "source": [
    "### Wait here for detection of battery"
   ]
  },
  {
   "cell_type": "code",
   "execution_count": 28,
   "id": "b11ae298",
   "metadata": {},
   "outputs": [],
   "source": [
    "cobot.move_to_joint_pose(np.r_[ 0,  np.deg2rad(17), np.deg2rad(-75),  0.00081,  1.6057 , -1.80819], stochastic=False)\n",
    "cobot.move_to_joint_pose(cobot.q_calib, stochastic=False)"
   ]
  },
  {
   "cell_type": "code",
   "execution_count": null,
   "id": "5793f6df",
   "metadata": {},
   "outputs": [],
   "source": [
    "     x: 0.562424537926\n",
    "      y: 0.0664328784315\n",
    "      z: 0.0183034314412"
   ]
  },
  {
   "cell_type": "code",
   "execution_count": 29,
   "id": "943400d5",
   "metadata": {},
   "outputs": [],
   "source": [
    "obj_pos_guess = np.r_[0.562424537926,0.0664328784315 ,0.0183034314412 ] #[0.712, 0.263, 0.0196] is actual vision data for battery\n",
    "obj_orient_guess = np.quaternion(0.0,-0.4376,0.01394,0.8990) #actual vision data for battery\n",
    "release_pos = np.r_[0.5, 0.1, 0.3] #choose so it makes sense\n",
    "release_orientation = np.quaternion(0.0,-0.657320580033,-0.0241373269709,0.753224431702) #same orientaiton for ease"
   ]
  },
  {
   "cell_type": "code",
   "execution_count": 30,
   "id": "8b5c4006",
   "metadata": {},
   "outputs": [],
   "source": [
    "pgrip_goal = FingerGraspGoal()\n",
    "pgrip_goal.object_center.header.frame_id = \"hrr_cobot.base_link\"\n",
    "pgrip_goal.object_center.pose.position = hrr_common.ros_utils.np2vec3(obj_pos_guess)\n",
    "pgrip_goal.object_center.pose.orientation = hrr_common.ros_utils.np2quat(obj_orient_guess)\n",
    "\n",
    "pgrip_goal.release_pose.header.frame_id = \"hrr_cobot.base_link\"\n",
    "pgrip_goal.release_pose.pose.position = hrr_common.ros_utils.np2vec3(release_pos)\n",
    "pgrip_goal.release_pose.pose.orientation = hrr_common.ros_utils.np2quat(release_orientation)\n",
    "\n",
    "pgrip_goal.timeout = 10000.0\n",
    "#pgrip_goal.gripper_open_width = 0.084\n",
    "#pgrip_goal.gripper_close_width = 0"
   ]
  },
  {
   "cell_type": "code",
   "execution_count": 35,
   "id": "9a90e734",
   "metadata": {},
   "outputs": [],
   "source": [
    "pgrip_client.send_goal(pgrip_goal)"
   ]
  },
  {
   "cell_type": "code",
   "execution_count": 34,
   "id": "86465f77",
   "metadata": {},
   "outputs": [
    {
     "ename": "AttributeError",
     "evalue": "'SimpleActionClient' object has no attribute 'cancel_goals'",
     "output_type": "error",
     "traceback": [
      "\u001b[0;31m---------------------------------------------------------------------------\u001b[0m",
      "\u001b[0;31mAttributeError\u001b[0m                            Traceback (most recent call last)",
      "\u001b[0;32m/tmp/ipykernel_124789/2638520295.py\u001b[0m in \u001b[0;36m<module>\u001b[0;34m\u001b[0m\n\u001b[0;32m----> 1\u001b[0;31m \u001b[0mpgrip_client\u001b[0m\u001b[0;34m.\u001b[0m\u001b[0mcancel_goals\u001b[0m\u001b[0;34m(\u001b[0m\u001b[0;34m)\u001b[0m\u001b[0;34m\u001b[0m\u001b[0;34m\u001b[0m\u001b[0m\n\u001b[0m",
      "\u001b[0;31mAttributeError\u001b[0m: 'SimpleActionClient' object has no attribute 'cancel_goals'"
     ]
    }
   ],
   "source": [
    "pgrip_client.cancel_goals()"
   ]
  },
  {
   "cell_type": "markdown",
   "id": "a703bd14",
   "metadata": {},
   "source": [
    "## Move to pneumatic position"
   ]
  },
  {
   "cell_type": "code",
   "execution_count": null,
   "id": "9153edbd",
   "metadata": {},
   "outputs": [],
   "source": [
    "cobot.move_to_joint_pose(np.r_[2.29483,  np.deg2rad(17), np.deg2rad(-75),  0.00081,  1.6057 , -1.80819], stochastic=False)"
   ]
  },
  {
   "cell_type": "markdown",
   "id": "4cb6a348",
   "metadata": {},
   "source": [
    "## Tool Change to None"
   ]
  },
  {
   "cell_type": "code",
   "execution_count": null,
   "id": "3225ae5f",
   "metadata": {},
   "outputs": [],
   "source": [
    "tc_goal = ChangeToolGoal()\n",
    "tc_goal.new_tool.type = tc_goal.new_tool.NONE\n",
    "tool_change_client.send_goal(tc_goal)"
   ]
  }
 ],
 "metadata": {
  "kernelspec": {
   "display_name": "Python 3 (ipykernel)",
   "language": "python",
   "name": "python3"
  },
  "language_info": {
   "codemirror_mode": {
    "name": "ipython",
    "version": 3
   },
   "file_extension": ".py",
   "mimetype": "text/x-python",
   "name": "python",
   "nbconvert_exporter": "python",
   "pygments_lexer": "ipython3",
   "version": "3.8.12"
  },
  "latex_envs": {
   "LaTeX_envs_menu_present": true,
   "autoclose": false,
   "autocomplete": true,
   "bibliofile": "biblio.bib",
   "cite_by": "apalike",
   "current_citInitial": 1,
   "eqLabelWithNumbers": true,
   "eqNumInitial": 1,
   "hotkeys": {
    "equation": "Ctrl-E",
    "itemize": "Ctrl-I"
   },
   "labels_anchors": false,
   "latex_user_defs": false,
   "report_style_numbering": false,
   "user_envs_cfg": false
  },
  "toc": {
   "base_numbering": 1,
   "nav_menu": {},
   "number_sections": true,
   "sideBar": true,
   "skip_h1_title": false,
   "title_cell": "Table of Contents",
   "title_sidebar": "Contents",
   "toc_cell": false,
   "toc_position": {},
   "toc_section_display": true,
   "toc_window_display": false
  }
 },
 "nbformat": 4,
 "nbformat_minor": 5
}
