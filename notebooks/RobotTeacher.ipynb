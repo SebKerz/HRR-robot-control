{
 "cells": [
  {
   "cell_type": "code",
   "execution_count": 3,
   "id": "0974551c",
   "metadata": {},
   "outputs": [],
   "source": [
    "from dataclasses import dataclass\n",
    "\n",
    "import numpy as np\n",
    "import rosparam\n",
    "import rospy\n",
    "\n",
    "\n",
    "# math and robotics\n",
    "import numpy as np\n",
    "import spatialmath as sm\n",
    "import quaternion\n",
    "from tqdm.notebook import tqdm, trange\n",
    "\n",
    "# plotting \n",
    "import seaborn as sns\n",
    "import matplotlib as mpl\n",
    "import matplotlib.pylab as plt\n",
    "\n",
    "# simulated robot content and helpers\n",
    "import hrr_common as hrr_cm\n",
    "import hrr_cobot_robot as hrr_rob\n",
    "\n",
    "# ROS\n",
    "import rospy\n",
    "\n",
    "# set printing and plotting options    \n",
    "np.set_printoptions(precision=5, suppress=True)\n",
    "sns.set_theme('notebook')\n",
    "%matplotlib notebook"
   ]
  },
  {
   "cell_type": "code",
   "execution_count": null,
   "id": "572a5414",
   "metadata": {},
   "outputs": [],
   "source": [
    "hrr_common.utils.set_ros_environment(ros_master = 'hrrcobotLinux54')"
   ]
  },
  {
   "cell_type": "code",
   "execution_count": 5,
   "id": "d5718e12",
   "metadata": {},
   "outputs": [],
   "source": [
    "rospy.init_node('restore_old_behavior')"
   ]
  },
  {
   "cell_type": "code",
   "execution_count": 7,
   "id": "04714095",
   "metadata": {},
   "outputs": [
    {
     "name": "stdout",
     "output_type": "stream",
     "text": [
      "Hrr-Cobot state:\n",
      "FT-data:\n",
      "current force:\t[  5.40424   0.33203 -30.86426] [N]\n",
      "current torque:\t[-1.01385 -9.19135  0.75537] [Nm]\n",
      "current wrench:\t[ 1.0264   0.63191  0.68431 -0.4011   1.07986  0.30058] [N,Nm]\n",
      "=>in contact:\tFalse\n",
      "---\n",
      "Robot-data:\n",
      "q:\t\t[ -0.06832  -0.01282 -90.01441   0.37233  89.93997   0.10318][°]\n",
      "q_dot:\t\t[0. 0. 0. 0. 0. 0.][rad/s]\n",
      "tau:\t\t[0. 0. 0. 0. 0. 0.][Nm]\n",
      "pos:\t\t[ 0.43594 -0.       0.70499][m]\n",
      "quat:\t\t0.00051 <[-0.0015   0.99999 -0.00326]>\n",
      "tool-pos:\t[ 0.43594 -0.       0.70499][m]\n",
      "tool-rpy:\t[179.82849   0.05904 179.62671][°]\n",
      "robot-status:\tmoving\n",
      "---\n",
      "tool set to shaft_grinder\n",
      "\n",
      "---\n"
     ]
    }
   ],
   "source": [
    "cobot = hrr_rob.HrrCobotControl.from_ros(cobot_prefix=\"/hrr_cobot/\")\n",
    "rospy.sleep(0.1)\n",
    "cobot.update()\n",
    "print(cobot)"
   ]
  },
  {
   "cell_type": "markdown",
   "id": "b5c7ed4b",
   "metadata": {},
   "source": [
    "## Calibrate"
   ]
  },
  {
   "cell_type": "code",
   "execution_count": null,
   "id": "7da67d05",
   "metadata": {},
   "outputs": [],
   "source": [
    "if -np.pi/4.0 < cobot.q[0]  < np.pi/4.0:\n",
    "    q_calib = cobot.q_calib\n",
    "elif np.pi/4.0 < cobot.q[0]  < 3.0 *np.pi/4.0:\n",
    "    q_calib = np.r_[np.pi/2.0, cobot.q_calib[1:]]\n",
    "elif -3.0 * np.pi /4.0 < cobot.q[0]  < -np.pi/4.0:\n",
    "    q_calib = np.r_[-np.pi/2.0, cobot.q_calib[1:]]\n",
    "else:\n",
    "    print('fuck off')\n",
    "print(q_calib)"
   ]
  },
  {
   "cell_type": "code",
   "execution_count": null,
   "id": "c77639e3",
   "metadata": {},
   "outputs": [],
   "source": [
    "cobot.goTo(cobot.FK(cobot.q_calib),v_max=0.05)"
   ]
  },
  {
   "cell_type": "code",
   "execution_count": 8,
   "id": "ddad3307",
   "metadata": {},
   "outputs": [],
   "source": [
    "data = cobot.collect_calibration_data(gains=(0.5, 0.5, 1.0), v=0.2, N=250, force=True)"
   ]
  },
  {
   "cell_type": "code",
   "execution_count": null,
   "id": "f192ed67",
   "metadata": {},
   "outputs": [],
   "source": [
    "cobot._ft_handle.set_offset(*hrr_rob.ros_interfaces.freespace_offset_regression(data, cobot.R_FT_E, plot=True, call_plot=True))"
   ]
  },
  {
   "cell_type": "code",
   "execution_count": null,
   "id": "255fbfe8",
   "metadata": {},
   "outputs": [],
   "source": [
    "cobot.update()\n",
    "cobot.B_F_msr"
   ]
  },
  {
   "cell_type": "markdown",
   "id": "9e654344",
   "metadata": {},
   "source": [
    "## Enable compliance"
   ]
  },
  {
   "cell_type": "code",
   "execution_count": 16,
   "id": "4cd8ee7a",
   "metadata": {},
   "outputs": [],
   "source": [
    "cobot._sns_vel_compliance(np.r_[np.ones(3), np.zeros(3)], K_t=8e-4, K_f=5e-4) # pos only"
   ]
  },
  {
   "cell_type": "code",
   "execution_count": null,
   "id": "81d121cb",
   "metadata": {},
   "outputs": [],
   "source": [
    "cobot._sns_vel_compliance(np.ones(6), K_t=8e-4, K_f=5e-4) # full"
   ]
  },
  {
   "cell_type": "code",
   "execution_count": null,
   "id": "e4361eb9",
   "metadata": {},
   "outputs": [],
   "source": [
    "while True:\n",
    "    cobot.update()\n",
    "cobot.stop()"
   ]
  },
  {
   "cell_type": "code",
   "execution_count": null,
   "id": "31e04b71",
   "metadata": {},
   "outputs": [],
   "source": [
    "# IGNORE REST BELOW"
   ]
  },
  {
   "cell_type": "code",
   "execution_count": 20,
   "id": "0c1ec567",
   "metadata": {},
   "outputs": [],
   "source": [
    "test = ScrewdriverPins()\n",
    "test.sanity_check()"
   ]
  },
  {
   "cell_type": "code",
   "execution_count": 26,
   "id": "ffc63316",
   "metadata": {},
   "outputs": [
    {
     "data": {
      "text/plain": [
       "{10: True, 7: False, 8: False, 9: True}"
      ]
     },
     "execution_count": 26,
     "metadata": {},
     "output_type": "execute_result"
    }
   ],
   "source": []
  },
  {
   "cell_type": "code",
   "execution_count": 23,
   "id": "0d7a4c5c",
   "metadata": {},
   "outputs": [
    {
     "data": {
      "text/plain": [
       "[pin: 10\n",
       " state: True,\n",
       " pin: 7\n",
       " state: False,\n",
       " pin: 8\n",
       " state: True,\n",
       " pin: 9\n",
       " state: True]"
      ]
     },
     "execution_count": 23,
     "metadata": {},
     "output_type": "execute_result"
    }
   ],
   "source": []
  },
  {
   "cell_type": "code",
   "execution_count": 23,
   "id": "64ec9430",
   "metadata": {},
   "outputs": [],
   "source": [
    "cobot.close_tool_changer()"
   ]
  },
  {
   "cell_type": "code",
   "execution_count": 24,
   "id": "4d39c4d7",
   "metadata": {},
   "outputs": [
    {
     "data": {
      "text/plain": [
       "True"
      ]
     },
     "execution_count": 24,
     "metadata": {},
     "output_type": "execute_result"
    }
   ],
   "source": [
    "cobot.change_tool(\"screwdriver\")"
   ]
  },
  {
   "cell_type": "code",
   "execution_count": 50,
   "id": "a7b62084",
   "metadata": {},
   "outputs": [],
   "source": [
    "cobot.tool_controller.screwdriver_program = 1"
   ]
  },
  {
   "cell_type": "code",
   "execution_count": 47,
   "id": "67067da4",
   "metadata": {},
   "outputs": [],
   "source": [
    "cobot.tool_controller._send_sc_prog()"
   ]
  },
  {
   "cell_type": "code",
   "execution_count": 26,
   "id": "b91daec6",
   "metadata": {},
   "outputs": [],
   "source": [
    "self = cobot.tool_controller\n",
    "pin_srv = self._get_pin_srv()\n",
    "for req in self._screwdriver_pins.program_to_ros_msg(self.screwdriver_program):\n",
    "    pin_srv(req)"
   ]
  },
  {
   "cell_type": "code",
   "execution_count": 19,
   "id": "4666b8aa",
   "metadata": {},
   "outputs": [
    {
     "data": {
      "text/plain": [
       "[pin: 10\n",
       " state: True,\n",
       " pin: 7\n",
       " state: False,\n",
       " pin: 8\n",
       " state: True,\n",
       " pin: 9\n",
       " state: False]"
      ]
     },
     "execution_count": 19,
     "metadata": {},
     "output_type": "execute_result"
    }
   ],
   "source": [
    "cobot.tool_controller._screwdriver_pins.program_to_ros_msg(cobot.tool_controller.screwdriver_program)"
   ]
  },
  {
   "cell_type": "code",
   "execution_count": 12,
   "id": "a0032f5c",
   "metadata": {},
   "outputs": [],
   "source": [
    "from comau_msgs.srv import GetComauParams, GetComauParamsRequest\n",
    "robot_status = rospy.ServiceProxy('/hrr_cobot/get_comau_parameters', GetComauParams)"
   ]
  },
  {
   "cell_type": "code",
   "execution_count": 41,
   "id": "bcd4a959",
   "metadata": {},
   "outputs": [
    {
     "data": {
      "text/plain": [
       "({10: True, 7: True, 8: True, 9: True},\n",
       " [pin: 7\n",
       "  state: True,\n",
       "  pin: 8\n",
       "  state: False,\n",
       "  pin: 9\n",
       "  state: False,\n",
       "  pin: 10\n",
       "  state: True])"
      ]
     },
     "execution_count": 41,
     "metadata": {},
     "output_type": "execute_result"
    }
   ],
   "source": [
    "test.set_program(8), robot_status(GetComauParamsRequest()).digital_out_states[3:7]"
   ]
  },
  {
   "cell_type": "code",
   "execution_count": 43,
   "id": "78c63496",
   "metadata": {},
   "outputs": [
    {
     "data": {
      "text/plain": [
       "{10: True, 7: True, 8: False, 9: False}"
      ]
     },
     "execution_count": 43,
     "metadata": {},
     "output_type": "execute_result"
    }
   ],
   "source": [
    "test.set_program(5)"
   ]
  },
  {
   "cell_type": "code",
   "execution_count": 51,
   "id": "c9744e03",
   "metadata": {},
   "outputs": [
    {
     "data": {
      "text/plain": [
       "[pin: 7\n",
       " state: False,\n",
       " pin: 8\n",
       " state: False,\n",
       " pin: 9\n",
       " state: False,\n",
       " pin: 10\n",
       " state: True]"
      ]
     },
     "execution_count": 51,
     "metadata": {},
     "output_type": "execute_result"
    }
   ],
   "source": [
    "robot_status(GetComauParamsRequest()).digital_out_states[3:7]"
   ]
  },
  {
   "cell_type": "code",
   "execution_count": null,
   "id": "e5af1598",
   "metadata": {},
   "outputs": [],
   "source": []
  }
 ],
 "metadata": {
  "kernelspec": {
   "display_name": "Python 3 (ipykernel)",
   "language": "python",
   "name": "python3"
  },
  "language_info": {
   "codemirror_mode": {
    "name": "ipython",
    "version": 3
   },
   "file_extension": ".py",
   "mimetype": "text/x-python",
   "name": "python",
   "nbconvert_exporter": "python",
   "pygments_lexer": "ipython3",
   "version": "3.8.12"
  }
 },
 "nbformat": 4,
 "nbformat_minor": 5
}
