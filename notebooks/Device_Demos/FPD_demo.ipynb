{
 "cells": [
  {
   "cell_type": "code",
   "execution_count": null,
   "id": "47d12d79",
   "metadata": {},
   "outputs": [],
   "source": [
    "# math and robotics\n",
    "import pathlib\n",
    "import numpy as np\n",
    "import spatialmath as sm\n",
    "\n",
    "# ROS\n",
    "import actionlib\n",
    "import rospy\n",
    "import hrr_common\n",
    "from hr_recycler_msgs.msg import (\n",
    "    AdaptiveGraspingAction, AdaptiveGraspingGoal,\n",
    "    CuttingAction, CuttingGoal,\n",
    "    ChangeToolAction, ChangeToolGoal,    \n",
    "    FingerGraspAction, FingerGraspGoal,    \n",
    "    PushOpenAction, PushOpenGoal,\n",
    "    VacuumGraspingAction, VacuumGraspingGoal,\n",
    "    UnscrewAction, UnscrewGoal\n",
    ")\n",
    "from hrr_msgs.msg import CalibrateCobotAction, CalibrateCobotGoal\n",
    "\n",
    "# set printing and plotting options\n",
    "np.set_printoptions(precision=5, suppress=True)\n",
    "\n",
    "from hr_recycler_msgs.msg import CuttingAction, CuttingFeedback, CuttingResult, CuttingGoal, SkillResult, CobotState, MaterialType\n",
    "import actionlib\n",
    "from hr_recycler_msgs.msg import ToolType\n",
    "\n",
    "from hr_recycler_msgs.msg import PlannerAction , PlannerGoal\n",
    "import hrr_common as hrr_cm"
   ]
  },
  {
   "cell_type": "code",
   "execution_count": null,
   "id": "e8d69d42",
   "metadata": {},
   "outputs": [],
   "source": [
    "tool_change_pose = ...."
   ]
  },
  {
   "cell_type": "code",
   "execution_count": null,
   "id": "1e611351",
   "metadata": {},
   "outputs": [],
   "source": [
    "rospy.init_node('FPD_demo')"
   ]
  },
  {
   "cell_type": "code",
   "execution_count": null,
   "id": "805e7838",
   "metadata": {},
   "outputs": [],
   "source": [
    "cobot_ns = hrr_common.ros_utils.fix_prefix(hrr_common.ros_utils.get_param(\"/cobot_ns\"))\n",
    "change_tool_action_srv_name = hrr_common.ros_utils.get_param(f\"{cobot_ns}change_tool_action_srv_name\")\n",
    "calibration_action_srv_name = hrr_common.ros_utils.get_param(f\"{cobot_ns}calibration_action_srv_name\")\n",
    "cutting_action_srv_name = hrr_common.ros_utils.get_param(f\"{cobot_ns}cutting_action_srv_name\")\n",
    "grinding_action_srv_name = hrr_common.ros_utils.get_param(f\"{cobot_ns}grinding_action_srv_name\")\n",
    "pc_opening_action_srv_name = hrr_common.ros_utils.get_param(f\"{cobot_ns}pc_opening_action_srv_name\")\n",
    "sensitive_grasping_action_srv_name = hrr_common.ros_utils.get_param(f\"{cobot_ns}sensitive_grasping_action_srv_name\")\n",
    "unscrew_action_srv_name = hrr_common.ros_utils.get_param(f\"{cobot_ns}unscrew_action_srv_name\")\n",
    "vacuum_pick_place_action_srv_name = hrr_common.ros_utils.get_param(f\"{cobot_ns}vacuum_pick_place_action_srv_name\")\n",
    "finger_grasping_action_srv_name= hrr_common.ros_utils.get_param(f\"{cobot_ns}finger_grasping_action_srv_name\")\n",
    "#pgrip_client = get_client(finger_grasping_action_srv_name, FingerGraspAction)\n",
    "\n",
    "def get_client(action_topic, ActionClass, timeout_secs=2.0):\n",
    "    client = actionlib.SimpleActionClient(action_topic, ActionClass)\n",
    "    client.wait_for_server(timeout=rospy.Duration(timeout_secs))\n",
    "    return client\n",
    "def get_result(cl):\n",
    "    cl.wait_for_result()\n",
    "    return cl.get_result()\n",
    "\n",
    "def cancel(cl):\n",
    "    cl.cancel_all_goals()\n",
    "    \n",
    "    \n",
    "def set_cutting_goal(pointA, pointB):\n",
    "    material= MaterialType()\n",
    "    material = material.PLASTIC\n",
    "\n",
    "    normalB = hrr_cm.ros_utils.np2vector3stamped(np.r_[0,0,1], \"normalB\")\n",
    "    normalA = hrr_cm.ros_utils.np2vector3stamped(np.r_[0,0,1], \"normalA\")\n",
    "\n",
    "    goal=CuttingGoal()\n",
    "    goal.surface_normal_start=normalA\n",
    "    goal.surface_normal_end=normalB\n",
    "    goal.start_location=pointA\n",
    "    goal.end_location=pointB\n",
    "    goal.material.material_type=material\n",
    "    goal.timeout=5000\n",
    "    goal.thickness = 0.005 #not important. can be anything\n",
    "    \n",
    "def set_screwing_goal(B_normal, B_screw_guess):\n",
    "    sc_goal = UnscrewGoal()\n",
    "    sc_goal.screw_location.header.frame_id = \"hrr_cobot.base_link\"\n",
    "    sc_goal.surface_normal.header.frame_id = \"hrr_cobot.base_link\"\n",
    "    sc_goal.surface_normal.vector = hrr_common.ros_utils.np2vec3(B_normal)\n",
    "    sc_goal.screw_location.point = hrr_common.ros_utils.np2vec3(B_screw_guess)\n",
    "    sc_goal.contact_force = 5\n",
    "    sc_goal.insertion_force = 10\n",
    "    sc_goal.timeout = 1200.0\n",
    "    \n",
    "    \n",
    "vacuum_client = get_client(vacuum_pick_place_action_srv_name, VacuumGraspingAction)\n",
    "pgrip_client = get_client(finger_grasping_action_srv_name, FingerGraspAction)\n",
    "tool_change_client = get_client(change_tool_action_srv_name, ChangeToolAction)\n",
    "shaftgrinder_client=get_client(cutting_action_srv_name, CuttingAction)\n",
    "grasping_client = get_client(sensitive_grasping_action_srv_name, AdaptiveGraspingAction)\n",
    "unscrewing_client = get_client(unscrew_action_srv_name, UnscrewAction)\n",
    "calibrate_client = get_client(calibration_action_srv_name, CalibrateCobotAction)"
   ]
  },
  {
   "cell_type": "markdown",
   "id": "920e53e9",
   "metadata": {},
   "source": [
    "### Load robot"
   ]
  },
  {
   "cell_type": "code",
   "execution_count": null,
   "id": "8a8d398f",
   "metadata": {},
   "outputs": [],
   "source": [
    "import hrr_cobot_robot as hrr_rob\n",
    "cobot = hrr_rob.HrrCobotControl.from_ros(\"/hrr_cobot\")\n",
    "#cobot.change_tool(\"nothing\")"
   ]
  },
  {
   "cell_type": "code",
   "execution_count": null,
   "id": "a587b5ff",
   "metadata": {},
   "outputs": [],
   "source": [
    "#!rosparam get /hrr_cobot/tool_name"
   ]
  },
  {
   "cell_type": "markdown",
   "id": "c3091965",
   "metadata": {},
   "source": [
    "# PC Tower disassembly"
   ]
  },
  {
   "cell_type": "markdown",
   "id": "d7deddb4",
   "metadata": {},
   "source": [
    "## Tool Change to Screwdriver"
   ]
  },
  {
   "cell_type": "code",
   "execution_count": null,
   "id": "6b7446cb",
   "metadata": {},
   "outputs": [],
   "source": []
  },
  {
   "cell_type": "markdown",
   "id": "d25abf16",
   "metadata": {},
   "source": [
    "## Unscrew screw (eight times)"
   ]
  },
  {
   "cell_type": "code",
   "execution_count": null,
   "id": "85a1ba1f",
   "metadata": {},
   "outputs": [],
   "source": []
  },
  {
   "cell_type": "markdown",
   "id": "e2d44817",
   "metadata": {},
   "source": [
    "## Change tool from screwdriver to grinder "
   ]
  },
  {
   "cell_type": "code",
   "execution_count": null,
   "id": "6084c7cb",
   "metadata": {},
   "outputs": [],
   "source": []
  },
  {
   "cell_type": "markdown",
   "id": "18521c98",
   "metadata": {},
   "source": [
    "## Cut the gray panel"
   ]
  },
  {
   "cell_type": "code",
   "execution_count": null,
   "id": "f0874494",
   "metadata": {},
   "outputs": [],
   "source": []
  },
  {
   "cell_type": "markdown",
   "id": "b91d9b45",
   "metadata": {},
   "source": [
    "## Change tool to vacuum griper"
   ]
  },
  {
   "cell_type": "code",
   "execution_count": null,
   "id": "abe76547",
   "metadata": {},
   "outputs": [],
   "source": []
  },
  {
   "cell_type": "markdown",
   "id": "9ada8fd1",
   "metadata": {},
   "source": [
    "## Pick up the screen/grey/whatever"
   ]
  },
  {
   "cell_type": "code",
   "execution_count": null,
   "id": "ab3c8a30",
   "metadata": {},
   "outputs": [],
   "source": []
  },
  {
   "cell_type": "markdown",
   "id": "06a2c6bd",
   "metadata": {},
   "source": [
    "## Change the tool to scew driver"
   ]
  },
  {
   "cell_type": "code",
   "execution_count": null,
   "id": "d8628b4c",
   "metadata": {},
   "outputs": [],
   "source": []
  },
  {
   "cell_type": "markdown",
   "id": "f6625e04",
   "metadata": {},
   "source": [
    "## Unscrew screw (to be called 4 times)"
   ]
  },
  {
   "cell_type": "code",
   "execution_count": null,
   "id": "ededf182",
   "metadata": {},
   "outputs": [],
   "source": []
  },
  {
   "cell_type": "code",
   "execution_count": null,
   "id": "31765938",
   "metadata": {},
   "outputs": [],
   "source": [
    "## "
   ]
  }
 ],
 "metadata": {
  "kernelspec": {
   "display_name": "Python 3",
   "language": "python",
   "name": "python3"
  },
  "language_info": {
   "codemirror_mode": {
    "name": "ipython",
    "version": 3
   },
   "file_extension": ".py",
   "mimetype": "text/x-python",
   "name": "python",
   "nbconvert_exporter": "python",
   "pygments_lexer": "ipython3",
   "version": "3.8.8"
  },
  "latex_envs": {
   "LaTeX_envs_menu_present": true,
   "autoclose": false,
   "autocomplete": true,
   "bibliofile": "biblio.bib",
   "cite_by": "apalike",
   "current_citInitial": 1,
   "eqLabelWithNumbers": true,
   "eqNumInitial": 1,
   "hotkeys": {
    "equation": "Ctrl-E",
    "itemize": "Ctrl-I"
   },
   "labels_anchors": false,
   "latex_user_defs": false,
   "report_style_numbering": false,
   "user_envs_cfg": false
  },
  "toc": {
   "base_numbering": 1,
   "nav_menu": {},
   "number_sections": true,
   "sideBar": true,
   "skip_h1_title": false,
   "title_cell": "Table of Contents",
   "title_sidebar": "Contents",
   "toc_cell": false,
   "toc_position": {},
   "toc_section_display": true,
   "toc_window_display": false
  }
 },
 "nbformat": 4,
 "nbformat_minor": 5
}
