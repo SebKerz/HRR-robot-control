{
 "cells": [
  {
   "cell_type": "code",
   "execution_count": 1,
   "id": "47d12d79",
   "metadata": {},
   "outputs": [],
   "source": [
    "# math and robotics\n",
    "import pathlib\n",
    "import numpy as np\n",
    "import spatialmath as sm\n",
    "from comau_msgs.srv import SetIO, SetIORequest\n",
    "\n",
    "# ROS\n",
    "import actionlib\n",
    "import rospy\n",
    "import hrr_common\n",
    "from hr_recycler_msgs.msg import (\n",
    "    AdaptiveGraspingAction, AdaptiveGraspingGoal,\n",
    "    CuttingAction, CuttingGoal,\n",
    "    ChangeToolAction, ChangeToolGoal,    \n",
    "    FingerGraspAction, FingerGraspGoal,    \n",
    "    PushOpenAction, PushOpenGoal,\n",
    "    VacuumGraspingAction, VacuumGraspingGoal,\n",
    "    UnscrewAction, UnscrewGoal\n",
    ")\n",
    "from hrr_msgs.msg import CalibrateCobotAction, CalibrateCobotGoal\n",
    "\n",
    "# set printing and plotting options\n",
    "np.set_printoptions(precision=5, suppress=True)\n",
    "\n",
    "from hr_recycler_msgs.msg import CuttingAction, CuttingFeedback, CuttingResult, CuttingGoal, SkillResult, CobotState, MaterialType\n",
    "import actionlib\n",
    "from hr_recycler_msgs.msg import ToolType\n",
    "\n",
    "from hr_recycler_msgs.msg import PlannerAction , PlannerGoal\n",
    "import hrr_common as hrr_cm"
   ]
  },
  {
   "cell_type": "code",
   "execution_count": 2,
   "id": "e8d69d42",
   "metadata": {},
   "outputs": [],
   "source": [
    "tool_change_pose = [-0.84518,  0.55554, -1.57835,  0.20987, -0.43471, -2.6285 ] #[-0.9376716018,  0.7174308896, -1.2232894897, -0.0096366024, -0.227122277 , -2.4522731304]"
   ]
  },
  {
   "cell_type": "code",
   "execution_count": 3,
   "id": "1e611351",
   "metadata": {},
   "outputs": [],
   "source": [
    "rospy.init_node('microwave_demo')"
   ]
  },
  {
   "cell_type": "code",
   "execution_count": 4,
   "id": "805e7838",
   "metadata": {},
   "outputs": [],
   "source": [
    "cobot_ns = hrr_common.ros_utils.fix_prefix(hrr_common.ros_utils.get_param(\"/cobot_ns\"))\n",
    "change_tool_action_srv_name = hrr_common.ros_utils.get_param(f\"{cobot_ns}change_tool_action_srv_name\")\n",
    "calibration_action_srv_name = hrr_common.ros_utils.get_param(f\"{cobot_ns}calibration_action_srv_name\")\n",
    "cutting_action_srv_name = hrr_common.ros_utils.get_param(f\"{cobot_ns}cutting_action_srv_name\")\n",
    "grinding_action_srv_name = hrr_common.ros_utils.get_param(f\"{cobot_ns}grinding_action_srv_name\")\n",
    "pc_opening_action_srv_name = hrr_common.ros_utils.get_param(f\"{cobot_ns}pc_opening_action_srv_name\")\n",
    "sensitive_grasping_action_srv_name = hrr_common.ros_utils.get_param(f\"{cobot_ns}sensitive_grasping_action_srv_name\")\n",
    "unscrew_action_srv_name = hrr_common.ros_utils.get_param(f\"{cobot_ns}unscrew_action_srv_name\")\n",
    "vacuum_pick_place_action_srv_name = hrr_common.ros_utils.get_param(f\"{cobot_ns}vacuum_pick_place_action_srv_name\")\n",
    "finger_grasping_action_srv_name= hrr_common.ros_utils.get_param(f\"{cobot_ns}finger_grasping_action_srv_name\")\n",
    "#pgrip_client = get_client(finger_grasping_action_srv_name, FingerGraspAction)\n",
    "\n",
    "def get_client(action_topic, ActionClass, timeout_secs=2.0):\n",
    "    client = actionlib.SimpleActionClient(action_topic, ActionClass)\n",
    "    client.wait_for_server(timeout=rospy.Duration(timeout_secs))\n",
    "    return client\n",
    "def get_result(cl):\n",
    "    cl.wait_for_result()\n",
    "    return cl.get_result()\n",
    "\n",
    "def cancel(cl):\n",
    "    cl.cancel_all_goals()\n",
    "    \n",
    "    \n",
    "def set_cutting_goal(pointA, pointB):\n",
    "    material= MaterialType()\n",
    "    material = material.PLASTIC\n",
    "\n",
    "    normalB = hrr_cm.ros_utils.np2vector3stamped(np.r_[0,0,1], \"normalB\")\n",
    "    normalA = hrr_cm.ros_utils.np2vector3stamped(np.r_[0,0,1], \"normalA\")\n",
    "\n",
    "    goal=CuttingGoal()\n",
    "    goal.surface_normal_start=normalA\n",
    "    goal.surface_normal_end=normalB\n",
    "    goal.start_location=pointA\n",
    "    goal.end_location=pointB\n",
    "    goal.material.material_type=material\n",
    "    goal.timeout=5000\n",
    "    goal.thickness = 0.005 #not important. can be anything\n",
    "    return goal\n",
    "    \n",
    "def set_screwing_goal(B_normal, B_screw_guess):\n",
    "    sc_goal = UnscrewGoal()\n",
    "    sc_goal.screw_location.header.frame_id = \"hrr_cobot.base_link\"\n",
    "    sc_goal.surface_normal.header.frame_id = \"hrr_cobot.base_link\"\n",
    "    sc_goal.surface_normal.vector = hrr_common.ros_utils.np2vec3(B_normal)\n",
    "    sc_goal.screw_location.point = hrr_common.ros_utils.np2vec3(B_screw_guess)\n",
    "    sc_goal.contact_force = 5\n",
    "    sc_goal.insertion_force = 10\n",
    "    sc_goal.timeout = 1200.0\n",
    "    return sc_goal\n",
    "    \n",
    "    \n",
    "vacuum_client = get_client(vacuum_pick_place_action_srv_name, VacuumGraspingAction)\n",
    "pgrip_client = get_client(finger_grasping_action_srv_name, FingerGraspAction)\n",
    "tool_change_client = get_client(change_tool_action_srv_name, ChangeToolAction)\n",
    "shaftgrinder_client=get_client(cutting_action_srv_name, CuttingAction)\n",
    "grasping_client = get_client(sensitive_grasping_action_srv_name, AdaptiveGraspingAction)\n",
    "unscrewing_client = get_client(unscrew_action_srv_name, UnscrewAction)\n",
    "calibrate_client = get_client(calibration_action_srv_name, CalibrateCobotAction)"
   ]
  },
  {
   "cell_type": "markdown",
   "id": "920e53e9",
   "metadata": {},
   "source": [
    "### Load robot"
   ]
  },
  {
   "cell_type": "code",
   "execution_count": 5,
   "id": "8a8d398f",
   "metadata": {},
   "outputs": [
    {
     "name": "stdout",
     "output_type": "stream",
     "text": [
      "[rosout] [/microwave_demo] Initialize MATLAB-Motion planner @ /home/hrr_cobot/_ros/hr_recycler_ws/src/planner/src\n",
      "[rosout] [/microwave_demo] connected to Matlab\n",
      "Shutting down global node /matlab_global_node_64741 with NodeURI http://192.168.2.87:44429/\n",
      "The value of the ROS_IP environment variable, 192.168.2.87, will be used to set the advertised address for the ROS node.\n",
      "Initializing global node /matlab_global_node_99632 with NodeURI http://192.168.2.87:43465/\n",
      "[rosout] [/microwave_demo] MATLAB-Initialization done\n"
     ]
    },
    {
     "name": "stderr",
     "output_type": "stream",
     "text": [
      "pybullet build time: May  8 2021 05:48:13\n"
     ]
    },
    {
     "name": "stdout",
     "output_type": "stream",
     "text": [
      "[rosout] some functions are not yet compiled. Expect delays upon first call\n"
     ]
    }
   ],
   "source": [
    "import hrr_cobot_robot as hrr_rob\n",
    "cobot = hrr_rob.HrrCobotControl.from_ros(\"/hrr_cobot\")\n",
    "#cobot.change_tool(\"nothing\")"
   ]
  },
  {
   "cell_type": "code",
   "execution_count": null,
   "id": "32aea284",
   "metadata": {},
   "outputs": [],
   "source": [
    "cobot.change_tool(\"shaftgrinder\")"
   ]
  },
  {
   "cell_type": "code",
   "execution_count": 6,
   "id": "a42909b9",
   "metadata": {},
   "outputs": [
    {
     "data": {
      "text/plain": [
       "'shaft_grinder'"
      ]
     },
     "execution_count": 6,
     "metadata": {},
     "output_type": "execute_result"
    }
   ],
   "source": [
    "cobot.tool"
   ]
  },
  {
   "cell_type": "code",
   "execution_count": null,
   "id": "a587b5ff",
   "metadata": {},
   "outputs": [],
   "source": [
    "#!rosparam get /hrr_cobot/tool_name"
   ]
  },
  {
   "cell_type": "code",
   "execution_count": null,
   "id": "4f204d46",
   "metadata": {},
   "outputs": [],
   "source": [
    "cobot.B_F_msr"
   ]
  },
  {
   "cell_type": "markdown",
   "id": "1f6b1f17",
   "metadata": {},
   "source": [
    "cobot.change_tool(\"shaftgrinder\")\n",
    "cobot.tool_controller.run_shaftgrinder(1.0,\"slow\")"
   ]
  },
  {
   "cell_type": "markdown",
   "id": "c3091965",
   "metadata": {},
   "source": [
    "# Microwave disassembly"
   ]
  },
  {
   "cell_type": "markdown",
   "id": "d7deddb4",
   "metadata": {},
   "source": [
    "## Tool Change to Screwdriver"
   ]
  },
  {
   "cell_type": "code",
   "execution_count": null,
   "id": "8e95f9ee",
   "metadata": {},
   "outputs": [],
   "source": [
    "# cobot.move_to_joint_pose(tool_change_pose, stochastic=True)\n",
    "# rospy.sleep(1)\n",
    "# cobot.open_tool_changer()\n",
    "tc_goal = ChangeToolGoal()\n",
    "tc_goal.new_tool.type = tc_goal.new_tool.SCREW_DRIVER\n",
    "tool_change_client.send_goal(tc_goal)\n",
    "# cancel(tool_change_client)"
   ]
  },
  {
   "cell_type": "code",
   "execution_count": null,
   "id": "a465c3c2",
   "metadata": {},
   "outputs": [],
   "source": [
    "cobot.close_tool_changer()\n"
   ]
  },
  {
   "cell_type": "code",
   "execution_count": null,
   "id": "a3e54e9f",
   "metadata": {},
   "outputs": [],
   "source": [
    "cobot.change_tool(\"screwdriver\")\n"
   ]
  },
  {
   "cell_type": "markdown",
   "id": "9f75af22",
   "metadata": {},
   "source": [
    "## Calibrate screwdriver"
   ]
  },
  {
   "cell_type": "code",
   "execution_count": null,
   "id": "c1545f80",
   "metadata": {},
   "outputs": [],
   "source": [
    "goal = CalibrateCobotGoal()\n",
    "data_path = pathlib.Path.home() / \"Documents\" / \"skill_recordings\"\n",
    "data_path.mkdir(parents=True, exist_ok=True)\n",
    "tool_name = hrr_common.ros_utils.get_param(f'{cobot_ns}tool_name')\n",
    "if tool_name == '':\n",
    "    tool_name = 'nothing'\n",
    "goal.calibration_file = str(data_path / f\"{tool_name}.pkl\")\n",
    "goal.data_file = str(data_path / f\"{tool_name}_calibration.npy\")\n",
    "goal.recalibrate = False\n",
    "goal.scale_q4 = 0.5\n",
    "goal.scale_q5 = 0.5\n",
    "goal.scale_q6 = 0.5"
   ]
  },
  {
   "cell_type": "code",
   "execution_count": null,
   "id": "ab05dcb1",
   "metadata": {},
   "outputs": [],
   "source": [
    "calibrate_client.send_goal(goal)"
   ]
  },
  {
   "cell_type": "code",
   "execution_count": null,
   "id": "637c7414",
   "metadata": {},
   "outputs": [],
   "source": [
    "cobot.update()\n",
    "cobot.FT.read_params()\n",
    "cobot.update()"
   ]
  },
  {
   "cell_type": "code",
   "execution_count": null,
   "id": "487f70c3",
   "metadata": {},
   "outputs": [],
   "source": [
    "cobot.q"
   ]
  },
  {
   "cell_type": "code",
   "execution_count": null,
   "id": "4c812d2e",
   "metadata": {},
   "outputs": [],
   "source": [
    "cobot.T_B_E_robot.A"
   ]
  },
  {
   "cell_type": "code",
   "execution_count": 45,
   "id": "69f934c9",
   "metadata": {},
   "outputs": [],
   "source": [
    "cobot.goTo(sm.SE3(0,0.00,0.15)@ cobot.T_B_E_robot)"
   ]
  },
  {
   "cell_type": "code",
   "execution_count": null,
   "id": "941aa12e",
   "metadata": {},
   "outputs": [],
   "source": [
    "cobot.IK(cobot.T_B_E_robot)"
   ]
  },
  {
   "cell_type": "code",
   "execution_count": null,
   "id": "bc983f03",
   "metadata": {},
   "outputs": [],
   "source": [
    "# cancel(unscrewing_client)"
   ]
  },
  {
   "cell_type": "markdown",
   "id": "f4326ef4",
   "metadata": {},
   "source": [
    "### Screw 1 - Front left of the microwave"
   ]
  },
  {
   "cell_type": "code",
   "execution_count": null,
   "id": "586ed381",
   "metadata": {},
   "outputs": [],
   "source": [
    "x: 0.525430364661\n",
    "    y: -0.145763534197\n",
    "    z: 0.342870911398\n",
    "x: 0.0492269555456\n",
    "    y: 0.0963132586081\n",
    "    z: 0.99413302081"
   ]
  },
  {
   "cell_type": "code",
   "execution_count": null,
   "id": "f263a51d",
   "metadata": {},
   "outputs": [],
   "source": [
    "B_normal = (np.r_[0.0492269555456,  0.0963132586081,  0.99413302081])\n",
    "B_screw_guess = np.r_[ 0.525430364661-0.001+0.002,-0.145763534197+0.028+0.005-0.004, 0.342870911398]\n",
    "sc_goal=set_screwing_goal(B_normal=B_normal, B_screw_guess=B_screw_guess)"
   ]
  },
  {
   "cell_type": "code",
   "execution_count": null,
   "id": "95af2767",
   "metadata": {
    "scrolled": true
   },
   "outputs": [],
   "source": [
    "unscrewing_client.send_goal(sc_goal)"
   ]
  },
  {
   "cell_type": "code",
   "execution_count": null,
   "id": "6cc7572f",
   "metadata": {},
   "outputs": [],
   "source": [
    "cancel(unscrewing_client)"
   ]
  },
  {
   "cell_type": "code",
   "execution_count": null,
   "id": "246e14c8",
   "metadata": {},
   "outputs": [],
   "source": [
    "cobot.T_B_C_robot"
   ]
  },
  {
   "cell_type": "code",
   "execution_count": null,
   "id": "aa9bfcdc",
   "metadata": {},
   "outputs": [],
   "source": [
    "cobot.change_tool(\"nothing\")"
   ]
  },
  {
   "cell_type": "markdown",
   "id": "9be3805e",
   "metadata": {},
   "source": [
    "### Screw 2 - Back right of the microwave"
   ]
  },
  {
   "cell_type": "code",
   "execution_count": null,
   "id": "1f609c6d",
   "metadata": {},
   "outputs": [],
   "source": [
    "B_normal = sm.base.rotx(-5, \"deg\") @ sm.base.unitvec(np.r_[0., 0.0, 1.0])\n",
    "B_screw_guess = np.r_[0.47646+0.001, 0.2437+0.008 , 0.31]\n",
    "sc_goal=set_screwing_goal(B_normal=B_normal, B_screw_guess=B_screw_guess)"
   ]
  },
  {
   "cell_type": "code",
   "execution_count": null,
   "id": "1edc2bca",
   "metadata": {
    "scrolled": true
   },
   "outputs": [],
   "source": [
    "unscrewing_client.send_goal(sc_goal)"
   ]
  },
  {
   "cell_type": "code",
   "execution_count": null,
   "id": "5baf2de5",
   "metadata": {},
   "outputs": [],
   "source": [
    "cancel(unscrewing_client)"
   ]
  },
  {
   "cell_type": "markdown",
   "id": "e0706546",
   "metadata": {},
   "source": [
    "## Tool Change to Shaftgrinder"
   ]
  },
  {
   "cell_type": "code",
   "execution_count": null,
   "id": "d705fc6d",
   "metadata": {},
   "outputs": [],
   "source": [
    "# cobot.change_tool(\"nothing\")\n",
    "# cobot.move_to_joint_pose(tool_change_pose, stochastic=True)\n",
    "# rospy.sleep(3)\n",
    "# cobot.open_tool_changer()\n",
    "# srv = rospy.ServiceProxy(\"/hrr_cobot/set_digital_io\", SetIO)\n",
    "# srv(SetIORequest(pin=14, state=False))\n",
    "# srv(SetIORequest(pin=13, state=False))\n",
    "# srv(SetIORequest(pin=12, state=False))\n",
    "tc_goal = ChangeToolGoal()\n",
    "tc_goal.new_tool.type = tc_goal.new_tool.SHAFT_GRINDER\n",
    "tool_change_client.send_goal(tc_goal)\n",
    "# cancel(tool_change_client)"
   ]
  },
  {
   "cell_type": "code",
   "execution_count": null,
   "id": "c6616672",
   "metadata": {},
   "outputs": [],
   "source": [
    "cobot.open_tool_changer()"
   ]
  },
  {
   "cell_type": "code",
   "execution_count": null,
   "id": "b51cc605",
   "metadata": {},
   "outputs": [],
   "source": [
    "cobot.change_tool(\"shaftgrinder\")\n"
   ]
  },
  {
   "cell_type": "code",
   "execution_count": null,
   "id": "bd938613",
   "metadata": {},
   "outputs": [],
   "source": [
    "#tool_change_client.cancel_all_goals()"
   ]
  },
  {
   "cell_type": "code",
   "execution_count": null,
   "id": "9341c206",
   "metadata": {},
   "outputs": [],
   "source": [
    "cobot.close_tool_changer()"
   ]
  },
  {
   "cell_type": "code",
   "execution_count": null,
   "id": "d9aa6af5",
   "metadata": {},
   "outputs": [],
   "source": [
    "cobot.q"
   ]
  },
  {
   "cell_type": "code",
   "execution_count": null,
   "id": "538b6328",
   "metadata": {},
   "outputs": [],
   "source": [
    "cobot.q"
   ]
  },
  {
   "cell_type": "code",
   "execution_count": 46,
   "id": "d34b01f1",
   "metadata": {},
   "outputs": [
    {
     "name": "stdout",
     "output_type": "stream",
     "text": [
      "Warning: Integer operands are required for colon operator when used as index.\n",
      "> In gpmp2.test3Ddataset>add_obstacle (line 245)\n",
      "In gpmp2.test3Ddataset (line 82)\n",
      "In HrRecyclerPerecptioPipeline (line 51)\n",
      "\n",
      "Warning: Integer operands are required for colon operator when used as index.\n",
      "> In gpmp2.test3Ddataset>add_obstacle (line 245)\n",
      "In gpmp2.test3Ddataset (line 82)\n",
      "In HrRecyclerPerecptioPipeline (line 51)\n",
      "\n",
      "calculating signed distance field ...\n",
      "calculating signed distance field done\n",
      "Elapsed time is 2.801787 seconds.\n",
      "Elapsed time is 0.021384 seconds.\n"
     ]
    },
    {
     "name": "stderr",
     "output_type": "stream",
     "text": [
      "[rosout] [/microwave_demo] Planner is done and execution is running ...\n"
     ]
    }
   ],
   "source": [
    "cobot.move_to_joint_pose([ 1.34109,  0.09328, -1.44435, -0.01627,  0.67686, -0.00009], stochastic=True)"
   ]
  },
  {
   "cell_type": "markdown",
   "id": "8b66e4c6",
   "metadata": {},
   "source": [
    "## Cutting"
   ]
  },
  {
   "cell_type": "code",
   "execution_count": null,
   "id": "5b79d2be",
   "metadata": {},
   "outputs": [],
   "source": [
    "x: 0.699120541878\n",
    "    y: -0.228496585032\n",
    "    z: 0.225994310082\n",
    "11:47 Uhr\n",
    ": 0.699120541878\n",
    "    y: -0.208496585032\n",
    "    z: 0.225994310082"
   ]
  },
  {
   "cell_type": "code",
   "execution_count": 42,
   "id": "50bf82c9",
   "metadata": {},
   "outputs": [],
   "source": [
    "pointA = hrr_cm.ros_utils.np2vector3stamped(np.r_[0.699120541878+0.015, -0.228496585032+0.035,  0.225994310082-0.005], \"pointA\")#[0.6921,0.2472,0.],\"pointA\")\n",
    "pointB = hrr_cm.ros_utils.np2vector3stamped(np.r_[0.699120541878+0.015, -0.208496585032+0.04,  0.225994310082-0.005], \"pointB\")\n",
    "goal = set_cutting_goal(pointA=pointA, pointB=pointB)"
   ]
  },
  {
   "cell_type": "code",
   "execution_count": 43,
   "id": "053a1982",
   "metadata": {
    "scrolled": true
   },
   "outputs": [],
   "source": [
    "shaftgrinder_client.send_goal(goal)"
   ]
  },
  {
   "cell_type": "code",
   "execution_count": null,
   "id": "f5dbb618",
   "metadata": {},
   "outputs": [],
   "source": [
    "cobot.move_to_joint_pose([ 1.34109,  0.09328, -1.44435, -0.01627,  0.67686, -0.00009], stochastic=True)"
   ]
  },
  {
   "cell_type": "code",
   "execution_count": 44,
   "id": "0969b5d1",
   "metadata": {
    "scrolled": true
   },
   "outputs": [],
   "source": [
    "cancel(shaftgrinder_client)"
   ]
  },
  {
   "cell_type": "code",
   "execution_count": null,
   "id": "420536b4",
   "metadata": {},
   "outputs": [],
   "source": [
    "cobot.change_tool(\"nothing\")\n"
   ]
  },
  {
   "cell_type": "code",
   "execution_count": null,
   "id": "dfee0920",
   "metadata": {},
   "outputs": [],
   "source": [
    "srv = rospy.ServiceProxy(\"/hrr_cobot/set_digital_io\", SetIO)\n",
    "srv(SetIORequest(pin=14, state=False))\n",
    "srv(SetIORequest(pin=13, state=False))\n",
    "srv(SetIORequest(pin=12, state=False))"
   ]
  },
  {
   "cell_type": "code",
   "execution_count": null,
   "id": "1aa4ae07",
   "metadata": {},
   "outputs": [],
   "source": [
    "cobot.move_to_joint_pose(tool_change_pose, stochastic=True)\n"
   ]
  },
  {
   "cell_type": "markdown",
   "id": "67a4daac",
   "metadata": {},
   "source": [
    "## Tool changing to nothing"
   ]
  },
  {
   "cell_type": "code",
   "execution_count": null,
   "id": "3225ae5f",
   "metadata": {},
   "outputs": [],
   "source": [
    "# cobot.move_to_joint_pose(tool_change_pose, stochastic=True)\n",
    "# rospy.sleep(3)\n",
    "# cobot.open_tool_changer()\n",
    "# rospy.sleep(3)\n",
    "# cobot.close_tool_changer()\n",
    "# cobot.change_tool(\"nothing\")\n",
    "# # tc_goal = ChangeToolGoal()\n",
    "# #tc_goal.new_tool.type = tc_goal.new_tool.WSG_50\n",
    "# # tool_change_client.send_goal(tc_goal)\n",
    "# # tool_change_client.cancel_all_goals()"
   ]
  }
 ],
 "metadata": {
  "kernelspec": {
   "display_name": "Python 3 (ipykernel)",
   "language": "python",
   "name": "python3"
  },
  "language_info": {
   "codemirror_mode": {
    "name": "ipython",
    "version": 3
   },
   "file_extension": ".py",
   "mimetype": "text/x-python",
   "name": "python",
   "nbconvert_exporter": "python",
   "pygments_lexer": "ipython3",
   "version": "3.8.12"
  },
  "latex_envs": {
   "LaTeX_envs_menu_present": true,
   "autoclose": false,
   "autocomplete": true,
   "bibliofile": "biblio.bib",
   "cite_by": "apalike",
   "current_citInitial": 1,
   "eqLabelWithNumbers": true,
   "eqNumInitial": 1,
   "hotkeys": {
    "equation": "Ctrl-E",
    "itemize": "Ctrl-I"
   },
   "labels_anchors": false,
   "latex_user_defs": false,
   "report_style_numbering": false,
   "user_envs_cfg": false
  },
  "toc": {
   "base_numbering": 1,
   "nav_menu": {},
   "number_sections": true,
   "sideBar": true,
   "skip_h1_title": false,
   "title_cell": "Table of Contents",
   "title_sidebar": "Contents",
   "toc_cell": false,
   "toc_position": {},
   "toc_section_display": true,
   "toc_window_display": false
  }
 },
 "nbformat": 4,
 "nbformat_minor": 5
}
