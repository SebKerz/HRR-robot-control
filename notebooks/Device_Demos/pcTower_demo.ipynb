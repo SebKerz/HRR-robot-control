{
 "cells": [
  {
   "cell_type": "code",
   "execution_count": 1,
   "id": "47d12d79",
   "metadata": {},
   "outputs": [],
   "source": [
    "# math and robotics\n",
    "import pathlib\n",
    "import numpy as np\n",
    "import spatialmath as sm\n",
    "import quaternion\n",
    "from comau_msgs.srv import SetIO, SetIORequest\n",
    "\n",
    "# ROS\n",
    "import actionlib\n",
    "import rospy\n",
    "import hrr_common\n",
    "from hr_recycler_msgs.msg import (\n",
    "    AdaptiveGraspingAction, AdaptiveGraspingGoal,\n",
    "    CuttingAction, CuttingGoal,\n",
    "    ChangeToolAction, ChangeToolGoal,    \n",
    "    FingerGraspAction, FingerGraspGoal,    \n",
    "    PushOpenAction, PushOpenGoal,\n",
    "    VacuumGraspingAction, VacuumGraspingGoal,\n",
    "    UnscrewAction, UnscrewGoal\n",
    ")\n",
    "from hrr_msgs.msg import CalibrateCobotAction, CalibrateCobotGoal\n",
    "\n",
    "# set printing and plotting options\n",
    "np.set_printoptions(precision=5, suppress=True)\n",
    "\n",
    "from hr_recycler_msgs.msg import CuttingAction, CuttingFeedback, CuttingResult, CuttingGoal, SkillResult, CobotState, MaterialType\n",
    "import actionlib\n",
    "from hr_recycler_msgs.msg import ToolType\n",
    "\n",
    "from hr_recycler_msgs.msg import PlannerAction , PlannerGoal\n",
    "import hrr_common as hrr_cm"
   ]
  },
  {
   "cell_type": "code",
   "execution_count": 2,
   "id": "e8d69d42",
   "metadata": {},
   "outputs": [],
   "source": [
    "tool_change_pose = [-0.84518,  0.55554, -1.57835,  0.20987, -0.43471, -2.6285 ] #[-0.9376716018,  0.7174308896, -1.2232894897, -0.0096366024, -0.227122277 , -2.4522731304]"
   ]
  },
  {
   "cell_type": "code",
   "execution_count": 3,
   "id": "1e611351",
   "metadata": {},
   "outputs": [],
   "source": [
    "rospy.init_node('pcTower_demo')"
   ]
  },
  {
   "cell_type": "code",
   "execution_count": 4,
   "id": "805e7838",
   "metadata": {},
   "outputs": [],
   "source": [
    "cobot_ns = hrr_common.ros_utils.fix_prefix(hrr_common.ros_utils.get_param(\"/cobot_ns\"))\n",
    "change_tool_action_srv_name = hrr_common.ros_utils.get_param(f\"{cobot_ns}change_tool_action_srv_name\")\n",
    "calibration_action_srv_name = hrr_common.ros_utils.get_param(f\"{cobot_ns}calibration_action_srv_name\")\n",
    "cutting_action_srv_name = hrr_common.ros_utils.get_param(f\"{cobot_ns}cutting_action_srv_name\")\n",
    "grinding_action_srv_name = hrr_common.ros_utils.get_param(f\"{cobot_ns}grinding_action_srv_name\")\n",
    "pc_opening_action_srv_name = hrr_common.ros_utils.get_param(f\"{cobot_ns}pc_opening_action_srv_name\")\n",
    "sensitive_grasping_action_srv_name = hrr_common.ros_utils.get_param(f\"{cobot_ns}sensitive_grasping_action_srv_name\")\n",
    "unscrew_action_srv_name = hrr_common.ros_utils.get_param(f\"{cobot_ns}unscrew_action_srv_name\")\n",
    "vacuum_pick_place_action_srv_name = hrr_common.ros_utils.get_param(f\"{cobot_ns}vacuum_pick_place_action_srv_name\")\n",
    "finger_grasping_action_srv_name= hrr_common.ros_utils.get_param(f\"{cobot_ns}finger_grasping_action_srv_name\")\n",
    "#pgrip_client = get_client(finger_grasping_action_srv_name, FingerGraspAction)\n",
    "\n",
    "def get_client(action_topic, ActionClass, timeout_secs=2.0):\n",
    "    client = actionlib.SimpleActionClient(action_topic, ActionClass)\n",
    "    client.wait_for_server(timeout=rospy.Duration(timeout_secs))\n",
    "    return client\n",
    "def get_result(cl):\n",
    "    cl.wait_for_result()\n",
    "    return cl.get_result()\n",
    "\n",
    "def cancel(cl):\n",
    "    cl.cancel_all_goals()\n",
    "    \n",
    "def set_screwing_goal(B_normal, B_screw_guess):\n",
    "    sc_goal = UnscrewGoal()\n",
    "    sc_goal.screw_location.header.frame_id = \"hrr_cobot.base_link\"\n",
    "    sc_goal.surface_normal.header.frame_id = \"hrr_cobot.base_link\"\n",
    "    sc_goal.surface_normal.vector = hrr_common.ros_utils.np2vec3(B_normal)\n",
    "    sc_goal.screw_location.point = hrr_common.ros_utils.np2vec3(B_screw_guess)\n",
    "    sc_goal.contact_force = 5\n",
    "    sc_goal.insertion_force = 10\n",
    "    sc_goal.timeout = 1200.0\n",
    "    return sc_goal\n",
    "    \n",
    "    \n",
    "vacuum_client = get_client(vacuum_pick_place_action_srv_name, VacuumGraspingAction)\n",
    "pgrip_client = get_client(finger_grasping_action_srv_name, FingerGraspAction)\n",
    "tool_change_client = get_client(change_tool_action_srv_name, ChangeToolAction)\n",
    "shaftgrinder_client=get_client(cutting_action_srv_name, CuttingAction)\n",
    "grasping_client = get_client(sensitive_grasping_action_srv_name, AdaptiveGraspingAction)\n",
    "unscrewing_client = get_client(unscrew_action_srv_name, UnscrewAction)\n",
    "calibrate_client = get_client(calibration_action_srv_name, CalibrateCobotAction)"
   ]
  },
  {
   "cell_type": "markdown",
   "id": "920e53e9",
   "metadata": {},
   "source": [
    "### Load robot"
   ]
  },
  {
   "cell_type": "code",
   "execution_count": 5,
   "id": "8a8d398f",
   "metadata": {},
   "outputs": [
    {
     "name": "stdout",
     "output_type": "stream",
     "text": [
      "[rosout] [/pcTower_demo] Initialize MATLAB-Motion planner @ /home/hrr_cobot/_ros/hr_recycler_ws/src/planner/src\n",
      "[rosout] [/pcTower_demo] connected to Matlab\n",
      "Shutting down global node /matlab_global_node_23528 with NodeURI http://192.168.2.87:42833/\n",
      "The value of the ROS_IP environment variable, 192.168.2.87, will be used to set the advertised address for the ROS node.\n",
      "Initializing global node /matlab_global_node_34130 with NodeURI http://192.168.2.87:39677/\n",
      "[rosout] [/pcTower_demo] MATLAB-Initialization done\n"
     ]
    },
    {
     "name": "stderr",
     "output_type": "stream",
     "text": [
      "[rosout] vacuum gripper contains two tips. This contradicts default pipeline atm. Use 1\n",
      "pybullet build time: May  8 2021 05:48:13\n"
     ]
    },
    {
     "name": "stdout",
     "output_type": "stream",
     "text": [
      "[rosout] some functions are not yet compiled. Expect delays upon first call\n"
     ]
    }
   ],
   "source": [
    "import hrr_cobot_robot as hrr_rob\n",
    "cobot = hrr_rob.HrrCobotControl.from_ros(\"/hrr_cobot\")\n",
    "#cobot.change_tool(\"nothing\")"
   ]
  },
  {
   "cell_type": "code",
   "execution_count": null,
   "id": "a587b5ff",
   "metadata": {},
   "outputs": [],
   "source": [
    "#!rosparam get /hrr_cobot/tool_name"
   ]
  },
  {
   "cell_type": "markdown",
   "id": "c3091965",
   "metadata": {},
   "source": [
    "# PC Tower disassembly"
   ]
  },
  {
   "cell_type": "markdown",
   "id": "d7deddb4",
   "metadata": {},
   "source": [
    "## Tool Change to Screwdriver"
   ]
  },
  {
   "cell_type": "code",
   "execution_count": null,
   "id": "61460cbd",
   "metadata": {},
   "outputs": [],
   "source": [
    "# cobot.change_tool(\"nothing\")"
   ]
  },
  {
   "cell_type": "code",
   "execution_count": null,
   "id": "5ef87b99",
   "metadata": {},
   "outputs": [],
   "source": [
    "# cobot.move_to_joint_pose(tool_change_pose, stochastic=True)\n",
    "# rospy.sleep(3)\n",
    "# cobot.open_tool_changer()\n",
    "\n",
    "tc_goal = ChangeToolGoal()\n",
    "tc_goal.new_tool.type = tc_goal.new_tool.SCREW_DRIVER\n",
    "tool_change_client.send_goal(tc_goal)\n",
    "cancel(tool_change_client)"
   ]
  },
  {
   "cell_type": "code",
   "execution_count": null,
   "id": "fab4f6b9",
   "metadata": {},
   "outputs": [],
   "source": [
    "# cobot.close_tool_changer()\n"
   ]
  },
  {
   "cell_type": "code",
   "execution_count": 23,
   "id": "94367d52",
   "metadata": {},
   "outputs": [
    {
     "data": {
      "text/plain": [
       "True"
      ]
     },
     "execution_count": 23,
     "metadata": {},
     "output_type": "execute_result"
    }
   ],
   "source": [
    "cobot.change_tool(\"screwdriver\")"
   ]
  },
  {
   "cell_type": "code",
   "execution_count": null,
   "id": "c9a83197",
   "metadata": {},
   "outputs": [],
   "source": [
    "#Caliberate\n",
    "goal = CalibrateCobotGoal()\n",
    "data_path = pathlib.Path.home() / \"Documents\" / \"skill_recordings\"\n",
    "data_path.mkdir(parents=True, exist_ok=True)\n",
    "tool_name = hrr_common.ros_utils.get_param(f'{cobot_ns}tool_name')\n",
    "if tool_name == '':\n",
    "    tool_name = 'nothing'\n",
    "goal.calibration_file = str(data_path / f\"{tool_name}.pkl\")\n",
    "goal.data_file = str(data_path / f\"{tool_name}_calibration.npy\")\n",
    "goal.recalibrate = False\n",
    "goal.scale_q4 = 0.5\n",
    "goal.scale_q5 = 0.5\n",
    "goal.scale_q6 = 0.5"
   ]
  },
  {
   "cell_type": "code",
   "execution_count": null,
   "id": "695d2ea5",
   "metadata": {},
   "outputs": [],
   "source": [
    "calibrate_client.send_goal(goal)"
   ]
  },
  {
   "cell_type": "markdown",
   "id": "b78b51f2",
   "metadata": {},
   "source": [
    "# Unscrew screw (1st- back left)"
   ]
  },
  {
   "cell_type": "code",
   "execution_count": 8,
   "id": "d70d2c11",
   "metadata": {},
   "outputs": [],
   "source": [
    "B_normal = sm.base.rotx(0, \"deg\") @ sm.base.unitvec(np.r_[0., 0.0, 1.0])\n",
    "B_screw_guess = np.r_[0.687850056696+0.006,  -0.00993826496201+0.028,  0.430110349768]\n",
    "sc_goal=set_screwing_goal(B_normal=B_normal, B_screw_guess=B_screw_guess)"
   ]
  },
  {
   "cell_type": "code",
   "execution_count": 9,
   "id": "ff60484d",
   "metadata": {
    "scrolled": true
   },
   "outputs": [],
   "source": [
    "unscrewing_client.send_goal(sc_goal)\n",
    "# cancel(unscrewing_client)"
   ]
  },
  {
   "cell_type": "code",
   "execution_count": 35,
   "id": "e8eee2ce",
   "metadata": {},
   "outputs": [],
   "source": [
    "cancel(unscrewing_client)"
   ]
  },
  {
   "cell_type": "code",
   "execution_count": 13,
   "id": "a82112f1",
   "metadata": {},
   "outputs": [
    {
     "data": {
      "text/plain": [
       "array([ 0.72819,  0.10041, -1.51531, -1.51356,  1.38538, -3.04778])"
      ]
     },
     "execution_count": 13,
     "metadata": {},
     "output_type": "execute_result"
    }
   ],
   "source": [
    "cobot.q"
   ]
  },
  {
   "cell_type": "markdown",
   "id": "b54e7173",
   "metadata": {},
   "source": [
    "## Unscrew (2nd-right)"
   ]
  },
  {
   "cell_type": "code",
   "execution_count": 10,
   "id": "514a77c8",
   "metadata": {},
   "outputs": [],
   "source": [
    "B_normal = sm.base.rotx(0, \"deg\") @ sm.base.unitvec(np.r_[0., 0.0, 1.0])\n",
    "B_screw_guess = np.r_[0.749674510877+0.006,  -0.012553101963+0.028,  0.430315881079]\n",
    "sc_goal=set_screwing_goal(B_normal=B_normal, B_screw_guess=B_screw_guess)"
   ]
  },
  {
   "cell_type": "code",
   "execution_count": 11,
   "id": "c2fab894",
   "metadata": {
    "scrolled": true
   },
   "outputs": [],
   "source": [
    "unscrewing_client.send_goal(sc_goal)\n"
   ]
  },
  {
   "cell_type": "code",
   "execution_count": 16,
   "id": "3612f99a",
   "metadata": {},
   "outputs": [],
   "source": [
    "#cancel(unscrewing_client)"
   ]
  },
  {
   "cell_type": "markdown",
   "id": "6ca8fb6b",
   "metadata": {},
   "source": [
    "## Unscrew (2nd-right)"
   ]
  },
  {
   "cell_type": "code",
   "execution_count": 12,
   "id": "45b4d23f",
   "metadata": {},
   "outputs": [],
   "source": [
    "B_normal = sm.base.rotx(0, \"deg\") @ sm.base.unitvec(np.r_[0., 0.0, 1.0])\n",
    "B_screw_guess = np.r_[0.689671691919+0.006,  0.0722290824381+0.028,   0.428154349806]\n",
    "sc_goal=set_screwing_goal(B_normal=B_normal, B_screw_guess=B_screw_guess)"
   ]
  },
  {
   "cell_type": "code",
   "execution_count": 16,
   "id": "d7e940da",
   "metadata": {},
   "outputs": [],
   "source": [
    "unscrewing_client.send_goal(sc_goal)\n"
   ]
  },
  {
   "cell_type": "code",
   "execution_count": 17,
   "id": "ca7c0e90",
   "metadata": {},
   "outputs": [],
   "source": [
    "cancel(unscrewing_client)"
   ]
  },
  {
   "cell_type": "markdown",
   "id": "07f1a74a",
   "metadata": {},
   "source": [
    "## Unscrew (2nd-right)"
   ]
  },
  {
   "cell_type": "code",
   "execution_count": null,
   "id": "54e62a36",
   "metadata": {},
   "outputs": [],
   "source": [
    "x: 0.750863339196\n",
    "    y: 0.0701303721073\n",
    "    z: 0.427483881232"
   ]
  },
  {
   "cell_type": "code",
   "execution_count": 18,
   "id": "13ef44bc",
   "metadata": {},
   "outputs": [],
   "source": [
    "B_normal = sm.base.rotx(0, \"deg\") @ sm.base.unitvec(np.r_[0., 0.0, 1.0])\n",
    "B_screw_guess = np.r_[0.750863339196+0.006,  0.0701303721073+0.028,   0.427483881232]\n",
    "sc_goal=set_screwing_goal(B_normal=B_normal, B_screw_guess=B_screw_guess)"
   ]
  },
  {
   "cell_type": "code",
   "execution_count": 19,
   "id": "533553bd",
   "metadata": {},
   "outputs": [],
   "source": [
    "unscrewing_client.send_goal(sc_goal)\n"
   ]
  },
  {
   "cell_type": "code",
   "execution_count": 20,
   "id": "30852433",
   "metadata": {},
   "outputs": [],
   "source": [
    "cancel(unscrewing_client)"
   ]
  },
  {
   "cell_type": "markdown",
   "id": "63138049",
   "metadata": {},
   "source": [
    "### remember to change collision models"
   ]
  },
  {
   "cell_type": "markdown",
   "id": "9f6a709d",
   "metadata": {},
   "source": [
    "## Change tool to vacuum gripper"
   ]
  },
  {
   "cell_type": "code",
   "execution_count": null,
   "id": "d7ade896",
   "metadata": {},
   "outputs": [],
   "source": [
    "# cobot.change_tool(\"nothing\")"
   ]
  },
  {
   "cell_type": "code",
   "execution_count": 7,
   "id": "e5da3dd6",
   "metadata": {},
   "outputs": [],
   "source": [
    "cobot.close_tool_changer()"
   ]
  },
  {
   "cell_type": "code",
   "execution_count": null,
   "id": "56c0628f",
   "metadata": {},
   "outputs": [],
   "source": [
    "# cobot.move_to_joint_pose(tool_change_pose, stochastic=True)\n",
    "# rospy.sleep(3)\n",
    "# cobot.open_tool_changer()\n",
    "\n",
    "tc_goal = ChangeToolGoal()\n",
    "tc_goal.new_tool.type = tc_goal.new_tool.WSG_50\n",
    "tool_change_client.send_goal(tc_goal)\n",
    "tool_change_client.cancel_all_goals()"
   ]
  },
  {
   "cell_type": "code",
   "execution_count": null,
   "id": "7517d48a",
   "metadata": {},
   "outputs": [],
   "source": [
    "# srv = rospy.ServiceProxy(\"/hrr_cobot/set_digital_io\", SetIO)\n",
    "# srv(SetIORequest(pin=14, state=False))\n",
    "# srv(SetIORequest(pin=13, state=False))\n",
    "# srv(SetIORequest(pin=12, state=False))"
   ]
  },
  {
   "cell_type": "code",
   "execution_count": null,
   "id": "548b0779",
   "metadata": {},
   "outputs": [],
   "source": [
    "# cobot.close_tool_changer()"
   ]
  },
  {
   "cell_type": "code",
   "execution_count": 21,
   "id": "9a26685b",
   "metadata": {},
   "outputs": [
    {
     "data": {
      "text/plain": [
       "True"
      ]
     },
     "execution_count": 21,
     "metadata": {},
     "output_type": "execute_result"
    }
   ],
   "source": [
    "cobot.change_tool(\"vacuum\")"
   ]
  },
  {
   "cell_type": "code",
   "execution_count": 11,
   "id": "e7a0c64b",
   "metadata": {},
   "outputs": [],
   "source": [
    "calib_pose = [ 1.34109,  0.09328, -1.44435, -0.01627,  0.67686, -0.00009] # caliberation pose for ecoreset pilot"
   ]
  },
  {
   "cell_type": "code",
   "execution_count": 12,
   "id": "e91c1f23",
   "metadata": {},
   "outputs": [
    {
     "name": "stdout",
     "output_type": "stream",
     "text": [
      "Warning: Integer operands are required for colon operator when used as index.\n",
      "> In gpmp2.test3Ddataset>add_obstacle (line 245)\n",
      "In gpmp2.test3Ddataset (line 47)\n",
      "In HrRecyclerPerecptioPipeline (line 51)\n",
      "\n",
      "Warning: Integer operands are required for colon operator when used as index.\n",
      "> In gpmp2.test3Ddataset>add_obstacle (line 245)\n",
      "In gpmp2.test3Ddataset (line 47)\n",
      "In HrRecyclerPerecptioPipeline (line 51)\n",
      "\n",
      "Warning: Integer operands are required for colon operator when used as index.\n",
      "> In gpmp2.test3Ddataset>add_obstacle (line 245)\n",
      "In gpmp2.test3Ddataset (line 48)\n",
      "In HrRecyclerPerecptioPipeline (line 51)\n",
      "\n",
      "Warning: Integer operands are required for colon operator when used as index.\n",
      "> In gpmp2.test3Ddataset>add_obstacle (line 245)\n",
      "In gpmp2.test3Ddataset (line 48)\n",
      "In HrRecyclerPerecptioPipeline (line 51)\n",
      "\n",
      "Warning: Integer operands are required for colon operator when used as index.\n",
      "> In gpmp2.test3Ddataset>add_obstacle (line 245)\n",
      "In gpmp2.test3Ddataset (line 49)\n",
      "In HrRecyclerPerecptioPipeline (line 51)\n",
      "\n",
      "Warning: Integer operands are required for colon operator when used as index.\n",
      "> In gpmp2.test3Ddataset>add_obstacle (line 245)\n",
      "In gpmp2.test3Ddataset (line 49)\n",
      "In HrRecyclerPerecptioPipeline (line 51)\n",
      "\n",
      "Warning: Integer operands are required for colon operator when used as index.\n",
      "> In gpmp2.test3Ddataset>add_obstacle (line 245)\n",
      "In gpmp2.test3Ddataset (line 50)\n",
      "In HrRecyclerPerecptioPipeline (line 51)\n",
      "\n",
      "Warning: Integer operands are required for colon operator when used as index.\n",
      "> In gpmp2.test3Ddataset>add_obstacle (line 245)\n",
      "In gpmp2.test3Ddataset (line 50)\n",
      "In HrRecyclerPerecptioPipeline (line 51)\n",
      "\n",
      "calculating signed distance field ...\n",
      "calculating signed distance field done\n",
      "Elapsed time is 3.144466 seconds.\n",
      "Elapsed time is 0.009567 seconds.\n"
     ]
    },
    {
     "name": "stderr",
     "output_type": "stream",
     "text": [
      "[rosout] [/pcTower_demo] Planner is done and execution is running ...\n"
     ]
    }
   ],
   "source": [
    "cobot.move_to_joint_pose(calib_pose, stochastic = True)"
   ]
  },
  {
   "cell_type": "markdown",
   "id": "c2cbd396",
   "metadata": {},
   "source": [
    "## Vacuum grasp the  cover"
   ]
  },
  {
   "cell_type": "code",
   "execution_count": null,
   "id": "8b172d71",
   "metadata": {},
   "outputs": [],
   "source": []
  },
  {
   "cell_type": "code",
   "execution_count": 12,
   "id": "5731a04b",
   "metadata": {},
   "outputs": [],
   "source": [
    "obj_pos_guess = np.r_[0.654525457641, -0.00305902820621, 0.205666155003] \n",
    "obj_orient_guess = np.quaternion(-0.5, 0.5, 0.5, 0.5)\n",
    "\n",
    "release_pos = np.r_[0.0192,0.5456 , 0.186] \n",
    "release_orientation = obj_orient_guess"
   ]
  },
  {
   "cell_type": "code",
   "execution_count": 13,
   "id": "55e432c5",
   "metadata": {},
   "outputs": [],
   "source": [
    "vac_goal = VacuumGraspingGoal()\n",
    "vac_goal.object_center.header.frame_id = \"hrr_cobot.base_link\"\n",
    "vac_goal.object_center.pose.position = hrr_common.ros_utils.np2vec3(obj_pos_guess)\n",
    "vac_goal.object_center.pose.orientation = hrr_common.ros_utils.np2quat(obj_orient_guess)\n",
    "\n",
    "vac_goal.release_pose.header.frame_id = \"hrr_cobot.base_link\"\n",
    "vac_goal.release_pose.pose.position = hrr_common.ros_utils.np2vec3(release_pos)\n",
    "vac_goal.release_pose.pose.orientation = hrr_common.ros_utils.np2quat(release_orientation)\n",
    "\n",
    "# vac_goal.timeout = 120.0\n",
    "# vac_goal"
   ]
  },
  {
   "cell_type": "code",
   "execution_count": 14,
   "id": "ecb85b41",
   "metadata": {},
   "outputs": [],
   "source": [
    "vacuum_client.send_goal(vac_goal)\n"
   ]
  },
  {
   "cell_type": "code",
   "execution_count": 10,
   "id": "214b4352",
   "metadata": {},
   "outputs": [],
   "source": [
    "cancel(vacuum_client)"
   ]
  },
  {
   "cell_type": "code",
   "execution_count": 13,
   "id": "da8e9e94",
   "metadata": {},
   "outputs": [
    {
     "data": {
      "text/plain": [
       "array([ 0.00826,  0.7347 ,  0.67825, -0.01092])"
      ]
     },
     "execution_count": 13,
     "metadata": {},
     "output_type": "execute_result"
    }
   ],
   "source": [
    "sm.base.r2q(cobot.T_B_E_robot.R)"
   ]
  },
  {
   "cell_type": "code",
   "execution_count": 21,
   "id": "ccb819f7",
   "metadata": {},
   "outputs": [],
   "source": [
    "obj_orient_guess = np.quaternion(0.712022653946,0,-0.702133595634, 0.00567046291769)\n",
    "obj_orient_guess = quaternion.from_rotation_matrix(quaternion.as_rotation_matrix(obj_orient_guess) @ sm.SE3.Rx(np.rad2deg(-45)).R)"
   ]
  },
  {
   "cell_type": "code",
   "execution_count": 50,
   "id": "43428d01",
   "metadata": {},
   "outputs": [],
   "source": [
    "obj_orient_guess = quaternion.from_rotation_matrix(quaternion.as_rotation_matrix(obj_orient_guess) @ sm.SE3.Rx(np.rad2deg(90)).R)"
   ]
  },
  {
   "cell_type": "code",
   "execution_count": 40,
   "id": "62ed4032",
   "metadata": {},
   "outputs": [],
   "source": [
    "cobot.move_to_joint_pose(cobot.q_calib, stochastic = False)"
   ]
  },
  {
   "cell_type": "code",
   "execution_count": 48,
   "id": "ca847f00",
   "metadata": {},
   "outputs": [
    {
     "data": {
      "text/plain": [
       "quaternion(-0.421384067785507, 0.5739440104652, 0.420102418409819, 0.56261683081284)"
      ]
     },
     "execution_count": 48,
     "metadata": {},
     "output_type": "execute_result"
    }
   ],
   "source": [
    "obj_orient_guess"
   ]
  },
  {
   "cell_type": "code",
   "execution_count": 54,
   "id": "2c44df96",
   "metadata": {},
   "outputs": [
    {
     "name": "stdout",
     "output_type": "stream",
     "text": [
      "Hrr-Cobot state:\n",
      "FT-data:\n",
      "current force:\t[-1.25244  0.63647  1.6875 ] [N]\n",
      "current torque:\t[-0.59662 -1.22406  0.41571] [Nm]\n",
      "current wrench:\t[-1.24687  0.62884  1.64998 -0.59728 -1.22965  0.40426] [N,Nm]\n",
      "=>in contact:\tTrue\n",
      "---\n",
      "Robot-data:\n",
      "q:\t\t[-87.75658  29.60633 -86.30174  -0.86436  64.58787 -86.92278][°]\n",
      "q_dot:\t\t[0. 0. 0. 0. 0. 0.][rad/s]\n",
      "tau:\t\t[0. 0. 0. 0. 0. 0.][Nm]\n",
      "pos:\t\t[0.02244 0.60069 0.48305][m]\n",
      "quat:\t\t-0.00699 <[-0.00401  0.99996 -0.00401]>\n",
      "tool-pos:\t[0.02244 0.60069 0.48305][m]\n",
      "tool-rpy:\t[179.53729  -0.79897 179.53781][°]\n",
      "robot-status:\tmoving\n",
      "---\n",
      "tool set to vacuum\n",
      "E_p_EC:=[-0.0725  -0.       0.23018]\n",
      "R_E_C:=[[ 0.  1.  0.]\n",
      " [-1.  0.  0.]\n",
      " [ 0.  0.  1.]]\n",
      "---\n"
     ]
    }
   ],
   "source": [
    "print(cobot)"
   ]
  },
  {
   "cell_type": "code",
   "execution_count": 18,
   "id": "ffeee1dd",
   "metadata": {},
   "outputs": [],
   "source": [
    "cobot.q_calib[-1] = np.deg2rad(-90)"
   ]
  },
  {
   "cell_type": "code",
   "execution_count": 28,
   "id": "5a3d0692",
   "metadata": {},
   "outputs": [
    {
     "name": "stderr",
     "output_type": "stream",
     "text": [
      "[rosout] vacuum gripper contains two tips. This contradicts default pipeline atm. Use 1\n"
     ]
    },
    {
     "data": {
      "text/plain": [
       "True"
      ]
     },
     "execution_count": 28,
     "metadata": {},
     "output_type": "execute_result"
    }
   ],
   "source": [
    "cobot.change_tool(\"vacuum\")"
   ]
  },
  {
   "cell_type": "code",
   "execution_count": 29,
   "id": "a886d9b4",
   "metadata": {},
   "outputs": [
    {
     "data": {
      "text/plain": [
       "  \u001b[38;5;1m-2.102e-06\u001b[0m \u001b[38;5;1m 1       \u001b[0m \u001b[38;5;1m 4.323e-06\u001b[0m \u001b[38;5;4m 0.4359  \u001b[0m  \u001b[0m\n",
       "  \u001b[38;5;1m 1       \u001b[0m \u001b[38;5;1m 2.102e-06\u001b[0m \u001b[38;5;1m 0       \u001b[0m \u001b[38;5;4m 0       \u001b[0m  \u001b[0m\n",
       "  \u001b[38;5;1m-9.088e-12\u001b[0m \u001b[38;5;1m 4.323e-06\u001b[0m \u001b[38;5;1m-1       \u001b[0m \u001b[38;5;4m 0.705   \u001b[0m  \u001b[0m\n",
       "  \u001b[38;5;244m 0       \u001b[0m \u001b[38;5;244m 0       \u001b[0m \u001b[38;5;244m 0       \u001b[0m \u001b[38;5;244m 1       \u001b[0m  \u001b[0m\n"
      ]
     },
     "execution_count": 29,
     "metadata": {},
     "output_type": "execute_result"
    }
   ],
   "source": [
    "cobot.T_B_E_robot"
   ]
  },
  {
   "cell_type": "code",
   "execution_count": 32,
   "id": "7c798509",
   "metadata": {},
   "outputs": [
    {
     "data": {
      "text/plain": [
       "array([ 0., -0.,  1., -0.])"
      ]
     },
     "execution_count": 32,
     "metadata": {},
     "output_type": "execute_result"
    }
   ],
   "source": [
    "sm.base.r2q(cobot.T_B_C_robot.R)"
   ]
  },
  {
   "cell_type": "code",
   "execution_count": 32,
   "id": "d4f2aa13",
   "metadata": {},
   "outputs": [
    {
     "name": "stdout",
     "output_type": "stream",
     "text": [
      "Hrr-Cobot state:\n",
      "FT-data:\n",
      "current force:\t[-10.51392 -10.77173  29.76855] [N]\n",
      "current torque:\t[ 10.05829 -15.61798  -0.32239] [Nm]\n",
      "current wrench:\t[-10.49    -10.79812  29.71446  10.06351 -15.62533  -0.31463] [N,Nm]\n",
      "=>in contact:\tTrue\n",
      "---\n",
      "Robot-data:\n",
      "q:\t\t[ 14.42949  59.07733 -52.77855  -0.00001  68.14388 -75.57039][°]\n",
      "q_dot:\t\t[0. 0. 0. 0. 0. 0.][rad/s]\n",
      "tau:\t\t[0. 0. 0. 0. 0. 0.][Nm]\n",
      "pos:\t\t[ 0.72075 -0.18545  0.37787][m]\n",
      "quat:\t\t-0.00000 <[0.70711 0.70711 0.     ]>\n",
      "tool-pos:\t[ 0.72075 -0.18545  0.37787][m]\n",
      "tool-rpy:\t[ -90.00012    0.      -180.     ][°]\n",
      "robot-status:\tmoving\n",
      "---\n",
      "tool set to vacuum\n",
      "E_p_EC:=[-0.0725  -0.       0.23018]\n",
      "R_E_C:=[[ 0.  1.  0.]\n",
      " [-1.  0.  0.]\n",
      " [ 0.  0.  1.]]\n",
      "---\n"
     ]
    }
   ],
   "source": [
    "print(cobot)"
   ]
  },
  {
   "cell_type": "markdown",
   "id": "185ac233",
   "metadata": {},
   "source": [
    "## Dispose PSU"
   ]
  },
  {
   "cell_type": "code",
   "execution_count": null,
   "id": "15b1dc26",
   "metadata": {},
   "outputs": [],
   "source": [
    "a = sm.SE3()\n",
    "[[0,        1     ,    0    ,     0.7246  ],  \n",
    "[  1   ,      0    ,     0    ,    -0.1398 ],   \n",
    "  [ 0     ,    0      ,  -1    ,     0.1181  ],  \n",
    "  [ 0,         0     ,    0  ,       1   ]]"
   ]
  },
  {
   "cell_type": "code",
   "execution_count": 26,
   "id": "5c60c617",
   "metadata": {},
   "outputs": [
    {
     "data": {
      "text/plain": [
       "True"
      ]
     },
     "execution_count": 26,
     "metadata": {},
     "output_type": "execute_result"
    }
   ],
   "source": [
    "cobot.change_tool(\"vacuum\")"
   ]
  },
  {
   "cell_type": "code",
   "execution_count": null,
   "id": "5d4d4a66",
   "metadata": {},
   "outputs": [],
   "source": [
    "x: 0.661373132974\n",
    "      y: -0.152754625468\n",
    "      z: 0.122117626765"
   ]
  },
  {
   "cell_type": "code",
   "execution_count": 32,
   "id": "5c6f68ff",
   "metadata": {},
   "outputs": [],
   "source": [
    "obj_pos_guess = np.r_[0.661373132974, -0.152754625468+0.08 ,0.122117626765]\n",
    "obj_orient_guess = np.quaternion(-0.5, 0.5, 0.5, 0.5)#(0.712022653946,0,-0.702133595634, 0.00567046291769)\n",
    "release_pos = np.r_[0.0192,0.5456 , 0.186] #0.41 0.48\n",
    "release_orientation = obj_orient_guess\n",
    "#obj_orient_guess = quaternion.from_rotation_matrix(quaternion.as_rotation_matrix(obj_orient_guess) @ sm.SE3.Rx(np.rad2deg(-45)).R)"
   ]
  },
  {
   "cell_type": "code",
   "execution_count": 33,
   "id": "21e16bd0",
   "metadata": {},
   "outputs": [],
   "source": [
    "vac_goal = VacuumGraspingGoal()\n",
    "vac_goal.object_center.header.frame_id = \"hrr_cobot.base_link\"\n",
    "vac_goal.object_center.pose.position = hrr_common.ros_utils.np2vec3(obj_pos_guess)\n",
    "vac_goal.object_center.pose.orientation = hrr_common.ros_utils.np2quat(obj_orient_guess)\n",
    "\n",
    "vac_goal.release_pose.header.frame_id = \"hrr_cobot.base_link\"\n",
    "vac_goal.release_pose.pose.position = hrr_common.ros_utils.np2vec3(release_pos)\n",
    "vac_goal.release_pose.pose.orientation = hrr_common.ros_utils.np2quat(release_orientation)\n",
    "\n",
    "# vac_goal.timeout = 120.0\n",
    "# vac_goal"
   ]
  },
  {
   "cell_type": "code",
   "execution_count": 34,
   "id": "6d28ad6c",
   "metadata": {},
   "outputs": [],
   "source": [
    "vacuum_client.send_goal(vac_goal)\n",
    "# cancel(vacuum_client)"
   ]
  },
  {
   "cell_type": "code",
   "execution_count": 42,
   "id": "5292d615",
   "metadata": {},
   "outputs": [],
   "source": [
    "cancel(vacuum_client)"
   ]
  },
  {
   "cell_type": "code",
   "execution_count": 41,
   "id": "6c52f38e",
   "metadata": {},
   "outputs": [],
   "source": [
    "cobot.tool_controller.vacuum = False"
   ]
  },
  {
   "cell_type": "markdown",
   "id": "ce96d3ba",
   "metadata": {},
   "source": [
    "def get_SE3_from_pose_stamped(msg):\n",
    "    p = hrr_common.vec32np(msg.pose.position)\n",
    "    q = hrr_common.quat2np(msg.pose.orientation)\n",
    "    return hrr_common.posquat2homog(p, q)"
   ]
  },
  {
   "cell_type": "markdown",
   "id": "11e2b4be",
   "metadata": {},
   "source": [
    "object_center = get_SE3_from_pose_stamped(vac_goal.object_center)\n",
    "release_center = get_SE3_from_pose_stamped(vac_goal.release_pose)\n",
    "ee2tip = np.r_[0, 0, 0.20018]"
   ]
  },
  {
   "cell_type": "markdown",
   "id": "08de9fbb",
   "metadata": {},
   "source": [
    "_B_surface_normal = object_center.A[:3, 0]\n",
    "grasp_pose_EE = hrr_common.utils.calc_goal_pose(_B_surface_normal, object_center.t, y_axis=object_center.A[:3, 1])\n",
    "            #2. adjust to accomodate tool-tip\n",
    "grasp_pose = grasp_pose_EE @ sm.SE3(-ee2tip)\n",
    "\n",
    "release_pose_EE = hrr_common.utils.calc_goal_pose(release_center.A[:3,0], release_center.t, y_axis=release_center.A[:3,1])\n",
    "release_pose = release_pose_EE @ sm.SE3(-ee2tip) \n",
    "#return self.cancel(msg=\"Thou shalt hard-code\")\n",
    "\n",
    "pre_pose = grasp_pose @ sm.SE3([0, 0, -0.15])\n",
    "\n",
    "below_pose = grasp_pose @ sm.SE3([0, 0, 0.1])"
   ]
  },
  {
   "cell_type": "markdown",
   "id": "75a3da88",
   "metadata": {},
   "source": [
    "## Dispose CPU cooler"
   ]
  },
  {
   "cell_type": "code",
   "execution_count": null,
   "id": "d3528b5d",
   "metadata": {},
   "outputs": [],
   "source": [
    "x: 0.658834806462\n",
    "      y: -0.0152477494288\n",
    "      z: 0.114945146814"
   ]
  },
  {
   "cell_type": "code",
   "execution_count": 38,
   "id": "1e1c3c87",
   "metadata": {},
   "outputs": [],
   "source": [
    "obj_pos_guess = np.r_[ 0.658834806462-0.015, -0.0152477494288+0.04,  0.114945146814] #[0.66, 0.17, 0.07] is actual vision data for elamp cover\n",
    "obj_orient_guess = np.quaternion(-0.5, 0.5, 0.5, 0.5)\n",
    "release_pos = np.r_[0.0192,0.5456 , 0.186] # will drop the object here, careful!\n",
    "release_orientation = obj_orient_guess\n"
   ]
  },
  {
   "cell_type": "code",
   "execution_count": 39,
   "id": "15959805",
   "metadata": {},
   "outputs": [],
   "source": [
    "vac_goal = VacuumGraspingGoal()\n",
    "vac_goal.object_center.header.frame_id = \"hrr_cobot.base_link\"\n",
    "vac_goal.object_center.pose.position = hrr_common.ros_utils.np2vec3(obj_pos_guess)\n",
    "vac_goal.object_center.pose.orientation = hrr_common.ros_utils.np2quat(obj_orient_guess)\n",
    "\n",
    "vac_goal.release_pose.header.frame_id = \"hrr_cobot.base_link\"\n",
    "vac_goal.release_pose.pose.position = hrr_common.ros_utils.np2vec3(release_pos)\n",
    "vac_goal.release_pose.pose.orientation = hrr_common.ros_utils.np2quat(release_orientation)\n",
    "\n",
    "# vac_goal.timeout = 120.0\n",
    "# vac_goal"
   ]
  },
  {
   "cell_type": "code",
   "execution_count": 40,
   "id": "c1f7b7f9",
   "metadata": {},
   "outputs": [],
   "source": [
    "vacuum_client.send_goal(vac_goal)\n",
    "# cancel(vacuum_client)"
   ]
  },
  {
   "cell_type": "code",
   "execution_count": 55,
   "id": "45bff315",
   "metadata": {},
   "outputs": [],
   "source": [
    "cancel(vacuum_client)"
   ]
  },
  {
   "cell_type": "code",
   "execution_count": 46,
   "id": "c48b1946",
   "metadata": {},
   "outputs": [],
   "source": [
    "cobot.close_tool_changer()"
   ]
  },
  {
   "cell_type": "markdown",
   "id": "146a0d97",
   "metadata": {},
   "source": [
    "## Move to tool change position"
   ]
  },
  {
   "cell_type": "code",
   "execution_count": 21,
   "id": "67ab823c",
   "metadata": {},
   "outputs": [],
   "source": [
    "cobot.move_to_joint_pose(cobot.q_calib, stochastic=False)"
   ]
  },
  {
   "cell_type": "code",
   "execution_count": 47,
   "id": "d58bf571",
   "metadata": {},
   "outputs": [
    {
     "name": "stdout",
     "output_type": "stream",
     "text": [
      "Warning: No topic to subscribe. Using default center,[50 -37 16.8].\n",
      "> In HrRecyclerPerecptioPipeline (line 24)\n",
      "calculating signed distance field ...\n",
      "calculating signed distance field done\n",
      "Elapsed time is 5.720012 seconds.\n",
      "Elapsed time is 0.014726 seconds.\n"
     ]
    },
    {
     "name": "stderr",
     "output_type": "stream",
     "text": [
      "[rosout] [/pcTower_demo] Planner is done and execution is running ...\n"
     ]
    }
   ],
   "source": [
    "cobot.move_to_joint_pose([ 1.34109,  0.09328, -1.44435, -0.01627,  0.67686, -0.00009], stochastic=True)\n"
   ]
  },
  {
   "cell_type": "code",
   "execution_count": 38,
   "id": "ea14a014",
   "metadata": {},
   "outputs": [],
   "source": [
    "cobot.goTo(sm.SE3(0,-0.2,0)@cobot.T_B_E_robot)"
   ]
  },
  {
   "cell_type": "code",
   "execution_count": null,
   "id": "a02e4571",
   "metadata": {},
   "outputs": [],
   "source": []
  }
 ],
 "metadata": {
  "kernelspec": {
   "display_name": "Python 3 (ipykernel)",
   "language": "python",
   "name": "python3"
  },
  "language_info": {
   "codemirror_mode": {
    "name": "ipython",
    "version": 3
   },
   "file_extension": ".py",
   "mimetype": "text/x-python",
   "name": "python",
   "nbconvert_exporter": "python",
   "pygments_lexer": "ipython3",
   "version": "3.8.12"
  },
  "latex_envs": {
   "LaTeX_envs_menu_present": true,
   "autoclose": false,
   "autocomplete": true,
   "bibliofile": "biblio.bib",
   "cite_by": "apalike",
   "current_citInitial": 1,
   "eqLabelWithNumbers": true,
   "eqNumInitial": 1,
   "hotkeys": {
    "equation": "Ctrl-E",
    "itemize": "Ctrl-I"
   },
   "labels_anchors": false,
   "latex_user_defs": false,
   "report_style_numbering": false,
   "user_envs_cfg": false
  },
  "toc": {
   "base_numbering": 1,
   "nav_menu": {},
   "number_sections": true,
   "sideBar": true,
   "skip_h1_title": false,
   "title_cell": "Table of Contents",
   "title_sidebar": "Contents",
   "toc_cell": false,
   "toc_position": {},
   "toc_section_display": true,
   "toc_window_display": false
  }
 },
 "nbformat": 4,
 "nbformat_minor": 5
}
