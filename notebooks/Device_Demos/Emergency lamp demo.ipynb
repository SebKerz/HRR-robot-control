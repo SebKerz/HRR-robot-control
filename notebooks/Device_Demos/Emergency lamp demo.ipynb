{
 "cells": [
  {
   "cell_type": "code",
   "execution_count": 1,
   "id": "47d12d79",
   "metadata": {},
   "outputs": [],
   "source": [
    "# math and robotics\n",
    "import pathlib\n",
    "import numpy as np\n",
    "import spatialmath as sm\n",
    "import quaternion\n",
    "from comau_msgs.srv import SetIO, SetIORequest\n",
    "\n",
    "\n",
    "# ROS\n",
    "import actionlib\n",
    "import rospy\n",
    "import hrr_common\n",
    "from hr_recycler_msgs.msg import (\n",
    "    AdaptiveGraspingAction, AdaptiveGraspingGoal,\n",
    "    CuttingAction, CuttingGoal,\n",
    "    ChangeToolAction, ChangeToolGoal,    \n",
    "    FingerGraspAction, FingerGraspGoal,    \n",
    "    PushOpenAction, PushOpenGoal,\n",
    "    VacuumGraspingAction, VacuumGraspingGoal,\n",
    "    UnscrewAction, UnscrewGoal\n",
    ")\n",
    "from hrr_msgs.msg import CalibrateCobotAction, CalibrateCobotGoal\n",
    "\n",
    "# set printing and plotting options\n",
    "np.set_printoptions(precision=10, suppress=True)\n",
    "\n",
    "from hr_recycler_msgs.msg import CuttingAction, CuttingFeedback, CuttingResult, CuttingGoal, SkillResult, CobotState, MaterialType\n",
    "import actionlib\n",
    "from hr_recycler_msgs.msg import ToolType\n",
    "\n",
    "from hr_recycler_msgs.msg import PlannerAction , PlannerGoal\n",
    "import hrr_common as hrr_cm"
   ]
  },
  {
   "cell_type": "code",
   "execution_count": 2,
   "id": "bb9d2e0c",
   "metadata": {},
   "outputs": [],
   "source": [
    "tool_change_pose = [-0.9376716018,  0.7174308896, -1.2232894897, -0.0096366024, -0.227122277 , -2.4522731304]"
   ]
  },
  {
   "cell_type": "code",
   "execution_count": 2,
   "id": "1e611351",
   "metadata": {},
   "outputs": [],
   "source": [
    "rospy.init_node('emergency_lamp_demo')"
   ]
  },
  {
   "cell_type": "code",
   "execution_count": 3,
   "id": "805e7838",
   "metadata": {},
   "outputs": [],
   "source": [
    "cobot_ns = hrr_common.ros_utils.fix_prefix(hrr_common.ros_utils.get_param(\"/cobot_ns\"))\n",
    "change_tool_action_srv_name = hrr_common.ros_utils.get_param(f\"{cobot_ns}change_tool_action_srv_name\")\n",
    "calibration_action_srv_name = hrr_common.ros_utils.get_param(f\"{cobot_ns}calibration_action_srv_name\")\n",
    "cutting_action_srv_name = hrr_common.ros_utils.get_param(f\"{cobot_ns}cutting_action_srv_name\")\n",
    "grinding_action_srv_name = hrr_common.ros_utils.get_param(f\"{cobot_ns}grinding_action_srv_name\")\n",
    "pc_opening_action_srv_name = hrr_common.ros_utils.get_param(f\"{cobot_ns}pc_opening_action_srv_name\")\n",
    "sensitive_grasping_action_srv_name = hrr_common.ros_utils.get_param(f\"{cobot_ns}sensitive_grasping_action_srv_name\")\n",
    "unscrew_action_srv_name = hrr_common.ros_utils.get_param(f\"{cobot_ns}unscrew_action_srv_name\")\n",
    "vacuum_pick_place_action_srv_name = hrr_common.ros_utils.get_param(f\"{cobot_ns}vacuum_pick_place_action_srv_name\")\n",
    "finger_grasping_action_srv_name= hrr_common.ros_utils.get_param(f\"{cobot_ns}finger_grasping_action_srv_name\")\n",
    "#pgrip_client = get_client(finger_grasping_action_srv_name, FingerGraspAction)\n",
    "\n",
    "def get_client(action_topic, ActionClass, timeout_secs=2.0):\n",
    "    client = actionlib.SimpleActionClient(action_topic, ActionClass)\n",
    "    client.wait_for_server(timeout=rospy.Duration(timeout_secs))\n",
    "    return client\n",
    "def get_result(cl):\n",
    "    cl.wait_for_result()\n",
    "    return cl.get_result()\n",
    "\n",
    "def cancel(cl):\n",
    "    cl.cancel_all_goals()\n",
    "    \n",
    "    \n",
    "def set_cutting_goal(pointA, pointB):\n",
    "    material= MaterialType()\n",
    "    material = material.PLASTIC\n",
    "\n",
    "    normalB = hrr_cm.ros_utils.np2vector3stamped(np.r_[0,0,1], \"normalB\")\n",
    "    normalA = hrr_cm.ros_utils.np2vector3stamped(np.r_[0,0,1], \"normalA\")\n",
    "\n",
    "    goal=CuttingGoal()\n",
    "    goal.surface_normal_start=normalA\n",
    "    goal.surface_normal_end=normalB\n",
    "    goal.start_location=pointA\n",
    "    goal.end_location=pointB\n",
    "    goal.material.material_type=material\n",
    "    goal.timeout=5000\n",
    "    goal.thickness = 0.005 #not important. can be anything\n",
    "    return goal\n",
    "    \n",
    "calibrate_client = get_client(calibration_action_srv_name, CalibrateCobotAction)   \n",
    "vacuum_client = get_client(vacuum_pick_place_action_srv_name, VacuumGraspingAction)\n",
    "pgrip_client = get_client(finger_grasping_action_srv_name, FingerGraspAction)\n",
    "tool_change_client = get_client(change_tool_action_srv_name, ChangeToolAction)\n",
    "shaftgrinder_client=get_client(cutting_action_srv_name, CuttingAction)\n",
    "grasping_client = get_client(sensitive_grasping_action_srv_name, AdaptiveGraspingAction)"
   ]
  },
  {
   "cell_type": "markdown",
   "id": "920e53e9",
   "metadata": {},
   "source": [
    "### Load robot"
   ]
  },
  {
   "cell_type": "code",
   "execution_count": 4,
   "id": "8a8d398f",
   "metadata": {},
   "outputs": [
    {
     "name": "stdout",
     "output_type": "stream",
     "text": [
      "[rosout] [/emergency_lamp_demo] Initialize MATLAB-Motion planner @ /home/hrr_cobot/_ros/hr_recycler_ws/src/planner/src\n",
      "[rosout] [/emergency_lamp_demo] connected to Matlab\n",
      "Shutting down global node /matlab_global_node_39944 with NodeURI http://192.168.2.87:41577/\n",
      "The value of the ROS_IP environment variable, 192.168.2.87, will be used to set the advertised address for the ROS node.\n",
      "Initializing global node /matlab_global_node_39959 with NodeURI http://192.168.2.87:43533/\n",
      "[rosout] [/emergency_lamp_demo] MATLAB-Initialization done\n"
     ]
    },
    {
     "name": "stderr",
     "output_type": "stream",
     "text": [
      "pybullet build time: May  8 2021 05:48:13\n"
     ]
    },
    {
     "name": "stdout",
     "output_type": "stream",
     "text": [
      "[rosout] some functions are not yet compiled. Expect delays upon first call\n"
     ]
    }
   ],
   "source": [
    "import hrr_cobot_robot as hrr_rob\n",
    "cobot = hrr_rob.HrrCobotControl.from_ros(\"/hrr_cobot\")\n",
    "#cobot.change_tool(\"nothing\")"
   ]
  },
  {
   "cell_type": "code",
   "execution_count": 5,
   "id": "f792f294",
   "metadata": {},
   "outputs": [],
   "source": [
    "cobot.open_tool_changer()"
   ]
  },
  {
   "cell_type": "code",
   "execution_count": null,
   "id": "a587b5ff",
   "metadata": {},
   "outputs": [],
   "source": [
    "#!rosparam get /hrr_cobot/tool_name"
   ]
  },
  {
   "cell_type": "markdown",
   "id": "1f6b1f17",
   "metadata": {},
   "source": [
    "cobot.change_tool(\"shaftgrinder\")\n",
    "cobot.tool_controller.run_shaftgrinder(1.0,\"slow\")"
   ]
  },
  {
   "cell_type": "markdown",
   "id": "c3091965",
   "metadata": {},
   "source": [
    "# Emergency Lamp disassembly"
   ]
  },
  {
   "cell_type": "code",
   "execution_count": 6,
   "id": "f4db87f1",
   "metadata": {},
   "outputs": [
    {
     "data": {
      "text/plain": [
       "True"
      ]
     },
     "execution_count": 6,
     "metadata": {},
     "output_type": "execute_result"
    }
   ],
   "source": [
    "cobot.change_tool(\"nothing\")"
   ]
  },
  {
   "cell_type": "markdown",
   "id": "e0706546",
   "metadata": {},
   "source": [
    "## Tool Change to Shaftgrinder"
   ]
  },
  {
   "cell_type": "code",
   "execution_count": null,
   "id": "d705fc6d",
   "metadata": {},
   "outputs": [],
   "source": [
    "# cobot.move_to_joint_pose(tool_change_pose, stochastic = True)\n",
    "# rospy.sleep(5)\n",
    "# cobot.open_tool_changer()\n",
    "# srv = rospy.ServiceProxy(\"/hrr_cobot/set_digital_io\", SetIO)\n",
    "# srv(SetIORequest(pin=14, state=False))\n",
    "# srv(SetIORequest(pin=13, state=False))\n",
    "# srv(SetIORequest(pin=12, state=False))\n",
    "tc_goal = ChangeToolGoal()\n",
    "tc_goal.new_tool.type = tc_goal.new_tool.SHAFT_GRINDER\n",
    "tool_change_client.send_goal(tc_goal)\n",
    "#cancel(tool_change_client)"
   ]
  },
  {
   "cell_type": "code",
   "execution_count": null,
   "id": "4da8e6a1",
   "metadata": {},
   "outputs": [],
   "source": [
    "cobot.change_tool(\"shaftgrinder\")"
   ]
  },
  {
   "cell_type": "code",
   "execution_count": null,
   "id": "80d0ef44",
   "metadata": {},
   "outputs": [],
   "source": [
    "cancel(tool_change_client)"
   ]
  },
  {
   "cell_type": "markdown",
   "id": "8b66e4c6",
   "metadata": {},
   "source": [
    "## Cutting (6 goals)"
   ]
  },
  {
   "cell_type": "markdown",
   "id": "d55193f3",
   "metadata": {},
   "source": [
    "### Clip back right"
   ]
  },
  {
   "cell_type": "code",
   "execution_count": null,
   "id": "50bf82c9",
   "metadata": {},
   "outputs": [],
   "source": [
    "pointA = hrr_cm.ros_utils.np2vector3stamped(np.r_[0.713196129333+0.0139-0.005, -0.185170262287+0.0220, 0.05-0.017], \"pointA\")#[0.6921,0.2472,0.],\"pointA\")\n",
    "pointB = hrr_cm.ros_utils.np2vector3stamped(np.r_[0.712934333216+0.0139-0.005, -0.175916732133+0.0220, 0.05-0.017], \"pointB\")\n",
    "goal = set_cutting_goal(pointA=pointA, pointB=pointB)"
   ]
  },
  {
   "cell_type": "code",
   "execution_count": null,
   "id": "053a1982",
   "metadata": {},
   "outputs": [],
   "source": [
    "shaftgrinder_client.send_goal(goal)"
   ]
  },
  {
   "cell_type": "code",
   "execution_count": null,
   "id": "0969b5d1",
   "metadata": {},
   "outputs": [],
   "source": [
    "cancel(shaftgrinder_client)\n",
    "# cobot.active_controllers"
   ]
  },
  {
   "cell_type": "markdown",
   "id": "3a2d46ff",
   "metadata": {},
   "source": [
    "### Clip back middle"
   ]
  },
  {
   "cell_type": "code",
   "execution_count": null,
   "id": "f7422032",
   "metadata": {},
   "outputs": [],
   "source": [
    "pointA = hrr_cm.ros_utils.np2vector3stamped(np.r_[0.717783449157+0.0139-0.006, -0.0462650486226+0.0220+0.01, 0.05-0.017], \"pointA\")#[0.6921,0.2472,0.],\"pointA\")\n",
    "pointB = hrr_cm.ros_utils.np2vector3stamped(np.r_[0.717522325202+0.0139-0.006, -0.0170358101255+0.0220+0.01, 0.05-0.017], \"pointB\")\n",
    "goal = set_cutting_goal(pointA=pointA, pointB=pointB)"
   ]
  },
  {
   "cell_type": "code",
   "execution_count": null,
   "id": "3d0f5a5c",
   "metadata": {},
   "outputs": [],
   "source": [
    "shaftgrinder_client.send_goal(goal)"
   ]
  },
  {
   "cell_type": "code",
   "execution_count": null,
   "id": "ae7d371e",
   "metadata": {},
   "outputs": [],
   "source": [
    "cancel(shaftgrinder_client)"
   ]
  },
  {
   "cell_type": "markdown",
   "id": "ec0a22b2",
   "metadata": {},
   "source": [
    "### Clip back left"
   ]
  },
  {
   "cell_type": "code",
   "execution_count": null,
   "id": "af8f2873",
   "metadata": {},
   "outputs": [],
   "source": [
    "pointA = hrr_cm.ros_utils.np2vector3stamped(np.r_[0.721999522931+0.003-0.005, 0.110633565404+0.03 , 0.05-0.017], \"pointA\")#[0.6921,0.2472,0.],\"pointA\")\n",
    "pointB = hrr_cm.ros_utils.np2vector3stamped(np.r_[ 0.722406576125+0.003-0.005, 0.119883059107+0.033, 0.05-0.017], \"pointB\")\n",
    "goal = set_cutting_goal(pointA=pointA, pointB=pointB)"
   ]
  },
  {
   "cell_type": "code",
   "execution_count": null,
   "id": "1ddd05b7",
   "metadata": {},
   "outputs": [],
   "source": [
    "shaftgrinder_client.send_goal(goal)"
   ]
  },
  {
   "cell_type": "code",
   "execution_count": null,
   "id": "4304e798",
   "metadata": {},
   "outputs": [],
   "source": [
    "cancel(shaftgrinder_client)"
   ]
  },
  {
   "cell_type": "markdown",
   "id": "51f67bdd",
   "metadata": {},
   "source": [
    "### Clip front left"
   ]
  },
  {
   "cell_type": "code",
   "execution_count": null,
   "id": "209f7c74",
   "metadata": {},
   "outputs": [],
   "source": [
    "pointA = hrr_cm.ros_utils.np2vector3stamped(np.r_[0.55963279198-0.006, -0.189613837236+0.04,  0.05-0.017], \"pointA\")#[0.6921,0.2472,0.],\"pointA\")\n",
    "pointB = hrr_cm.ros_utils.np2vector3stamped(np.r_[0.560307534432-0.006, -0.179013482484+0.043,  0.05-0.017], \"pointB\")\n",
    "goal = set_cutting_goal(pointA=pointA, pointB=pointB)"
   ]
  },
  {
   "cell_type": "code",
   "execution_count": null,
   "id": "c77c8030",
   "metadata": {},
   "outputs": [],
   "source": [
    "shaftgrinder_client.send_goal(goal)"
   ]
  },
  {
   "cell_type": "code",
   "execution_count": null,
   "id": "4e5522a6",
   "metadata": {},
   "outputs": [],
   "source": [
    "cancel(shaftgrinder_client)"
   ]
  },
  {
   "cell_type": "markdown",
   "id": "0d9a88f2",
   "metadata": {},
   "source": [
    "### Clip front middle"
   ]
  },
  {
   "cell_type": "code",
   "execution_count": null,
   "id": "8d142272",
   "metadata": {},
   "outputs": [],
   "source": [
    "pointA = hrr_cm.ros_utils.np2vector3stamped(np.r_[ 0.561264748141-0.004+0.003,-0.0444902111826+0.04,  0.05-0.017], \"pointA\")#[0.6921,0.2472,0.],\"pointA\")\n",
    "pointB = hrr_cm.ros_utils.np2vector3stamped(np.r_[0.562994113585-0.004+0.003, -0.0135911924867+0.043, 0.05-0.017], \"pointB\")\n",
    "goal = set_cutting_goal(pointA=pointA, pointB=pointB)"
   ]
  },
  {
   "cell_type": "code",
   "execution_count": null,
   "id": "16fb8f39",
   "metadata": {},
   "outputs": [],
   "source": [
    "shaftgrinder_client.send_goal(goal)"
   ]
  },
  {
   "cell_type": "code",
   "execution_count": null,
   "id": "018811ee",
   "metadata": {},
   "outputs": [],
   "source": [
    "cancel(shaftgrinder_client)"
   ]
  },
  {
   "cell_type": "markdown",
   "id": "c5f2e0a7",
   "metadata": {},
   "source": [
    "### Clip front right"
   ]
  },
  {
   "cell_type": "code",
   "execution_count": null,
   "id": "1f9dd667",
   "metadata": {},
   "outputs": [],
   "source": [
    "pointA = hrr_cm.ros_utils.np2vector3stamped(np.r_[0.562622897175-0.008+0.003, 0.101301529051+0.04, 0.05-0.017], \"pointA\")#[0.6921,0.2472,0.],\"pointA\")\n",
    "pointB = hrr_cm.ros_utils.np2vector3stamped(np.r_[0.563292672634-0.008+0.003, 0.111233572438+0.043, 0.05-0.017], \"pointB\")\n",
    "goal = set_cutting_goal(pointA=pointA, pointB=pointB)"
   ]
  },
  {
   "cell_type": "code",
   "execution_count": null,
   "id": "a7f170a3",
   "metadata": {},
   "outputs": [],
   "source": [
    "shaftgrinder_client.send_goal(goal)"
   ]
  },
  {
   "cell_type": "code",
   "execution_count": null,
   "id": "ea3bda72",
   "metadata": {},
   "outputs": [],
   "source": [
    "cancel(shaftgrinder_client)"
   ]
  },
  {
   "cell_type": "code",
   "execution_count": null,
   "id": "d16ad540",
   "metadata": {},
   "outputs": [],
   "source": [
    "cobot.T_B_C_robot"
   ]
  },
  {
   "cell_type": "markdown",
   "id": "c1aaab60",
   "metadata": {},
   "source": [
    "## Move ROBOT"
   ]
  },
  {
   "cell_type": "code",
   "execution_count": 71,
   "id": "cb89f141",
   "metadata": {},
   "outputs": [],
   "source": [
    "cobot.goTo(sm.SE3([0.0,0.0,0.1])@cobot.T_B_E_robot)"
   ]
  },
  {
   "cell_type": "code",
   "execution_count": 72,
   "id": "10963221",
   "metadata": {
    "scrolled": true
   },
   "outputs": [
    {
     "name": "stdout",
     "output_type": "stream",
     "text": [
      "Warning: Integer operands are required for colon operator when used as index.\n",
      "> In gpmp2.test3Ddataset>add_obstacle (line 245)\n",
      "In gpmp2.test3Ddataset (line 82)\n",
      "In HrRecyclerPerecptioPipeline (line 51)\n",
      "\n",
      "Warning: Integer operands are required for colon operator when used as index.\n",
      "> In gpmp2.test3Ddataset>add_obstacle (line 245)\n",
      "In gpmp2.test3Ddataset (line 82)\n",
      "In HrRecyclerPerecptioPipeline (line 51)\n",
      "\n",
      "calculating signed distance field ...\n",
      "calculating signed distance field done\n",
      "Elapsed time is 3.378141 seconds.\n",
      "Elapsed time is 0.008868 seconds.\n"
     ]
    },
    {
     "name": "stderr",
     "output_type": "stream",
     "text": [
      "[rosout] [/emergency_lamp_demo] Planner is done and execution is running ...\n"
     ]
    }
   ],
   "source": [
    "cobot.move_to_joint_pose([ 1.34109,  0.09328, -1.44435, -0.01627,  0.67686, -0.00009], stochastic = True)"
   ]
  },
  {
   "cell_type": "code",
   "execution_count": null,
   "id": "21a18dc3",
   "metadata": {},
   "outputs": [],
   "source": [
    "cobot.move_to_joint_pose(hier, stochastic = True)"
   ]
  },
  {
   "cell_type": "markdown",
   "id": "243ecf14",
   "metadata": {},
   "source": [
    "### MAKE SURE TO UNFORCE!!"
   ]
  },
  {
   "cell_type": "code",
   "execution_count": null,
   "id": "8dc41465",
   "metadata": {},
   "outputs": [],
   "source": [
    "cobot.change_tool(\"nothing\")"
   ]
  },
  {
   "cell_type": "code",
   "execution_count": 7,
   "id": "cc7d74e2",
   "metadata": {},
   "outputs": [
    {
     "data": {
      "text/plain": [
       "''"
      ]
     },
     "execution_count": 7,
     "metadata": {},
     "output_type": "execute_result"
    }
   ],
   "source": [
    "cobot.tool"
   ]
  },
  {
   "cell_type": "markdown",
   "id": "f2b16209",
   "metadata": {},
   "source": [
    "## Tool Change to Vacuum"
   ]
  },
  {
   "cell_type": "code",
   "execution_count": null,
   "id": "72b17e0c",
   "metadata": {},
   "outputs": [],
   "source": [
    "# cobot.move_to_joint_pose(tool_change_pose, stochastic = True)\n",
    "# cobot.change_tool(\"nothing\")\n",
    "# srv = rospy.ServiceProxy(\"/hrr_cobot/set_digital_io\", SetIO)\n",
    "# srv(SetIORequest(pin=14, state=False))\n",
    "# srv(SetIORequest(pin=13, state=False))\n",
    "# srv(SetIORequest(pin=12, state=False))\n",
    "# rospy.sleep(5)\n",
    "# cobot.open_tool_changer()\n",
    "\n",
    "tc_goal = ChangeToolGoal()\n",
    "tc_goal.new_tool.type = tc_goal.new_tool.VACUUM_GRIPPER\n",
    "tool_change_client.send_goal(tc_goal)\n",
    "# tool_change_client.cancel_all_goals()"
   ]
  },
  {
   "cell_type": "markdown",
   "id": "bc9cc4b4",
   "metadata": {},
   "source": [
    "## Vacuum Top"
   ]
  },
  {
   "cell_type": "code",
   "execution_count": null,
   "id": "63cacd0c",
   "metadata": {},
   "outputs": [],
   "source": [
    "cobot.change_tool(\"vacuum\")"
   ]
  },
  {
   "cell_type": "code",
   "execution_count": null,
   "id": "26db738f",
   "metadata": {},
   "outputs": [],
   "source": [
    "x: 0.651790252968\n",
    "      y: -0.0348108583747\n",
    "      z: -0.0348108583747"
   ]
  },
  {
   "cell_type": "code",
   "execution_count": null,
   "id": "670fc8b3",
   "metadata": {},
   "outputs": [],
   "source": [
    "obj_pos_guess = np.r_[0.651790252968 ,-0.0348108583747, 0.0348108583747] #[0.66, 0.17, 0.07] is actual vision data for elamp cover\n",
    "obj_orient_guess = np.quaternion(-0.5, 0.5, 0.5, 0.5)\n",
    "release_pos = np.r_[0.0192,0.5456 , 0.186] # will drop the object here, careful!\n",
    "release_orientation = obj_orient_guess\n",
    "#obj_orient_guess = quaternion.from_rotation_matrix(quaternion.as_rotation_matrix(obj_orient_guess) @ sm.SE3.Rx(np.rad2deg(-45)).R)"
   ]
  },
  {
   "cell_type": "code",
   "execution_count": null,
   "id": "8f50492e",
   "metadata": {},
   "outputs": [],
   "source": [
    "vac_goal = VacuumGraspingGoal()\n",
    "vac_goal.object_center.header.frame_id = \"hrr_cobot.base_link\"\n",
    "vac_goal.object_center.pose.position = hrr_common.ros_utils.np2vec3(obj_pos_guess)\n",
    "vac_goal.object_center.pose.orientation = hrr_common.ros_utils.np2quat(obj_orient_guess)\n",
    "\n",
    "vac_goal.release_pose.header.frame_id = \"hrr_cobot.base_link\"\n",
    "vac_goal.release_pose.pose.position = hrr_common.ros_utils.np2vec3(release_pos)\n",
    "vac_goal.release_pose.pose.orientation = hrr_common.ros_utils.np2quat(release_orientation)\n",
    "\n",
    "# vac_goal.timeout = 120.0\n",
    "# vac_goal"
   ]
  },
  {
   "cell_type": "markdown",
   "id": "674b927f",
   "metadata": {},
   "source": [
    "def get_SE3_from_pose_stamped(msg):\n",
    "    p = hrr_common.vec32np(msg.pose.position)\n",
    "    q = hrr_common.quat2np(msg.pose.orientation)\n",
    "    return hrr_common.posquat2homog(p, q)"
   ]
  },
  {
   "cell_type": "markdown",
   "id": "50ef891b",
   "metadata": {},
   "source": [
    "object_center = get_SE3_from_pose_stamped(vac_goal.object_center)\n",
    "release_center = get_SE3_from_pose_stamped(vac_goal.release_pose)\n",
    "ee2tip = np.r_[0, 0, 0.20018]"
   ]
  },
  {
   "cell_type": "markdown",
   "id": "2ba56041",
   "metadata": {},
   "source": [
    "_B_surface_normal = object_center.A[:3, 0]\n",
    "grasp_pose_EE = hrr_common.utils.calc_goal_pose(_B_surface_normal, object_center.t, y_axis=object_center.A[:3, 1])\n",
    "            #2. adjust to accomodate tool-tip\n",
    "grasp_pose = grasp_pose_EE @ sm.SE3(-ee2tip)\n",
    "\n",
    "release_pose_EE = hrr_common.utils.calc_goal_pose(release_center.A[:3,0], release_center.t, y_axis=release_center.A[:3,1])\n",
    "release_pose = release_pose_EE @ sm.SE3(-ee2tip) \n",
    "#return self.cancel(msg=\"Thou shalt hard-code\")\n",
    "\n",
    "pre_pose = grasp_pose @ sm.SE3([0, 0, -0.15])\n",
    "\n",
    "below_pose = grasp_pose @ sm.SE3([0, 0, 0.1])\n",
    "pre_pose, below_pose"
   ]
  },
  {
   "cell_type": "code",
   "execution_count": null,
   "id": "7d99d44e",
   "metadata": {},
   "outputs": [],
   "source": [
    "vacuum_client.send_goal(vac_goal)\n"
   ]
  },
  {
   "cell_type": "code",
   "execution_count": null,
   "id": "de77c0af",
   "metadata": {},
   "outputs": [],
   "source": [
    "cancel(vacuum_client)"
   ]
  },
  {
   "cell_type": "code",
   "execution_count": 67,
   "id": "59effc3c",
   "metadata": {},
   "outputs": [],
   "source": [
    "cobot.close_tool_changer()\n"
   ]
  },
  {
   "cell_type": "markdown",
   "id": "ba3a5406",
   "metadata": {},
   "source": [
    "## Tool changing to adaptive gripper"
   ]
  },
  {
   "cell_type": "code",
   "execution_count": 8,
   "id": "815a7479",
   "metadata": {},
   "outputs": [],
   "source": [
    "# cobot.move_to_joint_pose(tool_change_pose, stochastic = True)\n",
    "# cobot.change_tool(\"nothing\")\n",
    "# rospy.sleep(3)\n",
    "# cobot.open_tool_changer()\n",
    "\n",
    "tc_goal = ChangeToolGoal()\n",
    "tc_goal.new_tool.type = tc_goal.new_tool.WSG_50_DSA\n",
    "tool_change_client.send_goal(tc_goal)\n",
    "# tool_change_client.cancel_all_goals()"
   ]
  },
  {
   "cell_type": "code",
   "execution_count": null,
   "id": "2cb0616a",
   "metadata": {},
   "outputs": [],
   "source": [
    "cobot.close_tool_changer()\n"
   ]
  },
  {
   "cell_type": "code",
   "execution_count": 13,
   "id": "a4ecf8c8",
   "metadata": {},
   "outputs": [
    {
     "data": {
      "text/plain": [
       "True"
      ]
     },
     "execution_count": 13,
     "metadata": {},
     "output_type": "execute_result"
    }
   ],
   "source": [
    "cobot.change_tool(\"nothing\")\n"
   ]
  },
  {
   "cell_type": "code",
   "execution_count": 14,
   "id": "3afda475",
   "metadata": {},
   "outputs": [
    {
     "data": {
      "text/plain": [
       "True"
      ]
     },
     "execution_count": 14,
     "metadata": {},
     "output_type": "execute_result"
    }
   ],
   "source": [
    "cobot.change_tool(\"wsg_50_dsa\")"
   ]
  },
  {
   "cell_type": "markdown",
   "id": "c6c1fa87",
   "metadata": {},
   "source": [
    "## Calibrate"
   ]
  },
  {
   "cell_type": "code",
   "execution_count": 11,
   "id": "908b7d7b",
   "metadata": {},
   "outputs": [
    {
     "data": {
      "text/plain": [
       "calibration_file: \"/home/hrr_cobot/Documents/skill_recordings/wsg_50_dsa.pkl\"\n",
       "data_file: \"/home/hrr_cobot/Documents/skill_recordings/wsg_50_dsa_calibration.npy\"\n",
       "q4_dot_des: 0.0\n",
       "q5_dot_des: 0.0\n",
       "q6_dot_des: 0.0\n",
       "scale_q4: 0.5\n",
       "scale_q5: 0.5\n",
       "scale_q6: 0.5\n",
       "recalibrate: True\n",
       "keep_current_pose: False"
      ]
     },
     "execution_count": 11,
     "metadata": {},
     "output_type": "execute_result"
    }
   ],
   "source": [
    "goal = CalibrateCobotGoal()\n",
    "data_path = pathlib.Path.home() / \"Documents\" / \"skill_recordings\"\n",
    "data_path.mkdir(parents=True, exist_ok=True)\n",
    "tool_name = hrr_common.ros_utils.get_param(f'{cobot_ns}tool_name')\n",
    "if tool_name == '':\n",
    "    tool_name = 'nothing'\n",
    "goal.calibration_file = str(data_path / f\"{tool_name}.pkl\")\n",
    "goal.data_file = str(data_path / f\"{tool_name}_calibration.npy\")\n",
    "goal.recalibrate = True\n",
    "goal.scale_q4 = 0.5\n",
    "goal.scale_q5 = 0.5\n",
    "goal.scale_q6 = 0.5\n",
    "goal"
   ]
  },
  {
   "cell_type": "code",
   "execution_count": 12,
   "id": "299e002d",
   "metadata": {},
   "outputs": [],
   "source": [
    "calibrate_client.send_goal(goal)"
   ]
  },
  {
   "cell_type": "code",
   "execution_count": null,
   "id": "b79ccca0",
   "metadata": {},
   "outputs": [],
   "source": [
    "get_result(calibrate_client)"
   ]
  },
  {
   "cell_type": "code",
   "execution_count": null,
   "id": "e0d81e5d",
   "metadata": {},
   "outputs": [],
   "source": [
    "# cancel(calibrate_client)"
   ]
  },
  {
   "cell_type": "code",
   "execution_count": null,
   "id": "53b30b52",
   "metadata": {},
   "outputs": [],
   "source": [
    "cobot.FT.bias"
   ]
  },
  {
   "cell_type": "code",
   "execution_count": null,
   "id": "402fb0fc",
   "metadata": {},
   "outputs": [],
   "source": [
    "cobot.update()\n",
    "cobot.FT.read_params()\n",
    "cobot.update()"
   ]
  },
  {
   "cell_type": "code",
   "execution_count": null,
   "id": "72795b77",
   "metadata": {},
   "outputs": [],
   "source": [
    "cobot.B_F_msr"
   ]
  },
  {
   "cell_type": "markdown",
   "id": "a9b2fb40",
   "metadata": {},
   "source": [
    "## Adaptive Grasping"
   ]
  },
  {
   "cell_type": "code",
   "execution_count": null,
   "id": "6bca2134",
   "metadata": {},
   "outputs": [],
   "source": [
    "x: 0.641684953969\n",
    "      y: -0.0272301237041\n",
    "      z: 0.0484938847812\n",
    "    orientation:\n",
    "      x: 0.0\n",
    "      y: -0.743050660019\n",
    "      z: 0.0634292229665\n",
    "      w: 0.666222523125"
   ]
  },
  {
   "cell_type": "code",
   "execution_count": 15,
   "id": "c5c8cfc1",
   "metadata": {},
   "outputs": [],
   "source": [
    "grasp_goal = AdaptiveGraspingGoal()\n",
    "T_B_C_test = sm.SE3(0.641684953969, -0.0272301237041, 0.0484938847812)\n",
    "dispose = sm.SE3([0.0192,0.5456 , 0.186])\n",
    "grasp_goal.object_center.pose.position = hrr_common.np2vec3(T_B_C_test.t)\n",
    "grasp_goal.object_center.pose.orientation = hrr_common.np2quat(hrr_common.rotmat2quat(T_B_C_test.R))\n",
    "grasp_goal.dispose_off_location_pose.pose.position = hrr_common.np2vec3(dispose.t)\n",
    "grasp_goal.dispose_off_location_pose.pose.orientation = hrr_common.np2quat(hrr_common.rotmat2quat(dispose.R))\n",
    "grasp_goal.contact_force = 5.0\n",
    "grasp_goal.timeout = 20000.0"
   ]
  },
  {
   "cell_type": "code",
   "execution_count": 16,
   "id": "efe0cd14",
   "metadata": {},
   "outputs": [],
   "source": [
    "grasping_client.send_goal(grasp_goal)"
   ]
  },
  {
   "cell_type": "code",
   "execution_count": null,
   "id": "6e2a5893",
   "metadata": {},
   "outputs": [],
   "source": [
    "cancel(grasping_client)"
   ]
  },
  {
   "cell_type": "markdown",
   "id": "995519ad",
   "metadata": {},
   "source": [
    "#Reset Gripper Driver\n",
    "cobot.change_tool(\"nothing\")\n",
    "cobot.change_tool(\"wsg_50_dsa\")"
   ]
  },
  {
   "cell_type": "code",
   "execution_count": null,
   "id": "10466419",
   "metadata": {},
   "outputs": [],
   "source": [
    "cobot.gripper.width"
   ]
  },
  {
   "cell_type": "code",
   "execution_count": null,
   "id": "9f07c0d1",
   "metadata": {},
   "outputs": [],
   "source": [
    "#Test if gripper works\n",
    "cobot.gripper.send_pos(0.05, si=True)"
   ]
  },
  {
   "cell_type": "markdown",
   "id": "67a4daac",
   "metadata": {},
   "source": [
    "## Tool changing to vacuum"
   ]
  },
  {
   "cell_type": "code",
   "execution_count": null,
   "id": "8439808d",
   "metadata": {},
   "outputs": [],
   "source": [
    "cobot.change_tool(\"wsg_50_dsa\")"
   ]
  },
  {
   "cell_type": "code",
   "execution_count": null,
   "id": "41df5b2e",
   "metadata": {},
   "outputs": [],
   "source": [
    "cobot.move_to_joint_pose(cobot.q_calib, stochastic = True)"
   ]
  },
  {
   "cell_type": "code",
   "execution_count": 17,
   "id": "fd5dc519",
   "metadata": {},
   "outputs": [],
   "source": [
    "# cobot.move_to_joint_pose(tool_change_pose, stochastic = True)\n",
    "# rospy.sleep(2)\n",
    "# cobot.open_tool_changer()\n",
    "tc_goal = ChangeToolGoal()\n",
    "tc_goal.new_tool.type = tc_goal.new_tool.VACUUM_GRIPPER\n",
    "tool_change_client.send_goal(tc_goal)\n",
    "# tool_change_client.cancel_all_goals()"
   ]
  },
  {
   "cell_type": "code",
   "execution_count": null,
   "id": "7869bc77",
   "metadata": {},
   "outputs": [],
   "source": [
    "cobot.close_tool_changer()\n",
    "cobot.change_tool(\"vacuum\")"
   ]
  },
  {
   "cell_type": "markdown",
   "id": "0e9edfdd",
   "metadata": {},
   "source": [
    "## Vacuum Middle Cover"
   ]
  },
  {
   "cell_type": "code",
   "execution_count": null,
   "id": "072808b6",
   "metadata": {},
   "outputs": [],
   "source": [
    "x: 0.639662110735\n",
    "      y: -0.0162336284559\n",
    "      z: 0.0475931169759"
   ]
  },
  {
   "cell_type": "code",
   "execution_count": 53,
   "id": "d7a9147b",
   "metadata": {},
   "outputs": [],
   "source": [
    "obj_pos_guess = np.r_[0.639662110735 ,-0.0162336284559, 0.0475931169759] #[0.66, 0.17, 0.07] is actual vision data for elamp cover\n",
    "obj_orient_guess = np.quaternion(-0.653281482438188, -0.270598050073099, 0.653281482438188, -0.270598050073099)\n",
    "obj_orient_guess = quaternion.from_rotation_matrix(quaternion.as_rotation_matrix(obj_orient_guess) @ sm.SE3.Rx(np.rad2deg(45)).R)\n",
    "\n",
    "\n",
    "release_pos = np.r_[0.0192,0.5456 , 0.186] # will drop the object here, careful!\n",
    "release_orientation = obj_orient_guess"
   ]
  },
  {
   "cell_type": "code",
   "execution_count": 54,
   "id": "4687a946",
   "metadata": {},
   "outputs": [],
   "source": [
    "vac_goal = VacuumGraspingGoal()\n",
    "vac_goal.object_center.header.frame_id = \"hrr_cobot.base_link\"\n",
    "vac_goal.object_center.pose.position = hrr_common.ros_utils.np2vec3(obj_pos_guess)\n",
    "vac_goal.object_center.pose.orientation = hrr_common.ros_utils.np2quat(obj_orient_guess)\n",
    "\n",
    "vac_goal.release_pose.header.frame_id = \"hrr_cobot.base_link\"\n",
    "vac_goal.release_pose.pose.position = hrr_common.ros_utils.np2vec3(release_pos)\n",
    "vac_goal.release_pose.pose.orientation = hrr_common.ros_utils.np2quat(release_orientation)\n",
    "\n",
    "# vac_goal.timeout = 120.0\n",
    "# vac_goal"
   ]
  },
  {
   "cell_type": "code",
   "execution_count": 60,
   "id": "b0763ae6",
   "metadata": {},
   "outputs": [],
   "source": [
    "vacuum_client.send_goal(vac_goal)"
   ]
  },
  {
   "cell_type": "code",
   "execution_count": 57,
   "id": "c2f3953f",
   "metadata": {},
   "outputs": [],
   "source": [
    "cancel(vacuum_client)"
   ]
  },
  {
   "cell_type": "code",
   "execution_count": 58,
   "id": "d188118f",
   "metadata": {},
   "outputs": [
    {
     "data": {
      "text/plain": [
       "True"
      ]
     },
     "execution_count": 58,
     "metadata": {},
     "output_type": "execute_result"
    }
   ],
   "source": [
    "cobot.change_tool(\"vacuum\")"
   ]
  },
  {
   "cell_type": "markdown",
   "id": "bb6c8691",
   "metadata": {},
   "source": [
    "## Tool change to grinder"
   ]
  },
  {
   "cell_type": "code",
   "execution_count": null,
   "id": "6e084c5a",
   "metadata": {},
   "outputs": [],
   "source": [
    "cobot.move_to_joint_pose(tool_change_pose, stochastic = True)\n",
    "rospy.sleep(2)\n",
    "cobot.open_tool_changer()"
   ]
  },
  {
   "cell_type": "code",
   "execution_count": null,
   "id": "9d405162",
   "metadata": {},
   "outputs": [],
   "source": [
    "cobot.change_tool(\"nothing\")"
   ]
  },
  {
   "cell_type": "code",
   "execution_count": null,
   "id": "5e4e3482",
   "metadata": {},
   "outputs": [],
   "source": [
    "cobot.close_tool_changer()"
   ]
  },
  {
   "cell_type": "code",
   "execution_count": null,
   "id": "4f8725bb",
   "metadata": {},
   "outputs": [],
   "source": [
    "cobot.change_tool(\"shaftgrinder\")"
   ]
  },
  {
   "cell_type": "code",
   "execution_count": null,
   "id": "21d83f6d",
   "metadata": {},
   "outputs": [],
   "source": [
    "cobot.tool"
   ]
  },
  {
   "cell_type": "markdown",
   "id": "b43e5ded",
   "metadata": {},
   "source": [
    "## Grind battery cables"
   ]
  },
  {
   "cell_type": "code",
   "execution_count": null,
   "id": "26c97089",
   "metadata": {},
   "outputs": [],
   "source": [
    "pointA = hrr_cm.ros_utils.np2vector3stamped(np.r_[ 0.508424204 , -0.0232085618,  0.0048460076], \"pointA\")#[0.6921,0.2472,0.],\"pointA\")\n",
    "pointB = hrr_cm.ros_utils.np2vector3stamped(np.r_[ 0.5339274748 , -0.0232085618,  0.0048460076], \"pointB\")\n",
    "goal = set_cutting_goal(pointA=pointA, pointB=pointB)"
   ]
  },
  {
   "cell_type": "code",
   "execution_count": null,
   "id": "94a96279",
   "metadata": {},
   "outputs": [],
   "source": [
    "shaftgrinder_client.send_goal(goal)"
   ]
  },
  {
   "cell_type": "code",
   "execution_count": null,
   "id": "aa39727e",
   "metadata": {},
   "outputs": [],
   "source": [
    "# cancel(shaftgrinder_client)"
   ]
  },
  {
   "cell_type": "markdown",
   "id": "12984607",
   "metadata": {},
   "source": [
    "## Tool Change to Pneumatic Gripper"
   ]
  },
  {
   "cell_type": "code",
   "execution_count": null,
   "id": "f95752d5",
   "metadata": {},
   "outputs": [],
   "source": [
    "cobot.move_to_joint_pose(tool_change_pose, stochastic=True)\n",
    "cobot.change_tool(\"nothing\")\n",
    "cobot.open_tool_changer()\n",
    "\n",
    "# tc_goal = ChangeToolGoal()\n",
    "#tc_goal.new_tool.type = tc_goal.new_tool.WSG_50\n",
    "# tool_change_client.send_goal(tc_goal)\n",
    "# tool_change_client.cancel_all_goals()"
   ]
  },
  {
   "cell_type": "code",
   "execution_count": null,
   "id": "d1f371f1",
   "metadata": {},
   "outputs": [],
   "source": [
    "srv = rospy.ServiceProxy(\"/hrr_cobot/set_digital_io\", SetIO)\n",
    "srv(SetIORequest(pin=14, state=False))\n",
    "srv(SetIORequest(pin=13, state=False))\n",
    "srv(SetIORequest(pin=12, state=False))"
   ]
  },
  {
   "cell_type": "code",
   "execution_count": null,
   "id": "a4379191",
   "metadata": {},
   "outputs": [],
   "source": [
    "cobot.close_tool_changer()"
   ]
  },
  {
   "cell_type": "code",
   "execution_count": null,
   "id": "82688096",
   "metadata": {},
   "outputs": [],
   "source": [
    "cobot.change_tool(\"vacuum\")"
   ]
  },
  {
   "cell_type": "markdown",
   "id": "ebe9da85",
   "metadata": {},
   "source": [
    "## Remove Battery"
   ]
  },
  {
   "cell_type": "code",
   "execution_count": null,
   "id": "943400d5",
   "metadata": {},
   "outputs": [],
   "source": [
    "obj_pos_guess = np.r_[ 0.594380102373, 0.211132105639+0.024, 0.0307231494051  ] #[0.712, 0.263, 0.0196] is actual vision data for battery\n",
    "obj_orient_guess = np.quaternion(0.390420297656381, -0.197704307824811, 0.808372590594526, 0.393724208832667)#0.0,-0.4376,0.01394,0.8990) #actual vision data for battery\n",
    "release_pos = np.r_[0.0192,0.5456 , 0.186] #same as vision\n",
    "release_orientation = np.quaternion( 0.0026664697, -0.6740100594,  0.7380765346,  0.030762947 ) #same orientaiton for ease"
   ]
  },
  {
   "cell_type": "code",
   "execution_count": null,
   "id": "8b5c4006",
   "metadata": {},
   "outputs": [],
   "source": [
    "pgrip_goal = FingerGraspGoal()\n",
    "pgrip_goal.object_center.header.frame_id = \"hrr_cobot.base_link\"\n",
    "pgrip_goal.object_center.pose.position = hrr_common.ros_utils.np2vec3(obj_pos_guess)\n",
    "pgrip_goal.object_center.pose.orientation = hrr_common.ros_utils.np2quat(obj_orient_guess)\n",
    "\n",
    "pgrip_goal.release_pose.header.frame_id = \"hrr_cobot.base_link\"\n",
    "pgrip_goal.release_pose.pose.position = hrr_common.ros_utils.np2vec3(release_pos)\n",
    "pgrip_goal.release_pose.pose.orientation = hrr_common.ros_utils.np2quat(release_orientation)\n",
    "\n",
    "pgrip_goal.timeout = 10000.0\n",
    "#pgrip_goal.gripper_open_width = 0.084\n",
    "#pgrip_goal.gripper_close_width = 0"
   ]
  },
  {
   "cell_type": "code",
   "execution_count": null,
   "id": "9a90e734",
   "metadata": {},
   "outputs": [],
   "source": [
    "pgrip_client.send_goal(pgrip_goal)"
   ]
  },
  {
   "cell_type": "code",
   "execution_count": null,
   "id": "86465f77",
   "metadata": {},
   "outputs": [],
   "source": [
    "pgrip_client.cancel_all_goals()"
   ]
  },
  {
   "cell_type": "code",
   "execution_count": null,
   "id": "388ee2b5",
   "metadata": {},
   "outputs": [],
   "source": [
    "cobot.change_tool(\"nothing\")"
   ]
  },
  {
   "cell_type": "markdown",
   "id": "4cb6a348",
   "metadata": {},
   "source": [
    "## Tool Change to None"
   ]
  },
  {
   "cell_type": "code",
   "execution_count": null,
   "id": "3225ae5f",
   "metadata": {},
   "outputs": [],
   "source": [
    "cobot.stochastic_move_to_pose(tool_change_pose)\n",
    "rospy.sleep(5)\n",
    "cobot.open_tool_changer()\n",
    "rospy.sleep(3)\n",
    "cobot.close_tool_changer()\n",
    "cobot.change_tool(\"nothing\")\n",
    "# tc_goal = ChangeToolGoal()\n",
    "#tc_goal.new_tool.type = tc_goal.new_tool.WSG_50\n",
    "# tool_change_client.send_goal(tc_goal)\n",
    "# tool_change_client.cancel_all_goals()"
   ]
  }
 ],
 "metadata": {
  "kernelspec": {
   "display_name": "Python 3 (ipykernel)",
   "language": "python",
   "name": "python3"
  },
  "language_info": {
   "codemirror_mode": {
    "name": "ipython",
    "version": 3
   },
   "file_extension": ".py",
   "mimetype": "text/x-python",
   "name": "python",
   "nbconvert_exporter": "python",
   "pygments_lexer": "ipython3",
   "version": "3.8.12"
  },
  "latex_envs": {
   "LaTeX_envs_menu_present": true,
   "autoclose": false,
   "autocomplete": true,
   "bibliofile": "biblio.bib",
   "cite_by": "apalike",
   "current_citInitial": 1,
   "eqLabelWithNumbers": true,
   "eqNumInitial": 1,
   "hotkeys": {
    "equation": "Ctrl-E",
    "itemize": "Ctrl-I"
   },
   "labels_anchors": false,
   "latex_user_defs": false,
   "report_style_numbering": false,
   "user_envs_cfg": false
  },
  "toc": {
   "base_numbering": 1,
   "nav_menu": {},
   "number_sections": true,
   "sideBar": true,
   "skip_h1_title": false,
   "title_cell": "Table of Contents",
   "title_sidebar": "Contents",
   "toc_cell": false,
   "toc_position": {},
   "toc_section_display": true,
   "toc_window_display": false
  }
 },
 "nbformat": 4,
 "nbformat_minor": 5
}
