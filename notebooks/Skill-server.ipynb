{
 "cells": [
  {
   "cell_type": "markdown",
   "id": "75de29f2",
   "metadata": {},
   "source": [
    "# Skill-Server Usage\n",
    "\n",
    "This notebook should quickly outline the basic skills and their interfaces, i.e. how to integrate them in the overall mess.\n",
    "\n",
    "## Preliminaries\n",
    "\n",
    "The skill-server is launched via the ``hrr_cobot_hw.launch`` file if the flag ``use_state_server`` is set to True (default).\n",
    "\n",
    "The steps below can be run, if either the ``use_state_server``-flag has been set to False, or the node is killed via\n",
    "\n",
    "```bash\n",
    "rosnode kill /hrr_cobot/skill_server\n",
    "```\n",
    "\n",
    "### Test-mode \n",
    "\n",
    "For testing run\n",
    "\n",
    "```bash\n",
    "rosrun hrr_cobot_robot skill_server --no-compile-nb __ns:=\"hrr_cobot\"\n",
    "```\n",
    "\n",
    "before executing the code within this notebook. For additional help and instructions run\n",
    "\n",
    "```bash\n",
    "rosrun hrr_cobot_robot skill_server --help\n",
    "```\n",
    "\n",
    "### Debugging mode\n",
    "\n",
    "For debugging, use an IDE, e.g. [pycharm](https://www.jetbrains.com/pycharm/download/) or vscode(https://code.visualstudio.com/) with proper plugins, and run the ``skill_server`` script from ``hrr_cobot_robot->scripts->skill_server`` in debug mode, set breakpoints as needed and call the action-clients from here.\n",
    "\n",
    "You may want to add the proper namespace to emulate identical beahvior, thus adjust the settings\n",
    "\n",
    "![access-settings](./media/pycharm_skill_server_access_settings.png)\n",
    "\n",
    "and add the namespace as a Parameter\n",
    "\n",
    "![set namespace](./media/pycharm_skill_server.png)\n",
    "\n",
    "## set up basics\n",
    "\n",
    "For the code below, we assume that the rqt graph shows something like this\n",
    "\n",
    "![rqt-graph](./media/skill_server_rqt_graph.png)\n",
    "\n",
    "**NOTE: this graph is missing some actions and still uses an Arduino interface, but serves as a reference**"
   ]
  },
  {
   "cell_type": "code",
   "execution_count": null,
   "id": "b5ce9583",
   "metadata": {},
   "outputs": [],
   "source": [
    "# math and robotics\n",
    "import pathlib\n",
    "import numpy as np\n",
    "import spatialmath as sm\n",
    "\n",
    "# ROS\n",
    "import actionlib\n",
    "import rospy\n",
    "import hrr_common\n",
    "from hr_recycler_msgs.msg import (\n",
    "    AdaptiveGraspingAction, AdaptiveGraspingGoal,\n",
    "    CuttingAction, CuttingGoal,\n",
    "    ChangeToolAction, ChangeToolGoal,    \n",
    "    FingerGraspAction, FingerGraspGoal,    \n",
    "    PushOpenAction, PushOpenGoal,\n",
    "    VacuumGraspingAction, VacuumGraspingGoal,\n",
    "    UnscrewAction, UnscrewGoal\n",
    ")\n",
    "from hrr_msgs.msg import CalibrateCobotAction, CalibrateCobotGoal\n",
    "\n",
    "# set printing and plotting options\n",
    "np.set_printoptions(precision=5, suppress=True)\n",
    "\n",
    "from hr_recycler_msgs.msg import CuttingAction, CuttingFeedback, CuttingResult, CuttingGoal, SkillResult, CobotState, MaterialType\n",
    "import actionlib\n",
    "from hr_recycler_msgs.msg import ToolType\n",
    "\n",
    "from hr_recycler_msgs.msg import PlannerAction , PlannerGoal\n",
    "import hrr_common as hrr_cm"
   ]
  },
  {
   "cell_type": "markdown",
   "id": "ed33ecfd",
   "metadata": {},
   "source": [
    "# replace this with current ROS_MASTER hostname\n",
    "#hrr_common.utils.set_ros_environment(ros_master='hrrcobotLinux54')\n",
    "hrr_common.set_ros_environment(\"129.187.147.188\")"
   ]
  },
  {
   "cell_type": "code",
   "execution_count": null,
   "id": "5a7b184c",
   "metadata": {},
   "outputs": [],
   "source": [
    "rospy.init_node('skill_server_client')"
   ]
  },
  {
   "cell_type": "markdown",
   "id": "78b30be5",
   "metadata": {},
   "source": [
    "## get ROS-action-server names"
   ]
  },
  {
   "cell_type": "code",
   "execution_count": null,
   "id": "0b74ae47",
   "metadata": {},
   "outputs": [],
   "source": [
    "cobot_ns = hrr_common.ros_utils.fix_prefix(hrr_common.ros_utils.get_param(\"/cobot_ns\"))\n",
    "change_tool_action_srv_name = hrr_common.ros_utils.get_param(f\"{cobot_ns}change_tool_action_srv_name\")\n",
    "calibration_action_srv_name = hrr_common.ros_utils.get_param(f\"{cobot_ns}calibration_action_srv_name\")\n",
    "cutting_action_srv_name = hrr_common.ros_utils.get_param(f\"{cobot_ns}cutting_action_srv_name\")\n",
    "grinding_action_srv_name = hrr_common.ros_utils.get_param(f\"{cobot_ns}grinding_action_srv_name\")\n",
    "pc_opening_action_srv_name = hrr_common.ros_utils.get_param(f\"{cobot_ns}pc_opening_action_srv_name\")\n",
    "sensitive_grasping_action_srv_name = hrr_common.ros_utils.get_param(f\"{cobot_ns}sensitive_grasping_action_srv_name\")\n",
    "unscrew_action_srv_name = hrr_common.ros_utils.get_param(f\"{cobot_ns}unscrew_action_srv_name\")\n",
    "vacuum_pick_place_action_srv_name = hrr_common.ros_utils.get_param(f\"{cobot_ns}vacuum_pick_place_action_srv_name\")\n",
    "finger_grasping_action_srv_name= hrr_common.ros_utils.get_param(f\"{cobot_ns}finger_grasping_action_srv_name\")"
   ]
  },
  {
   "cell_type": "markdown",
   "id": "18b6a6e8",
   "metadata": {},
   "source": [
    "## action-client helper-functions"
   ]
  },
  {
   "cell_type": "code",
   "execution_count": null,
   "id": "16c472fb",
   "metadata": {},
   "outputs": [],
   "source": [
    "def get_client(action_topic, ActionClass, timeout_secs=2.0):\n",
    "    client = actionlib.SimpleActionClient(action_topic, ActionClass)\n",
    "    client.wait_for_server(timeout=rospy.Duration(timeout_secs))\n",
    "    return client"
   ]
  },
  {
   "cell_type": "code",
   "execution_count": null,
   "id": "fec04df3",
   "metadata": {},
   "outputs": [],
   "source": [
    "def get_result(cl):\n",
    "    cl.wait_for_result()\n",
    "    return cl.get_result()\n",
    "\n",
    "def cancel(cl):\n",
    "    cl.cancel_all_goals()"
   ]
  },
  {
   "cell_type": "markdown",
   "id": "63ab350d",
   "metadata": {},
   "source": [
    "## Start cobot"
   ]
  },
  {
   "cell_type": "code",
   "execution_count": null,
   "id": "5cc2abae",
   "metadata": {},
   "outputs": [],
   "source": [
    "import hrr_cobot_robot as hrr_rob\n",
    "cobot = hrr_rob.HrrCobotControl.from_ros(\"/hrr_cobot\")"
   ]
  },
  {
   "cell_type": "code",
   "execution_count": null,
   "id": "011bb3d7",
   "metadata": {},
   "outputs": [],
   "source": [
    "print(cobot)"
   ]
  },
  {
   "cell_type": "code",
   "execution_count": null,
   "id": "b9ce6dfd",
   "metadata": {},
   "outputs": [],
   "source": [
    "cobot.T_B_C_robot, cobot.T_B_E_robot"
   ]
  },
  {
   "cell_type": "code",
   "execution_count": null,
   "id": "b3290939",
   "metadata": {},
   "outputs": [],
   "source": [
    "cobot.T_B_E_robot.A, cobot.q"
   ]
  },
  {
   "cell_type": "code",
   "execution_count": null,
   "id": "53532a96",
   "metadata": {},
   "outputs": [],
   "source": [
    "rospy.sleep(5)\n",
    "cobot.open_tool_changer()"
   ]
  },
  {
   "cell_type": "code",
   "execution_count": null,
   "id": "7bd3ead6",
   "metadata": {},
   "outputs": [],
   "source": [
    "cobot.close_tool_changer()"
   ]
  },
  {
   "cell_type": "markdown",
   "id": "8b83d43b",
   "metadata": {},
   "source": [
    "### Check T_B_C transform"
   ]
  },
  {
   "cell_type": "code",
   "execution_count": null,
   "id": "9450d8cb",
   "metadata": {},
   "outputs": [],
   "source": [
    "cobot.init_sns_vel()"
   ]
  },
  {
   "cell_type": "code",
   "execution_count": null,
   "id": "3cce6f42",
   "metadata": {},
   "outputs": [],
   "source": [
    "cobot.stop()"
   ]
  },
  {
   "cell_type": "code",
   "execution_count": null,
   "id": "0c347d89",
   "metadata": {},
   "outputs": [],
   "source": [
    "cobot.change_tool(\"nothing\")"
   ]
  },
  {
   "cell_type": "code",
   "execution_count": null,
   "id": "c3da016a",
   "metadata": {},
   "outputs": [],
   "source": [
    "cobot.change_tool(\"screwdriver\")"
   ]
  },
  {
   "cell_type": "code",
   "execution_count": null,
   "id": "49b23749",
   "metadata": {},
   "outputs": [],
   "source": [
    "v_test = np.zeros(6)\n",
    "for t in range(600):\n",
    "    v_test[5] = 3e-2\n",
    "    cobot.update(u_cmd=v_test, u_cmd_frame=\"hrr_cobot.screwdriver_tip\", sleep=True)\n",
    "cobot.stop()"
   ]
  },
  {
   "cell_type": "markdown",
   "id": "4b3f234c",
   "metadata": {},
   "source": [
    "## Motion planner debugging and tests"
   ]
  },
  {
   "cell_type": "code",
   "execution_count": null,
   "id": "5cfa52b0",
   "metadata": {},
   "outputs": [],
   "source": [
    "cobot._planner_interface.has_matlab"
   ]
  },
  {
   "cell_type": "code",
   "execution_count": null,
   "id": "3f3b3551",
   "metadata": {},
   "outputs": [],
   "source": [
    "data = np.load(\"screw_6.npy\", allow_pickle=True)\n",
    "data = data.item()\n",
    "poses = data[\"pickup\"]\n",
    "poses"
   ]
  },
  {
   "cell_type": "code",
   "execution_count": null,
   "id": "2be39a82",
   "metadata": {},
   "outputs": [],
   "source": [
    "data = np.load(\"screw_6.npy\", allow_pickle=True)\n",
    "data = data.item()\n",
    "poses = data[\"pickup\"]"
   ]
  },
  {
   "cell_type": "code",
   "execution_count": null,
   "id": "0d2a350b",
   "metadata": {},
   "outputs": [],
   "source": [
    "poses[\"poses_A\"][0]"
   ]
  },
  {
   "cell_type": "code",
   "execution_count": null,
   "id": "d06b38f5",
   "metadata": {},
   "outputs": [],
   "source": [
    "T_B_E_calib = cobot.FK(cobot.q_calib)"
   ]
  },
  {
   "cell_type": "code",
   "execution_count": null,
   "id": "08592b70",
   "metadata": {},
   "outputs": [],
   "source": [
    "cobot.FK(np.r_[-1.5, cobot.q_calib[1:]])T_B_E_goali"
   ]
  },
  {
   "cell_type": "code",
   "execution_count": null,
   "id": "2e34fc41",
   "metadata": {},
   "outputs": [],
   "source": [
    "cobot.stochastic_move_to_pose(poses[\"poses_A\"][1])"
   ]
  },
  {
   "cell_type": "code",
   "execution_count": null,
   "id": "4a645261",
   "metadata": {},
   "outputs": [],
   "source": [
    "cobot.stochastic_move_to_pose(cobot.FK(np.r_[1.5, cobot.q_calib[1:]])) #Stroke end axis 5 from shaftgrinder pose"
   ]
  },
  {
   "cell_type": "code",
   "execution_count": null,
   "id": "4227bf83",
   "metadata": {},
   "outputs": [],
   "source": [
    "poses[\"poses_A\"][1],poses[\"poses_A\"][2]"
   ]
  },
  {
   "cell_type": "code",
   "execution_count": null,
   "id": "d2e2dc61",
   "metadata": {},
   "outputs": [],
   "source": [
    "poses[\"poses_q\"][0],poses[\"poses_q\"][2]"
   ]
  },
  {
   "cell_type": "code",
   "execution_count": null,
   "id": "1e0b1053",
   "metadata": {},
   "outputs": [],
   "source": [
    "np.rad2deg([ 2.90515,  0.29346, -1.81037, -2.53444,  0.18333, -0.3138 ])"
   ]
  },
  {
   "cell_type": "code",
   "execution_count": null,
   "id": "d6a9622a",
   "metadata": {},
   "outputs": [],
   "source": [
    "get_IK_guess(poses[\"poses_A\"][2], cobot.q_calib)"
   ]
  },
  {
   "cell_type": "code",
   "execution_count": null,
   "id": "42316839",
   "metadata": {},
   "outputs": [],
   "source": [
    "get_IK_guess(poses[\"poses_A\"][2],[ 2.90504,  0.28984, -1.80648, -2.49918,  0.6501 , -2.12023])"
   ]
  },
  {
   "cell_type": "code",
   "execution_count": null,
   "id": "05d7261c",
   "metadata": {},
   "outputs": [],
   "source": [
    "cobot.stochastic_move_to_pose(poses[\"poses_A\"][2])"
   ]
  },
  {
   "cell_type": "code",
   "execution_count": null,
   "id": "595fc208",
   "metadata": {},
   "outputs": [],
   "source": [
    "jt = cobot._planner_interface.get_joint_trajectory_to_joint_configuration(cobot.q_calib)"
   ]
  },
  {
   "cell_type": "code",
   "execution_count": null,
   "id": "4ef5a126",
   "metadata": {},
   "outputs": [],
   "source": [
    "np.rad2deg(jt)"
   ]
  },
  {
   "cell_type": "code",
   "execution_count": null,
   "id": "136dea2c",
   "metadata": {},
   "outputs": [],
   "source": [
    "cobot.execute_joint_trajectory(joint_traj=jt, wait_for_feedback=True)"
   ]
  },
  {
   "cell_type": "code",
   "execution_count": null,
   "id": "b5dbfdc3",
   "metadata": {},
   "outputs": [],
   "source": [
    "if cobot._planner_interface.has_matlab: \n",
    "    joint_traj = cobot._planner_interface.plan_joint_trajectory(q_des)\n",
    "    #joint_traj = cobot._planner_interface.get_joint_trajectory_to_joint_configuration(q_des)\n",
    "    #If you want to use matlab IK:\n",
    "    #joint_traj = self._planner_interface.get_joint_trajectory_to_pose(T_B_E_des)\n",
    "cobot.execute_joint_trajectory(joint_traj=joint_traj, wait_for_feedback=True)\n",
    "rospy.loginfo(\"re-/deactivate controllers\")\n",
    "cobot._joint_traj_handle.deactivate()\n",
    "cobot.reactivate_controllers(cur_controllers)"
   ]
  },
  {
   "cell_type": "code",
   "execution_count": null,
   "id": "87d2d804",
   "metadata": {},
   "outputs": [],
   "source": [
    "def get_IK_guess(T_B_E_des, current_q):\n",
    "    qs_des = cobot.IK(T_B_E_des)\n",
    "    #Get absolute distance to all q_des from current q\n",
    "    qs_diff = [np.abs(elem-current_q) for elem in qs_des]\n",
    "    #Find nearest q_des (sorted by joints)\n",
    "    best_q_diff = qs_diff[0]\n",
    "    best_idx = 0\n",
    "    for k, q_diff in enumerate(qs_diff):\n",
    "        if k==0:\n",
    "            continue\n",
    "        if q_diff[0] < best_q_diff[0]:\n",
    "            best_q_diff = q_diff\n",
    "            best_idx = k\n",
    "        elif q_diff[0] == best_q_diff[0]:\n",
    "            if q_diff[1] < best_q_diff[1]:\n",
    "                best_q_diff = q_diff\n",
    "                best_idx = k\n",
    "            elif q_diff[1] == best_q_diff[1]:\n",
    "                if q_diff[2] < best_q_diff[2]:\n",
    "                    best_q_diff = q_diff\n",
    "                    best_idx = k\n",
    "                elif q_diff[2] == best_q_diff[2]:\n",
    "                    if q_diff[3] < best_q_diff[3]:\n",
    "                        best_q_diff = q_diff\n",
    "                        best_idx = k\n",
    "                    elif q_diff[3] == best_q_diff[3]:\n",
    "                        if q_diff[4] < best_q_diff[4]:\n",
    "                            best_q_diff = q_diff\n",
    "                            best_idx = k\n",
    "                        elif q_diff[4] == best_q_diff[4]:\n",
    "                            if q_diff[5] < best_q_diff[5]:\n",
    "                                best_q_diff = q_diff\n",
    "                                best_idx = k\n",
    "    return qs_des[best_idx]"
   ]
  },
  {
   "cell_type": "code",
   "execution_count": null,
   "id": "6d8b0b64",
   "metadata": {},
   "outputs": [],
   "source": [
    "cobot.IK(cobot.T_B_E_robot)"
   ]
  },
  {
   "cell_type": "code",
   "execution_count": null,
   "id": "2fdf9089",
   "metadata": {
    "scrolled": true
   },
   "outputs": [],
   "source": [
    "cobot._planner_interface.from_ros(\"/hrr_cobot\")"
   ]
  },
  {
   "cell_type": "code",
   "execution_count": null,
   "id": "fd12cf60",
   "metadata": {},
   "outputs": [],
   "source": [
    "print(cobot._planner_interface._pub_joint_goal)"
   ]
  },
  {
   "cell_type": "code",
   "execution_count": null,
   "id": "f0f45b8d",
   "metadata": {},
   "outputs": [],
   "source": [
    "Shaftgrinder_tf_1 = sm.SE3()\n",
    "Shaftgrinder_tf_1.A[:4,:4] = [[0.9552, 0.02496, 0.2948, 0.4],\n",
    "                              [-0.2956, 0.04037, 0.9545, 0],\n",
    "                              [0.01192, -0.9989, 0.04594, 0.57],\n",
    "                              [0,0,0,1]]"
   ]
  },
  {
   "cell_type": "code",
   "execution_count": null,
   "id": "31918b4e",
   "metadata": {},
   "outputs": [],
   "source": [
    "Shaftgrinder_tf_1"
   ]
  },
  {
   "cell_type": "code",
   "execution_count": null,
   "id": "f20e8205",
   "metadata": {},
   "outputs": [],
   "source": [
    "tempGoalPose = sm.SE3()\n",
    "tempGoalPose.A[:4,:4] = [[ 0.98168,  0.06281,  0.17986,  0.33984],\n",
    "        [ 0.0997 , -0.97386, -0.2041 , 0.1],\n",
    "        [ 0.16234,  0.2183 , -0.96228,  0.60248],\n",
    "        [ 0.     ,  0.     ,  0.     ,  1.     ]]"
   ]
  },
  {
   "cell_type": "code",
   "execution_count": null,
   "id": "afcc5195",
   "metadata": {},
   "outputs": [],
   "source": [
    "tempGoalPose"
   ]
  },
  {
   "cell_type": "code",
   "execution_count": null,
   "id": "ce4dbfe8",
   "metadata": {},
   "outputs": [],
   "source": [
    "cobot.goTo(tempGoalPose)"
   ]
  },
  {
   "cell_type": "code",
   "execution_count": null,
   "id": "527696c9",
   "metadata": {},
   "outputs": [],
   "source": []
  },
  {
   "cell_type": "code",
   "execution_count": null,
   "id": "787b6dc8",
   "metadata": {},
   "outputs": [],
   "source": [
    "Shaftgrinder_tf_1, cobot.T_B_E_robot"
   ]
  },
  {
   "cell_type": "code",
   "execution_count": null,
   "id": "c0f03504",
   "metadata": {},
   "outputs": [],
   "source": [
    "cobot.IK(Shaftgrinder_tf_1)"
   ]
  },
  {
   "cell_type": "code",
   "execution_count": null,
   "id": "ca9c4c67",
   "metadata": {},
   "outputs": [],
   "source": [
    "cobot.IK(cobot.T_B_E_robot)"
   ]
  },
  {
   "cell_type": "code",
   "execution_count": null,
   "id": "5b041583",
   "metadata": {},
   "outputs": [],
   "source": [
    "cobot.FK(cobot.q_calib)"
   ]
  },
  {
   "cell_type": "code",
   "execution_count": null,
   "id": "2ff3a19d",
   "metadata": {},
   "outputs": [],
   "source": [
    "cobot.IK(Shaftgrinder_tf_1)"
   ]
  },
  {
   "cell_type": "code",
   "execution_count": null,
   "id": "dbffbfae",
   "metadata": {},
   "outputs": [],
   "source": [
    "cobot.stochastic_move_to_pose(Shaftgrinder_tf_1)"
   ]
  },
  {
   "cell_type": "code",
   "execution_count": null,
   "id": "6c7b9ee4",
   "metadata": {},
   "outputs": [],
   "source": [
    "get_IK_guess(cobot.FK(cobot.q_calib), cobot.q), cobot.q_calib"
   ]
  },
  {
   "cell_type": "code",
   "execution_count": null,
   "id": "24d8ed60",
   "metadata": {},
   "outputs": [],
   "source": [
    "qs_des = cobot.IK(cobot.FK(cobot.q_calib))\n",
    "#Get absolute distance to all q_des from current q\n",
    "qs_diff = [np.abs(elem-cobot.q) for elem in qs_des]\n",
    "#Find nearest q_des (sorted by joints)\n",
    "best_q_diff = qs_diff[0]\n",
    "best_idx = 0"
   ]
  },
  {
   "cell_type": "code",
   "execution_count": null,
   "id": "40b384bf",
   "metadata": {},
   "outputs": [],
   "source": [
    "q_diff = qs_diff[1]"
   ]
  },
  {
   "cell_type": "code",
   "execution_count": null,
   "id": "a60f28fd",
   "metadata": {},
   "outputs": [],
   "source": [
    "q_diff[0] < best_q_diff[0]"
   ]
  },
  {
   "cell_type": "code",
   "execution_count": null,
   "id": "0d9b233f",
   "metadata": {},
   "outputs": [],
   "source": [
    "cobot.q"
   ]
  },
  {
   "cell_type": "markdown",
   "id": "e7b3ffeb",
   "metadata": {},
   "source": [
    "### Camera hack"
   ]
  },
  {
   "cell_type": "markdown",
   "id": "03e8e481",
   "metadata": {},
   "source": [
    "import tf2_ros\n",
    "import geometry_msgs.msg\n",
    "broadcaster = tf2_ros.StaticTransformBroadcaster()\n",
    "static_transformStamped = geometry_msgs.msg.TransformStamped()\n",
    "\n",
    "static_transformStamped.header.stamp = rospy.Time.now()\n",
    "static_transformStamped.header.frame_id = \"hrr_cobot.base_link\"\n",
    "static_transformStamped.child_frame_id = \"camera_link\"\n",
    "static_transformStamped.transform.translation.x = 0.7\n",
    "static_transformStamped.transform.translation.y = 0.3\n",
    "static_transformStamped.transform.translation.z = 0.02\n",
    "\n",
    "static_transformStamped.transform.rotation.x = 0.0\n",
    "static_transformStamped.transform.rotation.y = 0.0\n",
    "static_transformStamped.transform.rotation.z = 0.0\n",
    "static_transformStamped.transform.rotation.w = 1.0\n",
    "\n",
    "broadcaster.sendTransform(static_transformStamped)"
   ]
  },
  {
   "cell_type": "markdown",
   "id": "852fdb7d",
   "metadata": {},
   "source": [
    "#Hide CObot\n",
    "joi = cobot.q_calib\n",
    "joi[0]=-np.deg2rad(90)\n",
    "cobot.move_to_joint_pose(joi, stochastic=True)"
   ]
  },
  {
   "cell_type": "markdown",
   "id": "15b17031",
   "metadata": {},
   "source": [
    "## Tool-Changer Handles"
   ]
  },
  {
   "cell_type": "code",
   "execution_count": null,
   "id": "f62cafb2",
   "metadata": {},
   "outputs": [],
   "source": [
    "rospy.sleep(10)\n",
    "cobot.open_tool_changer()"
   ]
  },
  {
   "cell_type": "code",
   "execution_count": null,
   "id": "9d24449d",
   "metadata": {},
   "outputs": [],
   "source": [
    "cobot.close_tool_changer()"
   ]
  },
  {
   "cell_type": "markdown",
   "id": "0a84a493",
   "metadata": {},
   "source": [
    "## Network Test"
   ]
  },
  {
   "cell_type": "code",
   "execution_count": null,
   "id": "339bd4ca",
   "metadata": {},
   "outputs": [],
   "source": [
    "cobot.stop()"
   ]
  },
  {
   "cell_type": "code",
   "execution_count": null,
   "id": "3c2e34ae",
   "metadata": {},
   "outputs": [],
   "source": [
    "cobot.reset()"
   ]
  },
  {
   "cell_type": "code",
   "execution_count": null,
   "id": "e3822b38",
   "metadata": {},
   "outputs": [],
   "source": [
    "c"
   ]
  },
  {
   "cell_type": "code",
   "execution_count": null,
   "id": "a8e838fa",
   "metadata": {},
   "outputs": [],
   "source": [
    "print(cobot)"
   ]
  },
  {
   "cell_type": "code",
   "execution_count": null,
   "id": "7abd059d",
   "metadata": {},
   "outputs": [],
   "source": [
    "cobot.FT_F"
   ]
  },
  {
   "cell_type": "code",
   "execution_count": null,
   "id": "8d53c2a9",
   "metadata": {},
   "outputs": [],
   "source": [
    "cobot.update()"
   ]
  },
  {
   "cell_type": "code",
   "execution_count": null,
   "id": "891de026",
   "metadata": {},
   "outputs": [],
   "source": [
    "cobot.hz = 100"
   ]
  },
  {
   "cell_type": "code",
   "execution_count": null,
   "id": "e99d9a19",
   "metadata": {},
   "outputs": [],
   "source": [
    "print(cobot)"
   ]
  },
  {
   "cell_type": "code",
   "execution_count": null,
   "id": "0253871d",
   "metadata": {},
   "outputs": [],
   "source": [
    "cobot.close_tool_changer()"
   ]
  },
  {
   "cell_type": "code",
   "execution_count": null,
   "id": "9ddea0cc",
   "metadata": {},
   "outputs": [],
   "source": [
    "cobot.T_B_E_robot.A, np.rad2deg(cobot.q)"
   ]
  },
  {
   "cell_type": "code",
   "execution_count": null,
   "id": "7166ba74",
   "metadata": {},
   "outputs": [],
   "source": [
    "cobot.goTo(sm.SE3([0,-0.2,0]) @ cobot.T_B_E_robot, v_max = 0.01, check_reachable=False)"
   ]
  },
  {
   "cell_type": "code",
   "execution_count": null,
   "id": "16ab5292",
   "metadata": {},
   "outputs": [],
   "source": [
    "cobot.update()"
   ]
  },
  {
   "cell_type": "code",
   "execution_count": null,
   "id": "93dde41e",
   "metadata": {},
   "outputs": [],
   "source": [
    "cobot.reset()"
   ]
  },
  {
   "cell_type": "code",
   "execution_count": null,
   "id": "d31a18a3",
   "metadata": {},
   "outputs": [],
   "source": [
    "cobot.hz = 50"
   ]
  },
  {
   "cell_type": "code",
   "execution_count": null,
   "id": "718ef146",
   "metadata": {},
   "outputs": [],
   "source": [
    "cobot.goTo(sm.SE3([0,0,-0.1]) @ cobot.T_B_E_robot, v_max = 0.1, check_reachable=False)\n",
    "cobot.goTo(sm.SE3([0,0,0.1]) @ cobot.T_B_E_robot, v_max = 0.1, check_reachable=False)"
   ]
  },
  {
   "cell_type": "code",
   "execution_count": null,
   "id": "f6d7dd13",
   "metadata": {},
   "outputs": [],
   "source": [
    "cobot.goTo(sm.SE3([0,0,-0.1]) @ cobot.T_B_E_robot, v_max = 0.01, check_reachable=False)\n",
    "cobot.goTo(sm.SE3([0,0,0.1]) @ cobot.T_B_E_robot, v_max = 0.01, check_reachable=False)\n",
    "cobot.goTo(sm.SE3([0,0,-0.1]) @ cobot.T_B_E_robot, v_max = 0.01, check_reachable=False)\n",
    "cobot.goTo(sm.SE3([0,0,0.1]) @ cobot.T_B_E_robot, v_max = 0.01, check_reachable=False)\n",
    "cobot.goTo(sm.SE3([0,0,-0.1]) @ cobot.T_B_E_robot, v_max = 0.01, check_reachable=False)\n",
    "cobot.goTo(sm.SE3([0,0,0.1]) @ cobot.T_B_E_robot, v_max = 0.01, check_reachable=False)\n",
    "cobot.goTo(sm.SE3([0,0,-0.1]) @ cobot.T_B_E_robot, v_max = 0.01, check_reachable=False)\n",
    "cobot.goTo(sm.SE3([0,0,0.1]) @ cobot.T_B_E_robot, v_max = 0.01, check_reachable=False)"
   ]
  },
  {
   "cell_type": "code",
   "execution_count": null,
   "id": "dc5ecc26",
   "metadata": {},
   "outputs": [],
   "source": [
    "cobot.hz = 80"
   ]
  },
  {
   "cell_type": "markdown",
   "id": "de80187d",
   "metadata": {},
   "source": [
    "## Cutting"
   ]
  },
  {
   "cell_type": "code",
   "execution_count": null,
   "id": "1d253c33",
   "metadata": {},
   "outputs": [],
   "source": [
    "Shaftgrinder_pose_q = np.array([-0.08106, -0.23017, -2.33784, -0.93423, -0.8107 ,  2.32261])\n"
   ]
  },
  {
   "cell_type": "code",
   "execution_count": null,
   "id": "89b825c7",
   "metadata": {},
   "outputs": [],
   "source": [
    "cobot.tool_id"
   ]
  },
  {
   "cell_type": "code",
   "execution_count": null,
   "id": "c8ffd7ee",
   "metadata": {},
   "outputs": [],
   "source": [
    "cobot.change_tool(\"shaftgrinder\")"
   ]
  },
  {
   "cell_type": "code",
   "execution_count": null,
   "id": "665d927a",
   "metadata": {},
   "outputs": [],
   "source": [
    "cobot.update()"
   ]
  },
  {
   "cell_type": "code",
   "execution_count": null,
   "id": "fae62fda",
   "metadata": {},
   "outputs": [],
   "source": [
    "cobot.T_B_E_robot.t, cobot.T_B_C_robot.t"
   ]
  },
  {
   "cell_type": "code",
   "execution_count": null,
   "id": "bddb75a6",
   "metadata": {},
   "outputs": [],
   "source": [
    "Shaftgrinder_pose = sm.SE3()\n",
    "Shaftgrinder_pose.A[:4,:4] = np.array([[-0.515, 0.02106, 0.8569, 0.3903],\n",
    "                              [-0.8571, 0.0004331, -0.5151, -0.01507],\n",
    "                              [-0.01122, -0.9998, 0.01782, 0.5722],\n",
    "                              [0, 0, 0, 1]])"
   ]
  },
  {
   "cell_type": "code",
   "execution_count": null,
   "id": "fd0c98e2",
   "metadata": {},
   "outputs": [],
   "source": [
    "Shaftgrinder_poseEL = sm.SE3()\n",
    "Shaftgrinder_poseEL.A[:4,:4] = np.array([[   1     ,   -4.896e-12 , 0    ,     0.4004    ],\n",
    "                                        [0    ,     0  ,       1  ,       0.1847  ],  \n",
    "                                        [-4.896e-12 ,-1  ,       0 ,        0.2945 ],   \n",
    "                                        [ 0   ,      0 ,        0 ,        1  ]]) "
   ]
  },
  {
   "cell_type": "code",
   "execution_count": null,
   "id": "ce9964f3",
   "metadata": {},
   "outputs": [],
   "source": [
    "cobot.move_to_joint_pose(Shaftgrinder_pose_q)"
   ]
  },
  {
   "cell_type": "code",
   "execution_count": null,
   "id": "393021e5",
   "metadata": {
    "scrolled": true
   },
   "outputs": [],
   "source": [
    "cobot.goTo(Shaftgrinder_poseEL)"
   ]
  },
  {
   "cell_type": "code",
   "execution_count": null,
   "id": "1138e1b4",
   "metadata": {},
   "outputs": [],
   "source": [
    "disp_A = []\n",
    "disp_q = []\n",
    "disp_open_tc = []\n",
    "disp_joint_ctrl = []"
   ]
  },
  {
   "cell_type": "code",
   "execution_count": null,
   "id": "6c0ac947",
   "metadata": {},
   "outputs": [],
   "source": [
    "cobot.update_tf()\n",
    "disp_A.append(cobot.T_B_E_robot)\n",
    "disp_q.append(cobot.q)\n",
    "disp_open_tc.append(0) #Set to 1 if the current pose is the one where tool changer is opened\n",
    "disp_joint_ctrl.append(0) #Set to 1 if the current pose was reached by joint control\n",
    "disp_A"
   ]
  },
  {
   "cell_type": "code",
   "execution_count": null,
   "id": "357c37bf",
   "metadata": {},
   "outputs": [],
   "source": [
    "x = {\"from_shaftgrindpose_toEL\":\n",
    "        {\"poses_A\": disp_A, \"poses_q\": disp_q,\n",
    "        \"open_tc\": disp_open_tc, \"use_joint_ctrl\": disp_joint_ctrl}\n",
    "    }\n",
    "np.save(\"shaftgrind_help\", x, allow_pickle=True)"
   ]
  },
  {
   "cell_type": "code",
   "execution_count": null,
   "id": "0cb9c8c4",
   "metadata": {},
   "outputs": [],
   "source": [
    "#WERTE WIE IN ECORESET. DONT TOUCH!!\n",
    "material= MaterialType()\n",
    "material = material.PLASTIC\n",
    "\n",
    "normalA = hrr_cm.ros_utils.np2vector3stamped(np.r_[0,0,1], \"normalA\")\n",
    "pointA = hrr_cm.ros_utils.np2vector3stamped(np.r_[0.516543880922,0.151079536263,0.2], \"pointA\")#[0.6921,0.2472,0.], \"pointA\")\n",
    "normalB = hrr_cm.ros_utils.np2vector3stamped(np.r_[0,0,1], \"normalB\")\n",
    "pointB = hrr_cm.ros_utils.np2vector3stamped(np.r_[0.516755472499,0.192494410614,0.2], \"pointB\")\n",
    "## replace by vision data"
   ]
  },
  {
   "cell_type": "code",
   "execution_count": null,
   "id": "425535c7",
   "metadata": {},
   "outputs": [],
   "source": [
    "#WERTE ZUM VERÄNDERN\n",
    "material= MaterialType()\n",
    "material = material.PLASTIC\n",
    "\n",
    "normalA = hrr_cm.ros_utils.np2vector3stamped(np.r_[0,0,1], \"normalA\")\n",
    "pointA = hrr_cm.ros_utils.np2vector3stamped(np.r_[0.44808836914,0.35,0.1], \"pointA\")#[0.6921,0.2472,0.], \"pointA\")\n",
    "normalB = hrr_cm.ros_utils.np2vector3stamped(np.r_[0,0,1], \"normalB\")\n",
    "pointB = hrr_cm.ros_utils.np2vector3stamped(np.r_[0.44808836914,0.36,0.1], \"pointB\")\n",
    "## replace by vision data"
   ]
  },
  {
   "cell_type": "code",
   "execution_count": null,
   "id": "d88c20af",
   "metadata": {
    "scrolled": true
   },
   "outputs": [],
   "source": [
    "import hrr_cobot_robot as hrr_rob\n",
    "cobot = hrr_rob.HrrCobotControl.from_ros(\"/hrr_cobot\")\n",
    "cobot.change_tool(\"shaftgrinder\")"
   ]
  },
  {
   "cell_type": "code",
   "execution_count": null,
   "id": "65f7956a",
   "metadata": {},
   "outputs": [],
   "source": [
    "Shaftgrinder_pose = sm.SE3()\n",
    "Shaftgrinder_pose.A[:4,:4] = np.array([[-0.515, 0.02106, 0.8569, 0.3903],\n",
    "                              [-0.8571, 0.0004331, -0.5151, -0.01507],\n",
    "                              [-0.01122, -0.9998, 0.01782, 0.5722],\n",
    "                              [0, 0, 0, 1]])"
   ]
  },
  {
   "cell_type": "code",
   "execution_count": null,
   "id": "08d246b1",
   "metadata": {},
   "outputs": [],
   "source": [
    "!rosparam get /hrr_cobot/tool_name"
   ]
  },
  {
   "cell_type": "code",
   "execution_count": null,
   "id": "292b4a3d",
   "metadata": {},
   "outputs": [],
   "source": [
    "cobot.change_tool(\"shaftgrinder\")"
   ]
  },
  {
   "cell_type": "code",
   "execution_count": null,
   "id": "86998c86",
   "metadata": {},
   "outputs": [],
   "source": [
    "cobot.update()"
   ]
  },
  {
   "cell_type": "code",
   "execution_count": null,
   "id": "470b2c3f",
   "metadata": {},
   "outputs": [],
   "source": [
    "shaftgrinder_client=get_client(cutting_action_srv_name, CuttingAction)\n",
    "#shaftgrinder_client.wait_for_server()\n",
    "print('found')"
   ]
  },
  {
   "cell_type": "code",
   "execution_count": null,
   "id": "ed4d4d05",
   "metadata": {},
   "outputs": [],
   "source": [
    "goal=CuttingGoal()\n",
    "goal.surface_normal_start=normalA\n",
    "goal.surface_normal_end=normalB\n",
    "goal.start_location=pointA\n",
    "goal.end_location=pointB\n",
    "goal.material.material_type=material\n",
    "goal.timeout=5000\n",
    "goal.thickness = 0.005 #not important. can be anything"
   ]
  },
  {
   "cell_type": "code",
   "execution_count": null,
   "id": "ea5b04bc",
   "metadata": {
    "scrolled": true
   },
   "outputs": [],
   "source": [
    "print(goal)"
   ]
  },
  {
   "cell_type": "code",
   "execution_count": null,
   "id": "82c58d0c",
   "metadata": {},
   "outputs": [],
   "source": [
    "shaftgrinder_client.send_goal(goal)"
   ]
  },
  {
   "cell_type": "code",
   "execution_count": null,
   "id": "07bbb07a",
   "metadata": {},
   "outputs": [],
   "source": [
    "shaftgrinder_client.wait_for_result()\n",
    "shaftgrinder_client.get_result()"
   ]
  },
  {
   "cell_type": "code",
   "execution_count": null,
   "id": "770675a0",
   "metadata": {},
   "outputs": [],
   "source": [
    "shaftgrinder_client.cancel_goal()"
   ]
  },
  {
   "cell_type": "code",
   "execution_count": null,
   "id": "f124e4e7",
   "metadata": {},
   "outputs": [],
   "source": [
    "cobot.tool_controller.run_shaftgrinder(0.1, \"slow\")"
   ]
  },
  {
   "cell_type": "code",
   "execution_count": null,
   "id": "2fb9753d",
   "metadata": {},
   "outputs": [],
   "source": [
    "print(cobot)"
   ]
  },
  {
   "cell_type": "code",
   "execution_count": null,
   "id": "b0bd919a",
   "metadata": {},
   "outputs": [],
   "source": [
    "cobot.hz = 20"
   ]
  },
  {
   "cell_type": "markdown",
   "id": "3323b709",
   "metadata": {},
   "source": [
    "## Manual cutting to test"
   ]
  },
  {
   "cell_type": "code",
   "execution_count": null,
   "id": "0f49a553",
   "metadata": {},
   "outputs": [],
   "source": [
    "cobot.tool"
   ]
  },
  {
   "cell_type": "code",
   "execution_count": null,
   "id": "ef6dc625",
   "metadata": {},
   "outputs": [],
   "source": [
    "cobot.T_B_E_robot@cobot.T_E_C_robot, cobot.T_B_C_robot"
   ]
  },
  {
   "cell_type": "code",
   "execution_count": null,
   "id": "e06da47b",
   "metadata": {},
   "outputs": [],
   "source": [
    "cobot.T_B_C_robot.t-cobot.T_B_E_robot.t"
   ]
  },
  {
   "cell_type": "code",
   "execution_count": null,
   "id": "377081e1",
   "metadata": {},
   "outputs": [],
   "source": [
    "cobot.T_E_C_robot.t"
   ]
  },
  {
   "cell_type": "code",
   "execution_count": null,
   "id": "71327a08",
   "metadata": {},
   "outputs": [],
   "source": [
    "R_des = np.array([[0.9552, 0.02496, 0.2948],[-0.2956, 0.04037, 0.9545],[0.01192, -0.9989, 0.04594]])\n",
    "\n",
    "Shaftgrinder_tf_1 = np.array([[0.9552, 0.02496, 0.2948, 0],\n",
    "                              [-0.2956, 0.04037, 0.9545, 0],\n",
    "                              [0.01192, -0.9989, 0.04594, 0],\n",
    "                              [0, 0, 0, 1]])\n",
    "\n",
    "CuttingPoseA = Shaftgrinder_tf_1\n",
    "tip_falsch = Shaftgrinder_tf_1@cobot.T_E_C_robot\n",
    "noetige_aenderung = hrr_cm.vec32np(goal.start_location.vector) - tip_falsch.t\n",
    "[CuttingPoseA.t[0], CuttingPoseA.t[1], CuttingPoseA.t[2]] = CuttingPoseA.t + noetige_aenderung\n",
    "\n",
    "\n",
    "CuttingPoseA = sm.SE3(hrr_cm.vec32np(goal.start_location.vector) + cobot.T_B_E_robot.t-cobot.T_B_C_robot.t)\n",
    "CuttingPoseA.A[0:3, 0:3] = R_des\n",
    "\n",
    "PrePoseA = sm.SE3([0, 0, 0.05]) @ CuttingPoseA\n",
    "            \n",
    "CuttingPoseB = sm.SE3(hrr_cm.vec32np(goal.end_location.vector) + cobot.T_B_E_robot.t-cobot.T_B_C_robot.t)\n",
    "CuttingPoseB.A[0:3, 0:3] = R_des\n",
    "\n",
    "PrePoseB = sm.SE3([0, 0, 0.05]) @ CuttingPoseB"
   ]
  },
  {
   "cell_type": "code",
   "execution_count": null,
   "id": "49fb284b",
   "metadata": {},
   "outputs": [],
   "source": [
    "            CuttingPoseA = sm.SE3()\n",
    "            CuttingPoseA.A[:4, :4] = Shaftgrinder_tf_1.A.copy()\n",
    "            tooltip_offset_A = hrr_cm.vec32np(start_location.vector) - self.cobot.T_B_C_robot.t\n",
    "            [CuttingPoseA.t[0], CuttingPoseA.t[1], CuttingPoseA.t[2]] = CuttingPoseA.t + tooltip_offset_A"
   ]
  },
  {
   "cell_type": "markdown",
   "id": "5e4f8f51",
   "metadata": {},
   "source": [
    "## Usage examples\n",
    "\n",
    "### calibration service\n",
    "\n",
    "We start with the calibration action-server and send a calibration message as shown below.\n",
    "\n",
    "**NOTE: ``calibration_file`` and ``data_file`` are optional, but if they are kept empty, you cannot plot the final results later**\n",
    "\n"
   ]
  },
  {
   "cell_type": "code",
   "execution_count": null,
   "id": "45d8b7c5",
   "metadata": {},
   "outputs": [],
   "source": [
    "cobot.change_tool(\"screwdriver\")"
   ]
  },
  {
   "cell_type": "code",
   "execution_count": null,
   "id": "57103c05",
   "metadata": {},
   "outputs": [],
   "source": [
    "cobot.change_tool(\"wsg_50_dsa\")"
   ]
  },
  {
   "cell_type": "code",
   "execution_count": null,
   "id": "016c9fe1",
   "metadata": {},
   "outputs": [],
   "source": [
    "cobot.tool, cobot.T_B_E_robot.t - cobot.T_B_C_robot.t"
   ]
  },
  {
   "cell_type": "code",
   "execution_count": null,
   "id": "915cd33e",
   "metadata": {},
   "outputs": [],
   "source": [
    "calibrate_client = get_client(calibration_action_srv_name, CalibrateCobotAction)"
   ]
  },
  {
   "cell_type": "code",
   "execution_count": null,
   "id": "6fd6c5b7",
   "metadata": {},
   "outputs": [],
   "source": [
    "goal = CalibrateCobotGoal()\n",
    "data_path = pathlib.Path.home() / \"Documents\" / \"skill_recordings\"\n",
    "data_path.mkdir(parents=True, exist_ok=True)\n",
    "tool_name = hrr_common.ros_utils.get_param(f'{cobot_ns}tool_name')\n",
    "if tool_name == '':\n",
    "    tool_name = 'nothing'\n",
    "goal.calibration_file = str(data_path / f\"{tool_name}.pkl\")\n",
    "goal.data_file = str(data_path / f\"{tool_name}_calibration.npy\")\n",
    "goal.recalibrate = True\n",
    "goal.scale_q4 = 0.5\n",
    "goal.scale_q5 = 0.2\n",
    "goal.scale_q6 = 0.5\n",
    "goal"
   ]
  },
  {
   "cell_type": "markdown",
   "id": "8f385a27",
   "metadata": {},
   "source": [
    "**WARNING: in case the tool-name above differs from the actual mounted one, please run the CORRECT line below**\n",
    "\n",
    "```bash\n",
    "rosparam set /hrr_cobot/tool_name \"nothing\"\n",
    "rosparam set /hrr_cobot/tool_name \"wsg_50_dsa\"\n",
    "rosparam set /hrr_cobot/tool_name \"screwdriver\"\n",
    "rosparam set /hrr_cobot/tool_name \"shaftgrinder\"\n",
    "rosparam set /hrr_cobot/tool_name \"vacuum\"\n",
    "```"
   ]
  },
  {
   "cell_type": "code",
   "execution_count": null,
   "id": "580f5451",
   "metadata": {},
   "outputs": [],
   "source": [
    "calibrate_client.send_goal(goal)"
   ]
  },
  {
   "cell_type": "code",
   "execution_count": null,
   "id": "d53a07bb",
   "metadata": {},
   "outputs": [],
   "source": [
    "cancel(calibrate_client)"
   ]
  },
  {
   "cell_type": "code",
   "execution_count": null,
   "id": "4d70a8eb",
   "metadata": {},
   "outputs": [],
   "source": [
    "print(cobot)"
   ]
  },
  {
   "cell_type": "code",
   "execution_count": null,
   "id": "a7c4f52e",
   "metadata": {},
   "outputs": [],
   "source": [
    "cobot.move_to_joint_pose(cobot.q_calib)"
   ]
  },
  {
   "cell_type": "code",
   "execution_count": null,
   "id": "f7fe8e8d",
   "metadata": {},
   "outputs": [],
   "source": [
    "cobot.move_to_joint_pose(np.r_[cobot.q[0],  0.    , -1.5708,  0.    ,  1.5708,  0.  ])"
   ]
  },
  {
   "cell_type": "markdown",
   "id": "4a42b803",
   "metadata": {},
   "source": [
    "#### inspect results\n",
    "\n",
    "The results below are exemplarily shown by either calling the *result*-feedback or using the dedicated plotting function from an external terminal\n",
    "\n",
    "**NOTE: plotting via shell-escape usually does not work**\n",
    "\n",
    "The plotting should return a result similar to the one below:\n",
    "\n",
    "![calibration example](./media/calibration_example.png)"
   ]
  },
  {
   "cell_type": "code",
   "execution_count": null,
   "id": "00b95cd0",
   "metadata": {},
   "outputs": [],
   "source": [
    "# get client result / feedback\n",
    "get_result(calibrate_client)"
   ]
  },
  {
   "cell_type": "code",
   "execution_count": null,
   "id": "39670dc1",
   "metadata": {
    "scrolled": true
   },
   "outputs": [],
   "source": [
    "# plot results -> copy line to terminal\n",
    "print(f\"please run the following line in a separate terminal:\\nrosrun hrr_cobot_robot plot_ft_calibration -p {goal.calibration_file} {goal.data_file}\")"
   ]
  },
  {
   "cell_type": "code",
   "execution_count": null,
   "id": "1cd8e13a",
   "metadata": {},
   "outputs": [],
   "source": [
    "#cobot.FT._calib_data.B_grav_vec #ziehe diese Werte ab (base frame)\n",
    "cobot.FT._calib_data.bias #ziehe diese Werte ab (ft frame)"
   ]
  },
  {
   "cell_type": "code",
   "execution_count": null,
   "id": "a4fbdb56",
   "metadata": {},
   "outputs": [],
   "source": [
    "f\"rosrun hrr_cobot_robot plot_ft_calibration -p {goal.calibration_file} {goal.data_file}\""
   ]
  },
  {
   "cell_type": "code",
   "execution_count": null,
   "id": "4f95da84",
   "metadata": {},
   "outputs": [],
   "source": [
    "cobot.update()"
   ]
  },
  {
   "cell_type": "code",
   "execution_count": null,
   "id": "5c394efa",
   "metadata": {},
   "outputs": [],
   "source": [
    "cobot.B_F_msr"
   ]
  },
  {
   "cell_type": "code",
   "execution_count": null,
   "id": "24fc9662",
   "metadata": {},
   "outputs": [],
   "source": [
    "cobot.FT_F"
   ]
  },
  {
   "cell_type": "code",
   "execution_count": null,
   "id": "3d373669",
   "metadata": {},
   "outputs": [],
   "source": [
    "cobot.stochastic_move_to_pose(cobot.FK(cobot.q_calib))"
   ]
  },
  {
   "cell_type": "code",
   "execution_count": null,
   "id": "d641e36f",
   "metadata": {},
   "outputs": [],
   "source": [
    "cobot.FT._calib_data.B_grav_vec"
   ]
  },
  {
   "cell_type": "code",
   "execution_count": null,
   "id": "085809f3",
   "metadata": {},
   "outputs": [],
   "source": [
    "cobot.FT._calib_data.bias"
   ]
  },
  {
   "cell_type": "code",
   "execution_count": null,
   "id": "4b385b2e",
   "metadata": {},
   "outputs": [],
   "source": [
    "print(cobot)"
   ]
  },
  {
   "cell_type": "code",
   "execution_count": null,
   "id": "bb514db6",
   "metadata": {},
   "outputs": [],
   "source": [
    "cobot.stop()"
   ]
  },
  {
   "cell_type": "markdown",
   "id": "afa05343",
   "metadata": {},
   "source": [
    "## Unscrewing \n",
    "\n",
    "For the unscrewing skill, there are additional inspections available:\n",
    "\n",
    "- within pycharm you may run ``hrr_cobot_robot->scripts->devel->unscrew_devel`` in debug mode.\n",
    "- from a notebook you may run ``notebooks->Unscrewing_tester``\n",
    "\n",
    "Below, a short outline on how to use the skill-server is presented"
   ]
  },
  {
   "cell_type": "code",
   "execution_count": null,
   "id": "52e05a30",
   "metadata": {},
   "outputs": [],
   "source": [
    "cobot.change_tool(\"screwdriver\")"
   ]
  },
  {
   "cell_type": "code",
   "execution_count": null,
   "id": "1d0de24f",
   "metadata": {},
   "outputs": [],
   "source": [
    "cobot.T_B_E_robot.A"
   ]
  },
  {
   "cell_type": "code",
   "execution_count": null,
   "id": "a02296e3",
   "metadata": {},
   "outputs": [],
   "source": [
    "cobot.T_B_C_robot.t"
   ]
  },
  {
   "cell_type": "code",
   "execution_count": null,
   "id": "8318adf3",
   "metadata": {},
   "outputs": [],
   "source": [
    "unscrewing_client = get_client(unscrew_action_srv_name, UnscrewAction)"
   ]
  },
  {
   "cell_type": "code",
   "execution_count": null,
   "id": "13d9b715",
   "metadata": {},
   "outputs": [],
   "source": [
    "B_normal = sm.base.rotx(-5, \"deg\") @ sm.base.unitvec(np.r_[0., 0.0, 1.0])\n",
    "B_screw_guess = np.r_[0.5789+0.013, 0.24-0.008, 0.30]#cobot.T_B_C_robot.t #np.r_[0.5, 0.25765, 0.26] #H #"
   ]
  },
  {
   "cell_type": "code",
   "execution_count": null,
   "id": "7b9c7497",
   "metadata": {
    "scrolled": true
   },
   "outputs": [],
   "source": [
    "sc_goal = UnscrewGoal()\n",
    "sc_goal.screw_location.header.frame_id = \"hrr_cobot.base_link\"\n",
    "sc_goal.surface_normal.header.frame_id = \"hrr_cobot.base_link\"\n",
    "sc_goal.surface_normal.vector = hrr_common.ros_utils.np2vec3(B_normal)\n",
    "sc_goal.screw_location.point = hrr_common.ros_utils.np2vec3(B_screw_guess)\n",
    "sc_goal.contact_force = 5\n",
    "sc_goal.insertion_force = 10\n",
    "sc_goal.timeout = 1200.0\n",
    "# sc_goal"
   ]
  },
  {
   "cell_type": "code",
   "execution_count": null,
   "id": "c3112f62",
   "metadata": {},
   "outputs": [],
   "source": [
    "unscrewing_client.send_goal(sc_goal)"
   ]
  },
  {
   "cell_type": "code",
   "execution_count": null,
   "id": "ad568fda",
   "metadata": {},
   "outputs": [],
   "source": [
    "cobot.update()"
   ]
  },
  {
   "cell_type": "code",
   "execution_count": null,
   "id": "07d0ecf4",
   "metadata": {},
   "outputs": [],
   "source": [
    "cobot.change_tool(\"nothing\")"
   ]
  },
  {
   "cell_type": "code",
   "execution_count": null,
   "id": "db1878cc",
   "metadata": {},
   "outputs": [],
   "source": [
    "cobot.change_tool(\"screwdriver\")"
   ]
  },
  {
   "cell_type": "code",
   "execution_count": null,
   "id": "1f782931",
   "metadata": {},
   "outputs": [],
   "source": [
    "cobot.stop()\n",
    "cobot.reset()"
   ]
  },
  {
   "cell_type": "code",
   "execution_count": null,
   "id": "dd6f5a59",
   "metadata": {},
   "outputs": [],
   "source": [
    "print(cobot)"
   ]
  },
  {
   "cell_type": "code",
   "execution_count": null,
   "id": "716e08cd",
   "metadata": {},
   "outputs": [],
   "source": [
    "cobot.B_F_msr, np.linalg.norm(cobot.B_F_msr)"
   ]
  },
  {
   "cell_type": "code",
   "execution_count": null,
   "id": "f2cfc688",
   "metadata": {},
   "outputs": [],
   "source": [
    "forces = (sm.SE3(cobot.B_F_msr[0:3]) @ cobot.T_B_C).t\n",
    "forces"
   ]
  },
  {
   "cell_type": "code",
   "execution_count": null,
   "id": "180fffa0",
   "metadata": {},
   "outputs": [],
   "source": [
    "torques = (sm.SE3(cobot.B_F_msr[3:]) @ cobot.T_B_C).t\n",
    "torques"
   ]
  },
  {
   "cell_type": "markdown",
   "id": "91e7c33b",
   "metadata": {},
   "source": [
    "### inspect results"
   ]
  },
  {
   "cell_type": "code",
   "execution_count": null,
   "id": "066fe83e",
   "metadata": {},
   "outputs": [],
   "source": [
    "unscrewing_client.get_result()"
   ]
  },
  {
   "cell_type": "code",
   "execution_count": null,
   "id": "5a243b8d",
   "metadata": {},
   "outputs": [],
   "source": [
    "cancel(unscrewing_client)"
   ]
  },
  {
   "cell_type": "markdown",
   "id": "9f95ecdd",
   "metadata": {},
   "source": [
    "## Vacuum Grasping"
   ]
  },
  {
   "cell_type": "code",
   "execution_count": null,
   "id": "45b5e46c",
   "metadata": {},
   "outputs": [],
   "source": [
    "vacuum_client = get_client(vacuum_pick_place_action_srv_name, VacuumGraspingAction)"
   ]
  },
  {
   "cell_type": "code",
   "execution_count": null,
   "id": "38d595a4",
   "metadata": {},
   "outputs": [],
   "source": [
    "obj_pos_guess = np.r_[0.4919, 0.1028, 0.3] #[0.66, 0.17, 0.07] is actual vision data for elamp cover\n",
    "obj_orient_guess = np.quaternion(0,-0.6495, 0.029, 0.7597) #actual vision data (dont care for now)\n",
    "\n",
    "release_pos = np.r_[0.5, 0.1, 0.35] # will drop the object here, careful!\n",
    "release_orientation = np.quaternion(0,-0.715468876127, 0.0542776712358, 0.696533001155) #dont care for now"
   ]
  },
  {
   "cell_type": "code",
   "execution_count": null,
   "id": "3d54aa09",
   "metadata": {},
   "outputs": [],
   "source": [
    "vac_goal = VacuumGraspingGoal()\n",
    "vac_goal.object_center.header.frame_id = \"hrr_cobot.base_link\"\n",
    "vac_goal.object_center.pose.position = hrr_common.ros_utils.np2vec3(obj_pos_guess)\n",
    "vac_goal.object_center.pose.orientation = hrr_common.ros_utils.np2quat(obj_orient_guess)\n",
    "\n",
    "vac_goal.release_pose.header.frame_id = \"hrr_cobot.base_link\"\n",
    "vac_goal.release_pose.pose.position = hrr_common.ros_utils.np2vec3(release_pos)\n",
    "vac_goal.release_pose.pose.orientation = hrr_common.ros_utils.np2quat(release_orientation)\n",
    "\n",
    "# vac_goal.timeout = 120.0\n",
    "# vac_goal"
   ]
  },
  {
   "cell_type": "code",
   "execution_count": null,
   "id": "714fd64b",
   "metadata": {},
   "outputs": [],
   "source": [
    "vacuum_client.send_goal(vac_goal)"
   ]
  },
  {
   "cell_type": "code",
   "execution_count": null,
   "id": "f82411d3",
   "metadata": {},
   "outputs": [],
   "source": [
    "hrr_common.ros_utils.np2vec3(obj_pos_guess)cancel(vacuum_client)"
   ]
  },
  {
   "cell_type": "code",
   "execution_count": null,
   "id": "a9cd98e8",
   "metadata": {},
   "outputs": [],
   "source": [
    "vacuum_client.get_result()"
   ]
  },
  {
   "cell_type": "code",
   "execution_count": null,
   "id": "b0daab26",
   "metadata": {},
   "outputs": [],
   "source": [
    "cancel(vacuum_client)"
   ]
  },
  {
   "cell_type": "code",
   "execution_count": null,
   "id": "637a2389",
   "metadata": {},
   "outputs": [],
   "source": [
    "vacuum_client.cancel_all_goals()"
   ]
  },
  {
   "cell_type": "markdown",
   "id": "7e20d41f",
   "metadata": {},
   "source": [
    "## Pneumatic Finger"
   ]
  },
  {
   "cell_type": "code",
   "execution_count": null,
   "id": "a6ad1adc",
   "metadata": {},
   "outputs": [],
   "source": [
    "pgrip_client = get_client(finger_grasping_action_srv_name, FingerGraspAction)"
   ]
  },
  {
   "cell_type": "code",
   "execution_count": null,
   "id": "bbe32230",
   "metadata": {},
   "outputs": [],
   "source": [
    "obj_pos_guess = np.r_[0.5, -0.1, 0.33] #[0.712, 0.263, 0.0196] is actual vision data for battery\n",
    "obj_orient_guess = np.quaternion(0.0,-0.4376,0.01394,0.8990) #actual vision data for battery\n",
    "release_pos = np.r_[0.5, 0.1, 0.35] #choose so it makes sense\n",
    "release_orientation = np.quaternion(0.0,-0.657320580033,-0.0241373269709,0.753224431702) #same orientaiton for ease"
   ]
  },
  {
   "cell_type": "code",
   "execution_count": null,
   "id": "13815862",
   "metadata": {},
   "outputs": [],
   "source": [
    "pgrip_goal = FingerGraspGoal()\n",
    "pgrip_goal.object_center.header.frame_id = \"hrr_cobot.base_link\"\n",
    "pgrip_goal.object_center.pose.position = hrr_common.ros_utils.np2vec3(obj_pos_guess)\n",
    "pgrip_goal.object_center.pose.orientation = hrr_common.ros_utils.np2quat(obj_orient_guess)\n",
    "\n",
    "pgrip_goal.release_pose.header.frame_id = \"hrr_cobot.base_link\"\n",
    "pgrip_goal.release_pose.pose.position = hrr_common.ros_utils.np2vec3(release_pos)\n",
    "pgrip_goal.release_pose.pose.orientation = hrr_common.ros_utils.np2quat(release_orientation)\n",
    "\n",
    "pgrip_goal.timeout = 10000.0\n",
    "#pgrip_goal.gripper_open_width = 0.084\n",
    "#pgrip_goal.gripper_close_width = 0\n",
    "print(pgrip_goal)"
   ]
  },
  {
   "cell_type": "code",
   "execution_count": null,
   "id": "ed723e4f",
   "metadata": {},
   "outputs": [],
   "source": [
    "pgrip_client.send_goal(pgrip_goal)"
   ]
  },
  {
   "cell_type": "code",
   "execution_count": null,
   "id": "6a3e288b",
   "metadata": {},
   "outputs": [],
   "source": [
    "pgrip_client.get_result()"
   ]
  },
  {
   "cell_type": "code",
   "execution_count": null,
   "id": "5ae5008a",
   "metadata": {},
   "outputs": [],
   "source": [
    "cancel(pgrip_client)"
   ]
  },
  {
   "cell_type": "markdown",
   "id": "dd95420d",
   "metadata": {},
   "source": [
    "## Tool Change routine\n",
    "\n",
    "You may check the tool-change via\n",
    "\n",
    "- rviz and checking the robot tool-chain to be correct\n",
    "- varifying the ROS-parameter `/hrr_cobot/tool_name`"
   ]
  },
  {
   "cell_type": "code",
   "execution_count": null,
   "id": "bfd0154c",
   "metadata": {},
   "outputs": [],
   "source": [
    "!rosparam get /hrr_cobot/tool_name"
   ]
  },
  {
   "cell_type": "code",
   "execution_count": null,
   "id": "b1b03c43",
   "metadata": {},
   "outputs": [],
   "source": [
    "tool_change_client = get_client(change_tool_action_srv_name, ChangeToolAction)"
   ]
  },
  {
   "cell_type": "code",
   "execution_count": null,
   "id": "402ff119",
   "metadata": {},
   "outputs": [],
   "source": [
    "import hrr_cobot_robot as hrr_rob\n",
    "cobot = hrr_rob.HrrCobotControl.from_ros(\"/hrr_cobot\")\n",
    "cobot.change_tool(\"nothing\")"
   ]
  },
  {
   "cell_type": "code",
   "execution_count": null,
   "id": "073aa213",
   "metadata": {},
   "outputs": [],
   "source": [
    "cobot.T_B_E_robot, cobot.q"
   ]
  },
  {
   "cell_type": "code",
   "execution_count": null,
   "id": "f3da00c6",
   "metadata": {},
   "outputs": [],
   "source": [
    "cobot.tool"
   ]
  },
  {
   "cell_type": "code",
   "execution_count": null,
   "id": "2bc73d83",
   "metadata": {},
   "outputs": [],
   "source": [
    "cobot.T_B_C_robot"
   ]
  },
  {
   "cell_type": "code",
   "execution_count": null,
   "id": "e18f31aa",
   "metadata": {},
   "outputs": [],
   "source": [
    "cobot.change_tool(\"wsg_50_dsa\")"
   ]
  },
  {
   "cell_type": "code",
   "execution_count": null,
   "id": "bb862421",
   "metadata": {},
   "outputs": [],
   "source": [
    "cobot.close_tool_changer()"
   ]
  },
  {
   "cell_type": "code",
   "execution_count": null,
   "id": "872fb868",
   "metadata": {},
   "outputs": [],
   "source": [
    "und gen"
   ]
  },
  {
   "cell_type": "code",
   "execution_count": null,
   "id": "ad9cd805",
   "metadata": {},
   "outputs": [],
   "source": [
    "cobot.stop()"
   ]
  },
  {
   "cell_type": "code",
   "execution_count": null,
   "id": "beec53e4",
   "metadata": {},
   "outputs": [],
   "source": [
    "print(cobot)"
   ]
  },
  {
   "cell_type": "code",
   "execution_count": null,
   "id": "9e1ef00f",
   "metadata": {},
   "outputs": [],
   "source": [
    "tc_goal = ChangeToolGoal()\n",
    "# set as needed\n",
    "tc_goal.new_tool.type = tc_goal.new_tool.NONE\n",
    "tc_goal.new_tool.type = tc_goal.new_tool.WSG_50\n",
    "tc_goal.new_tool.type = tc_goal.new_tool.WSG_50_DSA\n",
    "tc_goal.new_tool.type = tc_goal.new_tool.SHAFT_GRINDER\n",
    "#tc_goal.new_tool.type = tc_goal.new_tool.SCREW_DRIVER\n",
    "#tc_goal.new_tool.type = tc_goal.new_tool.VACUUM_GRIPPER"
   ]
  },
  {
   "cell_type": "code",
   "execution_count": null,
   "id": "1c7ca3e6",
   "metadata": {},
   "outputs": [],
   "source": [
    "tool_change_client.send_goal(tc_goal)"
   ]
  },
  {
   "cell_type": "code",
   "execution_count": null,
   "id": "3bce428d",
   "metadata": {},
   "outputs": [],
   "source": [
    "np.save(\"testgoal\",tc_goal)"
   ]
  },
  {
   "cell_type": "code",
   "execution_count": null,
   "id": "dce16756",
   "metadata": {},
   "outputs": [],
   "source": [
    "a = np.load(\"testgoal.npy\",allow_pickle=True)"
   ]
  },
  {
   "cell_type": "code",
   "execution_count": null,
   "id": "a73d7860",
   "metadata": {},
   "outputs": [],
   "source": [
    "a"
   ]
  },
  {
   "cell_type": "code",
   "execution_count": null,
   "id": "c238ba03",
   "metadata": {},
   "outputs": [],
   "source": [
    "import yaml\n",
    "from yaml.loader import SafeLoader"
   ]
  },
  {
   "cell_type": "code",
   "execution_count": null,
   "id": "85a4628e",
   "metadata": {},
   "outputs": [],
   "source": [
    "cutting = yaml.load(\"cutting\", Loader=SafeLoader)"
   ]
  },
  {
   "cell_type": "code",
   "execution_count": null,
   "id": "0341f4c5",
   "metadata": {},
   "outputs": [],
   "source": [
    "with open('cutting.yaml', 'r') as f:\n",
    "    data = list(yaml.load_all(f, Loader=SafeLoader))\n",
    "    print(data)"
   ]
  },
  {
   "cell_type": "code",
   "execution_count": null,
   "id": "c12fec56",
   "metadata": {},
   "outputs": [],
   "source": [
    "stream = file('cutting.yaml', 'r')    # 'document.yaml' contains a single YAML document.\n",
    "yaml.load(stream)"
   ]
  },
  {
   "cell_type": "code",
   "execution_count": null,
   "id": "3a5db24d",
   "metadata": {},
   "outputs": [],
   "source": [
    "print(cutting)"
   ]
  },
  {
   "cell_type": "code",
   "execution_count": null,
   "id": "84917eb3",
   "metadata": {},
   "outputs": [],
   "source": [
    "\n",
    "cobot.FK(cobot.q_calib)"
   ]
  },
  {
   "cell_type": "code",
   "execution_count": null,
   "id": "798ee22f",
   "metadata": {},
   "outputs": [],
   "source": [
    "cobot.change_tool(\"wsg_50_dsa\")"
   ]
  },
  {
   "cell_type": "code",
   "execution_count": null,
   "id": "7938daa3",
   "metadata": {},
   "outputs": [],
   "source": [
    "cancel(tool_change_client)"
   ]
  },
  {
   "cell_type": "code",
   "execution_count": null,
   "id": "1bc2f437",
   "metadata": {},
   "outputs": [],
   "source": [
    "cobot.T_B_E_robot"
   ]
  },
  {
   "cell_type": "code",
   "execution_count": null,
   "id": "6c0b4b6f",
   "metadata": {},
   "outputs": [],
   "source": [
    "cobot.T_B_E_robot"
   ]
  },
  {
   "cell_type": "code",
   "execution_count": null,
   "id": "67e2c33b",
   "metadata": {},
   "outputs": [],
   "source": [
    "cobot.q"
   ]
  },
  {
   "cell_type": "code",
   "execution_count": null,
   "id": "28a450e4",
   "metadata": {},
   "outputs": [],
   "source": [
    "cobot.stop()"
   ]
  },
  {
   "cell_type": "markdown",
   "id": "c305728c",
   "metadata": {
    "pycharm": {
     "name": "#%% md\n"
    }
   },
   "source": [
    "## Adaptive Grasping\n",
    "\n",
    "This skill may be the most sensitive as the gripper driver is not really stable against using the tool-changer usage.\n",
    "\n",
    "In (programming) theory, the gripper-driver is started via\n",
    "\n",
    "```bash\n",
    "roslaunch hrr_cobot_robot hrr_wsg_50.launch\n",
    "```\n",
    "\n",
    "via the WSG-watchdog, i.e. every time the tool is set to\n",
    "\n",
    "```bash\n",
    "rosparam set /hrr_cobot/tool_name \"wsg_50_dsa\"\n",
    "```\n",
    "\n",
    "and the gripper-IP can be pinged, but reality is different, so the rqt-graph below shows the skill-server with all nodes for the sensitive grasping\n",
    "\n",
    "![rqt-graph](./media/hrr_wsg_setup_rqt.png)\n",
    "\n",
    "**NOTE: The velocity based variant requires ```do-mpc```, so you need to run\n",
    "```pip install do-mpc``` to replicate the setup below**\n",
    "\n",
    "### Robot setup without skill-server\n",
    "\n",
    "![rqt-graph](./media/rqt_without_skill_server.png)"
   ]
  },
  {
   "cell_type": "code",
   "execution_count": null,
   "id": "68863b3e",
   "metadata": {},
   "outputs": [],
   "source": [
    "cobot.change_tool(\"nothing\")"
   ]
  },
  {
   "cell_type": "code",
   "execution_count": null,
   "id": "1bcb4ec4",
   "metadata": {},
   "outputs": [],
   "source": [
    "cobot.change_tool(\"wsg_50_dsa\")"
   ]
  },
  {
   "cell_type": "code",
   "execution_count": null,
   "id": "cecbd45c",
   "metadata": {
    "pycharm": {
     "name": "#%%\n"
    }
   },
   "outputs": [],
   "source": [
    "grasping_client = get_client(sensitive_grasping_action_srv_name, AdaptiveGraspingAction)"
   ]
  },
  {
   "cell_type": "code",
   "execution_count": null,
   "id": "7d3aca88",
   "metadata": {},
   "outputs": [],
   "source": [
    "print(cobot)"
   ]
  },
  {
   "cell_type": "code",
   "execution_count": null,
   "id": "fc72ebb6",
   "metadata": {
    "pycharm": {
     "name": "#%%\n"
    }
   },
   "outputs": [],
   "source": [
    "grasp_goal = AdaptiveGraspingGoal()\n",
    "T_B_C_test = sm.SE3(0.55, 0, 0.1)\n",
    "grasp_goal.object_center.pose.position = hrr_common.np2vec3(T_B_C_test.t)\n",
    "grasp_goal.object_center.pose.orientation = hrr_common.np2quat(hrr_common.rotmat2quat(T_B_C_test.R))\n",
    "grasp_goal.contact_force = 5.0\n",
    "grasp_goal.timeout = 2000.0\n",
    "grasp_goal.dispose_off_location_pose.position = hrr_common.np2vec3(np.r_[0.45,-0.1,0.1])\n",
    "grasp_goal"
   ]
  },
  {
   "cell_type": "code",
   "execution_count": null,
   "id": "2e91e06b",
   "metadata": {},
   "outputs": [],
   "source": [
    "cobot.T_E_C_robot @ cobot.T_B_C_robot"
   ]
  },
  {
   "cell_type": "code",
   "execution_count": null,
   "id": "71d835d2",
   "metadata": {},
   "outputs": [],
   "source": []
  },
  {
   "cell_type": "code",
   "execution_count": null,
   "id": "6e5f4988",
   "metadata": {
    "pycharm": {
     "name": "#%%\n"
    }
   },
   "outputs": [],
   "source": [
    "grasping_client.send_goal(grasp_goal)"
   ]
  },
  {
   "cell_type": "code",
   "execution_count": null,
   "id": "53a95208",
   "metadata": {},
   "outputs": [],
   "source": [
    "grasping_client.get_result()"
   ]
  },
  {
   "cell_type": "code",
   "execution_count": null,
   "id": "582b15c5",
   "metadata": {},
   "outputs": [],
   "source": [
    "cancel(grasping_client)"
   ]
  },
  {
   "cell_type": "code",
   "execution_count": null,
   "id": "7e110625",
   "metadata": {},
   "outputs": [],
   "source": [
    "np.linalg.norm(inverseboi[0]),np.linalg.norm(inverseboi[1]), np.linalg.norm(inverseboi[2]), np.linalg.norm(inverseboi[3])"
   ]
  },
  {
   "cell_type": "code",
   "execution_count": null,
   "id": "2fbdd812",
   "metadata": {},
   "outputs": [],
   "source": [
    "def find_best_IK(IKs):\n",
    "\n",
    "    norm = []\n",
    "    for i in range(len(IKs)):\n",
    "        norm.append(np.linalg.norm(IKs[i]))\n",
    "\n",
    "    bestIK = IKs[np.argmin(norm)]\n",
    "    return bestIK\n"
   ]
  },
  {
   "cell_type": "code",
   "execution_count": null,
   "id": "865b6f5e",
   "metadata": {},
   "outputs": [],
   "source": [
    "np.rad2deg(np.r_[ 2.112,  0,    -1.571,  0.,     1.071,  0.   ])"
   ]
  },
  {
   "cell_type": "code",
   "execution_count": null,
   "id": "99ba2777",
   "metadata": {},
   "outputs": [],
   "source": [
    "q = find_best_IK(goal)\n",
    "q"
   ]
  },
  {
   "cell_type": "code",
   "execution_count": null,
   "id": "f99d85f4",
   "metadata": {},
   "outputs": [],
   "source": [
    "cobot.T_B_C_robot"
   ]
  },
  {
   "cell_type": "code",
   "execution_count": null,
   "id": "f9e062b5",
   "metadata": {},
   "outputs": [],
   "source": [
    "cobot.stop()"
   ]
  },
  {
   "cell_type": "code",
   "execution_count": null,
   "id": "2d209651",
   "metadata": {},
   "outputs": [],
   "source": [
    "print(cobot)"
   ]
  },
  {
   "cell_type": "code",
   "execution_count": null,
   "id": "336025ae",
   "metadata": {},
   "outputs": [],
   "source": [
    "cobot.move_to_joint_pose(xgoal, stochastic=True)"
   ]
  },
  {
   "cell_type": "code",
   "execution_count": null,
   "id": "33d2a537",
   "metadata": {},
   "outputs": [],
   "source": [
    "cobot.stop()"
   ]
  },
  {
   "cell_type": "code",
   "execution_count": null,
   "id": "4cc062f1",
   "metadata": {},
   "outputs": [],
   "source": [
    "cobot.q"
   ]
  },
  {
   "cell_type": "code",
   "execution_count": null,
   "id": "bc88e060",
   "metadata": {},
   "outputs": [],
   "source": [
    "import hrr_cobot_robot as hrr_rob\n",
    "cobot = hrr_rob.HrrCobotControl.from_ros(\"/hrr_cobot\")\n"
   ]
  },
  {
   "cell_type": "code",
   "execution_count": null,
   "id": "cceb4059",
   "metadata": {},
   "outputs": [],
   "source": [
    "cobot.change_tool(\"screwdriver\")"
   ]
  },
  {
   "cell_type": "code",
   "execution_count": null,
   "id": "544b0189",
   "metadata": {},
   "outputs": [],
   "source": [
    "cobot.change_tool(\"nothing\")"
   ]
  },
  {
   "cell_type": "code",
   "execution_count": null,
   "id": "afdb5015",
   "metadata": {},
   "outputs": [],
   "source": [
    "cobot.change_tool(\"wsg_50\")"
   ]
  }
 ],
 "metadata": {
  "kernelspec": {
   "display_name": "Python 3 (ipykernel)",
   "language": "python",
   "name": "python3"
  },
  "language_info": {
   "codemirror_mode": {
    "name": "ipython",
    "version": 3
   },
   "file_extension": ".py",
   "mimetype": "text/x-python",
   "name": "python",
   "nbconvert_exporter": "python",
   "pygments_lexer": "ipython3",
   "version": "3.8.12"
  },
  "latex_envs": {
   "LaTeX_envs_menu_present": true,
   "autoclose": false,
   "autocomplete": true,
   "bibliofile": "biblio.bib",
   "cite_by": "apalike",
   "current_citInitial": 1,
   "eqLabelWithNumbers": true,
   "eqNumInitial": 1,
   "hotkeys": {
    "equation": "Ctrl-E",
    "itemize": "Ctrl-I"
   },
   "labels_anchors": false,
   "latex_user_defs": false,
   "report_style_numbering": false,
   "user_envs_cfg": false
  },
  "toc": {
   "base_numbering": 1,
   "nav_menu": {},
   "number_sections": true,
   "sideBar": true,
   "skip_h1_title": false,
   "title_cell": "Table of Contents",
   "title_sidebar": "Contents",
   "toc_cell": false,
   "toc_position": {},
   "toc_section_display": true,
   "toc_window_display": false
  }
 },
 "nbformat": 4,
 "nbformat_minor": 5
}
