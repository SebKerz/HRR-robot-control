{
 "cells": [
  {
   "cell_type": "markdown",
   "id": "75de29f2",
   "metadata": {},
   "source": [
    "First roslaunch without skill-server.\n",
    "\n",
    "Then run \n",
    "```bash\n",
    "rosrun hrr_cobot_robot skill_server --no-compile-nb __ns:=\"hrr_cobot\"\n",
    "```\n",
    "<!-- \n",
    "```bash\n",
    "rosnode kill /hrr_cobot/skill_server\n",
    "```\n",
    "\n",
    "For testing run\n",
    "\n",
    "```bash\n",
    "rosrun hrr_cobot_robot skill_server --no-compile-nb __ns:=\"hrr_cobot\"\n",
    "```\n",
    "\n",
    "before executing the code within this notebook. For additional help and instructions run\n",
    "\n",
    "```bash\n",
    "rosrun hrr_cobot_robot skill_server --help\n",
    "``` -->\n",
    "\n",
    "<!-- ### Debugging mode\n",
    "\n",
    "For debugging, use an IDE, e.g. [pycharm](https://www.jetbrains.com/pycharm/download/) or vscode(https://code.visualstudio.com/) with proper plugins, and run the ``skill_server`` script from ``hrr_cobot_robot->scripts->skill_server`` in debug mode, set breakpoints as needed and call the action-clients from here.\n",
    "\n",
    "You may want to add the proper namespace to emulate identical beahvior, thus adjust the settings\n",
    "\n",
    "![access-settings](./media/pycharm_skill_server_access_settings.png)\n",
    "\n",
    "and add the namespace as a Parameter\n",
    "\n",
    "![set namespace](./media/pycharm_skill_server.png) -->\n",
    "\n",
    "<!-- ## set up basics\n",
    "\n",
    "For the code below, we assume that the rqt graph shows something like this\n",
    "\n",
    "![rqt-graph](./media/skill_server_rqt_graph.png)\n",
    "\n",
    "**NOTE: this graph is missing some actions and still uses an Arduino interface, but serves as a reference** -->"
   ]
  },
  {
   "cell_type": "code",
   "execution_count": 1,
   "id": "b5ce9583",
   "metadata": {},
   "outputs": [
    {
     "name": "stderr",
     "output_type": "stream",
     "text": [
      "Warning: TF_OLD_DATA ignoring data from the past (Possible reasons are listed at http://wiki.ros.org/tf/Errors%20explained) for frame tool_controller at time 1668769180.951591 according to authority /robot_state_publisher\n",
      "         at line 278 in /tmp/binarydeb/ros-noetic-tf2-0.7.5/src/buffer_core.cpp\n"
     ]
    },
    {
     "name": "stdout",
     "output_type": "stream",
     "text": [
      "[rosout] [/TUM_notebook] Initialize MATLAB-Motion planner @ /home/hrr_cobot/_ros/hr_recycler_ws/src/planner/src\n",
      "[rosout] [/TUM_notebook] connected to Matlab\n",
      "Shutting down global node /matlab_global_node_42785 with NodeURI http://192.168.2.87:45243/\n",
      "The value of the ROS_IP environment variable, 192.168.2.87, will be used to set the advertised address for the ROS node.\n",
      "Initializing global node /matlab_global_node_99566 with NodeURI http://192.168.2.87:37929/\n",
      "[rosout] [/TUM_notebook] MATLAB-Initialization done\n"
     ]
    },
    {
     "name": "stderr",
     "output_type": "stream",
     "text": [
      "pybullet build time: May  8 2021 05:48:13\n"
     ]
    },
    {
     "name": "stdout",
     "output_type": "stream",
     "text": [
      "[rosout] some functions are not yet compiled. Expect delays upon first call\n"
     ]
    }
   ],
   "source": [
    "# math and robotics\n",
    "import pathlib\n",
    "import numpy as np\n",
    "import spatialmath as sm\n",
    "# ROS\n",
    "import actionlib\n",
    "import rospy\n",
    "import hrr_common\n",
    "from hr_recycler_msgs.msg import (\n",
    "    AdaptiveGraspingAction, AdaptiveGraspingGoal,\n",
    "    CuttingAction, CuttingGoal,\n",
    "    ChangeToolAction, ChangeToolGoal,    \n",
    "    FingerGraspAction, FingerGraspGoal,    \n",
    "    PushOpenAction, PushOpenGoal,\n",
    "    VacuumGraspingAction, VacuumGraspingGoal,\n",
    "    UnscrewAction, UnscrewGoal\n",
    ")\n",
    "from hrr_msgs.msg import CalibrateCobotAction, CalibrateCobotGoal\n",
    "# set printing and plotting options\n",
    "np.set_printoptions(precision=5, suppress=True)\n",
    "from hr_recycler_msgs.msg import CuttingAction, CuttingFeedback, CuttingResult, CuttingGoal, SkillResult, CobotState, MaterialType\n",
    "import actionlib\n",
    "from hr_recycler_msgs.msg import ToolType\n",
    "from hr_recycler_msgs.msg import PlannerAction , PlannerGoal\n",
    "import hrr_common as hrr_cm\n",
    "from comau_msgs.srv import SetIO, SetIORequest\n",
    "rospy.init_node('TUM_notebook')\n",
    "cobot_ns = hrr_common.ros_utils.fix_prefix(hrr_common.ros_utils.get_param(\"/cobot_ns\"))\n",
    "change_tool_action_srv_name = hrr_common.ros_utils.get_param(f\"{cobot_ns}change_tool_action_srv_name\")\n",
    "calibration_action_srv_name = hrr_common.ros_utils.get_param(f\"{cobot_ns}calibration_action_srv_name\")\n",
    "cutting_action_srv_name = hrr_common.ros_utils.get_param(f\"{cobot_ns}cutting_action_srv_name\")\n",
    "grinding_action_srv_name = hrr_common.ros_utils.get_param(f\"{cobot_ns}grinding_action_srv_name\")\n",
    "pc_opening_action_srv_name = hrr_common.ros_utils.get_param(f\"{cobot_ns}pc_opening_action_srv_name\")\n",
    "sensitive_grasping_action_srv_name = hrr_common.ros_utils.get_param(f\"{cobot_ns}sensitive_grasping_action_srv_name\")\n",
    "unscrew_action_srv_name = hrr_common.ros_utils.get_param(f\"{cobot_ns}unscrew_action_srv_name\")\n",
    "vacuum_pick_place_action_srv_name = hrr_common.ros_utils.get_param(f\"{cobot_ns}vacuum_pick_place_action_srv_name\")\n",
    "finger_grasping_action_srv_name= hrr_common.ros_utils.get_param(f\"{cobot_ns}finger_grasping_action_srv_name\")\n",
    "def get_client(action_topic, ActionClass, timeout_secs=2.0):\n",
    "    client = actionlib.SimpleActionClient(action_topic, ActionClass)\n",
    "    client.wait_for_server(timeout=rospy.Duration(timeout_secs))\n",
    "    return client\n",
    "def get_result(cl):\n",
    "    cl.wait_for_result()\n",
    "    return cl.get_result()\n",
    "def cancel(cl):\n",
    "    cl.cancel_all_goals()\n",
    "import hrr_cobot_robot as hrr_rob\n",
    "cobot = hrr_rob.HrrCobotControl.from_ros(\"/hrr_cobot\")"
   ]
  },
  {
   "cell_type": "markdown",
   "id": "ee10906d",
   "metadata": {},
   "source": [
    "### Check FT sensor"
   ]
  },
  {
   "cell_type": "code",
   "execution_count": null,
   "id": "a72995e4",
   "metadata": {},
   "outputs": [],
   "source": [
    "#Check if force values are not crazily high (above 40 or 50)\n",
    "cobot.B_F_msr #gives back force in x y z and torque around x y z axis"
   ]
  },
  {
   "cell_type": "code",
   "execution_count": null,
   "id": "825f4b86",
   "metadata": {},
   "outputs": [],
   "source": [
    "cobot.FT.reset_bias()"
   ]
  },
  {
   "cell_type": "markdown",
   "id": "86f34fe1",
   "metadata": {},
   "source": [
    "### Correct tool set?\n",
    "Rosparam needs to be correct before skill-server is launched. Otherwise cobot inside skill-server has the wrong tool. cobot.change_tool() in this notebook does not affect skill-server cobot. Procedure: kill skill server, change tool, then restart skill server"
   ]
  },
  {
   "cell_type": "code",
   "execution_count": null,
   "id": "239f6723",
   "metadata": {},
   "outputs": [],
   "source": [
    "!rosparam get /hrr_cobot/tool_name"
   ]
  },
  {
   "cell_type": "code",
   "execution_count": 2,
   "id": "e47416b8",
   "metadata": {},
   "outputs": [
    {
     "data": {
      "text/plain": [
       "True"
      ]
     },
     "execution_count": 2,
     "metadata": {},
     "output_type": "execute_result"
    }
   ],
   "source": [
    "#cobot.change_tool(\"nothing\")\n",
    "#cobot.change_tool(\"screwdriver\")\n",
    "#cobot.change_tool(\"wsg_50_dsa\")\n",
    "cobot.change_tool(\"wsg_50\") #Pneumatic Finger Gripper\n",
    "#cobot.change_tool(\"shaftgrinder\")\n",
    "# cobot.change_tool(\"vacuum\")"
   ]
  },
  {
   "cell_type": "markdown",
   "id": "34abcbbb",
   "metadata": {},
   "source": [
    "To do:\n",
    "DOnt send cancel skill if something goes wrong\n",
    "wsg50 connection unstable, check connectors with pietro \n",
    "check big cable with pietro, almost goes underneath EE when pickung up tools\n",
    "Vacuum for PSU go towards middle, take normal vector as orientation\n",
    "Approach surface in unscrewing does not work reliably"
   ]
  },
  {
   "cell_type": "markdown",
   "id": "190fde20",
   "metadata": {},
   "source": [
    "### Cancel Skills\n",
    "This also works if task planner calls them"
   ]
  },
  {
   "cell_type": "code",
   "execution_count": 8,
   "id": "7f7b99f5",
   "metadata": {},
   "outputs": [],
   "source": [
    "shaftgrinder_client=get_client(cutting_action_srv_name, CuttingAction)\n",
    "unscrewing_client = get_client(unscrew_action_srv_name, UnscrewAction)\n",
    "vacuum_client = get_client(vacuum_pick_place_action_srv_name, VacuumGraspingAction)\n",
    "pgrip_client = get_client(finger_grasping_action_srv_name, FingerGraspAction)\n",
    "tool_change_client = get_client(change_tool_action_srv_name, ChangeToolAction)\n",
    "grasping_client = get_client(sensitive_grasping_action_srv_name, AdaptiveGraspingAction)\n",
    "calibrate_client = get_client(calibration_action_srv_name, CalibrateCobotAction)"
   ]
  },
  {
   "cell_type": "code",
   "execution_count": 37,
   "id": "9fb1c83f",
   "metadata": {},
   "outputs": [],
   "source": [
    "cancel(shaftgrinder_client)\n",
    "cancel(unscrewing_client)\n",
    "cancel(tool_change_client)\n",
    "cancel(vacuum_client)\n",
    "cancel(pgrip_client)\n",
    "cancel(grasping_client)"
   ]
  },
  {
   "cell_type": "code",
   "execution_count": null,
   "id": "bdb184e4",
   "metadata": {},
   "outputs": [],
   "source": [
    "cobot.T_E_C_robot"
   ]
  },
  {
   "cell_type": "markdown",
   "id": "69e4c2ff",
   "metadata": {},
   "source": [
    "### Moving the robot"
   ]
  },
  {
   "cell_type": "code",
   "execution_count": null,
   "id": "a5e0d7e6",
   "metadata": {},
   "outputs": [],
   "source": [
    "cartesian_difference = [-0.1, -0.1,0.0]\n",
    "cobot.goTo(sm.SE3(cartesian_difference)@cobot.T_B_E_robot,v_max=0.05)"
   ]
  },
  {
   "cell_type": "code",
   "execution_count": null,
   "id": "dd4cf1f1",
   "metadata": {},
   "outputs": [],
   "source": [
    "cartesian_difference = [-0.0, -0.,0.2]\n",
    "cobot.goTo(sm.SE3(cartesian_difference)@cobot.T_B_E_robot,v_max=0.05)"
   ]
  },
  {
   "cell_type": "code",
   "execution_count": 34,
   "id": "9e5066ae",
   "metadata": {},
   "outputs": [
    {
     "name": "stdout",
     "output_type": "stream",
     "text": [
      "[rosout] Moving linearly if planner didn't move. Take care!\n"
     ]
    }
   ],
   "source": [
    "q_neutral = np.r_[1.34109, 0.09328, -1.44435, -0.01627, 0.67686, -0.00009]\n",
    "cobot.move_to_joint_pose(q_neutral, stochastic=False)"
   ]
  },
  {
   "cell_type": "code",
   "execution_count": null,
   "id": "be4ea39c",
   "metadata": {},
   "outputs": [],
   "source": [
    "#PC Tower standing unscrewing pose\n",
    "cobot.move_to_joint_pose(np.r_[ 0.96828,  0.17584, -1.5306 , -1.55063,  1.62805, -3.01406], stochastic=False)"
   ]
  },
  {
   "cell_type": "code",
   "execution_count": null,
   "id": "695f18d3",
   "metadata": {},
   "outputs": [],
   "source": [
    "cobot.move_to_joint_pose(cobot.q_calib, stochastic=False)"
   ]
  },
  {
   "cell_type": "markdown",
   "id": "5393291f",
   "metadata": {},
   "source": [
    "### Open close Tool changer"
   ]
  },
  {
   "cell_type": "code",
   "execution_count": null,
   "id": "8c8f937d",
   "metadata": {},
   "outputs": [],
   "source": [
    "cobot.B_F_msr"
   ]
  },
  {
   "cell_type": "code",
   "execution_count": null,
   "id": "109f9bf8",
   "metadata": {},
   "outputs": [],
   "source": [
    "cobot.FT.f"
   ]
  },
  {
   "cell_type": "code",
   "execution_count": null,
   "id": "ae33be4c",
   "metadata": {},
   "outputs": [],
   "source": [
    "cobot.FT.reset_bias()"
   ]
  },
  {
   "cell_type": "code",
   "execution_count": null,
   "id": "02acc2c2",
   "metadata": {
    "scrolled": true
   },
   "outputs": [],
   "source": [
    "cobot.close_tool_changer()"
   ]
  },
  {
   "cell_type": "code",
   "execution_count": 38,
   "id": "0ed14060",
   "metadata": {},
   "outputs": [],
   "source": [
    "cobot.open_tool_changer()"
   ]
  },
  {
   "cell_type": "code",
   "execution_count": null,
   "id": "87bf00e3",
   "metadata": {},
   "outputs": [],
   "source": [
    "print(cobot)"
   ]
  },
  {
   "cell_type": "markdown",
   "id": "877d6063",
   "metadata": {},
   "source": [
    "### Open clamping\n",
    "The clamp will open (release air) if cobot pin 300 is set to True. Need be set to False after, so that someone else can close it again."
   ]
  },
  {
   "cell_type": "code",
   "execution_count": null,
   "id": "eba2438a",
   "metadata": {},
   "outputs": [],
   "source": [
    "from comau_msgs.srv import SetIO, SetIORequest\n",
    "srv = rospy.ServiceProxy(\"/hrr_cobot/set_digital_io\", SetIO)\n",
    "srv(SetIORequest(pin=300, state=True)) \n",
    "rospy.sleep(1.0)\n",
    "srv(SetIORequest(pin=300, state=False))"
   ]
  },
  {
   "cell_type": "markdown",
   "id": "96d20555",
   "metadata": {},
   "source": [
    "## Test tools"
   ]
  },
  {
   "cell_type": "markdown",
   "id": "d3facadc",
   "metadata": {},
   "source": [
    "### Gripper"
   ]
  },
  {
   "cell_type": "code",
   "execution_count": null,
   "id": "48791be0",
   "metadata": {},
   "outputs": [],
   "source": [
    "cobot.change_tool(\"nothing\")"
   ]
  },
  {
   "cell_type": "code",
   "execution_count": null,
   "id": "1290439f",
   "metadata": {},
   "outputs": [],
   "source": [
    "cobot.change_tool(\"wsg_50_dsa\")"
   ]
  },
  {
   "cell_type": "code",
   "execution_count": null,
   "id": "7eddbe0f",
   "metadata": {},
   "outputs": [],
   "source": [
    "cobot.gripper.width"
   ]
  },
  {
   "cell_type": "code",
   "execution_count": null,
   "id": "4cd399f8",
   "metadata": {},
   "outputs": [],
   "source": [
    "cobot.gripper.reset()"
   ]
  },
  {
   "cell_type": "code",
   "execution_count": null,
   "id": "0eac68f2",
   "metadata": {},
   "outputs": [],
   "source": [
    "cobot.gripper.width"
   ]
  },
  {
   "cell_type": "code",
   "execution_count": null,
   "id": "c996f677",
   "metadata": {},
   "outputs": [],
   "source": [
    "cobot.gripper.reset()\n",
    "rospy.sleep(0.5)\n",
    "cobot.gripper.send_pos(0.07, si=True)"
   ]
  },
  {
   "cell_type": "code",
   "execution_count": null,
   "id": "ee8f898c",
   "metadata": {},
   "outputs": [],
   "source": [
    "cobot.gripper.send_pos(0.07, si=True)"
   ]
  },
  {
   "cell_type": "code",
   "execution_count": null,
   "id": "7a2ed3f7",
   "metadata": {},
   "outputs": [],
   "source": [
    "cobot.change_tool(\"nothing\")"
   ]
  },
  {
   "cell_type": "code",
   "execution_count": null,
   "id": "acb4f4c0",
   "metadata": {},
   "outputs": [],
   "source": [
    "cobot.change_tool(\"wsg_50_dsa\")"
   ]
  },
  {
   "cell_type": "code",
   "execution_count": null,
   "id": "84cc9bd3",
   "metadata": {},
   "outputs": [],
   "source": [
    "#Test\n",
    "cobot.gripper.reset()\n",
    "rospy.sleep(3.0)\n",
    "oldwidth = np.copy(cobot.gripper.width)\n",
    "print(cobot.gripper.width)\n",
    "cobot.gripper.set_vel(-0.1,si=True)\n",
    "rospy.sleep(0.5)\n",
    "cobot.gripper.set_vel(0.0,si=True)\n",
    "print(cobot.gripper.width)\n",
    "print(oldwidth==cobot.gripper.width)"
   ]
  },
  {
   "cell_type": "code",
   "execution_count": null,
   "id": "a105f34c",
   "metadata": {},
   "outputs": [],
   "source": [
    "cobot.gripper.set_vel(0,si=True)"
   ]
  },
  {
   "cell_type": "code",
   "execution_count": null,
   "id": "84c9ef98",
   "metadata": {},
   "outputs": [],
   "source": [
    "cobot.gripper.send_pos(0.06, si=True)"
   ]
  },
  {
   "cell_type": "code",
   "execution_count": null,
   "id": "3957c490",
   "metadata": {},
   "outputs": [],
   "source": [
    "cobot.gripper.set_vel(-0.015,si=True)\n",
    "while cobot.gripper.width>0.008:\n",
    "    pass\n",
    "cobot.gripper.set_vel(0.0, si=True)"
   ]
  },
  {
   "cell_type": "markdown",
   "id": "66187e6d",
   "metadata": {},
   "source": [
    "### Vacuum"
   ]
  },
  {
   "cell_type": "code",
   "execution_count": null,
   "id": "28ff9850",
   "metadata": {},
   "outputs": [],
   "source": [
    "cobot.change_tool(\"vacuum\")"
   ]
  },
  {
   "cell_type": "code",
   "execution_count": null,
   "id": "44d8be57",
   "metadata": {},
   "outputs": [],
   "source": [
    "cobot.tool_controller.vacuum = True"
   ]
  },
  {
   "cell_type": "code",
   "execution_count": null,
   "id": "f3e8e81e",
   "metadata": {},
   "outputs": [],
   "source": [
    "cobot.tool_controller.vacuum = False"
   ]
  },
  {
   "cell_type": "markdown",
   "id": "4c08db0d",
   "metadata": {},
   "source": [
    "### Shaftgrinder"
   ]
  },
  {
   "cell_type": "code",
   "execution_count": null,
   "id": "dbf0bacd",
   "metadata": {},
   "outputs": [],
   "source": [
    "cobot.change_tool(\"shaftgrinder\")"
   ]
  },
  {
   "cell_type": "code",
   "execution_count": null,
   "id": "13973e00",
   "metadata": {},
   "outputs": [],
   "source": [
    "cobot.tool_controller.run_shaftgrinder(0.1, \"slow\")"
   ]
  },
  {
   "cell_type": "markdown",
   "id": "7af39cb1",
   "metadata": {},
   "source": [
    "### Screwdriver"
   ]
  },
  {
   "cell_type": "code",
   "execution_count": null,
   "id": "847b3fb1",
   "metadata": {},
   "outputs": [],
   "source": [
    "cobot.change_tool(\"screwdriver\")"
   ]
  },
  {
   "cell_type": "code",
   "execution_count": null,
   "id": "659e1111",
   "metadata": {},
   "outputs": [],
   "source": [
    "cobot.run_screwdriver_program(1, run_time=2)"
   ]
  },
  {
   "cell_type": "markdown",
   "id": "9a21c9f4",
   "metadata": {},
   "source": [
    "# Send skill goals ourselves"
   ]
  },
  {
   "cell_type": "markdown",
   "id": "de80187d",
   "metadata": {},
   "source": [
    "## Cutting"
   ]
  },
  {
   "cell_type": "code",
   "execution_count": null,
   "id": "f63596bc",
   "metadata": {},
   "outputs": [],
   "source": []
  },
  {
   "cell_type": "code",
   "execution_count": null,
   "id": "0cb9c8c4",
   "metadata": {},
   "outputs": [],
   "source": [
    "material= MaterialType()\n",
    "material = material.PLASTIC\n",
    "normalA = hrr_cm.ros_utils.np2vector3stamped(np.r_[0,0,1], \"normalA\")\n",
    "pointA = hrr_cm.ros_utils.np2vector3stamped(np.r_[0.755,-0.209,0.23], \"pointA\")#[0.6921,0.2472,0.], \"pointA\")\n",
    "normalB = hrr_cm.ros_utils.np2vector3stamped(np.r_[0,0,1], \"normalB\")\n",
    "pointB = hrr_cm.ros_utils.np2vector3stamped(np.r_[0.755,-0.1898,0.23], \"pointB\")\n",
    "goal=CuttingGoal()\n",
    "goal.surface_normal_start=normalA\n",
    "goal.surface_normal_end=normalB\n",
    "goal.start_location=pointA\n",
    "goal.end_location=pointB\n",
    "goal.material.material_type=material\n",
    "goal.timeout=5000\n",
    "goal.thickness = 0.005 #not important. can be anything"
   ]
  },
  {
   "cell_type": "code",
   "execution_count": null,
   "id": "82c58d0c",
   "metadata": {},
   "outputs": [],
   "source": [
    "shaftgrinder_client.send_goal(goal)"
   ]
  },
  {
   "cell_type": "code",
   "execution_count": null,
   "id": "a5175042",
   "metadata": {},
   "outputs": [],
   "source": [
    "cancel(shaftgrinder_client)"
   ]
  },
  {
   "cell_type": "code",
   "execution_count": null,
   "id": "07bbb07a",
   "metadata": {},
   "outputs": [],
   "source": [
    "get_result(shaftgrinder_client)"
   ]
  },
  {
   "cell_type": "markdown",
   "id": "5e4f8f51",
   "metadata": {},
   "source": [
    "## Calibration"
   ]
  },
  {
   "cell_type": "code",
   "execution_count": null,
   "id": "6fd6c5b7",
   "metadata": {},
   "outputs": [],
   "source": [
    "goal = CalibrateCobotGoal()\n",
    "data_path = pathlib.Path.home() / \"Documents\" / \"skill_recordings\"\n",
    "data_path.mkdir(parents=True, exist_ok=True)\n",
    "tool_name = hrr_common.ros_utils.get_param(f'{cobot_ns}tool_name')\n",
    "if tool_name == '':\n",
    "    tool_name = 'nothing'\n",
    "goal.calibration_file = str(data_path / f\"{tool_name}.pkl\")\n",
    "goal.data_file = str(data_path / f\"{tool_name}_calibration.npy\")\n",
    "goal.recalibrate = True\n",
    "goal.scale_q4 = 0.05\n",
    "goal.scale_q5 = 0.05\n",
    "goal.scale_q6 = 0.05\n",
    "goal.q4_dot_des = 0.02\n",
    "goal.q5_dot_des = 0.02\n",
    "goal.q6_dot_des = 0.02\n",
    "goal.keep_current_pose=True\n",
    "goal"
   ]
  },
  {
   "cell_type": "code",
   "execution_count": null,
   "id": "580f5451",
   "metadata": {},
   "outputs": [],
   "source": [
    "calibrate_client.send_goal(goal)"
   ]
  },
  {
   "cell_type": "code",
   "execution_count": null,
   "id": "d53a07bb",
   "metadata": {},
   "outputs": [],
   "source": [
    "cancel(calibrate_client)"
   ]
  },
  {
   "cell_type": "code",
   "execution_count": null,
   "id": "00b95cd0",
   "metadata": {},
   "outputs": [],
   "source": [
    "# get client result / feedback\n",
    "get_result(calibrate_client)"
   ]
  },
  {
   "cell_type": "code",
   "execution_count": null,
   "id": "39670dc1",
   "metadata": {},
   "outputs": [],
   "source": [
    "# plot results -> copy line to terminal\n",
    "print(f\"please run the following line in a separate terminal:\\nrosrun hrr_cobot_robot plot_ft_calibration -p {goal.calibration_file} {goal.data_file}\")"
   ]
  },
  {
   "cell_type": "code",
   "execution_count": null,
   "id": "04f06341",
   "metadata": {},
   "outputs": [],
   "source": [
    "cobot.update()\n",
    "cobot.B_F_msr, cobot.FT_F, cobot.FT.f,cobot.FT.wrench_calib, cobot.FT.wrench, cobot.FT.offset"
   ]
  },
  {
   "cell_type": "code",
   "execution_count": null,
   "id": "3a481c85",
   "metadata": {},
   "outputs": [],
   "source": [
    "cobot.FT_F"
   ]
  },
  {
   "cell_type": "code",
   "execution_count": null,
   "id": "a082bb51",
   "metadata": {},
   "outputs": [],
   "source": [
    "cobot.B_F_msr"
   ]
  },
  {
   "cell_type": "code",
   "execution_count": null,
   "id": "bea5fddf",
   "metadata": {},
   "outputs": [],
   "source": [
    "#cobot.FT.read_params()"
   ]
  },
  {
   "cell_type": "code",
   "execution_count": null,
   "id": "24426eca",
   "metadata": {},
   "outputs": [],
   "source": [
    "#cobot.update_tf()"
   ]
  },
  {
   "cell_type": "code",
   "execution_count": null,
   "id": "a32a189a",
   "metadata": {
    "scrolled": true
   },
   "outputs": [],
   "source": [
    "cobot.R_FT_E"
   ]
  },
  {
   "cell_type": "code",
   "execution_count": null,
   "id": "9f65dfa9",
   "metadata": {},
   "outputs": [],
   "source": [
    "cobot.FT.offset"
   ]
  },
  {
   "cell_type": "code",
   "execution_count": null,
   "id": "2369b00b",
   "metadata": {},
   "outputs": [],
   "source": [
    "cobot.FT.reset_bias() "
   ]
  },
  {
   "cell_type": "code",
   "execution_count": null,
   "id": "a358e9c6",
   "metadata": {},
   "outputs": [],
   "source": [
    "cobot.change_tool(\"vacuum\")"
   ]
  },
  {
   "cell_type": "code",
   "execution_count": null,
   "id": "1c58390b",
   "metadata": {},
   "outputs": [],
   "source": [
    "cobot.tool_controller.vacuum = False"
   ]
  },
  {
   "cell_type": "markdown",
   "id": "afa05343",
   "metadata": {},
   "source": [
    "## Unscrewing "
   ]
  },
  {
   "cell_type": "code",
   "execution_count": null,
   "id": "014d4494",
   "metadata": {},
   "outputs": [],
   "source": [
    "#Measure a screw manually by inserting tip of screwdriver and executing this cell\n",
    "H = cobot.T_B_C_robot.t\n",
    "H"
   ]
  },
  {
   "cell_type": "code",
   "execution_count": null,
   "id": "8318adf3",
   "metadata": {},
   "outputs": [],
   "source": [
    "unscrewing_client = get_client(unscrew_action_srv_name, UnscrewAction)"
   ]
  },
  {
   "cell_type": "code",
   "execution_count": null,
   "id": "185b3c34",
   "metadata": {},
   "outputs": [],
   "source": [
    "x: 0.509153496943\n",
    "y: 0.000925782585431\n",
    "z: 0.420499908771"
   ]
  },
  {
   "cell_type": "code",
   "execution_count": null,
   "id": "13d9b715",
   "metadata": {},
   "outputs": [],
   "source": [
    "#For tilted microwave\n",
    "B_normal = sm.base.rotx(10, \"deg\") @ sm.base.unitvec(np.r_[0., 0.0, 1.0])\n",
    "B_screw_guess = H #np.r_[0.55, -0.145, 0.24531]"
   ]
  },
  {
   "cell_type": "code",
   "execution_count": null,
   "id": "abca53cc",
   "metadata": {},
   "outputs": [],
   "source": [
    "#Screw 1 perfect\n",
    "B_normal = np.r_[0,0,1]\n",
    "B_screw_guess = np.r_[0.5055, 0.0022, 0.4189]#H "
   ]
  },
  {
   "cell_type": "code",
   "execution_count": 28,
   "id": "703f1603",
   "metadata": {},
   "outputs": [],
   "source": [
    "#Screw 1 wrong\n",
    "B_normal = np.r_[0,0,1]\n",
    "B_screw_guess = np.r_[0.636, 0.093, 0.44426]#H "
   ]
  },
  {
   "cell_type": "code",
   "execution_count": 29,
   "id": "7b9c7497",
   "metadata": {
    "scrolled": true
   },
   "outputs": [],
   "source": [
    "sc_goal = UnscrewGoal()\n",
    "sc_goal.screw_location.header.frame_id = \"hrr_cobot.base_link\"\n",
    "sc_goal.surface_normal.header.frame_id = \"hrr_cobot.base_link\"\n",
    "sc_goal.surface_normal.vector = hrr_common.ros_utils.np2vec3(B_normal)\n",
    "sc_goal.screw_location.point = hrr_common.ros_utils.np2vec3(B_screw_guess)\n",
    "sc_goal.contact_force = 5\n",
    "sc_goal.insertion_force = 10\n",
    "sc_goal.timeout = 1200.0\n",
    "# sc_goal"
   ]
  },
  {
   "cell_type": "code",
   "execution_count": 30,
   "id": "835bd560",
   "metadata": {},
   "outputs": [],
   "source": [
    "unscrewing_client.send_goal(sc_goal)"
   ]
  },
  {
   "cell_type": "code",
   "execution_count": null,
   "id": "5a243b8d",
   "metadata": {},
   "outputs": [],
   "source": [
    "cancel(unscrewing_client)"
   ]
  },
  {
   "cell_type": "markdown",
   "id": "9f95ecdd",
   "metadata": {},
   "source": [
    "## Vacuum Grasping"
   ]
  },
  {
   "cell_type": "code",
   "execution_count": null,
   "id": "3e694121",
   "metadata": {},
   "outputs": [],
   "source": [
    "cobot.tool"
   ]
  },
  {
   "cell_type": "code",
   "execution_count": null,
   "id": "38d595a4",
   "metadata": {},
   "outputs": [],
   "source": [
    "obj_pos_guess = np.r_[0.6308, 0.1, 0.1044] #[0.66, 0.17, 0.07] is actual vision data for elamp cover\n",
    "obj_orient_guess = np.quaternion( 0.0775352159744,0.355686284944, 0.519448327377, 0.773077610704)#np.quaternion(w x y z)\n",
    "\n",
    "release_pos = np.r_[0, 0.56, 0.20] # will drop the object here, careful!\n",
    "release_orientation = obj_orient_guess"
   ]
  },
  {
   "cell_type": "code",
   "execution_count": null,
   "id": "3d54aa09",
   "metadata": {},
   "outputs": [],
   "source": [
    "vac_goal = VacuumGraspingGoal()\n",
    "vac_goal.object_center.header.frame_id = \"hrr_cobot.base_link\"\n",
    "vac_goal.object_center.pose.position = hrr_common.ros_utils.np2vec3(obj_pos_guess)\n",
    "vac_goal.object_center.pose.orientation = hrr_common.ros_utils.np2quat(obj_orient_guess)\n",
    "vac_goal.release_pose.header.frame_id = \"hrr_cobot.base_link\"\n",
    "vac_goal.release_pose.pose.position = hrr_common.ros_utils.np2vec3(release_pos)\n",
    "vac_goal.release_pose.pose.orientation = hrr_common.ros_utils.np2quat(release_orientation)"
   ]
  },
  {
   "cell_type": "code",
   "execution_count": null,
   "id": "714fd64b",
   "metadata": {},
   "outputs": [],
   "source": [
    "vacuum_client.send_goal(vac_goal)"
   ]
  },
  {
   "cell_type": "code",
   "execution_count": null,
   "id": "f82411d3",
   "metadata": {},
   "outputs": [],
   "source": [
    "cancel(vacuum_client)"
   ]
  },
  {
   "cell_type": "markdown",
   "id": "7e20d41f",
   "metadata": {},
   "source": [
    "## Pneumatic Finger"
   ]
  },
  {
   "cell_type": "code",
   "execution_count": null,
   "id": "cddf456f",
   "metadata": {},
   "outputs": [],
   "source": [
    "cobot.tool"
   ]
  },
  {
   "cell_type": "code",
   "execution_count": null,
   "id": "051aaf1b",
   "metadata": {},
   "outputs": [],
   "source": [
    "x: 0.743623173205\n",
    "      y: 0.00347981750303\n",
    "      z: 0.024420364201"
   ]
  },
  {
   "cell_type": "code",
   "execution_count": null,
   "id": "bbe32230",
   "metadata": {},
   "outputs": [],
   "source": [
    "# Haptic Detection\n",
    "obj_pos_guess = np.r_[0.6893, 0.0316,  0.024420364201] #[0.712, 0.263, 0.0196] is actual vision data for battery\n",
    "obj_orient_guess = np.quaternion(0.81190278623,0,-0.5759846,-0.095160) #actual vision data for battery\n",
    "release_pos = np.r_[0, 0.5, 0.10] #choose so it makes sense\n",
    "release_orientation = np.quaternion(1,1,0,0) #same orientaiton for ease"
   ]
  },
  {
   "cell_type": "code",
   "execution_count": null,
   "id": "9ac3ab84",
   "metadata": {},
   "outputs": [],
   "source": [
    "# Trust Vision\n",
    "obj_pos_guess = np.r_[0.6853, 0.0197,  0.024420364201] #[0.712, 0.263, 0.0196] is actual vision data for battery\n",
    "obj_orient_guess = np.quaternion(0.81190278623,0,-0.5759846,-0.095160) #actual vision data for battery\n",
    "release_pos = np.r_[0, 0.5, 0.10] #choose so it makes sense\n",
    "release_orientation = np.quaternion(1,0,0,0) #same orientaiton for ease"
   ]
  },
  {
   "cell_type": "code",
   "execution_count": null,
   "id": "13815862",
   "metadata": {},
   "outputs": [],
   "source": [
    "pgrip_goal = FingerGraspGoal()\n",
    "pgrip_goal.object_center.header.frame_id = \"hrr_cobot.base_link\"\n",
    "pgrip_goal.object_center.pose.position = hrr_common.ros_utils.np2vec3(obj_pos_guess)\n",
    "pgrip_goal.object_center.pose.orientation = hrr_common.ros_utils.np2quat(obj_orient_guess)\n",
    "\n",
    "pgrip_goal.release_pose.header.frame_id = \"hrr_cobot.base_link\"\n",
    "pgrip_goal.release_pose.pose.position = hrr_common.ros_utils.np2vec3(release_pos)\n",
    "pgrip_goal.release_pose.pose.orientation = hrr_common.ros_utils.np2quat(release_orientation)\n",
    "\n",
    "pgrip_goal.timeout = 10000.0\n",
    "#pgrip_goal.gripper_open_width = 0.084\n",
    "#pgrip_goal.gripper_close_width = 0\n",
    "# print(pgrip_goal)"
   ]
  },
  {
   "cell_type": "code",
   "execution_count": null,
   "id": "ed723e4f",
   "metadata": {},
   "outputs": [],
   "source": [
    "pgrip_client.send_goal(pgrip_goal)"
   ]
  },
  {
   "cell_type": "code",
   "execution_count": null,
   "id": "5ae5008a",
   "metadata": {},
   "outputs": [],
   "source": [
    "cancel(pgrip_client)"
   ]
  },
  {
   "cell_type": "markdown",
   "id": "dd95420d",
   "metadata": {},
   "source": [
    "## Tool Change routine\n",
    "\n",
    "You may check the tool-change via\n",
    "\n",
    "- rviz and checking the robot tool-chain to be correct\n",
    "- varifying the ROS-parameter `/hrr_cobot/tool_name`"
   ]
  },
  {
   "cell_type": "code",
   "execution_count": null,
   "id": "952cc97c",
   "metadata": {},
   "outputs": [],
   "source": [
    "cobot.change_tool(\"wsg_50\")"
   ]
  },
  {
   "cell_type": "code",
   "execution_count": null,
   "id": "bfd0154c",
   "metadata": {},
   "outputs": [],
   "source": [
    "!rosparam get /hrr_cobot/tool_name"
   ]
  },
  {
   "cell_type": "code",
   "execution_count": null,
   "id": "d6bcdf66",
   "metadata": {},
   "outputs": [],
   "source": [
    "cobot.tool"
   ]
  },
  {
   "cell_type": "code",
   "execution_count": 35,
   "id": "9e1ef00f",
   "metadata": {},
   "outputs": [],
   "source": [
    "tc_goal = ChangeToolGoal()\n",
    "# set as needed\n",
    "\n",
    "tc_goal.new_tool.type = tc_goal.new_tool.NONE\n",
    "# tc_goal.new_tool.type = tc_goal.new_tool.WSG_50 #pneumatic gripper\n",
    "# tc_goal.new_tool.type = tc_goal.new_tool.WSG_50_DSA\n",
    "tc_goal.new_tool.type = tc_goal.new_tool.SHAFT_GRINDER\n",
    "# tc_goal.new_tool.type = tc_goal.new_tool.SCREW_DRIVER\n",
    "tc_goal.new_tool.type = tc_goal.new_tool.VACUUM_GRIPPER"
   ]
  },
  {
   "cell_type": "code",
   "execution_count": 36,
   "id": "1c7ca3e6",
   "metadata": {},
   "outputs": [],
   "source": [
    "tool_change_client = get_client(change_tool_action_srv_name, ChangeToolAction)\n",
    "tool_change_client.send_goal(tc_goal)"
   ]
  },
  {
   "cell_type": "code",
   "execution_count": null,
   "id": "732457b2",
   "metadata": {},
   "outputs": [],
   "source": [
    "cancel(tool_change_client)"
   ]
  },
  {
   "cell_type": "markdown",
   "id": "c305728c",
   "metadata": {
    "pycharm": {
     "name": "#%% md\n"
    }
   },
   "source": [
    "## Adaptive Grasping\n",
    "\n",
    "<!-- This skill may be the most sensitive as the gripper driver is not really stable against using the tool-changer usage.\n",
    "\n",
    "In (programming) theory, the gripper-driver is started via\n",
    "\n",
    "```bash\n",
    "roslaunch hrr_cobot_robot hrr_wsg_50.launch\n",
    "```\n",
    "\n",
    "via the WSG-watchdog, i.e. every time the tool is set to\n",
    "\n",
    "```bash\n",
    "rosparam set /hrr_cobot/tool_name \"wsg_50_dsa\"\n",
    "```\n",
    "\n",
    "and the gripper-IP can be pinged, but reality is different, so the rqt-graph below shows the skill-server with all nodes for the sensitive grasping\n",
    "\n",
    "![rqt-graph](./media/hrr_wsg_setup_rqt.png)\n",
    "\n",
    "**NOTE: The velocity based variant requires ```do-mpc```, so you need to run\n",
    "```pip install do-mpc``` to replicate the setup below**\n",
    "\n",
    "### Robot setup without skill-server\n",
    "\n",
    "![rqt-graph](./media/rqt_without_skill_server.png) -->"
   ]
  },
  {
   "cell_type": "code",
   "execution_count": null,
   "id": "32699b76",
   "metadata": {},
   "outputs": [],
   "source": [
    "cobot.change_tool(\"nothing\")"
   ]
  },
  {
   "cell_type": "code",
   "execution_count": null,
   "id": "cb352166",
   "metadata": {},
   "outputs": [],
   "source": [
    "cobot.change_tool(\"wsg_50_dsa\")"
   ]
  },
  {
   "cell_type": "code",
   "execution_count": null,
   "id": "da5a7e38",
   "metadata": {},
   "outputs": [],
   "source": [
    "cobot.gripper.reset()"
   ]
  },
  {
   "cell_type": "code",
   "execution_count": null,
   "id": "f535271a",
   "metadata": {},
   "outputs": [],
   "source": [
    "cobot.gripper.width"
   ]
  },
  {
   "cell_type": "code",
   "execution_count": null,
   "id": "dde3ecc0",
   "metadata": {
    "scrolled": true
   },
   "outputs": [],
   "source": [
    "cobot.T_B_E_robot, cobot.T_B_C_robot"
   ]
  },
  {
   "cell_type": "code",
   "execution_count": null,
   "id": "6ddc936a",
   "metadata": {},
   "outputs": [],
   "source": [
    "!rosparam get "
   ]
  },
  {
   "cell_type": "code",
   "execution_count": null,
   "id": "fc72ebb6",
   "metadata": {
    "pycharm": {
     "name": "#%%\n"
    }
   },
   "outputs": [],
   "source": [
    "grasp_goal = AdaptiveGraspingGoal()\n",
    "T_B_C_test = sm.SE3(0.6505, -0.008, 0.042)\n",
    "dispose = sm.SE3(0.4, 0.3, 0.2)\n",
    "grasp_goal.object_center.pose.position = hrr_common.np2vec3(T_B_C_test.t)\n",
    "grasp_goal.object_center.pose.orientation = hrr_common.np2quat(hrr_common.rotmat2quat(T_B_C_test.R))\n",
    "grasp_goal.dispose_off_location_pose.pose.position = hrr_common.np2vec3(dispose.t)\n",
    "grasp_goal.dispose_off_location_pose.pose.orientation = hrr_common.np2quat(hrr_common.rotmat2quat(dispose.R))\n",
    "grasp_goal.contact_force = 5.0\n",
    "grasp_goal.timeout = 20000.0"
   ]
  },
  {
   "cell_type": "code",
   "execution_count": null,
   "id": "6e5f4988",
   "metadata": {
    "pycharm": {
     "name": "#%%\n"
    }
   },
   "outputs": [],
   "source": [
    "grasping_client.send_goal(grasp_goal)"
   ]
  },
  {
   "cell_type": "code",
   "execution_count": null,
   "id": "b27863e5",
   "metadata": {},
   "outputs": [],
   "source": [
    "cancel(grasping_client)"
   ]
  },
  {
   "cell_type": "code",
   "execution_count": null,
   "id": "aea49edb",
   "metadata": {},
   "outputs": [],
   "source": [
    "cobot.gripper.reset()"
   ]
  },
  {
   "cell_type": "code",
   "execution_count": null,
   "id": "ec16ccb6",
   "metadata": {},
   "outputs": [],
   "source": [
    "cobot.gripper.width"
   ]
  },
  {
   "cell_type": "code",
   "execution_count": null,
   "id": "30c60137",
   "metadata": {},
   "outputs": [],
   "source": []
  }
 ],
 "metadata": {
  "kernelspec": {
   "display_name": "Python 3 (ipykernel)",
   "language": "python",
   "name": "python3"
  },
  "language_info": {
   "codemirror_mode": {
    "name": "ipython",
    "version": 3
   },
   "file_extension": ".py",
   "mimetype": "text/x-python",
   "name": "python",
   "nbconvert_exporter": "python",
   "pygments_lexer": "ipython3",
   "version": "3.8.12"
  },
  "latex_envs": {
   "LaTeX_envs_menu_present": true,
   "autoclose": false,
   "autocomplete": true,
   "bibliofile": "biblio.bib",
   "cite_by": "apalike",
   "current_citInitial": 1,
   "eqLabelWithNumbers": true,
   "eqNumInitial": 1,
   "hotkeys": {
    "equation": "Ctrl-E",
    "itemize": "Ctrl-I"
   },
   "labels_anchors": false,
   "latex_user_defs": false,
   "report_style_numbering": false,
   "user_envs_cfg": false
  },
  "toc": {
   "base_numbering": 1,
   "nav_menu": {},
   "number_sections": true,
   "sideBar": true,
   "skip_h1_title": false,
   "title_cell": "Table of Contents",
   "title_sidebar": "Contents",
   "toc_cell": false,
   "toc_position": {},
   "toc_section_display": true,
   "toc_window_display": false
  }
 },
 "nbformat": 4,
 "nbformat_minor": 5
}
