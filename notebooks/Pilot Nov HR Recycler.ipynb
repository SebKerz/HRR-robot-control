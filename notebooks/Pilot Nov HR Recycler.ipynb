{
 "cells": [
  {
   "cell_type": "code",
   "execution_count": 1,
   "id": "941a0b02",
   "metadata": {
    "scrolled": true
   },
   "outputs": [
    {
     "name": "stdout",
     "output_type": "stream",
     "text": [
      "[rosout] [/TUM_pilot] Initialize MATLAB-Motion planner @ /home/hrr_cobot/_ros/hr_recycler_ws/src/planner/src\n",
      "[rosout] [/TUM_pilot] connected to Matlab\n",
      "The value of the ROS_IP environment variable, 192.168.2.87, will be used to set the advertised address for the ROS node.\n",
      "Initializing global node /matlab_global_node_42785 with NodeURI http://192.168.2.87:45243/\n",
      "[rosout] [/TUM_pilot] MATLAB-Initialization done\n"
     ]
    },
    {
     "name": "stderr",
     "output_type": "stream",
     "text": [
      "pybullet build time: May  8 2021 05:48:13\n"
     ]
    },
    {
     "name": "stdout",
     "output_type": "stream",
     "text": [
      "[rosout] some functions are not yet compiled. Expect delays upon first call\n"
     ]
    }
   ],
   "source": [
    "# math and robotics\n",
    "import pathlib\n",
    "import numpy as np\n",
    "import spatialmath as sm\n",
    "# ROS\n",
    "import actionlib\n",
    "import rospy\n",
    "import hrr_common\n",
    "from hr_recycler_msgs.msg import (\n",
    "    AdaptiveGraspingAction, AdaptiveGraspingGoal,\n",
    "    CuttingAction, CuttingGoal,\n",
    "    ChangeToolAction, ChangeToolGoal,    \n",
    "    FingerGraspAction, FingerGraspGoal,    \n",
    "    PushOpenAction, PushOpenGoal,\n",
    "    VacuumGraspingAction, VacuumGraspingGoal,\n",
    "    UnscrewAction, UnscrewGoal\n",
    ")\n",
    "from hrr_msgs.msg import CalibrateCobotAction, CalibrateCobotGoal\n",
    "# set printing and plotting options\n",
    "np.set_printoptions(precision=5, suppress=True)\n",
    "from hr_recycler_msgs.msg import CuttingAction, CuttingFeedback, CuttingResult, CuttingGoal, SkillResult, CobotState, MaterialType\n",
    "import actionlib\n",
    "from hr_recycler_msgs.msg import ToolType\n",
    "from hr_recycler_msgs.msg import PlannerAction , PlannerGoal\n",
    "import hrr_common as hrr_cm\n",
    "from comau_msgs.srv import SetIO, SetIORequest\n",
    "rospy.init_node('TUM_pilot')\n",
    "cobot_ns = hrr_common.ros_utils.fix_prefix(hrr_common.ros_utils.get_param(\"/cobot_ns\"))\n",
    "change_tool_action_srv_name = hrr_common.ros_utils.get_param(f\"{cobot_ns}change_tool_action_srv_name\")\n",
    "calibration_action_srv_name = hrr_common.ros_utils.get_param(f\"{cobot_ns}calibration_action_srv_name\")\n",
    "cutting_action_srv_name = hrr_common.ros_utils.get_param(f\"{cobot_ns}cutting_action_srv_name\")\n",
    "grinding_action_srv_name = hrr_common.ros_utils.get_param(f\"{cobot_ns}grinding_action_srv_name\")\n",
    "pc_opening_action_srv_name = hrr_common.ros_utils.get_param(f\"{cobot_ns}pc_opening_action_srv_name\")\n",
    "sensitive_grasping_action_srv_name = hrr_common.ros_utils.get_param(f\"{cobot_ns}sensitive_grasping_action_srv_name\")\n",
    "unscrew_action_srv_name = hrr_common.ros_utils.get_param(f\"{cobot_ns}unscrew_action_srv_name\")\n",
    "vacuum_pick_place_action_srv_name = hrr_common.ros_utils.get_param(f\"{cobot_ns}vacuum_pick_place_action_srv_name\")\n",
    "finger_grasping_action_srv_name= hrr_common.ros_utils.get_param(f\"{cobot_ns}finger_grasping_action_srv_name\")\n",
    "def get_client(action_topic, ActionClass, timeout_secs=2.0):\n",
    "    client = actionlib.SimpleActionClient(action_topic, ActionClass)\n",
    "    client.wait_for_server(timeout=rospy.Duration(timeout_secs))\n",
    "    return client\n",
    "def get_result(cl):\n",
    "    cl.wait_for_result()\n",
    "    return cl.get_result()\n",
    "def cancel(cl):\n",
    "    cl.cancel_all_goals()\n",
    "import hrr_cobot_robot as hrr_rob\n",
    "cobot = hrr_rob.HrrCobotControl.from_ros(\"/hrr_cobot\")"
   ]
  },
  {
   "cell_type": "markdown",
   "id": "f1e27f09",
   "metadata": {},
   "source": [
    "## Tool parameter"
   ]
  },
  {
   "cell_type": "code",
   "execution_count": null,
   "id": "ce203eaa",
   "metadata": {},
   "outputs": [],
   "source": [
    "!rosparam get /hrr_cobot/tool_name"
   ]
  },
  {
   "cell_type": "code",
   "execution_count": null,
   "id": "cc14178a",
   "metadata": {},
   "outputs": [],
   "source": [
    "#cobot.change_tool(\"nothing\")\n",
    "# cobot.change_tool(\"screwdriver\")\n",
    "#cobot.change_tool(\"wsg_50_dsa\")\n",
    "#cobot.change_tool(\"wsg_50\") #Pneumatic Finger Gripper\n",
    "cobot.change_tool(\"shaftgrinder\")\n",
    "# cobot.change_tool(\"vacuum\")"
   ]
  },
  {
   "cell_type": "markdown",
   "id": "70ad36c4",
   "metadata": {},
   "source": [
    "## Skill actions"
   ]
  },
  {
   "cell_type": "code",
   "execution_count": null,
   "id": "200285a8",
   "metadata": {},
   "outputs": [],
   "source": [
    "shaftgrinder_client=get_client(cutting_action_srv_name, CuttingAction)\n",
    "unscrewing_client = get_client(unscrew_action_srv_name, UnscrewAction)\n",
    "vacuum_client = get_client(vacuum_pick_place_action_srv_name, VacuumGraspingAction)\n",
    "pgrip_client = get_client(finger_grasping_action_srv_name, FingerGraspAction)\n",
    "tool_change_client = get_client(change_tool_action_srv_name, ChangeToolAction)\n",
    "grasping_client = get_client(sensitive_grasping_action_srv_name, AdaptiveGraspingAction)\n",
    "calibrate_client = get_client(calibration_action_srv_name, CalibrateCobotAction)"
   ]
  },
  {
   "cell_type": "markdown",
   "id": "5d7a8fcf",
   "metadata": {},
   "source": [
    "##### Backout"
   ]
  },
  {
   "cell_type": "code",
   "execution_count": null,
   "id": "d938a7d8",
   "metadata": {},
   "outputs": [],
   "source": [
    "cancel(shaftgrinder_client)\n",
    "cancel(unscrewing_client)\n",
    "cancel(tool_change_client)\n",
    "cancel(vacuum_client)\n",
    "cancel(pgrip_client)\n",
    "cancel(grasping_client)"
   ]
  },
  {
   "cell_type": "code",
   "execution_count": null,
   "id": "860f5744",
   "metadata": {},
   "outputs": [],
   "source": [
    "cobot.stop()"
   ]
  },
  {
   "cell_type": "code",
   "execution_count": null,
   "id": "48adb01a",
   "metadata": {},
   "outputs": [],
   "source": [
    "# go up\n",
    "cartesian_difference = [0, 0,0.1]\n",
    "cobot.goTo(sm.SE3(cartesian_difference)@cobot.T_B_E_robot,v_max=0.05)"
   ]
  },
  {
   "cell_type": "code",
   "execution_count": null,
   "id": "ec06c433",
   "metadata": {},
   "outputs": [],
   "source": [
    "# arbitrary\n",
    "cartesian_difference = [0, -0,0]\n",
    "cobot.goTo(sm.SE3(cartesian_difference)@cobot.T_B_E_robot,v_max=0.05)"
   ]
  },
  {
   "cell_type": "code",
   "execution_count": null,
   "id": "547179be",
   "metadata": {},
   "outputs": [],
   "source": [
    "# go neutral\n",
    "q_neutral = np.r_[1.34109, 0.09328, -1.44435, -0.01627, 0.67686, -0.00009]\n",
    "cobot.move_to_joint_pose(q_neutral, stochastic=False)"
   ]
  },
  {
   "cell_type": "code",
   "execution_count": null,
   "id": "aad2c731",
   "metadata": {},
   "outputs": [],
   "source": [
    "# screwdriver1 = np.r_[ 0.86289,  0.54018, -1.66603,  1.60357, -1.63773,  0.63349]\n",
    "# screwdriver2 = np.r_[ 0.96828,  0.17584, -1.5306 , -1.55063,  1.62805, -3.01406]\n",
    "# cobot.move_to_joint_pose(screwdriver2, stochastic=False)"
   ]
  },
  {
   "cell_type": "code",
   "execution_count": null,
   "id": "0d0de015",
   "metadata": {},
   "outputs": [],
   "source": [
    "# go calib pose\n",
    "cobot.move_to_joint_pose(cobot.q_calib, stochastic=False)"
   ]
  },
  {
   "cell_type": "markdown",
   "id": "f1221a6f",
   "metadata": {},
   "source": [
    "### Open clamp"
   ]
  },
  {
   "cell_type": "code",
   "execution_count": null,
   "id": "c84d52cd",
   "metadata": {},
   "outputs": [],
   "source": [
    "from comau_msgs.srv import SetIO, SetIORequest\n",
    "srv = rospy.ServiceProxy(\"/hrr_cobot/set_digital_io\", SetIO)\n",
    "srv(SetIORequest(pin=300, state=True)) \n",
    "rospy.sleep(1.0)\n",
    "srv(SetIORequest(pin=300, state=False))"
   ]
  },
  {
   "cell_type": "markdown",
   "id": "c2d85e03",
   "metadata": {},
   "source": [
    "### Open tool changer"
   ]
  },
  {
   "cell_type": "code",
   "execution_count": null,
   "id": "29b681db",
   "metadata": {},
   "outputs": [],
   "source": [
    "cobot.close_tool_changer()"
   ]
  },
  {
   "cell_type": "code",
   "execution_count": null,
   "id": "632d9c75",
   "metadata": {},
   "outputs": [],
   "source": [
    "cobot.open_tool_changer()"
   ]
  },
  {
   "cell_type": "markdown",
   "id": "8f23866f",
   "metadata": {},
   "source": [
    "## Tool change"
   ]
  },
  {
   "cell_type": "code",
   "execution_count": null,
   "id": "3c2dcbe6",
   "metadata": {},
   "outputs": [],
   "source": [
    "!rosparam get /hrr_cobot/tool_name"
   ]
  },
  {
   "cell_type": "code",
   "execution_count": null,
   "id": "506820b4",
   "metadata": {},
   "outputs": [],
   "source": [
    "tc_goal = ChangeToolGoal()\n",
    "# set as needed\n",
    "\n",
    "tc_goal.new_tool.type = tc_goal.new_tool.NONE\n",
    "# tc_goal.new_tool.type = tc_goal.new_tool.WSG_50 #pneumatic gripper\n",
    "tc_goal.new_tool.type = tc_goal.new_tool.WSG_50_DSA\n",
    "# tc_goal.new_tool.type = tc_goal.new_tool.SHAFT_GRINDER\n",
    "#tc_goal.new_tool.type = tc_goal.new_tool.SCREW_DRIVER\n",
    "# tc_goal.new_tool.type = tc_goal.new_tool.VACUUM_GRIPPER"
   ]
  },
  {
   "cell_type": "code",
   "execution_count": null,
   "id": "9ff08019",
   "metadata": {},
   "outputs": [],
   "source": [
    "tool_change_client = get_client(change_tool_action_srv_name, ChangeToolAction)\n",
    "tool_change_client.send_goal(tc_goal)"
   ]
  },
  {
   "cell_type": "code",
   "execution_count": null,
   "id": "419f98cb",
   "metadata": {},
   "outputs": [],
   "source": [
    "cancel(tool_change_client)"
   ]
  },
  {
   "cell_type": "markdown",
   "id": "059e1ddf",
   "metadata": {},
   "source": [
    "# Gripper reset"
   ]
  },
  {
   "cell_type": "code",
   "execution_count": null,
   "id": "44ed87db",
   "metadata": {},
   "outputs": [],
   "source": [
    "cobot.change_tool(\"wsg_50_dsa\")"
   ]
  },
  {
   "cell_type": "code",
   "execution_count": null,
   "id": "e4871c20",
   "metadata": {},
   "outputs": [],
   "source": [
    "cobot.change_tool(\"nothing\")"
   ]
  },
  {
   "cell_type": "code",
   "execution_count": null,
   "id": "330d082d",
   "metadata": {},
   "outputs": [],
   "source": [
    "cobot.gripper.reset()"
   ]
  },
  {
   "cell_type": "code",
   "execution_count": null,
   "id": "1ebed965",
   "metadata": {},
   "outputs": [],
   "source": [
    "cobot.gripper.width"
   ]
  },
  {
   "cell_type": "code",
   "execution_count": null,
   "id": "55f04e9f",
   "metadata": {},
   "outputs": [],
   "source": [
    "#Close\n",
    "cobot.gripper.set_vel(-0.08,si=True)"
   ]
  },
  {
   "cell_type": "code",
   "execution_count": null,
   "id": "5fb2c46f",
   "metadata": {},
   "outputs": [],
   "source": [
    "#Stop\n",
    "cobot.gripper.set_vel(0.0, si=True)"
   ]
  },
  {
   "cell_type": "code",
   "execution_count": null,
   "id": "46e89329",
   "metadata": {},
   "outputs": [],
   "source": [
    "#Open\n",
    "cobot.gripper.set_vel(0.08,si=True)"
   ]
  },
  {
   "cell_type": "markdown",
   "id": "48e424fd",
   "metadata": {},
   "source": [
    "# We crashed, better restart FT sensor?"
   ]
  },
  {
   "cell_type": "code",
   "execution_count": null,
   "id": "be9d0c97",
   "metadata": {},
   "outputs": [],
   "source": [
    "cobot.FT.f #Raw force values"
   ]
  },
  {
   "cell_type": "code",
   "execution_count": null,
   "id": "a2de2b9a",
   "metadata": {},
   "outputs": [],
   "source": [
    "cobot.B_F_msr #Force values transformed"
   ]
  },
  {
   "cell_type": "code",
   "execution_count": null,
   "id": "fdd258b9",
   "metadata": {},
   "outputs": [],
   "source": [
    "cobot.FT.reset()"
   ]
  },
  {
   "cell_type": "code",
   "execution_count": null,
   "id": "1d2c832e",
   "metadata": {},
   "outputs": [],
   "source": [
    "cobot.FT.reset_bias()"
   ]
  },
  {
   "cell_type": "code",
   "execution_count": null,
   "id": "d5f03c43",
   "metadata": {},
   "outputs": [],
   "source": []
  }
 ],
 "metadata": {
  "kernelspec": {
   "display_name": "Python 3 (ipykernel)",
   "language": "python",
   "name": "python3"
  },
  "language_info": {
   "codemirror_mode": {
    "name": "ipython",
    "version": 3
   },
   "file_extension": ".py",
   "mimetype": "text/x-python",
   "name": "python",
   "nbconvert_exporter": "python",
   "pygments_lexer": "ipython3",
   "version": "3.8.12"
  }
 },
 "nbformat": 4,
 "nbformat_minor": 5
}
