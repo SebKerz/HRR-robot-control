{
 "cells": [
  {
   "cell_type": "code",
   "execution_count": 1,
   "id": "47d12d79",
   "metadata": {},
   "outputs": [],
   "source": [
    "# math and robotics\n",
    "import pathlib\n",
    "import numpy as np\n",
    "import spatialmath as sm\n",
    "\n",
    "# ROS\n",
    "import actionlib\n",
    "import rospy\n",
    "import hrr_common\n",
    "from hr_recycler_msgs.msg import (\n",
    "    AdaptiveGraspingAction, AdaptiveGraspingGoal,\n",
    "    CuttingAction, CuttingGoal,\n",
    "    ChangeToolAction, ChangeToolGoal,    \n",
    "    FingerGraspAction, FingerGraspGoal,    \n",
    "    PushOpenAction, PushOpenGoal,\n",
    "    VacuumGraspingAction, VacuumGraspingGoal,\n",
    "    UnscrewAction, UnscrewGoal\n",
    ")\n",
    "from hrr_msgs.msg import CalibrateCobotAction, CalibrateCobotGoal\n",
    "\n",
    "# set printing and plotting options\n",
    "np.set_printoptions(precision=5, suppress=True)\n",
    "\n",
    "from hr_recycler_msgs.msg import CuttingAction, CuttingFeedback, CuttingResult, CuttingGoal, SkillResult, CobotState, MaterialType\n",
    "import actionlib\n",
    "from hr_recycler_msgs.msg import ToolType\n",
    "\n",
    "from hr_recycler_msgs.msg import PlannerAction , PlannerGoal\n",
    "import hrr_common as hrr_cm"
   ]
  },
  {
   "cell_type": "code",
   "execution_count": 2,
   "id": "1e611351",
   "metadata": {},
   "outputs": [],
   "source": [
    "rospy.init_node('emergency_lamp_demo')"
   ]
  },
  {
   "cell_type": "code",
   "execution_count": 3,
   "id": "805e7838",
   "metadata": {},
   "outputs": [],
   "source": [
    "cobot_ns = hrr_common.ros_utils.fix_prefix(hrr_common.ros_utils.get_param(\"/cobot_ns\"))\n",
    "change_tool_action_srv_name = hrr_common.ros_utils.get_param(f\"{cobot_ns}change_tool_action_srv_name\")\n",
    "calibration_action_srv_name = hrr_common.ros_utils.get_param(f\"{cobot_ns}calibration_action_srv_name\")\n",
    "cutting_action_srv_name = hrr_common.ros_utils.get_param(f\"{cobot_ns}cutting_action_srv_name\")\n",
    "grinding_action_srv_name = hrr_common.ros_utils.get_param(f\"{cobot_ns}grinding_action_srv_name\")\n",
    "pc_opening_action_srv_name = hrr_common.ros_utils.get_param(f\"{cobot_ns}pc_opening_action_srv_name\")\n",
    "sensitive_grasping_action_srv_name = hrr_common.ros_utils.get_param(f\"{cobot_ns}sensitive_grasping_action_srv_name\")\n",
    "unscrew_action_srv_name = hrr_common.ros_utils.get_param(f\"{cobot_ns}unscrew_action_srv_name\")\n",
    "vacuum_pick_place_action_srv_name = hrr_common.ros_utils.get_param(f\"{cobot_ns}vacuum_pick_place_action_srv_name\")\n",
    "def get_client(action_topic, ActionClass, timeout_secs=2.0):\n",
    "    client = actionlib.SimpleActionClient(action_topic, ActionClass)\n",
    "    client.wait_for_server(timeout=rospy.Duration(timeout_secs))\n",
    "    return client\n",
    "def get_result(cl):\n",
    "    cl.wait_for_result()\n",
    "    return cl.get_result()\n",
    "\n",
    "def cancel(cl):\n",
    "    cl.cancel_all_goals()\n"
   ]
  },
  {
   "cell_type": "markdown",
   "id": "920e53e9",
   "metadata": {},
   "source": [
    "### Load robot"
   ]
  },
  {
   "cell_type": "code",
   "execution_count": 4,
   "id": "d5d86996",
   "metadata": {},
   "outputs": [
    {
     "name": "stderr",
     "output_type": "stream",
     "text": [
      "pybullet build time: May  8 2021 05:48:13\n"
     ]
    },
    {
     "name": "stdout",
     "output_type": "stream",
     "text": [
      "[rosout] some functions are not yet compiled. Expect delays upon first call\n"
     ]
    },
    {
     "data": {
      "text/plain": [
       "True"
      ]
     },
     "execution_count": 4,
     "metadata": {},
     "output_type": "execute_result"
    }
   ],
   "source": [
    "import hrr_cobot_robot as hrr_rob\n",
    "cobot = hrr_rob.HrrCobotControl.from_ros(\"/hrr_cobot\")\n",
    "cobot.change_tool(\"nothing\")"
   ]
  },
  {
   "cell_type": "code",
   "execution_count": 5,
   "id": "255877dc",
   "metadata": {},
   "outputs": [
    {
     "name": "stderr",
     "output_type": "stream",
     "text": [
      "[rosout] vacuum gripper contains two tips. This contradicts default pipeline atm. Use 1\n"
     ]
    },
    {
     "data": {
      "text/plain": [
       "True"
      ]
     },
     "execution_count": 5,
     "metadata": {},
     "output_type": "execute_result"
    }
   ],
   "source": [
    "cobot.change_tool(\"vacuum\")"
   ]
  },
  {
   "cell_type": "markdown",
   "id": "b35dcbb7",
   "metadata": {},
   "source": [
    "### Dispose Location"
   ]
  },
  {
   "cell_type": "code",
   "execution_count": null,
   "id": "c80f05b6",
   "metadata": {},
   "outputs": [],
   "source": []
  },
  {
   "cell_type": "markdown",
   "id": "d3461405",
   "metadata": {},
   "source": [
    "### Tool changer manually"
   ]
  },
  {
   "cell_type": "code",
   "execution_count": null,
   "id": "139b6f42",
   "metadata": {},
   "outputs": [],
   "source": [
    "cobot.close_tool_changer()"
   ]
  },
  {
   "cell_type": "code",
   "execution_count": null,
   "id": "6c27043a",
   "metadata": {},
   "outputs": [],
   "source": [
    "cobot.open_tool_changer()"
   ]
  },
  {
   "cell_type": "markdown",
   "id": "a8bdbd79",
   "metadata": {},
   "source": [
    "### Initiate all Clients"
   ]
  },
  {
   "cell_type": "code",
   "execution_count": null,
   "id": "18c7a9a1",
   "metadata": {},
   "outputs": [],
   "source": [
    "vacuum_client = get_client(vacuum_pick_place_action_srv_name, VacuumGraspingAction)\n",
    "pgrip_client = get_client(finger_grasping_action_srv_name, FingerGraspAction)\n",
    "tool_change_client = get_client(change_tool_action_srv_name, ChangeToolAction)\n",
    "shaftgrinder_client=get_client(cutting_action_srv_name, CuttingAction)"
   ]
  },
  {
   "cell_type": "markdown",
   "id": "c3091965",
   "metadata": {},
   "source": [
    "# Emergency Lamp disassembly"
   ]
  },
  {
   "cell_type": "markdown",
   "id": "e0706546",
   "metadata": {},
   "source": [
    "## Tool Change to Shaftgrinder"
   ]
  },
  {
   "cell_type": "code",
   "execution_count": null,
   "id": "87826264",
   "metadata": {},
   "outputs": [],
   "source": [
    "tc_goal = ChangeToolGoal()\n",
    "tc_goal.new_tool.type = tc_goal.new_tool.SHAFT_GRINDER\n",
    "tool_change_client.send_goal(tc_goal)"
   ]
  },
  {
   "cell_type": "markdown",
   "id": "8b66e4c6",
   "metadata": {},
   "source": [
    "## Cutting (6 goals)\n",
    "cutting.yaml"
   ]
  },
  {
   "cell_type": "code",
   "execution_count": null,
   "id": "da09442a",
   "metadata": {},
   "outputs": [],
   "source": []
  },
  {
   "cell_type": "markdown",
   "id": "d55193f3",
   "metadata": {},
   "source": [
    "### Clip 1"
   ]
  },
  {
   "cell_type": "code",
   "execution_count": null,
   "id": "bd16a006",
   "metadata": {},
   "outputs": [],
   "source": [
    "goal=CuttingGoal()\n",
    "goal.surface_normal_start=normalA\n",
    "goal.surface_normal_end=normalB\n",
    "goal.start_location=pointA\n",
    "goal.end_location=pointB\n",
    "goal.material.material_type=material\n",
    "goal.timeout=5000\n",
    "goal.thickness = 0.005 #not important. can be anything"
   ]
  },
  {
   "cell_type": "code",
   "execution_count": null,
   "id": "053a1982",
   "metadata": {},
   "outputs": [],
   "source": [
    "shaftgrinder_client.send_goal(goal)"
   ]
  },
  {
   "cell_type": "markdown",
   "id": "d64e0f8a",
   "metadata": {},
   "source": [
    "### Clip 2"
   ]
  },
  {
   "cell_type": "code",
   "execution_count": null,
   "id": "75fc87cc",
   "metadata": {},
   "outputs": [],
   "source": [
    "goal=CuttingGoal()\n",
    "goal.surface_normal_start=normalA\n",
    "goal.surface_normal_end=normalB\n",
    "goal.start_location=pointA\n",
    "goal.end_location=pointB\n",
    "goal.material.material_type=material\n",
    "goal.timeout=5000\n",
    "goal.thickness = 0.005 #not important. can be anything"
   ]
  },
  {
   "cell_type": "code",
   "execution_count": null,
   "id": "e865764c",
   "metadata": {},
   "outputs": [],
   "source": [
    "shaftgrinder_client.send_goal(goal)"
   ]
  },
  {
   "cell_type": "markdown",
   "id": "a70827d2",
   "metadata": {},
   "source": [
    "### Clip 3"
   ]
  },
  {
   "cell_type": "code",
   "execution_count": null,
   "id": "0d7e0cc7",
   "metadata": {},
   "outputs": [],
   "source": [
    "goal=CuttingGoal()\n",
    "goal.surface_normal_start=normalA\n",
    "goal.surface_normal_end=normalB\n",
    "goal.start_location=pointA\n",
    "goal.end_location=pointB\n",
    "goal.material.material_type=material\n",
    "goal.timeout=5000\n",
    "goal.thickness = 0.005 #not important. can be anything"
   ]
  },
  {
   "cell_type": "code",
   "execution_count": null,
   "id": "45432cc3",
   "metadata": {},
   "outputs": [],
   "source": [
    "shaftgrinder_client.send_goal(goal)"
   ]
  },
  {
   "cell_type": "markdown",
   "id": "b4fed34e",
   "metadata": {},
   "source": [
    "### Clip 4"
   ]
  },
  {
   "cell_type": "code",
   "execution_count": null,
   "id": "2490c048",
   "metadata": {},
   "outputs": [],
   "source": [
    "goal=CuttingGoal()\n",
    "goal.surface_normal_start=normalA\n",
    "goal.surface_normal_end=normalB\n",
    "goal.start_location=pointA\n",
    "goal.end_location=pointB\n",
    "goal.material.material_type=material\n",
    "goal.timeout=5000\n",
    "goal.thickness = 0.005 #not important. can be anything"
   ]
  },
  {
   "cell_type": "code",
   "execution_count": null,
   "id": "55869cc1",
   "metadata": {},
   "outputs": [],
   "source": [
    "shaftgrinder_client.send_goal(goal)"
   ]
  },
  {
   "cell_type": "markdown",
   "id": "5404226a",
   "metadata": {},
   "source": [
    "### Clip 5"
   ]
  },
  {
   "cell_type": "code",
   "execution_count": null,
   "id": "c955b512",
   "metadata": {},
   "outputs": [],
   "source": [
    "goal=CuttingGoal()\n",
    "goal.surface_normal_start=normalA\n",
    "goal.surface_normal_end=normalB\n",
    "goal.start_location=pointA\n",
    "goal.end_location=pointB\n",
    "goal.material.material_type=material\n",
    "goal.timeout=5000\n",
    "goal.thickness = 0.005 #not important. can be anything"
   ]
  },
  {
   "cell_type": "code",
   "execution_count": null,
   "id": "87cdfc72",
   "metadata": {},
   "outputs": [],
   "source": [
    "shaftgrinder_client.send_goal(goal)"
   ]
  },
  {
   "cell_type": "markdown",
   "id": "9f76f15d",
   "metadata": {},
   "source": [
    "### Clip 6"
   ]
  },
  {
   "cell_type": "code",
   "execution_count": null,
   "id": "aba12b24",
   "metadata": {},
   "outputs": [],
   "source": [
    "goal=CuttingGoal()\n",
    "goal.surface_normal_start=normalA\n",
    "goal.surface_normal_end=normalB\n",
    "goal.start_location=pointA\n",
    "goal.end_location=pointB\n",
    "goal.material.material_type=material\n",
    "goal.timeout=5000\n",
    "goal.thickness = 0.005 #not important. can be anything"
   ]
  },
  {
   "cell_type": "code",
   "execution_count": null,
   "id": "1a566c3f",
   "metadata": {},
   "outputs": [],
   "source": [
    "shaftgrinder_client.send_goal(goal)"
   ]
  },
  {
   "cell_type": "markdown",
   "id": "f2b16209",
   "metadata": {},
   "source": [
    "## Tool Change to Vacuum"
   ]
  },
  {
   "cell_type": "code",
   "execution_count": null,
   "id": "a2f33bc1",
   "metadata": {},
   "outputs": [],
   "source": [
    "tc_goal = ChangeToolGoal()\n",
    "tc_goal.new_tool.type = tc_goal.new_tool.VACUUM_GRIPPER\n",
    "tool_change_client.send_goal(tc_goal)"
   ]
  },
  {
   "cell_type": "markdown",
   "id": "1dec7528",
   "metadata": {},
   "source": [
    "## Vacuum"
   ]
  },
  {
   "cell_type": "markdown",
   "id": "71c1ae21",
   "metadata": {},
   "source": [
    "Human Disassembly of Hg lamp"
   ]
  },
  {
   "cell_type": "markdown",
   "id": "bc9cc4b4",
   "metadata": {},
   "source": [
    "## Vacuum Middle Cover\n",
    "vacuum.yaml"
   ]
  },
  {
   "cell_type": "code",
   "execution_count": null,
   "id": "7d99d44e",
   "metadata": {},
   "outputs": [],
   "source": [
    "vacuum_client.send_goal(vac_goal)"
   ]
  },
  {
   "cell_type": "markdown",
   "id": "3de3c52e",
   "metadata": {},
   "source": [
    "## Tool Change to Shaft grinder"
   ]
  },
  {
   "cell_type": "code",
   "execution_count": null,
   "id": "a0199052",
   "metadata": {},
   "outputs": [],
   "source": [
    "tc_goal = ChangeToolGoal()\n",
    "tc_goal.new_tool.type = tc_goal.new_tool.SHAFT_GRINDER\n",
    "tool_change_client.send_goal(tc_goal)"
   ]
  },
  {
   "cell_type": "markdown",
   "id": "d3075140",
   "metadata": {},
   "source": [
    "## Cutting Cable (One goal)\n",
    "cutting.yaml"
   ]
  },
  {
   "cell_type": "code",
   "execution_count": null,
   "id": "73323808",
   "metadata": {},
   "outputs": [],
   "source": [
    "shaftgrinder_client.send_goal(goal)"
   ]
  },
  {
   "cell_type": "markdown",
   "id": "12984607",
   "metadata": {},
   "source": [
    "## Tool Change to Pneumatic Gripper"
   ]
  },
  {
   "cell_type": "code",
   "execution_count": null,
   "id": "f95752d5",
   "metadata": {},
   "outputs": [],
   "source": [
    "tc_goal = ChangeToolGoal()\n",
    "tc_goal.new_tool.type = tc_goal.new_tool.WSG_50\n",
    "tool_change_client.send_goal(tc_goal)"
   ]
  },
  {
   "cell_type": "markdown",
   "id": "ebe9da85",
   "metadata": {},
   "source": [
    "## Remove Battery\n",
    "fingergrasp"
   ]
  },
  {
   "cell_type": "code",
   "execution_count": null,
   "id": "9a90e734",
   "metadata": {},
   "outputs": [],
   "source": [
    "pgrip_client.send_goal(pgrip_goal)"
   ]
  },
  {
   "cell_type": "markdown",
   "id": "4cb6a348",
   "metadata": {},
   "source": [
    "## Tool Change to None"
   ]
  },
  {
   "cell_type": "code",
   "execution_count": null,
   "id": "3225ae5f",
   "metadata": {},
   "outputs": [],
   "source": [
    "tc_goal = ChangeToolGoal()\n",
    "tc_goal.new_tool.type = tc_goal.new_tool.NONE\n",
    "tool_change_client.send_goal(tc_goal)"
   ]
  },
  {
   "cell_type": "code",
   "execution_count": null,
   "id": "eb1d208d",
   "metadata": {},
   "outputs": [],
   "source": []
  },
  {
   "cell_type": "code",
   "execution_count": null,
   "id": "e6dd8785",
   "metadata": {},
   "outputs": [],
   "source": []
  },
  {
   "cell_type": "markdown",
   "id": "2d8b642d",
   "metadata": {},
   "source": [
    "## Sending side\n",
    "\n",
    "Get access to this PC via ssh-copy-id\n",
    "\n",
    "```\n",
    "ssh-copy-id schrottgott@192.168.2.34\n",
    "```\n",
    "\n",
    "test secure copy\n",
    "\n",
    "```\n",
    "scp cutting.yaml schrottgott@192.168.2.34:~/_fake_ros/cutting.yaml\n",
    "```\n",
    "\n",
    "then run ```send_file```"
   ]
  },
  {
   "cell_type": "code",
   "execution_count": 40,
   "id": "fbcb8bef",
   "metadata": {},
   "outputs": [],
   "source": [
    "from dataclasses import dataclass\n",
    "import pathlib\n",
    "\n",
    "import typing\n",
    "\n",
    "import rospy\n",
    "import numpy as np\n",
    "import yaml\n",
    "\n",
    "\n",
    "def set_msg_from_dict(data, out):\n",
    "    for k, v in data.items():\n",
    "        if isinstance(v, dict):\n",
    "            python_pointer = [getattr(out, k)]\n",
    "            set_msg_from_dict(v, python_pointer[0])\n",
    "        else:\n",
    "            try:\n",
    "                setattr(out, k, v)\n",
    "            except AttributeError:\n",
    "                pass\n",
    "\n",
    "\n",
    "# python3 \n",
    "def get_msg_keys(msg):\n",
    "    return  list(filter(lambda x: x[0] != '_' and 'serialize' not in x, msg.__dir__()))\n",
    "\n",
    "# python2\n",
    "def get_msg_keys(msg):\n",
    "    return  list(filter(lambda x: x[0] != '_' and 'serialize' not in x, dir(msg)))\n",
    "\n",
    "\n",
    "def msg_to_dict(msg, data):\n",
    "    for k in get_msg_keys(msg):\n",
    "        v = getattr(msg, k)\n",
    "        if np.isscalar(v) or isinstance(v, str):\n",
    "            data[k] = v\n",
    "        else:\n",
    "            data[k] = dict()\n",
    "            msg_to_dict(v, data[k])\n",
    "            if len(data[k]) == 0:\n",
    "                del data[k]\n",
    "    return data\n",
    "\n",
    "\n",
    "def read_yaml(file_name):\n",
    "    file_name = pathlib.Path(file_name)\n",
    "    if file_name.exists():\n",
    "        with open(file_name) as file:\n",
    "            return yaml.load(file, Loader=yaml.FullLoader)        \n",
    "    rospy.logerr(f\"{file_name} does not exist\")\n",
    "\n",
    "\n",
    "\n",
    "def read_msg(msg, file_name):\n",
    "    data = read_yaml(file_name)\n",
    "    if data is not None:\n",
    "        set_msg_from_dict(data, msg)\n",
    "        return msg\n",
    "    rospy.logerr(f\"{file_name} does not exist\")\n",
    "\n",
    "import subprocess\n",
    "    \n",
    "def send_file(cur_file, remote_user, remote_host, remote_file_path):    \n",
    "    subprocess.Popen([\"scp\", cur_file,  \"{}@{}:{}\".format(remote_user, remote_host, remote_file_path)])\n",
    "    \n",
    "\n",
    "def send_dict(data, filename, **kwargs):    \n",
    "    tmp_file = pathlib.Path(\"/tmp\") / f\"{filename}.yaml\"\n",
    "    with open(tmp_file, 'w') as file:\n",
    "        yaml.dump(data, file)\n",
    "    send_file(data_file, **kwargs)\n",
    "    "
   ]
  },
  {
   "cell_type": "code",
   "execution_count": 20,
   "id": "209df10a",
   "metadata": {},
   "outputs": [],
   "source": [
    "## SEND data"
   ]
  },
  {
   "cell_type": "code",
   "execution_count": 24,
   "id": "53d0cb26",
   "metadata": {},
   "outputs": [
    {
     "name": "stderr",
     "output_type": "stream",
     "text": [
      "ssh_askpass: exec(/usr/bin/ssh-askpass): No such file or directory\r\n",
      "Host key verification failed.\r\n",
      "lost connection\n"
     ]
    }
   ],
   "source": [
    "import subprocess\n",
    "    \n",
    "def send_file(cur_file, remote_user, remote_host, remote_file_path):    \n",
    "    subprocess.Popen([\"scp\", cur_file,  \"{}@{}:{}\".format(remote_user, remote_host, remote_file_path)])\n",
    "\n",
    "send_file(cur_file=r'/home/schrottgott/Downloads/cut_test.yaml', remote_user='schrottgott', remote_host='192.168.2.34', \n",
    "          remote_file_path=r\"/home/schrottgott/_fake_ros/cutting.yaml\")"
   ]
  },
  {
   "cell_type": "code",
   "execution_count": 22,
   "id": "1d784423",
   "metadata": {},
   "outputs": [
    {
     "data": {
      "text/plain": [
       "'192.168.2.34'"
      ]
     },
     "execution_count": 22,
     "metadata": {},
     "output_type": "execute_result"
    }
   ],
   "source": [
    "import os\n",
    "os.getenv('ROS_IP')"
   ]
  },
  {
   "cell_type": "code",
   "execution_count": 16,
   "id": "bdade31f",
   "metadata": {},
   "outputs": [],
   "source": [
    "## READ data"
   ]
  },
  {
   "cell_type": "code",
   "execution_count": 38,
   "id": "0b52c9dd",
   "metadata": {},
   "outputs": [
    {
     "ename": "ConstructorError",
     "evalue": "could not determine a constructor for the tag 'tag:yaml.org,2002:python/object/new:geometry_msgs.msg._Vector3Stamped.Vector3Stamped'\n  in \"/home/schrottgott/_fake_ros/cutting_old.yaml\", line 2, column 15",
     "output_type": "error",
     "traceback": [
      "\u001b[0;31m---------------------------------------------------------------------------\u001b[0m",
      "\u001b[0;31mConstructorError\u001b[0m                          Traceback (most recent call last)",
      "\u001b[0;32m/tmp/ipykernel_146827/310477927.py\u001b[0m in \u001b[0;36m<module>\u001b[0;34m\u001b[0m\n\u001b[1;32m      1\u001b[0m \u001b[0;32mfrom\u001b[0m \u001b[0mhr_recycler_msgs\u001b[0m\u001b[0;34m.\u001b[0m\u001b[0mmsg\u001b[0m \u001b[0;32mimport\u001b[0m \u001b[0mCuttingGoal\u001b[0m\u001b[0;34m\u001b[0m\u001b[0;34m\u001b[0m\u001b[0m\n\u001b[0;32m----> 2\u001b[0;31m \u001b[0mread_yaml\u001b[0m\u001b[0;34m(\u001b[0m\u001b[0;34m'/home/schrottgott/_fake_ros/cutting_old.yaml'\u001b[0m\u001b[0;34m)\u001b[0m\u001b[0;34m\u001b[0m\u001b[0;34m\u001b[0m\u001b[0m\n\u001b[0m\u001b[1;32m      3\u001b[0m \u001b[0mread_msg\u001b[0m\u001b[0;34m(\u001b[0m\u001b[0mCuttingGoal\u001b[0m\u001b[0;34m(\u001b[0m\u001b[0;34m)\u001b[0m\u001b[0;34m,\u001b[0m \u001b[0;34m'/home/schrottgott/_fake_ros/cut2.yaml'\u001b[0m\u001b[0;34m)\u001b[0m\u001b[0;34m\u001b[0m\u001b[0;34m\u001b[0m\u001b[0m\n",
      "\u001b[0;32m/tmp/ipykernel_146827/1453739832.py\u001b[0m in \u001b[0;36mread_yaml\u001b[0;34m(file_name)\u001b[0m\n\u001b[1;32m     42\u001b[0m     \u001b[0;32mif\u001b[0m \u001b[0mfile_name\u001b[0m\u001b[0;34m.\u001b[0m\u001b[0mexists\u001b[0m\u001b[0;34m(\u001b[0m\u001b[0;34m)\u001b[0m\u001b[0;34m:\u001b[0m\u001b[0;34m\u001b[0m\u001b[0;34m\u001b[0m\u001b[0m\n\u001b[1;32m     43\u001b[0m         \u001b[0;32mwith\u001b[0m \u001b[0mopen\u001b[0m\u001b[0;34m(\u001b[0m\u001b[0mfile_name\u001b[0m\u001b[0;34m)\u001b[0m \u001b[0;32mas\u001b[0m \u001b[0mfile\u001b[0m\u001b[0;34m:\u001b[0m\u001b[0;34m\u001b[0m\u001b[0;34m\u001b[0m\u001b[0m\n\u001b[0;32m---> 44\u001b[0;31m             \u001b[0;32mreturn\u001b[0m \u001b[0myaml\u001b[0m\u001b[0;34m.\u001b[0m\u001b[0mload\u001b[0m\u001b[0;34m(\u001b[0m\u001b[0mfile\u001b[0m\u001b[0;34m,\u001b[0m \u001b[0mLoader\u001b[0m\u001b[0;34m=\u001b[0m\u001b[0myaml\u001b[0m\u001b[0;34m.\u001b[0m\u001b[0mFullLoader\u001b[0m\u001b[0;34m)\u001b[0m\u001b[0;34m\u001b[0m\u001b[0;34m\u001b[0m\u001b[0m\n\u001b[0m\u001b[1;32m     45\u001b[0m     \u001b[0mrospy\u001b[0m\u001b[0;34m.\u001b[0m\u001b[0mlogerr\u001b[0m\u001b[0;34m(\u001b[0m\u001b[0;34mf\"{file_name} does not exist\"\u001b[0m\u001b[0;34m)\u001b[0m\u001b[0;34m\u001b[0m\u001b[0;34m\u001b[0m\u001b[0m\n\u001b[1;32m     46\u001b[0m \u001b[0;34m\u001b[0m\u001b[0m\n",
      "\u001b[0;32m~/anaconda3/envs/hrr/lib/python3.8/site-packages/yaml/__init__.py\u001b[0m in \u001b[0;36mload\u001b[0;34m(stream, Loader)\u001b[0m\n\u001b[1;32m     79\u001b[0m     \u001b[0mloader\u001b[0m \u001b[0;34m=\u001b[0m \u001b[0mLoader\u001b[0m\u001b[0;34m(\u001b[0m\u001b[0mstream\u001b[0m\u001b[0;34m)\u001b[0m\u001b[0;34m\u001b[0m\u001b[0;34m\u001b[0m\u001b[0m\n\u001b[1;32m     80\u001b[0m     \u001b[0;32mtry\u001b[0m\u001b[0;34m:\u001b[0m\u001b[0;34m\u001b[0m\u001b[0;34m\u001b[0m\u001b[0m\n\u001b[0;32m---> 81\u001b[0;31m         \u001b[0;32mreturn\u001b[0m \u001b[0mloader\u001b[0m\u001b[0;34m.\u001b[0m\u001b[0mget_single_data\u001b[0m\u001b[0;34m(\u001b[0m\u001b[0;34m)\u001b[0m\u001b[0;34m\u001b[0m\u001b[0;34m\u001b[0m\u001b[0m\n\u001b[0m\u001b[1;32m     82\u001b[0m     \u001b[0;32mfinally\u001b[0m\u001b[0;34m:\u001b[0m\u001b[0;34m\u001b[0m\u001b[0;34m\u001b[0m\u001b[0m\n\u001b[1;32m     83\u001b[0m         \u001b[0mloader\u001b[0m\u001b[0;34m.\u001b[0m\u001b[0mdispose\u001b[0m\u001b[0;34m(\u001b[0m\u001b[0;34m)\u001b[0m\u001b[0;34m\u001b[0m\u001b[0;34m\u001b[0m\u001b[0m\n",
      "\u001b[0;32m~/anaconda3/envs/hrr/lib/python3.8/site-packages/yaml/constructor.py\u001b[0m in \u001b[0;36mget_single_data\u001b[0;34m(self)\u001b[0m\n\u001b[1;32m     49\u001b[0m         \u001b[0mnode\u001b[0m \u001b[0;34m=\u001b[0m \u001b[0mself\u001b[0m\u001b[0;34m.\u001b[0m\u001b[0mget_single_node\u001b[0m\u001b[0;34m(\u001b[0m\u001b[0;34m)\u001b[0m\u001b[0;34m\u001b[0m\u001b[0;34m\u001b[0m\u001b[0m\n\u001b[1;32m     50\u001b[0m         \u001b[0;32mif\u001b[0m \u001b[0mnode\u001b[0m \u001b[0;32mis\u001b[0m \u001b[0;32mnot\u001b[0m \u001b[0;32mNone\u001b[0m\u001b[0;34m:\u001b[0m\u001b[0;34m\u001b[0m\u001b[0;34m\u001b[0m\u001b[0m\n\u001b[0;32m---> 51\u001b[0;31m             \u001b[0;32mreturn\u001b[0m \u001b[0mself\u001b[0m\u001b[0;34m.\u001b[0m\u001b[0mconstruct_document\u001b[0m\u001b[0;34m(\u001b[0m\u001b[0mnode\u001b[0m\u001b[0;34m)\u001b[0m\u001b[0;34m\u001b[0m\u001b[0;34m\u001b[0m\u001b[0m\n\u001b[0m\u001b[1;32m     52\u001b[0m         \u001b[0;32mreturn\u001b[0m \u001b[0;32mNone\u001b[0m\u001b[0;34m\u001b[0m\u001b[0;34m\u001b[0m\u001b[0m\n\u001b[1;32m     53\u001b[0m \u001b[0;34m\u001b[0m\u001b[0m\n",
      "\u001b[0;32m~/anaconda3/envs/hrr/lib/python3.8/site-packages/yaml/constructor.py\u001b[0m in \u001b[0;36mconstruct_document\u001b[0;34m(self, node)\u001b[0m\n\u001b[1;32m     58\u001b[0m             \u001b[0mself\u001b[0m\u001b[0;34m.\u001b[0m\u001b[0mstate_generators\u001b[0m \u001b[0;34m=\u001b[0m \u001b[0;34m[\u001b[0m\u001b[0;34m]\u001b[0m\u001b[0;34m\u001b[0m\u001b[0;34m\u001b[0m\u001b[0m\n\u001b[1;32m     59\u001b[0m             \u001b[0;32mfor\u001b[0m \u001b[0mgenerator\u001b[0m \u001b[0;32min\u001b[0m \u001b[0mstate_generators\u001b[0m\u001b[0;34m:\u001b[0m\u001b[0;34m\u001b[0m\u001b[0;34m\u001b[0m\u001b[0m\n\u001b[0;32m---> 60\u001b[0;31m                 \u001b[0;32mfor\u001b[0m \u001b[0mdummy\u001b[0m \u001b[0;32min\u001b[0m \u001b[0mgenerator\u001b[0m\u001b[0;34m:\u001b[0m\u001b[0;34m\u001b[0m\u001b[0;34m\u001b[0m\u001b[0m\n\u001b[0m\u001b[1;32m     61\u001b[0m                     \u001b[0;32mpass\u001b[0m\u001b[0;34m\u001b[0m\u001b[0;34m\u001b[0m\u001b[0m\n\u001b[1;32m     62\u001b[0m         \u001b[0mself\u001b[0m\u001b[0;34m.\u001b[0m\u001b[0mconstructed_objects\u001b[0m \u001b[0;34m=\u001b[0m \u001b[0;34m{\u001b[0m\u001b[0;34m}\u001b[0m\u001b[0;34m\u001b[0m\u001b[0;34m\u001b[0m\u001b[0m\n",
      "\u001b[0;32m~/anaconda3/envs/hrr/lib/python3.8/site-packages/yaml/constructor.py\u001b[0m in \u001b[0;36mconstruct_yaml_map\u001b[0;34m(self, node)\u001b[0m\n\u001b[1;32m    411\u001b[0m         \u001b[0mdata\u001b[0m \u001b[0;34m=\u001b[0m \u001b[0;34m{\u001b[0m\u001b[0;34m}\u001b[0m\u001b[0;34m\u001b[0m\u001b[0;34m\u001b[0m\u001b[0m\n\u001b[1;32m    412\u001b[0m         \u001b[0;32myield\u001b[0m \u001b[0mdata\u001b[0m\u001b[0;34m\u001b[0m\u001b[0;34m\u001b[0m\u001b[0m\n\u001b[0;32m--> 413\u001b[0;31m         \u001b[0mvalue\u001b[0m \u001b[0;34m=\u001b[0m \u001b[0mself\u001b[0m\u001b[0;34m.\u001b[0m\u001b[0mconstruct_mapping\u001b[0m\u001b[0;34m(\u001b[0m\u001b[0mnode\u001b[0m\u001b[0;34m)\u001b[0m\u001b[0;34m\u001b[0m\u001b[0;34m\u001b[0m\u001b[0m\n\u001b[0m\u001b[1;32m    414\u001b[0m         \u001b[0mdata\u001b[0m\u001b[0;34m.\u001b[0m\u001b[0mupdate\u001b[0m\u001b[0;34m(\u001b[0m\u001b[0mvalue\u001b[0m\u001b[0;34m)\u001b[0m\u001b[0;34m\u001b[0m\u001b[0;34m\u001b[0m\u001b[0m\n\u001b[1;32m    415\u001b[0m \u001b[0;34m\u001b[0m\u001b[0m\n",
      "\u001b[0;32m~/anaconda3/envs/hrr/lib/python3.8/site-packages/yaml/constructor.py\u001b[0m in \u001b[0;36mconstruct_mapping\u001b[0;34m(self, node, deep)\u001b[0m\n\u001b[1;32m    216\u001b[0m         \u001b[0;32mif\u001b[0m \u001b[0misinstance\u001b[0m\u001b[0;34m(\u001b[0m\u001b[0mnode\u001b[0m\u001b[0;34m,\u001b[0m \u001b[0mMappingNode\u001b[0m\u001b[0;34m)\u001b[0m\u001b[0;34m:\u001b[0m\u001b[0;34m\u001b[0m\u001b[0;34m\u001b[0m\u001b[0m\n\u001b[1;32m    217\u001b[0m             \u001b[0mself\u001b[0m\u001b[0;34m.\u001b[0m\u001b[0mflatten_mapping\u001b[0m\u001b[0;34m(\u001b[0m\u001b[0mnode\u001b[0m\u001b[0;34m)\u001b[0m\u001b[0;34m\u001b[0m\u001b[0;34m\u001b[0m\u001b[0m\n\u001b[0;32m--> 218\u001b[0;31m         \u001b[0;32mreturn\u001b[0m \u001b[0msuper\u001b[0m\u001b[0;34m(\u001b[0m\u001b[0;34m)\u001b[0m\u001b[0;34m.\u001b[0m\u001b[0mconstruct_mapping\u001b[0m\u001b[0;34m(\u001b[0m\u001b[0mnode\u001b[0m\u001b[0;34m,\u001b[0m \u001b[0mdeep\u001b[0m\u001b[0;34m=\u001b[0m\u001b[0mdeep\u001b[0m\u001b[0;34m)\u001b[0m\u001b[0;34m\u001b[0m\u001b[0;34m\u001b[0m\u001b[0m\n\u001b[0m\u001b[1;32m    219\u001b[0m \u001b[0;34m\u001b[0m\u001b[0m\n\u001b[1;32m    220\u001b[0m     \u001b[0;32mdef\u001b[0m \u001b[0mconstruct_yaml_null\u001b[0m\u001b[0;34m(\u001b[0m\u001b[0mself\u001b[0m\u001b[0;34m,\u001b[0m \u001b[0mnode\u001b[0m\u001b[0;34m)\u001b[0m\u001b[0;34m:\u001b[0m\u001b[0;34m\u001b[0m\u001b[0;34m\u001b[0m\u001b[0m\n",
      "\u001b[0;32m~/anaconda3/envs/hrr/lib/python3.8/site-packages/yaml/constructor.py\u001b[0m in \u001b[0;36mconstruct_mapping\u001b[0;34m(self, node, deep)\u001b[0m\n\u001b[1;32m    141\u001b[0m                 raise ConstructorError(\"while constructing a mapping\", node.start_mark,\n\u001b[1;32m    142\u001b[0m                         \"found unhashable key\", key_node.start_mark)\n\u001b[0;32m--> 143\u001b[0;31m             \u001b[0mvalue\u001b[0m \u001b[0;34m=\u001b[0m \u001b[0mself\u001b[0m\u001b[0;34m.\u001b[0m\u001b[0mconstruct_object\u001b[0m\u001b[0;34m(\u001b[0m\u001b[0mvalue_node\u001b[0m\u001b[0;34m,\u001b[0m \u001b[0mdeep\u001b[0m\u001b[0;34m=\u001b[0m\u001b[0mdeep\u001b[0m\u001b[0;34m)\u001b[0m\u001b[0;34m\u001b[0m\u001b[0;34m\u001b[0m\u001b[0m\n\u001b[0m\u001b[1;32m    144\u001b[0m             \u001b[0mmapping\u001b[0m\u001b[0;34m[\u001b[0m\u001b[0mkey\u001b[0m\u001b[0;34m]\u001b[0m \u001b[0;34m=\u001b[0m \u001b[0mvalue\u001b[0m\u001b[0;34m\u001b[0m\u001b[0;34m\u001b[0m\u001b[0m\n\u001b[1;32m    145\u001b[0m         \u001b[0;32mreturn\u001b[0m \u001b[0mmapping\u001b[0m\u001b[0;34m\u001b[0m\u001b[0;34m\u001b[0m\u001b[0m\n",
      "\u001b[0;32m~/anaconda3/envs/hrr/lib/python3.8/site-packages/yaml/constructor.py\u001b[0m in \u001b[0;36mconstruct_object\u001b[0;34m(self, node, deep)\u001b[0m\n\u001b[1;32m     98\u001b[0m                     \u001b[0mconstructor\u001b[0m \u001b[0;34m=\u001b[0m \u001b[0mself\u001b[0m\u001b[0;34m.\u001b[0m\u001b[0m__class__\u001b[0m\u001b[0;34m.\u001b[0m\u001b[0mconstruct_mapping\u001b[0m\u001b[0;34m\u001b[0m\u001b[0;34m\u001b[0m\u001b[0m\n\u001b[1;32m     99\u001b[0m         \u001b[0;32mif\u001b[0m \u001b[0mtag_suffix\u001b[0m \u001b[0;32mis\u001b[0m \u001b[0;32mNone\u001b[0m\u001b[0;34m:\u001b[0m\u001b[0;34m\u001b[0m\u001b[0;34m\u001b[0m\u001b[0m\n\u001b[0;32m--> 100\u001b[0;31m             \u001b[0mdata\u001b[0m \u001b[0;34m=\u001b[0m \u001b[0mconstructor\u001b[0m\u001b[0;34m(\u001b[0m\u001b[0mself\u001b[0m\u001b[0;34m,\u001b[0m \u001b[0mnode\u001b[0m\u001b[0;34m)\u001b[0m\u001b[0;34m\u001b[0m\u001b[0;34m\u001b[0m\u001b[0m\n\u001b[0m\u001b[1;32m    101\u001b[0m         \u001b[0;32melse\u001b[0m\u001b[0;34m:\u001b[0m\u001b[0;34m\u001b[0m\u001b[0;34m\u001b[0m\u001b[0m\n\u001b[1;32m    102\u001b[0m             \u001b[0mdata\u001b[0m \u001b[0;34m=\u001b[0m \u001b[0mconstructor\u001b[0m\u001b[0;34m(\u001b[0m\u001b[0mself\u001b[0m\u001b[0;34m,\u001b[0m \u001b[0mtag_suffix\u001b[0m\u001b[0;34m,\u001b[0m \u001b[0mnode\u001b[0m\u001b[0;34m)\u001b[0m\u001b[0;34m\u001b[0m\u001b[0;34m\u001b[0m\u001b[0m\n",
      "\u001b[0;32m~/anaconda3/envs/hrr/lib/python3.8/site-packages/yaml/constructor.py\u001b[0m in \u001b[0;36mconstruct_undefined\u001b[0;34m(self, node)\u001b[0m\n\u001b[1;32m    425\u001b[0m \u001b[0;34m\u001b[0m\u001b[0m\n\u001b[1;32m    426\u001b[0m     \u001b[0;32mdef\u001b[0m \u001b[0mconstruct_undefined\u001b[0m\u001b[0;34m(\u001b[0m\u001b[0mself\u001b[0m\u001b[0;34m,\u001b[0m \u001b[0mnode\u001b[0m\u001b[0;34m)\u001b[0m\u001b[0;34m:\u001b[0m\u001b[0;34m\u001b[0m\u001b[0;34m\u001b[0m\u001b[0m\n\u001b[0;32m--> 427\u001b[0;31m         raise ConstructorError(None, None,\n\u001b[0m\u001b[1;32m    428\u001b[0m                 \u001b[0;34m\"could not determine a constructor for the tag %r\"\u001b[0m \u001b[0;34m%\u001b[0m \u001b[0mnode\u001b[0m\u001b[0;34m.\u001b[0m\u001b[0mtag\u001b[0m\u001b[0;34m,\u001b[0m\u001b[0;34m\u001b[0m\u001b[0;34m\u001b[0m\u001b[0m\n\u001b[1;32m    429\u001b[0m                 node.start_mark)\n",
      "\u001b[0;31mConstructorError\u001b[0m: could not determine a constructor for the tag 'tag:yaml.org,2002:python/object/new:geometry_msgs.msg._Vector3Stamped.Vector3Stamped'\n  in \"/home/schrottgott/_fake_ros/cutting_old.yaml\", line 2, column 15"
     ]
    }
   ],
   "source": [
    "from hr_recycler_msgs.msg import CuttingGoal\n",
    "read_yaml('/home/schrottgott/_fake_ros/cutting_old.yaml')\n",
    "read_msg(CuttingGoal(), '/home/schrottgott/_fake_ros/cut2.yaml')"
   ]
  },
  {
   "cell_type": "code",
   "execution_count": 35,
   "id": "cb195b74",
   "metadata": {},
   "outputs": [],
   "source": [
    "msg = CuttingGoal()\n",
    "data = msg_to_dict(msg, dict())\n",
    "tmp_file = \"/home/schrottgott/_fake_ros/cut2.yaml\"\n",
    "with open(tmp_file, 'w') as file:\n",
    "    yaml.dump(data, file)"
   ]
  },
  {
   "cell_type": "code",
   "execution_count": 43,
   "id": "31e9fc8b",
   "metadata": {},
   "outputs": [],
   "source": [
    "cdata = pathlib.Path('/home/schrottgott/_fake_ros/cutting_old.yaml')\n",
    "ldata = cdata.read_text().split('\\n')"
   ]
  },
  {
   "cell_type": "code",
   "execution_count": 45,
   "id": "1e4e4144",
   "metadata": {},
   "outputs": [
    {
     "data": {
      "text/plain": [
       "<re.Match object; span=(14, 82), match='!!python/object/new:geometry_msgs.msg._Vector3Sta>"
      ]
     },
     "execution_count": 45,
     "metadata": {},
     "output_type": "execute_result"
    }
   ],
   "source": [
    "import re\n",
    "re.search(\"!!.*\", ldata[1])"
   ]
  },
  {
   "cell_type": "code",
   "execution_count": null,
   "id": "5e547b93",
   "metadata": {},
   "outputs": [],
   "source": []
  }
 ],
 "metadata": {
  "kernelspec": {
   "display_name": "Python 3 (ipykernel)",
   "language": "python",
   "name": "python3"
  },
  "language_info": {
   "codemirror_mode": {
    "name": "ipython",
    "version": 3
   },
   "file_extension": ".py",
   "mimetype": "text/x-python",
   "name": "python",
   "nbconvert_exporter": "python",
   "pygments_lexer": "ipython3",
   "version": "3.8.12"
  }
 },
 "nbformat": 4,
 "nbformat_minor": 5
}
