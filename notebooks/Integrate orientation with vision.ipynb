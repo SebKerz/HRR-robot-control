{
 "cells": [
  {
   "cell_type": "code",
   "execution_count": 1,
   "id": "neither-mechanism",
   "metadata": {},
   "outputs": [],
   "source": [
    "import numpy as np\n",
    "import spatialmath as sm\n",
    "import quaternion\n",
    "import hrr_common\n",
    "import rospy\n",
    "from geometry_msgs.msg import PoseStamped\n",
    "def get_SE3_from_pose_stamped(msg):\n",
    "    p = hrr_common.vec32np(msg.pose.position)\n",
    "    q = hrr_common.quat2np(msg.pose.orientation)\n",
    "    return hrr_common.posquat2homog(p, q)"
   ]
  },
  {
   "cell_type": "markdown",
   "id": "aggregate-fortune",
   "metadata": {},
   "source": [
    "### Vision input"
   ]
  },
  {
   "cell_type": "code",
   "execution_count": null,
   "id": "1751b48d",
   "metadata": {},
   "outputs": [],
   "source": [
    "cobot.T_B_E_robot"
   ]
  },
  {
   "cell_type": "code",
   "execution_count": 44,
   "id": "cloudy-discrimination",
   "metadata": {},
   "outputs": [
    {
     "data": {
      "text/plain": [
       "quaternion(0.20924, -0.071122, -0.72064, 0.657136)"
      ]
     },
     "execution_count": 44,
     "metadata": {},
     "output_type": "execute_result"
    }
   ],
   "source": [
    "obj_pos_guess = np.r_[0.50 ,0, 0.45]\n",
    "obj_orient_guess = np.quaternion(0.20924,-0.071122,-0.72064, 0.657136) #w x y z\n",
    "obj_orient_guess "
   ]
  },
  {
   "cell_type": "code",
   "execution_count": 49,
   "id": "947733f3",
   "metadata": {},
   "outputs": [
    {
     "data": {
      "text/plain": [
       "array([[0., 1., 0.],\n",
       "       [0., 0., 1.],\n",
       "       [1., 0., 0.]])"
      ]
     },
     "execution_count": 49,
     "metadata": {},
     "output_type": "execute_result"
    }
   ],
   "source": [
    "a_test = np.zeros([3,3])\n",
    "a_test[:,0] = np.r_[0,0,1]\n",
    "a_test[:,1] = np.r_[1,0,0]\n",
    "a_test[:,2] = np.cross(a_test[:,0], a_test[:,1])\n",
    "a_test"
   ]
  },
  {
   "cell_type": "code",
   "execution_count": null,
   "id": "83310920",
   "metadata": {},
   "outputs": [],
   "source": [
    "a_test = np.zeros([3,3])\n",
    "a_test[:,0] = np.r_[0,0,1]\n",
    "a_test[:,2] = -np.r_[0,1,0]\n",
    "a_test[:,1] = np.cross(a_test[:,2], a_test[:,0])\n",
    "a_test"
   ]
  },
  {
   "cell_type": "code",
   "execution_count": 39,
   "id": "756d0502",
   "metadata": {},
   "outputs": [
    {
     "data": {
      "text/plain": [
       "quaternion(-0.5, 0.5, 0.5, 0.5)"
      ]
     },
     "execution_count": 39,
     "metadata": {},
     "output_type": "execute_result"
    }
   ],
   "source": [
    "obj_orient_guess =  quaternion.from_rotation_matrix(a_test)\n",
    "obj_orient_guess "
   ]
  },
  {
   "cell_type": "markdown",
   "id": "bf21cc30",
   "metadata": {},
   "source": [
    "### Hardcode precise vision input"
   ]
  },
  {
   "cell_type": "code",
   "execution_count": null,
   "id": "7d524dde",
   "metadata": {},
   "outputs": [],
   "source": [
    "a_test"
   ]
  },
  {
   "cell_type": "code",
   "execution_count": null,
   "id": "52eb9647",
   "metadata": {},
   "outputs": [],
   "source": [
    "#Get the rotation matrix for the object: x axis points up to z\n",
    "a = sm.SE3()\n",
    "a = a @ sm.SE3.Ry(np.deg2rad(-90))\n",
    "a.t[0:3] = obj_pos_guess\n",
    "a"
   ]
  },
  {
   "cell_type": "code",
   "execution_count": null,
   "id": "e89b8ad8",
   "metadata": {},
   "outputs": [],
   "source": [
    "#If wanted, turn the object 90 degrees (this will affect last link of robot, turned by 90 degrees)\n",
    "a = a @ sm.SE3.Rx(np.deg2rad(90))"
   ]
  },
  {
   "cell_type": "code",
   "execution_count": null,
   "id": "2baf216d",
   "metadata": {},
   "outputs": [],
   "source": [
    "a"
   ]
  },
  {
   "cell_type": "code",
   "execution_count": null,
   "id": "879d05ef",
   "metadata": {},
   "outputs": [],
   "source": [
    "np.zeros([3,3])"
   ]
  },
  {
   "cell_type": "code",
   "execution_count": null,
   "id": "338b58d8",
   "metadata": {},
   "outputs": [],
   "source": [
    "a.R[:,0]"
   ]
  },
  {
   "cell_type": "code",
   "execution_count": null,
   "id": "49561354",
   "metadata": {},
   "outputs": [],
   "source": [
    "#Save as quaternion, this is what vision needs to give us\n",
    "obj_orient_guess =  quaternion.from_rotation_matrix(a.R)\n",
    "obj_orient_guess "
   ]
  },
  {
   "cell_type": "markdown",
   "id": "suspended-contemporary",
   "metadata": {},
   "source": [
    "### Get it as SE3 (from vacuum grasping skill)"
   ]
  },
  {
   "cell_type": "code",
   "execution_count": 45,
   "id": "assisted-pottery",
   "metadata": {},
   "outputs": [
    {
     "data": {
      "text/plain": [
       "  \u001b[38;5;1m-0.9023  \u001b[0m \u001b[38;5;1m-0.1725  \u001b[0m \u001b[38;5;1m-0.3951  \u001b[0m \u001b[38;5;4m 0.5     \u001b[0m  \u001b[0m\n",
       "  \u001b[38;5;1m 0.3775  \u001b[0m \u001b[38;5;1m 0.1262  \u001b[0m \u001b[38;5;1m-0.9174  \u001b[0m \u001b[38;5;4m 0       \u001b[0m  \u001b[0m\n",
       "  \u001b[38;5;1m 0.2081  \u001b[0m \u001b[38;5;1m-0.9769  \u001b[0m \u001b[38;5;1m-0.04877 \u001b[0m \u001b[38;5;4m 0.45    \u001b[0m  \u001b[0m\n",
       "  \u001b[38;5;244m 0       \u001b[0m \u001b[38;5;244m 0       \u001b[0m \u001b[38;5;244m 0       \u001b[0m \u001b[38;5;244m 1       \u001b[0m  \u001b[0m\n"
      ]
     },
     "execution_count": 45,
     "metadata": {},
     "output_type": "execute_result"
    }
   ],
   "source": [
    "poseSt = PoseStamped()\n",
    "poseSt.header.frame_id = \"hrr_cobot.base_link\"\n",
    "poseSt.pose.position = hrr_common.ros_utils.np2vec3(obj_pos_guess)\n",
    "poseSt.pose.orientation = hrr_common.ros_utils.np2quat(obj_orient_guess)\n",
    "object_center = get_SE3_from_pose_stamped(poseSt)\n",
    "object_center"
   ]
  },
  {
   "cell_type": "markdown",
   "id": "delayed-preview",
   "metadata": {},
   "source": [
    "### First column (x-Axis of the object) is the normal vector of the surface, it should point upwards"
   ]
  },
  {
   "cell_type": "code",
   "execution_count": 46,
   "id": "flexible-miracle",
   "metadata": {},
   "outputs": [
    {
     "data": {
      "text/plain": [
       "array([-0.90231954,  0.37750897,  0.20810197])"
      ]
     },
     "execution_count": 46,
     "metadata": {},
     "output_type": "execute_result"
    }
   ],
   "source": [
    "nvec = object_center.A[:3, 0]\n",
    "nvec"
   ]
  },
  {
   "cell_type": "markdown",
   "id": "recognized-license",
   "metadata": {},
   "source": [
    "The end effector will point in the opposite direction of the normal vector. All that is left is how to turn the last link"
   ]
  },
  {
   "cell_type": "markdown",
   "id": "british-alignment",
   "metadata": {},
   "source": [
    "### The second or third column (y or z-Axis of the object) will match the direction from cup to cup\n",
    "The following computes end effector pose such that the middle of the vacuum is at the object_center. The y-axis of the object is used to set orientation of the last link."
   ]
  },
  {
   "cell_type": "code",
   "execution_count": 50,
   "id": "assisted-latter",
   "metadata": {},
   "outputs": [
    {
     "data": {
      "text/plain": [
       "  \u001b[38;5;1m 0.3951  \u001b[0m \u001b[38;5;1m 0.1725  \u001b[0m \u001b[38;5;1m 0.9023  \u001b[0m \u001b[38;5;4m 0.3194  \u001b[0m  \u001b[0m\n",
       "  \u001b[38;5;1m 0.9174  \u001b[0m \u001b[38;5;1m-0.1262  \u001b[0m \u001b[38;5;1m-0.3775  \u001b[0m \u001b[38;5;4m 0.07557 \u001b[0m  \u001b[0m\n",
       "  \u001b[38;5;1m 0.04877 \u001b[0m \u001b[38;5;1m 0.9769  \u001b[0m \u001b[38;5;1m-0.2081  \u001b[0m \u001b[38;5;4m 0.4917  \u001b[0m  \u001b[0m\n",
       "  \u001b[38;5;244m 0       \u001b[0m \u001b[38;5;244m 0       \u001b[0m \u001b[38;5;244m 0       \u001b[0m \u001b[38;5;244m 1       \u001b[0m  \u001b[0m\n"
      ]
     },
     "execution_count": 50,
     "metadata": {},
     "output_type": "execute_result"
    }
   ],
   "source": [
    "grasp_pose_EE = hrr_common.utils.calc_goal_pose(nvec, object_center.t, y_axis=-object_center.A[:3, 1])\n",
    "ee2tip = np.r_[0, 0, 0.20018]\n",
    "grasp_pose = grasp_pose_EE  @ sm.SE3(-ee2tip)\n",
    "grasp_pose"
   ]
  },
  {
   "cell_type": "code",
   "execution_count": 14,
   "id": "8eaa59ae",
   "metadata": {},
   "outputs": [],
   "source": [
    "cobot.goTo(grasp_pose, v_max=0.01)"
   ]
  },
  {
   "cell_type": "code",
   "execution_count": 47,
   "id": "f579b708",
   "metadata": {},
   "outputs": [
    {
     "data": {
      "text/plain": [
       "  \u001b[38;5;1m-0.1725  \u001b[0m \u001b[38;5;1m 0.3951  \u001b[0m \u001b[38;5;1m 0.9023  \u001b[0m \u001b[38;5;4m 0.3194  \u001b[0m  \u001b[0m\n",
       "  \u001b[38;5;1m 0.1262  \u001b[0m \u001b[38;5;1m 0.9174  \u001b[0m \u001b[38;5;1m-0.3775  \u001b[0m \u001b[38;5;4m 0.07557 \u001b[0m  \u001b[0m\n",
       "  \u001b[38;5;1m-0.9769  \u001b[0m \u001b[38;5;1m 0.04877 \u001b[0m \u001b[38;5;1m-0.2081  \u001b[0m \u001b[38;5;4m 0.4917  \u001b[0m  \u001b[0m\n",
       "  \u001b[38;5;244m 0       \u001b[0m \u001b[38;5;244m 0       \u001b[0m \u001b[38;5;244m 0       \u001b[0m \u001b[38;5;244m 1       \u001b[0m  \u001b[0m\n"
      ]
     },
     "execution_count": 47,
     "metadata": {},
     "output_type": "execute_result"
    }
   ],
   "source": [
    "grasp_pose_EE = hrr_common.utils.calc_goal_pose(nvec, object_center.t, y_axis=-object_center.A[:3, 2])\n",
    "ee2tip = np.r_[0, 0, 0.20018]\n",
    "grasp_pose = grasp_pose_EE  @ sm.SE3(-ee2tip)\n",
    "grasp_pose"
   ]
  },
  {
   "cell_type": "code",
   "execution_count": 48,
   "id": "f1f52278",
   "metadata": {},
   "outputs": [
    {
     "name": "stderr",
     "output_type": "stream",
     "text": [
      "[rosout] joint(s) [3] are/is critical.\n",
      "[rosout] joint(s) [3] are/is critical.\n",
      "[rosout] joint(s) [3] are/is critical.\n",
      "[rosout] joint(s) [3] are/is critical.\n",
      "[rosout] joint(s) [3] are/is critical.\n",
      "[rosout] joint(s) [3] are/is critical.\n",
      "[rosout] joint(s) [3] are/is critical.\n",
      "[rosout] joint(s) [3] are/is critical.\n",
      "[rosout] joint(s) [3] are/is critical.\n",
      "[rosout] joint(s) [3] are/is critical.\n",
      "[rosout] joint(s) [3] are/is critical.\n",
      "[rosout] joint(s) [3] are/is critical.\n",
      "[rosout] joint(s) [3] are/is critical.\n",
      "[rosout] joint(s) [3] are/is critical.\n",
      "[rosout] joint(s) [3] are/is critical.\n",
      "[rosout] joint(s) [3] are/is critical.\n",
      "[rosout] joint(s) [3] are/is critical.\n",
      "[rosout] joint(s) [3] are/is critical.\n",
      "[rosout] joint(s) [3] are/is critical.\n",
      "[rosout] joint(s) [3] are/is critical.\n",
      "[rosout] joint(s) [3] are/is critical.\n",
      "[rosout] joint(s) [3] are/is critical.\n",
      "[rosout] joint(s) [3] are/is critical.\n",
      "[rosout] joint(s) [3] are/is critical.\n",
      "[rosout] joint(s) [3] are/is critical.\n",
      "[rosout] joint(s) [3] are/is critical.\n",
      "[rosout] joint(s) [3] are/is critical.\n",
      "[rosout] joint(s) [3] are/is critical.\n"
     ]
    }
   ],
   "source": [
    "cobot.goTo(grasp_pose, v_max=0.01)"
   ]
  },
  {
   "cell_type": "code",
   "execution_count": null,
   "id": "7107d94c",
   "metadata": {},
   "outputs": [],
   "source": [
    "#Compare\n",
    "cobot.FK(cobot.q_calib), cobot.T_B_E_robot"
   ]
  },
  {
   "cell_type": "code",
   "execution_count": null,
   "id": "064664da",
   "metadata": {
    "scrolled": true
   },
   "outputs": [],
   "source": [
    "cobot.FK(cobot.q_calib), cobot.FK(cobot.q_calib) @ sm.SE3.Rz(np.deg2rad(90)), cobot.FK(cobot.q_calib) @ sm.SE3.Rx(np.deg2rad(90))"
   ]
  },
  {
   "cell_type": "markdown",
   "id": "welsh-spanish",
   "metadata": {},
   "source": [
    "### Test"
   ]
  },
  {
   "cell_type": "code",
   "execution_count": 13,
   "id": "acoustic-gnome",
   "metadata": {},
   "outputs": [
    {
     "name": "stdout",
     "output_type": "stream",
     "text": [
      "[rosout] [/Orientation_tester_notebook] Initialize MATLAB-Motion planner @ /home/hrr_cobot/_ros/hr_recycler_ws/src/planner/src\n",
      "[rosout] [/Orientation_tester_notebook] connected to Matlab\n",
      "Shutting down global node /matlab_global_node_08837 with NodeURI http://192.168.2.87:43353/\n",
      "The value of the ROS_IP environment variable, 192.168.2.87, will be used to set the advertised address for the ROS node.\n",
      "Initializing global node /matlab_global_node_28182 with NodeURI http://192.168.2.87:40551/\n",
      "[rosout] [/Orientation_tester_notebook] MATLAB-Initialization done\n"
     ]
    },
    {
     "name": "stderr",
     "output_type": "stream",
     "text": [
      "pybullet build time: May  8 2021 05:48:13\n"
     ]
    },
    {
     "name": "stdout",
     "output_type": "stream",
     "text": [
      "[rosout] some functions are not yet compiled. Expect delays upon first call\n"
     ]
    }
   ],
   "source": [
    "rospy.init_node('Orientation_tester_notebook')\n",
    "import hrr_cobot_robot as hrr_rob\n",
    "cobot = hrr_rob.HrrCobotControl.from_ros(\"/hrr_cobot\")"
   ]
  },
  {
   "cell_type": "code",
   "execution_count": 51,
   "id": "da659e07",
   "metadata": {},
   "outputs": [],
   "source": [
    "cobot.move_to_joint_pose(cobot.q_calib, stochastic=False)"
   ]
  },
  {
   "cell_type": "code",
   "execution_count": null,
   "id": "devoted-premiere",
   "metadata": {
    "scrolled": true
   },
   "outputs": [],
   "source": [
    "cobot.goTo(grasp_pose, v_max=0.01)"
   ]
  },
  {
   "cell_type": "code",
   "execution_count": null,
   "id": "587475d8",
   "metadata": {},
   "outputs": [],
   "source": [
    "cobot.goTo(cobot.FK(cobot.q_calib) @ sm.SE3.Rx(np.deg2rad(90)),v_max=0.01)"
   ]
  },
  {
   "cell_type": "markdown",
   "id": "effective-contribution",
   "metadata": {},
   "source": [
    "### Tell Dimitris to adjust orientations appropriately\n",
    "In our lab we had object y-axis (or z-axis, whatever aligns with the cups) always parallel to base y-axis, except for middle cover where we turn 90 degrees"
   ]
  },
  {
   "cell_type": "code",
   "execution_count": null,
   "id": "cf44dd7c",
   "metadata": {},
   "outputs": [],
   "source": [
    "#To test turning 90 degrees, rotate object frame quaternions around x-axis (which is the one pointing up)\n",
    "obj_orient_guess = quaternion.from_rotation_matrix(quaternion.as_rotation_matrix(obj_orient_guess) @ sm.SE3.Rx(np.deg2rad(90)).R)\n",
    "obj_orient_guess"
   ]
  },
  {
   "cell_type": "code",
   "execution_count": null,
   "id": "71c82bb0",
   "metadata": {},
   "outputs": [],
   "source": [
    "a, a @ sm.SE3.Rx(np.deg2rad(90)), a @ sm.SE3.Rx(np.deg2rad(-90))"
   ]
  }
 ],
 "metadata": {
  "kernelspec": {
   "display_name": "Python 3 (ipykernel)",
   "language": "python",
   "name": "python3"
  },
  "language_info": {
   "codemirror_mode": {
    "name": "ipython",
    "version": 3
   },
   "file_extension": ".py",
   "mimetype": "text/x-python",
   "name": "python",
   "nbconvert_exporter": "python",
   "pygments_lexer": "ipython3",
   "version": "3.8.12"
  }
 },
 "nbformat": 4,
 "nbformat_minor": 5
}
