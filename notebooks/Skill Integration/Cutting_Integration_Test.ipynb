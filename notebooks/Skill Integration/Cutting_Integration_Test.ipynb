{
 "cells": [
  {
   "cell_type": "markdown",
   "id": "e2cd68c7",
   "metadata": {},
   "source": [
    "# Integration of Cutting"
   ]
  },
  {
   "cell_type": "markdown",
   "id": "45fbb85f",
   "metadata": {},
   "source": [
    "## How to start grinder"
   ]
  },
  {
   "cell_type": "markdown",
   "id": "7b3f400a",
   "metadata": {},
   "source": [
    "0. mount shaftgrinder and cutter (Fräser) s.t. 6cm of cutter are visible\n",
    "1. checkout branch 17-cutting-merge\n",
    "2. catkin build your ws\n",
    "3. connect arduino to your laptop and to 24 V (if Arduino is broken, see instructions below) \n",
    "4. connect shaftgrinder to 230 V and 24 V\n",
    "5. ssh to robot PC\n",
    "~~~\n",
    " roslaunch hrr_cobot_robot hrr_cobot_hw.launch use_rviz:=false tool_name:=\"shaftgrinder\"\n",
    "~~~\n",
    "6. start arduino node\n",
    "~~~\n",
    "roslaunch hrr_ee_tools tool_controller.launch\n",
    "~~~\n",
    "(you should hear the valve)\n",
    "7. walk through notebook"
   ]
  },
  {
   "cell_type": "code",
   "execution_count": 15,
   "id": "97d5db05",
   "metadata": {},
   "outputs": [],
   "source": [
    "# packages needed for this tutorial\n",
    "from pathlib import Path\n",
    "# math and robotics\n",
    "import numpy as np\n",
    "import quaternion\n",
    "from tqdm.notebook import tqdm, trange\n",
    "import spatialmath as sm\n",
    "\n",
    "# plotting \n",
    "import seaborn as sns\n",
    "import matplotlib as mpl\n",
    "import matplotlib.pylab as plt\n",
    "\n",
    "# simulated robot content and helpers\n",
    "import hrr_common as hrr_cm\n",
    "from hrr_controllers import GimaticPinController\n",
    "import hrr_cobot_robot as hrr_rob\n",
    "from hrr_cobot_robot.tool_control import ArduinoToolControlInterface\n",
    "from hr_recycler_msgs.msg import CuttingAction, CuttingFeedback, CuttingResult, CuttingGoal, SkillResult, CobotState, MaterialType\n",
    "import actionlib\n",
    "from hr_recycler_msgs.msg import ToolType\n",
    "\n",
    "from hr_recycler_msgs.msg import PlannerAction , PlannerGoal\n",
    "import hrr_common\n",
    "\n",
    "# ROS\n",
    "import rospy\n",
    "\n",
    "# set printing and plotting options    \n",
    "np.set_printoptions(precision=5, suppress=True)\n",
    "sns.set_theme('notebook')\n",
    "%matplotlib notebook"
   ]
  },
  {
   "cell_type": "code",
   "execution_count": 16,
   "id": "93fdb35f",
   "metadata": {},
   "outputs": [],
   "source": [
    "hrr_common.set_ros_environment(\"127.0.0.1\")\n"
   ]
  },
  {
   "cell_type": "code",
   "execution_count": 2,
   "id": "dcc460d2",
   "metadata": {},
   "outputs": [
    {
     "name": "stdout",
     "output_type": "stream",
     "text": [
      "env: ROS_MASTER_URI=http://127.0.0.1:11311\n",
      "\t\u001b[1m\u001b[4m!!!please check that the IPs below is identical!!!\u001b[0m\n",
      "\thost hrrN3511rt2004 has IP 192.168.1.35, which should be identical to\n",
      "vs:\tenv: ROS_IP=192.168.1.35\n"
     ]
    }
   ],
   "source": [
    "def get_hostname_and_IP():\n",
    "    import socket\n",
    "    with socket.socket(socket.AF_INET, socket.SOCK_DGRAM) as s:\n",
    "        s.connect((\"8.8.8.8\", 80))\n",
    "        return socket.gethostname(), s.getsockname()[0]\n",
    "\n",
    "_host, _ip = get_hostname_and_IP()\n",
    "%env ROS_MASTER_URI=http://127.0.0.1:11311\n",
    "# %env ROS_MASTER_URI=http://hrrcobotLinux54:11311\n",
    "print(f\"\\t\\033[1m\\033[4m!!!please check that the IPs below is identical!!!\\033[0m\"+\n",
    "      f\"\\n\\thost {_host} has IP {_ip}, which should be identical to\",end=\"\\nvs:\\t\")\n",
    "%env ROS_IP=$_ip"
   ]
  },
  {
   "cell_type": "code",
   "execution_count": 17,
   "id": "9fdb9f40",
   "metadata": {},
   "outputs": [],
   "source": [
    "rospy.init_node(\"hrr_cobot_shaftgrinder\")"
   ]
  },
  {
   "cell_type": "code",
   "execution_count": 3,
   "id": "5e226df2",
   "metadata": {},
   "outputs": [],
   "source": [
    "rospy.set_param(\"/hrr_cobot/cmd_arduino\", True) # to use arduino interface. If you want to use the shield, don't set\n",
    "# this parameter. Defaults to new shield."
   ]
  },
  {
   "cell_type": "code",
   "execution_count": 18,
   "id": "a51969ec",
   "metadata": {},
   "outputs": [],
   "source": [
    "cobot = hrr_rob.HrrCobotControl.from_ros(\"/hrr_cobot\")"
   ]
  },
  {
   "cell_type": "markdown",
   "id": "4a20e2eb",
   "metadata": {},
   "source": [
    "## TOOL CHANGER"
   ]
  },
  {
   "cell_type": "code",
   "execution_count": 5,
   "id": "406cc58c",
   "metadata": {},
   "outputs": [],
   "source": [
    "GP = GimaticPinController.from_ros(cobot_prefix=\"/hrr_cobot\")\n"
   ]
  },
  {
   "cell_type": "code",
   "execution_count": 6,
   "id": "38d7485c",
   "metadata": {},
   "outputs": [],
   "source": [
    "GP.activate()\n"
   ]
  },
  {
   "cell_type": "code",
   "execution_count": 10,
   "id": "0519eaa7",
   "metadata": {},
   "outputs": [],
   "source": [
    "GP.set_to_start_state()  # open tool-changer\n"
   ]
  },
  {
   "cell_type": "code",
   "execution_count": 9,
   "id": "7ce29272",
   "metadata": {},
   "outputs": [],
   "source": [
    "rospy.sleep(1.0)\n",
    "GP.invert_start_state()  # close tool-changer\n",
    "GP.deactivate()"
   ]
  },
  {
   "cell_type": "code",
   "execution_count": null,
   "id": "cc20490d",
   "metadata": {},
   "outputs": [],
   "source": [
    "cobot.tool_changer."
   ]
  },
  {
   "cell_type": "code",
   "execution_count": 4,
   "id": "51b2320f",
   "metadata": {},
   "outputs": [],
   "source": [
    "cobot.move_to_joint_pose(cobot.q_calib)"
   ]
  },
  {
   "cell_type": "markdown",
   "id": "16c0474b",
   "metadata": {},
   "source": [
    "## CUTTING TESTING"
   ]
  },
  {
   "cell_type": "code",
   "execution_count": 15,
   "id": "e998f74f",
   "metadata": {},
   "outputs": [],
   "source": [
    "print(cobot.FK(cobot.q))"
   ]
  },
  {
   "cell_type": "code",
   "execution_count": 7,
   "id": "7b36d734",
   "metadata": {},
   "outputs": [
    {
     "ename": "NameError",
     "evalue": "name 'shaftgrind_calib' is not defined",
     "output_type": "error",
     "traceback": [
      "\u001b[0;31m---------------------------------------------------------------------------\u001b[0m",
      "\u001b[0;31mNameError\u001b[0m                                 Traceback (most recent call last)",
      "\u001b[0;32m/tmp/ipykernel_135718/798461214.py\u001b[0m in \u001b[0;36m<module>\u001b[0;34m\u001b[0m\n\u001b[0;32m----> 1\u001b[0;31m \u001b[0mcobot\u001b[0m\u001b[0;34m.\u001b[0m\u001b[0mFK\u001b[0m\u001b[0;34m(\u001b[0m\u001b[0mshaftgrind_calib\u001b[0m\u001b[0;34m)\u001b[0m\u001b[0;34m\u001b[0m\u001b[0;34m\u001b[0m\u001b[0m\n\u001b[0m",
      "\u001b[0;31mNameError\u001b[0m: name 'shaftgrind_calib' is not defined"
     ]
    }
   ],
   "source": [
    "cobot.FK(shaftgrind_calib)"
   ]
  },
  {
   "cell_type": "code",
   "execution_count": 6,
   "id": "e0798e2b",
   "metadata": {},
   "outputs": [],
   "source": [
    "shaftgrind_calib = np.array([ 0.   ,   0.  ,   -1.5708,  1.5708,      1.5708 , 0.    ])"
   ]
  },
  {
   "cell_type": "code",
   "execution_count": 7,
   "id": "19449b57",
   "metadata": {},
   "outputs": [
    {
     "name": "stdout",
     "output_type": "stream",
     "text": [
      "[INFO]desired joint-pose is further than 0.5 (1.57) radiants from current, use stochastic motion planner\n",
      "Warning: Integer operands are required for colon operator when used as index.\n",
      "> In gpmp2.test3Ddataset>add_obstacle (line 189)\n",
      "In gpmp2.test3Ddataset (line 94)\n",
      "In HrRecyclerPerecptioPipeline (line 50)\n",
      "\n",
      "Warning: Integer operands are required for colon operator when used as index.\n",
      "> In gpmp2.test3Ddataset>add_obstacle (line 189)\n",
      "In gpmp2.test3Ddataset (line 95)\n",
      "In HrRecyclerPerecptioPipeline (line 50)\n",
      "\n",
      "Warning: Integer operands are required for colon operator when used as index.\n",
      "> In gpmp2.test3Ddataset>add_obstacle (line 189)\n",
      "In gpmp2.test3Ddataset (line 96)\n",
      "In HrRecyclerPerecptioPipeline (line 50)\n",
      "\n",
      "Warning: Integer operands are required for colon operator when used as index.\n",
      "> In gpmp2.test3Ddataset>add_obstacle (line 189)\n",
      "In gpmp2.test3Ddataset (line 98)\n",
      "In HrRecyclerPerecptioPipeline (line 50)\n",
      "\n",
      "Warning: Integer operands are required for colon operator when used as index.\n",
      "> In gpmp2.test3Ddataset>add_obstacle (line 189)\n",
      "In gpmp2.test3Ddataset (line 98)\n",
      "In HrRecyclerPerecptioPipeline (line 50)\n",
      "\n",
      "Warning: Integer operands are required for colon operator when used as index.\n",
      "> In gpmp2.test3Ddataset>add_obstacle (line 189)\n",
      "In gpmp2.test3Ddataset (line 98)\n",
      "In HrRecyclerPerecptioPipeline (line 50)\n",
      "\n",
      "calculating signed distance field ...\n",
      "calculating signed distance field done\n",
      "Elapsed time is 7.635991 seconds.\n",
      "Elapsed time is 0.567391 seconds.\n"
     ]
    },
    {
     "name": "stderr",
     "output_type": "stream",
     "text": [
      "[WARN][/hrr_cobot_shaftgrinder] Planner is done and execution is running ...\n"
     ]
    },
    {
     "name": "stdout",
     "output_type": "stream",
     "text": [
      "[INFO]re-/deactivate controllers\n"
     ]
    }
   ],
   "source": [
    "cobot.move_to_joint_pose(shaftgrind_calib)"
   ]
  },
  {
   "cell_type": "code",
   "execution_count": 4,
   "id": "4ea19aec",
   "metadata": {},
   "outputs": [
    {
     "name": "stderr",
     "output_type": "stream",
     "text": [
      "[WARN]trying to access tool-controller without a current tool\n"
     ]
    }
   ],
   "source": [
    "cobot.tool_controller"
   ]
  },
  {
   "cell_type": "code",
   "execution_count": 19,
   "id": "67d1499d",
   "metadata": {},
   "outputs": [
    {
     "data": {
      "text/plain": [
       "True"
      ]
     },
     "execution_count": 19,
     "metadata": {},
     "output_type": "execute_result"
    }
   ],
   "source": [
    "cobot.change_tool(\"shaftgrinder\")"
   ]
  },
  {
   "cell_type": "code",
   "execution_count": 19,
   "id": "683e98b7",
   "metadata": {},
   "outputs": [
    {
     "data": {
      "text/plain": [
       "True"
      ]
     },
     "execution_count": 19,
     "metadata": {},
     "output_type": "execute_result"
    }
   ],
   "source": [
    "cobot.change_tool(\"nothing\")"
   ]
  },
  {
   "cell_type": "code",
   "execution_count": 21,
   "id": "0b9aefea",
   "metadata": {},
   "outputs": [],
   "source": [
    "cobot.close_tool_changer()"
   ]
  },
  {
   "cell_type": "code",
   "execution_count": 22,
   "id": "93432d51",
   "metadata": {},
   "outputs": [],
   "source": [
    "cobot.open_tool_changer(force=True)"
   ]
  },
  {
   "cell_type": "code",
   "execution_count": null,
   "id": "eda8b4be",
   "metadata": {},
   "outputs": [],
   "source": [
    "rospy.get_param(\"/hrr_cobot/tool_name\") # to use arduino interface. If you want to use the shield, don't set\n",
    "# this parameter. Defaults to new shield."
   ]
  },
  {
   "cell_type": "code",
   "execution_count": 9,
   "id": "d9efd81f",
   "metadata": {},
   "outputs": [
    {
     "name": "stderr",
     "output_type": "stream",
     "text": [
      "[WARN]maximum value is 25000. Set value accordingly.\n"
     ]
    }
   ],
   "source": [
    "cobot.tool_controller.rpm = 30000"
   ]
  },
  {
   "cell_type": "code",
   "execution_count": 21,
   "id": "b92cae5d",
   "metadata": {},
   "outputs": [],
   "source": [
    "cobot.tool_controller.rpm = 0"
   ]
  },
  {
   "cell_type": "code",
   "execution_count": 26,
   "id": "a8d834b7",
   "metadata": {},
   "outputs": [],
   "source": [
    "cobot.tool_controller.run_shaftgrinder(0.05, \"slow\")"
   ]
  },
  {
   "cell_type": "code",
   "execution_count": 7,
   "id": "b26430db",
   "metadata": {},
   "outputs": [
    {
     "ename": "AttributeError",
     "evalue": "'HrrCobotToolControlInterface' object has no attribute 'enable_grinder'",
     "output_type": "error",
     "traceback": [
      "\u001b[0;31m---------------------------------------------------------------------------\u001b[0m",
      "\u001b[0;31mAttributeError\u001b[0m                            Traceback (most recent call last)",
      "\u001b[0;32m/tmp/ipykernel_211595/2684909795.py\u001b[0m in \u001b[0;36m<module>\u001b[0;34m\u001b[0m\n\u001b[0;32m----> 1\u001b[0;31m \u001b[0mcobot\u001b[0m\u001b[0;34m.\u001b[0m\u001b[0mtool_controller\u001b[0m\u001b[0;34m.\u001b[0m\u001b[0menable_grinder\u001b[0m\u001b[0;34m(\u001b[0m\u001b[0;34m)\u001b[0m \u001b[0;31m#sometimes needed to turn grinder on again\u001b[0m\u001b[0;34m\u001b[0m\u001b[0;34m\u001b[0m\u001b[0m\n\u001b[0m",
      "\u001b[0;31mAttributeError\u001b[0m: 'HrrCobotToolControlInterface' object has no attribute 'enable_grinder'"
     ]
    }
   ],
   "source": [
    "cobot.tool_controller.enable_grinder() #sometimes needed to turn grinder on again"
   ]
  },
  {
   "cell_type": "code",
   "execution_count": 20,
   "id": "04130e54",
   "metadata": {},
   "outputs": [
    {
     "ename": "AttributeError",
     "evalue": "'HrrCobotToolControlInterface' object has no attribute 'disable'",
     "output_type": "error",
     "traceback": [
      "\u001b[0;31m---------------------------------------------------------------------------\u001b[0m",
      "\u001b[0;31mAttributeError\u001b[0m                            Traceback (most recent call last)",
      "\u001b[0;32m/tmp/ipykernel_238052/2471894319.py\u001b[0m in \u001b[0;36m<module>\u001b[0;34m\u001b[0m\n\u001b[0;32m----> 1\u001b[0;31m \u001b[0mcobot\u001b[0m\u001b[0;34m.\u001b[0m\u001b[0mtool_controller\u001b[0m\u001b[0;34m.\u001b[0m\u001b[0mdisable\u001b[0m\u001b[0;34m(\u001b[0m\u001b[0;34m)\u001b[0m\u001b[0;34m\u001b[0m\u001b[0;34m\u001b[0m\u001b[0m\n\u001b[0m\u001b[1;32m      2\u001b[0m \u001b[0;31m#for safety you can disable the tool but then you have to set it to shaftgrinder again before you can start it\u001b[0m\u001b[0;34m\u001b[0m\u001b[0;34m\u001b[0m\u001b[0;34m\u001b[0m\u001b[0m\n",
      "\u001b[0;31mAttributeError\u001b[0m: 'HrrCobotToolControlInterface' object has no attribute 'disable'"
     ]
    }
   ],
   "source": [
    "cobot.tool_controller.disable() \n",
    "#for safety you can disable the tool but then you have to set it to shaftgrinder again before you can start it"
   ]
  },
  {
   "cell_type": "markdown",
   "id": "2294be02",
   "metadata": {},
   "source": [
    "## How to test transformation/kinematic chain"
   ]
  },
  {
   "cell_type": "markdown",
   "id": "013cb1ec",
   "metadata": {},
   "source": [
    "1. set up as above but on/off does not necessarily have to work\n",
    "2. run function definitions below for a single pose - if wanted, all 4 poses can be calculated in section 1.2.2\n",
    "3. \n",
    "\n",
    "\n",
    "**TODO: Update toEE vector (depending on kinematic chain, test with absolute values)**"
   ]
  },
  {
   "cell_type": "markdown",
   "id": "243cec44",
   "metadata": {},
   "source": [
    "### Single Pose"
   ]
  },
  {
   "cell_type": "code",
   "execution_count": 6,
   "id": "56996680",
   "metadata": {},
   "outputs": [],
   "source": [
    "def MoveLoop(pose,v_max=0.005,rot_max=0.005,timeout=50,rpm=0.005):\n",
    "    \"\"\"\n",
    "    Sends robot to given position.\n",
    "    \"\"\"\n",
    "    \n",
    "    cobot.move_to_pose(pose) #v_max,rot_max,rot_precision_threshold=0.001, pos_precision_threshold=0.001)\n",
    "    T = int(timeout * cobot.hz)\n",
    "    for t in trange(T):\n",
    "        if cobot.state is None:\n",
    "            rospy.loginfo(f\"reached goal pose at step {t + 1} / {T}\")\n",
    "            break\n",
    "        elif cobot.state == \"error\":\n",
    "            rospy.logerr(f\"robot in ERROR state\")\n",
    "        if rpm != 0:\n",
    "            cobot.tool_controller.rpm = rpm\n",
    "            cobot.tool_controller.enable_grinder()\n",
    "\n",
    "        cobot.update()"
   ]
  },
  {
   "cell_type": "code",
   "execution_count": 19,
   "id": "9beacaf2",
   "metadata": {},
   "outputs": [],
   "source": [
    "## sets a safe transformation for robot with shaftgrinder attached.\n",
    "\n",
    "# Shaftgrinder_tf = np.array([[-0.707107, 0.707107, 0., 0.455498],\n",
    "#                             [0, 0, 1, 0.0482934],\n",
    "#                             [0.707107, 0.707107, 0, 0.4],\n",
    "#                             [0, 0, 0, 1]])\n",
    "\n",
    "xstart = 0.4166\n",
    "ystart = -0.05628\n",
    "zstart = 0.025\n",
    "\n",
    "#normal (-0.1905, 0.1043, 0.9761)\n",
    "\n",
    "Shaftgrinder_tf = np.array([[-1 ,       0 , 0,  0.4359 ],   \n",
    "                           [0 ,0 ,-1   ,     -0.08     ], \n",
    "                           [0, -1 ,        0,  0.785 ]  ,  \n",
    "                           [0,         0  ,       0   ,      1] ])\n",
    "\n",
    "## sets translational vector\n",
    "toEE = np.array([0, -0.156, 0.094])"
   ]
  },
  {
   "cell_type": "code",
   "execution_count": 34,
   "id": "acd8c3c1",
   "metadata": {},
   "outputs": [],
   "source": [
    "print(cobot.T_E_C_robot.inv())\n",
    "#print(Shaftgrinder_tf)"
   ]
  },
  {
   "cell_type": "code",
   "execution_count": 7,
   "id": "bb0dfe40",
   "metadata": {},
   "outputs": [],
   "source": [
    "# use data from vision/task planner or set coordinates manually\n",
    "\n",
    "xstart = 0.5 #determine start value next to cable (in start cutting pose)\n",
    "ystart = 0.5\n",
    "zstart =  0.2 #0.025\n",
    "\n",
    "normalA = hrr_cm.ros_utils.np2vector3stamped(np.r_[0,0,1], \"normalA\")\n",
    "pointA = hrr_cm.ros_utils.np2vector3stamped(np.r_[xstart,ystart,zstart], \"pointA\")"
   ]
  },
  {
   "cell_type": "code",
   "execution_count": 18,
   "id": "0622d84f",
   "metadata": {},
   "outputs": [
    {
     "ename": "NameError",
     "evalue": "name 'toEE' is not defined",
     "output_type": "error",
     "traceback": [
      "\u001b[0;31m---------------------------------------------------------------------------\u001b[0m",
      "\u001b[0;31mNameError\u001b[0m                                 Traceback (most recent call last)",
      "\u001b[0;32m/tmp/ipykernel_229002/1623262452.py\u001b[0m in \u001b[0;36m<module>\u001b[0;34m\u001b[0m\n\u001b[1;32m      3\u001b[0m CuttingPoseA = hrr_cm.calc_EE_pre_pose(normal=hrr_cm.vec32np(normalA.vector),\n\u001b[1;32m      4\u001b[0m                                         \u001b[0mp_location\u001b[0m\u001b[0;34m=\u001b[0m\u001b[0mhrr_cm\u001b[0m\u001b[0;34m.\u001b[0m\u001b[0mvec32np\u001b[0m\u001b[0;34m(\u001b[0m\u001b[0mpointA\u001b[0m\u001b[0;34m.\u001b[0m\u001b[0mvector\u001b[0m\u001b[0;34m)\u001b[0m\u001b[0;34m,\u001b[0m\u001b[0;34m\u001b[0m\u001b[0;34m\u001b[0m\u001b[0m\n\u001b[0;32m----> 5\u001b[0;31m                                         \u001b[0mC_p_CE\u001b[0m\u001b[0;34m=\u001b[0m\u001b[0mtoEE\u001b[0m\u001b[0;34m,\u001b[0m \u001b[0mR_C_E\u001b[0m\u001b[0;34m=\u001b[0m\u001b[0mShaftgrinder_tf\u001b[0m\u001b[0;34m[\u001b[0m\u001b[0;34m:\u001b[0m\u001b[0;36m3\u001b[0m\u001b[0;34m,\u001b[0m \u001b[0;34m:\u001b[0m\u001b[0;36m3\u001b[0m\u001b[0;34m]\u001b[0m\u001b[0;34m,\u001b[0m\u001b[0;34m\u001b[0m\u001b[0;34m\u001b[0m\u001b[0m\n\u001b[0m\u001b[1;32m      6\u001b[0m                                         safety_distance=0)\n\u001b[1;32m      7\u001b[0m \u001b[0mprint\u001b[0m\u001b[0;34m(\u001b[0m\u001b[0mCuttingPoseA\u001b[0m\u001b[0;34m)\u001b[0m\u001b[0;34m\u001b[0m\u001b[0;34m\u001b[0m\u001b[0m\n",
      "\u001b[0;31mNameError\u001b[0m: name 'toEE' is not defined"
     ]
    }
   ],
   "source": [
    "# calculates the pose from transformation, translation vector and given points\n",
    "\n",
    "CuttingPoseA = hrr_cm.calc_EE_pre_pose(normal=hrr_cm.vec32np(normalA.vector),\n",
    "                                        p_location=hrr_cm.vec32np(pointA.vector),\n",
    "                                        C_p_CE=toEE, R_C_E=Shaftgrinder_tf[:3, :3],\n",
    "                                        safety_distance=0)\n",
    "print(CuttingPoseA)"
   ]
  },
  {
   "cell_type": "code",
   "execution_count": 9,
   "id": "6d4e7420",
   "metadata": {},
   "outputs": [],
   "source": [
    "cobot.update_ee_tcp_tf()"
   ]
  },
  {
   "cell_type": "code",
   "execution_count": 8,
   "id": "13500442",
   "metadata": {},
   "outputs": [],
   "source": [
    "cobot.set_tool_frame(3)"
   ]
  },
  {
   "cell_type": "code",
   "execution_count": 10,
   "id": "d7dbca07",
   "metadata": {},
   "outputs": [],
   "source": [
    "    def calc_EE_cutting_pose(B_normal, B_p_location, T_C_E=None, B_y_axis=np.r_[0., 1., 0.], depth=-5e-2):\n",
    "        r\"\"\"Calculate cutting pose via cutting with the robot into the surface\n",
    "\n",
    "        The surface is defined by its normal, while the ``safety_distance``\n",
    "        describes the hovering height that the robot should be steered to\n",
    "\n",
    "        Args:\n",
    "            B_normal (np.ndarray): normal vector in base frame :math:`{}^{B}{\\bf n} \\in \\mathbb{R}^{3}`\n",
    "            B_p_location(np.ndarray): goal-position in base-frame :math:`{}^{B}{\\bf p}_{BC} \\in \\mathbb{R}^{3}`.\n",
    "            B_y_axis (np.ndarray, optional): reference y-axis to generate pose / right-hand CS in base-frame. Defaults to :math:`{}^{B}{\\bf e}_{y}`.\n",
    "            T_C_E(sm.SE3 or None, optional): homogeneous transformation from end-effector to tool-frame. Defaults to None.\n",
    "            depth (float, optional): cutting depth. Defaults to -0.05.\n",
    "\n",
    "        Returns:\n",
    "            sm.SE3: pre-pose of end-effector wrt to base-frame.\n",
    "\n",
    "        Raises:\n",
    "            AssertionError: if safety_distance is negative\n",
    "        \"\"\"\n",
    "        assert depth <= 0.0, \"cutting depth is positive\"\n",
    "        return sm.SE3(B_normal * depth) @ hrr_cm.calc_EE_goal_pose(B_normal=B_normal, B_p_location=B_p_location,\n",
    "                                                                   B_y_axis=B_y_axis, T_C_E=T_C_E)"
   ]
  },
  {
   "cell_type": "code",
   "execution_count": 11,
   "id": "cc046a5a",
   "metadata": {},
   "outputs": [],
   "source": [
    "CuttingPoseA = calc_EE_cutting_pose(B_normal=hrr_cm.vec32np(normalA.vector),\n",
    "                                                     B_p_location=hrr_cm.vec32np(\n",
    "                                                         pointA.vector),\n",
    "                                                     T_C_E=cobot.T_E_C_robot.inv(),\n",
    "                                                     B_y_axis=np.r_[0., 1., 0.],\n",
    "                                                     depth=0)"
   ]
  },
  {
   "cell_type": "code",
   "execution_count": 12,
   "id": "0ae6152a",
   "metadata": {},
   "outputs": [],
   "source": [
    "print(CuttingPoseA)"
   ]
  },
  {
   "cell_type": "code",
   "execution_count": 22,
   "id": "cdc6aa63",
   "metadata": {},
   "outputs": [],
   "source": [
    "print(cobot.q)"
   ]
  },
  {
   "cell_type": "code",
   "execution_count": 13,
   "id": "44c3d0f8",
   "metadata": {},
   "outputs": [
    {
     "name": "stdout",
     "output_type": "stream",
     "text": [
      "Warning: No topic to subscribe. Using default device type, light.\n",
      "> In HrRecyclerPerecptioPipeline (line 18)\n",
      "Warning: Integer operands are required for colon operator when used as index.\n",
      "> In gpmp2.test3Ddataset>add_obstacle (line 189)\n",
      "In gpmp2.test3Ddataset (line 94)\n",
      "In HrRecyclerPerecptioPipeline (line 50)\n",
      "\n",
      "Warning: Integer operands are required for colon operator when used as index.\n",
      "> In gpmp2.test3Ddataset>add_obstacle (line 189)\n",
      "In gpmp2.test3Ddataset (line 95)\n",
      "In HrRecyclerPerecptioPipeline (line 50)\n",
      "\n",
      "Warning: Integer operands are required for colon operator when used as index.\n",
      "> In gpmp2.test3Ddataset>add_obstacle (line 189)\n",
      "In gpmp2.test3Ddataset (line 96)\n",
      "In HrRecyclerPerecptioPipeline (line 50)\n",
      "\n",
      "Warning: Integer operands are required for colon operator when used as index.\n",
      "> In gpmp2.test3Ddataset>add_obstacle (line 189)\n",
      "In gpmp2.test3Ddataset (line 98)\n",
      "In HrRecyclerPerecptioPipeline (line 50)\n",
      "\n",
      "Warning: Integer operands are required for colon operator when used as index.\n",
      "> In gpmp2.test3Ddataset>add_obstacle (line 189)\n",
      "In gpmp2.test3Ddataset (line 98)\n",
      "In HrRecyclerPerecptioPipeline (line 50)\n",
      "\n",
      "Warning: Integer operands are required for colon operator when used as index.\n",
      "> In gpmp2.test3Ddataset>add_obstacle (line 189)\n",
      "In gpmp2.test3Ddataset (line 98)\n",
      "In HrRecyclerPerecptioPipeline (line 50)\n",
      "\n",
      "calculating signed distance field ...\n",
      "calculating signed distance field done\n",
      "Elapsed time is 6.724701 seconds.\n",
      "Elapsed time is 0.339511 seconds.\n"
     ]
    },
    {
     "name": "stderr",
     "output_type": "stream",
     "text": [
      "[WARN][/hrr_cobot_shaftgrinder] Planner is done and execution is running ...\n"
     ]
    },
    {
     "ename": "KeyboardInterrupt",
     "evalue": "",
     "output_type": "error",
     "traceback": [
      "\u001b[0;31m---------------------------------------------------------------------------\u001b[0m",
      "\u001b[0;31mKeyboardInterrupt\u001b[0m                         Traceback (most recent call last)",
      "\u001b[0;32m/tmp/ipykernel_141742/1136322278.py\u001b[0m in \u001b[0;36m<module>\u001b[0;34m\u001b[0m\n\u001b[0;32m----> 1\u001b[0;31m \u001b[0mcobot\u001b[0m\u001b[0;34m.\u001b[0m\u001b[0mstochastic_move_to_pose\u001b[0m\u001b[0;34m(\u001b[0m\u001b[0mCuttingPoseA\u001b[0m\u001b[0;34m)\u001b[0m\u001b[0;34m\u001b[0m\u001b[0;34m\u001b[0m\u001b[0m\n\u001b[0m",
      "\u001b[0;32m~/_ros/hr_recycler_ws/src/hrr_cobot/hrr_cobot_robot/src/hrr_cobot_robot/hrr_cobot_control.py\u001b[0m in \u001b[0;36mstochastic_move_to_pose\u001b[0;34m(self, T_B_E_des, **cart_servo_args)\u001b[0m\n\u001b[1;32m    396\u001b[0m         \u001b[0;32mif\u001b[0m \u001b[0mself\u001b[0m\u001b[0;34m.\u001b[0m\u001b[0m_planner_interface\u001b[0m\u001b[0;34m.\u001b[0m\u001b[0mhas_matlab\u001b[0m\u001b[0;34m:\u001b[0m\u001b[0;34m\u001b[0m\u001b[0;34m\u001b[0m\u001b[0m\n\u001b[1;32m    397\u001b[0m             \u001b[0mjoint_traj\u001b[0m \u001b[0;34m=\u001b[0m \u001b[0mself\u001b[0m\u001b[0;34m.\u001b[0m\u001b[0m_planner_interface\u001b[0m\u001b[0;34m.\u001b[0m\u001b[0mget_joint_trajectory_to_pose\u001b[0m\u001b[0;34m(\u001b[0m\u001b[0mT_B_E_des\u001b[0m\u001b[0;34m)\u001b[0m\u001b[0;34m\u001b[0m\u001b[0;34m\u001b[0m\u001b[0m\n\u001b[0;32m--> 398\u001b[0;31m         \u001b[0;32mif\u001b[0m \u001b[0;32mnot\u001b[0m \u001b[0mself\u001b[0m\u001b[0;34m.\u001b[0m\u001b[0mexecute_joint_trajectory\u001b[0m\u001b[0;34m(\u001b[0m\u001b[0mjoint_traj\u001b[0m\u001b[0;34m=\u001b[0m\u001b[0mjoint_traj\u001b[0m\u001b[0;34m,\u001b[0m \u001b[0mwait_for_feedback\u001b[0m\u001b[0;34m=\u001b[0m\u001b[0;32mTrue\u001b[0m\u001b[0;34m)\u001b[0m\u001b[0;34m:\u001b[0m\u001b[0;34m\u001b[0m\u001b[0;34m\u001b[0m\u001b[0m\n\u001b[0m\u001b[1;32m    399\u001b[0m             \u001b[0mself\u001b[0m\u001b[0;34m.\u001b[0m\u001b[0mmove_to_pose\u001b[0m\u001b[0;34m(\u001b[0m\u001b[0mT_B_E_des\u001b[0m\u001b[0;34m,\u001b[0m \u001b[0;34m**\u001b[0m\u001b[0mcart_servo_args\u001b[0m\u001b[0;34m)\u001b[0m\u001b[0;34m\u001b[0m\u001b[0;34m\u001b[0m\u001b[0m\n\u001b[1;32m    400\u001b[0m \u001b[0;34m\u001b[0m\u001b[0m\n",
      "\u001b[0;32m~/_ros/hr_recycler_ws/src/hrr_cobot/hrr_cobot_robot/src/hrr_cobot_robot/hrr_cobot_handle.py\u001b[0m in \u001b[0;36mexecute_joint_trajectory\u001b[0;34m(self, joint_traj, wait_for_feedback, q_des)\u001b[0m\n\u001b[1;32m    600\u001b[0m                                                      print_traj=False)\n\u001b[1;32m    601\u001b[0m         \u001b[0;32melif\u001b[0m \u001b[0misinstance\u001b[0m\u001b[0;34m(\u001b[0m\u001b[0mjoint_traj\u001b[0m\u001b[0;34m,\u001b[0m \u001b[0mnp\u001b[0m\u001b[0;34m.\u001b[0m\u001b[0mndarray\u001b[0m\u001b[0;34m)\u001b[0m\u001b[0;34m:\u001b[0m\u001b[0;34m\u001b[0m\u001b[0;34m\u001b[0m\u001b[0m\n\u001b[0;32m--> 602\u001b[0;31m             \u001b[0;32mreturn\u001b[0m \u001b[0mself\u001b[0m\u001b[0;34m.\u001b[0m\u001b[0m_joint_traj_handle\u001b[0m\u001b[0;34m.\u001b[0m\u001b[0mcommand_joint_trajectory\u001b[0m\u001b[0;34m(\u001b[0m\u001b[0mjoint_traj\u001b[0m\u001b[0;34m,\u001b[0m \u001b[0mwait_for_feedback\u001b[0m\u001b[0;34m=\u001b[0m\u001b[0mwait_for_feedback\u001b[0m\u001b[0;34m)\u001b[0m\u001b[0;34m\u001b[0m\u001b[0;34m\u001b[0m\u001b[0m\n\u001b[0m\u001b[1;32m    603\u001b[0m         \u001b[0;32melse\u001b[0m\u001b[0;34m:\u001b[0m\u001b[0;34m\u001b[0m\u001b[0;34m\u001b[0m\u001b[0m\n\u001b[1;32m    604\u001b[0m             return self._joint_traj_handle.command_joint_trajectory_msgs(joint_traj,\n",
      "\u001b[0;32m~/_ros/hr_recycler_ws/src/hrr_cobot/hrr_controllers/src/hrr_controllers/trajectory_handling.py\u001b[0m in \u001b[0;36mcommand_joint_trajectory\u001b[0;34m(self, arr, wait_for_feedback, print_traj)\u001b[0m\n\u001b[1;32m    227\u001b[0m         \u001b[0;32mtry\u001b[0m\u001b[0;34m:\u001b[0m\u001b[0;34m\u001b[0m\u001b[0;34m\u001b[0m\u001b[0m\n\u001b[1;32m    228\u001b[0m             \u001b[0mself\u001b[0m\u001b[0;34m.\u001b[0m\u001b[0massert_active\u001b[0m\u001b[0;34m(\u001b[0m\u001b[0;34m)\u001b[0m\u001b[0;34m\u001b[0m\u001b[0;34m\u001b[0m\u001b[0m\n\u001b[0;32m--> 229\u001b[0;31m             send_trajectory(self._jnt_traj_client, self.np2jointGoal(arr, print_traj=print_traj),\n\u001b[0m\u001b[1;32m    230\u001b[0m                             wait_for_feedback=wait_for_feedback)\n\u001b[1;32m    231\u001b[0m         \u001b[0;32mexcept\u001b[0m \u001b[0mAssertionError\u001b[0m \u001b[0;32mas\u001b[0m \u001b[0me\u001b[0m\u001b[0;34m:\u001b[0m\u001b[0;34m\u001b[0m\u001b[0;34m\u001b[0m\u001b[0m\n",
      "\u001b[0;32m~/_ros/hr_recycler_ws/src/hrr_cobot/hrr_controllers/src/hrr_controllers/trajectory_handling.py\u001b[0m in \u001b[0;36msend_trajectory\u001b[0;34m(cl, goal, wait_for_feedback)\u001b[0m\n\u001b[1;32m     41\u001b[0m     \u001b[0mcl\u001b[0m\u001b[0;34m.\u001b[0m\u001b[0msend_goal\u001b[0m\u001b[0;34m(\u001b[0m\u001b[0mgoal\u001b[0m\u001b[0;34m)\u001b[0m\u001b[0;34m\u001b[0m\u001b[0;34m\u001b[0m\u001b[0m\n\u001b[1;32m     42\u001b[0m     \u001b[0;32mif\u001b[0m \u001b[0mwait_for_feedback\u001b[0m\u001b[0;34m:\u001b[0m\u001b[0;34m\u001b[0m\u001b[0;34m\u001b[0m\u001b[0m\n\u001b[0;32m---> 43\u001b[0;31m         \u001b[0mcl\u001b[0m\u001b[0;34m.\u001b[0m\u001b[0mwait_for_result\u001b[0m\u001b[0;34m(\u001b[0m\u001b[0;34m)\u001b[0m\u001b[0;34m\u001b[0m\u001b[0;34m\u001b[0m\u001b[0m\n\u001b[0m\u001b[1;32m     44\u001b[0m         \u001b[0;32mreturn\u001b[0m \u001b[0mcl\u001b[0m\u001b[0;34m.\u001b[0m\u001b[0mget_result\u001b[0m\u001b[0;34m(\u001b[0m\u001b[0;34m)\u001b[0m\u001b[0;34m\u001b[0m\u001b[0;34m\u001b[0m\u001b[0m\n\u001b[1;32m     45\u001b[0m \u001b[0;34m\u001b[0m\u001b[0m\n",
      "\u001b[0;32m/opt/ros/noetic/lib/python3/dist-packages/actionlib/simple_action_client.py\u001b[0m in \u001b[0;36mwait_for_result\u001b[0;34m(self, timeout)\u001b[0m\n\u001b[1;32m    141\u001b[0m                     \u001b[0mtime_left\u001b[0m \u001b[0;34m=\u001b[0m \u001b[0mloop_period\u001b[0m\u001b[0;34m\u001b[0m\u001b[0;34m\u001b[0m\u001b[0m\n\u001b[1;32m    142\u001b[0m \u001b[0;34m\u001b[0m\u001b[0m\n\u001b[0;32m--> 143\u001b[0;31m                 \u001b[0mself\u001b[0m\u001b[0;34m.\u001b[0m\u001b[0mdone_condition\u001b[0m\u001b[0;34m.\u001b[0m\u001b[0mwait\u001b[0m\u001b[0;34m(\u001b[0m\u001b[0mtime_left\u001b[0m\u001b[0;34m.\u001b[0m\u001b[0mto_sec\u001b[0m\u001b[0;34m(\u001b[0m\u001b[0;34m)\u001b[0m\u001b[0;34m)\u001b[0m\u001b[0;34m\u001b[0m\u001b[0;34m\u001b[0m\u001b[0m\n\u001b[0m\u001b[1;32m    144\u001b[0m \u001b[0;34m\u001b[0m\u001b[0m\n\u001b[1;32m    145\u001b[0m         \u001b[0;32mreturn\u001b[0m \u001b[0mself\u001b[0m\u001b[0;34m.\u001b[0m\u001b[0msimple_state\u001b[0m \u001b[0;34m==\u001b[0m \u001b[0mSimpleGoalState\u001b[0m\u001b[0;34m.\u001b[0m\u001b[0mDONE\u001b[0m\u001b[0;34m\u001b[0m\u001b[0;34m\u001b[0m\u001b[0m\n",
      "\u001b[0;32m~/anaconda3/envs/hrr/lib/python3.8/threading.py\u001b[0m in \u001b[0;36mwait\u001b[0;34m(self, timeout)\u001b[0m\n\u001b[1;32m    304\u001b[0m             \u001b[0;32melse\u001b[0m\u001b[0;34m:\u001b[0m\u001b[0;34m\u001b[0m\u001b[0;34m\u001b[0m\u001b[0m\n\u001b[1;32m    305\u001b[0m                 \u001b[0;32mif\u001b[0m \u001b[0mtimeout\u001b[0m \u001b[0;34m>\u001b[0m \u001b[0;36m0\u001b[0m\u001b[0;34m:\u001b[0m\u001b[0;34m\u001b[0m\u001b[0;34m\u001b[0m\u001b[0m\n\u001b[0;32m--> 306\u001b[0;31m                     \u001b[0mgotit\u001b[0m \u001b[0;34m=\u001b[0m \u001b[0mwaiter\u001b[0m\u001b[0;34m.\u001b[0m\u001b[0macquire\u001b[0m\u001b[0;34m(\u001b[0m\u001b[0;32mTrue\u001b[0m\u001b[0;34m,\u001b[0m \u001b[0mtimeout\u001b[0m\u001b[0;34m)\u001b[0m\u001b[0;34m\u001b[0m\u001b[0;34m\u001b[0m\u001b[0m\n\u001b[0m\u001b[1;32m    307\u001b[0m                 \u001b[0;32melse\u001b[0m\u001b[0;34m:\u001b[0m\u001b[0;34m\u001b[0m\u001b[0;34m\u001b[0m\u001b[0m\n\u001b[1;32m    308\u001b[0m                     \u001b[0mgotit\u001b[0m \u001b[0;34m=\u001b[0m \u001b[0mwaiter\u001b[0m\u001b[0;34m.\u001b[0m\u001b[0macquire\u001b[0m\u001b[0;34m(\u001b[0m\u001b[0;32mFalse\u001b[0m\u001b[0;34m)\u001b[0m\u001b[0;34m\u001b[0m\u001b[0;34m\u001b[0m\u001b[0m\n",
      "\u001b[0;31mKeyboardInterrupt\u001b[0m: "
     ]
    }
   ],
   "source": [
    "cobot.stochastic_move_to_pose(CuttingPoseA)"
   ]
  },
  {
   "cell_type": "code",
   "execution_count": 15,
   "id": "321ab7e7",
   "metadata": {},
   "outputs": [
    {
     "name": "stdout",
     "output_type": "stream",
     "text": [
      "[-0.15175  0.51511 -1.96199 -0.       0.66449 -1.73504]\n"
     ]
    }
   ],
   "source": [
    "print(cobot.q)"
   ]
  },
  {
   "cell_type": "code",
   "execution_count": 31,
   "id": "a714f43b",
   "metadata": {},
   "outputs": [],
   "source": [
    "cobot.stop()"
   ]
  },
  {
   "cell_type": "code",
   "execution_count": 28,
   "id": "1e5e42f0",
   "metadata": {},
   "outputs": [],
   "source": [
    "  shit = np.array([[-1       ,  0     ,    0     ,    0.5651],    \n",
    "   [0    ,     1  ,       0  ,       0.1366 ],   \n",
    "   [0,         0   ,     -1   ,      0.32  ],    \n",
    "   [0,         0    ,     0    ,     1]])\n"
   ]
  },
  {
   "cell_type": "code",
   "execution_count": 31,
   "id": "9eb048cb",
   "metadata": {},
   "outputs": [],
   "source": [
    "cobot.goTo(cobot.q_calib, v_max=0.03)"
   ]
  },
  {
   "cell_type": "code",
   "execution_count": 39,
   "id": "e08564ae",
   "metadata": {},
   "outputs": [
    {
     "data": {
      "application/vnd.jupyter.widget-view+json": {
       "model_id": "bc9d1dddd86d4bec8bf35608bfcbd94e",
       "version_major": 2,
       "version_minor": 0
      },
      "text/plain": [
       "  0%|          | 0/500000 [00:00<?, ?it/s]"
      ]
     },
     "metadata": {},
     "output_type": "display_data"
    },
    {
     "ename": "KeyboardInterrupt",
     "evalue": "",
     "output_type": "error",
     "traceback": [
      "\u001b[0;31m---------------------------------------------------------------------------\u001b[0m",
      "\u001b[0;31mKeyboardInterrupt\u001b[0m                         Traceback (most recent call last)",
      "\u001b[0;32m/tmp/ipykernel_235384/17207833.py\u001b[0m in \u001b[0;36m<module>\u001b[0;34m\u001b[0m\n\u001b[0;32m----> 1\u001b[0;31m \u001b[0mMoveLoop\u001b[0m\u001b[0;34m(\u001b[0m\u001b[0mpose\u001b[0m\u001b[0;34m=\u001b[0m\u001b[0mcobot\u001b[0m\u001b[0;34m.\u001b[0m\u001b[0mFK\u001b[0m\u001b[0;34m(\u001b[0m\u001b[0mcobot\u001b[0m\u001b[0;34m.\u001b[0m\u001b[0mq_calib\u001b[0m\u001b[0;34m)\u001b[0m\u001b[0;34m,\u001b[0m\u001b[0mv_max\u001b[0m\u001b[0;34m=\u001b[0m\u001b[0;36m0.02\u001b[0m\u001b[0;34m,\u001b[0m\u001b[0mrot_max\u001b[0m\u001b[0;34m=\u001b[0m\u001b[0;36m0.1\u001b[0m\u001b[0;34m,\u001b[0m\u001b[0mtimeout\u001b[0m\u001b[0;34m=\u001b[0m\u001b[0;36m5000\u001b[0m\u001b[0;34m,\u001b[0m\u001b[0mrpm\u001b[0m\u001b[0;34m=\u001b[0m\u001b[0;36m0\u001b[0m\u001b[0;34m)\u001b[0m\u001b[0;34m\u001b[0m\u001b[0;34m\u001b[0m\u001b[0m\n\u001b[0m",
      "\u001b[0;32m/tmp/ipykernel_235384/3453573778.py\u001b[0m in \u001b[0;36mMoveLoop\u001b[0;34m(pose, v_max, rot_max, timeout, rpm)\u001b[0m\n\u001b[1;32m     16\u001b[0m             \u001b[0mcobot\u001b[0m\u001b[0;34m.\u001b[0m\u001b[0mtool_controller\u001b[0m\u001b[0;34m.\u001b[0m\u001b[0menable_grinder\u001b[0m\u001b[0;34m(\u001b[0m\u001b[0;34m)\u001b[0m\u001b[0;34m\u001b[0m\u001b[0;34m\u001b[0m\u001b[0m\n\u001b[1;32m     17\u001b[0m \u001b[0;34m\u001b[0m\u001b[0m\n\u001b[0;32m---> 18\u001b[0;31m         \u001b[0mcobot\u001b[0m\u001b[0;34m.\u001b[0m\u001b[0mupdate\u001b[0m\u001b[0;34m(\u001b[0m\u001b[0;34m)\u001b[0m\u001b[0;34m\u001b[0m\u001b[0;34m\u001b[0m\u001b[0m\n\u001b[0m",
      "\u001b[0;32m~/_ros/hr_recycler_ws/src/hrr_cobot/hrr_cobot_robot/src/hrr_cobot_robot/hrr_cobot_control.py\u001b[0m in \u001b[0;36mupdate\u001b[0;34m(self, sleep, u_cmd, u_cmd_frame, skip_forward, **_)\u001b[0m\n\u001b[1;32m    413\u001b[0m         \u001b[0;32mif\u001b[0m \u001b[0;32mnot\u001b[0m \u001b[0mskip_forward\u001b[0m\u001b[0;34m:\u001b[0m\u001b[0;34m\u001b[0m\u001b[0;34m\u001b[0m\u001b[0m\n\u001b[1;32m    414\u001b[0m             \u001b[0mself\u001b[0m\u001b[0;34m.\u001b[0m\u001b[0mupdate_tf\u001b[0m\u001b[0;34m(\u001b[0m\u001b[0;34m)\u001b[0m\u001b[0;34m\u001b[0m\u001b[0;34m\u001b[0m\u001b[0m\n\u001b[0;32m--> 415\u001b[0;31m         \u001b[0;32mif\u001b[0m \u001b[0mself\u001b[0m\u001b[0;34m.\u001b[0m\u001b[0msafety_check\u001b[0m\u001b[0;34m(\u001b[0m\u001b[0;34m)\u001b[0m\u001b[0;34m:\u001b[0m\u001b[0;34m\u001b[0m\u001b[0;34m\u001b[0m\u001b[0m\n\u001b[0m\u001b[1;32m    416\u001b[0m             \u001b[0;32mif\u001b[0m \u001b[0mu_cmd\u001b[0m \u001b[0;32mis\u001b[0m \u001b[0;32mnot\u001b[0m \u001b[0;32mNone\u001b[0m\u001b[0;34m:\u001b[0m\u001b[0;34m\u001b[0m\u001b[0;34m\u001b[0m\u001b[0m\n\u001b[1;32m    417\u001b[0m                 \u001b[0mself\u001b[0m\u001b[0;34m.\u001b[0m\u001b[0mpublish_u_x_dot\u001b[0m\u001b[0;34m(\u001b[0m\u001b[0mu_cmd\u001b[0m\u001b[0;34m,\u001b[0m \u001b[0mframe_id\u001b[0m\u001b[0;34m=\u001b[0m\u001b[0mu_cmd_frame\u001b[0m\u001b[0;34m)\u001b[0m\u001b[0;34m\u001b[0m\u001b[0;34m\u001b[0m\u001b[0m\n",
      "\u001b[0;32m~/_ros/hr_recycler_ws/src/hrr_cobot/hrr_cobot_robot/src/hrr_cobot_robot/hrr_cobot_control.py\u001b[0m in \u001b[0;36msafety_check\u001b[0;34m(self)\u001b[0m\n\u001b[1;32m    217\u001b[0m \u001b[0;34m\u001b[0m\u001b[0m\n\u001b[1;32m    218\u001b[0m     \u001b[0;32mdef\u001b[0m \u001b[0msafety_check\u001b[0m\u001b[0;34m(\u001b[0m\u001b[0mself\u001b[0m\u001b[0;34m)\u001b[0m \u001b[0;34m->\u001b[0m \u001b[0mbool\u001b[0m\u001b[0;34m:\u001b[0m\u001b[0;34m\u001b[0m\u001b[0;34m\u001b[0m\u001b[0m\n\u001b[0;32m--> 219\u001b[0;31m         \u001b[0;32mif\u001b[0m \u001b[0mnp\u001b[0m\u001b[0;34m.\u001b[0m\u001b[0mlinalg\u001b[0m\u001b[0;34m.\u001b[0m\u001b[0mnorm\u001b[0m\u001b[0;34m(\u001b[0m\u001b[0mself\u001b[0m\u001b[0;34m.\u001b[0m\u001b[0mB_F_msr\u001b[0m\u001b[0;34m)\u001b[0m \u001b[0;34m>=\u001b[0m \u001b[0mself\u001b[0m\u001b[0;34m.\u001b[0m\u001b[0mF_max\u001b[0m\u001b[0;34m:\u001b[0m\u001b[0;34m\u001b[0m\u001b[0;34m\u001b[0m\u001b[0m\n\u001b[0m\u001b[1;32m    220\u001b[0m             rospy.logerr_throttle(0.2,\n\u001b[1;32m    221\u001b[0m                                   f\"Force threshold exceeded: |F|={np.linalg.norm(self.B_F_msr):.2f} > {self.F_max:.2f}. Stop motion\")\n",
      "\u001b[0;32m~/_ros/hr_recycler_ws/src/hrr_cobot/hrr_cobot_robot/src/hrr_cobot_robot/hrr_cobot_handle.py\u001b[0m in \u001b[0;36mB_F_msr\u001b[0;34m(self)\u001b[0m\n\u001b[1;32m    327\u001b[0m             \u001b[0mnp\u001b[0m\u001b[0;34m.\u001b[0m\u001b[0mndarray\u001b[0m\u001b[0;34m:\u001b[0m \u001b[0;34m:\u001b[0m\u001b[0mmath\u001b[0m\u001b[0;34m:\u001b[0m\u001b[0;31m`\u001b[0m\u001b[0;34m{\u001b[0m\u001b[0;34m}\u001b[0m\u001b[0;34m^\u001b[0m\u001b[0;34m{\u001b[0m\u001b[0mB\u001b[0m\u001b[0;34m}\u001b[0m\u001b[0;34m{\u001b[0m\u001b[0;31m\\\u001b[0m\u001b[0mbf\u001b[0m\u001b[0;34m{\u001b[0m\u001b[0mF\u001b[0m\u001b[0;34m}\u001b[0m\u001b[0;34m}\u001b[0m\u001b[0m_\u001b[0m\u001b[0;34m{\u001b[0m\u001b[0;31m\\\u001b[0m\u001b[0mmathrm\u001b[0m\u001b[0;34m{\u001b[0m\u001b[0mmsr\u001b[0m\u001b[0;34m}\u001b[0m\u001b[0;34m}\u001b[0m\u001b[0;31m`\u001b[0m\u001b[0;34m\u001b[0m\u001b[0;34m\u001b[0m\u001b[0m\n\u001b[1;32m    328\u001b[0m         \"\"\"\n\u001b[0;32m--> 329\u001b[0;31m         \u001b[0;32mreturn\u001b[0m \u001b[0mself\u001b[0m\u001b[0;34m.\u001b[0m\u001b[0m_calc_B_F_msr\u001b[0m\u001b[0;34m(\u001b[0m\u001b[0;34m)\u001b[0m\u001b[0;34m\u001b[0m\u001b[0;34m\u001b[0m\u001b[0m\n\u001b[0m\u001b[1;32m    330\u001b[0m \u001b[0;34m\u001b[0m\u001b[0m\n\u001b[1;32m    331\u001b[0m     \u001b[0;34m@\u001b[0m\u001b[0mproperty\u001b[0m\u001b[0;34m\u001b[0m\u001b[0;34m\u001b[0m\u001b[0m\n",
      "\u001b[0;32m~/_ros/hr_recycler_ws/src/hrr_cobot/hrr_cobot_robot/src/hrr_cobot_robot/hrr_cobot_handle.py\u001b[0m in \u001b[0;36m_calc_B_F_msr\u001b[0;34m(self)\u001b[0m\n\u001b[1;32m    297\u001b[0m             \u001b[0;32mreturn\u001b[0m \u001b[0mnp\u001b[0m\u001b[0;34m.\u001b[0m\u001b[0mzeros\u001b[0m\u001b[0;34m(\u001b[0m\u001b[0;36m6\u001b[0m\u001b[0;34m)\u001b[0m\u001b[0;34m\u001b[0m\u001b[0;34m\u001b[0m\u001b[0m\n\u001b[1;32m    298\u001b[0m \u001b[0;34m\u001b[0m\u001b[0m\n\u001b[0;32m--> 299\u001b[0;31m         return np.r_[_quat_rotate_vec(self.sns_quat, self.R_FT_E.T @ self.FT_F[0:3]),\n\u001b[0m\u001b[1;32m    300\u001b[0m                      _quat_rotate_vec(self.sns_quat, self.R_FT_E.T @ self.FT_F[3:6])]\n\u001b[1;32m    301\u001b[0m \u001b[0;34m\u001b[0m\u001b[0m\n",
      "\u001b[0;32m~/anaconda3/envs/hrr/lib/python3.8/site-packages/numpy/lib/index_tricks.py\u001b[0m in \u001b[0;36m__getitem__\u001b[0;34m(self, key)\u001b[0m\n\u001b[1;32m    385\u001b[0m                 \u001b[0mscalartypes\u001b[0m\u001b[0;34m.\u001b[0m\u001b[0mappend\u001b[0m\u001b[0;34m(\u001b[0m\u001b[0mnewobj\u001b[0m\u001b[0;34m.\u001b[0m\u001b[0mdtype\u001b[0m\u001b[0;34m)\u001b[0m\u001b[0;34m\u001b[0m\u001b[0;34m\u001b[0m\u001b[0m\n\u001b[1;32m    386\u001b[0m             \u001b[0;32melse\u001b[0m\u001b[0;34m:\u001b[0m\u001b[0;34m\u001b[0m\u001b[0;34m\u001b[0m\u001b[0m\n\u001b[0;32m--> 387\u001b[0;31m                 \u001b[0mitem_ndim\u001b[0m \u001b[0;34m=\u001b[0m \u001b[0mndim\u001b[0m\u001b[0;34m(\u001b[0m\u001b[0mitem\u001b[0m\u001b[0;34m)\u001b[0m\u001b[0;34m\u001b[0m\u001b[0;34m\u001b[0m\u001b[0m\n\u001b[0m\u001b[1;32m    388\u001b[0m                 \u001b[0mnewobj\u001b[0m \u001b[0;34m=\u001b[0m \u001b[0marray\u001b[0m\u001b[0;34m(\u001b[0m\u001b[0mitem\u001b[0m\u001b[0;34m,\u001b[0m \u001b[0mcopy\u001b[0m\u001b[0;34m=\u001b[0m\u001b[0;32mFalse\u001b[0m\u001b[0;34m,\u001b[0m \u001b[0msubok\u001b[0m\u001b[0;34m=\u001b[0m\u001b[0;32mTrue\u001b[0m\u001b[0;34m,\u001b[0m \u001b[0mndmin\u001b[0m\u001b[0;34m=\u001b[0m\u001b[0mndmin\u001b[0m\u001b[0;34m)\u001b[0m\u001b[0;34m\u001b[0m\u001b[0;34m\u001b[0m\u001b[0m\n\u001b[1;32m    389\u001b[0m                 \u001b[0;32mif\u001b[0m \u001b[0mtrans1d\u001b[0m \u001b[0;34m!=\u001b[0m \u001b[0;34m-\u001b[0m\u001b[0;36m1\u001b[0m \u001b[0;32mand\u001b[0m \u001b[0mitem_ndim\u001b[0m \u001b[0;34m<\u001b[0m \u001b[0mndmin\u001b[0m\u001b[0;34m:\u001b[0m\u001b[0;34m\u001b[0m\u001b[0;34m\u001b[0m\u001b[0m\n",
      "\u001b[0;32m<__array_function__ internals>\u001b[0m in \u001b[0;36mndim\u001b[0;34m(*args, **kwargs)\u001b[0m\n",
      "\u001b[0;31mKeyboardInterrupt\u001b[0m: "
     ]
    }
   ],
   "source": [
    "MoveLoop(pose=cobot.FK(cobot.q_calib),v_max=0.02,rot_max=0.1,timeout=5000,rpm=0)"
   ]
  },
  {
   "cell_type": "code",
   "execution_count": 13,
   "id": "98b3d6f9",
   "metadata": {},
   "outputs": [
    {
     "data": {
      "application/vnd.jupyter.widget-view+json": {
       "model_id": "328305fded4b401cb88016a3f1c60a9f",
       "version_major": 2,
       "version_minor": 0
      },
      "text/plain": [
       "  0%|          | 0/500000 [00:00<?, ?it/s]"
      ]
     },
     "metadata": {},
     "output_type": "display_data"
    }
   ],
   "source": [
    "MoveLoop(pose=CuttingPoseA,v_max=0.02,rot_max=0.1,timeout=5000,rpm=0)"
   ]
  },
  {
   "cell_type": "markdown",
   "id": "5acd2f3c",
   "metadata": {},
   "source": [
    "### 4 Poses (as final setup)"
   ]
  },
  {
   "cell_type": "code",
   "execution_count": 15,
   "id": "93270320",
   "metadata": {},
   "outputs": [],
   "source": [
    "def MoveLoop(pose,v_max=0.005,rot_max=0.005,timeout=50,rpm=0.005):\n",
    "    \"\"\"\n",
    "    Sends robot to given position.\n",
    "    \"\"\"\n",
    "    cobot.move_to_pose(pose,v_max,rot_max,rot_precision_threshold=0.001, pos_precision_threshold=0.001)\n",
    "    T = int(timeout * cobot.hz)\n",
    "    for t in trange(T):\n",
    "        if cobot.state is None:\n",
    "            rospy.loginfo(f\"reached goal pose at step {t + 1} / {T}\")\n",
    "            break\n",
    "        elif cobot.state == \"error\":\n",
    "            rospy.logerr(f\"robot in ERROR state\")\n",
    "        if rpm != 0:\n",
    "            cobot.tool_controller.rpm = rpm\n",
    "            cobot.tool_controller.enable_grinder()\n",
    "\n",
    "        cobot.update()"
   ]
  },
  {
   "cell_type": "code",
   "execution_count": 16,
   "id": "969537e5",
   "metadata": {},
   "outputs": [],
   "source": [
    "## sets a safe transformation for robot with shaftgrinder attached.\n",
    "\n",
    "Shaftgrinder_tf = np.array([[-0.707107, 0.707107, 0., 0.455498],\n",
    "                            [0, 0, 1, 0.0482934],\n",
    "                            [0.707107, 0.707107, 0, 0.653348],\n",
    "                            [0, 0, 0, 1]])\n",
    "\n",
    "## sets translational vector\n",
    "toEE = np.array([0, -0.156, 0.094])"
   ]
  },
  {
   "cell_type": "code",
   "execution_count": 17,
   "id": "03e31d0c",
   "metadata": {},
   "outputs": [],
   "source": [
    "# use data from vision/task planner or set coordinates manually\n",
    "\n",
    "xstart = 0.592829 #determine start value next to cable (in start cutting pose)\n",
    "ystart = -0.229713\n",
    "zstart =  0.367\n",
    "\n",
    "normalA = hrr_cm.ros_utils.np2vector3stamped(np.r_[0,0,-1], \"normalA\")\n",
    "pointA = hrr_cm.ros_utils.np2vector3stamped(np.r_[xstart,ystart,zstart], \"pointA\")\n",
    "normalB = hrr_cm.ros_utils.np2vector3stamped(np.r_[0,0,-1], \"normalB\")\n",
    "pointB = hrr_cm.ros_utils.np2vector3stamped(np.r_[xstart,ystart+0.031,zstart], \"pointB\")"
   ]
  },
  {
   "cell_type": "code",
   "execution_count": 19,
   "id": "253a2e74",
   "metadata": {},
   "outputs": [],
   "source": [
    "PrePoseA = hrr_cm.calc_EE_pre_pose_neg(normal=hrr_cm.vec32np(normalA.vector),\n",
    "                                        p_location=hrr_cm.vec32np(pointA.vector),\n",
    "                                        C_p_CE=toEE, R_C_E=Shaftgrinder_tf[:3, :3],\n",
    "                                        safety_distance=-0.05)\n",
    "\n",
    "PrePoseB = hrr_cm.calc_EE_pre_pose_neg(normal=hrr_cm.vec32np(normalB.vector),\n",
    "                                       p_location=hrr_cm.vec32np(pointB.vector),\n",
    "                                       C_p_CE=toEE, R_C_E=Shaftgrinder_tf[:3, :3],\n",
    "                                       safety_distance=-0.05)\n",
    "\n",
    "CuttingPoseA = hrr_cm.calc_EE_pre_pose_neg(normal=hrr_cm.vec32np(normalA.vector),\n",
    "                                        p_location=hrr_cm.vec32np(pointA.vector),\n",
    "                                        C_p_CE=toEE, R_C_E=Shaftgrinder_tf[:3, :3],\n",
    "                                        safety_distance=-0)\n",
    "\n",
    "CuttingPoseB = hrr_cm.calc_EE_pre_pose_neg(normal=hrr_cm.vec32np(normalB.vector),\n",
    "                                       p_location=hrr_cm.vec32np(pointB.vector),\n",
    "                                       C_p_CE=toEE, R_C_E=Shaftgrinder_tf[:3, :3],\n",
    "                                       safety_distance=-0)"
   ]
  },
  {
   "cell_type": "code",
   "execution_count": 24,
   "id": "46d0b3bc",
   "metadata": {},
   "outputs": [
    {
     "data": {
      "application/vnd.jupyter.widget-view+json": {
       "model_id": "79f29c7d07314400a3b182d3dcaf798b",
       "version_major": 2,
       "version_minor": 0
      },
      "text/plain": [
       "  0%|          | 0/500000 [00:00<?, ?it/s]"
      ]
     },
     "metadata": {},
     "output_type": "display_data"
    },
    {
     "name": "stdout",
     "output_type": "stream",
     "text": [
      "[INFO] [1645031720.934701]: reached goal pose at step 1358 / 500000\n"
     ]
    },
    {
     "data": {
      "application/vnd.jupyter.widget-view+json": {
       "model_id": "db30daeb63bf43dba2e3db29aa5286fa",
       "version_major": 2,
       "version_minor": 0
      },
      "text/plain": [
       "  0%|          | 0/500000 [00:00<?, ?it/s]"
      ]
     },
     "metadata": {},
     "output_type": "display_data"
    },
    {
     "name": "stdout",
     "output_type": "stream",
     "text": [
      "[INFO] [1645031772.888284]: reached goal pose at step 5191 / 500000\n"
     ]
    },
    {
     "data": {
      "application/vnd.jupyter.widget-view+json": {
       "model_id": "98651e9b14a84010827046a81a02c73f",
       "version_major": 2,
       "version_minor": 0
      },
      "text/plain": [
       "  0%|          | 0/500000 [00:00<?, ?it/s]"
      ]
     },
     "metadata": {},
     "output_type": "display_data"
    },
    {
     "name": "stdout",
     "output_type": "stream",
     "text": [
      "[INFO] [1645031818.294769]: reached goal pose at step 4537 / 500000\n"
     ]
    },
    {
     "data": {
      "application/vnd.jupyter.widget-view+json": {
       "model_id": "95b4d7bcf417439a9d589a9dc7b1f1f2",
       "version_major": 2,
       "version_minor": 0
      },
      "text/plain": [
       "  0%|          | 0/500000 [00:00<?, ?it/s]"
      ]
     },
     "metadata": {},
     "output_type": "display_data"
    },
    {
     "name": "stdout",
     "output_type": "stream",
     "text": [
      "[INFO] [1645031833.883530]: reached goal pose at step 1553 / 500000\n"
     ]
    },
    {
     "name": "stderr",
     "output_type": "stream",
     "text": [
      "[WARN] [1645031833.890883]: minimum value is 3500 => set value to 0\n",
      "[WARN] [1645031833.895191]: minimum value is 3500 => set value to 0\n"
     ]
    }
   ],
   "source": [
    "MoveLoop(pose=PrePoseA,v_max=0.2,rot_max=0.4,timeout=5000,rpm=0)\n",
    "MoveLoop(pose=CuttingPoseA,v_max=0.06,rot_max=0.02,timeout=5000,rpm=5000)\n",
    "MoveLoop(pose=CuttingPoseB,v_max=0.06,rot_max=0.02,timeout=5000,rpm=5000)\n",
    "MoveLoop(pose=PrePoseB,v_max=0.2,rot_max=0.4,timeout=5000,rpm=5000)\n",
    "cobot.tool_controller.rpm = 0\n",
    "cobot.tool_controller.disable()"
   ]
  },
  {
   "cell_type": "markdown",
   "id": "b735cab6",
   "metadata": {},
   "source": [
    "## How to call action service"
   ]
  },
  {
   "cell_type": "markdown",
   "id": "2152f6e8",
   "metadata": {},
   "source": [
    "1. set up as above\n",
    "2. additionally start the server in PyCharm (for easy debugging) or just run the file \n",
    "~~~\n",
    "python /hrr_cobot/hrr_cobot_robot/scripts/devel/cutting_skill.py\n",
    "~~~\n",
    "3. As device type and device center is needed, you need to start a dummy publisher for both (or adapt to action rostopics): \n",
    "~~~\n",
    "python hrr_cobot/hrr_cobot_robot/scripts/devel/dummyDevCenterPub.py\n",
    "python /hrr_cobot/hrr_cobot_robot/scripts/devel/dummyDevTypePub.py\n",
    "~~~\n",
    "4. As soon as rospy.spin() is running, you can set up the client and send a goal (see below)"
   ]
  },
  {
   "cell_type": "markdown",
   "id": "77603659",
   "metadata": {},
   "source": [
    "* define the messages that should come from task planner for calling the action service\n",
    "* points (coordinates) must come from vision\n",
    "* normals should be similar to the ones here to avoid collisions. you can also leave them like this and don't consider vision data"
   ]
  },
  {
   "cell_type": "code",
   "execution_count": 14,
   "id": "cce7c8d6",
   "metadata": {},
   "outputs": [],
   "source": [
    "material= MaterialType()\n",
    "material = material.PLASTIC\n",
    "\n",
    "normalA = hrr_cm.ros_utils.np2vector3stamped(np.r_[0,0,1], \"normalA\")\n",
    "pointA = hrr_cm.ros_utils.np2vector3stamped(np.r_[0.5,0.5,0.2], \"pointA\")\n",
    "normalB = hrr_cm.ros_utils.np2vector3stamped(np.r_[0,0,1], \"normalB\")\n",
    "pointB = hrr_cm.ros_utils.np2vector3stamped(np.r_[0.5,0.55,0.2], \"pointB\")\n",
    "## replace by vision data"
   ]
  },
  {
   "cell_type": "code",
   "execution_count": null,
   "id": "c37b57d9",
   "metadata": {},
   "outputs": [],
   "source": [
    "# use data from vision/task planner or set coordinates manually\n",
    "\n",
    "xstart = 0.5 #determine start value next to cable (in start cutting pose)\n",
    "ystart = 0.5\n",
    "zstart =  0.2 #0.025\n",
    "\n",
    "normalA = hrr_cm.ros_utils.np2vector3stamped(np.r_[0,0,1], \"normalA\")\n",
    "pointA = hrr_cm.ros_utils.np2vector3stamped(np.r_[xstart,ystart,zstart], \"pointA\")"
   ]
  },
  {
   "cell_type": "markdown",
   "id": "e15c215f",
   "metadata": {},
   "source": [
    "create the Action client and look for server. Returns \"found\" if the Server is up and running."
   ]
  },
  {
   "cell_type": "code",
   "execution_count": 22,
   "id": "0b79f4e3",
   "metadata": {},
   "outputs": [
    {
     "name": "stdout",
     "output_type": "stream",
     "text": [
      "found\n"
     ]
    }
   ],
   "source": [
    "shaftgrinder_client=actionlib.SimpleActionClient('/cutting_server/cutting', CuttingAction)\n",
    "shaftgrinder_client.wait_for_server()\n",
    "print('found')"
   ]
  },
  {
   "cell_type": "code",
   "execution_count": 24,
   "id": "6a503e4d",
   "metadata": {},
   "outputs": [
    {
     "ename": "KeyboardInterrupt",
     "evalue": "",
     "output_type": "error",
     "traceback": [
      "\u001b[0;31m---------------------------------------------------------------------------\u001b[0m",
      "\u001b[0;31mKeyboardInterrupt\u001b[0m                         Traceback (most recent call last)",
      "\u001b[0;32m/tmp/ipykernel_211595/3562705602.py\u001b[0m in \u001b[0;36m<module>\u001b[0;34m\u001b[0m\n\u001b[1;32m      1\u001b[0m \u001b[0mshaftgrinder_client\u001b[0m\u001b[0;34m=\u001b[0m\u001b[0mactionlib\u001b[0m\u001b[0;34m.\u001b[0m\u001b[0mSimpleActionClient\u001b[0m\u001b[0;34m(\u001b[0m\u001b[0;34m'/hrr_cobot/grinding_action_srv_name'\u001b[0m\u001b[0;34m,\u001b[0m \u001b[0mCuttingAction\u001b[0m\u001b[0;34m)\u001b[0m\u001b[0;34m\u001b[0m\u001b[0;34m\u001b[0m\u001b[0m\n\u001b[0;32m----> 2\u001b[0;31m \u001b[0mshaftgrinder_client\u001b[0m\u001b[0;34m.\u001b[0m\u001b[0mwait_for_server\u001b[0m\u001b[0;34m(\u001b[0m\u001b[0;34m)\u001b[0m\u001b[0;34m\u001b[0m\u001b[0;34m\u001b[0m\u001b[0m\n\u001b[0m\u001b[1;32m      3\u001b[0m \u001b[0mprint\u001b[0m\u001b[0;34m(\u001b[0m\u001b[0;34m'found'\u001b[0m\u001b[0;34m)\u001b[0m\u001b[0;34m\u001b[0m\u001b[0;34m\u001b[0m\u001b[0m\n",
      "\u001b[0;32m/opt/ros/noetic/lib/python3/dist-packages/actionlib/simple_action_client.py\u001b[0m in \u001b[0;36mwait_for_server\u001b[0;34m(self, timeout)\u001b[0m\n\u001b[1;32m     65\u001b[0m     \u001b[0;31m## @return True if the server connected in the allocated time. False on timeout\u001b[0m\u001b[0;34m\u001b[0m\u001b[0;34m\u001b[0m\u001b[0;34m\u001b[0m\u001b[0m\n\u001b[1;32m     66\u001b[0m     \u001b[0;32mdef\u001b[0m \u001b[0mwait_for_server\u001b[0m\u001b[0;34m(\u001b[0m\u001b[0mself\u001b[0m\u001b[0;34m,\u001b[0m \u001b[0mtimeout\u001b[0m\u001b[0;34m=\u001b[0m\u001b[0mrospy\u001b[0m\u001b[0;34m.\u001b[0m\u001b[0mDuration\u001b[0m\u001b[0;34m(\u001b[0m\u001b[0;34m)\u001b[0m\u001b[0;34m)\u001b[0m\u001b[0;34m:\u001b[0m\u001b[0;34m\u001b[0m\u001b[0;34m\u001b[0m\u001b[0m\n\u001b[0;32m---> 67\u001b[0;31m         \u001b[0;32mreturn\u001b[0m \u001b[0mself\u001b[0m\u001b[0;34m.\u001b[0m\u001b[0maction_client\u001b[0m\u001b[0;34m.\u001b[0m\u001b[0mwait_for_server\u001b[0m\u001b[0;34m(\u001b[0m\u001b[0mtimeout\u001b[0m\u001b[0;34m)\u001b[0m\u001b[0;34m\u001b[0m\u001b[0;34m\u001b[0m\u001b[0m\n\u001b[0m\u001b[1;32m     68\u001b[0m \u001b[0;34m\u001b[0m\u001b[0m\n\u001b[1;32m     69\u001b[0m     \u001b[0;31m## @brief Sends a goal to the ActionServer, and also registers callbacks\u001b[0m\u001b[0;34m\u001b[0m\u001b[0;34m\u001b[0m\u001b[0;34m\u001b[0m\u001b[0m\n",
      "\u001b[0;32m/opt/ros/noetic/lib/python3/dist-packages/actionlib/action_client.py\u001b[0m in \u001b[0;36mwait_for_server\u001b[0;34m(self, timeout)\u001b[0m\n\u001b[1;32m    622\u001b[0m                 \u001b[0;32mbreak\u001b[0m\u001b[0;34m\u001b[0m\u001b[0;34m\u001b[0m\u001b[0m\n\u001b[1;32m    623\u001b[0m \u001b[0;34m\u001b[0m\u001b[0m\n\u001b[0;32m--> 624\u001b[0;31m             \u001b[0mtime\u001b[0m\u001b[0;34m.\u001b[0m\u001b[0msleep\u001b[0m\u001b[0;34m(\u001b[0m\u001b[0;36m0.01\u001b[0m\u001b[0;34m)\u001b[0m\u001b[0;34m\u001b[0m\u001b[0;34m\u001b[0m\u001b[0m\n\u001b[0m\u001b[1;32m    625\u001b[0m \u001b[0;34m\u001b[0m\u001b[0m\n\u001b[1;32m    626\u001b[0m         \u001b[0;32mreturn\u001b[0m \u001b[0mstarted\u001b[0m\u001b[0;34m\u001b[0m\u001b[0;34m\u001b[0m\u001b[0m\n",
      "\u001b[0;31mKeyboardInterrupt\u001b[0m: "
     ]
    }
   ],
   "source": [
    "shaftgrinder_client=actionlib.SimpleActionClient('/hrr_cobot/grinding_action_srv_name', CuttingAction)\n",
    "shaftgrinder_client.wait_for_server()\n",
    "print('found')"
   ]
  },
  {
   "cell_type": "markdown",
   "id": "2426921d",
   "metadata": {},
   "source": [
    "define goal - should be done/called by task planner/IBEC"
   ]
  },
  {
   "cell_type": "code",
   "execution_count": 23,
   "id": "5bc9e7bf",
   "metadata": {},
   "outputs": [
    {
     "name": "stdout",
     "output_type": "stream",
     "text": [
      "surface_normal_start: \n",
      "  header: \n",
      "    seq: 0\n",
      "    stamp: \n",
      "      secs: 1645009136\n",
      "      nsecs: 337403297\n",
      "    frame_id: \"normalA\"\n",
      "  vector: \n",
      "    x: 0\n",
      "    y: 0\n",
      "    z: -1\n",
      "surface_normal_end: \n",
      "  header: \n",
      "    seq: 0\n",
      "    stamp: \n",
      "      secs: 1645009136\n",
      "      nsecs: 340436697\n",
      "    frame_id: \"normalB\"\n",
      "  vector: \n",
      "    x: 0\n",
      "    y: 0\n",
      "    z: -1\n",
      "start_location: \n",
      "  header: \n",
      "    seq: 0\n",
      "    stamp: \n",
      "      secs: 1645009136\n",
      "      nsecs: 337791919\n",
      "    frame_id: \"pointA\"\n",
      "  vector: \n",
      "    x: 0.4555\n",
      "    y: 0.0159017\n",
      "    z: 0.65335\n",
      "end_location: \n",
      "  header: \n",
      "    seq: 0\n",
      "    stamp: \n",
      "      secs: 1645009136\n",
      "      nsecs: 341432571\n",
      "    frame_id: \"pointB\"\n",
      "  vector: \n",
      "    x: 0.4555\n",
      "    y: -0.0540378\n",
      "    z: 0.65335\n",
      "material: \n",
      "  material_type: 1\n",
      "thickness: 0.005\n",
      "timeout: 5000\n"
     ]
    }
   ],
   "source": [
    "goal=CuttingGoal()\n",
    "goal.surface_normal_start=normalA\n",
    "goal.surface_normal_end=normalB\n",
    "goal.start_location=pointA\n",
    "goal.end_location=pointB\n",
    "goal.material.material_type=material\n",
    "goal.timeout=5000\n",
    "goal.thickness = 0.005 #not important. can be anything\n",
    "\n",
    "print(goal)"
   ]
  },
  {
   "cell_type": "markdown",
   "id": "bf957dc7",
   "metadata": {},
   "source": [
    "start actual execution by sending the goal"
   ]
  },
  {
   "cell_type": "code",
   "execution_count": 24,
   "id": "ae554828",
   "metadata": {},
   "outputs": [
    {
     "ename": "KeyboardInterrupt",
     "evalue": "",
     "output_type": "error",
     "traceback": [
      "\u001b[0;31m---------------------------------------------------------------------------\u001b[0m",
      "\u001b[0;31mKeyboardInterrupt\u001b[0m                         Traceback (most recent call last)",
      "\u001b[0;32m<ipython-input-24-6fb537238120>\u001b[0m in \u001b[0;36m<module>\u001b[0;34m\u001b[0m\n\u001b[1;32m      1\u001b[0m \u001b[0mshaftgrinder_client\u001b[0m\u001b[0;34m.\u001b[0m\u001b[0msend_goal\u001b[0m\u001b[0;34m(\u001b[0m\u001b[0mgoal\u001b[0m\u001b[0;34m)\u001b[0m\u001b[0;34m\u001b[0m\u001b[0;34m\u001b[0m\u001b[0m\n\u001b[0;32m----> 2\u001b[0;31m \u001b[0mshaftgrinder_client\u001b[0m\u001b[0;34m.\u001b[0m\u001b[0mwait_for_result\u001b[0m\u001b[0;34m(\u001b[0m\u001b[0;34m)\u001b[0m\u001b[0;34m\u001b[0m\u001b[0;34m\u001b[0m\u001b[0m\n\u001b[0m\u001b[1;32m      3\u001b[0m \u001b[0mshaftgrinder_client\u001b[0m\u001b[0;34m.\u001b[0m\u001b[0mget_result\u001b[0m\u001b[0;34m(\u001b[0m\u001b[0;34m)\u001b[0m\u001b[0;34m\u001b[0m\u001b[0;34m\u001b[0m\u001b[0m\n",
      "\u001b[0;32m/opt/ros/noetic/lib/python3/dist-packages/actionlib/simple_action_client.py\u001b[0m in \u001b[0;36mwait_for_result\u001b[0;34m(self, timeout)\u001b[0m\n\u001b[1;32m    141\u001b[0m                     \u001b[0mtime_left\u001b[0m \u001b[0;34m=\u001b[0m \u001b[0mloop_period\u001b[0m\u001b[0;34m\u001b[0m\u001b[0;34m\u001b[0m\u001b[0m\n\u001b[1;32m    142\u001b[0m \u001b[0;34m\u001b[0m\u001b[0m\n\u001b[0;32m--> 143\u001b[0;31m                 \u001b[0mself\u001b[0m\u001b[0;34m.\u001b[0m\u001b[0mdone_condition\u001b[0m\u001b[0;34m.\u001b[0m\u001b[0mwait\u001b[0m\u001b[0;34m(\u001b[0m\u001b[0mtime_left\u001b[0m\u001b[0;34m.\u001b[0m\u001b[0mto_sec\u001b[0m\u001b[0;34m(\u001b[0m\u001b[0;34m)\u001b[0m\u001b[0;34m)\u001b[0m\u001b[0;34m\u001b[0m\u001b[0;34m\u001b[0m\u001b[0m\n\u001b[0m\u001b[1;32m    144\u001b[0m \u001b[0;34m\u001b[0m\u001b[0m\n\u001b[1;32m    145\u001b[0m         \u001b[0;32mreturn\u001b[0m \u001b[0mself\u001b[0m\u001b[0;34m.\u001b[0m\u001b[0msimple_state\u001b[0m \u001b[0;34m==\u001b[0m \u001b[0mSimpleGoalState\u001b[0m\u001b[0;34m.\u001b[0m\u001b[0mDONE\u001b[0m\u001b[0;34m\u001b[0m\u001b[0;34m\u001b[0m\u001b[0m\n",
      "\u001b[0;32m~/anaconda3/envs/hrr/lib/python3.8/threading.py\u001b[0m in \u001b[0;36mwait\u001b[0;34m(self, timeout)\u001b[0m\n\u001b[1;32m    304\u001b[0m             \u001b[0;32melse\u001b[0m\u001b[0;34m:\u001b[0m\u001b[0;34m\u001b[0m\u001b[0;34m\u001b[0m\u001b[0m\n\u001b[1;32m    305\u001b[0m                 \u001b[0;32mif\u001b[0m \u001b[0mtimeout\u001b[0m \u001b[0;34m>\u001b[0m \u001b[0;36m0\u001b[0m\u001b[0;34m:\u001b[0m\u001b[0;34m\u001b[0m\u001b[0;34m\u001b[0m\u001b[0m\n\u001b[0;32m--> 306\u001b[0;31m                     \u001b[0mgotit\u001b[0m \u001b[0;34m=\u001b[0m \u001b[0mwaiter\u001b[0m\u001b[0;34m.\u001b[0m\u001b[0macquire\u001b[0m\u001b[0;34m(\u001b[0m\u001b[0;32mTrue\u001b[0m\u001b[0;34m,\u001b[0m \u001b[0mtimeout\u001b[0m\u001b[0;34m)\u001b[0m\u001b[0;34m\u001b[0m\u001b[0;34m\u001b[0m\u001b[0m\n\u001b[0m\u001b[1;32m    307\u001b[0m                 \u001b[0;32melse\u001b[0m\u001b[0;34m:\u001b[0m\u001b[0;34m\u001b[0m\u001b[0;34m\u001b[0m\u001b[0m\n\u001b[1;32m    308\u001b[0m                     \u001b[0mgotit\u001b[0m \u001b[0;34m=\u001b[0m \u001b[0mwaiter\u001b[0m\u001b[0;34m.\u001b[0m\u001b[0macquire\u001b[0m\u001b[0;34m(\u001b[0m\u001b[0;32mFalse\u001b[0m\u001b[0;34m)\u001b[0m\u001b[0;34m\u001b[0m\u001b[0;34m\u001b[0m\u001b[0m\n",
      "\u001b[0;31mKeyboardInterrupt\u001b[0m: "
     ]
    }
   ],
   "source": [
    "shaftgrinder_client.send_goal(goal)\n",
    "shaftgrinder_client.wait_for_result()\n",
    "shaftgrinder_client.get_result()"
   ]
  },
  {
   "cell_type": "markdown",
   "id": "bc7ae610",
   "metadata": {},
   "source": [
    "if needed: you can cancel all goals"
   ]
  },
  {
   "cell_type": "code",
   "execution_count": null,
   "id": "23f067c7",
   "metadata": {},
   "outputs": [],
   "source": [
    "shaftgrinder_client.cancel_all_goals()"
   ]
  },
  {
   "cell_type": "markdown",
   "id": "e7abf9fb",
   "metadata": {},
   "source": [
    "## Arduino Fix:"
   ]
  },
  {
   "cell_type": "markdown",
   "id": "e62edff6",
   "metadata": {},
   "source": [
    "Take new arduion and flash it with the following programm in Arduino IDE: \n",
    "\n",
    "File: \n",
    "\n",
    "~~~\n",
    "/hrr_cobot/hrr_ee_tools/assets/general_ee_tools/general_ee_tools.ino\n",
    "~~~\n",
    "\n",
    "or copy content from cell below"
   ]
  },
  {
   "cell_type": "code",
   "execution_count": null,
   "id": "78203186",
   "metadata": {},
   "outputs": [],
   "source": [
    "/*\n",
    "  @file general_ee_tools.ino\n",
    "  @author Annalena Daniels (a.daniels@tum.de)\n",
    "  @author Klara Tomaskovic (klara.tomaskovic@gmail.com)\n",
    "  @author Volker gabler (v.gabler@tum.de)\n",
    "  @brief HR-Recycler Tool control script\n",
    "  @version 0.1.1\n",
    "  @date 2021-12-30\n",
    "  This short arduino code enables an Arduino to control\n",
    "\n",
    "*  * PIN  6: a Shaft grinder via PWM motor control using a 10V control line\n",
    "*  * PIN 13: a vacuum gripper controlled via a pneumatic vacuum switch\n",
    "*  * PIN 0-5 & 7-12: a screwdriver KOLVER pluto 10\n",
    "  @copyright Copyright (c) 2021 TUM-LSR HR-Recycler Group\n",
    "*/\n",
    "\n",
    "//#define DEBUG TRUE // outcomment to compile with debugging options\n",
    "#define USE_PROG58 // enable program 5 to 8\n",
    "#include <ros.h>\n",
    "#include <std_msgs/Bool.h>\n",
    "#include <std_msgs/Int8.h>\n",
    "#include <std_msgs/Float32.h>\n",
    "#include <std_srvs/SetBool.h>\n",
    "#include <std_srvs/Empty.h>\n",
    "\n",
    "using std_srvs::SetBool;\n",
    "using std_srvs::Empty;\n",
    "\n",
    "\n",
    "#define SC_STOP 2  // STOP SCREWDRIVER PIN I/O\n",
    "#define SC_START 3 // SCREWDRIVER START PIN I/O\n",
    "#define SC_REVERSE 4 // SCREWDRIVER REVERSE PIN I/O\n",
    "#define SC_PRG1 12 // SCREWDRIVER PROGRAM 1 PIN I/O\n",
    "#define SC_PRG2 11 // SCREWDRIVER PROGRAM 2 PIN I/O\n",
    "#define SC_PRG3 10 // SCREWDRIVER PROGRAM 3 PIN I/O\n",
    "#define SC_PRG4 9 // SCREWDRIVER PROGRAM 4 PIN I/O\n",
    "#define SC_PRG5 8 // SCREWDRIVER PROGRAM 5 PIN I/O\n",
    "#define SC_PRG6 7 // SCREWDRIVER PROGRAM 6 PIN I/O\n",
    "#define SC_PRG7 5 // SCREWDRIVER PROGRAM 7 PIN I/O\n",
    "#define SC_PRG8 4 // SCREWDRIVER PROGRAM 8 PIN I/O \n",
    "\n",
    "\n",
    "#define GRINDER_SWITCH 6 // GRINDER PIN (needs PWM)\n",
    "#define VACUUM_SWITCH 13 // VACUUM PIN\n",
    "\n",
    "\n",
    "#define GR 3\n",
    "#define SC 4\n",
    "#define VC 5\n",
    "#define OFF -2\n",
    "#define NONE 0\n",
    "\n",
    "// globals\n",
    "bool grinder_on = false;\n",
    "bool emergency = false;\n",
    "bool vacuum_on = false;\n",
    "bool screwdriver_on = false;\n",
    "int16_t t_last_msg, t;\n",
    "int16_t t_last_screwdriver_msg, t_last_vacuum_msg, t_last_grinder_msg;\n",
    "int16_t T_timeout = 1000;\n",
    "std_msgs::Int8 driver_state;\n",
    "// Grinder Control\n",
    "uint8_t PWM = 0;\n",
    "float RPM = 0;\n",
    "// screwdriver control\n",
    "int8_t sc_prog = -1;\n",
    "bool sc_start = false;\n",
    "bool sc_reverse = false;\n",
    "bool sc_stop = false;\n",
    "\n",
    "// debug content\n",
    "#ifdef DEBUG\n",
    "std_msgs::Float32 debug_data0;\n",
    "std_msgs::Float32 debug_data1;\n",
    "#endif\n",
    "\n",
    "\n",
    "/**\n",
    "   @brief grinder control -> convert RPM to PWM\n",
    "\n",
    "   @param rpm set value in rotations/minute\n",
    "   @param min_pwm_i8 minimum pwm number. Values below are ignored, i.e. 0.\n",
    "   @param max_pwm_i8 maximum pwm number. Values above are cut to 255.\n",
    "   @return uint8_t pwm value to set grinder to speed of rpm\n",
    "*/\n",
    "uint8_t rpm_to_pwm(const float& rpm,\n",
    "                   const uint8_t& min_pwm_i8 = 20,\n",
    "                   const uint8_t& max_pwm_i8 = 255) {\n",
    "  float max_rpm = 25000.0;\n",
    "  float min_rpm = 3500.0;\n",
    "  if (rpm < min_rpm) {\n",
    "    return 0;\n",
    "  } else if (rpm > max_rpm) {\n",
    "    return max_pwm_i8;\n",
    "  }\n",
    "  float pwm_range = (float) (max_pwm_i8 - min_pwm_i8);\n",
    "  float rpm_range = max_rpm - min_rpm;\n",
    "  float rpm_to_pwm_coefficient = (max_rpm*(float)min_pwm_i8 - min_rpm * (float) max_pwm_i8 )/ rpm_range;\n",
    "  float rpm_to_pwm_slope = pwm_range / rpm_range;\n",
    "  uint8_t pwm = (uint8_t) ( rpm_to_pwm_slope * rpm + rpm_to_pwm_coefficient);\n",
    "  if (pwm > max_pwm_i8) {\n",
    "    return max_pwm_i8;\n",
    "  } else if (pwm < min_pwm_i8) {\n",
    "    return 0;\n",
    "  } else {\n",
    "    return pwm;\n",
    "  }\n",
    "}\n",
    "\n",
    "/**\n",
    "   @brief Set the grinder speed object\n",
    "\n",
    "   @param grinder_pwm_speed ROS-msg as rmp speed value\n",
    "*/\n",
    "void set_grinder_speed(const std_msgs::Float32& grinder_rpm_speed) {\n",
    "  RPM = grinder_rpm_speed.data;\n",
    "  PWM = rpm_to_pwm(RPM); // float -> unsigned int8\n",
    "  t_last_msg = t;\n",
    "  t_last_grinder_msg = t;\n",
    "}\n",
    "\n",
    "\n",
    "/**\n",
    "   @brief Set the screwdriver button cb object\n",
    "   values:\n",
    "    - 1 -> enable program with set motion direction\n",
    "    - 2 -> enable program with reversed motion\n",
    "    - default -> trigger stop\n",
    "   @param button ROS-message as button\n",
    "*/\n",
    "void set_screwdriver_button_cb(const std_msgs::Int8& button) {\n",
    "  if (screwdriver_on) {\n",
    "    switch (button.data) {\n",
    "      case 1:\n",
    "        sc_start = true;\n",
    "        sc_reverse = false;\n",
    "        sc_stop = false;\n",
    "        break;\n",
    "      case -1:\n",
    "        sc_start = false;\n",
    "        sc_reverse = true;\n",
    "        sc_stop = false;\n",
    "        break;\n",
    "      case 0:\n",
    "        sc_start = false;\n",
    "        sc_reverse = false;\n",
    "        sc_stop = true;\n",
    "      default:\n",
    "        sc_start = false;\n",
    "        sc_reverse = false;\n",
    "        sc_stop = false;\n",
    "        break;\n",
    "    }\n",
    "  }\n",
    "  t_last_msg = t;\n",
    "  t_last_screwdriver_msg = t;\n",
    "}\n",
    "\n",
    "/**\n",
    "   @brief Set the screwdriver prog cb object\n",
    "\n",
    "   ignore values outside of (1,8)\n",
    "   @param button ROS-message for desired program\n",
    "*/\n",
    "void set_screwdriver_prog_cb(const std_msgs::Int8& button) {\n",
    "  if (screwdriver_on) {\n",
    "    if ((button.data > 0) && (button.data <= 8)) {\n",
    "      sc_prog = button.data;\n",
    "    }\n",
    "  }\n",
    "  t_last_msg = t;\n",
    "  t_last_screwdriver_msg = t;\n",
    "}\n",
    "\n",
    "\n",
    "\n",
    "/**\n",
    "   @brief shared function -> reset set values\n",
    "*/\n",
    "void reset_values() {\n",
    "  emergency = false;\n",
    "  t = 0;\n",
    "  t_last_msg = -1;\n",
    "  t_last_screwdriver_msg = -T_timeout;\n",
    "  t_last_vacuum_msg = -T_timeout;\n",
    "  t_last_grinder_msg = -T_timeout;\n",
    "}\n",
    "\n",
    "/**\n",
    "   @brief shared function -> reset emergency state via ROS-service\n",
    "*/\n",
    "void reset_srv_cb(const Empty::Request & req, Empty::Response & res) {\n",
    "  if (emergency) {\n",
    "    reset_values();\n",
    "  }\n",
    "}\n",
    "\n",
    "\n",
    "/**\n",
    "   @brief helper function\n",
    "   disable screwdriver mode if last screwdriver message is older than 0.5 seconds\n",
    "*/\n",
    "bool disable_sc() {\n",
    "  if (t - t_last_screwdriver_msg > T_timeout) {\n",
    "    screwdriver_on = false;\n",
    "    return true;\n",
    "  }\n",
    "  return false;\n",
    "}\n",
    "\n",
    "/** @brief helper function\n",
    "    disable vacuum gripper mode if last vacuum gripper message is older than 0.5 seconds\n",
    "*/\n",
    "bool disable_vc() {\n",
    "  if (t - t_last_vacuum_msg > T_timeout) {\n",
    "    vacuum_on = false;\n",
    "    return true;\n",
    "  }\n",
    "  return false;\n",
    "}\n",
    "\n",
    "/** @brief helper function\n",
    "    disable shaft grinder mode if last vacuum gripper message is older than 0.5 seconds\n",
    "*/\n",
    "bool disable_gr() {\n",
    "  if (t - t_last_grinder_msg > T_timeout) {\n",
    "    grinder_on = false;\n",
    "    return true;\n",
    "  }\n",
    "  return false;\n",
    "}\n",
    "\n",
    "\n",
    "/** @brief shared function -> set control mode\n",
    "    Set control mode via an Int8 ROS-msg\n",
    "*/\n",
    "void set_tool_mode_cb(const std_msgs::Int8& mode) {\n",
    "  if (emergency) {\n",
    "    return;\n",
    "  }\n",
    "  if (mode.data == NONE){\n",
    "    grinder_on = false;\n",
    "    screwdriver_on = false;\n",
    "    vacuum_on = false;\n",
    "    reset_values();\n",
    "  } \n",
    "  // set to grinder if possible\n",
    "  else if (mode.data == GR){\n",
    "    if (screwdriver_on) {\n",
    "      if (disable_sc()) {grinder_on = true;}\n",
    "    } else if (vacuum_on) {\n",
    "      if (disable_vc()) {grinder_on = true;}\n",
    "    } else {grinder_on = true;}\n",
    "    t_last_grinder_msg = t;\n",
    "  } \n",
    "  // set to screwdriver mode if possible\n",
    "  else if (mode.data == SC){\n",
    "    if (grinder_on) {\n",
    "      if (disable_gr()) {screwdriver_on = true;}\n",
    "    } else if (vacuum_on) {\n",
    "      if (disable_vc()) {screwdriver_on = true;}\n",
    "    } else {screwdriver_on = true;}\n",
    "    t_last_screwdriver_msg = t;\n",
    "  } \n",
    "  // set to vacuum gripper mode if possible\n",
    "  else if (mode.data == VC){\n",
    "    if (grinder_on) {\n",
    "        if (disable_gr()) {vacuum_on = true;}\n",
    "      } else if (screwdriver_on) {\n",
    "        if (disable_sc()) {vacuum_on = true;}\n",
    "      } else {vacuum_on = true;}\n",
    "      t_last_vacuum_msg = t;\n",
    "  } else {\n",
    "      emergency = true;\n",
    "      grinder_on = false;\n",
    "      screwdriver_on = false;\n",
    "      vacuum_on = false;\n",
    "  }\n",
    "  t_last_msg = t;\n",
    "}\n",
    "\n",
    "\n",
    "ros::NodeHandle  nh;\n",
    "// shared ROS-API\n",
    "ros::ServiceServer<Empty::Request, Empty::Response> reset_srv(\"~reset\", &reset_srv_cb);\n",
    "ros::Subscriber<std_msgs::Int8> sub_tool_mode(\"~set_control_mode\", &set_tool_mode_cb);\n",
    "ros::Publisher pub_driver_status(\"~status\", &driver_state);\n",
    "\n",
    "// grinder control\n",
    "ros::Subscriber<std_msgs::Float32> grinder_speed_sub(\"~grinder/speed\", &set_grinder_speed);\n",
    "\n",
    "// screwdriver control\n",
    "ros::Subscriber<std_msgs::Int8> sub_screwdriver_button_cb(\"~screwdriver/motor\", &set_screwdriver_button_cb);\n",
    "ros::Subscriber<std_msgs::Int8> sub_screwdriver_mode_cb(\"~screwdriver/set_program\", &set_screwdriver_prog_cb);\n",
    "\n",
    "// debug out\n",
    "#ifdef DEBUG\n",
    "ros::Publisher pub_debug_data0(\"~debug/data0\", &debug_data0);\n",
    "ros::Publisher pub_debug_data1(\"~debug/data1\", &debug_data1);\n",
    "#endif\n",
    "/**\n",
    "   @brief Set the pins of the Arduino\n",
    "*/\n",
    "void set_pins()\n",
    "{\n",
    "  // set grinder\n",
    "  pinMode(GRINDER_SWITCH, OUTPUT);\n",
    "  analogWrite(GRINDER_SWITCH, 0);\n",
    "\n",
    "  // set vacuum\n",
    "  pinMode(VACUUM_SWITCH, OUTPUT);\n",
    "  digitalWrite(VACUUM_SWITCH, LOW);\n",
    "\n",
    "  // set screwdriver\n",
    "  pinMode(SC_START, OUTPUT);\n",
    "  pinMode(SC_REVERSE, OUTPUT);\n",
    "  pinMode(SC_PRG1, OUTPUT);\n",
    "  pinMode(SC_STOP, OUTPUT);\n",
    "  pinMode(SC_PRG1, OUTPUT);\n",
    "  pinMode(SC_PRG2, OUTPUT);\n",
    "  pinMode(SC_PRG3, OUTPUT);\n",
    "  pinMode(SC_PRG4, OUTPUT);\n",
    "\n",
    "  digitalWrite(SC_START, LOW);\n",
    "  digitalWrite(SC_REVERSE, LOW);  \n",
    "  digitalWrite(SC_STOP, LOW);\n",
    "  digitalWrite(SC_PRG1, LOW);\n",
    "  digitalWrite(SC_PRG2, LOW);\n",
    "  digitalWrite(SC_PRG3, LOW);\n",
    "  digitalWrite(SC_PRG4, LOW);\n",
    "\n",
    "#ifdef USE_PROG58\n",
    "  pinMode(SC_PRG5, OUTPUT);\n",
    "  pinMode(SC_PRG6, OUTPUT);\n",
    "  pinMode(SC_PRG7, OUTPUT);\n",
    "  pinMode(SC_PRG8, OUTPUT);\n",
    "  digitalWrite(SC_PRG5, LOW);\n",
    "  digitalWrite(SC_PRG6, LOW);\n",
    "  digitalWrite(SC_PRG7, LOW);\n",
    "  digitalWrite(SC_PRG8, LOW);\n",
    "#endif\n",
    "}\n",
    "\n",
    "/**\n",
    "   @brief setup overall program\n",
    "\n",
    "   - set pins\n",
    "   - set ROS API\n",
    "   - reset values\n",
    "*/\n",
    "void setup()\n",
    "{\n",
    "  set_pins();\n",
    "  nh.initNode();\n",
    "  // shared functions\n",
    "  nh.advertiseService(reset_srv);\n",
    "  nh.advertise(pub_driver_status);\n",
    "  nh.subscribe(sub_tool_mode);\n",
    "\n",
    "  //grinder\n",
    "  nh.subscribe(grinder_speed_sub);\n",
    "\n",
    "  //screwdriver\n",
    "  nh.subscribe(sub_screwdriver_button_cb);\n",
    "  nh.subscribe(sub_screwdriver_mode_cb);\n",
    "\n",
    "#ifdef DEBUG\n",
    "  nh.advertise(pub_debug_data0);\n",
    "  nh.advertise(pub_debug_data1);\n",
    "#endif\n",
    "  reset_values();\n",
    "}\n",
    "\n",
    "\n",
    "\n",
    "#ifdef DEBUG\n",
    "/**\n",
    "   @brief debugging function\n",
    "   publish internal states to ROS as needed\n",
    "*/\n",
    "void ros_debug() {\n",
    "  if (screwdriver_on) {\n",
    "    debug_data0.data = sc_prog;\n",
    "    if (sc_start) {\n",
    "      debug_data1.data = 1;\n",
    "    }\n",
    "    else if (sc_reverse) {\n",
    "      debug_data1.data = -1;\n",
    "    } else if (sc_stop) {\n",
    "      debug_data1.data = -2;\n",
    "    }\n",
    "    pub_debug_data0.publish(&debug_data0);\n",
    "    pub_debug_data1.publish(&debug_data1);\n",
    "  } else if (grinder_on) {\n",
    "    debug_data0.data = RPM;\n",
    "    debug_data1.data = PWM;\n",
    "    pub_debug_data0.publish(&debug_data0);\n",
    "    pub_debug_data1.publish(&debug_data1);\n",
    "  }\n",
    "}\n",
    "#endif\n",
    "/**\n",
    "   @brief main loop iteration\n",
    "   run one cycle of current control Arduino code\n",
    "\n",
    "   - write data if any set value has been obtained and driver is not in emergency state\n",
    "   - check against current state\n",
    "   - reset current state in case of timeout\n",
    "   - publish driver state\n",
    "   - publish debug data\n",
    "   - end cycle by sleep\n",
    "*/\n",
    "void loop()\n",
    "{\n",
    "  int16_t T_delay = 10;\n",
    "  int16_t T_MAX = 2000;\n",
    "  nh.spinOnce();\n",
    "  driver_state.data = NONE;\n",
    "  if (t_last_msg >= 0) {\n",
    "    if (emergency) {\n",
    "      digitalWrite(VACUUM_SWITCH, LOW);\n",
    "      digitalWrite(SC_STOP, HIGH);\n",
    "      analogWrite(GRINDER_SWITCH, 0);\n",
    "      driver_state.data = OFF;\n",
    "    } else {\n",
    "      // write grinder data to arduino\n",
    "      if (grinder_on) {\n",
    "        digitalWrite(SC_STOP, HIGH);\n",
    "        digitalWrite(VACUUM_SWITCH, LOW);\n",
    "        if (disable_gr()) {\n",
    "          analogWrite(GRINDER_SWITCH, 0);\n",
    "          PWM = 0;\n",
    "        } else {\n",
    "          analogWrite(GRINDER_SWITCH, PWM);\n",
    "          driver_state.data = GR;\n",
    "        }\n",
    "        // write vacuum data to arduino\n",
    "      } else if (vacuum_on) {\n",
    "        digitalWrite(SC_STOP, HIGH);\n",
    "        analogWrite(GRINDER_SWITCH, 0);\n",
    "        if (disable_vc()) {\n",
    "          digitalWrite(VACUUM_SWITCH, LOW);\n",
    "        } else {\n",
    "          digitalWrite(VACUUM_SWITCH, HIGH);\n",
    "          driver_state.data = VC;\n",
    "        }\n",
    "      } else if (screwdriver_on) {\n",
    "        analogWrite(GRINDER_SWITCH, 0);\n",
    "        digitalWrite(VACUUM_SWITCH, LOW);\n",
    "        if (disable_sc() or sc_stop) {\n",
    "          digitalWrite(SC_STOP, HIGH);\n",
    "        }\n",
    "        else {\n",
    "          digitalWrite(SC_STOP, LOW);\n",
    "          if (sc_prog == 1) {\n",
    "            digitalWrite(SC_PRG1, HIGH);\n",
    "          } else {\n",
    "            digitalWrite(SC_PRG1, LOW);\n",
    "          }\n",
    "          if (sc_prog == 2) {\n",
    "            digitalWrite(SC_PRG2, HIGH);\n",
    "          } else {\n",
    "            digitalWrite(SC_PRG2, LOW);\n",
    "          }\n",
    "          if (sc_prog == 3) {\n",
    "            digitalWrite(SC_PRG3, HIGH);\n",
    "          } else {\n",
    "            digitalWrite(SC_PRG3, LOW);\n",
    "          }\n",
    "          if (sc_prog == 4) {\n",
    "            digitalWrite(SC_PRG4, HIGH);\n",
    "          } else {\n",
    "            digitalWrite(SC_PRG4, LOW);\n",
    "          }\n",
    "#ifdef USE_PROG58\n",
    "          if (sc_prog == 5) {\n",
    "            digitalWrite(SC_PRG5, HIGH);\n",
    "          } else {\n",
    "            digitalWrite(SC_PRG5, LOW);\n",
    "          }\n",
    "          if (sc_prog == 6) {\n",
    "            digitalWrite(SC_PRG6, HIGH);\n",
    "          } else {\n",
    "            digitalWrite(SC_PRG6, LOW);\n",
    "          }\n",
    "          if (sc_prog == 7) {\n",
    "            digitalWrite(SC_PRG7, HIGH);\n",
    "          } else {\n",
    "            digitalWrite(SC_PRG7, LOW);\n",
    "          }\n",
    "          if (sc_prog == 8) {\n",
    "            digitalWrite(SC_PRG8, HIGH);\n",
    "          } else {\n",
    "            digitalWrite(SC_PRG8, LOW);\n",
    "          }\n",
    "#endif\n",
    "          if (sc_start) {\n",
    "            digitalWrite(SC_START, HIGH);\n",
    "            digitalWrite(SC_REVERSE, LOW);\n",
    "          }\n",
    "          else if (sc_reverse) {\n",
    "            digitalWrite(SC_START, LOW);\n",
    "            digitalWrite(SC_REVERSE, HIGH);\n",
    "          } else {\n",
    "            digitalWrite(SC_START, LOW);\n",
    "            digitalWrite(SC_REVERSE, LOW);\n",
    "          }\n",
    "          driver_state.data = SC;\n",
    "        }\n",
    "      } else {\n",
    "        digitalWrite(SC_STOP, HIGH);\n",
    "        digitalWrite(VACUUM_SWITCH, LOW);\n",
    "        analogWrite(GRINDER_SWITCH, 0);\n",
    "      }\n",
    "    }\n",
    "    t += 1;\n",
    "  }\n",
    "  pub_driver_status.publish(&driver_state);\n",
    "#ifdef DEBUG\n",
    "  ros_debug();\n",
    "#endif\n",
    "  delay(T_delay);\n",
    "}\n"
   ]
  }
 ],
 "metadata": {
  "kernelspec": {
   "display_name": "Python 3 (ipykernel)",
   "language": "python",
   "name": "python3"
  },
  "language_info": {
   "codemirror_mode": {
    "name": "ipython",
    "version": 3
   },
   "file_extension": ".py",
   "mimetype": "text/x-python",
   "name": "python",
   "nbconvert_exporter": "python",
   "pygments_lexer": "ipython3",
   "version": "3.8.12"
  },
  "latex_envs": {
   "LaTeX_envs_menu_present": true,
   "autoclose": false,
   "autocomplete": true,
   "bibliofile": "biblio.bib",
   "cite_by": "apalike",
   "current_citInitial": 1,
   "eqLabelWithNumbers": true,
   "eqNumInitial": 1,
   "hotkeys": {
    "equation": "Ctrl-E",
    "itemize": "Ctrl-I"
   },
   "labels_anchors": false,
   "latex_user_defs": false,
   "report_style_numbering": false,
   "user_envs_cfg": false
  },
  "toc": {
   "base_numbering": 1,
   "nav_menu": {},
   "number_sections": true,
   "sideBar": true,
   "skip_h1_title": false,
   "title_cell": "Table of Contents",
   "title_sidebar": "Contents",
   "toc_cell": false,
   "toc_position": {},
   "toc_section_display": true,
   "toc_window_display": false
  }
 },
 "nbformat": 4,
 "nbformat_minor": 5
}
