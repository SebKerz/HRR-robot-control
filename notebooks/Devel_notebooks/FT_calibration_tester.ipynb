{
 "cells": [
  {
   "cell_type": "markdown",
   "id": "6bcbb0cd",
   "metadata": {},
   "source": [
    "# F/T sensor calibration repair and test"
   ]
  },
  {
   "cell_type": "code",
   "execution_count": 1,
   "id": "c7b34f9f",
   "metadata": {},
   "outputs": [],
   "source": [
    "# packages needed for this tutorial\n",
    "from pathlib import Path\n",
    "from tqdm.notebook import trange\n",
    "\n",
    "# math and robotics\n",
    "import numpy as np\n",
    "import quaternion\n",
    "import spatialmath as sm\n",
    "from scipy import optimize\n",
    "\n",
    "# plotting \n",
    "import seaborn as sns\n",
    "import matplotlib.pylab as plt\n",
    "\n",
    "# ROS\n",
    "import rospy\n",
    "\n",
    "# hrr-cobot packages\n",
    "import hrr_cobot_robot\n",
    "import hrr_common\n",
    "import hrr_controllers\n",
    "\n",
    "# set printing and plotting options    \n",
    "np.set_printoptions(precision=5, suppress=True)\n",
    "sns.set_theme('notebook')\n",
    "# %matplotlib notebook"
   ]
  },
  {
   "cell_type": "code",
   "execution_count": null,
   "id": "805e1c14",
   "metadata": {},
   "outputs": [],
   "source": [
    "hrr_common.utils.set_ros_environment(ros_master = 'localhost')"
   ]
  },
  {
   "cell_type": "code",
   "execution_count": 3,
   "id": "7357cc09",
   "metadata": {},
   "outputs": [],
   "source": [
    "rospy.init_node(\"ft_calibration_debugger\")"
   ]
  },
  {
   "cell_type": "code",
   "execution_count": null,
   "id": "33e47dcd",
   "metadata": {},
   "outputs": [],
   "source": [
    "cobot = hrr_cobot_robot.HrrCobotControl.from_ros(\"/hrr_cobot\", compile_numba=False)\n",
    "print(cobot)"
   ]
  },
  {
   "cell_type": "code",
   "execution_count": null,
   "id": "42a8954a",
   "metadata": {},
   "outputs": [],
   "source": [
    "q_des = np.copy(cobot.q_calib)\n",
    "q_des[-2]  -= 0.5\n",
    "cobot.move_to_joint_pose(q_des)"
   ]
  },
  {
   "cell_type": "code",
   "execution_count": null,
   "id": "e9975a58",
   "metadata": {},
   "outputs": [],
   "source": [
    "cobot.Jac() @ np.r_[np.zeros(3), 1.0, 0., 0.0] * 1.0"
   ]
  },
  {
   "cell_type": "code",
   "execution_count": null,
   "id": "d0e9fa7a",
   "metadata": {},
   "outputs": [],
   "source": [
    "cobot._robot.J(cobot.q) @ np.r_[np.zeros(3), 1.0, 0., 0.0] * 1.0"
   ]
  },
  {
   "cell_type": "code",
   "execution_count": null,
   "id": "bac89d05",
   "metadata": {},
   "outputs": [],
   "source": [
    "limits = np.min(np.c_[np.pi * scale_max * np.ones(2), np.abs(cobot.q[q_i] - cobot.joint_limits)[q_i]], axis=1)\n",
    "limits"
   ]
  },
  {
   "cell_type": "markdown",
   "id": "2f20f4b2",
   "metadata": {},
   "source": [
    "## record data"
   ]
  },
  {
   "cell_type": "code",
   "execution_count": 33,
   "id": "ca628f2a",
   "metadata": {},
   "outputs": [],
   "source": [
    "def rotate_via_q(q_dot_max, direction, T, data=None):\n",
    "    for i in trange(T):\n",
    "        x_dot_ee = cobot.Jac() @ np.r_[np.zeros(3), direction] * q_dot_max * np.sin(2 * i * np.pi / T)\n",
    "        cobot.update(u_cmd=x_dot_ee, u_cmd_frame=cobot.base_link, sleep=True)\n",
    "        try:\n",
    "            data.add(np.copy(cobot._ft_handle.wrench), cobot.FK(q), self.q)\n",
    "        except AttributeError:\n",
    "            pass\n",
    "    cobot.stop()\n",
    "    \n",
    "def check_joint(q_i, q_dot_max, scale_max=1.0, data=None):\n",
    "    assert 3<= q_i < 6, \"roation limited to last three joints\"\n",
    "    limits = np.min(np.c_[np.pi * scale_max * np.ones(2), np.abs(cobot.q[q_i] - cobot.joint_limits)[q_i]], axis=1)\n",
    "    select_joints = np.eye(3)\n",
    "    for i, limit in enumerate(limits):\n",
    "        direction = -1 if i == 0 else 1\n",
    "        rotate_via_q(direction=select_joints[q_i - 3] * direction, \n",
    "                     T=int(limit * cobot.hz / q_dot_max),\n",
    "                     q_dot_max=q_dot_max,\n",
    "                     data=data)"
   ]
  },
  {
   "cell_type": "code",
   "execution_count": null,
   "id": "e907f78f",
   "metadata": {},
   "outputs": [],
   "source": [
    "# rotate repair\n",
    "q_i = 4\n",
    "select_joints = np.eye(3)\n",
    "scale_max = 0.2\n",
    "q_dot_max = 1.0\n",
    "limits = np.min(np.c_[np.pi * scale_max * np.ones(2), np.abs(cobot.q[q_i] - cobot.joint_limits)[q_i]], axis=1)\n",
    "T=int(limits[0] * cobot.hz / q_dot_max)\n",
    "T, limits"
   ]
  },
  {
   "cell_type": "code",
   "execution_count": null,
   "id": "cf31e573",
   "metadata": {},
   "outputs": [],
   "source": [
    "cobot.stop()\n",
    "cobot.init_sns_vel()\n",
    "rotate_via_q(direction=select_joints[q_i - 3] * -1, T=int(limits[0] * cobot.hz / q_dot_max),\n",
    "             q_dot_max=q_dot_max)\n",
    "cobot.stop()\n",
    "rospy.sleep(0.1)\n",
    "rotate_via_q(direction=select_joints[q_i - 3], T=int(limits[1] * cobot.hz / q_dot_max),\n",
    "             q_dot_max=q_dot_max)"
   ]
  },
  {
   "cell_type": "code",
   "execution_count": null,
   "id": "0a470498",
   "metadata": {},
   "outputs": [],
   "source": [
    "cobot.init_sns_vel()"
   ]
  },
  {
   "cell_type": "code",
   "execution_count": null,
   "id": "fd7abba0",
   "metadata": {},
   "outputs": [],
   "source": [
    "check_joint(3, 0.4)\n",
    "check_joint(4, 0.2, scale_max=0.9)\n",
    "check_joint(5, 0.4, scale_max=1.5)"
   ]
  },
  {
   "cell_type": "code",
   "execution_count": 24,
   "id": "3b6e4329",
   "metadata": {},
   "outputs": [],
   "source": [
    "cobot.stop()"
   ]
  },
  {
   "cell_type": "code",
   "execution_count": null,
   "id": "a7e5afeb",
   "metadata": {},
   "outputs": [],
   "source": []
  },
  {
   "cell_type": "code",
   "execution_count": null,
   "id": "f4af4972",
   "metadata": {},
   "outputs": [],
   "source": [
    "data = cobot.collect_calibration_data()"
   ]
  },
  {
   "cell_type": "code",
   "execution_count": 6,
   "id": "28a22214-8968-4270-87a7-a3c7b22b9693",
   "metadata": {},
   "outputs": [],
   "source": [
    "# np.save('new_calib_routine.npy', data)"
   ]
  },
  {
   "cell_type": "code",
   "execution_count": 22,
   "id": "1fe5c5f7-1c46-4838-81d5-09487776ec5e",
   "metadata": {},
   "outputs": [],
   "source": [
    "from hrr_common.utils import load_pickle\n",
    "data2 = np.load('/tmp/calib01.npy', allow_pickle=True).item()\n",
    "try:\n",
    "    F_full_msr = np.vstack([x.wrench for x in data2]) if isinstance(data2, (list, tuple)) else data2.wrench\n",
    "except AttributeError:\n",
    "    data2 = data2.all_data\n",
    "    F_full_msr = data2.wrench\n",
    "\n",
    "R_B_E = np.vstack([x.R for x in data]) if isinstance(data2, (list, tuple)) else data2.R\n",
    "R_FT_B = np.einsum('ij, dkj -> dik', R_FT_E, R_B_E)  # equals:  R_FT_E @ R_B_E.T in batched manner\n",
    "parameters = load_pickle(\"/tmp/screwdriver.pkl\")  # type: CalibrationParameters\n",
    "B_grav = parameters.B_grav_vec\n",
    "FT_com = parameters.FT_com\n",
    "bias = parameters.bias"
   ]
  },
  {
   "cell_type": "code",
   "execution_count": null,
   "id": "dbd35135-04c6-4872-a52c-5172b8f1013f",
   "metadata": {},
   "outputs": [],
   "source": [
    "F_full_msr \n",
    "F_c = R_FT_B @ B_grav + bias[None, 0:3]\n",
    "M_c = np.cross(FT_com, R_FT_B @ B_grav)+ bias[None, 3:6]\n",
    "figsize=(10,20)\n",
    "plot_calibration()"
   ]
  },
  {
   "cell_type": "code",
   "execution_count": 36,
   "id": "efe33dda-52c4-45a3-8edd-bb0b92595021",
   "metadata": {},
   "outputs": [
    {
     "data": {
      "text/plain": [
       "array([ -0.04759,  -0.12929, -90.09112,   0.26131,  88.50843,   0.0043 ])"
      ]
     },
     "execution_count": 36,
     "metadata": {},
     "output_type": "execute_result"
    }
   ],
   "source": [
    "# md.jacobian(cobot.q) @ np.r_[np.zeros(4), -1.0, 0.0] * q_dot_max\n",
    "np.rad2deg(cobot.q)"
   ]
  },
  {
   "cell_type": "code",
   "execution_count": 39,
   "id": "b9dc7f12-9b27-4d74-a67e-1402bd00c515",
   "metadata": {},
   "outputs": [
    {
     "data": {
      "text/plain": [
       "array([  -0.05917,  -11.59941, -105.07112,    0.35197,   56.1133 ,   -0.20475])"
      ]
     },
     "execution_count": 39,
     "metadata": {},
     "output_type": "execute_result"
    }
   ],
   "source": [
    "np.rad2deg(cobot.q)"
   ]
  },
  {
   "cell_type": "code",
   "execution_count": 42,
   "id": "decd5fda-7074-4b33-a7ba-6046d3360fd0",
   "metadata": {},
   "outputs": [
    {
     "data": {
      "text/plain": [
       "array([ 0.0069 ,  0.00003,  0.00405,  0.00014, -0.1    ,  0.00061])"
      ]
     },
     "execution_count": 42,
     "metadata": {},
     "output_type": "execute_result"
    }
   ],
   "source": [
    "md.jacobian(cobot.q) @ np.r_[np.zeros(4), -1.0, 0.0] * q_dot_max "
   ]
  },
  {
   "cell_type": "code",
   "execution_count": 7,
   "id": "2933bfb6-6508-4194-b0b2-21705c24b22c",
   "metadata": {},
   "outputs": [],
   "source": []
  },
  {
   "cell_type": "code",
   "execution_count": 12,
   "id": "f1b413af",
   "metadata": {},
   "outputs": [
    {
     "data": {
      "text/plain": [
       "(1570, array([1.5708, 1.5708]))"
      ]
     },
     "execution_count": 12,
     "metadata": {},
     "output_type": "execute_result"
    }
   ],
   "source": []
  },
  {
   "cell_type": "code",
   "execution_count": null,
   "id": "0c58c48d",
   "metadata": {},
   "outputs": [],
   "source": []
  },
  {
   "cell_type": "code",
   "execution_count": null,
   "id": "a2aa9795-ccbe-4009-9c63-7caa95e7ac03",
   "metadata": {},
   "outputs": [],
   "source": [
    "check_joint(3, 0.4)\n",
    "check_joint(4, 0.2, scale_max=0.9)\n",
    "check_joint(5, 0.4, scale_max=1.5)"
   ]
  },
  {
   "cell_type": "code",
   "execution_count": null,
   "id": "0d8eae33-35ae-4902-b6d8-54a862df8f94",
   "metadata": {},
   "outputs": [],
   "source": [
    "def rotate_q(q_i, q_dot_max=0.1):\n",
    "    \n",
    "    q_limits = cobot.q[q_i] - md.joint_limits\n",
    "    T1, T2 = np.min(np.c_[np.pi * np.ones(2), \n",
    "                     (cobot.q[4] - md.joint_limits)[4]],\n",
    "                    axis=1)\n",
    "    if np.all(q_limits >= np.pi/2.0):\n",
    "        T = \n",
    "    "
   ]
  },
  {
   "cell_type": "code",
   "execution_count": null,
   "id": "197db0b8-b713-4908-a6c0-34c8749d29eb",
   "metadata": {},
   "outputs": [],
   "source": [
    "T = int(np.pi * cobot.hz / q_dot_max)\n",
    "T = int(0.627 * cobot.hz / q_dot_max)\n",
    "q_dot_max = 0.1\n",
    "rotate_via_q(T=T,q_dot_max=0.1, direction=np.r_[0.0, 1.0, 0.0])"
   ]
  },
  {
   "cell_type": "code",
   "execution_count": 64,
   "id": "9bdd481d-3e4c-4c8a-94fe-ad4db4217de9",
   "metadata": {},
   "outputs": [],
   "source": [
    "for i in range(T):\n",
    "    x_dot_ee = md.jacobian(cobot.q) @ np.r_[np.zeros(3), 1.0, 0.0, 0.0] * q_dot_max * np.sin(2 * i * np.pi / T)\n",
    "    cobot.update(u_cmd=x_dot_ee, u_cmd_frame=cobot.ee_link, sleep=True)\n",
    "for i in range(T):\n",
    "    x_dot_ee = md.jacobian(cobot.q) @ np.r_[np.zeros(3), -1.0, 0.0, 0.0] * q_dot_max * np.sin(2 * i * np.pi / T)\n",
    "    cobot.update(u_cmd=x_dot_ee, u_cmd_frame=cobot.ee_link, sleep=True)\n",
    "cobot.stop()"
   ]
  },
  {
   "cell_type": "code",
   "execution_count": 61,
   "id": "81877081-a840-47a9-a827-1163247939ea",
   "metadata": {},
   "outputs": [
    {
     "data": {
      "text/plain": [
       "3141.592653589793"
      ]
     },
     "execution_count": 61,
     "metadata": {},
     "output_type": "execute_result"
    }
   ],
   "source": [
    " np.pi * cobot.hz / q_dot_max"
   ]
  },
  {
   "cell_type": "code",
   "execution_count": 77,
   "id": "e34551d4-b79e-4ff2-a30b-3d1911d6fab2",
   "metadata": {},
   "outputs": [],
   "source": [
    "q_i = 3\n",
    "q_dot_max = 0.2\n",
    "T1, T2 = np.min(np.c_[np.pi * np.ones(2), \n",
    "                     np.abs(cobot.q[q_i] - md.joint_limits)[q_i]],\n",
    "                    axis=1)\n",
    "for direction, limit in zip((-1, 1), (T1, T2)):\n",
    "    T = int(limit * cobot.hz / q_dot_max)\n",
    "    for i in range(T):\n",
    "        x_dot_ee = md.jacobian(cobot.q) @ np.r_[np.zeros(3), direction, 0.0, 0.0] * q_dot_max * np.sin(2 * i * np.pi / T)\n",
    "        cobot.update(u_cmd=x_dot_ee, u_cmd_frame=cobot.ee_link, sleep=True)"
   ]
  },
  {
   "cell_type": "code",
   "execution_count": 89,
   "id": "8f7e6c7b-c764-4af3-b5db-2346fed4abaa",
   "metadata": {},
   "outputs": [
    {
     "data": {
      "text/plain": [
       "array([3.14159, 0.62804])"
      ]
     },
     "execution_count": 89,
     "metadata": {},
     "output_type": "execute_result"
    }
   ],
   "source": [
    "q_i = 4\n",
    "np.min(np.c_[np.pi * np.ones(2), \n",
    "                     np.abs(cobot.q[q_i] - md.joint_limits)[q_i]],\n",
    "                    axis=1)"
   ]
  },
  {
   "cell_type": "code",
   "execution_count": 50,
   "id": "73f07b29-3668-4b87-be0a-4c9a26e664d0",
   "metadata": {},
   "outputs": [],
   "source": [
    "cobot.init_sns_vel()"
   ]
  },
  {
   "cell_type": "code",
   "execution_count": 2,
   "id": "39bc1fb9-e340-462f-ad44-97377b9bc9e2",
   "metadata": {},
   "outputs": [],
   "source": [
    "data = np.load('./new_calib_routine.npy', allow_pickle=True).item()"
   ]
  },
  {
   "cell_type": "markdown",
   "id": "9a49e979",
   "metadata": {},
   "source": [
    "## manual regression"
   ]
  },
  {
   "cell_type": "code",
   "execution_count": 1,
   "id": "333b0854",
   "metadata": {},
   "outputs": [],
   "source": [
    "def manual_freespace_offset_regression(data, R_FT_E, figsize=(8, 10), plot=False, call_plot=False):\n",
    "\n",
    "    def F_grav(θ):\n",
    "        return R_FT_B @ θ[0:3] + θ[3:6][None, :] \n",
    "\n",
    "    def M_grav(θ):\n",
    "        return np.cross(θ[0:3], R_FT_B @ B_grav_vec) + θ[3:6][None, :]\n",
    "\n",
    "    def J_F(θ):\n",
    "        return np.linalg.norm(F_grav(θ) - F_full_msr[:, 0:3], axis=-1)\n",
    "\n",
    "    def J_M(θ):\n",
    "        return np.linalg.norm(M_grav(θ) - F_full_msr[:, 3:6], axis=-1)\n",
    "\n",
    "\n",
    "    def J_all(θ):\n",
    "        F_avg = np.mean(F_full_msr, axis=0)\n",
    "        F = R_FT_B @ θ[0:3] + θ[6:9][None, :] + F_avg[0:3]\n",
    "        M = np.cross(θ[3:6], R_FT_B @ θ[0:3]) + θ[9:12][None, :] + F_avg[3:6]\n",
    "        return np.linalg.norm(F - F_full_msr[:, 0:3], axis=-1) +\\\n",
    "               np.linalg.norm(M - F_full_msr[:, 3:6], axis=-1)\n",
    "\n",
    "\n",
    "    def plot_calibration():\n",
    "        fig, axs = plt.subplots(3, 1, figsize=figsize)\n",
    "        fig.suptitle(\"FT measures vs gravitation offset\")\n",
    "\n",
    "        axs[0].plot(F_full_msr[:, 0:3], alpha=0.7)\n",
    "        axs[0].plot(F_c)\n",
    "        axs[0].legend(\n",
    "            [f\"$F_{{{x}, \\\\mathrm{{raw}}}}$\" for x in (\"x\", \"y\", \"z\")] +\n",
    "            [f\"$F_{{{x}, \\\\mathrm{{calibrated}}}}$\" for x in (\"x\", \"y\", \"z\")],\n",
    "            ncol=2)\n",
    "        axs[0].set_title(f'Force regression results')\n",
    "\n",
    "        axs[1].plot(F_full_msr[:, 3:6], alpha=0.7)\n",
    "        axs[1].plot(M_c)\n",
    "        axs[1].legend(\n",
    "            [f\"$M_{{{x}, \\\\mathrm{{raw}}}}$\" for x in (\"x\", \"y\", \"z\")] +\n",
    "            [f\"$M_{{{x}, \\\\mathrm{{calibrated}}}}$\" for x in (\"x\", \"y\", \"z\")],\n",
    "            ncol=2)\n",
    "        axs[1].set_title(f'Torque regression results')\n",
    "\n",
    "        axs[2].plot(F_full_msr[:, 0:3] - F_c)\n",
    "        axs[2].plot(F_full_msr[:, 3:6] - M_c)\n",
    "        axs[2].legend(\n",
    "            [f\"$\\\\varepsilon_{{f, {x}}}$\" for x in (\"x\", \"y\", \"z\")] +\n",
    "            [f\"$\\\\varepsilon_{{\\\\tau, {x}}}$\" for x in (\"x\", \"y\", \"z\")],\n",
    "            ncol=2\n",
    "        )\n",
    "        axs[2].set_title(f'Residuals after calibration')\n",
    "        return fig, axs\n",
    "    \n",
    "    F_full_msr = np.vstack([x.wrench for x in data]) if isinstance(data, (list, tuple)) else data.wrench\n",
    "    R_B_E = np.vstack([x.R for x in data]) if isinstance(data, (list, tuple)) else data.R    \n",
    "    F_avg = 0.0 * np.mean(F_full_msr, axis=0)\n",
    "    F_full_msr -= F_avg\n",
    "    R_FT_B = np.einsum('ij, dkj -> dik', R_FT_E, R_B_E)\n",
    "    bias = np.mean(F_full_msr, axis=0)\n",
    "    bias[2] *= 0.0\n",
    "    noise = np.zeros(6)\n",
    "\n",
    "    rospy.logdebug(\"Starting Calibration Regression...\")\n",
    "    # force measure regression\n",
    "    F_calib = optimize.least_squares(J_F, np.r_[np.zeros(2), 1.0, bias[0:3]], gtol=1e-11, xtol=1e-11, ftol=1e-10)\n",
    "    if not F_calib.success:\n",
    "        rospy.logwarn(f\"could not derive calibration for force-measures: {F_calib.message}\")\n",
    "    B_grav_vec = F_calib.x[0:3]\n",
    "    bias[0:3] = F_calib.x[3:6]\n",
    "    F_c = F_grav(np.r_[B_grav_vec, bias[0:3]])\n",
    "    noise[:3] = np.std(F_full_msr[:, 0:3] - F_c, axis=0)\n",
    "\n",
    "    # torque measure regression\n",
    "    M_calib = optimize.least_squares(J_M, np.r_[np.zeros(2), 1e-2, bias[3:6]], gtol=1e-11, xtol=1e-11, ftol=1e-8)\n",
    "    if not M_calib.success:\n",
    "        rospy.logwarn(f\"could not derive calibration for torque-measures: {M_calib.message}\")\n",
    "    com = M_calib.x[0:3]\n",
    "    bias[3:6] = M_calib.x[3:6]\n",
    "    M_c = M_grav(np.r_[com, bias[3:6]])\n",
    "    noise[3:6] = np.std(F_full_msr[:, 3:6] - M_c, axis=0)\n",
    "    rospy.logdebug(\"... finished calibration process\")\n",
    "    if plot:\n",
    "        f, a = plot_calibration()\n",
    "        if call_plot:\n",
    "            plt.show()\n",
    "        return B_grav_vec, bias, com, noise, dict(fig=f, axs=a)\n",
    "    return B_grav_vec, bias + F_avg, com, noise, dict()"
   ]
  },
  {
   "cell_type": "code",
   "execution_count": null,
   "id": "3784517a",
   "metadata": {},
   "outputs": [],
   "source": []
  },
  {
   "cell_type": "code",
   "execution_count": 18,
   "id": "f7e856e9",
   "metadata": {},
   "outputs": [],
   "source": [
    "wsg_data = np.load('/home/hrr_cobot/Documents/skill_recordings/wsg_50_dsa_calibration.npy', allow_pickle=True).item()"
   ]
  },
  {
   "cell_type": "code",
   "execution_count": null,
   "id": "660aef8b",
   "metadata": {},
   "outputs": [],
   "source": [
    "# %matplotlib notebook\n",
    "R_FT_E = sm.base.rotz(-45, \"deg\")\n",
    "manual_freespace_offset_regression(wsg_data, R_FT_E , plot=True)"
   ]
  },
  {
   "cell_type": "code",
   "execution_count": null,
   "id": "887040eb",
   "metadata": {},
   "outputs": [],
   "source": [
    "X, _ = hrr_controllers.freespace_offset_regression(wsg_data, R_FT_E, plot=True)\n",
    "print(X.noise)"
   ]
  },
  {
   "cell_type": "code",
   "execution_count": 25,
   "id": "a8a26e39",
   "metadata": {},
   "outputs": [
    {
     "data": {
      "text/plain": [
       "CalibrationParameters(bias=array([ -6.00452,   5.64447, -18.62756,  -3.81811,  -6.83558,  -0.83845]), noise=array([1.54837, 1.30515, 1.4959 , 2.46553, 2.22621, 0.89388]), B_grav_vec=array([  0.20162,   0.39297, -24.44241]), FT_com=array([-0.0697 , -0.08314,  0.97482]))"
      ]
     },
     "execution_count": 25,
     "metadata": {},
     "output_type": "execute_result"
    }
   ],
   "source": [
    "X"
   ]
  },
  {
   "cell_type": "code",
   "execution_count": 26,
   "id": "8f535415",
   "metadata": {},
   "outputs": [],
   "source": [
    "def F_grav():\n",
    "        return \n",
    "\n",
    "def M_grav(θ):\n",
    "    return \n",
    "\n",
    "F_full = wsg_data.wrench\n",
    "R_FT_B = np.einsum('ij, dkj -> dik', R_FT_E, wsg_data.R)\n",
    "F = R_FT_B @ X.B_grav_vec + X.bias[None, 0:3] \n",
    "M = np.cross(X.FT_com, R_FT_B @ X.B_grav_vec) + X.bias[None, 3:6] "
   ]
  },
  {
   "cell_type": "code",
   "execution_count": null,
   "id": "df41cc02",
   "metadata": {},
   "outputs": [],
   "source": [
    "err_F = F_full[:, 0:3] - F\n",
    "err_M = F_full[:, 3:6] - M\n",
    "plt.figure()\n",
    "plt.plot(err_F)\n",
    "plt.figure()\n",
    "plt.plot(err_M)\n",
    "np.r_[np.std(err_F, axis=0), np.std(err_M, axis=0)]"
   ]
  },
  {
   "cell_type": "code",
   "execution_count": 27,
   "id": "9145226e",
   "metadata": {},
   "outputs": [
    {
     "data": {
      "text/plain": [
       "(4833, 3)"
      ]
     },
     "execution_count": 27,
     "metadata": {},
     "output_type": "execute_result"
    }
   ],
   "source": [
    "F.shape"
   ]
  },
  {
   "cell_type": "code",
   "execution_count": null,
   "id": "67c14d80",
   "metadata": {},
   "outputs": [],
   "source": [
    "params = np.load('/tmp/screwdriver.pkl')"
   ]
  },
  {
   "cell_type": "code",
   "execution_count": 8,
   "id": "c68efe35-6531-46e3-923a-9b76ffef750a",
   "metadata": {},
   "outputs": [
    {
     "data": {
      "text/plain": [
       "(array([[ 0.70711,  0.70711,  0.     ],\n",
       "        [-0.70711,  0.70711,  0.     ],\n",
       "        [ 0.     ,  0.     ,  1.     ]]),\n",
       " array([[ 0.70711,  0.70711,  0.     ],\n",
       "        [-0.70711,  0.70711,  0.     ],\n",
       "        [ 0.     ,  0.     ,  1.     ]]))"
      ]
     },
     "execution_count": 8,
     "metadata": {},
     "output_type": "execute_result"
    }
   ],
   "source": [
    "R_FT_E = sm.base.rotz(-45, \"deg\")\n",
    "R_FT_E, cobot.R_FT_E"
   ]
  },
  {
   "cell_type": "code",
   "execution_count": 17,
   "id": "9e44cdbc",
   "metadata": {},
   "outputs": [],
   "source": [
    "def F_grav(θ):\n",
    "    return R_FT_B @ θ[0:3] + θ[3:6][None, :] \n",
    "\n",
    "def M_grav(θ):\n",
    "    return np.cross(θ[0:3], R_FT_B @ B_grav_vec) + θ[3:6][None, :]\n",
    "\n",
    "def J_F(θ):\n",
    "    return np.linalg.norm(F_grav(θ) - F_full_msr[:, 0:3], axis=-1)\n",
    "\n",
    "def J_M(θ):\n",
    "    return np.linalg.norm(M_grav(θ) - F_full_msr[:, 3:6], axis=-1)\n",
    "\n",
    "\n",
    "def J_all(θ):\n",
    "    F_avg = np.mean(F_full_msr, axis=0)\n",
    "    F = R_FT_B @ θ[0:3] + θ[6:9][None, :] + F_avg[0:3]\n",
    "    M = np.cross(θ[3:6], R_FT_B @ θ[0:3]) + θ[9:12][None, :] + F_avg[3:6]\n",
    "    return np.linalg.norm(F - F_full_msr[:, 0:3], axis=-1) +\\\n",
    "           np.linalg.norm(M - F_full_msr[:, 3:6], axis=-1)\n",
    "\n",
    "\n",
    "def plot_calibration():\n",
    "    fig, axs = plt.subplots(3, 1, figsize=figsize)\n",
    "    fig.suptitle(\"FT measures vs gravitation offset\")\n",
    "\n",
    "    axs[0].plot(F_full_msr[:, 0:3], alpha=0.7)\n",
    "    axs[0].plot(F_c)\n",
    "    axs[0].legend(\n",
    "        [f\"$F_{{{x}, \\\\mathrm{{raw}}}}$\" for x in (\"x\", \"y\", \"z\")] +\n",
    "        [f\"$F_{{{x}, \\\\mathrm{{calibrated}}}}$\" for x in (\"x\", \"y\", \"z\")],\n",
    "        ncol=2)\n",
    "    axs[0].set_title(f'Force regression results')\n",
    "\n",
    "    axs[1].plot(F_full_msr[:, 3:6], alpha=0.7)\n",
    "    axs[1].plot(M_c)\n",
    "    axs[1].legend(\n",
    "        [f\"$M_{{{x}, \\\\mathrm{{raw}}}}$\" for x in (\"x\", \"y\", \"z\")] +\n",
    "        [f\"$M_{{{x}, \\\\mathrm{{calibrated}}}}$\" for x in (\"x\", \"y\", \"z\")],\n",
    "        ncol=2)\n",
    "    axs[1].set_title(f'Torque regression results')\n",
    "\n",
    "    axs[2].plot(F_full_msr[:, 0:3] - F_c)\n",
    "    axs[2].plot(F_full_msr[:, 3:6] - M_c)\n",
    "    axs[2].legend(\n",
    "        [f\"$\\\\varepsilon_{{f, {x}}}$\" for x in (\"x\", \"y\", \"z\")] +\n",
    "        [f\"$\\\\varepsilon_{{\\\\tau, {x}}}$\" for x in (\"x\", \"y\", \"z\")],\n",
    "        ncol=2\n",
    "    )\n",
    "    axs[2].set_title(f'Residuals after calibration')\n",
    "    return fig, axs\n"
   ]
  },
  {
   "cell_type": "code",
   "execution_count": null,
   "id": "26e2775b",
   "metadata": {},
   "outputs": [],
   "source": [
    "# R_FT_E = cobot.R_FT_E,\n",
    "\n",
    "F_full_msr = np.vstack([x.wrench for x in data])\n",
    "F_avg = np.mean(F_full_msr, axis=0)\n",
    "F_full_msr -= F_avg\n",
    "R_FT_B = np.einsum('ij, dkj -> dik', R_FT_E, np.vstack([x.R for x in data]))\n",
    "bias = np.mean(F_full_msr, axis=0)\n",
    "noise = np.zeros(6)\n",
    "\n",
    "rospy.logdebug(\"Starting Calibration Regression...\")\n",
    "# force measure regression\n",
    "F_calib = optimize.least_squares(J_F, np.r_[np.zeros(2), 1.0, bias[0:3]], gtol=1e-11, xtol=1e-11, ftol=1e-8)\n",
    "if not F_calib.success:\n",
    "    rospy.logwarn(f\"could not derive calibration for force-measures: {F_calib.message}\")\n",
    "B_grav_vec = F_calib.x[0:3]\n",
    "bias[0:3] = F_calib.x[3:6]\n",
    "F_c = F_grav(np.r_[B_grav_vec, bias[0:3]])\n",
    "noise[:3] = np.std(F_full_msr[:, 0:3] - F_c, axis=0)\n",
    "\n",
    "# torque measure regression\n",
    "M_calib = optimize.least_squares(J_M, np.r_[np.zeros(2), 1e-2, bias[3:6]], gtol=1e-11, xtol=1e-11, ftol=1e-6)\n",
    "if not M_calib.success:\n",
    "    rospy.logwarn(f\"could not derive calibration for torque-measures: {M_calib.message}\")\n",
    "com = M_calib.x[0:3]\n",
    "bias[3:6] = M_calib.x[3:6]\n",
    "M_c = M_grav(np.r_[com, bias[3:6]])\n",
    "noise[3:6] = np.std(F_full_msr[:, 3:6] - M_c, axis=0)\n",
    "rospy.logdebug(\"... finished calibration process\")"
   ]
  },
  {
   "cell_type": "code",
   "execution_count": null,
   "id": "3eb0a457",
   "metadata": {},
   "outputs": [],
   "source": [
    "plot_calibration()"
   ]
  },
  {
   "cell_type": "markdown",
   "id": "cdf1d7b8",
   "metadata": {},
   "source": [
    "## test implemented regression"
   ]
  },
  {
   "cell_type": "code",
   "execution_count": 10,
   "id": "f3b53309",
   "metadata": {},
   "outputs": [],
   "source": [
    "from hrr_controllers.sensor_handles import freespace_offset_regression"
   ]
  },
  {
   "cell_type": "code",
   "execution_count": null,
   "id": "6d323883",
   "metadata": {},
   "outputs": [],
   "source": [
    "freespace_offset_regression(data, cobot.R_FT_E, plot=True, figsize=(10, 10))"
   ]
  },
  {
   "cell_type": "code",
   "execution_count": null,
   "id": "4ed4a35a",
   "metadata": {},
   "outputs": [],
   "source": []
  }
 ],
 "metadata": {
  "kernelspec": {
   "display_name": "Python 3 (ipykernel)",
   "language": "python",
   "name": "python3"
  },
  "language_info": {
   "codemirror_mode": {
    "name": "ipython",
    "version": 3
   },
   "file_extension": ".py",
   "mimetype": "text/x-python",
   "name": "python",
   "nbconvert_exporter": "python",
   "pygments_lexer": "ipython3",
   "version": "3.8.12"
  },
  "latex_envs": {
   "LaTeX_envs_menu_present": true,
   "autoclose": false,
   "autocomplete": true,
   "bibliofile": "biblio.bib",
   "cite_by": "apalike",
   "current_citInitial": 1,
   "eqLabelWithNumbers": true,
   "eqNumInitial": 1,
   "hotkeys": {
    "equation": "Ctrl-E",
    "itemize": "Ctrl-I"
   },
   "labels_anchors": false,
   "latex_user_defs": false,
   "report_style_numbering": false,
   "user_envs_cfg": false
  },
  "toc": {
   "base_numbering": 1,
   "nav_menu": {},
   "number_sections": true,
   "sideBar": true,
   "skip_h1_title": false,
   "title_cell": "Table of Contents",
   "title_sidebar": "Contents",
   "toc_cell": false,
   "toc_position": {},
   "toc_section_display": true,
   "toc_window_display": false
  },
  "varInspector": {
   "cols": {
    "lenName": 16,
    "lenType": 16,
    "lenVar": 40
   },
   "kernels_config": {
    "python": {
     "delete_cmd_postfix": "",
     "delete_cmd_prefix": "del ",
     "library": "var_list.py",
     "varRefreshCmd": "print(var_dic_list())"
    },
    "r": {
     "delete_cmd_postfix": ") ",
     "delete_cmd_prefix": "rm(",
     "library": "var_list.r",
     "varRefreshCmd": "cat(var_dic_list()) "
    }
   },
   "types_to_exclude": [
    "module",
    "function",
    "builtin_function_or_method",
    "instance",
    "_Feature"
   ],
   "window_display": false
  }
 },
 "nbformat": 4,
 "nbformat_minor": 5
}
