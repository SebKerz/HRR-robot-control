{
 "cells": [
  {
   "cell_type": "code",
   "execution_count": 1,
   "id": "veterinary-medium",
   "metadata": {},
   "outputs": [],
   "source": [
    "import numpy as np\n",
    "import sys\n",
    "import hrr_common.utils as cu\n",
    "import hrr_common as hrr_cm\n",
    "import hrr_cobot_robot\n",
    "import spatialmath as sm\n",
    "import rospy\n",
    "from tqdm.notebook import tqdm, trange\n",
    "\n",
    "# ROS\n",
    "import actionlib\n",
    "np.set_printoptions(suppress=True)"
   ]
  },
  {
   "cell_type": "code",
   "execution_count": 2,
   "id": "sound-chaos",
   "metadata": {
    "scrolled": true
   },
   "outputs": [
    {
     "name": "stdout",
     "output_type": "stream",
     "text": [
      "for a local setup, replace the above by:\n",
      "\t%env ROS_MASTER_URI=http://localhost:11311\n",
      "env: ROS_MASTER_URI=http://hrrN3511rt2004.lsr.ei.tum.de:11311\n",
      "in case this notebook does not work please check that IP below is identical:\n",
      "\t%env ROS_IP=129.187.147.174\t\t<=>\tenv: ROS_IP=129.187.147.174\n"
     ]
    }
   ],
   "source": [
    "def get_hostname_and_IP():\n",
    "    import socket\n",
    "    with socket.socket(socket.AF_INET, socket.SOCK_DGRAM) as s:\n",
    "        s.connect((\"8.8.8.8\", 80))\n",
    "        return socket.gethostname(), s.getsockname()[0]\n",
    "\n",
    "_host, _ip = get_hostname_and_IP()\n",
    "%env ROS_MASTER_URI=http://hrrcobotLinux54.lsr.ei.tum.de:11311\n",
    "# %env ROS_MASTER_URI=http://localhost:11311\n",
    "print(f\"\\t\\033[1m\\033[4m!!!please check that the IPs below is identical!!!\\033[0m\"+\n",
    "      f\"\\n\\thost {_host} has IP {_ip}, which should be identical to\",end=\"\\nvs:\\t\")\n",
    "%env ROS_IP=$_ip"
   ]
  },
  {
   "cell_type": "code",
   "execution_count": 3,
   "id": "incorrect-breakdown",
   "metadata": {},
   "outputs": [],
   "source": [
    "np.set_printoptions(suppress=True)"
   ]
  },
  {
   "cell_type": "markdown",
   "id": "animal-donna",
   "metadata": {},
   "source": [
    "## Launch\n",
    "\n",
    "catkin build hrr_ee_tools package\n",
    "\n",
    "Launch the cobot\n",
    "```bash\n",
    "roslaunch hrr_cobot_robot hrr_cobot_hw.launch tool_name:=\"vacuum\"  \n",
    "```\n",
    "\n",
    "```bash\n",
    "rosrun planner planner_server_v2.py \n",
    "```\n",
    "```bash\n",
    "rosrun hrr_cobot_robot enable_sns_trk --sns_controller_name sensor_track_velocity_controller\n",
    "```"
   ]
  },
  {
   "cell_type": "code",
   "execution_count": 4,
   "id": "digital-bobby",
   "metadata": {},
   "outputs": [
    {
     "name": "stderr",
     "output_type": "stream",
     "text": [
      "[ERROR] [1641980871.027711]: could not set tool-frame @ /vacuum_grasping_dev due to missing ROS-parameter: '~tool_name'\n"
     ]
    },
    {
     "name": "stdout",
     "output_type": "stream",
     "text": [
      "[INFO] [1641980871.511826]: Updated force  gains: K_p:=[0.0001, 0.0001, 0.0001]\n",
      "[INFO] [1641980871.515564]: Updated torque gains: K_p:=[0.0005, 0.0005, 0.0005]\n",
      "q:\t\t[   4.09713636    4.22352218 -105.27729153  -88.65102648   93.92755252\n",
      "  -25.46458276][°]\n",
      "q_dot:\t\t[0. 0. 0. 0. 0. 0.][rad/s]\n",
      "tau:\t\t[0. 0. 0. 0. 0. 0.][Nm]\n",
      "pos:\t\t[0.45649518 0.04729539 0.65235046][m]\n",
      "quat:\t\t-0.27107 <[0.27024388 0.65315031 0.6533643 ]>\n",
      "tool-pos:\t[0.45649518 0.04729539 0.65235046][m]\n",
      "tool-rpy:\t[-134.98979187   -0.05507659  -89.95841217][°]\n",
      "robot-status:\tterminate\n"
     ]
    },
    {
     "name": "stderr",
     "output_type": "stream",
     "text": [
      "[WARN] [1641980871.749308]: Could not process inbound connection: Client [/hrr_cobot] wants topic [/hrr_cobot/sensor_track_compliant_controller/hybrid_ctrl_cmd] to have datatype/md5sum [hrr_msgs/HybridForceVelocityCmdStamped/6bfe9d92f9569269ce7086e736ecd0c2], but our version has [hrr_msgs/HybridForceVelocityCmdStamped/c7d32c882fe005053aba472f934842bd] Dropping connection.{'callerid': '/hrr_cobot', 'md5sum': '6bfe9d92f9569269ce7086e736ecd0c2', 'tcp_nodelay': '0', 'topic': '/hrr_cobot/sensor_track_compliant_controller/hybrid_ctrl_cmd', 'type': 'hrr_msgs/HybridForceVelocityCmdStamped'}\n"
     ]
    }
   ],
   "source": [
    "rospy.init_node('vacuum_grasping_dev')\n"
   ]
  },
  {
   "cell_type": "code",
   "execution_count": 15,
   "id": "entitled-aurora",
   "metadata": {},
   "outputs": [
    {
     "ename": "NameError",
     "evalue": "name 'hrr_cobot_robot' is not defined",
     "output_type": "error",
     "traceback": [
      "\u001b[0;31m---------------------------------------------------------------------------\u001b[0m",
      "\u001b[0;31mNameError\u001b[0m                                 Traceback (most recent call last)",
      "Input \u001b[0;32mIn [15]\u001b[0m, in \u001b[0;36m<module>\u001b[0;34m\u001b[0m\n\u001b[0;32m----> 1\u001b[0m \u001b[43mhrr_cobot_robot\u001b[49m\u001b[38;5;241m.\u001b[39mutils\u001b[38;5;241m.\u001b[39mload_default_parameters(\u001b[38;5;124m\"\u001b[39m\u001b[38;5;124m/hrr_cobot\u001b[39m\u001b[38;5;124m\"\u001b[39m)\n\u001b[1;32m      2\u001b[0m cobot \u001b[38;5;241m=\u001b[39m hrr_cobot_robot\u001b[38;5;241m.\u001b[39mHrrCobotControl\u001b[38;5;241m.\u001b[39mfrom_ros(\u001b[38;5;124m\"\u001b[39m\u001b[38;5;124m/hrr_cobot\u001b[39m\u001b[38;5;124m\"\u001b[39m)\n",
      "\u001b[0;31mNameError\u001b[0m: name 'hrr_cobot_robot' is not defined"
     ]
    }
   ],
   "source": [
    "hrr_cobot_robot.utils.load_default_parameters(\"/hrr_cobot\")\n",
    "cobot = hrr_cobot_robot.HrrCobotControl.from_ros(\"/hrr_cobot\")"
   ]
  },
  {
   "cell_type": "code",
   "execution_count": null,
   "id": "complimentary-community",
   "metadata": {},
   "outputs": [],
   "source": [
    "print(cobot)"
   ]
  },
  {
   "cell_type": "markdown",
   "id": "authorized-lightweight",
   "metadata": {},
   "source": [
    "### Force tests"
   ]
  },
  {
   "cell_type": "code",
   "execution_count": null,
   "id": "proper-provision",
   "metadata": {},
   "outputs": [],
   "source": [
    "%matplotlib widget\n",
    "cobot.run_calibration_routine(file_name='/tmp/current_tool.npy', plot=True, figsize=(12,10))"
   ]
  },
  {
   "cell_type": "code",
   "execution_count": null,
   "id": "impressed-final",
   "metadata": {},
   "outputs": [],
   "source": [
    "print(ft_status.wrench)"
   ]
  },
  {
   "cell_type": "code",
   "execution_count": null,
   "id": "unauthorized-guyana",
   "metadata": {},
   "outputs": [],
   "source": [
    "print(cobot)"
   ]
  },
  {
   "cell_type": "code",
   "execution_count": null,
   "id": "industrial-nightmare",
   "metadata": {},
   "outputs": [],
   "source": [
    "cobot.init_sns_vel()"
   ]
  },
  {
   "cell_type": "code",
   "execution_count": null,
   "id": "center-joint",
   "metadata": {},
   "outputs": [],
   "source": [
    "cobot.reset()\n",
    "cobot.set_compliant(np.r_[1.0, 1.0, 1.0, np.zeros(3)], Path(\"/tmp/current_tool.npy\"), F_max=5.0)"
   ]
  },
  {
   "cell_type": "code",
   "execution_count": null,
   "id": "intellectual-mistress",
   "metadata": {},
   "outputs": [],
   "source": [
    "cobot.acknowledge_calibration()"
   ]
  },
  {
   "cell_type": "code",
   "execution_count": null,
   "id": "pediatric-florist",
   "metadata": {},
   "outputs": [],
   "source": [
    "T = int(10 * cobot.hz)\n",
    "for t in trange(T):\n",
    "    cobot.update()"
   ]
  },
  {
   "cell_type": "code",
   "execution_count": null,
   "id": "sorted-eight",
   "metadata": {},
   "outputs": [],
   "source": [
    "cobot.reset()\n",
    "cobot.set_py_hybrid_force_vel_command(B_F_des=np.r_[0.0, 0.0, -10.0, np.zeros(3)], \n",
    "                                          K_f=8e-4, K_t=5e-3, scale_pos=0.0, scale_rot=0.0, \n",
    "                                      wrench_dir=np.r_[1.0, 1.0, 1.0, np.ones(3)],\n",
    "                                      vel_dir=np.zeros(6))"
   ]
  },
  {
   "cell_type": "markdown",
   "id": "legitimate-turkey",
   "metadata": {},
   "source": [
    "### Vacuum tests\n"
   ]
  },
  {
   "cell_type": "code",
   "execution_count": null,
   "id": "sharing-sunset",
   "metadata": {},
   "outputs": [],
   "source": [
    "#Usage fo\n",
    "for t in trange(20):\n",
    "    tool_controller.vacuum = True\n",
    "    rospy.sleep(0.2)"
   ]
  },
  {
   "cell_type": "markdown",
   "id": "mental-excellence",
   "metadata": {},
   "source": [
    "### Use cases\n",
    "Emergency lamp: \n",
    "    Remove and dispose lid after it is cut loose from the fixtures\n",
    "    Remove and dispose middle cover\n",
    "Microwave Oven: None\n",
    "Pc Tower: \n",
    "    Dispose PSU after it is pushed from the housing\n",
    "    Dipose CPU cooler after it is unscrewed\n"
   ]
  },
  {
   "cell_type": "markdown",
   "id": "seasonal-terry",
   "metadata": {},
   "source": [
    "## Params from outside"
   ]
  },
  {
   "cell_type": "code",
   "execution_count": 2,
   "id": "whole-transcript",
   "metadata": {},
   "outputs": [],
   "source": [
    "import hrr_common.utils as cu\n",
    "import hrr_common.ros_utils as ru\n",
    "def getSE3fromPoseStamped(msg):\n",
    "        p = np.array(\n",
    "            [msg.pose.position.x, msg.pose.position.y, msg.pose.position.z])\n",
    "        q = ru.quat2np(msg.pose.orientation)\n",
    "        return cu.posquat2homog(p, q)"
   ]
  },
  {
   "cell_type": "code",
   "execution_count": 3,
   "id": "frequent-fashion",
   "metadata": {},
   "outputs": [],
   "source": [
    "from geometry_msgs.msg import PoseStamped #For testing purposes\n",
    "object_center = PoseStamped() #PoseStamped\n",
    "release_pose = PoseStamped() #PoseStamped"
   ]
  },
  {
   "cell_type": "code",
   "execution_count": 4,
   "id": "accessory-talent",
   "metadata": {},
   "outputs": [],
   "source": [
    "object_center.pose.position.x = 0.66\n",
    "object_center.pose.position.y = 0.17\n",
    "object_center.pose.position.z = 0.07\n",
    "object_center.pose.orientation.x = 0\n",
    "object_center.pose.orientation.y = -0.715468876127\n",
    "object_center.pose.orientation.z = 0.0542776712358\n",
    "object_center.pose.orientation.w = 0.696533001155"
   ]
  },
  {
   "cell_type": "code",
   "execution_count": 5,
   "id": "likely-diesel",
   "metadata": {},
   "outputs": [
    {
     "data": {
      "text/plain": [
       "  \u001b[38;5;1m-0.02968 \u001b[0m \u001b[38;5;1m-0.07561 \u001b[0m \u001b[38;5;1m-0.9967  \u001b[0m \u001b[38;5;4m 0.66    \u001b[0m  \u001b[0m\n",
       "  \u001b[38;5;1m 0.07561 \u001b[0m \u001b[38;5;1m 0.9941  \u001b[0m \u001b[38;5;1m-0.07767 \u001b[0m \u001b[38;5;4m 0.17    \u001b[0m  \u001b[0m\n",
       "  \u001b[38;5;1m 0.9967  \u001b[0m \u001b[38;5;1m-0.07767 \u001b[0m \u001b[38;5;1m-0.02379 \u001b[0m \u001b[38;5;4m 0.07    \u001b[0m  \u001b[0m\n",
       "  \u001b[38;5;244m 0       \u001b[0m \u001b[38;5;244m 0       \u001b[0m \u001b[38;5;244m 0       \u001b[0m \u001b[38;5;244m 1       \u001b[0m  \u001b[0m\n"
      ]
     },
     "execution_count": 5,
     "metadata": {},
     "output_type": "execute_result"
    }
   ],
   "source": [
    "obj_cent = getSE3fromPoseStamped(object_center)\n",
    "obj_cent"
   ]
  },
  {
   "cell_type": "code",
   "execution_count": 8,
   "id": "driven-creation",
   "metadata": {},
   "outputs": [
    {
     "data": {
      "text/plain": [
       "array([-0.02968356,  0.07561238,  0.99669537])"
      ]
     },
     "execution_count": 8,
     "metadata": {},
     "output_type": "execute_result"
    }
   ],
   "source": [
    "surface_nvec = obj_cent.A[:3,0]\n",
    "approach_vec = -surface_nvec\n",
    "surface_nvec"
   ]
  },
  {
   "cell_type": "code",
   "execution_count": 14,
   "id": "considerable-preservation",
   "metadata": {},
   "outputs": [
    {
     "data": {
      "text/plain": [
       "  \u001b[38;5;1m-0.9967  \u001b[0m \u001b[38;5;1m-0.07561 \u001b[0m \u001b[38;5;1m 0.02968 \u001b[0m \u001b[38;5;4m 0.66    \u001b[0m  \u001b[0m\n",
       "  \u001b[38;5;1m-0.07767 \u001b[0m \u001b[38;5;1m 0.9941  \u001b[0m \u001b[38;5;1m-0.07561 \u001b[0m \u001b[38;5;4m 0.17    \u001b[0m  \u001b[0m\n",
       "  \u001b[38;5;1m-0.02379 \u001b[0m \u001b[38;5;1m-0.07767 \u001b[0m \u001b[38;5;1m-0.9967  \u001b[0m \u001b[38;5;4m 0.07    \u001b[0m  \u001b[0m\n",
       "  \u001b[38;5;244m 0       \u001b[0m \u001b[38;5;244m 0       \u001b[0m \u001b[38;5;244m 0       \u001b[0m \u001b[38;5;244m 1       \u001b[0m  \u001b[0m\n"
      ]
     },
     "execution_count": 14,
     "metadata": {},
     "output_type": "execute_result"
    }
   ],
   "source": [
    "robot_pose = cu.calc_goal_pose(surface_nvec, obj_cent.t, y_axis=obj_cent.A[:3,1])\n",
    "robot_pose"
   ]
  },
  {
   "cell_type": "code",
   "execution_count": 16,
   "id": "public-invitation",
   "metadata": {},
   "outputs": [
    {
     "data": {
      "text/plain": [
       "  \u001b[38;5;1m-0.9967  \u001b[0m \u001b[38;5;1m-0.07561 \u001b[0m \u001b[38;5;1m 0.02968 \u001b[0m \u001b[38;5;4m 0.657   \u001b[0m  \u001b[0m\n",
       "  \u001b[38;5;1m-0.07767 \u001b[0m \u001b[38;5;1m 0.9941  \u001b[0m \u001b[38;5;1m-0.07561 \u001b[0m \u001b[38;5;4m 0.1776  \u001b[0m  \u001b[0m\n",
       "  \u001b[38;5;1m-0.02379 \u001b[0m \u001b[38;5;1m-0.07767 \u001b[0m \u001b[38;5;1m-0.9967  \u001b[0m \u001b[38;5;4m 0.1697  \u001b[0m  \u001b[0m\n",
       "  \u001b[38;5;244m 0       \u001b[0m \u001b[38;5;244m 0       \u001b[0m \u001b[38;5;244m 0       \u001b[0m \u001b[38;5;244m 1       \u001b[0m  \u001b[0m\n"
      ]
     },
     "execution_count": 16,
     "metadata": {},
     "output_type": "execute_result"
    }
   ],
   "source": [
    "robot_pose @ sm.SE3([0,0,-0.1]) #tool tip at robot_pose"
   ]
  },
  {
   "cell_type": "code",
   "execution_count": 19,
   "id": "connected-identifier",
   "metadata": {},
   "outputs": [],
   "source": [
    "posediff = robot_pose @ sm.SE3([0,0,1]) - robot_pose"
   ]
  },
  {
   "cell_type": "code",
   "execution_count": 23,
   "id": "theoretical-jersey",
   "metadata": {},
   "outputs": [
    {
     "data": {
      "text/plain": [
       "(array([ 0.02968356, -0.07561238, -0.99669537]),\n",
       " array([ 0.02968356, -0.07561238, -0.99669537]))"
      ]
     },
     "execution_count": 23,
     "metadata": {},
     "output_type": "execute_result"
    }
   ],
   "source": [
    "posediff[:3,-1], -surface_nvec"
   ]
  },
  {
   "cell_type": "code",
   "execution_count": 56,
   "id": "antique-balloon",
   "metadata": {},
   "outputs": [
    {
     "data": {
      "text/plain": [
       "  \u001b[38;5;1m 0       \u001b[0m \u001b[38;5;1m 0       \u001b[0m \u001b[38;5;1m 1       \u001b[0m \u001b[38;5;4m 0       \u001b[0m  \u001b[0m\n",
       "  \u001b[38;5;1m 0       \u001b[0m \u001b[38;5;1m 1       \u001b[0m \u001b[38;5;1m 0       \u001b[0m \u001b[38;5;4m 0       \u001b[0m  \u001b[0m\n",
       "  \u001b[38;5;1m-1       \u001b[0m \u001b[38;5;1m 0       \u001b[0m \u001b[38;5;1m 0       \u001b[0m \u001b[38;5;4m 0       \u001b[0m  \u001b[0m\n",
       "  \u001b[38;5;244m 0       \u001b[0m \u001b[38;5;244m 0       \u001b[0m \u001b[38;5;244m 0       \u001b[0m \u001b[38;5;244m 1       \u001b[0m  \u001b[0m\n"
      ]
     },
     "execution_count": 56,
     "metadata": {},
     "output_type": "execute_result"
    }
   ],
   "source": [
    "sm.SE3.Ry(np.deg2rad(90))"
   ]
  },
  {
   "cell_type": "code",
   "execution_count": 19,
   "id": "ultimate-alexandria",
   "metadata": {},
   "outputs": [],
   "source": [
    "jointys = np.deg2rad([-22.855, 58.494,-115.143,-22.934,-85.570,-267.116])"
   ]
  },
  {
   "cell_type": "code",
   "execution_count": 40,
   "id": "adjustable-justice",
   "metadata": {},
   "outputs": [
    {
     "data": {
      "text/plain": [
       "(  \u001b[38;5;1m-0.0004249\u001b[0m \u001b[38;5;1m 0.02499 \u001b[0m \u001b[38;5;1m 0.9997  \u001b[0m \u001b[38;5;4m 0.5019  \u001b[0m  \u001b[0m\n",
       "  \u001b[38;5;1m-1       \u001b[0m \u001b[38;5;1m-0.007128\u001b[0m \u001b[38;5;1m-0.0002468\u001b[0m \u001b[38;5;4m 0.1778  \u001b[0m  \u001b[0m\n",
       "  \u001b[38;5;1m 0.00712 \u001b[0m \u001b[38;5;1m-0.9997  \u001b[0m \u001b[38;5;1m 0.025   \u001b[0m \u001b[38;5;4m 0.1823  \u001b[0m  \u001b[0m\n",
       "  \u001b[38;5;244m 0       \u001b[0m \u001b[38;5;244m 0       \u001b[0m \u001b[38;5;244m 0       \u001b[0m \u001b[38;5;244m 1       \u001b[0m  \u001b[0m\n",
       ",\n",
       " x: -0.49540562250119097\n",
       " y: 0.49201115754681823\n",
       " z: -0.5080722978241229\n",
       " w: 0.5043419774591079)"
      ]
     },
     "execution_count": 40,
     "metadata": {},
     "output_type": "execute_result"
    }
   ],
   "source": [
    "from sim_robots import get_racer_kin_model\n",
    "kin_model = get_racer_kin_model()\n",
    "kin_model.forward_kin(jointys), ru.rotmat2quat(kin_model.forward_kin(jointys).A)"
   ]
  },
  {
   "cell_type": "code",
   "execution_count": 41,
   "id": "toxic-joseph",
   "metadata": {},
   "outputs": [
    {
     "data": {
      "text/plain": [
       "(  \u001b[38;5;1m-1       \u001b[0m \u001b[38;5;1m 0       \u001b[0m \u001b[38;5;1m 0       \u001b[0m \u001b[38;5;4m 0.4359  \u001b[0m  \u001b[0m\n",
       "  \u001b[38;5;1m 0       \u001b[0m \u001b[38;5;1m 1       \u001b[0m \u001b[38;5;1m 0       \u001b[0m \u001b[38;5;4m 0       \u001b[0m  \u001b[0m\n",
       "  \u001b[38;5;1m 0       \u001b[0m \u001b[38;5;1m 0       \u001b[0m \u001b[38;5;1m-1       \u001b[0m \u001b[38;5;4m 0.705   \u001b[0m  \u001b[0m\n",
       "  \u001b[38;5;244m 0       \u001b[0m \u001b[38;5;244m 0       \u001b[0m \u001b[38;5;244m 0       \u001b[0m \u001b[38;5;244m 1       \u001b[0m  \u001b[0m\n",
       ",\n",
       " x: -0.0\n",
       " y: -1.0\n",
       " z: -0.0\n",
       " w: 0.0)"
      ]
     },
     "execution_count": 41,
     "metadata": {},
     "output_type": "execute_result"
    }
   ],
   "source": [
    "qcalib = np.r_[0., 0., -np.pi / 2.0, 0., np.pi / 2.0, 0.0]\n",
    "kin_model.forward_kin(qcalib), ru.rotmat2quat(kin_model.forward_kin(qcalib).A)"
   ]
  },
  {
   "cell_type": "code",
   "execution_count": 42,
   "id": "viral-wrestling",
   "metadata": {},
   "outputs": [
    {
     "data": {
      "text/plain": [
       "(  \u001b[38;5;1m-0.5403  \u001b[0m \u001b[38;5;1m 0.8415  \u001b[0m \u001b[38;5;1m 0       \u001b[0m \u001b[38;5;4m-0.2849  \u001b[0m  \u001b[0m\n",
       "  \u001b[38;5;1m 0.8415  \u001b[0m \u001b[38;5;1m 0.5403  \u001b[0m \u001b[38;5;1m 0       \u001b[0m \u001b[38;5;4m 0.3299  \u001b[0m  \u001b[0m\n",
       "  \u001b[38;5;1m 0       \u001b[0m \u001b[38;5;1m 0       \u001b[0m \u001b[38;5;1m-1       \u001b[0m \u001b[38;5;4m 0.705   \u001b[0m  \u001b[0m\n",
       "  \u001b[38;5;244m 0       \u001b[0m \u001b[38;5;244m 0       \u001b[0m \u001b[38;5;244m 0       \u001b[0m \u001b[38;5;244m 1       \u001b[0m  \u001b[0m\n",
       ",\n",
       " x: 0.479425538604203\n",
       " y: 0.8775825618903726\n",
       " z: 2.1479277849233506e-17\n",
       " w: -5.734143423154037e-17)"
      ]
     },
     "execution_count": 42,
     "metadata": {},
     "output_type": "execute_result"
    }
   ],
   "source": [
    "qcalib2 = np.r_[4, 0., -np.pi / 2.0, 0., np.pi / 2.0, 3.0]\n",
    "kin_model.forward_kin(qcalib2), ru.rotmat2quat(kin_model.forward_kin(qcalib2).A)"
   ]
  },
  {
   "cell_type": "code",
   "execution_count": 43,
   "id": "provincial-worker",
   "metadata": {},
   "outputs": [
    {
     "data": {
      "text/plain": [
       "(  \u001b[38;5;1m 0       \u001b[0m \u001b[38;5;1m 0       \u001b[0m \u001b[38;5;1m 1       \u001b[0m \u001b[38;5;4m 0.5159  \u001b[0m  \u001b[0m\n",
       "  \u001b[38;5;1m 0       \u001b[0m \u001b[38;5;1m 1       \u001b[0m \u001b[38;5;1m 0       \u001b[0m \u001b[38;5;4m 0       \u001b[0m  \u001b[0m\n",
       "  \u001b[38;5;1m-1       \u001b[0m \u001b[38;5;1m 0       \u001b[0m \u001b[38;5;1m 0       \u001b[0m \u001b[38;5;4m 0.785   \u001b[0m  \u001b[0m\n",
       "  \u001b[38;5;244m 0       \u001b[0m \u001b[38;5;244m 0       \u001b[0m \u001b[38;5;244m 0       \u001b[0m \u001b[38;5;244m 1       \u001b[0m  \u001b[0m\n",
       ",\n",
       " x: -0.0\n",
       " y: 0.7071067811865475\n",
       " z: -0.0\n",
       " w: 0.7071067811865475)"
      ]
     },
     "execution_count": 43,
     "metadata": {},
     "output_type": "execute_result"
    }
   ],
   "source": [
    "q0 = np.r_[0,0,-np.pi/2,0,0,0]\n",
    "kin_model.forward_kin(q0), ru.rotmat2quat(kin_model.forward_kin(q0).A)"
   ]
  },
  {
   "cell_type": "code",
   "execution_count": null,
   "id": "biblical-throw",
   "metadata": {},
   "outputs": [],
   "source": [
    "cu.rotmat2quat()"
   ]
  },
  {
   "cell_type": "code",
   "execution_count": null,
   "id": "combined-nicholas",
   "metadata": {},
   "outputs": [],
   "source": [
    "cu.quat2human(object_center.pose.orientation)"
   ]
  },
  {
   "cell_type": "code",
   "execution_count": null,
   "id": "strategic-manor",
   "metadata": {},
   "outputs": [],
   "source": [
    "#Gerade noch oben bedeutet Rotmatrix = np.eye(3)"
   ]
  },
  {
   "cell_type": "code",
   "execution_count": 21,
   "id": "divided-partnership",
   "metadata": {},
   "outputs": [],
   "source": [
    "pos_objC = np.array([object_center.pose.position.x, object_center.pose.position.y,object_center.pose.position.z])\n",
    "quat_objC = np.quaternion()\n",
    "quat_objC.x = object_center.pose.orientation.x\n",
    "quat_objC.y = object_center.pose.orientation.y\n",
    "quat_objC.z = object_center.pose.orientation.z\n",
    "quat_objC.w = object_center.pose.orientation.w\n",
    "obj_center = cu.posquat2homog(pos_objC, quat_objC)"
   ]
  },
  {
   "cell_type": "code",
   "execution_count": 22,
   "id": "pressed-recruitment",
   "metadata": {},
   "outputs": [
    {
     "data": {
      "text/plain": [
       "  \u001b[38;5;1m 1       \u001b[0m \u001b[38;5;1m 0       \u001b[0m \u001b[38;5;1m 0       \u001b[0m \u001b[38;5;4m 0       \u001b[0m  \u001b[0m\n",
       "  \u001b[38;5;1m 0       \u001b[0m \u001b[38;5;1m 1       \u001b[0m \u001b[38;5;1m 0       \u001b[0m \u001b[38;5;4m 0       \u001b[0m  \u001b[0m\n",
       "  \u001b[38;5;1m 0       \u001b[0m \u001b[38;5;1m 0       \u001b[0m \u001b[38;5;1m 1       \u001b[0m \u001b[38;5;4m 0       \u001b[0m  \u001b[0m\n",
       "  \u001b[38;5;244m 0       \u001b[0m \u001b[38;5;244m 0       \u001b[0m \u001b[38;5;244m 0       \u001b[0m \u001b[38;5;244m 1       \u001b[0m  \u001b[0m\n"
      ]
     },
     "execution_count": 22,
     "metadata": {},
     "output_type": "execute_result"
    }
   ],
   "source": [
    "pos_rp = np.array([release_pose.pose.position.x, release_pose.pose.position.y,release_pose.pose.position.z])\n",
    "quat_rp = np.quaternion()\n",
    "quat_rp.x = release_pose.pose.orientation.x\n",
    "quat_rp.y = release_pose.pose.orientation.y\n",
    "quat_rp.z = release_pose.pose.orientation.z\n",
    "quat_rp.w = release_pose.pose.orientation.w\n",
    "rel_pose = cu.posquat2homog(pos_rp, quat_rp)"
   ]
  },
  {
   "cell_type": "markdown",
   "id": "express-dragon",
   "metadata": {},
   "source": [
    "# Stuff to test in lab"
   ]
  },
  {
   "cell_type": "code",
   "execution_count": null,
   "id": "infectious-territory",
   "metadata": {},
   "outputs": [],
   "source": [
    "cobot.quat"
   ]
  },
  {
   "cell_type": "code",
   "execution_count": null,
   "id": "numeric-inspiration",
   "metadata": {},
   "outputs": [],
   "source": [
    "cobot.T_B_E_robot"
   ]
  },
  {
   "cell_type": "code",
   "execution_count": null,
   "id": "passive-revision",
   "metadata": {},
   "outputs": [],
   "source": [
    "cobot.q"
   ]
  },
  {
   "cell_type": "code",
   "execution_count": null,
   "id": "protective-authority",
   "metadata": {},
   "outputs": [],
   "source": [
    "#Test above quaternion stuff and how it relates to SE3 to understand\n",
    "#--> Probably should ask for normal vector instead of pose if CERTH doesnt know what they are doing\n",
    "#1. What does quaternion [0 0 0 0] mean for our case?\n",
    "\n",
    "#2. "
   ]
  },
  {
   "cell_type": "code",
   "execution_count": null,
   "id": "diverse-territory",
   "metadata": {},
   "outputs": [],
   "source": [
    "#Go to position with Robot EE while pointing straight down with vacuum gripper\n"
   ]
  },
  {
   "cell_type": "code",
   "execution_count": null,
   "id": "sacred-upset",
   "metadata": {},
   "outputs": [],
   "source": [
    "#Turn the last link to rotate vacuum gripper\n"
   ]
  },
  {
   "cell_type": "code",
   "execution_count": null,
   "id": "outstanding-screening",
   "metadata": {},
   "outputs": [],
   "source": [
    "#Be compliant in base direction 4,5 while going straight down (calibrate first), can we use this for vacuum grasping?\n"
   ]
  },
  {
   "cell_type": "markdown",
   "id": "english-vintage",
   "metadata": {},
   "source": [
    "### What we really need: \n",
    "* pose of the robot when activating vacuum gripper (call it goal_pose)\n",
    "* pose of the robot when deactivating (call it dispose_pose)\n",
    "* (maybe) a pre-pose or normal vector to the surface"
   ]
  },
  {
   "cell_type": "markdown",
   "id": "second-paste",
   "metadata": {},
   "source": [
    "### Load it manually for now"
   ]
  },
  {
   "cell_type": "code",
   "execution_count": 61,
   "id": "adjusted-mixture",
   "metadata": {},
   "outputs": [
    {
     "data": {
      "text/plain": [
       "  \u001b[38;5;1m-0.712   \u001b[0m \u001b[38;5;1m-0.7021  \u001b[0m \u001b[38;5;1m 0.01307 \u001b[0m \u001b[38;5;4m 0.6115  \u001b[0m  \u001b[0m\n",
       "  \u001b[38;5;1m-0.7022  \u001b[0m \u001b[38;5;1m 0.7119  \u001b[0m \u001b[38;5;1m-0.00851 \u001b[0m \u001b[38;5;4m-0.3118  \u001b[0m  \u001b[0m\n",
       "  \u001b[38;5;1m-0.003332\u001b[0m \u001b[38;5;1m-0.01524 \u001b[0m \u001b[38;5;1m-0.9999  \u001b[0m \u001b[38;5;4m 0.31    \u001b[0m  \u001b[0m\n",
       "  \u001b[38;5;244m 0       \u001b[0m \u001b[38;5;244m 0       \u001b[0m \u001b[38;5;244m 0       \u001b[0m \u001b[38;5;244m 1       \u001b[0m  \u001b[0m\n"
      ]
     },
     "execution_count": 61,
     "metadata": {},
     "output_type": "execute_result"
    }
   ],
   "source": [
    "#cobot.update_tf()\n",
    "#np.save('goal_pose_vac',cobot.T_B_E_robot.A,allow_pickle=True,) #saves current pose as goal_pose (for metal sheet of PC)\n",
    "#np.save('goal_pose_vac_PSU',cobot.T_B_E_robot.A,allow_pickle=True,) #saves current pose as goal_pose\n",
    "goal_pose = np.load('goal_pose_vac_PSU.npy')\n",
    "sm.SE3(goal_pose)"
   ]
  },
  {
   "cell_type": "code",
   "execution_count": 118,
   "id": "pursuant-building",
   "metadata": {},
   "outputs": [
    {
     "data": {
      "text/plain": [
       "  \u001b[38;5;1m-0.6713  \u001b[0m \u001b[38;5;1m-0.7408  \u001b[0m \u001b[38;5;1m 0.02192 \u001b[0m \u001b[38;5;4m 0.5709  \u001b[0m  \u001b[0m\n",
       "  \u001b[38;5;1m-0.7408  \u001b[0m \u001b[38;5;1m 0.6716  \u001b[0m \u001b[38;5;1m 0.01315 \u001b[0m \u001b[38;5;4m 0.3754  \u001b[0m  \u001b[0m\n",
       "  \u001b[38;5;1m-0.02447 \u001b[0m \u001b[38;5;1m-0.007406\u001b[0m \u001b[38;5;1m-0.9997  \u001b[0m \u001b[38;5;4m 0.505   \u001b[0m  \u001b[0m\n",
       "  \u001b[38;5;244m 0       \u001b[0m \u001b[38;5;244m 0       \u001b[0m \u001b[38;5;244m 0       \u001b[0m \u001b[38;5;244m 1       \u001b[0m  \u001b[0m\n"
      ]
     },
     "execution_count": 118,
     "metadata": {},
     "output_type": "execute_result"
    }
   ],
   "source": [
    "#np.save('dispose_pose_vac',dispose_pose.A,allow_pickle=True) #saves current pose as release_pose\n",
    "dispose_pose = np.load('dispose_pose_vac.npy')\n",
    "dispose_pose = sm.SE3(np.array([0,0,0.07]))@sm.SE3(dispose_pose) #for PSU go a bit higher with the dispose pose\n",
    "sm.SE3(dispose_pose) #prob go down 10-20cm"
   ]
  },
  {
   "cell_type": "code",
   "execution_count": 117,
   "id": "administrative-valuable",
   "metadata": {},
   "outputs": [
    {
     "data": {
      "text/plain": [
       "  \u001b[38;5;1m-0.6713  \u001b[0m \u001b[38;5;1m-0.7408  \u001b[0m \u001b[38;5;1m 0.02192 \u001b[0m \u001b[38;5;4m 0.5709  \u001b[0m  \u001b[0m\n",
       "  \u001b[38;5;1m-0.7408  \u001b[0m \u001b[38;5;1m 0.6716  \u001b[0m \u001b[38;5;1m 0.01315 \u001b[0m \u001b[38;5;4m 0.3754  \u001b[0m  \u001b[0m\n",
       "  \u001b[38;5;1m-0.02447 \u001b[0m \u001b[38;5;1m-0.007406\u001b[0m \u001b[38;5;1m-0.9997  \u001b[0m \u001b[38;5;4m 0.355   \u001b[0m  \u001b[0m\n",
       "  \u001b[38;5;244m 0       \u001b[0m \u001b[38;5;244m 0       \u001b[0m \u001b[38;5;244m 0       \u001b[0m \u001b[38;5;244m 1       \u001b[0m  \u001b[0m\n"
      ]
     },
     "execution_count": 117,
     "metadata": {},
     "output_type": "execute_result"
    }
   ],
   "source": [
    "#np.save('final_pose_vac',final_pose.A,allow_pickle=True)\n",
    "final_pose = np.load('final_pose_vac.npy')\n",
    "final_pose = sm.SE3(np.array([0,0,0.07]))@sm.SE3(final_pose)\n",
    "sm.SE3(final_pose)"
   ]
  },
  {
   "cell_type": "code",
   "execution_count": 70,
   "id": "absolute-cooperative",
   "metadata": {},
   "outputs": [],
   "source": [
    "#These are used to compute the pre-pose:\n",
    "nvec = np.array([0, 0, 1])\n",
    "nvec = cu.normalize_vec(nvec) #Make sure nvec is normalized\n",
    "pre_pose_dist = 0.15 #in meter 0.04 for metal sheet, 0.15"
   ]
  },
  {
   "cell_type": "code",
   "execution_count": 71,
   "id": "romantic-sword",
   "metadata": {},
   "outputs": [
    {
     "data": {
      "text/plain": [
       "  \u001b[38;5;1m-0.712   \u001b[0m \u001b[38;5;1m-0.7021  \u001b[0m \u001b[38;5;1m 0.01307 \u001b[0m \u001b[38;5;4m 0.6115  \u001b[0m  \u001b[0m\n",
       "  \u001b[38;5;1m-0.7022  \u001b[0m \u001b[38;5;1m 0.7119  \u001b[0m \u001b[38;5;1m-0.00851 \u001b[0m \u001b[38;5;4m-0.3118  \u001b[0m  \u001b[0m\n",
       "  \u001b[38;5;1m-0.003332\u001b[0m \u001b[38;5;1m-0.01524 \u001b[0m \u001b[38;5;1m-0.9999  \u001b[0m \u001b[38;5;4m 0.46    \u001b[0m  \u001b[0m\n",
       "  \u001b[38;5;244m 0       \u001b[0m \u001b[38;5;244m 0       \u001b[0m \u001b[38;5;244m 0       \u001b[0m \u001b[38;5;244m 1       \u001b[0m  \u001b[0m\n"
      ]
     },
     "execution_count": 71,
     "metadata": {},
     "output_type": "execute_result"
    }
   ],
   "source": [
    "pre_pose = sm.SE3(nvec* pre_pose_dist) @ sm.SE3(goal_pose)\n",
    "sm.SE3(pre_pose)"
   ]
  },
  {
   "cell_type": "code",
   "execution_count": 66,
   "id": "divine-heather",
   "metadata": {},
   "outputs": [
    {
     "data": {
      "text/plain": [
       "  \u001b[38;5;1m-0.712   \u001b[0m \u001b[38;5;1m-0.7021  \u001b[0m \u001b[38;5;1m 0.01308 \u001b[0m \u001b[38;5;4m 0.6115  \u001b[0m  \u001b[0m\n",
       "  \u001b[38;5;1m-0.7022  \u001b[0m \u001b[38;5;1m 0.7119  \u001b[0m \u001b[38;5;1m-0.008514\u001b[0m \u001b[38;5;4m-0.3118  \u001b[0m  \u001b[0m\n",
       "  \u001b[38;5;1m-0.003333\u001b[0m \u001b[38;5;1m-0.01525 \u001b[0m \u001b[38;5;1m-0.9999  \u001b[0m \u001b[38;5;4m 0.31    \u001b[0m  \u001b[0m\n",
       "  \u001b[38;5;244m 0       \u001b[0m \u001b[38;5;244m 0       \u001b[0m \u001b[38;5;244m 0       \u001b[0m \u001b[38;5;244m 1       \u001b[0m  \u001b[0m\n"
      ]
     },
     "execution_count": 66,
     "metadata": {},
     "output_type": "execute_result"
    }
   ],
   "source": [
    "cobot.update_tf()\n",
    "cobot.T_B_E_robot"
   ]
  },
  {
   "cell_type": "code",
   "execution_count": 67,
   "id": "lightweight-macedonia",
   "metadata": {},
   "outputs": [
    {
     "name": "stdout",
     "output_type": "stream",
     "text": [
      "Hrr-Cobot state:\n",
      "FT-data:\n",
      "current force:\t[-10.04425049   8.58032227   4.32421875] [N]\n",
      "current torque:\t[-9.0826416  -5.20385742  0.6362915 ] [Nm]\n",
      "current wrench:\t[-10.04794522   8.59073303   4.27519161  -9.11981641  -5.19068244   0.63117795] [N,Nm]\n",
      "=>in contact:\tTrue\n",
      "---\n",
      "Robot-data:\n",
      "q:\t\t[ 27.00190296  53.65089687 -73.68950394   0.12023661  51.77059702  71.53010548][°]\n",
      "q_dot:\t\t[0. 0. 0. 0. 0. 0.][rad/s]\n",
      "tau:\t\t[0. 0. 0. 0. 0. 0.][Nm]\n",
      "pos:\t\t[ 0.61152948 -0.31176337  0.30997083][m]\n",
      "quat:\t\t0.00443 <[-0.3794597   0.92517536 -0.00642034]>\n",
      "tool-pos:\t[ 0.61152948 -0.31176337  0.30997083][m]\n",
      "tool-rpy:\t[135.40132141   0.74934298 179.51211548][°]\n",
      "robot-status:\tmoving\n",
      "---\n"
     ]
    }
   ],
   "source": [
    "print(cobot)"
   ]
  },
  {
   "cell_type": "markdown",
   "id": "initial-rapid",
   "metadata": {},
   "source": [
    "### Initiate planner"
   ]
  },
  {
   "cell_type": "code",
   "execution_count": 19,
   "id": "major-error",
   "metadata": {},
   "outputs": [],
   "source": [
    " # Initialize the planner action client.\n",
    "    \n",
    "# >> Remeber to run the planner node (rosrun planner planner_server_v2.py) in terminal\n",
    "# >> \n",
    "#rospy.init_node('planner_client')\n",
    "\n",
    "client1 = actionlib.SimpleActionClient('planner', PlannerAction)\n",
    "client1.wait_for_server()\n",
    "\n",
    "# Sending deride end configuration\n",
    "goal = PlannerGoal()\n",
    "goal.goal_pose.header.frame_id = \"map\"\n",
    "goal.goal_pose.header.stamp = rospy.Time.now()"
   ]
  },
  {
   "cell_type": "markdown",
   "id": "centered-timeline",
   "metadata": {},
   "source": [
    "## If we want to, we can start at a pose"
   ]
  },
  {
   "cell_type": "code",
   "execution_count": 132,
   "id": "excited-condition",
   "metadata": {},
   "outputs": [
    {
     "data": {
      "application/vnd.jupyter.widget-view+json": {
       "model_id": "234cac41229e4d7c9c8cc4d0ba27f1e0",
       "version_major": 2,
       "version_minor": 0
      },
      "text/plain": [
       "  0%|          | 0/10000 [00:00<?, ?it/s]"
      ]
     },
     "metadata": {},
     "output_type": "display_data"
    },
    {
     "name": "stdout",
     "output_type": "stream",
     "text": [
      "[INFO] [1641983086.760093]: reached goal pose at step 712 / 10000\n"
     ]
    }
   ],
   "source": [
    "cobot.move_to_pose( cobot.FK(cobot.q_calib), err_gain = None, v_max = 0.03) #start_pose, cobot.FK(cobot.q_calib)\n",
    "T = int(100 * cobot.hz)\n",
    "for t in trange(T):\n",
    "    if cobot.state is None:\n",
    "        rospy.loginfo(f\"reached goal pose at step {t + 1} / {T}\")\n",
    "        break\n",
    "    elif cobot.state == \"error\":\n",
    "        rospy.logerror(f\"robot in ERROR state\")\n",
    "    cobot.update()"
   ]
  },
  {
   "cell_type": "markdown",
   "id": "classified-harbor",
   "metadata": {},
   "source": [
    "## Go-to pre-pose with traj planner\n",
    "Assuming pre-pose is a translation of pre_pose_dist in the direction of nvec from goal_pose"
   ]
  },
  {
   "cell_type": "code",
   "execution_count": 133,
   "id": "written-express",
   "metadata": {},
   "outputs": [],
   "source": [
    "pre_pose_quat = cu.homog2quat(pre_pose)\n",
    "pre_pose_pos = cu.homog2pos(pre_pose)\n",
    "#position of end_configuration\n",
    "goal.goal_pose.pose.position.x = pre_pose_pos[0]\n",
    "goal.goal_pose.pose.position.y = pre_pose_pos[1]\n",
    "goal.goal_pose.pose.position.z = pre_pose_pos[2]\n",
    "\n",
    "#orientation of end_configuration\n",
    "goal.goal_pose.pose.orientation.x = pre_pose_quat.x\n",
    "goal.goal_pose.pose.orientation.y = pre_pose_quat.y\n",
    "goal.goal_pose.pose.orientation.z = pre_pose_quat.z\n",
    "goal.goal_pose.pose.orientation.w = pre_pose_quat.w"
   ]
  },
  {
   "cell_type": "code",
   "execution_count": 134,
   "id": "surprised-packaging",
   "metadata": {
    "scrolled": true
   },
   "outputs": [
    {
     "name": "stderr",
     "output_type": "stream",
     "text": [
      "[WARN] [1641983232.063119]: Inbound TCP/IP connection failed: connection from sender terminated before handshake header received. 0 bytes were received. Please check sender for additional details.\n",
      "[WARN] [1641983232.067844]: Inbound TCP/IP connection failed: connection from sender terminated before handshake header received. 0 bytes were received. Please check sender for additional details.\n",
      "[WARN] [1641983232.070791]: Inbound TCP/IP connection failed: connection from sender terminated before handshake header received. 0 bytes were received. Please check sender for additional details.\n",
      "[WARN] [1641983232.073289]: Inbound TCP/IP connection failed: connection from sender terminated before handshake header received. 0 bytes were received. Please check sender for additional details.\n",
      "[WARN] [1641983232.075933]: Inbound TCP/IP connection failed: connection from sender terminated before handshake header received. 0 bytes were received. Please check sender for additional details.\n",
      "[WARN] [1641983233.767645]: Inbound TCP/IP connection failed: connection from sender terminated before handshake header received. 0 bytes were received. Please check sender for additional details.\n"
     ]
    }
   ],
   "source": [
    "client1.send_goal(goal)\n"
   ]
  },
  {
   "cell_type": "markdown",
   "id": "framed-elements",
   "metadata": {},
   "source": [
    "## Approach and grasp"
   ]
  },
  {
   "cell_type": "code",
   "execution_count": 124,
   "id": "coastal-vienna",
   "metadata": {},
   "outputs": [
    {
     "data": {
      "application/vnd.jupyter.widget-view+json": {
       "model_id": "00178ec5d1e74957b5c2044909243da2",
       "version_major": 2,
       "version_minor": 0
      },
      "text/plain": [
       "  0%|          | 0/10000 [00:00<?, ?it/s]"
      ]
     },
     "metadata": {},
     "output_type": "display_data"
    },
    {
     "name": "stdout",
     "output_type": "stream",
     "text": [
      "[INFO] [1641983027.942873]: reached goal pose at step 395 / 10000\n"
     ]
    }
   ],
   "source": [
    "below_goal_pose = sm.SE3([0,0,-0.05])@cobot.T_B_E_robot    \n",
    "cobot.move_to_pose(below_goal_pose, err_gain = None, v_max = 0.01) \n",
    "force_z = np.array([])\n",
    "T = int(100 * cobot.hz)\n",
    "for t in trange(T):\n",
    "    force_z = np.append(force_z,cobot.FT_F[2])\n",
    "    if cobot.state is None:\n",
    "        rospy.loginfo(f\"reached goal pose at step {t + 1} / {T}\")\n",
    "        break\n",
    "    elif cobot.state == \"error\":\n",
    "        rospy.logerror(f\"robot in ERROR state\")\n",
    "    if abs(np.mean(force_z)-force_z[-1])>2:\n",
    "        break\n",
    "    cobot.update()"
   ]
  },
  {
   "cell_type": "code",
   "execution_count": null,
   "id": "outdoor-david",
   "metadata": {},
   "outputs": [],
   "source": [
    "#Enable Vacuum Gripper"
   ]
  },
  {
   "cell_type": "markdown",
   "id": "advisory-license",
   "metadata": {},
   "source": [
    "## Dispose"
   ]
  },
  {
   "cell_type": "code",
   "execution_count": 125,
   "id": "running-longer",
   "metadata": {},
   "outputs": [
    {
     "data": {
      "application/vnd.jupyter.widget-view+json": {
       "model_id": "87f031afc0604d25bba9bb31872714d5",
       "version_major": 2,
       "version_minor": 0
      },
      "text/plain": [
       "  0%|          | 0/10000 [00:00<?, ?it/s]"
      ]
     },
     "metadata": {},
     "output_type": "display_data"
    },
    {
     "name": "stdout",
     "output_type": "stream",
     "text": [
      "[INFO] [1641983031.750197]: reached goal pose at step 354 / 10000\n"
     ]
    }
   ],
   "source": [
    "## Go to pre_pose then dispose location, possible check if object is grasped\n",
    "cobot.move_to_pose(pre_pose,err_gain = None, v_max = 0.03)\n",
    "T = int(100 * cobot.hz)\n",
    "for t in trange(T):\n",
    "    if cobot.state is None:\n",
    "        rospy.loginfo(f\"reached goal pose at step {t + 1} / {T}\")\n",
    "        break\n",
    "    elif cobot.state == \"error\":\n",
    "        rospy.logerror(f\"robot in ERROR state\")\n",
    "    cobot.update()\n",
    "    #Keep Vacuum gripper enabled"
   ]
  },
  {
   "cell_type": "code",
   "execution_count": 126,
   "id": "universal-trading",
   "metadata": {},
   "outputs": [],
   "source": [
    "#Enable Vacuum gripper\n",
    "dispose_pose_quat = cu.homog2quat(dispose_pose)\n",
    "dispose_pose_pos = cu.homog2pos(dispose_pose)\n",
    "\n",
    "#position of end_configuration\n",
    "goal.goal_pose.pose.position.x = dispose_pose_pos[0]\n",
    "goal.goal_pose.pose.position.y = dispose_pose_pos[1]\n",
    "goal.goal_pose.pose.position.z = dispose_pose_pos[2]\n",
    "\n",
    "#orientation of end_configuration\n",
    "goal.goal_pose.pose.orientation.x = dispose_pose_quat.x\n",
    "goal.goal_pose.pose.orientation.y = dispose_pose_quat.y\n",
    "goal.goal_pose.pose.orientation.z = dispose_pose_quat.z\n",
    "goal.goal_pose.pose.orientation.w = dispose_pose_quat.w\n",
    "\n",
    "client1.send_goal(goal)"
   ]
  },
  {
   "cell_type": "code",
   "execution_count": 116,
   "id": "strong-custom",
   "metadata": {},
   "outputs": [],
   "source": [
    "#Disable vacuum gripper"
   ]
  },
  {
   "cell_type": "markdown",
   "id": "velvet-satin",
   "metadata": {},
   "source": [
    "#tool_controller.vacuum = True\n",
    "cobot.move_to_pose(dispose_pose) \n",
    "T = int(100 * cobot.hz)\n",
    "for t in trange(T):\n",
    "    if cobot.state is None:\n",
    "        rospy.loginfo(f\"reached goal pose at step {t + 1} / {T}\")\n",
    "        break\n",
    "    elif cobot.state == \"error\":\n",
    "        rospy.logerror(f\"robot in ERROR state\")\n",
    "    cobot.update()"
   ]
  }
 ],
 "metadata": {
  "kernelspec": {
   "display_name": "Python 3 (ipykernel)",
   "language": "python",
   "name": "python3"
  },
  "language_info": {
   "codemirror_mode": {
    "name": "ipython",
    "version": 3
   },
   "file_extension": ".py",
   "mimetype": "text/x-python",
   "name": "python",
   "nbconvert_exporter": "python",
   "pygments_lexer": "ipython3",
   "version": "3.8.12"
  }
 },
 "nbformat": 4,
 "nbformat_minor": 5
}
