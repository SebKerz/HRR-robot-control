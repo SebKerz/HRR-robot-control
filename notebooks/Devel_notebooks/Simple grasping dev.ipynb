{
 "cells": [
  {
   "cell_type": "markdown",
   "id": "unable-session",
   "metadata": {},
   "source": [
    "### Some how-tos\n",
    "For rviz open:roscd hrr_common/\n",
    "❯ cd rviz\n",
    "❯ rviz -d hrr_cobot_hw.rvizplot \n",
    "\n",
    "forces:\n",
    "rqt_plot /hrr_cobot/ft_sensor/wrench/force/x:y:z"
   ]
  },
  {
   "cell_type": "code",
   "execution_count": 1,
   "id": "daily-transparency",
   "metadata": {},
   "outputs": [],
   "source": [
    "import numpy as np\n",
    "import sys\n",
    "import hrr_common.utils as cu\n",
    "from hrr_cobot_robot.gripper_interfaces.wsg_50_hw_local import gripper_command_handle as gch\n",
    "import hrr_common as hrr_cm\n",
    "import hrr_cobot_robot as hrr_rob\n",
    "import spatialmath as sm\n",
    "import rospy\n",
    "from tqdm.notebook import tqdm, trange\n",
    "from hrr_msgs.msg import PlannerAction , PlannerGoal\n",
    "\n",
    "# ROS\n",
    "import actionlib"
   ]
  },
  {
   "cell_type": "markdown",
   "id": "secondary-definition",
   "metadata": {},
   "source": [
    "### ros setup for the lab"
   ]
  },
  {
   "cell_type": "code",
   "execution_count": 2,
   "id": "inner-seafood",
   "metadata": {},
   "outputs": [
    {
     "name": "stdout",
     "output_type": "stream",
     "text": [
      "for a local setup, replace the above by:\n",
      "\t%env ROS_MASTER_URI=http://localhost:11311\n",
      "env: ROS_MASTER_URI=http://hrrN3511rt2004.lsr.ei.tum.de:11311\n",
      "in case this notebook does not work please check that IP below is identical:\n",
      "\t%env ROS_IP=129.187.147.174\t\t<=>\tenv: ROS_IP=129.187.147.174\n"
     ]
    }
   ],
   "source": [
    "import socket\n",
    "print(\"for a local setup, replace the above by:\\n\\t\" + \\\n",
    "      r\"%env ROS_MASTER_URI=http://localhost:11311\")\n",
    "%env ROS_MASTER_URI=http://hrrN3511rt2004.lsr.ei.tum.de:11311\n",
    "print(\"in case this notebook does not work please check that IP below is identical:\\n\\t\"+\n",
    "      r\"%env \" + f\"ROS_IP={ socket.gethostbyname(socket. gethostname())}\\t\\t<=>\",end=\"\\t\")\n",
    "%env ROS_IP=129.187.147.174"
   ]
  },
  {
   "cell_type": "code",
   "execution_count": 3,
   "id": "pressed-magnet",
   "metadata": {},
   "outputs": [],
   "source": [
    "rospy.init_node('simple_grasping_dev')"
   ]
  },
  {
   "cell_type": "markdown",
   "id": "dimensional-disney",
   "metadata": {},
   "source": [
    "## Gripper initialization\n",
    "Assume cobot and gripper have been launched according to \n",
    "```bash\n",
    "roslaunch hrr_cobot_robot hrr_cobot_hw.launch tool_name:=\"wsg_50\"     \n",
    "```"
   ]
  },
  {
   "cell_type": "code",
   "execution_count": 4,
   "id": "brazilian-waterproof",
   "metadata": {},
   "outputs": [],
   "source": [
    "gripper = gch.GripperCommandHandle('/hrr_cobot/gripper')"
   ]
  },
  {
   "cell_type": "code",
   "execution_count": 5,
   "id": "respective-quebec",
   "metadata": {},
   "outputs": [],
   "source": [
    "gripper.reset()"
   ]
  },
  {
   "cell_type": "markdown",
   "id": "mounted-baptist",
   "metadata": {},
   "source": [
    "## Gripper test commands (not part of grasping routine)"
   ]
  },
  {
   "cell_type": "markdown",
   "id": "auburn-trinity",
   "metadata": {},
   "source": [
    "#Get current width\n",
    "gripper.width #in m\n",
    "realwidth = gripper.width-0.004 #white 3d-printed fingers are approx. 4mm wide\n",
    "print(gripper.width, realwidth)"
   ]
  },
  {
   "cell_type": "markdown",
   "id": "subject-friday",
   "metadata": {},
   "source": [
    "#Get current forces: [motor, finger1, finger2]\n",
    "motorforce = gripper.forces[0]\n",
    "motorforce"
   ]
  },
  {
   "cell_type": "markdown",
   "id": "north-practice",
   "metadata": {},
   "source": [
    "#Set desired position of gripper\n",
    "width = 62 #in mm\n",
    "speed = 100 #in mm/s\n",
    "gripper.send_pos(width, speed)"
   ]
  },
  {
   "cell_type": "markdown",
   "id": "invisible-virgin",
   "metadata": {},
   "source": [
    "#Set velocity (No need probably) What does it do?\n",
    "gripper.set_vel(5)"
   ]
  },
  {
   "cell_type": "markdown",
   "id": "bottom-township",
   "metadata": {},
   "source": [
    "#Reset gripper (Homing and rospy sleep for dt=0.1 default)\n",
    "gripper.reset()"
   ]
  },
  {
   "cell_type": "markdown",
   "id": "liked-modification",
   "metadata": {
    "scrolled": true
   },
   "source": [
    "!rostopic list"
   ]
  },
  {
   "cell_type": "markdown",
   "id": "thirty-drink",
   "metadata": {},
   "source": [
    "# Actual grasping routine"
   ]
  },
  {
   "cell_type": "markdown",
   "id": "opposite-hypothesis",
   "metadata": {},
   "source": [
    "Use cases:\n",
    "Emergency lamp: Remove and dispose battery under middle cover\n"
   ]
  },
  {
   "cell_type": "markdown",
   "id": "dramatic-workshop",
   "metadata": {},
   "source": [
    "## Init robot control connection"
   ]
  },
  {
   "cell_type": "code",
   "execution_count": 6,
   "id": "alternate-halloween",
   "metadata": {},
   "outputs": [
    {
     "name": "stderr",
     "output_type": "stream",
     "text": [
      "[ERROR] [1642087538.182192]: could not set tool-frame @ /simple_grasping_dev due to missing ROS-parameter: '~tool_name'\n"
     ]
    },
    {
     "name": "stdout",
     "output_type": "stream",
     "text": [
      "[INFO] [1642087538.729342]: Updated force  gains: K_p:=[0.0001, 0.0001, 0.0001]\n",
      "[INFO] [1642087538.732914]: Updated torque gains: K_p:=[0.0005, 0.0005, 0.0005]\n",
      "q:\t\t[ 38.09431117  60.08643771 -61.2741598   -0.68832373  58.56317576\n",
      "  82.6286233 ][°]\n",
      "q_dot:\t\t[0. 0. 0. 0. 0. 0.][rad/s]\n",
      "tau:\t\t[0. 0. 0. 0. 0. 0.][Nm]\n",
      "pos:\t\t[ 0.57217682 -0.44751016  0.3113642 ][m]\n",
      "quat:\t\t0.00478 <[-0.37602266  0.92659607  0.00195538]>\n",
      "tool-pos:\t[ 0.57217682 -0.44751016  0.3113642 ][m]\n",
      "tool-rpy:\t[ 135.82278442    0.42329493 -179.58639526][°]\n",
      "robot-status:\tready\n"
     ]
    },
    {
     "name": "stderr",
     "output_type": "stream",
     "text": [
      "[WARN] [1642087538.963015]: Could not process inbound connection: Client [/hrr_cobot] wants topic [/hrr_cobot/sensor_track_compliant_controller/hybrid_ctrl_cmd] to have datatype/md5sum [hrr_msgs/HybridForceVelocityCmdStamped/6bfe9d92f9569269ce7086e736ecd0c2], but our version has [hrr_msgs/HybridForceVelocityCmdStamped/c7d32c882fe005053aba472f934842bd] Dropping connection.{'callerid': '/hrr_cobot', 'md5sum': '6bfe9d92f9569269ce7086e736ecd0c2', 'tcp_nodelay': '0', 'topic': '/hrr_cobot/sensor_track_compliant_controller/hybrid_ctrl_cmd', 'type': 'hrr_msgs/HybridForceVelocityCmdStamped'}\n"
     ]
    }
   ],
   "source": [
    "hrr_rob.load_default_parameters(\"/hrr_cobot\")\n",
    "cobot = hrr_rob.HrrCobotControl.from_ros()\n",
    "rospy.set_param(\"~joint_state_topic_name\", \"/hrr_cobot/joint_states\")\n",
    "rospy.set_param(\"~tp5_topic_name\", \"/hrr_cobot/comau_robot_state_controller/comau_cartesian_data\")\n",
    "comau_status = hrr_rob.ComauRobotState.from_ros()\n",
    "rospy.sleep(1e-1)\n",
    "print(comau_status)"
   ]
  },
  {
   "cell_type": "markdown",
   "id": "elementary-joint",
   "metadata": {},
   "source": [
    "## Move to calibration pose to start (not necessary)"
   ]
  },
  {
   "cell_type": "code",
   "execution_count": null,
   "id": "lyric-holocaust",
   "metadata": {},
   "outputs": [],
   "source": [
    "cobot.move_to_pose(cobot.FK(cobot.q_calib))\n",
    "T = int(100 * cobot.hz)\n",
    "for t in trange(T):\n",
    "    if cobot.state is None:\n",
    "        rospy.loginfo(f\"reached goal pose at step {t + 1} / {T}\")\n",
    "        break\n",
    "    elif cobot.state == \"error\":\n",
    "        rospy.logerror(f\"robot in ERROR state\")\n",
    "    cobot.update()"
   ]
  },
  {
   "cell_type": "markdown",
   "id": "piano-miniature",
   "metadata": {},
   "source": [
    "# Define parameters"
   ]
  },
  {
   "cell_type": "markdown",
   "id": "narrative-coordination",
   "metadata": {},
   "source": [
    "## Parameters given from outside (task planner)\n",
    "Set to dummy values here"
   ]
  },
  {
   "cell_type": "code",
   "execution_count": null,
   "id": "elegant-planet",
   "metadata": {},
   "outputs": [],
   "source": [
    "from geometry_msgs.msg import PoseStamped #For testing purposes\n",
    "object_center = PoseStamped() #PoseStamped\n",
    "dispose_off_location_pose = PoseStamped() #PoseStamped\n",
    "gripper_open_width = 0 #float32 #mm\n",
    "gripper_close_width = 0 #float32 #mm\n"
   ]
  },
  {
   "cell_type": "markdown",
   "id": "compact-acoustic",
   "metadata": {},
   "source": [
    "### Compute goal_pose of the robot (grasping pose) from object center\n",
    "goal_pose: the pose of the robot EE (SE3) when initially grasping the object, i.e. during closing of the gripper\n",
    "\n",
    "This computation needs to consider:\n",
    "* translation from object center to grasping center point (might be zero)\n",
    "* translation from grasping center point to robot EE (depending on length of gripper & adapters)\n",
    "* orientation of the robot EE: grasp from above, i.e. orientation with EE pointing down\n",
    "* last link rotated such that gripper aligns with object as wanted (compute from object orientation)"
   ]
  },
  {
   "cell_type": "code",
   "execution_count": null,
   "id": "through-mercy",
   "metadata": {},
   "outputs": [],
   "source": [
    "#goal_pose = cu.calc_EE_goal_pose(nvec, object_location, C_p_CE=disp_tip_EE)\n",
    "goal_pose = sm.SE3()"
   ]
  },
  {
   "cell_type": "markdown",
   "id": "herbal-cooperation",
   "metadata": {},
   "source": [
    "### Compute dispose_pose of the robot EE (where to stop grasping)\n",
    "dispose_pose: the pose of the robot EE (SE3) when dropping the object\n",
    "\n",
    "probably already given from outside in dispose_off_location_pose, unless orientation is empty?"
   ]
  },
  {
   "cell_type": "code",
   "execution_count": null,
   "id": "deadly-candle",
   "metadata": {},
   "outputs": [],
   "source": [
    "dispose_pose = sm.SE3()"
   ]
  },
  {
   "cell_type": "markdown",
   "id": "false-height",
   "metadata": {},
   "source": [
    "### \"Ensure\" gripper open and close width are in mm"
   ]
  },
  {
   "cell_type": "code",
   "execution_count": 7,
   "id": "banned-porcelain",
   "metadata": {},
   "outputs": [
    {
     "ename": "NameError",
     "evalue": "name 'gripper_open_width' is not defined",
     "output_type": "error",
     "traceback": [
      "\u001b[0;31m---------------------------------------------------------------------------\u001b[0m",
      "\u001b[0;31mNameError\u001b[0m                                 Traceback (most recent call last)",
      "\u001b[0;32m/tmp/ipykernel_5701/2153740234.py\u001b[0m in \u001b[0;36m<module>\u001b[0;34m\u001b[0m\n\u001b[0;32m----> 1\u001b[0;31m \u001b[0;32mif\u001b[0m \u001b[0mgripper_open_width\u001b[0m \u001b[0;34m<\u001b[0m \u001b[0;36m1\u001b[0m\u001b[0;34m:\u001b[0m\u001b[0;34m\u001b[0m\u001b[0;34m\u001b[0m\u001b[0m\n\u001b[0m\u001b[1;32m      2\u001b[0m     \u001b[0;31m#probably given in meters\u001b[0m\u001b[0;34m\u001b[0m\u001b[0;34m\u001b[0m\u001b[0;34m\u001b[0m\u001b[0m\n\u001b[1;32m      3\u001b[0m     \u001b[0mopen_width\u001b[0m \u001b[0;34m=\u001b[0m \u001b[0mgripper_open_width\u001b[0m\u001b[0;34m*\u001b[0m\u001b[0;36m1000\u001b[0m\u001b[0;34m\u001b[0m\u001b[0;34m\u001b[0m\u001b[0m\n\u001b[1;32m      4\u001b[0m \u001b[0;32melse\u001b[0m\u001b[0;34m:\u001b[0m\u001b[0;34m\u001b[0m\u001b[0;34m\u001b[0m\u001b[0m\n\u001b[1;32m      5\u001b[0m     \u001b[0mopen_width\u001b[0m \u001b[0;34m=\u001b[0m \u001b[0mgripper_open\u001b[0m\u001b[0;34m-\u001b[0m\u001b[0mwidth\u001b[0m\u001b[0;34m\u001b[0m\u001b[0;34m\u001b[0m\u001b[0m\n",
      "\u001b[0;31mNameError\u001b[0m: name 'gripper_open_width' is not defined"
     ]
    }
   ],
   "source": [
    "if gripper_open_width < 1:\n",
    "    #probably given in meters\n",
    "    open_width = gripper_open_width*1000\n",
    "else:\n",
    "    open_width = gripper_open-width\n",
    "if gripper_close_width < 1:\n",
    "    #probably given in meters\n",
    "    open_width = gripper_close_width*1000\n",
    "else:\n",
    "    open_width = gripper_close_width    "
   ]
  },
  {
   "cell_type": "markdown",
   "id": "neural-accuracy",
   "metadata": {},
   "source": [
    "### For demos, we set outside parameters manually"
   ]
  },
  {
   "cell_type": "code",
   "execution_count": 177,
   "id": "focused-background",
   "metadata": {},
   "outputs": [
    {
     "data": {
      "text/plain": [
       "array([[-0.71841924, -0.69554824,  0.00929714,  0.56683789],\n",
       "       [-0.69553229,  0.71847469,  0.00538119, -0.45039294],\n",
       "       [-0.01042264, -0.00260051, -0.9999423 ,  0.27102234],\n",
       "       [ 0.        ,  0.        ,  0.        ,  1.        ]])"
      ]
     },
     "execution_count": 177,
     "metadata": {},
     "output_type": "execute_result"
    }
   ],
   "source": [
    "#cobot.update_tf()\n",
    "#np.save('goal_pose_simgrasp',cobot.T_B_E_robot.A,allow_pickle=True) #saves current pose as goal_pose\n",
    "goal_pose = np.load('goal_pose_simgrasp.npy')\n",
    "goal_pose"
   ]
  },
  {
   "cell_type": "code",
   "execution_count": 9,
   "id": "uniform-lesson",
   "metadata": {},
   "outputs": [
    {
     "data": {
      "text/plain": [
       "  \u001b[38;5;1m-0.6713  \u001b[0m \u001b[38;5;1m-0.7408  \u001b[0m \u001b[38;5;1m 0.02192 \u001b[0m \u001b[38;5;4m 0.5709  \u001b[0m  \u001b[0m\n",
       "  \u001b[38;5;1m-0.7408  \u001b[0m \u001b[38;5;1m 0.6716  \u001b[0m \u001b[38;5;1m 0.01315 \u001b[0m \u001b[38;5;4m 0.3754  \u001b[0m  \u001b[0m\n",
       "  \u001b[38;5;1m-0.02447 \u001b[0m \u001b[38;5;1m-0.007406\u001b[0m \u001b[38;5;1m-0.9997  \u001b[0m \u001b[38;5;4m 0.505   \u001b[0m  \u001b[0m\n",
       "  \u001b[38;5;244m 0       \u001b[0m \u001b[38;5;244m 0       \u001b[0m \u001b[38;5;244m 0       \u001b[0m \u001b[38;5;244m 1       \u001b[0m  \u001b[0m\n"
      ]
     },
     "execution_count": 9,
     "metadata": {},
     "output_type": "execute_result"
    }
   ],
   "source": [
    "dispose_pose = np.load('dispose_pose_vac.npy')\n",
    "dispose_pose = sm.SE3(np.array([0,0,0.07]))@sm.SE3(dispose_pose) #for this task go a bit higher with the dispose pose\n",
    "sm.SE3(dispose_pose) #prob go down 10-20cm"
   ]
  },
  {
   "cell_type": "code",
   "execution_count": 10,
   "id": "fantastic-marble",
   "metadata": {},
   "outputs": [
    {
     "data": {
      "text/plain": [
       "  \u001b[38;5;1m-0.6713  \u001b[0m \u001b[38;5;1m-0.7408  \u001b[0m \u001b[38;5;1m 0.02192 \u001b[0m \u001b[38;5;4m 0.5709  \u001b[0m  \u001b[0m\n",
       "  \u001b[38;5;1m-0.7408  \u001b[0m \u001b[38;5;1m 0.6716  \u001b[0m \u001b[38;5;1m 0.01315 \u001b[0m \u001b[38;5;4m 0.3754  \u001b[0m  \u001b[0m\n",
       "  \u001b[38;5;1m-0.02447 \u001b[0m \u001b[38;5;1m-0.007406\u001b[0m \u001b[38;5;1m-0.9997  \u001b[0m \u001b[38;5;4m 0.325   \u001b[0m  \u001b[0m\n",
       "  \u001b[38;5;244m 0       \u001b[0m \u001b[38;5;244m 0       \u001b[0m \u001b[38;5;244m 0       \u001b[0m \u001b[38;5;244m 1       \u001b[0m  \u001b[0m\n"
      ]
     },
     "execution_count": 10,
     "metadata": {},
     "output_type": "execute_result"
    }
   ],
   "source": [
    "#np.save('final_pose_vac',final_pose.A,allow_pickle=True)\n",
    "final_pose = np.load('final_pose_vac.npy')\n",
    "final_pose = sm.SE3(np.array([0,0,0.04]))@sm.SE3(final_pose)\n",
    "sm.SE3(final_pose)"
   ]
  },
  {
   "cell_type": "code",
   "execution_count": 36,
   "id": "interested-crime",
   "metadata": {},
   "outputs": [],
   "source": [
    "#Width of gripper during grasp\n",
    "close_width = 78 # in mm! Note that the actual width of the grasp is approx. 4mm smaller, b/c of finger thickness\n",
    "#Width of gripper before grasp\n",
    "open_width = 100 # in mm! Note that the actual width of the grasp is approx. 4mm smaller, b/c of finger thickness"
   ]
  },
  {
   "cell_type": "markdown",
   "id": "incorrect-details",
   "metadata": {},
   "source": [
    "## Hardcoded parameters and computation of Pre-pose"
   ]
  },
  {
   "cell_type": "code",
   "execution_count": 12,
   "id": "former-juvenile",
   "metadata": {},
   "outputs": [],
   "source": [
    "#Normal vector from goal_pose to pre-pose\n",
    "nvec_prepose = np.array([0, 0, 1]) #[0 0 1] means pre-pose is above goal-pose, i.e. we approach from above when grasping\n",
    "\n",
    "#Defaul closing/opening speed of gripper in mm/s\n",
    "default_speed = 100\n",
    "\n",
    "#desired distance from goal-pose to pre-pose\n",
    "pre_pose_dist = 0.06\n",
    "\n",
    "#Thickness of fingers used to adjust gripper.width (in m)\n",
    "finger_thickness = 0.004"
   ]
  },
  {
   "cell_type": "markdown",
   "id": "informative-chicken",
   "metadata": {},
   "source": [
    "### Util methods with parameters included"
   ]
  },
  {
   "cell_type": "code",
   "execution_count": 13,
   "id": "greatest-guest",
   "metadata": {},
   "outputs": [
    {
     "data": {
      "text/plain": [
       "105.23503339290619"
      ]
     },
     "execution_count": 13,
     "metadata": {},
     "output_type": "execute_result"
    }
   ],
   "source": [
    "def getGripWidth():\n",
    "    return 1000*(gripper.width - finger_thickness)\n",
    "getGripWidth()"
   ]
  },
  {
   "cell_type": "code",
   "execution_count": 14,
   "id": "productive-balance",
   "metadata": {},
   "outputs": [],
   "source": [
    "def setGripWidth(obj_width):\n",
    "    gripper.send_pos(obj_width+finger_thickness, default_speed)"
   ]
  },
  {
   "cell_type": "code",
   "execution_count": 53,
   "id": "different-anniversary",
   "metadata": {},
   "outputs": [],
   "source": [
    "?gripper.send_pos"
   ]
  },
  {
   "cell_type": "markdown",
   "id": "manufactured-nirvana",
   "metadata": {},
   "source": [
    "### Compute pre-pose from goal-pose"
   ]
  },
  {
   "cell_type": "code",
   "execution_count": 111,
   "id": "intense-abortion",
   "metadata": {},
   "outputs": [
    {
     "name": "stdout",
     "output_type": "stream",
     "text": [
      "  \u001b[38;5;1m-0.7178  \u001b[0m \u001b[38;5;1m-0.6962  \u001b[0m \u001b[38;5;1m 0.008319\u001b[0m \u001b[38;5;4m 0.5664  \u001b[0m  \u001b[0m\n",
      "  \u001b[38;5;1m-0.6962  \u001b[0m \u001b[38;5;1m 0.7178  \u001b[0m \u001b[38;5;1m 0.006333\u001b[0m \u001b[38;5;4m-0.4509  \u001b[0m  \u001b[0m\n",
      "  \u001b[38;5;1m-0.01038 \u001b[0m \u001b[38;5;1m-0.001246\u001b[0m \u001b[38;5;1m-0.9999  \u001b[0m \u001b[38;5;4m 0.3441  \u001b[0m  \u001b[0m\n",
      "  \u001b[38;5;244m 0       \u001b[0m \u001b[38;5;244m 0       \u001b[0m \u001b[38;5;244m 0       \u001b[0m \u001b[38;5;244m 1       \u001b[0m  \u001b[0m\n",
      "   \u001b[38;5;1m-0.7178  \u001b[0m \u001b[38;5;1m-0.6962  \u001b[0m \u001b[38;5;1m 0.008319\u001b[0m \u001b[38;5;4m 0.5664  \u001b[0m  \u001b[0m\n",
      "  \u001b[38;5;1m-0.6962  \u001b[0m \u001b[38;5;1m 0.7178  \u001b[0m \u001b[38;5;1m 0.006333\u001b[0m \u001b[38;5;4m-0.4509  \u001b[0m  \u001b[0m\n",
      "  \u001b[38;5;1m-0.01038 \u001b[0m \u001b[38;5;1m-0.001246\u001b[0m \u001b[38;5;1m-0.9999  \u001b[0m \u001b[38;5;4m 0.2841  \u001b[0m  \u001b[0m\n",
      "  \u001b[38;5;244m 0       \u001b[0m \u001b[38;5;244m 0       \u001b[0m \u001b[38;5;244m 0       \u001b[0m \u001b[38;5;244m 1       \u001b[0m  \u001b[0m\n",
      "\n"
     ]
    }
   ],
   "source": [
    "#Compute pre-pose from nvec, location, pre_pose_dist, disp_tip_EE\n",
    "nvec = cu.normalize_vec(nvec_prepose) #Make sure nvec is normalized\n",
    "pre_pose = sm.SE3(nvec* pre_pose_dist) @ sm.SE3(goal_pose)\n",
    "print(pre_pose,sm.SE3(goal_pose))"
   ]
  },
  {
   "cell_type": "markdown",
   "id": "existing-trauma",
   "metadata": {},
   "source": [
    "### Use this to manually check poses"
   ]
  },
  {
   "cell_type": "code",
   "execution_count": 40,
   "id": "otherwise-rolling",
   "metadata": {},
   "outputs": [
    {
     "data": {
      "application/vnd.jupyter.widget-view+json": {
       "model_id": "b96baca2bd7443ba827cac2085eeb493",
       "version_major": 2,
       "version_minor": 0
      },
      "text/plain": [
       "  0%|          | 0/10000 [00:00<?, ?it/s]"
      ]
     },
     "metadata": {},
     "output_type": "display_data"
    },
    {
     "name": "stdout",
     "output_type": "stream",
     "text": [
      "[INFO] [1642087924.614089]: reached goal pose at step 532 / 10000\n"
     ]
    }
   ],
   "source": [
    "cobot.move_to_pose(pre_pose, err_gain = None, v_max = 0.005) #pre_pose, cobot.FK(cobot.q_calib)\n",
    "T = int(100 * cobot.hz)\n",
    "for t in trange(T):\n",
    "    if cobot.state is None:\n",
    "        rospy.loginfo(f\"reached goal pose at step {t + 1} / {T}\")\n",
    "        break\n",
    "    elif cobot.state == \"error\":\n",
    "        rospy.logerror(f\"robot in ERROR state\")\n",
    "    cobot.update()"
   ]
  },
  {
   "cell_type": "markdown",
   "id": "informative-script",
   "metadata": {},
   "source": [
    "### Init traj planner"
   ]
  },
  {
   "cell_type": "code",
   "execution_count": 58,
   "id": "resident-blake",
   "metadata": {},
   "outputs": [],
   "source": [
    " # Initialize the planner action client.\n",
    "    \n",
    "# >> Remeber to run the planner node (rosrun planner planner_server_v2.py) in terminal\n",
    "# >> \n",
    "#rospy.init_node('planner_client')\n",
    "\n",
    "client1 = actionlib.SimpleActionClient('planner', PlannerAction)\n",
    "client1.wait_for_server()\n",
    "\n",
    "# Sending deride end configuration\n",
    "goal = PlannerGoal()\n",
    "goal.goal_pose.header.frame_id = \"map\"\n",
    "goal.goal_pose.header.stamp = rospy.Time.now()"
   ]
  },
  {
   "cell_type": "markdown",
   "id": "dental-optics",
   "metadata": {},
   "source": [
    "# Robot movement commands start here"
   ]
  },
  {
   "cell_type": "markdown",
   "id": "fluid-humanitarian",
   "metadata": {},
   "source": [
    "### Start at calibration pose"
   ]
  },
  {
   "cell_type": "code",
   "execution_count": 142,
   "id": "royal-platform",
   "metadata": {},
   "outputs": [
    {
     "data": {
      "application/vnd.jupyter.widget-view+json": {
       "model_id": "3167f4d1ce7240e4a61ea401c9764fb0",
       "version_major": 2,
       "version_minor": 0
      },
      "text/plain": [
       "  0%|          | 0/10000 [00:00<?, ?it/s]"
      ]
     },
     "metadata": {},
     "output_type": "display_data"
    },
    {
     "name": "stdout",
     "output_type": "stream",
     "text": [
      "[INFO] [1642089709.575976]: reached goal pose at step 1007 / 10000\n"
     ]
    }
   ],
   "source": [
    "cobot.move_to_pose( cobot.FK(cobot.q_calib), err_gain = None, v_max = 0.03) #start_pose, cobot.FK(cobot.q_calib)\n",
    "T = int(100 * cobot.hz)\n",
    "for t in trange(T):\n",
    "    if cobot.state is None:\n",
    "        rospy.loginfo(f\"reached goal pose at step {t + 1} / {T}\")\n",
    "        break\n",
    "    elif cobot.state == \"error\":\n",
    "        rospy.logerror(f\"robot in ERROR state\")\n",
    "    cobot.update()"
   ]
  },
  {
   "cell_type": "markdown",
   "id": "careful-bread",
   "metadata": {},
   "source": [
    "### Go to pre-pose using traj planner"
   ]
  },
  {
   "cell_type": "code",
   "execution_count": 143,
   "id": "secure-abraham",
   "metadata": {},
   "outputs": [],
   "source": [
    "gripper.reset()"
   ]
  },
  {
   "cell_type": "code",
   "execution_count": 144,
   "id": "incorrect-reserve",
   "metadata": {},
   "outputs": [],
   "source": [
    "pre_pose_quat = cu.homog2quat(pre_pose)\n",
    "pre_pose_pos = cu.homog2pos(pre_pose)\n",
    "#position of end_configuration\n",
    "goal.goal_pose.pose.position.x = pre_pose_pos[0]\n",
    "goal.goal_pose.pose.position.y = pre_pose_pos[1]\n",
    "goal.goal_pose.pose.position.z = pre_pose_pos[2]\n",
    "\n",
    "#orientation of end_configuration\n",
    "goal.goal_pose.pose.orientation.x = pre_pose_quat.x\n",
    "goal.goal_pose.pose.orientation.y = pre_pose_quat.y\n",
    "goal.goal_pose.pose.orientation.z = pre_pose_quat.z\n",
    "goal.goal_pose.pose.orientation.w = pre_pose_quat.w"
   ]
  },
  {
   "cell_type": "code",
   "execution_count": 145,
   "id": "color-sustainability",
   "metadata": {},
   "outputs": [],
   "source": [
    " client1.send_goal(goal)"
   ]
  },
  {
   "cell_type": "markdown",
   "id": "announced-suspect",
   "metadata": {},
   "source": [
    "### set gripper to open_width"
   ]
  },
  {
   "cell_type": "code",
   "execution_count": 174,
   "id": "fancy-accuracy",
   "metadata": {},
   "outputs": [],
   "source": [
    "setGripWidth(open_width)"
   ]
  },
  {
   "cell_type": "markdown",
   "id": "derived-weapon",
   "metadata": {},
   "source": [
    "### Approach and grasp (set gripper to close_width)"
   ]
  },
  {
   "cell_type": "code",
   "execution_count": 175,
   "id": "indie-gibson",
   "metadata": {},
   "outputs": [],
   "source": [
    "cobot.move_to_pose(goal_pose)"
   ]
  },
  {
   "cell_type": "code",
   "execution_count": 176,
   "id": "ranking-latex",
   "metadata": {},
   "outputs": [
    {
     "data": {
      "application/vnd.jupyter.widget-view+json": {
       "model_id": "817f1f89f26647c79914bbfab6341fa4",
       "version_major": 2,
       "version_minor": 0
      },
      "text/plain": [
       "  0%|          | 0/10000 [00:00<?, ?it/s]"
      ]
     },
     "metadata": {},
     "output_type": "display_data"
    },
    {
     "name": "stdout",
     "output_type": "stream",
     "text": [
      "[INFO] [1642089833.794976]: reached goal pose at step 246 / 10000\n"
     ]
    }
   ],
   "source": [
    "T = int(100 * cobot.hz)\n",
    "for t in trange(T):\n",
    "    if cobot.state is None:\n",
    "        rospy.loginfo(f\"reached goal pose at step {t + 1} / {T}\")\n",
    "        break\n",
    "    elif cobot.state == \"error\":\n",
    "        rospy.logerror(f\"robot in ERROR state\")\n",
    "    cobot.update()"
   ]
  },
  {
   "cell_type": "code",
   "execution_count": 178,
   "id": "binding-discovery",
   "metadata": {},
   "outputs": [],
   "source": [
    "setGripWidth(close_width) #78"
   ]
  },
  {
   "cell_type": "markdown",
   "id": "multiple-trick",
   "metadata": {},
   "source": [
    "### Move back to pre-pose"
   ]
  },
  {
   "cell_type": "code",
   "execution_count": 179,
   "id": "miniature-price",
   "metadata": {},
   "outputs": [],
   "source": [
    "cobot.move_to_pose(pre_pose)"
   ]
  },
  {
   "cell_type": "code",
   "execution_count": 180,
   "id": "available-separate",
   "metadata": {},
   "outputs": [
    {
     "data": {
      "application/vnd.jupyter.widget-view+json": {
       "model_id": "14341df6e96446e78ea24010b7dcecf3",
       "version_major": 2,
       "version_minor": 0
      },
      "text/plain": [
       "  0%|          | 0/10000 [00:00<?, ?it/s]"
      ]
     },
     "metadata": {},
     "output_type": "display_data"
    },
    {
     "name": "stdout",
     "output_type": "stream",
     "text": [
      "[INFO] [1642089899.638121]: reached goal pose at step 251 / 10000\n"
     ]
    }
   ],
   "source": [
    "T = int(100 * cobot.hz)\n",
    "for t in trange(T):\n",
    "    if cobot.state is None:\n",
    "        rospy.loginfo(f\"reached goal pose at step {t + 1} / {T}\")\n",
    "        break\n",
    "    elif cobot.state == \"error\":\n",
    "        rospy.logerror(f\"robot in ERROR state\")\n",
    "    cobot.update()"
   ]
  },
  {
   "cell_type": "markdown",
   "id": "mineral-tonight",
   "metadata": {},
   "source": [
    "### Check if object is grasped\n"
   ]
  },
  {
   "cell_type": "code",
   "execution_count": 155,
   "id": "sharp-signature",
   "metadata": {},
   "outputs": [
    {
     "name": "stdout",
     "output_type": "stream",
     "text": [
      "0.0\n"
     ]
    }
   ],
   "source": [
    "print(gripper.forces[0])"
   ]
  },
  {
   "cell_type": "markdown",
   "id": "optimum-adrian",
   "metadata": {},
   "source": [
    "### move to dispose location using traj planner"
   ]
  },
  {
   "cell_type": "code",
   "execution_count": null,
   "id": "raised-investor",
   "metadata": {},
   "outputs": [],
   "source": [
    "dispose_pose_quat = cu.homog2quat(dispose_pose)\n",
    "dispose_pose_pos = cu.homog2pos(dispose_pose)\n",
    "\n",
    "#position of end_configuration\n",
    "goal.goal_pose.pose.position.x = dispose_pose_pos[0]\n",
    "goal.goal_pose.pose.position.y = dispose_pose_pos[1]\n",
    "goal.goal_pose.pose.position.z = dispose_pose_pos[2]\n",
    "\n",
    "#orientation of end_configuration\n",
    "goal.goal_pose.pose.orientation.x = dispose_pose_quat.x\n",
    "goal.goal_pose.pose.orientation.y = dispose_pose_quat.y\n",
    "goal.goal_pose.pose.orientation.z = dispose_pose_quat.z\n",
    "goal.goal_pose.pose.orientation.w = dispose_pose_quat.w"
   ]
  },
  {
   "cell_type": "code",
   "execution_count": null,
   "id": "intermediate-steps",
   "metadata": {},
   "outputs": [],
   "source": [
    " client1.send_goal(goal)"
   ]
  },
  {
   "cell_type": "markdown",
   "id": "enabling-period",
   "metadata": {},
   "source": [
    "### release object"
   ]
  },
  {
   "cell_type": "code",
   "execution_count": null,
   "id": "mental-membership",
   "metadata": {},
   "outputs": [],
   "source": [
    "cobot.move_to_pose(final_pose,err_gain = None, v_max = 0.03)\n",
    "T = int(100 * cobot.hz)\n",
    "for t in trange(T):\n",
    "    if cobot.state is None:\n",
    "        rospy.loginfo(f\"reached goal pose at step {t + 1} / {T}\")\n",
    "        break\n",
    "    elif cobot.state == \"error\":\n",
    "        rospy.logerror(f\"robot in ERROR state\")\n",
    "    cobot.update()\n",
    "gripper.reset()"
   ]
  },
  {
   "cell_type": "code",
   "execution_count": null,
   "id": "local-workstation",
   "metadata": {},
   "outputs": [],
   "source": [
    "cobot.move_to_pose( cobot.FK(cobot.q_calib), err_gain = None, v_max = 0.03) #start_pose, cobot.FK(cobot.q_calib)\n",
    "T = int(100 * cobot.hz)\n",
    "for t in trange(T):\n",
    "    if cobot.state is None:\n",
    "        rospy.loginfo(f\"reached goal pose at step {t + 1} / {T}\")\n",
    "        break\n",
    "    elif cobot.state == \"error\":\n",
    "        rospy.logerror(f\"robot in ERROR state\")\n",
    "    cobot.update()"
   ]
  }
 ],
 "metadata": {
  "kernelspec": {
   "display_name": "Python 3 (ipykernel)",
   "language": "python",
   "name": "python3"
  },
  "language_info": {
   "codemirror_mode": {
    "name": "ipython",
    "version": 3
   },
   "file_extension": ".py",
   "mimetype": "text/x-python",
   "name": "python",
   "nbconvert_exporter": "python",
   "pygments_lexer": "ipython3",
   "version": "3.8.12"
  }
 },
 "nbformat": 4,
 "nbformat_minor": 5
}
