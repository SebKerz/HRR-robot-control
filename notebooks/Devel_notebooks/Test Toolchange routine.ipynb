{
 "cells": [
  {
   "cell_type": "code",
   "execution_count": 1,
   "id": "sunrise-evans",
   "metadata": {},
   "outputs": [],
   "source": [
    "import numpy as np\n",
    "import sys\n",
    "import hrr_common.utils as cu\n",
    "import hrr_common as hrr_cm\n",
    "import hrr_cobot_robot as hrr_rob\n",
    "import spatialmath as sm\n",
    "import rospy\n",
    "# set printing and plotting options    \n",
    "import seaborn as sns\n",
    "np.set_printoptions(precision=5, suppress=True)\n",
    "sns.set_theme('notebook')\n",
    "%matplotlib notebook"
   ]
  },
  {
   "cell_type": "code",
<<<<<<< HEAD
   "execution_count": null,
=======
   "execution_count": 2,
>>>>>>> main
   "id": "abstract-ecology",
   "metadata": {},
   "outputs": [],
   "source": [
    "rospy.init_node(\"NotebookNode\")"
   ]
  },
  {
   "cell_type": "code",
<<<<<<< HEAD
   "execution_count": null,
   "id": "generic-skating",
   "metadata": {},
   "outputs": [],
=======
   "execution_count": 3,
   "id": "generic-skating",
   "metadata": {},
   "outputs": [
    {
     "name": "stdout",
     "output_type": "stream",
     "text": [
      "env: ROS_MASTER_URI=http://localhost:11311\n",
      "\t\u001b[1m\u001b[4m!!!please check that the IPs below is identical!!!\u001b[0m\n",
      "\thost hrrN3511rt2004 has IP 172.22.162.200, which should be identical to\n",
      "vs:\tenv: ROS_IP=172.22.162.200\n"
     ]
    }
   ],
>>>>>>> main
   "source": [
    "%config Completer.use_jedi = False\n",
    "def get_hostname_and_IP():\n",
    "    import socket\n",
    "    with socket.socket(socket.AF_INET, socket.SOCK_DGRAM) as s:\n",
    "        s.connect((\"8.8.8.8\", 80))\n",
    "        return socket.gethostname(), s.getsockname()[0]\n",
    "\n",
    "_host, _ip = get_hostname_and_IP()\n",
    "%env ROS_MASTER_URI=http://localhost:11311\n",
    "print(f\"\\t\\033[1m\\033[4m!!!please check that the IPs below is identical!!!\\033[0m\"+\n",
    "      f\"\\n\\thost {_host} has IP {_ip}, which should be identical to\",end=\"\\nvs:\\t\")\n",
    "%env ROS_IP=$_ip"
   ]
  },
  {
   "cell_type": "code",
<<<<<<< HEAD
   "execution_count": null,
   "id": "expected-business",
   "metadata": {},
   "outputs": [],
=======
   "execution_count": 4,
   "id": "expected-business",
   "metadata": {},
   "outputs": [
    {
     "name": "stdout",
     "output_type": "stream",
     "text": [
      "Hrr-Cobot state:\n",
      "FT-data:\n",
      "current force:\t[11.20605  3.92358 -2.03027] [N]\n",
      "current torque:\t[-0.16144 -0.38452  1.83252] [Nm]\n",
      "current wrench:\t[11.21215  3.91841 -2.03191 -0.15057 -0.38935  1.82758] [N,Nm]\n",
      "=>in contact:\tTrue\n",
      "---\n",
      "Robot-data:\n",
      "q:\t\t[-143.46995   33.88234 -129.67288  129.59138   60.98078   87.4551 ][°]\n",
      "q_dot:\t\t[0. 0. 0. 0. 0. 0.][rad/s]\n",
      "tau:\t\t[0. 0. 0. 0. 0. 0.][Nm]\n",
      "pos:\t\t[-0.34335  0.32143  0.29157][m]\n",
      "quat:\t\t-0.12325 <[0.05228 0.80685 0.57538]>\n",
      "tool-pos:\t[-0.34335  0.32143  0.29157][m]\n",
      "tool-rpy:\t[-166.79614   -7.97442 -108.08909][°]\n",
      "robot-status:\tready\n",
      "---\n"
     ]
    }
   ],
>>>>>>> main
   "source": [
    "cobot = hrr_rob.HrrCobotControl.from_ros(prefix=\"/hrr_cobot/\")\n",
    "print(cobot)"
   ]
  },
  {
   "cell_type": "markdown",
   "id": "great-liechtenstein",
   "metadata": {},
   "source": [
    "## Tool change routine: picking a new tool with empty hand"
   ]
  },
  {
<<<<<<< HEAD
   "cell_type": "code",
   "execution_count": 4,
   "id": "sound-filing",
   "metadata": {},
   "outputs": [
    {
     "data": {
      "text/plain": [
       "array([[ 0.99996,  0.00253, -0.00844,  0.00997],\n",
       "       [ 0.00254, -1.     ,  0.00098,  0.52226],\n",
       "       [-0.00844, -0.001  , -0.99996,  0.35261],\n",
       "       [ 0.     ,  0.     ,  0.     ,  1.     ]])"
      ]
     },
     "execution_count": 4,
     "metadata": {},
     "output_type": "execute_result"
    }
   ],
   "source": [
    "poses = np.load(\"rack_positions/gripper_at_pos1_poses.npy\",allow_pickle=True).item()\n",
    "poses[\"pickup\"][\"A\"]"
=======
   "cell_type": "markdown",
   "id": "d2369313",
   "metadata": {},
   "source": [
    "poses = np.load(\"rack_positions/gripper_at_pos1_poses.npy\",allow_pickle=True).item()"
>>>>>>> main
   ]
  },
  {
   "cell_type": "code",
<<<<<<< HEAD
   "execution_count": null,
   "id": "young-worst",
   "metadata": {},
   "outputs": [],
   "source": [
    "#Switch Case for type of tool to be picked up --> load correct poses\n",
    "#For example in case of WSG50:\n",
    "poses = np.load(\"rack_positions/gripper_at_pos1_poses.npy\",allow_pickle=True).item()\n",
    "starting_pose_123 = cobot.q\n",
=======
   "execution_count": 5,
   "id": "b91bb417",
   "metadata": {},
   "outputs": [],
   "source": [
    "starting_pose_123 = cobot.q_calib\n",
    "starting_pose_123[0] = -np.pi/2\n",
    "starting_pose = cobot.FK(starting_pose_123)"
   ]
  },
  {
   "cell_type": "markdown",
   "id": "20d6b2f5",
   "metadata": {},
   "source": [
    "#Switch Case for type of tool to be picked up --> load correct poses\n",
    "#For example in case of WSG50:\n",
    "poses = np.load(\"rack_positions/gripper_at_pos1_poses.npy\",allow_pickle=True).item()\n",
    "starting_pose_123 = cobot.q_calib\n",
>>>>>>> main
    "starting_pose_123[0] = -np.pi/2\n",
    "starting_pose = cobot.FK(starting_pose_123)"
   ]
  },
  {
   "cell_type": "markdown",
<<<<<<< HEAD
   "id": "toxic-virgin",
=======
   "id": "1eb7b681",
>>>>>>> main
   "metadata": {},
   "source": [
    "#Vacuum:\n",
    "poses = np.load(\"rack_positions/vacuum_at_pos2_poses.npy\",allow_pickle=True).item()\n",
<<<<<<< HEAD
    "starting_pose_123 = cobot.q\n",
=======
>>>>>>> main
    "starting_pose_123[0] = -np.pi/2\n",
    "starting_pose = cobot.FK(starting_pose_123)"
   ]
  },
  {
<<<<<<< HEAD
   "cell_type": "markdown",
   "id": "robust-typing",
   "metadata": {},
   "source": [
    "#Shaftgrinder:\n",
    "poses = np.load(\"rack_positions/shaftgrinder_at_pos3_poses.npy\",allow_pickle=True).item()\n",
    "starting_pose_123 = cobot.q\n",
    "starting_pose_123[0] = -np.pi/2\n",
    "starting_pose = cobot.FK(starting_pose_123)"
=======
   "cell_type": "code",
   "execution_count": 6,
   "id": "43098fc4",
   "metadata": {},
   "outputs": [
    {
     "name": "stdout",
     "output_type": "stream",
     "text": [
      "{'pickup': {'q': array([-2.34892,  0.89146, -1.97623,  2.3421 ,  1.37664,  1.72696]), 'A': array([[-0.99924,  0.039  ,  0.00223, -0.34405],\n",
      "       [ 0.00225,  0.00065,  1.     ,  0.42927],\n",
      "       [ 0.039  ,  0.99924, -0.00074,  0.23937],\n",
      "       [ 0.     ,  0.     ,  0.     ,  1.     ]])}, 'infront': {'q': array([-2.74039,  0.06418, -2.3254 ,  1.8689 ,  1.30171,  2.2432 ]), 'A': array([[-0.99923,  0.0391 ,  0.00233, -0.34401],\n",
      "       [ 0.00235,  0.00065,  1.     ,  0.22601],\n",
      "       [ 0.0391 ,  0.99924, -0.00075,  0.48647],\n",
      "       [ 0.     ,  0.     ,  0.     ,  1.     ]])}, 'inbetween0': {'q': array([-2.35024,  0.85225, -1.99118,  2.33711,  1.36006,  1.74495]), 'A': array([[-0.99923,  0.0391 ,  0.00233, -0.34401],\n",
      "       [ 0.00235,  0.00065,  1.     ,  0.42832],\n",
      "       [ 0.0391 ,  0.99924, -0.00074,  0.25428],\n",
      "       [ 0.     ,  0.     ,  0.     ,  1.     ]])}, 'inbetween1': {'q': array([-2.74039,  0.74629, -2.33626,  1.96901,  1.54713,  1.58611]), 'A': array([[-0.99923,  0.0391 ,  0.00233, -0.34401],\n",
      "       [ 0.00235,  0.00065,  1.     ,  0.22601],\n",
      "       [ 0.03909,  0.99924, -0.00075,  0.25428],\n",
      "       [ 0.     ,  0.     ,  0.     ,  1.     ]])}, 'pre_pose_pickup': {'q': array([-2.48418,  0.83718, -2.14666,  2.21978,  1.47422,  1.65717]), 'A': array([[-0.99923,  0.03911,  0.00231, -0.34402],\n",
      "       [ 0.00234,  0.00064,  1.     ,  0.34571],\n",
      "       [ 0.03911,  0.99923, -0.00073,  0.23938],\n",
      "       [ 0.     ,  0.     ,  0.     ,  1.     ]])}}\n"
     ]
    }
   ],
   "source": [
    "#Shaftgrinder:\n",
    "poses = np.load(\"rack_positions/shaftgrinder_at_pos3_poses.npy\",allow_pickle=True).item()\n",
    "starting_pose_123 = cobot.q_calib\n",
    "starting_pose_123[0] = -np.pi/2\n",
    "starting_pose = cobot.FK(starting_pose_123)\n",
    "print(poses)"
>>>>>>> main
   ]
  },
  {
   "cell_type": "markdown",
   "id": "mighty-kenya",
   "metadata": {},
   "source": [
    "#Screwyboy:\n",
    "poses = np.load(\"rack_positions/screwdriver_at_pos6_poses.npy\",allow_pickle=True).item()\n",
<<<<<<< HEAD
    "starting_pose_456 = cobot.q\n",
=======
    "starting_pose_456 = cobot.q_calib\n",
>>>>>>> main
    "starting_pose_456[0] = np.pi/2 #+ not -!\n",
    "starting_pose = cobot.FK(starting_pose_456)"
   ]
  },
  {
   "cell_type": "code",
   "execution_count": null,
   "id": "sufficient-mercy",
   "metadata": {},
   "outputs": [],
   "source": [
    "#Check if tool changer open, otherwise give back error and stop. If open, continue:"
   ]
  },
  {
   "cell_type": "code",
<<<<<<< HEAD
   "execution_count": null,
   "id": "atmospheric-wyoming",
   "metadata": {},
   "outputs": [],
   "source": [
    "#Go to the starting pose\n",
    "cobot.goTo(starting_pose)"
=======
   "execution_count": 45,
   "id": "atmospheric-wyoming",
   "metadata": {},
   "outputs": [
    {
     "name": "stdout",
     "output_type": "stream",
     "text": [
      "[INFO]reached desired goal-pose:\n",
      "  \u001b[38;5;1m 0       \u001b[0m \u001b[38;5;1m-1       \u001b[0m \u001b[38;5;1m 0       \u001b[0m \u001b[38;5;4m 0       \u001b[0m  \u001b[0m\n",
      "  \u001b[38;5;1m-1       \u001b[0m \u001b[38;5;1m 0       \u001b[0m \u001b[38;5;1m 0       \u001b[0m \u001b[38;5;4m 0.4359  \u001b[0m  \u001b[0m\n",
      "  \u001b[38;5;1m 0       \u001b[0m \u001b[38;5;1m 0       \u001b[0m \u001b[38;5;1m-1       \u001b[0m \u001b[38;5;4m 0.705   \u001b[0m  \u001b[0m\n",
      "  \u001b[38;5;244m 0       \u001b[0m \u001b[38;5;244m 0       \u001b[0m \u001b[38;5;244m 0       \u001b[0m \u001b[38;5;244m 1       \u001b[0m  \u001b[0m\n",
      "\n"
     ]
    }
   ],
   "source": [
    "#Go to the starting pose\n",
    "cobot.goTo(starting_pose,v_max=0.04)"
>>>>>>> main
   ]
  },
  {
   "cell_type": "code",
<<<<<<< HEAD
   "execution_count": null,
=======
   "execution_count": 7,
>>>>>>> main
   "id": "special-volume",
   "metadata": {},
   "outputs": [],
   "source": [
    "#If there is a pre_pose_pickup, go there; else go to infront\n",
    "if \"pre_pose_pickup\" in poses.keys():\n",
<<<<<<< HEAD
    "    cobot.goTo(sm.SE3(poses[\"pre_pose_pickup\"][\"A\"]))\n",
    "else:\n",
    "    cobot.goTo(sm.SE3(poses[\"infront\"][\"A\"]))"
=======
    "    cobot.move_to_joint_pose(poses[\"pre_pose_pickup\"][\"q\"])\n",
    "else:\n",
    "    cobot.goTo(sm.SE3(poses[\"infront\"][\"A\"]),v_max = 0.02) #Use different infront for approach than back for vacuum (above tool)"
>>>>>>> main
   ]
  },
  {
   "cell_type": "code",
<<<<<<< HEAD
   "execution_count": null,
   "id": "adopted-belfast",
   "metadata": {},
   "outputs": [],
   "source": [
    "#Go to pickup (with slow speed!)\n",
    "cobot.goTo(sm.SE3(poses[\"pickup\"][\"A\"]))"
=======
   "execution_count": 34,
   "id": "adopted-belfast",
   "metadata": {},
   "outputs": [
    {
     "name": "stdout",
     "output_type": "stream",
     "text": [
      "[INFO]reached desired goal-pose:\n",
      "  \u001b[38;5;1m-0.9992  \u001b[0m \u001b[38;5;1m 0.039   \u001b[0m \u001b[38;5;1m 0.002226\u001b[0m \u001b[38;5;4m-0.344   \u001b[0m  \u001b[0m\n",
      "  \u001b[38;5;1m 0.002253\u001b[0m \u001b[38;5;1m 0.0006546\u001b[0m \u001b[38;5;1m 1       \u001b[0m \u001b[38;5;4m 0.4293  \u001b[0m  \u001b[0m\n",
      "  \u001b[38;5;1m 0.039   \u001b[0m \u001b[38;5;1m 0.9992  \u001b[0m \u001b[38;5;1m-0.000742\u001b[0m \u001b[38;5;4m 0.2394  \u001b[0m  \u001b[0m\n",
      "  \u001b[38;5;244m 0       \u001b[0m \u001b[38;5;244m 0       \u001b[0m \u001b[38;5;244m 0       \u001b[0m \u001b[38;5;244m 1       \u001b[0m  \u001b[0m\n",
      "\n"
     ]
    }
   ],
   "source": [
    "#Go to pickup (with slow speed!)\n",
    "cobot.goTo(sm.SE3(poses[\"pickup\"][\"A\"]),v_max = 0.01)"
>>>>>>> main
   ]
  },
  {
   "cell_type": "code",
<<<<<<< HEAD
   "execution_count": null,
=======
   "execution_count": 35,
>>>>>>> main
   "id": "interstate-ensemble",
   "metadata": {},
   "outputs": [],
   "source": [
    "#Close Tool changer\n",
    "cobot.close_tool_changer()"
   ]
  },
  {
   "cell_type": "code",
<<<<<<< HEAD
   "execution_count": null,
   "id": "substantial-percentage",
   "metadata": {},
   "outputs": [],
   "source": [
    "#If there is inbetween0, go there\n",
    "if \"inbetween0\" in poses.keys():\n",
    "    cobot.goTo(sm.SE3(poses[\"inbetween0\"][\"A\"]))"
=======
   "execution_count": 36,
   "id": "substantial-percentage",
   "metadata": {},
   "outputs": [
    {
     "name": "stdout",
     "output_type": "stream",
     "text": [
      "[INFO]reached desired goal-pose:\n",
      "  \u001b[38;5;1m-0.9992  \u001b[0m \u001b[38;5;1m 0.0391  \u001b[0m \u001b[38;5;1m 0.002327\u001b[0m \u001b[38;5;4m-0.344   \u001b[0m  \u001b[0m\n",
      "  \u001b[38;5;1m 0.002354\u001b[0m \u001b[38;5;1m 0.0006505\u001b[0m \u001b[38;5;1m 1       \u001b[0m \u001b[38;5;4m 0.4283  \u001b[0m  \u001b[0m\n",
      "  \u001b[38;5;1m 0.0391  \u001b[0m \u001b[38;5;1m 0.9992  \u001b[0m \u001b[38;5;1m-0.0007421\u001b[0m \u001b[38;5;4m 0.2543  \u001b[0m  \u001b[0m\n",
      "  \u001b[38;5;244m 0       \u001b[0m \u001b[38;5;244m 0       \u001b[0m \u001b[38;5;244m 0       \u001b[0m \u001b[38;5;244m 1       \u001b[0m  \u001b[0m\n",
      "\n"
     ]
    }
   ],
   "source": [
    "#If there is inbetween0, go there\n",
    "if \"inbetween0\" in poses.keys():\n",
    "    cobot.goTo(sm.SE3(poses[\"inbetween0\"][\"A\"]),v_max=0.005)"
>>>>>>> main
   ]
  },
  {
   "cell_type": "code",
<<<<<<< HEAD
   "execution_count": null,
   "id": "cellular-doctor",
   "metadata": {},
   "outputs": [],
   "source": [
    "#If there is inbetween1, go there\n",
    "if \"inbetween1\" in poses.keys():\n",
    "    cobot.goTo(sm.SE3(poses[\"inbetween1\"][\"A\"]))"
=======
   "execution_count": 37,
   "id": "cellular-doctor",
   "metadata": {},
   "outputs": [
    {
     "ename": "KeyboardInterrupt",
     "evalue": "",
     "output_type": "error",
     "traceback": [
      "\u001b[0;31m---------------------------------------------------------------------------\u001b[0m",
      "\u001b[0;31mKeyboardInterrupt\u001b[0m                         Traceback (most recent call last)",
      "\u001b[0;32m/tmp/ipykernel_286795/639492996.py\u001b[0m in \u001b[0;36m<module>\u001b[0;34m\u001b[0m\n\u001b[1;32m      1\u001b[0m \u001b[0;31m#If there is inbetween1, go there\u001b[0m\u001b[0;34m\u001b[0m\u001b[0;34m\u001b[0m\u001b[0;34m\u001b[0m\u001b[0m\n\u001b[1;32m      2\u001b[0m \u001b[0;32mif\u001b[0m \u001b[0;34m\"inbetween1\"\u001b[0m \u001b[0;32min\u001b[0m \u001b[0mposes\u001b[0m\u001b[0;34m.\u001b[0m\u001b[0mkeys\u001b[0m\u001b[0;34m(\u001b[0m\u001b[0;34m)\u001b[0m\u001b[0;34m:\u001b[0m\u001b[0;34m\u001b[0m\u001b[0;34m\u001b[0m\u001b[0m\n\u001b[0;32m----> 3\u001b[0;31m     \u001b[0mcobot\u001b[0m\u001b[0;34m.\u001b[0m\u001b[0mgoTo\u001b[0m\u001b[0;34m(\u001b[0m\u001b[0msm\u001b[0m\u001b[0;34m.\u001b[0m\u001b[0mSE3\u001b[0m\u001b[0;34m(\u001b[0m\u001b[0mposes\u001b[0m\u001b[0;34m[\u001b[0m\u001b[0;34m\"inbetween1\"\u001b[0m\u001b[0;34m]\u001b[0m\u001b[0;34m[\u001b[0m\u001b[0;34m\"A\"\u001b[0m\u001b[0;34m]\u001b[0m\u001b[0;34m)\u001b[0m\u001b[0;34m,\u001b[0m\u001b[0mv_max\u001b[0m\u001b[0;34m=\u001b[0m\u001b[0;36m0.005\u001b[0m\u001b[0;34m)\u001b[0m\u001b[0;34m\u001b[0m\u001b[0;34m\u001b[0m\u001b[0m\n\u001b[0m",
      "\u001b[0;32m~/_ros/hr_recycler_ws/src/hrr_cobot/hrr_cobot_robot/src/hrr_cobot_robot/hrr_cobot_control.py\u001b[0m in \u001b[0;36mgoTo\u001b[0;34m(self, T_des, *args, **kwargs)\u001b[0m\n\u001b[1;32m    410\u001b[0m             \u001b[0;32mreturn\u001b[0m\u001b[0;34m\u001b[0m\u001b[0;34m\u001b[0m\u001b[0m\n\u001b[1;32m    411\u001b[0m         \u001b[0;32mwhile\u001b[0m \u001b[0mself\u001b[0m\u001b[0;34m.\u001b[0m\u001b[0m_state\u001b[0m \u001b[0;32mis\u001b[0m \u001b[0;32mnot\u001b[0m \u001b[0;32mNone\u001b[0m\u001b[0;34m:\u001b[0m\u001b[0;34m\u001b[0m\u001b[0;34m\u001b[0m\u001b[0m\n\u001b[0;32m--> 412\u001b[0;31m             \u001b[0mself\u001b[0m\u001b[0;34m.\u001b[0m\u001b[0mupdate\u001b[0m\u001b[0;34m(\u001b[0m\u001b[0;34m)\u001b[0m\u001b[0;34m\u001b[0m\u001b[0;34m\u001b[0m\u001b[0m\n\u001b[0m\u001b[1;32m    413\u001b[0m             \u001b[0;32mif\u001b[0m \u001b[0mself\u001b[0m\u001b[0;34m.\u001b[0m\u001b[0mstate\u001b[0m \u001b[0;34m==\u001b[0m \u001b[0;34m\"FAILURE\"\u001b[0m\u001b[0;34m:\u001b[0m\u001b[0;34m\u001b[0m\u001b[0;34m\u001b[0m\u001b[0m\n\u001b[1;32m    414\u001b[0m                 rospy.logerr(\n",
      "\u001b[0;32m~/_ros/hr_recycler_ws/src/hrr_cobot/hrr_cobot_robot/src/hrr_cobot_robot/hrr_cobot_control.py\u001b[0m in \u001b[0;36mupdate\u001b[0;34m(self, sleep, u_cmd, u_cmd_frame, skip_forward, **_)\u001b[0m\n\u001b[1;32m    375\u001b[0m                 \u001b[0mself\u001b[0m\u001b[0;34m.\u001b[0m\u001b[0m_joint_ctrl_command\u001b[0m\u001b[0;34m(\u001b[0m\u001b[0;34m)\u001b[0m\u001b[0;34m\u001b[0m\u001b[0;34m\u001b[0m\u001b[0m\n\u001b[1;32m    376\u001b[0m         \u001b[0;32mif\u001b[0m \u001b[0msleep\u001b[0m\u001b[0;34m:\u001b[0m\u001b[0;34m\u001b[0m\u001b[0;34m\u001b[0m\u001b[0m\n\u001b[0;32m--> 377\u001b[0;31m             \u001b[0mself\u001b[0m\u001b[0;34m.\u001b[0m\u001b[0msleep\u001b[0m\u001b[0;34m(\u001b[0m\u001b[0;34m)\u001b[0m\u001b[0;34m\u001b[0m\u001b[0;34m\u001b[0m\u001b[0m\n\u001b[0m\u001b[1;32m    378\u001b[0m \u001b[0;34m\u001b[0m\u001b[0m\n\u001b[1;32m    379\u001b[0m     \u001b[0;32mdef\u001b[0m \u001b[0mstop\u001b[0m\u001b[0;34m(\u001b[0m\u001b[0mself\u001b[0m\u001b[0;34m)\u001b[0m\u001b[0;34m:\u001b[0m\u001b[0;34m\u001b[0m\u001b[0;34m\u001b[0m\u001b[0m\n",
      "\u001b[0;32m~/_ros/hr_recycler_ws/src/hrr_cobot/hrr_cobot_robot/src/hrr_cobot_robot/hrr_cobot_control.py\u001b[0m in \u001b[0;36msleep\u001b[0;34m(self)\u001b[0m\n\u001b[1;32m    400\u001b[0m     \u001b[0;32mdef\u001b[0m \u001b[0msleep\u001b[0m\u001b[0;34m(\u001b[0m\u001b[0mself\u001b[0m\u001b[0;34m)\u001b[0m\u001b[0;34m:\u001b[0m\u001b[0;34m\u001b[0m\u001b[0;34m\u001b[0m\u001b[0m\n\u001b[1;32m    401\u001b[0m         \u001b[0;34m\"\"\"set robot to sleep via ``rospy.Rate.sleep``\"\"\"\u001b[0m\u001b[0;34m\u001b[0m\u001b[0;34m\u001b[0m\u001b[0m\n\u001b[0;32m--> 402\u001b[0;31m         \u001b[0mself\u001b[0m\u001b[0;34m.\u001b[0m\u001b[0m_rate\u001b[0m\u001b[0;34m.\u001b[0m\u001b[0msleep\u001b[0m\u001b[0;34m(\u001b[0m\u001b[0;34m)\u001b[0m\u001b[0;34m\u001b[0m\u001b[0;34m\u001b[0m\u001b[0m\n\u001b[0m\u001b[1;32m    403\u001b[0m \u001b[0;34m\u001b[0m\u001b[0m\n\u001b[1;32m    404\u001b[0m     \u001b[0;32mdef\u001b[0m \u001b[0mgoTo\u001b[0m\u001b[0;34m(\u001b[0m\u001b[0mself\u001b[0m\u001b[0;34m,\u001b[0m \u001b[0mT_des\u001b[0m\u001b[0;34m,\u001b[0m \u001b[0;34m*\u001b[0m\u001b[0margs\u001b[0m\u001b[0;34m,\u001b[0m \u001b[0;34m**\u001b[0m\u001b[0mkwargs\u001b[0m\u001b[0;34m)\u001b[0m\u001b[0;34m:\u001b[0m\u001b[0;34m\u001b[0m\u001b[0;34m\u001b[0m\u001b[0m\n",
      "\u001b[0;32m/opt/ros/noetic/lib/python3/dist-packages/rospy/timer.py\u001b[0m in \u001b[0;36msleep\u001b[0;34m(self)\u001b[0m\n\u001b[1;32m    101\u001b[0m         \u001b[0mcurr_time\u001b[0m \u001b[0;34m=\u001b[0m \u001b[0mrospy\u001b[0m\u001b[0;34m.\u001b[0m\u001b[0mrostime\u001b[0m\u001b[0;34m.\u001b[0m\u001b[0mget_rostime\u001b[0m\u001b[0;34m(\u001b[0m\u001b[0;34m)\u001b[0m\u001b[0;34m\u001b[0m\u001b[0;34m\u001b[0m\u001b[0m\n\u001b[1;32m    102\u001b[0m         \u001b[0;32mtry\u001b[0m\u001b[0;34m:\u001b[0m\u001b[0;34m\u001b[0m\u001b[0;34m\u001b[0m\u001b[0m\n\u001b[0;32m--> 103\u001b[0;31m             \u001b[0msleep\u001b[0m\u001b[0;34m(\u001b[0m\u001b[0mself\u001b[0m\u001b[0;34m.\u001b[0m\u001b[0m_remaining\u001b[0m\u001b[0;34m(\u001b[0m\u001b[0mcurr_time\u001b[0m\u001b[0;34m)\u001b[0m\u001b[0;34m)\u001b[0m\u001b[0;34m\u001b[0m\u001b[0;34m\u001b[0m\u001b[0m\n\u001b[0m\u001b[1;32m    104\u001b[0m         \u001b[0;32mexcept\u001b[0m \u001b[0mrospy\u001b[0m\u001b[0;34m.\u001b[0m\u001b[0mexceptions\u001b[0m\u001b[0;34m.\u001b[0m\u001b[0mROSTimeMovedBackwardsException\u001b[0m\u001b[0;34m:\u001b[0m\u001b[0;34m\u001b[0m\u001b[0;34m\u001b[0m\u001b[0m\n\u001b[1;32m    105\u001b[0m             \u001b[0;32mif\u001b[0m \u001b[0;32mnot\u001b[0m \u001b[0mself\u001b[0m\u001b[0;34m.\u001b[0m\u001b[0m_reset\u001b[0m\u001b[0;34m:\u001b[0m\u001b[0;34m\u001b[0m\u001b[0;34m\u001b[0m\u001b[0m\n",
      "\u001b[0;32m/opt/ros/noetic/lib/python3/dist-packages/rospy/timer.py\u001b[0m in \u001b[0;36msleep\u001b[0;34m(duration)\u001b[0m\n\u001b[1;32m    132\u001b[0m             \u001b[0;32mreturn\u001b[0m\u001b[0;34m\u001b[0m\u001b[0;34m\u001b[0m\u001b[0m\n\u001b[1;32m    133\u001b[0m         \u001b[0;32melse\u001b[0m\u001b[0;34m:\u001b[0m\u001b[0;34m\u001b[0m\u001b[0;34m\u001b[0m\u001b[0m\n\u001b[0;32m--> 134\u001b[0;31m             \u001b[0mrospy\u001b[0m\u001b[0;34m.\u001b[0m\u001b[0mrostime\u001b[0m\u001b[0;34m.\u001b[0m\u001b[0mwallsleep\u001b[0m\u001b[0;34m(\u001b[0m\u001b[0mduration\u001b[0m\u001b[0;34m)\u001b[0m\u001b[0;34m\u001b[0m\u001b[0;34m\u001b[0m\u001b[0m\n\u001b[0m\u001b[1;32m    135\u001b[0m     \u001b[0;32melse\u001b[0m\u001b[0;34m:\u001b[0m\u001b[0;34m\u001b[0m\u001b[0;34m\u001b[0m\u001b[0m\n\u001b[1;32m    136\u001b[0m         \u001b[0minitial_rostime\u001b[0m \u001b[0;34m=\u001b[0m \u001b[0mrospy\u001b[0m\u001b[0;34m.\u001b[0m\u001b[0mrostime\u001b[0m\u001b[0;34m.\u001b[0m\u001b[0mget_rostime\u001b[0m\u001b[0;34m(\u001b[0m\u001b[0;34m)\u001b[0m\u001b[0;34m\u001b[0m\u001b[0;34m\u001b[0m\u001b[0m\n",
      "\u001b[0;32m/opt/ros/noetic/lib/python3/dist-packages/rospy/rostime.py\u001b[0m in \u001b[0;36mwallsleep\u001b[0;34m(duration)\u001b[0m\n\u001b[1;32m    275\u001b[0m             \u001b[0;32mpass\u001b[0m\u001b[0;34m\u001b[0m\u001b[0;34m\u001b[0m\u001b[0m\n\u001b[1;32m    276\u001b[0m     \u001b[0;32melse\u001b[0m\u001b[0;34m:\u001b[0m\u001b[0;34m\u001b[0m\u001b[0;34m\u001b[0m\u001b[0m\n\u001b[0;32m--> 277\u001b[0;31m         \u001b[0mtime\u001b[0m\u001b[0;34m.\u001b[0m\u001b[0msleep\u001b[0m\u001b[0;34m(\u001b[0m\u001b[0mduration\u001b[0m\u001b[0;34m)\u001b[0m\u001b[0;34m\u001b[0m\u001b[0;34m\u001b[0m\u001b[0m\n\u001b[0m",
      "\u001b[0;31mKeyboardInterrupt\u001b[0m: "
     ]
    }
   ],
   "source": [
    "#If there is inbetween1, go there\n",
    "if \"inbetween1\" in poses.keys():\n",
    "    cobot.goTo(sm.SE3(poses[\"inbetween1\"][\"A\"]),v_max=0.005)"
   ]
  },
  {
   "cell_type": "markdown",
   "id": "4d83e66c",
   "metadata": {},
   "source": [
    "upwards = sm.SE3(np.array([0,0,0.1]))@cobot.T_B_E_robot\n",
    "cobot.goTo(upwards,v_max=0.03)"
>>>>>>> main
   ]
  },
  {
   "cell_type": "code",
<<<<<<< HEAD
   "execution_count": null,
   "id": "surprising-money",
   "metadata": {},
   "outputs": [],
   "source": [
    "#Go to infront\n",
    "cobot.goTo(sm.SE3(poses[\"infront\"][\"A\"]))"
=======
   "execution_count": 26,
   "id": "surprising-money",
   "metadata": {},
   "outputs": [
    {
     "name": "stdout",
     "output_type": "stream",
     "text": [
      "[INFO]reached desired goal-pose:\n",
      "  \u001b[38;5;1m-0.9992  \u001b[0m \u001b[38;5;1m 0.0391  \u001b[0m \u001b[38;5;1m 0.002327\u001b[0m \u001b[38;5;4m-0.344   \u001b[0m  \u001b[0m\n",
      "  \u001b[38;5;1m 0.002354\u001b[0m \u001b[38;5;1m 0.0006541\u001b[0m \u001b[38;5;1m 1       \u001b[0m \u001b[38;5;4m 0.226   \u001b[0m  \u001b[0m\n",
      "  \u001b[38;5;1m 0.0391  \u001b[0m \u001b[38;5;1m 0.9992  \u001b[0m \u001b[38;5;1m-0.0007457\u001b[0m \u001b[38;5;4m 0.4865  \u001b[0m  \u001b[0m\n",
      "  \u001b[38;5;244m 0       \u001b[0m \u001b[38;5;244m 0       \u001b[0m \u001b[38;5;244m 0       \u001b[0m \u001b[38;5;244m 1       \u001b[0m  \u001b[0m\n",
      "\n"
     ]
    }
   ],
   "source": [
    "#Go to infront|\n",
    "cobot.goTo(sm.SE3(poses[\"infront\"][\"A\"]),v_max=0.02) #should always be 15cm up from inbetween1"
>>>>>>> main
   ]
  },
  {
   "cell_type": "code",
<<<<<<< HEAD
   "execution_count": null,
   "id": "aging-oasis",
   "metadata": {},
   "outputs": [],
=======
   "execution_count": 36,
   "id": "aging-oasis",
   "metadata": {},
   "outputs": [
    {
     "name": "stdout",
     "output_type": "stream",
     "text": [
      "[INFO]reached desired goal-pose:\n",
      "  \u001b[38;5;1m 0.001303\u001b[0m \u001b[38;5;1m-1       \u001b[0m \u001b[38;5;1m-0.0009272\u001b[0m \u001b[38;5;4m-7.417e-05\u001b[0m  \u001b[0m\n",
      "  \u001b[38;5;1m-1       \u001b[0m \u001b[38;5;1m-0.001305\u001b[0m \u001b[38;5;1m 0.001943\u001b[0m \u001b[38;5;4m 0.4355  \u001b[0m  \u001b[0m\n",
      "  \u001b[38;5;1m-0.001944\u001b[0m \u001b[38;5;1m 0.0009247\u001b[0m \u001b[38;5;1m-1       \u001b[0m \u001b[38;5;4m 0.7045  \u001b[0m  \u001b[0m\n",
      "  \u001b[38;5;244m 0       \u001b[0m \u001b[38;5;244m 0       \u001b[0m \u001b[38;5;244m 0       \u001b[0m \u001b[38;5;244m 1       \u001b[0m  \u001b[0m\n",
      "\n"
     ]
    }
   ],
>>>>>>> main
   "source": [
    "#Go to starting pose\n",
    "cobot.goTo(starting_pose)"
   ]
  },
  {
   "cell_type": "markdown",
   "id": "extensive-following",
   "metadata": {},
   "source": [
    "## Tool change routine: place a tool into the rack"
   ]
  },
  {
   "cell_type": "code",
<<<<<<< HEAD
   "execution_count": null,
   "id": "occasional-amount",
   "metadata": {},
   "outputs": [],
   "source": [
    "#Switch Case for type of tool to be picked up --> load correct poses\n",
    "#For example in case of WSG50:\n",
    "poses = np.load(\"rack_positions/gripper_at_pos1_poses.npy\",allow_pickle=True).item()\n",
    "starting_pose_123 = cobot.q\n",
    "starting_pose_123[0] = -np.pi/2\n",
    "starting_pose = cobot.FK(starting_pose_123)"
   ]
  },
  {
   "cell_type": "code",
   "execution_count": null,
=======
   "execution_count": 38,
>>>>>>> main
   "id": "expanded-fellow",
   "metadata": {},
   "outputs": [],
   "source": [
    "#Check if tool changer closed, otherwise give back error and stop. If open, continue:"
   ]
  },
  {
   "cell_type": "code",
<<<<<<< HEAD
   "execution_count": null,
   "id": "essential-factor",
   "metadata": {},
   "outputs": [],
=======
   "execution_count": 39,
   "id": "essential-factor",
   "metadata": {},
   "outputs": [
    {
     "name": "stdout",
     "output_type": "stream",
     "text": [
      "[INFO]reached desired goal-pose:\n",
      "  \u001b[38;5;1m 0.003505\u001b[0m \u001b[38;5;1m-1       \u001b[0m \u001b[38;5;1m-0.001878\u001b[0m \u001b[38;5;4m-0.0001503\u001b[0m  \u001b[0m\n",
      "  \u001b[38;5;1m-1       \u001b[0m \u001b[38;5;1m-0.003508\u001b[0m \u001b[38;5;1m 0.001533\u001b[0m \u001b[38;5;4m 0.4359  \u001b[0m  \u001b[0m\n",
      "  \u001b[38;5;1m-0.001539\u001b[0m \u001b[38;5;1m 0.001873\u001b[0m \u001b[38;5;1m-1       \u001b[0m \u001b[38;5;4m 0.704   \u001b[0m  \u001b[0m\n",
      "  \u001b[38;5;244m 0       \u001b[0m \u001b[38;5;244m 0       \u001b[0m \u001b[38;5;244m 0       \u001b[0m \u001b[38;5;244m 1       \u001b[0m  \u001b[0m\n",
      "\n"
     ]
    }
   ],
>>>>>>> main
   "source": [
    "#Go to starting pose\n",
    "cobot.goTo(starting_pose)"
   ]
  },
  {
   "cell_type": "code",
<<<<<<< HEAD
   "execution_count": null,
   "id": "piano-mortgage",
   "metadata": {},
   "outputs": [],
=======
   "execution_count": 57,
   "id": "piano-mortgage",
   "metadata": {},
   "outputs": [
    {
     "name": "stdout",
     "output_type": "stream",
     "text": [
      "[INFO]reached desired goal-pose:\n",
      "  \u001b[38;5;1m 1       \u001b[0m \u001b[38;5;1m-0.005529\u001b[0m \u001b[38;5;1m-0.005154\u001b[0m \u001b[38;5;4m-0.1645  \u001b[0m  \u001b[0m\n",
      "  \u001b[38;5;1m-0.005618\u001b[0m \u001b[38;5;1m-0.9998  \u001b[0m \u001b[38;5;1m-0.01752 \u001b[0m \u001b[38;5;4m 0.4049  \u001b[0m  \u001b[0m\n",
      "  \u001b[38;5;1m-0.005056\u001b[0m \u001b[38;5;1m 0.01755 \u001b[0m \u001b[38;5;1m-0.9998  \u001b[0m \u001b[38;5;4m 0.5017  \u001b[0m  \u001b[0m\n",
      "  \u001b[38;5;244m 0       \u001b[0m \u001b[38;5;244m 0       \u001b[0m \u001b[38;5;244m 0       \u001b[0m \u001b[38;5;244m 1       \u001b[0m  \u001b[0m\n",
      "\n"
     ]
    }
   ],
>>>>>>> main
   "source": [
    "#Go to infront\n",
    "cobot.goTo(sm.SE3(poses[\"infront\"][\"A\"]))"
   ]
  },
  {
   "cell_type": "code",
<<<<<<< HEAD
   "execution_count": null,
   "id": "native-evaluation",
   "metadata": {},
   "outputs": [],
=======
   "execution_count": 27,
   "id": "native-evaluation",
   "metadata": {},
   "outputs": [
    {
     "name": "stdout",
     "output_type": "stream",
     "text": [
      "[INFO]reached desired goal-pose:\n",
      "  \u001b[38;5;1m-0.9992  \u001b[0m \u001b[38;5;1m 0.0391  \u001b[0m \u001b[38;5;1m 0.002328\u001b[0m \u001b[38;5;4m-0.344   \u001b[0m  \u001b[0m\n",
      "  \u001b[38;5;1m 0.002355\u001b[0m \u001b[38;5;1m 0.0006542\u001b[0m \u001b[38;5;1m 1       \u001b[0m \u001b[38;5;4m 0.226   \u001b[0m  \u001b[0m\n",
      "  \u001b[38;5;1m 0.03909 \u001b[0m \u001b[38;5;1m 0.9992  \u001b[0m \u001b[38;5;1m-0.0007458\u001b[0m \u001b[38;5;4m 0.2543  \u001b[0m  \u001b[0m\n",
      "  \u001b[38;5;244m 0       \u001b[0m \u001b[38;5;244m 0       \u001b[0m \u001b[38;5;244m 0       \u001b[0m \u001b[38;5;244m 1       \u001b[0m  \u001b[0m\n",
      "\n"
     ]
    }
   ],
>>>>>>> main
   "source": [
    "#If there is inbetween1, go there\n",
    "if \"inbetween1\" in poses.keys():\n",
    "    cobot.goTo(sm.SE3(poses[\"inbetween1\"][\"A\"]))"
   ]
  },
  {
   "cell_type": "code",
<<<<<<< HEAD
   "execution_count": null,
   "id": "according-easter",
   "metadata": {},
   "outputs": [],
=======
   "execution_count": 38,
   "id": "according-easter",
   "metadata": {},
   "outputs": [
    {
     "name": "stdout",
     "output_type": "stream",
     "text": [
      "[INFO]reached desired goal-pose:\n",
      "  \u001b[38;5;1m-0.9992  \u001b[0m \u001b[38;5;1m 0.0391  \u001b[0m \u001b[38;5;1m 0.002327\u001b[0m \u001b[38;5;4m-0.344   \u001b[0m  \u001b[0m\n",
      "  \u001b[38;5;1m 0.002354\u001b[0m \u001b[38;5;1m 0.0006505\u001b[0m \u001b[38;5;1m 1       \u001b[0m \u001b[38;5;4m 0.4283  \u001b[0m  \u001b[0m\n",
      "  \u001b[38;5;1m 0.0391  \u001b[0m \u001b[38;5;1m 0.9992  \u001b[0m \u001b[38;5;1m-0.0007421\u001b[0m \u001b[38;5;4m 0.2543  \u001b[0m  \u001b[0m\n",
      "  \u001b[38;5;244m 0       \u001b[0m \u001b[38;5;244m 0       \u001b[0m \u001b[38;5;244m 0       \u001b[0m \u001b[38;5;244m 1       \u001b[0m  \u001b[0m\n",
      "\n"
     ]
    }
   ],
>>>>>>> main
   "source": [
    "#If there is inbetween0, go there\n",
    "if \"inbetween0\" in poses.keys():\n",
    "    cobot.goTo(sm.SE3(poses[\"inbetween0\"][\"A\"]))"
   ]
  },
  {
   "cell_type": "code",
<<<<<<< HEAD
   "execution_count": null,
   "id": "progressive-assist",
   "metadata": {},
   "outputs": [],
=======
   "execution_count": 39,
   "id": "progressive-assist",
   "metadata": {},
   "outputs": [
    {
     "name": "stdout",
     "output_type": "stream",
     "text": [
      "[INFO]reached desired goal-pose:\n",
      "  \u001b[38;5;1m-0.9992  \u001b[0m \u001b[38;5;1m 0.039   \u001b[0m \u001b[38;5;1m 0.002226\u001b[0m \u001b[38;5;4m-0.344   \u001b[0m  \u001b[0m\n",
      "  \u001b[38;5;1m 0.002253\u001b[0m \u001b[38;5;1m 0.0006546\u001b[0m \u001b[38;5;1m 1       \u001b[0m \u001b[38;5;4m 0.4293  \u001b[0m  \u001b[0m\n",
      "  \u001b[38;5;1m 0.039   \u001b[0m \u001b[38;5;1m 0.9992  \u001b[0m \u001b[38;5;1m-0.000742\u001b[0m \u001b[38;5;4m 0.2394  \u001b[0m  \u001b[0m\n",
      "  \u001b[38;5;244m 0       \u001b[0m \u001b[38;5;244m 0       \u001b[0m \u001b[38;5;244m 0       \u001b[0m \u001b[38;5;244m 1       \u001b[0m  \u001b[0m\n",
      "\n"
     ]
    }
   ],
>>>>>>> main
   "source": [
    "#Go to pickup (with slow speed!)\n",
    "cobot.goTo(sm.SE3(poses[\"pickup\"][\"A\"]))"
   ]
  },
  {
   "cell_type": "code",
<<<<<<< HEAD
   "execution_count": null,
=======
   "execution_count": 40,
>>>>>>> main
   "id": "veterinary-incidence",
   "metadata": {},
   "outputs": [],
   "source": [
    "#Open Tool changer\n",
    "cobot.open_tool_changer()"
   ]
  },
  {
   "cell_type": "code",
<<<<<<< HEAD
   "execution_count": null,
   "id": "overall-leather",
   "metadata": {},
   "outputs": [],
   "source": [
    "#If there is a pre_pose_pickup, go there; else go to infront\n",
    "if \"pre_pose_pickup\" in poses.keys():\n",
=======
   "execution_count": 41,
   "id": "overall-leather",
   "metadata": {},
   "outputs": [
    {
     "name": "stdout",
     "output_type": "stream",
     "text": [
      "[INFO]reached desired goal-pose:\n",
      "  \u001b[38;5;1m-0.9992  \u001b[0m \u001b[38;5;1m 0.03911 \u001b[0m \u001b[38;5;1m 0.002315\u001b[0m \u001b[38;5;4m-0.344   \u001b[0m  \u001b[0m\n",
      "  \u001b[38;5;1m 0.002341\u001b[0m \u001b[38;5;1m 0.0006361\u001b[0m \u001b[38;5;1m 1       \u001b[0m \u001b[38;5;4m 0.3457  \u001b[0m  \u001b[0m\n",
      "  \u001b[38;5;1m 0.03911 \u001b[0m \u001b[38;5;1m 0.9992  \u001b[0m \u001b[38;5;1m-0.0007272\u001b[0m \u001b[38;5;4m 0.2394  \u001b[0m  \u001b[0m\n",
      "  \u001b[38;5;244m 0       \u001b[0m \u001b[38;5;244m 0       \u001b[0m \u001b[38;5;244m 0       \u001b[0m \u001b[38;5;244m 1       \u001b[0m  \u001b[0m\n",
      "\n"
     ]
    }
   ],
   "source": [
    "#If there is a pre_pose_pickup, go there; else go to infront\n",
    "if \"pre_pose_pickup\" in poses.keys():\n",
    "    #cobot.move_to_joint_pose(poses[\"pre_pose_pickup\"][\"q\"]) #do cartesian for the goodbye\n",
>>>>>>> main
    "    cobot.goTo(sm.SE3(poses[\"pre_pose_pickup\"][\"A\"]))\n",
    "else:\n",
    "    cobot.goTo(sm.SE3(poses[\"infront\"][\"A\"]))"
   ]
  },
  {
   "cell_type": "code",
<<<<<<< HEAD
   "execution_count": null,
   "id": "interior-soldier",
   "metadata": {},
   "outputs": [],
=======
   "execution_count": 46,
   "id": "interior-soldier",
   "metadata": {},
   "outputs": [
    {
     "name": "stdout",
     "output_type": "stream",
     "text": [
      "[INFO]reached desired goal-pose:\n",
      "  \u001b[38;5;1m 0.003505\u001b[0m \u001b[38;5;1m-1       \u001b[0m \u001b[38;5;1m-0.001878\u001b[0m \u001b[38;5;4m-0.0001503\u001b[0m  \u001b[0m\n",
      "  \u001b[38;5;1m-1       \u001b[0m \u001b[38;5;1m-0.003508\u001b[0m \u001b[38;5;1m 0.001533\u001b[0m \u001b[38;5;4m 0.4359  \u001b[0m  \u001b[0m\n",
      "  \u001b[38;5;1m-0.001539\u001b[0m \u001b[38;5;1m 0.001873\u001b[0m \u001b[38;5;1m-1       \u001b[0m \u001b[38;5;4m 0.704   \u001b[0m  \u001b[0m\n",
      "  \u001b[38;5;244m 0       \u001b[0m \u001b[38;5;244m 0       \u001b[0m \u001b[38;5;244m 0       \u001b[0m \u001b[38;5;244m 1       \u001b[0m  \u001b[0m\n",
      "\n"
     ]
    }
   ],
>>>>>>> main
   "source": [
    "#Go to starting pose\n",
    "cobot.goTo(starting_pose)"
   ]
<<<<<<< HEAD
=======
  },
  {
   "cell_type": "code",
   "execution_count": null,
   "id": "cfecf726",
   "metadata": {},
   "outputs": [],
   "source": []
>>>>>>> main
  }
 ],
 "metadata": {
  "kernelspec": {
   "display_name": "Python 3 (ipykernel)",
   "language": "python",
   "name": "python3"
  },
  "language_info": {
   "codemirror_mode": {
    "name": "ipython",
    "version": 3
   },
   "file_extension": ".py",
   "mimetype": "text/x-python",
   "name": "python",
   "nbconvert_exporter": "python",
   "pygments_lexer": "ipython3",
   "version": "3.8.12"
  }
 },
 "nbformat": 4,
 "nbformat_minor": 5
}
