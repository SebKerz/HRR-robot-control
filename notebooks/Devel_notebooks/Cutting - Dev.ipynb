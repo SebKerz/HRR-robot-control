{
 "cells": [
  {
   "cell_type": "markdown",
   "id": "incoming-packaging",
   "metadata": {},
   "source": [
    "# Shaft Grinder "
   ]
  },
  {
   "cell_type": "markdown",
   "id": "american-marina",
   "metadata": {},
   "source": [
    "Useful how to's:\n",
    "\n",
    "For rviz open:\n",
    "\n",
    "roscd hrr_common/\n",
    "❯ cd rviz\n",
    "❯ rviz -d hrr_cobot_hw.rviz\n",
    "\n",
    "plot forces:\n",
    "rqt_plot /hrr_cobot/ft_sensor/wrench/force/x:y:z\n",
    "\n",
    "\n",
    "### how to use tools:\n",
    "* catkin build hrr_ee_tools package\n",
    "* Start robot node(roslaunch)\n",
    "* Start Arduino node (roslaunch hrr_ee_tools tool_controller.launch) \n",
    "\n"
   ]
  },
  {
   "cell_type": "code",
   "execution_count": 1,
   "id": "sharing-validity",
   "metadata": {},
   "outputs": [],
   "source": [
    "# packages needed for this tutorial\n",
    "from pathlib import Path\n",
    "# math and robotics\n",
    "import numpy as np\n",
    "import quaternion\n",
    "from tqdm.notebook import tqdm, trange\n",
    "import spatialmath as sm\n",
    "\n",
    "# plotting \n",
    "import seaborn as sns\n",
    "import matplotlib as mpl\n",
    "import matplotlib.pylab as plt\n",
    "\n",
    "# simulated robot content and helpers\n",
    "import hrr_common as hrr_cm\n",
    "import hrr_cobot_robot as hrr_rob\n",
    "from hrr_cobot_robot.tool_control import ArduinoToolControlInterface\n",
    "from hr_recycler_msgs.msg import CuttingAction, CuttingFeedback, CuttingResult, CuttingGoal, SkillResult, CobotState, MaterialType\n",
    "import actionlib\n",
    "from hr_recycler_msgs.msg import ToolType\n",
    "\n",
    "from hr_recycler_msgs.msg import PlannerAction , PlannerGoal\n",
    "from std_msgs.msg import Float32, Int8\n",
    "from geometry_msgs.msg import Vector3\n",
    "\n",
    "# ROS\n",
    "import rospy\n",
    "\n",
    "# set printing and plotting options    \n",
    "np.set_printoptions(precision=5, suppress=True)\n",
    "sns.set_theme('notebook')\n",
    "%matplotlib notebook"
   ]
  },
  {
   "cell_type": "code",
   "execution_count": 2,
   "id": "honest-catering",
   "metadata": {},
   "outputs": [],
   "source": [
    "%config Completer.use_jedi = False"
   ]
  },
  {
   "cell_type": "code",
   "execution_count": 3,
   "id": "governing-folks",
   "metadata": {},
   "outputs": [
    {
     "name": "stdout",
     "output_type": "stream",
     "text": [
      "env: ROS_MASTER_URI=http://hrrcobotLinux54.lsr.ei.tum.de:11311\n",
      "env: ROS_IP=129.187.147.183\n"
     ]
    }
   ],
   "source": [
    "%env ROS_MASTER_URI=http://hrrcobotLinux54.lsr.ei.tum.de:11311\n",
    "%env ROS_IP=129.187.147.183"
   ]
  },
  {
   "cell_type": "code",
   "execution_count": 5,
   "id": "conservative-nurse",
   "metadata": {},
   "outputs": [],
   "source": [
    "rospy.init_node(\"hrr_cobot_shaftgrinder\")"
   ]
  },
  {
   "cell_type": "code",
   "execution_count": 34,
   "id": "66ff0ccd",
   "metadata": {},
   "outputs": [],
   "source": [
    "a = rospy.wait_for_message('DevType', Int8).data"
   ]
  },
  {
   "cell_type": "code",
   "execution_count": 49,
   "id": "7a90d678",
   "metadata": {},
   "outputs": [],
   "source": [
    "#rospy.set_param(\"/device_type\", rospy.wait_for_message('/device_type', Int8).data)\n",
    "rospy.set_param(\"/device_center_topic\", rospy.wait_for_message('device_center_topic', Vector3).y)\n"
   ]
  },
  {
   "cell_type": "code",
   "execution_count": 42,
   "id": "5f7281e6",
   "metadata": {},
   "outputs": [
    {
     "name": "stdout",
     "output_type": "stream",
     "text": [
      "2\n"
     ]
    }
   ],
   "source": [
    "a = rospy.get_param(\"z1test\")\n",
    "print(2*a)"
   ]
  },
  {
   "cell_type": "code",
   "execution_count": 50,
   "id": "047f0969",
   "metadata": {},
   "outputs": [
    {
     "data": {
      "text/plain": [
       "0.0"
      ]
     },
     "execution_count": 50,
     "metadata": {},
     "output_type": "execute_result"
    }
   ],
   "source": [
    "rospy.get_param(\"/device_center_topic\")"
   ]
  },
  {
   "cell_type": "code",
   "execution_count": 5,
   "id": "dd9e0ce6",
   "metadata": {},
   "outputs": [],
   "source": [
    "rospy.set_param(\"/hrr_cobot/cmd_arduino\", True)"
   ]
  },
  {
   "cell_type": "code",
   "execution_count": 21,
   "id": "timely-orlando",
   "metadata": {},
   "outputs": [],
   "source": [
    "rospy.set_param(\"~cmd_arduino\", True)\n",
    "rospy.set_param(\"~tool_frame\", \"shaftgrinder_tip\")\n",
    "rospy.set_param(\"~arduino_node_name\", \"/hrr_cobot/tool_controller\")\n",
    "rospy.set_param(\"~tool_name\", \"shaftgrinder\")"
   ]
  },
  {
   "cell_type": "code",
   "execution_count": 6,
   "id": "comparative-symbol",
   "metadata": {},
   "outputs": [],
   "source": [
    "#hrr_rob.utils.load_default_parameters(\"/hrr_cobot\")\n",
    "\n",
    "#hrr_rob.HrrCobotControl.init_ros(shaft_grinder_ctrl_srv_name = \"cutting\")\n",
    "cobot = hrr_rob.HrrCobotControl.from_ros(\"/hrr_cobot\")"
   ]
  },
  {
   "cell_type": "code",
   "execution_count": 7,
   "id": "moving-domain",
   "metadata": {},
   "outputs": [
    {
     "data": {
      "text/plain": [
       "type: 3"
      ]
     },
     "execution_count": 7,
     "metadata": {},
     "output_type": "execute_result"
    }
   ],
   "source": [
    "ToolType(ToolType.SHAFT_GRINDER)"
   ]
  },
  {
   "cell_type": "code",
   "execution_count": 56,
   "id": "64c7c0f6",
   "metadata": {},
   "outputs": [
    {
     "data": {
      "text/plain": [
       "<hrr_cobot_robot.tool_control.pilot_tool_controller.HrrCobotToolControlInterface at 0x7f5e58022160>"
      ]
     },
     "execution_count": 56,
     "metadata": {},
     "output_type": "execute_result"
    }
   ],
   "source": [
    "cobot.tool_controller"
   ]
  },
  {
   "cell_type": "code",
   "execution_count": 6,
   "id": "73e6bbee",
   "metadata": {},
   "outputs": [
    {
     "data": {
      "text/plain": [
       "(array([ 0.    , -0.1555, -0.0945]),\n",
       " quaternion(0.270598050074698, -0.270598050074698, -0.653281482437526, -0.653281482437526))"
      ]
     },
     "execution_count": 6,
     "metadata": {},
     "output_type": "execute_result"
    }
   ],
   "source": [
    "cobot._tf.T_A_B('hrr_cobot.shaftgrinder_tip', 'hrr_cobot.ee_link')"
   ]
  },
  {
   "cell_type": "code",
   "execution_count": 13,
   "id": "2e2f5491",
   "metadata": {},
   "outputs": [],
   "source": [
    "Shaftgrinder_tf_PC_Tower_1 = np.array([[-0.26864, 0.55951, 0.78408],\n",
    "                                       [0.67257, -0.47376, 0.5685],\n",
    "                                       [0.68955, 0.68007, -0.24904]]\n",
    "                                       )\n",
    "Shaftgrinder_tf = np.array([[-0.707107, 0.707107, 0.],\n",
    "                            [0, 0, 1],\n",
    "                            [0.707107, 0.707107, 0]]\n",
    "                            )"
   ]
  },
  {
   "cell_type": "code",
   "execution_count": 16,
   "id": "5d5f42fb",
   "metadata": {},
   "outputs": [
    {
     "name": "stdout",
     "output_type": "stream",
     "text": [
      "[[ 0.67754  0.08525 -0.73053]\n",
      " [ 0.29763  0.87652  0.37833]\n",
      " [ 0.67257 -0.47376  0.5685 ]]\n",
      "[[-0.26864  0.55951  0.78408]\n",
      " [ 0.67257 -0.47376  0.5685 ]\n",
      " [ 0.68955  0.68007 -0.24904]]\n"
     ]
    }
   ],
   "source": [
    "T = np.linalg.inv(Shaftgrinder_tf) @ Shaftgrinder_tf_PC_Tower_1\n",
    "print(T)\n",
    "print(Shaftgrinder_tf @ T)"
   ]
  },
  {
   "cell_type": "code",
   "execution_count": 17,
   "id": "61e6fd0c",
   "metadata": {},
   "outputs": [],
   "source": [
    "Shaftgrinder_tf_PC_Tower_2 = np.array([[-0.25151, 0.58966, 0.76749],\n",
    "                                       [0.22861, -0.73435, 0.63911],\n",
    "                                       [0.94047, 0.3362, 0.04989],\n",
    "                                       ])\n",
    "Shaftgrinder_tf = np.array([[-0.707107, 0.707107, 0.],\n",
    "                            [0, 0, 1],\n",
    "                            [0.707107, 0.707107, 0]]\n",
    "                            )"
   ]
  },
  {
   "cell_type": "code",
   "execution_count": 18,
   "id": "dd6a5483",
   "metadata": {},
   "outputs": [
    {
     "name": "stdout",
     "output_type": "stream",
     "text": [
      "[[ 0.84286 -0.17922 -0.50742]\n",
      " [ 0.48717  0.65468  0.57797]\n",
      " [ 0.22861 -0.73435  0.63911]]\n",
      "[[-0.25151  0.58966  0.76749]\n",
      " [ 0.22861 -0.73435  0.63911]\n",
      " [ 0.94047  0.3362   0.04989]]\n"
     ]
    }
   ],
   "source": [
    "T = np.linalg.inv(Shaftgrinder_tf) @ Shaftgrinder_tf_PC_Tower_2\n",
    "print(T)\n",
    "print(Shaftgrinder_tf @ T)"
   ]
  },
  {
   "cell_type": "code",
   "execution_count": null,
   "id": "42628833",
   "metadata": {},
   "outputs": [],
   "source": [
    "T_B_tool = sm.SE3(*toEE)\n",
    "T_B_tool.A[:3, :3] = quaternion.as_rotation_matrix(q)\n",
    "T_B_tool.A[:, 3] = [0.455, 0.04829, 0.65335, 1]"
   ]
  },
  {
   "cell_type": "code",
   "execution_count": 7,
   "id": "b91a76b4",
   "metadata": {},
   "outputs": [
    {
     "data": {
      "text/plain": [
       "SE3:  \u001b[38;5;1m 1          \u001b[0m\u001b[38;5;1m 0          \u001b[0m\u001b[38;5;1m 0          \u001b[0m\u001b[38;5;4m 0          \u001b[0m  \u001b[0m\n",
       "      \u001b[38;5;1m 0          \u001b[0m\u001b[38;5;1m 1          \u001b[0m\u001b[38;5;1m 0          \u001b[0m\u001b[38;5;4m 0          \u001b[0m  \u001b[0m\n",
       "      \u001b[38;5;1m 0          \u001b[0m\u001b[38;5;1m 0          \u001b[0m\u001b[38;5;1m 1          \u001b[0m\u001b[38;5;4m 0          \u001b[0m  \u001b[0m\n",
       "      \u001b[38;5;244m 0          \u001b[0m\u001b[38;5;244m 0          \u001b[0m\u001b[38;5;244m 0          \u001b[0m\u001b[38;5;244m 1          \u001b[0m  \u001b[0m\n",
       "    "
      ]
     },
     "execution_count": 7,
     "metadata": {},
     "output_type": "execute_result"
    }
   ],
   "source": [
    "cobot.T_E_C_robot.inv()\n",
    "T_E_C = sm.SE3(*self.E_p_EC)\n",
    "T_E_C.A[:3, :3] = self.R_E_C"
   ]
  },
  {
   "cell_type": "code",
   "execution_count": 9,
   "id": "material-macedonia",
   "metadata": {},
   "outputs": [],
   "source": [
    "cobot.tool_controller\n",
    "#cobot.tool_controller.rpm = 0\n",
    "cobot.change_tool(None)\n",
    "cobot.change_tool(\"shaftgrinder\")\n",
    "cobot.tool_controller.reset()"
   ]
  },
  {
   "cell_type": "code",
   "execution_count": 42,
   "id": "improving-syria",
   "metadata": {},
   "outputs": [
    {
     "name": "stdout",
     "output_type": "stream",
     "text": [
      "  \u001b[38;5;1m-0.972695   \u001b[0m\u001b[38;5;1m 0.231637   \u001b[0m\u001b[38;5;1m 0.0144529  \u001b[0m\u001b[38;5;4m 0.492877   \u001b[0m  \u001b[0m\n",
      "  \u001b[38;5;1m 0.231601   \u001b[0m\u001b[38;5;1m 0.972802   \u001b[0m\u001b[38;5;1m-0.0042012  \u001b[0m\u001b[38;5;4m 0.0943616  \u001b[0m  \u001b[0m\n",
      "  \u001b[38;5;1m-0.015033   \u001b[0m\u001b[38;5;1m-0.000739179\u001b[0m\u001b[38;5;1m-0.999887   \u001b[0m\u001b[38;5;4m 0.595248   \u001b[0m  \u001b[0m\n",
      "  \u001b[38;5;244m 0          \u001b[0m\u001b[38;5;244m 0          \u001b[0m\u001b[38;5;244m 0          \u001b[0m\u001b[38;5;244m 1          \u001b[0m  \u001b[0m\n",
      "\n",
      "  \u001b[38;5;1m-0.698019   \u001b[0m\u001b[38;5;1m 0.67758    \u001b[0m\u001b[38;5;1m 0.231637   \u001b[0m\u001b[38;5;4m 0.455999   \u001b[0m  \u001b[0m\n",
      "  \u001b[38;5;1m 0.166737   \u001b[0m\u001b[38;5;1m-0.160796   \u001b[0m\u001b[38;5;1m 0.972802   \u001b[0m\u001b[38;5;4m-0.0535392  \u001b[0m  \u001b[0m\n",
      "  \u001b[38;5;1m 0.696397   \u001b[0m\u001b[38;5;1m 0.717656   \u001b[0m\u001b[38;5;1m-0.000739005\u001b[0m\u001b[38;5;4m 0.702851   \u001b[0m  \u001b[0m\n",
      "  \u001b[38;5;244m 0          \u001b[0m\u001b[38;5;244m 0          \u001b[0m\u001b[38;5;244m 0          \u001b[0m\u001b[38;5;244m 1          \u001b[0m  \u001b[0m\n",
      "\n"
     ]
    }
   ],
   "source": [
    "print(cobot.T_B_C_robot)\n",
    "print(cobot.T_B_E_robot)\n",
    "toEE = [0.036878, 0.1479008, -0.107603]"
   ]
  },
  {
   "cell_type": "code",
   "execution_count": 46,
   "id": "d096b018",
   "metadata": {},
   "outputs": [],
   "source": [
    "cobot.tool_controller.run_shaftgrinder(2.0, 'slow')"
   ]
  },
  {
   "cell_type": "code",
   "execution_count": 45,
   "id": "outer-thunder",
   "metadata": {},
   "outputs": [
    {
     "name": "stdout",
     "output_type": "stream",
     "text": [
      "-0.107603\n"
     ]
    }
   ],
   "source": [
    "print(0.595248-(0.702851))"
   ]
  },
  {
   "cell_type": "code",
   "execution_count": 45,
   "id": "african-equilibrium",
   "metadata": {},
   "outputs": [
    {
     "data": {
      "text/plain": [
       "SE3:  \u001b[38;5;1m 0.707802   \u001b[0m\u001b[38;5;1m-0.70641    \u001b[0m\u001b[38;5;1m-0.000809734\u001b[0m\u001b[38;5;4m 0.455481   \u001b[0m  \u001b[0m\n",
       "      \u001b[38;5;1m 0.00117185 \u001b[0m\u001b[38;5;1m 2.78944e-05\u001b[0m\u001b[38;5;1m 0.999999   \u001b[0m\u001b[38;5;4m-0.20854    \u001b[0m  \u001b[0m\n",
       "      \u001b[38;5;1m-0.70641    \u001b[0m\u001b[38;5;1m-0.707803   \u001b[0m\u001b[38;5;1m 0.000847551\u001b[0m\u001b[38;5;4m 0.748848   \u001b[0m  \u001b[0m\n",
       "      \u001b[38;5;244m 0          \u001b[0m\u001b[38;5;244m 0          \u001b[0m\u001b[38;5;244m 0          \u001b[0m\u001b[38;5;244m 1          \u001b[0m  \u001b[0m\n",
       "    "
      ]
     },
     "execution_count": 45,
     "metadata": {},
     "output_type": "execute_result"
    }
   ],
   "source": [
    "cobot.change_tool(\"shaftgrinder\")\n",
    "cobot.T_B_C_robot"
   ]
  },
  {
   "cell_type": "code",
   "execution_count": 12,
   "id": "impressive-savage",
   "metadata": {},
   "outputs": [
    {
     "data": {
      "text/plain": [
       "3"
      ]
     },
     "execution_count": 12,
     "metadata": {},
     "output_type": "execute_result"
    }
   ],
   "source": [
    "from hrr_cobot_robot.utils import tool2tool_type\n",
    "tool2tool_type(cobot.tool)"
   ]
  },
  {
   "cell_type": "code",
   "execution_count": 13,
   "id": "adopted-antique",
   "metadata": {},
   "outputs": [],
   "source": [
    "from hrr_cobot_robot import ArduinoToolControlInterface\n",
    "rospy.set_param(\"~arduino_node_name\", \"/hrr_cobot/tool_controller\")\n",
    "tool_controller = ArduinoToolControlInterface.from_ros()"
   ]
  },
  {
   "cell_type": "code",
   "execution_count": 57,
   "id": "caring-stroke",
   "metadata": {},
   "outputs": [
    {
     "ename": "NameError",
     "evalue": "name 'tool_controller' is not defined",
     "output_type": "error",
     "traceback": [
      "\u001b[0;31m---------------------------------------------------------------------------\u001b[0m",
      "\u001b[0;31mNameError\u001b[0m                                 Traceback (most recent call last)",
      "\u001b[0;32m<ipython-input-57-f8e4b97d763b>\u001b[0m in \u001b[0;36m<module>\u001b[0;34m\u001b[0m\n\u001b[0;32m----> 1\u001b[0;31m \u001b[0mtool_controller\u001b[0m\u001b[0;34m.\u001b[0m\u001b[0mtool\u001b[0m \u001b[0;34m=\u001b[0m \u001b[0;34m\"shaftgrinder\"\u001b[0m\u001b[0;34m\u001b[0m\u001b[0;34m\u001b[0m\u001b[0m\n\u001b[0m",
      "\u001b[0;31mNameError\u001b[0m: name 'tool_controller' is not defined"
     ]
    }
   ],
   "source": [
    "tool_controller.tool = \"shaftgrinder\""
   ]
  },
  {
   "cell_type": "code",
   "execution_count": 58,
   "id": "unlikely-second",
   "metadata": {},
   "outputs": [
    {
     "data": {
      "text/plain": [
       "True"
      ]
     },
     "execution_count": 58,
     "metadata": {},
     "output_type": "execute_result"
    }
   ],
   "source": [
    "cobot.change_tool(\"shaftgrinder\")"
   ]
  },
  {
   "cell_type": "code",
   "execution_count": 28,
   "id": "prompt-liberty",
   "metadata": {},
   "outputs": [
    {
     "name": "stderr",
     "output_type": "stream",
     "text": [
      "[WARN] [1641301515.730047]: Inbound TCP/IP connection failed: connection from sender terminated before handshake header received. 0 bytes were received. Please check sender for additional details.\n",
      "[WARN] [1641301515.735382]: Inbound TCP/IP connection failed: connection from sender terminated before handshake header received. 0 bytes were received. Please check sender for additional details.\n"
     ]
    }
   ],
   "source": [
    "tool_controller.rpm = 4000"
   ]
  },
  {
   "cell_type": "code",
   "execution_count": 51,
   "id": "premium-bailey",
   "metadata": {},
   "outputs": [],
   "source": [
    "tool_controller.vacuum = True"
   ]
  },
  {
   "cell_type": "code",
   "execution_count": 98,
   "id": "dependent-engagement",
   "metadata": {},
   "outputs": [
    {
     "data": {
      "application/vnd.jupyter.widget-view+json": {
       "model_id": "5d4c755420d2425088837cb22afcc1db",
       "version_major": 2,
       "version_minor": 0
      },
      "text/plain": [
       "  0%|          | 0/5 [00:00<?, ?it/s]"
      ]
     },
     "metadata": {},
     "output_type": "display_data"
    },
    {
     "name": "stderr",
     "output_type": "stream",
     "text": [
      "[WARN] [1641293163.098384]: maximum value is 25000. Set value accordingly.\n",
      "[WARN] [1641293165.019923]: minimum value is 3500 => set value to 0\n"
     ]
    }
   ],
   "source": [
    "r = rospy.Rate(2)\n",
    "for rpm in tqdm((30e3, 20e3, 10e3, 5e3, 1e3)):\n",
    "    cobot.tool_controller.rpm = rpm\n",
    "    r.sleep()"
   ]
  },
  {
   "cell_type": "code",
   "execution_count": 19,
   "id": "starting-principle",
   "metadata": {},
   "outputs": [
    {
     "name": "stderr",
     "output_type": "stream",
     "text": [
      "/home/adaniels/_ros/hrr_ws/src/hrr_cobot/hrr_cobot_robot/src/hrr_cobot_robot/hrr_cobot_handle.py:901: UserWarning: current tool is set to , which has no dedicated tool-controller interface.\n",
      "  warnings.warn(f\"current tool is set to {self.tool}, \"\n"
     ]
    }
   ],
   "source": [
    "cobot.tool_controller"
   ]
  },
  {
   "cell_type": "code",
   "execution_count": 8,
   "id": "legendary-spanking",
   "metadata": {},
   "outputs": [
    {
     "data": {
      "text/plain": [
       "True"
      ]
     },
     "execution_count": 8,
     "metadata": {},
     "output_type": "execute_result"
    }
   ],
   "source": [
    "cobot.change_tool(\"shaftgrinder\")"
   ]
  },
  {
   "cell_type": "code",
   "execution_count": 15,
   "id": "196be70b",
   "metadata": {},
   "outputs": [
    {
     "name": "stderr",
     "output_type": "stream",
     "text": [
      "[WARN] [1644854791.966491]: vacuum gripper contains two tips. This contradicts default pipeline atm. Use 1\n"
     ]
    },
    {
     "data": {
      "text/plain": [
       "True"
      ]
     },
     "execution_count": 15,
     "metadata": {},
     "output_type": "execute_result"
    }
   ],
   "source": [
    "cobot.change_tool(\"vacuum\")"
   ]
  },
  {
   "cell_type": "code",
   "execution_count": 21,
   "id": "trying-married",
   "metadata": {},
   "outputs": [
    {
     "name": "stderr",
     "output_type": "stream",
     "text": [
      "[WARN] [1644855182.318502]: minimum value is 3500 => set value to 0\n"
     ]
    }
   ],
   "source": [
    "cobot.tool_controller.disable()"
   ]
  },
  {
   "cell_type": "code",
   "execution_count": 23,
   "id": "quarterly-difficulty",
   "metadata": {},
   "outputs": [],
   "source": [
    "cobot.tool_controller.enable_grinder()"
   ]
  },
  {
   "cell_type": "code",
   "execution_count": 14,
   "id": "worth-addition",
   "metadata": {},
   "outputs": [
    {
     "name": "stderr",
     "output_type": "stream",
     "text": [
      "[WARN] [1644930092.048337]: minimum value is 3500 => set value to 0\n"
     ]
    }
   ],
   "source": [
    "cobot.tool_controller.run"
   ]
  },
  {
   "cell_type": "code",
   "execution_count": 79,
   "id": "physical-macro",
   "metadata": {},
   "outputs": [],
   "source": [
    "cobot.tool_controller.reset()"
   ]
  },
  {
   "cell_type": "code",
   "execution_count": 7,
   "id": "continuing-dynamics",
   "metadata": {},
   "outputs": [
    {
     "name": "stdout",
     "output_type": "stream",
     "text": [
      "3\n"
     ]
    }
   ],
   "source": [
    "print(cobot.tool_controller._cur_tool)"
   ]
  },
  {
   "cell_type": "code",
   "execution_count": 8,
   "id": "6b370b35",
   "metadata": {},
   "outputs": [
    {
     "name": "stdout",
     "output_type": "stream",
     "text": [
      "[ 0.    -0.156 -0.094]\n",
      "[ 0.     -0.1555  0.0945]\n"
     ]
    }
   ],
   "source": [
    "toEE = np.array([0, -0.156, 0.094])\n",
    "toEE[2] = -toEE[2]\n",
    "print(toEE)\n",
    "toEE, q = cobot._tf.T_A_B('hrr_cobot.shaftgrinder_tip', 'hrr_cobot.ee_link')\n",
    "toEE[2] = -toEE[2]\n",
    "print(toEE)"
   ]
  },
  {
   "cell_type": "code",
   "execution_count": 16,
   "id": "efficient-rebate",
   "metadata": {},
   "outputs": [],
   "source": [
    "cobot.tool_controller.vacuum = True"
   ]
  },
  {
   "cell_type": "code",
   "execution_count": 25,
   "id": "supported-electron",
   "metadata": {},
   "outputs": [
    {
     "data": {
      "application/vnd.jupyter.widget-view+json": {
       "model_id": "9e2bab947c724b8ba279b9942b8642e5",
       "version_major": 2,
       "version_minor": 0
      },
      "text/plain": [
       "  0%|          | 0/5000 [00:00<?, ?it/s]"
      ]
     },
     "metadata": {},
     "output_type": "display_data"
    },
    {
     "ename": "KeyboardInterrupt",
     "evalue": "",
     "output_type": "error",
     "traceback": [
      "\u001b[0;31m---------------------------------------------------------------------------\u001b[0m",
      "\u001b[0;31mKeyboardInterrupt\u001b[0m                         Traceback (most recent call last)",
      "\u001b[0;32m<ipython-input-25-501e941910a2>\u001b[0m in \u001b[0;36m<module>\u001b[0;34m\u001b[0m\n\u001b[1;32m      3\u001b[0m \u001b[0;32mfor\u001b[0m \u001b[0mt\u001b[0m \u001b[0;32min\u001b[0m \u001b[0mtrange\u001b[0m\u001b[0;34m(\u001b[0m\u001b[0mT\u001b[0m\u001b[0;34m)\u001b[0m\u001b[0;34m:\u001b[0m\u001b[0;34m\u001b[0m\u001b[0;34m\u001b[0m\u001b[0m\n\u001b[1;32m      4\u001b[0m     \u001b[0mcobot\u001b[0m\u001b[0;34m.\u001b[0m\u001b[0mtool_controller\u001b[0m\u001b[0;34m.\u001b[0m\u001b[0menable_grinder\u001b[0m\u001b[0;34m(\u001b[0m\u001b[0;34m)\u001b[0m\u001b[0;34m\u001b[0m\u001b[0;34m\u001b[0m\u001b[0m\n\u001b[0;32m----> 5\u001b[0;31m     \u001b[0mr\u001b[0m\u001b[0;34m.\u001b[0m\u001b[0msleep\u001b[0m\u001b[0;34m(\u001b[0m\u001b[0;34m)\u001b[0m\u001b[0;34m\u001b[0m\u001b[0;34m\u001b[0m\u001b[0m\n\u001b[0m",
      "\u001b[0;32m/opt/ros/noetic/lib/python3/dist-packages/rospy/timer.py\u001b[0m in \u001b[0;36msleep\u001b[0;34m(self)\u001b[0m\n\u001b[1;32m    101\u001b[0m         \u001b[0mcurr_time\u001b[0m \u001b[0;34m=\u001b[0m \u001b[0mrospy\u001b[0m\u001b[0;34m.\u001b[0m\u001b[0mrostime\u001b[0m\u001b[0;34m.\u001b[0m\u001b[0mget_rostime\u001b[0m\u001b[0;34m(\u001b[0m\u001b[0;34m)\u001b[0m\u001b[0;34m\u001b[0m\u001b[0;34m\u001b[0m\u001b[0m\n\u001b[1;32m    102\u001b[0m         \u001b[0;32mtry\u001b[0m\u001b[0;34m:\u001b[0m\u001b[0;34m\u001b[0m\u001b[0;34m\u001b[0m\u001b[0m\n\u001b[0;32m--> 103\u001b[0;31m             \u001b[0msleep\u001b[0m\u001b[0;34m(\u001b[0m\u001b[0mself\u001b[0m\u001b[0;34m.\u001b[0m\u001b[0m_remaining\u001b[0m\u001b[0;34m(\u001b[0m\u001b[0mcurr_time\u001b[0m\u001b[0;34m)\u001b[0m\u001b[0;34m)\u001b[0m\u001b[0;34m\u001b[0m\u001b[0;34m\u001b[0m\u001b[0m\n\u001b[0m\u001b[1;32m    104\u001b[0m         \u001b[0;32mexcept\u001b[0m \u001b[0mrospy\u001b[0m\u001b[0;34m.\u001b[0m\u001b[0mexceptions\u001b[0m\u001b[0;34m.\u001b[0m\u001b[0mROSTimeMovedBackwardsException\u001b[0m\u001b[0;34m:\u001b[0m\u001b[0;34m\u001b[0m\u001b[0;34m\u001b[0m\u001b[0m\n\u001b[1;32m    105\u001b[0m             \u001b[0;32mif\u001b[0m \u001b[0;32mnot\u001b[0m \u001b[0mself\u001b[0m\u001b[0;34m.\u001b[0m\u001b[0m_reset\u001b[0m\u001b[0;34m:\u001b[0m\u001b[0;34m\u001b[0m\u001b[0;34m\u001b[0m\u001b[0m\n",
      "\u001b[0;32m/opt/ros/noetic/lib/python3/dist-packages/rospy/timer.py\u001b[0m in \u001b[0;36msleep\u001b[0;34m(duration)\u001b[0m\n\u001b[1;32m    132\u001b[0m             \u001b[0;32mreturn\u001b[0m\u001b[0;34m\u001b[0m\u001b[0;34m\u001b[0m\u001b[0m\n\u001b[1;32m    133\u001b[0m         \u001b[0;32melse\u001b[0m\u001b[0;34m:\u001b[0m\u001b[0;34m\u001b[0m\u001b[0;34m\u001b[0m\u001b[0m\n\u001b[0;32m--> 134\u001b[0;31m             \u001b[0mrospy\u001b[0m\u001b[0;34m.\u001b[0m\u001b[0mrostime\u001b[0m\u001b[0;34m.\u001b[0m\u001b[0mwallsleep\u001b[0m\u001b[0;34m(\u001b[0m\u001b[0mduration\u001b[0m\u001b[0;34m)\u001b[0m\u001b[0;34m\u001b[0m\u001b[0;34m\u001b[0m\u001b[0m\n\u001b[0m\u001b[1;32m    135\u001b[0m     \u001b[0;32melse\u001b[0m\u001b[0;34m:\u001b[0m\u001b[0;34m\u001b[0m\u001b[0;34m\u001b[0m\u001b[0m\n\u001b[1;32m    136\u001b[0m         \u001b[0minitial_rostime\u001b[0m \u001b[0;34m=\u001b[0m \u001b[0mrospy\u001b[0m\u001b[0;34m.\u001b[0m\u001b[0mrostime\u001b[0m\u001b[0;34m.\u001b[0m\u001b[0mget_rostime\u001b[0m\u001b[0;34m(\u001b[0m\u001b[0;34m)\u001b[0m\u001b[0;34m\u001b[0m\u001b[0;34m\u001b[0m\u001b[0m\n",
      "\u001b[0;32m/opt/ros/noetic/lib/python3/dist-packages/rospy/rostime.py\u001b[0m in \u001b[0;36mwallsleep\u001b[0;34m(duration)\u001b[0m\n\u001b[1;32m    275\u001b[0m             \u001b[0;32mpass\u001b[0m\u001b[0;34m\u001b[0m\u001b[0;34m\u001b[0m\u001b[0m\n\u001b[1;32m    276\u001b[0m     \u001b[0;32melse\u001b[0m\u001b[0;34m:\u001b[0m\u001b[0;34m\u001b[0m\u001b[0;34m\u001b[0m\u001b[0m\n\u001b[0;32m--> 277\u001b[0;31m         \u001b[0mtime\u001b[0m\u001b[0;34m.\u001b[0m\u001b[0msleep\u001b[0m\u001b[0;34m(\u001b[0m\u001b[0mduration\u001b[0m\u001b[0;34m)\u001b[0m\u001b[0;34m\u001b[0m\u001b[0;34m\u001b[0m\u001b[0m\n\u001b[0m",
      "\u001b[0;31mKeyboardInterrupt\u001b[0m: "
     ]
    }
   ],
   "source": [
    "r = rospy.Rate(2)\n",
    "T = int(50 * cobot.hz)\n",
    "for t in trange(T):\n",
    "    cobot.tool_controller.enable_grinder()\n",
    "    r.sleep()"
   ]
  },
  {
   "cell_type": "markdown",
   "id": "limiting-sherman",
   "metadata": {},
   "source": [
    "#### set tool_controller interface"
   ]
  },
  {
   "cell_type": "code",
   "execution_count": 11,
   "id": "necessary-parliament",
   "metadata": {},
   "outputs": [],
   "source": [
    "rospy.set_param(\"~arduino_node_name\", \"/hrr_cobot/tool_controller\")\n",
    "tool_controller = ArduinoToolControlInterface.from_ros()"
   ]
  },
  {
   "cell_type": "markdown",
   "id": "phantom-causing",
   "metadata": {},
   "source": [
    "#### Robot Status Check\n",
    "check cobot status"
   ]
  },
  {
   "cell_type": "code",
   "execution_count": 6,
   "id": "ahead-choice",
   "metadata": {},
   "outputs": [
    {
     "name": "stdout",
     "output_type": "stream",
     "text": [
      "80.0\n",
      "Hrr-Cobot state:\n",
      "FT-data:\n",
      "current force:\t[ 34.3927   -0.427   -30.00586] [N]\n",
      "current torque:\t[ 4.60449 20.10406 -0.59387] [Nm]\n",
      "current wrench:\t[ 34.40167  -0.39792 -30.04685   4.61655  20.10544  -0.58243] [N,Nm]\n",
      "=>in contact:\tTrue\n",
      "---\n",
      "Robot-data:\n",
      "q:\t\t[    9.21336     1.01956  -104.10632   -91.06585    85.87448 -1109.09016][°]\n",
      "q_dot:\t\t[0. 0. 0. 0. 0. 0.][rad/s]\n",
      "tau:\t\t[0. 0. 0. 0. 0. 0.][Nm]\n",
      "pos:\t\t[0.45514 0.007   0.68243][m]\n",
      "quat:\t\t-0.18757 <[0.34148 0.61953 0.68146]>\n",
      "tool-pos:\t[0.45514 0.007   0.68243][m]\n",
      "tool-rpy:\t[-135.73557   13.47381  -90.05077][°]\n",
      "robot-status:\tready\n",
      "---\n"
     ]
    }
   ],
   "source": [
    "print(cobot.F_max)\n",
    "print(cobot)"
   ]
  },
  {
   "cell_type": "markdown",
   "id": "limited-offer",
   "metadata": {},
   "source": [
    "#### Param Serv Check\n",
    "test if setting grinder service names has worked"
   ]
  },
  {
   "cell_type": "code",
   "execution_count": 6,
   "id": "controversial-policy",
   "metadata": {},
   "outputs": [
    {
     "name": "stdout",
     "output_type": "stream",
     "text": [
      "<rospy.topics.Publisher object at 0x7f66de5bbf70>\n",
      "<rospy.topics.Publisher object at 0x7f66dc0cd880>\n"
     ]
    }
   ],
   "source": [
    "print(cobot._set_control_mode)\n",
    "print(cobot._pub_rpm)"
   ]
  },
  {
   "cell_type": "markdown",
   "id": "worthy-norway",
   "metadata": {},
   "source": [
    "#### run calibration routine"
   ]
  },
  {
   "cell_type": "code",
   "execution_count": 27,
   "id": "dental-paintball",
   "metadata": {},
   "outputs": [
    {
     "name": "stderr",
     "output_type": "stream",
     "text": [
      "[ERROR] [1641302361.994959]: could not find file /tmp/current_tool.npy\n",
      "[ERROR] [1641302367.946924]: cannot activate sensor-track velocity controller: The robot is currently in status: terminate => please restart\n"
     ]
    },
    {
     "ename": "KeyboardInterrupt",
     "evalue": "",
     "output_type": "error",
     "traceback": [
      "\u001b[0;31m---------------------------------------------------------------------------\u001b[0m",
      "\u001b[0;31mKeyboardInterrupt\u001b[0m                         Traceback (most recent call last)",
      "\u001b[0;32m<ipython-input-27-2d250076c1f9>\u001b[0m in \u001b[0;36m<module>\u001b[0;34m\u001b[0m\n\u001b[0;32m----> 1\u001b[0;31m \u001b[0mcobot\u001b[0m\u001b[0;34m.\u001b[0m\u001b[0mrun_calibration_routine\u001b[0m\u001b[0;34m(\u001b[0m\u001b[0mfile_name\u001b[0m\u001b[0;34m=\u001b[0m\u001b[0;34m'/tmp/current_tool.npy'\u001b[0m\u001b[0;34m,\u001b[0m \u001b[0mplot\u001b[0m\u001b[0;34m=\u001b[0m\u001b[0;32mTrue\u001b[0m\u001b[0;34m,\u001b[0m \u001b[0mfigsize\u001b[0m\u001b[0;34m=\u001b[0m\u001b[0;34m(\u001b[0m\u001b[0;36m10\u001b[0m\u001b[0;34m,\u001b[0m \u001b[0;36m10\u001b[0m\u001b[0;34m)\u001b[0m\u001b[0;34m)\u001b[0m\u001b[0;34m\u001b[0m\u001b[0;34m\u001b[0m\u001b[0m\n\u001b[0m",
      "\u001b[0;32m~/_ros/hrr_ws/src/hrr_cobot/hrr_cobot_robot/src/hrr_cobot_robot/hrr_cobot_handle.py\u001b[0m in \u001b[0;36mrun_calibration_routine\u001b[0;34m(self, file_name, plot, bias_hack, **kwargs)\u001b[0m\n\u001b[1;32m    720\u001b[0m                 \u001b[0mrospy\u001b[0m\u001b[0;34m.\u001b[0m\u001b[0mlogerr\u001b[0m\u001b[0;34m(\u001b[0m\u001b[0;34mf\"could not find file {file_name}\"\u001b[0m\u001b[0;34m)\u001b[0m\u001b[0;34m\u001b[0m\u001b[0;34m\u001b[0m\u001b[0m\n\u001b[1;32m    721\u001b[0m         \u001b[0;32mif\u001b[0m \u001b[0;32mnot\u001b[0m \u001b[0mself\u001b[0m\u001b[0;34m.\u001b[0m\u001b[0m_robot\u001b[0m\u001b[0;34m.\u001b[0m\u001b[0mcan_calibrate\u001b[0m\u001b[0;34m:\u001b[0m\u001b[0;34m\u001b[0m\u001b[0;34m\u001b[0m\u001b[0m\n\u001b[0;32m--> 722\u001b[0;31m             \u001b[0mself\u001b[0m\u001b[0;34m.\u001b[0m\u001b[0mmove_to_calibration_pose\u001b[0m\u001b[0;34m(\u001b[0m\u001b[0;34m)\u001b[0m\u001b[0;34m\u001b[0m\u001b[0;34m\u001b[0m\u001b[0m\n\u001b[0m\u001b[1;32m    723\u001b[0m         \u001b[0mself\u001b[0m\u001b[0;34m.\u001b[0m\u001b[0m_sns_trk_vel_handle\u001b[0m\u001b[0;34m.\u001b[0m\u001b[0mactivate\u001b[0m\u001b[0;34m(\u001b[0m\u001b[0;34m)\u001b[0m\u001b[0;34m\u001b[0m\u001b[0;34m\u001b[0m\u001b[0m\n\u001b[1;32m    724\u001b[0m         \u001b[0mdata\u001b[0m \u001b[0;34m=\u001b[0m \u001b[0mself\u001b[0m\u001b[0;34m.\u001b[0m\u001b[0mcollect_calibration_data\u001b[0m\u001b[0;34m(\u001b[0m\u001b[0;34m**\u001b[0m\u001b[0mkwargs\u001b[0m\u001b[0;34m)\u001b[0m\u001b[0;34m\u001b[0m\u001b[0;34m\u001b[0m\u001b[0m\n",
      "\u001b[0;32m~/_ros/hrr_ws/src/hrr_cobot/hrr_cobot_robot/src/hrr_cobot_robot/hrr_cobot_control.py\u001b[0m in \u001b[0;36mmove_to_calibration_pose\u001b[0;34m(self, *args, **kwargs)\u001b[0m\n\u001b[1;32m    462\u001b[0m         \u001b[0;32massert\u001b[0m \u001b[0mself\u001b[0m\u001b[0;34m.\u001b[0m\u001b[0m_robot\u001b[0m \u001b[0;32mis\u001b[0m \u001b[0;32mnot\u001b[0m \u001b[0;32mNone\u001b[0m\u001b[0;34m,\u001b[0m \u001b[0;34m\"cannot read proper robot data for moving it to calibration pose\"\u001b[0m\u001b[0;34m\u001b[0m\u001b[0;34m\u001b[0m\u001b[0m\n\u001b[1;32m    463\u001b[0m         \u001b[0;32massert\u001b[0m \u001b[0mself\u001b[0m\u001b[0;34m.\u001b[0m\u001b[0m_sns_trk_vel_handle\u001b[0m \u001b[0;32mis\u001b[0m \u001b[0;32mnot\u001b[0m \u001b[0;32mNone\u001b[0m\u001b[0;34m,\u001b[0m \u001b[0;34m\"Cartesian servoing expects the sns-vel-ctrl interface\"\u001b[0m\u001b[0;34m\u001b[0m\u001b[0;34m\u001b[0m\u001b[0m\n\u001b[0;32m--> 464\u001b[0;31m         \u001b[0mself\u001b[0m\u001b[0;34m.\u001b[0m\u001b[0mgoTo\u001b[0m\u001b[0;34m(\u001b[0m\u001b[0mself\u001b[0m\u001b[0;34m.\u001b[0m\u001b[0mFK\u001b[0m\u001b[0;34m(\u001b[0m\u001b[0mself\u001b[0m\u001b[0;34m.\u001b[0m\u001b[0m_robot\u001b[0m\u001b[0;34m.\u001b[0m\u001b[0mq_calib\u001b[0m\u001b[0;34m)\u001b[0m\u001b[0;34m,\u001b[0m \u001b[0;34m*\u001b[0m\u001b[0margs\u001b[0m\u001b[0;34m,\u001b[0m \u001b[0;34m**\u001b[0m\u001b[0mkwargs\u001b[0m\u001b[0;34m)\u001b[0m\u001b[0;34m\u001b[0m\u001b[0;34m\u001b[0m\u001b[0m\n\u001b[0m\u001b[1;32m    465\u001b[0m         \u001b[0;32mreturn\u001b[0m \u001b[0mself\u001b[0m\u001b[0;34m.\u001b[0m\u001b[0m_robot\u001b[0m\u001b[0;34m.\u001b[0m\u001b[0mcan_calibrate\u001b[0m\u001b[0;34m\u001b[0m\u001b[0;34m\u001b[0m\u001b[0m\n\u001b[1;32m    466\u001b[0m \u001b[0;34m\u001b[0m\u001b[0m\n",
      "\u001b[0;32m~/_ros/hrr_ws/src/hrr_cobot/hrr_cobot_robot/src/hrr_cobot_robot/hrr_cobot_control.py\u001b[0m in \u001b[0;36mgoTo\u001b[0;34m(self, T_des, *args, **kwargs)\u001b[0m\n\u001b[1;32m    410\u001b[0m             \u001b[0;32mreturn\u001b[0m\u001b[0;34m\u001b[0m\u001b[0;34m\u001b[0m\u001b[0m\n\u001b[1;32m    411\u001b[0m         \u001b[0;32mwhile\u001b[0m \u001b[0mself\u001b[0m\u001b[0;34m.\u001b[0m\u001b[0m_state\u001b[0m \u001b[0;32mis\u001b[0m \u001b[0;32mnot\u001b[0m \u001b[0;32mNone\u001b[0m\u001b[0;34m:\u001b[0m\u001b[0;34m\u001b[0m\u001b[0;34m\u001b[0m\u001b[0m\n\u001b[0;32m--> 412\u001b[0;31m             \u001b[0mself\u001b[0m\u001b[0;34m.\u001b[0m\u001b[0mupdate\u001b[0m\u001b[0;34m(\u001b[0m\u001b[0;34m)\u001b[0m\u001b[0;34m\u001b[0m\u001b[0;34m\u001b[0m\u001b[0m\n\u001b[0m\u001b[1;32m    413\u001b[0m             \u001b[0;32mif\u001b[0m \u001b[0mself\u001b[0m\u001b[0;34m.\u001b[0m\u001b[0mstate\u001b[0m \u001b[0;34m==\u001b[0m \u001b[0;34m\"FAILURE\"\u001b[0m\u001b[0;34m:\u001b[0m\u001b[0;34m\u001b[0m\u001b[0;34m\u001b[0m\u001b[0m\n\u001b[1;32m    414\u001b[0m                 rospy.logerr(\n",
      "\u001b[0;32m~/_ros/hrr_ws/src/hrr_cobot/hrr_cobot_robot/src/hrr_cobot_robot/hrr_cobot_control.py\u001b[0m in \u001b[0;36mupdate\u001b[0;34m(self, sleep, u_cmd, u_cmd_frame, skip_forward, **_)\u001b[0m\n\u001b[1;32m    375\u001b[0m                 \u001b[0mself\u001b[0m\u001b[0;34m.\u001b[0m\u001b[0m_joint_ctrl_command\u001b[0m\u001b[0;34m(\u001b[0m\u001b[0;34m)\u001b[0m\u001b[0;34m\u001b[0m\u001b[0;34m\u001b[0m\u001b[0m\n\u001b[1;32m    376\u001b[0m         \u001b[0;32mif\u001b[0m \u001b[0msleep\u001b[0m\u001b[0;34m:\u001b[0m\u001b[0;34m\u001b[0m\u001b[0;34m\u001b[0m\u001b[0m\n\u001b[0;32m--> 377\u001b[0;31m             \u001b[0mself\u001b[0m\u001b[0;34m.\u001b[0m\u001b[0msleep\u001b[0m\u001b[0;34m(\u001b[0m\u001b[0;34m)\u001b[0m\u001b[0;34m\u001b[0m\u001b[0;34m\u001b[0m\u001b[0m\n\u001b[0m\u001b[1;32m    378\u001b[0m \u001b[0;34m\u001b[0m\u001b[0m\n\u001b[1;32m    379\u001b[0m     \u001b[0;32mdef\u001b[0m \u001b[0mstop\u001b[0m\u001b[0;34m(\u001b[0m\u001b[0mself\u001b[0m\u001b[0;34m)\u001b[0m\u001b[0;34m:\u001b[0m\u001b[0;34m\u001b[0m\u001b[0;34m\u001b[0m\u001b[0m\n",
      "\u001b[0;32m~/_ros/hrr_ws/src/hrr_cobot/hrr_cobot_robot/src/hrr_cobot_robot/hrr_cobot_control.py\u001b[0m in \u001b[0;36msleep\u001b[0;34m(self)\u001b[0m\n\u001b[1;32m    400\u001b[0m     \u001b[0;32mdef\u001b[0m \u001b[0msleep\u001b[0m\u001b[0;34m(\u001b[0m\u001b[0mself\u001b[0m\u001b[0;34m)\u001b[0m\u001b[0;34m:\u001b[0m\u001b[0;34m\u001b[0m\u001b[0;34m\u001b[0m\u001b[0m\n\u001b[1;32m    401\u001b[0m         \u001b[0;34m\"\"\"set robot to sleep via ``rospy.Rate.sleep``\"\"\"\u001b[0m\u001b[0;34m\u001b[0m\u001b[0;34m\u001b[0m\u001b[0m\n\u001b[0;32m--> 402\u001b[0;31m         \u001b[0mself\u001b[0m\u001b[0;34m.\u001b[0m\u001b[0m_rate\u001b[0m\u001b[0;34m.\u001b[0m\u001b[0msleep\u001b[0m\u001b[0;34m(\u001b[0m\u001b[0;34m)\u001b[0m\u001b[0;34m\u001b[0m\u001b[0;34m\u001b[0m\u001b[0m\n\u001b[0m\u001b[1;32m    403\u001b[0m \u001b[0;34m\u001b[0m\u001b[0m\n\u001b[1;32m    404\u001b[0m     \u001b[0;32mdef\u001b[0m \u001b[0mgoTo\u001b[0m\u001b[0;34m(\u001b[0m\u001b[0mself\u001b[0m\u001b[0;34m,\u001b[0m \u001b[0mT_des\u001b[0m\u001b[0;34m,\u001b[0m \u001b[0;34m*\u001b[0m\u001b[0margs\u001b[0m\u001b[0;34m,\u001b[0m \u001b[0;34m**\u001b[0m\u001b[0mkwargs\u001b[0m\u001b[0;34m)\u001b[0m\u001b[0;34m:\u001b[0m\u001b[0;34m\u001b[0m\u001b[0;34m\u001b[0m\u001b[0m\n",
      "\u001b[0;32m/opt/ros/noetic/lib/python3/dist-packages/rospy/timer.py\u001b[0m in \u001b[0;36msleep\u001b[0;34m(self)\u001b[0m\n\u001b[1;32m    101\u001b[0m         \u001b[0mcurr_time\u001b[0m \u001b[0;34m=\u001b[0m \u001b[0mrospy\u001b[0m\u001b[0;34m.\u001b[0m\u001b[0mrostime\u001b[0m\u001b[0;34m.\u001b[0m\u001b[0mget_rostime\u001b[0m\u001b[0;34m(\u001b[0m\u001b[0;34m)\u001b[0m\u001b[0;34m\u001b[0m\u001b[0;34m\u001b[0m\u001b[0m\n\u001b[1;32m    102\u001b[0m         \u001b[0;32mtry\u001b[0m\u001b[0;34m:\u001b[0m\u001b[0;34m\u001b[0m\u001b[0;34m\u001b[0m\u001b[0m\n\u001b[0;32m--> 103\u001b[0;31m             \u001b[0msleep\u001b[0m\u001b[0;34m(\u001b[0m\u001b[0mself\u001b[0m\u001b[0;34m.\u001b[0m\u001b[0m_remaining\u001b[0m\u001b[0;34m(\u001b[0m\u001b[0mcurr_time\u001b[0m\u001b[0;34m)\u001b[0m\u001b[0;34m)\u001b[0m\u001b[0;34m\u001b[0m\u001b[0;34m\u001b[0m\u001b[0m\n\u001b[0m\u001b[1;32m    104\u001b[0m         \u001b[0;32mexcept\u001b[0m \u001b[0mrospy\u001b[0m\u001b[0;34m.\u001b[0m\u001b[0mexceptions\u001b[0m\u001b[0;34m.\u001b[0m\u001b[0mROSTimeMovedBackwardsException\u001b[0m\u001b[0;34m:\u001b[0m\u001b[0;34m\u001b[0m\u001b[0;34m\u001b[0m\u001b[0m\n\u001b[1;32m    105\u001b[0m             \u001b[0;32mif\u001b[0m \u001b[0;32mnot\u001b[0m \u001b[0mself\u001b[0m\u001b[0;34m.\u001b[0m\u001b[0m_reset\u001b[0m\u001b[0;34m:\u001b[0m\u001b[0;34m\u001b[0m\u001b[0;34m\u001b[0m\u001b[0m\n",
      "\u001b[0;32m/opt/ros/noetic/lib/python3/dist-packages/rospy/timer.py\u001b[0m in \u001b[0;36msleep\u001b[0;34m(duration)\u001b[0m\n\u001b[1;32m    132\u001b[0m             \u001b[0;32mreturn\u001b[0m\u001b[0;34m\u001b[0m\u001b[0;34m\u001b[0m\u001b[0m\n\u001b[1;32m    133\u001b[0m         \u001b[0;32melse\u001b[0m\u001b[0;34m:\u001b[0m\u001b[0;34m\u001b[0m\u001b[0;34m\u001b[0m\u001b[0m\n\u001b[0;32m--> 134\u001b[0;31m             \u001b[0mrospy\u001b[0m\u001b[0;34m.\u001b[0m\u001b[0mrostime\u001b[0m\u001b[0;34m.\u001b[0m\u001b[0mwallsleep\u001b[0m\u001b[0;34m(\u001b[0m\u001b[0mduration\u001b[0m\u001b[0;34m)\u001b[0m\u001b[0;34m\u001b[0m\u001b[0;34m\u001b[0m\u001b[0m\n\u001b[0m\u001b[1;32m    135\u001b[0m     \u001b[0;32melse\u001b[0m\u001b[0;34m:\u001b[0m\u001b[0;34m\u001b[0m\u001b[0;34m\u001b[0m\u001b[0m\n\u001b[1;32m    136\u001b[0m         \u001b[0minitial_rostime\u001b[0m \u001b[0;34m=\u001b[0m \u001b[0mrospy\u001b[0m\u001b[0;34m.\u001b[0m\u001b[0mrostime\u001b[0m\u001b[0;34m.\u001b[0m\u001b[0mget_rostime\u001b[0m\u001b[0;34m(\u001b[0m\u001b[0;34m)\u001b[0m\u001b[0;34m\u001b[0m\u001b[0;34m\u001b[0m\u001b[0m\n",
      "\u001b[0;32m/opt/ros/noetic/lib/python3/dist-packages/rospy/rostime.py\u001b[0m in \u001b[0;36mwallsleep\u001b[0;34m(duration)\u001b[0m\n\u001b[1;32m    275\u001b[0m             \u001b[0;32mpass\u001b[0m\u001b[0;34m\u001b[0m\u001b[0;34m\u001b[0m\u001b[0m\n\u001b[1;32m    276\u001b[0m     \u001b[0;32melse\u001b[0m\u001b[0;34m:\u001b[0m\u001b[0;34m\u001b[0m\u001b[0;34m\u001b[0m\u001b[0m\n\u001b[0;32m--> 277\u001b[0;31m         \u001b[0mtime\u001b[0m\u001b[0;34m.\u001b[0m\u001b[0msleep\u001b[0m\u001b[0;34m(\u001b[0m\u001b[0mduration\u001b[0m\u001b[0;34m)\u001b[0m\u001b[0;34m\u001b[0m\u001b[0;34m\u001b[0m\u001b[0m\n\u001b[0m",
      "\u001b[0;31mKeyboardInterrupt\u001b[0m: "
     ]
    }
   ],
   "source": [
    "cobot.run_calibration_routine(file_name='/tmp/current_tool.npy', plot=True, figsize=(10, 10))"
   ]
  },
  {
   "cell_type": "markdown",
   "id": "about-enforcement",
   "metadata": {},
   "source": [
    "#### Shaft Grinder Control\n",
    "enable and disable grinder procedure"
   ]
  },
  {
   "cell_type": "code",
   "execution_count": 9,
   "id": "monthly-despite",
   "metadata": {},
   "outputs": [],
   "source": [
    "cobot.publish_rpm(7000)\n",
    "# cobot.enable_grinder()"
   ]
  },
  {
   "cell_type": "code",
   "execution_count": 10,
   "id": "acoustic-snowboard",
   "metadata": {},
   "outputs": [],
   "source": [
    "cobot.tool .enable_grinder()"
   ]
  },
  {
   "cell_type": "code",
   "execution_count": 11,
   "id": "secret-offset",
   "metadata": {},
   "outputs": [],
   "source": [
    "cobot.reset_tool()"
   ]
  },
  {
   "cell_type": "code",
   "execution_count": 7,
   "id": "quick-rough",
   "metadata": {},
   "outputs": [
    {
     "data": {
      "application/vnd.jupyter.widget-view+json": {
       "model_id": "9fc34ba407db4c40bff8770c382e1edf",
       "version_major": 2,
       "version_minor": 0
      },
      "text/plain": [
       "  0%|          | 0/20 [00:00<?, ?it/s]"
      ]
     },
     "metadata": {},
     "output_type": "display_data"
    }
   ],
   "source": [
    "for t in trange(20):\n",
    "    cobot.enable_grinder()\n",
    "    rospy.sleep(0.2)"
   ]
  },
  {
   "cell_type": "code",
   "execution_count": 12,
   "id": "according-trick",
   "metadata": {},
   "outputs": [],
   "source": [
    "cobot.disable_tool()"
   ]
  },
  {
   "cell_type": "markdown",
   "id": "blond-roads",
   "metadata": {},
   "source": [
    "#### Vacuum Control"
   ]
  },
  {
   "cell_type": "code",
   "execution_count": 12,
   "id": "hearing-revision",
   "metadata": {},
   "outputs": [
    {
     "data": {
      "application/vnd.jupyter.widget-view+json": {
       "model_id": "e19a2f9ed9864cfda33ca7288178879b",
       "version_major": 2,
       "version_minor": 0
      },
      "text/plain": [
       "  0%|          | 0/20 [00:00<?, ?it/s]"
      ]
     },
     "metadata": {},
     "output_type": "display_data"
    }
   ],
   "source": [
    "for t in trange(20):\n",
    "    cobot.enable_vacuum()\n",
    "    rospy.sleep(0.2)"
   ]
  },
  {
   "cell_type": "code",
   "execution_count": null,
   "id": "medical-shanghai",
   "metadata": {},
   "outputs": [],
   "source": [
    "cobot.disable_tool()"
   ]
  },
  {
   "cell_type": "code",
   "execution_count": null,
   "id": "premium-directive",
   "metadata": {},
   "outputs": [],
   "source": [
    "cobot.reset_tool()"
   ]
  },
  {
   "cell_type": "markdown",
   "id": "chronic-phase",
   "metadata": {},
   "source": [
    "#### Work with hrr_cobot_robot class\n",
    "check different position forms"
   ]
  },
  {
   "cell_type": "code",
   "execution_count": 9,
   "id": "confidential-pilot",
   "metadata": {},
   "outputs": [
    {
     "name": "stdout",
     "output_type": "stream",
     "text": [
      "q:\t\t[    1.02109    68.44272   -86.12142   -89.10544    90.36513 -2410.47627][°]\n",
      "q_dot:\t\t[0. 0. 0. 0. 0. 0.][rad/s]\n",
      "tau:\t\t[0. 0. 0. 0. 0. 0.][Nm]\n",
      "pos:\t\t[0.60502 0.06922 0.17382][m]\n",
      "quat:\t\t0.27054 <[-0.27016  0.65383  0.65294]>\n",
      "tool-pos:\t[0.60502 0.06922 0.17382][m]\n",
      "tool-rpy:\t[135.04379   0.05643 -90.05444][°]\n",
      "robot-status:\tready\n",
      "[0.60502 0.06922 0.17382]\n",
      "  \u001b[38;5;1m-0.707646   \u001b[0m\u001b[38;5;1m-0.706566   \u001b[0m\u001b[38;5;1m 0.000984772\u001b[0m\u001b[38;5;4m 0.605014   \u001b[0m  \u001b[0m\n",
      "  \u001b[38;5;1m 2.53283e-05\u001b[0m\u001b[38;5;1m 0.00136838 \u001b[0m\u001b[38;5;1m 0.999999   \u001b[0m\u001b[38;5;4m 0.069218   \u001b[0m  \u001b[0m\n",
      "  \u001b[38;5;1m-0.706567   \u001b[0m\u001b[38;5;1m 0.707646   \u001b[0m\u001b[38;5;1m-0.00095043 \u001b[0m\u001b[38;5;4m 0.173818   \u001b[0m  \u001b[0m\n",
      "  \u001b[38;5;244m 0          \u001b[0m\u001b[38;5;244m 0          \u001b[0m\u001b[38;5;244m 0          \u001b[0m\u001b[38;5;244m 1          \u001b[0m  \u001b[0m\n",
      "\n",
      "  \u001b[38;5;1m 1          \u001b[0m\u001b[38;5;1m 0          \u001b[0m\u001b[38;5;1m 0          \u001b[0m\u001b[38;5;4m 0.605016   \u001b[0m  \u001b[0m\n",
      "  \u001b[38;5;1m 0          \u001b[0m\u001b[38;5;1m 1          \u001b[0m\u001b[38;5;1m 0          \u001b[0m\u001b[38;5;4m 0.069218   \u001b[0m  \u001b[0m\n",
      "  \u001b[38;5;1m 0          \u001b[0m\u001b[38;5;1m 0          \u001b[0m\u001b[38;5;1m 1          \u001b[0m\u001b[38;5;4m 0.173819   \u001b[0m  \u001b[0m\n",
      "  \u001b[38;5;244m 0          \u001b[0m\u001b[38;5;244m 0          \u001b[0m\u001b[38;5;244m 0          \u001b[0m\u001b[38;5;244m 1          \u001b[0m  \u001b[0m\n",
      "\n",
      "[0.60502 0.06922 0.17382]\n"
     ]
    }
   ],
   "source": [
    "comau_status = hrr_rob.ComauRobotState.from_ros()\n",
    "print(comau_status)\n",
    "print(comau_status.pos)\n",
    "print(cobot.FK(cobot.q))\n",
    "print(sm.SE3(cobot.sns_pos))\n",
    "print(cobot.sns_pos)"
   ]
  },
  {
   "cell_type": "markdown",
   "id": "instructional-broadcasting",
   "metadata": {},
   "source": [
    "#### Spatial Math\n",
    "working with SM"
   ]
  },
  {
   "cell_type": "code",
   "execution_count": 24,
   "id": "necessary-flesh",
   "metadata": {},
   "outputs": [
    {
     "name": "stdout",
     "output_type": "stream",
     "text": [
      "[[1. 0. 0.]\n",
      " [0. 1. 0.]\n",
      " [0. 0. 1.]]\n"
     ]
    }
   ],
   "source": [
    "position1 = np.array([0.348, -0.035, 0.66047])\n",
    "print(sm.SE3(position1).A[:3,:3])"
   ]
  },
  {
   "cell_type": "code",
   "execution_count": null,
   "id": "selected-jurisdiction",
   "metadata": {},
   "outputs": [],
   "source": [
    "T = sm.SE3.Rz(45, 'deg')\n",
    "print(T)\n",
    "T1 = (T@cobot.FK(cobot.q))\n",
    "print(T1)\n",
    "T2 = sm.SE3.Rx(45,'deg')\n",
    "print(T2)\n",
    "T3 = T2@T1\n",
    "print(T3)"
   ]
  },
  {
   "cell_type": "code",
   "execution_count": 38,
   "id": "induced-optimum",
   "metadata": {},
   "outputs": [
    {
     "name": "stdout",
     "output_type": "stream",
     "text": [
      "  \u001b[38;5;1m 1          \u001b[0m\u001b[38;5;1m 0          \u001b[0m\u001b[38;5;1m 0          \u001b[0m\u001b[38;5;4m 0          \u001b[0m  \u001b[0m\n",
      "  \u001b[38;5;1m 0          \u001b[0m\u001b[38;5;1m 0          \u001b[0m\u001b[38;5;1m-1          \u001b[0m\u001b[38;5;4m-0.002      \u001b[0m  \u001b[0m\n",
      "  \u001b[38;5;1m 0          \u001b[0m\u001b[38;5;1m 1          \u001b[0m\u001b[38;5;1m 0          \u001b[0m\u001b[38;5;4m-0.001      \u001b[0m  \u001b[0m\n",
      "  \u001b[38;5;244m 0          \u001b[0m\u001b[38;5;244m 0          \u001b[0m\u001b[38;5;244m 0          \u001b[0m\u001b[38;5;244m 1          \u001b[0m  \u001b[0m\n",
      "\n"
     ]
    }
   ],
   "source": [
    "toolmatrix = sm.SE3(np.array([[1, 0, 0, 0],\n",
    "                       [0, 0, -1, -0.002],\n",
    "                       [0, 1, 0, -0.001],\n",
    "                       [0,0,0,1]]))\n",
    "print(toolmatrix)"
   ]
  },
  {
   "cell_type": "code",
   "execution_count": 13,
   "id": "aboriginal-position",
   "metadata": {},
   "outputs": [
    {
     "name": "stdout",
     "output_type": "stream",
     "text": [
      "  \u001b[38;5;1m 1          \u001b[0m\u001b[38;5;1m 0          \u001b[0m\u001b[38;5;1m 0          \u001b[0m\u001b[38;5;4m 0          \u001b[0m  \u001b[0m\n",
      "  \u001b[38;5;1m 0          \u001b[0m\u001b[38;5;1m 0          \u001b[0m\u001b[38;5;1m-1          \u001b[0m\u001b[38;5;4m 0          \u001b[0m  \u001b[0m\n",
      "  \u001b[38;5;1m 0          \u001b[0m\u001b[38;5;1m 1          \u001b[0m\u001b[38;5;1m 0          \u001b[0m\u001b[38;5;4m 0          \u001b[0m  \u001b[0m\n",
      "  \u001b[38;5;244m 0          \u001b[0m\u001b[38;5;244m 0          \u001b[0m\u001b[38;5;244m 0          \u001b[0m\u001b[38;5;244m 1          \u001b[0m  \u001b[0m\n",
      "\n",
      "  \u001b[38;5;1m-0.998348   \u001b[0m\u001b[38;5;1m-0.0571615  \u001b[0m\u001b[38;5;1m-0.00583575 \u001b[0m\u001b[38;5;4m 0.43552    \u001b[0m  \u001b[0m\n",
      "  \u001b[38;5;1m-0.0542935  \u001b[0m\u001b[38;5;1m 0.905233   \u001b[0m\u001b[38;5;1m 0.421433   \u001b[0m\u001b[38;5;4m 0.0212582  \u001b[0m  \u001b[0m\n",
      "  \u001b[38;5;1m-0.018807   \u001b[0m\u001b[38;5;1m 0.421053   \u001b[0m\u001b[38;5;1m-0.906841   \u001b[0m\u001b[38;5;4m 0.545793   \u001b[0m  \u001b[0m\n",
      "  \u001b[38;5;244m 0          \u001b[0m\u001b[38;5;244m 0          \u001b[0m\u001b[38;5;244m 0          \u001b[0m\u001b[38;5;244m 1          \u001b[0m  \u001b[0m\n",
      "\n",
      "  \u001b[38;5;1m-0.998348   \u001b[0m\u001b[38;5;1m-0.0571615  \u001b[0m\u001b[38;5;1m-0.00583575 \u001b[0m\u001b[38;5;4m 0.43552    \u001b[0m  \u001b[0m\n",
      "  \u001b[38;5;1m 0.018807   \u001b[0m\u001b[38;5;1m-0.421053   \u001b[0m\u001b[38;5;1m 0.906841   \u001b[0m\u001b[38;5;4m-0.545793   \u001b[0m  \u001b[0m\n",
      "  \u001b[38;5;1m-0.0542935  \u001b[0m\u001b[38;5;1m 0.905233   \u001b[0m\u001b[38;5;1m 0.421433   \u001b[0m\u001b[38;5;4m 0.0212582  \u001b[0m  \u001b[0m\n",
      "  \u001b[38;5;244m 0          \u001b[0m\u001b[38;5;244m 0          \u001b[0m\u001b[38;5;244m 0          \u001b[0m\u001b[38;5;244m 1          \u001b[0m  \u001b[0m\n",
      "\n",
      "  \u001b[38;5;1m-0.998348   \u001b[0m\u001b[38;5;1m-0.0571615  \u001b[0m\u001b[38;5;1m-0.00583575 \u001b[0m\u001b[38;5;4m 0.43552    \u001b[0m  \u001b[0m\n",
      "  \u001b[38;5;1m 0.018807   \u001b[0m\u001b[38;5;1m-0.421053   \u001b[0m\u001b[38;5;1m 0.906841   \u001b[0m\u001b[38;5;4m-0.545793   \u001b[0m  \u001b[0m\n",
      "  \u001b[38;5;1m-0.0542935  \u001b[0m\u001b[38;5;1m 0.905233   \u001b[0m\u001b[38;5;1m 0.421433   \u001b[0m\u001b[38;5;4m 0.0212582  \u001b[0m  \u001b[0m\n",
      "  \u001b[38;5;244m 0          \u001b[0m\u001b[38;5;244m 0          \u001b[0m\u001b[38;5;244m 0          \u001b[0m\u001b[38;5;244m 1          \u001b[0m  \u001b[0m\n",
      "\n"
     ]
    }
   ],
   "source": [
    "newpos1 = toolmatrix @ cobot.FK(cobot.q)\n",
    "print(newpos1)"
   ]
  },
  {
   "cell_type": "markdown",
   "id": "great-backing",
   "metadata": {},
   "source": [
    "#### Matrix Calculations without SM\n",
    "working without SM"
   ]
  },
  {
   "cell_type": "code",
   "execution_count": 22,
   "id": "varied-glenn",
   "metadata": {},
   "outputs": [
    {
     "name": "stdout",
     "output_type": "stream",
     "text": [
      "[[-0.61  -0.61   0.5    0.43 ]\n",
      " [-0.32  -0.388 -0.864  0.133]\n",
      " [ 0.717 -0.7    0.04   0.77 ]\n",
      " [ 0.     0.     0.     1.   ]]\n",
      "[[-1.    -0.07   0.02   0.43 ]\n",
      " [ 0.     0.45   0.89  -0.247]\n",
      " [-0.06   0.88  -0.45   0.481]\n",
      " [ 0.     0.     0.     1.   ]]\n",
      "[[ 0.6539   0.17712 -0.73174  0.54454]\n",
      " [ 0.31598 -0.94403  0.06697 -0.26826]\n",
      " [-0.67505 -0.29338 -0.69913  1.32409]\n",
      " [ 0.       0.       0.       1.     ]]\n",
      "[[-0.61  -0.61   0.5    0.43 ]\n",
      " [-0.32  -0.388 -0.864  0.133]\n",
      " [ 0.717 -0.7    0.04   0.77 ]\n",
      " [ 0.     0.     0.     1.   ]]\n"
     ]
    }
   ],
   "source": [
    "C = np.array([[-0.61, -0.61, 0.5, 0.43],\n",
    "             [-0.32, -0.388, -0.864, 0.133],\n",
    "             [ 0.717, -0.7, 0.04, 0.77],\n",
    "             [0, 0, 0, 1]])\n",
    "print(C)\n",
    "B = np.array([[-1, -0.07, 0.02, 0.43],\n",
    "              [0, 0.45, 0.89, -0.247],\n",
    "              [-0.06, 0.88, -0.45, 0.481],\n",
    "              [0, 0, 0, 1]])\n",
    "print(B)\n",
    "A = C @ np.linalg.inv(B)\n",
    "print(A)\n",
    "\n",
    "print(A@B)"
   ]
  },
  {
   "cell_type": "markdown",
   "id": "aerial-center",
   "metadata": {},
   "source": [
    "#### Optional: Activate Needed Controllers"
   ]
  },
  {
   "cell_type": "code",
   "execution_count": null,
   "id": "formed-indication",
   "metadata": {},
   "outputs": [],
   "source": [
    "cobot.init_sns_vel()"
   ]
  },
  {
   "cell_type": "code",
   "execution_count": null,
   "id": "educated-latin",
   "metadata": {},
   "outputs": [],
   "source": [
    "sns_trk_vel_cmd = hrr_rob.SnsTrkCmd.from_ros()\n",
    "sns_trk_vel_cmd.list_controllers()"
   ]
  },
  {
   "cell_type": "markdown",
   "id": "steady-runner",
   "metadata": {},
   "source": [
    "#### Optional: Check Robot Status again\n",
    "if not working for example"
   ]
  },
  {
   "cell_type": "code",
   "execution_count": 185,
   "id": "fitted-newark",
   "metadata": {},
   "outputs": [
    {
     "name": "stdout",
     "output_type": "stream",
     "text": [
      "Hrr-Cobot state:\n",
      "command-state:\t cart_servo\n",
      "FT-data:\n",
      "current force:\t[ -2.15881 -21.89795  18.24609] [N]\n",
      "current torque:\t[ 3.82538 -1.56372 -2.12097] [Nm]\n",
      "current wrench:\t[ -2.11093 -21.89827  18.23526   3.84715  -1.55118  -2.11185] [N,Nm]\n",
      "=>in contact:\tTrue\n",
      "---\n",
      "Robot-data:\n",
      "q:\t\t[   -4.63849    36.42405  -112.34628    -0.09231    31.17376 -1084.61197][°]\n",
      "q_dot:\t\t[0. 0. 0. 0. 0. 0.][rad/s]\n",
      "tau:\t\t[0. 0. 0. 0. 0. 0.][Nm]\n",
      "pos:\t\t[0.51094 0.04152 0.27863][m]\n",
      "quat:\t\t0.00044 <[0.00046 1.      0.00044]>\n",
      "tool-pos:\t[0.51094 0.04152 0.27863][m]\n",
      "tool-rpy:\t[-179.94759    0.05031 -179.94943][°]\n",
      "robot-status:\tready\n",
      "---\u001b[01m\u001b[31m ROBOT needs reset!\u001b[0m\n",
      "---\n",
      "[ 0.      0.     -1.5708  0.      1.5708  0.    ]\n",
      "[0.51094 0.04152 0.27863]\n"
     ]
    }
   ],
   "source": [
    "print(cobot)\n",
    "print(cobot.q_calib)\n",
    "print(cobot.sns_pos)"
   ]
  },
  {
   "cell_type": "markdown",
   "id": "executive-jefferson",
   "metadata": {},
   "source": [
    "#### Move to Calib Pose\n",
    "implements goTo(cobot.FK(cobot.q_calib))"
   ]
  },
  {
   "cell_type": "code",
   "execution_count": 33,
   "id": "collect-complexity",
   "metadata": {},
   "outputs": [
    {
     "name": "stderr",
     "output_type": "stream",
     "text": [
      "[WARN] [1644939416.698723]: no calibration pose set for current tool shaft_grinder\n",
      "[WARN] [1644939416.702734]: there is no check against calibration pose for the shaft grinder, use with care\n"
     ]
    },
    {
     "data": {
      "text/plain": [
       "True"
      ]
     },
     "execution_count": 33,
     "metadata": {},
     "output_type": "execute_result"
    }
   ],
   "source": [
    "cobot.move_to_calibration_pose()"
   ]
  },
  {
   "cell_type": "markdown",
   "id": "designed-challenge",
   "metadata": {},
   "source": [
    "#### GoTo command \n",
    "includes move_to command but has less input parameters "
   ]
  },
  {
   "cell_type": "code",
   "execution_count": 34,
   "id": "prescribed-johns",
   "metadata": {},
   "outputs": [],
   "source": [
    "cobot.goTo(cobot.FK(cobot.q_calib))"
   ]
  },
  {
   "cell_type": "code",
   "execution_count": 8,
   "id": "e98bec81",
   "metadata": {},
   "outputs": [
    {
     "name": "stdout",
     "output_type": "stream",
     "text": [
      "[0.06682 0.06682 0.1555 ]\n",
      "  \u001b[38;5;1m-0.707107   \u001b[0m\u001b[38;5;1m 0          \u001b[0m\u001b[38;5;1m 0.707107   \u001b[0m\u001b[38;5;4m 0.455      \u001b[0m  \u001b[0m\n",
      "  \u001b[38;5;1m 0.707107   \u001b[0m\u001b[38;5;1m 0          \u001b[0m\u001b[38;5;1m 0.707107   \u001b[0m\u001b[38;5;4m 0.04829    \u001b[0m  \u001b[0m\n",
      "  \u001b[38;5;1m 0          \u001b[0m\u001b[38;5;1m 1          \u001b[0m\u001b[38;5;1m 0          \u001b[0m\u001b[38;5;4m 0.65335    \u001b[0m  \u001b[0m\n",
      "  \u001b[38;5;244m 0          \u001b[0m\u001b[38;5;244m 0          \u001b[0m\u001b[38;5;244m 0          \u001b[0m\u001b[38;5;244m 1          \u001b[0m  \u001b[0m\n",
      "\n"
     ]
    }
   ],
   "source": [
    "p, q = cobot._tf.T_A_B('hrr_cobot.ee_link', 'hrr_cobot.shaftgrinder_tip')\n",
    "T_B_tool = sm.SE3(*p)\n",
    "T_B_tool.A[:3, :3] = quaternion.as_rotation_matrix(q)\n",
    "T_B_tool.A[:,3]= [0.455, 0.04829, 0.65335, 1]\n",
    "new = T_B_tool #@ Rz\n",
    "print(p)\n",
    "print(new)"
   ]
  },
  {
   "cell_type": "code",
   "execution_count": 7,
   "id": "395baaba",
   "metadata": {},
   "outputs": [
    {
     "ename": "ValueError",
     "evalue": "matmul: Input operand 1 has a mismatch in its core dimension 0, with gufunc signature (n?,k),(k,m?)->(n?,m?) (size 4 is different from 1)",
     "output_type": "error",
     "traceback": [
      "\u001b[0;31m---------------------------------------------------------------------------\u001b[0m",
      "\u001b[0;31mValueError\u001b[0m                                Traceback (most recent call last)",
      "\u001b[0;32m<ipython-input-7-8839dc8ed938>\u001b[0m in \u001b[0;36m<module>\u001b[0;34m\u001b[0m\n\u001b[1;32m      7\u001b[0m \u001b[0mT_B_tool\u001b[0m\u001b[0;34m.\u001b[0m\u001b[0mA\u001b[0m\u001b[0;34m[\u001b[0m\u001b[0;34m:\u001b[0m\u001b[0;36m3\u001b[0m\u001b[0;34m,\u001b[0m \u001b[0;34m:\u001b[0m\u001b[0;36m3\u001b[0m\u001b[0;34m]\u001b[0m \u001b[0;34m=\u001b[0m \u001b[0mquaternion\u001b[0m\u001b[0;34m.\u001b[0m\u001b[0mas_rotation_matrix\u001b[0m\u001b[0;34m(\u001b[0m\u001b[0mq\u001b[0m\u001b[0;34m)\u001b[0m\u001b[0;34m\u001b[0m\u001b[0;34m\u001b[0m\u001b[0m\n\u001b[1;32m      8\u001b[0m \u001b[0mT_B_tool\u001b[0m\u001b[0;34m.\u001b[0m\u001b[0mA\u001b[0m\u001b[0;34m[\u001b[0m\u001b[0;34m:\u001b[0m\u001b[0;34m,\u001b[0m\u001b[0;36m3\u001b[0m\u001b[0;34m]\u001b[0m\u001b[0;34m=\u001b[0m \u001b[0;34m[\u001b[0m\u001b[0;36m0.455\u001b[0m\u001b[0;34m,\u001b[0m \u001b[0;36m0.04829\u001b[0m\u001b[0;34m,\u001b[0m \u001b[0;36m0.65335\u001b[0m\u001b[0;34m,\u001b[0m \u001b[0;36m1\u001b[0m\u001b[0;34m]\u001b[0m\u001b[0;34m\u001b[0m\u001b[0;34m\u001b[0m\u001b[0m\n\u001b[0;32m----> 9\u001b[0;31m \u001b[0mnew\u001b[0m \u001b[0;34m=\u001b[0m \u001b[0mnp\u001b[0m\u001b[0;34m.\u001b[0m\u001b[0marray\u001b[0m\u001b[0;34m(\u001b[0m\u001b[0mT_B_tool\u001b[0m\u001b[0;34m)\u001b[0m \u001b[0;34m@\u001b[0m \u001b[0mRz\u001b[0m\u001b[0;34m\u001b[0m\u001b[0;34m\u001b[0m\u001b[0m\n\u001b[0m\u001b[1;32m     10\u001b[0m \u001b[0mprint\u001b[0m\u001b[0;34m(\u001b[0m\u001b[0mp\u001b[0m\u001b[0;34m)\u001b[0m\u001b[0;34m\u001b[0m\u001b[0;34m\u001b[0m\u001b[0m\n\u001b[1;32m     11\u001b[0m \u001b[0mprint\u001b[0m\u001b[0;34m(\u001b[0m\u001b[0mnew\u001b[0m\u001b[0;34m)\u001b[0m\u001b[0;34m\u001b[0m\u001b[0;34m\u001b[0m\u001b[0m\n",
      "\u001b[0;31mValueError\u001b[0m: matmul: Input operand 1 has a mismatch in its core dimension 0, with gufunc signature (n?,k),(k,m?)->(n?,m?) (size 4 is different from 1)"
     ]
    }
   ],
   "source": [
    "Rz = np.array([[0, -1, 0, 0],\n",
    "                [1, 0, 0, 0],\n",
    "                [0, 0, 1, 0],\n",
    "                [0,0,0,1]])\n",
    "p, q = cobot._tf.T_A_B('hrr_cobot.shaftgrinder_tip', 'hrr_cobot.ee_link')\n",
    "T_B_tool = sm.SE3(*p)\n",
    "T_B_tool.A[:3, :3] = quaternion.as_rotation_matrix(q)\n",
    "T_B_tool.A[:,3]= [0.455, 0.04829, 0.65335, 1]\n",
    "new = np.array(T_B_tool) @ Rz\n",
    "print(p)\n",
    "print(new)"
   ]
  },
  {
   "cell_type": "markdown",
   "id": "entitled-development",
   "metadata": {},
   "source": [
    "#### MoveTo Command\n",
    "1. set pose and velocities etc.\n",
    "2. execute MoveTo"
   ]
  },
  {
   "cell_type": "code",
   "execution_count": 9,
   "id": "accurate-credit",
   "metadata": {},
   "outputs": [
    {
     "name": "stderr",
     "output_type": "stream",
     "text": [
      "[ERROR] [1646152551.166354]: could not reach motion planner. Use linear interpolation instead\n"
     ]
    }
   ],
   "source": [
    "cobot.move_to_pose(Shaftgrinder_tf1,v_max=0.02,rot_max=0.05)"
   ]
  },
  {
   "cell_type": "code",
   "execution_count": 10,
   "id": "sensitive-nutrition",
   "metadata": {},
   "outputs": [
    {
     "data": {
      "application/vnd.jupyter.widget-view+json": {
       "model_id": "27f3e2d4bc82422783996564cdea6c12",
       "version_major": 2,
       "version_minor": 0
      },
      "text/plain": [
       "  0%|          | 0/5000 [00:00<?, ?it/s]"
      ]
     },
     "metadata": {},
     "output_type": "display_data"
    },
    {
     "name": "stdout",
     "output_type": "stream",
     "text": [
      "[INFO] [1646152564.995430]: reached goal pose at step 1239 / 5000\n"
     ]
    }
   ],
   "source": [
    "# commented for safety reasons -> outcomment for testing\n",
    "T = int(50 * cobot.hz)\n",
    "for t in trange(T):\n",
    "    if cobot.state is None:\n",
    "        rospy.loginfo(f\"reached goal pose at step {t + 1} / {T}\")\n",
    "        break\n",
    "    elif cobot.state == \"error\":\n",
    "        rospy.logerror(f\"robot in ERROR state\")\n",
    "    cobot.update()"
   ]
  },
  {
   "cell_type": "code",
   "execution_count": 8,
   "id": "afbdf0de",
   "metadata": {},
   "outputs": [],
   "source": [
    "Shaftgrinder_tf = np.array([[-0.707107, 0.707107, 0., 0.455498],\n",
    "                            [0, 0, 1, 0.0482934],\n",
    "                            [0.707107, 0.707107, 0, 0.653348],\n",
    "                            [0, 0, 0, 1]])\n",
    "Shaftgrinder_tf1 = Shaftgrinder_tf @ Rz @ Rz"
   ]
  },
  {
   "cell_type": "code",
   "execution_count": 45,
   "id": "becoming-lambda",
   "metadata": {},
   "outputs": [
    {
     "name": "stdout",
     "output_type": "stream",
     "text": [
      "[[-0.43992 -0.43973  0.78301 -0.06751]\n",
      " [ 0.5527   0.55465  0.62201 -0.38912]\n",
      " [-0.70781  0.7064   0.       0.02639]\n",
      " [ 0.       0.       0.       1.     ]]\n",
      "[[-1.       0.       0.       0.43642]\n",
      " [ 0.       1.       0.       0.     ]\n",
      " [ 0.       0.      -1.       0.70451]\n",
      " [ 0.       0.       0.       1.     ]]\n",
      "  \u001b[38;5;1m-0.999999   \u001b[0m\u001b[38;5;1m 0.00095575 \u001b[0m\u001b[38;5;1m 0.000961403\u001b[0m\u001b[38;5;4m 0.435939   \u001b[0m  \u001b[0m\n",
      "  \u001b[38;5;1m 0.000956678\u001b[0m\u001b[38;5;1m 0.999999   \u001b[0m\u001b[38;5;1m 0.000965388\u001b[0m\u001b[38;5;4m-0.000468488\u001b[0m  \u001b[0m\n",
      "  \u001b[38;5;1m-0.00096048 \u001b[0m\u001b[38;5;1m 0.000966307\u001b[0m\u001b[38;5;1m-0.999999   \u001b[0m\u001b[38;5;4m 0.704517   \u001b[0m  \u001b[0m\n",
      "  \u001b[38;5;244m 0          \u001b[0m\u001b[38;5;244m 0          \u001b[0m\u001b[38;5;244m 0          \u001b[0m\u001b[38;5;244m 1          \u001b[0m  \u001b[0m\n",
      "\n",
      "[[ 0.43992 -0.43973 -0.78301  0.29215]\n",
      " [-0.5527   0.55465 -0.62201  0.2903 ]\n",
      " [ 0.70781  0.7064   0.      -0.28251]\n",
      " [ 0.       0.       0.       1.     ]]\n",
      "[[-0.43992 -0.43973  0.78301  0.55597]\n",
      " [ 0.5527   0.55465  0.62201 -0.15123]\n",
      " [-0.70781  0.7064   0.       0.18   ]\n",
      " [ 0.       0.       0.       1.     ]]\n",
      "[[-0.43992 -0.43973  0.78301  0.53249]\n",
      " [ 0.5527   0.55465  0.62201 -0.15912]\n",
      " [-0.70781  0.7064   0.       0.18639]\n",
      " [ 0.       0.       0.       1.     ]]\n",
      "[[-0.43992 -0.43973  0.78301  0.4    ]\n",
      " [ 0.5527   0.55465  0.62201  0.     ]\n",
      " [-0.70781  0.7064   0.       0.7    ]\n",
      " [ 0.       0.       0.       1.     ]]\n"
     ]
    }
   ],
   "source": [
    "B=(A@Calib_Pose)\n",
    "print(B)\n",
    "print(Calib_Pose)\n",
    "print(cobot.FK(cobot.q))\n",
    "print(A)\n",
    "print(Alt_TF)\n",
    "deltacoord = np.array([[1, 0, 0, 0.6],\n",
    "                       [0, 1, 0, 0.23],\n",
    "                       [0, 0, 1, 0.16],\n",
    "                       [0,0,0,1]])\n",
    "print(deltacoord@B)\n",
    "B[:,3]=[0.4, 0, 0.70, 1]\n",
    "print(B)\n",
    "\n",
    "deltacoord = np.array([[1, 0, 0, -0.117],\n",
    "                       [0, 1, 0, 0.136],\n",
    "                       [0, 0, 1, -0.072],\n",
    "                       [0,0,0,1]])"
   ]
  },
  {
   "cell_type": "code",
   "execution_count": 79,
   "id": "mounted-criterion",
   "metadata": {},
   "outputs": [
    {
     "name": "stdout",
     "output_type": "stream",
     "text": [
      "[[-0.43992 -0.43973  0.78301]\n",
      " [ 0.5527   0.55465  0.62201]\n",
      " [-0.70781  0.7064   0.     ]]\n",
      "[[-1.       0.       0.       0.43642]\n",
      " [ 0.       1.       0.       0.     ]\n",
      " [ 0.       0.      -1.       0.70451]\n",
      " [ 0.       0.       0.       1.     ]]\n",
      "  \u001b[38;5;1m-0.725919   \u001b[0m\u001b[38;5;1m 0.0709146  \u001b[0m\u001b[38;5;1m 0.684114   \u001b[0m\u001b[38;5;4m 0.400476   \u001b[0m  \u001b[0m\n",
      "  \u001b[38;5;1m 0.567556   \u001b[0m\u001b[38;5;1m 0.623594   \u001b[0m\u001b[38;5;1m 0.537597   \u001b[0m\u001b[38;5;4m-0.000469061\u001b[0m  \u001b[0m\n",
      "  \u001b[38;5;1m-0.388486   \u001b[0m\u001b[38;5;1m 0.778525   \u001b[0m\u001b[38;5;1m-0.492927   \u001b[0m\u001b[38;5;4m 0.700475   \u001b[0m  \u001b[0m\n",
      "  \u001b[38;5;244m 0          \u001b[0m\u001b[38;5;244m 0          \u001b[0m\u001b[38;5;244m 0          \u001b[0m\u001b[38;5;244m 1          \u001b[0m  \u001b[0m\n",
      "\n",
      "[[ 0.43992 -0.43973 -0.78301  0.29215]\n",
      " [-0.5527   0.55465 -0.62201  0.2903 ]\n",
      " [ 0.70781  0.7064   0.      -0.28251]\n",
      " [ 0.       0.       0.       1.     ]]\n",
      "[[-0.43992 -0.43973  0.78301  0.55597]\n",
      " [ 0.5527   0.55465  0.62201 -0.15123]\n",
      " [-0.70781  0.7064   0.       0.18   ]\n",
      " [ 0.       0.       0.       1.     ]]\n"
     ]
    },
    {
     "ename": "ValueError",
     "evalue": "all the input array dimensions for the concatenation axis must match exactly, but along dimension 0, the array at index 0 has size 4 and the array at index 1 has size 1",
     "output_type": "error",
     "traceback": [
      "\u001b[0;31m---------------------------------------------------------------------------\u001b[0m",
      "\u001b[0;31mValueError\u001b[0m                                Traceback (most recent call last)",
      "\u001b[0;32m<ipython-input-79-ec011d4cd1cc>\u001b[0m in \u001b[0;36m<module>\u001b[0;34m\u001b[0m\n\u001b[1;32m     13\u001b[0m \u001b[0mv\u001b[0m \u001b[0;34m=\u001b[0m \u001b[0;34m[\u001b[0m\u001b[0;36m1\u001b[0m\u001b[0;34m,\u001b[0m\u001b[0;36m2\u001b[0m\u001b[0;34m,\u001b[0m\u001b[0;36m3\u001b[0m\u001b[0;34m,\u001b[0m\u001b[0;36m4\u001b[0m\u001b[0;34m]\u001b[0m\u001b[0;34m\u001b[0m\u001b[0;34m\u001b[0m\u001b[0m\n\u001b[1;32m     14\u001b[0m \u001b[0mB\u001b[0m \u001b[0;34m=\u001b[0m \u001b[0mnp\u001b[0m\u001b[0;34m.\u001b[0m\u001b[0mr_\u001b[0m\u001b[0;34m[\u001b[0m\u001b[0mB\u001b[0m\u001b[0;34m,\u001b[0m\u001b[0;34m[\u001b[0m\u001b[0mvb\u001b[0m\u001b[0;34m]\u001b[0m\u001b[0;34m]\u001b[0m\u001b[0;34m\u001b[0m\u001b[0;34m\u001b[0m\u001b[0m\n\u001b[0;32m---> 15\u001b[0;31m \u001b[0mB\u001b[0m \u001b[0;34m=\u001b[0m \u001b[0mnp\u001b[0m\u001b[0;34m.\u001b[0m\u001b[0mc_\u001b[0m\u001b[0;34m[\u001b[0m\u001b[0mB\u001b[0m\u001b[0;34m,\u001b[0m\u001b[0;34m[\u001b[0m\u001b[0mv\u001b[0m\u001b[0;34m]\u001b[0m\u001b[0;34m]\u001b[0m\u001b[0;34m\u001b[0m\u001b[0;34m\u001b[0m\u001b[0m\n\u001b[0m\u001b[1;32m     16\u001b[0m \u001b[0;31m#B = np.c_[B, [np.transpose(v)]]\u001b[0m\u001b[0;34m\u001b[0m\u001b[0;34m\u001b[0m\u001b[0;34m\u001b[0m\u001b[0m\n\u001b[1;32m     17\u001b[0m \u001b[0;31m#B = np.hstack([B,[vb]])\u001b[0m\u001b[0;34m\u001b[0m\u001b[0;34m\u001b[0m\u001b[0;34m\u001b[0m\u001b[0m\n",
      "\u001b[0;32m~/anaconda3/envs/hrr/lib/python3.8/site-packages/numpy/lib/index_tricks.py\u001b[0m in \u001b[0;36m__getitem__\u001b[0;34m(self, key)\u001b[0m\n\u001b[1;32m    404\u001b[0m                 \u001b[0mobjs\u001b[0m\u001b[0;34m[\u001b[0m\u001b[0mk\u001b[0m\u001b[0;34m]\u001b[0m \u001b[0;34m=\u001b[0m \u001b[0mobjs\u001b[0m\u001b[0;34m[\u001b[0m\u001b[0mk\u001b[0m\u001b[0;34m]\u001b[0m\u001b[0;34m.\u001b[0m\u001b[0mastype\u001b[0m\u001b[0;34m(\u001b[0m\u001b[0mfinal_dtype\u001b[0m\u001b[0;34m)\u001b[0m\u001b[0;34m\u001b[0m\u001b[0;34m\u001b[0m\u001b[0m\n\u001b[1;32m    405\u001b[0m \u001b[0;34m\u001b[0m\u001b[0m\n\u001b[0;32m--> 406\u001b[0;31m         \u001b[0mres\u001b[0m \u001b[0;34m=\u001b[0m \u001b[0mself\u001b[0m\u001b[0;34m.\u001b[0m\u001b[0mconcatenate\u001b[0m\u001b[0;34m(\u001b[0m\u001b[0mtuple\u001b[0m\u001b[0;34m(\u001b[0m\u001b[0mobjs\u001b[0m\u001b[0;34m)\u001b[0m\u001b[0;34m,\u001b[0m \u001b[0maxis\u001b[0m\u001b[0;34m=\u001b[0m\u001b[0maxis\u001b[0m\u001b[0;34m)\u001b[0m\u001b[0;34m\u001b[0m\u001b[0;34m\u001b[0m\u001b[0m\n\u001b[0m\u001b[1;32m    407\u001b[0m \u001b[0;34m\u001b[0m\u001b[0m\n\u001b[1;32m    408\u001b[0m         \u001b[0;32mif\u001b[0m \u001b[0mmatrix\u001b[0m\u001b[0;34m:\u001b[0m\u001b[0;34m\u001b[0m\u001b[0;34m\u001b[0m\u001b[0m\n",
      "\u001b[0;32m<__array_function__ internals>\u001b[0m in \u001b[0;36mconcatenate\u001b[0;34m(*args, **kwargs)\u001b[0m\n",
      "\u001b[0;31mValueError\u001b[0m: all the input array dimensions for the concatenation axis must match exactly, but along dimension 0, the array at index 0 has size 4 and the array at index 1 has size 1"
     ]
    }
   ],
   "source": [
    "B=(A[0:3,0:3]@Calib_Pose[0:3,0:3])\n",
    "print(B)\n",
    "print(Calib_Pose)\n",
    "print(cobot.FK(cobot.q))\n",
    "print(A)\n",
    "print(Alt_TF)\n",
    "deltacoord = np.array([[1, 0, 0, 0.6],\n",
    "                       [0, 1, 0, 0.23],\n",
    "                       [0, 0, 1, 0.16],\n",
    "                       [0,0,0,1]])\n",
    "v=Calib_Pose[:,3]+[-0.117, 0.136, -0.702,0]\n",
    "vb=[0,0,0]\n",
    "v = [1,2,3,4]\n",
    "B = np.r_[B,[vb]]\n",
    "B = np.c_[B,[v]]\n",
    "#B = np.c_[B, [np.transpose(v)]]\n",
    "#B = np.hstack([B,[vb]])\n",
    "#B = np.vstack([B, [v]])\n",
    "\n",
    "print(B)\n",
    "\n",
    "deltacoord = np.array([[1, 0, 0, -0.117],\n",
    "                       [0, 1, 0, 0.136],\n",
    "                       [0, 0, 1, -0.072],\n",
    "                       [0,0,0,1]])\n",
    "print(np.transpose(v))"
   ]
  },
  {
   "cell_type": "markdown",
   "id": "provincial-intersection",
   "metadata": {},
   "source": [
    "#### Set Transformation Matrix for Shaftgrinder"
   ]
  },
  {
   "cell_type": "code",
   "execution_count": 39,
   "id": "delayed-ceremony",
   "metadata": {},
   "outputs": [
    {
     "name": "stdout",
     "output_type": "stream",
     "text": [
      "  \u001b[38;5;1m-0.999839   \u001b[0m\u001b[38;5;1m 0.000398775\u001b[0m\u001b[38;5;1m 0.0179324  \u001b[0m\u001b[38;5;4m 0.58984    \u001b[0m  \u001b[0m\n",
      "  \u001b[38;5;1m 0.00024307 \u001b[0m\u001b[38;5;1m 0.999962   \u001b[0m\u001b[38;5;1m-0.0086842  \u001b[0m\u001b[38;5;4m-0.0994496  \u001b[0m  \u001b[0m\n",
      "  \u001b[38;5;1m-0.0179352  \u001b[0m\u001b[38;5;1m-0.00867845 \u001b[0m\u001b[38;5;1m-0.999801   \u001b[0m\u001b[38;5;4m 0.57869    \u001b[0m  \u001b[0m\n",
      "  \u001b[38;5;244m 0          \u001b[0m\u001b[38;5;244m 0          \u001b[0m\u001b[38;5;244m 0          \u001b[0m\u001b[38;5;244m 1          \u001b[0m  \u001b[0m\n",
      "\n",
      "[[-0.70711  0.70711  0.23854  0.4555 ]\n",
      " [ 0.       0.       1.       0.04829]\n",
      " [ 0.70711  0.70711  0.       0.65335]\n",
      " [ 0.       0.       0.       1.     ]]\n"
     ]
    }
   ],
   "source": [
    "print(cobot.FK(cobot.q))\n",
    "\n",
    "# Shaftgrinder_tf = np.array([[-0.707107, -0.707107, 0.238541, 0.455498],\n",
    "#                        [0, 0, 1, 0.0482934],\n",
    "#                        [-0.707107, 0.707107, 0, 0.653348],\n",
    "#                        [0,0,0,1]])\n",
    "\n",
    "Shaftgrinder_tf_1 = np.array([[-0.707107, 0.707107, 0.238541, 0.455498],\n",
    "                            [0, 0, 1, 0.0482934],\n",
    "                            [0.707107, 0.707107, 0, 0.653348],\n",
    "                            [0, 0, 0, 1]])\n",
    "print(Shaftgrinder_tf_1)"
   ]
  },
  {
   "cell_type": "code",
   "execution_count": 10,
   "id": "05a871a8",
   "metadata": {},
   "outputs": [
    {
     "name": "stdout",
     "output_type": "stream",
     "text": [
      "  \u001b[38;5;1m-1          \u001b[0m\u001b[38;5;1m 0          \u001b[0m\u001b[38;5;1m 0          \u001b[0m\u001b[38;5;4m 0          \u001b[0m  \u001b[0m\n",
      "  \u001b[38;5;1m 0          \u001b[0m\u001b[38;5;1m-1          \u001b[0m\u001b[38;5;1m 0          \u001b[0m\u001b[38;5;4m 0          \u001b[0m  \u001b[0m\n",
      "  \u001b[38;5;1m 0          \u001b[0m\u001b[38;5;1m 0          \u001b[0m\u001b[38;5;1m 1          \u001b[0m\u001b[38;5;4m 0          \u001b[0m  \u001b[0m\n",
      "  \u001b[38;5;244m 0          \u001b[0m\u001b[38;5;244m 0          \u001b[0m\u001b[38;5;244m 0          \u001b[0m\u001b[38;5;244m 1          \u001b[0m  \u001b[0m\n",
      "\n",
      "[[ 0.26864 -0.55951  0.78408  0.50352]\n",
      " [-0.67257  0.47376  0.5685  -0.04761]\n",
      " [-0.68955 -0.68007 -0.24904  0.26459]\n",
      " [ 0.       0.       0.       1.     ]]\n"
     ]
    }
   ],
   "source": [
    "Shaftgrinder_tf_PC_Tower_1 = np.array([[-0.26864, 0.55951, 0.78408, 0.50352],\n",
    "                                       [0.67257, -0.47376, 0.5685, -0.04761],\n",
    "                                       [0.68955, 0.68007, -0.24904, 0.26459],\n",
    "                                       [0., 0., 0., 1.]])\n",
    "Rz = sm.SE3.Rz(np.pi)\n",
    "print(Rz)\n",
    "Rz = np.array([[-1, 0, 0, 0],\n",
    "                [0, -1, 0, 0],\n",
    "                [0, 0, 1, 0],\n",
    "                [0,0,0,1]])\n",
    "\n",
    "PCt1 = Shaftgrinder_tf_PC_Tower_1 @ Rz\n",
    "print(PCt1)"
   ]
  },
  {
   "cell_type": "code",
   "execution_count": 8,
   "id": "f816bc76",
   "metadata": {},
   "outputs": [],
   "source": [
    "Shaftgrinder_tf_1 = np.array([[-0.707107, 0.707107, 0, 0.455498],\n",
    "                            [0, 0, 1, 0.0482934],\n",
    "                            [0.707107, 0.707107, 0, 0.653348],\n",
    "                            [0, 0, 0, 1]])"
   ]
  },
  {
   "cell_type": "code",
   "execution_count": 6,
   "id": "521cbd08",
   "metadata": {},
   "outputs": [],
   "source": [
    "Shaftgrinder_tf = np.array([[-0.707107, -0.707107, 0, 0.455498],\n",
    "                       [0, 0, 1, 0.0482934],\n",
    "                       [-0.707107, 0.707107, 0, 0.653348],\n",
    "                       [0,0,0,1]])"
   ]
  },
  {
   "cell_type": "code",
   "execution_count": 35,
   "id": "dd1502a9",
   "metadata": {},
   "outputs": [
    {
     "name": "stdout",
     "output_type": "stream",
     "text": [
      "  \u001b[38;5;1m-0.999999   \u001b[0m\u001b[38;5;1m 0.000838402\u001b[0m\u001b[38;5;1m-0.000763516\u001b[0m\u001b[38;5;4m 0.454691   \u001b[0m  \u001b[0m\n",
      "  \u001b[38;5;1m 0.000837611\u001b[0m\u001b[38;5;1m 0.999999   \u001b[0m\u001b[38;5;1m 0.00103587 \u001b[0m\u001b[38;5;4m-0.23272    \u001b[0m  \u001b[0m\n",
      "  \u001b[38;5;1m 0.000764384\u001b[0m\u001b[38;5;1m 0.00103523 \u001b[0m\u001b[38;5;1m-0.999999   \u001b[0m\u001b[38;5;4m 0.0542448  \u001b[0m  \u001b[0m\n",
      "  \u001b[38;5;244m 0          \u001b[0m\u001b[38;5;244m 0          \u001b[0m\u001b[38;5;244m 0          \u001b[0m\u001b[38;5;244m 1          \u001b[0m  \u001b[0m\n",
      "\n"
     ]
    }
   ],
   "source": [
    "## A\n",
    "print(cobot.FK(cobot.q))"
   ]
  },
  {
   "cell_type": "code",
   "execution_count": 46,
   "id": "a9ae6ace",
   "metadata": {},
   "outputs": [
    {
     "name": "stdout",
     "output_type": "stream",
     "text": [
      "  \u001b[38;5;1m-0.707437   \u001b[0m\u001b[38;5;1m 0.706776   \u001b[0m\u001b[38;5;1m-0.000909616\u001b[0m\u001b[38;5;4m 0.656998   \u001b[0m  \u001b[0m\n",
      "  \u001b[38;5;1m 0.000389232\u001b[0m\u001b[38;5;1m 0.00167659 \u001b[0m\u001b[38;5;1m 0.999999   \u001b[0m\u001b[38;5;4m-0.131722   \u001b[0m  \u001b[0m\n",
      "  \u001b[38;5;1m 0.706776   \u001b[0m\u001b[38;5;1m 0.707436   \u001b[0m\u001b[38;5;1m-0.00146118 \u001b[0m\u001b[38;5;4m 0.163471   \u001b[0m  \u001b[0m\n",
      "  \u001b[38;5;244m 0          \u001b[0m\u001b[38;5;244m 0          \u001b[0m\u001b[38;5;244m 0          \u001b[0m\u001b[38;5;244m 1          \u001b[0m  \u001b[0m\n",
      "\n"
     ]
    }
   ],
   "source": [
    "## B\n",
    "print(cobot.FK(cobot.q))"
   ]
  },
  {
   "cell_type": "code",
   "execution_count": 37,
   "id": "b674d0d5",
   "metadata": {},
   "outputs": [
    {
     "name": "stdout",
     "output_type": "stream",
     "text": [
      "  \u001b[38;5;1m-0.999839   \u001b[0m\u001b[38;5;1m 0.000393948\u001b[0m\u001b[38;5;1m 0.0179365  \u001b[0m\u001b[38;5;4m 0.59925    \u001b[0m  \u001b[0m\n",
      "  \u001b[38;5;1m 0.000238131\u001b[0m\u001b[38;5;1m 0.999962   \u001b[0m\u001b[38;5;1m-0.00868844 \u001b[0m\u001b[38;5;4m-0.104008   \u001b[0m  \u001b[0m\n",
      "  \u001b[38;5;1m-0.0179392  \u001b[0m\u001b[38;5;1m-0.00868277 \u001b[0m\u001b[38;5;1m-0.999801   \u001b[0m\u001b[38;5;4m 0.0539813  \u001b[0m  \u001b[0m\n",
      "  \u001b[38;5;244m 0          \u001b[0m\u001b[38;5;244m 0          \u001b[0m\u001b[38;5;244m 0          \u001b[0m\u001b[38;5;244m 1          \u001b[0m  \u001b[0m\n",
      "\n"
     ]
    }
   ],
   "source": [
    "## C\n",
    "print(cobot.FK(cobot.q))"
   ]
  },
  {
   "cell_type": "code",
   "execution_count": 38,
   "id": "f06ea21d",
   "metadata": {},
   "outputs": [],
   "source": [
    "# Punkte wenn Fräser exakt 6cm raussteht:\n"
   ]
  },
  {
   "cell_type": "code",
   "execution_count": 53,
   "id": "cdf221c2",
   "metadata": {},
   "outputs": [
    {
     "name": "stdout",
     "output_type": "stream",
     "text": [
      "  \u001b[38;5;1m-0.715634   \u001b[0m\u001b[38;5;1m 0.698224   \u001b[0m\u001b[38;5;1m-0.0187352  \u001b[0m\u001b[38;5;4m 0.456093   \u001b[0m  \u001b[0m\n",
      "  \u001b[38;5;1m-0.0415472  \u001b[0m\u001b[38;5;1m-0.0157771  \u001b[0m\u001b[38;5;1m 0.999012   \u001b[0m\u001b[38;5;4m-0.390228   \u001b[0m  \u001b[0m\n",
      "  \u001b[38;5;1m 0.697238   \u001b[0m\u001b[38;5;1m 0.715706   \u001b[0m\u001b[38;5;1m 0.0402999  \u001b[0m\u001b[38;5;4m 0.140382   \u001b[0m  \u001b[0m\n",
      "  \u001b[38;5;244m 0          \u001b[0m\u001b[38;5;244m 0          \u001b[0m\u001b[38;5;244m 0          \u001b[0m\u001b[38;5;244m 1          \u001b[0m  \u001b[0m\n",
      "\n"
     ]
    }
   ],
   "source": [
    "## A z offset 5mm\n",
    "print(cobot.FK(cobot.q))"
   ]
  },
  {
   "cell_type": "code",
   "execution_count": 52,
   "id": "98ce0d11",
   "metadata": {},
   "outputs": [
    {
     "name": "stdout",
     "output_type": "stream",
     "text": [
      "  \u001b[38;5;1m-0.715634   \u001b[0m\u001b[38;5;1m 0.698224   \u001b[0m\u001b[38;5;1m-0.0187353  \u001b[0m\u001b[38;5;4m 0.456093   \u001b[0m  \u001b[0m\n",
      "  \u001b[38;5;1m-0.0415474  \u001b[0m\u001b[38;5;1m-0.0157772  \u001b[0m\u001b[38;5;1m 0.999012   \u001b[0m\u001b[38;5;4m-0.390228   \u001b[0m  \u001b[0m\n",
      "  \u001b[38;5;1m 0.697239   \u001b[0m\u001b[38;5;1m 0.715705   \u001b[0m\u001b[38;5;1m 0.0403001  \u001b[0m\u001b[38;5;4m 0.140382   \u001b[0m  \u001b[0m\n",
      "  \u001b[38;5;244m 0          \u001b[0m\u001b[38;5;244m 0          \u001b[0m\u001b[38;5;244m 0          \u001b[0m\u001b[38;5;244m 1          \u001b[0m  \u001b[0m\n",
      "\n"
     ]
    }
   ],
   "source": [
    "## B\n",
    "print(cobot.FK(cobot.q))"
   ]
  },
  {
   "cell_type": "code",
   "execution_count": 49,
   "id": "e46e071f",
   "metadata": {},
   "outputs": [
    {
     "name": "stdout",
     "output_type": "stream",
     "text": [
      "  \u001b[38;5;1m-0.712013   \u001b[0m\u001b[38;5;1m 0.702103   \u001b[0m\u001b[38;5;1m-0.00944944 \u001b[0m\u001b[38;5;4m 0.597974   \u001b[0m  \u001b[0m\n",
      "  \u001b[38;5;1m-0.0187505  \u001b[0m\u001b[38;5;1m-0.00555895 \u001b[0m\u001b[38;5;1m 0.999809   \u001b[0m\u001b[38;5;4m-0.258931   \u001b[0m  \u001b[0m\n",
      "  \u001b[38;5;1m 0.701916   \u001b[0m\u001b[38;5;1m 0.712054   \u001b[0m\u001b[38;5;1m 0.0171228  \u001b[0m\u001b[38;5;4m 0.156214   \u001b[0m  \u001b[0m\n",
      "  \u001b[38;5;244m 0          \u001b[0m\u001b[38;5;244m 0          \u001b[0m\u001b[38;5;244m 0          \u001b[0m\u001b[38;5;244m 1          \u001b[0m  \u001b[0m\n",
      "\n"
     ]
    }
   ],
   "source": [
    "## C z offset 2mm\n",
    "print(cobot.FK(cobot.q))"
   ]
  },
  {
   "cell_type": "code",
   "execution_count": 54,
   "id": "eec4094d",
   "metadata": {},
   "outputs": [
    {
     "name": "stdout",
     "output_type": "stream",
     "text": [
      "  \u001b[38;5;1m-0.717416   \u001b[0m\u001b[38;5;1m 0.69605    \u001b[0m\u001b[38;5;1m-0.028791   \u001b[0m\u001b[38;5;4m 0.455764   \u001b[0m  \u001b[0m\n",
      "  \u001b[38;5;1m-0.0672226  \u001b[0m\u001b[38;5;1m-0.0280326  \u001b[0m\u001b[38;5;1m 0.997344   \u001b[0m\u001b[38;5;4m-0.433634   \u001b[0m  \u001b[0m\n",
      "  \u001b[38;5;1m 0.693394   \u001b[0m\u001b[38;5;1m 0.717446   \u001b[0m\u001b[38;5;1m 0.0669013  \u001b[0m\u001b[38;5;4m 0.278681   \u001b[0m  \u001b[0m\n",
      "  \u001b[38;5;244m 0          \u001b[0m\u001b[38;5;244m 0          \u001b[0m\u001b[38;5;244m 0          \u001b[0m\u001b[38;5;244m 1          \u001b[0m  \u001b[0m\n",
      "\n"
     ]
    }
   ],
   "source": [
    "## C z offset 2mm\n",
    "print(cobot.FK(cobot.q))"
   ]
  },
  {
   "cell_type": "code",
   "execution_count": 32,
   "id": "vital-deadline",
   "metadata": {},
   "outputs": [
    {
     "name": "stdout",
     "output_type": "stream",
     "text": [
      "  \u001b[38;5;1m 0          \u001b[0m\u001b[38;5;1m-1          \u001b[0m\u001b[38;5;1m 0          \u001b[0m\u001b[38;5;4m 0          \u001b[0m  \u001b[0m\n",
      "  \u001b[38;5;1m 1          \u001b[0m\u001b[38;5;1m 0          \u001b[0m\u001b[38;5;1m 0          \u001b[0m\u001b[38;5;4m 0          \u001b[0m  \u001b[0m\n",
      "  \u001b[38;5;1m 0          \u001b[0m\u001b[38;5;1m 0          \u001b[0m\u001b[38;5;1m 1          \u001b[0m\u001b[38;5;4m 0          \u001b[0m  \u001b[0m\n",
      "  \u001b[38;5;244m 0          \u001b[0m\u001b[38;5;244m 0          \u001b[0m\u001b[38;5;244m 0          \u001b[0m\u001b[38;5;244m 1          \u001b[0m  \u001b[0m\n",
      "\n",
      "[[ 0.70711  0.70711  0.       0.4555 ]\n",
      " [ 0.       0.       1.       0.04829]\n",
      " [ 0.70711 -0.70711  0.       0.65335]\n",
      " [ 0.       0.       0.       1.     ]]\n"
     ]
    }
   ],
   "source": [
    "Rz = sm.SE3.Rz(np.pi/2)\n",
    "print(Rz)\n",
    "Rz = np.array([[0, -1, 0, 0],\n",
    "                [1, 0, 0, 0],\n",
    "                [0, 0, 1, 0],\n",
    "                [0,0,0,1]])\n",
    "shaftgrindertf = Shaftgrinder_tf_1 @ Rz\n",
    "print(shaftgrindertf)"
   ]
  },
  {
   "cell_type": "code",
   "execution_count": 54,
   "id": "90910cb7",
   "metadata": {},
   "outputs": [
    {
     "name": "stdout",
     "output_type": "stream",
     "text": [
      "[ 0.     -0.1555 -0.0945  1.    ]\n",
      "  \u001b[38;5;1m-0.707107   \u001b[0m\u001b[38;5;1m 0.707107   \u001b[0m\u001b[38;5;1m 0          \u001b[0m\u001b[38;5;4m 4.0401e-13 \u001b[0m  \u001b[0m\n",
      "  \u001b[38;5;1m 0          \u001b[0m\u001b[38;5;1m 0          \u001b[0m\u001b[38;5;1m 1          \u001b[0m\u001b[38;5;4m-0.1555     \u001b[0m  \u001b[0m\n",
      "  \u001b[38;5;1m 0.707107   \u001b[0m\u001b[38;5;1m 0.707107   \u001b[0m\u001b[38;5;1m 0          \u001b[0m\u001b[38;5;4m-0.0945     \u001b[0m  \u001b[0m\n",
      "  \u001b[38;5;244m 0.455      \u001b[0m\u001b[38;5;244m 0.04829    \u001b[0m\u001b[38;5;244m 0.65335    \u001b[0m\u001b[38;5;244m 1          \u001b[0m  \u001b[0m\n",
      "\n"
     ]
    }
   ],
   "source": [
    "print(T_B_tool.A[:,3])\n",
    "print(T_B_tool)"
   ]
  },
  {
   "cell_type": "code",
   "execution_count": 9,
   "id": "e61fd73f",
   "metadata": {},
   "outputs": [
    {
     "name": "stdout",
     "output_type": "stream",
     "text": [
      "  \u001b[38;5;1m 0.707107   \u001b[0m\u001b[38;5;1m-0.707107   \u001b[0m\u001b[38;5;1m 0          \u001b[0m\u001b[38;5;4m 0.455      \u001b[0m  \u001b[0m\n",
      "  \u001b[38;5;1m 0          \u001b[0m\u001b[38;5;1m 0          \u001b[0m\u001b[38;5;1m 1          \u001b[0m\u001b[38;5;4m 0.04829    \u001b[0m  \u001b[0m\n",
      "  \u001b[38;5;1m-0.707107   \u001b[0m\u001b[38;5;1m-0.707107   \u001b[0m\u001b[38;5;1m 0          \u001b[0m\u001b[38;5;4m 0.65335    \u001b[0m  \u001b[0m\n",
      "  \u001b[38;5;244m 0          \u001b[0m\u001b[38;5;244m 0          \u001b[0m\u001b[38;5;244m 0          \u001b[0m\u001b[38;5;244m 1          \u001b[0m  \u001b[0m\n",
      "\n"
     ]
    }
   ],
   "source": [
    "p, q = cobot._tf.T_A_B('hrr_cobot.shaftgrinder_tip', 'hrr_cobot.ee_link')\n",
    "Rz = sm.SE3.Rz(np.pi)\n",
    "T_B_tool = sm.SE3(*p)\n",
    "T_B_tool.A[:3, :3] = quaternion.as_rotation_matrix(q)\n",
    "T_B_tool.A[:,3]= [0.455, 0.04829, 0.65335, 1]\n",
    "new = T_B_tool @ Rz\n",
    "print(new)"
   ]
  },
  {
   "cell_type": "code",
   "execution_count": 38,
   "id": "87db5220",
   "metadata": {},
   "outputs": [
    {
     "name": "stdout",
     "output_type": "stream",
     "text": [
      "  \u001b[38;5;1m-1          \u001b[0m\u001b[38;5;1m 0          \u001b[0m\u001b[38;5;1m 0          \u001b[0m\u001b[38;5;4m 0          \u001b[0m  \u001b[0m\n",
      "  \u001b[38;5;1m 0          \u001b[0m\u001b[38;5;1m-1          \u001b[0m\u001b[38;5;1m 0          \u001b[0m\u001b[38;5;4m 0          \u001b[0m  \u001b[0m\n",
      "  \u001b[38;5;1m 0          \u001b[0m\u001b[38;5;1m 0          \u001b[0m\u001b[38;5;1m 1          \u001b[0m\u001b[38;5;4m 0          \u001b[0m  \u001b[0m\n",
      "  \u001b[38;5;244m 0          \u001b[0m\u001b[38;5;244m 0          \u001b[0m\u001b[38;5;244m 0          \u001b[0m\u001b[38;5;244m 1          \u001b[0m  \u001b[0m\n",
      "\n",
      "[[-0.70711  0.70711  0.       0.4555 ]\n",
      " [ 0.       0.       1.       0.04829]\n",
      " [ 0.70711  0.70711  0.       0.65335]\n",
      " [ 0.       0.       0.       1.     ]]\n"
     ]
    }
   ],
   "source": [
    "Rz = sm.SE3.Rz(np.pi)\n",
    "print(Rz)\n",
    "Rz = np.array([[0, -1, 0, 0],\n",
    "                [1, 0, 0, 0],\n",
    "                [0, 0, 1, 0],\n",
    "                [0,0,0,1]])\n",
    "shaftgrindertf = Shaftgrinder_tf @ Rz\n",
    "print(shaftgrindertf)"
   ]
  },
  {
   "cell_type": "markdown",
   "id": "dominant-healthcare",
   "metadata": {},
   "source": [
    "##### Alternative Transformation Matrix for Grinder (Robot shifted to the back a little bit)"
   ]
  },
  {
   "cell_type": "code",
   "execution_count": 7,
   "id": "sunrise-inflation",
   "metadata": {},
   "outputs": [],
   "source": [
    "Alt_TF = np.array([[-0.439919, -0.439733, 0.783011, 0.555965],\n",
    "                       [0.552695, 0.554649, 0.622007, -0.151232],\n",
    "                       [-0.707813, 0.706399, 0, 0.18],\n",
    "                       [0,0,0,1]])"
   ]
  },
  {
   "cell_type": "code",
   "execution_count": 8,
   "id": "incorporated-amber",
   "metadata": {},
   "outputs": [
    {
     "data": {
      "text/plain": [
       "SE3:  \u001b[38;5;1m-0.538323   \u001b[0m\u001b[38;5;1m 0.563546   \u001b[0m\u001b[38;5;1m 0.626597   \u001b[0m\u001b[38;5;4m 0.455134   \u001b[0m  \u001b[0m\n",
       "      \u001b[38;5;1m 0.461285   \u001b[0m\u001b[38;5;1m-0.425211   \u001b[0m\u001b[38;5;1m 0.778724   \u001b[0m\u001b[38;5;4m-0.00483921 \u001b[0m  \u001b[0m\n",
       "      \u001b[38;5;1m 0.705283   \u001b[0m\u001b[38;5;1m 0.708246   \u001b[0m\u001b[38;5;1m-0.0310539  \u001b[0m\u001b[38;5;4m 0.720699   \u001b[0m  \u001b[0m\n",
       "      \u001b[38;5;244m 0          \u001b[0m\u001b[38;5;244m 0          \u001b[0m\u001b[38;5;244m 0          \u001b[0m\u001b[38;5;244m 1          \u001b[0m  \u001b[0m\n",
       "    "
      ]
     },
     "execution_count": 8,
     "metadata": {},
     "output_type": "execute_result"
    }
   ],
   "source": [
    "cobot.FK(cobot.q)"
   ]
  },
  {
   "cell_type": "markdown",
   "id": "little-fitness",
   "metadata": {},
   "source": [
    "#### Calib_Pose"
   ]
  },
  {
   "cell_type": "code",
   "execution_count": 14,
   "id": "latest-portfolio",
   "metadata": {},
   "outputs": [
    {
     "name": "stdout",
     "output_type": "stream",
     "text": [
      "  \u001b[38;5;1m-0.963395   \u001b[0m\u001b[38;5;1m-0.169999   \u001b[0m\u001b[38;5;1m-0.207293   \u001b[0m\u001b[38;5;4m 0.29256    \u001b[0m  \u001b[0m\n",
      "  \u001b[38;5;1m-0.206983   \u001b[0m\u001b[38;5;1m 0.963081   \u001b[0m\u001b[38;5;1m 0.17214    \u001b[0m\u001b[38;5;4m 0.193581   \u001b[0m  \u001b[0m\n",
      "  \u001b[38;5;1m 0.170376   \u001b[0m\u001b[38;5;1m 0.208745   \u001b[0m\u001b[38;5;1m-0.963015   \u001b[0m\u001b[38;5;4m 0.511207   \u001b[0m  \u001b[0m\n",
      "  \u001b[38;5;244m 0          \u001b[0m\u001b[38;5;244m 0          \u001b[0m\u001b[38;5;244m 0          \u001b[0m\u001b[38;5;244m 1          \u001b[0m  \u001b[0m\n",
      "\n",
      "[[-1.       0.       0.       0.43642]\n",
      " [ 0.       1.       0.       0.     ]\n",
      " [ 0.       0.      -1.       0.70451]\n",
      " [ 0.       0.       0.       1.     ]]\n"
     ]
    }
   ],
   "source": [
    "print(cobot.FK(cobot.q))\n",
    "Calib_Pose = np.array([[-1, 0, 0, 0.436417 ],\n",
    "                       [0, 1, 0, 0],\n",
    "                       [0, 0, -1, 0.704513 ],\n",
    "                       [0,0,0,1]])\n",
    "print(Calib_Pose)"
   ]
  },
  {
   "cell_type": "markdown",
   "id": "diverse-delicious",
   "metadata": {},
   "source": [
    "#### Calculating exact tf"
   ]
  },
  {
   "cell_type": "code",
   "execution_count": 53,
   "id": "hairy-kernel",
   "metadata": {},
   "outputs": [
    {
     "name": "stdout",
     "output_type": "stream",
     "text": [
      "  \u001b[38;5;1m-0.43973    \u001b[0m\u001b[38;5;1m-0.440959   \u001b[0m\u001b[38;5;1m 0.782428   \u001b[0m\u001b[38;5;4m 0.439441   \u001b[0m  \u001b[0m\n",
      "  \u001b[38;5;1m 0.551584   \u001b[0m\u001b[38;5;1m 0.554932   \u001b[0m\u001b[38;5;1m 0.622741   \u001b[0m\u001b[38;5;4m-0.0157041  \u001b[0m  \u001b[0m\n",
      "  \u001b[38;5;1m-0.708797   \u001b[0m\u001b[38;5;1m 0.705412   \u001b[0m\u001b[38;5;1m-0.000794042\u001b[0m\u001b[38;5;4m 0.108471   \u001b[0m  \u001b[0m\n",
      "  \u001b[38;5;244m 0          \u001b[0m\u001b[38;5;244m 0          \u001b[0m\u001b[38;5;244m 0          \u001b[0m\u001b[38;5;244m 1          \u001b[0m  \u001b[0m\n",
      "\n"
     ]
    }
   ],
   "source": [
    "#Marker on Table with shaft grinder:\n",
    "print(cobot.FK(cobot.q))"
   ]
  },
  {
   "cell_type": "code",
   "execution_count": 124,
   "id": "premier-colon",
   "metadata": {},
   "outputs": [
    {
     "name": "stdout",
     "output_type": "stream",
     "text": [
      "0.0334873\n"
     ]
    }
   ],
   "source": [
    "print(0.108471-0.0749837)"
   ]
  },
  {
   "cell_type": "code",
   "execution_count": null,
   "id": "controlling-undergraduate",
   "metadata": {},
   "outputs": [],
   "source": [
    "# Used delta:\n",
    "deltacoord = np.array([[1, 0, 0, -0.117],\n",
    "                       [0, 1, 0, 0.136],\n",
    "                       [0, 0, 1, -0.072],\n",
    "                       [0,0,0,1]])\n",
    "\n",
    "# and @Alt_TF"
   ]
  },
  {
   "cell_type": "code",
   "execution_count": 29,
   "id": "sustainable-research",
   "metadata": {},
   "outputs": [],
   "source": [
    "WS = np.array([[-0.439919, -0.439733, 0.783011, 0.4399441],\n",
    "                [0.552695, 0.554649, 0.622007, -0.0157041],\n",
    "                [-0.707813, 0.706399, 0, 0.108471],\n",
    "                [0,0,0,1]])"
   ]
  },
  {
   "cell_type": "code",
   "execution_count": 30,
   "id": "dominant-cookie",
   "metadata": {},
   "outputs": [],
   "source": [
    "WOS = np.array([[-1, 0, 0, 0.510936 ],\n",
    "                [0, 1, 0, 0.0415216],\n",
    "                [0, 0, -1, 0.0749837 ],\n",
    "                [0,0,0,1]])"
   ]
  },
  {
   "cell_type": "code",
   "execution_count": 32,
   "id": "mediterranean-messaging",
   "metadata": {},
   "outputs": [
    {
     "name": "stdout",
     "output_type": "stream",
     "text": [
      "[[ 0.43992 -0.43973 -0.78301  0.29215]\n",
      " [-0.5527   0.55465 -0.62201  0.2903 ]\n",
      " [ 0.70781  0.7064   0.      -0.28251]\n",
      " [ 0.       0.       0.       1.     ]]\n",
      "[[-0.43992 -0.43973  0.78301  0.43994]\n",
      " [ 0.5527   0.55465  0.62201 -0.0157 ]\n",
      " [-0.70781  0.7064   0.       0.10847]\n",
      " [ 0.       0.       0.       1.     ]]\n"
     ]
    }
   ],
   "source": [
    "A = WS @ np.linalg.inv(WOS)\n",
    "print(A)\n",
    "print(A@WOS)"
   ]
  },
  {
   "cell_type": "code",
   "execution_count": 120,
   "id": "macro-filling",
   "metadata": {},
   "outputs": [
    {
     "name": "stdout",
     "output_type": "stream",
     "text": [
      "  \u001b[38;5;1m-0.999999   \u001b[0m\u001b[38;5;1m 0.000917328\u001b[0m\u001b[38;5;1m 0.000911858\u001b[0m\u001b[38;5;4m 0.510936   \u001b[0m  \u001b[0m\n",
      "  \u001b[38;5;1m 0.000918159\u001b[0m\u001b[38;5;1m 0.999999   \u001b[0m\u001b[38;5;1m 0.000910466\u001b[0m\u001b[38;5;4m 0.0415216  \u001b[0m  \u001b[0m\n",
      "  \u001b[38;5;1m-0.000911022\u001b[0m\u001b[38;5;1m 0.000911302\u001b[0m\u001b[38;5;1m-0.999999   \u001b[0m\u001b[38;5;4m 0.0749837  \u001b[0m  \u001b[0m\n",
      "  \u001b[38;5;244m 0          \u001b[0m\u001b[38;5;244m 0          \u001b[0m\u001b[38;5;244m 0          \u001b[0m\u001b[38;5;244m 1          \u001b[0m  \u001b[0m\n",
      "\n"
     ]
    }
   ],
   "source": [
    "#Marker on Table without shaft grinder:\n",
    "print(cobot.FK(cobot.q))"
   ]
  },
  {
   "cell_type": "code",
   "execution_count": null,
   "id": "arbitrary-walter",
   "metadata": {},
   "outputs": [],
   "source": [
    "# Used delta\n",
    "deltacoord = np.array([[1, 0, 0, 0.075],\n",
    "                       [0, 1, 0, 0.042],\n",
    "                       [0, 0, 1, -0.630],\n",
    "                       [0,0,0,1]])\n",
    "# and @Calib_Pose"
   ]
  },
  {
   "cell_type": "markdown",
   "id": "thousand-declaration",
   "metadata": {},
   "source": [
    "#### new Alt_TF"
   ]
  },
  {
   "cell_type": "code",
   "execution_count": 160,
   "id": "mature-quest",
   "metadata": {},
   "outputs": [
    {
     "name": "stdout",
     "output_type": "stream",
     "text": [
      "[[-0.43992 -0.43973  0.78301 -0.07149]\n",
      " [ 0.5527   0.55465  0.62201 -0.05723]\n",
      " [-0.70781  0.7064   0.       0.03349]\n",
      " [ 0.       0.       0.       1.     ]]\n"
     ]
    }
   ],
   "source": [
    "Alt_TF = np.array([[-0.439919, -0.439733, 0.783011, -0.07149499999999992],\n",
    "                       [0.552695, 0.554649, 0.622007, -0.0572257],\n",
    "                       [-0.707813, 0.706399, 0, 0.0334873],\n",
    "                       [0,0,0,1]])\n",
    "print(Alt_TF)\n",
    "Calib_Pose2 = np.array([[1, 0, 0, 0.436417 ],\n",
    "                       [0, 1, 0, 0],\n",
    "                       [0, 0, 1, 0.704513 ],\n",
    "                       [0,0,0,1]])"
   ]
  },
  {
   "cell_type": "code",
   "execution_count": 178,
   "id": "adolescent-network",
   "metadata": {},
   "outputs": [
    {
     "name": "stdout",
     "output_type": "stream",
     "text": [
      "[[-0.43992 -0.43973  0.78301 -0.43656]\n",
      " [ 0.5527   0.55465  0.62201 -0.73515]\n",
      " [-0.70781  0.7064   0.       0.33785]\n",
      " [ 0.       0.       0.       1.     ]]\n",
      "[[ 0.43992 -0.43973 -0.78301  0.29215]\n",
      " [-0.5527   0.55465 -0.62201  0.2903 ]\n",
      " [ 0.70781  0.7064   0.      -0.28251]\n",
      " [ 0.       0.       0.       1.     ]]\n"
     ]
    }
   ],
   "source": [
    "Alt_TF = np.array([[0.439919, -0.439733, -0.783011, -0.07149499999999992],\n",
    "                       [-0.552695, 0.554649, -0.622007, -0.0572257],\n",
    "                       [0.707813, 0.706399, 0, 0.0334873],\n",
    "                       [0,0,0,1]])\n",
    "Test2 = np.array([[-1, 0, 0, 0.43 ],\n",
    "                  [0, 1, 0, 0],\n",
    "                  [0, 0, -1, 0.707813 ],\n",
    "                  [0,0,0,1]])\n",
    "print(Alt_TF@Test2)\n",
    "print(A)"
   ]
  },
  {
   "cell_type": "code",
   "execution_count": 180,
   "id": "patient-corpus",
   "metadata": {},
   "outputs": [
    {
     "name": "stdout",
     "output_type": "stream",
     "text": [
      "[[-0.43992  0.43973  0.78301  0.14427]\n",
      " [-0.5527   0.55465 -0.62201  0.2903 ]\n",
      " [-0.70781 -0.7064   0.       0.98702]\n",
      " [ 0.       0.       0.       1.     ]]\n",
      "[[-1.       0.       0.       0.43   ]\n",
      " [ 0.       1.       0.       0.     ]\n",
      " [ 0.       0.      -1.       0.70781]\n",
      " [ 0.       0.       0.       1.     ]]\n",
      "[[-1.       0.       0.       0.43642]\n",
      " [ 0.       1.       0.       0.     ]\n",
      " [ 0.       0.      -1.       0.70451]\n",
      " [ 0.       0.       0.       1.     ]]\n"
     ]
    }
   ],
   "source": [
    "print(Calib_Pose@A)\n",
    "print(Test2)\n",
    "print(Calib_Pose)"
   ]
  },
  {
   "cell_type": "markdown",
   "id": "separated-apollo",
   "metadata": {},
   "source": [
    "#### Move Shaftgrinder from initial position to next one by giving the delta coordinates"
   ]
  },
  {
   "cell_type": "code",
   "execution_count": 117,
   "id": "attended-generation",
   "metadata": {},
   "outputs": [],
   "source": [
    "deltacoord = np.array([[1, 0, 0, 0.075],\n",
    "                       [0, 1, 0, 0.042],\n",
    "                       [0, 0, 1, -0.630],\n",
    "                       [0,0,0,1]])\n",
    "\n",
    "neu = deltacoord @ Calib_Pose"
   ]
  },
  {
   "cell_type": "code",
   "execution_count": 8,
   "id": "excellent-dancing",
   "metadata": {},
   "outputs": [],
   "source": [
    "cobot.move_to_pose(Shaftgrinder_tf_1,v_max=0.01,rot_max=0.01)\n",
    "# sets the desired pos and velocities"
   ]
  },
  {
   "cell_type": "code",
   "execution_count": 9,
   "id": "voluntary-pressing",
   "metadata": {},
   "outputs": [
    {
     "name": "stdout",
     "output_type": "stream",
     "text": [
      "  \u001b[38;5;1m-0.702982   \u001b[0m\u001b[38;5;1m 0.711199   \u001b[0m\u001b[38;5;1m-0.0035331  \u001b[0m\u001b[38;5;4m 0.586419   \u001b[0m  \u001b[0m\n",
      "  \u001b[38;5;1m-0.00332811 \u001b[0m\u001b[38;5;1m 0.00167812 \u001b[0m\u001b[38;5;1m 0.999993   \u001b[0m\u001b[38;5;4m-0.0932889  \u001b[0m  \u001b[0m\n",
      "  \u001b[38;5;1m 0.7112     \u001b[0m\u001b[38;5;1m 0.702989   \u001b[0m\u001b[38;5;1m 0.00118726 \u001b[0m\u001b[38;5;4m 0.620348   \u001b[0m  \u001b[0m\n",
      "  \u001b[38;5;244m 0          \u001b[0m\u001b[38;5;244m 0          \u001b[0m\u001b[38;5;244m 0          \u001b[0m\u001b[38;5;244m 1          \u001b[0m  \u001b[0m\n",
      "\n"
     ]
    }
   ],
   "source": [
    "aktuell = cobot.FK(cobot.q)\n",
    "print(aktuell)"
   ]
  },
  {
   "cell_type": "code",
   "execution_count": 10,
   "id": "8fa99cea",
   "metadata": {},
   "outputs": [
    {
     "name": "stdout",
     "output_type": "stream",
     "text": [
      "[[-0.70711  0.70711  0.23854  0.4555 ]\n",
      " [ 0.       0.       1.       0.04829]\n",
      " [ 0.70711  0.70711  0.       0.65335]\n",
      " [ 0.       0.       0.       1.     ]]\n"
     ]
    }
   ],
   "source": [
    "print(Shaftgrinder_tf_1)"
   ]
  },
  {
   "cell_type": "code",
   "execution_count": 9,
   "id": "attempted-planning",
   "metadata": {},
   "outputs": [
    {
     "name": "stdout",
     "output_type": "stream",
     "text": [
      "move robot along path of at least 0.382 m\n"
     ]
    }
   ],
   "source": [
    "print(f\"move robot along path of at least {np.linalg.norm(cobot.sns_pos- cobot.T_des.t):02.3f} m\")"
   ]
  },
  {
   "cell_type": "code",
   "execution_count": 10,
   "id": "cooperative-earthquake",
   "metadata": {},
   "outputs": [
    {
     "data": {
      "application/vnd.jupyter.widget-view+json": {
       "model_id": "beef707473f1405693566528fbf56c74",
       "version_major": 2,
       "version_minor": 0
      },
      "text/plain": [
       "  0%|          | 0/5000 [00:00<?, ?it/s]"
      ]
     },
     "metadata": {},
     "output_type": "display_data"
    },
    {
     "name": "stdout",
     "output_type": "stream",
     "text": [
      "[INFO] [1641992196.488317]: reached goal pose at step 4989 / 5000\n"
     ]
    }
   ],
   "source": [
    "# executes the loop to move the robot\n",
    "T = int(50 * cobot.hz)\n",
    "for t in trange(T):\n",
    "    if cobot.state is None:\n",
    "        rospy.loginfo(f\"reached goal pose at step {t + 1} / {T}\")\n",
    "        break\n",
    "    elif cobot.state == \"error\":\n",
    "        rospy.logerr(f\"robot in ERROR state\")\n",
    "    cobot.update()"
   ]
  },
  {
   "cell_type": "markdown",
   "id": "common-davis",
   "metadata": {},
   "source": [
    "#### Routine: from Initial Position go down in Z, left/right in Y and up in Z"
   ]
  },
  {
   "cell_type": "code",
   "execution_count": 35,
   "id": "genuine-librarian",
   "metadata": {},
   "outputs": [
    {
     "name": "stdout",
     "output_type": "stream",
     "text": [
      "[[-0.70711 -0.70711  0.23854  0.6055 ]\n",
      " [ 0.       0.       1.      -0.15171]\n",
      " [-0.70711  0.70711  0.       0.16335]\n",
      " [ 0.       0.       0.       1.     ]]\n",
      "  \u001b[38;5;1m-0.707792   \u001b[0m\u001b[38;5;1m-0.70642    \u001b[0m\u001b[38;5;1m 0.000970604\u001b[0m\u001b[38;5;4m 0.605024   \u001b[0m  \u001b[0m\n",
      "  \u001b[38;5;1m 1.53631e-05\u001b[0m\u001b[38;5;1m 0.00135858 \u001b[0m\u001b[38;5;1m 0.999999   \u001b[0m\u001b[38;5;4m-0.15123    \u001b[0m  \u001b[0m\n",
      "  \u001b[38;5;1m-0.706421   \u001b[0m\u001b[38;5;1m 0.707792   \u001b[0m\u001b[38;5;1m-0.000950741\u001b[0m\u001b[38;5;4m 0.202873   \u001b[0m  \u001b[0m\n",
      "  \u001b[38;5;244m 0          \u001b[0m\u001b[38;5;244m 0          \u001b[0m\u001b[38;5;244m 0          \u001b[0m\u001b[38;5;244m 1          \u001b[0m  \u001b[0m\n",
      "\n"
     ]
    }
   ],
   "source": [
    "geherunter = np.array([[1, 0, 0, 0.15],\n",
    "                       [0, 1, 0, -0.2],\n",
    "                       [0, 0, 1, -0.49],\n",
    "                       [0,0,0,1]])\n",
    "\n",
    "neu = geherunter @ newtry\n",
    "print(neu)\n",
    "print(cobot.FK(cobot.q))"
   ]
  },
  {
   "cell_type": "code",
   "execution_count": 36,
   "id": "dedicated-syria",
   "metadata": {},
   "outputs": [
    {
     "name": "stdout",
     "output_type": "stream",
     "text": [
      "[[-0.70711 -0.70711  0.23854  0.6055 ]\n",
      " [ 0.       0.       1.       0.00829]\n",
      " [-0.70711  0.70711  0.       0.14835]\n",
      " [ 0.       0.       0.       1.     ]]\n",
      "  \u001b[38;5;1m-0.707558   \u001b[0m\u001b[38;5;1m-0.706654   \u001b[0m\u001b[38;5;1m 0.000982866\u001b[0m\u001b[38;5;4m 0.605016   \u001b[0m  \u001b[0m\n",
      "  \u001b[38;5;1m 1.95279e-05\u001b[0m\u001b[38;5;1m 0.00137132 \u001b[0m\u001b[38;5;1m 0.999999   \u001b[0m\u001b[38;5;4m 0.00877124 \u001b[0m  \u001b[0m\n",
      "  \u001b[38;5;1m-0.706655   \u001b[0m\u001b[38;5;1m 0.707558   \u001b[0m\u001b[38;5;1m-0.000956488\u001b[0m\u001b[38;5;4m 0.172865   \u001b[0m  \u001b[0m\n",
      "  \u001b[38;5;244m 0          \u001b[0m\u001b[38;5;244m 0          \u001b[0m\u001b[38;5;244m 0          \u001b[0m\u001b[38;5;244m 1          \u001b[0m  \u001b[0m\n",
      "\n"
     ]
    }
   ],
   "source": [
    "geherüber = np.array([[1, 0, 0, 0.15],\n",
    "                       [0, 1, 0, -0.02],\n",
    "                       [0, 0, 1, -0.505],\n",
    "                       [0,0,0,1]])\n",
    "\n",
    "neurüber = geherüber @ newtry\n",
    "print(neu)\n",
    "print(cobot.FK(cobot.q))"
   ]
  },
  {
   "cell_type": "code",
   "execution_count": 36,
   "id": "phantom-producer",
   "metadata": {},
   "outputs": [
    {
     "name": "stdout",
     "output_type": "stream",
     "text": [
      "[[-0.70711 -0.70711  0.23854  0.6055 ]\n",
      " [ 0.       0.       1.      -0.15171]\n",
      " [-0.70711  0.70711  0.       0.18335]\n",
      " [ 0.       0.       0.       1.     ]]\n",
      "  \u001b[38;5;1m-0.707792   \u001b[0m\u001b[38;5;1m-0.70642    \u001b[0m\u001b[38;5;1m 0.000970604\u001b[0m\u001b[38;5;4m 0.605024   \u001b[0m  \u001b[0m\n",
      "  \u001b[38;5;1m 1.53631e-05\u001b[0m\u001b[38;5;1m 0.00135858 \u001b[0m\u001b[38;5;1m 0.999999   \u001b[0m\u001b[38;5;4m-0.15123    \u001b[0m  \u001b[0m\n",
      "  \u001b[38;5;1m-0.706421   \u001b[0m\u001b[38;5;1m 0.707792   \u001b[0m\u001b[38;5;1m-0.000950741\u001b[0m\u001b[38;5;4m 0.202873   \u001b[0m  \u001b[0m\n",
      "  \u001b[38;5;244m 0          \u001b[0m\u001b[38;5;244m 0          \u001b[0m\u001b[38;5;244m 0          \u001b[0m\u001b[38;5;244m 1          \u001b[0m  \u001b[0m\n",
      "\n"
     ]
    }
   ],
   "source": [
    "geherauf = np.array([[1, 0, 0, 0.15],\n",
    "                       [0, 1, 0, -0.2],\n",
    "                       [0, 0, 1, -0.47],\n",
    "                       [0,0,0,1]])\n",
    "neunachoben = geherauf @ newtry\n",
    "print(neunachoben)\n",
    "print(cobot.FK(cobot.q))"
   ]
  },
  {
   "cell_type": "code",
   "execution_count": 34,
   "id": "personal-surface",
   "metadata": {},
   "outputs": [
    {
     "data": {
      "application/vnd.jupyter.widget-view+json": {
       "model_id": "4873e4706a19439cb941e3d0dda816ae",
       "version_major": 2,
       "version_minor": 0
      },
      "text/plain": [
       "  0%|          | 0/5000 [00:00<?, ?it/s]"
      ]
     },
     "metadata": {},
     "output_type": "display_data"
    },
    {
     "name": "stdout",
     "output_type": "stream",
     "text": [
      "[INFO] [1638982742.154302]: reached goal pose at step 408 / 5000\n"
     ]
    },
    {
     "data": {
      "application/vnd.jupyter.widget-view+json": {
       "model_id": "d5b3bab6dcb8443c9e3a8f0129d9e56e",
       "version_major": 2,
       "version_minor": 0
      },
      "text/plain": [
       "  0%|          | 0/5000 [00:00<?, ?it/s]"
      ]
     },
     "metadata": {},
     "output_type": "display_data"
    },
    {
     "name": "stdout",
     "output_type": "stream",
     "text": [
      "[INFO] [1638982744.485331]: reached goal pose at step 227 / 5000\n"
     ]
    }
   ],
   "source": [
    "# commented for safety reasons -> outcomment for testing\n",
    "cobot.move_to_pose(neu,v_max=0.002,rot_max=0.002)\n",
    "T = int(50 * cobot.hz)\n",
    "for t in trange(T):\n",
    "    if cobot.state is None:\n",
    "        rospy.loginfo(f\"reached goal pose at step {t + 1} / {T}\")\n",
    "        break\n",
    "    elif cobot.state == \"error\":\n",
    "        rospy.logerr(f\"robot in ERROR state\")\n",
    "    cobot.update()\n",
    "\n",
    "# if cobot.state == None:\n",
    "#     cobot.move_to_pose(neurüber, vmax=0.001,rot_max=0.001)\n",
    "#     T = int(50 * cobot.hz)\n",
    "#     for t in trange(T):\n",
    "#         if cobot.state is None:\n",
    "#             rospy.loginfo(f\"reached goal pose at step {t + 1} / {T}\")\n",
    "#             break\n",
    "#         elif cobot.state == \"error\":\n",
    "#             rospy.logerr(f\"robot in ERROR state\")\n",
    "#         cobot.update()\n",
    "        \n",
    "if cobot.state == None:\n",
    "    cobot.move_to_pose(neunachoben, vmax=0.002,rot_max=0.002)\n",
    "    T = int(50 * cobot.hz)\n",
    "    for t in trange(T):\n",
    "        if cobot.state is None:\n",
    "            rospy.loginfo(f\"reached goal pose at step {t + 1} / {T}\")\n",
    "            break\n",
    "        elif cobot.state == \"error\":\n",
    "            rospy.logerr(f\"robot in ERROR state\")\n",
    "        cobot.update()\n"
   ]
  },
  {
   "cell_type": "markdown",
   "id": "conceptual-greeting",
   "metadata": {},
   "source": [
    "#### Manually Activate Velocity Controller"
   ]
  },
  {
   "cell_type": "code",
   "execution_count": 15,
   "id": "fourth-sullivan",
   "metadata": {},
   "outputs": [],
   "source": [
    "sns_trk_vel_cmd = hrr_rob.SnsTrkCmd.from_ros()"
   ]
  },
  {
   "cell_type": "code",
   "execution_count": 16,
   "id": "developing-excellence",
   "metadata": {},
   "outputs": [],
   "source": [
    "sns_trk_vel_cmd.activate()"
   ]
  },
  {
   "cell_type": "markdown",
   "id": "apparent-hobby",
   "metadata": {},
   "source": [
    "#### Move with certain velocity in Shaftgrinder_tip frame"
   ]
  },
  {
   "cell_type": "code",
   "execution_count": 75,
   "id": "dedicated-principle",
   "metadata": {},
   "outputs": [
    {
     "data": {
      "application/vnd.jupyter.widget-view+json": {
       "model_id": "6366b432144e44489fc1225575f8a6e6",
       "version_major": 2,
       "version_minor": 0
      },
      "text/plain": [
       "  0%|          | 0/500 [00:00<?, ?it/s]"
      ]
     },
     "metadata": {},
     "output_type": "display_data"
    }
   ],
   "source": [
    "r = rospy.Rate(50)\n",
    "v_test = np.zeros(6)\n",
    "for t in trange(500):\n",
    "    v_test[5] = -6e-3 #* np.sin(t/ 100.0 * 2 * np.pi)\n",
    "    sns_trk_vel_cmd.update_cmd(v_test, \"shaftgrinder_tip\")\n",
    "    r.sleep() \n",
    "sns_trk_vel_cmd.stop()"
   ]
  },
  {
   "cell_type": "code",
   "execution_count": 18,
   "id": "danish-rider",
   "metadata": {},
   "outputs": [
    {
     "data": {
      "application/vnd.jupyter.widget-view+json": {
       "model_id": "335d9e49dc834555a87615b4169682e7",
       "version_major": 2,
       "version_minor": 0
      },
      "text/plain": [
       "  0%|          | 0/200 [00:00<?, ?it/s]"
      ]
     },
     "metadata": {},
     "output_type": "display_data"
    }
   ],
   "source": [
    "r = rospy.Rate(50)\n",
    "v_test = np.zeros(6)\n",
    "for t in trange(200):\n",
    "    v_test[2] = 6e-3 #* np.sin(t/ 100.0 * 2 * np.pi)\n",
    "    sns_trk_vel_cmd.update_cmd(v_test, \"shaftgrinder_tip\")\n",
    "    r.sleep() \n",
    "sns_trk_vel_cmd.stop()"
   ]
  },
  {
   "cell_type": "markdown",
   "id": "christian-guard",
   "metadata": {},
   "source": [
    "#### Move to Single Point (for Safety reasons for example)"
   ]
  },
  {
   "cell_type": "code",
   "execution_count": 105,
   "id": "academic-harbor",
   "metadata": {},
   "outputs": [
    {
     "name": "stdout",
     "output_type": "stream",
     "text": [
      "  \u001b[38;5;1m-0.440069   \u001b[0m\u001b[38;5;1m-0.438544   \u001b[0m\u001b[38;5;1m 0.783593   \u001b[0m\u001b[38;5;4m 0.576444   \u001b[0m  \u001b[0m\n",
      "  \u001b[38;5;1m 0.553794   \u001b[0m\u001b[38;5;1m 0.554375   \u001b[0m\u001b[38;5;1m 0.621273   \u001b[0m\u001b[38;5;4m 0.0332865  \u001b[0m  \u001b[0m\n",
      "  \u001b[38;5;1m-0.70686    \u001b[0m\u001b[38;5;1m 0.707353   \u001b[0m\u001b[38;5;1m-0.00109972 \u001b[0m\u001b[38;5;4m 0.145475   \u001b[0m  \u001b[0m\n",
      "  \u001b[38;5;244m 0          \u001b[0m\u001b[38;5;244m 0          \u001b[0m\u001b[38;5;244m 0          \u001b[0m\u001b[38;5;244m 1          \u001b[0m  \u001b[0m\n",
      "\n",
      "[[-0.43992 -0.43973  0.78301  0.57597]\n",
      " [ 0.5527   0.55465  0.62201  0.03377]\n",
      " [-0.70781  0.7064   0.       0.142  ]\n",
      " [ 0.       0.       0.       1.     ]]\n"
     ]
    }
   ],
   "source": [
    "print(cobot.FK(cobot.q))\n",
    "gotoPointnew = np.array([[1, 0, 0, 0.02],\n",
    "                       [0, 1, 0, 0.185],\n",
    "                       [0, 0, 1, -0.038],\n",
    "                       [0,0,0,1]])\n",
    "Alt_TF = np.array([[-0.439919, -0.439733, 0.783011, 0.555965],\n",
    "                       [0.552695, 0.554649, 0.622007, -0.151232],\n",
    "                       [-0.707813, 0.706399, 0, 0.18],\n",
    "                       [0,0,0,1]])\n",
    "point = gotoPointnew @ Alt_TF\n",
    "print(point)"
   ]
  },
  {
   "cell_type": "code",
   "execution_count": 102,
   "id": "statutory-childhood",
   "metadata": {},
   "outputs": [
    {
     "ename": "NameError",
     "evalue": "name 'Shaftgrinder_tf' is not defined",
     "output_type": "error",
     "traceback": [
      "\u001b[0;31m---------------------------------------------------------------------------\u001b[0m",
      "\u001b[0;31mNameError\u001b[0m                                 Traceback (most recent call last)",
      "\u001b[0;32m<ipython-input-102-63554de460f5>\u001b[0m in \u001b[0;36m<module>\u001b[0;34m\u001b[0m\n\u001b[1;32m      4\u001b[0m                        [0,0,0,1]])\n\u001b[1;32m      5\u001b[0m \u001b[0;34m\u001b[0m\u001b[0m\n\u001b[0;32m----> 6\u001b[0;31m \u001b[0msinglepoint\u001b[0m \u001b[0;34m=\u001b[0m \u001b[0mgotoPoint\u001b[0m \u001b[0;34m@\u001b[0m \u001b[0mShaftgrinder_tf\u001b[0m\u001b[0;34m\u001b[0m\u001b[0;34m\u001b[0m\u001b[0m\n\u001b[0m\u001b[1;32m      7\u001b[0m \u001b[0mprint\u001b[0m\u001b[0;34m(\u001b[0m\u001b[0msinglepoint\u001b[0m\u001b[0;34m)\u001b[0m\u001b[0;34m\u001b[0m\u001b[0;34m\u001b[0m\u001b[0m\n\u001b[1;32m      8\u001b[0m \u001b[0mprint\u001b[0m\u001b[0;34m(\u001b[0m\u001b[0mcobot\u001b[0m\u001b[0;34m.\u001b[0m\u001b[0mFK\u001b[0m\u001b[0;34m(\u001b[0m\u001b[0mcobot\u001b[0m\u001b[0;34m.\u001b[0m\u001b[0mq\u001b[0m\u001b[0;34m)\u001b[0m\u001b[0;34m)\u001b[0m\u001b[0;34m\u001b[0m\u001b[0;34m\u001b[0m\u001b[0m\n",
      "\u001b[0;31mNameError\u001b[0m: name 'Shaftgrinder_tf' is not defined"
     ]
    }
   ],
   "source": [
    "gotoPoint = np.array([[1, 0, 0, 0.1],\n",
    "                       [0, 1, 0, -0.2],\n",
    "                       [0, 0, 1, -0.485],\n",
    "                       [0,0,0,1]])\n",
    "\n",
    "singlepoint = gotoPoint @ Shaftgrinder_tf\n",
    "print(singlepoint)\n",
    "print(cobot.FK(cobot.q))"
   ]
  },
  {
   "cell_type": "code",
   "execution_count": 8,
   "id": "incorrect-master",
   "metadata": {},
   "outputs": [
    {
     "name": "stderr",
     "output_type": "stream",
     "text": [
      "[ERROR] [1641308108.660848]: cannot activate sensor-track velocity controller: The robot is currently in status: 69 => please restart\n"
     ]
    },
    {
     "data": {
      "application/vnd.jupyter.widget-view+json": {
       "model_id": "f47d7fbdcbac4c6ab8841211762c2c5d",
       "version_major": 2,
       "version_minor": 0
      },
      "text/plain": [
       "  0%|          | 0/5000 [00:00<?, ?it/s]"
      ]
     },
     "metadata": {},
     "output_type": "display_data"
    },
    {
     "ename": "KeyboardInterrupt",
     "evalue": "",
     "output_type": "error",
     "traceback": [
      "\u001b[0;31m---------------------------------------------------------------------------\u001b[0m",
      "\u001b[0;31mKeyboardInterrupt\u001b[0m                         Traceback (most recent call last)",
      "\u001b[0;32m<ipython-input-8-50ea076567fb>\u001b[0m in \u001b[0;36m<module>\u001b[0;34m\u001b[0m\n\u001b[1;32m      7\u001b[0m     \u001b[0;32melif\u001b[0m \u001b[0mcobot\u001b[0m\u001b[0;34m.\u001b[0m\u001b[0mstate\u001b[0m \u001b[0;34m==\u001b[0m \u001b[0;34m\"error\"\u001b[0m\u001b[0;34m:\u001b[0m\u001b[0;34m\u001b[0m\u001b[0;34m\u001b[0m\u001b[0m\n\u001b[1;32m      8\u001b[0m         \u001b[0mrospy\u001b[0m\u001b[0;34m.\u001b[0m\u001b[0mlogerr\u001b[0m\u001b[0;34m(\u001b[0m\u001b[0;34mf\"robot in ERROR state\"\u001b[0m\u001b[0;34m)\u001b[0m\u001b[0;34m\u001b[0m\u001b[0;34m\u001b[0m\u001b[0m\n\u001b[0;32m----> 9\u001b[0;31m     \u001b[0mcobot\u001b[0m\u001b[0;34m.\u001b[0m\u001b[0mupdate\u001b[0m\u001b[0;34m(\u001b[0m\u001b[0;34m)\u001b[0m\u001b[0;34m\u001b[0m\u001b[0;34m\u001b[0m\u001b[0m\n\u001b[0m",
      "\u001b[0;32m~/_ros/hrr_ws/src/hrr_cobot/hrr_cobot_robot/src/hrr_cobot_robot/hrr_cobot_control.py\u001b[0m in \u001b[0;36mupdate\u001b[0;34m(self, sleep, u_cmd, u_cmd_frame, skip_forward, **_)\u001b[0m\n\u001b[1;32m    364\u001b[0m         \"\"\"\n\u001b[1;32m    365\u001b[0m         \u001b[0;32mif\u001b[0m \u001b[0;32mnot\u001b[0m \u001b[0mskip_forward\u001b[0m\u001b[0;34m:\u001b[0m\u001b[0;34m\u001b[0m\u001b[0;34m\u001b[0m\u001b[0m\n\u001b[0;32m--> 366\u001b[0;31m             \u001b[0mself\u001b[0m\u001b[0;34m.\u001b[0m\u001b[0mupdate_tf\u001b[0m\u001b[0;34m(\u001b[0m\u001b[0;34m)\u001b[0m\u001b[0;34m\u001b[0m\u001b[0;34m\u001b[0m\u001b[0m\n\u001b[0m\u001b[1;32m    367\u001b[0m         \u001b[0;32mif\u001b[0m \u001b[0mself\u001b[0m\u001b[0;34m.\u001b[0m\u001b[0msafety_check\u001b[0m\u001b[0;34m(\u001b[0m\u001b[0;34m)\u001b[0m\u001b[0;34m:\u001b[0m\u001b[0;34m\u001b[0m\u001b[0;34m\u001b[0m\u001b[0m\n\u001b[1;32m    368\u001b[0m             \u001b[0;32mif\u001b[0m \u001b[0mu_cmd\u001b[0m \u001b[0;32mis\u001b[0m \u001b[0;32mnot\u001b[0m \u001b[0;32mNone\u001b[0m\u001b[0;34m:\u001b[0m\u001b[0;34m\u001b[0m\u001b[0;34m\u001b[0m\u001b[0m\n",
      "\u001b[0;32m~/_ros/hrr_ws/src/hrr_cobot/hrr_cobot_robot/src/hrr_cobot_robot/hrr_cobot_handle.py\u001b[0m in \u001b[0;36mupdate_tf\u001b[0;34m(self)\u001b[0m\n\u001b[1;32m    538\u001b[0m     \u001b[0;32mdef\u001b[0m \u001b[0mupdate_tf\u001b[0m\u001b[0;34m(\u001b[0m\u001b[0mself\u001b[0m\u001b[0;34m)\u001b[0m \u001b[0;34m->\u001b[0m \u001b[0;32mNone\u001b[0m\u001b[0;34m:\u001b[0m\u001b[0;34m\u001b[0m\u001b[0;34m\u001b[0m\u001b[0m\n\u001b[1;32m    539\u001b[0m         \u001b[0;32mtry\u001b[0m\u001b[0;34m:\u001b[0m\u001b[0;34m\u001b[0m\u001b[0;34m\u001b[0m\u001b[0m\n\u001b[0;32m--> 540\u001b[0;31m             \u001b[0mself\u001b[0m\u001b[0;34m.\u001b[0m\u001b[0m_robot\u001b[0m\u001b[0;34m.\u001b[0m\u001b[0mupdate_tf\u001b[0m\u001b[0;34m(\u001b[0m\u001b[0;34m)\u001b[0m\u001b[0;34m\u001b[0m\u001b[0;34m\u001b[0m\u001b[0m\n\u001b[0m\u001b[1;32m    541\u001b[0m         \u001b[0;32mexcept\u001b[0m \u001b[0mAttributeError\u001b[0m\u001b[0;34m:\u001b[0m\u001b[0;34m\u001b[0m\u001b[0;34m\u001b[0m\u001b[0m\n\u001b[1;32m    542\u001b[0m             \u001b[0;32mpass\u001b[0m\u001b[0;34m\u001b[0m\u001b[0;34m\u001b[0m\u001b[0m\n",
      "\u001b[0;32m~/_ros/hrr_ws/src/hrr_cobot/hrr_cobot_robot/src/hrr_cobot_robot/ros_interfaces/robot_status_if.py\u001b[0m in \u001b[0;36mupdate_tf\u001b[0;34m(self)\u001b[0m\n\u001b[1;32m    205\u001b[0m \u001b[0;34m\u001b[0m\u001b[0m\n\u001b[1;32m    206\u001b[0m     \u001b[0;32mdef\u001b[0m \u001b[0mupdate_tf\u001b[0m\u001b[0;34m(\u001b[0m\u001b[0mself\u001b[0m\u001b[0;34m)\u001b[0m\u001b[0;34m:\u001b[0m\u001b[0;34m\u001b[0m\u001b[0;34m\u001b[0m\u001b[0m\n\u001b[0;32m--> 207\u001b[0;31m         \u001b[0mself\u001b[0m\u001b[0;34m.\u001b[0m\u001b[0m_p\u001b[0m\u001b[0;34m,\u001b[0m \u001b[0mself\u001b[0m\u001b[0;34m.\u001b[0m\u001b[0m_quat\u001b[0m \u001b[0;34m=\u001b[0m \u001b[0mself\u001b[0m\u001b[0;34m.\u001b[0m\u001b[0m_tf\u001b[0m\u001b[0;34m.\u001b[0m\u001b[0mT_A_B\u001b[0m\u001b[0;34m(\u001b[0m\u001b[0mA\u001b[0m\u001b[0;34m=\u001b[0m\u001b[0mself\u001b[0m\u001b[0;34m.\u001b[0m\u001b[0m_base_frame\u001b[0m\u001b[0;34m,\u001b[0m \u001b[0mB\u001b[0m\u001b[0;34m=\u001b[0m\u001b[0mself\u001b[0m\u001b[0;34m.\u001b[0m\u001b[0m_sns_frame\u001b[0m\u001b[0;34m,\u001b[0m \u001b[0;34m)\u001b[0m\u001b[0;34m\u001b[0m\u001b[0;34m\u001b[0m\u001b[0m\n\u001b[0m\u001b[1;32m    208\u001b[0m \u001b[0;34m\u001b[0m\u001b[0m\n\u001b[1;32m    209\u001b[0m     \u001b[0;32mdef\u001b[0m \u001b[0m_assert_tf\u001b[0m\u001b[0;34m(\u001b[0m\u001b[0mself\u001b[0m\u001b[0;34m)\u001b[0m\u001b[0;34m:\u001b[0m\u001b[0;34m\u001b[0m\u001b[0;34m\u001b[0m\u001b[0m\n",
      "\u001b[0;32m~/_ros/hrr_ws/src/hrr_cobot/hrr_common/src/hrr_common/ros_utils/transformations.py\u001b[0m in \u001b[0;36mT_A_B\u001b[0;34m(self, A, B, time, i, max_dT)\u001b[0m\n\u001b[1;32m    105\u001b[0m                 \u001b[0mtime\u001b[0m \u001b[0;34m=\u001b[0m \u001b[0mrospy\u001b[0m\u001b[0;34m.\u001b[0m\u001b[0mTime\u001b[0m\u001b[0;34m(\u001b[0m\u001b[0;36m0\u001b[0m\u001b[0;34m)\u001b[0m\u001b[0;34m\u001b[0m\u001b[0;34m\u001b[0m\u001b[0m\n\u001b[1;32m    106\u001b[0m         \u001b[0;32mtry\u001b[0m\u001b[0;34m:\u001b[0m\u001b[0;34m\u001b[0m\u001b[0;34m\u001b[0m\u001b[0m\n\u001b[0;32m--> 107\u001b[0;31m             \u001b[0;32mreturn\u001b[0m \u001b[0mget_tf_bare\u001b[0m\u001b[0;34m(\u001b[0m\u001b[0mself\u001b[0m\u001b[0;34m.\u001b[0m\u001b[0mbuffer\u001b[0m\u001b[0;34m[\u001b[0m\u001b[0mi\u001b[0m\u001b[0;34m]\u001b[0m\u001b[0;34m,\u001b[0m \u001b[0mtarget_frame\u001b[0m\u001b[0;34m=\u001b[0m\u001b[0mA\u001b[0m\u001b[0;34m,\u001b[0m \u001b[0msource_frame\u001b[0m\u001b[0;34m=\u001b[0m\u001b[0mB\u001b[0m\u001b[0;34m,\u001b[0m \u001b[0mtime\u001b[0m\u001b[0;34m=\u001b[0m\u001b[0mtime\u001b[0m\u001b[0;34m)\u001b[0m\u001b[0;34m\u001b[0m\u001b[0;34m\u001b[0m\u001b[0m\n\u001b[0m\u001b[1;32m    108\u001b[0m         \u001b[0;32mexcept\u001b[0m \u001b[0mIndexError\u001b[0m\u001b[0;34m:\u001b[0m\u001b[0;34m\u001b[0m\u001b[0;34m\u001b[0m\u001b[0m\n\u001b[1;32m    109\u001b[0m             \u001b[0mself\u001b[0m\u001b[0;34m.\u001b[0m\u001b[0m_update_buffers\u001b[0m\u001b[0;34m(\u001b[0m\u001b[0;32mTrue\u001b[0m\u001b[0;34m)\u001b[0m\u001b[0;34m\u001b[0m\u001b[0;34m\u001b[0m\u001b[0m\n",
      "\u001b[0;32m~/_ros/hrr_ws/src/hrr_cobot/hrr_common/src/hrr_common/ros_utils/transformations.py\u001b[0m in \u001b[0;36mget_tf_bare\u001b[0;34m(listener, target_frame, source_frame, trials, ts, time)\u001b[0m\n\u001b[1;32m     47\u001b[0m                 target_frame=target_frame, source_frame=source_frame, time=time)\n\u001b[1;32m     48\u001b[0m             \u001b[0mt\u001b[0m \u001b[0;34m=\u001b[0m \u001b[0mtrans_msg\u001b[0m\u001b[0;34m.\u001b[0m\u001b[0mtransform\u001b[0m\u001b[0;34m\u001b[0m\u001b[0;34m\u001b[0m\u001b[0m\n\u001b[0;32m---> 49\u001b[0;31m             return (np.r_[t.translation.x, t.translation.y, t.translation.z],\n\u001b[0m\u001b[1;32m     50\u001b[0m                     np.quaternion(t.rotation.w, t.rotation.x, t.rotation.y, t.rotation.z))\n\u001b[1;32m     51\u001b[0m         \u001b[0;32mexcept\u001b[0m \u001b[0;34m(\u001b[0m\u001b[0mtf2_ros\u001b[0m\u001b[0;34m.\u001b[0m\u001b[0mLookupException\u001b[0m\u001b[0;34m,\u001b[0m \u001b[0mtf2_ros\u001b[0m\u001b[0;34m.\u001b[0m\u001b[0mConnectivityException\u001b[0m\u001b[0;34m,\u001b[0m \u001b[0mtf2_ros\u001b[0m\u001b[0;34m.\u001b[0m\u001b[0mExtrapolationException\u001b[0m\u001b[0;34m)\u001b[0m\u001b[0;34m:\u001b[0m\u001b[0;34m\u001b[0m\u001b[0;34m\u001b[0m\u001b[0m\n",
      "\u001b[0;31mKeyboardInterrupt\u001b[0m: "
     ]
    }
   ],
   "source": [
    "cobot.move_to_pose(Alt_TF,v_max=0.005,rot_max=0.005)\n",
    "T = int(50 * cobot.hz)\n",
    "for t in trange(T):\n",
    "    if cobot.state is None:\n",
    "        rospy.loginfo(f\"reached goal pose at step {t + 1} / {T}\")\n",
    "        break\n",
    "    elif cobot.state == \"error\":\n",
    "        rospy.logerr(f\"robot in ERROR state\")\n",
    "    cobot.update()"
   ]
  },
  {
   "cell_type": "markdown",
   "id": "plastic-variance",
   "metadata": {},
   "source": [
    "#### Another 3 Point Routine (PointA, PointB, PointC)"
   ]
  },
  {
   "cell_type": "code",
   "execution_count": 17,
   "id": "sitting-minute",
   "metadata": {},
   "outputs": [
    {
     "name": "stdout",
     "output_type": "stream",
     "text": [
      "  \u001b[38;5;1m-0.44006    \u001b[0m\u001b[38;5;1m-0.438557   \u001b[0m\u001b[38;5;1m 0.783591   \u001b[0m\u001b[38;5;4m 0.576445   \u001b[0m  \u001b[0m\n",
      "  \u001b[38;5;1m 0.55378    \u001b[0m\u001b[38;5;1m 0.554387   \u001b[0m\u001b[38;5;1m 0.621275   \u001b[0m\u001b[38;5;4m 0.0332867  \u001b[0m  \u001b[0m\n",
      "  \u001b[38;5;1m-0.706877   \u001b[0m\u001b[38;5;1m 0.707335   \u001b[0m\u001b[38;5;1m-0.00109916 \u001b[0m\u001b[38;5;4m 0.179529   \u001b[0m  \u001b[0m\n",
      "  \u001b[38;5;244m 0          \u001b[0m\u001b[38;5;244m 0          \u001b[0m\u001b[38;5;244m 0          \u001b[0m\u001b[38;5;244m 1          \u001b[0m  \u001b[0m\n",
      "\n"
     ]
    }
   ],
   "source": [
    "print(cobot.FK(cobot.q))\n",
    "gotoPointnew = np.array([[1, 0, 0, 0.02],\n",
    "                       [0, 1, 0, 0.185],\n",
    "                       [0, 0, 1, 0],\n",
    "                       [0,0,0,1]])\n",
    "ausdemWeg = np.array([[-0.439919, -0.439733, 0.783011, 0.555965],\n",
    "                       [0.552695, 0.554649, 0.622007, -0.151232],\n",
    "                       [-0.707813, 0.706399, 0, 0.18],\n",
    "                       [0,0,0,1]])\n",
    "pointA = gotoPointnew @ ausdemWeg\n"
   ]
  },
  {
   "cell_type": "code",
   "execution_count": 18,
   "id": "functioning-brief",
   "metadata": {},
   "outputs": [
    {
     "name": "stdout",
     "output_type": "stream",
     "text": [
      "  \u001b[38;5;1m-0.44006    \u001b[0m\u001b[38;5;1m-0.438557   \u001b[0m\u001b[38;5;1m 0.783591   \u001b[0m\u001b[38;5;4m 0.576445   \u001b[0m  \u001b[0m\n",
      "  \u001b[38;5;1m 0.55378    \u001b[0m\u001b[38;5;1m 0.554387   \u001b[0m\u001b[38;5;1m 0.621275   \u001b[0m\u001b[38;5;4m 0.0332867  \u001b[0m  \u001b[0m\n",
      "  \u001b[38;5;1m-0.706877   \u001b[0m\u001b[38;5;1m 0.707335   \u001b[0m\u001b[38;5;1m-0.00109916 \u001b[0m\u001b[38;5;4m 0.179529   \u001b[0m  \u001b[0m\n",
      "  \u001b[38;5;244m 0          \u001b[0m\u001b[38;5;244m 0          \u001b[0m\u001b[38;5;244m 0          \u001b[0m\u001b[38;5;244m 1          \u001b[0m  \u001b[0m\n",
      "\n"
     ]
    }
   ],
   "source": [
    "print(cobot.FK(cobot.q))\n",
    "gotoPointnew = np.array([[1, 0, 0, 0.02],\n",
    "                       [0, 1, 0, 0.185],\n",
    "                       [0, 0, 1, -0.046],\n",
    "                       [0,0,0,1]])\n",
    "ausdemWeg = np.array([[-0.439919, -0.439733, 0.783011, 0.555965],\n",
    "                       [0.552695, 0.554649, 0.622007, -0.151232],\n",
    "                       [-0.707813, 0.706399, 0, 0.18],\n",
    "                       [0,0,0,1]])\n",
    "pointB = gotoPointnew @ ausdemWeg\n"
   ]
  },
  {
   "cell_type": "code",
   "execution_count": 19,
   "id": "parallel-paris",
   "metadata": {},
   "outputs": [
    {
     "name": "stdout",
     "output_type": "stream",
     "text": [
      "  \u001b[38;5;1m-0.44006    \u001b[0m\u001b[38;5;1m-0.438557   \u001b[0m\u001b[38;5;1m 0.783591   \u001b[0m\u001b[38;5;4m 0.576445   \u001b[0m  \u001b[0m\n",
      "  \u001b[38;5;1m 0.55378    \u001b[0m\u001b[38;5;1m 0.554387   \u001b[0m\u001b[38;5;1m 0.621275   \u001b[0m\u001b[38;5;4m 0.0332867  \u001b[0m  \u001b[0m\n",
      "  \u001b[38;5;1m-0.706877   \u001b[0m\u001b[38;5;1m 0.707335   \u001b[0m\u001b[38;5;1m-0.00109916 \u001b[0m\u001b[38;5;4m 0.179529   \u001b[0m  \u001b[0m\n",
      "  \u001b[38;5;244m 0          \u001b[0m\u001b[38;5;244m 0          \u001b[0m\u001b[38;5;244m 0          \u001b[0m\u001b[38;5;244m 1          \u001b[0m  \u001b[0m\n",
      "\n"
     ]
    }
   ],
   "source": [
    "print(cobot.FK(cobot.q))\n",
    "gotoPointnew = np.array([[1, 0, 0, 0.02],\n",
    "                       [0, 1, 0, 0.185],\n",
    "                       [0, 0, 1, 0],\n",
    "                       [0,0,0,1]])\n",
    "ausdemWeg = np.array([[-0.439919, -0.439733, 0.783011, 0.555965],\n",
    "                       [0.552695, 0.554649, 0.622007, -0.151232],\n",
    "                       [-0.707813, 0.706399, 0, 0.18],\n",
    "                       [0,0,0,1]])\n",
    "pointC = gotoPointnew @ ausdemWeg\n"
   ]
  },
  {
   "cell_type": "code",
   "execution_count": 24,
   "id": "moving-certificate",
   "metadata": {},
   "outputs": [],
   "source": [
    "cobot.reset_tool()\n",
    "cobot.publish_rpm(17000)\n",
    "cobot.enable_grinder()"
   ]
  },
  {
   "cell_type": "code",
   "execution_count": 21,
   "id": "mysterious-feedback",
   "metadata": {},
   "outputs": [
    {
     "data": {
      "application/vnd.jupyter.widget-view+json": {
       "model_id": "75180e3cd86c44a2908ffeba354131a7",
       "version_major": 2,
       "version_minor": 0
      },
      "text/plain": [
       "  0%|          | 0/5000 [00:00<?, ?it/s]"
      ]
     },
     "metadata": {},
     "output_type": "display_data"
    },
    {
     "name": "stdout",
     "output_type": "stream",
     "text": [
      "[INFO] [1640270170.399956]: reached goal pose at step 2 / 5000\n"
     ]
    },
    {
     "data": {
      "application/vnd.jupyter.widget-view+json": {
       "model_id": "6b61ef18ec7844019bb24dae0aec7f4c",
       "version_major": 2,
       "version_minor": 0
      },
      "text/plain": [
       "  0%|          | 0/5000 [00:00<?, ?it/s]"
      ]
     },
     "metadata": {},
     "output_type": "display_data"
    },
    {
     "ename": "KeyboardInterrupt",
     "evalue": "",
     "output_type": "error",
     "traceback": [
      "\u001b[0;31m---------------------------------------------------------------------------\u001b[0m",
      "\u001b[0;31mKeyboardInterrupt\u001b[0m                         Traceback (most recent call last)",
      "\u001b[0;32m<ipython-input-21-1bda13155efc>\u001b[0m in \u001b[0;36m<module>\u001b[0;34m\u001b[0m\n\u001b[1;32m     21\u001b[0m             \u001b[0mrospy\u001b[0m\u001b[0;34m.\u001b[0m\u001b[0mlogerr\u001b[0m\u001b[0;34m(\u001b[0m\u001b[0;34mf\"robot in ERROR state\"\u001b[0m\u001b[0;34m)\u001b[0m\u001b[0;34m\u001b[0m\u001b[0;34m\u001b[0m\u001b[0m\n\u001b[1;32m     22\u001b[0m         \u001b[0mcobot\u001b[0m\u001b[0;34m.\u001b[0m\u001b[0menable_grinder\u001b[0m\u001b[0;34m(\u001b[0m\u001b[0;34m)\u001b[0m\u001b[0;34m\u001b[0m\u001b[0;34m\u001b[0m\u001b[0m\n\u001b[0;32m---> 23\u001b[0;31m         \u001b[0mcobot\u001b[0m\u001b[0;34m.\u001b[0m\u001b[0mupdate\u001b[0m\u001b[0;34m(\u001b[0m\u001b[0;34m)\u001b[0m\u001b[0;34m\u001b[0m\u001b[0;34m\u001b[0m\u001b[0m\n\u001b[0m\u001b[1;32m     24\u001b[0m \u001b[0;34m\u001b[0m\u001b[0m\n\u001b[1;32m     25\u001b[0m \u001b[0;32mif\u001b[0m \u001b[0mcobot\u001b[0m\u001b[0;34m.\u001b[0m\u001b[0mstate\u001b[0m \u001b[0;34m==\u001b[0m \u001b[0;32mNone\u001b[0m\u001b[0;34m:\u001b[0m\u001b[0;34m\u001b[0m\u001b[0;34m\u001b[0m\u001b[0m\n",
      "\u001b[0;32m~/_ros/hrr_ws/src/hrr_cobot/hrr_cobot_robot/src/hrr_cobot_robot/hrr_cobot_control.py\u001b[0m in \u001b[0;36mupdate\u001b[0;34m(self, sleep, u_cmd, u_cmd_frame, skip_forward, **_)\u001b[0m\n\u001b[1;32m    495\u001b[0m                 \u001b[0mself\u001b[0m\u001b[0;34m.\u001b[0m\u001b[0m_joint_ctrl_command\u001b[0m\u001b[0;34m(\u001b[0m\u001b[0;34m)\u001b[0m\u001b[0;34m\u001b[0m\u001b[0;34m\u001b[0m\u001b[0m\n\u001b[1;32m    496\u001b[0m         \u001b[0;32mif\u001b[0m \u001b[0msleep\u001b[0m\u001b[0;34m:\u001b[0m\u001b[0;34m\u001b[0m\u001b[0;34m\u001b[0m\u001b[0m\n\u001b[0;32m--> 497\u001b[0;31m             \u001b[0mself\u001b[0m\u001b[0;34m.\u001b[0m\u001b[0msleep\u001b[0m\u001b[0;34m(\u001b[0m\u001b[0;34m)\u001b[0m\u001b[0;34m\u001b[0m\u001b[0;34m\u001b[0m\u001b[0m\n\u001b[0m\u001b[1;32m    498\u001b[0m \u001b[0;34m\u001b[0m\u001b[0m\n\u001b[1;32m    499\u001b[0m     \u001b[0;32mdef\u001b[0m \u001b[0mstop\u001b[0m\u001b[0;34m(\u001b[0m\u001b[0mself\u001b[0m\u001b[0;34m)\u001b[0m\u001b[0;34m:\u001b[0m\u001b[0;34m\u001b[0m\u001b[0;34m\u001b[0m\u001b[0m\n",
      "\u001b[0;32m~/_ros/hrr_ws/src/hrr_cobot/hrr_cobot_robot/src/hrr_cobot_robot/hrr_cobot_control.py\u001b[0m in \u001b[0;36msleep\u001b[0;34m(self)\u001b[0m\n\u001b[1;32m    520\u001b[0m     \u001b[0;32mdef\u001b[0m \u001b[0msleep\u001b[0m\u001b[0;34m(\u001b[0m\u001b[0mself\u001b[0m\u001b[0;34m)\u001b[0m\u001b[0;34m:\u001b[0m\u001b[0;34m\u001b[0m\u001b[0;34m\u001b[0m\u001b[0m\n\u001b[1;32m    521\u001b[0m         \u001b[0;34m\"\"\"set robot to sleep via ``rospy.Rate.sleep``\"\"\"\u001b[0m\u001b[0;34m\u001b[0m\u001b[0;34m\u001b[0m\u001b[0m\n\u001b[0;32m--> 522\u001b[0;31m         \u001b[0mself\u001b[0m\u001b[0;34m.\u001b[0m\u001b[0m_rate\u001b[0m\u001b[0;34m.\u001b[0m\u001b[0msleep\u001b[0m\u001b[0;34m(\u001b[0m\u001b[0;34m)\u001b[0m\u001b[0;34m\u001b[0m\u001b[0;34m\u001b[0m\u001b[0m\n\u001b[0m\u001b[1;32m    523\u001b[0m \u001b[0;34m\u001b[0m\u001b[0m\n\u001b[1;32m    524\u001b[0m     \u001b[0;32mdef\u001b[0m \u001b[0mgoTo\u001b[0m\u001b[0;34m(\u001b[0m\u001b[0mself\u001b[0m\u001b[0;34m,\u001b[0m \u001b[0mT_des\u001b[0m\u001b[0;34m,\u001b[0m \u001b[0;34m*\u001b[0m\u001b[0margs\u001b[0m\u001b[0;34m,\u001b[0m \u001b[0;34m**\u001b[0m\u001b[0mkwargs\u001b[0m\u001b[0;34m)\u001b[0m\u001b[0;34m:\u001b[0m\u001b[0;34m\u001b[0m\u001b[0;34m\u001b[0m\u001b[0m\n",
      "\u001b[0;32m/opt/ros/noetic/lib/python3/dist-packages/rospy/timer.py\u001b[0m in \u001b[0;36msleep\u001b[0;34m(self)\u001b[0m\n\u001b[1;32m    101\u001b[0m         \u001b[0mcurr_time\u001b[0m \u001b[0;34m=\u001b[0m \u001b[0mrospy\u001b[0m\u001b[0;34m.\u001b[0m\u001b[0mrostime\u001b[0m\u001b[0;34m.\u001b[0m\u001b[0mget_rostime\u001b[0m\u001b[0;34m(\u001b[0m\u001b[0;34m)\u001b[0m\u001b[0;34m\u001b[0m\u001b[0;34m\u001b[0m\u001b[0m\n\u001b[1;32m    102\u001b[0m         \u001b[0;32mtry\u001b[0m\u001b[0;34m:\u001b[0m\u001b[0;34m\u001b[0m\u001b[0;34m\u001b[0m\u001b[0m\n\u001b[0;32m--> 103\u001b[0;31m             \u001b[0msleep\u001b[0m\u001b[0;34m(\u001b[0m\u001b[0mself\u001b[0m\u001b[0;34m.\u001b[0m\u001b[0m_remaining\u001b[0m\u001b[0;34m(\u001b[0m\u001b[0mcurr_time\u001b[0m\u001b[0;34m)\u001b[0m\u001b[0;34m)\u001b[0m\u001b[0;34m\u001b[0m\u001b[0;34m\u001b[0m\u001b[0m\n\u001b[0m\u001b[1;32m    104\u001b[0m         \u001b[0;32mexcept\u001b[0m \u001b[0mrospy\u001b[0m\u001b[0;34m.\u001b[0m\u001b[0mexceptions\u001b[0m\u001b[0;34m.\u001b[0m\u001b[0mROSTimeMovedBackwardsException\u001b[0m\u001b[0;34m:\u001b[0m\u001b[0;34m\u001b[0m\u001b[0;34m\u001b[0m\u001b[0m\n\u001b[1;32m    105\u001b[0m             \u001b[0;32mif\u001b[0m \u001b[0;32mnot\u001b[0m \u001b[0mself\u001b[0m\u001b[0;34m.\u001b[0m\u001b[0m_reset\u001b[0m\u001b[0;34m:\u001b[0m\u001b[0;34m\u001b[0m\u001b[0;34m\u001b[0m\u001b[0m\n",
      "\u001b[0;32m/opt/ros/noetic/lib/python3/dist-packages/rospy/timer.py\u001b[0m in \u001b[0;36msleep\u001b[0;34m(duration)\u001b[0m\n\u001b[1;32m    132\u001b[0m             \u001b[0;32mreturn\u001b[0m\u001b[0;34m\u001b[0m\u001b[0;34m\u001b[0m\u001b[0m\n\u001b[1;32m    133\u001b[0m         \u001b[0;32melse\u001b[0m\u001b[0;34m:\u001b[0m\u001b[0;34m\u001b[0m\u001b[0;34m\u001b[0m\u001b[0m\n\u001b[0;32m--> 134\u001b[0;31m             \u001b[0mrospy\u001b[0m\u001b[0;34m.\u001b[0m\u001b[0mrostime\u001b[0m\u001b[0;34m.\u001b[0m\u001b[0mwallsleep\u001b[0m\u001b[0;34m(\u001b[0m\u001b[0mduration\u001b[0m\u001b[0;34m)\u001b[0m\u001b[0;34m\u001b[0m\u001b[0;34m\u001b[0m\u001b[0m\n\u001b[0m\u001b[1;32m    135\u001b[0m     \u001b[0;32melse\u001b[0m\u001b[0;34m:\u001b[0m\u001b[0;34m\u001b[0m\u001b[0;34m\u001b[0m\u001b[0m\n\u001b[1;32m    136\u001b[0m         \u001b[0minitial_rostime\u001b[0m \u001b[0;34m=\u001b[0m \u001b[0mrospy\u001b[0m\u001b[0;34m.\u001b[0m\u001b[0mrostime\u001b[0m\u001b[0;34m.\u001b[0m\u001b[0mget_rostime\u001b[0m\u001b[0;34m(\u001b[0m\u001b[0;34m)\u001b[0m\u001b[0;34m\u001b[0m\u001b[0;34m\u001b[0m\u001b[0m\n",
      "\u001b[0;32m/opt/ros/noetic/lib/python3/dist-packages/rospy/rostime.py\u001b[0m in \u001b[0;36mwallsleep\u001b[0;34m(duration)\u001b[0m\n\u001b[1;32m    275\u001b[0m             \u001b[0;32mpass\u001b[0m\u001b[0;34m\u001b[0m\u001b[0;34m\u001b[0m\u001b[0m\n\u001b[1;32m    276\u001b[0m     \u001b[0;32melse\u001b[0m\u001b[0;34m:\u001b[0m\u001b[0;34m\u001b[0m\u001b[0;34m\u001b[0m\u001b[0m\n\u001b[0;32m--> 277\u001b[0;31m         \u001b[0mtime\u001b[0m\u001b[0;34m.\u001b[0m\u001b[0msleep\u001b[0m\u001b[0;34m(\u001b[0m\u001b[0mduration\u001b[0m\u001b[0;34m)\u001b[0m\u001b[0;34m\u001b[0m\u001b[0;34m\u001b[0m\u001b[0m\n\u001b[0m",
      "\u001b[0;31mKeyboardInterrupt\u001b[0m: "
     ]
    }
   ],
   "source": [
    "# commented for safety reasons -> outcomment for testing\n",
    "cobot.move_to_pose(pointA,v_max=0.001,rot_max=0.001)\n",
    "T = int(50 * cobot.hz)\n",
    "for t in trange(T):\n",
    "    if cobot.state is None:\n",
    "        rospy.loginfo(f\"reached goal pose at step {t + 1} / {T}\")\n",
    "        break\n",
    "    elif cobot.state == \"error\":\n",
    "        rospy.logerr(f\"robot in ERROR state\")\n",
    "    cobot.update()\n",
    "\n",
    "\n",
    "if cobot.state == None:\n",
    "    cobot.move_to_pose(pointB, vmax=0.0005,rot_max=0.0005)\n",
    "    T = int(50 * cobot.hz)\n",
    "    for t in trange(T):\n",
    "        if cobot.state is None:\n",
    "            rospy.loginfo(f\"reached goal pose at step {t + 1} / {T}\")\n",
    "            break\n",
    "        elif cobot.state == \"error\":\n",
    "            rospy.logerr(f\"robot in ERROR state\")\n",
    "        cobot.enable_grinder()\n",
    "        cobot.update()\n",
    "        \n",
    "if cobot.state == None:\n",
    "    cobot.move_to_pose(pointC, vmax=0.001,rot_max=0.001)\n",
    "    T = int(50 * cobot.hz)\n",
    "    for t in trange(T):\n",
    "        if cobot.state is None:\n",
    "            rospy.loginfo(f\"reached goal pose at step {t + 1} / {T}\")\n",
    "            break\n",
    "        elif cobot.state == \"error\":\n",
    "            rospy.logerr(f\"robot in ERROR state\")\n",
    "        cobot.enable_grinder()\n",
    "        cobot.update()\n"
   ]
  },
  {
   "cell_type": "markdown",
   "id": "provincial-bundle",
   "metadata": {},
   "source": [
    "#### ToDo: Include Automatic enable and disable grinder"
   ]
  },
  {
   "cell_type": "code",
   "execution_count": 11,
   "id": "premium-museum",
   "metadata": {},
   "outputs": [],
   "source": [
    "cobot.enable_grinder()\n",
    "cobot.publish_rpm(7000)"
   ]
  },
  {
   "cell_type": "code",
   "execution_count": 12,
   "id": "judicial-recruitment",
   "metadata": {},
   "outputs": [],
   "source": [
    "cobot.disable_grinder()"
   ]
  },
  {
   "cell_type": "code",
   "execution_count": 38,
   "id": "happy-rainbow",
   "metadata": {},
   "outputs": [
    {
     "name": "stdout",
     "output_type": "stream",
     "text": [
      "  \u001b[38;5;1m-0.603363   \u001b[0m\u001b[38;5;1m 0.767597   \u001b[0m\u001b[38;5;1m 0.216213   \u001b[0m\u001b[38;5;4m 0.455043   \u001b[0m  \u001b[0m\n",
      "  \u001b[38;5;1m 0.160222   \u001b[0m\u001b[38;5;1m-0.148912   \u001b[0m\u001b[38;5;1m 0.975784   \u001b[0m\u001b[38;5;4m 0.0159017  \u001b[0m  \u001b[0m\n",
      "  \u001b[38;5;1m 0.781205   \u001b[0m\u001b[38;5;1m 0.623394   \u001b[0m\u001b[38;5;1m-0.0331378  \u001b[0m\u001b[38;5;4m 0.652853   \u001b[0m  \u001b[0m\n",
      "  \u001b[38;5;244m 0          \u001b[0m\u001b[38;5;244m 0          \u001b[0m\u001b[38;5;244m 0          \u001b[0m\u001b[38;5;244m 1          \u001b[0m  \u001b[0m\n",
      "\n",
      "[[-0.70711 -0.70711  0.23854  0.4555 ]\n",
      " [ 0.       0.       1.       0.04829]\n",
      " [-0.70711  0.70711  0.       0.65335]\n",
      " [ 0.       0.       0.       1.     ]]\n"
     ]
    }
   ],
   "source": [
    "print(aktuell)\n",
    "print(Shaftgrinder_tf)"
   ]
  },
  {
   "cell_type": "code",
   "execution_count": 36,
   "id": "verified-strength",
   "metadata": {},
   "outputs": [
    {
     "name": "stdout",
     "output_type": "stream",
     "text": [
      "  \u001b[38;5;1m-0.603204   \u001b[0m\u001b[38;5;1m 0.767719   \u001b[0m\u001b[38;5;1m 0.216223   \u001b[0m\u001b[38;5;4m 0.455009   \u001b[0m  \u001b[0m\n",
      "  \u001b[38;5;1m 0.159921   \u001b[0m\u001b[38;5;1m-0.149174   \u001b[0m\u001b[38;5;1m 0.975793   \u001b[0m\u001b[38;5;4m-0.0540378  \u001b[0m  \u001b[0m\n",
      "  \u001b[38;5;1m 0.78139    \u001b[0m\u001b[38;5;1m 0.623181   \u001b[0m\u001b[38;5;1m-0.0327923  \u001b[0m\u001b[38;5;4m 0.65289    \u001b[0m  \u001b[0m\n",
      "  \u001b[38;5;244m 0          \u001b[0m\u001b[38;5;244m 0          \u001b[0m\u001b[38;5;244m 0          \u001b[0m\u001b[38;5;244m 1          \u001b[0m  \u001b[0m\n",
      "\n"
     ]
    }
   ],
   "source": [
    "aktuell2 = cobot.FK(cobot.q)\n",
    "print(aktuell2)"
   ]
  },
  {
   "cell_type": "markdown",
   "id": "contemporary-seeking",
   "metadata": {},
   "source": [
    "#### Calc Goal pose from Normal Vector and Point"
   ]
  },
  {
   "cell_type": "code",
   "execution_count": 10,
   "id": "helpful-hartford",
   "metadata": {},
   "outputs": [
    {
     "ename": "NameError",
     "evalue": "name 'Shaftgrinder_tf' is not defined",
     "output_type": "error",
     "traceback": [
      "\u001b[0;31m---------------------------------------------------------------------------\u001b[0m",
      "\u001b[0;31mNameError\u001b[0m                                 Traceback (most recent call last)",
      "\u001b[0;32m<ipython-input-10-36005984726c>\u001b[0m in \u001b[0;36m<module>\u001b[0;34m\u001b[0m\n\u001b[1;32m      4\u001b[0m \u001b[0mpointB\u001b[0m \u001b[0;34m=\u001b[0m \u001b[0mnp\u001b[0m\u001b[0;34m.\u001b[0m\u001b[0marray\u001b[0m\u001b[0;34m(\u001b[0m\u001b[0;34m[\u001b[0m\u001b[0;36m0.4555\u001b[0m\u001b[0;34m,\u001b[0m\u001b[0;36m0.04029\u001b[0m\u001b[0;34m,\u001b[0m\u001b[0;36m0.65335\u001b[0m\u001b[0;34m]\u001b[0m\u001b[0;34m)\u001b[0m\u001b[0;34m\u001b[0m\u001b[0;34m\u001b[0m\u001b[0m\n\u001b[1;32m      5\u001b[0m \u001b[0mtoEE\u001b[0m \u001b[0;34m=\u001b[0m \u001b[0mnp\u001b[0m\u001b[0;34m.\u001b[0m\u001b[0marray\u001b[0m\u001b[0;34m(\u001b[0m\u001b[0;34m[\u001b[0m\u001b[0;36m0\u001b[0m\u001b[0;34m,\u001b[0m\u001b[0;36m0\u001b[0m\u001b[0;34m,\u001b[0m\u001b[0;36m0\u001b[0m\u001b[0;34m]\u001b[0m\u001b[0;34m)\u001b[0m\u001b[0;34m\u001b[0m\u001b[0;34m\u001b[0m\u001b[0m\n\u001b[0;32m----> 6\u001b[0;31m \u001b[0mprint\u001b[0m\u001b[0;34m(\u001b[0m\u001b[0mShaftgrinder_tf\u001b[0m\u001b[0;34m[\u001b[0m\u001b[0;34m:\u001b[0m\u001b[0;36m3\u001b[0m\u001b[0;34m,\u001b[0m\u001b[0;34m:\u001b[0m\u001b[0;36m3\u001b[0m\u001b[0;34m]\u001b[0m\u001b[0;34m)\u001b[0m\u001b[0;34m\u001b[0m\u001b[0;34m\u001b[0m\u001b[0m\n\u001b[0m",
      "\u001b[0;31mNameError\u001b[0m: name 'Shaftgrinder_tf' is not defined"
     ]
    }
   ],
   "source": [
    "normalA = np.array([0,0,-1])\n",
    "pointA = np.array([0.4555,0.04829,0.65335])\n",
    "normalB = np.array([0,0,-1])\n",
    "pointB = np.array([0.4555,0.04029,0.65335])\n",
    "toEE = np.array([0,0,0])\n",
    "print(Shaftgrinder_tf[:3,:3])"
   ]
  },
  {
   "cell_type": "code",
   "execution_count": 39,
   "id": "norman-korea",
   "metadata": {},
   "outputs": [
    {
     "name": "stdout",
     "output_type": "stream",
     "text": [
      "[[-0.70711 -0.70711  0.23854]\n",
      " [ 0.       0.       1.     ]\n",
      " [-0.70711  0.70711  0.     ]]\n"
     ]
    }
   ],
   "source": [
    "normalA = np.array([0,0,-1])\n",
    "pointA = np.array([0.4555,0.0159017,0.65335])\n",
    "normalB = np.array([0,0,-1])\n",
    "pointB = np.array([0.4555,-0.0540378,0.65335])\n",
    "toEE = np.array([0,0,0])\n",
    "print(Shaftgrinder_tf[:3,:3])"
   ]
  },
  {
   "cell_type": "code",
   "execution_count": 20,
   "id": "stuffed-supervisor",
   "metadata": {},
   "outputs": [
    {
     "data": {
      "text/plain": [
       "SE3:  \u001b[38;5;1m 1          \u001b[0m\u001b[38;5;1m 0          \u001b[0m\u001b[38;5;1m 0          \u001b[0m\u001b[38;5;4m 0.4555     \u001b[0m  \u001b[0m\n",
       "      \u001b[38;5;1m 0          \u001b[0m\u001b[38;5;1m 1          \u001b[0m\u001b[38;5;1m 0          \u001b[0m\u001b[38;5;4m 0.04829    \u001b[0m  \u001b[0m\n",
       "      \u001b[38;5;1m 0          \u001b[0m\u001b[38;5;1m 0          \u001b[0m\u001b[38;5;1m 1          \u001b[0m\u001b[38;5;4m 0.65335    \u001b[0m  \u001b[0m\n",
       "      \u001b[38;5;244m 0          \u001b[0m\u001b[38;5;244m 0          \u001b[0m\u001b[38;5;244m 0          \u001b[0m\u001b[38;5;244m 1          \u001b[0m  \u001b[0m\n",
       "    "
      ]
     },
     "execution_count": 20,
     "metadata": {},
     "output_type": "execute_result"
    }
   ],
   "source": [
    "hrr_cm.calc_goal_pose(normal=normal,p_location=point)"
   ]
  },
  {
   "cell_type": "code",
   "execution_count": 18,
   "id": "prescribed-upgrade",
   "metadata": {},
   "outputs": [],
   "source": [
    "test = hrr_cm.calc_EE_goal_pose(normal=normal, p_location=point,C_p_CE=toEE, R_C_E=Shaftgrinder_tf[:3,:3])"
   ]
  },
  {
   "cell_type": "code",
   "execution_count": 15,
   "id": "italian-happiness",
   "metadata": {},
   "outputs": [],
   "source": [
    "test2 = hrr_cm.calc_EE_pre_pose_neg(normal=normal, p_location=point,C_p_CE=toEE, R_C_E=Shaftgrinder_tf[:3,:3],safety_distance=-0.05)"
   ]
  },
  {
   "cell_type": "code",
   "execution_count": 19,
   "id": "precise-trustee",
   "metadata": {},
   "outputs": [
    {
     "data": {
      "application/vnd.jupyter.widget-view+json": {
       "model_id": "7986285871404b10a9ae58d11b215048",
       "version_major": 2,
       "version_minor": 0
      },
      "text/plain": [
       "  0%|          | 0/5000 [00:00<?, ?it/s]"
      ]
     },
     "metadata": {},
     "output_type": "display_data"
    },
    {
     "name": "stdout",
     "output_type": "stream",
     "text": [
      "[INFO] [1639649252.695986]: reached goal pose at step 448 / 5000\n"
     ]
    }
   ],
   "source": [
    "cobot.move_to_pose(test,v_max=0.005,rot_max=0.005)\n",
    "T = int(50 * cobot.hz)\n",
    "for t in trange(T):\n",
    "    if cobot.state is None:\n",
    "        rospy.loginfo(f\"reached goal pose at step {t + 1} / {T}\")\n",
    "        break\n",
    "    elif cobot.state == \"error\":\n",
    "        rospy.logerr(f\"robot in ERROR state\")\n",
    "    cobot.update()"
   ]
  },
  {
   "cell_type": "code",
   "execution_count": 57,
   "id": "connected-fifth",
   "metadata": {},
   "outputs": [],
   "source": [
    "def MoveLoop(pose,v_max=0.005,rot_max=0.005,timeout=50):\n",
    "    \n",
    "    cobot.move_to_pose(pose,v_max,rot_max)\n",
    "    T = int(timeout * cobot.hz)\n",
    "    for t in trange(T):\n",
    "        if cobot.state is None:\n",
    "            rospy.loginfo(f\"reached goal pose at step {t + 1} / {T}\")\n",
    "            break\n",
    "        elif cobot.state == \"error\":\n",
    "            rospy.logerr(f\"robot in ERROR state\")\n",
    "        cobot.update()"
   ]
  },
  {
   "cell_type": "markdown",
   "id": "protective-stock",
   "metadata": {},
   "source": [
    "#### Complete Action"
   ]
  },
  {
   "cell_type": "markdown",
   "id": "fifty-scope",
   "metadata": {},
   "source": [
    "* Determine Cutting Type\n",
    "* Calculate all Poses\n",
    "* go to PrePose A (GoTo) - Salman's Planner\n",
    "* Turn Grinder ON\n",
    "* Move Slowly to Cutting Pose A (MoveTo - Feedback - Loop?)\n",
    "* Move Slowly to Cutting Pose B (MoveTo - Feedback - Loop?)\n",
    "* Move Slowly to Prepose B (MoveTo)\n",
    "* Turn Grinder OFF"
   ]
  },
  {
   "cell_type": "code",
   "execution_count": 18,
   "id": "duplicate-transport",
   "metadata": {},
   "outputs": [],
   "source": [
    "Shaftgrinder_tf = np.array([[-0.707107, -0.707107, 0.238541, 0.455498],\n",
    "                       [0, 0, 1, 0.0482934],\n",
    "                       [-0.707107, 0.707107, 0, 0.653348],\n",
    "                       [0,0,0,1]])"
   ]
  },
  {
   "cell_type": "code",
   "execution_count": 8,
   "id": "framed-anthony",
   "metadata": {},
   "outputs": [],
   "source": [
    "def MoveLoop(pose,v_max=0.005,rot_max=0.005,timeout=50):\n",
    "    \n",
    "    cobot.move_to_pose(pose,v_max,rot_max)\n",
    "    T = int(timeout * cobot.hz)\n",
    "    for t in trange(T):\n",
    "        if cobot.state is None:\n",
    "            rospy.loginfo(f\"reached goal pose at step {t + 1} / {T}\")\n",
    "            break\n",
    "        elif cobot.state == \"error\":\n",
    "            rospy.logerr(f\"robot in ERROR state\")\n",
    "        cobot.update()"
   ]
  },
  {
   "cell_type": "code",
   "execution_count": null,
   "id": "minimal-italian",
   "metadata": {},
   "outputs": [],
   "source": []
  },
  {
   "cell_type": "code",
   "execution_count": 60,
   "id": "realistic-assist",
   "metadata": {},
   "outputs": [],
   "source": [
    "normalA = hrr_cm.ros_utils.np2vector3stamped(np.r_[0,0,-1], \"normalA\")\n",
    "pointA = hrr_cm.ros_utils.np2vector3stamped(np.r_[0.4555,0.04829,0.65335], \"pointA\")\n",
    "normalB = hrr_cm.ros_utils.np2vector3stamped(np.r_[0,0,-1], \"normalB\")\n",
    "pointB = hrr_cm.ros_utils.np2vector3stamped(np.r_[0.4555,0.03029,0.65335], \"pointB\")\n",
    "#toEE = np.array([0,0,0])\n",
    "#print(Shaftgrinder_tf[:3,:3])"
   ]
  },
  {
   "cell_type": "code",
   "execution_count": 22,
   "id": "nearby-arnold",
   "metadata": {},
   "outputs": [
    {
     "name": "stdout",
     "output_type": "stream",
     "text": [
      "[[-0.70711 -0.70711  0.23854]\n",
      " [ 0.       0.       1.     ]\n",
      " [-0.70711  0.70711  0.     ]]\n"
     ]
    }
   ],
   "source": [
    "toEE = np.array([0,0,0])\n",
    "print(Shaftgrinder_tf[:3,:3])"
   ]
  },
  {
   "cell_type": "code",
   "execution_count": 5,
   "id": "critical-mouse",
   "metadata": {},
   "outputs": [
    {
     "name": "stdout",
     "output_type": "stream",
     "text": [
      "17000\n"
     ]
    }
   ],
   "source": [
    "material= MaterialType()\n",
    "material = material.PLASTIC\n",
    "materialmsg = MaterialType()\n",
    "rpm = 0\n",
    "\n",
    "# Cutting Type\n",
    "if material == materialmsg.PLASTIC:\n",
    "    rpm = 17000\n",
    "elif material == materialmsg.CABLE:\n",
    "    rpm = 17000\n",
    "elif material == materialmsg.METAL:\n",
    "    rpm = 17000\n",
    "else:\n",
    "    print(\"Error: no valid material given\")\n",
    "    \n",
    "    \n",
    "print(rpm)"
   ]
  },
  {
   "cell_type": "markdown",
   "id": "russian-destination",
   "metadata": {},
   "source": [
    "* surface_normal_start := normalA\n",
    "* surface_normal_end := normalB\n",
    "* start_location := pointA\n",
    "* end_location := pointB"
   ]
  },
  {
   "cell_type": "code",
   "execution_count": 23,
   "id": "innovative-purple",
   "metadata": {},
   "outputs": [
    {
     "ename": "TypeError",
     "evalue": "unsupported operand type(s) for *: 'Vector3Stamped' and 'float'",
     "output_type": "error",
     "traceback": [
      "\u001b[0;31m---------------------------------------------------------------------------\u001b[0m",
      "\u001b[0;31mTypeError\u001b[0m                                 Traceback (most recent call last)",
      "\u001b[0;32m<ipython-input-23-b41f23dffb7b>\u001b[0m in \u001b[0;36m<module>\u001b[0;34m\u001b[0m\n\u001b[1;32m      1\u001b[0m \u001b[0;31m# Calculate Poses\u001b[0m\u001b[0;34m\u001b[0m\u001b[0;34m\u001b[0m\u001b[0;34m\u001b[0m\u001b[0m\n\u001b[0;32m----> 2\u001b[0;31m PrePoseA = hrr_cm.calc_EE_pre_pose_neg(normal=normalA,\n\u001b[0m\u001b[1;32m      3\u001b[0m                                        \u001b[0mp_location\u001b[0m\u001b[0;34m=\u001b[0m\u001b[0mpointA\u001b[0m\u001b[0;34m,\u001b[0m\u001b[0;34m\u001b[0m\u001b[0;34m\u001b[0m\u001b[0m\n\u001b[1;32m      4\u001b[0m                                        \u001b[0mC_p_CE\u001b[0m\u001b[0;34m=\u001b[0m\u001b[0mtoEE\u001b[0m\u001b[0;34m,\u001b[0m \u001b[0mR_C_E\u001b[0m\u001b[0;34m=\u001b[0m\u001b[0mShaftgrinder_tf\u001b[0m\u001b[0;34m[\u001b[0m\u001b[0;34m:\u001b[0m\u001b[0;36m3\u001b[0m\u001b[0;34m,\u001b[0m\u001b[0;34m:\u001b[0m\u001b[0;36m3\u001b[0m\u001b[0;34m]\u001b[0m\u001b[0;34m,\u001b[0m\u001b[0;34m\u001b[0m\u001b[0;34m\u001b[0m\u001b[0m\n\u001b[1;32m      5\u001b[0m                                        safety_distance=-0.05)\n",
      "\u001b[0;32m~/_ros/hrr_ws/src/hrr_cobot/hrr_common/src/hrr_common/utils/spatial.py\u001b[0m in \u001b[0;36mcalc_EE_pre_pose_neg\u001b[0;34m(normal, safety_distance, *args, **kwargs)\u001b[0m\n\u001b[1;32m    311\u001b[0m         \"\"\"\n\u001b[1;32m    312\u001b[0m         \u001b[0;32massert\u001b[0m \u001b[0msafety_distance\u001b[0m \u001b[0;34m<=\u001b[0m \u001b[0;36m0.0\u001b[0m\u001b[0;34m,\u001b[0m \u001b[0;34m\"hovering distance is positive\"\u001b[0m\u001b[0;34m\u001b[0m\u001b[0;34m\u001b[0m\u001b[0m\n\u001b[0;32m--> 313\u001b[0;31m         \u001b[0;32mreturn\u001b[0m \u001b[0msm\u001b[0m\u001b[0;34m.\u001b[0m\u001b[0mSE3\u001b[0m\u001b[0;34m(\u001b[0m\u001b[0mnormal\u001b[0m \u001b[0;34m*\u001b[0m \u001b[0msafety_distance\u001b[0m\u001b[0;34m)\u001b[0m \u001b[0;34m@\u001b[0m \u001b[0mcalc_EE_goal_pose\u001b[0m\u001b[0;34m(\u001b[0m\u001b[0mnormal\u001b[0m\u001b[0;34m,\u001b[0m \u001b[0;34m*\u001b[0m\u001b[0margs\u001b[0m\u001b[0;34m,\u001b[0m \u001b[0;34m**\u001b[0m\u001b[0mkwargs\u001b[0m\u001b[0;34m)\u001b[0m\u001b[0;34m\u001b[0m\u001b[0;34m\u001b[0m\u001b[0m\n\u001b[0m\u001b[1;32m    314\u001b[0m \u001b[0;34m\u001b[0m\u001b[0m\n\u001b[1;32m    315\u001b[0m \u001b[0;34m\u001b[0m\u001b[0m\n",
      "\u001b[0;31mTypeError\u001b[0m: unsupported operand type(s) for *: 'Vector3Stamped' and 'float'"
     ]
    }
   ],
   "source": [
    "# Calculate Poses\n",
    "PrePoseA = hrr_cm.calc_EE_pre_pose_neg(normal=normalA,\n",
    "                                       p_location=pointA,\n",
    "                                       C_p_CE=toEE, R_C_E=Shaftgrinder_tf[:3,:3],\n",
    "                                       safety_distance=-0.05)\n",
    "\n",
    "PrePoseB = hrr_cm.calc_EE_pre_pose_neg(normal=normalB,\n",
    "                                       p_location=pointB,\n",
    "                                       C_p_CE=toEE, R_C_E=Shaftgrinder_tf[:3,:3],\n",
    "                                       safety_distance=-0.05)\n",
    "\n",
    "CuttingPoseA = hrr_cm.calc_EE_pre_pose(normal=normalA,\n",
    "                                       p_location=pointA,\n",
    "                                       C_p_CE=toEE, R_C_E=Shaftgrinder_tf[:3,:3],\n",
    "                                       safety_distance=0.005)\n",
    "\n",
    "CuttingPoseB = hrr_cm.calc_EE_pre_pose(normal=normalB,\n",
    "                                       p_location=pointB,\n",
    "                                       C_p_CE=toEE, R_C_E=Shaftgrinder_tf[:3,:3],\n",
    "                                       safety_distance=0.005)"
   ]
  },
  {
   "cell_type": "code",
   "execution_count": 19,
   "id": "lightweight-cheese",
   "metadata": {},
   "outputs": [],
   "source": [
    "rpm = 7000"
   ]
  },
  {
   "cell_type": "code",
   "execution_count": 8,
   "id": "mobile-egyptian",
   "metadata": {},
   "outputs": [
    {
     "ename": "NameError",
     "evalue": "name 'MoveLoop' is not defined",
     "output_type": "error",
     "traceback": [
      "\u001b[0;31m---------------------------------------------------------------------------\u001b[0m",
      "\u001b[0;31mNameError\u001b[0m                                 Traceback (most recent call last)",
      "\u001b[0;32m<ipython-input-8-fd35104efe48>\u001b[0m in \u001b[0;36m<module>\u001b[0;34m\u001b[0m\n\u001b[1;32m      1\u001b[0m \u001b[0;31m# Action\u001b[0m\u001b[0;34m\u001b[0m\u001b[0;34m\u001b[0m\u001b[0;34m\u001b[0m\u001b[0m\n\u001b[0;32m----> 2\u001b[0;31m \u001b[0mMoveLoop\u001b[0m\u001b[0;34m(\u001b[0m\u001b[0mpose\u001b[0m\u001b[0;34m=\u001b[0m\u001b[0mPrePoseA\u001b[0m\u001b[0;34m,\u001b[0m\u001b[0mv_max\u001b[0m\u001b[0;34m=\u001b[0m\u001b[0;36m0.05\u001b[0m\u001b[0;34m,\u001b[0m\u001b[0mrot_max\u001b[0m\u001b[0;34m=\u001b[0m\u001b[0;36m0.1\u001b[0m\u001b[0;34m,\u001b[0m\u001b[0mtimeout\u001b[0m\u001b[0;34m=\u001b[0m\u001b[0;36m50\u001b[0m\u001b[0;34m)\u001b[0m\u001b[0;34m\u001b[0m\u001b[0;34m\u001b[0m\u001b[0m\n\u001b[0m\u001b[1;32m      3\u001b[0m \u001b[0mcobot\u001b[0m\u001b[0;34m.\u001b[0m\u001b[0menable_grinder\u001b[0m\u001b[0;34m(\u001b[0m\u001b[0;34m)\u001b[0m\u001b[0;34m\u001b[0m\u001b[0;34m\u001b[0m\u001b[0m\n\u001b[1;32m      4\u001b[0m \u001b[0mcobot\u001b[0m\u001b[0;34m.\u001b[0m\u001b[0mpublish_rpm\u001b[0m\u001b[0;34m(\u001b[0m\u001b[0mrpm\u001b[0m\u001b[0;34m)\u001b[0m\u001b[0;34m\u001b[0m\u001b[0;34m\u001b[0m\u001b[0m\n\u001b[1;32m      5\u001b[0m \u001b[0mMoveLoop\u001b[0m\u001b[0;34m(\u001b[0m\u001b[0mpose\u001b[0m\u001b[0;34m=\u001b[0m\u001b[0mCuttingPoseA\u001b[0m\u001b[0;34m,\u001b[0m\u001b[0mv_max\u001b[0m\u001b[0;34m=\u001b[0m\u001b[0;36m0.05\u001b[0m\u001b[0;34m,\u001b[0m\u001b[0mrot_max\u001b[0m\u001b[0;34m=\u001b[0m\u001b[0;36m0.1\u001b[0m\u001b[0;34m,\u001b[0m\u001b[0mtimeout\u001b[0m\u001b[0;34m=\u001b[0m\u001b[0;36m50\u001b[0m\u001b[0;34m)\u001b[0m\u001b[0;34m\u001b[0m\u001b[0;34m\u001b[0m\u001b[0m\n",
      "\u001b[0;31mNameError\u001b[0m: name 'MoveLoop' is not defined"
     ]
    }
   ],
   "source": [
    "# Action\n",
    "MoveLoop(pose=PrePoseA,v_max=0.05,rot_max=0.1,timeout=50)\n",
    "cobot.enable_grinder()\n",
    "cobot.publish_rpm(rpm)\n",
    "MoveLoop(pose=CuttingPoseA,v_max=0.05,rot_max=0.1,timeout=50)\n",
    "MoveLoop(pose=CuttingPoseB,v_max=0.05,rot_max=0.1,timeout=50)\n",
    "MoveLoop(pose=PrePoseB,v_max=0.05,rot_max=0.1,timeout=50)\n",
    "cobot.disable_grinder()"
   ]
  },
  {
   "cell_type": "markdown",
   "id": "f0be0e82",
   "metadata": {},
   "source": [
    "## Video Intro"
   ]
  },
  {
   "cell_type": "code",
   "execution_count": 52,
   "id": "d61057e6",
   "metadata": {},
   "outputs": [
    {
     "data": {
      "text/plain": [
       "True"
      ]
     },
     "execution_count": 52,
     "metadata": {},
     "output_type": "execute_result"
    }
   ],
   "source": [
    "cobot.change_tool(\"shaftgrinder\")"
   ]
  },
  {
   "cell_type": "code",
   "execution_count": null,
   "id": "5d31932e",
   "metadata": {},
   "outputs": [],
   "source": [
    "cobot.goTo(cobot.FK(cobot.q_calib))"
   ]
  },
  {
   "cell_type": "code",
   "execution_count": null,
   "id": "e5148b3e",
   "metadata": {},
   "outputs": [],
   "source": [
    "cobot.F_max = 120 ##adjust if needed but talk to me/Volker if you need higher values "
   ]
  },
  {
   "cell_type": "code",
   "execution_count": null,
   "id": "eefddae1",
   "metadata": {},
   "outputs": [],
   "source": [
    "def MoveLoop(pose,v_max=0.005,rot_max=0.005,timeout=50,rpm=0.005):\n",
    "    \"\"\"\n",
    "    Sends robot to given position.\n",
    "    \"\"\"\n",
    "    cobot.move_to_pose(pose,v_max,rot_max,rot_precision_threshold=0.001, pos_precision_threshold=0.001)\n",
    "    T = int(timeout * cobot.hz)\n",
    "    for t in trange(T):\n",
    "        if cobot.state is None:\n",
    "            rospy.loginfo(f\"reached goal pose at step {t + 1} / {T}\")\n",
    "            break\n",
    "        elif cobot.state == \"error\":\n",
    "            rospy.logerr(f\"robot in ERROR state\")\n",
    "        if rpm != 0:\n",
    "            cobot.tool_controller.rpm = rpm\n",
    "            cobot.tool_controller.enable_grinder()\n",
    "\n",
    "        cobot.update()"
   ]
  },
  {
   "cell_type": "code",
   "execution_count": null,
   "id": "7393ff47",
   "metadata": {},
   "outputs": [],
   "source": [
    "## sets a safe transformation for robot with shaftgrinder attached.\n",
    "\n",
    "Shaftgrinder_tf = np.array([[-0.707107, 0.707107, 0.238541, 0.455498],\n",
    "                            [0, 0, 1, 0.0482934],\n",
    "                            [0.707107, 0.707107, 0, 0.653348],\n",
    "                            [0, 0, 0, 1]])\n",
    "\n",
    "## sets translational vector\n",
    "toEE = np.array([0, -0.156, 0.094])"
   ]
  },
  {
   "cell_type": "code",
   "execution_count": null,
   "id": "8285dac2",
   "metadata": {},
   "outputs": [],
   "source": [
    "# use data from vision/task planner or set coordinates manually\n",
    "\n",
    "xstart = 0.592829 #determine start value next to cable (in start cutting pose)\n",
    "ystart = -0.229713+0.10\n",
    "zstart =  0.367\n",
    "\n",
    "normalA = hrr_cm.ros_utils.np2vector3stamped(np.r_[0,0,-1], \"normalA\")\n",
    "pointA = hrr_cm.ros_utils.np2vector3stamped(np.r_[xstart,ystart,zstart], \"pointA\")\n",
    "normalB = hrr_cm.ros_utils.np2vector3stamped(np.r_[0,0,-1], \"normalB\")\n",
    "pointB = hrr_cm.ros_utils.np2vector3stamped(np.r_[xstart,ystart+0.031,zstart], \"pointB\")"
   ]
  },
  {
   "cell_type": "code",
   "execution_count": null,
   "id": "c4648500",
   "metadata": {},
   "outputs": [],
   "source": [
    "PrePoseA = hrr_cm.calc_EE_pre_pose_neg(normal=hrr_cm.vec32np(normalA.vector),\n",
    "                                        p_location=hrr_cm.vec32np(pointA.vector),\n",
    "                                        C_p_CE=toEE, R_C_E=Shaftgrinder_tf[:3, :3],\n",
    "                                        safety_distance=-0.05)\n",
    "\n",
    "PrePoseB = hrr_cm.calc_EE_pre_pose_neg(normal=hrr_cm.vec32np(normalB.vector),\n",
    "                                       p_location=hrr_cm.vec32np(pointB.vector),\n",
    "                                       C_p_CE=toEE, R_C_E=Shaftgrinder_tf[:3, :3],\n",
    "                                       safety_distance=-0.05)\n",
    "\n",
    "CuttingPoseA = hrr_cm.calc_EE_pre_pose_neg(normal=hrr_cm.vec32np(normalA.vector),\n",
    "                                        p_location=hrr_cm.vec32np(pointA.vector),\n",
    "                                        C_p_CE=toEE, R_C_E=Shaftgrinder_tf[:3, :3],\n",
    "                                        safety_distance=-0)\n",
    "\n",
    "CuttingPoseB = hrr_cm.calc_EE_pre_pose_neg(normal=hrr_cm.vec32np(normalB.vector),\n",
    "                                       p_location=hrr_cm.vec32np(pointB.vector),\n",
    "                                       C_p_CE=toEE, R_C_E=Shaftgrinder_tf[:3, :3],\n",
    "                                       safety_distance=-0)"
   ]
  },
  {
   "cell_type": "code",
   "execution_count": null,
   "id": "c997e397",
   "metadata": {},
   "outputs": [],
   "source": [
    "MoveLoop(pose=PrePoseA,v_max=0.3,rot_max=0.6,timeout=5000,rpm=0)\n",
    "MoveLoop(pose=CuttingPoseA,v_max=0.3,rot_max=0.6,timeout=5000,rpm=20000)\n",
    "MoveLoop(pose=CuttingPoseB,v_max=0.3,rot_max=0.6,timeout=5000,rpm=20000)\n",
    "MoveLoop(pose=PrePoseB,v_max=0.3,rot_max=0.6,timeout=5000,rpm=20000)\n",
    "cobot.tool_controller.rpm = 0\n",
    "cobot.tool_controller.disable()"
   ]
  },
  {
   "cell_type": "code",
   "execution_count": null,
   "id": "a677cebb",
   "metadata": {},
   "outputs": [],
   "source": [
    "cobot.goTo(cobot.FK(cobot.q_calib))"
   ]
  },
  {
   "cell_type": "markdown",
   "id": "theoretical-remark",
   "metadata": {},
   "source": [
    "## Testing Purposes"
   ]
  },
  {
   "cell_type": "code",
   "execution_count": 9,
   "id": "developmental-thanks",
   "metadata": {},
   "outputs": [
    {
     "ename": "NameError",
     "evalue": "name 'out' is not defined",
     "output_type": "error",
     "traceback": [
      "\u001b[0;31m---------------------------------------------------------------------------\u001b[0m",
      "\u001b[0;31mNameError\u001b[0m                                 Traceback (most recent call last)",
      "\u001b[0;32m<ipython-input-9-b9c7244cc819>\u001b[0m in \u001b[0;36m<module>\u001b[0;34m\u001b[0m\n\u001b[1;32m      1\u001b[0m \u001b[0mcutting\u001b[0m\u001b[0;34m=\u001b[0m\u001b[0mhrr_rob\u001b[0m\u001b[0;34m.\u001b[0m\u001b[0mCutting\u001b[0m\u001b[0;34m(\u001b[0m\u001b[0;34m)\u001b[0m\u001b[0;34m\u001b[0m\u001b[0;34m\u001b[0m\u001b[0m\n\u001b[1;32m      2\u001b[0m \u001b[0;31m#cutting.init_ros('hrr')\u001b[0m\u001b[0;34m\u001b[0m\u001b[0;34m\u001b[0m\u001b[0;34m\u001b[0m\u001b[0m\n\u001b[0;32m----> 3\u001b[0;31m \u001b[0mcutting\u001b[0m\u001b[0;34m.\u001b[0m\u001b[0m_from_ros\u001b[0m\u001b[0;34m(\u001b[0m\u001b[0;34m)\u001b[0m\u001b[0;34m\u001b[0m\u001b[0;34m\u001b[0m\u001b[0m\n\u001b[0m\u001b[1;32m      4\u001b[0m \u001b[0mprint\u001b[0m\u001b[0;34m(\u001b[0m\u001b[0mcutting\u001b[0m\u001b[0;34m.\u001b[0m\u001b[0mcobot\u001b[0m\u001b[0;34m)\u001b[0m\u001b[0;34m\u001b[0m\u001b[0;34m\u001b[0m\u001b[0m\n\u001b[1;32m      5\u001b[0m \u001b[0mprint\u001b[0m\u001b[0;34m(\u001b[0m\u001b[0mMaterialType\u001b[0m\u001b[0;34m.\u001b[0m\u001b[0mPLASTIC\u001b[0m\u001b[0;34m)\u001b[0m\u001b[0;34m\u001b[0m\u001b[0;34m\u001b[0m\u001b[0m\n",
      "\u001b[0;32m~/_ros/hrr_ws/src/hrr_cobot/hrr_cobot_robot/src/hrr_cobot_robot/manipulation_skills/cutting.py\u001b[0m in \u001b[0;36m_from_ros\u001b[0;34m(cls, prefix, **_)\u001b[0m\n\u001b[1;32m     48\u001b[0m     \u001b[0;32mdef\u001b[0m \u001b[0m_from_ros\u001b[0m\u001b[0;34m(\u001b[0m\u001b[0mcls\u001b[0m\u001b[0;34m,\u001b[0m \u001b[0mprefix\u001b[0m\u001b[0;34m=\u001b[0m\u001b[0;34m\"~\"\u001b[0m\u001b[0;34m,\u001b[0m \u001b[0;34m**\u001b[0m\u001b[0m_\u001b[0m\u001b[0;34m)\u001b[0m\u001b[0;34m:\u001b[0m\u001b[0;34m\u001b[0m\u001b[0;34m\u001b[0m\u001b[0m\n\u001b[1;32m     49\u001b[0m         \u001b[0mkwargs\u001b[0m \u001b[0;34m=\u001b[0m \u001b[0mdict\u001b[0m\u001b[0;34m(\u001b[0m\u001b[0mcobot_state_topic_name\u001b[0m\u001b[0;34m=\u001b[0m\u001b[0mrospy\u001b[0m\u001b[0;34m.\u001b[0m\u001b[0mget_param\u001b[0m\u001b[0;34m(\u001b[0m\u001b[0;34mf\"{prefix}cobot_state_topic_name\"\u001b[0m\u001b[0;34m,\u001b[0m \u001b[0;32mNone\u001b[0m\u001b[0;34m)\u001b[0m\u001b[0;34m)\u001b[0m\u001b[0;34m\u001b[0m\u001b[0;34m\u001b[0m\u001b[0m\n\u001b[0;32m---> 50\u001b[0;31m         \u001b[0mout\u001b[0m\u001b[0;34m.\u001b[0m\u001b[0minit_ros\u001b[0m\u001b[0;34m(\u001b[0m\u001b[0mrospy\u001b[0m\u001b[0;34m.\u001b[0m\u001b[0mget_param\u001b[0m\u001b[0;34m(\u001b[0m\u001b[0;34mf\"{prefix}cutting_action_srv_name\"\u001b[0m\u001b[0;34m)\u001b[0m\u001b[0;34m,\u001b[0m \u001b[0mcobot\u001b[0m\u001b[0;34m=\u001b[0m\u001b[0mcobot\u001b[0m\u001b[0;34m)\u001b[0m\u001b[0;34m\u001b[0m\u001b[0;34m\u001b[0m\u001b[0m\n\u001b[0m\u001b[1;32m     51\u001b[0m         \u001b[0;32mreturn\u001b[0m \u001b[0msuper\u001b[0m\u001b[0;34m(\u001b[0m\u001b[0;34m)\u001b[0m\u001b[0;34m.\u001b[0m\u001b[0m_from_ros\u001b[0m\u001b[0;34m(\u001b[0m\u001b[0mprefix\u001b[0m\u001b[0;34m=\u001b[0m\u001b[0mprefix\u001b[0m\u001b[0;34m,\u001b[0m \u001b[0;34m**\u001b[0m\u001b[0mkwargs\u001b[0m\u001b[0;34m,\u001b[0m \u001b[0;34m**\u001b[0m\u001b[0m_\u001b[0m\u001b[0;34m)\u001b[0m\u001b[0;34m\u001b[0m\u001b[0;34m\u001b[0m\u001b[0m\n\u001b[1;32m     52\u001b[0m \u001b[0;34m\u001b[0m\u001b[0m\n",
      "\u001b[0;31mNameError\u001b[0m: name 'out' is not defined"
     ]
    }
   ],
   "source": [
    "cutting=hrr_rob.Cutting()\n",
    "#cutting.init_ros('hrr')\n",
    "cutting._from_ros()\n",
    "print(cutting.cobot)"
   ]
  },
  {
   "cell_type": "code",
   "execution_count": null,
   "id": "proprietary-failing",
   "metadata": {},
   "outputs": [],
   "source": [
    "normalA = np.array([0,0,-1])\n",
    "pointA = np.array([0.4555,0.0159017,0.65335])\n",
    "normalB = np.array([0,0,-1])\n",
    "pointB = np.array([0.4555,-0.0540378,0.65335])\n",
    "toEE = np.array([0,0,0])\n",
    "print(Shaftgrinder_tf[:3,:3])"
   ]
  },
  {
   "cell_type": "code",
   "execution_count": 14,
   "id": "fatal-lucas",
   "metadata": {},
   "outputs": [
    {
     "name": "stdout",
     "output_type": "stream",
     "text": [
      "None\n",
      "x: 0\n",
      "y: 0\n",
      "z: -1\n",
      "[ 0  0 -1]\n"
     ]
    }
   ],
   "source": [
    "print(hrr_cm.vector3Stamped2np(normalA))\n",
    "print(normalA.vector)\n",
    "print(hrr_cm.vec32np(normalA.vector))"
   ]
  },
  {
   "cell_type": "code",
   "execution_count": null,
   "id": "rolled-equipment",
   "metadata": {},
   "outputs": [],
   "source": [
    "hrr_cm.homog2quat"
   ]
  },
  {
   "cell_type": "code",
   "execution_count": null,
   "id": "spare-hindu",
   "metadata": {},
   "outputs": [],
   "source": [
    "dispose_location_quat = cu.homog2quat(dispose_location)\n",
    "dispose_location_pos = cu.homog2pos(dispose_location)"
   ]
  },
  {
   "cell_type": "code",
   "execution_count": 8,
   "id": "spoken-tract",
   "metadata": {},
   "outputs": [
    {
     "ename": "AttributeError",
     "evalue": "module 'hrr_common.ros_utils' has no attribute 'np2Vector3Stamped'",
     "output_type": "error",
     "traceback": [
      "\u001b[0;31m---------------------------------------------------------------------------\u001b[0m",
      "\u001b[0;31mAttributeError\u001b[0m                            Traceback (most recent call last)",
      "\u001b[0;32m<ipython-input-8-128786165adb>\u001b[0m in \u001b[0;36m<module>\u001b[0;34m\u001b[0m\n\u001b[1;32m      2\u001b[0m \u001b[0mmaterial\u001b[0m \u001b[0;34m=\u001b[0m \u001b[0mmaterial\u001b[0m\u001b[0;34m.\u001b[0m\u001b[0mPLASTIC\u001b[0m\u001b[0;34m\u001b[0m\u001b[0;34m\u001b[0m\u001b[0m\n\u001b[1;32m      3\u001b[0m \u001b[0;34m\u001b[0m\u001b[0m\n\u001b[0;32m----> 4\u001b[0;31m \u001b[0mnormalA\u001b[0m \u001b[0;34m=\u001b[0m \u001b[0mhrr_cm\u001b[0m\u001b[0;34m.\u001b[0m\u001b[0mros_utils\u001b[0m\u001b[0;34m.\u001b[0m\u001b[0mnp2Vector3Stamped\u001b[0m\u001b[0;34m(\u001b[0m\u001b[0mnp\u001b[0m\u001b[0;34m.\u001b[0m\u001b[0mr_\u001b[0m\u001b[0;34m[\u001b[0m\u001b[0;36m0\u001b[0m\u001b[0;34m,\u001b[0m\u001b[0;36m0\u001b[0m\u001b[0;34m,\u001b[0m\u001b[0;34m-\u001b[0m\u001b[0;36m1\u001b[0m\u001b[0;34m]\u001b[0m\u001b[0;34m,\u001b[0m \u001b[0;34m\"normalA\"\u001b[0m\u001b[0;34m)\u001b[0m\u001b[0;34m\u001b[0m\u001b[0;34m\u001b[0m\u001b[0m\n\u001b[0m\u001b[1;32m      5\u001b[0m \u001b[0mpointA\u001b[0m \u001b[0;34m=\u001b[0m \u001b[0mhrr_cm\u001b[0m\u001b[0;34m.\u001b[0m\u001b[0mros_utils\u001b[0m\u001b[0;34m.\u001b[0m\u001b[0mnp2Vector3Stamped\u001b[0m\u001b[0;34m(\u001b[0m\u001b[0mnp\u001b[0m\u001b[0;34m.\u001b[0m\u001b[0mr_\u001b[0m\u001b[0;34m[\u001b[0m\u001b[0;36m0.4555\u001b[0m\u001b[0;34m,\u001b[0m\u001b[0;36m0.04829\u001b[0m\u001b[0;34m,\u001b[0m\u001b[0;36m0.65335\u001b[0m\u001b[0;34m]\u001b[0m\u001b[0;34m,\u001b[0m \u001b[0;34m\"pointA\"\u001b[0m\u001b[0;34m)\u001b[0m\u001b[0;34m\u001b[0m\u001b[0;34m\u001b[0m\u001b[0m\n\u001b[1;32m      6\u001b[0m \u001b[0mnormalB\u001b[0m \u001b[0;34m=\u001b[0m \u001b[0mhrr_cm\u001b[0m\u001b[0;34m.\u001b[0m\u001b[0mros_utils\u001b[0m\u001b[0;34m.\u001b[0m\u001b[0mnp2Vector3Stamped\u001b[0m\u001b[0;34m(\u001b[0m\u001b[0mnp\u001b[0m\u001b[0;34m.\u001b[0m\u001b[0mr_\u001b[0m\u001b[0;34m[\u001b[0m\u001b[0;36m0\u001b[0m\u001b[0;34m,\u001b[0m\u001b[0;36m0\u001b[0m\u001b[0;34m,\u001b[0m\u001b[0;34m-\u001b[0m\u001b[0;36m1\u001b[0m\u001b[0;34m]\u001b[0m\u001b[0;34m,\u001b[0m \u001b[0;34m\"normalB\"\u001b[0m\u001b[0;34m)\u001b[0m\u001b[0;34m\u001b[0m\u001b[0;34m\u001b[0m\u001b[0m\n",
      "\u001b[0;31mAttributeError\u001b[0m: module 'hrr_common.ros_utils' has no attribute 'np2Vector3Stamped'"
     ]
    }
   ],
   "source": [
    "material= MaterialType()\n",
    "material = material.PLASTIC\n",
    "\n",
    "normalA = hrr_cm.ros_utils.np2vector3stamped(np.r_[0,0,-1], \"normalA\")\n",
    "pointA = hrr_cm.ros_utils.np2vector3stamped(np.r_[0.4555,0.04829,0.65335], \"pointA\")\n",
    "normalB = hrr_cm.ros_utils.np2vector3Stamped(np.r_[0,0,-1], \"normalB\")\n",
    "pointB = hrr_cm.ros_utils.np2vector3stamped(np.r_[0.4555,0.03029,0.65335], \"pointB\")"
   ]
  },
  {
   "cell_type": "code",
   "execution_count": 6,
   "id": "juvenile-bowling",
   "metadata": {},
   "outputs": [],
   "source": [
    "rospy.set_param(\"~cmd_arduino\", True)\n",
    "rospy.set_param(\"~arduino_node_name\", \"/hrr_cobot/tool_controller\")"
   ]
  },
  {
   "cell_type": "code",
   "execution_count": 12,
   "id": "backed-office",
   "metadata": {},
   "outputs": [],
   "source": []
  },
  {
   "cell_type": "code",
   "execution_count": 54,
   "id": "informative-cooler",
   "metadata": {},
   "outputs": [
    {
     "name": "stdout",
     "output_type": "stream",
     "text": [
      "Mujoco not found on this client. Do not use this file!\n",
      "Mujoco not found on this client. Do not use this file!\n",
      "current implementation does not cope with trees with edge degree over 1. Select first element from: ee_linkconnect_flange_attach_joint, ee_to_tcp \u001b[91m \u001b[0m\n"
     ]
    },
    {
     "data": {
      "text/plain": [
       "SE3:  \u001b[38;5;1m 0.706414   \u001b[0m\u001b[38;5;1m-0.707798   \u001b[0m\u001b[38;5;1m 0.000966801\u001b[0m\u001b[38;5;4m 0.455481   \u001b[0m  \u001b[0m\n",
       "      \u001b[38;5;1m 3.08604e-06\u001b[0m\u001b[38;5;1m 0.00136901 \u001b[0m\u001b[38;5;1m 0.999999   \u001b[0m\u001b[38;5;4m-0.20854    \u001b[0m  \u001b[0m\n",
       "      \u001b[38;5;1m-0.707799   \u001b[0m\u001b[38;5;1m-0.706413   \u001b[0m\u001b[38;5;1m 0.00096927 \u001b[0m\u001b[38;5;4m 0.785977   \u001b[0m  \u001b[0m\n",
       "      \u001b[38;5;244m 0          \u001b[0m\u001b[38;5;244m 0          \u001b[0m\u001b[38;5;244m 0          \u001b[0m\u001b[38;5;244m 1          \u001b[0m  \u001b[0m\n",
       "    "
      ]
     },
     "execution_count": 54,
     "metadata": {},
     "output_type": "execute_result"
    }
   ],
   "source": [
    "cobot.FK(cobot.q)"
   ]
  },
  {
   "cell_type": "code",
   "execution_count": 11,
   "id": "fallen-ballot",
   "metadata": {},
   "outputs": [
    {
     "name": "stdout",
     "output_type": "stream",
     "text": [
      "/cutting_server/cutting/cancel\r\n",
      "/cutting_server/cutting/feedback\r\n",
      "/cutting_server/cutting/goal\r\n",
      "/cutting_server/cutting/result\r\n",
      "/cutting_server/cutting/status\r\n"
     ]
    }
   ],
   "source": [
    "!rostopic list | grep cutting"
   ]
  },
  {
   "cell_type": "code",
   "execution_count": 53,
   "id": "a41472a8",
   "metadata": {},
   "outputs": [
    {
     "name": "stdout",
     "output_type": "stream",
     "text": [
      "  \u001b[38;5;1m 1          \u001b[0m\u001b[38;5;1m 0          \u001b[0m\u001b[38;5;1m 0          \u001b[0m\u001b[38;5;4m 0          \u001b[0m  \u001b[0m\n",
      "  \u001b[38;5;1m 0          \u001b[0m\u001b[38;5;1m 1          \u001b[0m\u001b[38;5;1m 0          \u001b[0m\u001b[38;5;4m 0          \u001b[0m  \u001b[0m\n",
      "  \u001b[38;5;1m 0          \u001b[0m\u001b[38;5;1m 0          \u001b[0m\u001b[38;5;1m 1          \u001b[0m\u001b[38;5;4m 0          \u001b[0m  \u001b[0m\n",
      "  \u001b[38;5;244m 0          \u001b[0m\u001b[38;5;244m 0          \u001b[0m\u001b[38;5;244m 0          \u001b[0m\u001b[38;5;244m 1          \u001b[0m  \u001b[0m\n",
      "\n"
     ]
    }
   ],
   "source": [
    "T_E_C = sm.SE3(*cobot.E_p_EC)\n",
    "print(T_E_C)"
   ]
  },
  {
   "cell_type": "code",
   "execution_count": 76,
   "id": "b15a8bbf",
   "metadata": {},
   "outputs": [],
   "source": [
    "Rz1 = np.array([[-1, 0, 0],\n",
    "                [0, -1, 0],\n",
    "                [0, 0, 1]])\n",
    "Rz2 = np.array([[-1, 0, 0],\n",
    "                [0, -1, 0],\n",
    "                [0, 0, 1]])"
   ]
  },
  {
   "cell_type": "code",
   "execution_count": 83,
   "id": "bc2e9242",
   "metadata": {},
   "outputs": [
    {
     "name": "stdout",
     "output_type": "stream",
     "text": [
      "  \u001b[38;5;1m 0.67754    \u001b[0m\u001b[38;5;1m 0.08525    \u001b[0m\u001b[38;5;1m-0.73053    \u001b[0m\u001b[38;5;4m 0          \u001b[0m  \u001b[0m\n",
      "  \u001b[38;5;1m 0.29763    \u001b[0m\u001b[38;5;1m 0.87652    \u001b[0m\u001b[38;5;1m 0.37833    \u001b[0m\u001b[38;5;4m 0          \u001b[0m  \u001b[0m\n",
      "  \u001b[38;5;1m 0.67257    \u001b[0m\u001b[38;5;1m-0.47376    \u001b[0m\u001b[38;5;1m 0.5685     \u001b[0m\u001b[38;5;4m 0          \u001b[0m  \u001b[0m\n",
      "  \u001b[38;5;244m 0          \u001b[0m\u001b[38;5;244m 0          \u001b[0m\u001b[38;5;244m 0          \u001b[0m\u001b[38;5;244m 1          \u001b[0m  \u001b[0m\n",
      "\n",
      "  \u001b[38;5;1m 1          \u001b[0m\u001b[38;5;1m 0          \u001b[0m\u001b[38;5;1m 0          \u001b[0m\u001b[38;5;4m 0          \u001b[0m  \u001b[0m\n",
      "  \u001b[38;5;1m 0          \u001b[0m\u001b[38;5;1m 1          \u001b[0m\u001b[38;5;1m 0          \u001b[0m\u001b[38;5;4m 0          \u001b[0m  \u001b[0m\n",
      "  \u001b[38;5;1m 0          \u001b[0m\u001b[38;5;1m 0          \u001b[0m\u001b[38;5;1m 1          \u001b[0m\u001b[38;5;4m 0          \u001b[0m  \u001b[0m\n",
      "  \u001b[38;5;244m 0          \u001b[0m\u001b[38;5;244m 0          \u001b[0m\u001b[38;5;244m 0          \u001b[0m\u001b[38;5;244m 1          \u001b[0m  \u001b[0m\n",
      "\n",
      "[[-0.26732  0.55971  0.78439]\n",
      " [ 0.67216 -0.47496  0.56798]\n",
      " [ 0.69046  0.67907 -0.24925]]\n",
      "[[ 0.26864 -0.55951  0.78408]\n",
      " [-0.67257  0.47376  0.5685 ]\n",
      " [-0.68955 -0.68007 -0.24904]]\n"
     ]
    }
   ],
   "source": [
    "transform1 = np.array([[0.67754, 0.08525, -0.73053],\n",
    "                                       [0.29763, 0.87652, 0.37833],\n",
    "                                       [0.67257, -0.47376, 0.5685]])\n",
    "T_B_C = sm.SE3(*cobot.E_p_EC)\n",
    "T_E_C.A[:3, :3] = cobot.R_E_C @ transform1\n",
    "print(T_E_C)\n",
    "print(cobot.T_E_C_robot)\n",
    "print(np.array(cobot.T_B_C_robot.A[:3, :3]) @ transform1)\n",
    "Shaftgrinder_tf_PC_Tower_1 = np.array([[-0.26864, 0.55951, 0.78408],\n",
    "                                       [0.67257, -0.47376, 0.5685],\n",
    "                                       [0.68955, 0.68007, -0.24904]])\n",
    "print(Shaftgrinder_tf_PC_Tower_1 @ Rz1)"
   ]
  },
  {
   "cell_type": "code",
   "execution_count": 90,
   "id": "483b78de",
   "metadata": {},
   "outputs": [
    {
     "name": "stdout",
     "output_type": "stream",
     "text": [
      "[[ 0.58655  0.78331  0.20586]\n",
      " [-0.80989  0.56915  0.14191]\n",
      " [-0.00601 -0.24997  0.96823]]\n",
      "[[ 0.26864 -0.55951  0.78408  0.45548]\n",
      " [-0.67257  0.47376  0.5685  -0.20854]\n",
      " [-0.68955 -0.68007 -0.24904  0.79685]\n",
      " [ 0.       0.       0.       1.     ]]\n",
      "  \u001b[38;5;1m 0.706421   \u001b[0m\u001b[38;5;1m-0.707791   \u001b[0m\u001b[38;5;1m 0.000971787\u001b[0m\u001b[38;5;4m 0.455482   \u001b[0m  \u001b[0m\n",
      "  \u001b[38;5;1m-4.22912e-06\u001b[0m\u001b[38;5;1m 0.00136876 \u001b[0m\u001b[38;5;1m 0.999999   \u001b[0m\u001b[38;5;4m-0.208539   \u001b[0m  \u001b[0m\n",
      "  \u001b[38;5;1m-0.707792   \u001b[0m\u001b[38;5;1m-0.706421   \u001b[0m\u001b[38;5;1m 0.000963931\u001b[0m\u001b[38;5;4m 0.796854   \u001b[0m  \u001b[0m\n",
      "  \u001b[38;5;244m 0          \u001b[0m\u001b[38;5;244m 0          \u001b[0m\u001b[38;5;244m 0          \u001b[0m\u001b[38;5;244m 1          \u001b[0m  \u001b[0m\n",
      "\n"
     ]
    }
   ],
   "source": [
    "PC1= np.array([[ 0.26864, -0.55951,  0.78408],\n",
    "                [-0.67257,  0.47376,  0.5685 ],\n",
    "                 [-0.68955, -0.68007, -0.24904]])\n",
    "T = PC1 @ np.linalg.inv(np.array(cobot.T_B_C_robot.A[:3, :3]))\n",
    "print(T)\n",
    "Y = cobot.T_B_C_robot.A\n",
    "H = T@cobot.T_B_C_robot.A[:3, :3]\n",
    "Y[:3,:3] = H\n",
    "print(Y)\n",
    "print(cobot.T_B_C_robot)"
   ]
  },
  {
   "cell_type": "code",
   "execution_count": 92,
   "id": "cb87ac4b",
   "metadata": {},
   "outputs": [
    {
     "name": "stdout",
     "output_type": "stream",
     "text": [
      "[[-0.59428  0.7683  -0.23779]\n",
      " [ 0.68188  0.6381   0.35757]\n",
      " [ 0.42646  0.05035 -0.90311]]\n",
      "[[-0.25151  0.58966  0.76749  0.45548]\n",
      " [ 0.22861 -0.73435  0.63911 -0.20854]\n",
      " [ 0.94047  0.3362   0.04989  0.79685]\n",
      " [ 0.       0.       0.       1.     ]]\n",
      "  \u001b[38;5;1m 0.706421   \u001b[0m\u001b[38;5;1m-0.707791   \u001b[0m\u001b[38;5;1m 0.000971787\u001b[0m\u001b[38;5;4m 0.455482   \u001b[0m  \u001b[0m\n",
      "  \u001b[38;5;1m-4.22912e-06\u001b[0m\u001b[38;5;1m 0.00136876 \u001b[0m\u001b[38;5;1m 0.999999   \u001b[0m\u001b[38;5;4m-0.208539   \u001b[0m  \u001b[0m\n",
      "  \u001b[38;5;1m-0.707792   \u001b[0m\u001b[38;5;1m-0.706421   \u001b[0m\u001b[38;5;1m 0.000963931\u001b[0m\u001b[38;5;4m 0.796854   \u001b[0m  \u001b[0m\n",
      "  \u001b[38;5;244m 0          \u001b[0m\u001b[38;5;244m 0          \u001b[0m\u001b[38;5;244m 0          \u001b[0m\u001b[38;5;244m 1          \u001b[0m  \u001b[0m\n",
      "\n"
     ]
    }
   ],
   "source": [
    "PC2 = np.array([[-0.25151, 0.58966, 0.76749],\n",
    "               [0.22861, -0.73435, 0.63911],\n",
    "               [0.94047, 0.3362, 0.04989]])\n",
    "x = np.array([[-1, 0, 0],\n",
    "             [0, 1, 0],\n",
    "              [0, 0 , -1]])\n",
    "T = PC2 @ np.linalg.inv(np.array(cobot.T_B_C_robot.A[:3, :3]))\n",
    "print(T)\n",
    "Y = cobot.T_B_C_robot.A\n",
    "H = T@cobot.T_B_C_robot.A[:3, :3]\n",
    "Y[:3,:3] = H\n",
    "print(Y)\n",
    "print(cobot.T_B_C_robot)"
   ]
  },
  {
   "cell_type": "code",
   "execution_count": 13,
   "id": "ac714254",
   "metadata": {},
   "outputs": [
    {
     "name": "stdout",
     "output_type": "stream",
     "text": [
      "[[-0.26864 -0.55951 -0.78408]\n",
      " [ 0.67257  0.47376 -0.5685 ]\n",
      " [ 0.68955 -0.68007  0.24904]]\n",
      "[[-0.29865 -0.33326  0.89429  0.4565 ]\n",
      " [-0.01425  0.9385   0.34497  0.01689]\n",
      " [-0.95425  0.09029 -0.28504  0.70236]\n",
      " [ 0.       0.       0.       1.     ]]\n",
      "  \u001b[38;5;1m-0.587361   \u001b[0m\u001b[38;5;1m 0.782993   \u001b[0m\u001b[38;5;1m-0.204765   \u001b[0m\u001b[38;5;4m 0.456496   \u001b[0m  \u001b[0m\n",
      "  \u001b[38;5;1m 0.809312   \u001b[0m\u001b[38;5;1m 0.569686   \u001b[0m\u001b[38;5;1m-0.14308    \u001b[0m\u001b[38;5;4m 0.0168933  \u001b[0m  \u001b[0m\n",
      "  \u001b[38;5;1m 0.00462086 \u001b[0m\u001b[38;5;1m-0.249758   \u001b[0m\u001b[38;5;1m-0.968297   \u001b[0m\u001b[38;5;4m 0.702358   \u001b[0m  \u001b[0m\n",
      "  \u001b[38;5;244m 0          \u001b[0m\u001b[38;5;244m 0          \u001b[0m\u001b[38;5;244m 0          \u001b[0m\u001b[38;5;244m 1          \u001b[0m  \u001b[0m\n",
      "\n"
     ]
    }
   ],
   "source": [
    "PC1= np.array([[ 0.26864, -0.55951,  0.78408],\n",
    "                [-0.67257,  0.47376,  0.5685 ],\n",
    "                 [-0.68955, -0.68007, -0.24904]])\n",
    "x = np.array([[-1, 0, 0],\n",
    "             [0, 1, 0],\n",
    "              [0, 0 , -1]])\n",
    "T = PC1 @ np.linalg.inv(x)\n",
    "print(T)\n",
    "Y = cobot.T_B_C_robot.A\n",
    "H = T@cobot.T_B_C_robot.A[:3, :3]\n",
    "Y[:3,:3] = H\n",
    "print(Y)\n",
    "print(cobot.T_B_C_robot)"
   ]
  },
  {
   "cell_type": "markdown",
   "id": "transsexual-puzzle",
   "metadata": {},
   "source": [
    "### Action:"
   ]
  },
  {
   "cell_type": "markdown",
   "id": "cordless-cooler",
   "metadata": {},
   "source": [
    "#### How To:\n",
    "\n",
    "* start all roslaunches (3)\n",
    "* cutting_skill.py debug start (or normal start)\n",
    "* Go Through following notebook stuff (set appropriate points)\n",
    "* Click through debug modus in PyCharm\n",
    "\n",
    "TODO: video, new transformation, to EE?, look at config yaml stuff and update todos"
   ]
  },
  {
   "cell_type": "code",
   "execution_count": 9,
   "id": "golden-glossary",
   "metadata": {},
   "outputs": [],
   "source": [
    "material= MaterialType()\n",
    "material = material.PLASTIC\n",
    "\n",
    "normalA = hrr_cm.ros_utils.np2vector3stamped(np.r_[0,0,1], \"normalA\")\n",
    "pointA = hrr_cm.ros_utils.np2vector3stamped(np.r_[0.4555,0.0159017,0.65335], \"pointA\")\n",
    "normalB = hrr_cm.ros_utils.np2vector3stamped(np.r_[0,0,1], \"normalB\")\n",
    "pointB = hrr_cm.ros_utils.np2vector3stamped(np.r_[0.4555,-0.0540378,0.65335], \"pointB\")"
   ]
  },
  {
   "cell_type": "code",
   "execution_count": 20,
   "id": "severe-senior",
   "metadata": {},
   "outputs": [
    {
     "name": "stdout",
     "output_type": "stream",
     "text": [
      "found\n"
     ]
    }
   ],
   "source": [
    "shaftgrinder_client=actionlib.SimpleActionClient('/cutting_server/cutting', CuttingAction)\n",
    "shaftgrinder_client.wait_for_server()\n",
    "print('found')"
   ]
  },
  {
   "cell_type": "code",
   "execution_count": 21,
   "id": "assumed-canyon",
   "metadata": {
    "scrolled": true
   },
   "outputs": [
    {
     "name": "stdout",
     "output_type": "stream",
     "text": [
      "surface_normal_start: \n",
      "  header: \n",
      "    seq: 0\n",
      "    stamp: \n",
      "      secs: 1646154196\n",
      "      nsecs: 646218299\n",
      "    frame_id: \"normalA\"\n",
      "  vector: \n",
      "    x: 0\n",
      "    y: 0\n",
      "    z: 1\n",
      "surface_normal_end: \n",
      "  header: \n",
      "    seq: 0\n",
      "    stamp: \n",
      "      secs: 1646154196\n",
      "      nsecs: 646971225\n",
      "    frame_id: \"normalB\"\n",
      "  vector: \n",
      "    x: 0\n",
      "    y: 0\n",
      "    z: 1\n",
      "start_location: \n",
      "  header: \n",
      "    seq: 0\n",
      "    stamp: \n",
      "      secs: 1646154196\n",
      "      nsecs: 646630048\n",
      "    frame_id: \"pointA\"\n",
      "  vector: \n",
      "    x: 0.4555\n",
      "    y: 0.0159017\n",
      "    z: 0.65335\n",
      "end_location: \n",
      "  header: \n",
      "    seq: 0\n",
      "    stamp: \n",
      "      secs: 1646154196\n",
      "      nsecs: 647337436\n",
      "    frame_id: \"pointB\"\n",
      "  vector: \n",
      "    x: 0.4555\n",
      "    y: -0.0540378\n",
      "    z: 0.65335\n",
      "material: \n",
      "  material_type: 1\n",
      "thickness: 0.005\n",
      "timeout: 200\n"
     ]
    },
    {
     "ename": "KeyboardInterrupt",
     "evalue": "",
     "output_type": "error",
     "traceback": [
      "\u001b[0;31m---------------------------------------------------------------------------\u001b[0m",
      "\u001b[0;31mKeyboardInterrupt\u001b[0m                         Traceback (most recent call last)",
      "\u001b[0;32m<ipython-input-21-b67835f8eb43>\u001b[0m in \u001b[0;36m<module>\u001b[0;34m\u001b[0m\n\u001b[1;32m     10\u001b[0m \u001b[0mprint\u001b[0m\u001b[0;34m(\u001b[0m\u001b[0mgoal\u001b[0m\u001b[0;34m)\u001b[0m\u001b[0;34m\u001b[0m\u001b[0;34m\u001b[0m\u001b[0m\n\u001b[1;32m     11\u001b[0m \u001b[0mshaftgrinder_client\u001b[0m\u001b[0;34m.\u001b[0m\u001b[0msend_goal\u001b[0m\u001b[0;34m(\u001b[0m\u001b[0mgoal\u001b[0m\u001b[0;34m)\u001b[0m\u001b[0;34m\u001b[0m\u001b[0;34m\u001b[0m\u001b[0m\n\u001b[0;32m---> 12\u001b[0;31m \u001b[0mshaftgrinder_client\u001b[0m\u001b[0;34m.\u001b[0m\u001b[0mwait_for_result\u001b[0m\u001b[0;34m(\u001b[0m\u001b[0;34m)\u001b[0m\u001b[0;34m\u001b[0m\u001b[0;34m\u001b[0m\u001b[0m\n\u001b[0m\u001b[1;32m     13\u001b[0m \u001b[0mshaftgrinder_client\u001b[0m\u001b[0;34m.\u001b[0m\u001b[0mget_result\u001b[0m\u001b[0;34m(\u001b[0m\u001b[0;34m)\u001b[0m\u001b[0;34m\u001b[0m\u001b[0;34m\u001b[0m\u001b[0m\n",
      "\u001b[0;32m/opt/ros/noetic/lib/python3/dist-packages/actionlib/simple_action_client.py\u001b[0m in \u001b[0;36mwait_for_result\u001b[0;34m(self, timeout)\u001b[0m\n\u001b[1;32m    141\u001b[0m                     \u001b[0mtime_left\u001b[0m \u001b[0;34m=\u001b[0m \u001b[0mloop_period\u001b[0m\u001b[0;34m\u001b[0m\u001b[0;34m\u001b[0m\u001b[0m\n\u001b[1;32m    142\u001b[0m \u001b[0;34m\u001b[0m\u001b[0m\n\u001b[0;32m--> 143\u001b[0;31m                 \u001b[0mself\u001b[0m\u001b[0;34m.\u001b[0m\u001b[0mdone_condition\u001b[0m\u001b[0;34m.\u001b[0m\u001b[0mwait\u001b[0m\u001b[0;34m(\u001b[0m\u001b[0mtime_left\u001b[0m\u001b[0;34m.\u001b[0m\u001b[0mto_sec\u001b[0m\u001b[0;34m(\u001b[0m\u001b[0;34m)\u001b[0m\u001b[0;34m)\u001b[0m\u001b[0;34m\u001b[0m\u001b[0;34m\u001b[0m\u001b[0m\n\u001b[0m\u001b[1;32m    144\u001b[0m \u001b[0;34m\u001b[0m\u001b[0m\n\u001b[1;32m    145\u001b[0m         \u001b[0;32mreturn\u001b[0m \u001b[0mself\u001b[0m\u001b[0;34m.\u001b[0m\u001b[0msimple_state\u001b[0m \u001b[0;34m==\u001b[0m \u001b[0mSimpleGoalState\u001b[0m\u001b[0;34m.\u001b[0m\u001b[0mDONE\u001b[0m\u001b[0;34m\u001b[0m\u001b[0;34m\u001b[0m\u001b[0m\n",
      "\u001b[0;32m~/anaconda3/envs/hrr/lib/python3.8/threading.py\u001b[0m in \u001b[0;36mwait\u001b[0;34m(self, timeout)\u001b[0m\n\u001b[1;32m    304\u001b[0m             \u001b[0;32melse\u001b[0m\u001b[0;34m:\u001b[0m\u001b[0;34m\u001b[0m\u001b[0;34m\u001b[0m\u001b[0m\n\u001b[1;32m    305\u001b[0m                 \u001b[0;32mif\u001b[0m \u001b[0mtimeout\u001b[0m \u001b[0;34m>\u001b[0m \u001b[0;36m0\u001b[0m\u001b[0;34m:\u001b[0m\u001b[0;34m\u001b[0m\u001b[0;34m\u001b[0m\u001b[0m\n\u001b[0;32m--> 306\u001b[0;31m                     \u001b[0mgotit\u001b[0m \u001b[0;34m=\u001b[0m \u001b[0mwaiter\u001b[0m\u001b[0;34m.\u001b[0m\u001b[0macquire\u001b[0m\u001b[0;34m(\u001b[0m\u001b[0;32mTrue\u001b[0m\u001b[0;34m,\u001b[0m \u001b[0mtimeout\u001b[0m\u001b[0;34m)\u001b[0m\u001b[0;34m\u001b[0m\u001b[0;34m\u001b[0m\u001b[0m\n\u001b[0m\u001b[1;32m    307\u001b[0m                 \u001b[0;32melse\u001b[0m\u001b[0;34m:\u001b[0m\u001b[0;34m\u001b[0m\u001b[0;34m\u001b[0m\u001b[0m\n\u001b[1;32m    308\u001b[0m                     \u001b[0mgotit\u001b[0m \u001b[0;34m=\u001b[0m \u001b[0mwaiter\u001b[0m\u001b[0;34m.\u001b[0m\u001b[0macquire\u001b[0m\u001b[0;34m(\u001b[0m\u001b[0;32mFalse\u001b[0m\u001b[0;34m)\u001b[0m\u001b[0;34m\u001b[0m\u001b[0;34m\u001b[0m\u001b[0m\n",
      "\u001b[0;31mKeyboardInterrupt\u001b[0m: "
     ]
    }
   ],
   "source": [
    "goal=CuttingGoal()\n",
    "goal.surface_normal_start=normalA\n",
    "goal.surface_normal_end=normalB\n",
    "goal.start_location=pointA\n",
    "goal.end_location=pointB\n",
    "goal.material.material_type=material\n",
    "goal.timeout=200\n",
    "goal.thickness = 0.005\n",
    "\n",
    "print(goal)\n",
    "shaftgrinder_client.send_goal(goal)\n",
    "shaftgrinder_client.wait_for_result()\n",
    "shaftgrinder_client.get_result()"
   ]
  },
  {
   "cell_type": "code",
   "execution_count": 37,
   "id": "induced-virus",
   "metadata": {},
   "outputs": [],
   "source": [
    "shaftgrinder_client.cancel_all_goals()"
   ]
  },
  {
   "cell_type": "code",
   "execution_count": 59,
   "id": "a988d22b",
   "metadata": {},
   "outputs": [
    {
     "name": "stderr",
     "output_type": "stream",
     "text": [
      "[WARN] [1644863120.376611]: minimum value is 3500 => set value to 0\n"
     ]
    }
   ],
   "source": [
    "cobot.tool_controller.disable()"
   ]
  },
  {
   "cell_type": "code",
   "execution_count": 8,
   "id": "heavy-magazine",
   "metadata": {},
   "outputs": [
    {
     "ename": "SyntaxError",
     "evalue": "expression cannot contain assignment, perhaps you meant \"==\"? (<ipython-input-8-eb16480112c0>, line 2)",
     "output_type": "error",
     "traceback": [
      "\u001b[0;36m  File \u001b[0;32m\"<ipython-input-8-eb16480112c0>\"\u001b[0;36m, line \u001b[0;32m2\u001b[0m\n\u001b[0;31m    msg.state = cobot.cobot_state_msg(\"cutting\", status=CobotState.BUSY, tool.type = 3)\u001b[0m\n\u001b[0m                                                                         ^\u001b[0m\n\u001b[0;31mSyntaxError\u001b[0m\u001b[0;31m:\u001b[0m expression cannot contain assignment, perhaps you meant \"==\"?\n"
     ]
    }
   ],
   "source": [
    "msg = CuttingFeedback()\n",
    "msg.state = cobot.cobot_state_msg(\"cutting\", status=CobotState.BUSY)\n",
    "msg"
   ]
  },
  {
   "cell_type": "code",
   "execution_count": 39,
   "id": "b4b08c00",
   "metadata": {},
   "outputs": [],
   "source": [
    "deviceType = 1"
   ]
  },
  {
   "cell_type": "code",
   "execution_count": 40,
   "id": "24ccc40b",
   "metadata": {},
   "outputs": [],
   "source": [
    " def updatetf(y):\n",
    "        \"\"\"\n",
    "        Updates the coordinate transformation matrix for the robot/shaftgrinder according to the device and cutting position.\n",
    "        Args:\n",
    "            y [float] : y coordinate for Cutting Pose A\n",
    "\n",
    "        Returns: None\n",
    "\n",
    "        \"\"\"\n",
    "        toEE, q = cobot._tf.T_A_B('hrr_cobot.shaftgrinder_tip', 'hrr_cobot.ee_link')\n",
    "        Rz = sm.SE3.Rz(np.pi)\n",
    "        T_B_tool = sm.SE3(*toEE)\n",
    "        T_B_tool.A[:3, :3] = quaternion.as_rotation_matrix(q)\n",
    "        T_B_tool.A[:, 3] = [0.455, 0.04829, 0.65335, 1]\n",
    "        Shaftgrinder_tf = T_B_tool @ Rz\n",
    "        toEE = np.array(toEE)\n",
    "\n",
    "        if deviceType == 3:  # 3 for PC_tower\n",
    "            if (y - self._yofcenter) < 0.06:\n",
    "                tf = Shaftgrinder_tf_PC_Tower_1 @ Rz\n",
    "            else:\n",
    "                tf = Shaftgrinder_tf_PC_Tower_2 @ Rz\n",
    "        else:\n",
    "            tf = Shaftgrinder_tf\n",
    "        return tf, toEE"
   ]
  },
  {
   "cell_type": "code",
   "execution_count": 47,
   "id": "0a1f5bec",
   "metadata": {},
   "outputs": [
    {
     "name": "stdout",
     "output_type": "stream",
     "text": [
      "  \u001b[38;5;1m 0.707107   \u001b[0m\u001b[38;5;1m-0.707107   \u001b[0m\u001b[38;5;1m 0          \u001b[0m\u001b[38;5;4m 0.455      \u001b[0m  \u001b[0m\n",
      "  \u001b[38;5;1m 0          \u001b[0m\u001b[38;5;1m 0          \u001b[0m\u001b[38;5;1m 1          \u001b[0m\u001b[38;5;4m 0.04829    \u001b[0m  \u001b[0m\n",
      "  \u001b[38;5;1m-0.707107   \u001b[0m\u001b[38;5;1m-0.707107   \u001b[0m\u001b[38;5;1m 0          \u001b[0m\u001b[38;5;4m 0.65335    \u001b[0m  \u001b[0m\n",
      "  \u001b[38;5;244m 0          \u001b[0m\u001b[38;5;244m 0          \u001b[0m\u001b[38;5;244m 0          \u001b[0m\u001b[38;5;244m 1          \u001b[0m  \u001b[0m\n",
      "\n",
      "  \u001b[38;5;1m 0.707107   \u001b[0m\u001b[38;5;1m 0          \u001b[0m\u001b[38;5;1m 0.707107   \u001b[0m\u001b[38;5;4m 0.455      \u001b[0m  \u001b[0m\n",
      "  \u001b[38;5;1m-0.707107   \u001b[0m\u001b[38;5;1m 0          \u001b[0m\u001b[38;5;1m 0.707107   \u001b[0m\u001b[38;5;4m 0.04829    \u001b[0m  \u001b[0m\n",
      "  \u001b[38;5;1m 0          \u001b[0m\u001b[38;5;1m-1          \u001b[0m\u001b[38;5;1m 0          \u001b[0m\u001b[38;5;4m 0.65335    \u001b[0m  \u001b[0m\n",
      "  \u001b[38;5;244m 0          \u001b[0m\u001b[38;5;244m 0          \u001b[0m\u001b[38;5;244m 0          \u001b[0m\u001b[38;5;244m 1          \u001b[0m  \u001b[0m\n",
      "\n",
      "[ 0.     -0.1555 -0.0945]\n",
      "[0.06682 0.06682 0.1555 ]\n"
     ]
    }
   ],
   "source": [
    "start_location = goal.start_location\n",
    "surface_normal_start = goal.surface_normal_start\n",
    "\n",
    "tf,toEE = updatetf(start_location.vector.y)\n",
    "print(tf)\n",
    "print(new)\n",
    "print(toEE)\n",
    "toEE, q = cobot._tf.T_A_B('hrr_cobot.ee_link', 'hrr_cobot.shaftgrinder_tip')\n",
    "print(toEE)"
   ]
  },
  {
   "cell_type": "code",
   "execution_count": 66,
   "id": "c0c34489",
   "metadata": {},
   "outputs": [
    {
     "name": "stdout",
     "output_type": "stream",
     "text": [
      "  \u001b[38;5;1m 0.707107   \u001b[0m\u001b[38;5;1m-0.707107   \u001b[0m\u001b[38;5;1m 0          \u001b[0m\u001b[38;5;4m 0.4555     \u001b[0m  \u001b[0m\n",
      "  \u001b[38;5;1m 0          \u001b[0m\u001b[38;5;1m 0          \u001b[0m\u001b[38;5;1m 1          \u001b[0m\u001b[38;5;4m 0.0159017  \u001b[0m  \u001b[0m\n",
      "  \u001b[38;5;1m-0.707107   \u001b[0m\u001b[38;5;1m-0.707107   \u001b[0m\u001b[38;5;1m 0          \u001b[0m\u001b[38;5;4m 0.70335    \u001b[0m  \u001b[0m\n",
      "  \u001b[38;5;244m 0          \u001b[0m\u001b[38;5;244m 0          \u001b[0m\u001b[38;5;244m 0          \u001b[0m\u001b[38;5;244m 1          \u001b[0m  \u001b[0m\n",
      "\n"
     ]
    }
   ],
   "source": [
    "toEE = np.array([0., -0.156, 0.094])\n",
    "#toEE = np.array([0.06682, -0.06682, 0.1555 ])\n",
    "toEE = np.array([0, -0., 0. ])\n",
    "\n",
    "PrePoseA = hrr_cm.calc_EE_pre_pose_neg(normal=hrr_cm.vec32np(surface_normal_start.vector),\n",
    "                                                   p_location=hrr_cm.vec32np(\n",
    "                                                       start_location.vector),\n",
    "                                                   C_p_CE=toEE, R_C_E=tf.A[:3, :3],\n",
    "                                                   safety_distance=-0.05)\n",
    "print(PrePoseA)"
   ]
  },
  {
   "cell_type": "code",
   "execution_count": 60,
   "id": "6fa11bed",
   "metadata": {},
   "outputs": [
    {
     "data": {
      "application/vnd.jupyter.widget-view+json": {
       "model_id": "e401d866b11d4e8fa33746f0ecd5cbda",
       "version_major": 2,
       "version_minor": 0
      },
      "text/plain": [
       "  0%|          | 0/5000 [00:00<?, ?it/s]"
      ]
     },
     "metadata": {},
     "output_type": "display_data"
    },
    {
     "name": "stdout",
     "output_type": "stream",
     "text": [
      "[INFO] [1646066841.033745]: reached goal pose at step 477 / 5000\n"
     ]
    }
   ],
   "source": [
    "cobot.move_to_pose(PrePoseA,v_max=0.02,rot_max=0.05)\n",
    "T = int(50 * cobot.hz)\n",
    "for t in trange(T):\n",
    "    if cobot.state is None:\n",
    "        rospy.loginfo(f\"reached goal pose at step {t + 1} / {T}\")\n",
    "        break\n",
    "    elif cobot.state == \"error\":\n",
    "        rospy.logerror(f\"robot in ERROR state\")\n",
    "    cobot.update()"
   ]
  },
  {
   "cell_type": "code",
   "execution_count": 8,
   "id": "conservative-closure",
   "metadata": {},
   "outputs": [
    {
     "data": {
      "text/plain": [
       "stamp: \n",
       "  secs: 1641306398\n",
       "  nsecs: 770958185\n",
       "ctrl: 0\n",
       "state: 126\n",
       "tool: ''\n",
       "primitive: \"cutting\""
      ]
     },
     "execution_count": 8,
     "metadata": {},
     "output_type": "execute_result"
    }
   ],
   "source": [
    "cobot.cobot_state_msg(\"cutting\", status=CobotState.BUSY)"
   ]
  },
  {
   "cell_type": "code",
   "execution_count": null,
   "id": "excellent-breast",
   "metadata": {},
   "outputs": [],
   "source": [
    "toolmatrix = sm.SE3(np.array([[1, 0, 0, 0],\n",
    "                       [0, 0, 1, -0.002],\n",
    "                       [0, 1, 0, -0.001],\n",
    "                       [0,0,0,1]]))\n",
    "print(toolmatrix)\n",
    "C = np.array([[-0.61, -0.61, 0.5, 0.43],\n",
    "             [-0.32, -0.388, -0.864, 0.133],\n",
    "             [ 0.717, -0.7, 0.04, 0.77],\n",
    "             [0, 0, 0, 1]])\n",
    "B = cobot.FK(cobot.q)\n",
    "print(B)\n",
    "B = np.array([[-1, 0, 0, 0.4355],\n",
    "            [0, 1, 0, 0],\n",
    "            [0, 0, -1, 0.70],\n",
    "            [0,0,0,1]])\n",
    "print(B)\n",
    "A = C @ np.linalg.inv(B)\n",
    "print(A)\n",
    "\n",
    "print(type(A@B))\n",
    "X = A@B\n",
    "print(type(X))\n",
    "\n",
    "geherunter = np.array([[1, 0, 0, 0],\n",
    "                       [0, 1, 0, 0],\n",
    "                       [0, 0, 1, -0.05],\n",
    "                       [0,0,0,1]])\n",
    "\n",
    "neu = geherunter @ X\n",
    "print(neu)\n",
    "#[[ 0.61,   -0.61,   -0.5,      0.51435],\n",
    "# [ 0.32,    -0.388,    0.864,   -0.61116]\n",
    "# [-0.717,   -0.7,     -0.04,     1.11025]\n",
    "# [ 0.,       0.,       0.,       1.     ]]\n",
    "#newposex = sm.SE3(X)"
   ]
  },
  {
   "cell_type": "code",
   "execution_count": null,
   "id": "ordered-sacramento",
   "metadata": {},
   "outputs": [],
   "source": [
    "## calibrate position without shaft grinder\n",
    "\n",
    "calibpose = np.array([[-1, 0, 0, 0.4355],\n",
    "            [0, 1, 0, 0],\n",
    "            [0, 0, -1, 0.70],\n",
    "            [0,0,0,1]])\n",
    "print(calibpose)\n",
    "\n",
    "geherunter = np.array([[1, 0, 0, 0.21],\n",
    "                       [0, 1, 0, 0.19],\n",
    "                       [0, 0, 1, -0.6],\n",
    "                       [0,0,0,1]])\n",
    "\n",
    "neucalib = geherunter @ calibpose\n",
    "print(neucalib)\n",
    "print(cobot.q)\n",
    "print(cobot)\n",
    "print(cobot.sns_pos)\n",
    "print(cobot.FK(cobot.q))\n",
    "#[[ 0.61,   -0.61,   -0.5,      0.51435],\n",
    "# [ 0.32,    -0.388,    0.864,   -0.61116]\n",
    "# [-0.717,   -0.7,     -0.04,     1.11025]\n",
    "# [ 0.,       0.,       0.,       1.     ]]\n",
    "#newposex = sm.SE3(X)"
   ]
  },
  {
   "cell_type": "code",
   "execution_count": null,
   "id": "employed-optimization",
   "metadata": {},
   "outputs": [],
   "source": [
    "## calibrate position without shaft grinder\n",
    "\n",
    "calibpose = np.array([[-1, 0, 0, 0.4355],\n",
    "            [0, 1, 0, 0],\n",
    "            [0, 0, -1, 0.70],\n",
    "            [0,0,0,1]])\n",
    "print(calibpose)\n",
    "\n",
    "geherunter = np.array([[1, 0, 0, 0.21],\n",
    "                       [0, 1, 0, 0.19],\n",
    "                       [0, 0, 1, -0.6],\n",
    "                       [0,0,0,1]])\n",
    "\n",
    "neucalib = geherunter @ calibpose\n",
    "print(neucalib)\n",
    "print(cobot.q)\n",
    "print(cobot)\n",
    "print(cobot.sns_pos)\n",
    "print(cobot.FK(cobot.q))\n",
    "#[[ 0.61,   -0.61,   -0.5,      0.51435],\n",
    "# [ 0.32,    -0.388,    0.864,   -0.61116]\n",
    "# [-0.717,   -0.7,     -0.04,     1.11025]\n",
    "# [ 0.,       0.,       0.,       1.     ]]\n",
    "#newposex = sm.SE3(X)"
   ]
  },
  {
   "cell_type": "code",
   "execution_count": null,
   "id": "hidden-saying",
   "metadata": {},
   "outputs": [],
   "source": [
    "## calib with shaft grinder\n",
    "\n",
    "C = np.array([[-0.61, -0.61, 0.5, 0.43],\n",
    "             [-0.32, -0.388, -0.864, 0.133],\n",
    "             [ 0.717, -0.7, 0.04, 0.77],\n",
    "             [0, 0, 0, 1]])\n",
    "B = cobot.FK(cobot.q)\n",
    "print(B)\n",
    "B = np.array([[-1, 0, 0, 0.4355],\n",
    "            [0, 1, 0, 0],\n",
    "            [0, 0, -1, 0.70],\n",
    "            [0,0,0,1]])\n",
    "print(B)\n",
    "A = C @ np.linalg.inv(B)\n",
    "print(A)\n",
    "\n",
    "print(type(A@B))\n",
    "X = A@B\n",
    "print(type(X))\n",
    "\n",
    "geherunter = np.array([[1, 0, 0, 0.155],\n",
    "                       [0, 1, 0, 0.14],\n",
    "                       [0, 0, 1, -0.64],\n",
    "                       [0,0,0,1]])\n",
    "\n",
    "neu = geherunter @ X\n",
    "print(neu)\n",
    "#[[ 0.61,   -0.61,   -0.5,      0.51435],\n",
    "# [ 0.32,    -0.388,    0.864,   -0.61116]\n",
    "# [-0.717,   -0.7,     -0.04,     1.11025]\n",
    "# [ 0.,       0.,       0.,       1.     ]]\n",
    "#newposex = sm.SE3(X)"
   ]
  },
  {
   "cell_type": "code",
   "execution_count": null,
   "id": "nasty-oxide",
   "metadata": {},
   "outputs": [],
   "source": [
    "X1 = np.array([[-0.614028 ,   -0.608811,     0.502313,      0.375 ],\n",
    " [-0.321531,    -0.388273,   -0.863633,    0.083],\n",
    " [ 0.720824,   -0.691804,      0.0426591,     0.73],\n",
    " [ 0.,       0.  ,     0.   ,    1.     ]])\n",
    "print(X)"
   ]
  },
  {
   "cell_type": "code",
   "execution_count": null,
   "id": "african-tobago",
   "metadata": {},
   "outputs": [],
   "source": [
    "X2 = np.array([[0.727097 ,   0.675341,     0.123469,      0.375 ],\n",
    " [0.0743252,    0.101354,   -0.99207,    0.083],\n",
    " [ -0.6825,   0.730508,      0.0234991,     0.73],\n",
    " [ 0.,       0.  ,     0.   ,    1.     ]])\n",
    "print(X2)\n",
    "print(cobot.FK(cobot.q))"
   ]
  },
  {
   "cell_type": "code",
   "execution_count": null,
   "id": "double-attitude",
   "metadata": {},
   "outputs": [],
   "source": [
    "cobot.goTo(X2)\n",
    "print(cobot.FK(cobot.q))"
   ]
  },
  {
   "cell_type": "code",
   "execution_count": 5,
   "id": "understood-setup",
   "metadata": {},
   "outputs": [
    {
     "ename": "AttributeError",
     "evalue": "module 'hrr_cobot_robot' has no attribute 'grinder_server'",
     "output_type": "error",
     "traceback": [
      "\u001b[0;31m---------------------------------------------------------------------------\u001b[0m",
      "\u001b[0;31mAttributeError\u001b[0m                            Traceback (most recent call last)",
      "\u001b[0;32m<ipython-input-5-b8781893d641>\u001b[0m in \u001b[0;36m<module>\u001b[0;34m\u001b[0m\n\u001b[0;32m----> 1\u001b[0;31m \u001b[0mshaftgrinder\u001b[0m \u001b[0;34m=\u001b[0m \u001b[0mhrr_rob\u001b[0m\u001b[0;34m.\u001b[0m\u001b[0mgrinder_server\u001b[0m\u001b[0;34m(\u001b[0m\u001b[0;34m)\u001b[0m\u001b[0;34m\u001b[0m\u001b[0;34m\u001b[0m\u001b[0m\n\u001b[0m",
      "\u001b[0;31mAttributeError\u001b[0m: module 'hrr_cobot_robot' has no attribute 'grinder_server'"
     ]
    }
   ],
   "source": [
    "shaftgrinder = hrr_rob.grinder_server()"
   ]
  },
  {
   "cell_type": "code",
   "execution_count": 85,
   "id": "extensive-vehicle",
   "metadata": {},
   "outputs": [
    {
     "name": "stdout",
     "output_type": "stream",
     "text": [
      "  \u001b[38;5;1m-0.440004   \u001b[0m\u001b[38;5;1m-0.43861    \u001b[0m\u001b[38;5;1m 0.783592   \u001b[0m\u001b[38;5;4m 0.675489   \u001b[0m  \u001b[0m\n",
      "  \u001b[38;5;1m 0.552408   \u001b[0m\u001b[38;5;1m 0.555758   \u001b[0m\u001b[38;5;1m 0.621271   \u001b[0m\u001b[38;5;4m-0.0747128  \u001b[0m  \u001b[0m\n",
      "  \u001b[38;5;1m-0.707984   \u001b[0m\u001b[38;5;1m 0.706225   \u001b[0m\u001b[38;5;1m-0.00224414 \u001b[0m\u001b[38;5;4m 0.145473   \u001b[0m  \u001b[0m\n",
      "  \u001b[38;5;244m 0          \u001b[0m\u001b[38;5;244m 0          \u001b[0m\u001b[38;5;244m 0          \u001b[0m\u001b[38;5;244m 1          \u001b[0m  \u001b[0m\n",
      "\n",
      "[[-0.43992 -0.43973  0.78301  0.70597]\n",
      " [ 0.5527   0.55465  0.62201 -0.07423]\n",
      " [-0.70781  0.7064   0.       0.145  ]\n",
      " [ 0.       0.       0.       1.     ]]\n"
     ]
    }
   ],
   "source": [
    "print(cobot.FK(cobot.q))\n",
    "gotoPointnew = np.array([[1, 0, 0, 0.15],\n",
    "                       [0, 1, 0, 0.077],\n",
    "                       [0, 0, 1, -0.035],\n",
    "                       [0,0,0,1]])\n",
    "ausdemWeg = np.array([[-0.439919, -0.439733, 0.783011, 0.555965],\n",
    "                       [0.552695, 0.554649, 0.622007, -0.151232],\n",
    "                       [-0.707813, 0.706399, 0, 0.18],\n",
    "                       [0,0,0,1]])\n",
    "pointZ = gotoPointnew @ ausdemWeg\n",
    "print(pointZ)"
   ]
  },
  {
   "cell_type": "code",
   "execution_count": 87,
   "id": "funded-mortgage",
   "metadata": {},
   "outputs": [
    {
     "data": {
      "application/vnd.jupyter.widget-view+json": {
       "model_id": "a64b25d82b3345d6ae5e1e90cbb44f22",
       "version_major": 2,
       "version_minor": 0
      },
      "text/plain": [
       "  0%|          | 0/5000 [00:00<?, ?it/s]"
      ]
     },
     "metadata": {},
     "output_type": "display_data"
    },
    {
     "name": "stdout",
     "output_type": "stream",
     "text": [
      "[INFO] [1639066854.162032]: reached goal pose at step 1209 / 5000\n"
     ]
    }
   ],
   "source": [
    "cobot.move_to_pose(pointZ,v_max=0.001,rot_max=0.001)\n",
    "T = int(50 * cobot.hz)\n",
    "for t in trange(T):\n",
    "    if cobot.state is None:\n",
    "        rospy.loginfo(f\"reached goal pose at step {t + 1} / {T}\")\n",
    "        break\n",
    "    elif cobot.state == \"error\":\n",
    "        rospy.logerr(f\"robot in ERROR state\")\n",
    "    cobot.update()"
   ]
  },
  {
   "cell_type": "markdown",
   "id": "bored-touch",
   "metadata": {},
   "source": [
    "## Test with Planner"
   ]
  },
  {
   "cell_type": "code",
   "execution_count": 59,
   "id": "tired-being",
   "metadata": {},
   "outputs": [
    {
     "name": "stderr",
     "output_type": "stream",
     "text": [
      "[WARN] [1641377931.325951]: minimum value is 3500 => set value to 0\n"
     ]
    }
   ],
   "source": [
    "cobot.tool_controller\n",
    "cobot.tool_controller.rpm = 0\n",
    "cobot.change_tool(None)\n",
    "cobot.change_tool(\"shaftgrinder\")\n",
    "cobot.tool_controller.reset()"
   ]
  },
  {
   "cell_type": "code",
   "execution_count": 30,
   "id": "foster-rental",
   "metadata": {},
   "outputs": [],
   "source": [
    "def MoveLoop(pose,v_max=0.005,rot_max=0.005,timeout=50,rpm=0.005):\n",
    "    \n",
    "    cobot.move_to_pose(pose,v_max,rot_max,rot_precision_threshold=0.001, pos_precision_threshold=0.001)\n",
    "    T = int(timeout * cobot.hz)\n",
    "    for t in trange(T):\n",
    "        if cobot.state is None:\n",
    "            rospy.loginfo(f\"reached goal pose at step {t + 1} / {T}\")\n",
    "            break\n",
    "        elif cobot.state == \"error\":\n",
    "            rospy.logerr(f\"robot in ERROR state\")\n",
    "        if rpm != 0:\n",
    "            cobot.tool_controller.enable_grinder()\n",
    "        else:\n",
    "            cobot.tool_controller.disable()\n",
    "        cobot.update()"
   ]
  },
  {
   "cell_type": "code",
   "execution_count": 75,
   "id": "accepting-tennessee",
   "metadata": {},
   "outputs": [],
   "source": [
    "Shaftgrinder_tf = np.array([[-0.707107, 0.707107, 0.238541, 0.455498],\n",
    "                            [0, 0, 1, 0.0482934],\n",
    "                            [0.707107, 0.707107, 0, 0.653348],\n",
    "                            [0, 0, 0, 1]])\n",
    "toEE = np.array([0,0,0])\n",
    "#toEE = np.array([0.036878, 0.1479008, -0.107603]) for coordinate calculation. for testing not needed"
   ]
  },
  {
   "cell_type": "code",
   "execution_count": 76,
   "id": "amber-disaster",
   "metadata": {},
   "outputs": [],
   "source": [
    "material= MaterialType()\n",
    "material = material.PLASTIC\n",
    "\n",
    "normalA = hrr_cm.ros_utils.np2vector3stamped(np.r_[0,0,-1], \"normalA\")\n",
    "pointA = hrr_cm.ros_utils.np2vector3stamped(np.r_[0.4555,0.0159017,0.65335], \"pointA\")\n",
    "normalB = hrr_cm.ros_utils.np2vector3stamped(np.r_[0,0,-1], \"normalB\")\n",
    "pointB = hrr_cm.ros_utils.np2vector3stamped(np.r_[0.4555,-0.0540378,0.65335], \"pointB\")"
   ]
  },
  {
   "cell_type": "code",
   "execution_count": 16,
   "id": "juvenile-attachment",
   "metadata": {},
   "outputs": [
    {
     "data": {
      "text/plain": [
       "SE3:  \u001b[38;5;1m-0.0143648  \u001b[0m\u001b[38;5;1m 0.232998   \u001b[0m\u001b[38;5;1m 0.972371   \u001b[0m\u001b[38;5;4m 0.59606    \u001b[0m  \u001b[0m\n",
       "      \u001b[38;5;1m 0.00222875 \u001b[0m\u001b[38;5;1m 0.972476   \u001b[0m\u001b[38;5;1m-0.232991   \u001b[0m\u001b[38;5;4m 0.0697168  \u001b[0m  \u001b[0m\n",
       "      \u001b[38;5;1m-0.999894   \u001b[0m\u001b[38;5;1m-0.0011797  \u001b[0m\u001b[38;5;1m-0.0144887  \u001b[0m\u001b[38;5;4m 0.701112   \u001b[0m  \u001b[0m\n",
       "      \u001b[38;5;244m 0          \u001b[0m\u001b[38;5;244m 0          \u001b[0m\u001b[38;5;244m 0          \u001b[0m\u001b[38;5;244m 1          \u001b[0m  \u001b[0m\n",
       "    "
      ]
     },
     "execution_count": 16,
     "metadata": {},
     "output_type": "execute_result"
    }
   ],
   "source": [
    "cobot.tool_controller\n",
    "cobot.change_tool(\"shaftgrinder\")\n",
    "cobot.T_B_C_robot"
   ]
  },
  {
   "cell_type": "code",
   "execution_count": 17,
   "id": "printable-breast",
   "metadata": {},
   "outputs": [],
   "source": [
    "cobot.tool_controller.rpm = 4000"
   ]
  },
  {
   "cell_type": "code",
   "execution_count": 77,
   "id": "postal-guatemala",
   "metadata": {},
   "outputs": [
    {
     "name": "stdout",
     "output_type": "stream",
     "text": [
      "[0.49238 0.1638  0.59575]\n",
      "quaternion(-0.187721339376569, 0.340781349598501, 0.619570877112396, 0.681733598073813)\n"
     ]
    }
   ],
   "source": [
    "PrePoseA = hrr_cm.calc_EE_pre_pose_neg(normal=hrr_cm.vec32np(normalA.vector),\n",
    "                                        p_location=hrr_cm.vec32np(pointA.vector),\n",
    "                                        C_p_CE=toEE, R_C_E=Shaftgrinder_tf[:3, :3],\n",
    "                                        safety_distance=-0.05)\n",
    "\n",
    "PrePoseB = hrr_cm.calc_EE_pre_pose_neg(normal=hrr_cm.vec32np(normalB.vector),\n",
    "                                       p_location=hrr_cm.vec32np(pointB.vector),\n",
    "                                       C_p_CE=toEE, R_C_E=Shaftgrinder_tf[:3, :3],\n",
    "                                       safety_distance=-0.05)\n",
    "\n",
    "CuttingPoseA = hrr_cm.calc_EE_pre_pose(normal=hrr_cm.vec32np(normalA.vector),\n",
    "                                       p_location=hrr_cm.vec32np(pointA.vector),\n",
    "                                       C_p_CE=toEE, R_C_E=Shaftgrinder_tf[:3, :3],\n",
    "                                       safety_distance=0.005)\n",
    "\n",
    "CuttingPoseB = hrr_cm.calc_EE_pre_pose(normal=hrr_cm.vec32np(normalB.vector),\n",
    "                                       p_location=hrr_cm.vec32np(pointB.vector),\n",
    "                                       C_p_CE=toEE, R_C_E=Shaftgrinder_tf[:3, :3],\n",
    "                                       safety_distance=0.005)\n",
    "\n",
    "# for planner:\n",
    "pre_location_quat = hrr_cm.homog2quat(PrePoseA)\n",
    "pre_location_pos = hrr_cm.homog2pos(PrePoseA)\n",
    "\n",
    "print(pre_location_pos)\n",
    "print(pre_location_quat)"
   ]
  },
  {
   "cell_type": "code",
   "execution_count": 67,
   "id": "institutional-covering",
   "metadata": {},
   "outputs": [],
   "source": [
    " # Initialize the planner action client.\n",
    "    \n",
    "# >> Remeber to run the planner node (rosrun planner planner_server_v2.py) in Robot PC terminal. Wait for the message to appear \"initialization done\"\n",
    "# >> \n",
    "#rospy.init_node('planner_client')\n",
    "\n",
    "client1 = actionlib.SimpleActionClient('planner', PlannerAction)\n",
    "client1.wait_for_server()\n",
    "\n",
    "# Sending deride end configuration\n",
    "goal = PlannerGoal()\n",
    "goal.goal_pose.header.frame_id = \"map\"\n",
    "goal.goal_pose.header.stamp = rospy.Time.now()"
   ]
  },
  {
   "cell_type": "code",
   "execution_count": 68,
   "id": "discrete-bachelor",
   "metadata": {},
   "outputs": [],
   "source": [
    "# pose for the planner\n",
    "\n",
    "#position of end_configuration\n",
    "goal.goal_pose.pose.position.x = pre_location_pos[0]\n",
    "goal.goal_pose.pose.position.y = pre_location_pos[1]\n",
    "goal.goal_pose.pose.position.z = pre_location_pos[2]\n",
    "\n",
    "#orientation of end_configuration\n",
    "goal.goal_pose.pose.orientation.x = pre_location_quat.x\n",
    "goal.goal_pose.pose.orientation.y = pre_location_quat.y\n",
    "goal.goal_pose.pose.orientation.z = pre_location_quat.z\n",
    "goal.goal_pose.pose.orientation.w = pre_location_quat.w"
   ]
  },
  {
   "cell_type": "code",
   "execution_count": 69,
   "id": "robust-savings",
   "metadata": {},
   "outputs": [],
   "source": [
    " client1.send_goal(goal)"
   ]
  },
  {
   "cell_type": "code",
   "execution_count": 78,
   "id": "accompanied-chosen",
   "metadata": {},
   "outputs": [
    {
     "data": {
      "application/vnd.jupyter.widget-view+json": {
       "model_id": "e0fd35ac82ae485ea2bd0132e746a1ea",
       "version_major": 2,
       "version_minor": 0
      },
      "text/plain": [
       "  0%|          | 0/5000 [00:00<?, ?it/s]"
      ]
     },
     "metadata": {},
     "output_type": "display_data"
    },
    {
     "name": "stdout",
     "output_type": "stream",
     "text": [
      "[INFO] [1641378925.824804]: reached goal pose at step 4298 / 5000\n"
     ]
    },
    {
     "data": {
      "application/vnd.jupyter.widget-view+json": {
       "model_id": "37b18c98ae0f4c21870a48a02580b18a",
       "version_major": 2,
       "version_minor": 0
      },
      "text/plain": [
       "  0%|          | 0/5000 [00:00<?, ?it/s]"
      ]
     },
     "metadata": {},
     "output_type": "display_data"
    },
    {
     "name": "stdout",
     "output_type": "stream",
     "text": [
      "[INFO] [1641378959.735219]: reached goal pose at step 3381 / 5000\n"
     ]
    },
    {
     "data": {
      "application/vnd.jupyter.widget-view+json": {
       "model_id": "8076ad04f66449c495fe4e712a28dce5",
       "version_major": 2,
       "version_minor": 0
      },
      "text/plain": [
       "  0%|          | 0/5000 [00:00<?, ?it/s]"
      ]
     },
     "metadata": {},
     "output_type": "display_data"
    },
    {
     "name": "stdout",
     "output_type": "stream",
     "text": [
      "[INFO] [1641378991.746532]: reached goal pose at step 3190 / 5000\n"
     ]
    }
   ],
   "source": [
    "# Action\n",
    "\n",
    "## Planner here: \n",
    "#MoveLoop(pose=PrePoseA,v_max=0.05,rot_max=0.2,timeout=50,rpm=0)\n",
    "\n",
    "## MoveLoop here\n",
    "MoveLoop(pose=CuttingPoseA,v_max=0.05,rot_max=0.3,timeout=50,rpm=4000)\n",
    "MoveLoop(pose=CuttingPoseB,v_max=0.05,rot_max=0.3,timeout=50,rpm=4000)\n",
    "MoveLoop(pose=PrePoseB,v_max=0.05,rot_max=0.3,timeout=50,rpm=4000)\n",
    "cobot.tool_controller.disable()"
   ]
  },
  {
   "cell_type": "code",
   "execution_count": 61,
   "id": "wound-application",
   "metadata": {},
   "outputs": [],
   "source": [
    "cobot.tool_controller.rpm = 4000\n",
    "cobot.tool_controller.enable_grinder()"
   ]
  },
  {
   "cell_type": "code",
   "execution_count": 62,
   "id": "prostate-constraint",
   "metadata": {},
   "outputs": [],
   "source": [
    "cobot.tool_controller.disable()"
   ]
  },
  {
   "cell_type": "code",
   "execution_count": 60,
   "id": "instant-atlas",
   "metadata": {},
   "outputs": [],
   "source": [
    "cobot.tool_controller.enable_grinder()"
   ]
  },
  {
   "cell_type": "markdown",
   "id": "exclusive-validity",
   "metadata": {},
   "source": [
    "## Test Functionality"
   ]
  },
  {
   "cell_type": "code",
   "execution_count": 41,
   "id": "ancient-biology",
   "metadata": {},
   "outputs": [],
   "source": [
    "def Move_to_all_Poses(PrePoseA,CuttingPoseA,CuttingPoseB,PrePoseB,rpm):\n",
    "    \n",
    "    \"\"\"\n",
    "    Executes all MoveLoops: from PrePoseA to CuttingPoseA to CuttingPoseB to PrePoseB\n",
    "    \n",
    "    Args: \n",
    "    PrePoseA (SE3): Starting pose above cutting surface (offset to cutting surface in defined normal direction)\n",
    "    CuttingPoseA (SE3): Start Position for Cutting (already in material with defined depth)\n",
    "    CuttingPoseB (SE3): End Position for Cutting (in material with defined depth)\n",
    "    PrePoseB (SE3): End Pose above cutting surface (offset to cutting surface in defined normal direction)\n",
    "    \n",
    "    \n",
    "    \"\"\"\n",
    "\n",
    "    MoveLoop(pose=PrePoseA,v_max=0.2,rot_max=0.4,timeout=5000,rpm=0)\n",
    "    MoveLoop(pose=CuttingPoseA,v_max=0.06,rot_max=0.02,timeout=5000,rpm=rpm)\n",
    "    MoveLoop(pose=CuttingPoseB,v_max=0.06,rot_max=0.02,timeout=5000,rpm=rpm)\n",
    "    MoveLoop(pose=PrePoseB,v_max=0.2,rot_max=0.4,timeout=5000,rpm=rpm)\n",
    "\n",
    "    cobot.tool_controller.rpm = 0\n",
    "    #cobot.tool_controller.disable()"
   ]
  },
  {
   "cell_type": "code",
   "execution_count": 42,
   "id": "studied-hartford",
   "metadata": {},
   "outputs": [],
   "source": [
    "def points_to_poses(normalA,pointA,normalB,pointB,Shaftgrinder_tf,cuttingdepth=0.005,safety_distance=0.05,toEE=[0,0,0]):\n",
    "\n",
    "    PrePoseA = hrr_cm.calc_EE_pre_pose_neg(normal=hrr_cm.vec32np(normalA.vector),\n",
    "                                            p_location=hrr_cm.vec32np(pointA.vector),\n",
    "                                            C_p_CE=toEE, R_C_E=Shaftgrinder_tf[:3, :3],\n",
    "                                            safety_distance=-safety_distance)\n",
    "\n",
    "    PrePoseB = hrr_cm.calc_EE_pre_pose_neg(normal=hrr_cm.vec32np(normalB.vector),\n",
    "                                           p_location=hrr_cm.vec32np(pointB.vector),\n",
    "                                           C_p_CE=toEE, R_C_E=Shaftgrinder_tf[:3, :3],\n",
    "                                           safety_distance=-safety_distance)\n",
    "\n",
    "    CuttingPoseA = hrr_cm.calc_EE_pre_pose(normal=hrr_cm.vec32np(normalA.vector),\n",
    "                                            p_location=hrr_cm.vec32np(pointA.vector),\n",
    "                                            C_p_CE=toEE, R_C_E=Shaftgrinder_tf[:3, :3],\n",
    "                                            safety_distance=cuttingdepth)\n",
    "\n",
    "    CuttingPoseB = hrr_cm.calc_EE_pre_pose(normal=hrr_cm.vec32np(normalB.vector),\n",
    "                                           p_location=hrr_cm.vec32np(pointB.vector),\n",
    "                                           C_p_CE=toEE, R_C_E=Shaftgrinder_tf[:3, :3],\n",
    "                                           safety_distance=cuttingdepth)\n",
    "    \n",
    "    return PrePoseA, PrePoseB, CuttingPoseA, CuttingPoseB\n"
   ]
  },
  {
   "cell_type": "code",
   "execution_count": 43,
   "id": "resident-episode",
   "metadata": {},
   "outputs": [],
   "source": [
    "def MoveLoop(pose,v_max=0.005,rot_max=0.005,timeout=50,rpm=0.005):\n",
    "    \n",
    "    cobot.move_to_pose(pose,v_max,rot_max,rot_precision_threshold=0.001, pos_precision_threshold=0.001)\n",
    "    T = int(timeout * cobot.hz)\n",
    "    for t in trange(T):\n",
    "        if cobot.state is None:\n",
    "            rospy.loginfo(f\"reached goal pose at step {t + 1} / {T}\")\n",
    "            break\n",
    "        elif cobot.state == \"error\":\n",
    "            rospy.logerr(f\"robot in ERROR state\")\n",
    "        if rpm != 0:\n",
    "            cobot.tool_controller.rpm = rpm\n",
    "            cobot.tool_controller.enable_grinder()\n",
    "        else:\n",
    "            cobot.tool_controller.rpm = 0\n",
    "            #cobot.tool_controller.disable()\n",
    "        cobot.update()"
   ]
  },
  {
   "cell_type": "code",
   "execution_count": 44,
   "id": "affecting-dollar",
   "metadata": {},
   "outputs": [
    {
     "name": "stdout",
     "output_type": "stream",
     "text": [
      "  \u001b[38;5;1m-0.706413   \u001b[0m\u001b[38;5;1m 0.707799   \u001b[0m\u001b[38;5;1m 0.00096377 \u001b[0m\u001b[38;5;4m 0.591832   \u001b[0m  \u001b[0m\n",
      "  \u001b[38;5;1m-9.77023e-06\u001b[0m\u001b[38;5;1m-0.00137139 \u001b[0m\u001b[38;5;1m 0.999999   \u001b[0m\u001b[38;5;4m-0.199711   \u001b[0m  \u001b[0m\n",
      "  \u001b[38;5;1m 0.7078     \u001b[0m\u001b[38;5;1m 0.706412   \u001b[0m\u001b[38;5;1m 0.000975684\u001b[0m\u001b[38;5;4m 0.415999   \u001b[0m  \u001b[0m\n",
      "  \u001b[38;5;244m 0          \u001b[0m\u001b[38;5;244m 0          \u001b[0m\u001b[38;5;244m 0          \u001b[0m\u001b[38;5;244m 1          \u001b[0m  \u001b[0m\n",
      "\n"
     ]
    }
   ],
   "source": [
    "print(cobot.FK(cobot.q))"
   ]
  },
  {
   "cell_type": "code",
   "execution_count": 45,
   "id": "smooth-bobby",
   "metadata": {},
   "outputs": [
    {
     "name": "stdout",
     "output_type": "stream",
     "text": [
      "[[-0.70641  0.7078   0.00096  0.59183]\n",
      " [-0.00001 -0.00137  1.      -0.19971]\n",
      " [ 0.7078   0.70641  0.00098  0.416  ]\n",
      " [ 0.       0.       0.       1.     ]]\n"
     ]
    }
   ],
   "source": [
    "Shaftgrinder_tf = (cobot.FK(cobot.q).A)\n",
    "toEE = np.array([0,0,0])\n",
    "#toEE = np.array([0.036878, 0.1479008, -0.107603]) for coordinate calculation. for testing not needed\n",
    "print(Shaftgrinder_tf)"
   ]
  },
  {
   "cell_type": "code",
   "execution_count": 17,
   "id": "heated-instrumentation",
   "metadata": {},
   "outputs": [],
   "source": [
    "cobot.tool_controller"
   ]
  },
  {
   "cell_type": "code",
   "execution_count": 60,
   "id": "latest-annual",
   "metadata": {},
   "outputs": [
    {
     "data": {
      "text/plain": [
       "True"
      ]
     },
     "execution_count": 60,
     "metadata": {},
     "output_type": "execute_result"
    }
   ],
   "source": [
    "cobot.change_tool(\"shaftgrinder\")"
   ]
  },
  {
   "cell_type": "code",
   "execution_count": 32,
   "id": "e0f4d900",
   "metadata": {},
   "outputs": [
    {
     "data": {
      "text/plain": [
       "True"
      ]
     },
     "execution_count": 32,
     "metadata": {},
     "output_type": "execute_result"
    }
   ],
   "source": [
    "cobot.change_tool(None)"
   ]
  },
  {
   "cell_type": "code",
   "execution_count": 46,
   "id": "accredited-washer",
   "metadata": {
    "scrolled": true
   },
   "outputs": [],
   "source": [
    "cobot.tool_controller.enable_grinder()"
   ]
  },
  {
   "cell_type": "code",
   "execution_count": 58,
   "id": "a1a7b724",
   "metadata": {},
   "outputs": [],
   "source": [
    "cobot.tool_controller.disable()"
   ]
  },
  {
   "cell_type": "code",
   "execution_count": 62,
   "id": "efa7c458",
   "metadata": {},
   "outputs": [
    {
     "name": "stderr",
     "output_type": "stream",
     "text": [
      "[WARN] [1644845218.134773]: minimum value is 3500 => set value to 0\n"
     ]
    }
   ],
   "source": [
    "cobot.tool_controller.rpm = 0"
   ]
  },
  {
   "cell_type": "markdown",
   "id": "dirty-scenario",
   "metadata": {},
   "source": [
    "### MW Oven"
   ]
  },
  {
   "cell_type": "code",
   "execution_count": 48,
   "id": "joint-volume",
   "metadata": {},
   "outputs": [
    {
     "name": "stderr",
     "output_type": "stream",
     "text": [
      "[WARN] [1644844835.305933]: minimum value is 3500 => set value to 0\n"
     ]
    }
   ],
   "source": [
    "cobot.tool_controller.rpm = 0"
   ]
  },
  {
   "cell_type": "code",
   "execution_count": 49,
   "id": "legal-postage",
   "metadata": {},
   "outputs": [
    {
     "name": "stdout",
     "output_type": "stream",
     "text": [
      "[[-0.70641  0.7078   0.00096  0.59183]\n",
      " [-0.00001 -0.00137  1.      -0.19971]\n",
      " [ 0.7078   0.70641  0.00098  0.416  ]\n",
      " [ 0.       0.       0.       1.     ]]\n"
     ]
    }
   ],
   "source": [
    "# Shaftgrinder_tf_MW = np.array([[-0.66991,  0.64932,  0.35999,  0.48663],\n",
    "#  [ 0.25544, -0.2537,   0.93295, -0.12696],\n",
    "#  [ 0.69711,  0.71695,  0.0041,   0.53644],\n",
    "#  [ 0. ,      0. ,      0.  ,     1.     ]])\n",
    "Shaftgrinder_tf_MW = Shaftgrinder_tf\n",
    "print(Shaftgrinder_tf_MW)\n",
    "toEE = np.array([0,0,0])"
   ]
  },
  {
   "cell_type": "code",
   "execution_count": 49,
   "id": "4af08765",
   "metadata": {},
   "outputs": [
    {
     "data": {
      "text/plain": [
       "SE3:  \u001b[38;5;1m-0.706415   \u001b[0m\u001b[38;5;1m 0.707798   \u001b[0m\u001b[38;5;1m 0.000966046\u001b[0m\u001b[38;5;4m 0.45599    \u001b[0m  \u001b[0m\n",
       "      \u001b[38;5;1m-8.48723e-06\u001b[0m\u001b[38;5;1m-0.00137333 \u001b[0m\u001b[38;5;1m 0.999999   \u001b[0m\u001b[38;5;4m 0.0478077  \u001b[0m  \u001b[0m\n",
       "      \u001b[38;5;1m 0.707798   \u001b[0m\u001b[38;5;1m 0.706414   \u001b[0m\u001b[38;5;1m 0.000976148\u001b[0m\u001b[38;5;4m 0.653832   \u001b[0m  \u001b[0m\n",
       "      \u001b[38;5;244m 0          \u001b[0m\u001b[38;5;244m 0          \u001b[0m\u001b[38;5;244m 0          \u001b[0m\u001b[38;5;244m 1          \u001b[0m  \u001b[0m\n",
       "    "
      ]
     },
     "execution_count": 49,
     "metadata": {},
     "output_type": "execute_result"
    }
   ],
   "source": [
    "cobot.FK(cobot.q)"
   ]
  },
  {
   "cell_type": "code",
   "execution_count": 50,
   "id": "widespread-debate",
   "metadata": {},
   "outputs": [],
   "source": [
    "material= MaterialType()\n",
    "material = material.PLASTIC\n",
    "\n",
    "xstartMW = 0.592829 #determine start value next to cable (in start cutting pose)\n",
    "ystartMW = -0.229713\n",
    "zstartMW =  0.367\n",
    "\n",
    "normalA = hrr_cm.ros_utils.np2vector3stamped(np.r_[0,0,-1], \"normalA\")\n",
    "pointA = hrr_cm.ros_utils.np2vector3stamped(np.r_[xstartMW,ystartMW,zstartMW], \"pointA\")\n",
    "normalB = hrr_cm.ros_utils.np2vector3stamped(np.r_[0,0,-1], \"normalB\")\n",
    "pointB = hrr_cm.ros_utils.np2vector3stamped(np.r_[xstartMW,ystartMW+0.031,zstartMW], \"pointB\")"
   ]
  },
  {
   "cell_type": "code",
   "execution_count": 51,
   "id": "strange-finger",
   "metadata": {},
   "outputs": [],
   "source": [
    "PrePoseA = hrr_cm.calc_EE_pre_pose_neg(normal=hrr_cm.vec32np(normalA.vector),\n",
    "                                        p_location=hrr_cm.vec32np(pointA.vector),\n",
    "                                        C_p_CE=toEE, R_C_E=Shaftgrinder_tf_MW[:3, :3],\n",
    "                                        safety_distance=-0.05)\n",
    "\n",
    "PrePoseB = hrr_cm.calc_EE_pre_pose_neg(normal=hrr_cm.vec32np(normalB.vector),\n",
    "                                       p_location=hrr_cm.vec32np(pointB.vector),\n",
    "                                       C_p_CE=toEE, R_C_E=Shaftgrinder_tf_MW[:3, :3],\n",
    "                                       safety_distance=-0.05)\n",
    "\n",
    "CuttingPoseA = hrr_cm.calc_EE_pre_pose_neg(normal=hrr_cm.vec32np(normalA.vector),\n",
    "                                        p_location=hrr_cm.vec32np(pointA.vector),\n",
    "                                        C_p_CE=toEE, R_C_E=Shaftgrinder_tf_MW[:3, :3],\n",
    "                                        safety_distance=-0)\n",
    "\n",
    "CuttingPoseB = hrr_cm.calc_EE_pre_pose_neg(normal=hrr_cm.vec32np(normalB.vector),\n",
    "                                       p_location=hrr_cm.vec32np(pointB.vector),\n",
    "                                       C_p_CE=toEE, R_C_E=Shaftgrinder_tf_MW[:3, :3],\n",
    "                                       safety_distance=-0)"
   ]
  },
  {
   "cell_type": "code",
   "execution_count": 56,
   "id": "a9926cbd",
   "metadata": {},
   "outputs": [
    {
     "name": "stdout",
     "output_type": "stream",
     "text": [
      "  \u001b[38;5;1m-0.706413   \u001b[0m\u001b[38;5;1m 0.707799   \u001b[0m\u001b[38;5;1m 0.000963933\u001b[0m\u001b[38;5;4m 0.592829   \u001b[0m  \u001b[0m\n",
      "  \u001b[38;5;1m-9.69813e-06\u001b[0m\u001b[38;5;1m-0.00137155 \u001b[0m\u001b[38;5;1m 0.999999   \u001b[0m\u001b[38;5;4m-0.229713   \u001b[0m  \u001b[0m\n",
      "  \u001b[38;5;1m 0.7078     \u001b[0m\u001b[38;5;1m 0.706412   \u001b[0m\u001b[38;5;1m 0.000975745\u001b[0m\u001b[38;5;4m 0.367      \u001b[0m  \u001b[0m\n",
      "  \u001b[38;5;244m 0          \u001b[0m\u001b[38;5;244m 0          \u001b[0m\u001b[38;5;244m 0          \u001b[0m\u001b[38;5;244m 1          \u001b[0m  \u001b[0m\n",
      "\n",
      "  \u001b[38;5;1m-0.706417   \u001b[0m\u001b[38;5;1m 0.707795   \u001b[0m\u001b[38;5;1m 0.000966643\u001b[0m\u001b[38;5;4m 0.591833   \u001b[0m  \u001b[0m\n",
      "  \u001b[38;5;1m-2.128e-06  \u001b[0m\u001b[38;5;1m-0.00136783 \u001b[0m\u001b[38;5;1m 0.999999   \u001b[0m\u001b[38;5;4m-0.228718   \u001b[0m  \u001b[0m\n",
      "  \u001b[38;5;1m 0.707796   \u001b[0m\u001b[38;5;1m 0.706417   \u001b[0m\u001b[38;5;1m 0.000967767\u001b[0m\u001b[38;5;4m 0.41373    \u001b[0m  \u001b[0m\n",
      "  \u001b[38;5;244m 0          \u001b[0m\u001b[38;5;244m 0          \u001b[0m\u001b[38;5;244m 0          \u001b[0m\u001b[38;5;244m 1          \u001b[0m  \u001b[0m\n",
      "\n",
      "80.0\n",
      "110\n"
     ]
    }
   ],
   "source": [
    "print(CuttingPoseA)\n",
    "print(cobot.FK(cobot.q))\n",
    "print(cobot.F_max)\n",
    "cobot.F_max = 110\n",
    "print(cobot.F_max)"
   ]
  },
  {
   "cell_type": "code",
   "execution_count": 63,
   "id": "practical-fence",
   "metadata": {},
   "outputs": [
    {
     "data": {
      "application/vnd.jupyter.widget-view+json": {
       "model_id": "fb361c944963423eb45ea76ccfb8c4bc",
       "version_major": 2,
       "version_minor": 0
      },
      "text/plain": [
       "  0%|          | 0/500000 [00:00<?, ?it/s]"
      ]
     },
     "metadata": {},
     "output_type": "display_data"
    },
    {
     "name": "stderr",
     "output_type": "stream",
     "text": [
      "[WARN] [1644845235.485852]: minimum value is 3500 => set value to 0\n",
      "[WARN] [1644845235.497886]: minimum value is 3500 => set value to 0\n",
      "[WARN] [1644845235.507999]: minimum value is 3500 => set value to 0\n",
      "[WARN] [1644845235.520360]: minimum value is 3500 => set value to 0\n",
      "[WARN] [1644845235.528986]: minimum value is 3500 => set value to 0\n",
      "[WARN] [1644845235.538007]: minimum value is 3500 => set value to 0\n",
      "[WARN] [1644845235.548063]: minimum value is 3500 => set value to 0\n",
      "[WARN] [1644845235.557983]: minimum value is 3500 => set value to 0\n",
      "[WARN] [1644845235.567940]: minimum value is 3500 => set value to 0\n",
      "[WARN] [1644845235.578229]: minimum value is 3500 => set value to 0\n",
      "[WARN] [1644845235.588030]: minimum value is 3500 => set value to 0\n",
      "[WARN] [1644845235.598029]: minimum value is 3500 => set value to 0\n",
      "[WARN] [1644845235.608235]: minimum value is 3500 => set value to 0\n",
      "[WARN] [1644845235.622716]: minimum value is 3500 => set value to 0\n",
      "[WARN] [1644845235.634115]: minimum value is 3500 => set value to 0\n",
      "[WARN] [1644845235.642995]: minimum value is 3500 => set value to 0\n",
      "[WARN] [1644845235.650199]: minimum value is 3500 => set value to 0\n",
      "[WARN] [1644845235.657951]: minimum value is 3500 => set value to 0\n",
      "[WARN] [1644845235.668106]: minimum value is 3500 => set value to 0\n",
      "[WARN] [1644845235.678096]: minimum value is 3500 => set value to 0\n",
      "[WARN] [1644845235.688441]: minimum value is 3500 => set value to 0\n",
      "[WARN] [1644845235.697991]: minimum value is 3500 => set value to 0\n",
      "[WARN] [1644845235.708013]: minimum value is 3500 => set value to 0\n",
      "[WARN] [1644845235.720326]: minimum value is 3500 => set value to 0\n",
      "[WARN] [1644845235.728078]: minimum value is 3500 => set value to 0\n",
      "[WARN] [1644845235.737964]: minimum value is 3500 => set value to 0\n",
      "[WARN] [1644845235.748136]: minimum value is 3500 => set value to 0\n",
      "[WARN] [1644845235.757917]: minimum value is 3500 => set value to 0\n",
      "[WARN] [1644845235.767981]: minimum value is 3500 => set value to 0\n",
      "[WARN] [1644845235.777930]: minimum value is 3500 => set value to 0\n",
      "[WARN] [1644845235.787922]: minimum value is 3500 => set value to 0\n",
      "[WARN] [1644845235.798088]: minimum value is 3500 => set value to 0\n",
      "[WARN] [1644845235.808077]: minimum value is 3500 => set value to 0\n",
      "[WARN] [1644845235.818003]: minimum value is 3500 => set value to 0\n",
      "[WARN] [1644845235.829719]: minimum value is 3500 => set value to 0\n",
      "[WARN] [1644845235.839552]: minimum value is 3500 => set value to 0\n",
      "[WARN] [1644845235.850483]: minimum value is 3500 => set value to 0\n",
      "[WARN] [1644845235.858021]: minimum value is 3500 => set value to 0\n",
      "[WARN] [1644845235.867911]: minimum value is 3500 => set value to 0\n",
      "[WARN] [1644845235.878140]: minimum value is 3500 => set value to 0\n",
      "[WARN] [1644845235.887907]: minimum value is 3500 => set value to 0\n",
      "[WARN] [1644845235.897904]: minimum value is 3500 => set value to 0\n",
      "[WARN] [1644845235.908030]: minimum value is 3500 => set value to 0\n",
      "[WARN] [1644845235.917995]: minimum value is 3500 => set value to 0\n",
      "[WARN] [1644845235.928003]: minimum value is 3500 => set value to 0\n",
      "[WARN] [1644845235.940106]: minimum value is 3500 => set value to 0\n",
      "[WARN] [1644845235.947940]: minimum value is 3500 => set value to 0\n",
      "[WARN] [1644845235.957947]: minimum value is 3500 => set value to 0\n",
      "[WARN] [1644845235.968146]: minimum value is 3500 => set value to 0\n",
      "[WARN] [1644845235.977971]: minimum value is 3500 => set value to 0\n",
      "[WARN] [1644845235.987923]: minimum value is 3500 => set value to 0\n",
      "[WARN] [1644845235.998000]: minimum value is 3500 => set value to 0\n",
      "[WARN] [1644845236.008015]: minimum value is 3500 => set value to 0\n",
      "[WARN] [1644845236.017904]: minimum value is 3500 => set value to 0\n",
      "[WARN] [1644845236.027988]: minimum value is 3500 => set value to 0\n",
      "[WARN] [1644845236.041473]: minimum value is 3500 => set value to 0\n",
      "[WARN] [1644845236.049711]: minimum value is 3500 => set value to 0\n",
      "[WARN] [1644845236.058023]: minimum value is 3500 => set value to 0\n",
      "[WARN] [1644845236.067932]: minimum value is 3500 => set value to 0\n",
      "[WARN] [1644845236.077936]: minimum value is 3500 => set value to 0\n",
      "[WARN] [1644845236.087941]: minimum value is 3500 => set value to 0\n",
      "[WARN] [1644845236.097911]: minimum value is 3500 => set value to 0\n",
      "[WARN] [1644845236.107954]: minimum value is 3500 => set value to 0\n",
      "[WARN] [1644845236.118065]: minimum value is 3500 => set value to 0\n",
      "[WARN] [1644845236.128012]: minimum value is 3500 => set value to 0\n",
      "[WARN] [1644845236.137946]: minimum value is 3500 => set value to 0\n",
      "[WARN] [1644845236.152729]: minimum value is 3500 => set value to 0\n",
      "[WARN] [1644845236.161632]: minimum value is 3500 => set value to 0\n",
      "[WARN] [1644845236.169199]: minimum value is 3500 => set value to 0\n",
      "[WARN] [1644845236.178154]: minimum value is 3500 => set value to 0\n",
      "[WARN] [1644845236.188143]: minimum value is 3500 => set value to 0\n",
      "[WARN] [1644845236.198079]: minimum value is 3500 => set value to 0\n",
      "[WARN] [1644845236.207940]: minimum value is 3500 => set value to 0\n",
      "[WARN] [1644845236.218002]: minimum value is 3500 => set value to 0\n",
      "[WARN] [1644845236.228013]: minimum value is 3500 => set value to 0\n",
      "[WARN] [1644845236.237965]: minimum value is 3500 => set value to 0\n",
      "[WARN] [1644845236.247957]: minimum value is 3500 => set value to 0\n",
      "[WARN] [1644845236.259681]: minimum value is 3500 => set value to 0\n",
      "[WARN] [1644845236.268008]: minimum value is 3500 => set value to 0\n",
      "[WARN] [1644845236.277958]: minimum value is 3500 => set value to 0\n",
      "[WARN] [1644845236.287964]: minimum value is 3500 => set value to 0\n",
      "[WARN] [1644845236.297964]: minimum value is 3500 => set value to 0\n",
      "[WARN] [1644845236.307935]: minimum value is 3500 => set value to 0\n",
      "[WARN] [1644845236.317950]: minimum value is 3500 => set value to 0\n",
      "[WARN] [1644845236.327949]: minimum value is 3500 => set value to 0\n",
      "[WARN] [1644845236.338055]: minimum value is 3500 => set value to 0\n",
      "[WARN] [1644845236.347989]: minimum value is 3500 => set value to 0\n",
      "[WARN] [1644845236.360011]: minimum value is 3500 => set value to 0\n",
      "[WARN] [1644845236.368552]: minimum value is 3500 => set value to 0\n",
      "[WARN] [1644845236.378073]: minimum value is 3500 => set value to 0\n",
      "[WARN] [1644845236.387969]: minimum value is 3500 => set value to 0\n",
      "[WARN] [1644845236.398170]: minimum value is 3500 => set value to 0\n",
      "[WARN] [1644845236.407951]: minimum value is 3500 => set value to 0\n",
      "[WARN] [1644845236.417957]: minimum value is 3500 => set value to 0\n",
      "[WARN] [1644845236.427942]: minimum value is 3500 => set value to 0\n",
      "[WARN] [1644845236.437933]: minimum value is 3500 => set value to 0\n",
      "[WARN] [1644845236.447961]: minimum value is 3500 => set value to 0\n",
      "[WARN] [1644845236.457908]: minimum value is 3500 => set value to 0\n",
      "[WARN] [1644845236.470300]: minimum value is 3500 => set value to 0\n",
      "[WARN] [1644845236.479498]: minimum value is 3500 => set value to 0\n",
      "[WARN] [1644845236.488016]: minimum value is 3500 => set value to 0\n",
      "[WARN] [1644845236.498110]: minimum value is 3500 => set value to 0\n",
      "[WARN] [1644845236.508027]: minimum value is 3500 => set value to 0\n",
      "[WARN] [1644845236.517978]: minimum value is 3500 => set value to 0\n",
      "[WARN] [1644845236.527941]: minimum value is 3500 => set value to 0\n",
      "[WARN] [1644845236.538088]: minimum value is 3500 => set value to 0\n",
      "[WARN] [1644845236.548005]: minimum value is 3500 => set value to 0\n",
      "[WARN] [1644845236.557924]: minimum value is 3500 => set value to 0\n",
      "[WARN] [1644845236.570524]: minimum value is 3500 => set value to 0\n",
      "[WARN] [1644845236.578189]: minimum value is 3500 => set value to 0\n",
      "[WARN] [1644845236.587903]: minimum value is 3500 => set value to 0\n",
      "[WARN] [1644845236.598463]: minimum value is 3500 => set value to 0\n",
      "[WARN] [1644845236.608112]: minimum value is 3500 => set value to 0\n",
      "[WARN] [1644845236.617910]: minimum value is 3500 => set value to 0\n",
      "[WARN] [1644845236.627980]: minimum value is 3500 => set value to 0\n",
      "[WARN] [1644845236.637893]: minimum value is 3500 => set value to 0\n",
      "[WARN] [1644845236.648027]: minimum value is 3500 => set value to 0\n",
      "[WARN] [1644845236.657943]: minimum value is 3500 => set value to 0\n",
      "[WARN] [1644845236.667928]: minimum value is 3500 => set value to 0\n",
      "[WARN] [1644845236.680064]: minimum value is 3500 => set value to 0\n",
      "[WARN] [1644845236.689376]: minimum value is 3500 => set value to 0\n",
      "[WARN] [1644845236.697971]: minimum value is 3500 => set value to 0\n",
      "[WARN] [1644845236.707917]: minimum value is 3500 => set value to 0\n",
      "[WARN] [1644845236.717998]: minimum value is 3500 => set value to 0\n",
      "[WARN] [1644845236.728091]: minimum value is 3500 => set value to 0\n",
      "[WARN] [1644845236.737941]: minimum value is 3500 => set value to 0\n"
     ]
    },
    {
     "name": "stderr",
     "output_type": "stream",
     "text": [
      "[WARN] [1644845236.754961]: minimum value is 3500 => set value to 0\n",
      "[WARN] [1644845236.764791]: minimum value is 3500 => set value to 0\n",
      "[WARN] [1644845236.774081]: minimum value is 3500 => set value to 0\n",
      "[WARN] [1644845236.783870]: minimum value is 3500 => set value to 0\n",
      "[WARN] [1644845236.793154]: minimum value is 3500 => set value to 0\n",
      "[WARN] [1644845236.799391]: minimum value is 3500 => set value to 0\n",
      "[WARN] [1644845236.808024]: minimum value is 3500 => set value to 0\n",
      "[WARN] [1644845236.817940]: minimum value is 3500 => set value to 0\n",
      "[WARN] [1644845236.827909]: minimum value is 3500 => set value to 0\n",
      "[WARN] [1644845236.837955]: minimum value is 3500 => set value to 0\n",
      "[WARN] [1644845236.847941]: minimum value is 3500 => set value to 0\n",
      "[WARN] [1644845236.857901]: minimum value is 3500 => set value to 0\n",
      "[WARN] [1644845236.867938]: minimum value is 3500 => set value to 0\n",
      "[WARN] [1644845236.878048]: minimum value is 3500 => set value to 0\n",
      "[WARN] [1644845236.889780]: minimum value is 3500 => set value to 0\n",
      "[WARN] [1644845236.898116]: minimum value is 3500 => set value to 0\n",
      "[WARN] [1644845236.908003]: minimum value is 3500 => set value to 0\n",
      "[WARN] [1644845236.917918]: minimum value is 3500 => set value to 0\n",
      "[WARN] [1644845236.927892]: minimum value is 3500 => set value to 0\n",
      "[WARN] [1644845236.937917]: minimum value is 3500 => set value to 0\n",
      "[WARN] [1644845236.947934]: minimum value is 3500 => set value to 0\n",
      "[WARN] [1644845236.957901]: minimum value is 3500 => set value to 0\n",
      "[WARN] [1644845236.967993]: minimum value is 3500 => set value to 0\n",
      "[WARN] [1644845236.977981]: minimum value is 3500 => set value to 0\n",
      "[WARN] [1644845236.987912]: minimum value is 3500 => set value to 0\n",
      "[WARN] [1644845237.001473]: minimum value is 3500 => set value to 0\n",
      "[WARN] [1644845237.010261]: minimum value is 3500 => set value to 0\n",
      "[WARN] [1644845237.018029]: minimum value is 3500 => set value to 0\n",
      "[WARN] [1644845237.027878]: minimum value is 3500 => set value to 0\n",
      "[WARN] [1644845237.038050]: minimum value is 3500 => set value to 0\n",
      "[WARN] [1644845237.048064]: minimum value is 3500 => set value to 0\n",
      "[WARN] [1644845237.057976]: minimum value is 3500 => set value to 0\n",
      "[WARN] [1644845237.067936]: minimum value is 3500 => set value to 0\n",
      "[WARN] [1644845237.077900]: minimum value is 3500 => set value to 0\n",
      "[WARN] [1644845237.087905]: minimum value is 3500 => set value to 0\n",
      "[WARN] [1644845237.097909]: minimum value is 3500 => set value to 0\n",
      "[WARN] [1644845237.109630]: minimum value is 3500 => set value to 0\n",
      "[WARN] [1644845237.118014]: minimum value is 3500 => set value to 0\n",
      "[WARN] [1644845237.127958]: minimum value is 3500 => set value to 0\n",
      "[WARN] [1644845237.137909]: minimum value is 3500 => set value to 0\n",
      "[WARN] [1644845237.147922]: minimum value is 3500 => set value to 0\n",
      "[WARN] [1644845237.157902]: minimum value is 3500 => set value to 0\n",
      "[WARN] [1644845237.167896]: minimum value is 3500 => set value to 0\n",
      "[WARN] [1644845237.178003]: minimum value is 3500 => set value to 0\n",
      "[WARN] [1644845237.187898]: minimum value is 3500 => set value to 0\n",
      "[WARN] [1644845237.198091]: minimum value is 3500 => set value to 0\n",
      "[WARN] [1644845237.207945]: minimum value is 3500 => set value to 0\n",
      "[WARN] [1644845237.219823]: minimum value is 3500 => set value to 0\n",
      "[WARN] [1644845237.232375]: minimum value is 3500 => set value to 0\n",
      "[WARN] [1644845237.238381]: minimum value is 3500 => set value to 0\n",
      "[WARN] [1644845237.247943]: minimum value is 3500 => set value to 0\n",
      "[WARN] [1644845237.257905]: minimum value is 3500 => set value to 0\n",
      "[WARN] [1644845237.267939]: minimum value is 3500 => set value to 0\n",
      "[WARN] [1644845237.277951]: minimum value is 3500 => set value to 0\n",
      "[WARN] [1644845237.287963]: minimum value is 3500 => set value to 0\n",
      "[WARN] [1644845237.297923]: minimum value is 3500 => set value to 0\n",
      "[WARN] [1644845237.307960]: minimum value is 3500 => set value to 0\n",
      "[WARN] [1644845237.317919]: minimum value is 3500 => set value to 0\n",
      "[WARN] [1644845237.329674]: minimum value is 3500 => set value to 0\n",
      "[WARN] [1644845237.338044]: minimum value is 3500 => set value to 0\n",
      "[WARN] [1644845237.348026]: minimum value is 3500 => set value to 0\n",
      "[WARN] [1644845237.357936]: minimum value is 3500 => set value to 0\n",
      "[WARN] [1644845237.367904]: minimum value is 3500 => set value to 0\n",
      "[WARN] [1644845237.378083]: minimum value is 3500 => set value to 0\n",
      "[WARN] [1644845237.388040]: minimum value is 3500 => set value to 0\n",
      "[WARN] [1644845237.399878]: minimum value is 3500 => set value to 0\n",
      "[WARN] [1644845237.408736]: minimum value is 3500 => set value to 0\n",
      "[WARN] [1644845237.418055]: minimum value is 3500 => set value to 0\n",
      "[WARN] [1644845237.428069]: minimum value is 3500 => set value to 0\n",
      "[WARN] [1644845237.444043]: minimum value is 3500 => set value to 0\n",
      "[WARN] [1644845237.453256]: minimum value is 3500 => set value to 0\n",
      "[WARN] [1644845237.461060]: minimum value is 3500 => set value to 0\n",
      "[WARN] [1644845237.468686]: minimum value is 3500 => set value to 0\n",
      "[WARN] [1644845237.478095]: minimum value is 3500 => set value to 0\n",
      "[WARN] [1644845237.487945]: minimum value is 3500 => set value to 0\n",
      "[WARN] [1644845237.498071]: minimum value is 3500 => set value to 0\n",
      "[WARN] [1644845237.508136]: minimum value is 3500 => set value to 0\n",
      "[WARN] [1644845237.518044]: minimum value is 3500 => set value to 0\n",
      "[WARN] [1644845237.528001]: minimum value is 3500 => set value to 0\n",
      "[WARN] [1644845237.538051]: minimum value is 3500 => set value to 0\n",
      "[WARN] [1644845237.550849]: minimum value is 3500 => set value to 0\n",
      "[WARN] [1644845237.562129]: minimum value is 3500 => set value to 0\n",
      "[WARN] [1644845237.568306]: minimum value is 3500 => set value to 0\n",
      "[WARN] [1644845237.578095]: minimum value is 3500 => set value to 0\n",
      "[WARN] [1644845237.588003]: minimum value is 3500 => set value to 0\n",
      "[WARN] [1644845237.598098]: minimum value is 3500 => set value to 0\n",
      "[WARN] [1644845237.607984]: minimum value is 3500 => set value to 0\n",
      "[WARN] [1644845237.617911]: minimum value is 3500 => set value to 0\n",
      "[WARN] [1644845237.627916]: minimum value is 3500 => set value to 0\n",
      "[WARN] [1644845237.638093]: minimum value is 3500 => set value to 0\n",
      "[WARN] [1644845237.647965]: minimum value is 3500 => set value to 0\n",
      "[WARN] [1644845237.659913]: minimum value is 3500 => set value to 0\n",
      "[WARN] [1644845237.672791]: minimum value is 3500 => set value to 0\n",
      "[WARN] [1644845237.679605]: minimum value is 3500 => set value to 0\n",
      "[WARN] [1644845237.687964]: minimum value is 3500 => set value to 0\n",
      "[WARN] [1644845237.697943]: minimum value is 3500 => set value to 0\n",
      "[WARN] [1644845237.707953]: minimum value is 3500 => set value to 0\n",
      "[WARN] [1644845237.717910]: minimum value is 3500 => set value to 0\n",
      "[WARN] [1644845237.727970]: minimum value is 3500 => set value to 0\n",
      "[WARN] [1644845237.738035]: minimum value is 3500 => set value to 0\n",
      "[WARN] [1644845237.747918]: minimum value is 3500 => set value to 0\n",
      "[WARN] [1644845237.757927]: minimum value is 3500 => set value to 0\n",
      "[WARN] [1644845237.770056]: minimum value is 3500 => set value to 0\n",
      "[WARN] [1644845237.779770]: minimum value is 3500 => set value to 0\n",
      "[WARN] [1644845237.787930]: minimum value is 3500 => set value to 0\n",
      "[WARN] [1644845237.797911]: minimum value is 3500 => set value to 0\n",
      "[WARN] [1644845237.808007]: minimum value is 3500 => set value to 0\n",
      "[WARN] [1644845237.818185]: minimum value is 3500 => set value to 0\n",
      "[WARN] [1644845237.827967]: minimum value is 3500 => set value to 0\n",
      "[WARN] [1644845237.837941]: minimum value is 3500 => set value to 0\n",
      "[WARN] [1644845237.847952]: minimum value is 3500 => set value to 0\n",
      "[WARN] [1644845237.857970]: minimum value is 3500 => set value to 0\n",
      "[WARN] [1644845237.868076]: minimum value is 3500 => set value to 0\n",
      "[WARN] [1644845237.879821]: minimum value is 3500 => set value to 0\n",
      "[WARN] [1644845237.889092]: minimum value is 3500 => set value to 0\n",
      "[WARN] [1644845237.897952]: minimum value is 3500 => set value to 0\n",
      "[WARN] [1644845237.907994]: minimum value is 3500 => set value to 0\n",
      "[WARN] [1644845237.917964]: minimum value is 3500 => set value to 0\n",
      "[WARN] [1644845237.927948]: minimum value is 3500 => set value to 0\n",
      "[WARN] [1644845237.937946]: minimum value is 3500 => set value to 0\n",
      "[WARN] [1644845237.947953]: minimum value is 3500 => set value to 0\n",
      "[WARN] [1644845237.957966]: minimum value is 3500 => set value to 0\n",
      "[WARN] [1644845237.967960]: minimum value is 3500 => set value to 0\n",
      "[WARN] [1644845237.978053]: minimum value is 3500 => set value to 0\n",
      "[WARN] [1644845237.989880]: minimum value is 3500 => set value to 0\n"
     ]
    },
    {
     "name": "stderr",
     "output_type": "stream",
     "text": [
      "[WARN] [1644845238.000777]: minimum value is 3500 => set value to 0\n",
      "[WARN] [1644845238.012331]: minimum value is 3500 => set value to 0\n",
      "[WARN] [1644845238.020009]: minimum value is 3500 => set value to 0\n",
      "[WARN] [1644845238.028375]: minimum value is 3500 => set value to 0\n",
      "[WARN] [1644845238.038029]: minimum value is 3500 => set value to 0\n",
      "[WARN] [1644845238.047936]: minimum value is 3500 => set value to 0\n",
      "[WARN] [1644845238.058045]: minimum value is 3500 => set value to 0\n",
      "[WARN] [1644845238.067918]: minimum value is 3500 => set value to 0\n",
      "[WARN] [1644845238.078028]: minimum value is 3500 => set value to 0\n",
      "[WARN] [1644845238.088083]: minimum value is 3500 => set value to 0\n",
      "[WARN] [1644845238.099669]: minimum value is 3500 => set value to 0\n",
      "[WARN] [1644845238.114939]: minimum value is 3500 => set value to 0\n",
      "[WARN] [1644845238.123454]: minimum value is 3500 => set value to 0\n",
      "[WARN] [1644845238.129246]: minimum value is 3500 => set value to 0\n",
      "[WARN] [1644845238.137888]: minimum value is 3500 => set value to 0\n",
      "[WARN] [1644845238.147918]: minimum value is 3500 => set value to 0\n",
      "[WARN] [1644845238.157934]: minimum value is 3500 => set value to 0\n",
      "[WARN] [1644845238.168038]: minimum value is 3500 => set value to 0\n",
      "[WARN] [1644845238.177987]: minimum value is 3500 => set value to 0\n",
      "[WARN] [1644845238.188146]: minimum value is 3500 => set value to 0\n",
      "[WARN] [1644845238.198926]: minimum value is 3500 => set value to 0\n",
      "[WARN] [1644845238.211338]: minimum value is 3500 => set value to 0\n",
      "[WARN] [1644845238.228027]: minimum value is 3500 => set value to 0\n",
      "[WARN] [1644845238.236013]: minimum value is 3500 => set value to 0\n",
      "[WARN] [1644845238.244506]: minimum value is 3500 => set value to 0\n",
      "[WARN] [1644845238.257344]: minimum value is 3500 => set value to 0\n",
      "[WARN] [1644845238.266027]: minimum value is 3500 => set value to 0\n",
      "[WARN] [1644845238.273816]: minimum value is 3500 => set value to 0\n",
      "[WARN] [1644845238.282529]: minimum value is 3500 => set value to 0\n",
      "[WARN] [1644845238.289959]: minimum value is 3500 => set value to 0\n",
      "[WARN] [1644845238.299191]: minimum value is 3500 => set value to 0\n",
      "[WARN] [1644845238.308088]: minimum value is 3500 => set value to 0\n",
      "[WARN] [1644845238.319819]: minimum value is 3500 => set value to 0\n",
      "[WARN] [1644845238.329218]: minimum value is 3500 => set value to 0\n",
      "[WARN] [1644845238.337962]: minimum value is 3500 => set value to 0\n",
      "[WARN] [1644845238.347934]: minimum value is 3500 => set value to 0\n",
      "[WARN] [1644845238.358122]: minimum value is 3500 => set value to 0\n",
      "[WARN] [1644845238.367950]: minimum value is 3500 => set value to 0\n",
      "[WARN] [1644845238.378033]: minimum value is 3500 => set value to 0\n",
      "[WARN] [1644845238.387924]: minimum value is 3500 => set value to 0\n",
      "[WARN] [1644845238.397938]: minimum value is 3500 => set value to 0\n",
      "[WARN] [1644845238.407961]: minimum value is 3500 => set value to 0\n",
      "[WARN] [1644845238.418030]: minimum value is 3500 => set value to 0\n",
      "[WARN] [1644845238.430733]: minimum value is 3500 => set value to 0\n",
      "[WARN] [1644845238.439329]: minimum value is 3500 => set value to 0\n",
      "[WARN] [1644845238.447886]: minimum value is 3500 => set value to 0\n",
      "[WARN] [1644845238.457959]: minimum value is 3500 => set value to 0\n",
      "[WARN] [1644845238.468130]: minimum value is 3500 => set value to 0\n",
      "[WARN] [1644845238.477937]: minimum value is 3500 => set value to 0\n",
      "[WARN] [1644845238.487977]: minimum value is 3500 => set value to 0\n",
      "[WARN] [1644845238.497894]: minimum value is 3500 => set value to 0\n",
      "[WARN] [1644845238.507903]: minimum value is 3500 => set value to 0\n",
      "[WARN] [1644845238.517972]: minimum value is 3500 => set value to 0\n",
      "[WARN] [1644845238.528011]: minimum value is 3500 => set value to 0\n",
      "[WARN] [1644845238.539596]: minimum value is 3500 => set value to 0\n",
      "[WARN] [1644845238.547966]: minimum value is 3500 => set value to 0\n",
      "[WARN] [1644845238.558032]: minimum value is 3500 => set value to 0\n",
      "[WARN] [1644845238.568016]: minimum value is 3500 => set value to 0\n",
      "[WARN] [1644845238.578226]: minimum value is 3500 => set value to 0\n",
      "[WARN] [1644845238.588096]: minimum value is 3500 => set value to 0\n",
      "[WARN] [1644845238.598002]: minimum value is 3500 => set value to 0\n",
      "[WARN] [1644845238.608944]: minimum value is 3500 => set value to 0\n",
      "[WARN] [1644845238.618012]: minimum value is 3500 => set value to 0\n",
      "[WARN] [1644845238.628783]: minimum value is 3500 => set value to 0\n",
      "[WARN] [1644845238.637947]: minimum value is 3500 => set value to 0\n",
      "[WARN] [1644845238.652423]: minimum value is 3500 => set value to 0\n",
      "[WARN] [1644845238.659105]: minimum value is 3500 => set value to 0\n",
      "[WARN] [1644845238.668024]: minimum value is 3500 => set value to 0\n",
      "[WARN] [1644845238.678311]: minimum value is 3500 => set value to 0\n",
      "[WARN] [1644845238.688106]: minimum value is 3500 => set value to 0\n",
      "[WARN] [1644845238.697999]: minimum value is 3500 => set value to 0\n",
      "[WARN] [1644845238.707950]: minimum value is 3500 => set value to 0\n",
      "[WARN] [1644845238.717973]: minimum value is 3500 => set value to 0\n",
      "[WARN] [1644845238.728030]: minimum value is 3500 => set value to 0\n",
      "[WARN] [1644845238.738057]: minimum value is 3500 => set value to 0\n",
      "[WARN] [1644845238.747915]: minimum value is 3500 => set value to 0\n",
      "[WARN] [1644845238.759598]: minimum value is 3500 => set value to 0\n",
      "[WARN] [1644845238.768453]: minimum value is 3500 => set value to 0\n",
      "[WARN] [1644845238.777967]: minimum value is 3500 => set value to 0\n",
      "[WARN] [1644845238.787923]: minimum value is 3500 => set value to 0\n",
      "[WARN] [1644845238.798013]: minimum value is 3500 => set value to 0\n",
      "[WARN] [1644845238.807892]: minimum value is 3500 => set value to 0\n",
      "[WARN] [1644845238.817946]: minimum value is 3500 => set value to 0\n",
      "[WARN] [1644845238.827904]: minimum value is 3500 => set value to 0\n",
      "[WARN] [1644845238.838200]: minimum value is 3500 => set value to 0\n",
      "[WARN] [1644845238.848033]: minimum value is 3500 => set value to 0\n",
      "[WARN] [1644845238.857976]: minimum value is 3500 => set value to 0\n",
      "[WARN] [1644845238.872489]: minimum value is 3500 => set value to 0\n",
      "[WARN] [1644845238.883577]: minimum value is 3500 => set value to 0\n",
      "[WARN] [1644845238.889779]: minimum value is 3500 => set value to 0\n",
      "[WARN] [1644845238.897994]: minimum value is 3500 => set value to 0\n",
      "[WARN] [1644845238.908251]: minimum value is 3500 => set value to 0\n",
      "[WARN] [1644845238.918148]: minimum value is 3500 => set value to 0\n",
      "[WARN] [1644845238.928578]: minimum value is 3500 => set value to 0\n",
      "[WARN] [1644845238.938172]: minimum value is 3500 => set value to 0\n",
      "[WARN] [1644845238.948341]: minimum value is 3500 => set value to 0\n",
      "[WARN] [1644845238.958358]: minimum value is 3500 => set value to 0\n",
      "[WARN] [1644845238.968015]: minimum value is 3500 => set value to 0\n",
      "[WARN] [1644845238.980261]: minimum value is 3500 => set value to 0\n",
      "[WARN] [1644845238.987883]: minimum value is 3500 => set value to 0\n",
      "[WARN] [1644845238.998061]: minimum value is 3500 => set value to 0\n",
      "[WARN] [1644845239.007997]: minimum value is 3500 => set value to 0\n",
      "[WARN] [1644845239.017949]: minimum value is 3500 => set value to 0\n",
      "[WARN] [1644845239.028078]: minimum value is 3500 => set value to 0\n",
      "[WARN] [1644845239.037900]: minimum value is 3500 => set value to 0\n",
      "[WARN] [1644845239.047956]: minimum value is 3500 => set value to 0\n",
      "[WARN] [1644845239.057976]: minimum value is 3500 => set value to 0\n",
      "[WARN] [1644845239.067949]: minimum value is 3500 => set value to 0\n",
      "[WARN] [1644845239.078082]: minimum value is 3500 => set value to 0\n",
      "[WARN] [1644845239.092317]: minimum value is 3500 => set value to 0\n",
      "[WARN] [1644845239.098745]: minimum value is 3500 => set value to 0\n",
      "[WARN] [1644845239.107996]: minimum value is 3500 => set value to 0\n",
      "[WARN] [1644845239.117946]: minimum value is 3500 => set value to 0\n",
      "[WARN] [1644845239.127930]: minimum value is 3500 => set value to 0\n",
      "[WARN] [1644845239.138001]: minimum value is 3500 => set value to 0\n",
      "[WARN] [1644845239.147958]: minimum value is 3500 => set value to 0\n",
      "[WARN] [1644845239.157905]: minimum value is 3500 => set value to 0\n",
      "[WARN] [1644845239.167944]: minimum value is 3500 => set value to 0\n",
      "[WARN] [1644845239.177932]: minimum value is 3500 => set value to 0\n",
      "[WARN] [1644845239.187906]: minimum value is 3500 => set value to 0\n",
      "[WARN] [1644845239.199858]: minimum value is 3500 => set value to 0\n",
      "[WARN] [1644845239.209709]: minimum value is 3500 => set value to 0\n",
      "[WARN] [1644845239.217974]: minimum value is 3500 => set value to 0\n",
      "[WARN] [1644845239.228899]: minimum value is 3500 => set value to 0\n",
      "[WARN] [1644845239.237938]: minimum value is 3500 => set value to 0\n",
      "[WARN] [1644845239.247926]: minimum value is 3500 => set value to 0\n"
     ]
    },
    {
     "name": "stderr",
     "output_type": "stream",
     "text": [
      "[WARN] [1644845239.258503]: minimum value is 3500 => set value to 0\n",
      "[WARN] [1644845239.267983]: minimum value is 3500 => set value to 0\n",
      "[WARN] [1644845239.278038]: minimum value is 3500 => set value to 0\n",
      "[WARN] [1644845239.288101]: minimum value is 3500 => set value to 0\n",
      "[WARN] [1644845239.297967]: minimum value is 3500 => set value to 0\n",
      "[WARN] [1644845239.310103]: minimum value is 3500 => set value to 0\n",
      "[WARN] [1644845239.318864]: minimum value is 3500 => set value to 0\n",
      "[WARN] [1644845239.328228]: minimum value is 3500 => set value to 0\n",
      "[WARN] [1644845239.338032]: minimum value is 3500 => set value to 0\n",
      "[WARN] [1644845239.347900]: minimum value is 3500 => set value to 0\n",
      "[WARN] [1644845239.357971]: minimum value is 3500 => set value to 0\n",
      "[WARN] [1644845239.367971]: minimum value is 3500 => set value to 0\n",
      "[WARN] [1644845239.378082]: minimum value is 3500 => set value to 0\n",
      "[WARN] [1644845239.388074]: minimum value is 3500 => set value to 0\n",
      "[WARN] [1644845239.397971]: minimum value is 3500 => set value to 0\n",
      "[WARN] [1644845239.407854]: minimum value is 3500 => set value to 0\n",
      "[WARN] [1644845239.420805]: minimum value is 3500 => set value to 0\n",
      "[WARN] [1644845239.430312]: minimum value is 3500 => set value to 0\n",
      "[WARN] [1644845239.439721]: minimum value is 3500 => set value to 0\n",
      "[WARN] [1644845239.447876]: minimum value is 3500 => set value to 0\n",
      "[WARN] [1644845239.457962]: minimum value is 3500 => set value to 0\n",
      "[WARN] [1644845239.468009]: minimum value is 3500 => set value to 0\n",
      "[WARN] [1644845239.478099]: minimum value is 3500 => set value to 0\n",
      "[WARN] [1644845239.488072]: minimum value is 3500 => set value to 0\n",
      "[WARN] [1644845239.498014]: minimum value is 3500 => set value to 0\n",
      "[WARN] [1644845239.508041]: minimum value is 3500 => set value to 0\n",
      "[WARN] [1644845239.518062]: minimum value is 3500 => set value to 0\n",
      "[WARN] [1644845239.529683]: minimum value is 3500 => set value to 0\n",
      "[WARN] [1644845239.541100]: minimum value is 3500 => set value to 0\n",
      "[WARN] [1644845239.548209]: minimum value is 3500 => set value to 0\n",
      "[WARN] [1644845239.557950]: minimum value is 3500 => set value to 0\n",
      "[WARN] [1644845239.567963]: minimum value is 3500 => set value to 0\n",
      "[WARN] [1644845239.577976]: minimum value is 3500 => set value to 0\n",
      "[WARN] [1644845239.587987]: minimum value is 3500 => set value to 0\n",
      "[WARN] [1644845239.598109]: minimum value is 3500 => set value to 0\n",
      "[WARN] [1644845239.607974]: minimum value is 3500 => set value to 0\n",
      "[WARN] [1644845239.618067]: minimum value is 3500 => set value to 0\n",
      "[WARN] [1644845239.628016]: minimum value is 3500 => set value to 0\n",
      "[WARN] [1644845239.642893]: minimum value is 3500 => set value to 0\n",
      "[WARN] [1644845239.650102]: minimum value is 3500 => set value to 0\n",
      "[WARN] [1644845239.657992]: minimum value is 3500 => set value to 0\n",
      "[WARN] [1644845239.668041]: minimum value is 3500 => set value to 0\n",
      "[WARN] [1644845239.679332]: minimum value is 3500 => set value to 0\n",
      "[WARN] [1644845239.688240]: minimum value is 3500 => set value to 0\n",
      "[WARN] [1644845239.698770]: minimum value is 3500 => set value to 0\n",
      "[WARN] [1644845239.707956]: minimum value is 3500 => set value to 0\n",
      "[WARN] [1644845239.722883]: minimum value is 3500 => set value to 0\n",
      "[WARN] [1644845239.731835]: minimum value is 3500 => set value to 0\n",
      "[WARN] [1644845239.744723]: minimum value is 3500 => set value to 0\n",
      "[WARN] [1644845239.757145]: minimum value is 3500 => set value to 0\n",
      "[WARN] [1644845239.768146]: minimum value is 3500 => set value to 0\n",
      "[WARN] [1644845239.776746]: minimum value is 3500 => set value to 0\n",
      "[WARN] [1644845239.785095]: minimum value is 3500 => set value to 0\n",
      "[WARN] [1644845239.791653]: minimum value is 3500 => set value to 0\n",
      "[WARN] [1644845239.801554]: minimum value is 3500 => set value to 0\n",
      "[WARN] [1644845239.811082]: minimum value is 3500 => set value to 0\n",
      "[WARN] [1644845239.820294]: minimum value is 3500 => set value to 0\n",
      "[WARN] [1644845239.828043]: minimum value is 3500 => set value to 0\n",
      "[WARN] [1644845239.837925]: minimum value is 3500 => set value to 0\n",
      "[WARN] [1644845239.849890]: minimum value is 3500 => set value to 0\n",
      "[WARN] [1644845239.860769]: minimum value is 3500 => set value to 0\n",
      "[WARN] [1644845239.868024]: minimum value is 3500 => set value to 0\n",
      "[WARN] [1644845239.878025]: minimum value is 3500 => set value to 0\n",
      "[WARN] [1644845239.887903]: minimum value is 3500 => set value to 0\n",
      "[WARN] [1644845239.898011]: minimum value is 3500 => set value to 0\n",
      "[WARN] [1644845239.908118]: minimum value is 3500 => set value to 0\n",
      "[WARN] [1644845239.918042]: minimum value is 3500 => set value to 0\n",
      "[WARN] [1644845239.927974]: minimum value is 3500 => set value to 0\n",
      "[WARN] [1644845239.937894]: minimum value is 3500 => set value to 0\n",
      "[WARN] [1644845239.947924]: minimum value is 3500 => set value to 0\n",
      "[WARN] [1644845239.959970]: minimum value is 3500 => set value to 0\n",
      "[WARN] [1644845239.968673]: minimum value is 3500 => set value to 0\n",
      "[WARN] [1644845239.978151]: minimum value is 3500 => set value to 0\n",
      "[WARN] [1644845239.988073]: minimum value is 3500 => set value to 0\n",
      "[WARN] [1644845239.997936]: minimum value is 3500 => set value to 0\n",
      "[WARN] [1644845240.008221]: minimum value is 3500 => set value to 0\n",
      "[WARN] [1644845240.017909]: minimum value is 3500 => set value to 0\n",
      "[WARN] [1644845240.027950]: minimum value is 3500 => set value to 0\n",
      "[WARN] [1644845240.037907]: minimum value is 3500 => set value to 0\n",
      "[WARN] [1644845240.047947]: minimum value is 3500 => set value to 0\n",
      "[WARN] [1644845240.057956]: minimum value is 3500 => set value to 0\n",
      "[WARN] [1644845240.069953]: minimum value is 3500 => set value to 0\n",
      "[WARN] [1644845240.079568]: minimum value is 3500 => set value to 0\n",
      "[WARN] [1644845240.088139]: minimum value is 3500 => set value to 0\n",
      "[WARN] [1644845240.098023]: minimum value is 3500 => set value to 0\n",
      "[WARN] [1644845240.107994]: minimum value is 3500 => set value to 0\n",
      "[WARN] [1644845240.118768]: minimum value is 3500 => set value to 0\n",
      "[WARN] [1644845240.128012]: minimum value is 3500 => set value to 0\n",
      "[WARN] [1644845240.138119]: minimum value is 3500 => set value to 0\n",
      "[WARN] [1644845240.148250]: minimum value is 3500 => set value to 0\n",
      "[WARN] [1644845240.157926]: minimum value is 3500 => set value to 0\n",
      "[WARN] [1644845240.167949]: minimum value is 3500 => set value to 0\n",
      "[WARN] [1644845240.179810]: minimum value is 3500 => set value to 0\n",
      "[WARN] [1644845240.188658]: minimum value is 3500 => set value to 0\n",
      "[WARN] [1644845240.197947]: minimum value is 3500 => set value to 0\n",
      "[WARN] [1644845240.208360]: minimum value is 3500 => set value to 0\n",
      "[WARN] [1644845240.217989]: minimum value is 3500 => set value to 0\n",
      "[WARN] [1644845240.227932]: minimum value is 3500 => set value to 0\n",
      "[WARN] [1644845240.237987]: minimum value is 3500 => set value to 0\n",
      "[WARN] [1644845240.247880]: minimum value is 3500 => set value to 0\n",
      "[WARN] [1644845240.257917]: minimum value is 3500 => set value to 0\n",
      "[WARN] [1644845240.267919]: minimum value is 3500 => set value to 0\n",
      "[WARN] [1644845240.277887]: minimum value is 3500 => set value to 0\n",
      "[WARN] [1644845240.289618]: minimum value is 3500 => set value to 0\n",
      "[WARN] [1644845240.300361]: minimum value is 3500 => set value to 0\n",
      "[WARN] [1644845240.308368]: minimum value is 3500 => set value to 0\n",
      "[WARN] [1644845240.317997]: minimum value is 3500 => set value to 0\n",
      "[WARN] [1644845240.328062]: minimum value is 3500 => set value to 0\n",
      "[WARN] [1644845240.338348]: minimum value is 3500 => set value to 0\n",
      "[WARN] [1644845240.347986]: minimum value is 3500 => set value to 0\n",
      "[WARN] [1644845240.357906]: minimum value is 3500 => set value to 0\n",
      "[WARN] [1644845240.368042]: minimum value is 3500 => set value to 0\n",
      "[WARN] [1644845240.378026]: minimum value is 3500 => set value to 0\n",
      "[WARN] [1644845240.387892]: minimum value is 3500 => set value to 0\n",
      "[WARN] [1644845240.399685]: minimum value is 3500 => set value to 0\n",
      "[WARN] [1644845240.408813]: minimum value is 3500 => set value to 0\n",
      "[WARN] [1644845240.418069]: minimum value is 3500 => set value to 0\n",
      "[WARN] [1644845240.427964]: minimum value is 3500 => set value to 0\n",
      "[WARN] [1644845240.437915]: minimum value is 3500 => set value to 0\n",
      "[WARN] [1644845240.447972]: minimum value is 3500 => set value to 0\n",
      "[WARN] [1644845240.457954]: minimum value is 3500 => set value to 0\n",
      "[WARN] [1644845240.467952]: minimum value is 3500 => set value to 0\n",
      "[WARN] [1644845240.477935]: minimum value is 3500 => set value to 0\n",
      "[WARN] [1644845240.487967]: minimum value is 3500 => set value to 0\n",
      "[WARN] [1644845240.497990]: minimum value is 3500 => set value to 0\n",
      "[WARN] [1644845240.509734]: minimum value is 3500 => set value to 0\n"
     ]
    },
    {
     "name": "stderr",
     "output_type": "stream",
     "text": [
      "[WARN] [1644845240.522410]: minimum value is 3500 => set value to 0\n",
      "[WARN] [1644845240.528447]: minimum value is 3500 => set value to 0\n",
      "[WARN] [1644845240.537999]: minimum value is 3500 => set value to 0\n",
      "[WARN] [1644845240.549099]: minimum value is 3500 => set value to 0\n",
      "[WARN] [1644845240.558983]: minimum value is 3500 => set value to 0\n",
      "[WARN] [1644845240.567974]: minimum value is 3500 => set value to 0\n",
      "[WARN] [1644845240.578040]: minimum value is 3500 => set value to 0\n",
      "[WARN] [1644845240.588020]: minimum value is 3500 => set value to 0\n",
      "[WARN] [1644845240.598018]: minimum value is 3500 => set value to 0\n",
      "[WARN] [1644845240.607912]: minimum value is 3500 => set value to 0\n",
      "[WARN] [1644845240.619581]: minimum value is 3500 => set value to 0\n",
      "[WARN] [1644845240.628242]: minimum value is 3500 => set value to 0\n",
      "[WARN] [1644845240.638028]: minimum value is 3500 => set value to 0\n",
      "[WARN] [1644845240.649408]: minimum value is 3500 => set value to 0\n",
      "[WARN] [1644845240.657917]: minimum value is 3500 => set value to 0\n",
      "[WARN] [1644845240.668054]: minimum value is 3500 => set value to 0\n",
      "[WARN] [1644845240.678082]: minimum value is 3500 => set value to 0\n",
      "[WARN] [1644845240.687896]: minimum value is 3500 => set value to 0\n",
      "[WARN] [1644845240.698172]: minimum value is 3500 => set value to 0\n",
      "[WARN] [1644845240.708058]: minimum value is 3500 => set value to 0\n",
      "[WARN] [1644845240.717937]: minimum value is 3500 => set value to 0\n",
      "[WARN] [1644845240.731731]: minimum value is 3500 => set value to 0\n",
      "[WARN] [1644845240.739150]: minimum value is 3500 => set value to 0\n",
      "[WARN] [1644845240.748014]: minimum value is 3500 => set value to 0\n",
      "[WARN] [1644845240.758110]: minimum value is 3500 => set value to 0\n",
      "[WARN] [1644845240.768118]: minimum value is 3500 => set value to 0\n",
      "[WARN] [1644845240.777931]: minimum value is 3500 => set value to 0\n",
      "[WARN] [1644845240.787910]: minimum value is 3500 => set value to 0\n",
      "[WARN] [1644845240.797953]: minimum value is 3500 => set value to 0\n",
      "[WARN] [1644845240.808061]: minimum value is 3500 => set value to 0\n",
      "[WARN] [1644845240.817920]: minimum value is 3500 => set value to 0\n",
      "[WARN] [1644845240.827906]: minimum value is 3500 => set value to 0\n",
      "[WARN] [1644845240.840725]: minimum value is 3500 => set value to 0\n",
      "[WARN] [1644845240.849643]: minimum value is 3500 => set value to 0\n",
      "[WARN] [1644845240.859276]: minimum value is 3500 => set value to 0\n",
      "[WARN] [1644845240.867894]: minimum value is 3500 => set value to 0\n",
      "[WARN] [1644845240.877941]: minimum value is 3500 => set value to 0\n",
      "[WARN] [1644845240.887928]: minimum value is 3500 => set value to 0\n",
      "[WARN] [1644845240.897897]: minimum value is 3500 => set value to 0\n",
      "[WARN] [1644845240.907916]: minimum value is 3500 => set value to 0\n",
      "[WARN] [1644845240.917920]: minimum value is 3500 => set value to 0\n",
      "[WARN] [1644845240.927943]: minimum value is 3500 => set value to 0\n",
      "[WARN] [1644845240.937934]: minimum value is 3500 => set value to 0\n",
      "[WARN] [1644845240.949845]: minimum value is 3500 => set value to 0\n",
      "[WARN] [1644845240.963533]: minimum value is 3500 => set value to 0\n",
      "[WARN] [1644845240.972189]: minimum value is 3500 => set value to 0\n",
      "[WARN] [1644845240.978538]: minimum value is 3500 => set value to 0\n",
      "[WARN] [1644845240.987920]: minimum value is 3500 => set value to 0\n",
      "[WARN] [1644845240.997931]: minimum value is 3500 => set value to 0\n",
      "[WARN] [1644845241.007985]: minimum value is 3500 => set value to 0\n",
      "[WARN] [1644845241.017902]: minimum value is 3500 => set value to 0\n",
      "[WARN] [1644845241.027961]: minimum value is 3500 => set value to 0\n",
      "[WARN] [1644845241.037919]: minimum value is 3500 => set value to 0\n",
      "[WARN] [1644845241.047890]: minimum value is 3500 => set value to 0\n",
      "[WARN] [1644845241.059587]: minimum value is 3500 => set value to 0\n",
      "[WARN] [1644845241.068818]: minimum value is 3500 => set value to 0\n",
      "[WARN] [1644845241.077937]: minimum value is 3500 => set value to 0\n",
      "[WARN] [1644845241.087940]: minimum value is 3500 => set value to 0\n",
      "[WARN] [1644845241.097913]: minimum value is 3500 => set value to 0\n",
      "[WARN] [1644845241.107889]: minimum value is 3500 => set value to 0\n",
      "[WARN] [1644845241.117920]: minimum value is 3500 => set value to 0\n",
      "[WARN] [1644845241.127950]: minimum value is 3500 => set value to 0\n",
      "[WARN] [1644845241.137914]: minimum value is 3500 => set value to 0\n",
      "[WARN] [1644845241.147982]: minimum value is 3500 => set value to 0\n",
      "[WARN] [1644845241.158062]: minimum value is 3500 => set value to 0\n",
      "[WARN] [1644845241.170539]: minimum value is 3500 => set value to 0\n",
      "[WARN] [1644845241.182803]: minimum value is 3500 => set value to 0\n",
      "[WARN] [1644845241.191346]: minimum value is 3500 => set value to 0\n",
      "[WARN] [1644845241.199517]: minimum value is 3500 => set value to 0\n",
      "[WARN] [1644845241.207929]: minimum value is 3500 => set value to 0\n",
      "[WARN] [1644845241.218184]: minimum value is 3500 => set value to 0\n",
      "[WARN] [1644845241.228338]: minimum value is 3500 => set value to 0\n",
      "[WARN] [1644845241.238028]: minimum value is 3500 => set value to 0\n",
      "[WARN] [1644845241.248109]: minimum value is 3500 => set value to 0\n",
      "[WARN] [1644845241.258000]: minimum value is 3500 => set value to 0\n",
      "[WARN] [1644845241.272505]: minimum value is 3500 => set value to 0\n",
      "[WARN] [1644845241.286442]: minimum value is 3500 => set value to 0\n",
      "[WARN] [1644845241.293043]: minimum value is 3500 => set value to 0\n",
      "[WARN] [1644845241.302771]: minimum value is 3500 => set value to 0\n",
      "[WARN] [1644845241.310967]: minimum value is 3500 => set value to 0\n",
      "[WARN] [1644845241.319663]: minimum value is 3500 => set value to 0\n",
      "[WARN] [1644845241.328002]: minimum value is 3500 => set value to 0\n",
      "[WARN] [1644845241.337912]: minimum value is 3500 => set value to 0\n",
      "[WARN] [1644845241.348100]: minimum value is 3500 => set value to 0\n",
      "[WARN] [1644845241.358126]: minimum value is 3500 => set value to 0\n",
      "[WARN] [1644845241.367954]: minimum value is 3500 => set value to 0\n",
      "[WARN] [1644845241.383199]: minimum value is 3500 => set value to 0\n",
      "[WARN] [1644845241.389774]: minimum value is 3500 => set value to 0\n",
      "[WARN] [1644845241.398956]: minimum value is 3500 => set value to 0\n",
      "[WARN] [1644845241.408127]: minimum value is 3500 => set value to 0\n",
      "[WARN] [1644845241.418130]: minimum value is 3500 => set value to 0\n",
      "[WARN] [1644845241.428198]: minimum value is 3500 => set value to 0\n",
      "[WARN] [1644845241.438880]: minimum value is 3500 => set value to 0\n",
      "[WARN] [1644845241.448325]: minimum value is 3500 => set value to 0\n",
      "[WARN] [1644845241.458028]: minimum value is 3500 => set value to 0\n",
      "[WARN] [1644845241.467929]: minimum value is 3500 => set value to 0\n",
      "[WARN] [1644845241.478188]: minimum value is 3500 => set value to 0\n",
      "[WARN] [1644845241.490364]: minimum value is 3500 => set value to 0\n",
      "[WARN] [1644845241.502150]: minimum value is 3500 => set value to 0\n",
      "[WARN] [1644845241.507876]: minimum value is 3500 => set value to 0\n",
      "[WARN] [1644845241.518323]: minimum value is 3500 => set value to 0\n",
      "[WARN] [1644845241.528029]: minimum value is 3500 => set value to 0\n",
      "[WARN] [1644845241.538093]: minimum value is 3500 => set value to 0\n",
      "[WARN] [1644845241.548275]: minimum value is 3500 => set value to 0\n",
      "[WARN] [1644845241.558012]: minimum value is 3500 => set value to 0\n",
      "[WARN] [1644845241.568008]: minimum value is 3500 => set value to 0\n",
      "[WARN] [1644845241.578272]: minimum value is 3500 => set value to 0\n",
      "[WARN] [1644845241.589403]: minimum value is 3500 => set value to 0\n",
      "[WARN] [1644845241.600104]: minimum value is 3500 => set value to 0\n",
      "[WARN] [1644845241.609404]: minimum value is 3500 => set value to 0\n",
      "[WARN] [1644845241.618780]: minimum value is 3500 => set value to 0\n",
      "[WARN] [1644845241.628647]: minimum value is 3500 => set value to 0\n",
      "[WARN] [1644845241.638008]: minimum value is 3500 => set value to 0\n",
      "[WARN] [1644845241.648215]: minimum value is 3500 => set value to 0\n",
      "[WARN] [1644845241.658195]: minimum value is 3500 => set value to 0\n",
      "[WARN] [1644845241.667945]: minimum value is 3500 => set value to 0\n",
      "[WARN] [1644845241.678238]: minimum value is 3500 => set value to 0\n",
      "[WARN] [1644845241.688102]: minimum value is 3500 => set value to 0\n",
      "[WARN] [1644845241.697935]: minimum value is 3500 => set value to 0\n",
      "[WARN] [1644845241.710679]: minimum value is 3500 => set value to 0\n",
      "[WARN] [1644845241.724572]: minimum value is 3500 => set value to 0\n",
      "[WARN] [1644845241.733943]: minimum value is 3500 => set value to 0\n",
      "[WARN] [1644845241.739588]: minimum value is 3500 => set value to 0\n",
      "[WARN] [1644845241.747988]: minimum value is 3500 => set value to 0\n",
      "[WARN] [1644845241.757997]: minimum value is 3500 => set value to 0\n",
      "[WARN] [1644845241.768017]: minimum value is 3500 => set value to 0\n"
     ]
    },
    {
     "name": "stderr",
     "output_type": "stream",
     "text": [
      "[WARN] [1644845241.778003]: minimum value is 3500 => set value to 0\n",
      "[WARN] [1644845241.788228]: minimum value is 3500 => set value to 0\n",
      "[WARN] [1644845241.797993]: minimum value is 3500 => set value to 0\n",
      "[WARN] [1644845241.808131]: minimum value is 3500 => set value to 0\n",
      "[WARN] [1644845241.822627]: minimum value is 3500 => set value to 0\n",
      "[WARN] [1644845241.830037]: minimum value is 3500 => set value to 0\n",
      "[WARN] [1644845241.838465]: minimum value is 3500 => set value to 0\n",
      "[WARN] [1644845241.848059]: minimum value is 3500 => set value to 0\n",
      "[WARN] [1644845241.857996]: minimum value is 3500 => set value to 0\n",
      "[WARN] [1644845241.868064]: minimum value is 3500 => set value to 0\n",
      "[WARN] [1644845241.878027]: minimum value is 3500 => set value to 0\n",
      "[WARN] [1644845241.888143]: minimum value is 3500 => set value to 0\n",
      "[WARN] [1644845241.897996]: minimum value is 3500 => set value to 0\n",
      "[WARN] [1644845241.908088]: minimum value is 3500 => set value to 0\n",
      "[WARN] [1644845241.918641]: minimum value is 3500 => set value to 0\n",
      "[WARN] [1644845241.932215]: minimum value is 3500 => set value to 0\n",
      "[WARN] [1644845241.943606]: minimum value is 3500 => set value to 0\n",
      "[WARN] [1644845241.953572]: minimum value is 3500 => set value to 0\n",
      "[WARN] [1644845241.963462]: minimum value is 3500 => set value to 0\n",
      "[WARN] [1644845241.973756]: minimum value is 3500 => set value to 0\n",
      "[WARN] [1644845241.984679]: minimum value is 3500 => set value to 0\n",
      "[WARN] [1644845241.996103]: minimum value is 3500 => set value to 0\n",
      "[WARN] [1644845242.008417]: minimum value is 3500 => set value to 0\n",
      "[WARN] [1644845242.014426]: minimum value is 3500 => set value to 0\n",
      "[WARN] [1644845242.022993]: minimum value is 3500 => set value to 0\n",
      "[WARN] [1644845242.033851]: minimum value is 3500 => set value to 0\n",
      "[WARN] [1644845242.046788]: minimum value is 3500 => set value to 0\n",
      "[WARN] [1644845242.057148]: minimum value is 3500 => set value to 0\n",
      "[WARN] [1644845242.064692]: minimum value is 3500 => set value to 0\n",
      "[WARN] [1644845242.075522]: minimum value is 3500 => set value to 0\n",
      "[WARN] [1644845242.084603]: minimum value is 3500 => set value to 0\n",
      "[WARN] [1644845242.092455]: minimum value is 3500 => set value to 0\n",
      "[WARN] [1644845242.098385]: minimum value is 3500 => set value to 0\n",
      "[WARN] [1644845242.108017]: minimum value is 3500 => set value to 0\n",
      "[WARN] [1644845242.118031]: minimum value is 3500 => set value to 0\n",
      "[WARN] [1644845242.128034]: minimum value is 3500 => set value to 0\n",
      "[WARN] [1644845242.138020]: minimum value is 3500 => set value to 0\n",
      "[WARN] [1644845242.149685]: minimum value is 3500 => set value to 0\n",
      "[WARN] [1644845242.157929]: minimum value is 3500 => set value to 0\n",
      "[WARN] [1644845242.167964]: minimum value is 3500 => set value to 0\n",
      "[WARN] [1644845242.177956]: minimum value is 3500 => set value to 0\n",
      "[WARN] [1644845242.187968]: minimum value is 3500 => set value to 0\n",
      "[WARN] [1644845242.198058]: minimum value is 3500 => set value to 0\n",
      "[WARN] [1644845242.208127]: minimum value is 3500 => set value to 0\n",
      "[WARN] [1644845242.218512]: minimum value is 3500 => set value to 0\n",
      "[WARN] [1644845242.227921]: minimum value is 3500 => set value to 0\n",
      "[WARN] [1644845242.238060]: minimum value is 3500 => set value to 0\n",
      "[WARN] [1644845242.247951]: minimum value is 3500 => set value to 0\n",
      "[WARN] [1644845242.259939]: minimum value is 3500 => set value to 0\n",
      "[WARN] [1644845242.268777]: minimum value is 3500 => set value to 0\n",
      "[WARN] [1644845242.278003]: minimum value is 3500 => set value to 0\n",
      "[WARN] [1644845242.287931]: minimum value is 3500 => set value to 0\n",
      "[WARN] [1644845242.297914]: minimum value is 3500 => set value to 0\n",
      "[WARN] [1644845242.307935]: minimum value is 3500 => set value to 0\n",
      "[WARN] [1644845242.317940]: minimum value is 3500 => set value to 0\n",
      "[WARN] [1644845242.327949]: minimum value is 3500 => set value to 0\n",
      "[WARN] [1644845242.337940]: minimum value is 3500 => set value to 0\n",
      "[WARN] [1644845242.348004]: minimum value is 3500 => set value to 0\n",
      "[WARN] [1644845242.357980]: minimum value is 3500 => set value to 0\n",
      "[WARN] [1644845242.369667]: minimum value is 3500 => set value to 0\n",
      "[WARN] [1644845242.377926]: minimum value is 3500 => set value to 0\n",
      "[WARN] [1644845242.387970]: minimum value is 3500 => set value to 0\n",
      "[WARN] [1644845242.397970]: minimum value is 3500 => set value to 0\n",
      "[WARN] [1644845242.407991]: minimum value is 3500 => set value to 0\n",
      "[WARN] [1644845242.418005]: minimum value is 3500 => set value to 0\n",
      "[WARN] [1644845242.428076]: minimum value is 3500 => set value to 0\n",
      "[WARN] [1644845242.437935]: minimum value is 3500 => set value to 0\n",
      "[WARN] [1644845242.447939]: minimum value is 3500 => set value to 0\n",
      "[WARN] [1644845242.457936]: minimum value is 3500 => set value to 0\n",
      "[WARN] [1644845242.467931]: minimum value is 3500 => set value to 0\n",
      "[WARN] [1644845242.480079]: minimum value is 3500 => set value to 0\n",
      "[WARN] [1644845242.490259]: minimum value is 3500 => set value to 0\n",
      "[WARN] [1644845242.497905]: minimum value is 3500 => set value to 0\n",
      "[WARN] [1644845242.507971]: minimum value is 3500 => set value to 0\n",
      "[WARN] [1644845242.517996]: minimum value is 3500 => set value to 0\n",
      "[WARN] [1644845242.527886]: minimum value is 3500 => set value to 0\n",
      "[WARN] [1644845242.537937]: minimum value is 3500 => set value to 0\n",
      "[WARN] [1644845242.548045]: minimum value is 3500 => set value to 0\n",
      "[WARN] [1644845242.557920]: minimum value is 3500 => set value to 0\n",
      "[WARN] [1644845242.567904]: minimum value is 3500 => set value to 0\n",
      "[WARN] [1644845242.577908]: minimum value is 3500 => set value to 0\n",
      "[WARN] [1644845242.589725]: minimum value is 3500 => set value to 0\n",
      "[WARN] [1644845242.598155]: minimum value is 3500 => set value to 0\n",
      "[WARN] [1644845242.607948]: minimum value is 3500 => set value to 0\n",
      "[WARN] [1644845242.617946]: minimum value is 3500 => set value to 0\n",
      "[WARN] [1644845242.627992]: minimum value is 3500 => set value to 0\n",
      "[WARN] [1644845242.638056]: minimum value is 3500 => set value to 0\n",
      "[WARN] [1644845242.647959]: minimum value is 3500 => set value to 0\n",
      "[WARN] [1644845242.657937]: minimum value is 3500 => set value to 0\n",
      "[WARN] [1644845242.667938]: minimum value is 3500 => set value to 0\n",
      "[WARN] [1644845242.677993]: minimum value is 3500 => set value to 0\n",
      "[WARN] [1644845242.687945]: minimum value is 3500 => set value to 0\n",
      "[WARN] [1644845242.699656]: minimum value is 3500 => set value to 0\n",
      "[WARN] [1644845242.708052]: minimum value is 3500 => set value to 0\n",
      "[WARN] [1644845242.717990]: minimum value is 3500 => set value to 0\n",
      "[WARN] [1644845242.727936]: minimum value is 3500 => set value to 0\n",
      "[WARN] [1644845242.738030]: minimum value is 3500 => set value to 0\n",
      "[WARN] [1644845242.747922]: minimum value is 3500 => set value to 0\n",
      "[WARN] [1644845242.758082]: minimum value is 3500 => set value to 0\n",
      "[WARN] [1644845242.767982]: minimum value is 3500 => set value to 0\n",
      "[WARN] [1644845242.777997]: minimum value is 3500 => set value to 0\n",
      "[WARN] [1644845242.787949]: minimum value is 3500 => set value to 0\n",
      "[WARN] [1644845242.797931]: minimum value is 3500 => set value to 0\n",
      "[WARN] [1644845242.810918]: minimum value is 3500 => set value to 0\n",
      "[WARN] [1644845242.824124]: minimum value is 3500 => set value to 0\n",
      "[WARN] [1644845242.831731]: minimum value is 3500 => set value to 0\n",
      "[WARN] [1644845242.840963]: minimum value is 3500 => set value to 0\n",
      "[WARN] [1644845242.848397]: minimum value is 3500 => set value to 0\n",
      "[WARN] [1644845242.857920]: minimum value is 3500 => set value to 0\n",
      "[WARN] [1644845242.867999]: minimum value is 3500 => set value to 0\n",
      "[WARN] [1644845242.878088]: minimum value is 3500 => set value to 0\n",
      "[WARN] [1644845242.887939]: minimum value is 3500 => set value to 0\n",
      "[WARN] [1644845242.897919]: minimum value is 3500 => set value to 0\n",
      "[WARN] [1644845242.908035]: minimum value is 3500 => set value to 0\n",
      "[WARN] [1644845242.919644]: minimum value is 3500 => set value to 0\n",
      "[WARN] [1644845242.930932]: minimum value is 3500 => set value to 0\n",
      "[WARN] [1644845242.938512]: minimum value is 3500 => set value to 0\n",
      "[WARN] [1644845242.947919]: minimum value is 3500 => set value to 0\n",
      "[WARN] [1644845242.957899]: minimum value is 3500 => set value to 0\n",
      "[WARN] [1644845242.968125]: minimum value is 3500 => set value to 0\n",
      "[WARN] [1644845242.977924]: minimum value is 3500 => set value to 0\n",
      "[WARN] [1644845242.987922]: minimum value is 3500 => set value to 0\n",
      "[WARN] [1644845242.997941]: minimum value is 3500 => set value to 0\n",
      "[WARN] [1644845243.007908]: minimum value is 3500 => set value to 0\n",
      "[WARN] [1644845243.017936]: minimum value is 3500 => set value to 0\n"
     ]
    },
    {
     "name": "stderr",
     "output_type": "stream",
     "text": [
      "[WARN] [1644845243.032254]: minimum value is 3500 => set value to 0\n",
      "[WARN] [1644845243.039418]: minimum value is 3500 => set value to 0\n",
      "[WARN] [1644845243.048023]: minimum value is 3500 => set value to 0\n",
      "[WARN] [1644845243.058020]: minimum value is 3500 => set value to 0\n",
      "[WARN] [1644845243.068015]: minimum value is 3500 => set value to 0\n",
      "[WARN] [1644845243.078069]: minimum value is 3500 => set value to 0\n",
      "[WARN] [1644845243.087937]: minimum value is 3500 => set value to 0\n",
      "[WARN] [1644845243.098027]: minimum value is 3500 => set value to 0\n",
      "[WARN] [1644845243.108015]: minimum value is 3500 => set value to 0\n",
      "[WARN] [1644845243.117946]: minimum value is 3500 => set value to 0\n",
      "[WARN] [1644845243.127967]: minimum value is 3500 => set value to 0\n",
      "[WARN] [1644845243.139849]: minimum value is 3500 => set value to 0\n",
      "[WARN] [1644845243.148571]: minimum value is 3500 => set value to 0\n",
      "[WARN] [1644845243.157888]: minimum value is 3500 => set value to 0\n",
      "[WARN] [1644845243.167891]: minimum value is 3500 => set value to 0\n",
      "[WARN] [1644845243.177927]: minimum value is 3500 => set value to 0\n",
      "[WARN] [1644845243.187947]: minimum value is 3500 => set value to 0\n",
      "[WARN] [1644845243.197983]: minimum value is 3500 => set value to 0\n",
      "[WARN] [1644845243.207940]: minimum value is 3500 => set value to 0\n",
      "[WARN] [1644845243.217937]: minimum value is 3500 => set value to 0\n",
      "[WARN] [1644845243.227977]: minimum value is 3500 => set value to 0\n",
      "[WARN] [1644845243.237944]: minimum value is 3500 => set value to 0\n",
      "[WARN] [1644845243.249907]: minimum value is 3500 => set value to 0\n",
      "[WARN] [1644845243.259415]: minimum value is 3500 => set value to 0\n",
      "[WARN] [1644845243.267997]: minimum value is 3500 => set value to 0\n",
      "[WARN] [1644845243.278044]: minimum value is 3500 => set value to 0\n",
      "[WARN] [1644845243.288033]: minimum value is 3500 => set value to 0\n",
      "[WARN] [1644845243.297936]: minimum value is 3500 => set value to 0\n",
      "[WARN] [1644845243.307960]: minimum value is 3500 => set value to 0\n",
      "[WARN] [1644845243.317891]: minimum value is 3500 => set value to 0\n",
      "[WARN] [1644845243.328029]: minimum value is 3500 => set value to 0\n",
      "[WARN] [1644845243.337990]: minimum value is 3500 => set value to 0\n",
      "[WARN] [1644845243.347904]: minimum value is 3500 => set value to 0\n",
      "[WARN] [1644845243.359575]: minimum value is 3500 => set value to 0\n",
      "[WARN] [1644845243.369936]: minimum value is 3500 => set value to 0\n",
      "[WARN] [1644845243.378999]: minimum value is 3500 => set value to 0\n",
      "[WARN] [1644845243.387945]: minimum value is 3500 => set value to 0\n",
      "[WARN] [1644845243.397966]: minimum value is 3500 => set value to 0\n",
      "[WARN] [1644845243.408071]: minimum value is 3500 => set value to 0\n",
      "[WARN] [1644845243.417984]: minimum value is 3500 => set value to 0\n",
      "[WARN] [1644845243.427976]: minimum value is 3500 => set value to 0\n",
      "[WARN] [1644845243.437948]: minimum value is 3500 => set value to 0\n",
      "[WARN] [1644845243.448069]: minimum value is 3500 => set value to 0\n",
      "[WARN] [1644845243.458091]: minimum value is 3500 => set value to 0\n",
      "[WARN] [1644845243.472493]: minimum value is 3500 => set value to 0\n",
      "[WARN] [1644845243.481173]: minimum value is 3500 => set value to 0\n",
      "[WARN] [1644845243.487934]: minimum value is 3500 => set value to 0\n",
      "[WARN] [1644845243.497940]: minimum value is 3500 => set value to 0\n",
      "[WARN] [1644845243.507941]: minimum value is 3500 => set value to 0\n",
      "[WARN] [1644845243.517947]: minimum value is 3500 => set value to 0\n",
      "[WARN] [1644845243.527948]: minimum value is 3500 => set value to 0\n",
      "[WARN] [1644845243.537970]: minimum value is 3500 => set value to 0\n",
      "[WARN] [1644845243.547944]: minimum value is 3500 => set value to 0\n",
      "[WARN] [1644845243.557915]: minimum value is 3500 => set value to 0\n",
      "[WARN] [1644845243.568011]: minimum value is 3500 => set value to 0\n",
      "[WARN] [1644845243.579576]: minimum value is 3500 => set value to 0\n",
      "[WARN] [1644845243.589724]: minimum value is 3500 => set value to 0\n",
      "[WARN] [1644845243.597972]: minimum value is 3500 => set value to 0\n",
      "[WARN] [1644845243.607963]: minimum value is 3500 => set value to 0\n",
      "[WARN] [1644845243.617951]: minimum value is 3500 => set value to 0\n",
      "[WARN] [1644845243.627904]: minimum value is 3500 => set value to 0\n",
      "[WARN] [1644845243.637899]: minimum value is 3500 => set value to 0\n",
      "[WARN] [1644845243.647909]: minimum value is 3500 => set value to 0\n",
      "[WARN] [1644845243.659442]: minimum value is 3500 => set value to 0\n",
      "[WARN] [1644845243.668302]: minimum value is 3500 => set value to 0\n",
      "[WARN] [1644845243.677916]: minimum value is 3500 => set value to 0\n",
      "[WARN] [1644845243.689935]: minimum value is 3500 => set value to 0\n",
      "[WARN] [1644845243.697951]: minimum value is 3500 => set value to 0\n",
      "[WARN] [1644845243.707985]: minimum value is 3500 => set value to 0\n",
      "[WARN] [1644845243.717906]: minimum value is 3500 => set value to 0\n",
      "[WARN] [1644845243.727891]: minimum value is 3500 => set value to 0\n",
      "[WARN] [1644845243.737934]: minimum value is 3500 => set value to 0\n",
      "[WARN] [1644845243.747946]: minimum value is 3500 => set value to 0\n",
      "[WARN] [1644845243.757949]: minimum value is 3500 => set value to 0\n",
      "[WARN] [1644845243.767954]: minimum value is 3500 => set value to 0\n",
      "[WARN] [1644845243.777922]: minimum value is 3500 => set value to 0\n",
      "[WARN] [1644845243.787945]: minimum value is 3500 => set value to 0\n",
      "[WARN] [1644845243.799949]: minimum value is 3500 => set value to 0\n",
      "[WARN] [1644845243.809375]: minimum value is 3500 => set value to 0\n",
      "[WARN] [1644845243.817989]: minimum value is 3500 => set value to 0\n",
      "[WARN] [1644845243.827986]: minimum value is 3500 => set value to 0\n",
      "[WARN] [1644845243.837900]: minimum value is 3500 => set value to 0\n",
      "[WARN] [1644845243.847914]: minimum value is 3500 => set value to 0\n",
      "[WARN] [1644845243.857932]: minimum value is 3500 => set value to 0\n",
      "[WARN] [1644845243.867952]: minimum value is 3500 => set value to 0\n",
      "[WARN] [1644845243.877978]: minimum value is 3500 => set value to 0\n",
      "[WARN] [1644845243.888026]: minimum value is 3500 => set value to 0\n",
      "[WARN] [1644845243.897975]: minimum value is 3500 => set value to 0\n",
      "[WARN] [1644845243.909725]: minimum value is 3500 => set value to 0\n",
      "[WARN] [1644845243.920372]: minimum value is 3500 => set value to 0\n",
      "[WARN] [1644845243.927968]: minimum value is 3500 => set value to 0\n",
      "[WARN] [1644845243.937945]: minimum value is 3500 => set value to 0\n",
      "[WARN] [1644845243.948004]: minimum value is 3500 => set value to 0\n",
      "[WARN] [1644845243.957914]: minimum value is 3500 => set value to 0\n",
      "[WARN] [1644845243.967935]: minimum value is 3500 => set value to 0\n",
      "[WARN] [1644845243.977962]: minimum value is 3500 => set value to 0\n",
      "[WARN] [1644845243.988009]: minimum value is 3500 => set value to 0\n",
      "[WARN] [1644845243.998017]: minimum value is 3500 => set value to 0\n",
      "[WARN] [1644845244.007980]: minimum value is 3500 => set value to 0\n",
      "[WARN] [1644845244.021519]: minimum value is 3500 => set value to 0\n",
      "[WARN] [1644845244.031959]: minimum value is 3500 => set value to 0\n",
      "[WARN] [1644845244.038796]: minimum value is 3500 => set value to 0\n",
      "[WARN] [1644845244.048005]: minimum value is 3500 => set value to 0\n",
      "[WARN] [1644845244.058057]: minimum value is 3500 => set value to 0\n",
      "[WARN] [1644845244.068057]: minimum value is 3500 => set value to 0\n",
      "[WARN] [1644845244.078035]: minimum value is 3500 => set value to 0\n",
      "[WARN] [1644845244.088084]: minimum value is 3500 => set value to 0\n",
      "[WARN] [1644845244.098498]: minimum value is 3500 => set value to 0\n",
      "[WARN] [1644845244.108032]: minimum value is 3500 => set value to 0\n",
      "[WARN] [1644845244.118075]: minimum value is 3500 => set value to 0\n",
      "[WARN] [1644845244.130657]: minimum value is 3500 => set value to 0\n",
      "[WARN] [1644845244.143497]: minimum value is 3500 => set value to 0\n",
      "[WARN] [1644845244.152201]: minimum value is 3500 => set value to 0\n",
      "[WARN] [1644845244.158055]: minimum value is 3500 => set value to 0\n",
      "[WARN] [1644845244.167990]: minimum value is 3500 => set value to 0\n",
      "[WARN] [1644845244.178051]: minimum value is 3500 => set value to 0\n",
      "[WARN] [1644845244.187965]: minimum value is 3500 => set value to 0\n",
      "[WARN] [1644845244.197917]: minimum value is 3500 => set value to 0\n",
      "[WARN] [1644845244.207936]: minimum value is 3500 => set value to 0\n",
      "[WARN] [1644845244.217927]: minimum value is 3500 => set value to 0\n",
      "[WARN] [1644845244.227945]: minimum value is 3500 => set value to 0\n",
      "[WARN] [1644845244.239675]: minimum value is 3500 => set value to 0\n",
      "[WARN] [1644845244.249772]: minimum value is 3500 => set value to 0\n",
      "[WARN] [1644845244.257954]: minimum value is 3500 => set value to 0\n",
      "[WARN] [1644845244.267930]: minimum value is 3500 => set value to 0\n",
      "[WARN] [1644845244.277956]: minimum value is 3500 => set value to 0\n"
     ]
    },
    {
     "name": "stderr",
     "output_type": "stream",
     "text": [
      "[WARN] [1644845244.288059]: minimum value is 3500 => set value to 0\n",
      "[WARN] [1644845244.297953]: minimum value is 3500 => set value to 0\n",
      "[WARN] [1644845244.307993]: minimum value is 3500 => set value to 0\n",
      "[WARN] [1644845244.317963]: minimum value is 3500 => set value to 0\n",
      "[WARN] [1644845244.327950]: minimum value is 3500 => set value to 0\n",
      "[WARN] [1644845244.337951]: minimum value is 3500 => set value to 0\n",
      "[WARN] [1644845244.349856]: minimum value is 3500 => set value to 0\n",
      "[WARN] [1644845244.359769]: minimum value is 3500 => set value to 0\n",
      "[WARN] [1644845244.367923]: minimum value is 3500 => set value to 0\n",
      "[WARN] [1644845244.377927]: minimum value is 3500 => set value to 0\n",
      "[WARN] [1644845244.388016]: minimum value is 3500 => set value to 0\n",
      "[WARN] [1644845244.397930]: minimum value is 3500 => set value to 0\n",
      "[WARN] [1644845244.407933]: minimum value is 3500 => set value to 0\n",
      "[WARN] [1644845244.417978]: minimum value is 3500 => set value to 0\n",
      "[WARN] [1644845244.427949]: minimum value is 3500 => set value to 0\n",
      "[WARN] [1644845244.437893]: minimum value is 3500 => set value to 0\n",
      "[WARN] [1644845244.447900]: minimum value is 3500 => set value to 0\n",
      "[WARN] [1644845244.460902]: minimum value is 3500 => set value to 0\n",
      "[WARN] [1644845244.468086]: minimum value is 3500 => set value to 0\n",
      "[WARN] [1644845244.477901]: minimum value is 3500 => set value to 0\n",
      "[WARN] [1644845244.487916]: minimum value is 3500 => set value to 0\n",
      "[WARN] [1644845244.503392]: minimum value is 3500 => set value to 0\n",
      "[WARN] [1644845244.511890]: minimum value is 3500 => set value to 0\n",
      "[WARN] [1644845244.518932]: minimum value is 3500 => set value to 0\n",
      "[WARN] [1644845244.527951]: minimum value is 3500 => set value to 0\n",
      "[WARN] [1644845244.537944]: minimum value is 3500 => set value to 0\n",
      "[WARN] [1644845244.547947]: minimum value is 3500 => set value to 0\n",
      "[WARN] [1644845244.557897]: minimum value is 3500 => set value to 0\n",
      "[WARN] [1644845244.569781]: minimum value is 3500 => set value to 0\n",
      "[WARN] [1644845244.582535]: minimum value is 3500 => set value to 0\n",
      "[WARN] [1644845244.588280]: minimum value is 3500 => set value to 0\n",
      "[WARN] [1644845244.597927]: minimum value is 3500 => set value to 0\n",
      "[WARN] [1644845244.607952]: minimum value is 3500 => set value to 0\n",
      "[WARN] [1644845244.617969]: minimum value is 3500 => set value to 0\n",
      "[WARN] [1644845244.627943]: minimum value is 3500 => set value to 0\n",
      "[WARN] [1644845244.637981]: minimum value is 3500 => set value to 0\n",
      "[WARN] [1644845244.647951]: minimum value is 3500 => set value to 0\n",
      "[WARN] [1644845244.657904]: minimum value is 3500 => set value to 0\n",
      "[WARN] [1644845244.669708]: minimum value is 3500 => set value to 0\n",
      "[WARN] [1644845244.678156]: minimum value is 3500 => set value to 0\n",
      "[WARN] [1644845244.687976]: minimum value is 3500 => set value to 0\n",
      "[WARN] [1644845244.697954]: minimum value is 3500 => set value to 0\n",
      "[WARN] [1644845244.707950]: minimum value is 3500 => set value to 0\n",
      "[WARN] [1644845244.719451]: minimum value is 3500 => set value to 0\n",
      "[WARN] [1644845244.728088]: minimum value is 3500 => set value to 0\n",
      "[WARN] [1644845244.737962]: minimum value is 3500 => set value to 0\n",
      "[WARN] [1644845244.747967]: minimum value is 3500 => set value to 0\n",
      "[WARN] [1644845244.757947]: minimum value is 3500 => set value to 0\n",
      "[WARN] [1644845244.767889]: minimum value is 3500 => set value to 0\n",
      "[WARN] [1644845244.779654]: minimum value is 3500 => set value to 0\n",
      "[WARN] [1644845244.788021]: minimum value is 3500 => set value to 0\n",
      "[WARN] [1644845244.798565]: minimum value is 3500 => set value to 0\n",
      "[WARN] [1644845244.807962]: minimum value is 3500 => set value to 0\n",
      "[WARN] [1644845244.818008]: minimum value is 3500 => set value to 0\n",
      "[WARN] [1644845244.828016]: minimum value is 3500 => set value to 0\n",
      "[WARN] [1644845244.838021]: minimum value is 3500 => set value to 0\n",
      "[WARN] [1644845244.848019]: minimum value is 3500 => set value to 0\n",
      "[WARN] [1644845244.858008]: minimum value is 3500 => set value to 0\n",
      "[WARN] [1644845244.867917]: minimum value is 3500 => set value to 0\n",
      "[WARN] [1644845244.877892]: minimum value is 3500 => set value to 0\n",
      "[WARN] [1644845244.889922]: minimum value is 3500 => set value to 0\n",
      "[WARN] [1644845244.898131]: minimum value is 3500 => set value to 0\n",
      "[WARN] [1644845244.908024]: minimum value is 3500 => set value to 0\n",
      "[WARN] [1644845244.918016]: minimum value is 3500 => set value to 0\n",
      "[WARN] [1644845244.927932]: minimum value is 3500 => set value to 0\n",
      "[WARN] [1644845244.938053]: minimum value is 3500 => set value to 0\n",
      "[WARN] [1644845244.947962]: minimum value is 3500 => set value to 0\n",
      "[WARN] [1644845244.957924]: minimum value is 3500 => set value to 0\n",
      "[WARN] [1644845244.967926]: minimum value is 3500 => set value to 0\n",
      "[WARN] [1644845244.977899]: minimum value is 3500 => set value to 0\n",
      "[WARN] [1644845244.987916]: minimum value is 3500 => set value to 0\n",
      "[WARN] [1644845244.999578]: minimum value is 3500 => set value to 0\n",
      "[WARN] [1644845245.009425]: minimum value is 3500 => set value to 0\n",
      "[WARN] [1644845245.017918]: minimum value is 3500 => set value to 0\n",
      "[WARN] [1644845245.027885]: minimum value is 3500 => set value to 0\n",
      "[WARN] [1644845245.037907]: minimum value is 3500 => set value to 0\n",
      "[WARN] [1644845245.047892]: minimum value is 3500 => set value to 0\n",
      "[WARN] [1644845245.058031]: minimum value is 3500 => set value to 0\n",
      "[WARN] [1644845245.068059]: minimum value is 3500 => set value to 0\n",
      "[WARN] [1644845245.077954]: minimum value is 3500 => set value to 0\n",
      "[WARN] [1644845245.087955]: minimum value is 3500 => set value to 0\n",
      "[WARN] [1644845245.097980]: minimum value is 3500 => set value to 0\n",
      "[WARN] [1644845245.109654]: minimum value is 3500 => set value to 0\n",
      "[WARN] [1644845245.122938]: minimum value is 3500 => set value to 0\n",
      "[WARN] [1644845245.134051]: minimum value is 3500 => set value to 0\n",
      "[WARN] [1644845245.143365]: minimum value is 3500 => set value to 0\n",
      "[WARN] [1644845245.154339]: minimum value is 3500 => set value to 0\n",
      "[WARN] [1644845245.164609]: minimum value is 3500 => set value to 0\n",
      "[WARN] [1644845245.170285]: minimum value is 3500 => set value to 0\n",
      "[WARN] [1644845245.177889]: minimum value is 3500 => set value to 0\n",
      "[WARN] [1644845245.187899]: minimum value is 3500 => set value to 0\n",
      "[WARN] [1644845245.197901]: minimum value is 3500 => set value to 0\n",
      "[WARN] [1644845245.207902]: minimum value is 3500 => set value to 0\n",
      "[WARN] [1644845245.219594]: minimum value is 3500 => set value to 0\n",
      "[WARN] [1644845245.228817]: minimum value is 3500 => set value to 0\n",
      "[WARN] [1644845245.238004]: minimum value is 3500 => set value to 0\n",
      "[WARN] [1644845245.247940]: minimum value is 3500 => set value to 0\n",
      "[WARN] [1644845245.257899]: minimum value is 3500 => set value to 0\n",
      "[WARN] [1644845245.267937]: minimum value is 3500 => set value to 0\n",
      "[WARN] [1644845245.277904]: minimum value is 3500 => set value to 0\n",
      "[WARN] [1644845245.288010]: minimum value is 3500 => set value to 0\n",
      "[WARN] [1644845245.297917]: minimum value is 3500 => set value to 0\n",
      "[WARN] [1644845245.308012]: minimum value is 3500 => set value to 0\n",
      "[WARN] [1644845245.317903]: minimum value is 3500 => set value to 0\n",
      "[WARN] [1644845245.330599]: minimum value is 3500 => set value to 0\n",
      "[WARN] [1644845245.339429]: minimum value is 3500 => set value to 0\n",
      "[WARN] [1644845245.348111]: minimum value is 3500 => set value to 0\n",
      "[WARN] [1644845245.358056]: minimum value is 3500 => set value to 0\n",
      "[WARN] [1644845245.367905]: minimum value is 3500 => set value to 0\n",
      "[WARN] [1644845245.378142]: minimum value is 3500 => set value to 0\n",
      "[WARN] [1644845245.387918]: minimum value is 3500 => set value to 0\n",
      "[WARN] [1644845245.397908]: minimum value is 3500 => set value to 0\n",
      "[WARN] [1644845245.408033]: minimum value is 3500 => set value to 0\n",
      "[WARN] [1644845245.417996]: minimum value is 3500 => set value to 0\n",
      "[WARN] [1644845245.427945]: minimum value is 3500 => set value to 0\n",
      "[WARN] [1644845245.440579]: minimum value is 3500 => set value to 0\n",
      "[WARN] [1644845245.449793]: minimum value is 3500 => set value to 0\n",
      "[WARN] [1644845245.458941]: minimum value is 3500 => set value to 0\n",
      "[WARN] [1644845245.468046]: minimum value is 3500 => set value to 0\n",
      "[WARN] [1644845245.477904]: minimum value is 3500 => set value to 0\n",
      "[WARN] [1644845245.487901]: minimum value is 3500 => set value to 0\n",
      "[WARN] [1644845245.497942]: minimum value is 3500 => set value to 0\n",
      "[WARN] [1644845245.507978]: minimum value is 3500 => set value to 0\n",
      "[WARN] [1644845245.517925]: minimum value is 3500 => set value to 0\n",
      "[WARN] [1644845245.528013]: minimum value is 3500 => set value to 0\n",
      "[WARN] [1644845245.537906]: minimum value is 3500 => set value to 0\n"
     ]
    },
    {
     "name": "stderr",
     "output_type": "stream",
     "text": [
      "[WARN] [1644845245.549807]: minimum value is 3500 => set value to 0\n",
      "[WARN] [1644845245.558624]: minimum value is 3500 => set value to 0\n",
      "[WARN] [1644845245.568022]: minimum value is 3500 => set value to 0\n",
      "[WARN] [1644845245.577989]: minimum value is 3500 => set value to 0\n",
      "[WARN] [1644845245.587951]: minimum value is 3500 => set value to 0\n",
      "[WARN] [1644845245.597995]: minimum value is 3500 => set value to 0\n",
      "[WARN] [1644845245.607938]: minimum value is 3500 => set value to 0\n",
      "[WARN] [1644845245.617898]: minimum value is 3500 => set value to 0\n",
      "[WARN] [1644845245.627944]: minimum value is 3500 => set value to 0\n",
      "[WARN] [1644845245.638000]: minimum value is 3500 => set value to 0\n",
      "[WARN] [1644845245.647929]: minimum value is 3500 => set value to 0\n",
      "[WARN] [1644845245.659651]: minimum value is 3500 => set value to 0\n",
      "[WARN] [1644845245.668263]: minimum value is 3500 => set value to 0\n",
      "[WARN] [1644845245.678007]: minimum value is 3500 => set value to 0\n",
      "[WARN] [1644845245.687873]: minimum value is 3500 => set value to 0\n",
      "[WARN] [1644845245.697885]: minimum value is 3500 => set value to 0\n",
      "[WARN] [1644845245.707914]: minimum value is 3500 => set value to 0\n",
      "[WARN] [1644845245.717884]: minimum value is 3500 => set value to 0\n",
      "[WARN] [1644845245.727918]: minimum value is 3500 => set value to 0\n",
      "[WARN] [1644845245.738090]: minimum value is 3500 => set value to 0\n",
      "[WARN] [1644845245.747889]: minimum value is 3500 => set value to 0\n",
      "[WARN] [1644845245.757934]: minimum value is 3500 => set value to 0\n",
      "[WARN] [1644845245.770432]: minimum value is 3500 => set value to 0\n",
      "[WARN] [1644845245.782295]: minimum value is 3500 => set value to 0\n",
      "[WARN] [1644845245.793262]: minimum value is 3500 => set value to 0\n",
      "[WARN] [1644845245.799200]: minimum value is 3500 => set value to 0\n",
      "[WARN] [1644845245.807941]: minimum value is 3500 => set value to 0\n",
      "[WARN] [1644845245.818095]: minimum value is 3500 => set value to 0\n",
      "[WARN] [1644845245.827946]: minimum value is 3500 => set value to 0\n",
      "[WARN] [1644845245.837899]: minimum value is 3500 => set value to 0\n",
      "[WARN] [1644845245.847983]: minimum value is 3500 => set value to 0\n",
      "[WARN] [1644845245.857954]: minimum value is 3500 => set value to 0\n",
      "[WARN] [1644845245.867983]: minimum value is 3500 => set value to 0\n",
      "[WARN] [1644845245.879755]: minimum value is 3500 => set value to 0\n",
      "[WARN] [1644845245.889077]: minimum value is 3500 => set value to 0\n",
      "[WARN] [1644845245.897907]: minimum value is 3500 => set value to 0\n",
      "[WARN] [1644845245.907928]: minimum value is 3500 => set value to 0\n",
      "[WARN] [1644845245.917924]: minimum value is 3500 => set value to 0\n",
      "[WARN] [1644845245.928024]: minimum value is 3500 => set value to 0\n",
      "[WARN] [1644845245.937901]: minimum value is 3500 => set value to 0\n",
      "[WARN] [1644845245.947915]: minimum value is 3500 => set value to 0\n",
      "[WARN] [1644845245.958160]: minimum value is 3500 => set value to 0\n",
      "[WARN] [1644845245.967939]: minimum value is 3500 => set value to 0\n",
      "[WARN] [1644845245.978036]: minimum value is 3500 => set value to 0\n",
      "[WARN] [1644845245.989753]: minimum value is 3500 => set value to 0\n",
      "[WARN] [1644845245.998914]: minimum value is 3500 => set value to 0\n",
      "[WARN] [1644845246.008135]: minimum value is 3500 => set value to 0\n",
      "[WARN] [1644845246.017980]: minimum value is 3500 => set value to 0\n",
      "[WARN] [1644845246.027978]: minimum value is 3500 => set value to 0\n",
      "[WARN] [1644845246.038000]: minimum value is 3500 => set value to 0\n",
      "[WARN] [1644845246.048030]: minimum value is 3500 => set value to 0\n",
      "[WARN] [1644845246.058008]: minimum value is 3500 => set value to 0\n",
      "[WARN] [1644845246.068135]: minimum value is 3500 => set value to 0\n",
      "[WARN] [1644845246.078000]: minimum value is 3500 => set value to 0\n",
      "[WARN] [1644845246.092330]: minimum value is 3500 => set value to 0\n",
      "[WARN] [1644845246.104793]: minimum value is 3500 => set value to 0\n",
      "[WARN] [1644845246.113404]: minimum value is 3500 => set value to 0\n",
      "[WARN] [1644845246.122404]: minimum value is 3500 => set value to 0\n",
      "[WARN] [1644845246.129081]: minimum value is 3500 => set value to 0\n",
      "[WARN] [1644845246.138134]: minimum value is 3500 => set value to 0\n",
      "[WARN] [1644845246.148004]: minimum value is 3500 => set value to 0\n",
      "[WARN] [1644845246.157963]: minimum value is 3500 => set value to 0\n",
      "[WARN] [1644845246.168216]: minimum value is 3500 => set value to 0\n",
      "[WARN] [1644845246.179109]: minimum value is 3500 => set value to 0\n",
      "[WARN] [1644845246.193342]: minimum value is 3500 => set value to 0\n",
      "[WARN] [1644845246.203713]: minimum value is 3500 => set value to 0\n",
      "[WARN] [1644845246.211955]: minimum value is 3500 => set value to 0\n",
      "[WARN] [1644845246.219090]: minimum value is 3500 => set value to 0\n",
      "[WARN] [1644845246.228981]: minimum value is 3500 => set value to 0\n",
      "[WARN] [1644845246.237961]: minimum value is 3500 => set value to 0\n",
      "[WARN] [1644845246.248185]: minimum value is 3500 => set value to 0\n",
      "[WARN] [1644845246.258193]: minimum value is 3500 => set value to 0\n",
      "[WARN] [1644845246.268030]: minimum value is 3500 => set value to 0\n",
      "[WARN] [1644845246.278055]: minimum value is 3500 => set value to 0\n",
      "[WARN] [1644845246.288091]: minimum value is 3500 => set value to 0\n",
      "[WARN] [1644845246.300425]: minimum value is 3500 => set value to 0\n",
      "[WARN] [1644845246.312378]: minimum value is 3500 => set value to 0\n",
      "[WARN] [1644845246.318965]: minimum value is 3500 => set value to 0\n",
      "[WARN] [1644845246.328041]: minimum value is 3500 => set value to 0\n",
      "[WARN] [1644845246.338217]: minimum value is 3500 => set value to 0\n",
      "[WARN] [1644845246.347990]: minimum value is 3500 => set value to 0\n",
      "[WARN] [1644845246.358181]: minimum value is 3500 => set value to 0\n",
      "[WARN] [1644845246.367987]: minimum value is 3500 => set value to 0\n",
      "[WARN] [1644845246.378052]: minimum value is 3500 => set value to 0\n",
      "[WARN] [1644845246.388015]: minimum value is 3500 => set value to 0\n",
      "[WARN] [1644845246.397995]: minimum value is 3500 => set value to 0\n",
      "[WARN] [1644845246.410085]: minimum value is 3500 => set value to 0\n",
      "[WARN] [1644845246.418415]: minimum value is 3500 => set value to 0\n",
      "[WARN] [1644845246.427993]: minimum value is 3500 => set value to 0\n",
      "[WARN] [1644845246.437910]: minimum value is 3500 => set value to 0\n",
      "[WARN] [1644845246.447880]: minimum value is 3500 => set value to 0\n",
      "[WARN] [1644845246.457970]: minimum value is 3500 => set value to 0\n",
      "[WARN] [1644845246.467944]: minimum value is 3500 => set value to 0\n",
      "[WARN] [1644845246.477946]: minimum value is 3500 => set value to 0\n",
      "[WARN] [1644845246.487956]: minimum value is 3500 => set value to 0\n",
      "[WARN] [1644845246.497902]: minimum value is 3500 => set value to 0\n",
      "[WARN] [1644845246.507975]: minimum value is 3500 => set value to 0\n",
      "[WARN] [1644845246.519865]: minimum value is 3500 => set value to 0\n",
      "[WARN] [1644845246.527897]: minimum value is 3500 => set value to 0\n",
      "[WARN] [1644845246.538017]: minimum value is 3500 => set value to 0\n",
      "[WARN] [1644845246.548095]: minimum value is 3500 => set value to 0\n",
      "[WARN] [1644845246.558093]: minimum value is 3500 => set value to 0\n",
      "[WARN] [1644845246.568323]: minimum value is 3500 => set value to 0\n",
      "[WARN] [1644845246.579948]: minimum value is 3500 => set value to 0\n",
      "[WARN] [1644845246.589242]: minimum value is 3500 => set value to 0\n",
      "[WARN] [1644845246.603675]: minimum value is 3500 => set value to 0\n",
      "[WARN] [1644845246.614061]: minimum value is 3500 => set value to 0\n",
      "[WARN] [1644845246.628782]: minimum value is 3500 => set value to 0\n",
      "[WARN] [1644845246.643443]: minimum value is 3500 => set value to 0\n",
      "[WARN] [1644845246.654411]: minimum value is 3500 => set value to 0\n",
      "[WARN] [1644845246.668806]: minimum value is 3500 => set value to 0\n",
      "[WARN] [1644845246.678770]: minimum value is 3500 => set value to 0\n",
      "[WARN] [1644845246.689018]: minimum value is 3500 => set value to 0\n",
      "[WARN] [1644845246.700206]: minimum value is 3500 => set value to 0\n",
      "[WARN] [1644845246.712526]: minimum value is 3500 => set value to 0\n",
      "[WARN] [1644845246.718671]: minimum value is 3500 => set value to 0\n",
      "[WARN] [1644845246.728831]: minimum value is 3500 => set value to 0\n",
      "[WARN] [1644845246.738805]: minimum value is 3500 => set value to 0\n",
      "[WARN] [1644845246.754250]: minimum value is 3500 => set value to 0\n",
      "[WARN] [1644845246.763888]: minimum value is 3500 => set value to 0\n",
      "[WARN] [1644845246.772970]: minimum value is 3500 => set value to 0\n",
      "[WARN] [1644845246.778751]: minimum value is 3500 => set value to 0\n",
      "[WARN] [1644845246.788815]: minimum value is 3500 => set value to 0\n"
     ]
    },
    {
     "name": "stderr",
     "output_type": "stream",
     "text": [
      "[WARN] [1644845246.800682]: minimum value is 3500 => set value to 0\n",
      "[WARN] [1644845246.808915]: minimum value is 3500 => set value to 0\n",
      "[WARN] [1644845246.818849]: minimum value is 3500 => set value to 0\n",
      "[WARN] [1644845246.828697]: minimum value is 3500 => set value to 0\n",
      "[WARN] [1644845246.838735]: minimum value is 3500 => set value to 0\n",
      "[WARN] [1644845246.848706]: minimum value is 3500 => set value to 0\n",
      "[WARN] [1644845246.860787]: minimum value is 3500 => set value to 0\n",
      "[WARN] [1644845246.872426]: minimum value is 3500 => set value to 0\n",
      "[WARN] [1644845246.878719]: minimum value is 3500 => set value to 0\n",
      "[WARN] [1644845246.888718]: minimum value is 3500 => set value to 0\n",
      "[WARN] [1644845246.898686]: minimum value is 3500 => set value to 0\n",
      "[WARN] [1644845246.908708]: minimum value is 3500 => set value to 0\n",
      "[WARN] [1644845246.918720]: minimum value is 3500 => set value to 0\n",
      "[WARN] [1644845246.928703]: minimum value is 3500 => set value to 0\n",
      "[WARN] [1644845246.938696]: minimum value is 3500 => set value to 0\n",
      "[WARN] [1644845246.948736]: minimum value is 3500 => set value to 0\n",
      "[WARN] [1644845246.958704]: minimum value is 3500 => set value to 0\n",
      "[WARN] [1644845246.972690]: minimum value is 3500 => set value to 0\n",
      "[WARN] [1644845246.981739]: minimum value is 3500 => set value to 0\n",
      "[WARN] [1644845246.988666]: minimum value is 3500 => set value to 0\n",
      "[WARN] [1644845246.998682]: minimum value is 3500 => set value to 0\n",
      "[WARN] [1644845247.008818]: minimum value is 3500 => set value to 0\n",
      "[WARN] [1644845247.018766]: minimum value is 3500 => set value to 0\n",
      "[WARN] [1644845247.028786]: minimum value is 3500 => set value to 0\n",
      "[WARN] [1644845247.038681]: minimum value is 3500 => set value to 0\n",
      "[WARN] [1644845247.048772]: minimum value is 3500 => set value to 0\n",
      "[WARN] [1644845247.058841]: minimum value is 3500 => set value to 0\n",
      "[WARN] [1644845247.069013]: minimum value is 3500 => set value to 0\n",
      "[WARN] [1644845247.084019]: minimum value is 3500 => set value to 0\n",
      "[WARN] [1644845247.093730]: minimum value is 3500 => set value to 0\n",
      "[WARN] [1644845247.105203]: minimum value is 3500 => set value to 0\n",
      "[WARN] [1644845247.113462]: minimum value is 3500 => set value to 0\n",
      "[WARN] [1644845247.120912]: minimum value is 3500 => set value to 0\n",
      "[WARN] [1644845247.129900]: minimum value is 3500 => set value to 0\n",
      "[WARN] [1644845247.138737]: minimum value is 3500 => set value to 0\n",
      "[WARN] [1644845247.149739]: minimum value is 3500 => set value to 0\n",
      "[WARN] [1644845247.158823]: minimum value is 3500 => set value to 0\n",
      "[WARN] [1644845247.168759]: minimum value is 3500 => set value to 0\n",
      "[WARN] [1644845247.178816]: minimum value is 3500 => set value to 0\n",
      "[WARN] [1644845247.192638]: minimum value is 3500 => set value to 0\n",
      "[WARN] [1644845247.203390]: minimum value is 3500 => set value to 0\n",
      "[WARN] [1644845247.214934]: minimum value is 3500 => set value to 0\n",
      "[WARN] [1644845247.223877]: minimum value is 3500 => set value to 0\n",
      "[WARN] [1644845247.232322]: minimum value is 3500 => set value to 0\n",
      "[WARN] [1644845247.240638]: minimum value is 3500 => set value to 0\n",
      "[WARN] [1644845247.248685]: minimum value is 3500 => set value to 0\n",
      "[WARN] [1644845247.258784]: minimum value is 3500 => set value to 0\n",
      "[WARN] [1644845247.268686]: minimum value is 3500 => set value to 0\n",
      "[WARN] [1644845247.278760]: minimum value is 3500 => set value to 0\n",
      "[WARN] [1644845247.293222]: minimum value is 3500 => set value to 0\n",
      "[WARN] [1644845247.299683]: minimum value is 3500 => set value to 0\n",
      "[WARN] [1644845247.308842]: minimum value is 3500 => set value to 0\n",
      "[WARN] [1644845247.318665]: minimum value is 3500 => set value to 0\n",
      "[WARN] [1644845247.328680]: minimum value is 3500 => set value to 0\n",
      "[WARN] [1644845247.338680]: minimum value is 3500 => set value to 0\n",
      "[WARN] [1644845247.348669]: minimum value is 3500 => set value to 0\n",
      "[WARN] [1644845247.358671]: minimum value is 3500 => set value to 0\n",
      "[WARN] [1644845247.369185]: minimum value is 3500 => set value to 0\n",
      "[WARN] [1644845247.378823]: minimum value is 3500 => set value to 0\n",
      "[WARN] [1644845247.388716]: minimum value is 3500 => set value to 0\n",
      "[WARN] [1644845247.401187]: minimum value is 3500 => set value to 0\n",
      "[WARN] [1644845247.409959]: minimum value is 3500 => set value to 0\n",
      "[WARN] [1644845247.418732]: minimum value is 3500 => set value to 0\n",
      "[WARN] [1644845247.428781]: minimum value is 3500 => set value to 0\n",
      "[WARN] [1644845247.438807]: minimum value is 3500 => set value to 0\n",
      "[WARN] [1644845247.448942]: minimum value is 3500 => set value to 0\n",
      "[WARN] [1644845247.459420]: minimum value is 3500 => set value to 0\n",
      "[WARN] [1644845247.468694]: minimum value is 3500 => set value to 0\n",
      "[WARN] [1644845247.479157]: minimum value is 3500 => set value to 0\n",
      "[WARN] [1644845247.491574]: minimum value is 3500 => set value to 0\n",
      "[WARN] [1644845247.502533]: minimum value is 3500 => set value to 0\n",
      "[WARN] [1644845247.514985]: minimum value is 3500 => set value to 0\n",
      "[WARN] [1644845247.525496]: minimum value is 3500 => set value to 0\n",
      "[WARN] [1644845247.534825]: minimum value is 3500 => set value to 0\n",
      "[WARN] [1644845247.548026]: minimum value is 3500 => set value to 0\n",
      "[WARN] [1644845247.555864]: minimum value is 3500 => set value to 0\n",
      "[WARN] [1644845247.563007]: minimum value is 3500 => set value to 0\n",
      "[WARN] [1644845247.568948]: minimum value is 3500 => set value to 0\n",
      "[WARN] [1644845247.578721]: minimum value is 3500 => set value to 0\n",
      "[WARN] [1644845247.591675]: minimum value is 3500 => set value to 0\n",
      "[WARN] [1644845247.602103]: minimum value is 3500 => set value to 0\n",
      "[WARN] [1644845247.613351]: minimum value is 3500 => set value to 0\n",
      "[WARN] [1644845247.622989]: minimum value is 3500 => set value to 0\n",
      "[WARN] [1644845247.630411]: minimum value is 3500 => set value to 0\n",
      "[WARN] [1644845247.639978]: minimum value is 3500 => set value to 0\n",
      "[WARN] [1644845247.649796]: minimum value is 3500 => set value to 0\n",
      "[WARN] [1644845247.658671]: minimum value is 3500 => set value to 0\n",
      "[WARN] [1644845247.668684]: minimum value is 3500 => set value to 0\n",
      "[WARN] [1644845247.678686]: minimum value is 3500 => set value to 0\n",
      "[WARN] [1644845247.688771]: minimum value is 3500 => set value to 0\n",
      "[WARN] [1644845247.698742]: minimum value is 3500 => set value to 0\n",
      "[WARN] [1644845247.712575]: minimum value is 3500 => set value to 0\n",
      "[WARN] [1644845247.720209]: minimum value is 3500 => set value to 0\n",
      "[WARN] [1644845247.728649]: minimum value is 3500 => set value to 0\n",
      "[WARN] [1644845247.738728]: minimum value is 3500 => set value to 0\n",
      "[WARN] [1644845247.748690]: minimum value is 3500 => set value to 0\n",
      "[WARN] [1644845247.758679]: minimum value is 3500 => set value to 0\n",
      "[WARN] [1644845247.768699]: minimum value is 3500 => set value to 0\n",
      "[WARN] [1644845247.778729]: minimum value is 3500 => set value to 0\n",
      "[WARN] [1644845247.788771]: minimum value is 3500 => set value to 0\n",
      "[WARN] [1644845247.798683]: minimum value is 3500 => set value to 0\n",
      "[WARN] [1644845247.808666]: minimum value is 3500 => set value to 0\n",
      "[WARN] [1644845247.821672]: minimum value is 3500 => set value to 0\n",
      "[WARN] [1644845247.830519]: minimum value is 3500 => set value to 0\n",
      "[WARN] [1644845247.839570]: minimum value is 3500 => set value to 0\n",
      "[WARN] [1644845247.848840]: minimum value is 3500 => set value to 0\n",
      "[WARN] [1644845247.858951]: minimum value is 3500 => set value to 0\n",
      "[WARN] [1644845247.868686]: minimum value is 3500 => set value to 0\n",
      "[WARN] [1644845247.878741]: minimum value is 3500 => set value to 0\n",
      "[WARN] [1644845247.888695]: minimum value is 3500 => set value to 0\n",
      "[WARN] [1644845247.898685]: minimum value is 3500 => set value to 0\n",
      "[WARN] [1644845247.908833]: minimum value is 3500 => set value to 0\n",
      "[WARN] [1644845247.918798]: minimum value is 3500 => set value to 0\n",
      "[WARN] [1644845247.934593]: minimum value is 3500 => set value to 0\n",
      "[WARN] [1644845247.950329]: minimum value is 3500 => set value to 0\n",
      "[WARN] [1644845247.958111]: minimum value is 3500 => set value to 0\n",
      "[WARN] [1644845247.968151]: minimum value is 3500 => set value to 0\n",
      "[WARN] [1644845247.974357]: minimum value is 3500 => set value to 0\n",
      "[WARN] [1644845247.983417]: minimum value is 3500 => set value to 0\n",
      "[WARN] [1644845247.993882]: minimum value is 3500 => set value to 0\n",
      "[WARN] [1644845248.002399]: minimum value is 3500 => set value to 0\n",
      "[WARN] [1644845248.008797]: minimum value is 3500 => set value to 0\n",
      "[WARN] [1644845248.018682]: minimum value is 3500 => set value to 0\n",
      "[WARN] [1644845248.028858]: minimum value is 3500 => set value to 0\n"
     ]
    },
    {
     "name": "stderr",
     "output_type": "stream",
     "text": [
      "[WARN] [1644845248.043606]: minimum value is 3500 => set value to 0\n",
      "[WARN] [1644845248.053214]: minimum value is 3500 => set value to 0\n",
      "[WARN] [1644845248.062718]: minimum value is 3500 => set value to 0\n",
      "[WARN] [1644845248.068626]: minimum value is 3500 => set value to 0\n",
      "[WARN] [1644845248.078706]: minimum value is 3500 => set value to 0\n",
      "[WARN] [1644845248.088719]: minimum value is 3500 => set value to 0\n",
      "[WARN] [1644845248.098654]: minimum value is 3500 => set value to 0\n",
      "[WARN] [1644845248.108649]: minimum value is 3500 => set value to 0\n",
      "[WARN] [1644845248.118712]: minimum value is 3500 => set value to 0\n",
      "[WARN] [1644845248.128833]: minimum value is 3500 => set value to 0\n",
      "[WARN] [1644845248.138661]: minimum value is 3500 => set value to 0\n",
      "[WARN] [1644845248.150388]: minimum value is 3500 => set value to 0\n",
      "[WARN] [1644845248.160115]: minimum value is 3500 => set value to 0\n",
      "[WARN] [1644845248.169747]: minimum value is 3500 => set value to 0\n",
      "[WARN] [1644845248.178652]: minimum value is 3500 => set value to 0\n",
      "[WARN] [1644845248.188693]: minimum value is 3500 => set value to 0\n",
      "[WARN] [1644845248.198658]: minimum value is 3500 => set value to 0\n",
      "[WARN] [1644845248.208684]: minimum value is 3500 => set value to 0\n",
      "[WARN] [1644845248.218727]: minimum value is 3500 => set value to 0\n",
      "[WARN] [1644845248.228839]: minimum value is 3500 => set value to 0\n",
      "[WARN] [1644845248.238695]: minimum value is 3500 => set value to 0\n",
      "[WARN] [1644845248.248706]: minimum value is 3500 => set value to 0\n",
      "[WARN] [1644845248.260524]: minimum value is 3500 => set value to 0\n",
      "[WARN] [1644845248.269228]: minimum value is 3500 => set value to 0\n",
      "[WARN] [1644845248.278798]: minimum value is 3500 => set value to 0\n",
      "[WARN] [1644845248.288751]: minimum value is 3500 => set value to 0\n",
      "[WARN] [1644845248.298816]: minimum value is 3500 => set value to 0\n",
      "[WARN] [1644845248.308673]: minimum value is 3500 => set value to 0\n",
      "[WARN] [1644845248.318756]: minimum value is 3500 => set value to 0\n",
      "[WARN] [1644845248.328676]: minimum value is 3500 => set value to 0\n",
      "[WARN] [1644845248.338817]: minimum value is 3500 => set value to 0\n",
      "[WARN] [1644845248.348765]: minimum value is 3500 => set value to 0\n",
      "[WARN] [1644845248.358859]: minimum value is 3500 => set value to 0\n",
      "[WARN] [1644845248.373442]: minimum value is 3500 => set value to 0\n",
      "[WARN] [1644845248.382703]: minimum value is 3500 => set value to 0\n",
      "[WARN] [1644845248.397125]: minimum value is 3500 => set value to 0\n",
      "[WARN] [1644845248.405576]: minimum value is 3500 => set value to 0\n",
      "[WARN] [1644845248.414997]: minimum value is 3500 => set value to 0\n",
      "[WARN] [1644845248.424618]: minimum value is 3500 => set value to 0\n",
      "[WARN] [1644845248.432038]: minimum value is 3500 => set value to 0\n",
      "[WARN] [1644845248.442717]: minimum value is 3500 => set value to 0\n",
      "[WARN] [1644845248.448659]: minimum value is 3500 => set value to 0\n",
      "[WARN] [1644845248.459028]: minimum value is 3500 => set value to 0\n",
      "[WARN] [1644845248.468863]: minimum value is 3500 => set value to 0\n",
      "[WARN] [1644845248.482878]: minimum value is 3500 => set value to 0\n",
      "[WARN] [1644845248.492950]: minimum value is 3500 => set value to 0\n",
      "[WARN] [1644845248.499636]: minimum value is 3500 => set value to 0\n",
      "[WARN] [1644845248.509974]: minimum value is 3500 => set value to 0\n",
      "[WARN] [1644845248.519344]: minimum value is 3500 => set value to 0\n",
      "[WARN] [1644845248.529439]: minimum value is 3500 => set value to 0\n",
      "[WARN] [1644845248.538884]: minimum value is 3500 => set value to 0\n",
      "[WARN] [1644845248.548819]: minimum value is 3500 => set value to 0\n",
      "[WARN] [1644845248.558786]: minimum value is 3500 => set value to 0\n",
      "[WARN] [1644845248.570369]: minimum value is 3500 => set value to 0\n",
      "[WARN] [1644845248.578684]: minimum value is 3500 => set value to 0\n",
      "[WARN] [1644845248.590801]: minimum value is 3500 => set value to 0\n",
      "[WARN] [1644845248.599658]: minimum value is 3500 => set value to 0\n",
      "[WARN] [1644845248.608652]: minimum value is 3500 => set value to 0\n",
      "[WARN] [1644845248.618713]: minimum value is 3500 => set value to 0\n",
      "[WARN] [1644845248.628770]: minimum value is 3500 => set value to 0\n",
      "[WARN] [1644845248.638699]: minimum value is 3500 => set value to 0\n",
      "[WARN] [1644845248.648970]: minimum value is 3500 => set value to 0\n",
      "[WARN] [1644845248.658679]: minimum value is 3500 => set value to 0\n",
      "[WARN] [1644845248.668736]: minimum value is 3500 => set value to 0\n",
      "[WARN] [1644845248.678822]: minimum value is 3500 => set value to 0\n",
      "[WARN] [1644845248.688835]: minimum value is 3500 => set value to 0\n",
      "[WARN] [1644845248.703893]: minimum value is 3500 => set value to 0\n",
      "[WARN] [1644845248.713122]: minimum value is 3500 => set value to 0\n",
      "[WARN] [1644845248.719810]: minimum value is 3500 => set value to 0\n",
      "[WARN] [1644845248.728741]: minimum value is 3500 => set value to 0\n",
      "[WARN] [1644845248.738748]: minimum value is 3500 => set value to 0\n",
      "[WARN] [1644845248.750775]: minimum value is 3500 => set value to 0\n",
      "[WARN] [1644845248.758950]: minimum value is 3500 => set value to 0\n",
      "[WARN] [1644845248.768695]: minimum value is 3500 => set value to 0\n",
      "[WARN] [1644845248.778805]: minimum value is 3500 => set value to 0\n",
      "[WARN] [1644845248.788887]: minimum value is 3500 => set value to 0\n",
      "[WARN] [1644845248.799004]: minimum value is 3500 => set value to 0\n",
      "[WARN] [1644845248.815146]: minimum value is 3500 => set value to 0\n",
      "[WARN] [1644845248.825710]: minimum value is 3500 => set value to 0\n",
      "[WARN] [1644845248.834609]: minimum value is 3500 => set value to 0\n",
      "[WARN] [1644845248.844502]: minimum value is 3500 => set value to 0\n",
      "[WARN] [1644845248.854415]: minimum value is 3500 => set value to 0\n",
      "[WARN] [1644845248.863803]: minimum value is 3500 => set value to 0\n",
      "[WARN] [1644845248.871531]: minimum value is 3500 => set value to 0\n"
     ]
    },
    {
     "name": "stdout",
     "output_type": "stream",
     "text": [
      "[INFO] [1644845248.920388]: reached goal pose at step 1342 / 500000\n"
     ]
    },
    {
     "name": "stderr",
     "output_type": "stream",
     "text": [
      "[WARN] [1644845248.879614]: minimum value is 3500 => set value to 0\n",
      "[WARN] [1644845248.892424]: minimum value is 3500 => set value to 0\n",
      "[WARN] [1644845248.902218]: minimum value is 3500 => set value to 0\n",
      "[WARN] [1644845248.912868]: minimum value is 3500 => set value to 0\n"
     ]
    },
    {
     "data": {
      "application/vnd.jupyter.widget-view+json": {
       "model_id": "11b68599f7874e2995fb829b5c90ba2e",
       "version_major": 2,
       "version_minor": 0
      },
      "text/plain": [
       "  0%|          | 0/500000 [00:00<?, ?it/s]"
      ]
     },
     "metadata": {},
     "output_type": "display_data"
    },
    {
     "name": "stdout",
     "output_type": "stream",
     "text": [
      "[INFO] [1644845300.893462]: reached goal pose at step 5190 / 500000\n"
     ]
    },
    {
     "data": {
      "application/vnd.jupyter.widget-view+json": {
       "model_id": "7d07fcc9c88d4e00811a07c8a070fd4d",
       "version_major": 2,
       "version_minor": 0
      },
      "text/plain": [
       "  0%|          | 0/500000 [00:00<?, ?it/s]"
      ]
     },
     "metadata": {},
     "output_type": "display_data"
    },
    {
     "name": "stdout",
     "output_type": "stream",
     "text": [
      "[INFO] [1644845346.308421]: reached goal pose at step 4528 / 500000\n"
     ]
    },
    {
     "data": {
      "application/vnd.jupyter.widget-view+json": {
       "model_id": "98a87d3ffbf14a239df4c4ca906f0dfa",
       "version_major": 2,
       "version_minor": 0
      },
      "text/plain": [
       "  0%|          | 0/500000 [00:00<?, ?it/s]"
      ]
     },
     "metadata": {},
     "output_type": "display_data"
    },
    {
     "name": "stdout",
     "output_type": "stream",
     "text": [
      "[INFO] [1644845362.041609]: reached goal pose at step 1554 / 500000\n"
     ]
    },
    {
     "name": "stderr",
     "output_type": "stream",
     "text": [
      "[WARN] [1644845362.051117]: minimum value is 3500 => set value to 0\n"
     ]
    }
   ],
   "source": [
    "MoveLoop(pose=PrePoseA,v_max=0.2,rot_max=0.4,timeout=5000,rpm=0)\n",
    "MoveLoop(pose=CuttingPoseA,v_max=0.06,rot_max=0.02,timeout=5000,rpm=5000)\n",
    "MoveLoop(pose=CuttingPoseB,v_max=0.06,rot_max=0.02,timeout=5000,rpm=5000)\n",
    "MoveLoop(pose=PrePoseB,v_max=0.2,rot_max=0.4,timeout=5000,rpm=5000)\n",
    "cobot.tool_controller.rpm = 0"
   ]
  },
  {
   "cell_type": "code",
   "execution_count": 59,
   "id": "7bb50aa3",
   "metadata": {},
   "outputs": [
    {
     "name": "stderr",
     "output_type": "stream",
     "text": [
      "[WARN] [1644845113.825723]: minimum value is 3500 => set value to 0\n"
     ]
    }
   ],
   "source": [
    "cobot.tool_controller.rpm = 0"
   ]
  },
  {
   "cell_type": "code",
   "execution_count": 54,
   "id": "f048c501",
   "metadata": {},
   "outputs": [
    {
     "ename": "NameError",
     "evalue": "name 'Shaftgrinder_tf_1' is not defined",
     "output_type": "error",
     "traceback": [
      "\u001b[0;31m---------------------------------------------------------------------------\u001b[0m",
      "\u001b[0;31mNameError\u001b[0m                                 Traceback (most recent call last)",
      "\u001b[0;32m<ipython-input-54-64d2ea614ec7>\u001b[0m in \u001b[0;36m<module>\u001b[0;34m\u001b[0m\n\u001b[0;32m----> 1\u001b[0;31m \u001b[0mcobot\u001b[0m\u001b[0;34m.\u001b[0m\u001b[0mmove_to_pose\u001b[0m\u001b[0;34m(\u001b[0m\u001b[0mShaftgrinder_tf_1\u001b[0m\u001b[0;34m,\u001b[0m\u001b[0mv_max\u001b[0m\u001b[0;34m=\u001b[0m\u001b[0;36m0.01\u001b[0m\u001b[0;34m,\u001b[0m\u001b[0mrot_max\u001b[0m\u001b[0;34m=\u001b[0m\u001b[0;36m0.01\u001b[0m\u001b[0;34m)\u001b[0m\u001b[0;34m\u001b[0m\u001b[0;34m\u001b[0m\u001b[0m\n\u001b[0m",
      "\u001b[0;31mNameError\u001b[0m: name 'Shaftgrinder_tf_1' is not defined"
     ]
    }
   ],
   "source": [
    "cobot.move_to_pose(Shaftgrinder_tf_1,v_max=0.01,rot_max=0.01)"
   ]
  },
  {
   "cell_type": "code",
   "execution_count": 294,
   "id": "8f3f2017",
   "metadata": {},
   "outputs": [],
   "source": [
    "cobot.move_to_pose(PrePoseB,v_max=0.01,rot_max=0.01)"
   ]
  },
  {
   "cell_type": "code",
   "execution_count": 316,
   "id": "0426aa78",
   "metadata": {},
   "outputs": [
    {
     "data": {
      "application/vnd.jupyter.widget-view+json": {
       "model_id": "4cb33ef452de4c76a00ebb6d1b84cf4f",
       "version_major": 2,
       "version_minor": 0
      },
      "text/plain": [
       "  0%|          | 0/5000 [00:00<?, ?it/s]"
      ]
     },
     "metadata": {},
     "output_type": "display_data"
    },
    {
     "name": "stdout",
     "output_type": "stream",
     "text": [
      "[INFO] [1642071689.516240]: reached goal pose at step 1571 / 5000\n"
     ]
    },
    {
     "name": "stderr",
     "output_type": "stream",
     "text": [
      "[WARN] [1642072215.984281]: Inbound TCP/IP connection failed: connection from sender terminated before handshake header received. 0 bytes were received. Please check sender for additional details.\n",
      "[WARN] [1642072215.994999]: Inbound TCP/IP connection failed: connection from sender terminated before handshake header received. 0 bytes were received. Please check sender for additional details.\n",
      "[WARN] [1642072215.997932]: Inbound TCP/IP connection failed: connection from sender terminated before handshake header received. 0 bytes were received. Please check sender for additional details.\n"
     ]
    }
   ],
   "source": [
    "# executes the loop to move the robot\n",
    "T = int(50 * cobot.hz)\n",
    "for t in trange(T):\n",
    "    if cobot.state is None:\n",
    "        rospy.loginfo(f\"reached goal pose at step {t + 1} / {T}\")\n",
    "        break\n",
    "    elif cobot.state == \"error\":\n",
    "        rospy.logerr(f\"robot in ERROR state\")\n",
    "    cobot.update()"
   ]
  },
  {
   "cell_type": "markdown",
   "id": "dangerous-roller",
   "metadata": {},
   "source": [
    "### Emergency light"
   ]
  },
  {
   "cell_type": "markdown",
   "id": "anticipated-governor",
   "metadata": {},
   "source": [
    "#### Clips"
   ]
  },
  {
   "cell_type": "code",
   "execution_count": 17,
   "id": "ordered-glossary",
   "metadata": {},
   "outputs": [
    {
     "name": "stdout",
     "output_type": "stream",
     "text": [
      "[[-0.70759  0.70663 -0.0006   0.62456]\n",
      " [-0.00004  0.00081  1.      -0.00203]\n",
      " [ 0.70663  0.70759 -0.00055  0.26897]\n",
      " [ 0.       0.       0.       1.     ]]\n"
     ]
    }
   ],
   "source": [
    "# Shaftgrinder_tf_ELC = np.array([[-0.66991,  0.64932,  0.35999,  0.48663],\n",
    "#  [ 0.25544, -0.2537,   0.93295, -0.12696],\n",
    "#  [ 0.69711,  0.71695,  0.0041,   0.53644],\n",
    "#  [ 0. ,      0. ,      0.  ,     1.     ]])\n",
    "Shaftgrinder_tf_ELC = Shaftgrinder_tf\n",
    "print(Shaftgrinder_tf_ELC)\n",
    "toEE = np.array([0,0,0])"
   ]
  },
  {
   "cell_type": "code",
   "execution_count": 18,
   "id": "black-appreciation",
   "metadata": {},
   "outputs": [
    {
     "name": "stdout",
     "output_type": "stream",
     "text": [
      "  \u001b[38;5;1m-0.707585   \u001b[0m\u001b[38;5;1m 0.706628   \u001b[0m\u001b[38;5;1m-0.000599266\u001b[0m\u001b[38;5;4m 0.624559   \u001b[0m  \u001b[0m\n",
      "  \u001b[38;5;1m-3.66942e-05\u001b[0m\u001b[38;5;1m 0.00081132 \u001b[0m\u001b[38;5;1m 1          \u001b[0m\u001b[38;5;4m-0.00203192 \u001b[0m  \u001b[0m\n",
      "  \u001b[38;5;1m 0.706628   \u001b[0m\u001b[38;5;1m 0.707585   \u001b[0m\u001b[38;5;1m-0.000548149\u001b[0m\u001b[38;5;4m 0.268974   \u001b[0m  \u001b[0m\n",
      "  \u001b[38;5;244m 0          \u001b[0m\u001b[38;5;244m 0          \u001b[0m\u001b[38;5;244m 0          \u001b[0m\u001b[38;5;244m 1          \u001b[0m  \u001b[0m\n",
      "\n"
     ]
    }
   ],
   "source": [
    "print(cobot.FK(cobot.q))"
   ]
  },
  {
   "cell_type": "code",
   "execution_count": 22,
   "id": "respective-announcement",
   "metadata": {},
   "outputs": [],
   "source": [
    "cobot.tool_controller.rpm = 20000"
   ]
  },
  {
   "cell_type": "code",
   "execution_count": 61,
   "id": "418aee14",
   "metadata": {},
   "outputs": [],
   "source": [
    "cobot.tool_controller.enable_grinder()"
   ]
  },
  {
   "cell_type": "code",
   "execution_count": 62,
   "id": "2e57a314",
   "metadata": {},
   "outputs": [],
   "source": [
    "cobot.tool_controller.disable()"
   ]
  },
  {
   "cell_type": "code",
   "execution_count": 74,
   "id": "a5df7321",
   "metadata": {},
   "outputs": [
    {
     "data": {
      "text/plain": [
       "SE3:  \u001b[38;5;1m-0.70795    \u001b[0m\u001b[38;5;1m 0.706262   \u001b[0m\u001b[38;5;1m-0.000602564\u001b[0m\u001b[38;5;4m 0.463575   \u001b[0m  \u001b[0m\n",
       "      \u001b[38;5;1m 0.000131847\u001b[0m\u001b[38;5;1m 0.000985336\u001b[0m\u001b[38;5;1m 1          \u001b[0m\u001b[38;5;4m-0.301272   \u001b[0m  \u001b[0m\n",
       "      \u001b[38;5;1m 0.706262   \u001b[0m\u001b[38;5;1m 0.70795    \u001b[0m\u001b[38;5;1m-0.000790687\u001b[0m\u001b[38;5;4m 0.201447   \u001b[0m  \u001b[0m\n",
       "      \u001b[38;5;244m 0          \u001b[0m\u001b[38;5;244m 0          \u001b[0m\u001b[38;5;244m 0          \u001b[0m\u001b[38;5;244m 1          \u001b[0m  \u001b[0m\n",
       "    "
      ]
     },
     "execution_count": 74,
     "metadata": {},
     "output_type": "execute_result"
    }
   ],
   "source": [
    "cobot.FK(cobot.q)"
   ]
  },
  {
   "cell_type": "code",
   "execution_count": 57,
   "id": "aggressive-authority",
   "metadata": {},
   "outputs": [],
   "source": [
    "material= MaterialType()\n",
    "material = material.PLASTIC\n",
    "\n",
    "xstartELC = 0.4645\n",
    "ystartELC = -0.301272 \n",
    "zstartELC = 0.201447 \n",
    "\n",
    "\n",
    "normalA = hrr_cm.ros_utils.np2vector3stamped(np.r_[0,0,-1], \"normalA\")\n",
    "normalB = hrr_cm.ros_utils.np2vector3stamped(np.r_[0,0,-1], \"normalB\")\n",
    "\n",
    "pointA1 = hrr_cm.ros_utils.np2vector3stamped(np.r_[xstartELC,ystartELC,zstartELC], \"pointA1\")\n",
    "pointB1 = hrr_cm.ros_utils.np2vector3stamped(np.r_[xstartELC,ystartELC+0.012,zstartELC], \"pointB1\")\n",
    "\n",
    "pointA2 = hrr_cm.ros_utils.np2vector3stamped(np.r_[xstartELC,ystartELC+0.149,zstartELC], \"pointA2\")\n",
    "pointB2 = hrr_cm.ros_utils.np2vector3stamped(np.r_[xstartELC,ystartELC+0.012+0.149,zstartELC], \"pointB2\")\n",
    "\n",
    "pointA3 = hrr_cm.ros_utils.np2vector3stamped(np.r_[xstartELC,ystartELC+0.298,zstartELC], \"pointA3\")\n",
    "pointB3 = hrr_cm.ros_utils.np2vector3stamped(np.r_[xstartELC,ystartELC+0.012+0.298,zstartELC], \"pointB3\")\n",
    "\n",
    "pointA4 = hrr_cm.ros_utils.np2vector3stamped(np.r_[xstartELC+0.1635,ystartELC+0.298,zstartELC], \"pointA4\")\n",
    "pointB4 = hrr_cm.ros_utils.np2vector3stamped(np.r_[xstartELC+0.1635,ystartELC+0.012+0.298,zstartELC], \"pointB4\")\n",
    "\n",
    "pointA5 = hrr_cm.ros_utils.np2vector3stamped(np.r_[xstartELC+0.1635,ystartELC+0.149,zstartELC], \"pointA5\")\n",
    "pointB5 = hrr_cm.ros_utils.np2vector3stamped(np.r_[xstartELC+0.1635,ystartELC+0.012+0.149,zstartELC], \"pointB5\")\n",
    "\n",
    "pointA6 = hrr_cm.ros_utils.np2vector3stamped(np.r_[xstartELC+0.1635,ystartELC,zstartELC], \"pointA6\")\n",
    "pointB6 = hrr_cm.ros_utils.np2vector3stamped(np.r_[xstartELC+0.1635,ystartELC+0.012,zstartELC], \"pointB6\")\n"
   ]
  },
  {
   "cell_type": "code",
   "execution_count": 58,
   "id": "union-jungle",
   "metadata": {},
   "outputs": [],
   "source": [
    "PrePoseA1, PrePoseB1, CuttingPoseA1, CuttingPoseB1 = points_to_poses(normalA=normalA, normalB=normalB, pointA=pointA1, pointB=pointB1, \n",
    "                                                                     safety_distance=0.05, cuttingdepth=0.017, \n",
    "                                                                     Shaftgrinder_tf = Shaftgrinder_tf_ELC, toEE=toEE)\n",
    "\n",
    "PrePoseA2, PrePoseB2, CuttingPoseA2, CuttingPoseB2 = points_to_poses(normalA=normalA, normalB=normalB, pointA=pointA2, pointB=pointB2,\n",
    "                                                                    safety_distance=0.05, cuttingdepth=0.017,\n",
    "                                                                    Shaftgrinder_tf = Shaftgrinder_tf_ELC, toEE=toEE)\n",
    "\n",
    "PrePoseA3, PrePoseB3, CuttingPoseA3, CuttingPoseB3 = points_to_poses(normalA=normalA, normalB=normalB, pointA=pointA3, pointB=pointB3,\n",
    "                                                                     safety_distance=0.05, cuttingdepth=0.017,\n",
    "                                                                    Shaftgrinder_tf = Shaftgrinder_tf_ELC, toEE=toEE)\n",
    "\n",
    "\n",
    "PrePoseA4, PrePoseB4, CuttingPoseA4, CuttingPoseB4 = points_to_poses(normalA=normalA, normalB=normalB, pointA=pointA4, pointB=pointB4,\n",
    "                                                                    safety_distance=0.05, cuttingdepth=0.017,\n",
    "                                                                    Shaftgrinder_tf = Shaftgrinder_tf_ELC,toEE=toEE)\n",
    "\n",
    "PrePoseA5, PrePoseB5, CuttingPoseA5, CuttingPoseB5 = points_to_poses(normalA=normalA, normalB=normalB, pointA=pointA5, pointB=pointB5,\n",
    "                                                                    safety_distance=0.05, cuttingdepth=0.017,\n",
    "                                                                    Shaftgrinder_tf = Shaftgrinder_tf_ELC, toEE=toEE)\n",
    "\n",
    "PrePoseA6, PrePoseB6, CuttingPoseA6, CuttingPoseB6 = points_to_poses(normalA=normalA, normalB=normalB, pointA=pointA6, pointB=pointB6,\n",
    "                                                                    safety_distance=0.05, cuttingdepth=0.017,\n",
    "                                                                    Shaftgrinder_tf = Shaftgrinder_tf_ELC, toEE=toEE)"
   ]
  },
  {
   "cell_type": "code",
   "execution_count": 24,
   "id": "c6f42bbd",
   "metadata": {},
   "outputs": [],
   "source": [
    "cobot.move_to_pose(PrePoseA1,v_max=0.01,rot_max=0.01)"
   ]
  },
  {
   "cell_type": "code",
   "execution_count": 31,
   "id": "f5d8a776",
   "metadata": {},
   "outputs": [],
   "source": [
    "cobot.move_to_pose(Shaftgrinder_tf_1,v_max=0.01,rot_max=0.01)"
   ]
  },
  {
   "cell_type": "code",
   "execution_count": 44,
   "id": "8174e3e6",
   "metadata": {},
   "outputs": [],
   "source": [
    "cobot.F_max = 120"
   ]
  },
  {
   "cell_type": "code",
   "execution_count": 22,
   "id": "cellular-puppy",
   "metadata": {},
   "outputs": [
    {
     "name": "stdout",
     "output_type": "stream",
     "text": [
      "  \u001b[38;5;1m-0.708026   \u001b[0m\u001b[38;5;1m 0.706186   \u001b[0m\u001b[38;5;1m-0.000495976\u001b[0m\u001b[38;5;4m 0.473603   \u001b[0m  \u001b[0m\n",
      "  \u001b[38;5;1m 0.000275104\u001b[0m\u001b[38;5;1m 0.000978151\u001b[0m\u001b[38;5;1m 0.999999   \u001b[0m\u001b[38;5;4m-0.302272   \u001b[0m  \u001b[0m\n",
      "  \u001b[38;5;1m 0.706187   \u001b[0m\u001b[38;5;1m 0.708025   \u001b[0m\u001b[38;5;1m-0.000886831\u001b[0m\u001b[38;5;4m 0.184092   \u001b[0m  \u001b[0m\n",
      "  \u001b[38;5;244m 0          \u001b[0m\u001b[38;5;244m 0          \u001b[0m\u001b[38;5;244m 0          \u001b[0m\u001b[38;5;244m 1          \u001b[0m  \u001b[0m\n",
      "\n",
      "  \u001b[38;5;1m-0.708026   \u001b[0m\u001b[38;5;1m 0.706186   \u001b[0m\u001b[38;5;1m-0.000495976\u001b[0m\u001b[38;5;4m 0.473603   \u001b[0m  \u001b[0m\n",
      "  \u001b[38;5;1m 0.000275104\u001b[0m\u001b[38;5;1m 0.000978151\u001b[0m\u001b[38;5;1m 0.999999   \u001b[0m\u001b[38;5;4m-0.290272   \u001b[0m  \u001b[0m\n",
      "  \u001b[38;5;1m 0.706187   \u001b[0m\u001b[38;5;1m 0.708025   \u001b[0m\u001b[38;5;1m-0.000886831\u001b[0m\u001b[38;5;4m 0.249092   \u001b[0m  \u001b[0m\n",
      "  \u001b[38;5;244m 0          \u001b[0m\u001b[38;5;244m 0          \u001b[0m\u001b[38;5;244m 0          \u001b[0m\u001b[38;5;244m 1          \u001b[0m  \u001b[0m\n",
      "\n"
     ]
    }
   ],
   "source": [
    "print(CuttingPoseA1)\n",
    "print(PrePoseB1)"
   ]
  },
  {
   "cell_type": "code",
   "execution_count": 23,
   "id": "3d44b42d",
   "metadata": {},
   "outputs": [
    {
     "name": "stdout",
     "output_type": "stream",
     "text": [
      "  \u001b[38;5;1m-0.708026   \u001b[0m\u001b[38;5;1m 0.706186   \u001b[0m\u001b[38;5;1m-0.000495976\u001b[0m\u001b[38;5;4m 0.473603   \u001b[0m  \u001b[0m\n",
      "  \u001b[38;5;1m 0.000275104\u001b[0m\u001b[38;5;1m 0.000978151\u001b[0m\u001b[38;5;1m 0.999999   \u001b[0m\u001b[38;5;4m-0.302272   \u001b[0m  \u001b[0m\n",
      "  \u001b[38;5;1m 0.706187   \u001b[0m\u001b[38;5;1m 0.708025   \u001b[0m\u001b[38;5;1m-0.000886831\u001b[0m\u001b[38;5;4m 0.199092   \u001b[0m  \u001b[0m\n",
      "  \u001b[38;5;244m 0          \u001b[0m\u001b[38;5;244m 0          \u001b[0m\u001b[38;5;244m 0          \u001b[0m\u001b[38;5;244m 1          \u001b[0m  \u001b[0m\n",
      "\n"
     ]
    }
   ],
   "source": [
    "print(cobot.FK(cobot.q))"
   ]
  },
  {
   "cell_type": "code",
   "execution_count": 63,
   "id": "copyrighted-drama",
   "metadata": {
    "scrolled": true
   },
   "outputs": [
    {
     "data": {
      "application/vnd.jupyter.widget-view+json": {
       "model_id": "7b38374f7b7046c790aad2bbf8d25113",
       "version_major": 2,
       "version_minor": 0
      },
      "text/plain": [
       "  0%|          | 0/500000 [00:00<?, ?it/s]"
      ]
     },
     "metadata": {},
     "output_type": "display_data"
    },
    {
     "name": "stdout",
     "output_type": "stream",
     "text": [
      "[INFO] [1642001429.084635]: reached goal pose at step 1220 / 500000\n"
     ]
    },
    {
     "data": {
      "application/vnd.jupyter.widget-view+json": {
       "model_id": "4704dd648a7d4c0e9848938b75cf9daf",
       "version_major": 2,
       "version_minor": 0
      },
      "text/plain": [
       "  0%|          | 0/500000 [00:00<?, ?it/s]"
      ]
     },
     "metadata": {},
     "output_type": "display_data"
    },
    {
     "name": "stdout",
     "output_type": "stream",
     "text": [
      "[INFO] [1642001457.240581]: reached goal pose at step 2809 / 500000\n"
     ]
    },
    {
     "data": {
      "application/vnd.jupyter.widget-view+json": {
       "model_id": "acfdeda255c64018a8d2b25eb54a793f",
       "version_major": 2,
       "version_minor": 0
      },
      "text/plain": [
       "  0%|          | 0/500000 [00:00<?, ?it/s]"
      ]
     },
     "metadata": {},
     "output_type": "display_data"
    },
    {
     "name": "stdout",
     "output_type": "stream",
     "text": [
      "[INFO] [1642001473.307782]: reached goal pose at step 1600 / 500000\n"
     ]
    },
    {
     "data": {
      "application/vnd.jupyter.widget-view+json": {
       "model_id": "09b2f807a5134f139f94efec5e58c99d",
       "version_major": 2,
       "version_minor": 0
      },
      "text/plain": [
       "  0%|          | 0/500000 [00:00<?, ?it/s]"
      ]
     },
     "metadata": {},
     "output_type": "display_data"
    },
    {
     "name": "stdout",
     "output_type": "stream",
     "text": [
      "[INFO] [1642001481.700206]: reached goal pose at step 833 / 500000\n"
     ]
    },
    {
     "data": {
      "application/vnd.jupyter.widget-view+json": {
       "model_id": "5f5b2d6541324ba48a691c9b42aa3010",
       "version_major": 2,
       "version_minor": 0
      },
      "text/plain": [
       "  0%|          | 0/500000 [00:00<?, ?it/s]"
      ]
     },
     "metadata": {},
     "output_type": "display_data"
    },
    {
     "name": "stdout",
     "output_type": "stream",
     "text": [
      "[INFO] [1642001491.571160]: reached goal pose at step 980 / 500000\n"
     ]
    },
    {
     "data": {
      "application/vnd.jupyter.widget-view+json": {
       "model_id": "747c04ff4a664b0d802f0957dde82612",
       "version_major": 2,
       "version_minor": 0
      },
      "text/plain": [
       "  0%|          | 0/500000 [00:00<?, ?it/s]"
      ]
     },
     "metadata": {},
     "output_type": "display_data"
    },
    {
     "name": "stdout",
     "output_type": "stream",
     "text": [
      "[INFO] [1642001519.529597]: reached goal pose at step 2789 / 500000\n"
     ]
    },
    {
     "data": {
      "application/vnd.jupyter.widget-view+json": {
       "model_id": "7e12e7595b41415eb26c99f2d014f65d",
       "version_major": 2,
       "version_minor": 0
      },
      "text/plain": [
       "  0%|          | 0/500000 [00:00<?, ?it/s]"
      ]
     },
     "metadata": {},
     "output_type": "display_data"
    },
    {
     "name": "stdout",
     "output_type": "stream",
     "text": [
      "[INFO] [1642001536.683042]: reached goal pose at step 1709 / 500000\n"
     ]
    },
    {
     "data": {
      "application/vnd.jupyter.widget-view+json": {
       "model_id": "a822056f18a941628ca0a1c5acf439a2",
       "version_major": 2,
       "version_minor": 0
      },
      "text/plain": [
       "  0%|          | 0/500000 [00:00<?, ?it/s]"
      ]
     },
     "metadata": {},
     "output_type": "display_data"
    },
    {
     "name": "stdout",
     "output_type": "stream",
     "text": [
      "[INFO] [1642001545.071883]: reached goal pose at step 834 / 500000\n"
     ]
    },
    {
     "data": {
      "application/vnd.jupyter.widget-view+json": {
       "model_id": "38cc551a64054413b7ba8d2c17fcf95c",
       "version_major": 2,
       "version_minor": 0
      },
      "text/plain": [
       "  0%|          | 0/500000 [00:00<?, ?it/s]"
      ]
     },
     "metadata": {},
     "output_type": "display_data"
    },
    {
     "name": "stdout",
     "output_type": "stream",
     "text": [
      "[INFO] [1642001554.939150]: reached goal pose at step 981 / 500000\n"
     ]
    },
    {
     "data": {
      "application/vnd.jupyter.widget-view+json": {
       "model_id": "30b4115be4414fbb967e2e37bd130ecc",
       "version_major": 2,
       "version_minor": 0
      },
      "text/plain": [
       "  0%|          | 0/500000 [00:00<?, ?it/s]"
      ]
     },
     "metadata": {},
     "output_type": "display_data"
    },
    {
     "name": "stdout",
     "output_type": "stream",
     "text": [
      "[INFO] [1642001582.882739]: reached goal pose at step 2788 / 500000\n"
     ]
    },
    {
     "data": {
      "application/vnd.jupyter.widget-view+json": {
       "model_id": "f1d7323d5aa747a1905830b0408a1a58",
       "version_major": 2,
       "version_minor": 0
      },
      "text/plain": [
       "  0%|          | 0/500000 [00:00<?, ?it/s]"
      ]
     },
     "metadata": {},
     "output_type": "display_data"
    },
    {
     "name": "stdout",
     "output_type": "stream",
     "text": [
      "[INFO] [1642001600.055122]: reached goal pose at step 1710 / 500000\n"
     ]
    },
    {
     "data": {
      "application/vnd.jupyter.widget-view+json": {
       "model_id": "29dab49a11104c6d89c3bc95eb194e52",
       "version_major": 2,
       "version_minor": 0
      },
      "text/plain": [
       "  0%|          | 0/500000 [00:00<?, ?it/s]"
      ]
     },
     "metadata": {},
     "output_type": "display_data"
    },
    {
     "name": "stdout",
     "output_type": "stream",
     "text": [
      "[INFO] [1642001608.450908]: reached goal pose at step 834 / 500000\n"
     ]
    },
    {
     "data": {
      "application/vnd.jupyter.widget-view+json": {
       "model_id": "9d9c678afac64cb4abf07fe8ee29de95",
       "version_major": 2,
       "version_minor": 0
      },
      "text/plain": [
       "  0%|          | 0/500000 [00:00<?, ?it/s]"
      ]
     },
     "metadata": {},
     "output_type": "display_data"
    },
    {
     "name": "stdout",
     "output_type": "stream",
     "text": [
      "[INFO] [1642001618.669613]: reached goal pose at step 1016 / 500000\n"
     ]
    },
    {
     "data": {
      "application/vnd.jupyter.widget-view+json": {
       "model_id": "5a49829769894fc08ef5431835f1bef6",
       "version_major": 2,
       "version_minor": 0
      },
      "text/plain": [
       "  0%|          | 0/500000 [00:00<?, ?it/s]"
      ]
     },
     "metadata": {},
     "output_type": "display_data"
    },
    {
     "name": "stdout",
     "output_type": "stream",
     "text": [
      "[INFO] [1642001646.644312]: reached goal pose at step 2791 / 500000\n"
     ]
    },
    {
     "data": {
      "application/vnd.jupyter.widget-view+json": {
       "model_id": "69a5b7d26cb4410aa19ff2e8db4bd1ce",
       "version_major": 2,
       "version_minor": 0
      },
      "text/plain": [
       "  0%|          | 0/500000 [00:00<?, ?it/s]"
      ]
     },
     "metadata": {},
     "output_type": "display_data"
    },
    {
     "name": "stdout",
     "output_type": "stream",
     "text": [
      "[INFO] [1642001662.684220]: reached goal pose at step 1599 / 500000\n"
     ]
    },
    {
     "data": {
      "application/vnd.jupyter.widget-view+json": {
       "model_id": "4ad1c50426674b258e18fffa06d97aee",
       "version_major": 2,
       "version_minor": 0
      },
      "text/plain": [
       "  0%|          | 0/500000 [00:00<?, ?it/s]"
      ]
     },
     "metadata": {},
     "output_type": "display_data"
    },
    {
     "name": "stdout",
     "output_type": "stream",
     "text": [
      "[INFO] [1642001671.099130]: reached goal pose at step 835 / 500000\n"
     ]
    },
    {
     "data": {
      "application/vnd.jupyter.widget-view+json": {
       "model_id": "586f397025c54103aafae1d43d800cc5",
       "version_major": 2,
       "version_minor": 0
      },
      "text/plain": [
       "  0%|          | 0/500000 [00:00<?, ?it/s]"
      ]
     },
     "metadata": {},
     "output_type": "display_data"
    },
    {
     "name": "stdout",
     "output_type": "stream",
     "text": [
      "[INFO] [1642001681.261969]: reached goal pose at step 1010 / 500000\n"
     ]
    },
    {
     "data": {
      "application/vnd.jupyter.widget-view+json": {
       "model_id": "a53a9a4f252c4eb99aa6fe2996d8a571",
       "version_major": 2,
       "version_minor": 0
      },
      "text/plain": [
       "  0%|          | 0/500000 [00:00<?, ?it/s]"
      ]
     },
     "metadata": {},
     "output_type": "display_data"
    },
    {
     "name": "stdout",
     "output_type": "stream",
     "text": [
      "[INFO] [1642001709.218890]: reached goal pose at step 2790 / 500000\n"
     ]
    },
    {
     "data": {
      "application/vnd.jupyter.widget-view+json": {
       "model_id": "1c722e35c1a04d1db45bbd132f51de1c",
       "version_major": 2,
       "version_minor": 0
      },
      "text/plain": [
       "  0%|          | 0/500000 [00:00<?, ?it/s]"
      ]
     },
     "metadata": {},
     "output_type": "display_data"
    },
    {
     "name": "stdout",
     "output_type": "stream",
     "text": [
      "[INFO] [1642001725.278421]: reached goal pose at step 1600 / 500000\n"
     ]
    },
    {
     "data": {
      "application/vnd.jupyter.widget-view+json": {
       "model_id": "57e7c9de30cf43caad62de5f8bfb2615",
       "version_major": 2,
       "version_minor": 0
      },
      "text/plain": [
       "  0%|          | 0/500000 [00:00<?, ?it/s]"
      ]
     },
     "metadata": {},
     "output_type": "display_data"
    },
    {
     "name": "stdout",
     "output_type": "stream",
     "text": [
      "[INFO] [1642001733.683774]: reached goal pose at step 835 / 500000\n"
     ]
    },
    {
     "data": {
      "application/vnd.jupyter.widget-view+json": {
       "model_id": "fa4fc42796da454892b0da1ff7ca5d9c",
       "version_major": 2,
       "version_minor": 0
      },
      "text/plain": [
       "  0%|          | 0/500000 [00:00<?, ?it/s]"
      ]
     },
     "metadata": {},
     "output_type": "display_data"
    },
    {
     "name": "stdout",
     "output_type": "stream",
     "text": [
      "[INFO] [1642001743.856080]: reached goal pose at step 1011 / 500000\n"
     ]
    },
    {
     "data": {
      "application/vnd.jupyter.widget-view+json": {
       "model_id": "3aa6c181276d4d04b6f9a16ede5e7146",
       "version_major": 2,
       "version_minor": 0
      },
      "text/plain": [
       "  0%|          | 0/500000 [00:00<?, ?it/s]"
      ]
     },
     "metadata": {},
     "output_type": "display_data"
    },
    {
     "name": "stdout",
     "output_type": "stream",
     "text": [
      "[INFO] [1642001771.818265]: reached goal pose at step 2790 / 500000\n"
     ]
    },
    {
     "data": {
      "application/vnd.jupyter.widget-view+json": {
       "model_id": "b29f2bfe9cfd4ec88c36d9c0ebc8613c",
       "version_major": 2,
       "version_minor": 0
      },
      "text/plain": [
       "  0%|          | 0/500000 [00:00<?, ?it/s]"
      ]
     },
     "metadata": {},
     "output_type": "display_data"
    },
    {
     "name": "stdout",
     "output_type": "stream",
     "text": [
      "[INFO] [1642001787.878949]: reached goal pose at step 1600 / 500000\n"
     ]
    },
    {
     "data": {
      "application/vnd.jupyter.widget-view+json": {
       "model_id": "b0dcc72f76454a59a29c4d8d4ec1308d",
       "version_major": 2,
       "version_minor": 0
      },
      "text/plain": [
       "  0%|          | 0/500000 [00:00<?, ?it/s]"
      ]
     },
     "metadata": {},
     "output_type": "display_data"
    },
    {
     "name": "stdout",
     "output_type": "stream",
     "text": [
      "[INFO] [1642001796.278923]: reached goal pose at step 834 / 500000\n"
     ]
    }
   ],
   "source": [
    "Move_to_all_Poses(PrePoseA=PrePoseA1,PrePoseB=PrePoseB1,CuttingPoseA=CuttingPoseA1,CuttingPoseB=CuttingPoseB1,rpm=17000)\n",
    "\n",
    "Move_to_all_Poses(PrePoseA=PrePoseA2,PrePoseB=PrePoseB2,CuttingPoseA=CuttingPoseA2,CuttingPoseB=CuttingPoseB2,rpm=17000)\n",
    "\n",
    "Move_to_all_Poses(PrePoseA=PrePoseA3,PrePoseB=PrePoseB3,CuttingPoseA=CuttingPoseA3,CuttingPoseB=CuttingPoseB3,rpm=17000)\n",
    "\n",
    "Move_to_all_Poses(PrePoseA=PrePoseA4,PrePoseB=PrePoseB4,CuttingPoseA=CuttingPoseA4,CuttingPoseB=CuttingPoseB4,rpm=17000)\n",
    "\n",
    "Move_to_all_Poses(PrePoseA=PrePoseA5,PrePoseB=PrePoseB5,CuttingPoseA=CuttingPoseA5,CuttingPoseB=CuttingPoseB5,rpm=17000)\n",
    "\n",
    "Move_to_all_Poses(PrePoseA=PrePoseA6,PrePoseB=PrePoseB6,CuttingPoseA=CuttingPoseA6,CuttingPoseB=CuttingPoseB6,rpm=17000)"
   ]
  },
  {
   "cell_type": "code",
   "execution_count": 69,
   "id": "08081266",
   "metadata": {},
   "outputs": [],
   "source": [
    "cobot.tool_controller.disable()"
   ]
  },
  {
   "cell_type": "code",
   "execution_count": 29,
   "id": "957bff28",
   "metadata": {},
   "outputs": [],
   "source": [
    "cobot.move_to_pose(PrePoseA6,v_max=0.01,rot_max=0.01)"
   ]
  },
  {
   "cell_type": "code",
   "execution_count": 50,
   "id": "826158ca",
   "metadata": {},
   "outputs": [
    {
     "data": {
      "text/plain": [
       "'cart_servo'"
      ]
     },
     "execution_count": 50,
     "metadata": {},
     "output_type": "execute_result"
    }
   ],
   "source": [
    "cobot.state"
   ]
  },
  {
   "cell_type": "code",
   "execution_count": 64,
   "id": "3c5eda3c",
   "metadata": {},
   "outputs": [],
   "source": [
    "cobot.move_to_pose(Shaftgrinder_tf_1,v_max=0.01,rot_max=0.01)"
   ]
  },
  {
   "cell_type": "code",
   "execution_count": 65,
   "id": "8c357b80",
   "metadata": {},
   "outputs": [
    {
     "data": {
      "application/vnd.jupyter.widget-view+json": {
       "model_id": "134c5298714147d7a0ec524d2163d925",
       "version_major": 2,
       "version_minor": 0
      },
      "text/plain": [
       "  0%|          | 0/5000 [00:00<?, ?it/s]"
      ]
     },
     "metadata": {},
     "output_type": "display_data"
    },
    {
     "name": "stdout",
     "output_type": "stream",
     "text": [
      "[INFO] [1642001824.071844]: reached goal pose at step 2192 / 5000\n"
     ]
    }
   ],
   "source": [
    "# executes the loop to move the robot\n",
    "T = int(50 * cobot.hz)\n",
    "for t in trange(T):\n",
    "    if cobot.state is None:\n",
    "        rospy.loginfo(f\"reached goal pose at step {t + 1} / {T}\")\n",
    "        break\n",
    "    elif cobot.state == \"error\":\n",
    "        rospy.logerr(f\"robot in ERROR state\")\n",
    "    cobot.update()"
   ]
  },
  {
   "cell_type": "markdown",
   "id": "hairy-identity",
   "metadata": {},
   "source": [
    "#### Cable"
   ]
  },
  {
   "cell_type": "code",
   "execution_count": 17,
   "id": "perceived-toilet",
   "metadata": {},
   "outputs": [
    {
     "name": "stdout",
     "output_type": "stream",
     "text": [
      "[[-0.70739  0.70682 -0.00088  0.50726]\n",
      " [-0.00038  0.00086  1.      -0.17459]\n",
      " [ 0.70682  0.70739 -0.00034  0.17061]\n",
      " [ 0.       0.       0.       1.     ]]\n"
     ]
    }
   ],
   "source": [
    "# Shaftgrinder_tf_ELK = np.array([[-0.66991,  0.64932,  0.35999,  0.48663],\n",
    "#  [ 0.25544, -0.2537,   0.93295, -0.12696],\n",
    "#  [ 0.69711,  0.71695,  0.0041,   0.53644],\n",
    "#  [ 0. ,      0. ,      0.  ,     1.     ]])\n",
    "Shaftgrinder_tf_ELK = Shaftgrinder_tf\n",
    "\n",
    "print(Shaftgrinder_tf_ELK)\n",
    "toEE = np.array([0,0,0])"
   ]
  },
  {
   "cell_type": "code",
   "execution_count": 67,
   "id": "pacific-murray",
   "metadata": {},
   "outputs": [],
   "source": [
    "cobot.tool_controller.rpm = 20000"
   ]
  },
  {
   "cell_type": "code",
   "execution_count": 70,
   "id": "aac7432f",
   "metadata": {},
   "outputs": [],
   "source": [
    "cobot.tool_controller.disable()"
   ]
  },
  {
   "cell_type": "code",
   "execution_count": 69,
   "id": "61efca7d",
   "metadata": {},
   "outputs": [],
   "source": [
    "cobot.tool_controller.enable_grinder()"
   ]
  },
  {
   "cell_type": "code",
   "execution_count": 30,
   "id": "257983c0",
   "metadata": {},
   "outputs": [
    {
     "data": {
      "text/plain": [
       "SE3:  \u001b[38;5;1m-0.707489   \u001b[0m\u001b[38;5;1m 0.706723   \u001b[0m\u001b[38;5;1m-0.000849726\u001b[0m\u001b[38;5;4m 0.508603   \u001b[0m  \u001b[0m\n",
       "      \u001b[38;5;1m-0.000136309\u001b[0m\u001b[38;5;1m 0.00106589 \u001b[0m\u001b[38;5;1m 0.999999   \u001b[0m\u001b[38;5;4m-0.174949   \u001b[0m  \u001b[0m\n",
       "      \u001b[38;5;1m 0.706724   \u001b[0m\u001b[38;5;1m 0.707489   \u001b[0m\u001b[38;5;1m-0.000657772\u001b[0m\u001b[38;5;4m 0.172062   \u001b[0m  \u001b[0m\n",
       "      \u001b[38;5;244m 0          \u001b[0m\u001b[38;5;244m 0          \u001b[0m\u001b[38;5;244m 0          \u001b[0m\u001b[38;5;244m 1          \u001b[0m  \u001b[0m\n",
       "    "
      ]
     },
     "execution_count": 30,
     "metadata": {},
     "output_type": "execute_result"
    }
   ],
   "source": [
    "cobot.FK(cobot.q)"
   ]
  },
  {
   "cell_type": "code",
   "execution_count": 64,
   "id": "detected-ghost",
   "metadata": {},
   "outputs": [],
   "source": [
    "material= MaterialType()\n",
    "material = material.PLASTIC\n",
    "\n",
    "#coordinates: next to cable on above cable level richtige Höhe??, check if in x oder y Richtung, depth = 8mm!\n",
    "\n",
    "xstartELK = 0.508603 \n",
    "ystartELK = -0.176949 \n",
    "zstartELK = 0.172062\n",
    "\n",
    "\n",
    "normalA = hrr_cm.ros_utils.np2vector3stamped(np.r_[0,0,-1], \"normalA\")\n",
    "normalB = hrr_cm.ros_utils.np2vector3stamped(np.r_[0,0,-1], \"normalB\")\n",
    "\n",
    "pointA1 = hrr_cm.ros_utils.np2vector3stamped(np.r_[xstartELK,ystartELK,zstartELK], \"pointA1\")\n",
    "pointB1 = hrr_cm.ros_utils.np2vector3stamped(np.r_[xstartELK+0.014,ystartELK,zstartELK], \"pointB1\")"
   ]
  },
  {
   "cell_type": "code",
   "execution_count": 65,
   "id": "cloudy-nigeria",
   "metadata": {},
   "outputs": [],
   "source": [
    "PrePoseA1, PrePoseB1, CuttingPoseA1, CuttingPoseB1 = points_to_poses(normalA=normalA, normalB=normalB, pointA=pointA1, pointB=pointB1, \n",
    "                                                                     cuttingdepth=0, safety_distance=0.05,\n",
    "                                                                    Shaftgrinder_tf = Shaftgrinder_tf_ELK,toEE=toEE)"
   ]
  },
  {
   "cell_type": "code",
   "execution_count": 73,
   "id": "variable-regression",
   "metadata": {},
   "outputs": [
    {
     "data": {
      "application/vnd.jupyter.widget-view+json": {
       "model_id": "09ad11c008c64a6db643b96df4c6e16c",
       "version_major": 2,
       "version_minor": 0
      },
      "text/plain": [
       "  0%|          | 0/500000 [00:00<?, ?it/s]"
      ]
     },
     "metadata": {},
     "output_type": "display_data"
    },
    {
     "name": "stdout",
     "output_type": "stream",
     "text": [
      "[INFO] [1642004357.899859]: reached goal pose at step 1243 / 500000\n"
     ]
    },
    {
     "data": {
      "application/vnd.jupyter.widget-view+json": {
       "model_id": "43358cb2726f42ddb6725091a96b5e72",
       "version_major": 2,
       "version_minor": 0
      },
      "text/plain": [
       "  0%|          | 0/500000 [00:00<?, ?it/s]"
      ]
     },
     "metadata": {},
     "output_type": "display_data"
    },
    {
     "name": "stdout",
     "output_type": "stream",
     "text": [
      "[INFO] [1642004384.105376]: reached goal pose at step 2618 / 500000\n"
     ]
    },
    {
     "data": {
      "application/vnd.jupyter.widget-view+json": {
       "model_id": "99e4cf8a5ea6486caf8ea0f67a18b263",
       "version_major": 2,
       "version_minor": 0
      },
      "text/plain": [
       "  0%|          | 0/500000 [00:00<?, ?it/s]"
      ]
     },
     "metadata": {},
     "output_type": "display_data"
    },
    {
     "name": "stdout",
     "output_type": "stream",
     "text": [
      "[INFO] [1642004402.193748]: reached goal pose at step 1806 / 500000\n"
     ]
    },
    {
     "data": {
      "application/vnd.jupyter.widget-view+json": {
       "model_id": "134d336ecd3b4dc28432ac1c2dc15f03",
       "version_major": 2,
       "version_minor": 0
      },
      "text/plain": [
       "  0%|          | 0/500000 [00:00<?, ?it/s]"
      ]
     },
     "metadata": {},
     "output_type": "display_data"
    },
    {
     "name": "stdout",
     "output_type": "stream",
     "text": [
      "[INFO] [1642004409.998335]: reached goal pose at step 775 / 500000\n"
     ]
    }
   ],
   "source": [
    "Move_to_all_Poses(PrePoseA=PrePoseA1,PrePoseB=PrePoseB1,CuttingPoseA=CuttingPoseA1,CuttingPoseB=CuttingPoseB1,rpm=20000)"
   ]
  },
  {
   "cell_type": "code",
   "execution_count": 29,
   "id": "accompanied-cattle",
   "metadata": {},
   "outputs": [
    {
     "name": "stdout",
     "output_type": "stream",
     "text": [
      "  \u001b[38;5;1m-0.707393   \u001b[0m\u001b[38;5;1m 0.70682    \u001b[0m\u001b[38;5;1m-0.000876985\u001b[0m\u001b[38;5;4m 0.457482   \u001b[0m  \u001b[0m\n",
      "  \u001b[38;5;1m-0.000382894\u001b[0m\u001b[38;5;1m 0.000857543\u001b[0m\u001b[38;5;1m 1          \u001b[0m\u001b[38;5;4m-0.186461   \u001b[0m  \u001b[0m\n",
      "  \u001b[38;5;1m 0.70682    \u001b[0m\u001b[38;5;1m 0.707393   \u001b[0m\u001b[38;5;1m-0.000335983\u001b[0m\u001b[38;5;4m 0.564378   \u001b[0m  \u001b[0m\n",
      "  \u001b[38;5;244m 0          \u001b[0m\u001b[38;5;244m 0          \u001b[0m\u001b[38;5;244m 0          \u001b[0m\u001b[38;5;244m 1          \u001b[0m  \u001b[0m\n",
      "\n",
      "  \u001b[38;5;1m-0.707394   \u001b[0m\u001b[38;5;1m 0.706819   \u001b[0m\u001b[38;5;1m-0.000875706\u001b[0m\u001b[38;5;4m 0.443961   \u001b[0m  \u001b[0m\n",
      "  \u001b[38;5;1m-0.000379087\u001b[0m\u001b[38;5;1m 0.000859544\u001b[0m\u001b[38;5;1m 1          \u001b[0m\u001b[38;5;4m-0.18599    \u001b[0m  \u001b[0m\n",
      "  \u001b[38;5;1m 0.706819   \u001b[0m\u001b[38;5;1m 0.707394   \u001b[0m\u001b[38;5;1m-0.00034009 \u001b[0m\u001b[38;5;4m 0.614858   \u001b[0m  \u001b[0m\n",
      "  \u001b[38;5;244m 0          \u001b[0m\u001b[38;5;244m 0          \u001b[0m\u001b[38;5;244m 0          \u001b[0m\u001b[38;5;244m 1          \u001b[0m  \u001b[0m\n",
      "\n"
     ]
    }
   ],
   "source": [
    "print(CuttingPoseB1)\n",
    "print(cobot.FK(cobot.q))"
   ]
  },
  {
   "cell_type": "code",
   "execution_count": 74,
   "id": "5fe4689e",
   "metadata": {},
   "outputs": [],
   "source": [
    "cobot.move_to_pose(Shaftgrinder_tf_1,v_max=0.01,rot_max=0.01)"
   ]
  },
  {
   "cell_type": "code",
   "execution_count": 42,
   "id": "a61d2572",
   "metadata": {},
   "outputs": [],
   "source": [
    "cobot.move_to_pose(PrePoseB1,v_max=0.01,rot_max=0.01)"
   ]
  },
  {
   "cell_type": "code",
   "execution_count": 75,
   "id": "15bf31a0",
   "metadata": {},
   "outputs": [
    {
     "data": {
      "application/vnd.jupyter.widget-view+json": {
       "model_id": "1331815dd33243a8828e40e643c8cb6a",
       "version_major": 2,
       "version_minor": 0
      },
      "text/plain": [
       "  0%|          | 0/5000 [00:00<?, ?it/s]"
      ]
     },
     "metadata": {},
     "output_type": "display_data"
    },
    {
     "name": "stdout",
     "output_type": "stream",
     "text": [
      "[INFO] [1642004436.580241]: reached goal pose at step 2309 / 5000\n"
     ]
    }
   ],
   "source": [
    "# executes the loop to move the robot\n",
    "T = int(50 * cobot.hz)\n",
    "for t in trange(T):\n",
    "    if cobot.state is None:\n",
    "        rospy.loginfo(f\"reached goal pose at step {t + 1} / {T}\")\n",
    "        break\n",
    "    elif cobot.state == \"error\":\n",
    "        rospy.logerr(f\"robot in ERROR state\")\n",
    "    cobot.update()"
   ]
  },
  {
   "cell_type": "markdown",
   "id": "textile-segment",
   "metadata": {},
   "source": [
    "### PC"
   ]
  },
  {
   "cell_type": "markdown",
   "id": "worldwide-colony",
   "metadata": {},
   "source": [
    "#### Clip"
   ]
  },
  {
   "cell_type": "code",
   "execution_count": 250,
   "id": "71bc5ee3",
   "metadata": {},
   "outputs": [
    {
     "name": "stdout",
     "output_type": "stream",
     "text": [
      "[[-0.70751  0.70671 -0.00092  0.5528 ]\n",
      " [-0.00018  0.00112  1.       0.01391]\n",
      " [ 0.70671  0.70751 -0.00066  0.30837]\n",
      " [ 0.       0.       0.       1.     ]]\n"
     ]
    }
   ],
   "source": [
    "# Shaftgrinder_tf_ELK = np.array([[-0.66991,  0.64932,  0.35999,  0.48663],\n",
    "#  [ 0.25544, -0.2537,   0.93295, -0.12696],\n",
    "#  [ 0.69711,  0.71695,  0.0041,   0.53644],\n",
    "#  [ 0. ,      0. ,      0.  ,     1.     ]])\n",
    "Shaftgrinder_tf_ELK = Shaftgrinder_tf\n",
    "\n",
    "print(Shaftgrinder_tf_ELK)\n",
    "toEE = np.array([0,0,0])"
   ]
  },
  {
   "cell_type": "code",
   "execution_count": 18,
   "id": "81a84d48",
   "metadata": {},
   "outputs": [],
   "source": [
    "cobot.tool_controller.rpm = 25000"
   ]
  },
  {
   "cell_type": "code",
   "execution_count": 277,
   "id": "55cca937",
   "metadata": {},
   "outputs": [],
   "source": [
    "cobot.tool_controller.disable()"
   ]
  },
  {
   "cell_type": "code",
   "execution_count": 272,
   "id": "7d3cc65f",
   "metadata": {},
   "outputs": [],
   "source": [
    "cobot.tool_controller.enable_grinder()"
   ]
  },
  {
   "cell_type": "code",
   "execution_count": 20,
   "id": "bd578093",
   "metadata": {},
   "outputs": [
    {
     "data": {
      "text/plain": [
       "SE3:  \u001b[38;5;1m-0.707508   \u001b[0m\u001b[38;5;1m 0.706705   \u001b[0m\u001b[38;5;1m-0.000915601\u001b[0m\u001b[38;5;4m 0.5528     \u001b[0m  \u001b[0m\n",
       "      \u001b[38;5;1m-0.000179161\u001b[0m\u001b[38;5;1m 0.00111622 \u001b[0m\u001b[38;5;1m 0.999999   \u001b[0m\u001b[38;5;4m 0.0139121  \u001b[0m  \u001b[0m\n",
       "      \u001b[38;5;1m 0.706706   \u001b[0m\u001b[38;5;1m 0.707507   \u001b[0m\u001b[38;5;1m-0.000663123\u001b[0m\u001b[38;5;4m 0.308369   \u001b[0m  \u001b[0m\n",
       "      \u001b[38;5;244m 0          \u001b[0m\u001b[38;5;244m 0          \u001b[0m\u001b[38;5;244m 0          \u001b[0m\u001b[38;5;244m 1          \u001b[0m  \u001b[0m\n",
       "    "
      ]
     },
     "execution_count": 20,
     "metadata": {},
     "output_type": "execute_result"
    }
   ],
   "source": [
    "cobot.FK(cobot.q)"
   ]
  },
  {
   "cell_type": "code",
   "execution_count": 257,
   "id": "81d3a2b8",
   "metadata": {},
   "outputs": [],
   "source": [
    "material= MaterialType()\n",
    "material = material.PLASTIC\n",
    "\n",
    "#coordinates: next to cable on above cable level richtige Höhe??, check if in x oder y Richtung, depth = 8mm!\n",
    "\n",
    "xstartELK = 0.5528 \n",
    "ystartELK = 0.011\n",
    "zstartELK = 0.303\n",
    "\n",
    "\n",
    "normalA = hrr_cm.ros_utils.np2vector3stamped(np.r_[0,0,-1], \"normalA\")\n",
    "normalB = hrr_cm.ros_utils.np2vector3stamped(np.r_[0,0,-1], \"normalB\")\n",
    "\n",
    "pointA1 = hrr_cm.ros_utils.np2vector3stamped(np.r_[xstartELK,ystartELK,zstartELK], \"pointA1\")\n",
    "pointB1 = hrr_cm.ros_utils.np2vector3stamped(np.r_[xstartELK+0.06,ystartELK,zstartELK], \"pointB1\")"
   ]
  },
  {
   "cell_type": "code",
   "execution_count": 258,
   "id": "4990efe9",
   "metadata": {},
   "outputs": [],
   "source": [
    "PrePoseA1, PrePoseB1, CuttingPoseA1, CuttingPoseB1 = points_to_poses(normalA=normalA, normalB=normalB, pointA=pointA1, pointB=pointB1, \n",
    "                                                                     cuttingdepth=0, safety_distance=0.05,\n",
    "                                                                    Shaftgrinder_tf = Shaftgrinder_tf_ELK,toEE=toEE)"
   ]
  },
  {
   "cell_type": "code",
   "execution_count": 276,
   "id": "a0492292",
   "metadata": {},
   "outputs": [
    {
     "data": {
      "application/vnd.jupyter.widget-view+json": {
       "model_id": "c27ece54031d44da986126b0bf167e47",
       "version_major": 2,
       "version_minor": 0
      },
      "text/plain": [
       "  0%|          | 0/500000 [00:00<?, ?it/s]"
      ]
     },
     "metadata": {},
     "output_type": "display_data"
    },
    {
     "name": "stdout",
     "output_type": "stream",
     "text": [
      "[INFO] [1642069261.044560]: reached goal pose at step 1139 / 500000\n"
     ]
    },
    {
     "data": {
      "application/vnd.jupyter.widget-view+json": {
       "model_id": "1436c499e53f4832958755c351137e64",
       "version_major": 2,
       "version_minor": 0
      },
      "text/plain": [
       "  0%|          | 0/500000 [00:00<?, ?it/s]"
      ]
     },
     "metadata": {},
     "output_type": "display_data"
    },
    {
     "name": "stdout",
     "output_type": "stream",
     "text": [
      "[INFO] [1642069287.270989]: reached goal pose at step 2619 / 500000\n"
     ]
    },
    {
     "data": {
      "application/vnd.jupyter.widget-view+json": {
       "model_id": "400729f04237429ba4188f46b4d1e1d0",
       "version_major": 2,
       "version_minor": 0
      },
      "text/plain": [
       "  0%|          | 0/500000 [00:00<?, ?it/s]"
      ]
     },
     "metadata": {},
     "output_type": "display_data"
    },
    {
     "name": "stderr",
     "output_type": "stream",
     "text": [
      "[ERROR] [1642069289.789502]: Force threshold exceeded: |F|=121.94 > 120.00. Stop motion\n"
     ]
    },
    {
     "ename": "KeyboardInterrupt",
     "evalue": "",
     "output_type": "error",
     "traceback": [
      "\u001b[0;31m---------------------------------------------------------------------------\u001b[0m",
      "\u001b[0;31mKeyboardInterrupt\u001b[0m                         Traceback (most recent call last)",
      "\u001b[0;32m<ipython-input-276-cfe9efa8475e>\u001b[0m in \u001b[0;36m<module>\u001b[0;34m\u001b[0m\n\u001b[0;32m----> 1\u001b[0;31m \u001b[0mMove_to_all_Poses\u001b[0m\u001b[0;34m(\u001b[0m\u001b[0mPrePoseA\u001b[0m\u001b[0;34m=\u001b[0m\u001b[0mPrePoseA1\u001b[0m\u001b[0;34m,\u001b[0m\u001b[0mPrePoseB\u001b[0m\u001b[0;34m=\u001b[0m\u001b[0mPrePoseB1\u001b[0m\u001b[0;34m,\u001b[0m\u001b[0mCuttingPoseA\u001b[0m\u001b[0;34m=\u001b[0m\u001b[0mCuttingPoseA1\u001b[0m\u001b[0;34m,\u001b[0m\u001b[0mCuttingPoseB\u001b[0m\u001b[0;34m=\u001b[0m\u001b[0mCuttingPoseB1\u001b[0m\u001b[0;34m,\u001b[0m\u001b[0mrpm\u001b[0m\u001b[0;34m=\u001b[0m\u001b[0;36m25000\u001b[0m\u001b[0;34m)\u001b[0m\u001b[0;34m\u001b[0m\u001b[0;34m\u001b[0m\u001b[0m\n\u001b[0m",
      "\u001b[0;32m<ipython-input-8-00a7f576780e>\u001b[0m in \u001b[0;36mMove_to_all_Poses\u001b[0;34m(PrePoseA, CuttingPoseA, CuttingPoseB, PrePoseB, rpm)\u001b[0m\n\u001b[1;32m     15\u001b[0m     \u001b[0mMoveLoop\u001b[0m\u001b[0;34m(\u001b[0m\u001b[0mpose\u001b[0m\u001b[0;34m=\u001b[0m\u001b[0mPrePoseA\u001b[0m\u001b[0;34m,\u001b[0m\u001b[0mv_max\u001b[0m\u001b[0;34m=\u001b[0m\u001b[0;36m0.2\u001b[0m\u001b[0;34m,\u001b[0m\u001b[0mrot_max\u001b[0m\u001b[0;34m=\u001b[0m\u001b[0;36m0.4\u001b[0m\u001b[0;34m,\u001b[0m\u001b[0mtimeout\u001b[0m\u001b[0;34m=\u001b[0m\u001b[0;36m5000\u001b[0m\u001b[0;34m,\u001b[0m\u001b[0mrpm\u001b[0m\u001b[0;34m=\u001b[0m\u001b[0;36m0\u001b[0m\u001b[0;34m)\u001b[0m\u001b[0;34m\u001b[0m\u001b[0;34m\u001b[0m\u001b[0m\n\u001b[1;32m     16\u001b[0m     \u001b[0mMoveLoop\u001b[0m\u001b[0;34m(\u001b[0m\u001b[0mpose\u001b[0m\u001b[0;34m=\u001b[0m\u001b[0mCuttingPoseA\u001b[0m\u001b[0;34m,\u001b[0m\u001b[0mv_max\u001b[0m\u001b[0;34m=\u001b[0m\u001b[0;36m0.06\u001b[0m\u001b[0;34m,\u001b[0m\u001b[0mrot_max\u001b[0m\u001b[0;34m=\u001b[0m\u001b[0;36m0.02\u001b[0m\u001b[0;34m,\u001b[0m\u001b[0mtimeout\u001b[0m\u001b[0;34m=\u001b[0m\u001b[0;36m5000\u001b[0m\u001b[0;34m,\u001b[0m\u001b[0mrpm\u001b[0m\u001b[0;34m=\u001b[0m\u001b[0mrpm\u001b[0m\u001b[0;34m)\u001b[0m\u001b[0;34m\u001b[0m\u001b[0;34m\u001b[0m\u001b[0m\n\u001b[0;32m---> 17\u001b[0;31m     \u001b[0mMoveLoop\u001b[0m\u001b[0;34m(\u001b[0m\u001b[0mpose\u001b[0m\u001b[0;34m=\u001b[0m\u001b[0mCuttingPoseB\u001b[0m\u001b[0;34m,\u001b[0m\u001b[0mv_max\u001b[0m\u001b[0;34m=\u001b[0m\u001b[0;36m0.06\u001b[0m\u001b[0;34m,\u001b[0m\u001b[0mrot_max\u001b[0m\u001b[0;34m=\u001b[0m\u001b[0;36m0.02\u001b[0m\u001b[0;34m,\u001b[0m\u001b[0mtimeout\u001b[0m\u001b[0;34m=\u001b[0m\u001b[0;36m5000\u001b[0m\u001b[0;34m,\u001b[0m\u001b[0mrpm\u001b[0m\u001b[0;34m=\u001b[0m\u001b[0mrpm\u001b[0m\u001b[0;34m)\u001b[0m\u001b[0;34m\u001b[0m\u001b[0;34m\u001b[0m\u001b[0m\n\u001b[0m\u001b[1;32m     18\u001b[0m     \u001b[0mMoveLoop\u001b[0m\u001b[0;34m(\u001b[0m\u001b[0mpose\u001b[0m\u001b[0;34m=\u001b[0m\u001b[0mPrePoseB\u001b[0m\u001b[0;34m,\u001b[0m\u001b[0mv_max\u001b[0m\u001b[0;34m=\u001b[0m\u001b[0;36m0.2\u001b[0m\u001b[0;34m,\u001b[0m\u001b[0mrot_max\u001b[0m\u001b[0;34m=\u001b[0m\u001b[0;36m0.4\u001b[0m\u001b[0;34m,\u001b[0m\u001b[0mtimeout\u001b[0m\u001b[0;34m=\u001b[0m\u001b[0;36m5000\u001b[0m\u001b[0;34m,\u001b[0m\u001b[0mrpm\u001b[0m\u001b[0;34m=\u001b[0m\u001b[0mrpm\u001b[0m\u001b[0;34m)\u001b[0m\u001b[0;34m\u001b[0m\u001b[0;34m\u001b[0m\u001b[0m\n\u001b[1;32m     19\u001b[0m \u001b[0;34m\u001b[0m\u001b[0m\n",
      "\u001b[0;32m<ipython-input-10-2d8e43e6488f>\u001b[0m in \u001b[0;36mMoveLoop\u001b[0;34m(pose, v_max, rot_max, timeout, rpm)\u001b[0m\n\u001b[1;32m     13\u001b[0m         \u001b[0;32melse\u001b[0m\u001b[0;34m:\u001b[0m\u001b[0;34m\u001b[0m\u001b[0;34m\u001b[0m\u001b[0m\n\u001b[1;32m     14\u001b[0m             \u001b[0mcobot\u001b[0m\u001b[0;34m.\u001b[0m\u001b[0mtool_controller\u001b[0m\u001b[0;34m.\u001b[0m\u001b[0mdisable\u001b[0m\u001b[0;34m(\u001b[0m\u001b[0;34m)\u001b[0m\u001b[0;34m\u001b[0m\u001b[0;34m\u001b[0m\u001b[0m\n\u001b[0;32m---> 15\u001b[0;31m         \u001b[0mcobot\u001b[0m\u001b[0;34m.\u001b[0m\u001b[0mupdate\u001b[0m\u001b[0;34m(\u001b[0m\u001b[0;34m)\u001b[0m\u001b[0;34m\u001b[0m\u001b[0;34m\u001b[0m\u001b[0m\n\u001b[0m",
      "\u001b[0;32m~/_ros/hrr_ws/src/hrr_cobot/hrr_cobot_robot/src/hrr_cobot_robot/hrr_cobot_control.py\u001b[0m in \u001b[0;36mupdate\u001b[0;34m(self, sleep, u_cmd, u_cmd_frame, skip_forward, **_)\u001b[0m\n\u001b[1;32m    377\u001b[0m                 \u001b[0mself\u001b[0m\u001b[0;34m.\u001b[0m\u001b[0m_joint_ctrl_command\u001b[0m\u001b[0;34m(\u001b[0m\u001b[0;34m)\u001b[0m\u001b[0;34m\u001b[0m\u001b[0;34m\u001b[0m\u001b[0m\n\u001b[1;32m    378\u001b[0m         \u001b[0;32mif\u001b[0m \u001b[0msleep\u001b[0m\u001b[0;34m:\u001b[0m\u001b[0;34m\u001b[0m\u001b[0;34m\u001b[0m\u001b[0m\n\u001b[0;32m--> 379\u001b[0;31m             \u001b[0mself\u001b[0m\u001b[0;34m.\u001b[0m\u001b[0msleep\u001b[0m\u001b[0;34m(\u001b[0m\u001b[0;34m)\u001b[0m\u001b[0;34m\u001b[0m\u001b[0;34m\u001b[0m\u001b[0m\n\u001b[0m\u001b[1;32m    380\u001b[0m \u001b[0;34m\u001b[0m\u001b[0m\n\u001b[1;32m    381\u001b[0m     \u001b[0;32mdef\u001b[0m \u001b[0mstop\u001b[0m\u001b[0;34m(\u001b[0m\u001b[0mself\u001b[0m\u001b[0;34m)\u001b[0m\u001b[0;34m:\u001b[0m\u001b[0;34m\u001b[0m\u001b[0;34m\u001b[0m\u001b[0m\n",
      "\u001b[0;32m~/_ros/hrr_ws/src/hrr_cobot/hrr_cobot_robot/src/hrr_cobot_robot/hrr_cobot_control.py\u001b[0m in \u001b[0;36msleep\u001b[0;34m(self)\u001b[0m\n\u001b[1;32m    402\u001b[0m     \u001b[0;32mdef\u001b[0m \u001b[0msleep\u001b[0m\u001b[0;34m(\u001b[0m\u001b[0mself\u001b[0m\u001b[0;34m)\u001b[0m\u001b[0;34m:\u001b[0m\u001b[0;34m\u001b[0m\u001b[0;34m\u001b[0m\u001b[0m\n\u001b[1;32m    403\u001b[0m         \u001b[0;34m\"\"\"set robot to sleep via ``rospy.Rate.sleep``\"\"\"\u001b[0m\u001b[0;34m\u001b[0m\u001b[0;34m\u001b[0m\u001b[0m\n\u001b[0;32m--> 404\u001b[0;31m         \u001b[0mself\u001b[0m\u001b[0;34m.\u001b[0m\u001b[0m_rate\u001b[0m\u001b[0;34m.\u001b[0m\u001b[0msleep\u001b[0m\u001b[0;34m(\u001b[0m\u001b[0;34m)\u001b[0m\u001b[0;34m\u001b[0m\u001b[0;34m\u001b[0m\u001b[0m\n\u001b[0m\u001b[1;32m    405\u001b[0m \u001b[0;34m\u001b[0m\u001b[0m\n\u001b[1;32m    406\u001b[0m     \u001b[0;32mdef\u001b[0m \u001b[0mgoTo\u001b[0m\u001b[0;34m(\u001b[0m\u001b[0mself\u001b[0m\u001b[0;34m,\u001b[0m \u001b[0mT_des\u001b[0m\u001b[0;34m,\u001b[0m \u001b[0;34m*\u001b[0m\u001b[0margs\u001b[0m\u001b[0;34m,\u001b[0m \u001b[0;34m**\u001b[0m\u001b[0mkwargs\u001b[0m\u001b[0;34m)\u001b[0m\u001b[0;34m:\u001b[0m\u001b[0;34m\u001b[0m\u001b[0;34m\u001b[0m\u001b[0m\n",
      "\u001b[0;32m/opt/ros/noetic/lib/python3/dist-packages/rospy/timer.py\u001b[0m in \u001b[0;36msleep\u001b[0;34m(self)\u001b[0m\n\u001b[1;32m    101\u001b[0m         \u001b[0mcurr_time\u001b[0m \u001b[0;34m=\u001b[0m \u001b[0mrospy\u001b[0m\u001b[0;34m.\u001b[0m\u001b[0mrostime\u001b[0m\u001b[0;34m.\u001b[0m\u001b[0mget_rostime\u001b[0m\u001b[0;34m(\u001b[0m\u001b[0;34m)\u001b[0m\u001b[0;34m\u001b[0m\u001b[0;34m\u001b[0m\u001b[0m\n\u001b[1;32m    102\u001b[0m         \u001b[0;32mtry\u001b[0m\u001b[0;34m:\u001b[0m\u001b[0;34m\u001b[0m\u001b[0;34m\u001b[0m\u001b[0m\n\u001b[0;32m--> 103\u001b[0;31m             \u001b[0msleep\u001b[0m\u001b[0;34m(\u001b[0m\u001b[0mself\u001b[0m\u001b[0;34m.\u001b[0m\u001b[0m_remaining\u001b[0m\u001b[0;34m(\u001b[0m\u001b[0mcurr_time\u001b[0m\u001b[0;34m)\u001b[0m\u001b[0;34m)\u001b[0m\u001b[0;34m\u001b[0m\u001b[0;34m\u001b[0m\u001b[0m\n\u001b[0m\u001b[1;32m    104\u001b[0m         \u001b[0;32mexcept\u001b[0m \u001b[0mrospy\u001b[0m\u001b[0;34m.\u001b[0m\u001b[0mexceptions\u001b[0m\u001b[0;34m.\u001b[0m\u001b[0mROSTimeMovedBackwardsException\u001b[0m\u001b[0;34m:\u001b[0m\u001b[0;34m\u001b[0m\u001b[0;34m\u001b[0m\u001b[0m\n\u001b[1;32m    105\u001b[0m             \u001b[0;32mif\u001b[0m \u001b[0;32mnot\u001b[0m \u001b[0mself\u001b[0m\u001b[0;34m.\u001b[0m\u001b[0m_reset\u001b[0m\u001b[0;34m:\u001b[0m\u001b[0;34m\u001b[0m\u001b[0;34m\u001b[0m\u001b[0m\n",
      "\u001b[0;32m/opt/ros/noetic/lib/python3/dist-packages/rospy/timer.py\u001b[0m in \u001b[0;36msleep\u001b[0;34m(duration)\u001b[0m\n\u001b[1;32m    132\u001b[0m             \u001b[0;32mreturn\u001b[0m\u001b[0;34m\u001b[0m\u001b[0;34m\u001b[0m\u001b[0m\n\u001b[1;32m    133\u001b[0m         \u001b[0;32melse\u001b[0m\u001b[0;34m:\u001b[0m\u001b[0;34m\u001b[0m\u001b[0;34m\u001b[0m\u001b[0m\n\u001b[0;32m--> 134\u001b[0;31m             \u001b[0mrospy\u001b[0m\u001b[0;34m.\u001b[0m\u001b[0mrostime\u001b[0m\u001b[0;34m.\u001b[0m\u001b[0mwallsleep\u001b[0m\u001b[0;34m(\u001b[0m\u001b[0mduration\u001b[0m\u001b[0;34m)\u001b[0m\u001b[0;34m\u001b[0m\u001b[0;34m\u001b[0m\u001b[0m\n\u001b[0m\u001b[1;32m    135\u001b[0m     \u001b[0;32melse\u001b[0m\u001b[0;34m:\u001b[0m\u001b[0;34m\u001b[0m\u001b[0;34m\u001b[0m\u001b[0m\n\u001b[1;32m    136\u001b[0m         \u001b[0minitial_rostime\u001b[0m \u001b[0;34m=\u001b[0m \u001b[0mrospy\u001b[0m\u001b[0;34m.\u001b[0m\u001b[0mrostime\u001b[0m\u001b[0;34m.\u001b[0m\u001b[0mget_rostime\u001b[0m\u001b[0;34m(\u001b[0m\u001b[0;34m)\u001b[0m\u001b[0;34m\u001b[0m\u001b[0;34m\u001b[0m\u001b[0m\n",
      "\u001b[0;32m/opt/ros/noetic/lib/python3/dist-packages/rospy/rostime.py\u001b[0m in \u001b[0;36mwallsleep\u001b[0;34m(duration)\u001b[0m\n\u001b[1;32m    275\u001b[0m             \u001b[0;32mpass\u001b[0m\u001b[0;34m\u001b[0m\u001b[0;34m\u001b[0m\u001b[0m\n\u001b[1;32m    276\u001b[0m     \u001b[0;32melse\u001b[0m\u001b[0;34m:\u001b[0m\u001b[0;34m\u001b[0m\u001b[0;34m\u001b[0m\u001b[0m\n\u001b[0;32m--> 277\u001b[0;31m         \u001b[0mtime\u001b[0m\u001b[0;34m.\u001b[0m\u001b[0msleep\u001b[0m\u001b[0;34m(\u001b[0m\u001b[0mduration\u001b[0m\u001b[0;34m)\u001b[0m\u001b[0;34m\u001b[0m\u001b[0;34m\u001b[0m\u001b[0m\n\u001b[0m",
      "\u001b[0;31mKeyboardInterrupt\u001b[0m: "
     ]
    }
   ],
   "source": [
    "Move_to_all_Poses(PrePoseA=PrePoseA1,PrePoseB=PrePoseB1,CuttingPoseA=CuttingPoseA1,CuttingPoseB=CuttingPoseB1,rpm=25000)"
   ]
  },
  {
   "cell_type": "code",
   "execution_count": null,
   "id": "9ee606e5",
   "metadata": {},
   "outputs": [],
   "source": [
    "print(CuttingPoseB1)\n",
    "print(cobot.FK(cobot.q))"
   ]
  },
  {
   "cell_type": "code",
   "execution_count": 53,
   "id": "d07ae34a",
   "metadata": {},
   "outputs": [],
   "source": [
    "cobot.F_max = 120"
   ]
  },
  {
   "cell_type": "code",
   "execution_count": 274,
   "id": "336c35cb",
   "metadata": {},
   "outputs": [],
   "source": [
    "cobot.move_to_pose(Shaftgrinder_tf_1,v_max=0.01,rot_max=0.01)"
   ]
  },
  {
   "cell_type": "code",
   "execution_count": 265,
   "id": "05434c05",
   "metadata": {},
   "outputs": [],
   "source": [
    "cobot.move_to_pose(PrePoseB1,v_max=0.01,rot_max=0.01)"
   ]
  },
  {
   "cell_type": "code",
   "execution_count": 275,
   "id": "98bdd8eb",
   "metadata": {},
   "outputs": [
    {
     "data": {
      "application/vnd.jupyter.widget-view+json": {
       "model_id": "d873187118ca4c8b8a182457d7f1fe50",
       "version_major": 2,
       "version_minor": 0
      },
      "text/plain": [
       "  0%|          | 0/5000 [00:00<?, ?it/s]"
      ]
     },
     "metadata": {},
     "output_type": "display_data"
    },
    {
     "name": "stdout",
     "output_type": "stream",
     "text": [
      "[INFO] [1642069195.551260]: reached goal pose at step 1787 / 5000\n"
     ]
    }
   ],
   "source": [
    "# executes the loop to move the robot\n",
    "T = int(50 * cobot.hz)\n",
    "for t in trange(T):\n",
    "    if cobot.state is None:\n",
    "        rospy.loginfo(f\"reached goal pose at step {t + 1} / {T}\")\n",
    "        break\n",
    "    elif cobot.state == \"error\":\n",
    "        rospy.logerr(f\"robot in ERROR state\")\n",
    "    cobot.update()"
   ]
  },
  {
   "cell_type": "markdown",
   "id": "fc24d3c5",
   "metadata": {},
   "source": [
    "#### Cables"
   ]
  },
  {
   "cell_type": "markdown",
   "id": "burning-harris",
   "metadata": {},
   "source": [
    "First Cable Bunch"
   ]
  },
  {
   "cell_type": "code",
   "execution_count": 162,
   "id": "worth-wallet",
   "metadata": {},
   "outputs": [
    {
     "name": "stdout",
     "output_type": "stream",
     "text": [
      "[[-0.26864  0.55951  0.78408  0.50352]\n",
      " [ 0.67257 -0.47376  0.5685  -0.04761]\n",
      " [ 0.68955  0.68007 -0.24904  0.26459]\n",
      " [ 0.       0.       0.       1.     ]]\n"
     ]
    }
   ],
   "source": [
    "Shaftgrinder_tf_PC1 = (cobot.FK(cobot.q).A)\n",
    "print(Shaftgrinder_tf_PC1)"
   ]
  },
  {
   "cell_type": "code",
   "execution_count": 164,
   "id": "senior-arizona",
   "metadata": {},
   "outputs": [
    {
     "name": "stdout",
     "output_type": "stream",
     "text": [
      "[[-0.26864  0.55951  0.78408  0.50352]\n",
      " [ 0.67257 -0.47376  0.5685  -0.04761]\n",
      " [ 0.68955  0.68007 -0.24904  0.26459]\n",
      " [ 0.       0.       0.       1.     ]]\n"
     ]
    }
   ],
   "source": [
    "Shaftgrinder_tf_PC2 = np.array([[-0.26864,  0.55951,  0.78408,  0.50352],\n",
    " [ 0.67257, -0.47376,  0.5685,  -0.04761],\n",
    " [ 0.68955,  0.68007, -0.24904 , 0.26459],\n",
    " [ 0.  ,     0.  ,     0.   ,    1.     ]]\n",
    ")\n",
    "print(Shaftgrinder_tf_PC2)\n",
    "toEE = np.array([0,0,0])"
   ]
  },
  {
   "cell_type": "code",
   "execution_count": 170,
   "id": "ed34cf9f",
   "metadata": {},
   "outputs": [],
   "source": [
    "PrePoseA1 = np.array([[-0.26864,  0.55951,  0.78408,  0.50352],\n",
    " [ 0.67257, -0.47376,  0.5685,  -0.04761],\n",
    " [ 0.68955,  0.68007, -0.24904 , 0.26459+0.05],\n",
    " [ 0.  ,     0.  ,     0.   ,    1.     ]]\n",
    ")\n",
    "\n",
    "PrePoseB1 = np.array([[-0.26864,  0.55951,  0.78408,  0.50352],\n",
    " [ 0.67257, -0.47376,  0.5685,  -0.04761+0.03],\n",
    " [ 0.68955,  0.68007, -0.24904 , 0.26459+0.05],\n",
    " [ 0.  ,     0.  ,     0.   ,    1.     ]]\n",
    ")\n",
    "\n",
    "CuttingPoseA1 = np.array([[-0.26864,  0.55951,  0.78408,  0.50352],\n",
    " [ 0.67257, -0.47376,  0.5685,  -0.04761],\n",
    " [ 0.68955,  0.68007, -0.24904 , 0.26459],\n",
    " [ 0.  ,     0.  ,     0.   ,    1.     ]]\n",
    ")\n",
    "\n",
    "CuttingPoseB1 = np.array([[-0.26864,  0.55951,  0.78408,  0.50352],\n",
    " [ 0.67257, -0.47376,  0.5685,  -0.04761+0.03],\n",
    " [ 0.68955,  0.68007, -0.24904 , 0.26459],\n",
    " [ 0.  ,     0.  ,     0.   ,    1.     ]]\n",
    ")"
   ]
  },
  {
   "cell_type": "code",
   "execution_count": null,
   "id": "90eedf40",
   "metadata": {},
   "outputs": [],
   "source": []
  },
  {
   "cell_type": "code",
   "execution_count": null,
   "id": "df50683b",
   "metadata": {},
   "outputs": [],
   "source": []
  },
  {
   "cell_type": "code",
   "execution_count": null,
   "id": "e218032f",
   "metadata": {},
   "outputs": [],
   "source": []
  },
  {
   "cell_type": "code",
   "execution_count": null,
   "id": "forbidden-mexico",
   "metadata": {},
   "outputs": [],
   "source": [
    "material= MaterialType()\n",
    "material = material.PLASTIC\n",
    "\n",
    "#coordinates: next to cable on cable level richtige Höhe, check if in x oder y Richtung\n",
    "\n",
    "xstartPC2 = 0\n",
    "ystartPC2 = 0\n",
    "zstartPC2 = 0.012\n",
    "\n",
    "normalA = hrr_cm.ros_utils.np2vector3stamped(np.r_[0,0,-1], \"normalA\")\n",
    "normalB = hrr_cm.ros_utils.np2vector3stamped(np.r_[0,0,-1], \"normalB\")\n",
    "\n",
    "pointA1 = hrr_cm.ros_utils.np2vector3stamped(np.r_[xstartPC2,ystartPC2,zstartPC2], \"pointA1\")\n",
    "pointB1 = hrr_cm.ros_utils.np2vector3stamped(np.r_[xstartPC2,ystartPC2+0.015,zstartPC2], \"pointB1\")"
   ]
  },
  {
   "cell_type": "code",
   "execution_count": null,
   "id": "located-sweet",
   "metadata": {},
   "outputs": [],
   "source": [
    "PrePoseA1, PrePoseB1, CuttingPoseA1, CuttingPoseB1 = points_to_poses(normalA, normalB, pointA1, pointB1, \n",
    "                                                                     cuttingdepth=0, safety_distance=0.05,\n",
    "                                                                    Shaftgrinder_tf = Shaftgrinder_tf_PC2)"
   ]
  },
  {
   "cell_type": "code",
   "execution_count": null,
   "id": "major-athletics",
   "metadata": {},
   "outputs": [],
   "source": [
    "Move_to_all_Poses(PrePoseA=PrePoseA1,PrePoseB=PrePoseB1,CuttingPoseA=CuttingPoseA1,CuttingPoseB=CuttingPoseB1,rpm=20000)"
   ]
  },
  {
   "cell_type": "code",
   "execution_count": null,
   "id": "87d5b990",
   "metadata": {},
   "outputs": [],
   "source": []
  },
  {
   "cell_type": "code",
   "execution_count": null,
   "id": "74c78dc3",
   "metadata": {},
   "outputs": [],
   "source": []
  },
  {
   "cell_type": "markdown",
   "id": "fa591c22",
   "metadata": {},
   "source": [
    "Second cable bunch"
   ]
  },
  {
   "cell_type": "code",
   "execution_count": 138,
   "id": "12e3e1b4",
   "metadata": {},
   "outputs": [
    {
     "name": "stdout",
     "output_type": "stream",
     "text": [
      "[[-0.25151  0.58966  0.76749  0.50753]\n",
      " [ 0.22861 -0.73435  0.63911  0.01337]\n",
      " [ 0.94047  0.3362   0.04989  0.22234]\n",
      " [ 0.       0.       0.       1.     ]]\n"
     ]
    }
   ],
   "source": [
    "Shaftgrinder_tf_PC2 = (cobot.FK(cobot.q).A)\n",
    "print(Shaftgrinder_tf_PC2)\n",
    "toEE = np.array([0,0,0])"
   ]
  },
  {
   "cell_type": "code",
   "execution_count": 145,
   "id": "c3669dd5",
   "metadata": {},
   "outputs": [
    {
     "name": "stdout",
     "output_type": "stream",
     "text": [
      "  \u001b[38;5;1m-0.749466   \u001b[0m\u001b[38;5;1m-0.576492   \u001b[0m\u001b[38;5;1m-0.325512   \u001b[0m\u001b[38;5;4m 0.50753    \u001b[0m  \u001b[0m\n",
      "  \u001b[38;5;1m 0.273497   \u001b[0m\u001b[38;5;1m-0.717365   \u001b[0m\u001b[38;5;1m 0.640771   \u001b[0m\u001b[38;5;4m 0.01337    \u001b[0m  \u001b[0m\n",
      "  \u001b[38;5;1m-0.60291    \u001b[0m\u001b[38;5;1m 0.391209   \u001b[0m\u001b[38;5;1m 0.695309   \u001b[0m\u001b[38;5;4m 0.22234    \u001b[0m  \u001b[0m\n",
      "  \u001b[38;5;244m 0          \u001b[0m\u001b[38;5;244m 0          \u001b[0m\u001b[38;5;244m 0          \u001b[0m\u001b[38;5;244m 1          \u001b[0m  \u001b[0m\n",
      "\n"
     ]
    }
   ],
   "source": [
    "print(CuttingPoseB1)"
   ]
  },
  {
   "cell_type": "code",
   "execution_count": 139,
   "id": "8643ba0e",
   "metadata": {},
   "outputs": [],
   "source": [
    "Shaftgrinder_tf_PC2 = np.array([[-0.25151,  0.58966,  0.76749,  0.50753],\n",
    " [ 0.22861, -0.73435,  0.63911,  0.01337],\n",
    " [ 0.94047,  0.3362,   0.04989,  0.22234],\n",
    " [ 0. ,      0. ,      0.  ,     1.     ]]\n",
    ")"
   ]
  },
  {
   "cell_type": "code",
   "execution_count": null,
   "id": "24a14151",
   "metadata": {},
   "outputs": [],
   "source": [
    "cobot.tool_controller.rpm = 20000"
   ]
  },
  {
   "cell_type": "code",
   "execution_count": null,
   "id": "610c8cc8",
   "metadata": {},
   "outputs": [],
   "source": [
    "cobot.tool_controller.disable()"
   ]
  },
  {
   "cell_type": "code",
   "execution_count": null,
   "id": "561d0b7d",
   "metadata": {},
   "outputs": [],
   "source": [
    "cobot.tool_controller.enable_grinder()"
   ]
  },
  {
   "cell_type": "code",
   "execution_count": 140,
   "id": "8e7a1f46",
   "metadata": {},
   "outputs": [],
   "source": [
    "material= MaterialType()\n",
    "material = material.PLASTIC\n",
    "\n",
    "#coordinates: next to cable on cable level richtige Höhe, check if in x oder y Richtung\n",
    "\n",
    "xstartPC2 = 0.50753\n",
    "ystartPC2 = 0.01337\n",
    "zstartPC2 = 0.22234\n",
    "\n",
    "normalA = hrr_cm.ros_utils.np2vector3stamped(np.r_[0,0,-1], \"normalA\")\n",
    "normalB = hrr_cm.ros_utils.np2vector3stamped(np.r_[0,0,-1], \"normalB\")\n",
    "\n",
    "pointA1 = hrr_cm.ros_utils.np2vector3stamped(np.r_[xstartPC2,ystartPC2-0.04,zstartPC2], \"pointA1\")\n",
    "pointB1 = hrr_cm.ros_utils.np2vector3stamped(np.r_[xstartPC2,ystartPC2,zstartPC2], \"pointB1\")"
   ]
  },
  {
   "cell_type": "code",
   "execution_count": 153,
   "id": "dce3c6d8",
   "metadata": {},
   "outputs": [],
   "source": [
    "PrePoseA1 = np.array([[-0.25151,  0.58966,  0.76749,  0.50753],\n",
    " [ 0.22861, -0.73435,  0.63911,  0.01337-0.05],\n",
    " [ 0.94047,  0.3362,   0.04989,  0.22234+0.05],\n",
    " [ 0. ,      0. ,      0.  ,     1.     ]]\n",
    ")\n",
    "PrePoseB1 = np.array([[-0.25151,  0.58966,  0.76749,  0.50753],\n",
    " [ 0.22861, -0.73435,  0.63911,  0.01337],\n",
    " [ 0.94047,  0.3362,   0.04989,  0.22234+0.05],\n",
    " [ 0. ,      0. ,      0.  ,     1.     ]]\n",
    ")\n",
    "\n",
    "CuttingPoseA1 = np.array([[-0.25151,  0.58966,  0.76749,  0.50753],\n",
    " [ 0.22861, -0.73435,  0.63911,  0.01337-0.05],\n",
    " [ 0.94047,  0.3362,   0.04989,  0.22234],\n",
    " [ 0. ,      0. ,      0.  ,     1.     ]]\n",
    ")\n",
    "\n",
    "CuttingPoseB1 = np.array([[-0.25151,  0.58966,  0.76749,  0.50753],\n",
    " [ 0.22861, -0.73435,  0.63911,  0.01337],\n",
    " [ 0.94047,  0.3362,   0.04989,  0.22234],\n",
    " [ 0. ,      0. ,      0.  ,     1.     ]]\n",
    ")"
   ]
  },
  {
   "cell_type": "code",
   "execution_count": 141,
   "id": "8795c8c4",
   "metadata": {},
   "outputs": [],
   "source": [
    "PrePoseA1, PrePoseB1, CuttingPoseA1, CuttingPoseB1 = points_to_poses(normalA, normalB, pointA1, pointB1, \n",
    "                                                                     cuttingdepth=0, safety_distance=0.05,\n",
    "                                                                    Shaftgrinder_tf = Shaftgrinder_tf_PC2)"
   ]
  },
  {
   "cell_type": "code",
   "execution_count": null,
   "id": "db1ba502",
   "metadata": {},
   "outputs": [],
   "source": [
    "Move_to_all_Poses(PrePoseA=PrePoseA1,PrePoseB=PrePoseB1,CuttingPoseA=CuttingPoseA1,CuttingPoseB=CuttingPoseB1,rpm=20000)"
   ]
  },
  {
   "cell_type": "code",
   "execution_count": null,
   "id": "912832de",
   "metadata": {},
   "outputs": [],
   "source": [
    "cobot.F_max = 120"
   ]
  },
  {
   "cell_type": "code",
   "execution_count": null,
   "id": "c976c3b9",
   "metadata": {},
   "outputs": [],
   "source": [
    "cobot.move_to_pose(Shaftgrinder_tf_1,v_max=0.01,rot_max=0.01)"
   ]
  },
  {
   "cell_type": "code",
   "execution_count": 175,
   "id": "1989cb59",
   "metadata": {},
   "outputs": [],
   "source": [
    "cobot.move_to_pose(PrePoseB1,v_max=0.01,rot_max=0.01)"
   ]
  },
  {
   "cell_type": "code",
   "execution_count": 176,
   "id": "db0c097e",
   "metadata": {},
   "outputs": [
    {
     "data": {
      "application/vnd.jupyter.widget-view+json": {
       "model_id": "986b91a331044f8abe8f8b317811468f",
       "version_major": 2,
       "version_minor": 0
      },
      "text/plain": [
       "  0%|          | 0/5000 [00:00<?, ?it/s]"
      ]
     },
     "metadata": {},
     "output_type": "display_data"
    },
    {
     "name": "stdout",
     "output_type": "stream",
     "text": [
      "[INFO] [1642066613.187943]: reached goal pose at step 776 / 5000\n"
     ]
    }
   ],
   "source": [
    "# executes the loop to move the robot\n",
    "T = int(50 * cobot.hz)\n",
    "for t in trange(T):\n",
    "    if cobot.state is None:\n",
    "        rospy.loginfo(f\"reached goal pose at step {t + 1} / {T}\")\n",
    "        break\n",
    "    elif cobot.state == \"error\":\n",
    "        rospy.logerr(f\"robot in ERROR state\")\n",
    "    cobot.update()"
   ]
  },
  {
   "cell_type": "code",
   "execution_count": null,
   "id": "f04830f9",
   "metadata": {},
   "outputs": [],
   "source": []
  },
  {
   "cell_type": "markdown",
   "id": "cdb09e1a",
   "metadata": {},
   "source": [
    "Record:"
   ]
  },
  {
   "cell_type": "code",
   "execution_count": 244,
   "id": "d3423d3b",
   "metadata": {},
   "outputs": [],
   "source": [
    "PrePoseA1 = np.array([[-0.26864,  0.55951,  0.78408,  0.50352-0.002],\n",
    " [ 0.67257, -0.47376,  0.5685,  -0.04761],\n",
    " [ 0.68955,  0.68007, -0.24904 , 0.26459+0.05],\n",
    " [ 0.  ,     0.  ,     0.   ,    1.     ]]\n",
    ")\n",
    "\n",
    "PrePoseB1 = np.array([[-0.26864,  0.55951,  0.78408,  0.50352-0.002],\n",
    " [ 0.67257, -0.47376,  0.5685,  -0.04761+0.03],\n",
    " [ 0.68955,  0.68007, -0.24904 , 0.26459+0.05],\n",
    " [ 0.  ,     0.  ,     0.   ,    1.     ]]\n",
    ")\n",
    "\n",
    "CuttingPoseA1 = np.array([[-0.26864,  0.55951,  0.78408,  0.50352-0.002],\n",
    " [ 0.67257, -0.47376,  0.5685,  -0.04761],\n",
    " [ 0.68955,  0.68007, -0.24904 , 0.26459-0.009],\n",
    " [ 0.  ,     0.  ,     0.   ,    1.     ]]\n",
    ")\n",
    "\n",
    "CuttingPoseB1 = np.array([[-0.26864,  0.55951,  0.78408,  0.50352-0.002],\n",
    " [ 0.67257, -0.47376,  0.5685,  -0.04761+0.03],\n",
    " [ 0.68955,  0.68007, -0.24904 , 0.26459-0.009],\n",
    " [ 0.  ,     0.  ,     0.   ,    1.     ]]\n",
    ")"
   ]
  },
  {
   "cell_type": "code",
   "execution_count": 245,
   "id": "079d1ae1",
   "metadata": {},
   "outputs": [
    {
     "data": {
      "application/vnd.jupyter.widget-view+json": {
       "model_id": "da28f9c7052b45ca9832fea3744593f5",
       "version_major": 2,
       "version_minor": 0
      },
      "text/plain": [
       "  0%|          | 0/500000 [00:00<?, ?it/s]"
      ]
     },
     "metadata": {},
     "output_type": "display_data"
    },
    {
     "name": "stdout",
     "output_type": "stream",
     "text": [
      "[INFO] [1642068493.323317]: reached goal pose at step 4248 / 500000\n"
     ]
    },
    {
     "data": {
      "application/vnd.jupyter.widget-view+json": {
       "model_id": "5efaf50211194a83b0d9191296de0385",
       "version_major": 2,
       "version_minor": 0
      },
      "text/plain": [
       "  0%|          | 0/500000 [00:00<?, ?it/s]"
      ]
     },
     "metadata": {},
     "output_type": "display_data"
    },
    {
     "name": "stdout",
     "output_type": "stream",
     "text": [
      "[INFO] [1642068520.647062]: reached goal pose at step 2727 / 500000\n"
     ]
    },
    {
     "data": {
      "application/vnd.jupyter.widget-view+json": {
       "model_id": "597ea377b60646d4b5360cc0e0d65dff",
       "version_major": 2,
       "version_minor": 0
      },
      "text/plain": [
       "  0%|          | 0/500000 [00:00<?, ?it/s]"
      ]
     },
     "metadata": {},
     "output_type": "display_data"
    },
    {
     "name": "stdout",
     "output_type": "stream",
     "text": [
      "[INFO] [1642068543.150431]: reached goal pose at step 2244 / 500000\n"
     ]
    },
    {
     "data": {
      "application/vnd.jupyter.widget-view+json": {
       "model_id": "35a993d0edda41c18a52414ed8225307",
       "version_major": 2,
       "version_minor": 0
      },
      "text/plain": [
       "  0%|          | 0/500000 [00:00<?, ?it/s]"
      ]
     },
     "metadata": {},
     "output_type": "display_data"
    },
    {
     "name": "stdout",
     "output_type": "stream",
     "text": [
      "[INFO] [1642068551.312343]: reached goal pose at step 809 / 500000\n"
     ]
    }
   ],
   "source": [
    "Move_to_all_Poses(PrePoseA=PrePoseA1,PrePoseB=PrePoseB1,CuttingPoseA=CuttingPoseA1,CuttingPoseB=CuttingPoseB1,rpm=20000)"
   ]
  },
  {
   "cell_type": "code",
   "execution_count": 246,
   "id": "6d7e2074",
   "metadata": {},
   "outputs": [],
   "source": [
    "PrePoseA1 = np.array([[-0.25151,  0.58966,  0.76749,  0.50753],\n",
    " [ 0.22861, -0.73435,  0.63911,  0.01337-0.05],\n",
    " [ 0.94047,  0.3362,   0.04989,  0.22234+0.05],\n",
    " [ 0. ,      0. ,      0.  ,     1.     ]]\n",
    ")\n",
    "PrePoseB1 = np.array([[-0.25151,  0.58966,  0.76749,  0.50753],\n",
    " [ 0.22861, -0.73435,  0.63911,  0.01337],\n",
    " [ 0.94047,  0.3362,   0.04989,  0.22234+0.10],\n",
    " [ 0. ,      0. ,      0.  ,     1.     ]]\n",
    ")\n",
    "\n",
    "CuttingPoseA1 = np.array([[-0.25151,  0.58966,  0.76749,  0.50753],\n",
    " [ 0.22861, -0.73435,  0.63911,  0.01337-0.05],\n",
    " [ 0.94047,  0.3362,   0.04989,  0.215014 ],\n",
    " [ 0. ,      0. ,      0.  ,     1.     ]]\n",
    ")\n",
    "\n",
    "CuttingPoseB1 = np.array([[-0.25151,  0.58966,  0.76749,  0.50753],\n",
    " [ 0.22861, -0.73435,  0.63911,  0.01337],\n",
    " [ 0.94047,  0.3362,   0.04989,  0.215014 ],\n",
    " [ 0. ,      0. ,      0.  ,     1.     ]]\n",
    ")"
   ]
  },
  {
   "cell_type": "code",
   "execution_count": 247,
   "id": "fa69abc9",
   "metadata": {},
   "outputs": [
    {
     "data": {
      "application/vnd.jupyter.widget-view+json": {
       "model_id": "9d5fc9198c134393973f2d4cfc01d2bf",
       "version_major": 2,
       "version_minor": 0
      },
      "text/plain": [
       "  0%|          | 0/500000 [00:00<?, ?it/s]"
      ]
     },
     "metadata": {},
     "output_type": "display_data"
    },
    {
     "name": "stdout",
     "output_type": "stream",
     "text": [
      "[INFO] [1642068583.175502]: reached goal pose at step 2674 / 500000\n"
     ]
    },
    {
     "data": {
      "application/vnd.jupyter.widget-view+json": {
       "model_id": "5b8820a31f3d4aa29a4e57ff3a567f1c",
       "version_major": 2,
       "version_minor": 0
      },
      "text/plain": [
       "  0%|          | 0/500000 [00:00<?, ?it/s]"
      ]
     },
     "metadata": {},
     "output_type": "display_data"
    },
    {
     "name": "stdout",
     "output_type": "stream",
     "text": [
      "[INFO] [1642068610.314466]: reached goal pose at step 2707 / 500000\n"
     ]
    },
    {
     "data": {
      "application/vnd.jupyter.widget-view+json": {
       "model_id": "664584bb0af447359369413a1e7b16c8",
       "version_major": 2,
       "version_minor": 0
      },
      "text/plain": [
       "  0%|          | 0/500000 [00:00<?, ?it/s]"
      ]
     },
     "metadata": {},
     "output_type": "display_data"
    },
    {
     "name": "stdout",
     "output_type": "stream",
     "text": [
      "[INFO] [1642068636.322241]: reached goal pose at step 2593 / 500000\n"
     ]
    },
    {
     "data": {
      "application/vnd.jupyter.widget-view+json": {
       "model_id": "be7fddbdf1164c1ba709e81eadad4661",
       "version_major": 2,
       "version_minor": 0
      },
      "text/plain": [
       "  0%|          | 0/500000 [00:00<?, ?it/s]"
      ]
     },
     "metadata": {},
     "output_type": "display_data"
    },
    {
     "name": "stdout",
     "output_type": "stream",
     "text": [
      "[INFO] [1642068645.672513]: reached goal pose at step 928 / 500000\n"
     ]
    }
   ],
   "source": [
    "Move_to_all_Poses(PrePoseA=PrePoseA1,PrePoseB=PrePoseB1,CuttingPoseA=CuttingPoseA1,CuttingPoseB=CuttingPoseB1,rpm=20000)"
   ]
  },
  {
   "cell_type": "code",
   "execution_count": 248,
   "id": "6eec859c",
   "metadata": {},
   "outputs": [],
   "source": [
    "cobot.move_to_pose(Shaftgrinder_tf_1,v_max=0.01,rot_max=0.01)"
   ]
  },
  {
   "cell_type": "code",
   "execution_count": 238,
   "id": "15d332b7",
   "metadata": {},
   "outputs": [],
   "source": [
    "cobot.move_to_pose(PrePoseB1,v_max=0.01,rot_max=0.01)"
   ]
  },
  {
   "cell_type": "code",
   "execution_count": 249,
   "id": "e9f227a4",
   "metadata": {},
   "outputs": [
    {
     "data": {
      "application/vnd.jupyter.widget-view+json": {
       "model_id": "6972c0d26e3846b98193bd8bed9b1fc2",
       "version_major": 2,
       "version_minor": 0
      },
      "text/plain": [
       "  0%|          | 0/5000 [00:00<?, ?it/s]"
      ]
     },
     "metadata": {},
     "output_type": "display_data"
    },
    {
     "name": "stdout",
     "output_type": "stream",
     "text": [
      "[INFO] [1642068688.061724]: reached goal pose at step 3957 / 5000\n"
     ]
    }
   ],
   "source": [
    "# executes the loop to move the robot\n",
    "T = int(50 * cobot.hz)\n",
    "for t in trange(T):\n",
    "    if cobot.state is None:\n",
    "        rospy.loginfo(f\"reached goal pose at step {t + 1} / {T}\")\n",
    "        break\n",
    "    elif cobot.state == \"error\":\n",
    "        rospy.logerr(f\"robot in ERROR state\")\n",
    "    cobot.update()"
   ]
  },
  {
   "cell_type": "code",
   "execution_count": 243,
   "id": "2ae2f3d2",
   "metadata": {},
   "outputs": [],
   "source": [
    "cobot.tool_controller.disable()"
   ]
  },
  {
   "cell_type": "code",
   "execution_count": 242,
   "id": "950e4092",
   "metadata": {},
   "outputs": [],
   "source": [
    "cobot.tool_controller.enable_grinder()"
   ]
  },
  {
   "cell_type": "code",
   "execution_count": 216,
   "id": "ff7dcff7",
   "metadata": {},
   "outputs": [
    {
     "name": "stdout",
     "output_type": "stream",
     "text": [
      "[[-0.25151  0.58966  0.76749  0.50753]\n",
      " [ 0.22861 -0.73435  0.63911  0.01337]\n",
      " [ 0.94047  0.3362   0.04989  0.22234]\n",
      " [ 0.       0.       0.       1.     ]]\n",
      "  \u001b[38;5;1m-0.250798   \u001b[0m\u001b[38;5;1m 0.590723   \u001b[0m\u001b[38;5;1m 0.766907   \u001b[0m\u001b[38;5;4m 0.506536   \u001b[0m  \u001b[0m\n",
      "  \u001b[38;5;1m 0.227425   \u001b[0m\u001b[38;5;1m-0.734099   \u001b[0m\u001b[38;5;1m 0.639825   \u001b[0m\u001b[38;5;4m 0.014362   \u001b[0m  \u001b[0m\n",
      "  \u001b[38;5;1m 0.940945   \u001b[0m\u001b[38;5;1m 0.334881   \u001b[0m\u001b[38;5;1m 0.0497654  \u001b[0m\u001b[38;5;4m 0.215014   \u001b[0m  \u001b[0m\n",
      "  \u001b[38;5;244m 0          \u001b[0m\u001b[38;5;244m 0          \u001b[0m\u001b[38;5;244m 0          \u001b[0m\u001b[38;5;244m 1          \u001b[0m  \u001b[0m\n",
      "\n"
     ]
    }
   ],
   "source": [
    "print(PrePoseB1)\n",
    "print(cobot.FK(cobot.q))"
   ]
  },
  {
   "cell_type": "code",
   "execution_count": 1,
   "id": "b1d59290",
   "metadata": {},
   "outputs": [],
   "source": [
    "import time "
   ]
  },
  {
   "cell_type": "code",
   "execution_count": 15,
   "id": "bdadbbb8",
   "metadata": {},
   "outputs": [
    {
     "name": "stdout",
     "output_type": "stream",
     "text": [
      "1644510160.1788118\n"
     ]
    }
   ],
   "source": [
    "start = time.time()\n",
    "print(start)\n",
    "b = 0"
   ]
  },
  {
   "cell_type": "code",
   "execution_count": 16,
   "id": "90d0e739",
   "metadata": {},
   "outputs": [
    {
     "name": "stdout",
     "output_type": "stream",
     "text": [
      "%alias\n",
      "b\n"
     ]
    }
   ],
   "source": [
    "while time.time() - start < 5 and b == 0:\n",
    "    print(\"%alias\")\n",
    "    time.sleep(7)\n",
    "    b = 1\n",
    "    print(\"b\")"
   ]
  },
  {
   "cell_type": "code",
   "execution_count": null,
   "id": "2588bc24",
   "metadata": {},
   "outputs": [],
   "source": []
  }
 ],
 "metadata": {
  "kernelspec": {
   "display_name": "Python 3",
   "language": "python",
   "name": "python3"
  },
  "language_info": {
   "codemirror_mode": {
    "name": "ipython",
    "version": 3
   },
   "file_extension": ".py",
   "mimetype": "text/x-python",
   "name": "python",
   "nbconvert_exporter": "python",
   "pygments_lexer": "ipython3",
   "version": "3.8.5"
  },
  "latex_envs": {
   "LaTeX_envs_menu_present": true,
   "autoclose": false,
   "autocomplete": true,
   "bibliofile": "biblio.bib",
   "cite_by": "apalike",
   "current_citInitial": 1,
   "eqLabelWithNumbers": true,
   "eqNumInitial": 1,
   "hotkeys": {
    "equation": "Ctrl-E",
    "itemize": "Ctrl-I"
   },
   "labels_anchors": false,
   "latex_user_defs": false,
   "report_style_numbering": false,
   "user_envs_cfg": false
  },
  "toc": {
   "base_numbering": 1,
   "nav_menu": {},
   "number_sections": true,
   "sideBar": true,
   "skip_h1_title": false,
   "title_cell": "Table of Contents",
   "title_sidebar": "Contents",
   "toc_cell": false,
   "toc_position": {
    "height": "calc(100% - 180px)",
    "left": "10px",
    "top": "150px",
    "width": "369.6px"
   },
   "toc_section_display": true,
   "toc_window_display": true
  }
 },
 "nbformat": 4,
 "nbformat_minor": 5
}
