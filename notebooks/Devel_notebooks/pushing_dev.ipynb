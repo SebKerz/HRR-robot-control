{
 "cells": [
  {
   "cell_type": "code",
   "execution_count": 1,
   "id": "daily-transparency",
   "metadata": {},
   "outputs": [],
   "source": [
    "import numpy as np\n",
    "import sys\n",
    "import hrr_common.utils as cu\n",
    "import hrr_common as hrr_cm\n",
    "import hrr_cobot_robot as hrr_rob\n",
    "import spatialmath as sm\n",
    "import rospy\n",
    "from tqdm.notebook import tqdm, trange\n",
    "from geometry_msgs.msg import Vector3Stamped, PointStamped\n",
    "from hrr_msgs.msg import PlannerAction , PlannerGoal\n",
    "from hrr_cobot_robot.gripper_interfaces.wsg_50_hw_local import gripper_command_handle as gch\n",
    "# ROS\n",
    "import actionlib"
   ]
  },
  {
   "cell_type": "markdown",
   "id": "secondary-definition",
   "metadata": {},
   "source": [
    "### ros setup for the lab"
   ]
  },
  {
   "cell_type": "code",
   "execution_count": 2,
   "id": "inner-seafood",
   "metadata": {},
   "outputs": [
    {
     "name": "stdout",
     "output_type": "stream",
     "text": [
      "for a local setup, replace the above by:\n",
      "\t%env ROS_MASTER_URI=http://localhost:11311\n",
      "env: ROS_MASTER_URI=http://hrrN3511rt2004.lsr.ei.tum.de:11311\n",
      "in case this notebook does not work please check that IP below is identical:\n",
      "\t%env ROS_IP=129.187.147.174\t\t<=>\tenv: ROS_IP=129.187.147.174\n"
     ]
    }
   ],
   "source": [
    "import socket\n",
    "print(\"for a local setup, replace the above by:\\n\\t\" + \\\n",
    "      r\"%env ROS_MASTER_URI=http://localhost:11311\")\n",
    "%env ROS_MASTER_URI=http://hrrN3511rt2004.lsr.ei.tum.de:11311\n",
    "print(\"in case this notebook does not work please check that IP below is identical:\\n\\t\"+\n",
    "      r\"%env \" + f\"ROS_IP={ socket.gethostbyname(socket. gethostname())}\\t\\t<=>\",end=\"\\t\")\n",
    "%env ROS_IP=129.187.147.174"
   ]
  },
  {
   "cell_type": "code",
   "execution_count": 3,
   "id": "brazilian-waterproof",
   "metadata": {},
   "outputs": [],
   "source": [
    "rospy.init_node('pushing_dev')"
   ]
  },
  {
   "cell_type": "markdown",
   "id": "thirty-drink",
   "metadata": {},
   "source": [
    "# Actual grasping routine"
   ]
  },
  {
   "cell_type": "markdown",
   "id": "underlying-announcement",
   "metadata": {},
   "source": [
    "### Use case: Push PSU from the outside"
   ]
  },
  {
   "cell_type": "markdown",
   "id": "virgin-chicago",
   "metadata": {},
   "source": [
    "### Init robot control"
   ]
  },
  {
   "cell_type": "code",
   "execution_count": 5,
   "id": "completed-triumph",
   "metadata": {
    "scrolled": true
   },
   "outputs": [
    {
     "name": "stderr",
     "output_type": "stream",
     "text": [
      "[ERROR] [1642080643.879879]: could not set tool-frame @ /pushing_dev due to missing ROS-parameter: '~tool_name'\n"
     ]
    },
    {
     "name": "stdout",
     "output_type": "stream",
     "text": [
      "[INFO] [1642080644.017694]: Updated force  gains: K_p:=[0.0001, 0.0001, 0.0001]\n",
      "[INFO] [1642080644.019583]: Updated torque gains: K_p:=[0.0005, 0.0005, 0.0005]\n",
      "q:\t\t[-7.07486135e-02  6.40425417e-02 -9.00067234e+01  6.64071345e-02\n",
      "  8.99218651e+01 -1.25206332e-01][°]\n",
      "q_dot:\t\t[0. 0. 0. 0. 0. 0.][rad/s]\n",
      "tau:\t\t[0. 0. 0. 0. 0. 0.][Nm]\n",
      "pos:\t\t[4.36425110e-01 4.46169287e-04 7.04523010e-01][m]\n",
      "quat:\t\t0.00005 <[ 4.74548848e-04  9.99999768e-01 -4.85068907e-04]>\n",
      "tool-pos:\t[4.36425110e-01 4.46169287e-04 7.04523010e-01][m]\n",
      "tool-rpy:\t[-1.79945618e+02  6.23249868e-03  1.79944412e+02][°]\n",
      "robot-status:\tready\n"
     ]
    }
   ],
   "source": [
    "hrr_rob.load_default_parameters(\"/hrr_cobot\")\n",
    "cobot = hrr_rob.HrrCobotControl.from_ros()\n",
    "rospy.set_param(\"~joint_state_topic_name\", \"/hrr_cobot/joint_states\")\n",
    "rospy.set_param(\"~tp5_topic_name\", \"/hrr_cobot/comau_robot_state_controller/comau_cartesian_data\")\n",
    "comau_status = hrr_rob.ComauRobotState.from_ros()\n",
    "rospy.sleep(1e-1)\n",
    "print(comau_status)"
   ]
  },
  {
   "cell_type": "markdown",
   "id": "narrative-coordination",
   "metadata": {},
   "source": [
    "### Parameters given from outside"
   ]
  },
  {
   "cell_type": "markdown",
   "id": "hazardous-playing",
   "metadata": {},
   "source": [
    "#Normal vector on the surface of which to push (i.e. the opposite of the direction we want to push in)\n",
    "surface_normal = PointStamped()#np.array([0, 1, 0]) #pointStamped\n",
    "#location\n",
    "#where we want to start pushing (for testing use current pose as goal_pose)\n",
    "contact_point = Vector3Stamped() #vector3stamped \n",
    "#pushing distance\n",
    "push_dist = 5e-2 #in meters"
   ]
  },
  {
   "cell_type": "markdown",
   "id": "acute-politics",
   "metadata": {},
   "source": [
    "### Compute goal pose"
   ]
  },
  {
   "cell_type": "markdown",
   "id": "conditional-trial",
   "metadata": {},
   "source": [
    "nvec = np.array([surface_normal.point.x, surface_normal.point.y, surface_normal.point.z])\n",
    "location = np.array([contact_point.vector.x, contact_point.vector.y, contact_point.vector.z])\n",
    "C_p_CE = np.array([0,0,0]) #displacement from tip of tool to last link in tip of tool frame\n",
    "goal_pose = cu.calc_EE_goal_pose(nvec,location,C_p_CE)"
   ]
  },
  {
   "cell_type": "code",
   "execution_count": 8,
   "id": "catholic-recall",
   "metadata": {},
   "outputs": [],
   "source": [
    "#Using Gripper\n",
    "gripper = gch.GripperCommandHandle('/hrr_cobot/gripper')\n",
    "gripper.reset()\n",
    "#Also, orientation needs to be done such that the fingers point in -nvec direction"
   ]
  },
  {
   "cell_type": "code",
   "execution_count": 7,
   "id": "surprising-tongue",
   "metadata": {},
   "outputs": [],
   "source": [
    "gripper.send_pos(20,100) #closes gripper to 20mm with 100 mm/s closing speed\n",
    "#We assume that we push with the fingers of the gripper, while the fingers are closed\n",
    "#We assume the closed fingers are directly beneath the EE of the robot, \n",
    "#i.e. the transformation from EE to tip of fingers is only a translation\n",
    "#Now location needs to be translated by that distance between tip of fingers and robot EE"
   ]
  },
  {
   "cell_type": "markdown",
   "id": "occupational-journal",
   "metadata": {},
   "source": [
    "### Alternatively, use manual goal pose and nvec (for demo etc)"
   ]
  },
  {
   "cell_type": "code",
   "execution_count": 12,
   "id": "technological-aging",
   "metadata": {},
   "outputs": [
    {
     "data": {
      "text/plain": [
       "  \u001b[38;5;1m-0.6646  \u001b[0m \u001b[38;5;1m-0.7472  \u001b[0m \u001b[38;5;1m-9.467e-05\u001b[0m \u001b[38;5;4m 0.6477  \u001b[0m  \u001b[0m\n",
       "  \u001b[38;5;1m 0.003176\u001b[0m \u001b[38;5;1m-0.002698\u001b[0m \u001b[38;5;1m-1       \u001b[0m \u001b[38;5;4m 0.07612 \u001b[0m  \u001b[0m\n",
       "  \u001b[38;5;1m 0.7472  \u001b[0m \u001b[38;5;1m-0.6646  \u001b[0m \u001b[38;5;1m 0.004166\u001b[0m \u001b[38;5;4m 0.09073 \u001b[0m  \u001b[0m\n",
       "  \u001b[38;5;244m 0       \u001b[0m \u001b[38;5;244m 0       \u001b[0m \u001b[38;5;244m 0       \u001b[0m \u001b[38;5;244m 1       \u001b[0m  \u001b[0m\n"
      ]
     },
     "execution_count": 12,
     "metadata": {},
     "output_type": "execute_result"
    }
   ],
   "source": [
    "#np.save('goal_pose_pushing',cobot.T_B_E_robot.A,allow_pickle=True) #saves current pose as goal_pose\n",
    "goal_pose = np.load('goal_pose_pushing.npy')\n",
    "nvec = np.array([0, 1, 0]) #surface normal\n",
    "sm.SE3(goal_pose)"
   ]
  },
  {
   "cell_type": "markdown",
   "id": "manufactured-nirvana",
   "metadata": {},
   "source": [
    "### Compute pre-pose and end-of-push-pose"
   ]
  },
  {
   "cell_type": "code",
   "execution_count": 31,
   "id": "structured-april",
   "metadata": {},
   "outputs": [],
   "source": [
    "#desired distance from goal-pose to pre-pose\n",
    "planner_pre_pose_dist = 0.05 #m\n",
    "pre_pose_dist = 0.05 #m\n",
    "push_dist = 0.03 #m"
   ]
  },
  {
   "cell_type": "code",
   "execution_count": 32,
   "id": "intense-abortion",
   "metadata": {},
   "outputs": [
    {
     "data": {
      "text/plain": [
       "  \u001b[38;5;1m-0.6646  \u001b[0m \u001b[38;5;1m-0.7472  \u001b[0m \u001b[38;5;1m-9.467e-05\u001b[0m \u001b[38;5;4m 0.6477  \u001b[0m  \u001b[0m\n",
       "  \u001b[38;5;1m 0.003176\u001b[0m \u001b[38;5;1m-0.002698\u001b[0m \u001b[38;5;1m-1       \u001b[0m \u001b[38;5;4m 0.1261  \u001b[0m  \u001b[0m\n",
       "  \u001b[38;5;1m 0.7472  \u001b[0m \u001b[38;5;1m-0.6646  \u001b[0m \u001b[38;5;1m 0.004166\u001b[0m \u001b[38;5;4m 0.09073 \u001b[0m  \u001b[0m\n",
       "  \u001b[38;5;244m 0       \u001b[0m \u001b[38;5;244m 0       \u001b[0m \u001b[38;5;244m 0       \u001b[0m \u001b[38;5;244m 1       \u001b[0m  \u001b[0m\n"
      ]
     },
     "execution_count": 32,
     "metadata": {},
     "output_type": "execute_result"
    }
   ],
   "source": [
    "#Compute pre-pose from nvec, location, pre_pose_dist, disp_tip_EE\n",
    "nvec = cu.normalize_vec(nvec) #Make sure nvec is normalized\n",
    "pre_pose = sm.SE3(nvec* pre_pose_dist) @ sm.SE3(goal_pose)\n",
    "pre_pose"
   ]
  },
  {
   "cell_type": "code",
   "execution_count": 33,
   "id": "german-saturday",
   "metadata": {},
   "outputs": [
    {
     "data": {
      "text/plain": [
       "  \u001b[38;5;1m-0.6646  \u001b[0m \u001b[38;5;1m-0.7472  \u001b[0m \u001b[38;5;1m-9.467e-05\u001b[0m \u001b[38;5;4m 0.6477  \u001b[0m  \u001b[0m\n",
       "  \u001b[38;5;1m 0.003176\u001b[0m \u001b[38;5;1m-0.002698\u001b[0m \u001b[38;5;1m-1       \u001b[0m \u001b[38;5;4m 0.04612 \u001b[0m  \u001b[0m\n",
       "  \u001b[38;5;1m 0.7472  \u001b[0m \u001b[38;5;1m-0.6646  \u001b[0m \u001b[38;5;1m 0.004166\u001b[0m \u001b[38;5;4m 0.09073 \u001b[0m  \u001b[0m\n",
       "  \u001b[38;5;244m 0       \u001b[0m \u001b[38;5;244m 0       \u001b[0m \u001b[38;5;244m 0       \u001b[0m \u001b[38;5;244m 1       \u001b[0m  \u001b[0m\n"
      ]
     },
     "execution_count": 33,
     "metadata": {},
     "output_type": "execute_result"
    }
   ],
   "source": [
    "endofpush_pose = sm.SE3(-nvec* push_dist) @ sm.SE3(goal_pose)\n",
    "endofpush_pose"
   ]
  },
  {
   "cell_type": "code",
   "execution_count": 34,
   "id": "refined-input",
   "metadata": {},
   "outputs": [
    {
     "data": {
      "text/plain": [
       "  \u001b[38;5;1m-0.6646  \u001b[0m \u001b[38;5;1m-0.7472  \u001b[0m \u001b[38;5;1m-9.467e-05\u001b[0m \u001b[38;5;4m 0.6477  \u001b[0m  \u001b[0m\n",
       "  \u001b[38;5;1m 0.003176\u001b[0m \u001b[38;5;1m-0.002698\u001b[0m \u001b[38;5;1m-1       \u001b[0m \u001b[38;5;4m 0.1261  \u001b[0m  \u001b[0m\n",
       "  \u001b[38;5;1m 0.7472  \u001b[0m \u001b[38;5;1m-0.6646  \u001b[0m \u001b[38;5;1m 0.004166\u001b[0m \u001b[38;5;4m 0.1407  \u001b[0m  \u001b[0m\n",
       "  \u001b[38;5;244m 0       \u001b[0m \u001b[38;5;244m 0       \u001b[0m \u001b[38;5;244m 0       \u001b[0m \u001b[38;5;244m 1       \u001b[0m  \u001b[0m\n"
      ]
     },
     "execution_count": 34,
     "metadata": {},
     "output_type": "execute_result"
    }
   ],
   "source": [
    "planner_prepose = sm.SE3(np.array([0,0,1])*planner_pre_pose_dist) @ sm.SE3(pre_pose)\n",
    "planner_prepose"
   ]
  },
  {
   "cell_type": "markdown",
   "id": "popular-hampshire",
   "metadata": {},
   "source": [
    "### Init planner"
   ]
  },
  {
   "cell_type": "code",
   "execution_count": null,
   "id": "criminal-agenda",
   "metadata": {},
   "outputs": [],
   "source": [
    " # Initialize the planner action client.\n",
    "    \n",
    "# >> Remeber to run the planner node (rosrun planner planner_server_v2.py) in terminal\n",
    "# >> \n",
    "#rospy.init_node('planner_client')\n",
    "\n",
    "client1 = actionlib.SimpleActionClient('planner', PlannerAction)\n",
    "client1.wait_for_server()\n",
    "\n",
    "# Sending deride end configuration\n",
    "goal = PlannerGoal()\n",
    "goal.goal_pose.header.frame_id = \"map\"\n",
    "goal.goal_pose.header.stamp = rospy.Time.now()"
   ]
  },
  {
   "cell_type": "markdown",
   "id": "consecutive-member",
   "metadata": {},
   "source": [
    "### Start at calibration pose"
   ]
  },
  {
   "cell_type": "markdown",
   "id": "immune-indonesia",
   "metadata": {},
   "source": [
    "cobot.move_to_pose(cobot.FK(cobot.q_calib), err_gain = None, v_max = 0.03) #start_pose, cobot.FK(cobot.q_calib)\n",
    "T = int(100 * cobot.hz)\n",
    "for t in trange(T):\n",
    "    if cobot.state is None:\n",
    "        rospy.loginfo(f\"reached goal pose at step {t + 1} / {T}\")\n",
    "        break\n",
    "    elif cobot.state == \"error\":\n",
    "        rospy.logerror(f\"robot in ERROR state\")\n",
    "    cobot.update()"
   ]
  },
  {
   "cell_type": "code",
   "execution_count": 36,
   "id": "victorian-situation",
   "metadata": {},
   "outputs": [],
   "source": [
    "pre_pose_quat = cu.homog2quat(cobot.FK(cobot.q_calib))\n",
    "pre_pose_pos = cu.homog2pos(cobot.FK(cobot.q_calib))\n",
    "#position of end_configuration\n",
    "goal.goal_pose.pose.position.x = pre_pose_pos[0]\n",
    "goal.goal_pose.pose.position.y = pre_pose_pos[1]\n",
    "goal.goal_pose.pose.position.z = pre_pose_pos[2]\n",
    "\n",
    "#orientation of end_configuration\n",
    "goal.goal_pose.pose.orientation.x = pre_pose_quat.x\n",
    "goal.goal_pose.pose.orientation.y = pre_pose_quat.y\n",
    "goal.goal_pose.pose.orientation.z = pre_pose_quat.z\n",
    "goal.goal_pose.pose.orientation.w = pre_pose_quat.w\n",
    "client1.send_goal(goal)"
   ]
  },
  {
   "cell_type": "markdown",
   "id": "careful-bread",
   "metadata": {},
   "source": [
    "### Go to pre-pose using traj planner"
   ]
  },
  {
   "cell_type": "code",
   "execution_count": 37,
   "id": "latter-membrane",
   "metadata": {},
   "outputs": [],
   "source": [
    "pre_pose_quat = cu.homog2quat(planner_prepose)\n",
    "pre_pose_pos = cu.homog2pos(planner_prepose)\n",
    "#position of end_configuration\n",
    "goal.goal_pose.pose.position.x = pre_pose_pos[0]\n",
    "goal.goal_pose.pose.position.y = pre_pose_pos[1]\n",
    "goal.goal_pose.pose.position.z = pre_pose_pos[2]\n",
    "\n",
    "#orientation of end_configuration\n",
    "goal.goal_pose.pose.orientation.x = pre_pose_quat.x\n",
    "goal.goal_pose.pose.orientation.y = pre_pose_quat.y\n",
    "goal.goal_pose.pose.orientation.z = pre_pose_quat.z\n",
    "goal.goal_pose.pose.orientation.w = pre_pose_quat.w"
   ]
  },
  {
   "cell_type": "code",
   "execution_count": 38,
   "id": "gross-austin",
   "metadata": {},
   "outputs": [],
   "source": [
    "client1.send_goal(goal)\n",
    "gripper.send_pos(20,50)"
   ]
  },
  {
   "cell_type": "markdown",
   "id": "derived-weapon",
   "metadata": {},
   "source": [
    "### Approach and push"
   ]
  },
  {
   "cell_type": "code",
   "execution_count": 39,
   "id": "ranking-latex",
   "metadata": {},
   "outputs": [
    {
     "data": {
      "application/vnd.jupyter.widget-view+json": {
       "model_id": "e0b9088a42694a328ed3b98cca7370e6",
       "version_major": 2,
       "version_minor": 0
      },
      "text/plain": [
       "  0%|          | 0/10000 [00:00<?, ?it/s]"
      ]
     },
     "metadata": {},
     "output_type": "display_data"
    },
    {
     "name": "stdout",
     "output_type": "stream",
     "text": [
      "[INFO] [1642081583.422478]: reached goal pose at step 195 / 10000\n"
     ]
    }
   ],
   "source": [
    "cobot.move_to_pose(pre_pose)\n",
    "T = int(100 * cobot.hz)\n",
    "for t in trange(T):\n",
    "    if cobot.state is None:\n",
    "        rospy.loginfo(f\"reached goal pose at step {t + 1} / {T}\")\n",
    "        break\n",
    "    elif cobot.state == \"error\":\n",
    "        rospy.logerror(f\"robot in ERROR state\")\n",
    "    cobot.update()"
   ]
  },
  {
   "cell_type": "code",
   "execution_count": 40,
   "id": "official-formula",
   "metadata": {},
   "outputs": [
    {
     "data": {
      "application/vnd.jupyter.widget-view+json": {
       "model_id": "19756cc7610f4a8f866c68f6dad89bfe",
       "version_major": 2,
       "version_minor": 0
      },
      "text/plain": [
       "  0%|          | 0/10000 [00:00<?, ?it/s]"
      ]
     },
     "metadata": {},
     "output_type": "display_data"
    },
    {
     "name": "stdout",
     "output_type": "stream",
     "text": [
      "[INFO] [1642081585.758239]: reached goal pose at step 228 / 10000\n"
     ]
    }
   ],
   "source": [
    "cobot.move_to_pose(endofpush_pose)\n",
    "T = int(100 * cobot.hz)\n",
    "for t in trange(T):\n",
    "    if cobot.state is None:\n",
    "        rospy.loginfo(f\"reached goal pose at step {t + 1} / {T}\")\n",
    "        break\n",
    "    elif cobot.state == \"error\":\n",
    "        rospy.logerror(f\"robot in ERROR state\")\n",
    "    cobot.update()"
   ]
  },
  {
   "cell_type": "markdown",
   "id": "multiple-trick",
   "metadata": {},
   "source": [
    "### Go back to pre-pose"
   ]
  },
  {
   "cell_type": "code",
   "execution_count": 41,
   "id": "miniature-price",
   "metadata": {},
   "outputs": [
    {
     "data": {
      "application/vnd.jupyter.widget-view+json": {
       "model_id": "783915ba1da947d282c927678e58bd73",
       "version_major": 2,
       "version_minor": 0
      },
      "text/plain": [
       "  0%|          | 0/10000 [00:00<?, ?it/s]"
      ]
     },
     "metadata": {},
     "output_type": "display_data"
    },
    {
     "name": "stdout",
     "output_type": "stream",
     "text": [
      "[INFO] [1642081588.596282]: reached goal pose at step 226 / 10000\n"
     ]
    }
   ],
   "source": [
    "cobot.move_to_pose(pre_pose)\n",
    "T = int(100 * cobot.hz)\n",
    "for t in trange(T):\n",
    "    if cobot.state is None:\n",
    "        rospy.loginfo(f\"reached goal pose at step {t + 1} / {T}\")\n",
    "        break\n",
    "    elif cobot.state == \"error\":\n",
    "        rospy.logerror(f\"robot in ERROR state\")\n",
    "    cobot.update()"
   ]
  },
  {
   "cell_type": "code",
   "execution_count": 42,
   "id": "available-separate",
   "metadata": {},
   "outputs": [
    {
     "data": {
      "application/vnd.jupyter.widget-view+json": {
       "model_id": "3cbb45bfe7984cb1ba9bc782990cf0c5",
       "version_major": 2,
       "version_minor": 0
      },
      "text/plain": [
       "  0%|          | 0/10000 [00:00<?, ?it/s]"
      ]
     },
     "metadata": {},
     "output_type": "display_data"
    },
    {
     "name": "stdout",
     "output_type": "stream",
     "text": [
      "[INFO] [1642081590.512234]: reached goal pose at step 186 / 10000\n"
     ]
    }
   ],
   "source": [
    "cobot.move_to_pose(planner_prepose)\n",
    "T = int(100 * cobot.hz)\n",
    "for t in trange(T):\n",
    "    if cobot.state is None:\n",
    "        rospy.loginfo(f\"reached goal pose at step {t + 1} / {T}\")\n",
    "        break\n",
    "    elif cobot.state == \"error\":\n",
    "        rospy.logerror(f\"robot in ERROR state\")\n",
    "    cobot.update()\n"
   ]
  },
  {
   "cell_type": "markdown",
   "id": "dominant-retail",
   "metadata": {},
   "source": [
    "### Go back to calib pose"
   ]
  },
  {
   "cell_type": "code",
   "execution_count": 43,
   "id": "thrown-shock",
   "metadata": {},
   "outputs": [
    {
     "name": "stderr",
     "output_type": "stream",
     "text": [
      "[WARN] [1642081693.671409]: Could not process inbound connection: Client [/hrr_cobot] wants topic [/hrr_cobot/sensor_track_compliant_controller/hybrid_ctrl_cmd] to have datatype/md5sum [hrr_msgs/HybridForceVelocityCmdStamped/6bfe9d92f9569269ce7086e736ecd0c2], but our version has [hrr_msgs/HybridForceVelocityCmdStamped/c7d32c882fe005053aba472f934842bd] Dropping connection.{'callerid': '/hrr_cobot', 'md5sum': '6bfe9d92f9569269ce7086e736ecd0c2', 'tcp_nodelay': '0', 'topic': '/hrr_cobot/sensor_track_compliant_controller/hybrid_ctrl_cmd', 'type': 'hrr_msgs/HybridForceVelocityCmdStamped'}\n"
     ]
    }
   ],
   "source": [
    "gripper.reset()\n",
    "\n",
    "pre_pose_quat = cu.homog2quat(cobot.FK(cobot.q_calib))\n",
    "pre_pose_pos = cu.homog2pos(cobot.FK(cobot.q_calib))\n",
    "#position of end_configuration\n",
    "goal.goal_pose.pose.position.x = pre_pose_pos[0]\n",
    "goal.goal_pose.pose.position.y = pre_pose_pos[1]\n",
    "goal.goal_pose.pose.position.z = pre_pose_pos[2]\n",
    "\n",
    "#orientation of end_configuration\n",
    "goal.goal_pose.pose.orientation.x = pre_pose_quat.x\n",
    "goal.goal_pose.pose.orientation.y = pre_pose_quat.y\n",
    "goal.goal_pose.pose.orientation.z = pre_pose_quat.z\n",
    "goal.goal_pose.pose.orientation.w = pre_pose_quat.w\n",
    "client1.send_goal(goal)"
   ]
  },
  {
   "cell_type": "code",
   "execution_count": null,
   "id": "entitled-stone",
   "metadata": {},
   "outputs": [],
   "source": []
  },
  {
   "cell_type": "code",
   "execution_count": null,
   "id": "comparable-lafayette",
   "metadata": {},
   "outputs": [],
   "source": []
  }
 ],
 "metadata": {
  "kernelspec": {
   "display_name": "Python 3 (ipykernel)",
   "language": "python",
   "name": "python3"
  },
  "language_info": {
   "codemirror_mode": {
    "name": "ipython",
    "version": 3
   },
   "file_extension": ".py",
   "mimetype": "text/x-python",
   "name": "python",
   "nbconvert_exporter": "python",
   "pygments_lexer": "ipython3",
   "version": "3.8.12"
  }
 },
 "nbformat": 4,
 "nbformat_minor": 5
}
