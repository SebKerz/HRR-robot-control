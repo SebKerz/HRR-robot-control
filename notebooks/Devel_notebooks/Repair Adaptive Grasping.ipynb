{
 "cells": [
  {
   "cell_type": "markdown",
   "id": "341818a1",
   "metadata": {},
   "source": [
    "# Gripper repair"
   ]
  },
  {
   "cell_type": "code",
   "execution_count": 1,
   "id": "b4e53bd2",
   "metadata": {},
   "outputs": [],
   "source": [
    "# packages needed for this tutorial\n",
    "from pathlib import Path\n",
    "from tqdm.notebook import trange\n",
    "\n",
    "# math and robotics\n",
    "import numpy as np\n",
    "import quaternion\n",
    "import spatialmath as sm\n",
    "from scipy import optimize\n",
    "\n",
    "# plotting \n",
    "import seaborn as sns\n",
    "import matplotlib.pylab as plt\n",
    "\n",
    "# ROS\n",
    "import rospy\n",
    "\n",
    "# hrr-cobot & gripper packages\n",
    "import hrr_cobot_robot\n",
    "import hrr_common\n",
    "import hrr_controllers\n",
    "import wsg_50_hw\n",
    "\n",
    "# set printing and plotting options    \n",
    "np.set_printoptions(precision=5, suppress=True)\n",
    "sns.set_theme('notebook')\n",
    "# %matplotlib notebook"
   ]
  },
  {
   "cell_type": "code",
   "execution_count": 2,
   "id": "fb7e03e9",
   "metadata": {},
   "outputs": [
    {
     "name": "stdout",
     "output_type": "stream",
     "text": [
      "current hostname:\tpizza\n",
      "current IP:      \t129.187.147.180\n",
      "ROS-MASTER-URI:  \thttp://hrrcobotLinux54:11311\n"
     ]
    }
   ],
   "source": [
    "hrr_common.utils.set_ros_environment(ros_master = 'hrrcobotLinux54')"
   ]
  },
  {
   "cell_type": "code",
   "execution_count": 3,
   "id": "3a1534f9",
   "metadata": {},
   "outputs": [],
   "source": [
    "rospy.init_node(\"gripper_repairity_out_of_dispairity\")"
   ]
  },
  {
   "cell_type": "code",
   "execution_count": 4,
   "id": "21604f6b",
   "metadata": {},
   "outputs": [
    {
     "name": "stderr",
     "output_type": "stream",
     "text": [
      "[ERROR] [1646937124.923272]: source directory of motion planner /home/hrr_cobot/_ros/hr_recycler_ws/src/planner/src does not exist\n",
      "pybullet build time: Dec 10 2021 09:49:03\n"
     ]
    },
    {
     "name": "stdout",
     "output_type": "stream",
     "text": [
      "[INFO] [1646937130.836609]: some functions are not yet compiled. Expect delays upon first call\n",
      "Hrr-Cobot state:\n",
      "FT-data:\n",
      "current force:\t[-0.12726 -0.0415  -5.51147] [N]\n",
      "current torque:\t[-1.15869  1.20209  0.63916] [Nm]\n",
      "current wrench:\t[-4.47616 -8.88811  1.33053  8.88272 -3.99344 -0.30749] [N,Nm]\n",
      "=>in contact:\tTrue\n",
      "---\n",
      "Robot-data:\n",
      "q:\t\t[ 20.04643   0.14395 -90.26704  -0.04229  61.09668  -0.04972][°]\n",
      "q_dot:\t\t[0. 0. 0. 0. 0. 0.][rad/s]\n",
      "tau:\t\t[0. 0. 0. 0. 0. 0.][Nm]\n",
      "pos:\t\t[ 0.4466  -0.1629   0.71192][m]\n",
      "quat:\t\t0.24241 <[ 0.1692   0.95436 -0.04237]>\n",
      "tool-pos:\t[ 0.4466  -0.1629   0.71192][m]\n",
      "tool-rpy:\t[-157.40004   26.63857  169.49857][°]\n",
      "robot-status:\tmoving\n",
      "---\n",
      "tool set to wsg_50_dsa\n",
      "E_p_EC:=[0.     0.     0.2255]\n",
      "R_E_C:=[[ 0.70711 -0.70711  0.     ]\n",
      " [ 0.70711  0.70711  0.     ]\n",
      " [ 0.       0.       1.     ]]\n",
      "---\n"
     ]
    }
   ],
   "source": [
    "cobot = hrr_cobot_robot.HrrCobotControl.from_ros(\"/hrr_cobot\", compile_numba=False)\n",
    "print(cobot)"
   ]
  },
  {
   "cell_type": "code",
   "execution_count": 5,
   "id": "77be96d0",
   "metadata": {},
   "outputs": [],
   "source": [
    "rospy.sleep(1.0)\n",
    "cobot.gripper.reset()"
   ]
  },
  {
   "cell_type": "code",
   "execution_count": 6,
   "id": "9ba00ef5",
   "metadata": {},
   "outputs": [
    {
     "name": "stdout",
     "output_type": "stream",
     "text": [
      "[INFO] [1646937133.785735]: [/gripper_repairity_out_of_dispairity] could not get ROS-parameter /hrr_cobot/gripper/velocity_based_command_topic_name. Use default  instead.\n"
     ]
    },
    {
     "name": "stderr",
     "output_type": "stream",
     "text": [
      "[ERROR] [1646937133.817600]: did not find a topic for velocity-based commands\n"
     ]
    }
   ],
   "source": [
    "apply_grasp = wsg_50_hw.ApplyCompliantGrasping.from_ros(ros_param_ns=\"/hrr_cobot/gripper\")"
   ]
  },
  {
   "cell_type": "code",
   "execution_count": null,
   "id": "97b50bc6-4220-429a-ac5b-8d58c125df3e",
   "metadata": {},
   "outputs": [
    {
     "name": "stdout",
     "output_type": "stream",
     "text": [
      "[INFO] [1646937134.024839]: current configuration close to current (0.00 [milli-rad]). keep pose\n"
     ]
    },
    {
     "name": "stderr",
     "output_type": "stream",
     "text": [
      "[ERROR] [1646937173.614265]: dt 10.14962387 is above threshold 10.0 -> will use current instead\n"
     ]
    }
   ],
   "source": [
    "r = rospy.Rate(30)\n",
    "cobot.init_sns_vel()\n",
    "while not rospy.is_shutdown():\n",
    "    if cobot.safety_check:\n",
    "        apply_grasp.apply_via_cobot_handle(cobot)\n",
    "        cobot.update()\n",
    "    r.sleep()"
   ]
  }
 ],
 "metadata": {
  "kernelspec": {
   "display_name": "Python [conda env:hrr]",
   "language": "python",
   "name": "conda-env-hrr-py"
  },
  "language_info": {
   "codemirror_mode": {
    "name": "ipython",
    "version": 3
   },
   "file_extension": ".py",
   "mimetype": "text/x-python",
   "name": "python",
   "nbconvert_exporter": "python",
   "pygments_lexer": "ipython3",
   "version": "3.8.12"
  }
 },
 "nbformat": 4,
 "nbformat_minor": 5
}
