{
 "cells": [
  {
   "cell_type": "code",
   "execution_count": 1,
   "id": "daily-transparency",
   "metadata": {},
   "outputs": [],
   "source": [
    "import numpy as np\n",
    "import sys\n",
    "import hrr_common.utils as cu\n",
    "from hrr_cobot_robot.gripper_interfaces.wsg_50_hw_local import gripper_command_handle as gch\n",
    "import hrr_common as hrr_cm\n",
    "import hrr_cobot_robot as hrr_rob\n",
    "import spatialmath as sm\n",
    "import rospy\n",
    "from tqdm.notebook import tqdm, trange"
   ]
  },
  {
   "cell_type": "markdown",
   "id": "secondary-definition",
   "metadata": {},
   "source": [
    "### ros setup for the lab"
   ]
  },
  {
   "cell_type": "code",
   "execution_count": 2,
   "id": "inner-seafood",
   "metadata": {},
   "outputs": [
    {
     "name": "stdout",
     "output_type": "stream",
     "text": [
      "for a local setup, replace the above by:\n",
      "\t%env ROS_MASTER_URI=http://localhost:11311\n",
      "env: ROS_MASTER_URI=http://hrrN3511rt2004.lsr.ei.tum.de:11311\n",
      "in case this notebook does not work please check that IP below is identical:\n",
      "\t%env ROS_IP=129.187.147.174\t\t<=>\tenv: ROS_IP=129.187.147.174\n"
     ]
    }
   ],
   "source": [
    "import socket\n",
    "print(\"for a local setup, replace the above by:\\n\\t\" + \\\n",
    "      r\"%env ROS_MASTER_URI=http://localhost:11311\")\n",
    "%env ROS_MASTER_URI=http://hrrN3511rt2004.lsr.ei.tum.de:11311\n",
    "print(\"in case this notebook does not work please check that IP below is identical:\\n\\t\"+\n",
    "      r\"%env \" + f\"ROS_IP={ socket.gethostbyname(socket. gethostname())}\\t\\t<=>\",end=\"\\t\")\n",
    "%env ROS_IP=129.187.147.174"
   ]
  },
  {
   "cell_type": "code",
   "execution_count": null,
   "id": "million-nutrition",
   "metadata": {},
   "outputs": [],
   "source": [
    "rospy.init_node('open_pc_clip_dev')\n",
    "hrr_rob.load_default_parameters(\"/hrr_cobot\")\n",
    "cobot = hrr_rob.HrrCobotControl.from_ros()\n",
    "rospy.set_param(\"~joint_state_topic_name\", \"/hrr_cobot/joint_states\")\n",
    "rospy.set_param(\"~tp5_topic_name\", \"/hrr_cobot/comau_robot_state_controller/comau_cartesian_data\")\n",
    "comau_status = hrr_rob.ComauRobotState.from_ros()\n",
    "rospy.sleep(1e-1)\n",
    "print(comau_status)"
   ]
  },
  {
   "cell_type": "markdown",
   "id": "mounted-venezuela",
   "metadata": {},
   "source": [
    "\n",
    "## Gripper initialization\n",
    "Assume cobot and gripper have been launched according to \n",
    "```bash\n",
    "roslaunch hrr_cobot_robot hrr_cobot_hw.launch gripper_type:=\"wsg_50\"     \n",
    "```\n",
    "```bash\n",
    "roslaunch hrr_cobot_robot hrr_wsg_50.launch ns:=\"hrr_cobot\"  \n",
    "```\n",
    "\n",
    "Use case: Lever/open pc clip to remove side cover"
   ]
  },
  {
   "cell_type": "code",
   "execution_count": null,
   "id": "tested-participation",
   "metadata": {},
   "outputs": [],
   "source": [
    "gripper = gch.GripperCommandHandle('/hrr_cobot/gripper')\n",
    "gripper.reset()"
   ]
  },
  {
   "cell_type": "markdown",
   "id": "international-adventure",
   "metadata": {},
   "source": [
    "#Set desired position of gripper\n",
    "width = 10 #in mm\n",
    "speed = 100 #in mm/s\n",
    "gripper.send_pos(width, speed)"
   ]
  },
  {
   "cell_type": "markdown",
   "id": "eight-reservoir",
   "metadata": {},
   "source": [
    "#Set velocity (No need probably) What does it do?\n",
    "gripper.set_vel(5)"
   ]
  },
  {
   "cell_type": "markdown",
   "id": "toxic-editing",
   "metadata": {
    "scrolled": true
   },
   "source": [
    "#Reset gripper (Homing and rospy sleep for dt=0.1 default)\n",
    "gripper.reset()"
   ]
  },
  {
   "cell_type": "markdown",
   "id": "express-dialogue",
   "metadata": {},
   "source": [
    "## specify params"
   ]
  },
  {
   "cell_type": "markdown",
   "id": "narrative-coordination",
   "metadata": {},
   "source": [
    "### Given from outside"
   ]
  },
  {
   "cell_type": "code",
   "execution_count": 1,
   "id": "technological-grace",
   "metadata": {},
   "outputs": [],
   "source": [
    "from geometry_msgs.msg import PoseStamped #For testing purposes\n",
    "object_center = PoseStamped() #PoseStamped\n",
    "release_pose = PoseStamped() #PoseStamped\n",
    "gripper_open_width = 50 #float32 #mm #probably should be hardcoded for the use case\n",
    "gripper_close_width = 50 #float32 #mm #probably should be hardcoded for the use case"
   ]
  },
  {
   "cell_type": "code",
   "execution_count": 4,
   "id": "disciplinary-france",
   "metadata": {},
   "outputs": [
    {
     "data": {
      "text/plain": [
       "x: 0.0\n",
       "y: 0.0\n",
       "z: 0.0"
      ]
     },
     "execution_count": 4,
     "metadata": {},
     "output_type": "execute_result"
    }
   ],
   "source": [
    "object_center.pose.position\n"
   ]
  },
  {
   "cell_type": "markdown",
   "id": "incorrect-details",
   "metadata": {},
   "source": [
    "### Hardcoded here"
   ]
  },
  {
   "cell_type": "code",
   "execution_count": 20,
   "id": "former-juvenile",
   "metadata": {},
   "outputs": [],
   "source": [
    "#Defaul closing/opening speed of gripper in mm/s\n",
    "default_speed = 100\n",
    "\n",
    "#desired distance from goal-pose to pre-pose\n",
    "pre_pose_dist = 0.01"
   ]
  },
  {
   "cell_type": "markdown",
   "id": "sharing-inquiry",
   "metadata": {},
   "source": [
    "### We need vector of approach, goal-pose (start of grasp) and end-pose (end of grasp)"
   ]
  },
  {
   "cell_type": "code",
   "execution_count": null,
   "id": "boxed-fault",
   "metadata": {},
   "outputs": [],
   "source": [
    "#If we have vector of approach voa, we can do \n",
    "voa = np.array([0,0,1])\n",
    "oc_x = object_center.pose.position.x\n",
    "oc_y = object_center.pose.position.y\n",
    "oc_z = object_center.pose.position.z\n",
    "goal_pose = cu.calc_goal_pose(voa, np.array([oc_x, oc_y, oc_z]))"
   ]
  },
  {
   "cell_type": "markdown",
   "id": "binary-tribe",
   "metadata": {},
   "source": [
    "### For demos just load them manually "
   ]
  },
  {
   "cell_type": "code",
   "execution_count": null,
   "id": "analyzed-fetish",
   "metadata": {},
   "outputs": [],
   "source": [
    "#np.save('goal_pose_pcclip',cobot.T_B_E_robot,allow_pickle=True) #saves current pose as goal_pose\n",
    "goal_pose = np.load('goal_pose_pcclip.npy')\n",
    "sm.SE3(goal_pose)"
   ]
  },
  {
   "cell_type": "code",
   "execution_count": null,
   "id": "signed-bracelet",
   "metadata": {},
   "outputs": [],
   "source": [
    "#np.save('goal_pose_simgrasp',cobot.T_B_E_robot,allow_pickle=True) #saves current pose as goal_pose\n",
    "end_pose = np.load('end_pose_pcclip.npy')\n",
    "sm.SE3(end_pose)"
   ]
  },
  {
   "cell_type": "code",
   "execution_count": null,
   "id": "public-output",
   "metadata": {},
   "outputs": [],
   "source": [
    "#nvec: vector of approach in the phase before the gripper closes, to insert one finger under the clip\n",
    "nvec = np.array([0,0,0])"
   ]
  },
  {
   "cell_type": "markdown",
   "id": "early-austin",
   "metadata": {},
   "source": [
    "## Prepare $\\rightarrow$ Pre-Pose"
   ]
  },
  {
   "cell_type": "markdown",
   "id": "mineral-boulder",
   "metadata": {},
   "source": [
    "### Assume robot is in free space where gripper can be safely opened"
   ]
  },
  {
   "cell_type": "code",
   "execution_count": null,
   "id": "executive-helena",
   "metadata": {},
   "outputs": [],
   "source": [
    "gripper.send_pos(gripper_open_width, default_speed)"
   ]
  },
  {
   "cell_type": "markdown",
   "id": "manufactured-nirvana",
   "metadata": {},
   "source": [
    "### Compute pre-pose (need to include distance from last link to tip of tool here)"
   ]
  },
  {
   "cell_type": "code",
   "execution_count": 21,
   "id": "intense-abortion",
   "metadata": {},
   "outputs": [
    {
     "data": {
      "text/plain": [
       "  \u001b[38;5;1m 0.9948  \u001b[0m \u001b[38;5;1m 0.04055 \u001b[0m \u001b[38;5;1m 0.09362 \u001b[0m \u001b[38;5;4m 0.5503  \u001b[0m  \u001b[0m\n",
       "  \u001b[38;5;1m 0.03814 \u001b[0m \u001b[38;5;1m-0.9989  \u001b[0m \u001b[38;5;1m 0.02746 \u001b[0m \u001b[38;5;4m 0.01747 \u001b[0m  \u001b[0m\n",
       "  \u001b[38;5;1m 0.09463 \u001b[0m \u001b[38;5;1m-0.02374 \u001b[0m \u001b[38;5;1m-0.9952  \u001b[0m \u001b[38;5;4m 0.5468  \u001b[0m  \u001b[0m\n",
       "  \u001b[38;5;244m 0       \u001b[0m \u001b[38;5;244m 0       \u001b[0m \u001b[38;5;244m 0       \u001b[0m \u001b[38;5;244m 1       \u001b[0m  \u001b[0m\n"
      ]
     },
     "execution_count": 21,
     "metadata": {},
     "output_type": "execute_result"
    }
   ],
   "source": [
    "nvec = cu.normalize_vec(nvec) #Make sure nvec is normalized\n",
    "pre_pose = sm.SE3(nvec* pre_pose_dist) @ sm.SE3(goal_pose)\n",
    "pre_pose"
   ]
  },
  {
   "cell_type": "code",
   "execution_count": 18,
   "id": "amazing-string",
   "metadata": {},
   "outputs": [
    {
     "data": {
      "text/plain": [
       "  \u001b[38;5;1m 0.9948  \u001b[0m \u001b[38;5;1m 0.04055 \u001b[0m \u001b[38;5;1m 0.09362 \u001b[0m \u001b[38;5;4m 0.5503  \u001b[0m  \u001b[0m\n",
       "  \u001b[38;5;1m 0.03814 \u001b[0m \u001b[38;5;1m-0.9989  \u001b[0m \u001b[38;5;1m 0.02746 \u001b[0m \u001b[38;5;4m 0.02747 \u001b[0m  \u001b[0m\n",
       "  \u001b[38;5;1m 0.09463 \u001b[0m \u001b[38;5;1m-0.02374 \u001b[0m \u001b[38;5;1m-0.9952  \u001b[0m \u001b[38;5;4m 0.5468  \u001b[0m  \u001b[0m\n",
       "  \u001b[38;5;244m 0       \u001b[0m \u001b[38;5;244m 0       \u001b[0m \u001b[38;5;244m 0       \u001b[0m \u001b[38;5;244m 1       \u001b[0m  \u001b[0m\n"
      ]
     },
     "execution_count": 18,
     "metadata": {},
     "output_type": "execute_result"
    }
   ],
   "source": [
    "sm.SE3(goal_pose)"
   ]
  },
  {
   "cell_type": "markdown",
   "id": "careful-bread",
   "metadata": {},
   "source": [
    "### Go to pre-pose using traj planner"
   ]
  },
  {
   "cell_type": "code",
   "execution_count": null,
   "id": "explicit-worship",
   "metadata": {},
   "outputs": [],
   "source": [
    " # Initialize the planner action client.\n",
    "    \n",
    "# >> Remeber to run the planner node (rosrun planner planner_server_v2.py) in terminal\n",
    "# >> \n",
    "#rospy.init_node('planner_client')\n",
    "\n",
    "client1 = actionlib.SimpleActionClient('planner', PlannerAction)\n",
    "client1.wait_for_server()\n",
    "\n",
    "# Sending deride end configuration\n",
    "goal = PlannerGoal()\n",
    "goal.goal_pose.header.frame_id = \"map\"\n",
    "goal.goal_pose.header.stamp = rospy.Time.now()"
   ]
  },
  {
   "cell_type": "code",
   "execution_count": null,
   "id": "vertical-falls",
   "metadata": {},
   "outputs": [],
   "source": [
    "pre_pose_quat = cu.homog2quat(pre_pose)\n",
    "pre_pose_pos = cu.homog2pos(pre_pose)\n",
    "#position of end_configuration\n",
    "goal.goal_pose.pose.position.x = pre_pose_pos[0]\n",
    "goal.goal_pose.pose.position.y = pre_pose_pos[1]\n",
    "goal.goal_pose.pose.position.z = pre_pose_pos[2]\n",
    "\n",
    "#orientation of end_configuration\n",
    "goal.goal_pose.pose.orientation.x = pre_pose_quat.x\n",
    "goal.goal_pose.pose.orientation.y = pre_pose_quat.y\n",
    "goal.goal_pose.pose.orientation.z = pre_pose_quat.z\n",
    "goal.goal_pose.pose.orientation.w = pre_pose_quat.w"
   ]
  },
  {
   "cell_type": "markdown",
   "id": "derived-weapon",
   "metadata": {},
   "source": [
    "### Approach and grasp"
   ]
  },
  {
   "cell_type": "code",
   "execution_count": 25,
   "id": "indie-gibson",
   "metadata": {},
   "outputs": [],
   "source": [
    "cobot.move_to_pose(goal_pose)"
   ]
  },
  {
   "cell_type": "code",
   "execution_count": 26,
   "id": "ranking-latex",
   "metadata": {},
   "outputs": [
    {
     "data": {
      "application/vnd.jupyter.widget-view+json": {
       "model_id": "a24ba49e1ae1445792164975c360e025",
       "version_major": 2,
       "version_minor": 0
      },
      "text/plain": [
       "  0%|          | 0/10000 [00:00<?, ?it/s]"
      ]
     },
     "metadata": {},
     "output_type": "display_data"
    },
    {
     "name": "stdout",
     "output_type": "stream",
     "text": [
      "[INFO] [1639842070.869527]: reached goal pose at step 120 / 10000\n"
     ]
    }
   ],
   "source": [
    "T = int(100 * cobot.hz)\n",
    "for t in trange(T):\n",
    "    if cobot.state is None:\n",
    "        rospy.loginfo(f\"reached goal pose at step {t + 1} / {T}\")\n",
    "        break\n",
    "    elif cobot.state == \"error\":\n",
    "        rospy.logerror(f\"robot in ERROR state\")\n",
    "    cobot.update()"
   ]
  },
  {
   "cell_type": "code",
   "execution_count": null,
   "id": "binding-discovery",
   "metadata": {},
   "outputs": [],
   "source": [
    "gripper.send_pos(close_width, default_speed)"
   ]
  },
  {
   "cell_type": "markdown",
   "id": "multiple-trick",
   "metadata": {},
   "source": [
    "### Move to end-pose (here some wiggling might help, maybe giving sinusiodal velocity commands)"
   ]
  },
  {
   "cell_type": "code",
   "execution_count": null,
   "id": "miniature-price",
   "metadata": {},
   "outputs": [],
   "source": [
    "cobot.move_to_pose(end_pose)"
   ]
  },
  {
   "cell_type": "code",
   "execution_count": null,
   "id": "available-separate",
   "metadata": {},
   "outputs": [],
   "source": [
    "T = int(100 * cobot.hz)\n",
    "for t in trange(T):\n",
    "    if cobot.state is None:\n",
    "        rospy.loginfo(f\"reached goal pose at step {t + 1} / {T}\")\n",
    "        break\n",
    "    elif cobot.state == \"error\":\n",
    "        rospy.logerror(f\"robot in ERROR state\")\n",
    "    cobot.update()"
   ]
  },
  {
   "cell_type": "markdown",
   "id": "mineral-tonight",
   "metadata": {},
   "source": [
    "### Open and move to pre-pose"
   ]
  },
  {
   "cell_type": "code",
   "execution_count": null,
   "id": "linear-edward",
   "metadata": {},
   "outputs": [],
   "source": [
    "cobot.move_to_pose(pre_pose)"
   ]
  },
  {
   "cell_type": "code",
   "execution_count": null,
   "id": "gross-mattress",
   "metadata": {},
   "outputs": [],
   "source": [
    "T = int(100 * cobot.hz)\n",
    "for t in trange(T):\n",
    "    if cobot.state is None:\n",
    "        rospy.loginfo(f\"reached goal pose at step {t + 1} / {T}\")\n",
    "        break\n",
    "    elif cobot.state == \"error\":\n",
    "        rospy.logerror(f\"robot in ERROR state\")\n",
    "    cobot.update()"
   ]
  },
  {
   "cell_type": "code",
   "execution_count": null,
   "id": "northern-bidding",
   "metadata": {},
   "outputs": [],
   "source": [
    "gripper.send_pos(open_width, default_speed)"
   ]
  }
 ],
 "metadata": {
  "kernelspec": {
   "display_name": "Python 3 (ipykernel)",
   "language": "python",
   "name": "python3"
  },
  "language_info": {
   "codemirror_mode": {
    "name": "ipython",
    "version": 3
   },
   "file_extension": ".py",
   "mimetype": "text/x-python",
   "name": "python",
   "nbconvert_exporter": "python",
   "pygments_lexer": "ipython3",
   "version": "3.8.12"
  }
 },
 "nbformat": 4,
 "nbformat_minor": 5
}
