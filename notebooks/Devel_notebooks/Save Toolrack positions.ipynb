{
 "cells": [
  {
   "cell_type": "code",
   "execution_count": 2,
   "id": "dcb090df",
   "metadata": {},
   "outputs": [
    {
     "name": "stdout",
     "output_type": "stream",
     "text": [
      "env: ROS_MASTER_URI=http://172.22.162.200:11311\n",
      "\t\u001b[1m\u001b[4m!!!please check that the IPs below is identical!!!\u001b[0m\n",
      "\thost hrrN3511rt2004 has IP 172.22.162.200, which should be identical to\n",
      "vs:\tenv: ROS_IP=172.22.162.200\n"
     ]
    }
   ],
   "source": [
    "import hrr_common as hrr_cm\n",
    "import hrr_cobot_robot as hrr_rob\n",
    "import rospy\n",
    "import numpy as np\n",
    "def get_hostname_and_IP():\n",
    "    import socket\n",
    "    with socket.socket(socket.AF_INET, socket.SOCK_DGRAM) as s:\n",
    "        s.connect((\"8.8.8.8\", 80))\n",
    "        return socket.gethostname(), s.getsockname()[0]\n",
    "\n",
    "_host, _ip = get_hostname_and_IP()\n",
    "%env ROS_MASTER_URI=http://172.22.162.200:11311\n",
    "print(f\"\\t\\033[1m\\033[4m!!!please check that the IPs below is identical!!!\\033[0m\"+\n",
    "      f\"\\n\\thost {_host} has IP {_ip}, which should be identical to\",end=\"\\nvs:\\t\")\n",
    "%env ROS_IP=$_ip"
   ]
  },
  {
   "cell_type": "code",
   "execution_count": 3,
   "id": "160ac1a0",
   "metadata": {},
   "outputs": [],
   "source": [
    "rospy.init_node(\"NotebookNode\")"
   ]
  },
  {
   "cell_type": "code",
   "execution_count": 4,
   "id": "2300f555",
   "metadata": {},
   "outputs": [
    {
     "name": "stderr",
     "output_type": "stream",
     "text": [
      "[ERROR]could not set tool-frame @ /NotebookNode due to missing ROS-parameter: '~tool_name'\n"
     ]
    },
    {
     "name": "stdout",
     "output_type": "stream",
     "text": [
      "[INFO]Updated force  gains: K_p:=[0.0001, 0.0001, 0.0001]\n",
      "[INFO]Updated torque gains: K_p:=[0.0005, 0.0005, 0.0005]\n",
      "Hrr-Cobot state:\n",
      "FT-data:\n",
      "current force:\t[-0.  0.  0.] [N]\n",
      "current torque:\t[-0.  0.  0.] [Nm]\n",
      "current wrench:\t[0. 0. 0. 0. 0. 0.] [N,Nm]\n",
      "=>in contact:\tFalse\n",
      "---\n",
      "Robot-data:\n",
      "q:\t\t[-79.34705891  18.40579911 -84.79675073  -1.70305815 -47.55804712\n",
      "   0.37251729][°]\n",
      "q_dot:\t\t[0. 0. 0. 0. 0. 0.][rad/s]\n",
      "tau:\t\t[0. 0. 0. 0. 0. 0.][Nm]\n",
      "pos:\t\t[0.11634132 0.60901227 0.72172491][m]\n",
      "quat:\t\t0.68009 <[-0.28806108  0.36744603  0.56522871]>\n",
      "tool-pos:\t[0.11634132 0.60901227 0.72172491][m]\n",
      "tool-rpy:\t[ 84.69761658  10.02925873 -55.05702591][°]\n",
      "robot-status:\tready\n",
      "---\n"
     ]
    }
   ],
   "source": [
    "hrr_rob.load_default_parameters(\"/hrr_cobot\")\n",
    "cobot = hrr_rob.HrrCobotControl.from_ros()\n",
    "print(cobot)"
   ]
  },
  {
   "cell_type": "code",
   "execution_count": 9,
   "id": "d5e492ca",
   "metadata": {},
   "outputs": [
    {
     "data": {
      "text/plain": [
       "array([[ 0.09099959, -0.98050515,  0.17415145,  0.11634148],\n",
       "       [ 0.5571179 ,  0.19507482,  0.80719605,  0.60901227],\n",
       "       [-0.82543244,  0.02356838,  0.5640087 ,  0.72172498],\n",
       "       [ 0.        ,  0.        ,  0.        ,  1.        ]])"
      ]
     },
     "execution_count": 9,
     "metadata": {},
     "output_type": "execute_result"
    }
   ],
   "source": [
    "cobot.T_B_E_robot.A"
   ]
  },
  {
   "cell_type": "code",
   "execution_count": 8,
   "id": "f3ebfc1a",
   "metadata": {},
   "outputs": [
    {
     "data": {
      "text/plain": [
       "array([-1.38486743,  0.32124189, -1.4799825 , -0.02972397, -0.83004481,\n",
       "        0.00650135])"
      ]
     },
     "execution_count": 8,
     "metadata": {},
     "output_type": "execute_result"
    }
   ],
   "source": [
    "cobot.q"
   ]
  },
  {
   "cell_type": "markdown",
   "id": "a01bc8c1",
   "metadata": {},
   "source": [
    "### About the tool rack and this procedure\n",
    "For all tools except the shaft grinder, the pickup-position stays the same if tools are swapped. Orientation matters however (last link).\n",
    "For now assume that angle of joint1 < 0 refers to tool position 1,2,3 - where the angle of joint1 decreases from position 1 to 3. For joint1 > 0 we have positions 4,5,6 respectively.\n",
    "\n",
    "The tool changer is open if digital out pin 5 is True, is "
   ]
  },
  {
   "cell_type": "code",
   "execution_count": 23,
   "id": "4d9f5825",
   "metadata": {},
   "outputs": [
    {
     "name": "stdout",
     "output_type": "stream",
     "text": [
      "move_fly: \r\n",
      "  threshold: 0.2\r\n",
      "  lin_velocity: 0.20000000298023224\r\n",
      "  fly_dist: 5.0\r\n",
      "status: \r\n",
      "  status: \"R\"\r\n",
      "sensor_track_config: \r\n",
      "  sensor_type: 7\r\n",
      "  sensor_cnvrsn: 1\r\n",
      "  sensor_gain: 100\r\n",
      "  sensor_time: 0\r\n",
      "  sensor_ofst_lim_trans: 500\r\n",
      "  sensor_ofst_lim_rot: 800\r\n",
      "digital_in_states: []\r\n",
      "digital_out_states: \r\n",
      "  - \r\n",
      "    pin: 1\r\n",
      "    state: True\r\n",
      "  - \r\n",
      "    pin: 3\r\n",
      "    state: False\r\n",
      "  - \r\n",
      "    pin: 5\r\n",
      "    state: False\r\n",
      "  - \r\n",
      "    pin: 6\r\n",
      "    state: False\r\n",
      "  - \r\n",
      "    pin: 8\r\n",
      "    state: True\r\n",
      "  - \r\n",
      "    pin: 9\r\n",
      "    state: False\r\n",
      "  - \r\n",
      "    pin: 10\r\n",
      "    state: False\r\n",
      "  - \r\n",
      "    pin: 11\r\n",
      "    state: True\r\n",
      "  - \r\n",
      "    pin: 12\r\n",
      "    state: False\r\n",
      "  - \r\n",
      "    pin: 13\r\n",
      "    state: False\r\n",
      "  - \r\n",
      "    pin: 14\r\n",
      "    state: False\r\n",
      "  - \r\n",
      "    pin: 15\r\n",
      "    state: False\r\n",
      "  - \r\n",
      "    pin: 16\r\n",
      "    state: False\r\n",
      "is_async: False\r\n"
     ]
    }
   ],
   "source": [
    "!rosservice call /hrr_cobot/get_comau_parameters \"{}\""
   ]
  },
  {
   "cell_type": "code",
   "execution_count": 21,
   "id": "bbab2324",
   "metadata": {},
   "outputs": [],
   "source": [
    "from comau_msgs.srv import *\n",
    "setPin = rospy.ServiceProxy(\"/hrr_cobot/set_digital_io\",SetIO)"
   ]
  },
  {
   "cell_type": "code",
   "execution_count": 24,
   "id": "4283a69b",
   "metadata": {},
   "outputs": [
    {
     "data": {
      "text/plain": [
       "success: True"
      ]
     },
     "execution_count": 24,
     "metadata": {},
     "output_type": "execute_result"
    }
   ],
   "source": [
    "# Open tool changer\n",
    "setPin(pin=5, state=True)\n",
    "#!rosservice call /hrr_cobot/set_digital_io \"pin: 5 state: true\""
   ]
  },
  {
   "cell_type": "code",
   "execution_count": null,
   "id": "0181ad3a",
   "metadata": {},
   "outputs": [],
   "source": [
    "# Close tool changer\n",
    "setPin(pin=5, state=False)\n",
    "#!rosservice call /hrr_cobot/set_digital_io \"pin: 5 state: false\""
   ]
  },
  {
   "cell_type": "markdown",
   "id": "d0e1df21",
   "metadata": {},
   "source": [
    "#Vacuum gripper at position 1 - final position when closing the tool changer\n",
    "cobot.update_tf()\n",
    "np.save(\"rack_positions/rackpos_1_q\", cobot.q, allow_pickle=True)\n",
    "np.save(\"rack_positions/rackpos_1_A\", cobot.T_B_E_robot.A, allow_pickle=True)"
   ]
  },
  {
   "cell_type": "code",
   "execution_count": null,
   "id": "f26aa073",
   "metadata": {},
   "outputs": [],
   "source": [
    "cobot.update_tf()\n",
    "np.save(\"rack_positions/rackpos_2_q\", cobot.q, allow_pickle=True)\n",
    "np.save(\"rack_positions/rackpos_2_A\", cobot.T_B_E_robot.A, allow_pickle=True)"
   ]
  },
  {
   "cell_type": "code",
   "execution_count": null,
   "id": "a008af17",
   "metadata": {},
   "outputs": [],
   "source": [
    "cobot.update_tf()\n",
    "np.save(\"rack_positions/rackpos_3_q\", cobot.q, allow_pickle=True)\n",
    "np.save(\"rack_positions/rackpos_3_A\", cobot.T_B_E_robot.A, allow_pickle=True)"
   ]
  },
  {
   "cell_type": "code",
   "execution_count": null,
   "id": "cad9f1e5",
   "metadata": {},
   "outputs": [],
   "source": [
    "cobot.update_tf()\n",
    "np.save(\"rack_positions/rackpos_4_q\", cobot.q, allow_pickle=True)\n",
    "np.save(\"rack_positions/rackpos_4_A\", cobot.T_B_E_robot.A, allow_pickle=True)"
   ]
  },
  {
   "cell_type": "code",
   "execution_count": null,
   "id": "88d8576c",
   "metadata": {},
   "outputs": [],
   "source": [
    "cobot.update_tf()\n",
    "np.save(\"rack_positions/rackpos_5_q\", cobot.q, allow_pickle=True)\n",
    "np.save(\"rack_positions/rackpos_5_A\", cobot.T_B_E_robot.A, allow_pickle=True)"
   ]
  },
  {
   "cell_type": "code",
   "execution_count": null,
   "id": "36d314bc",
   "metadata": {},
   "outputs": [],
   "source": [
    "cobot.update_tf()\n",
    "np.save(\"rack_positions/rackpos_6_q\", cobot.q, allow_pickle=True)\n",
    "np.save(\"rack_positions/rackpos_6_A\", cobot.T_B_E_robot.A, allow_pickle=True)"
   ]
  }
 ],
 "metadata": {
  "kernelspec": {
   "display_name": "Python 3 (ipykernel)",
   "language": "python",
   "name": "python3"
  },
  "language_info": {
   "codemirror_mode": {
    "name": "ipython",
    "version": 3
   },
   "file_extension": ".py",
   "mimetype": "text/x-python",
   "name": "python",
   "nbconvert_exporter": "python",
   "pygments_lexer": "ipython3",
   "version": "3.8.12"
  }
 },
 "nbformat": 4,
 "nbformat_minor": 5
}
