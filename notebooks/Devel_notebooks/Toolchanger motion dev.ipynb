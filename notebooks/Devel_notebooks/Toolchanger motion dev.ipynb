{
 "cells": [
  {
   "cell_type": "code",
   "execution_count": 1,
   "id": "fabulous-gauge",
   "metadata": {},
   "outputs": [],
   "source": [
    "import numpy as np\n",
    "import sys\n",
    "import hrr_common.utils as cu\n",
    "import hrr_common as hrr_cm\n",
    "import hrr_cobot_robot as hrr_rob\n",
    "import spatialmath as sm\n",
    "import rospy\n",
    "# set printing and plotting options    \n",
    "import seaborn as sns\n",
    "np.set_printoptions(precision=5, suppress=True)\n",
    "sns.set_theme('notebook')\n",
    "%matplotlib notebook"
   ]
  },
  {
   "cell_type": "code",
   "execution_count": 2,
   "id": "proved-hungary",
   "metadata": {},
   "outputs": [
    {
     "name": "stdout",
     "output_type": "stream",
     "text": [
      "env: ROS_MASTER_URI=http://localhost:11311\n",
      "\t\u001b[1m\u001b[4m!!!please check that the IPs below is identical!!!\u001b[0m\n",
      "\thost hrrN3511rt2004 has IP 172.22.162.200, which should be identical to\n",
      "vs:\tenv: ROS_IP=172.22.162.200\n"
     ]
    }
   ],
   "source": [
    "%config Completer.use_jedi = False\n",
    "def get_hostname_and_IP():\n",
    "    import socket\n",
    "    with socket.socket(socket.AF_INET, socket.SOCK_DGRAM) as s:\n",
    "        s.connect((\"8.8.8.8\", 80))\n",
    "        return socket.gethostname(), s.getsockname()[0]\n",
    "\n",
    "_host, _ip = get_hostname_and_IP()\n",
    "%env ROS_MASTER_URI=http://localhost:11311\n",
    "print(f\"\\t\\033[1m\\033[4m!!!please check that the IPs below is identical!!!\\033[0m\"+\n",
    "      f\"\\n\\thost {_host} has IP {_ip}, which should be identical to\",end=\"\\nvs:\\t\")\n",
    "%env ROS_IP=$_ip"
   ]
  },
  {
   "cell_type": "code",
   "execution_count": 3,
   "id": "according-palace",
   "metadata": {},
   "outputs": [],
   "source": [
    "rospy.init_node('toolchange_dev')"
   ]
  },
  {
   "cell_type": "code",
   "execution_count": 4,
   "id": "connected-stuff",
   "metadata": {},
   "outputs": [
    {
     "name": "stdout",
     "output_type": "stream",
     "text": [
      "Hrr-Cobot state:\n",
      "FT-data:\n",
      "current force:\t[-8.01727  1.53882 -2.50488] [N]\n",
      "current torque:\t[-0.28778 -3.7619   2.85059] [Nm]\n",
      "current wrench:\t[-8.02459  1.52934 -2.4782  -0.28919 -3.76915  2.82395] [N,Nm]\n",
      "=>in contact:\tTrue\n",
      "---\n",
      "Robot-data:\n",
      "q:\t\t[ -88.79096   28.97982 -109.53169   -1.12552   41.51963   92.19676][°]\n",
      "q_dot:\t\t[0. 0. 0. 0. 0. 0.][rad/s]\n",
      "tau:\t\t[0. 0. 0. 0. 0. 0.][Nm]\n",
      "pos:\t\t[0.00998 0.52226 0.3527 ][m]\n",
      "quat:\t\t0.00008 <[ 0.99998  0.00126 -0.00651]>\n",
      "tool-pos:\t[0.00998 0.52226 0.3527 ][m]\n",
      "tool-rpy:\t[ -0.14484  -0.74592 179.9901 ][°]\n",
      "robot-status:\tready\n",
      "---\n"
     ]
    }
   ],
   "source": [
    "cobot = hrr_rob.HrrCobotControl.from_ros(prefix=\"/hrr_cobot/\")\n",
    "print(cobot)"
   ]
  },
  {
   "cell_type": "code",
   "execution_count": 7,
   "id": "preliminary-mechanics",
   "metadata": {},
   "outputs": [],
   "source": [
    "#Routine to open and close tool changer\n",
    "from comau_msgs.srv import *\n",
    "setPin = rospy.ServiceProxy(\"/hrr_cobot/set_digital_io\",SetIO)"
   ]
  },
  {
   "cell_type": "code",
   "execution_count": 5,
   "id": "russian-pipeline",
   "metadata": {},
   "outputs": [],
   "source": [
    "#Move to pose with speed as input\n",
    "def cobot_movetopose(posee, v_maximale):\n",
    "    cobot.move_to_pose(posee, err_gain = None, v_max = v_maximale) #start_pose, cobot.FK(cobot.q_calib)\n",
    "    T = int(100 * cobot.hz)\n",
    "    for t in trange(T):\n",
    "        if cobot.state is None:\n",
    "            rospy.loginfo(f\"reached goal pose at step {t + 1} / {T}\")\n",
    "            break\n",
    "        elif cobot.state == \"error\":\n",
    "            rospy.logerror(f\"robot in ERROR state\")\n",
    "        cobot.update()"
   ]
  },
  {
   "cell_type": "markdown",
   "id": "presidential-billy",
   "metadata": {},
   "source": [
    "## About this notebook\n",
    "Position 1-6 are defined as follows: In the current setup, the robot points towards the disassembly table for joint1-angle=0. If the robot turns to its left (negative joint1-angle), it turns towards position 1, then 2, then 3. Starting from zero joint1-angle, if the robot turns towards its right (positive joint1-angle), it turns towards position 4, then 5, then 6 (then 3, 2, 1 if it keeps turning)."
   ]
  },
  {
   "cell_type": "markdown",
   "id": "floppy-specification",
   "metadata": {},
   "source": [
    "It is fixed here which tool is at which position, since the path of approach is different for (almost) each tool."
   ]
  },
  {
   "cell_type": "markdown",
   "id": "geological-breathing",
   "metadata": {},
   "source": [
    "### The pickup procedure for position number p is as follows: \n",
    "\n",
    "0. Assume the cobot has no tool attached, toolchanger open and the cobot is at cobot.FK(cobot.q_calib) or similiar (joint1 might be different)\n",
    "1. Set joint1 $-\\frac \\pi 2$ for p = 1,2,3 and joint1 = $\\frac \\pi 2$ for p = 4,5,6, call that pose the starting pose.\n",
    "2. The cobot goes to the pickup pose (saved as ```p_pickup_q``` and ```p_pickup_A```) and closes the toolchanger\n",
    "3. The cobot goes to a pose infront of the rack slot from which it is safe to go to the starting pose (saved as ```p_infront_q``` and ```p_infront_A```). Possibly, there are waypoint-poses to get infront of the rack safely (saved as ```p_inbetweenX_q``` and ```p_inbetweenX_A```, where X is a number from 0 to N which the cobot passes through from low to high)\n",
    "4. The cobot goes to the starting pose\n",
    "5. (The cobot goes to the calibration pose)\n",
    "\n",
    "### The remove procedure for tool to be stored at position number p is as follows:\n",
    "0. Assume the cobot has a tool attached, toolchanger closed and the cobot is at cobot.FK(cobot.q_calib) or similiar (joint1 might be different)\n",
    "1. Set joint1 = -pi/2 for p = 1,2,3 and joint1 = +pi/2 for p = 4,5,6, call that pose the starting pose.\n",
    "2. The cobot goes to a pose infront of the rack slot (saved as p_infront_q and p_infront_A)\n",
    "3. The cobot goes to the pickup pose (saved as p_pickup_q and p_pickup_A). Possibly, there are waypoint-poses to get into the rack safely (saved as p_inbetweenX_q and p_inbetweenX_A, where X is a number from 0 to N which the cobot passes through from high to low)\n",
    "4. The toolchanger is opened and the cobot goes back to the starting pose. (should be safe, otherwise go through the waypoints again)\n",
    "5. (The cobot goes to the calibration pose)\n"
   ]
  },
  {
   "cell_type": "markdown",
   "id": "dutch-python",
   "metadata": {},
   "source": [
    "### Open tool changer"
   ]
  },
  {
   "cell_type": "code",
   "execution_count": 17,
   "id": "minute-poison",
   "metadata": {},
   "outputs": [],
   "source": [
    "cobot.open_tool_changer()"
   ]
  },
  {
   "cell_type": "markdown",
   "id": "supposed-liberal",
   "metadata": {},
   "source": [
    "### Close tool changer"
   ]
  },
  {
   "cell_type": "code",
   "execution_count": 18,
   "id": "cathedral-selling",
   "metadata": {},
   "outputs": [],
   "source": [
    "cobot.close_tool_changer()"
   ]
  },
  {
   "cell_type": "markdown",
   "id": "nuclear-yesterday",
   "metadata": {},
   "source": [
    "## Saving the poses"
   ]
  },
  {
   "cell_type": "code",
   "execution_count": null,
   "id": "animated-progress",
   "metadata": {},
   "outputs": [],
   "source": [
    "starting_pose_123 = cobot.q\n",
    "starting_pose_456 = cobot.q\n",
    "starting_pose_123 = cobot.q[0] = -np.pi/2\n",
    "starting_pose_456 = cobot.q[0] = np.pi/2"
   ]
  },
  {
   "cell_type": "markdown",
   "id": "human-programmer",
   "metadata": {},
   "source": [
    "### Position 1 - WSG50"
   ]
  },
  {
   "cell_type": "code",
   "execution_count": 13,
   "id": "suburban-mouse",
   "metadata": {},
   "outputs": [],
   "source": [
    "#Go with robot manually to pickup position, then\n",
    "cobot.update_tf()\n",
    "np.save(\"rack_positions/1_pickup_q\",cobot.q)\n",
    "np.save(\"rack_positions/1_pickup_A\",cobot.T_B_E_robot.A)"
   ]
  },
  {
   "cell_type": "code",
   "execution_count": 12,
<<<<<<< HEAD
   "id": "f35fac64",
=======
   "id": "9799c6fe",
>>>>>>> main
   "metadata": {},
   "outputs": [
    {
     "data": {
      "text/plain": [
       "array([-1.55037,  0.50431, -1.91409, -0.01314,  0.71476,  1.60367])"
      ]
     },
     "execution_count": 12,
     "metadata": {},
     "output_type": "execute_result"
    }
   ],
   "source": [
    "np.load(\"rack_positions/1_pickup_q.npy\")"
   ]
  },
  {
   "cell_type": "code",
   "execution_count": null,
   "id": "increased-watch",
   "metadata": {},
   "outputs": [],
   "source": [
    "#Close tool and go up a bit (positive z in base frame) to save a new waypoint\n",
    "cobot.update_tf()\n",
    "np.save(\"rack_positions/1_inbetween0_q\",cobot.q,allow_pickle=True)\n",
    "np.save(\"rack_positions/1_inbetween0_A\",cobot.T_B_E_robot.A,allow_pickle=True)"
   ]
  },
  {
   "cell_type": "code",
   "execution_count": 14,
   "id": "british-background",
   "metadata": {},
   "outputs": [],
   "source": [
    "#Pull out the tool fully from the slot, at a safe position, save it\n",
    "cobot.update_tf()\n",
    "np.save(\"rack_positions/1_infront_q\",cobot.q,allow_pickle=True)\n",
    "np.save(\"rack_positions/1_infront_A\",cobot.T_B_E_robot.A,allow_pickle=True)"
   ]
  },
  {
   "cell_type": "code",
   "execution_count": null,
   "id": "intensive-industry",
   "metadata": {},
   "outputs": [],
   "source": [
    "# Check if the way to starting pose is safe\n",
    "cobot_movetopose(starting_pose_123, 0.01)"
   ]
  },
  {
   "cell_type": "markdown",
   "id": "injured-charge",
   "metadata": {},
   "source": [
    "### Position 2 - Vacuum Gripper"
   ]
  },
  {
   "cell_type": "code",
<<<<<<< HEAD
   "execution_count": 20,
=======
   "execution_count": 37,
>>>>>>> main
   "id": "invalid-prefix",
   "metadata": {},
   "outputs": [],
   "source": [
    "#Go with robot to pickup position, then\n",
    "cobot.update_tf()\n",
    "np.save(\"rack_positions/2_pickup_q\",cobot.q,allow_pickle=True)\n",
    "np.save(\"rack_positions/2_pickup_A\",cobot.T_B_E_robot.A,allow_pickle=True)"
   ]
  },
  {
   "cell_type": "code",
   "execution_count": 21,
   "id": "conscious-slope",
   "metadata": {},
   "outputs": [],
   "source": [
    "#Intermediate waypoint, skip if not needed, add more if needed\n",
    "cobot.update_tf()\n",
    "np.save(\"rack_positions/2_inbetween0_q\",cobot.q,allow_pickle=True)\n",
    "np.save(\"rack_positions/2_inbetween0_A\",cobot.T_B_E_robot.A,allow_pickle=True)"
   ]
  },
  {
   "cell_type": "code",
   "execution_count": 23,
   "id": "prospective-uncertainty",
   "metadata": {},
   "outputs": [],
   "source": [
    "#Pull out the tool fully from the slot, at a safe position, save it\n",
    "cobot.update_tf()\n",
    "np.save(\"rack_positions/2_inbetween1_q\",cobot.q,allow_pickle=True)\n",
    "np.save(\"rack_positions/2_inbetween1_A\",cobot.T_B_E_robot.A,allow_pickle=True)"
   ]
  },
  {
   "cell_type": "code",
   "execution_count": 24,
<<<<<<< HEAD
   "id": "8df21e84",
=======
   "id": "e6f843e6",
>>>>>>> main
   "metadata": {},
   "outputs": [],
   "source": [
    "#Pull out the tool fully from the slot, at a safe position, save it\n",
    "cobot.update_tf()\n",
    "np.save(\"rack_positions/2_infront_q\",cobot.q,allow_pickle=True)\n",
    "np.save(\"rack_positions/2_infront_A\",cobot.T_B_E_robot.A,allow_pickle=True)"
   ]
  },
  {
   "cell_type": "code",
   "execution_count": null,
   "id": "induced-joyce",
   "metadata": {},
   "outputs": [],
   "source": [
    "# Check if the way to starting pose is safe\n",
    "cobot_movetopose(starting_pose_123, 0.01)"
   ]
  },
  {
   "cell_type": "markdown",
   "id": "several-faith",
   "metadata": {},
   "source": [
    "### Position 3 - Shaft grinder"
   ]
  },
  {
   "cell_type": "code",
   "execution_count": 25,
   "id": "induced-temperature",
   "metadata": {},
   "outputs": [],
   "source": [
    "#Go with robot to pickup position, then\n",
    "cobot.update_tf()\n",
    "np.save(\"rack_positions/3_pickup_q\",cobot.q,allow_pickle=True)\n",
    "np.save(\"rack_positions/3_pickup_A\",cobot.T_B_E_robot.A,allow_pickle=True)"
   ]
  },
  {
   "cell_type": "code",
   "execution_count": 26,
<<<<<<< HEAD
   "id": "06c6218f",
=======
   "id": "66b6d560",
>>>>>>> main
   "metadata": {},
   "outputs": [],
   "source": [
    "#Intermediate waypoint, skip if not needed, add more if needed\n",
    "cobot.update_tf()\n",
    "np.save(\"rack_positions/3_pre_pose_pickup_q\",cobot.q,allow_pickle=True)\n",
    "np.save(\"rack_positions/3_pre_pose_pickup_A\",cobot.T_B_E_robot.A,allow_pickle=True)"
   ]
  },
  {
   "cell_type": "code",
   "execution_count": 27,
   "id": "possible-cigarette",
   "metadata": {},
   "outputs": [],
   "source": [
    "#Intermediate waypoint, skip if not needed, add more if needed\n",
    "cobot.update_tf()\n",
    "np.save(\"rack_positions/3_inbetween0_q\",cobot.q,allow_pickle=True)\n",
    "np.save(\"rack_positions/3_inbetween0_A\",cobot.T_B_E_robot.A,allow_pickle=True)"
   ]
  },
  {
   "cell_type": "code",
   "execution_count": 28,
<<<<<<< HEAD
   "id": "b254b7f4",
=======
   "id": "9220aa35",
>>>>>>> main
   "metadata": {},
   "outputs": [],
   "source": [
    "#Intermediate waypoint, skip if not needed, add more if needed\n",
    "cobot.update_tf()\n",
    "np.save(\"rack_positions/3_inbetween1_q\",cobot.q,allow_pickle=True)\n",
    "np.save(\"rack_positions/3_inbetween1_A\",cobot.T_B_E_robot.A,allow_pickle=True)"
   ]
  },
  {
   "cell_type": "code",
   "execution_count": 29,
   "id": "expressed-explosion",
   "metadata": {},
   "outputs": [],
   "source": [
    "#Pull out the tool fully from the slot, at a safe position, save it\n",
    "cobot.update_tf()\n",
    "np.save(\"rack_positions/3_infront_q\",cobot.q,allow_pickle=True)\n",
    "np.save(\"rack_positions/3_infront_A\",cobot.T_B_E_robot.A,allow_pickle=True)"
   ]
  },
  {
   "cell_type": "code",
   "execution_count": null,
   "id": "transparent-suite",
   "metadata": {},
   "outputs": [],
   "source": [
    "# Check if the way to starting pose is safe\n",
    "cobot_movetopose(starting_pose_123, 0.01)"
   ]
  },
  {
   "cell_type": "markdown",
   "id": "environmental-oregon",
   "metadata": {},
   "source": [
    "### Position 4 - New Gripper? To be Decided"
   ]
  },
  {
   "cell_type": "markdown",
   "id": "surprised-soviet",
   "metadata": {},
   "source": [
    "### Position 5 - Empty"
   ]
  },
  {
   "cell_type": "markdown",
   "id": "fatty-sherman",
   "metadata": {},
   "source": [
    "### Position 6  - Screw driver\n"
   ]
  },
  {
   "cell_type": "code",
   "execution_count": 33,
   "id": "sweet-shooting",
   "metadata": {},
   "outputs": [],
   "source": [
    "#Go with robot to pickup position, then\n",
    "cobot.update_tf()\n",
    "np.save(\"rack_positions/6_pickup_q\",cobot.q,allow_pickle=True)\n",
    "np.save(\"rack_positions/6_pickup_A\",cobot.T_B_E_robot.A,allow_pickle=True)"
   ]
  },
  {
   "cell_type": "code",
   "execution_count": 31,
<<<<<<< HEAD
   "id": "2cf30428",
=======
   "id": "e6202ec3",
>>>>>>> main
   "metadata": {},
   "outputs": [],
   "source": [
    "#Intermediate waypoint, skip if not needed, add more if needed\n",
    "cobot.update_tf()\n",
    "np.save(\"rack_positions/6_pre_pose_pickup_q\",cobot.q,allow_pickle=True)\n",
    "np.save(\"rack_positions/6_pre_pose_pickup_A\",cobot.T_B_E_robot.A,allow_pickle=True)"
   ]
  },
  {
   "cell_type": "code",
   "execution_count": 34,
   "id": "alone-cameroon",
   "metadata": {},
   "outputs": [],
   "source": [
    "#Intermediate waypoint, skip if not needed, add more if needed\n",
    "cobot.update_tf()\n",
    "np.save(\"rack_positions/6_inbetween0_q\",cobot.q,allow_pickle=True)\n",
    "np.save(\"rack_positions/6_inbetween0_A\",cobot.T_B_E_robot.A,allow_pickle=True)"
   ]
  },
  {
   "cell_type": "code",
   "execution_count": 35,
<<<<<<< HEAD
   "id": "4c7e6790",
=======
   "id": "918cd8e8",
>>>>>>> main
   "metadata": {},
   "outputs": [],
   "source": [
    "#Intermediate waypoint, skip if not needed, add more if needed\n",
    "cobot.update_tf()\n",
    "np.save(\"rack_positions/6_inbetween1_q\",cobot.q,allow_pickle=True)\n",
    "np.save(\"rack_positions/6_inbetween1_A\",cobot.T_B_E_robot.A,allow_pickle=True)"
   ]
  },
  {
   "cell_type": "code",
   "execution_count": 36,
   "id": "exempt-trustee",
   "metadata": {},
   "outputs": [],
   "source": [
    "#Pull out the tool fully from the slot, at a safe position, save it\n",
    "cobot.update_tf()\n",
    "np.save(\"rack_positions/6_infront_q\",cobot.q,allow_pickle=True)\n",
    "np.save(\"rack_positions/6_infront_A\",cobot.T_B_E_robot.A,allow_pickle=True)"
   ]
  },
  {
   "cell_type": "code",
   "execution_count": null,
   "id": "criminal-mixer",
   "metadata": {},
   "outputs": [],
   "source": [
    "# Check if the way to starting pose is safe\n",
    "cobot_movetopose(starting_pose_456, 0.01)"
   ]
  },
  {
   "cell_type": "markdown",
   "id": "terminal-silicon",
   "metadata": {},
   "source": [
    "## Tool Change Utility - Example: Dispose Shaft grinder and pickup Vacuum Gripper"
   ]
  },
  {
   "cell_type": "markdown",
   "id": "crazy-wrong",
   "metadata": {},
   "source": [
    "### Start at calibration pose"
   ]
  },
  {
   "cell_type": "code",
   "execution_count": null,
   "id": "valuable-blank",
   "metadata": {},
   "outputs": [],
   "source": [
    "cobot_movetopose(cobot.FK(cobot.q_calib), 0.03)"
   ]
  },
  {
   "cell_type": "markdown",
   "id": "hydraulic-capital",
   "metadata": {},
   "source": [
    "### Put shaft grinder into grasp of toolchanger and close tool changer with the following command"
   ]
  },
  {
   "cell_type": "code",
   "execution_count": null,
   "id": "associate-distinction",
   "metadata": {},
   "outputs": [],
   "source": [
    "setPin(pin=5, state=False)"
   ]
  },
  {
   "cell_type": "markdown",
   "id": "rural-european",
   "metadata": {},
   "source": [
    "### Move to starting pose for tool position between 1-3"
   ]
  },
  {
   "cell_type": "code",
   "execution_count": null,
   "id": "hungry-secretary",
   "metadata": {},
   "outputs": [],
   "source": [
    "cobot_movetopose(cobot.FK(starting_pose_123), 0.03)"
   ]
  },
  {
   "cell_type": "markdown",
   "id": "opposite-bacon",
   "metadata": {},
   "source": [
    "### Load waypoints"
   ]
  },
  {
   "cell_type": "code",
   "execution_count": null,
   "id": "checked-building",
   "metadata": {},
   "outputs": [],
   "source": [
    "infront = np.load(\"rack_positions/3_infront_A.npy\")\n",
    "pickup = np.load(\"rack_positions/3_pickup_A.npy\")"
   ]
  },
  {
   "cell_type": "markdown",
   "id": "welsh-diesel",
   "metadata": {},
   "source": [
    "### Move infront of rack"
   ]
  },
  {
   "cell_type": "code",
   "execution_count": null,
   "id": "upset-coating",
   "metadata": {},
   "outputs": [],
   "source": [
    "cobot_movetopose(infront, 0.03)"
   ]
  },
  {
   "cell_type": "markdown",
   "id": "cloudy-denver",
   "metadata": {},
   "source": [
    "### Move to pickup pose"
   ]
  },
  {
   "cell_type": "code",
   "execution_count": null,
   "id": "hollywood-advertising",
   "metadata": {},
   "outputs": [],
   "source": [
    "cobot_movetopose(pickup, 0.03)"
   ]
  },
  {
   "cell_type": "markdown",
   "id": "sporting-light",
   "metadata": {},
   "source": [
    "### Open tool changer"
   ]
  },
  {
   "cell_type": "code",
   "execution_count": null,
   "id": "retired-seafood",
   "metadata": {},
   "outputs": [],
   "source": [
    "setPin(pin=5, state=True)"
   ]
  },
  {
   "cell_type": "markdown",
   "id": "alive-mercy",
   "metadata": {},
   "source": [
    "### Go back to starting pose"
   ]
  },
  {
   "cell_type": "code",
   "execution_count": null,
   "id": "headed-encounter",
   "metadata": {},
   "outputs": [],
   "source": [
    "cobot_movetopose(cobot.FK(starting_pose_123), 0.03)"
   ]
  },
  {
   "cell_type": "markdown",
   "id": "described-module",
   "metadata": {},
   "source": [
    "### Go to starting pose for vacuum gripper (1)"
   ]
  },
  {
   "cell_type": "code",
   "execution_count": null,
   "id": "cathedral-europe",
   "metadata": {},
   "outputs": [],
   "source": [
    "cobot_movetopose(cobot.FK(starting_pose_123), 0.03)"
   ]
  },
  {
   "cell_type": "markdown",
   "id": "conditional-specialist",
   "metadata": {},
   "source": [
    "### Load waypoints"
   ]
  },
  {
   "cell_type": "code",
   "execution_count": null,
   "id": "legislative-california",
   "metadata": {},
   "outputs": [],
   "source": [
    "infront = np.load(\"rack_positions/1_infront_A.npy\")\n",
    "inter = np.load(\"rack_positions/1_inbetween0_A.npy\")\n",
    "pickup = np.load(\"rack_positions/1_pickup_A.npy\")"
   ]
  },
  {
   "cell_type": "markdown",
   "id": "posted-gathering",
   "metadata": {},
   "source": [
    "### Go to pickup pose"
   ]
  },
  {
   "cell_type": "code",
   "execution_count": null,
   "id": "shared-conditions",
   "metadata": {},
   "outputs": [],
   "source": [
    "cobot_movetopose(pickup, 0.03)"
   ]
  },
  {
   "cell_type": "markdown",
   "id": "invalid-alexander",
   "metadata": {},
   "source": [
    "### Close tool changer"
   ]
  },
  {
   "cell_type": "code",
   "execution_count": null,
   "id": "national-certification",
   "metadata": {},
   "outputs": [],
   "source": [
    "setPin(pin=5, state=False)"
   ]
  },
  {
   "cell_type": "markdown",
   "id": "minor-tourist",
   "metadata": {},
   "source": [
    "### Go to inbetween pose"
   ]
  },
  {
   "cell_type": "code",
   "execution_count": null,
   "id": "governing-script",
   "metadata": {},
   "outputs": [],
   "source": [
    "cobot_movetopose(inter, 0.03)"
   ]
  },
  {
   "cell_type": "markdown",
   "id": "quick-warrant",
   "metadata": {},
   "source": [
    "### Go to safe pose in front of rack"
   ]
  },
  {
   "cell_type": "code",
   "execution_count": null,
   "id": "embedded-sarah",
   "metadata": {},
   "outputs": [],
   "source": [
    "cobot_movetopose(infront, 0.03)"
   ]
  },
  {
   "cell_type": "markdown",
   "id": "undefined-switch",
   "metadata": {},
   "source": [
    "### Go to starting pose"
   ]
  },
  {
   "cell_type": "code",
   "execution_count": null,
   "id": "equal-gossip",
   "metadata": {},
   "outputs": [],
   "source": [
    "cobot_movetopose(cobot.FK(starting_pose_123), 0.03)"
   ]
  },
  {
   "cell_type": "markdown",
   "id": "determined-bosnia",
   "metadata": {},
   "source": [
    "### Go to calibration pose"
   ]
  },
  {
   "cell_type": "code",
   "execution_count": null,
   "id": "adopted-companion",
   "metadata": {},
   "outputs": [],
   "source": [
    "cobot_movetopose(cobot.FK(q.calib), 0.03)"
   ]
  }
 ],
 "metadata": {
  "kernelspec": {
   "display_name": "Python 3 (ipykernel)",
   "language": "python",
   "name": "python3"
  },
  "language_info": {
   "codemirror_mode": {
    "name": "ipython",
    "version": 3
   },
   "file_extension": ".py",
   "mimetype": "text/x-python",
   "name": "python",
   "nbconvert_exporter": "python",
   "pygments_lexer": "ipython3",
   "version": "3.8.12"
  }
 },
 "nbformat": 4,
 "nbformat_minor": 5
}
