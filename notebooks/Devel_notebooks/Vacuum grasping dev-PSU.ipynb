{
 "cells": [
  {
   "cell_type": "code",
   "execution_count": 1,
   "id": "veterinary-medium",
   "metadata": {},
   "outputs": [],
   "source": [
    "import numpy as np\n",
    "import sys\n",
    "import hrr_common.utils as cu\n",
    "from hrr_cobot_robot.gripper_interfaces.wsg_50_hw_local import gripper_command_handle as gch\n",
    "import hrr_common as hrr_cm\n",
    "import hrr_cobot_robot as hrr_rob\n",
    "import spatialmath as sm\n",
    "import rospy\n",
    "from tqdm.notebook import tqdm, trange\n",
    "from hrr_msgs.msg import PlannerAction , PlannerGoal\n",
    "\n",
    "# ROS\n",
    "import actionlib"
   ]
  },
  {
   "cell_type": "code",
   "execution_count": 2,
   "id": "sound-chaos",
   "metadata": {
    "scrolled": true
   },
   "outputs": [
    {
     "name": "stdout",
     "output_type": "stream",
     "text": [
      "for a local setup, replace the above by:\n",
      "\t%env ROS_MASTER_URI=http://localhost:11311\n",
      "env: ROS_MASTER_URI=http://hrrN3511rt2004.lsr.ei.tum.de:11311\n",
      "in case this notebook does not work please check that IP below is identical:\n",
      "\t%env ROS_IP=129.187.147.174\t\t<=>\tenv: ROS_IP=129.187.147.174\n"
     ]
    }
   ],
   "source": [
    "def get_hostname_and_IP():\n",
    "    import socket\n",
    "    with socket.socket(socket.AF_INET, socket.SOCK_DGRAM) as s:\n",
    "        s.connect((\"8.8.8.8\", 80))\n",
    "        return socket.gethostname(), s.getsockname()[0]\n",
    "\n",
    "_host, _ip = get_hostname_and_IP()\n",
    "%env ROS_MASTER_URI=http://hrrcobotLinux54.lsr.ei.tum.de:11311\n",
    "# %env ROS_MASTER_URI=http://localhost:11311\n",
    "print(f\"\\t\\033[1m\\033[4m!!!please check that the IPs below is identical!!!\\033[0m\"+\n",
    "      f\"\\n\\thost {_host} has IP {_ip}, which should be identical to\",end=\"\\nvs:\\t\")\n",
    "%env ROS_IP=$_ip"
   ]
  },
  {
   "cell_type": "code",
   "execution_count": 3,
   "id": "dramatic-pendant",
   "metadata": {},
   "outputs": [],
   "source": [
    "np.set_printoptions(suppress=True)"
   ]
  },
  {
   "cell_type": "markdown",
   "id": "animal-donna",
   "metadata": {},
   "source": [
    "## Launch\n",
    "\n",
    "catkin build hrr_ee_tools package\n",
    "\n",
    "Launch the cobot\n",
    "```bash\n",
    "roslaunch hrr_cobot_robot hrr_cobot_hw.launch tool_name:=\"vacuum\"  \n",
    "```\n",
    "\n",
    "```bash\n",
    "rosrun planner planner_server_v2.py \n",
    "```\n",
    "```bash\n",
    "rosrun hrr_cobot_robot enable_sns_trk --sns_controller_name sensor_track_velocity_controller\n",
    "```"
   ]
  },
  {
   "cell_type": "code",
   "execution_count": 4,
   "id": "digital-bobby",
   "metadata": {},
   "outputs": [
    {
     "name": "stderr",
     "output_type": "stream",
     "text": [
      "[ERROR] [1641980871.027711]: could not set tool-frame @ /vacuum_grasping_dev due to missing ROS-parameter: '~tool_name'\n"
     ]
    },
    {
     "name": "stdout",
     "output_type": "stream",
     "text": [
      "[INFO] [1641980871.511826]: Updated force  gains: K_p:=[0.0001, 0.0001, 0.0001]\n",
      "[INFO] [1641980871.515564]: Updated torque gains: K_p:=[0.0005, 0.0005, 0.0005]\n",
      "q:\t\t[   4.09713636    4.22352218 -105.27729153  -88.65102648   93.92755252\n",
      "  -25.46458276][°]\n",
      "q_dot:\t\t[0. 0. 0. 0. 0. 0.][rad/s]\n",
      "tau:\t\t[0. 0. 0. 0. 0. 0.][Nm]\n",
      "pos:\t\t[0.45649518 0.04729539 0.65235046][m]\n",
      "quat:\t\t-0.27107 <[0.27024388 0.65315031 0.6533643 ]>\n",
      "tool-pos:\t[0.45649518 0.04729539 0.65235046][m]\n",
      "tool-rpy:\t[-134.98979187   -0.05507659  -89.95841217][°]\n",
      "robot-status:\tterminate\n"
     ]
    },
    {
     "name": "stderr",
     "output_type": "stream",
     "text": [
      "[WARN] [1641980871.749308]: Could not process inbound connection: Client [/hrr_cobot] wants topic [/hrr_cobot/sensor_track_compliant_controller/hybrid_ctrl_cmd] to have datatype/md5sum [hrr_msgs/HybridForceVelocityCmdStamped/6bfe9d92f9569269ce7086e736ecd0c2], but our version has [hrr_msgs/HybridForceVelocityCmdStamped/c7d32c882fe005053aba472f934842bd] Dropping connection.{'callerid': '/hrr_cobot', 'md5sum': '6bfe9d92f9569269ce7086e736ecd0c2', 'tcp_nodelay': '0', 'topic': '/hrr_cobot/sensor_track_compliant_controller/hybrid_ctrl_cmd', 'type': 'hrr_msgs/HybridForceVelocityCmdStamped'}\n"
     ]
    }
   ],
   "source": [
    "rospy.init_node('vacuum_grasping_dev')\n",
    "hrr_rob.load_default_parameters(\"/hrr_cobot\")\n",
    "#rospy.set_param('/cobot_tool_name', \"wsg_50\")\n",
    "cobot = hrr_rob.HrrCobotControl.from_ros()\n",
    "rospy.set_param(\"~joint_state_topic_name\", \"/hrr_cobot/joint_states\")\n",
    "rospy.set_param(\"~tp5_topic_name\", \"/hrr_cobot/comau_robot_state_controller/comau_cartesian_data\")\n",
    "comau_status = hrr_rob.ComauRobotState.from_ros()\n",
    "rospy.sleep(1e-1)\n",
    "print(comau_status)"
   ]
  },
  {
   "cell_type": "markdown",
   "id": "equal-portable",
   "metadata": {},
   "source": [
    "### connect vacuum gripper, make sure air is turned on behind the robot"
   ]
  },
  {
   "cell_type": "code",
   "execution_count": 5,
   "id": "ongoing-location",
   "metadata": {},
   "outputs": [
    {
     "data": {
      "text/plain": [
       "True"
      ]
     },
     "execution_count": 5,
     "metadata": {},
     "output_type": "execute_result"
    }
   ],
   "source": [
    "cobot.change_tool(\"vacuum\")\n"
   ]
  },
  {
   "cell_type": "code",
   "execution_count": 68,
   "id": "successful-chocolate",
   "metadata": {},
   "outputs": [
    {
     "data": {
      "text/plain": [
       "  \u001b[38;5;1m-0.7615  \u001b[0m \u001b[38;5;1m-0.648   \u001b[0m \u001b[38;5;1m 0.01302 \u001b[0m \u001b[38;5;4m 0.5001  \u001b[0m  \u001b[0m\n",
       "  \u001b[38;5;1m-0.6481  \u001b[0m \u001b[38;5;1m 0.7611  \u001b[0m \u001b[38;5;1m-0.02633 \u001b[0m \u001b[38;5;4m-0.3753  \u001b[0m  \u001b[0m\n",
       "  \u001b[38;5;1m 0.007154\u001b[0m \u001b[38;5;1m-0.02849 \u001b[0m \u001b[38;5;1m-0.9996  \u001b[0m \u001b[38;5;4m 0.4686  \u001b[0m  \u001b[0m\n",
       "  \u001b[38;5;244m 0       \u001b[0m \u001b[38;5;244m 0       \u001b[0m \u001b[38;5;244m 0       \u001b[0m \u001b[38;5;244m 1       \u001b[0m  \u001b[0m\n"
      ]
     },
     "execution_count": 68,
     "metadata": {},
     "output_type": "execute_result"
    }
   ],
   "source": [
    "cobot.T_B_E_robot"
   ]
  },
  {
   "cell_type": "code",
   "execution_count": 67,
   "id": "guilty-shooting",
   "metadata": {},
   "outputs": [
    {
     "data": {
      "text/plain": [
       "  \u001b[38;5;1m-0.9967  \u001b[0m \u001b[38;5;1m 0.08024 \u001b[0m \u001b[38;5;1m 0.01302 \u001b[0m \u001b[38;5;4m 0.5099  \u001b[0m  \u001b[0m\n",
       "  \u001b[38;5;1m 0.07988 \u001b[0m \u001b[38;5;1m 0.9965  \u001b[0m \u001b[38;5;1m-0.02633 \u001b[0m \u001b[38;5;4m-0.3285  \u001b[0m  \u001b[0m\n",
       "  \u001b[38;5;1m-0.01509 \u001b[0m \u001b[38;5;1m-0.02521 \u001b[0m \u001b[38;5;1m-0.9996  \u001b[0m \u001b[38;5;4m 0.2693  \u001b[0m  \u001b[0m\n",
       "  \u001b[38;5;244m 0       \u001b[0m \u001b[38;5;244m 0       \u001b[0m \u001b[38;5;244m 0       \u001b[0m \u001b[38;5;244m 1       \u001b[0m  \u001b[0m\n"
      ]
     },
     "execution_count": 67,
     "metadata": {},
     "output_type": "execute_result"
    }
   ],
   "source": [
    "cobot.T_B_C_robot"
   ]
  },
  {
   "cell_type": "markdown",
   "id": "authorized-lightweight",
   "metadata": {},
   "source": [
    "### Force tests"
   ]
  },
  {
   "cell_type": "code",
   "execution_count": 59,
   "id": "deluxe-closing",
   "metadata": {},
   "outputs": [
    {
     "name": "stdout",
     "output_type": "stream",
     "text": [
      "current force:\t[-9.28619385  5.51879883 17.69238281] [N]\n",
      "current torque:\t[-4.96246338 -3.96057129  0.6362915 ] [Nm]\n"
     ]
    },
    {
     "data": {
      "text/plain": [
       "array([-9.34387207,  5.58325195, 17.58691406, -5.05371094, -3.97338867,  0.65325928])"
      ]
     },
     "execution_count": 59,
     "metadata": {},
     "output_type": "execute_result"
    }
   ],
   "source": [
    "rospy.set_param(\"~ft_sensor_topic_name\", \"/hrr_cobot/ft_sensor\")\n",
    "ft_status = hrr_rob.FTData.from_ros()\n",
    "rospy.sleep(1e-1)\n",
    "print(ft_status)\n",
    "ft_status.wrench"
   ]
  },
  {
   "cell_type": "code",
   "execution_count": null,
   "id": "physical-mounting",
   "metadata": {},
   "outputs": [],
   "source": [
    "%matplotlib widget\n",
    "cobot.run_calibration_routine(file_name='/tmp/current_tool.npy', plot=True, figsize=(12,10))"
   ]
  },
  {
   "cell_type": "code",
   "execution_count": null,
   "id": "thrown-poland",
   "metadata": {},
   "outputs": [],
   "source": [
    "print(ft_status.wrench)"
   ]
  },
  {
   "cell_type": "code",
   "execution_count": null,
   "id": "headed-anger",
   "metadata": {},
   "outputs": [],
   "source": [
    "print(cobot)"
   ]
  },
  {
   "cell_type": "code",
   "execution_count": null,
   "id": "genetic-professional",
   "metadata": {},
   "outputs": [],
   "source": [
    "cobot.init_sns_vel()"
   ]
  },
  {
   "cell_type": "code",
   "execution_count": null,
   "id": "illegal-cowboy",
   "metadata": {},
   "outputs": [],
   "source": [
    "cobot.reset()\n",
    "cobot.set_compliant(np.r_[1.0, 1.0, 1.0, np.zeros(3)], Path(\"/tmp/current_tool.npy\"), F_max=5.0)"
   ]
  },
  {
   "cell_type": "code",
   "execution_count": null,
   "id": "rotary-slope",
   "metadata": {},
   "outputs": [],
   "source": [
    "cobot.acknowledge_calibration()"
   ]
  },
  {
   "cell_type": "code",
   "execution_count": null,
   "id": "focal-suggestion",
   "metadata": {},
   "outputs": [],
   "source": [
    "T = int(10 * cobot.hz)\n",
    "for t in trange(T):\n",
    "    cobot.update()"
   ]
  },
  {
   "cell_type": "code",
   "execution_count": null,
   "id": "utility-blowing",
   "metadata": {},
   "outputs": [],
   "source": [
    "cobot.reset()\n",
    "cobot.set_py_hybrid_force_vel_command(B_F_des=np.r_[0.0, 0.0, -10.0, np.zeros(3)], \n",
    "                                          K_f=8e-4, K_t=5e-3, scale_pos=0.0, scale_rot=0.0, \n",
    "                                      wrench_dir=np.r_[1.0, 1.0, 1.0, np.ones(3)],\n",
    "                                      vel_dir=np.zeros(6))"
   ]
  },
  {
   "cell_type": "markdown",
   "id": "legitimate-turkey",
   "metadata": {},
   "source": [
    "### Vacuum tests\n"
   ]
  },
  {
   "cell_type": "code",
   "execution_count": 38,
   "id": "political-monkey",
   "metadata": {},
   "outputs": [],
   "source": [
    "from hrr_cobot_robot import ArduinoToolControlInterface\n",
    "rospy.set_param(\"~arduino_node_name\", \"/hrr_cobot/tool_controller\")\n",
    "tool_controller = ArduinoToolControlInterface.from_ros()\n",
    "tool_controller.tool = \"vacuum\"\n",
    "#cobot.set_tool_from_ros_frame(cobot.tool, \"vacuum_tip1\")"
   ]
  },
  {
   "cell_type": "code",
   "execution_count": 59,
   "id": "german-density",
   "metadata": {},
   "outputs": [],
   "source": [
    "  #Turns vacuum on for 10seconds\n",
    "tool_controller.vacuum = True"
   ]
  },
  {
   "cell_type": "code",
   "execution_count": 57,
   "id": "assisted-forty",
   "metadata": {},
   "outputs": [],
   "source": [
    "tool_controller.vacuum = False #Turns vacuum off (immediately)"
   ]
  },
  {
   "cell_type": "code",
   "execution_count": null,
   "id": "sharing-sunset",
   "metadata": {},
   "outputs": [],
   "source": [
    "#Usage fo\n",
    "for t in trange(20):\n",
    "    tool_controller.vacuum = True\n",
    "    rospy.sleep(0.2)"
   ]
  },
  {
   "cell_type": "markdown",
   "id": "mental-excellence",
   "metadata": {},
   "source": [
    "### Use cases\n",
    "Emergency lamp: \n",
    "    Remove and dispose lid after it is cut loose from the fixtures\n",
    "    Remove and dispose middle cover\n",
    "Microwave Oven: None\n",
    "Pc Tower: \n",
    "    Dispose PSU after it is pushed from the housing\n",
    "    Dipose CPU cooler after it is unscrewed\n"
   ]
  },
  {
   "cell_type": "markdown",
   "id": "seasonal-terry",
   "metadata": {},
   "source": [
    "## Params from outside"
   ]
  },
  {
   "cell_type": "code",
   "execution_count": null,
   "id": "frequent-fashion",
   "metadata": {},
   "outputs": [],
   "source": [
    "from geometry_msgs.msg import PoseStamped #For testing purposes\n",
    "object_center = PoseStamped() #PoseStamped\n",
    "release_pose = PoseStamped() #PoseStamped"
   ]
  },
  {
   "cell_type": "markdown",
   "id": "english-vintage",
   "metadata": {},
   "source": [
    "### What we really need: \n",
    "* pose of the robot when activating vacuum gripper (call it goal_pose)\n",
    "* pose of the robot when deactivating (call it dispose_pose)\n",
    "* (maybe) a pre-pose or normal vector to the surface"
   ]
  },
  {
   "cell_type": "code",
   "execution_count": 42,
   "id": "incorporated-ontario",
   "metadata": {},
   "outputs": [
    {
     "data": {
      "text/plain": [
       "0.1"
      ]
     },
     "execution_count": 42,
     "metadata": {},
     "output_type": "execute_result"
    }
   ],
   "source": [
    "cobot.v_max\n"
   ]
  },
  {
   "cell_type": "markdown",
   "id": "second-paste",
   "metadata": {},
   "source": [
    "### Load it manually for now"
   ]
  },
  {
   "cell_type": "code",
   "execution_count": 58,
   "id": "adjusted-mixture",
   "metadata": {},
   "outputs": [
    {
     "data": {
      "text/plain": [
       "  \u001b[38;5;1m-0.7244  \u001b[0m \u001b[38;5;1m-0.6893  \u001b[0m \u001b[38;5;1m 0.01283 \u001b[0m \u001b[38;5;4m 0.6115  \u001b[0m  \u001b[0m\n",
       "  \u001b[38;5;1m-0.6894  \u001b[0m \u001b[38;5;1m 0.7243  \u001b[0m \u001b[38;5;1m-0.008773\u001b[0m \u001b[38;5;4m-0.3118  \u001b[0m  \u001b[0m\n",
       "  \u001b[38;5;1m-0.003248\u001b[0m \u001b[38;5;1m-0.0152  \u001b[0m \u001b[38;5;1m-0.9999  \u001b[0m \u001b[38;5;4m 0.3084  \u001b[0m  \u001b[0m\n",
       "  \u001b[38;5;244m 0       \u001b[0m \u001b[38;5;244m 0       \u001b[0m \u001b[38;5;244m 0       \u001b[0m \u001b[38;5;244m 1       \u001b[0m  \u001b[0m\n"
      ]
     },
     "execution_count": 58,
     "metadata": {},
     "output_type": "execute_result"
    }
   ],
   "source": [
    "cobot.update_tf()\n",
    "#np.save('goal_pose_vac',cobot.T_B_E_robot.A,allow_pickle=True,) #saves current pose as goal_pose (for metal sheet of PC)\n",
    "np.save('goal_pose_vac_PSU',cobot.T_B_E_robot.A,allow_pickle=True,) #saves current pose as goal_pose\n",
    "goal_pose = np.load('goal_pose_vac_PSU.npy')\n",
    "sm.SE3(goal_pose)"
   ]
  },
  {
   "cell_type": "code",
   "execution_count": 8,
   "id": "pursuant-building",
   "metadata": {},
   "outputs": [
    {
     "data": {
      "text/plain": [
       "  \u001b[38;5;1m-0.6713  \u001b[0m \u001b[38;5;1m-0.7408  \u001b[0m \u001b[38;5;1m 0.02192 \u001b[0m \u001b[38;5;4m 0.5709  \u001b[0m  \u001b[0m\n",
       "  \u001b[38;5;1m-0.7408  \u001b[0m \u001b[38;5;1m 0.6716  \u001b[0m \u001b[38;5;1m 0.01315 \u001b[0m \u001b[38;5;4m 0.3754  \u001b[0m  \u001b[0m\n",
       "  \u001b[38;5;1m-0.02447 \u001b[0m \u001b[38;5;1m-0.007406\u001b[0m \u001b[38;5;1m-0.9997  \u001b[0m \u001b[38;5;4m 0.435   \u001b[0m  \u001b[0m\n",
       "  \u001b[38;5;244m 0       \u001b[0m \u001b[38;5;244m 0       \u001b[0m \u001b[38;5;244m 0       \u001b[0m \u001b[38;5;244m 1       \u001b[0m  \u001b[0m\n"
      ]
     },
     "execution_count": 8,
     "metadata": {},
     "output_type": "execute_result"
    }
   ],
   "source": [
    "#np.save('dispose_pose_vac',dispose_pose.A,allow_pickle=True) #saves current pose as release_pose\n",
    "dispose_pose = np.load('dispose_pose_vac.npy')\n",
    "sm.SE3(dispose_pose) #prob go down 10-20cm"
   ]
  },
  {
   "cell_type": "code",
   "execution_count": 9,
   "id": "administrative-valuable",
   "metadata": {},
   "outputs": [
    {
     "data": {
      "text/plain": [
       "  \u001b[38;5;1m-0.6713  \u001b[0m \u001b[38;5;1m-0.7408  \u001b[0m \u001b[38;5;1m 0.02192 \u001b[0m \u001b[38;5;4m 0.5709  \u001b[0m  \u001b[0m\n",
       "  \u001b[38;5;1m-0.7408  \u001b[0m \u001b[38;5;1m 0.6716  \u001b[0m \u001b[38;5;1m 0.01315 \u001b[0m \u001b[38;5;4m 0.3754  \u001b[0m  \u001b[0m\n",
       "  \u001b[38;5;1m-0.02447 \u001b[0m \u001b[38;5;1m-0.007406\u001b[0m \u001b[38;5;1m-0.9997  \u001b[0m \u001b[38;5;4m 0.285   \u001b[0m  \u001b[0m\n",
       "  \u001b[38;5;244m 0       \u001b[0m \u001b[38;5;244m 0       \u001b[0m \u001b[38;5;244m 0       \u001b[0m \u001b[38;5;244m 1       \u001b[0m  \u001b[0m\n"
      ]
     },
     "execution_count": 9,
     "metadata": {},
     "output_type": "execute_result"
    }
   ],
   "source": [
    "#np.save('final_pose_vac',final_pose.A,allow_pickle=True)\n",
    "final_pose = np.load('final_pose_vac.npy')\n",
    "sm.SE3(final_pose)"
   ]
  },
  {
   "cell_type": "code",
   "execution_count": 10,
   "id": "absolute-cooperative",
   "metadata": {},
   "outputs": [],
   "source": [
    "#These are used to compute the pre-pose:\n",
    "nvec = np.array([0, 0, 1])\n",
    "nvec = cu.normalize_vec(nvec) #Make sure nvec is normalized\n",
    "pre_pose_dist = 0.04 #in meter"
   ]
  },
  {
   "cell_type": "code",
   "execution_count": 11,
   "id": "romantic-sword",
   "metadata": {},
   "outputs": [
    {
     "data": {
      "text/plain": [
       "  \u001b[38;5;1m-0.7621  \u001b[0m \u001b[38;5;1m-0.6473  \u001b[0m \u001b[38;5;1m 0.01269 \u001b[0m \u001b[38;5;4m 0.5003  \u001b[0m  \u001b[0m\n",
       "  \u001b[38;5;1m-0.6474  \u001b[0m \u001b[38;5;1m 0.7621  \u001b[0m \u001b[38;5;1m-0.00887 \u001b[0m \u001b[38;5;4m-0.3748  \u001b[0m  \u001b[0m\n",
       "  \u001b[38;5;1m-0.003926\u001b[0m \u001b[38;5;1m-0.01497 \u001b[0m \u001b[38;5;1m-0.9999  \u001b[0m \u001b[38;5;4m 0.4337  \u001b[0m  \u001b[0m\n",
       "  \u001b[38;5;244m 0       \u001b[0m \u001b[38;5;244m 0       \u001b[0m \u001b[38;5;244m 0       \u001b[0m \u001b[38;5;244m 1       \u001b[0m  \u001b[0m\n"
      ]
     },
     "execution_count": 11,
     "metadata": {},
     "output_type": "execute_result"
    }
   ],
   "source": [
    "pre_pose = sm.SE3(nvec* pre_pose_dist) @ sm.SE3(goal_pose)\n",
    "sm.SE3(pre_pose)"
   ]
  },
  {
   "cell_type": "code",
   "execution_count": 12,
   "id": "divine-heather",
   "metadata": {},
   "outputs": [
    {
     "data": {
      "text/plain": [
       "  \u001b[38;5;1m-0.707   \u001b[0m \u001b[38;5;1m 0.7072  \u001b[0m \u001b[38;5;1m-0.0009613\u001b[0m \u001b[38;5;4m 0.4565  \u001b[0m  \u001b[0m\n",
       "  \u001b[38;5;1m-0.001193\u001b[0m \u001b[38;5;1m 0.0001667\u001b[0m \u001b[38;5;1m 1       \u001b[0m \u001b[38;5;4m 0.0473  \u001b[0m  \u001b[0m\n",
       "  \u001b[38;5;1m 0.7072  \u001b[0m \u001b[38;5;1m 0.707   \u001b[0m \u001b[38;5;1m 0.0007258\u001b[0m \u001b[38;5;4m 0.6524  \u001b[0m  \u001b[0m\n",
       "  \u001b[38;5;244m 0       \u001b[0m \u001b[38;5;244m 0       \u001b[0m \u001b[38;5;244m 0       \u001b[0m \u001b[38;5;244m 1       \u001b[0m  \u001b[0m\n"
      ]
     },
     "execution_count": 12,
     "metadata": {},
     "output_type": "execute_result"
    }
   ],
   "source": [
    "cobot.update_tf()\n",
    "cobot.T_B_E_robot"
   ]
  },
  {
   "cell_type": "code",
   "execution_count": 17,
   "id": "nutritional-landing",
   "metadata": {},
   "outputs": [
    {
     "name": "stdout",
     "output_type": "stream",
     "text": [
      "Hrr-Cobot state:\n",
      "FT-data:\n",
      "current force:\t[5.97381592 9.78076172 1.13378906] [N]\n",
      "current torque:\t[-4.1973877   0.80108643 -4.64068604] [Nm]\n",
      "current wrench:\t[ 5.95390125  9.79442919  1.17143368 -4.21133579  0.79883407 -4.65334241] [N,Nm]\n",
      "=>in contact:\tTrue\n",
      "---\n",
      "Robot-data:\n",
      "q:\t\t[   4.09713422    4.22352858 -105.2772847   -88.65102648   93.92755252  -25.46460496][°]\n",
      "q_dot:\t\t[0. 0. 0. 0. 0. 0.][rad/s]\n",
      "tau:\t\t[0. 0. 0. 0. 0. 0.][Nm]\n",
      "pos:\t\t[0.45649521 0.04729542 0.65235046][m]\n",
      "quat:\t\t-0.27107 <[0.27024399 0.65315021 0.65336425]>\n",
      "tool-pos:\t[0.45649521 0.04729542 0.65235046][m]\n",
      "tool-rpy:\t[-134.98976135   -0.05508421  -89.95840454][°]\n",
      "robot-status:\tmoving\n",
      "---\n"
     ]
    }
   ],
   "source": [
    "print(cobot)"
   ]
  },
  {
   "cell_type": "markdown",
   "id": "initial-rapid",
   "metadata": {},
   "source": [
    "### Initiate planner"
   ]
  },
  {
   "cell_type": "code",
   "execution_count": 19,
   "id": "major-error",
   "metadata": {},
   "outputs": [],
   "source": [
    " # Initialize the planner action client.\n",
    "    \n",
    "# >> Remeber to run the planner node (rosrun planner planner_server_v2.py) in terminal\n",
    "# >> \n",
    "#rospy.init_node('planner_client')\n",
    "\n",
    "client1 = actionlib.SimpleActionClient('planner', PlannerAction)\n",
    "client1.wait_for_server()\n",
    "\n",
    "# Sending deride end configuration\n",
    "goal = PlannerGoal()\n",
    "goal.goal_pose.header.frame_id = \"map\"\n",
    "goal.goal_pose.header.stamp = rospy.Time.now()"
   ]
  },
  {
   "cell_type": "markdown",
   "id": "centered-timeline",
   "metadata": {},
   "source": [
    "## If we want to, we can start at a pose"
   ]
  },
  {
   "cell_type": "code",
   "execution_count": 36,
   "id": "excited-condition",
   "metadata": {},
   "outputs": [
    {
     "data": {
      "application/vnd.jupyter.widget-view+json": {
       "model_id": "e9badf4f00e14a1d803d4b6828ff63a6",
       "version_major": 2,
       "version_minor": 0
      },
      "text/plain": [
       "  0%|          | 0/10000 [00:00<?, ?it/s]"
      ]
     },
     "metadata": {},
     "output_type": "display_data"
    },
    {
     "name": "stdout",
     "output_type": "stream",
     "text": [
      "[INFO] [1641981515.250526]: reached goal pose at step 621 / 10000\n"
     ]
    }
   ],
   "source": [
    "cobot.move_to_pose( cobot.FK(cobot.q_calib), err_gain = None, v_max = 0.03) #start_pose, cobot.FK(cobot.q_calib)\n",
    "T = int(100 * cobot.hz)\n",
    "for t in trange(T):\n",
    "    if cobot.state is None:\n",
    "        rospy.loginfo(f\"reached goal pose at step {t + 1} / {T}\")\n",
    "        break\n",
    "    elif cobot.state == \"error\":\n",
    "        rospy.logerror(f\"robot in ERROR state\")\n",
    "    cobot.update()"
   ]
  },
  {
   "cell_type": "markdown",
   "id": "classified-harbor",
   "metadata": {},
   "source": [
    "## Go-to pre-pose with traj planner\n",
    "Assuming pre-pose is a translation of pre_pose_dist in the direction of nvec from goal_pose"
   ]
  },
  {
   "cell_type": "code",
   "execution_count": 24,
   "id": "written-express",
   "metadata": {},
   "outputs": [],
   "source": [
    "pre_pose_quat = cu.homog2quat(pre_pose)\n",
    "pre_pose_pos = cu.homog2pos(pre_pose)\n",
    "#position of end_configuration\n",
    "goal.goal_pose.pose.position.x = pre_pose_pos[0]\n",
    "goal.goal_pose.pose.position.y = pre_pose_pos[1]\n",
    "goal.goal_pose.pose.position.z = pre_pose_pos[2]\n",
    "\n",
    "#orientation of end_configuration\n",
    "goal.goal_pose.pose.orientation.x = pre_pose_quat.x\n",
    "goal.goal_pose.pose.orientation.y = pre_pose_quat.y\n",
    "goal.goal_pose.pose.orientation.z = pre_pose_quat.z\n",
    "goal.goal_pose.pose.orientation.w = pre_pose_quat.w"
   ]
  },
  {
   "cell_type": "code",
   "execution_count": 27,
   "id": "surprised-packaging",
   "metadata": {},
   "outputs": [],
   "source": [
    "client1.send_goal(goal)\n"
   ]
  },
  {
   "cell_type": "markdown",
   "id": "tutorial-attitude",
   "metadata": {},
   "source": [
    "cobot.move_to_pose(pre_pose, err_gain = None, v_max = 0.03) #start_pose, cobot.FK(cobot.q_calib)\n",
    "T = int(100 * cobot.hz)\n",
    "for t in trange(T):\n",
    "    if cobot.state is None:\n",
    "        rospy.loginfo(f\"reached goal pose at step {t + 1} / {T}\")\n",
    "        break\n",
    "    elif cobot.state == \"error\":\n",
    "        rospy.logerror(f\"robot in ERROR state\")\n",
    "    cobot.update()"
   ]
  },
  {
   "cell_type": "markdown",
   "id": "framed-elements",
   "metadata": {},
   "source": [
    "## Approach and grasp"
   ]
  },
  {
   "cell_type": "code",
   "execution_count": 28,
   "id": "coastal-vienna",
   "metadata": {},
   "outputs": [
    {
     "data": {
      "application/vnd.jupyter.widget-view+json": {
       "model_id": "563e14ae53a342ac9d0dc0682e7be307",
       "version_major": 2,
       "version_minor": 0
      },
      "text/plain": [
       "  0%|          | 0/10000 [00:00<?, ?it/s]"
      ]
     },
     "metadata": {},
     "output_type": "display_data"
    },
    {
     "name": "stdout",
     "output_type": "stream",
     "text": [
      "[INFO] [1641981179.201895]: reached goal pose at step 173 / 10000\n"
     ]
    }
   ],
   "source": [
    "tool_controller.vacuum = True\n",
    "cobot.move_to_pose(goal_pose, err_gain = None, v_max = 0.03)\n",
    "T = int(100 * cobot.hz)\n",
    "for t in trange(T):\n",
    "    if cobot.state is None:\n",
    "        rospy.loginfo(f\"reached goal pose at step {t + 1} / {T}\")\n",
    "        break\n",
    "    elif cobot.state == \"error\":\n",
    "        rospy.logerror(f\"robot in ERROR state\")\n",
    "    cobot.update()"
   ]
  },
  {
   "cell_type": "markdown",
   "id": "advisory-license",
   "metadata": {},
   "source": [
    "## Dispose"
   ]
  },
  {
   "cell_type": "code",
   "execution_count": 29,
   "id": "running-longer",
   "metadata": {},
   "outputs": [
    {
     "data": {
      "application/vnd.jupyter.widget-view+json": {
       "model_id": "8ae88dca42d24fada861e6a6da683411",
       "version_major": 2,
       "version_minor": 0
      },
      "text/plain": [
       "  0%|          | 0/10000 [00:00<?, ?it/s]"
      ]
     },
     "metadata": {},
     "output_type": "display_data"
    },
    {
     "name": "stdout",
     "output_type": "stream",
     "text": [
      "[INFO] [1641981180.977949]: reached goal pose at step 173 / 10000\n"
     ]
    }
   ],
   "source": [
    "## Go to pre_pose then dispose location, possible check if object is grasped\n",
    "cobot.move_to_pose(pre_pose,err_gain = None, v_max = 0.03)\n",
    "#tool_controller.vacuum = True\n",
    "T = int(100 * cobot.hz)\n",
    "for t in trange(T):\n",
    "    if cobot.state is None:\n",
    "        rospy.loginfo(f\"reached goal pose at step {t + 1} / {T}\")\n",
    "        break\n",
    "    elif cobot.state == \"error\":\n",
    "        rospy.logerror(f\"robot in ERROR state\")\n",
    "    cobot.update()"
   ]
  },
  {
   "cell_type": "code",
   "execution_count": 30,
   "id": "universal-trading",
   "metadata": {},
   "outputs": [],
   "source": [
    "dispose_pose_quat = cu.homog2quat(dispose_pose)\n",
    "dispose_pose_pos = cu.homog2pos(dispose_pose)\n",
    "\n",
    "#position of end_configuration\n",
    "goal.goal_pose.pose.position.x = dispose_pose_pos[0]\n",
    "goal.goal_pose.pose.position.y = dispose_pose_pos[1]\n",
    "goal.goal_pose.pose.position.z = dispose_pose_pos[2]\n",
    "\n",
    "#orientation of end_configuration\n",
    "goal.goal_pose.pose.orientation.x = dispose_pose_quat.x\n",
    "goal.goal_pose.pose.orientation.y = dispose_pose_quat.y\n",
    "goal.goal_pose.pose.orientation.z = dispose_pose_quat.z\n",
    "goal.goal_pose.pose.orientation.w = dispose_pose_quat.w"
   ]
  },
  {
   "cell_type": "code",
   "execution_count": 31,
   "id": "hired-indianapolis",
   "metadata": {},
   "outputs": [],
   "source": [
    "client1.send_goal(goal)"
   ]
  },
  {
   "cell_type": "code",
   "execution_count": 32,
   "id": "authentic-crown",
   "metadata": {},
   "outputs": [],
   "source": [
    "tool_controller.vacuum = True"
   ]
  },
  {
   "cell_type": "code",
   "execution_count": 33,
   "id": "strong-custom",
   "metadata": {},
   "outputs": [],
   "source": [
    "tool_controller.vacuum = True"
   ]
  },
  {
   "cell_type": "markdown",
   "id": "velvet-satin",
   "metadata": {},
   "source": [
    "#tool_controller.vacuum = True\n",
    "cobot.move_to_pose(dispose_pose) \n",
    "T = int(100 * cobot.hz)\n",
    "for t in trange(T):\n",
    "    if cobot.state is None:\n",
    "        rospy.loginfo(f\"reached goal pose at step {t + 1} / {T}\")\n",
    "        break\n",
    "    elif cobot.state == \"error\":\n",
    "        rospy.logerror(f\"robot in ERROR state\")\n",
    "    cobot.update()"
   ]
  },
  {
   "cell_type": "markdown",
   "id": "greatest-biography",
   "metadata": {},
   "source": [
    "### Move down a bit (only for demo) and disable vacuum gripper"
   ]
  },
  {
   "cell_type": "code",
   "execution_count": 34,
   "id": "bizarre-twelve",
   "metadata": {},
   "outputs": [
    {
     "data": {
      "application/vnd.jupyter.widget-view+json": {
       "model_id": "3d7015ebacd24ec382154fc150d51225",
       "version_major": 2,
       "version_minor": 0
      },
      "text/plain": [
       "  0%|          | 0/10000 [00:00<?, ?it/s]"
      ]
     },
     "metadata": {},
     "output_type": "display_data"
    },
    {
     "name": "stdout",
     "output_type": "stream",
     "text": [
      "[INFO] [1641981192.477557]: reached goal pose at step 319 / 10000\n"
     ]
    }
   ],
   "source": [
    "tool_controller.vacuum = True\n",
    "cobot.move_to_pose(final_pose) \n",
    "T = int(100 * cobot.hz)\n",
    "for t in trange(T):\n",
    "    if cobot.state is None:\n",
    "        rospy.loginfo(f\"reached goal pose at step {t + 1} / {T}\")\n",
    "        break\n",
    "    elif cobot.state == \"error\":\n",
    "        rospy.logerror(f\"robot in ERROR state\")\n",
    "    cobot.update()\n",
    "tool_controller.vacuum = False"
   ]
  },
  {
   "cell_type": "markdown",
   "id": "empty-characteristic",
   "metadata": {},
   "source": [
    "### Go back somewhere"
   ]
  },
  {
   "cell_type": "code",
   "execution_count": null,
   "id": "spanish-jones",
   "metadata": {},
   "outputs": [],
   "source": []
  }
 ],
 "metadata": {
  "kernelspec": {
   "display_name": "Python 3 (ipykernel)",
   "language": "python",
   "name": "python3"
  },
  "language_info": {
   "codemirror_mode": {
    "name": "ipython",
    "version": 3
   },
   "file_extension": ".py",
   "mimetype": "text/x-python",
   "name": "python",
   "nbconvert_exporter": "python",
   "pygments_lexer": "ipython3",
   "version": "3.8.12"
  }
 },
 "nbformat": 4,
 "nbformat_minor": 5
}
