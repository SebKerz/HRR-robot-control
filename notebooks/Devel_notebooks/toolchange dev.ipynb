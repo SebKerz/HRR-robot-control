{
 "cells": [
  {
   "cell_type": "code",
   "execution_count": 1,
   "id": "fabulous-gauge",
   "metadata": {},
   "outputs": [],
   "source": [
    "import numpy as np\n",
    "import sys\n",
    "import hrr_common.utils as cu\n",
    "import hrr_common as hrr_cm\n",
    "import hrr_cobot_robot as hrr_rob\n",
    "import spatialmath as sm\n",
    "import rospy"
   ]
  },
  {
   "cell_type": "markdown",
   "id": "sexual-andrews",
   "metadata": {},
   "source": [
    "### Save arrays in dictionaries"
   ]
  },
  {
   "cell_type": "markdown",
   "id": "descending-contract",
   "metadata": {},
   "source": [
    "one_infront_A = np.load('rack_positions/1_infront_A.npy')\n",
    "one_infront_q = np.load('rack_positions/1_infront_q.npy')\n",
    "one_pickup_A = np.load('rack_positions/1_pickup_A.npy')\n",
    "one_pickup_q = np.load('rack_positions/1_pickup_q.npy')"
   ]
  },
  {
   "cell_type": "markdown",
   "id": "compound-establishment",
   "metadata": {},
   "source": [
    "gripper_at_pos1_poses = {\n",
    "    \"pickup\":  {\"q\": one_pickup_q, \"A\": one_pickup_A},\n",
    "    \"infront\": {\"q\": one_infront_q, \"A\": one_infront_q}\n",
    "}"
   ]
  },
  {
   "cell_type": "markdown",
   "id": "seventh-technical",
   "metadata": {},
   "source": [
    "np.save(\"rack_positions/gripper_at_pos1_poses\",gripper_at_pos1_poses,allow_pickle=True)"
   ]
  },
  {
   "cell_type": "markdown",
   "id": "alternate-actress",
   "metadata": {},
   "source": [
    "infront_A = np.load('rack_positions/6_infront_A.npy')\n",
    "infront_q = np.load('rack_positions/6_infront_q.npy')\n",
    "pickup_A = np.load('rack_positions/6_pickup_A.npy')\n",
    "pickup_q = np.load('rack_positions/6_pickup_q.npy')\n",
    "inbetween0_A = np.load('rack_positions/6_inbetween0_A.npy')\n",
    "inbetween0_q = np.load('rack_positions/6_inbetween0_q.npy')\n",
    "inbetween1_A = np.load('rack_positions/6_inbetween1_A.npy')\n",
    "inbetween1_q = np.load('rack_positions/6_inbetween1_q.npy')\n",
    "pre_pose_pickup_A = np.load('rack_positions/6_pre_pose_pickup_A.npy')\n",
    "pre_pose_pickup_q = np.load('rack_positions/6_pre_pose_pickup_q.npy')"
   ]
  },
  {
   "cell_type": "markdown",
   "id": "south-ribbon",
   "metadata": {},
   "source": [
    "screwdriver_at_pos6_poses = {\n",
    "    \"pickup\":  {\"q\": pickup_q, \"A\": pickup_A},\n",
    "    \"infront\": {\"q\": infront_q, \"A\": infront_A},\n",
    "    \"inbetween0\": {\"q\": inbetween0_q, \"A\": inbetween0_A},\n",
    "    \"inbetween1\": {\"q\": inbetween1_q, \"A\": inbetween1_A},\n",
    "    \"pre_pose_pickup\": {\"q\": pre_pose_pickup_q, \"A\": pre_pose_pickup_A}\n",
    "}"
   ]
  },
  {
   "cell_type": "markdown",
   "id": "champion-battery",
   "metadata": {},
   "source": [
    "np.save(\"rack_positions/screwdriver_at_pos6_poses\",screwdriver_at_pos6_poses,allow_pickle=True)"
   ]
  },
  {
   "cell_type": "markdown",
   "id": "grand-penalty",
   "metadata": {},
   "source": [
    "len(vacuumPoses)"
   ]
  },
  {
   "cell_type": "markdown",
   "id": "worse-border",
   "metadata": {},
   "source": [
    "gripper_poses = np.load(\"rack_positions/gripper_at_pos1_poses.npy\",allow_pickle=True).item()"
   ]
  },
  {
   "cell_type": "markdown",
   "id": "strategic-edition",
   "metadata": {},
   "source": [
    "### Tool change routine: picking a new tool with empty hand"
   ]
  },
  {
   "cell_type": "code",
   "execution_count": null,
   "id": "unlike-swiss",
   "metadata": {},
   "outputs": [],
   "source": [
    "#Switch Case for type of tool to be picked up --> load correct poses\n",
    "#For example in case of WSG50:\n",
    "poses = np.load(\"rack_positions/gripper_at_pos1_poses.npy\",allow_pickle=True).item()\n",
    "\n",
    "#Check if tool changer open, otherwise give back error and stop. If open, continue:\n",
    "\n",
    "#Go to the correct starting pose (q_calib with joint1 +/- pi/2)\n",
    "\n",
    "#If there is a pre_pose_pickup, go there; else go to infront\n",
    "\n",
    "#Go to pickup (with slow speed!)\n",
    "\n",
    "#Close Tool changer\n",
    "\n",
    "#If there is inbetween0, go there\n",
    "\n",
    "#If there is inbetween1, go there\n",
    "\n",
    "#Go to infront\n",
    "\n",
    "#Go to starting pose"
   ]
  },
  {
   "cell_type": "markdown",
   "id": "centered-lingerie",
   "metadata": {},
   "source": [
    "### Tool change routine: place a tool into the rack"
   ]
  },
  {
   "cell_type": "code",
   "execution_count": null,
   "id": "timely-jason",
   "metadata": {},
   "outputs": [],
   "source": [
    "#Switch Case for type of tool to be picked up --> load correct poses\n",
    "#For example in case of WSG50:\n",
    "poses = np.load(\"rack_positions/gripper_at_pos1_poses.npy\",allow_pickle=True).item()\n",
    "\n",
    "#Check if tool changer closed, otherwise give back error and stop. If open, continue:\n",
    "\n",
    "#Go to the correct starting pose (q_calib with joint1 +/- pi/2)\n",
    "\n",
    "#go to infront\n",
    "\n",
    "#if there is inbetween1, go there\n",
    "\n",
    "#if there is inbetween0, go there\n",
    "\n",
    "#Go to pickup\n",
    "\n",
    "#Open Tool changer\n",
    "\n",
    "#If there is pre_pose pickup, go there; else go to infront\n",
    "\n",
    "#Go to the correct starting pose"
   ]
  },
  {
   "cell_type": "markdown",
   "id": "active-injection",
   "metadata": {},
   "source": [
    "### End of Testing array manipulation"
   ]
  },
  {
   "cell_type": "code",
   "execution_count": null,
   "id": "proved-hungary",
   "metadata": {},
   "outputs": [],
   "source": [
    "#Copy paste here the proper ROSIP and ROSENV setup"
   ]
  },
  {
   "cell_type": "code",
   "execution_count": null,
   "id": "according-palace",
   "metadata": {},
   "outputs": [],
   "source": [
    "rospy.init_node('toolchange_dev')"
   ]
  },
  {
   "cell_type": "code",
   "execution_count": null,
   "id": "connected-stuff",
   "metadata": {},
   "outputs": [],
   "source": [
    "hrr_rob.load_default_parameters(\"/hrr_cobot\")\n",
    "cobot = hrr_rob.HrrCobotControl.from_ros()\n",
    "print(cobot)"
   ]
  },
  {
   "cell_type": "code",
   "execution_count": null,
   "id": "preliminary-mechanics",
   "metadata": {},
   "outputs": [],
   "source": [
    "#Routine to open and close tool changer\n",
    "from comau_msgs.srv import *\n",
    "setPin = rospy.ServiceProxy(\"/hrr_cobot/set_digital_io\",SetIO)"
   ]
  },
  {
   "cell_type": "code",
   "execution_count": null,
   "id": "russian-pipeline",
   "metadata": {},
   "outputs": [],
   "source": [
    "#Move to pose with speed as input\n",
    "def cobot_movetopose(posee, v_maximale):\n",
    "    cobot.move_to_pose(posee, err_gain = None, v_max = v_maximale) #start_pose, cobot.FK(cobot.q_calib)\n",
    "    T = int(100 * cobot.hz)\n",
    "    for t in trange(T):\n",
    "        if cobot.state is None:\n",
    "            rospy.loginfo(f\"reached goal pose at step {t + 1} / {T}\")\n",
    "            break\n",
    "        elif cobot.state == \"error\":\n",
    "            rospy.logerror(f\"robot in ERROR state\")\n",
    "        cobot.update()"
   ]
  },
  {
   "cell_type": "markdown",
   "id": "presidential-billy",
   "metadata": {},
   "source": [
    "## About this notebook\n",
    "Position 1-6 are defined as follows: In the current setup, the robot points towards the disassembly table for joint1-angle=0. If the robot turns to its left (negative joint1-angle), it turns towards position 1, then 2, then 3. Starting from zero joint1-angle, if the robot turns towards its right (positive joint1-angle), it turns towards position 4, then 5, then 6 (then 3, 2, 1 if it keeps turning)."
   ]
  },
  {
   "cell_type": "markdown",
   "id": "floppy-specification",
   "metadata": {},
   "source": [
    "It is fixed here which tool is at which position, since the path of approach is different for (almost) each tool."
   ]
  },
  {
   "cell_type": "markdown",
   "id": "geological-breathing",
   "metadata": {},
   "source": [
    "### The pickup procedure for position number p is as follows: \n",
    "\n",
    "0. Assume the cobot has no tool attached, toolchanger open and the cobot is at cobot.FK(cobot.q_calib) or similiar (joint1 might be different)\n",
    "1. Set joint1 = -pi/2 for p = 1,2,3 and joint1 = +pi/2 for p = 4,5,6, call that pose the starting pose.\n",
    "2. The cobot goes to the pickup pose (saved as p_pickup_q and p_pickup_A) and closes the toolchanger\n",
    "3. The cobot goes to a pose infront of the rack slot from which it is safe to go to the starting pose (saved as p_infront_q and p_infront_A). Possibly, there are waypoint-poses to get infront of the rack safely (saved as p_inbetweenX_q and p_inbetweenX_A, where X is a number from 0 to N which the cobot passes through from low to high)\n",
    "4. The cobot goes to the starting pose\n",
    "5. (The cobot goes to the calibration pose)\n",
    "\n",
    "### The remove procedure for tool to be stored at position number p is as follows:\n",
    "0. Assume the cobot has a tool attached, toolchanger closed and the cobot is at cobot.FK(cobot.q_calib) or similiar (joint1 might be different)\n",
    "1. Set joint1 = -pi/2 for p = 1,2,3 and joint1 = +pi/2 for p = 4,5,6, call that pose the starting pose.\n",
    "2. The cobot goes to a pose infront of the rack slot (saved as p_infront_q and p_infront_A)\n",
    "3. The cobot goes to the pickup pose (saved as p_pickup_q and p_pickup_A). Possibly, there are waypoint-poses to get into the rack safely (saved as p_inbetweenX_q and p_inbetweenX_A, where X is a number from 0 to N which the cobot passes through from high to low)\n",
    "4. The toolchanger is opened and the cobot goes back to the starting pose. (should be safe, otherwise go through the waypoints again)\n",
    "5. (The cobot goes to the calibration pose)\n"
   ]
  },
  {
   "cell_type": "markdown",
   "id": "dutch-python",
   "metadata": {},
   "source": [
    "### Open tool changer"
   ]
  },
  {
   "cell_type": "code",
   "execution_count": null,
   "id": "minute-poison",
   "metadata": {},
   "outputs": [],
   "source": [
    "setPin(pin=5, state=True)"
   ]
  },
  {
   "cell_type": "markdown",
   "id": "supposed-liberal",
   "metadata": {},
   "source": [
    "### Close tool changer"
   ]
  },
  {
   "cell_type": "code",
   "execution_count": null,
   "id": "cathedral-selling",
   "metadata": {},
   "outputs": [],
   "source": [
    "setPin(pin=5, state=False)"
   ]
  },
  {
   "cell_type": "markdown",
   "id": "nuclear-yesterday",
   "metadata": {},
   "source": [
    "## Saving the poses"
   ]
  },
  {
   "cell_type": "code",
   "execution_count": null,
   "id": "whole-replacement",
   "metadata": {},
   "outputs": [],
   "source": [
    "starting_pose_123 = cobot.q\n",
    "starting_pose_456 = cobot.q\n",
    "starting_pose_123 = cobot.q[0] = -np.pi/2\n",
    "starting_pose_456 = cobot.q[0] = np.pi/2"
   ]
  },
  {
   "cell_type": "markdown",
   "id": "human-programmer",
   "metadata": {},
   "source": [
    "### Position 1 - WSG50"
   ]
  },
  {
   "cell_type": "code",
   "execution_count": null,
   "id": "suburban-mouse",
   "metadata": {},
   "outputs": [],
   "source": [
    "#Go with robot manually to pickup position, then\n",
    "cobot.update_tf()\n",
    "np.save(\"rack_positions/1_pickup_q\",cobot.q,allow_pickle=True)\n",
    "np.save(\"rack_positions/1_pickup_A\",cobot.T_B_E_robot.A,allow_pickle=True)"
   ]
  },
  {
   "cell_type": "code",
   "execution_count": null,
   "id": "increased-watch",
   "metadata": {},
   "outputs": [],
   "source": [
    "#Close tool and go up a bit (positive z in base frame) to save a new waypoint\n",
    "cobot.update_tf()\n",
    "np.save(\"rack_positions/1_inbetween0_q\",cobot.q,allow_pickle=True)\n",
    "np.save(\"rack_positions/1_inbetween0_A\",cobot.T_B_E_robot.A,allow_pickle=True)"
   ]
  },
  {
   "cell_type": "code",
   "execution_count": null,
   "id": "british-background",
   "metadata": {},
   "outputs": [],
   "source": [
    "#Pull out the tool fully from the slot, at a safe position, save it\n",
    "cobot.update_tf()\n",
    "np.save(\"rack_positions/1_infront_q\",cobot.q,allow_pickle=True)\n",
    "np.save(\"rack_positions/1_infront_A\",cobot.T_B_E_robot.A,allow_pickle=True)"
   ]
  },
  {
   "cell_type": "code",
   "execution_count": null,
   "id": "intensive-industry",
   "metadata": {},
   "outputs": [],
   "source": [
    "# Check if the way to starting pose is safe\n",
    "cobot_movetopose(starting_pose_123, 0.01)"
   ]
  },
  {
   "cell_type": "markdown",
   "id": "injured-charge",
   "metadata": {},
   "source": [
    "### Position 2 - Vacuum Gripper"
   ]
  },
  {
   "cell_type": "code",
   "execution_count": null,
   "id": "invalid-prefix",
   "metadata": {},
   "outputs": [],
   "source": [
    "#Go with robot to pickup position, then\n",
    "cobot.update_tf()\n",
    "np.save(\"rack_positions/2_pickup_q\",cobot.q,allow_pickle=True)\n",
    "np.save(\"rack_positions/2_pickup_A\",cobot.T_B_E_robot.A,allow_pickle=True)"
   ]
  },
  {
   "cell_type": "code",
   "execution_count": null,
   "id": "conscious-slope",
   "metadata": {},
   "outputs": [],
   "source": [
    "#Intermediate waypoint, skip if not needed, add more if needed\n",
    "cobot.update_tf()\n",
    "np.save(\"rack_positions/2_inbetween0_q\",cobot.q,allow_pickle=True)\n",
    "np.save(\"rack_positions/2_inbetween0_A\",cobot.T_B_E_robot.A,allow_pickle=True)"
   ]
  },
  {
   "cell_type": "code",
   "execution_count": null,
   "id": "prospective-uncertainty",
   "metadata": {},
   "outputs": [],
   "source": [
    "#Pull out the tool fully from the slot, at a safe position, save it\n",
    "cobot.update_tf()\n",
    "np.save(\"rack_positions/2_infront_q\",cobot.q,allow_pickle=True)\n",
    "np.save(\"rack_positions/2_infront_A\",cobot.T_B_E_robot.A,allow_pickle=True)"
   ]
  },
  {
   "cell_type": "code",
   "execution_count": null,
   "id": "induced-joyce",
   "metadata": {},
   "outputs": [],
   "source": [
    "# Check if the way to starting pose is safe\n",
    "cobot_movetopose(starting_pose_123, 0.01)"
   ]
  },
  {
   "cell_type": "markdown",
   "id": "several-faith",
   "metadata": {},
   "source": [
    "### Position 3 - Shaft grinder"
   ]
  },
  {
   "cell_type": "code",
   "execution_count": null,
   "id": "induced-temperature",
   "metadata": {},
   "outputs": [],
   "source": [
    "#Go with robot to pickup position, then\n",
    "cobot.update_tf()\n",
    "np.save(\"rack_positions/3_pickup_q\",cobot.q,allow_pickle=True)\n",
    "np.save(\"rack_positions/3_pickup_A\",cobot.T_B_E_robot.A,allow_pickle=True)"
   ]
  },
  {
   "cell_type": "code",
   "execution_count": null,
   "id": "possible-cigarette",
   "metadata": {},
   "outputs": [],
   "source": [
    "#Intermediate waypoint, skip if not needed, add more if needed\n",
    "cobot.update_tf()\n",
    "np.save(\"rack_positions/3_inbetween0_q\",cobot.q,allow_pickle=True)\n",
    "np.save(\"rack_positions/3_inbetween0_A\",cobot.T_B_E_robot.A,allow_pickle=True)"
   ]
  },
  {
   "cell_type": "code",
   "execution_count": null,
   "id": "expressed-explosion",
   "metadata": {},
   "outputs": [],
   "source": [
    "#Pull out the tool fully from the slot, at a safe position, save it\n",
    "cobot.update_tf()\n",
    "np.save(\"rack_positions/3_infront_q\",cobot.q,allow_pickle=True)\n",
    "np.save(\"rack_positions/3_infront_A\",cobot.T_B_E_robot.A,allow_pickle=True)"
   ]
  },
  {
   "cell_type": "code",
   "execution_count": null,
   "id": "transparent-suite",
   "metadata": {},
   "outputs": [],
   "source": [
    "# Check if the way to starting pose is safe\n",
    "cobot_movetopose(starting_pose_123, 0.01)"
   ]
  },
  {
   "cell_type": "markdown",
   "id": "environmental-oregon",
   "metadata": {},
   "source": [
    "### Position 4 - New Gripper? To be Decided"
   ]
  },
  {
   "cell_type": "markdown",
   "id": "surprised-soviet",
   "metadata": {},
   "source": [
    "### Position 5 - Empty"
   ]
  },
  {
   "cell_type": "markdown",
   "id": "fatty-sherman",
   "metadata": {},
   "source": [
    "### Position 6  - Screw driver\n"
   ]
  },
  {
   "cell_type": "code",
   "execution_count": null,
   "id": "sweet-shooting",
   "metadata": {},
   "outputs": [],
   "source": [
    "#Go with robot to pickup position, then\n",
    "cobot.update_tf()\n",
    "np.save(\"rack_positions/6_pickup_q\",cobot.q,allow_pickle=True)\n",
    "np.save(\"rack_positions/6_pickup_A\",cobot.T_B_E_robot.A,allow_pickle=True)"
   ]
  },
  {
   "cell_type": "code",
   "execution_count": null,
   "id": "alone-cameroon",
   "metadata": {},
   "outputs": [],
   "source": [
    "#Intermediate waypoint, skip if not needed, add more if needed\n",
    "cobot.update_tf()\n",
    "np.save(\"rack_positions/6_inbetween0_q\",cobot.q,allow_pickle=True)\n",
    "np.save(\"rack_positions/6_inbetween0_A\",cobot.T_B_E_robot.A,allow_pickle=True)"
   ]
  },
  {
   "cell_type": "code",
   "execution_count": null,
   "id": "exempt-trustee",
   "metadata": {},
   "outputs": [],
   "source": [
    "#Pull out the tool fully from the slot, at a safe position, save it\n",
    "cobot.update_tf()\n",
    "np.save(\"rack_positions/6_infront_q\",cobot.q,allow_pickle=True)\n",
    "np.save(\"rack_positions/6_infront_A\",cobot.T_B_E_robot.A,allow_pickle=True)"
   ]
  },
  {
   "cell_type": "code",
   "execution_count": null,
   "id": "criminal-mixer",
   "metadata": {},
   "outputs": [],
   "source": [
    "# Check if the way to starting pose is safe\n",
    "cobot_movetopose(starting_pose_456, 0.01)"
   ]
  },
  {
   "cell_type": "markdown",
   "id": "terminal-silicon",
   "metadata": {},
   "source": [
    "## Tool Change Utility - Example: Dispose Shaft grinder and pickup Vacuum Gripper"
   ]
  },
  {
   "cell_type": "markdown",
   "id": "crazy-wrong",
   "metadata": {},
   "source": [
    "### Start at calibration pose"
   ]
  },
  {
   "cell_type": "code",
   "execution_count": null,
   "id": "valuable-blank",
   "metadata": {},
   "outputs": [],
   "source": [
    "cobot_movetopose(cobot.FK(cobot.q_calib), 0.03)"
   ]
  },
  {
   "cell_type": "markdown",
   "id": "hydraulic-capital",
   "metadata": {},
   "source": [
    "### Put shaft grinder into grasp of toolchanger and close tool changer with the following command"
   ]
  },
  {
   "cell_type": "code",
   "execution_count": null,
   "id": "associate-distinction",
   "metadata": {},
   "outputs": [],
   "source": [
    "setPin(pin=5, state=False)"
   ]
  },
  {
   "cell_type": "markdown",
   "id": "rural-european",
   "metadata": {},
   "source": [
    "### Move to starting pose for tool position between 1-3"
   ]
  },
  {
   "cell_type": "code",
   "execution_count": null,
   "id": "hungry-secretary",
   "metadata": {},
   "outputs": [],
   "source": [
    "cobot_movetopose(cobot.FK(starting_pose_123), 0.03)"
   ]
  },
  {
   "cell_type": "markdown",
   "id": "opposite-bacon",
   "metadata": {},
   "source": [
    "### Load waypoints"
   ]
  },
  {
   "cell_type": "code",
   "execution_count": null,
   "id": "checked-building",
   "metadata": {},
   "outputs": [],
   "source": [
    "infront = np.load(\"rack_positions/3_infront_A.npy\")\n",
    "pickup = np.load(\"rack_positions/3_pickup_A.npy\")\n"
   ]
  },
  {
   "cell_type": "markdown",
   "id": "welsh-diesel",
   "metadata": {},
   "source": [
    "### Move infront of rack"
   ]
  },
  {
   "cell_type": "code",
   "execution_count": null,
   "id": "upset-coating",
   "metadata": {},
   "outputs": [],
   "source": [
    "cobot_movetopose(infront, 0.03)"
   ]
  },
  {
   "cell_type": "markdown",
   "id": "cloudy-denver",
   "metadata": {},
   "source": [
    "### Move to pickup pose"
   ]
  },
  {
   "cell_type": "code",
   "execution_count": null,
   "id": "hollywood-advertising",
   "metadata": {},
   "outputs": [],
   "source": [
    "cobot_movetopose(pickup, 0.03)"
   ]
  },
  {
   "cell_type": "markdown",
   "id": "sporting-light",
   "metadata": {},
   "source": [
    "### Open tool changer"
   ]
  },
  {
   "cell_type": "code",
   "execution_count": null,
   "id": "retired-seafood",
   "metadata": {},
   "outputs": [],
   "source": [
    "setPin(pin=5, state=True)"
   ]
  },
  {
   "cell_type": "markdown",
   "id": "alive-mercy",
   "metadata": {},
   "source": [
    "### Go back to starting pose"
   ]
  },
  {
   "cell_type": "code",
   "execution_count": null,
   "id": "headed-encounter",
   "metadata": {},
   "outputs": [],
   "source": [
    "cobot_movetopose(cobot.FK(starting_pose_123), 0.03)"
   ]
  },
  {
   "cell_type": "markdown",
   "id": "described-module",
   "metadata": {},
   "source": [
    "### Go to starting pose for vacuum gripper (1)"
   ]
  },
  {
   "cell_type": "code",
   "execution_count": null,
   "id": "cathedral-europe",
   "metadata": {},
   "outputs": [],
   "source": [
    "cobot_movetopose(cobot.FK(starting_pose_123), 0.03)"
   ]
  },
  {
   "cell_type": "markdown",
   "id": "conditional-specialist",
   "metadata": {},
   "source": [
    "### Load waypoints"
   ]
  },
  {
   "cell_type": "code",
   "execution_count": null,
   "id": "legislative-california",
   "metadata": {},
   "outputs": [],
   "source": [
    "infront = np.load(\"rack_positions/1_infront_A.npy\")\n",
    "inter = np.load(\"rack_positions/1_inbetween0_A.npy\")\n",
    "pickup = np.load(\"rack_positions/1_pickup_A.npy\")"
   ]
  },
  {
   "cell_type": "markdown",
   "id": "posted-gathering",
   "metadata": {},
   "source": [
    "### Go to pickup pose"
   ]
  },
  {
   "cell_type": "code",
   "execution_count": null,
   "id": "shared-conditions",
   "metadata": {},
   "outputs": [],
   "source": [
    "cobot_movetopose(pickup, 0.03)"
   ]
  },
  {
   "cell_type": "markdown",
   "id": "invalid-alexander",
   "metadata": {},
   "source": [
    "### Close tool changer"
   ]
  },
  {
   "cell_type": "code",
   "execution_count": null,
   "id": "national-certification",
   "metadata": {},
   "outputs": [],
   "source": [
    "setPin(pin=5, state=False)"
   ]
  },
  {
   "cell_type": "markdown",
   "id": "minor-tourist",
   "metadata": {},
   "source": [
    "### Go to inbetween pose"
   ]
  },
  {
   "cell_type": "code",
   "execution_count": null,
   "id": "governing-script",
   "metadata": {},
   "outputs": [],
   "source": [
    "cobot_movetopose(inter, 0.03)"
   ]
  },
  {
   "cell_type": "markdown",
   "id": "quick-warrant",
   "metadata": {},
   "source": [
    "### Go to safe pose in front of rack"
   ]
  },
  {
   "cell_type": "code",
   "execution_count": null,
   "id": "embedded-sarah",
   "metadata": {},
   "outputs": [],
   "source": [
    "cobot_movetopose(infront, 0.03)"
   ]
  },
  {
   "cell_type": "markdown",
   "id": "undefined-switch",
   "metadata": {},
   "source": [
    "### Go to starting pose"
   ]
  },
  {
   "cell_type": "code",
   "execution_count": null,
   "id": "equal-gossip",
   "metadata": {},
   "outputs": [],
   "source": [
    "cobot_movetopose(cobot.FK(starting_pose_123), 0.03)"
   ]
  },
  {
   "cell_type": "markdown",
   "id": "determined-bosnia",
   "metadata": {},
   "source": [
    "### Go to calibration pose"
   ]
  },
  {
   "cell_type": "code",
   "execution_count": null,
   "id": "adopted-companion",
   "metadata": {},
   "outputs": [],
   "source": [
    "cobot_movetopose(cobot.FK(q.calib), 0.03)"
   ]
  }
 ],
 "metadata": {
  "kernelspec": {
   "display_name": "Python 3 (ipykernel)",
   "language": "python",
   "name": "python3"
  },
  "language_info": {
   "codemirror_mode": {
    "name": "ipython",
    "version": 3
   },
   "file_extension": ".py",
   "mimetype": "text/x-python",
   "name": "python",
   "nbconvert_exporter": "python",
   "pygments_lexer": "ipython3",
   "version": "3.8.12"
  }
 },
 "nbformat": 4,
 "nbformat_minor": 5
}
