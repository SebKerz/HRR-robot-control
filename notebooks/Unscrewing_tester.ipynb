{
 "cells": [
  {
   "cell_type": "code",
   "execution_count": 5,
   "id": "c7f852bd",
   "metadata": {},
   "outputs": [
    {
     "ename": "ImportError",
     "evalue": "cannot import name 'UnscrewingSkill' from 'hrr_cobot_robot' (/home/hrr_cobot/_ros/hr_recycler_ws/devel/lib/python3/dist-packages/hrr_cobot_robot/__init__.py)",
     "output_type": "error",
     "traceback": [
      "\u001b[0;31m---------------------------------------------------------------------------\u001b[0m",
      "\u001b[0;31mImportError\u001b[0m                               Traceback (most recent call last)",
      "\u001b[0;32m/tmp/ipykernel_941043/9081577.py\u001b[0m in \u001b[0;36m<module>\u001b[0;34m\u001b[0m\n\u001b[1;32m     10\u001b[0m \u001b[0;31m# from hrr_common.ros_utils.record_helper import stop_record\u001b[0m\u001b[0;34m\u001b[0m\u001b[0;34m\u001b[0m\u001b[0;34m\u001b[0m\u001b[0m\n\u001b[1;32m     11\u001b[0m \u001b[0;34m\u001b[0m\u001b[0m\n\u001b[0;32m---> 12\u001b[0;31m \u001b[0;32mfrom\u001b[0m \u001b[0mhrr_cobot_robot\u001b[0m \u001b[0;32mimport\u001b[0m \u001b[0mUnscrewingSkill\u001b[0m\u001b[0;34m,\u001b[0m \u001b[0mHrrCobotControl\u001b[0m\u001b[0;34m,\u001b[0m \u001b[0mrecord_skill\u001b[0m\u001b[0;34m\u001b[0m\u001b[0;34m\u001b[0m\u001b[0m\n\u001b[0m\u001b[1;32m     13\u001b[0m \u001b[0;34m\u001b[0m\u001b[0m\n\u001b[1;32m     14\u001b[0m \u001b[0;31m# set printing and plotting options\u001b[0m\u001b[0;34m\u001b[0m\u001b[0;34m\u001b[0m\u001b[0;34m\u001b[0m\u001b[0m\n",
      "\u001b[0;31mImportError\u001b[0m: cannot import name 'UnscrewingSkill' from 'hrr_cobot_robot' (/home/hrr_cobot/_ros/hr_recycler_ws/devel/lib/python3/dist-packages/hrr_cobot_robot/__init__.py)"
     ]
    }
   ],
   "source": [
    "# math and robotics\n",
    "from pathlib import Path\n",
    "import sys\n",
    "import numpy as np\n",
    "import spatialmath as sm\n",
    "\n",
    "# ROS\n",
    "import rospy\n",
    "import hrr_common\n",
    "# from hrr_common.ros_utils.record_helper import stop_record\n",
    "\n",
    "from hrr_cobot_robot import UnscrewingSkill, HrrCobotControl, record_skill\n",
    "\n",
    "# set printing and plotting options\n",
    "np.set_printoptions(precision=5, suppress=True)"
   ]
  },
  {
   "cell_type": "code",
   "execution_count": 6,
   "id": "1ab448ff",
   "metadata": {},
   "outputs": [
    {
     "name": "stderr",
     "output_type": "stream",
     "text": [
      "Exception ignored in: <function TransformListener.__del__ at 0x7f8e34455040>\n",
      "Traceback (most recent call last):\n",
      "  File \"/opt/ros/noetic/lib/python3/dist-packages/tf2_ros/transform_listener.py\", line 60, in __del__\n",
      "    self.unregister()\n",
      "  File \"/opt/ros/noetic/lib/python3/dist-packages/tf2_ros/transform_listener.py\", line 66, in unregister\n",
      "    self.tf_sub.unregister()\n",
      "AttributeError: 'TransformListener' object has no attribute 'tf_sub'\n"
     ]
    }
   ],
   "source": [
    "rospy.init_node(\"hrr_cobot_unscrewing_tests\")"
   ]
  },
  {
   "cell_type": "markdown",
   "id": "f248b06a",
   "metadata": {},
   "source": [
    "# set up cobot handles & skill handle\n",
    "\n",
    "Roslaunch:\n",
    "\n",
    "default robot driver\n",
    "\n",
    "```bash\n",
    "roslaunch hrr_cobot_robot hrr_cobot_hw.launch tool_name:=\"nothing\"\n",
    "```\n",
    "\n",
    "and record pipeline\n",
    "\n",
    "```bash\n",
    "roslaunch hrr_common record_pipeline.launch \\\n",
    "        bag_file_name:=\"screwing_shit_up\" \\\n",
    "        rosbag_dir:=\"/home/hrr_cobot/Documents/robot_recordings/unscrew_vids\"\n",
    "```"
   ]
  },
  {
   "cell_type": "code",
   "execution_count": 7,
   "id": "ad5f6452",
   "metadata": {},
   "outputs": [
    {
     "name": "stderr",
     "output_type": "stream",
     "text": [
      "pybullet build time: May  8 2021 05:48:13\n"
     ]
    },
    {
     "name": "stdout",
     "output_type": "stream",
     "text": [
      "[rosout] some functions are not yet compiled. Expect delays upon first call\n"
     ]
    }
   ],
   "source": [
    "import hrr_cobot_robot\n",
    "rospy.set_param(\"/hrr_cobot/tool_name\", \"nothing\")\n",
    "cobot = hrr_cobot_robot.HrrCobotControl.from_ros(\"/hrr_cobot\")"
   ]
  },
  {
   "cell_type": "code",
   "execution_count": 8,
   "id": "320ce3b9",
   "metadata": {},
   "outputs": [
    {
     "name": "stdout",
     "output_type": "stream",
     "text": [
      "Hrr-Cobot state:\n",
      "FT-data:\n",
      "current force:\t[-6.42700195 11.72241211 28.52929688] [N]\n",
      "current torque:\t[-5.39764404  1.81365967  1.01806641] [Nm]\n",
      "current wrench:\t[-6.66503467 11.65328323 28.70503339 -5.42500095  0.93707101  1.01651099] [N,Nm]\n",
      "=>in contact:\tTrue\n",
      "---\n",
      "Robot-data:\n",
      "q:\t\t[ 0.00000000e+00  0.00000000e+00 -8.99998796e+01  0.00000000e+00  8.99998796e+01 -8.29217042e-08][°]\n",
      "q_dot:\t\t[0. 0. 0. 0. 0. 0.][rad/s]\n",
      "tau:\t\t[0. 0. 0. 0. 0. 0.][Nm]\n",
      "pos:\t\t[4.35940247e-01 2.31725226e-08 7.05000793e-01][m]\n",
      "quat:\t\t0.00000 <[6.123234e-17 1.000000e+00 6.123234e-17]>\n",
      "tool-pos:\t[4.35940247e-01 2.31725226e-08 7.05000793e-01][m]\n",
      "tool-rpy:\t[-1.80000000e+02  7.01647746e-15 -1.80000000e+02][°]\n",
      "robot-status:\tready\n",
      "---\n"
     ]
    }
   ],
   "source": [
    "print(cobot)"
   ]
  },
  {
   "cell_type": "code",
   "execution_count": 9,
   "id": "43f7c1fe",
   "metadata": {},
   "outputs": [
    {
     "data": {
      "text/plain": [
       "True"
      ]
     },
     "execution_count": 9,
     "metadata": {},
     "output_type": "execute_result"
    }
   ],
   "source": [
    "cobot.change_tool(\"screwdriver\")"
   ]
  },
  {
   "cell_type": "code",
   "execution_count": 10,
   "id": "292516dd",
   "metadata": {},
   "outputs": [],
   "source": [
    "H = cobot.T_B_C_robot.t"
   ]
  },
  {
   "cell_type": "code",
   "execution_count": 11,
   "id": "761f66b9",
   "metadata": {},
   "outputs": [
    {
     "data": {
      "text/plain": [
       "array([0.43594085, 0.224     , 0.55749881])"
      ]
     },
     "execution_count": 11,
     "metadata": {},
     "output_type": "execute_result"
    }
   ],
   "source": [
    "H"
   ]
  },
  {
   "cell_type": "code",
   "execution_count": 32,
   "id": "d99df954",
   "metadata": {},
   "outputs": [],
   "source": [
    "cobot.open_tool_changer()"
   ]
  },
  {
   "cell_type": "code",
   "execution_count": 33,
   "id": "1683afa1",
   "metadata": {},
   "outputs": [],
   "source": [
    "cobot.close_tool_changer()"
   ]
  },
  {
   "cell_type": "code",
   "execution_count": 16,
   "id": "b44dfceb",
   "metadata": {},
   "outputs": [
    {
     "data": {
      "text/plain": [
       "<hrr_cobot_robot.tool_control.pilot_tool_controller.HrrCobotToolControlInterface at 0x7f8e3012cd00>"
      ]
     },
     "execution_count": 16,
     "metadata": {},
     "output_type": "execute_result"
    }
   ],
   "source": [
    "cobot.tool_controller"
   ]
  },
  {
   "cell_type": "code",
   "execution_count": 19,
   "id": "6c40937a",
   "metadata": {},
   "outputs": [
    {
     "name": "stderr",
     "output_type": "stream",
     "text": [
      "[rosout] unknown program name for id -1\n"
     ]
    }
   ],
   "source": [
    "r = rospy.Rate(0.5)\n",
    "cobot.change_tool(\"screwdriver\")\n",
    "cobot.tool_controller.screwdriver_program = 1\n",
    "r.sleep()\n",
    "cobot.tool_controller.screwdriver_start()\n",
    "r.sleep()\n",
    "cobot.tool_controller.screwdriver_stop()"
   ]
  },
  {
   "cell_type": "code",
   "execution_count": 21,
   "id": "a606a2dc",
   "metadata": {},
   "outputs": [
    {
     "data": {
      "text/plain": [
       "'screwdriver'"
      ]
     },
     "execution_count": 21,
     "metadata": {},
     "output_type": "execute_result"
    }
   ],
   "source": [
    "cobot.tool"
   ]
  },
  {
   "cell_type": "code",
   "execution_count": 97,
   "id": "026862f8",
   "metadata": {},
   "outputs": [
    {
     "data": {
      "text/plain": [
       "True"
      ]
     },
     "execution_count": 97,
     "metadata": {},
     "output_type": "execute_result"
    }
   ],
   "source": [
    "cobot.change_tool(\"shaftgrinder\")"
   ]
  },
  {
   "cell_type": "code",
   "execution_count": 47,
   "id": "0b510c3b",
   "metadata": {},
   "outputs": [
    {
     "data": {
      "text/plain": [
       "array([ 17.69073486,  25.37036133,  -6.30175781, -11.5322876 ,  21.80877686,   0.42419434])"
      ]
     },
     "execution_count": 47,
     "metadata": {},
     "output_type": "execute_result"
    }
   ],
   "source": [
    "cobot.FT_F"
   ]
  },
  {
   "cell_type": "code",
   "execution_count": 49,
   "id": "a32d119d",
   "metadata": {},
   "outputs": [
    {
     "ename": "AttributeError",
     "evalue": "'HrrCobotControl' object has no attribute '_wrench'",
     "output_type": "error",
     "traceback": [
      "\u001b[0;31m---------------------------------------------------------------------------\u001b[0m",
      "\u001b[0;31mAttributeError\u001b[0m                            Traceback (most recent call last)",
      "\u001b[0;32m/tmp/ipykernel_941043/717233810.py\u001b[0m in \u001b[0;36m<module>\u001b[0;34m\u001b[0m\n\u001b[0;32m----> 1\u001b[0;31m \u001b[0mcobot\u001b[0m\u001b[0;34m.\u001b[0m\u001b[0m_wrench\u001b[0m\u001b[0;34m\u001b[0m\u001b[0;34m\u001b[0m\u001b[0m\n\u001b[0m",
      "\u001b[0;31mAttributeError\u001b[0m: 'HrrCobotControl' object has no attribute '_wrench'"
     ]
    }
   ],
   "source": [
    "cobot.FT.wrench"
   ]
  },
  {
   "cell_type": "code",
   "execution_count": 20,
   "id": "4d921dc8",
   "metadata": {},
   "outputs": [],
   "source": [
    "cobot.init_sns_vel()"
   ]
  },
  {
   "cell_type": "code",
   "execution_count": 24,
   "id": "60f4b76e",
   "metadata": {},
   "outputs": [],
   "source": [
    "from tqdm.notebook import tqdm, trange"
   ]
  },
  {
   "cell_type": "code",
   "execution_count": 46,
   "id": "50288d0b",
   "metadata": {},
   "outputs": [
    {
     "data": {
      "application/vnd.jupyter.widget-view+json": {
       "model_id": "2698822bb7064dc5bdb3616e80b6093d",
       "version_major": 2,
       "version_minor": 0
      },
      "text/plain": [
       "  0%|          | 0/200 [00:00<?, ?it/s]"
      ]
     },
     "metadata": {},
     "output_type": "display_data"
    }
   ],
   "source": [
    "v_test = np.zeros(6)\n",
    "for t in trange(200):\n",
    "    v_test[3] = 1.5e-2\n",
    "    cobot.update(u_cmd=v_test, u_cmd_frame=\"hrr_cobot.screwdriver_tip\", sleep=True)\n",
    "cobot.stop()"
   ]
  },
  {
   "cell_type": "code",
   "execution_count": 104,
   "id": "c114fc6e",
   "metadata": {},
   "outputs": [],
   "source": [
    "cobot.stop()"
   ]
  },
  {
   "cell_type": "code",
   "execution_count": 112,
   "id": "c4ebeefb",
   "metadata": {},
   "outputs": [
    {
     "data": {
      "text/plain": [
       "  \u001b[38;5;1m 0.6544  \u001b[0m \u001b[38;5;1m 0.1776  \u001b[0m \u001b[38;5;1m 0.735   \u001b[0m \u001b[38;5;4m 0.5817  \u001b[0m  \u001b[0m\n",
       "  \u001b[38;5;1m-0.5106  \u001b[0m \u001b[38;5;1m-0.6131  \u001b[0m \u001b[38;5;1m 0.6028  \u001b[0m \u001b[38;5;4m 0.05035 \u001b[0m  \u001b[0m\n",
       "  \u001b[38;5;1m 0.5577  \u001b[0m \u001b[38;5;1m-0.7698  \u001b[0m \u001b[38;5;1m-0.3105  \u001b[0m \u001b[38;5;4m 0.1729  \u001b[0m  \u001b[0m\n",
       "  \u001b[38;5;244m 0       \u001b[0m \u001b[38;5;244m 0       \u001b[0m \u001b[38;5;244m 0       \u001b[0m \u001b[38;5;244m 1       \u001b[0m  \u001b[0m\n"
      ]
     },
     "execution_count": 112,
     "metadata": {},
     "output_type": "execute_result"
    }
   ],
   "source": [
    "cobot.T_B_E_robot"
   ]
  },
  {
   "cell_type": "code",
   "execution_count": 108,
   "id": "33e74682",
   "metadata": {},
   "outputs": [
    {
     "data": {
      "text/plain": [
       "'shaft_grinder'"
      ]
     },
     "execution_count": 108,
     "metadata": {},
     "output_type": "execute_result"
    }
   ],
   "source": [
    "cobot.tool"
   ]
  },
  {
   "cell_type": "code",
   "execution_count": 114,
   "id": "cab2adc4",
   "metadata": {},
   "outputs": [
    {
     "name": "stdout",
     "output_type": "stream",
     "text": [
      "Hrr-Cobot state:\n",
      "command-state:\t FAILURE\n",
      "FT-data:\n",
      "current force:\t[-9.55810547 20.31079102 13.7109375 ] [N]\n",
      "current torque:\t[-8.27545166 -0.3717041   1.32348633] [Nm]\n",
      "current wrench:\t[-9.55052332 20.33896933 13.71500305 -8.26327577 -0.36659531  1.31349143] [N,Nm]\n",
      "=>in contact:\tTrue\n",
      "---\n",
      "Robot-data:\n",
      "q:\t\t[  -0.23259113   59.16777727 -104.71214801   43.95152623  -59.79739777  114.22748262][°]\n",
      "q_dot:\t\t[0. 0. 0. 0. 0. 0.][rad/s]\n",
      "tau:\t\t[0. 0. 0. 0. 0. 0.][Nm]\n",
      "pos:\t\t[0.58169257 0.05034853 0.17290948][m]\n",
      "quat:\t\t-0.42743 <[ 0.80281591 -0.10367986  0.40254381]>\n",
      "tool-pos:\t[0.58169257 0.05034853 0.17290948][m]\n",
      "tool-rpy:\t[ -15.18733978   47.30457306 -117.25389862][°]\n",
      "robot-status:\tmoving\n",
      "---\n",
      "tool set to shaft_grinder\n",
      "E_p_EC:=[1.12621024e-12 1.47500000e-01 1.55500000e-01]\n",
      "R_E_C:=[[-1.00000000e+00 -7.85046229e-17  4.89641184e-12]\n",
      " [ 4.89641184e-12 -4.44089210e-16  1.00000000e+00]\n",
      " [-7.85046229e-17  1.00000000e+00  2.22044605e-16]]\n",
      "---\n"
     ]
    }
   ],
   "source": [
    "print(cobot)"
   ]
  },
  {
   "cell_type": "code",
   "execution_count": 113,
   "id": "3c513576",
   "metadata": {},
   "outputs": [
    {
     "data": {
      "text/plain": [
       "  \u001b[38;5;1m 0.6544  \u001b[0m \u001b[38;5;1m 0.1776  \u001b[0m \u001b[38;5;1m 0.735   \u001b[0m \u001b[38;5;4m 0.5817  \u001b[0m  \u001b[0m\n",
       "  \u001b[38;5;1m-0.5106  \u001b[0m \u001b[38;5;1m-0.6131  \u001b[0m \u001b[38;5;1m 0.6028  \u001b[0m \u001b[38;5;4m 0.05035 \u001b[0m  \u001b[0m\n",
       "  \u001b[38;5;1m 0.5577  \u001b[0m \u001b[38;5;1m-0.7698  \u001b[0m \u001b[38;5;1m-0.3105  \u001b[0m \u001b[38;5;4m 0.1739  \u001b[0m  \u001b[0m\n",
       "  \u001b[38;5;244m 0       \u001b[0m \u001b[38;5;244m 0       \u001b[0m \u001b[38;5;244m 0       \u001b[0m \u001b[38;5;244m 1       \u001b[0m  \u001b[0m\n"
      ]
     },
     "execution_count": 113,
     "metadata": {},
     "output_type": "execute_result"
    }
   ],
   "source": [
    "sm.SE3([0,0,0.001]) @ cobot.T_B_E_robot"
   ]
  },
  {
   "cell_type": "code",
   "execution_count": 111,
   "id": "914155d6",
   "metadata": {},
   "outputs": [
    {
     "name": "stderr",
     "output_type": "stream",
     "text": [
      "[rosout] Force threshold exceeded: |F|=344.55 > 80.00. Stop motion\n",
      "[rosout] cobot encountered an error. Check for collisions etc!\n"
     ]
    }
   ],
   "source": [
    "cobot.goTo(sm.SE3([0,0,0.001]) @ cobot.T_B_E_robot, v_max = 0.01, check_reachable=False)"
   ]
  },
  {
   "cell_type": "code",
   "execution_count": 110,
   "id": "92a6d400",
   "metadata": {},
   "outputs": [
    {
     "data": {
      "text/plain": [
       "  \u001b[38;5;1m 0.06748 \u001b[0m \u001b[38;5;1m 0.9907  \u001b[0m \u001b[38;5;1m-0.118   \u001b[0m \u001b[38;5;4m 0.5501  \u001b[0m  \u001b[0m\n",
       "  \u001b[38;5;1m 0.8655  \u001b[0m \u001b[38;5;1m 0.0007107\u001b[0m \u001b[38;5;1m 0.5009  \u001b[0m \u001b[38;5;4m 0.2514  \u001b[0m  \u001b[0m\n",
       "  \u001b[38;5;1m 0.4963  \u001b[0m \u001b[38;5;1m-0.1359  \u001b[0m \u001b[38;5;1m-0.8574  \u001b[0m \u001b[38;5;4m 0.4102  \u001b[0m  \u001b[0m\n",
       "  \u001b[38;5;244m 0       \u001b[0m \u001b[38;5;244m 0       \u001b[0m \u001b[38;5;244m 0       \u001b[0m \u001b[38;5;244m 1       \u001b[0m  \u001b[0m\n"
      ]
     },
     "execution_count": 110,
     "metadata": {},
     "output_type": "execute_result"
    }
   ],
   "source": [
    "cobot.T_B_C_robot"
   ]
  },
  {
   "cell_type": "code",
   "execution_count": 107,
   "id": "ec513b24",
   "metadata": {},
   "outputs": [
    {
     "data": {
      "application/vnd.jupyter.widget-view+json": {
       "model_id": "4b01a480ef994f649c334b72c5bb6da6",
       "version_major": 2,
       "version_minor": 0
      },
      "text/plain": [
       "  0%|          | 0/1000 [00:00<?, ?it/s]"
      ]
     },
     "metadata": {},
     "output_type": "display_data"
    },
    {
     "ename": "KeyboardInterrupt",
     "evalue": "",
     "output_type": "error",
     "traceback": [
      "\u001b[0;31m---------------------------------------------------------------------------\u001b[0m",
      "\u001b[0;31mKeyboardInterrupt\u001b[0m                         Traceback (most recent call last)",
      "\u001b[0;32m/tmp/ipykernel_941043/1175140012.py\u001b[0m in \u001b[0;36m<module>\u001b[0;34m\u001b[0m\n\u001b[1;32m      2\u001b[0m \u001b[0;32mfor\u001b[0m \u001b[0mt\u001b[0m \u001b[0;32min\u001b[0m \u001b[0mtrange\u001b[0m\u001b[0;34m(\u001b[0m\u001b[0;36m1000\u001b[0m\u001b[0;34m)\u001b[0m\u001b[0;34m:\u001b[0m\u001b[0;34m\u001b[0m\u001b[0;34m\u001b[0m\u001b[0m\n\u001b[1;32m      3\u001b[0m     \u001b[0mv_test\u001b[0m\u001b[0;34m[\u001b[0m\u001b[0;36m5\u001b[0m\u001b[0;34m]\u001b[0m \u001b[0;34m=\u001b[0m \u001b[0;36m2e-2\u001b[0m\u001b[0;34m\u001b[0m\u001b[0;34m\u001b[0m\u001b[0m\n\u001b[0;32m----> 4\u001b[0;31m     \u001b[0mcobot\u001b[0m\u001b[0;34m.\u001b[0m\u001b[0mupdate\u001b[0m\u001b[0;34m(\u001b[0m\u001b[0mu_cmd\u001b[0m\u001b[0;34m=\u001b[0m\u001b[0mv_test\u001b[0m\u001b[0;34m,\u001b[0m \u001b[0mu_cmd_frame\u001b[0m\u001b[0;34m=\u001b[0m\u001b[0;34m\"hrr_cobot.shaftgrinder_tip\"\u001b[0m\u001b[0;34m,\u001b[0m \u001b[0msleep\u001b[0m\u001b[0;34m=\u001b[0m\u001b[0;32mTrue\u001b[0m\u001b[0;34m)\u001b[0m\u001b[0;34m\u001b[0m\u001b[0;34m\u001b[0m\u001b[0m\n\u001b[0m\u001b[1;32m      5\u001b[0m \u001b[0mcobot\u001b[0m\u001b[0;34m.\u001b[0m\u001b[0mstop\u001b[0m\u001b[0;34m(\u001b[0m\u001b[0;34m)\u001b[0m\u001b[0;34m\u001b[0m\u001b[0;34m\u001b[0m\u001b[0m\n",
      "\u001b[0;32m~/_ros/hr_recycler_ws/src/hrr_cobot/hrr_cobot_robot/src/hrr_cobot_robot/hrr_cobot_control.py\u001b[0m in \u001b[0;36mupdate\u001b[0;34m(self, sleep, u_cmd, u_cmd_frame, skip_forward, **_)\u001b[0m\n\u001b[1;32m    423\u001b[0m                 \u001b[0mself\u001b[0m\u001b[0;34m.\u001b[0m\u001b[0m_joint_ctrl_command\u001b[0m\u001b[0;34m(\u001b[0m\u001b[0;34m)\u001b[0m\u001b[0;34m\u001b[0m\u001b[0;34m\u001b[0m\u001b[0m\n\u001b[1;32m    424\u001b[0m         \u001b[0;32mif\u001b[0m \u001b[0msleep\u001b[0m\u001b[0;34m:\u001b[0m\u001b[0;34m\u001b[0m\u001b[0;34m\u001b[0m\u001b[0m\n\u001b[0;32m--> 425\u001b[0;31m             \u001b[0mself\u001b[0m\u001b[0;34m.\u001b[0m\u001b[0msleep\u001b[0m\u001b[0;34m(\u001b[0m\u001b[0;34m)\u001b[0m\u001b[0;34m\u001b[0m\u001b[0;34m\u001b[0m\u001b[0m\n\u001b[0m\u001b[1;32m    426\u001b[0m \u001b[0;34m\u001b[0m\u001b[0m\n\u001b[1;32m    427\u001b[0m     \u001b[0;31m# use move_to_joint_pose(q_des, stochastic=True)\u001b[0m\u001b[0;34m\u001b[0m\u001b[0;34m\u001b[0m\u001b[0;34m\u001b[0m\u001b[0m\n",
      "\u001b[0;32m~/_ros/hr_recycler_ws/src/hrr_cobot/hrr_cobot_robot/src/hrr_cobot_robot/hrr_cobot_control.py\u001b[0m in \u001b[0;36msleep\u001b[0;34m(self)\u001b[0m\n\u001b[1;32m    457\u001b[0m     \u001b[0;32mdef\u001b[0m \u001b[0msleep\u001b[0m\u001b[0;34m(\u001b[0m\u001b[0mself\u001b[0m\u001b[0;34m)\u001b[0m\u001b[0;34m:\u001b[0m\u001b[0;34m\u001b[0m\u001b[0;34m\u001b[0m\u001b[0m\n\u001b[1;32m    458\u001b[0m         \u001b[0;34m\"\"\"set robot to sleep via ``rospy.Rate.sleep``\"\"\"\u001b[0m\u001b[0;34m\u001b[0m\u001b[0;34m\u001b[0m\u001b[0m\n\u001b[0;32m--> 459\u001b[0;31m         \u001b[0mself\u001b[0m\u001b[0;34m.\u001b[0m\u001b[0m_rate\u001b[0m\u001b[0;34m.\u001b[0m\u001b[0msleep\u001b[0m\u001b[0;34m(\u001b[0m\u001b[0;34m)\u001b[0m\u001b[0;34m\u001b[0m\u001b[0;34m\u001b[0m\u001b[0m\n\u001b[0m\u001b[1;32m    460\u001b[0m \u001b[0;34m\u001b[0m\u001b[0m\n\u001b[1;32m    461\u001b[0m     \u001b[0;32mdef\u001b[0m \u001b[0mgo_to_joint_hack\u001b[0m\u001b[0;34m(\u001b[0m\u001b[0mself\u001b[0m\u001b[0;34m)\u001b[0m\u001b[0;34m:\u001b[0m\u001b[0;34m\u001b[0m\u001b[0;34m\u001b[0m\u001b[0m\n",
      "\u001b[0;32m/opt/ros/noetic/lib/python3/dist-packages/rospy/timer.py\u001b[0m in \u001b[0;36msleep\u001b[0;34m(self)\u001b[0m\n\u001b[1;32m    101\u001b[0m         \u001b[0mcurr_time\u001b[0m \u001b[0;34m=\u001b[0m \u001b[0mrospy\u001b[0m\u001b[0;34m.\u001b[0m\u001b[0mrostime\u001b[0m\u001b[0;34m.\u001b[0m\u001b[0mget_rostime\u001b[0m\u001b[0;34m(\u001b[0m\u001b[0;34m)\u001b[0m\u001b[0;34m\u001b[0m\u001b[0;34m\u001b[0m\u001b[0m\n\u001b[1;32m    102\u001b[0m         \u001b[0;32mtry\u001b[0m\u001b[0;34m:\u001b[0m\u001b[0;34m\u001b[0m\u001b[0;34m\u001b[0m\u001b[0m\n\u001b[0;32m--> 103\u001b[0;31m             \u001b[0msleep\u001b[0m\u001b[0;34m(\u001b[0m\u001b[0mself\u001b[0m\u001b[0;34m.\u001b[0m\u001b[0m_remaining\u001b[0m\u001b[0;34m(\u001b[0m\u001b[0mcurr_time\u001b[0m\u001b[0;34m)\u001b[0m\u001b[0;34m)\u001b[0m\u001b[0;34m\u001b[0m\u001b[0;34m\u001b[0m\u001b[0m\n\u001b[0m\u001b[1;32m    104\u001b[0m         \u001b[0;32mexcept\u001b[0m \u001b[0mrospy\u001b[0m\u001b[0;34m.\u001b[0m\u001b[0mexceptions\u001b[0m\u001b[0;34m.\u001b[0m\u001b[0mROSTimeMovedBackwardsException\u001b[0m\u001b[0;34m:\u001b[0m\u001b[0;34m\u001b[0m\u001b[0;34m\u001b[0m\u001b[0m\n\u001b[1;32m    105\u001b[0m             \u001b[0;32mif\u001b[0m \u001b[0;32mnot\u001b[0m \u001b[0mself\u001b[0m\u001b[0;34m.\u001b[0m\u001b[0m_reset\u001b[0m\u001b[0;34m:\u001b[0m\u001b[0;34m\u001b[0m\u001b[0;34m\u001b[0m\u001b[0m\n",
      "\u001b[0;32m/opt/ros/noetic/lib/python3/dist-packages/rospy/timer.py\u001b[0m in \u001b[0;36msleep\u001b[0;34m(duration)\u001b[0m\n\u001b[1;32m    132\u001b[0m             \u001b[0;32mreturn\u001b[0m\u001b[0;34m\u001b[0m\u001b[0;34m\u001b[0m\u001b[0m\n\u001b[1;32m    133\u001b[0m         \u001b[0;32melse\u001b[0m\u001b[0;34m:\u001b[0m\u001b[0;34m\u001b[0m\u001b[0;34m\u001b[0m\u001b[0m\n\u001b[0;32m--> 134\u001b[0;31m             \u001b[0mrospy\u001b[0m\u001b[0;34m.\u001b[0m\u001b[0mrostime\u001b[0m\u001b[0;34m.\u001b[0m\u001b[0mwallsleep\u001b[0m\u001b[0;34m(\u001b[0m\u001b[0mduration\u001b[0m\u001b[0;34m)\u001b[0m\u001b[0;34m\u001b[0m\u001b[0;34m\u001b[0m\u001b[0m\n\u001b[0m\u001b[1;32m    135\u001b[0m     \u001b[0;32melse\u001b[0m\u001b[0;34m:\u001b[0m\u001b[0;34m\u001b[0m\u001b[0;34m\u001b[0m\u001b[0m\n\u001b[1;32m    136\u001b[0m         \u001b[0minitial_rostime\u001b[0m \u001b[0;34m=\u001b[0m \u001b[0mrospy\u001b[0m\u001b[0;34m.\u001b[0m\u001b[0mrostime\u001b[0m\u001b[0;34m.\u001b[0m\u001b[0mget_rostime\u001b[0m\u001b[0;34m(\u001b[0m\u001b[0;34m)\u001b[0m\u001b[0;34m\u001b[0m\u001b[0;34m\u001b[0m\u001b[0m\n",
      "\u001b[0;32m/opt/ros/noetic/lib/python3/dist-packages/rospy/rostime.py\u001b[0m in \u001b[0;36mwallsleep\u001b[0;34m(duration)\u001b[0m\n\u001b[1;32m    275\u001b[0m             \u001b[0;32mpass\u001b[0m\u001b[0;34m\u001b[0m\u001b[0;34m\u001b[0m\u001b[0m\n\u001b[1;32m    276\u001b[0m     \u001b[0;32melse\u001b[0m\u001b[0;34m:\u001b[0m\u001b[0;34m\u001b[0m\u001b[0;34m\u001b[0m\u001b[0m\n\u001b[0;32m--> 277\u001b[0;31m         \u001b[0mtime\u001b[0m\u001b[0;34m.\u001b[0m\u001b[0msleep\u001b[0m\u001b[0;34m(\u001b[0m\u001b[0mduration\u001b[0m\u001b[0;34m)\u001b[0m\u001b[0;34m\u001b[0m\u001b[0;34m\u001b[0m\u001b[0m\n\u001b[0m",
      "\u001b[0;31mKeyboardInterrupt\u001b[0m: "
     ]
    }
   ],
   "source": [
    "v_test = np.zeros(6)\n",
    "for t in trange(1000):\n",
    "    v_test[5] = 2e-2\n",
    "    cobot.update(u_cmd=v_test, u_cmd_frame=\"hrr_cobot.shaftgrinder_tip\", sleep=True)\n",
    "cobot.stop()"
   ]
  },
  {
   "cell_type": "code",
   "execution_count": 64,
   "id": "efb89531",
   "metadata": {},
   "outputs": [
    {
     "data": {
      "text/plain": [
       "'shaft_grinder'"
      ]
     },
     "execution_count": 64,
     "metadata": {},
     "output_type": "execute_result"
    }
   ],
   "source": [
    "cobot.tool"
   ]
  },
  {
   "cell_type": "code",
   "execution_count": 101,
   "id": "5955fa44",
   "metadata": {},
   "outputs": [
    {
     "data": {
      "text/plain": [
       "True"
      ]
     },
     "execution_count": 101,
     "metadata": {},
     "output_type": "execute_result"
    }
   ],
   "source": [
    "cobot.change_tool(\"nothing\")\n",
    "rospy.sleep(0.5)\n",
    "cobot.change_tool(\"shaftgrinder\")"
   ]
  },
  {
   "cell_type": "code",
   "execution_count": 65,
   "id": "1672202e",
   "metadata": {},
   "outputs": [
    {
     "data": {
      "text/plain": [
       "array([[-0.26099602,  0.78676675, -0.78676675,  0.16906849],\n",
       "       [ 1.90211367, -0.23138221,  0.23138221,  0.03928465],\n",
       "       [ 0.5602184 ,  1.15215466, -1.15215466, -0.0546174 ],\n",
       "       [ 0.        ,  0.        ,  0.        ,  0.        ]])"
      ]
     },
     "execution_count": 65,
     "metadata": {},
     "output_type": "execute_result"
    }
   ],
   "source": [
    "cobot.T_B_C_robot-cobot.T_B_E_robot"
   ]
  },
  {
   "cell_type": "code",
   "execution_count": 76,
   "id": "8c432730",
   "metadata": {},
   "outputs": [
    {
     "data": {
      "text/plain": [
       "array([[-0.26138258,  0.78674629, -0.78674629,  0.16682136],\n",
       "       [ 1.90208726, -0.23118902,  0.23118902,  0.03570141],\n",
       "       [ 0.56012785,  1.15220741, -1.15220741, -0.04338829],\n",
       "       [ 0.        ,  0.        ,  0.        ,  0.        ]])"
      ]
     },
     "execution_count": 76,
     "metadata": {},
     "output_type": "execute_result"
    }
   ],
   "source": [
    "cobot.T_B_C_robot-cobot.T_B_E_robot"
   ]
  },
  {
   "cell_type": "markdown",
   "id": "5b092d81",
   "metadata": {},
   "source": [
    "## test configuration"
   ]
  },
  {
   "cell_type": "code",
   "execution_count": 11,
   "id": "3feb7d2b",
   "metadata": {},
   "outputs": [
    {
     "data": {
      "text/plain": [
       "True"
      ]
     },
     "execution_count": 11,
     "metadata": {},
     "output_type": "execute_result"
    }
   ],
   "source": [
    "cobot.change_tool('shaftgrinder', robot_urdf_prefix=\"hrr_cobot.\")"
   ]
  },
  {
   "cell_type": "code",
   "execution_count": 12,
   "id": "dd8de946",
   "metadata": {},
   "outputs": [
    {
     "data": {
      "text/plain": [
       "  \u001b[38;5;1m-0.7071  \u001b[0m \u001b[38;5;1m 0       \u001b[0m \u001b[38;5;1m 0.7071  \u001b[0m \u001b[38;5;4m 0.06682 \u001b[0m  \u001b[0m\n",
       "  \u001b[38;5;1m 0.7071  \u001b[0m \u001b[38;5;1m 0       \u001b[0m \u001b[38;5;1m 0.7071  \u001b[0m \u001b[38;5;4m 0.06682 \u001b[0m  \u001b[0m\n",
       "  \u001b[38;5;1m 0       \u001b[0m \u001b[38;5;1m 1       \u001b[0m \u001b[38;5;1m 0       \u001b[0m \u001b[38;5;4m 0.1555  \u001b[0m  \u001b[0m\n",
       "  \u001b[38;5;244m 0       \u001b[0m \u001b[38;5;244m 0       \u001b[0m \u001b[38;5;244m 0       \u001b[0m \u001b[38;5;244m 1       \u001b[0m  \u001b[0m\n"
      ]
     },
     "execution_count": 12,
     "metadata": {},
     "output_type": "execute_result"
    }
   ],
   "source": [
    "cobot.T_E_C_robot"
   ]
  },
  {
   "cell_type": "code",
   "execution_count": 16,
   "id": "7f224966",
   "metadata": {},
   "outputs": [
    {
     "data": {
      "text/plain": [
       "  \u001b[38;5;1m 0.7071  \u001b[0m \u001b[38;5;1m-0.7071  \u001b[0m \u001b[38;5;1m 0       \u001b[0m \u001b[38;5;4m 0.4566  \u001b[0m  \u001b[0m\n",
       "  \u001b[38;5;1m 0       \u001b[0m \u001b[38;5;1m 0       \u001b[0m \u001b[38;5;1m 1       \u001b[0m \u001b[38;5;4m-0.2086  \u001b[0m  \u001b[0m\n",
       "  \u001b[38;5;1m-0.7071  \u001b[0m \u001b[38;5;1m-0.7071  \u001b[0m \u001b[38;5;1m 0       \u001b[0m \u001b[38;5;4m 0.7967  \u001b[0m  \u001b[0m\n",
       "  \u001b[38;5;244m 0       \u001b[0m \u001b[38;5;244m 0       \u001b[0m \u001b[38;5;244m 0       \u001b[0m \u001b[38;5;244m 1       \u001b[0m  \u001b[0m\n"
      ]
     },
     "execution_count": 16,
     "metadata": {},
     "output_type": "execute_result"
    }
   ],
   "source": [
    "hrr_common.spatial.calc_EE_goal_pose(B_normal=np.r_[0., 0., 1.0], B_p_location=cobot.T_B_C_robot, \n",
    "                                     T_C_E=cobot.T_E_C_robot.inv())"
   ]
  },
  {
   "cell_type": "markdown",
   "id": "84d43e63",
   "metadata": {},
   "source": [
    "## set up screwdriver skill"
   ]
  },
  {
   "cell_type": "code",
   "execution_count": 8,
   "id": "88ffdb97",
   "metadata": {},
   "outputs": [
    {
     "name": "stderr",
     "output_type": "stream",
     "text": [
      "[ERROR]could not find file /tmp/screwdriver1.npy\n"
     ]
    },
    {
     "data": {
      "image/png": "[encoded data removed]",
      "text/plain": [
       "<Figure size 720x720 with 3 Axes>"
      ]
     },
     "metadata": {},
     "output_type": "display_data"
    }
   ],
   "source": [
    "cobot.hz = 75.0\n",
    "cobot.v_max = 0.01\n",
    "try:\n",
    "    cobot.init_sns_vel()\n",
    "except RuntimeError as e:\n",
    "    rospy.logerr(f\"Exit: {e}\")\n",
    "    sys.exit(1)\n",
    "cobot.change_tool(\"screwdriver\", robot_urdf_prefix=\"hrr_cobot.\")\n",
    "cobot.run_calibration_routine(Path(f\"/tmp/{cobot.tool}1.npy\"), plot=True, figsize=(10, 10))"
   ]
  },
  {
   "cell_type": "code",
   "execution_count": 16,
   "id": "46cb78cc",
   "metadata": {},
   "outputs": [
    {
     "data": {
      "text/plain": [
       "array([ 17.01971, -25.74249,   0.2735 ,   6.31924,  13.90543,   0.82889])"
      ]
     },
     "execution_count": 16,
     "metadata": {},
     "output_type": "execute_result"
    }
   ],
   "source": [
    "cobot.FT_F"
   ]
  },
  {
   "cell_type": "code",
   "execution_count": 16,
   "id": "8ed8d49b",
   "metadata": {},
   "outputs": [
    {
     "name": "stdout",
     "output_type": "stream",
     "text": [
      "Hrr-Cobot state:\n",
      "FT-data:\n",
      "current force:\t[-0.  0.  0.] [N]\n",
      "current torque:\t[-0.  0.  0.] [Nm]\n",
      "current wrench:\t[0. 0. 0. 0. 0. 0.] [N,Nm]\n",
      "=>in contact:\tFalse\n",
      "---\n",
      "Robot-data:\n",
      "q:\t\t[   5.58296  -22.96102 -102.75031   -5.61538   12.00271   82.23609][°]\n",
      "q_dot:\t\t[0. 0. 0. 0. 0. 0.][rad/s]\n",
      "tau:\t\t[0. 0. 0. 0. 0. 0.][Nm]\n",
      "pos:\t\t[ 0.35504 -0.03307  0.82089][m]\n",
      "quat:\t\t0.52899 <[-0.42335  0.57959 -0.45279]>\n",
      "tool-pos:\t[ 0.35504 -0.03307  0.82089][m]\n",
      "tool-rpy:\t[171.87903  85.25533 111.48055][°]\n",
      "robot-status:\tready\n",
      "---\n",
      "tool set to screwdriver\n",
      "E_p_EC:=[-0.      0.224   0.1475]\n",
      "R_C_E:=[[ 0.  0. -1.]\n",
      " [-1.  0. -0.]\n",
      " [-0.  1.  0.]]\n",
      "---\n"
     ]
    },
    {
     "name": "stderr",
     "output_type": "stream",
     "text": [
      "[WARN]Inbound TCP/IP connection failed: connection from sender terminated before handshake header received. 0 bytes were received. Please check sender for additional details.\n"
     ]
    }
   ],
   "source": [
    "print(cobot)"
   ]
  },
  {
   "cell_type": "code",
   "execution_count": 20,
   "id": "e8e0988f",
   "metadata": {},
   "outputs": [
    {
     "data": {
      "text/plain": [
       "(  \u001b[38;5;1m-0.9547  \u001b[0m \u001b[38;5;1m 0.2963  \u001b[0m \u001b[38;5;1m-0.02746 \u001b[0m \u001b[38;5;4m 0.6229  \u001b[0m  \u001b[0m\n",
       "  \u001b[38;5;1m 0.2862  \u001b[0m \u001b[38;5;1m 0.9396  \u001b[0m \u001b[38;5;1m 0.188   \u001b[0m \u001b[38;5;4m-0.1856  \u001b[0m  \u001b[0m\n",
       "  \u001b[38;5;1m 0.08148 \u001b[0m \u001b[38;5;1m 0.1716  \u001b[0m \u001b[38;5;1m-0.9818  \u001b[0m \u001b[38;5;4m 0.2524  \u001b[0m  \u001b[0m\n",
       "  \u001b[38;5;244m 0       \u001b[0m \u001b[38;5;244m 0       \u001b[0m \u001b[38;5;244m 0       \u001b[0m \u001b[38;5;244m 1       \u001b[0m  \u001b[0m\n",
       ",\n",
       "   \u001b[38;5;1m-0.2963  \u001b[0m \u001b[38;5;1m-0.02746 \u001b[0m \u001b[38;5;1m 0.9547  \u001b[0m \u001b[38;5;4m 0.4882  \u001b[0m  \u001b[0m\n",
       "  \u001b[38;5;1m-0.9396  \u001b[0m \u001b[38;5;1m 0.188   \u001b[0m \u001b[38;5;1m-0.2862  \u001b[0m \u001b[38;5;4m-0.1855  \u001b[0m  \u001b[0m\n",
       "  \u001b[38;5;1m-0.1716  \u001b[0m \u001b[38;5;1m-0.9818  \u001b[0m \u001b[38;5;1m-0.08148 \u001b[0m \u001b[38;5;4m 0.4844  \u001b[0m  \u001b[0m\n",
       "  \u001b[38;5;244m 0       \u001b[0m \u001b[38;5;244m 0       \u001b[0m \u001b[38;5;244m 0       \u001b[0m \u001b[38;5;244m 1       \u001b[0m  \u001b[0m\n",
       ")"
      ]
     },
     "execution_count": 20,
     "metadata": {},
     "output_type": "execute_result"
    }
   ],
   "source": [
    "cobot.T_B_C_robot, cobot.T_B_E_robot"
   ]
  },
  {
   "cell_type": "code",
   "execution_count": 12,
   "id": "5412e0f7",
   "metadata": {},
   "outputs": [
    {
     "name": "stdout",
     "output_type": "stream",
     "text": [
      "[INFO][/hrr_cobot_unscrewing_tests] could not get ROS-parameter /hrr_cobot/f_insert. Use default 10.0 instead.\n",
      "[INFO][/hrr_cobot_unscrewing_tests] could not get ROS-parameter /hrr_cobot/insertion_distance. Use default 0.0015 instead.\n"
     ]
    },
    {
     "ename": "TypeError",
     "evalue": "init_ros() missing 1 required keyword-only argument: 'cobot_prefix'",
     "output_type": "error",
     "traceback": [
      "\u001b[0;31m---------------------------------------------------------------------------\u001b[0m",
      "\u001b[0;31mTypeError\u001b[0m                                 Traceback (most recent call last)",
      "\u001b[0;32m/tmp/ipykernel_120231/573432258.py\u001b[0m in \u001b[0;36m<module>\u001b[0;34m\u001b[0m\n\u001b[0;32m----> 1\u001b[0;31m \u001b[0munscrew\u001b[0m \u001b[0;34m=\u001b[0m \u001b[0mUnscrewingSkill\u001b[0m\u001b[0;34m.\u001b[0m\u001b[0mfrom_ros\u001b[0m\u001b[0;34m(\u001b[0m\u001b[0mcobot\u001b[0m\u001b[0;34m=\u001b[0m\u001b[0mcobot\u001b[0m\u001b[0;34m,\u001b[0m\u001b[0mcobot_prefix\u001b[0m\u001b[0;34m=\u001b[0m\u001b[0;34m\"/hrr_cobot\"\u001b[0m\u001b[0;34m)\u001b[0m\u001b[0;34m\u001b[0m\u001b[0;34m\u001b[0m\u001b[0m\n\u001b[0m",
      "\u001b[0;32m~/_ros/hr_recycler_ws/src/hrr_cobot/hrr_common/src/hrr_common/ros_utils/templates.py\u001b[0m in \u001b[0;36mfrom_ros\u001b[0;34m(cls, cobot_prefix, **kwargs)\u001b[0m\n\u001b[1;32m     92\u001b[0m         \"\"\"\n\u001b[1;32m     93\u001b[0m         \u001b[0;32mtry\u001b[0m\u001b[0;34m:\u001b[0m\u001b[0;34m\u001b[0m\u001b[0;34m\u001b[0m\u001b[0m\n\u001b[0;32m---> 94\u001b[0;31m             \u001b[0;32mreturn\u001b[0m \u001b[0mcls\u001b[0m\u001b[0;34m.\u001b[0m\u001b[0m_from_ros\u001b[0m\u001b[0;34m(\u001b[0m\u001b[0mcobot_prefix\u001b[0m\u001b[0;34m=\u001b[0m\u001b[0mhrr_hlp\u001b[0m\u001b[0;34m.\u001b[0m\u001b[0mfix_prefix\u001b[0m\u001b[0;34m(\u001b[0m\u001b[0mcobot_prefix\u001b[0m\u001b[0;34m)\u001b[0m\u001b[0;34m,\u001b[0m \u001b[0;34m**\u001b[0m\u001b[0mkwargs\u001b[0m\u001b[0;34m)\u001b[0m\u001b[0;34m\u001b[0m\u001b[0;34m\u001b[0m\u001b[0m\n\u001b[0m\u001b[1;32m     95\u001b[0m         \u001b[0;32mexcept\u001b[0m \u001b[0mKeyError\u001b[0m \u001b[0;32mas\u001b[0m \u001b[0me\u001b[0m\u001b[0;34m:\u001b[0m\u001b[0;34m\u001b[0m\u001b[0;34m\u001b[0m\u001b[0m\n\u001b[1;32m     96\u001b[0m             \u001b[0mrospy\u001b[0m\u001b[0;34m.\u001b[0m\u001b[0mlogwarn\u001b[0m\u001b[0;34m(\u001b[0m\u001b[0;34mf\"could not initialize handle due @ {rospy.get_name()} to missing ROS-parameter {e}\"\u001b[0m\u001b[0;34m)\u001b[0m\u001b[0;34m\u001b[0m\u001b[0;34m\u001b[0m\u001b[0m\n",
      "\u001b[0;32m~/_ros/hr_recycler_ws/src/hrr_cobot/hrr_cobot_robot/src/hrr_cobot_robot/manipulation_graphs/unscrewing_skill.py\u001b[0m in \u001b[0;36m_from_ros\u001b[0;34m(cls, cobot_prefix, **kwargs)\u001b[0m\n\u001b[1;32m    109\u001b[0m             \u001b[0;34m**\u001b[0m\u001b[0mkwargs\u001b[0m\u001b[0;34m\u001b[0m\u001b[0;34m\u001b[0m\u001b[0m\n\u001b[1;32m    110\u001b[0m         )\n\u001b[0;32m--> 111\u001b[0;31m         \u001b[0mout\u001b[0m\u001b[0;34m.\u001b[0m\u001b[0minit_ros\u001b[0m\u001b[0;34m(\u001b[0m\u001b[0mget_param\u001b[0m\u001b[0;34m(\u001b[0m\u001b[0;34mf\"{cobot_prefix}unscrew_action_srv_name\"\u001b[0m\u001b[0;34m)\u001b[0m\u001b[0;34m,\u001b[0m \u001b[0mcobot_prefix\u001b[0m\u001b[0;34m=\u001b[0m\u001b[0mcobot_prefix\u001b[0m\u001b[0;34m,\u001b[0m \u001b[0;34m**\u001b[0m\u001b[0mkwargs\u001b[0m\u001b[0;34m)\u001b[0m\u001b[0;34m\u001b[0m\u001b[0;34m\u001b[0m\u001b[0m\n\u001b[0m\u001b[1;32m    112\u001b[0m         \u001b[0;32mreturn\u001b[0m \u001b[0mout\u001b[0m\u001b[0;34m\u001b[0m\u001b[0;34m\u001b[0m\u001b[0m\n\u001b[1;32m    113\u001b[0m \u001b[0;34m\u001b[0m\u001b[0m\n",
      "\u001b[0;32m~/_ros/hr_recycler_ws/src/hrr_cobot/hrr_cobot_robot/src/hrr_cobot_robot/manipulation_graphs/unscrewing_skill.py\u001b[0m in \u001b[0;36minit_ros\u001b[0;34m(self, action_srv_name, cobot, **kwargs)\u001b[0m\n\u001b[1;32m     94\u001b[0m \u001b[0;34m\u001b[0m\u001b[0m\n\u001b[1;32m     95\u001b[0m     \u001b[0;32mdef\u001b[0m \u001b[0minit_ros\u001b[0m\u001b[0;34m(\u001b[0m\u001b[0mself\u001b[0m\u001b[0;34m,\u001b[0m \u001b[0maction_srv_name\u001b[0m\u001b[0;34m=\u001b[0m\u001b[0;32mNone\u001b[0m\u001b[0;34m,\u001b[0m \u001b[0mcobot\u001b[0m\u001b[0;34m=\u001b[0m\u001b[0;32mNone\u001b[0m\u001b[0;34m,\u001b[0m \u001b[0;34m**\u001b[0m\u001b[0mkwargs\u001b[0m\u001b[0;34m)\u001b[0m\u001b[0;34m:\u001b[0m\u001b[0;34m\u001b[0m\u001b[0;34m\u001b[0m\u001b[0m\n\u001b[0;32m---> 96\u001b[0;31m         \u001b[0msuper\u001b[0m\u001b[0;34m(\u001b[0m\u001b[0;34m)\u001b[0m\u001b[0;34m.\u001b[0m\u001b[0minit_ros\u001b[0m\u001b[0;34m(\u001b[0m\u001b[0;34m**\u001b[0m\u001b[0mkwargs\u001b[0m\u001b[0;34m)\u001b[0m\u001b[0;34m\u001b[0m\u001b[0;34m\u001b[0m\u001b[0m\n\u001b[0m\u001b[1;32m     97\u001b[0m         \u001b[0mcobot\u001b[0m \u001b[0;34m=\u001b[0m \u001b[0mself\u001b[0m\u001b[0;34m.\u001b[0m\u001b[0m_get_cobot\u001b[0m\u001b[0;34m(\u001b[0m\u001b[0mcobot\u001b[0m\u001b[0;34m)\u001b[0m\u001b[0;34m\u001b[0m\u001b[0;34m\u001b[0m\u001b[0m\n\u001b[1;32m     98\u001b[0m         \u001b[0;32mif\u001b[0m \u001b[0mself\u001b[0m\u001b[0;34m.\u001b[0m\u001b[0m_as\u001b[0m \u001b[0;32mis\u001b[0m \u001b[0;32mNone\u001b[0m \u001b[0;32mand\u001b[0m \u001b[0maction_srv_name\u001b[0m \u001b[0;32mis\u001b[0m \u001b[0;32mnot\u001b[0m \u001b[0;32mNone\u001b[0m\u001b[0;34m:\u001b[0m\u001b[0;34m\u001b[0m\u001b[0;34m\u001b[0m\u001b[0m\n",
      "\u001b[0;31mTypeError\u001b[0m: init_ros() missing 1 required keyword-only argument: 'cobot_prefix'"
     ]
    }
   ],
   "source": [
    "unscrew = UnscrewingSkill.from_ros(cobot=cobot,cobot_prefix=\"/hrr_cobot\")"
   ]
  },
  {
   "cell_type": "markdown",
   "id": "4084d03f",
   "metadata": {},
   "source": [
    "reset old stale values "
   ]
  },
  {
   "cell_type": "code",
   "execution_count": null,
   "id": "cdbea8e8",
   "metadata": {},
   "outputs": [],
   "source": [
    "stop_record()"
   ]
  },
  {
   "cell_type": "markdown",
   "id": "2b95d497",
   "metadata": {},
   "source": [
    "## set action parameters\n",
    "\n",
    "as shown below\n",
    "\n",
    "current implementation is super sensitive to precision accuracy and needs further rework due to the new screwdriver,\n",
    "but for initial testing should be fine\n",
    "Use the rotation below to rotate the unitvector as needed"
   ]
  },
  {
   "cell_type": "code",
   "execution_count": 13,
   "id": "e6a60bb8",
   "metadata": {},
   "outputs": [],
   "source": [
    "# action inputs\n",
    "\n",
    "f_contact = 10.0\n",
    "f_insert = 10.0\n",
    "B_normal = sm.base.rotx(10, \"deg\") @ sm.base.unitvec(np.r_[0., 0.0, 1.0])\n",
    "B_screw_guess = np.r_[0.59528, -0.19824, 0.30903] #np.r_[0.549, -0.145, 0.30]\n"
   ]
  },
  {
   "cell_type": "code",
   "execution_count": null,
   "id": "4684b014",
   "metadata": {},
   "outputs": [],
   "source": [
    "unscrew.set_skill(B_normal, B_screw_guess, f_contact, f_insert)"
   ]
  },
  {
   "cell_type": "code",
   "execution_count": null,
   "id": "1153aa17",
   "metadata": {},
   "outputs": [],
   "source": [
    "unscrew.ξ = 0.2, 1e-4, 1e-3, 0.2"
   ]
  },
  {
   "cell_type": "code",
   "execution_count": null,
   "id": "011b6abf",
   "metadata": {},
   "outputs": [],
   "source": [
    "unscrew.recovery()"
   ]
  },
  {
   "cell_type": "code",
   "execution_count": 38,
   "id": "49936357",
   "metadata": {},
   "outputs": [
    {
     "data": {
      "text/plain": [
       "  \u001b[38;5;1m-0.55    \u001b[0m \u001b[38;5;1m 0.8343  \u001b[0m \u001b[38;5;1m 0.03692 \u001b[0m \u001b[38;5;4m 0.6173  \u001b[0m  \u001b[0m\n",
       "  \u001b[38;5;1m 0.8352  \u001b[0m \u001b[38;5;1m 0.5493  \u001b[0m \u001b[38;5;1m 0.02788 \u001b[0m \u001b[38;5;4m-0.1946  \u001b[0m  \u001b[0m\n",
       "  \u001b[38;5;1m 0.002978\u001b[0m \u001b[38;5;1m 0.04617 \u001b[0m \u001b[38;5;1m-0.9989  \u001b[0m \u001b[38;5;4m 0.2851  \u001b[0m  \u001b[0m\n",
       "  \u001b[38;5;244m 0       \u001b[0m \u001b[38;5;244m 0       \u001b[0m \u001b[38;5;244m 0       \u001b[0m \u001b[38;5;244m 1       \u001b[0m  \u001b[0m\n"
      ]
     },
     "execution_count": 38,
     "metadata": {},
     "output_type": "execute_result"
    }
   ],
   "source": [
    "cobot.T_B_C_robot"
   ]
  },
  {
   "cell_type": "code",
   "execution_count": 29,
   "id": "e211a2ac",
   "metadata": {},
   "outputs": [
    {
     "data": {
      "text/plain": [
       "  \u001b[38;5;1m-0.8343  \u001b[0m \u001b[38;5;1m 0.03692 \u001b[0m \u001b[38;5;1m 0.55    \u001b[0m \u001b[38;5;4m 0.5279  \u001b[0m  \u001b[0m\n",
       "  \u001b[38;5;1m-0.5493  \u001b[0m \u001b[38;5;1m 0.02788 \u001b[0m \u001b[38;5;1m-0.8352  \u001b[0m \u001b[38;5;4m-0.07768 \u001b[0m  \u001b[0m\n",
       "  \u001b[38;5;1m-0.04617 \u001b[0m \u001b[38;5;1m-0.9989  \u001b[0m \u001b[38;5;1m-0.002978\u001b[0m \u001b[38;5;4m 0.5093  \u001b[0m  \u001b[0m\n",
       "  \u001b[38;5;244m 0       \u001b[0m \u001b[38;5;244m 0       \u001b[0m \u001b[38;5;244m 0       \u001b[0m \u001b[38;5;244m 1       \u001b[0m  \u001b[0m\n"
      ]
     },
     "execution_count": 29,
     "metadata": {},
     "output_type": "execute_result"
    }
   ],
   "source": [
    "cobot.T_B_E_robot"
   ]
  },
  {
   "cell_type": "code",
   "execution_count": 39,
   "id": "30e45d34",
   "metadata": {},
   "outputs": [
    {
     "data": {
      "text/plain": [
       "(array([ 0.59528, -0.19824,  0.30903]), array([ 0.61729, -0.19462,  0.28505]))"
      ]
     },
     "execution_count": 39,
     "metadata": {},
     "output_type": "execute_result"
    }
   ],
   "source": [
    "B_screw_guess, cobot.T_B_C_robot.A[0:3,3]"
   ]
  },
  {
   "cell_type": "code",
   "execution_count": 28,
   "id": "bde5f978",
   "metadata": {},
   "outputs": [
    {
     "name": "stdout",
     "output_type": "stream",
     "text": [
      "Hrr-Cobot state:\n",
      "FT-data:\n",
      "current force:\t[-0.  0.  0.] [N]\n",
      "current torque:\t[-0.  0.  0.] [Nm]\n",
      "current wrench:\t[0. 0. 0. 0. 0. 0.] [N,Nm]\n",
      "=>in contact:\tFalse\n",
      "---\n",
      "Robot-data:\n",
      "q:\t\t[   1.28626   16.69762 -113.32567  113.83443   64.06477  -48.18092][°]\n",
      "q_dot:\t\t[0. 0. 0. 0. 0. 0.][rad/s]\n",
      "tau:\t\t[0. 0. 0. 0. 0. 0.][Nm]\n",
      "pos:\t\t[ 0.52789 -0.07768  0.50925][m]\n",
      "quat:\t\t0.21827 <[-0.18759  0.68286 -0.67147]>\n",
      "tool-pos:\t[ 0.52789 -0.07768  0.50925][m]\n",
      "tool-rpy:\t[-177.46609   33.3678    90.20433][°]\n",
      "robot-status:\tready\n",
      "---\n",
      "tool set to screwdriver\n",
      "E_p_EC:=[0.15839 0.15839 0.1475 ]\n",
      "R_C_E:=[[ 0.       0.      -1.     ]\n",
      " [-0.70711  0.70711  0.     ]\n",
      " [ 0.70711  0.70711  0.     ]]\n",
      "---\n"
     ]
    }
   ],
   "source": [
    "print(cobot)"
   ]
  },
  {
   "cell_type": "code",
   "execution_count": 34,
   "id": "0481740c",
   "metadata": {},
   "outputs": [
    {
     "data": {
      "text/plain": [
       "3.9269908169872414"
      ]
     },
     "execution_count": 34,
     "metadata": {},
     "output_type": "execute_result"
    }
   ],
   "source": [
    "np.pi*5/4"
   ]
  },
  {
   "cell_type": "markdown",
   "id": "15a80a9d",
   "metadata": {},
   "source": [
    "### Unscrewing fine tuning"
   ]
  },
  {
   "cell_type": "code",
   "execution_count": null,
   "id": "7a4476d3",
   "metadata": {},
   "outputs": [],
   "source": [
    "unscrew._screw_time = 5.0\n",
    "unscrew._screwdriver_program = 1\n",
    "unscrew._f_unscrew = -10.0"
   ]
  },
  {
   "cell_type": "markdown",
   "id": "bba7fe9f",
   "metadata": {},
   "source": [
    "# run unscrewing"
   ]
  },
  {
   "cell_type": "code",
   "execution_count": null,
   "id": "ddb18b91",
   "metadata": {},
   "outputs": [],
   "source": [
    "try:\n",
    "    record_skill(unscrew, hz=cobot.hz)\n",
    "except RuntimeError:\n",
    "    stop_record()\n",
    "    unscrew.recovery()"
   ]
  },
  {
   "cell_type": "code",
   "execution_count": null,
   "id": "33a086bc",
   "metadata": {},
   "outputs": [],
   "source": [
    "cobot.B_F_msr"
   ]
  },
  {
   "cell_type": "markdown",
   "id": "f7a6e06f",
   "metadata": {},
   "source": [
    "## Test inverting direction"
   ]
  },
  {
   "cell_type": "code",
   "execution_count": null,
   "id": "db7b226e",
   "metadata": {},
   "outputs": [],
   "source": [
    "import hrr_common as hc\n",
    "hc.calc_EE_pre_pose(np.array([0,0,1]), safety_distance=0.05, )"
   ]
  }
 ],
 "metadata": {
  "kernelspec": {
   "display_name": "Python 3 (ipykernel)",
   "language": "python",
   "name": "python3"
  },
  "language_info": {
   "codemirror_mode": {
    "name": "ipython",
    "version": 3
   },
   "file_extension": ".py",
   "mimetype": "text/x-python",
   "name": "python",
   "nbconvert_exporter": "python",
   "pygments_lexer": "ipython3",
   "version": "3.8.12"
  }
 },
 "nbformat": 4,
 "nbformat_minor": 5
}
