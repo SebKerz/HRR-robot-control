{
 "cells": [
  {
   "cell_type": "code",
   "execution_count": 1,
   "id": "figured-vaccine",
   "metadata": {
    "scrolled": true
   },
   "outputs": [
    {
     "name": "stderr",
     "output_type": "stream",
     "text": [
      "Warning: TF_OLD_DATA ignoring data from the past (Possible reasons are listed at http://wiki.ros.org/tf/Errors%20explained) for frame tool_controller at time 1668673686.875036 according to authority /robot_state_publisher\n",
      "         at line 278 in /tmp/binarydeb/ros-noetic-tf2-0.7.5/src/buffer_core.cpp\n"
     ]
    },
    {
     "name": "stdout",
     "output_type": "stream",
     "text": [
      "[rosout] [/Moving] Initialize MATLAB-Motion planner @ /home/hrr_cobot/_ros/hr_recycler_ws/src/planner/src\n",
      "[rosout] [/Moving] connected to Matlab\n",
      "Shutting down global node /matlab_global_node_92072 with NodeURI http://192.168.2.87:34493/\n",
      "The value of the ROS_IP environment variable, 192.168.2.87, will be used to set the advertised address for the ROS node.\n",
      "Initializing global node /matlab_global_node_82035 with NodeURI http://192.168.2.87:40201/\n",
      "[rosout] [/Moving] MATLAB-Initialization done\n"
     ]
    },
    {
     "name": "stderr",
     "output_type": "stream",
     "text": [
      "pybullet build time: May  8 2021 05:48:13\n"
     ]
    },
    {
     "name": "stdout",
     "output_type": "stream",
     "text": [
      "[rosout] some functions are not yet compiled. Expect delays upon first call\n"
     ]
    }
   ],
   "source": [
    "import numpy as np\n",
    "import spatialmath as sm\n",
    "import quaternion\n",
    "import rospy\n",
    "# set printing and plotting options\n",
    "np.set_printoptions(precision=5, suppress=True)\n",
    "rospy.init_node('Moving')\n",
    "import hrr_cobot_robot as hrr_rob\n",
    "cobot = hrr_rob.HrrCobotControl.from_ros(\"/hrr_cobot\")"
   ]
  },
  {
   "cell_type": "code",
   "execution_count": null,
   "id": "b10bfb55",
   "metadata": {},
   "outputs": [],
   "source": [
    "np.set_printoptions(precision=5, suppress=True)"
   ]
  },
  {
   "cell_type": "code",
   "execution_count": null,
   "id": "33233fc4",
   "metadata": {},
   "outputs": [],
   "source": [
    "#cobot.change_tool(\"shaftgrinder\")\n",
    "#cobot.change_tool(\"screwdriver\")\n",
    "cobot.change_tool(\"vacuum\")\n",
    "#All other tools x and y are same as end of robot arm\n",
    "#cobot.change_tool(\"nothing\")"
   ]
  },
  {
   "cell_type": "code",
   "execution_count": null,
   "id": "f2519fb4",
   "metadata": {},
   "outputs": [],
   "source": [
    "cobot.change_tool(\"vacuum\")"
   ]
  },
  {
   "cell_type": "code",
   "execution_count": null,
   "id": "b0e8425a",
   "metadata": {},
   "outputs": [],
   "source": [
    "cobot.tool"
   ]
  },
  {
   "cell_type": "code",
   "execution_count": null,
   "id": "715eb472",
   "metadata": {},
   "outputs": [],
   "source": [
    "#Position of end effector (end of robot arm)\n",
    "cobot.T_B_E_robot, cobot.T_B_E_robot.t"
   ]
  },
  {
   "cell_type": "code",
   "execution_count": null,
   "id": "e24fee67",
   "metadata": {},
   "outputs": [],
   "source": [
    "#Position of tip\n",
    "cobot.T_B_C_robot, cobot.T_B_C_robot.t"
   ]
  },
  {
   "cell_type": "code",
   "execution_count": null,
   "id": "b33fcaee",
   "metadata": {},
   "outputs": [],
   "source": [
    "cobot.open_tool_changer()"
   ]
  },
  {
   "cell_type": "code",
   "execution_count": null,
   "id": "7144778d",
   "metadata": {},
   "outputs": [],
   "source": [
    "cobot.close_tool_changer()"
   ]
  },
  {
   "cell_type": "markdown",
   "id": "contained-breeding",
   "metadata": {},
   "source": [
    "### Move in cartesian base frame x y z"
   ]
  },
  {
   "cell_type": "code",
   "execution_count": null,
   "id": "0f3c88b1",
   "metadata": {},
   "outputs": [],
   "source": [
    "cobot.T_B_E_robot"
   ]
  },
  {
   "cell_type": "code",
   "execution_count": null,
   "id": "b1bc72d6",
   "metadata": {},
   "outputs": [],
   "source": [
    "cobot.T_B_E_robot"
   ]
  },
  {
   "cell_type": "code",
   "execution_count": 2,
   "id": "0402b017",
   "metadata": {},
   "outputs": [],
   "source": [
    "cartesian_difference = np.r_[-0, -0.1, 0.0]"
   ]
  },
  {
   "cell_type": "code",
   "execution_count": 3,
   "id": "occupational-woman",
   "metadata": {},
   "outputs": [],
   "source": [
    "cobot.goTo(sm.SE3(cartesian_difference)@cobot.T_B_E_robot,v_max=0.03)"
   ]
  },
  {
   "cell_type": "code",
   "execution_count": null,
   "id": "e508b19b",
   "metadata": {},
   "outputs": [],
   "source": [
    "cobot.goTo(sm.SE3(cartesian_difference)@cobot.T_B_E_robot,v_max=0.12)\n",
    "cobot.goTo(sm.SE3(-cartesian_difference)@cobot.T_B_E_robot,v_max=0.12)"
   ]
  },
  {
   "cell_type": "markdown",
   "id": "integrated-universe",
   "metadata": {},
   "source": [
    "### Move forward or backwards with end effector"
   ]
  },
  {
   "cell_type": "code",
   "execution_count": null,
   "id": "international-chemical",
   "metadata": {},
   "outputs": [],
   "source": [
    "distance = 0.05 #Positive means we move forward, negative means we move backward, both in EE frame"
   ]
  },
  {
   "cell_type": "code",
   "execution_count": null,
   "id": "elegant-poker",
   "metadata": {},
   "outputs": [],
   "source": [
    "cobot.goTo(cobot.T_B_E_robot@sm.SE3([0,0,distance]))"
   ]
  },
  {
   "cell_type": "markdown",
   "id": "breeding-saint",
   "metadata": {},
   "source": [
    "### Move to calibration pose orientation but with desired joint 1 angle"
   ]
  },
  {
   "cell_type": "code",
   "execution_count": null,
   "id": "variable-yemen",
   "metadata": {},
   "outputs": [],
   "source": [
    "joint_1_angle_deg =0 #in degrees"
   ]
  },
  {
   "cell_type": "code",
   "execution_count": null,
   "id": "swedish-narrow",
   "metadata": {},
   "outputs": [],
   "source": [
    "qdes = np.r_[np.deg2rad(joint_1_angle_deg), 0., -np.pi / 2.0, 0., np.pi / 2.0, np.pi / 2.0]\n",
    "cobot.move_to_joint_pose(qdes, stochastic = False)"
   ]
  },
  {
   "cell_type": "markdown",
   "id": "ec626cef",
   "metadata": {},
   "source": [
    "### Move to calibration pose "
   ]
  },
  {
   "cell_type": "code",
   "execution_count": 4,
   "id": "484bba5e",
   "metadata": {},
   "outputs": [],
   "source": [
    "q_neutral = np.r_[1.34109, 0.09328, -1.44435, -0.01627, 0.67686, -0.00009]\n",
    "cobot.move_to_joint_pose(q_neutral, stochastic=False)"
   ]
  },
  {
   "cell_type": "code",
   "execution_count": null,
   "id": "ea63c6cd",
   "metadata": {},
   "outputs": [],
   "source": [
    "cobot.move_to_joint_pose(cobot.q_calib, stochastic=False)"
   ]
  },
  {
   "cell_type": "code",
   "execution_count": null,
   "id": "7414cc23",
   "metadata": {},
   "outputs": [],
   "source": [
    "cobot.change_tool(\"nothing\")"
   ]
  },
  {
   "cell_type": "code",
   "execution_count": null,
   "id": "66baeed0",
   "metadata": {},
   "outputs": [],
   "source": [
    "cobot.move_to_joint_pose(np.r_[0, 0, -1.5708, 0., 1.5708, 1.5708], stochastic=False)"
   ]
  },
  {
   "cell_type": "code",
   "execution_count": null,
   "id": "afdd0746",
   "metadata": {},
   "outputs": [],
   "source": [
    "cobot.FT.reset_bias() "
   ]
  },
  {
   "cell_type": "code",
   "execution_count": null,
   "id": "971d6e30",
   "metadata": {},
   "outputs": [],
   "source": [
    "cobot.B_F_msr #if these values go positive x"
   ]
  },
  {
   "cell_type": "code",
   "execution_count": null,
   "id": "d47488d4",
   "metadata": {},
   "outputs": [],
   "source": [
    "cobot.B_F_msr #if these values go negative x"
   ]
  },
  {
   "cell_type": "code",
   "execution_count": null,
   "id": "6803ad89",
   "metadata": {},
   "outputs": [],
   "source": [
    "cobot.B_F_msr #perfect"
   ]
  },
  {
   "cell_type": "code",
   "execution_count": null,
   "id": "ce6bf3cb",
   "metadata": {},
   "outputs": [],
   "source": [
    "cobot.change_tool(\"wsg_50_dsa\")"
   ]
  },
  {
   "cell_type": "markdown",
   "id": "16ae8d4d",
   "metadata": {},
   "source": [
    "### Tilting"
   ]
  },
  {
   "cell_type": "code",
   "execution_count": null,
   "id": "ca71da39",
   "metadata": {},
   "outputs": [],
   "source": [
    "v_test = np.zeros(6)\n",
    "for t in range(300):\n",
    "    v_test[5] = 2e-2\n",
    "    cobot.update(u_cmd=v_test, u_cmd_frame=\"hrr_cobot.screwdriver_tip\", sleep=True)\n",
    "cobot.stop()"
   ]
  },
  {
   "cell_type": "code",
   "execution_count": null,
   "id": "5d1b9862",
   "metadata": {},
   "outputs": [],
   "source": [
    "cobot.init_sns_vel()\n",
    "t0 = rospy.get_time()\n",
    "while rospy.get_time()-t0<1:\n",
    "    cobot.update(u_cmd=np.r_[0,0,0,0.3,0,0], u_cmd_frame=\"hrr_cobot.ee_link\",sleep=True)\n",
    "cobot.stop()"
   ]
  },
  {
   "cell_type": "code",
   "execution_count": null,
   "id": "6fe0c421",
   "metadata": {},
   "outputs": [],
   "source": [
    "cobot.goTo(sm.SE3([0, 0, 0.1]) @ cobot.T_B_E_robot, v_max=0.05)\n",
    "cobot.init_sns_vel()\n",
    "t0 = rospy.get_time()\n",
    "while rospy.get_time()-t0<1:\n",
    "    cobot.update(u_cmd=np.r_[0,0,0,0.3,0,0], u_cmd_frame=\"hrr_cobot.ee_link\",sleep=True)\n",
    "cobot.stop()\n",
    "cobot.goTo(sm.SE3([0, 0.107, 0.0]) @ cobot.T_B_E_robot, v_max=0.05)"
   ]
  },
  {
   "cell_type": "code",
   "execution_count": null,
   "id": "36c35ddb",
   "metadata": {},
   "outputs": [],
   "source": [
    "cobot.change_tool(\"vacuum\")"
   ]
  },
  {
   "cell_type": "code",
   "execution_count": null,
   "id": "8bceab5f",
   "metadata": {},
   "outputs": [],
   "source": [
    "cobot.tool_controller.vacuum = False"
   ]
  },
  {
   "cell_type": "code",
   "execution_count": null,
   "id": "bb837d29",
   "metadata": {},
   "outputs": [],
   "source": []
  },
  {
   "cell_type": "code",
   "execution_count": null,
   "id": "66d0f1d8",
   "metadata": {},
   "outputs": [],
   "source": [
    "rospy.get_time()-t0"
   ]
  },
  {
   "cell_type": "markdown",
   "id": "c6bce95b",
   "metadata": {},
   "source": [
    "# STOP!!!!"
   ]
  },
  {
   "cell_type": "code",
   "execution_count": null,
   "id": "c5f9d0fb",
   "metadata": {},
   "outputs": [],
   "source": [
    "cobot.emergency_stop()\n",
    "print(cobot.state)\n",
    "cobot.reset()\n",
    "print(cobot.state)"
   ]
  },
  {
   "cell_type": "code",
   "execution_count": null,
   "id": "d204734c",
   "metadata": {},
   "outputs": [],
   "source": [
    "from tqdm.notebook import tqdm, trange"
   ]
  },
  {
   "cell_type": "code",
   "execution_count": null,
   "id": "3c14b625",
   "metadata": {},
   "outputs": [],
   "source": [
    "cobot.change_tool(\"screwdriver\")"
   ]
  },
  {
   "cell_type": "code",
   "execution_count": null,
   "id": "26b35759",
   "metadata": {},
   "outputs": [],
   "source": [
    "for t in range(150):\n",
    "        cobot.update(u_cmd=np.r_[0,0,0,-2e-1,0,0], u_cmd_frame=\"hrr_cobot.ee_link\",sleep=True)"
   ]
  },
  {
   "cell_type": "code",
   "execution_count": null,
   "id": "1d89f366",
   "metadata": {},
   "outputs": [],
   "source": [
    "cobot.T_B_E_robot"
   ]
  },
  {
   "cell_type": "code",
   "execution_count": null,
   "id": "373deca5",
   "metadata": {},
   "outputs": [],
   "source": [
    "cobot.T_B_E_robot"
   ]
  },
  {
   "cell_type": "code",
   "execution_count": null,
   "id": "bab44472",
   "metadata": {},
   "outputs": [],
   "source": [
    "cobot.init_sns_vel()\n",
    "for t in range(150):\n",
    "        cobot.update(u_cmd=np.r_[0,0,0,-2e-1,0,0], u_cmd_frame=\"hrr_cobot.ee_link\",sleep=True)\n",
    "cobot.stop()"
   ]
  },
  {
   "cell_type": "markdown",
   "id": "f3a06daa",
   "metadata": {},
   "source": [
    "# Testing FT with Compliant Mode"
   ]
  },
  {
   "cell_type": "code",
   "execution_count": null,
   "id": "dd5c65b4",
   "metadata": {},
   "outputs": [],
   "source": [
    "cobot.set_compliant(np.r_[1, 1, np.zeros(3), 1], use_py_vel=True)"
   ]
  },
  {
   "cell_type": "code",
   "execution_count": null,
   "id": "507e643b",
   "metadata": {},
   "outputs": [],
   "source": [
    "cobot.set_py_hybrid_force_vel_command(B_F_des=np.r_[0.0, 0.0, -5, np.zeros(3)], \n",
    "                                          K_f=8e-4, K_t=5e-3, scale_pos=0.0, scale_rot=0.0, \n",
    "                                      wrench_dir=np.r_[1.0, 1.0, 1.0, np.ones(3)],\n",
    "                                      vel_dir=np.zeros(6))"
   ]
  },
  {
   "cell_type": "code",
   "execution_count": null,
   "id": "ce585a5d",
   "metadata": {},
   "outputs": [],
   "source": [
    "print(cobot)"
   ]
  },
  {
   "cell_type": "code",
   "execution_count": null,
   "id": "a326a660",
   "metadata": {},
   "outputs": [],
   "source": [
    " # commented for safety reasons -> outcomment for testing\n",
    "#rospy.sleep(5.0)\n",
    "T = int(10* cobot.hz)\n",
    "for t in range(T):\n",
    "    cobot.update()"
   ]
  },
  {
   "cell_type": "code",
   "execution_count": null,
   "id": "de419dff",
   "metadata": {},
   "outputs": [],
   "source": [
    "cobot.B_F_ext"
   ]
  },
  {
   "cell_type": "code",
   "execution_count": null,
   "id": "82cbe94a",
   "metadata": {},
   "outputs": [],
   "source": [
    "#Check if force values are not crazily high (above 40 or 50)\n",
    "cobot.B_F_msr #gives back force in x y z and torque around x y z axis"
   ]
  },
  {
   "cell_type": "code",
   "execution_count": null,
   "id": "823e5e23",
   "metadata": {},
   "outputs": [],
   "source": [
    "cobot.FT.reset_bias()"
   ]
  },
  {
   "cell_type": "markdown",
   "id": "09f21c42",
   "metadata": {},
   "source": [
    "# Testing"
   ]
  },
  {
   "cell_type": "code",
   "execution_count": null,
   "id": "047eaec5",
   "metadata": {},
   "outputs": [],
   "source": [
    "import numpy as np\n",
    "import spatialmath as sm"
   ]
  },
  {
   "cell_type": "code",
   "execution_count": null,
   "id": "14407914",
   "metadata": {},
   "outputs": [],
   "source": [
    "fixed_pose = sm.SE3()\n",
    "fixed_pose_straight = sm.SE3()\n",
    "fixed_pose_straight.A[:4, :4] = [[0.81119, 0.00089, 0.58478, 0.58263],\n",
    "                                 [-0.58245, -0.08804, 0.80809, -0.23876],\n",
    "                                 [0.0522, -0.99612, -0.0709, 0.50576],\n",
    "                                 [0., 0., 0., 1.]]"
   ]
  },
  {
   "cell_type": "code",
   "execution_count": null,
   "id": "0cc169dc",
   "metadata": {},
   "outputs": [],
   "source": [
    "fixed_pose_straight.R, (sm.SE3(0.1 * np.r_[1/8, 1/3, 1/2]) @ fixed_pose_straight).R"
   ]
  },
  {
   "cell_type": "code",
   "execution_count": null,
   "id": "19bd3deb",
   "metadata": {},
   "outputs": [],
   "source": [
    "cobot.stochastic_move_to_pose(fixed_pose_straight)"
   ]
  },
  {
   "cell_type": "markdown",
   "id": "10c3ff05",
   "metadata": {},
   "source": [
    "# Open and close tool changer"
   ]
  },
  {
   "cell_type": "code",
   "execution_count": null,
   "id": "29bcbb52",
   "metadata": {},
   "outputs": [],
   "source": [
    "cobot.open_tool_changer()"
   ]
  },
  {
   "cell_type": "code",
   "execution_count": null,
   "id": "b6cd9d95",
   "metadata": {},
   "outputs": [],
   "source": [
    "cobot.close_tool_changer()"
   ]
  },
  {
   "cell_type": "markdown",
   "id": "db3986a0",
   "metadata": {},
   "source": [
    "## Neutral pose and old Calibration pose"
   ]
  },
  {
   "cell_type": "code",
   "execution_count": null,
   "id": "f00306f6",
   "metadata": {},
   "outputs": [],
   "source": [
    "cobot.tool"
   ]
  },
  {
   "cell_type": "code",
   "execution_count": null,
   "id": "e5dd625c",
   "metadata": {},
   "outputs": [],
   "source": [
    "cobot.change_tool(\"wsg_50_dsa\")"
   ]
  },
  {
   "cell_type": "code",
   "execution_count": null,
   "id": "dc94f753",
   "metadata": {},
   "outputs": [],
   "source": [
    "q_neutral = np.r_[1.34109, 0.09328, -1.44435, -0.01627, 0.67686, -0.00009]"
   ]
  },
  {
   "cell_type": "code",
   "execution_count": null,
   "id": "5a33a2d4",
   "metadata": {
    "scrolled": true
   },
   "outputs": [],
   "source": [
    "cobot.move_to_joint_pose(q_neutral, stochastic=False)"
   ]
  },
  {
   "cell_type": "code",
   "execution_count": null,
   "id": "e5ad96ce",
   "metadata": {},
   "outputs": [],
   "source": [
    "cobot.goTo(cobot.FK(q_neutral), v_max=0.02)"
   ]
  },
  {
   "cell_type": "code",
   "execution_count": null,
   "id": "d3c1e502",
   "metadata": {},
   "outputs": [],
   "source": [
    "cobot.move_to_joint_pose(cobot.q_calib, stochastic=False)"
   ]
  },
  {
   "cell_type": "code",
   "execution_count": null,
   "id": "31b01d83",
   "metadata": {},
   "outputs": [],
   "source": [
    "q_des = np.array([-np.deg2rad(0), 0, -1.5708, 0., 1.5708, 1.5708])\n"
   ]
  },
  {
   "cell_type": "markdown",
   "id": "36a1ef28",
   "metadata": {},
   "source": [
    "### Elamp cutting orientation"
   ]
  },
  {
   "cell_type": "code",
   "execution_count": null,
   "id": "6fab165b",
   "metadata": {},
   "outputs": [],
   "source": [
    "cobot.move_to_joint_pose(\n",
    "    np.r_[0.2612346411, 0.250723213, -2.4299004078, -0.2601425946, -1.1549400091, 1.7408881187], stochastic= False)"
   ]
  },
  {
   "cell_type": "markdown",
   "id": "61a4b81e",
   "metadata": {},
   "source": [
    "# Poses for unscrewing"
   ]
  },
  {
   "cell_type": "code",
   "execution_count": null,
   "id": "ae5c6d7e",
   "metadata": {},
   "outputs": [],
   "source": [
    "cobot.change_tool(\"shaftgrinder\")"
   ]
  },
  {
   "cell_type": "code",
   "execution_count": null,
   "id": "d2062f46",
   "metadata": {},
   "outputs": [],
   "source": [
    "cobot.tool"
   ]
  },
  {
   "cell_type": "code",
   "execution_count": null,
   "id": "7e2b584c",
   "metadata": {},
   "outputs": [],
   "source": [
    "cobot.T_B_C_robot.t"
   ]
  },
  {
   "cell_type": "code",
   "execution_count": null,
   "id": "5517ad1d",
   "metadata": {},
   "outputs": [],
   "source": [
    "#Proposal for flat panel display if y>0\n",
    "beginning_pose1 = np.r_[-0.79806,  0.61373, -1.84638, -1.53851, -1.56184,  2.24939]"
   ]
  },
  {
   "cell_type": "code",
   "execution_count": null,
   "id": "aff8e3b9",
   "metadata": {},
   "outputs": [],
   "source": [
    "#Proposal for flat panel display if y<0\n",
    "beginning_pose2 = np.r_[ 0.8735 ,  0.55755, -1.96375,  1.63136, -1.63044,  0.94922]"
   ]
  },
  {
   "cell_type": "code",
   "execution_count": null,
   "id": "c3c313a1",
   "metadata": {},
   "outputs": [],
   "source": [
    "cobot.move_to_joint_pose(beginning_pose2, stochastic=False)"
   ]
  },
  {
   "cell_type": "code",
   "execution_count": null,
   "id": "22efa1fd",
   "metadata": {},
   "outputs": [],
   "source": [
    "#New pose for microwave that is higher\n",
    "beginning_pose3 = np.r_[ 0.86289,  0.54018, -1.66603,  1.60357, -1.63773,  0.63349]"
   ]
  },
  {
   "cell_type": "code",
   "execution_count": null,
   "id": "273f7b95",
   "metadata": {},
   "outputs": [],
   "source": [
    "#Microwave tilted\n",
    "beginning_pose = np.r_[ 0.72449,  0.59531, -1.42626,  1.4668 , -1.53804,  0.40122]"
   ]
  },
  {
   "cell_type": "markdown",
   "id": "bfda89f0",
   "metadata": {},
   "source": [
    "# Test normal vector stuff\n",
    "This is how your orient the screwdriver use the vision normal, while keeping rest the same as much as possible. Test a bit more, then it can be implemented into unscrewing skill"
   ]
  },
  {
   "cell_type": "code",
   "execution_count": null,
   "id": "99a0e378",
   "metadata": {},
   "outputs": [],
   "source": [
    "cobot.change_tool(\"screwdriver\")"
   ]
  },
  {
   "cell_type": "code",
   "execution_count": null,
   "id": "8fb21e9f",
   "metadata": {},
   "outputs": [],
   "source": [
    "start = sm.SE3()\n",
    "start.A[:4,:4] = [[0.7042,    0.007712,  0.71,      0.494],     \n",
    "  [-0.71,      0.01122,   0.7041,   -0.03627],   \n",
    "  [-0.002539, -0.9999,    0.01338,   0.4907],    \n",
    "   [0         ,0         ,0         ,1]]  \n",
    "cobot.goTo(start)"
   ]
  },
  {
   "cell_type": "code",
   "execution_count": null,
   "id": "ee664222",
   "metadata": {},
   "outputs": [],
   "source": [
    "normal = np.r_[-0.13, -0.13, 0.98]\n",
    "normal = normal/np.linalg.norm(normal)\n",
    "T_des = sm.SE3(cobot.T_B_E_robot.t)\n",
    "T_des.A[:3, :3] = sm.base.oa2r(np.r_[0,0,1], -normal)\n",
    "T_des = T_des @ cobot.T_E_C_robot.inv()\n",
    "T_des"
   ]
  },
  {
   "cell_type": "code",
   "execution_count": null,
   "id": "6002e727",
   "metadata": {},
   "outputs": [],
   "source": [
    "#This where tip would be\n",
    "(T_des @ cobot.T_E_C_robot).t\n"
   ]
  },
  {
   "cell_type": "code",
   "execution_count": null,
   "id": "9be06c32",
   "metadata": {},
   "outputs": [],
   "source": [
    "#We want tip at\n",
    "cobot.T_B_C_robot.t"
   ]
  },
  {
   "cell_type": "code",
   "execution_count": null,
   "id": "02131031",
   "metadata": {},
   "outputs": [],
   "source": [
    "#So the difference is\n",
    "difference = cobot.T_B_C_robot.t - (T_des @ cobot.T_E_C_robot).t\n",
    "difference"
   ]
  },
  {
   "cell_type": "code",
   "execution_count": null,
   "id": "920e0803",
   "metadata": {},
   "outputs": [],
   "source": [
    "#So we need to translate the correctly oriented pose by the difference\n",
    "T_des_correct = sm.SE3(difference) @ T_des\n",
    "T_des_correct, T_des_correct @ cobot.T_E_C_robot"
   ]
  },
  {
   "cell_type": "code",
   "execution_count": null,
   "id": "dea562df",
   "metadata": {},
   "outputs": [],
   "source": [
    "cobot.goTo(T_des_correct)"
   ]
  },
  {
   "cell_type": "markdown",
   "id": "ade5ff67",
   "metadata": {},
   "source": [
    "# Test force sensor shit"
   ]
  },
  {
   "cell_type": "code",
   "execution_count": null,
   "id": "a5c54ab6",
   "metadata": {},
   "outputs": [],
   "source": [
    "def _quat_rotate_vec(q1, v):\n",
    "    return (q1 * np.quaternion(0, *v) * q1.conjugate()).vec"
   ]
  },
  {
   "cell_type": "code",
   "execution_count": null,
   "id": "5d689c53",
   "metadata": {},
   "outputs": [],
   "source": [
    "cobot.FT_F, cobot.B_F_msr"
   ]
  },
  {
   "cell_type": "code",
   "execution_count": null,
   "id": "5c6f92e9",
   "metadata": {},
   "outputs": [],
   "source": [
    "bfmsr = np.r_[_quat_rotate_vec(cobot.sns_quat, cobot.R_FT_E.T @ cobot.FT_F[0:3]),\n",
    "             _quat_rotate_vec(cobot.sns_quat, cobot.R_FT_E.T @ cobot.FT_F[3:6])]\n",
    "bfmsr"
   ]
  },
  {
   "cell_type": "code",
   "execution_count": null,
   "id": "b1fda325",
   "metadata": {},
   "outputs": [],
   "source": [
    "cobot.sns_quat"
   ]
  },
  {
   "cell_type": "code",
   "execution_count": null,
   "id": "f8477cdf",
   "metadata": {},
   "outputs": [],
   "source": [
    "cobot.T_B_E_robot.R @ cobot.FT_F[0:3]"
   ]
  },
  {
   "cell_type": "markdown",
   "id": "18b2b8c6",
   "metadata": {},
   "source": [
    "# whatever testing"
   ]
  },
  {
   "cell_type": "code",
   "execution_count": null,
   "id": "c3f075f6",
   "metadata": {},
   "outputs": [],
   "source": [
    "cobot.tool"
   ]
  },
  {
   "cell_type": "code",
   "execution_count": null,
   "id": "191de271",
   "metadata": {},
   "outputs": [],
   "source": [
    "cobot.T_B_C_robot"
   ]
  },
  {
   "cell_type": "code",
   "execution_count": null,
   "id": "f585f0ea",
   "metadata": {},
   "outputs": [],
   "source": [
    "cobot.T_B_C_robot"
   ]
  },
  {
   "cell_type": "code",
   "execution_count": null,
   "id": "3d71567d",
   "metadata": {},
   "outputs": [],
   "source": [
    "cobot.change_tool(\"shaftgrinder\")"
   ]
  },
  {
   "cell_type": "code",
   "execution_count": null,
   "id": "b09acd45",
   "metadata": {},
   "outputs": [],
   "source": [
    "cobot.move_to_joint_pose(np.r_[ 0.55734, 0.11429, -1.78829, 0.6457, -0.42092, 0.969], stochastic=False)"
   ]
  },
  {
   "cell_type": "markdown",
   "id": "443ba409",
   "metadata": {},
   "source": [
    "# Vacuum grasping"
   ]
  },
  {
   "cell_type": "code",
   "execution_count": null,
   "id": "f48a836a",
   "metadata": {},
   "outputs": [],
   "source": [
    "cobot.T_B_E_robot.t"
   ]
  },
  {
   "cell_type": "code",
   "execution_count": null,
   "id": "9ee771ce",
   "metadata": {},
   "outputs": [],
   "source": [
    "object_center_t = np.r_[0.65,  0.,  0.1]"
   ]
  },
  {
   "cell_type": "code",
   "execution_count": null,
   "id": "27e8bffc",
   "metadata": {},
   "outputs": [],
   "source": [
    "cobot.move_to_joint_pose(cobot.q_calib, stochastic = False)"
   ]
  },
  {
   "cell_type": "code",
   "execution_count": null,
   "id": "c37aa0c6",
   "metadata": {},
   "outputs": [],
   "source": [
    "from comau_msgs.srv import SetIO, SetIORequest\n",
    "srv = rospy.ServiceProxy(\"/hrr_cobot/set_digital_io\", SetIO)\n",
    "srv(SetIORequest(pin=300, state=True))                    "
   ]
  },
  {
   "cell_type": "code",
   "execution_count": null,
   "id": "a52eed9e",
   "metadata": {},
   "outputs": [],
   "source": []
  },
  {
   "cell_type": "code",
   "execution_count": null,
   "id": "3b2b535a",
   "metadata": {},
   "outputs": [],
   "source": [
    "srv(SetIORequest(pin=300, state=False))"
   ]
  },
  {
   "cell_type": "code",
   "execution_count": null,
   "id": "139a15f1",
   "metadata": {},
   "outputs": [],
   "source": [
    "cobot.open_tool_changer()"
   ]
  },
  {
   "cell_type": "code",
   "execution_count": null,
   "id": "22918514",
   "metadata": {},
   "outputs": [],
   "source": [
    "cobot.close_tool_changer()"
   ]
  },
  {
   "cell_type": "code",
   "execution_count": null,
   "id": "383d2c52",
   "metadata": {},
   "outputs": [],
   "source": [
    "cobot.change_tool(\"shaftgrinder\")"
   ]
  },
  {
   "cell_type": "code",
   "execution_count": null,
   "id": "0a43fc68",
   "metadata": {},
   "outputs": [],
   "source": [
    "cobot.q"
   ]
  },
  {
   "cell_type": "code",
   "execution_count": null,
   "id": "91a6ca2f",
   "metadata": {},
   "outputs": [],
   "source": [
    "cobot.T_B_E_robot.t - ee2tip"
   ]
  },
  {
   "cell_type": "code",
   "execution_count": null,
   "id": "3a1a54bc",
   "metadata": {},
   "outputs": [],
   "source": [
    "grasp_mode = 0\n",
    "\n",
    "ee2tip = np.r_[0, 0, 0.20018]\n",
    "if grasp_mode == -1:\n",
    "    ee2tip += np.r_[0, -0.053, 0]\n",
    "elif grasp_mode == 1:\n",
    "    ee2tip += np.r_[0, 0.053, 0]"
   ]
  },
  {
   "cell_type": "code",
   "execution_count": null,
   "id": "4663f716",
   "metadata": {},
   "outputs": [],
   "source": [
    "q_des = np.array([-np.deg2rad(0), 0, -1.5708, 0., 1.5708, 1.5708])\n",
    "R_des = cobot.FK(q_des).R\n",
    "\n",
    "grasp_pose = sm.SE3(object_center_t + ee2tip)\n",
    "grasp_pose.A[0:3, 0:3] = R_des\n",
    "grasp_pose"
   ]
  },
  {
   "cell_type": "code",
   "execution_count": null,
   "id": "bb1a3772",
   "metadata": {},
   "outputs": [],
   "source": [
    "q_des = np.array([-np.deg2rad(90), 0, -1.5708, 0., 1.5708, 1.5708])"
   ]
  },
  {
   "cell_type": "code",
   "execution_count": null,
   "id": "cab5838c",
   "metadata": {},
   "outputs": [],
   "source": [
    "safety_dist = 0.05\n",
    "below_dist = -0.05\n",
    "pre_pose = grasp_pose @ sm.SE3([0, 0, -safety_dist])\n",
    "below_pose = grasp_pose @ sm.SE3([0, 0, -below_dist])"
   ]
  },
  {
   "cell_type": "code",
   "execution_count": null,
   "id": "5a5e788c",
   "metadata": {},
   "outputs": [],
   "source": [
    "cobot.tool_controller.vacuum = False"
   ]
  },
  {
   "cell_type": "code",
   "execution_count": null,
   "id": "32bef58b",
   "metadata": {},
   "outputs": [],
   "source": [
    "cobot.move_to_pose(below_pose, v_max=0.01)\n",
    "F0 = np.copy(cobot.B_F_msr[0:3])\n",
    "for t in range(int(100 * cobot.hz)):\n",
    "    if cobot.state is None:\n",
    "        print(\"done\")\n",
    "        break\n",
    "    elif cobot.state == \"error\":\n",
    "        print(\"error\")\n",
    "        break\n",
    "    if ((cobot.B_F_msr[:3] - F0) - cobot.FT.noise[:3]).T @ np.r_[0,0,1] >= 10:\n",
    "        print(\"contact\")\n",
    "        cobot.tool_controller.vacuum = True\n",
    "        # Enable vacuum\n",
    "        rospy.sleep(0.5)\n",
    "        break\n",
    "    cobot.update()\n"
   ]
  },
  {
   "cell_type": "code",
   "execution_count": null,
   "id": "7a5a677c",
   "metadata": {},
   "outputs": [],
   "source": [
    "cobot.goTo(pre_pose, v_max=0.05) "
   ]
  },
  {
   "cell_type": "code",
   "execution_count": null,
   "id": "ac5bbfc6",
   "metadata": {},
   "outputs": [],
   "source": [
    "cobot.change_tool(\"vacuum\")"
   ]
  },
  {
   "cell_type": "code",
   "execution_count": null,
   "id": "46e3bb0c",
   "metadata": {},
   "outputs": [],
   "source": [
    "cobot.tool_controller.vacuum = False"
   ]
  },
  {
   "cell_type": "code",
   "execution_count": null,
   "id": "4ea27eaa",
   "metadata": {},
   "outputs": [],
   "source": [
    "cobot.tool_controller.vacuum = True"
   ]
  },
  {
   "cell_type": "code",
   "execution_count": null,
   "id": "ca69b6cb",
   "metadata": {},
   "outputs": [],
   "source": [
    "cobot.change_tool(\"wsg_50\")"
   ]
  },
  {
   "cell_type": "code",
   "execution_count": null,
   "id": "4585c61c",
   "metadata": {},
   "outputs": [],
   "source": []
  },
  {
   "cell_type": "code",
   "execution_count": null,
   "id": "097c3e96",
   "metadata": {},
   "outputs": [],
   "source": []
  }
 ],
 "metadata": {
  "kernelspec": {
   "display_name": "Python 3 (ipykernel)",
   "language": "python",
   "name": "python3"
  },
  "language_info": {
   "codemirror_mode": {
    "name": "ipython",
    "version": 3
   },
   "file_extension": ".py",
   "mimetype": "text/x-python",
   "name": "python",
   "nbconvert_exporter": "python",
   "pygments_lexer": "ipython3",
   "version": "3.8.12"
  }
 },
 "nbformat": 4,
 "nbformat_minor": 5
}
