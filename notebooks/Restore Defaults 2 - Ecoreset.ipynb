{
 "cells": [
  {
   "cell_type": "code",
   "execution_count": 1,
   "id": "bibliographic-murray",
   "metadata": {},
   "outputs": [],
   "source": [
    "# packages needed for this tutorial\n",
    "import pathlib\n",
    "# math and robotics\n",
    "import numpy as np\n",
    "import spatialmath as sm\n",
    "import quaternion\n",
    "from tqdm.notebook import tqdm, trange\n",
    "\n",
    "# plotting \n",
    "import seaborn as sns\n",
    "import matplotlib as mpl\n",
    "import matplotlib.pylab as plt\n",
    "\n",
    "# simulated robot content and helpers\n",
    "import hrr_common\n",
    "import hrr_cobot_robot\n",
    "\n",
    "# ROS\n",
    "import rospy\n",
    "\n",
    "# set printing and plotting options    \n",
    "np.set_printoptions(precision=5, suppress=True)\n",
    "sns.set_theme('notebook')\n",
    "%matplotlib notebook\n",
    "\n",
    "from hr_recycler_msgs.msg import (\n",
    "    AdaptiveGraspingAction, AdaptiveGraspingGoal,\n",
    "    CuttingAction, CuttingGoal,\n",
    "    ChangeToolAction, ChangeToolGoal,    \n",
    "    FingerGraspAction, FingerGraspGoal,    \n",
    "    PushOpenAction, PushOpenGoal,\n",
    "    VacuumGraspingAction, VacuumGraspingGoal,\n",
    "    UnscrewAction, UnscrewGoal\n",
    ")\n",
    "from hrr_msgs.msg import CalibrateCobotAction, CalibrateCobotGoal\n",
    "from hr_recycler_msgs.msg import CuttingAction, CuttingFeedback, CuttingResult, CuttingGoal, SkillResult, CobotState, MaterialType\n",
    "import actionlib\n",
    "from hr_recycler_msgs.msg import ToolType\n",
    "\n",
    "from hr_recycler_msgs.msg import PlannerAction , PlannerGoal\n",
    "import hrr_common as hrr_cm"
   ]
  },
  {
   "cell_type": "code",
   "execution_count": 2,
   "id": "requested-gasoline",
   "metadata": {},
   "outputs": [],
   "source": [
    "rospy.init_node('Restore_Defaults_2_Notebook')"
   ]
  },
  {
   "cell_type": "code",
   "execution_count": 3,
   "id": "certain-robertson",
   "metadata": {},
   "outputs": [],
   "source": [
    "cobot_ns = hrr_common.ros_utils.fix_prefix(hrr_common.ros_utils.get_param(\"/cobot_ns\"))\n",
    "calibration_action_srv_name = hrr_common.ros_utils.get_param(f\"{cobot_ns}calibration_action_srv_name\")"
   ]
  },
  {
   "cell_type": "code",
   "execution_count": 4,
   "id": "exclusive-theorem",
   "metadata": {},
   "outputs": [],
   "source": [
    "def get_client(action_topic, ActionClass, timeout_secs=2.0):\n",
    "    client = actionlib.SimpleActionClient(action_topic, ActionClass)\n",
    "    client.wait_for_server(timeout=rospy.Duration(timeout_secs))\n",
    "    return client\n",
    "def get_result(cl):\n",
    "    cl.wait_for_result()\n",
    "    return cl.get_result()\n",
    "\n",
    "def cancel(cl):\n",
    "    cl.cancel_all_goals()"
   ]
  },
  {
   "cell_type": "code",
   "execution_count": null,
   "id": "english-spanish",
   "metadata": {},
   "outputs": [],
   "source": [
    "import hrr_cobot_robot as hrr_rob\n",
    "cobot = hrr_rob.HrrCobotControl.from_ros(\"/hrr_cobot\")"
   ]
  },
  {
   "cell_type": "markdown",
   "id": "e936321d",
   "metadata": {},
   "source": [
    "### Open and CLose tool changer / careful"
   ]
  },
  {
   "cell_type": "code",
   "execution_count": null,
   "id": "08fc98e9",
   "metadata": {},
   "outputs": [],
   "source": [
    "cobot.open_tool_changer()"
   ]
  },
  {
   "cell_type": "code",
   "execution_count": null,
   "id": "f7a96fcf",
   "metadata": {},
   "outputs": [],
   "source": [
    "cobot.close_tool_changer()"
   ]
  },
  {
   "cell_type": "markdown",
   "id": "systematic-advisory",
   "metadata": {},
   "source": [
    "## Calibrate - Asssume Skill Server Running"
   ]
  },
  {
   "cell_type": "code",
   "execution_count": 6,
   "id": "fancy-america",
   "metadata": {},
   "outputs": [
    {
     "data": {
      "text/plain": [
       "True"
      ]
     },
     "execution_count": 6,
     "metadata": {},
     "output_type": "execute_result"
    }
   ],
   "source": [
    "cobot.change_tool(\"wsg_50_dsa\")"
   ]
  },
  {
   "cell_type": "code",
   "execution_count": null,
   "id": "immune-registration",
   "metadata": {},
   "outputs": [],
   "source": [
    "cobot.T_B_E_robot, cobot.T_B_C_robot"
   ]
  },
  {
   "cell_type": "code",
   "execution_count": 8,
   "id": "wanted-screening",
   "metadata": {},
   "outputs": [
    {
     "data": {
      "text/plain": [
       "(array([[ 0.70711,  0.70711,  0.     ],\n",
       "        [-0.70711,  0.70711,  0.     ],\n",
       "        [ 0.     ,  0.     ,  1.     ]]),\n",
       " array([[ 0.70711,  0.70711,  0.     ],\n",
       "        [-0.70711,  0.70711,  0.     ],\n",
       "        [ 0.     ,  0.     ,  1.     ]]))"
      ]
     },
     "execution_count": 8,
     "metadata": {},
     "output_type": "execute_result"
    }
   ],
   "source": [
    "cobot.R_FT_E, sm.base.rotz(-45,\"deg\")"
   ]
  },
  {
   "cell_type": "code",
   "execution_count": 12,
   "id": "a9d0053d",
   "metadata": {},
   "outputs": [],
   "source": [
    "q_calib2 = np.r_[1.34109, 0.09328, -1.44435, -0.01627, 1, -0.00009]\n",
    "cobot.move_to_joint_pose(q_calib2, stochastic=False)"
   ]
  },
  {
   "cell_type": "code",
   "execution_count": null,
   "id": "essential-harassment",
   "metadata": {},
   "outputs": [],
   "source": [
    "goal = CalibrateCobotGoal()\n",
    "data_path = pathlib.Path.home() / \"Documents\" / \"skill_recordings\"\n",
    "data_path.mkdir(parents=True, exist_ok=True)\n",
    "tool_name = hrr_common.ros_utils.get_param(f'{cobot_ns}tool_name')\n",
    "if tool_name == '':\n",
    "    tool_name = 'nothing'\n",
    "goal.calibration_file = str(data_path / f\"{tool_name}.pkl\")\n",
    "goal.data_file = str(data_path / f\"{tool_name}_calibration.npy\")\n",
    "goal.recalibrate = True\n",
    "goal.scale_q4 = 0.3\n",
    "goal.scale_q5 = 0.2\n",
    "goal.scale_q6 = 0.3\n",
    "goal.q4_dot_des = 0.2\n",
    "goal.q5_dot_des = 0.2\n",
    "goal.q6_dot_des = 0.2\n",
    "goal.keep_current_pose=True\n",
    "goal"
   ]
  },
  {
   "cell_type": "code",
   "execution_count": null,
   "id": "aggregate-italy",
   "metadata": {},
   "outputs": [],
   "source": [
    "calibrate_client.send_goal(goal)"
   ]
  },
  {
   "cell_type": "code",
   "execution_count": null,
   "id": "violent-header",
   "metadata": {},
   "outputs": [],
   "source": [
    "cancel(calibrate_client)"
   ]
  },
  {
   "cell_type": "code",
   "execution_count": null,
   "id": "serious-colorado",
   "metadata": {},
   "outputs": [],
   "source": [
    "# get client result / feedback\n",
    "get_result(calibrate_client)"
   ]
  },
  {
   "cell_type": "code",
   "execution_count": null,
   "id": "interstate-abortion",
   "metadata": {},
   "outputs": [],
   "source": [
    "# plot results -> copy line to terminal\n",
    "print(f\"please run the following line in a separate terminal:\\nrosrun hrr_cobot_robot plot_ft_calibration -p {goal.calibration_file} {goal.data_file}\")"
   ]
  },
  {
   "cell_type": "code",
   "execution_count": null,
   "id": "interracial-hands",
   "metadata": {},
   "outputs": [],
   "source": [
    "cobot.update()\n",
    "cobot.B_F_msr, cobot.FT_F, cobot.FT.f,cobot.FT.wrench_calib, cobot.FT.wrench, cobot.FT.offset"
   ]
  },
  {
   "cell_type": "code",
   "execution_count": null,
   "id": "9ebab90e",
   "metadata": {},
   "outputs": [],
   "source": [
    "rospy.sleep(5)\n",
    "np.r_[quat_rotate_vec(cobot.sns_quat, rft.T @ cobot.FT_F[0:3]), quat_rotate_vec(cobot.sns_quat, rft.T @ cobot.FT_F[3:6])]"
   ]
  },
  {
   "cell_type": "code",
   "execution_count": null,
   "id": "prime-bicycle",
   "metadata": {},
   "outputs": [],
   "source": [
    "#This is how B_F_msr works:\n",
    "def quat_rotate_vec(q1, v):\n",
    "    return (q1 * np.quaternion(0, *v) * q1.conjugate()).vec\n",
    "np.r_[quat_rotate_vec(cobot.sns_quat, cobot.R_FT_E.T @ cobot.FT_F[0:3]), quat_rotate_vec(cobot.sns_quat, cobot.R_FT_E.T @ cobot.FT_F[3:6])]\n"
   ]
  },
  {
   "cell_type": "code",
   "execution_count": null,
   "id": "f8d3836a",
   "metadata": {},
   "outputs": [],
   "source": [
    "np.r_[quat_rotate_vec(cobot.sns_quat, rft.T @ cobot.FT_F[0:3]), quat_rotate_vec(cobot.sns_quat, rft.T @ cobot.FT_F[3:6])]"
   ]
  },
  {
   "cell_type": "code",
   "execution_count": 20,
   "id": "e5bdb390",
   "metadata": {},
   "outputs": [],
   "source": [
    "cobot.move_to_joint_pose(cobot.q_calib)"
   ]
  },
  {
   "cell_type": "code",
   "execution_count": null,
   "id": "acknowledged-disclaimer",
   "metadata": {},
   "outputs": [],
   "source": [
    "cobot._ft_handle.offset"
   ]
  },
  {
   "cell_type": "markdown",
   "id": "swiss-arrangement",
   "metadata": {},
   "source": [
    "## Compliance"
   ]
  },
  {
   "cell_type": "code",
   "execution_count": null,
   "id": "statewide-vegetarian",
   "metadata": {},
   "outputs": [],
   "source": [
    "cobot.init_sns_vel()"
   ]
  },
  {
   "cell_type": "code",
   "execution_count": null,
   "id": "insured-choice",
   "metadata": {},
   "outputs": [],
   "source": [
    "cobot.reset()\n",
    "cobot.set_py_hybrid_force_vel_command(B_F_des=np.r_[0.0, 0.0, -5, np.zeros(3)], \n",
    "                                          K_f=8e-4, K_t=5e-3, scale_pos=0.0, scale_rot=0.0, \n",
    "                                      wrench_dir=np.r_[1.0, 1.0, 1.0, np.ones(3)],\n",
    "                                      vel_dir=np.zeros(6))"
   ]
  },
  {
   "cell_type": "code",
   "execution_count": null,
   "id": "demographic-delight",
   "metadata": {},
   "outputs": [],
   "source": [
    "T = int(10 * cobot.hz)\n",
    "for t in trange(T):\n",
    "    cobot.update()"
   ]
  },
  {
   "cell_type": "code",
   "execution_count": null,
   "id": "refined-romantic",
   "metadata": {},
   "outputs": [],
   "source": [
    "cobot.emergency_stop()\n",
    "print(cobot.state)\n",
    "cobot.reset()\n",
    "print(cobot.state)"
   ]
  }
 ],
 "metadata": {
  "kernelspec": {
   "display_name": "Python 3 (ipykernel)",
   "language": "python",
   "name": "python3"
  },
  "language_info": {
   "codemirror_mode": {
    "name": "ipython",
    "version": 3
   },
   "file_extension": ".py",
   "mimetype": "text/x-python",
   "name": "python",
   "nbconvert_exporter": "python",
   "pygments_lexer": "ipython3",
   "version": "3.8.12"
  }
 },
 "nbformat": 4,
 "nbformat_minor": 5
}
