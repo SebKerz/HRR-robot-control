{
 "cells": [
  {
   "cell_type": "code",
   "execution_count": 1,
   "id": "bibliographic-murray",
   "metadata": {},
   "outputs": [],
   "source": [
    "# packages needed for this tutorial\n",
    "import pathlib\n",
    "# math and robotics\n",
    "import numpy as np\n",
    "import spatialmath as sm\n",
    "import quaternion\n",
    "from tqdm.notebook import tqdm, trange\n",
    "\n",
    "# plotting \n",
    "import seaborn as sns\n",
    "import matplotlib as mpl\n",
    "import matplotlib.pylab as plt\n",
    "\n",
    "# simulated robot content and helpers\n",
    "import hrr_common\n",
    "import hrr_cobot_robot\n",
    "\n",
    "# ROS\n",
    "import rospy\n",
    "\n",
    "# set printing and plotting options    \n",
    "np.set_printoptions(precision=5, suppress=True)\n",
    "sns.set_theme('notebook')\n",
    "%matplotlib notebook\n",
    "\n",
    "from hr_recycler_msgs.msg import (\n",
    "    AdaptiveGraspingAction, AdaptiveGraspingGoal,\n",
    "    CuttingAction, CuttingGoal,\n",
    "    ChangeToolAction, ChangeToolGoal,    \n",
    "    FingerGraspAction, FingerGraspGoal,    \n",
    "    PushOpenAction, PushOpenGoal,\n",
    "    VacuumGraspingAction, VacuumGraspingGoal,\n",
    "    UnscrewAction, UnscrewGoal\n",
    ")\n",
    "from hrr_msgs.msg import CalibrateCobotAction, CalibrateCobotGoal\n",
    "from hr_recycler_msgs.msg import CuttingAction, CuttingFeedback, CuttingResult, CuttingGoal, SkillResult, CobotState, MaterialType\n",
    "import actionlib\n",
    "from hr_recycler_msgs.msg import ToolType\n",
    "\n",
    "from hr_recycler_msgs.msg import PlannerAction , PlannerGoal\n",
    "import hrr_common as hrr_cm"
   ]
  },
  {
   "cell_type": "code",
   "execution_count": 2,
   "id": "requested-gasoline",
   "metadata": {},
   "outputs": [],
   "source": [
    "rospy.init_node('Restore_Defaults_2_Notebook')"
   ]
  },
  {
   "cell_type": "code",
   "execution_count": 3,
   "id": "certain-robertson",
   "metadata": {},
   "outputs": [],
   "source": [
    "cobot_ns = hrr_common.ros_utils.fix_prefix(hrr_common.ros_utils.get_param(\"/cobot_ns\"))\n",
    "calibration_action_srv_name = hrr_common.ros_utils.get_param(f\"{cobot_ns}calibration_action_srv_name\")"
   ]
  },
  {
   "cell_type": "code",
   "execution_count": 4,
   "id": "exclusive-theorem",
   "metadata": {},
   "outputs": [],
   "source": [
    "def get_client(action_topic, ActionClass, timeout_secs=2.0):\n",
    "    client = actionlib.SimpleActionClient(action_topic, ActionClass)\n",
    "    client.wait_for_server(timeout=rospy.Duration(timeout_secs))\n",
    "    return client\n",
    "def get_result(cl):\n",
    "    cl.wait_for_result()\n",
    "    return cl.get_result()\n",
    "\n",
    "def cancel(cl):\n",
    "    cl.cancel_all_goals()"
   ]
  },
  {
   "cell_type": "code",
   "execution_count": 5,
   "id": "english-spanish",
   "metadata": {},
   "outputs": [
    {
     "name": "stderr",
     "output_type": "stream",
     "text": [
      "pybullet build time: May  8 2021 05:48:13\n"
     ]
    },
    {
     "name": "stdout",
     "output_type": "stream",
     "text": [
      "[rosout] some functions are not yet compiled. Expect delays upon first call\n"
     ]
    }
   ],
   "source": [
    "import hrr_cobot_robot as hrr_rob\n",
    "cobot = hrr_rob.HrrCobotControl.from_ros(\"/hrr_cobot\")"
   ]
  },
  {
   "cell_type": "markdown",
   "id": "e936321d",
   "metadata": {},
   "source": [
    "### Open and CLose tool changer / careful"
   ]
  },
  {
   "cell_type": "code",
   "execution_count": null,
   "id": "08fc98e9",
   "metadata": {},
   "outputs": [],
   "source": [
    "cobot.open_tool_changer()"
   ]
  },
  {
   "cell_type": "code",
   "execution_count": null,
   "id": "f7a96fcf",
   "metadata": {},
   "outputs": [],
   "source": [
    "cobot.close_tool_changer()"
   ]
  },
  {
   "cell_type": "markdown",
   "id": "systematic-advisory",
   "metadata": {},
   "source": [
    "## Calibrate - Asssume Skill Server Running"
   ]
  },
  {
   "cell_type": "code",
   "execution_count": 6,
   "id": "fancy-america",
   "metadata": {},
   "outputs": [
    {
     "data": {
      "text/plain": [
       "True"
      ]
     },
     "execution_count": 6,
     "metadata": {},
     "output_type": "execute_result"
    }
   ],
   "source": [
    "cobot.change_tool(\"wsg_50_dsa\")"
   ]
  },
  {
   "cell_type": "code",
   "execution_count": 7,
   "id": "immune-registration",
   "metadata": {},
   "outputs": [
    {
     "data": {
      "text/plain": [
       "(  \u001b[38;5;1m 0.5742  \u001b[0m \u001b[38;5;1m 0.8145  \u001b[0m \u001b[38;5;1m-0.08267 \u001b[0m \u001b[38;5;4m-0.2307  \u001b[0m  \u001b[0m\n",
       "  \u001b[38;5;1m 0.7679  \u001b[0m \u001b[38;5;1m-0.5708  \u001b[0m \u001b[38;5;1m-0.2908  \u001b[0m \u001b[38;5;4m-0.4015  \u001b[0m  \u001b[0m\n",
       "  \u001b[38;5;1m-0.2841  \u001b[0m \u001b[38;5;1m 0.1035  \u001b[0m \u001b[38;5;1m-0.9532  \u001b[0m \u001b[38;5;4m 0.6978  \u001b[0m  \u001b[0m\n",
       "  \u001b[38;5;244m 0       \u001b[0m \u001b[38;5;244m 0       \u001b[0m \u001b[38;5;244m 0       \u001b[0m \u001b[38;5;244m 1       \u001b[0m  \u001b[0m\n",
       ",\n",
       "   \u001b[38;5;1m 0.8145  \u001b[0m \u001b[38;5;1m-0.5742  \u001b[0m \u001b[38;5;1m-0.08267 \u001b[0m \u001b[38;5;4m-0.251   \u001b[0m  \u001b[0m\n",
       "  \u001b[38;5;1m-0.5708  \u001b[0m \u001b[38;5;1m-0.7679  \u001b[0m \u001b[38;5;1m-0.2908  \u001b[0m \u001b[38;5;4m-0.4726  \u001b[0m  \u001b[0m\n",
       "  \u001b[38;5;1m 0.1035  \u001b[0m \u001b[38;5;1m 0.2841  \u001b[0m \u001b[38;5;1m-0.9532  \u001b[0m \u001b[38;5;4m 0.4648  \u001b[0m  \u001b[0m\n",
       "  \u001b[38;5;244m 0       \u001b[0m \u001b[38;5;244m 0       \u001b[0m \u001b[38;5;244m 0       \u001b[0m \u001b[38;5;244m 1       \u001b[0m  \u001b[0m\n",
       ")"
      ]
     },
     "execution_count": 7,
     "metadata": {},
     "output_type": "execute_result"
    }
   ],
   "source": [
    "cobot.T_B_E_robot, cobot.T_B_C_robot"
   ]
  },
  {
   "cell_type": "code",
   "execution_count": 8,
   "id": "wanted-screening",
   "metadata": {},
   "outputs": [
    {
     "data": {
      "text/plain": [
       "(array([[ 0.70711,  0.70711,  0.     ],\n",
       "        [-0.70711,  0.70711,  0.     ],\n",
       "        [ 0.     ,  0.     ,  1.     ]]),\n",
       " array([[ 0.70711,  0.70711,  0.     ],\n",
       "        [-0.70711,  0.70711,  0.     ],\n",
       "        [ 0.     ,  0.     ,  1.     ]]))"
      ]
     },
     "execution_count": 8,
     "metadata": {},
     "output_type": "execute_result"
    }
   ],
   "source": [
    "cobot.R_FT_E, sm.base.rotz(-45,\"deg\")"
   ]
  },
  {
   "cell_type": "code",
   "execution_count": 9,
   "id": "essential-harassment",
   "metadata": {},
   "outputs": [
    {
     "data": {
      "text/plain": [
       "calibration_file: \"/home/hrr_cobot/Documents/skill_recordings/wsg_50_dsa.pkl\"\n",
       "data_file: \"/home/hrr_cobot/Documents/skill_recordings/wsg_50_dsa_calibration.npy\"\n",
       "q4_dot_des: 0.0\n",
       "q5_dot_des: 0.0\n",
       "q6_dot_des: 0.0\n",
       "scale_q4: 0.5\n",
       "scale_q5: 0.5\n",
       "scale_q6: 0.5\n",
       "recalibrate: True\n",
       "keep_current_pose: False"
      ]
     },
     "execution_count": 9,
     "metadata": {},
     "output_type": "execute_result"
    }
   ],
   "source": [
    "calibrate_client = get_client(calibration_action_srv_name, CalibrateCobotAction)\n",
    "goal = CalibrateCobotGoal()\n",
    "data_path = pathlib.Path.home() / \"Documents\" / \"skill_recordings\"\n",
    "data_path.mkdir(parents=True, exist_ok=True)\n",
    "tool_name = hrr_common.ros_utils.get_param(f'{cobot_ns}tool_name')\n",
    "if tool_name == '':\n",
    "    tool_name = 'nothing'\n",
    "goal.calibration_file = str(data_path / f\"{tool_name}.pkl\")\n",
    "goal.data_file = str(data_path / f\"{tool_name}_calibration.npy\")\n",
    "goal.recalibrate = True\n",
    "goal.scale_q4 = 0.5\n",
    "goal.scale_q5 = 0.5\n",
    "goal.scale_q6 = 0.5\n",
    "goal"
   ]
  },
  {
   "cell_type": "code",
   "execution_count": 10,
   "id": "aggregate-italy",
   "metadata": {},
   "outputs": [],
   "source": [
    "calibrate_client.send_goal(goal)"
   ]
  },
  {
   "cell_type": "code",
   "execution_count": null,
   "id": "violent-header",
   "metadata": {},
   "outputs": [],
   "source": [
    "cancel(calibrate_client)"
   ]
  },
  {
   "cell_type": "code",
   "execution_count": 11,
   "id": "serious-colorado",
   "metadata": {},
   "outputs": [
    {
     "data": {
      "text/plain": [
       "bias: \n",
       "  force: \n",
       "    x: -7.537765011675344\n",
       "    y: 4.791994951485458\n",
       "    z: 2.203252795906889\n",
       "  torque: \n",
       "    x: 0.40590758887249023\n",
       "    y: -1.702375248343177\n",
       "    z: 1.9558878053692894\n",
       "noise: \n",
       "  force: \n",
       "    x: 0.9215505826468647\n",
       "    y: 0.9533822449833155\n",
       "    z: 1.6679959553801051\n",
       "  torque: \n",
       "    x: 1.9003740779044949\n",
       "    y: 1.3035298235350001\n",
       "    z: 0.8082488494724643\n",
       "tool_grav: \n",
       "  x: 1.3930597960040825\n",
       "  y: -2.8496527696528946\n",
       "  z: -24.55593034157012\n",
       "tool_com: \n",
       "  x: 0.11985501739852081\n",
       "  y: 0.043475741983541066\n",
       "  z: 0.9087720695053078\n",
       "calibration_file: ''"
      ]
     },
     "execution_count": 11,
     "metadata": {},
     "output_type": "execute_result"
    }
   ],
   "source": [
    "# get client result / feedback\n",
    "get_result(calibrate_client)"
   ]
  },
  {
   "cell_type": "code",
   "execution_count": 12,
   "id": "interstate-abortion",
   "metadata": {},
   "outputs": [
    {
     "name": "stdout",
     "output_type": "stream",
     "text": [
      "please run the following line in a separate terminal:\n",
      "rosrun hrr_cobot_robot plot_ft_calibration -p /home/hrr_cobot/Documents/skill_recordings/wsg_50_dsa.pkl /home/hrr_cobot/Documents/skill_recordings/wsg_50_dsa_calibration.npy\n"
     ]
    }
   ],
   "source": [
    "# plot results -> copy line to terminal\n",
    "print(f\"please run the following line in a separate terminal:\\nrosrun hrr_cobot_robot plot_ft_calibration -p {goal.calibration_file} {goal.data_file}\")"
   ]
  },
  {
   "cell_type": "code",
   "execution_count": 60,
   "id": "interracial-hands",
   "metadata": {},
   "outputs": [
    {
     "data": {
      "text/plain": [
       "(array([ 13.42217,  -0.44462, -26.8418 ,  -0.36728,  -5.46946,  -0.65326]),\n",
       " array([-9.8053 ,  9.17651, 26.8418 , -3.60779, -4.1272 ,  0.65326]),\n",
       " array([-9.8053 ,  9.17651, 26.8418 ]),\n",
       " array([-9.8053 ,  9.17651, 26.8418 , -3.60779, -4.1272 ,  0.65326]),\n",
       " array([-9.8053 ,  9.17651, 26.8418 , -3.60779, -4.1272 ,  0.65326]),\n",
       " array([0., 0., 0., 0., 0., 0.]))"
      ]
     },
     "execution_count": 60,
     "metadata": {},
     "output_type": "execute_result"
    }
   ],
   "source": [
    "cobot.update()\n",
    "cobot.B_F_msr, cobot.FT_F, cobot.FT.f,cobot.FT.wrench_calib, cobot.FT.wrench, cobot.FT.offset"
   ]
  },
  {
   "cell_type": "code",
   "execution_count": 62,
   "id": "9ebab90e",
   "metadata": {},
   "outputs": [
    {
     "data": {
      "text/plain": [
       "array([ 14.3171 ,  -0.10902, -23.94141,   1.39919,  -6.39305,  -0.50055])"
      ]
     },
     "execution_count": 62,
     "metadata": {},
     "output_type": "execute_result"
    }
   ],
   "source": [
    "rospy.sleep(5)\n",
    "np.r_[quat_rotate_vec(cobot.sns_quat, rft.T @ cobot.FT_F[0:3]), quat_rotate_vec(cobot.sns_quat, rft.T @ cobot.FT_F[3:6])]"
   ]
  },
  {
   "cell_type": "code",
   "execution_count": 59,
   "id": "9ecdd77a",
   "metadata": {},
   "outputs": [
    {
     "data": {
      "text/plain": [
       "array([[ 0.70711,  0.70711,  0.     ],\n",
       "       [-0.70711,  0.70711,  0.     ],\n",
       "       [ 0.     ,  0.     ,  1.     ]])"
      ]
     },
     "execution_count": 59,
     "metadata": {},
     "output_type": "execute_result"
    }
   ],
   "source": [
    "rft = cobot.R_FT_E\n",
    "rft"
   ]
  },
  {
   "cell_type": "code",
   "execution_count": 48,
   "id": "c5703663",
   "metadata": {},
   "outputs": [
    {
     "data": {
      "text/plain": [
       "array([-9.59106,  9.16846, 26.86816])"
      ]
     },
     "execution_count": 48,
     "metadata": {},
     "output_type": "execute_result"
    }
   ],
   "source": [
    "cobot.FT.f"
   ]
  },
  {
   "cell_type": "code",
   "execution_count": 15,
   "id": "prime-bicycle",
   "metadata": {},
   "outputs": [
    {
     "data": {
      "text/plain": [
       "array([ -5.50938,  -8.81588, -23.3037 ,  11.43181,   1.23628,  -2.20266])"
      ]
     },
     "execution_count": 15,
     "metadata": {},
     "output_type": "execute_result"
    }
   ],
   "source": [
    "#This is how B_F_msr works:\n",
    "def quat_rotate_vec(q1, v):\n",
    "    return (q1 * np.quaternion(0, *v) * q1.conjugate()).vec\n",
    "np.r_[quat_rotate_vec(cobot.sns_quat, cobot.R_FT_E.T @ cobot.FT_F[0:3]), quat_rotate_vec(cobot.sns_quat, cobot.R_FT_E.T @ cobot.FT_F[3:6])]\n"
   ]
  },
  {
   "cell_type": "code",
   "execution_count": 41,
   "id": "f8d3836a",
   "metadata": {},
   "outputs": [
    {
     "data": {
      "text/plain": [
       "array([ 13.30538,  -0.30504, -26.9209 ,  -0.37332,  -5.54499,  -0.76355])"
      ]
     },
     "execution_count": 41,
     "metadata": {},
     "output_type": "execute_result"
    }
   ],
   "source": [
    "np.r_[quat_rotate_vec(cobot.sns_quat, rft.T @ cobot.FT_F[0:3]), quat_rotate_vec(cobot.sns_quat, rft.T @ cobot.FT_F[3:6])]"
   ]
  },
  {
   "cell_type": "code",
   "execution_count": 20,
   "id": "e5bdb390",
   "metadata": {},
   "outputs": [],
   "source": [
    "cobot.move_to_joint_pose(cobot.q_calib)"
   ]
  },
  {
   "cell_type": "code",
   "execution_count": null,
   "id": "acknowledged-disclaimer",
   "metadata": {},
   "outputs": [],
   "source": [
    "cobot._ft_handle.offset"
   ]
  },
  {
   "cell_type": "markdown",
   "id": "swiss-arrangement",
   "metadata": {},
   "source": [
    "## Compliance"
   ]
  },
  {
   "cell_type": "code",
   "execution_count": null,
   "id": "statewide-vegetarian",
   "metadata": {},
   "outputs": [],
   "source": [
    "cobot.init_sns_vel()"
   ]
  },
  {
   "cell_type": "code",
   "execution_count": null,
   "id": "insured-choice",
   "metadata": {},
   "outputs": [],
   "source": [
    "cobot.reset()\n",
    "cobot.set_py_hybrid_force_vel_command(B_F_des=np.r_[0.0, 0.0, -5, np.zeros(3)], \n",
    "                                          K_f=8e-4, K_t=5e-3, scale_pos=0.0, scale_rot=0.0, \n",
    "                                      wrench_dir=np.r_[1.0, 1.0, 1.0, np.ones(3)],\n",
    "                                      vel_dir=np.zeros(6))"
   ]
  },
  {
   "cell_type": "code",
   "execution_count": null,
   "id": "demographic-delight",
   "metadata": {},
   "outputs": [],
   "source": [
    "T = int(10 * cobot.hz)\n",
    "for t in trange(T):\n",
    "    cobot.update()"
   ]
  },
  {
   "cell_type": "code",
   "execution_count": null,
   "id": "refined-romantic",
   "metadata": {},
   "outputs": [],
   "source": [
    "cobot.emergency_stop()\n",
    "print(cobot.state)\n",
    "cobot.reset()\n",
    "print(cobot.state)"
   ]
  }
 ],
 "metadata": {
  "kernelspec": {
   "display_name": "Python 3 (ipykernel)",
   "language": "python",
   "name": "python3"
  },
  "language_info": {
   "codemirror_mode": {
    "name": "ipython",
    "version": 3
   },
   "file_extension": ".py",
   "mimetype": "text/x-python",
   "name": "python",
   "nbconvert_exporter": "python",
   "pygments_lexer": "ipython3",
   "version": "3.8.12"
  }
 },
 "nbformat": 4,
 "nbformat_minor": 5
}
