{
 "cells": [
  {
   "cell_type": "markdown",
   "id": "fc73d733",
   "metadata": {},
   "source": [
    "# Vision Integration / Calibration\n",
    "\n",
    "This short notebook should be of help to identify transformation for the robotic tool-chain and vision system in use."
   ]
  },
  {
   "cell_type": "code",
   "execution_count": 1,
   "id": "3ffd589a",
   "metadata": {},
   "outputs": [],
   "source": [
    "# math and robotics\n",
    "import numpy as np\n",
    "import spatialmath as sm\n",
    "from tqdm.notebook import tqdm, trange\n",
    "\n",
    "# plotting \n",
    "import seaborn as sns\n",
    "import matplotlib.pylab as plt\n",
    "\n",
    "# ROS\n",
    "import rospy\n",
    "\n",
    "# hrr-cobot packages\n",
    "import hrr_cobot_robot\n",
    "import hrr_common\n",
    "import hrr_controllers\n",
    "\n",
    "# set printing and plotting options    \n",
    "np.set_printoptions(precision=5, suppress=True)\n",
    "sns.set_theme('notebook')\n",
    "%matplotlib notebook"
   ]
  },
  {
   "cell_type": "code",
   "execution_count": 2,
   "id": "a99941bb",
   "metadata": {},
   "outputs": [
    {
     "name": "stdout",
     "output_type": "stream",
     "text": [
      "current hostname:\thrrcobotLinux54\n",
      "current IP:      \t129.187.147.74\n",
      "ROS-MASTER-URI:  \thttp://hrrcobotLinux54:11311\n"
     ]
    }
   ],
   "source": [
    "hrr_common.utils.set_ros_environment(ros_master = 'hrrcobotLinux54')"
   ]
  },
  {
   "cell_type": "code",
   "execution_count": null,
   "id": "05909a62",
   "metadata": {},
   "outputs": [
    {
     "name": "stdout",
     "output_type": "stream",
     "text": [
      "Unable to register with master node [http://hrrcobotLinux54:11311]: master may not be running yet. Will keep trying.\n"
     ]
    }
   ],
   "source": [
    "rospy.init_node('kinematic_checks')"
   ]
  },
  {
   "cell_type": "markdown",
   "id": "01281f3b",
   "metadata": {},
   "source": [
    "## Prepare handles\n",
    "\n",
    "initialize cobot and assign current tool.\n",
    "Then check the output\n",
    "\n",
    "```python\n",
    "cobot.change_tool(\"shaftgrinder\", robot_urdf_prefix=\"hrr_cobot.\")\n",
    "print(cobot)\n",
    "```\n",
    "\n",
    "to have a non-zero transformation from EE->tool frame\n",
    "\n",
    "```\n",
    "Hrr-Cobot state:\n",
    "FT-data:\n",
    "current force:\t[-0.45813 -0.41504 -0.30762] [N]\n",
    "current torque:\t[0.14484 0.16644 0.06641] [Nm]\n",
    "current wrench:\t[-0.46836 -0.42284 -0.31476  0.1758   0.1569   0.06113] [N,Nm]\n",
    "=>in contact:\tFalse\n",
    "---\n",
    "Robot-data:\n",
    "q:\t\t[ -0.03685   0.01848 -89.98192   0.2006   90.08286   0.07877][°]\n",
    "q_dot:\t\t[0. 0. 0. 0. 0. 0.][rad/s]\n",
    "tau:\t\t[0. 0. 0. 0. 0. 0.][Nm]\n",
    "pos:\t\t[0.43594 0.      0.705  ][m]\n",
    "quat:\t\t-0.00073 <[-0.00101  1.      -0.00176]>\n",
    "tool-pos:\t[0.43594 0.      0.705  ][m]\n",
    "tool-rpy:\t[179.88437  -0.08363 179.79813][°]\n",
    "robot-status:\tready\n",
    "---\n",
    "tool set to shaft_grinder\n",
    "E_p_EC:=[-0.07601 -0.07601  0.1525 ]\n",
    "R_C_E:=[[ 0.70711 -0.70711  0.     ]\n",
    " [ 0.       0.       1.     ]\n",
    " [-0.70711 -0.70711  0.     ]]\n",
    "---\n",
    "```"
   ]
  },
  {
   "cell_type": "code",
   "execution_count": 4,
   "id": "b18fd223",
   "metadata": {},
   "outputs": [
    {
     "name": "stderr",
     "output_type": "stream",
     "text": [
      "pybullet build time: May  8 2021 05:48:13\n"
     ]
    },
    {
     "name": "stdout",
     "output_type": "stream",
     "text": [
      "Mujoco not found on this client. Do not use this file!\n",
      "Mujoco not found on this client. Do not use this file!\n",
      "current implementation does not cope with trees with edge degree over 1. Select first element from: ee_linkconnect_flange_attach_joint, ee_to_tcp \u001b[91m \u001b[0m\n",
      "IK q1 not in cache. Regenerate \u001b[91m \u001b[0m\n"
     ]
    }
   ],
   "source": [
    "cobot = hrr_cobot_robot.HrrCobotControl.from_ros(cobot_prefix=\"/hrr_cobot\")"
   ]
  },
  {
   "cell_type": "code",
   "execution_count": 10,
   "id": "9fd3485c",
   "metadata": {},
   "outputs": [
    {
     "name": "stdout",
     "output_type": "stream",
     "text": [
      "Hrr-Cobot state:\n",
      "FT-data:\n",
      "current force:\t[-26.03705  -0.60596  18.91846] [N]\n",
      "current torque:\t[ -5.21411 -25.28082   0.84668] [Nm]\n",
      "current wrench:\t[  0.33878   0.32129  43.05352 -11.557   -46.68017  -0.73525] [N,Nm]\n",
      "=>in contact:\tTrue\n",
      "---\n",
      "Robot-data:\n",
      "q:\t\t[ 10.25831  15.5371  -91.25151   0.35197  73.15917 -33.10429][°]\n",
      "q_dot:\t\t[0. 0. 0. 0. 0. 0.][rad/s]\n",
      "tau:\t\t[0. 0. 0. 0. 0. 0.][Nm]\n",
      "pos:\t\t[ 0.52451 -0.0954   0.57787][m]\n",
      "quat:\t\t0.00102 <[ 0.36862  0.92958 -0.00278]>\n",
      "tool-pos:\t[ 0.52451 -0.0954   0.57787][m]\n",
      "tool-rpy:\t[-136.73923   -0.00828  179.66092][°]\n",
      "robot-status:\tmoving\n",
      "---\n",
      "tool set to screwdriver\n",
      "E_p_EC:=[0.15839 0.15839 0.1475 ]\n",
      "R_E_C:=[[ 0.      -0.70711  0.70711]\n",
      " [ 0.       0.70711  0.70711]\n",
      " [-1.      -0.       0.     ]]\n",
      "---\n"
     ]
    }
   ],
   "source": [
    "cobot.change_tool(\"screwdriver\", robot_urdf_prefix=\"hrr_cobot.\")\n",
    "print(cobot)"
   ]
  },
  {
   "cell_type": "code",
   "execution_count": 10,
   "id": "4c881610",
   "metadata": {},
   "outputs": [
    {
     "name": "stdout",
     "output_type": "stream",
     "text": [
      "Hrr-Cobot state:\n",
      "FT-data:\n",
      "current force:\t[-0.  0.  0.] [N]\n",
      "current torque:\t[-0.  0.  0.] [Nm]\n",
      "current wrench:\t[0. 0. 0. 0. 0. 0.] [N,Nm]\n",
      "=>in contact:\tFalse\n",
      "---\n",
      "Robot-data:\n",
      "q:\t\t[  21.54497  -10.74382 -109.03665  -76.52963    6.74127   48.00279][°]\n",
      "q_dot:\t\t[ 0.       0.       0.       0.      -0.57962  0.00001][rad/s]\n",
      "tau:\t\t[0. 0. 0. 0. 0. 0.][Nm]\n",
      "pos:\t\t[ 0.42051 -0.15597  0.70865][m]\n",
      "quat:\t\t0.63844 <[0.28867 0.7086  0.08334]>\n",
      "tool-pos:\t[ 0.42046 -0.15619  0.7087 ][m]\n",
      "tool-rpy:\t[-93.05929  72.23092 123.91824][°]\n",
      "robot-status:\tready\n",
      "---\n",
      "tool set to shaft_grinder\n",
      "E_p_EC:=[0.     0.1075 0.1525]\n",
      "R_C_E:=[[-1.  0. -0.]\n",
      " [-0. -0.  1.]\n",
      " [ 0.  1. -0.]]\n",
      "---\n"
     ]
    },
    {
     "name": "stderr",
     "output_type": "stream",
     "text": [
      "[WARN]Inbound TCP/IP connection failed: connection from sender terminated before handshake header received. 0 bytes were received. Please check sender for additional details.\n"
     ]
    }
   ],
   "source": [
    "cobot.change_tool(\"shaftgrinder\", robot_urdf_prefix=\"hrr_cobot.\")\n",
    "print(cobot)"
   ]
  },
  {
   "cell_type": "markdown",
   "id": "1580a194",
   "metadata": {},
   "source": [
    "## Calculate goal poses\n",
    "\n",
    "In the following we refer to variables with ``B_`` as variables in the ``base-frame`` of the robot\n",
    "\n",
    "Below, we can quickly calculate the desired end-effector pose ${}^{B}{\\bf T}_{E}$ for a predefined goal-pose\n",
    "via the ``calc_EE_pre_pose`` command.\n",
    "In here, first the desired goal-pose of the tool-center-point, i.e. screwdriver/shaftgrinder-tip ${}^{B}{\\bf T}_{C}$ is calculated via ``calc_goal_pose``.\n",
    "The goal-pose is then moved in the base-frame along the surface-normal ${}^{B}{\\bf n}$, i.e.\n",
    "\n",
    "$$\n",
    "{}^{B}{\\bf T}_{C, \\mathrm{pre}} = \n",
    "\\begin{bmatrix}\n",
    " {\\bf 0} & d {}^{B}{\\bf n} \\\\\n",
    " {\\bf 0} & 1 \\\\\n",
    "\\end{bmatrix}\n",
    "{}^{B}{\\bf T}_{C}\n",
    "$$\n",
    "\n",
    "for a distance $d$, (5e-2 below)."
   ]
  },
  {
   "cell_type": "code",
   "execution_count": 6,
   "id": "8d24f5b7",
   "metadata": {},
   "outputs": [],
   "source": [
    "B_normal = np.r_[0., 0., 1.]\n",
    "B_p_goal = np.r_[0.5, 0., 0.]\n",
    "B_y_axis = np.r_[0., 1.0, 0.0]\n",
    "safety_distance=5e-2"
   ]
  },
  {
   "cell_type": "code",
   "execution_count": 7,
   "id": "ebe74222",
   "metadata": {},
   "outputs": [
    {
     "data": {
      "text/plain": [
       "  \u001b[38;5;1m-0.7071  \u001b[0m \u001b[38;5;1m 0.7071  \u001b[0m \u001b[38;5;1m 0       \u001b[0m \u001b[38;5;4m 0.424   \u001b[0m  \u001b[0m\n",
       "  \u001b[38;5;1m 0       \u001b[0m \u001b[38;5;1m 0       \u001b[0m \u001b[38;5;1m 1       \u001b[0m \u001b[38;5;4m 0.07601 \u001b[0m  \u001b[0m\n",
       "  \u001b[38;5;1m 0.7071  \u001b[0m \u001b[38;5;1m 0.7071  \u001b[0m \u001b[38;5;1m 0       \u001b[0m \u001b[38;5;4m 0.2025  \u001b[0m  \u001b[0m\n",
       "  \u001b[38;5;244m 0       \u001b[0m \u001b[38;5;244m 0       \u001b[0m \u001b[38;5;244m 0       \u001b[0m \u001b[38;5;244m 1       \u001b[0m  \u001b[0m\n"
      ]
     },
     "execution_count": 7,
     "metadata": {},
     "output_type": "execute_result"
    }
   ],
   "source": [
    "hrr_common.utils.calc_EE_pre_pose(B_normal, B_p_goal, y_axis=B_y_axis,\n",
    "                                              C_p_CE=cobot.C_p_CE, R_C_E=cobot.R_C_E, safety_distance=safety_distance)"
   ]
  },
  {
   "cell_type": "code",
   "execution_count": 8,
   "id": "044b2683",
   "metadata": {},
   "outputs": [
    {
     "data": {
      "text/plain": [
       "  \u001b[38;5;1m-1       \u001b[0m \u001b[38;5;1m 0       \u001b[0m \u001b[38;5;1m 0       \u001b[0m \u001b[38;5;4m 0.5     \u001b[0m  \u001b[0m\n",
       "  \u001b[38;5;1m 0       \u001b[0m \u001b[38;5;1m 1       \u001b[0m \u001b[38;5;1m 0       \u001b[0m \u001b[38;5;4m 0       \u001b[0m  \u001b[0m\n",
       "  \u001b[38;5;1m 0       \u001b[0m \u001b[38;5;1m 0       \u001b[0m \u001b[38;5;1m-1       \u001b[0m \u001b[38;5;4m 0       \u001b[0m  \u001b[0m\n",
       "  \u001b[38;5;244m 0       \u001b[0m \u001b[38;5;244m 0       \u001b[0m \u001b[38;5;244m 0       \u001b[0m \u001b[38;5;244m 1       \u001b[0m  \u001b[0m\n"
      ]
     },
     "execution_count": 8,
     "metadata": {},
     "output_type": "execute_result"
    }
   ],
   "source": [
    "T_B_C_des = hrr_common.utils.calc_goal_pose(normal=B_normal, p_location=B_p_goal, y_axis=B_y_axis)\n",
    "T_B_C_des"
   ]
  },
  {
   "cell_type": "code",
   "execution_count": 9,
   "id": "5d675251",
   "metadata": {},
   "outputs": [
    {
     "data": {
      "text/plain": [
       "  \u001b[38;5;1m-1       \u001b[0m \u001b[38;5;1m 0       \u001b[0m \u001b[38;5;1m 0       \u001b[0m \u001b[38;5;4m 0.5     \u001b[0m  \u001b[0m\n",
       "  \u001b[38;5;1m 0       \u001b[0m \u001b[38;5;1m 1       \u001b[0m \u001b[38;5;1m 0       \u001b[0m \u001b[38;5;4m 0       \u001b[0m  \u001b[0m\n",
       "  \u001b[38;5;1m 0       \u001b[0m \u001b[38;5;1m 0       \u001b[0m \u001b[38;5;1m-1       \u001b[0m \u001b[38;5;4m 0.05    \u001b[0m  \u001b[0m\n",
       "  \u001b[38;5;244m 0       \u001b[0m \u001b[38;5;244m 0       \u001b[0m \u001b[38;5;244m 0       \u001b[0m \u001b[38;5;244m 1       \u001b[0m  \u001b[0m\n"
      ]
     },
     "execution_count": 9,
     "metadata": {},
     "output_type": "execute_result"
    }
   ],
   "source": [
    "T_B_C_des_pre =  sm.SE3(safety_distance * B_normal) @ T_B_C_des\n",
    "T_B_C_des_pre"
   ]
  },
  {
   "cell_type": "code",
   "execution_count": 10,
   "id": "ecf87027",
   "metadata": {},
   "outputs": [
    {
     "data": {
      "text/plain": [
       "  \u001b[38;5;1m-0.7071  \u001b[0m \u001b[38;5;1m 0.7071  \u001b[0m \u001b[38;5;1m 0       \u001b[0m \u001b[38;5;4m 0.424   \u001b[0m  \u001b[0m\n",
       "  \u001b[38;5;1m 0       \u001b[0m \u001b[38;5;1m 0       \u001b[0m \u001b[38;5;1m 1       \u001b[0m \u001b[38;5;4m 0.07601 \u001b[0m  \u001b[0m\n",
       "  \u001b[38;5;1m 0.7071  \u001b[0m \u001b[38;5;1m 0.7071  \u001b[0m \u001b[38;5;1m 0       \u001b[0m \u001b[38;5;4m 0.2025  \u001b[0m  \u001b[0m\n",
       "  \u001b[38;5;244m 0       \u001b[0m \u001b[38;5;244m 0       \u001b[0m \u001b[38;5;244m 0       \u001b[0m \u001b[38;5;244m 1       \u001b[0m  \u001b[0m\n"
      ]
     },
     "execution_count": 10,
     "metadata": {},
     "output_type": "execute_result"
    }
   ],
   "source": [
    "# transform goal-pose to ee-frame\n",
    "T_C_E = sm.SE3(cobot.C_p_CE)\n",
    "T_C_E.A[:3, :3] = cobot.R_C_E\n",
    "T_B_E_des_pre = T_B_C_des_pre @ T_C_E\n",
    "T_B_E_des_pre"
   ]
  },
  {
   "cell_type": "markdown",
   "id": "2b81fb56",
   "metadata": {},
   "source": [
    "## Compare against actual data recordings\n",
    "\n",
    "For actual scenarios, the goal-pose will be provided in an external frame, e.g. \"world\"\n",
    "so one will obtain ${}^{W}{\\bf T}_{C}$ from said source, while the robot-configuration ultimately needs\n",
    "${}^{B}{\\bf T}_{E}$.\n",
    "\n",
    "While ${\\bf f}({\\bf q}) \\mapsto {}^{B}{\\bf T}_{E}$ is assumed to be known, two transformation need validation\n",
    "\n",
    "* varify the transformations from tcp->EE, i.e. ${}^{C}{\\bf T}_{E}$ \n",
    "* varify the transformation from world / camera to ${}^{W}{\\bf T}_{B}$\n",
    "\n",
    "\n",
    "### Identifying ${}^{C}{\\bf T}_{E}$ \n",
    "\n",
    "drive through a fixed position and exploit symmetry in world / base-frame, i.e. rotate **around tool-tip**\n",
    "Record joint-positions, denote \n",
    "\n",
    "$$\n",
    "{}^{B}{\\hat{\\bf p}}_{BC} := {\\bf f}({\\bf q}) {}^{C}{\\bf T}_{E}^{-1}[:3, 3]\n",
    "$$\n",
    "\n",
    "as the position of the robot forward-kinematics and the transformation from EE->tool-tip, the RMS-error needs to be minimized\n",
    "\n",
    "$$ || {}^{B}{\\hat{\\bf p}}_{BC} - {}^{B}{\\bf p}_{BC} ||$$"
   ]
  },
  {
   "cell_type": "code",
   "execution_count": 11,
   "id": "fbb73522",
   "metadata": {},
   "outputs": [],
   "source": [
    "def B_p_hat_BC(q, C_p_CE=cobot.C_p_CE, R_C_E=cobot.R_C_E):\n",
    "    T_C_E = sm.SE3(C_p_CE)\n",
    "    T_C_E.A[:3, :3] = R_C_E\n",
    "    return (cobot.FK(q) @ T_C_E.inv()).t"
   ]
  },
  {
   "cell_type": "code",
   "execution_count": 12,
   "id": "9325d17b",
   "metadata": {},
   "outputs": [],
   "source": [
    "B_p_BC = T_B_E_des_pre.t"
   ]
  },
  {
   "cell_type": "code",
   "execution_count": 13,
   "id": "00dd34ce",
   "metadata": {},
   "outputs": [
    {
     "name": "stderr",
     "output_type": "stream",
     "text": [
      "pybullet build time: Dec 10 2021 09:49:03\n"
     ]
    },
    {
     "name": "stdout",
     "output_type": "stream",
     "text": [
      "current implementation does not cope with trees with edge degree over 1. Select first element from: ee_linkconnect_flange_attach_joint, ee_to_tcp \u001b[91m \u001b[0m\n"
     ]
    },
    {
     "data": {
      "text/plain": [
       "array([ 0.17376, -0.12951,  0.57846])"
      ]
     },
     "execution_count": 13,
     "metadata": {},
     "output_type": "execute_result"
    }
   ],
   "source": [
    "B_p_hat_BC(cobot.q) - B_p_BC"
   ]
  },
  {
   "cell_type": "markdown",
   "id": "7aadf954",
   "metadata": {},
   "source": [
    "### Identifying ${}^{W}{\\bf T}_{B}$\n",
    "\n",
    "Again collect samples at different robot configurations.\n",
    "\n",
    "Save joints and goal-poses of tool-tip at identifiable poses ${}^{W}{\\bf T}_{C}$\n",
    "\n",
    "Now the overall pose-error should be minimized, i.e. calculate the full-transformation chain from joints\n",
    "\n",
    "$$\n",
    "  {}^{W}{\\hat{\\bf T}}_{C} := {}^{W}{\\bf T}_{B} {\\bf f}({\\bf q}) {}^{C}{\\bf T}_{E}^{-1}\n",
    "$$\n",
    "\n",
    "and compare it against the actual data input ${}^{W}{\\bf T}_{C}$"
   ]
  },
  {
   "cell_type": "code",
   "execution_count": 14,
   "id": "0e32926c",
   "metadata": {},
   "outputs": [],
   "source": [
    "def W_T_hat_C(q, \n",
    "              W_p_WB=np.zeros(3), R_W_B=np.eye(3),\n",
    "              C_p_CE=cobot.C_p_CE, R_C_E=cobot.R_C_E):\n",
    "    T_W_B = sm.SE3(C_p_CE)\n",
    "    T_W_B.A[:3, :3] = R_W_B\n",
    "    T_C_E = sm.SE3(C_p_CE)\n",
    "    T_C_E.A[:3, :3] = R_C_E\n",
    "    return T_W_B @ cobot.FK(q) @ T_C_E.inv()\n",
    "\n",
    "def pose_error(T_W_C, q, W_p_WB=np.zeros(3), R_W_B=np.eye(3),\n",
    "              C_p_CE=cobot.C_p_CE, R_C_E=cobot.R_C_E):\n",
    "    return hrr_common.utils.pose_error(W_T_hat_C(q, W_p_WB=W_p_WB, R_W_B=R_W_B, C_p_CE=C_p_CE, R_C_E=R_C_E),\n",
    "                                       T_W_C)\n"
   ]
  },
  {
   "cell_type": "code",
   "execution_count": 15,
   "id": "89fc2fa9",
   "metadata": {},
   "outputs": [
    {
     "data": {
      "text/plain": [
       "array([-0.17376,  0.02252, -0.57846,  1.57224,  0.00351, -0.78741])"
      ]
     },
     "execution_count": 15,
     "metadata": {},
     "output_type": "execute_result"
    }
   ],
   "source": [
    "pose_error(T_B_C_des_pre, cobot.q)"
   ]
  },
  {
   "cell_type": "markdown",
   "id": "2019990c",
   "metadata": {},
   "source": [
    "## Lab recordings\n",
    "\n",
    "### Screwdriver\n",
    "\n",
    "q:\t\t[ 10.25831  15.5371  -91.25151   0.35197  73.15917 -33.10429][°]"
   ]
  },
  {
   "cell_type": "code",
   "execution_count": 14,
   "id": "7b74b187",
   "metadata": {},
   "outputs": [],
   "source": [
    "q1 = np.copy(cobot.q)\n",
    "T1 = cobot.T_B_C_robot\n",
    "np.save('Untitled Folder/screwdriver_ident_lab_01.npy', \n",
    "        dict(q=np.copy(cobot.q), T_B_C=cobot.T_B_C_robot, T_E_C=cobot.T_E_C_robot.copy()))\n"
   ]
  },
  {
   "cell_type": "code",
   "execution_count": 27,
   "id": "0503c9c1",
   "metadata": {},
   "outputs": [],
   "source": [
    "cobot.init_sns_vel()"
   ]
  },
  {
   "cell_type": "code",
   "execution_count": 51,
   "id": "061c7e73",
   "metadata": {},
   "outputs": [],
   "source": [
    "# v_test = np.zeros(6)\n",
    "# for t in trange(2000):\n",
    "#     v_test[3] = 3e-2\n",
    "#     cobot.update(u_cmd=v_test, u_cmd_frame=\"hrr_cobot.screwdriver_tip\", sleep=True)\n",
    "# cobot.stop()"
   ]
  },
  {
   "cell_type": "code",
   "execution_count": 25,
   "id": "221262f6",
   "metadata": {},
   "outputs": [],
   "source": [
    "cobot.move_to_joint_pose(q1)"
   ]
  },
  {
   "cell_type": "code",
   "execution_count": 31,
   "id": "7eaaebf7",
   "metadata": {},
   "outputs": [],
   "source": [
    "q =np.deg2rad([-24.851, 22.239, -82.488, 0.317, 75.411, 109.694]) \n",
    "np.save('Untitled Folder/screwdriver_ident_lab_03.npy', \n",
    "        dict(q=q, T_B_C=cobot.T_B_C_robot, T_E_C=cobot.T_E_C_robot.copy()))"
   ]
  },
  {
   "cell_type": "code",
   "execution_count": 34,
   "id": "4ed9c6bc",
   "metadata": {},
   "outputs": [],
   "source": [
    "A = np.load('./ee_ident/screwdriver_ident_lab_01.npy', allow_pickle=True).item()\n",
    "C = np.load('./ee_ident/screwdriver_ident_lab_03.npy', allow_pickle=True).item()"
   ]
  },
  {
   "cell_type": "code",
   "execution_count": 47,
   "id": "7370a7c6",
   "metadata": {},
   "outputs": [
    {
     "data": {
      "text/plain": [
       "(array([0.51769, 0.12761, 0.42904]),\n",
       " array([0.51776, 0.12754, 0.42902]),\n",
       " array([0.52122, 0.01675, 0.43154]))"
      ]
     },
     "execution_count": 47,
     "metadata": {},
     "output_type": "execute_result"
    }
   ],
   "source": [
    " (cobot.FK(A['q']) @ cobot.T_E_C_robot).t, \\\n",
    "(cobot.FK(B['q']) @ cobot.T_E_C_robot).t, \\\n",
    "(cobot.FK(q) @ cobot.T_E_C_robot).t\n"
   ]
  },
  {
   "cell_type": "code",
   "execution_count": 50,
   "id": "be67b6e7",
   "metadata": {},
   "outputs": [
    {
     "data": {
      "text/plain": [
       "  \u001b[38;5;1m 3.462e-12\u001b[0m \u001b[38;5;1m-0.7071  \u001b[0m \u001b[38;5;1m 0.7071  \u001b[0m \u001b[38;5;4m 0.1584  \u001b[0m  \u001b[0m\n",
       "  \u001b[38;5;1m 3.462e-12\u001b[0m \u001b[38;5;1m 0.7071  \u001b[0m \u001b[38;5;1m 0.7071  \u001b[0m \u001b[38;5;4m 0.1584  \u001b[0m  \u001b[0m\n",
       "  \u001b[38;5;1m-1       \u001b[0m \u001b[38;5;1m 0       \u001b[0m \u001b[38;5;1m 4.897e-12\u001b[0m \u001b[38;5;4m 0.1475  \u001b[0m  \u001b[0m\n",
       "  \u001b[38;5;244m 0       \u001b[0m \u001b[38;5;244m 0       \u001b[0m \u001b[38;5;244m 0       \u001b[0m \u001b[38;5;244m 1       \u001b[0m  \u001b[0m\n"
      ]
     },
     "execution_count": 50,
     "metadata": {},
     "output_type": "execute_result"
    }
   ],
   "source": [
    "cobot.T_E_C_robot"
   ]
  },
  {
   "cell_type": "code",
   "execution_count": 49,
   "id": "824dcc2b",
   "metadata": {},
   "outputs": [
    {
     "data": {
      "text/plain": [
       "array([ 0.00177, -0.05543,  0.00125])"
      ]
     },
     "execution_count": 49,
     "metadata": {},
     "output_type": "execute_result"
    }
   ],
   "source": [
    "dx = 0.5 * ((cobot.FK(q) @ cobot.T_E_C_robot).t - (cobot.FK(A['q']) @ cobot.T_E_C_robot).t)\n",
    "dx"
   ]
  },
  {
   "cell_type": "code",
   "execution_count": 45,
   "id": "05f4cb53",
   "metadata": {},
   "outputs": [
    {
     "data": {
      "text/plain": [
       "(array([ 0.17904,  0.27117, -1.59264,  0.00614,  1.27687, -0.57778]),\n",
       " array([-0.15832,  1.17082, -0.14015,  0.00607,  1.83169,  0.58175]),\n",
       " array([-0.15832,  1.17082, -0.14015,  0.00607,  1.83169,  0.58175]))"
      ]
     },
     "execution_count": 45,
     "metadata": {},
     "output_type": "execute_result"
    }
   ],
   "source": [
    "A['q'], B['q'], C['q']"
   ]
  }
 ],
 "metadata": {
  "kernelspec": {
   "display_name": "Python 3 (ipykernel)",
   "language": "python",
   "name": "python3"
  },
  "language_info": {
   "codemirror_mode": {
    "name": "ipython",
    "version": 3
   },
   "file_extension": ".py",
   "mimetype": "text/x-python",
   "name": "python",
   "nbconvert_exporter": "python",
   "pygments_lexer": "ipython3",
   "version": "3.8.12"
  },
  "latex_envs": {
   "LaTeX_envs_menu_present": true,
   "autoclose": false,
   "autocomplete": true,
   "bibliofile": "biblio.bib",
   "cite_by": "apalike",
   "current_citInitial": 1,
   "eqLabelWithNumbers": true,
   "eqNumInitial": 1,
   "hotkeys": {
    "equation": "Ctrl-E",
    "itemize": "Ctrl-I"
   },
   "labels_anchors": false,
   "latex_user_defs": false,
   "report_style_numbering": false,
   "user_envs_cfg": false
  },
  "toc": {
   "base_numbering": 1,
   "nav_menu": {},
   "number_sections": true,
   "sideBar": true,
   "skip_h1_title": false,
   "title_cell": "Table of Contents",
   "title_sidebar": "Contents",
   "toc_cell": false,
   "toc_position": {},
   "toc_section_display": true,
   "toc_window_display": false
  },
  "varInspector": {
   "cols": {
    "lenName": 16,
    "lenType": 16,
    "lenVar": 40
   },
   "kernels_config": {
    "python": {
     "delete_cmd_postfix": "",
     "delete_cmd_prefix": "del ",
     "library": "var_list.py",
     "varRefreshCmd": "print(var_dic_list())"
    },
    "r": {
     "delete_cmd_postfix": ") ",
     "delete_cmd_prefix": "rm(",
     "library": "var_list.r",
     "varRefreshCmd": "cat(var_dic_list()) "
    }
   },
   "types_to_exclude": [
    "module",
    "function",
    "builtin_function_or_method",
    "instance",
    "_Feature"
   ],
   "window_display": false
  }
 },
 "nbformat": 4,
 "nbformat_minor": 5
}
